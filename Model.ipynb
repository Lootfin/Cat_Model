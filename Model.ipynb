{
 "cells": [
  {
   "cell_type": "markdown",
   "metadata": {},
   "source": [
    "# **Installing necessary libraries**"
   ]
  },
  {
   "cell_type": "code",
   "execution_count": 1,
   "metadata": {},
   "outputs": [
    {
     "name": "stdout",
     "output_type": "stream",
     "text": [
      "Requirement already satisfied: catboost in c:\\users\\aleks\\desktop\\jup\\cat_model\\.venv\\lib\\site-packages (1.2.5)\n",
      "Requirement already satisfied: optuna in c:\\users\\aleks\\desktop\\jup\\cat_model\\.venv\\lib\\site-packages (3.6.1)\n",
      "Requirement already satisfied: seaborn in c:\\users\\aleks\\desktop\\jup\\cat_model\\.venv\\lib\\site-packages (0.13.2)\n",
      "Requirement already satisfied: scikit-learn in c:\\users\\aleks\\desktop\\jup\\cat_model\\.venv\\lib\\site-packages (1.4.2)\n",
      "Requirement already satisfied: openpyxl in c:\\users\\aleks\\desktop\\jup\\cat_model\\.venv\\lib\\site-packages (3.1.2)\n",
      "Requirement already satisfied: nbformat in c:\\users\\aleks\\desktop\\jup\\cat_model\\.venv\\lib\\site-packages (5.10.4)\n",
      "Requirement already satisfied: ipython in c:\\users\\aleks\\desktop\\jup\\cat_model\\.venv\\lib\\site-packages (8.24.0)\n",
      "Requirement already satisfied: ipywidgets in c:\\users\\aleks\\desktop\\jup\\cat_model\\.venv\\lib\\site-packages (8.1.2)\n",
      "Requirement already satisfied: lazypredict-nightly in c:\\users\\aleks\\desktop\\jup\\cat_model\\.venv\\lib\\site-packages (0.3.2)\n",
      "Requirement already satisfied: graphviz in c:\\users\\aleks\\desktop\\jup\\cat_model\\.venv\\lib\\site-packages (from catboost) (0.20.3)\n",
      "Requirement already satisfied: matplotlib in c:\\users\\aleks\\desktop\\jup\\cat_model\\.venv\\lib\\site-packages (from catboost) (3.9.0)\n",
      "Requirement already satisfied: numpy>=1.16.0 in c:\\users\\aleks\\desktop\\jup\\cat_model\\.venv\\lib\\site-packages (from catboost) (1.26.4)\n",
      "Requirement already satisfied: pandas>=0.24 in c:\\users\\aleks\\desktop\\jup\\cat_model\\.venv\\lib\\site-packages (from catboost) (2.2.2)\n",
      "Requirement already satisfied: scipy in c:\\users\\aleks\\desktop\\jup\\cat_model\\.venv\\lib\\site-packages (from catboost) (1.13.0)\n",
      "Requirement already satisfied: plotly in c:\\users\\aleks\\desktop\\jup\\cat_model\\.venv\\lib\\site-packages (from catboost) (5.22.0)\n",
      "Requirement already satisfied: six in c:\\users\\aleks\\desktop\\jup\\cat_model\\.venv\\lib\\site-packages (from catboost) (1.16.0)\n",
      "Requirement already satisfied: alembic>=1.5.0 in c:\\users\\aleks\\desktop\\jup\\cat_model\\.venv\\lib\\site-packages (from optuna) (1.13.1)\n",
      "Requirement already satisfied: colorlog in c:\\users\\aleks\\desktop\\jup\\cat_model\\.venv\\lib\\site-packages (from optuna) (6.8.2)\n",
      "Requirement already satisfied: packaging>=20.0 in c:\\users\\aleks\\desktop\\jup\\cat_model\\.venv\\lib\\site-packages (from optuna) (24.0)\n",
      "Requirement already satisfied: sqlalchemy>=1.3.0 in c:\\users\\aleks\\desktop\\jup\\cat_model\\.venv\\lib\\site-packages (from optuna) (2.0.30)\n",
      "Requirement already satisfied: tqdm in c:\\users\\aleks\\desktop\\jup\\cat_model\\.venv\\lib\\site-packages (from optuna) (4.66.4)\n",
      "Requirement already satisfied: PyYAML in c:\\users\\aleks\\desktop\\jup\\cat_model\\.venv\\lib\\site-packages (from optuna) (6.0.1)\n",
      "Requirement already satisfied: joblib>=1.2.0 in c:\\users\\aleks\\desktop\\jup\\cat_model\\.venv\\lib\\site-packages (from scikit-learn) (1.4.2)\n",
      "Requirement already satisfied: threadpoolctl>=2.0.0 in c:\\users\\aleks\\desktop\\jup\\cat_model\\.venv\\lib\\site-packages (from scikit-learn) (3.5.0)\n",
      "Requirement already satisfied: et-xmlfile in c:\\users\\aleks\\desktop\\jup\\cat_model\\.venv\\lib\\site-packages (from openpyxl) (1.1.0)\n",
      "Requirement already satisfied: fastjsonschema>=2.15 in c:\\users\\aleks\\desktop\\jup\\cat_model\\.venv\\lib\\site-packages (from nbformat) (2.19.1)\n",
      "Requirement already satisfied: jsonschema>=2.6 in c:\\users\\aleks\\desktop\\jup\\cat_model\\.venv\\lib\\site-packages (from nbformat) (4.22.0)\n",
      "Requirement already satisfied: jupyter-core!=5.0.*,>=4.12 in c:\\users\\aleks\\desktop\\jup\\cat_model\\.venv\\lib\\site-packages (from nbformat) (5.7.2)\n",
      "Requirement already satisfied: traitlets>=5.1 in c:\\users\\aleks\\desktop\\jup\\cat_model\\.venv\\lib\\site-packages (from nbformat) (5.14.3)\n",
      "Requirement already satisfied: decorator in c:\\users\\aleks\\desktop\\jup\\cat_model\\.venv\\lib\\site-packages (from ipython) (5.1.1)\n",
      "Requirement already satisfied: jedi>=0.16 in c:\\users\\aleks\\desktop\\jup\\cat_model\\.venv\\lib\\site-packages (from ipython) (0.19.1)\n",
      "Requirement already satisfied: matplotlib-inline in c:\\users\\aleks\\desktop\\jup\\cat_model\\.venv\\lib\\site-packages (from ipython) (0.1.7)\n",
      "Requirement already satisfied: prompt-toolkit<3.1.0,>=3.0.41 in c:\\users\\aleks\\desktop\\jup\\cat_model\\.venv\\lib\\site-packages (from ipython) (3.0.43)\n",
      "Requirement already satisfied: pygments>=2.4.0 in c:\\users\\aleks\\desktop\\jup\\cat_model\\.venv\\lib\\site-packages (from ipython) (2.18.0)\n",
      "Requirement already satisfied: stack-data in c:\\users\\aleks\\desktop\\jup\\cat_model\\.venv\\lib\\site-packages (from ipython) (0.6.3)\n",
      "Requirement already satisfied: colorama in c:\\users\\aleks\\desktop\\jup\\cat_model\\.venv\\lib\\site-packages (from ipython) (0.4.6)\n",
      "Requirement already satisfied: comm>=0.1.3 in c:\\users\\aleks\\desktop\\jup\\cat_model\\.venv\\lib\\site-packages (from ipywidgets) (0.2.2)\n",
      "Requirement already satisfied: widgetsnbextension~=4.0.10 in c:\\users\\aleks\\desktop\\jup\\cat_model\\.venv\\lib\\site-packages (from ipywidgets) (4.0.10)\n",
      "Requirement already satisfied: jupyterlab-widgets~=3.0.10 in c:\\users\\aleks\\desktop\\jup\\cat_model\\.venv\\lib\\site-packages (from ipywidgets) (3.0.10)\n",
      "Requirement already satisfied: click in c:\\users\\aleks\\desktop\\jup\\cat_model\\.venv\\lib\\site-packages (from lazypredict-nightly) (8.1.7)\n",
      "Requirement already satisfied: lightgbm in c:\\users\\aleks\\desktop\\jup\\cat_model\\.venv\\lib\\site-packages (from lazypredict-nightly) (4.3.0)\n",
      "Requirement already satisfied: xgboost in c:\\users\\aleks\\desktop\\jup\\cat_model\\.venv\\lib\\site-packages (from lazypredict-nightly) (2.0.3)\n",
      "Requirement already satisfied: markupsafe<=2.1.4 in c:\\users\\aleks\\desktop\\jup\\cat_model\\.venv\\lib\\site-packages (from lazypredict-nightly) (2.1.4)\n",
      "Requirement already satisfied: Mako in c:\\users\\aleks\\desktop\\jup\\cat_model\\.venv\\lib\\site-packages (from alembic>=1.5.0->optuna) (1.3.5)\n",
      "Requirement already satisfied: typing-extensions>=4 in c:\\users\\aleks\\desktop\\jup\\cat_model\\.venv\\lib\\site-packages (from alembic>=1.5.0->optuna) (4.11.0)\n",
      "Requirement already satisfied: parso<0.9.0,>=0.8.3 in c:\\users\\aleks\\desktop\\jup\\cat_model\\.venv\\lib\\site-packages (from jedi>=0.16->ipython) (0.8.4)\n",
      "Requirement already satisfied: attrs>=22.2.0 in c:\\users\\aleks\\desktop\\jup\\cat_model\\.venv\\lib\\site-packages (from jsonschema>=2.6->nbformat) (23.2.0)\n",
      "Requirement already satisfied: jsonschema-specifications>=2023.03.6 in c:\\users\\aleks\\desktop\\jup\\cat_model\\.venv\\lib\\site-packages (from jsonschema>=2.6->nbformat) (2023.12.1)\n",
      "Requirement already satisfied: referencing>=0.28.4 in c:\\users\\aleks\\desktop\\jup\\cat_model\\.venv\\lib\\site-packages (from jsonschema>=2.6->nbformat) (0.35.1)\n",
      "Requirement already satisfied: rpds-py>=0.7.1 in c:\\users\\aleks\\desktop\\jup\\cat_model\\.venv\\lib\\site-packages (from jsonschema>=2.6->nbformat) (0.18.1)\n",
      "Requirement already satisfied: platformdirs>=2.5 in c:\\users\\aleks\\desktop\\jup\\cat_model\\.venv\\lib\\site-packages (from jupyter-core!=5.0.*,>=4.12->nbformat) (4.2.2)\n",
      "Requirement already satisfied: pywin32>=300 in c:\\users\\aleks\\desktop\\jup\\cat_model\\.venv\\lib\\site-packages (from jupyter-core!=5.0.*,>=4.12->nbformat) (306)\n",
      "Requirement already satisfied: contourpy>=1.0.1 in c:\\users\\aleks\\desktop\\jup\\cat_model\\.venv\\lib\\site-packages (from matplotlib->catboost) (1.2.1)\n",
      "Requirement already satisfied: cycler>=0.10 in c:\\users\\aleks\\desktop\\jup\\cat_model\\.venv\\lib\\site-packages (from matplotlib->catboost) (0.12.1)\n",
      "Requirement already satisfied: fonttools>=4.22.0 in c:\\users\\aleks\\desktop\\jup\\cat_model\\.venv\\lib\\site-packages (from matplotlib->catboost) (4.51.0)\n",
      "Requirement already satisfied: kiwisolver>=1.3.1 in c:\\users\\aleks\\desktop\\jup\\cat_model\\.venv\\lib\\site-packages (from matplotlib->catboost) (1.4.5)\n",
      "Requirement already satisfied: pillow>=8 in c:\\users\\aleks\\desktop\\jup\\cat_model\\.venv\\lib\\site-packages (from matplotlib->catboost) (10.3.0)\n",
      "Requirement already satisfied: pyparsing>=2.3.1 in c:\\users\\aleks\\desktop\\jup\\cat_model\\.venv\\lib\\site-packages (from matplotlib->catboost) (3.1.2)\n",
      "Requirement already satisfied: python-dateutil>=2.7 in c:\\users\\aleks\\desktop\\jup\\cat_model\\.venv\\lib\\site-packages (from matplotlib->catboost) (2.9.0.post0)\n",
      "Requirement already satisfied: pytz>=2020.1 in c:\\users\\aleks\\desktop\\jup\\cat_model\\.venv\\lib\\site-packages (from pandas>=0.24->catboost) (2024.1)\n",
      "Requirement already satisfied: tzdata>=2022.7 in c:\\users\\aleks\\desktop\\jup\\cat_model\\.venv\\lib\\site-packages (from pandas>=0.24->catboost) (2024.1)\n",
      "Requirement already satisfied: wcwidth in c:\\users\\aleks\\desktop\\jup\\cat_model\\.venv\\lib\\site-packages (from prompt-toolkit<3.1.0,>=3.0.41->ipython) (0.2.13)\n",
      "Requirement already satisfied: greenlet!=0.4.17 in c:\\users\\aleks\\desktop\\jup\\cat_model\\.venv\\lib\\site-packages (from sqlalchemy>=1.3.0->optuna) (3.0.3)\n",
      "Requirement already satisfied: tenacity>=6.2.0 in c:\\users\\aleks\\desktop\\jup\\cat_model\\.venv\\lib\\site-packages (from plotly->catboost) (8.3.0)\n",
      "Requirement already satisfied: executing>=1.2.0 in c:\\users\\aleks\\desktop\\jup\\cat_model\\.venv\\lib\\site-packages (from stack-data->ipython) (2.0.1)\n",
      "Requirement already satisfied: asttokens>=2.1.0 in c:\\users\\aleks\\desktop\\jup\\cat_model\\.venv\\lib\\site-packages (from stack-data->ipython) (2.4.1)\n",
      "Requirement already satisfied: pure-eval in c:\\users\\aleks\\desktop\\jup\\cat_model\\.venv\\lib\\site-packages (from stack-data->ipython) (0.2.2)\n",
      "Note: you may need to restart the kernel to use updated packages.\n"
     ]
    }
   ],
   "source": [
    "#Downloading libraries\n",
    "\n",
    "%pip install catboost optuna seaborn scikit-learn openpyxl nbformat ipython ipywidgets lazypredict-nightly"
   ]
  },
  {
   "cell_type": "code",
   "execution_count": 103,
   "metadata": {
    "colab": {
     "base_uri": "https://localhost:8080/"
    },
    "id": "MX0D87LbnNKR",
    "outputId": "c7b0cc44-7939-4905-8788-cbe706df2069"
   },
   "outputs": [],
   "source": [
    "# Importing libraries and setting necessery settings\n",
    "\n",
    "import numpy as np\n",
    "import pandas as pd\n",
    "import seaborn as sns\n",
    "import matplotlib.pyplot as plt\n",
    "# import all the required models and methods\n",
    "from sklearn.metrics import root_mean_squared_error\n",
    "from sklearn.model_selection import train_test_split\n",
    "from sklearn.neighbors import KNeighborsRegressor\n",
    "import optuna\n",
    "from optuna.samplers import TPESampler\n",
    "import lazypredict\n",
    "from lazypredict import LazyRegressor\n",
    "from catboost import CatBoostRegressor, Pool, cv\n",
    "from pandas.api.types import is_numeric_dtype\n",
    "from sklearn.preprocessing import MinMaxScaler, StandardScaler, RobustScaler, OneHotEncoder, MaxAbsScaler\n",
    "from sklearn.pipeline import make_pipeline\n",
    "from sklearn.model_selection import cross_val_score\n",
    "from sklearn.ensemble import RandomForestRegressor\n",
    "from sklearn.neural_network import MLPRegressor\n",
    "\n",
    "\n",
    "%matplotlib inline\n",
    "plt.style.use(\"seaborn-v0_8\")"
   ]
  },
  {
   "cell_type": "markdown",
   "metadata": {},
   "source": [
    "# **Basic EDA**"
   ]
  },
  {
   "cell_type": "code",
   "execution_count": 4,
   "metadata": {
    "colab": {
     "base_uri": "https://localhost:8080/",
     "height": 287
    },
    "id": "NYcIpbdLO8Cq",
    "outputId": "4216785c-9513-4568-a8c4-3542ec86f652"
   },
   "outputs": [],
   "source": [
    "df = pd.read_excel(\"Employee Turnover Analytics Data set.xlsx\")"
   ]
  },
  {
   "cell_type": "code",
   "execution_count": 5,
   "metadata": {},
   "outputs": [
    {
     "data": {
      "text/html": [
       "<div>\n",
       "<style scoped>\n",
       "    .dataframe tbody tr th:only-of-type {\n",
       "        vertical-align: middle;\n",
       "    }\n",
       "\n",
       "    .dataframe tbody tr th {\n",
       "        vertical-align: top;\n",
       "    }\n",
       "\n",
       "    .dataframe thead th {\n",
       "        text-align: right;\n",
       "    }\n",
       "</style>\n",
       "<table border=\"1\" class=\"dataframe\">\n",
       "  <thead>\n",
       "    <tr style=\"text-align: right;\">\n",
       "      <th></th>\n",
       "      <th>satisfaction_level</th>\n",
       "      <th>last_evaluation</th>\n",
       "      <th>number_project</th>\n",
       "      <th>average_montly_hours</th>\n",
       "      <th>time_spend_company</th>\n",
       "      <th>Work_accident</th>\n",
       "      <th>left</th>\n",
       "      <th>promotion_last_5years</th>\n",
       "      <th>sales</th>\n",
       "      <th>salary</th>\n",
       "    </tr>\n",
       "  </thead>\n",
       "  <tbody>\n",
       "    <tr>\n",
       "      <th>0</th>\n",
       "      <td>0.38</td>\n",
       "      <td>0.53</td>\n",
       "      <td>2</td>\n",
       "      <td>157</td>\n",
       "      <td>3</td>\n",
       "      <td>0</td>\n",
       "      <td>1</td>\n",
       "      <td>0</td>\n",
       "      <td>sales</td>\n",
       "      <td>low</td>\n",
       "    </tr>\n",
       "    <tr>\n",
       "      <th>1</th>\n",
       "      <td>0.80</td>\n",
       "      <td>0.86</td>\n",
       "      <td>5</td>\n",
       "      <td>262</td>\n",
       "      <td>6</td>\n",
       "      <td>0</td>\n",
       "      <td>1</td>\n",
       "      <td>0</td>\n",
       "      <td>sales</td>\n",
       "      <td>medium</td>\n",
       "    </tr>\n",
       "    <tr>\n",
       "      <th>2</th>\n",
       "      <td>0.11</td>\n",
       "      <td>0.88</td>\n",
       "      <td>7</td>\n",
       "      <td>272</td>\n",
       "      <td>4</td>\n",
       "      <td>0</td>\n",
       "      <td>1</td>\n",
       "      <td>0</td>\n",
       "      <td>sales</td>\n",
       "      <td>medium</td>\n",
       "    </tr>\n",
       "    <tr>\n",
       "      <th>3</th>\n",
       "      <td>0.72</td>\n",
       "      <td>0.87</td>\n",
       "      <td>5</td>\n",
       "      <td>223</td>\n",
       "      <td>5</td>\n",
       "      <td>0</td>\n",
       "      <td>1</td>\n",
       "      <td>0</td>\n",
       "      <td>sales</td>\n",
       "      <td>low</td>\n",
       "    </tr>\n",
       "    <tr>\n",
       "      <th>4</th>\n",
       "      <td>0.37</td>\n",
       "      <td>0.52</td>\n",
       "      <td>2</td>\n",
       "      <td>159</td>\n",
       "      <td>3</td>\n",
       "      <td>0</td>\n",
       "      <td>1</td>\n",
       "      <td>0</td>\n",
       "      <td>sales</td>\n",
       "      <td>low</td>\n",
       "    </tr>\n",
       "  </tbody>\n",
       "</table>\n",
       "</div>"
      ],
      "text/plain": [
       "   satisfaction_level  last_evaluation  number_project  average_montly_hours  \\\n",
       "0                0.38             0.53               2                   157   \n",
       "1                0.80             0.86               5                   262   \n",
       "2                0.11             0.88               7                   272   \n",
       "3                0.72             0.87               5                   223   \n",
       "4                0.37             0.52               2                   159   \n",
       "\n",
       "   time_spend_company  Work_accident  left  promotion_last_5years  sales  \\\n",
       "0                   3              0     1                      0  sales   \n",
       "1                   6              0     1                      0  sales   \n",
       "2                   4              0     1                      0  sales   \n",
       "3                   5              0     1                      0  sales   \n",
       "4                   3              0     1                      0  sales   \n",
       "\n",
       "   salary  \n",
       "0     low  \n",
       "1  medium  \n",
       "2  medium  \n",
       "3     low  \n",
       "4     low  "
      ]
     },
     "execution_count": 5,
     "metadata": {},
     "output_type": "execute_result"
    }
   ],
   "source": [
    "df.head()"
   ]
  },
  {
   "cell_type": "code",
   "execution_count": 5,
   "metadata": {},
   "outputs": [
    {
     "data": {
      "text/html": [
       "<div>\n",
       "<style scoped>\n",
       "    .dataframe tbody tr th:only-of-type {\n",
       "        vertical-align: middle;\n",
       "    }\n",
       "\n",
       "    .dataframe tbody tr th {\n",
       "        vertical-align: top;\n",
       "    }\n",
       "\n",
       "    .dataframe thead th {\n",
       "        text-align: right;\n",
       "    }\n",
       "</style>\n",
       "<table border=\"1\" class=\"dataframe\">\n",
       "  <thead>\n",
       "    <tr style=\"text-align: right;\">\n",
       "      <th></th>\n",
       "      <th>satisfaction_level</th>\n",
       "      <th>last_evaluation</th>\n",
       "      <th>number_project</th>\n",
       "      <th>average_montly_hours</th>\n",
       "      <th>time_spend_company</th>\n",
       "      <th>Work_accident</th>\n",
       "      <th>left</th>\n",
       "      <th>promotion_last_5years</th>\n",
       "    </tr>\n",
       "  </thead>\n",
       "  <tbody>\n",
       "    <tr>\n",
       "      <th>count</th>\n",
       "      <td>14999.00</td>\n",
       "      <td>14999.00</td>\n",
       "      <td>14999.00</td>\n",
       "      <td>14999.00</td>\n",
       "      <td>14999.00</td>\n",
       "      <td>14999.00</td>\n",
       "      <td>14999.00</td>\n",
       "      <td>14999.00</td>\n",
       "    </tr>\n",
       "    <tr>\n",
       "      <th>mean</th>\n",
       "      <td>0.61</td>\n",
       "      <td>0.72</td>\n",
       "      <td>3.80</td>\n",
       "      <td>201.05</td>\n",
       "      <td>3.50</td>\n",
       "      <td>0.14</td>\n",
       "      <td>0.24</td>\n",
       "      <td>0.02</td>\n",
       "    </tr>\n",
       "    <tr>\n",
       "      <th>std</th>\n",
       "      <td>0.25</td>\n",
       "      <td>0.17</td>\n",
       "      <td>1.23</td>\n",
       "      <td>49.94</td>\n",
       "      <td>1.46</td>\n",
       "      <td>0.35</td>\n",
       "      <td>0.43</td>\n",
       "      <td>0.14</td>\n",
       "    </tr>\n",
       "    <tr>\n",
       "      <th>min</th>\n",
       "      <td>0.09</td>\n",
       "      <td>0.36</td>\n",
       "      <td>2.00</td>\n",
       "      <td>96.00</td>\n",
       "      <td>2.00</td>\n",
       "      <td>0.00</td>\n",
       "      <td>0.00</td>\n",
       "      <td>0.00</td>\n",
       "    </tr>\n",
       "    <tr>\n",
       "      <th>25%</th>\n",
       "      <td>0.44</td>\n",
       "      <td>0.56</td>\n",
       "      <td>3.00</td>\n",
       "      <td>156.00</td>\n",
       "      <td>3.00</td>\n",
       "      <td>0.00</td>\n",
       "      <td>0.00</td>\n",
       "      <td>0.00</td>\n",
       "    </tr>\n",
       "    <tr>\n",
       "      <th>50%</th>\n",
       "      <td>0.64</td>\n",
       "      <td>0.72</td>\n",
       "      <td>4.00</td>\n",
       "      <td>200.00</td>\n",
       "      <td>3.00</td>\n",
       "      <td>0.00</td>\n",
       "      <td>0.00</td>\n",
       "      <td>0.00</td>\n",
       "    </tr>\n",
       "    <tr>\n",
       "      <th>75%</th>\n",
       "      <td>0.82</td>\n",
       "      <td>0.87</td>\n",
       "      <td>5.00</td>\n",
       "      <td>245.00</td>\n",
       "      <td>4.00</td>\n",
       "      <td>0.00</td>\n",
       "      <td>0.00</td>\n",
       "      <td>0.00</td>\n",
       "    </tr>\n",
       "    <tr>\n",
       "      <th>max</th>\n",
       "      <td>1.00</td>\n",
       "      <td>1.00</td>\n",
       "      <td>7.00</td>\n",
       "      <td>310.00</td>\n",
       "      <td>10.00</td>\n",
       "      <td>1.00</td>\n",
       "      <td>1.00</td>\n",
       "      <td>1.00</td>\n",
       "    </tr>\n",
       "  </tbody>\n",
       "</table>\n",
       "</div>"
      ],
      "text/plain": [
       "       satisfaction_level  last_evaluation  number_project  \\\n",
       "count            14999.00         14999.00        14999.00   \n",
       "mean                 0.61             0.72            3.80   \n",
       "std                  0.25             0.17            1.23   \n",
       "min                  0.09             0.36            2.00   \n",
       "25%                  0.44             0.56            3.00   \n",
       "50%                  0.64             0.72            4.00   \n",
       "75%                  0.82             0.87            5.00   \n",
       "max                  1.00             1.00            7.00   \n",
       "\n",
       "       average_montly_hours  time_spend_company  Work_accident     left  \\\n",
       "count              14999.00            14999.00       14999.00 14999.00   \n",
       "mean                 201.05                3.50           0.14     0.24   \n",
       "std                   49.94                1.46           0.35     0.43   \n",
       "min                   96.00                2.00           0.00     0.00   \n",
       "25%                  156.00                3.00           0.00     0.00   \n",
       "50%                  200.00                3.00           0.00     0.00   \n",
       "75%                  245.00                4.00           0.00     0.00   \n",
       "max                  310.00               10.00           1.00     1.00   \n",
       "\n",
       "       promotion_last_5years  \n",
       "count               14999.00  \n",
       "mean                    0.02  \n",
       "std                     0.14  \n",
       "min                     0.00  \n",
       "25%                     0.00  \n",
       "50%                     0.00  \n",
       "75%                     0.00  \n",
       "max                     1.00  "
      ]
     },
     "execution_count": 5,
     "metadata": {},
     "output_type": "execute_result"
    }
   ],
   "source": [
    "df.describe()"
   ]
  },
  {
   "cell_type": "code",
   "execution_count": 6,
   "metadata": {
    "colab": {
     "base_uri": "https://localhost:8080/"
    },
    "id": "jvdmqyUXPDzf",
    "outputId": "5d117f85-eb42-4c10-c442-be58f039020e"
   },
   "outputs": [
    {
     "name": "stdout",
     "output_type": "stream",
     "text": [
      "<class 'pandas.core.frame.DataFrame'>\n",
      "RangeIndex: 14999 entries, 0 to 14998\n",
      "Data columns (total 10 columns):\n",
      " #   Column                 Non-Null Count  Dtype  \n",
      "---  ------                 --------------  -----  \n",
      " 0   satisfaction_level     14999 non-null  float64\n",
      " 1   last_evaluation        14999 non-null  float64\n",
      " 2   number_project         14999 non-null  int64  \n",
      " 3   average_montly_hours   14999 non-null  int64  \n",
      " 4   time_spend_company     14999 non-null  int64  \n",
      " 5   Work_accident          14999 non-null  int64  \n",
      " 6   left                   14999 non-null  int64  \n",
      " 7   promotion_last_5years  14999 non-null  int64  \n",
      " 8   sales                  14999 non-null  object \n",
      " 9   salary                 14999 non-null  object \n",
      "dtypes: float64(2), int64(6), object(2)\n",
      "memory usage: 1.1+ MB\n"
     ]
    }
   ],
   "source": [
    "# For further simplicity the target row should be the last\n",
    "\n",
    "df.info()"
   ]
  },
  {
   "cell_type": "code",
   "execution_count": 6,
   "metadata": {},
   "outputs": [],
   "source": [
    "df.drop([\"left\", \"promotion_last_5years\"], axis = 1, inplace = True)\n",
    "\n",
    "cols = df.columns.tolist()\n",
    "cols = cols[1:] + cols[:1]\n",
    "df = df[cols]"
   ]
  },
  {
   "cell_type": "code",
   "execution_count": 8,
   "metadata": {},
   "outputs": [
    {
     "name": "stdout",
     "output_type": "stream",
     "text": [
      "<class 'pandas.core.frame.DataFrame'>\n",
      "RangeIndex: 14999 entries, 0 to 14998\n",
      "Data columns (total 8 columns):\n",
      " #   Column                Non-Null Count  Dtype  \n",
      "---  ------                --------------  -----  \n",
      " 0   last_evaluation       14999 non-null  float64\n",
      " 1   number_project        14999 non-null  int64  \n",
      " 2   average_montly_hours  14999 non-null  int64  \n",
      " 3   time_spend_company    14999 non-null  int64  \n",
      " 4   Work_accident         14999 non-null  int64  \n",
      " 5   sales                 14999 non-null  object \n",
      " 6   salary                14999 non-null  object \n",
      " 7   satisfaction_level    14999 non-null  float64\n",
      "dtypes: float64(2), int64(4), object(2)\n",
      "memory usage: 937.6+ KB\n"
     ]
    }
   ],
   "source": [
    "# For further simplicity the target row should be the last\n",
    "\n",
    "df.info()"
   ]
  },
  {
   "cell_type": "code",
   "execution_count": 88,
   "metadata": {},
   "outputs": [],
   "source": [
    "target = \"satisfaction_level\"\n",
    "df_features = [col for col in df.columns if col != target]"
   ]
  },
  {
   "cell_type": "code",
   "execution_count": 89,
   "metadata": {},
   "outputs": [],
   "source": [
    "categorical_columns = df.select_dtypes(include=['object']).columns.tolist()\n",
    "encoder = OneHotEncoder(sparse_output=False, handle_unknown=\"ignore\")\n",
    "one_hot_encoded = encoder.fit_transform(df[categorical_columns])\n",
    "one_hot_df = pd.DataFrame(one_hot_encoded, columns=encoder.get_feature_names_out(categorical_columns))\n",
    "df_encoded = pd.concat([df, one_hot_df], axis=1)\n",
    "df_encoded = df_encoded.drop(categorical_columns, axis=1)"
   ]
  },
  {
   "cell_type": "code",
   "execution_count": 90,
   "metadata": {},
   "outputs": [
    {
     "name": "stdout",
     "output_type": "stream",
     "text": [
      "<class 'pandas.core.frame.DataFrame'>\n",
      "RangeIndex: 14999 entries, 0 to 14998\n",
      "Data columns (total 19 columns):\n",
      " #   Column                Non-Null Count  Dtype  \n",
      "---  ------                --------------  -----  \n",
      " 0   last_evaluation       14999 non-null  float64\n",
      " 1   number_project        14999 non-null  int64  \n",
      " 2   average_montly_hours  14999 non-null  int64  \n",
      " 3   time_spend_company    14999 non-null  int64  \n",
      " 4   Work_accident         14999 non-null  int64  \n",
      " 5   satisfaction_level    14999 non-null  float64\n",
      " 6   sales_IT              14999 non-null  float64\n",
      " 7   sales_RandD           14999 non-null  float64\n",
      " 8   sales_accounting      14999 non-null  float64\n",
      " 9   sales_hr              14999 non-null  float64\n",
      " 10  sales_management      14999 non-null  float64\n",
      " 11  sales_marketing       14999 non-null  float64\n",
      " 12  sales_product_mng     14999 non-null  float64\n",
      " 13  sales_sales           14999 non-null  float64\n",
      " 14  sales_support         14999 non-null  float64\n",
      " 15  sales_technical       14999 non-null  float64\n",
      " 16  salary_high           14999 non-null  float64\n",
      " 17  salary_low            14999 non-null  float64\n",
      " 18  salary_medium         14999 non-null  float64\n",
      "dtypes: float64(15), int64(4)\n",
      "memory usage: 2.2 MB\n"
     ]
    }
   ],
   "source": [
    "df_encoded_features = [col for col in df_encoded.columns if col != target]\n",
    "df_encoded.info()"
   ]
  },
  {
   "cell_type": "code",
   "execution_count": null,
   "metadata": {},
   "outputs": [],
   "source": [
    "# Getting categorical feature indecies\n",
    "\n",
    "def get_categorical_indicies(X):\n",
    "    cats = []\n",
    "    for col in X.columns:\n",
    "        if is_numeric_dtype(X[col]):\n",
    "            pass\n",
    "        else:\n",
    "            cats.append(col)\n",
    "    cat_indicies = []\n",
    "    for col in cats:\n",
    "        cat_indicies.append(X.columns.get_loc(col))\n",
    "    return cat_indicies\n",
    "\n",
    "\n",
    "categorical_indicies = get_categorical_indicies(df)"
   ]
  },
  {
   "cell_type": "markdown",
   "metadata": {},
   "source": [
    "# **Searching for the best model**"
   ]
  },
  {
   "cell_type": "code",
   "execution_count": 11,
   "metadata": {},
   "outputs": [
    {
     "name": "stderr",
     "output_type": "stream",
     "text": [
      "  0%|          | 0/42 [00:00<?, ?it/s]"
     ]
    },
    {
     "name": "stderr",
     "output_type": "stream",
     "text": [
      " 98%|█████████▊| 41/42 [01:22<00:01,  1.33s/it]"
     ]
    },
    {
     "name": "stdout",
     "output_type": "stream",
     "text": [
      "[LightGBM] [Info] Auto-choosing row-wise multi-threading, the overhead of testing was 0.000230 seconds.\n",
      "You can set `force_row_wise=true` to remove the overhead.\n",
      "And if memory is not enough, you can set `force_col_wise=true`.\n",
      "[LightGBM] [Info] Total Bins 327\n",
      "[LightGBM] [Info] Number of data points in the train set: 11249, number of used features: 18\n",
      "[LightGBM] [Info] Start training from score 0.611755\n"
     ]
    },
    {
     "name": "stderr",
     "output_type": "stream",
     "text": [
      "100%|██████████| 42/42 [01:23<00:00,  1.98s/it]\n"
     ]
    }
   ],
   "source": [
    "X_train, X_test, y_train, y_test = train_test_split(df[df_features], df[target],\n",
    "                                                        test_size = 0.25,\n",
    "                                                        random_state = 777,\n",
    "                                                        shuffle = True)\n",
    "\n",
    "reg = LazyRegressor(ignore_warnings = False)\n",
    "models, predictions = reg.fit(X_train, X_test, y_train, y_test)"
   ]
  },
  {
   "cell_type": "code",
   "execution_count": 12,
   "metadata": {},
   "outputs": [
    {
     "data": {
      "text/plain": [
       "Model\n",
       "RandomForestRegressor             0.172\n",
       "ExtraTreesRegressor               0.175\n",
       "LGBMRegressor                     0.179\n",
       "HistGradientBoostingRegressor     0.179\n",
       "BaggingRegressor                  0.180\n",
       "XGBRegressor                      0.182\n",
       "GradientBoostingRegressor         0.183\n",
       "SVR                               0.189\n",
       "NuSVR                             0.189\n",
       "MLPRegressor                      0.190\n",
       "AdaBoostRegressor                 0.194\n",
       "KNeighborsRegressor               0.197\n",
       "ExtraTreeRegressor                0.232\n",
       "DecisionTreeRegressor             0.235\n",
       "LassoLarsIC                       0.239\n",
       "LarsCV                            0.239\n",
       "LassoLarsCV                       0.239\n",
       "LassoCV                           0.239\n",
       "ElasticNetCV                      0.239\n",
       "LinearRegression                  0.239\n",
       "TransformedTargetRegressor        0.239\n",
       "RidgeCV                           0.239\n",
       "Ridge                             0.239\n",
       "Lars                              0.239\n",
       "KernelRidge                       0.239\n",
       "BayesianRidge                     0.239\n",
       "OrthogonalMatchingPursuitCV       0.239\n",
       "SGDRegressor                      0.239\n",
       "GammaRegressor                    0.242\n",
       "TweedieRegressor                  0.242\n",
       "PoissonRegressor                  0.243\n",
       "OrthogonalMatchingPursuit         0.245\n",
       "HuberRegressor                    0.246\n",
       "ElasticNet                        0.248\n",
       "DummyRegressor                    0.248\n",
       "LassoLars                         0.248\n",
       "Lasso                             0.248\n",
       "QuantileRegressor                 0.249\n",
       "LinearSVR                         0.260\n",
       "RANSACRegressor                   0.287\n",
       "PassiveAggressiveRegressor        0.404\n",
       "GaussianProcessRegressor         28.702\n",
       "Name: RMSE, dtype: object"
      ]
     },
     "execution_count": 12,
     "metadata": {},
     "output_type": "execute_result"
    }
   ],
   "source": [
    "predictions[\"RMSE\"].map(lambda x: '%.3f' % x)"
   ]
  },
  {
   "cell_type": "code",
   "execution_count": 13,
   "metadata": {},
   "outputs": [
    {
     "data": {
      "text/plain": [
       "0.1783685810032488"
      ]
     },
     "execution_count": 13,
     "metadata": {},
     "output_type": "execute_result"
    }
   ],
   "source": [
    "model = CatBoostRegressor(\n",
    "    cat_features = categorical_indicies,\n",
    ")\n",
    "\n",
    "model.fit(X_train, y_train, eval_set = [(X_test, y_test)],\n",
    "            verbose = False)\n",
    "preds = model.predict(X_test)\n",
    "rmse = root_mean_squared_error(y_test, preds)\n",
    "rmse"
   ]
  },
  {
   "cell_type": "code",
   "execution_count": 98,
   "metadata": {},
   "outputs": [
    {
     "data": {
      "text/plain": [
       "0.20352978180372047"
      ]
     },
     "execution_count": 98,
     "metadata": {},
     "output_type": "execute_result"
    }
   ],
   "source": [
    "X_train, X_test, y_train, y_test = train_test_split(df_encoded[df_encoded_features], df_encoded[target],\n",
    "                                                        test_size = 0.25,\n",
    "                                                        random_state = 777,\n",
    "                                                        shuffle = True)\n",
    "\n",
    "mlp = MLPRegressor()\n",
    "mlp.fit(X_train, y_train)\n",
    "rmse = root_mean_squared_error(y_test, mlp.predict(X_test))\n",
    "rmse"
   ]
  },
  {
   "cell_type": "markdown",
   "metadata": {},
   "source": [
    "# **RandomForest**"
   ]
  },
  {
   "cell_type": "code",
   "execution_count": 105,
   "metadata": {},
   "outputs": [
    {
     "name": "stderr",
     "output_type": "stream",
     "text": [
      "[I 2024-05-19 01:39:08,712] A new study created in memory with name: RFR\n"
     ]
    },
    {
     "name": "stderr",
     "output_type": "stream",
     "text": [
      "[I 2024-05-19 01:39:13,002] Trial 0 finished with value: 0.17205129966087637 and parameters: {'scalers': None}. Best is trial 0 with value: 0.17205129966087637.\n",
      "[I 2024-05-19 01:39:17,288] Trial 1 finished with value: 0.17191107760190635 and parameters: {'scalers': 'minmax'}. Best is trial 1 with value: 0.17191107760190635.\n",
      "[I 2024-05-19 01:39:21,558] Trial 2 finished with value: 0.17205129966087637 and parameters: {'scalers': None}. Best is trial 1 with value: 0.17191107760190635.\n",
      "[I 2024-05-19 01:39:25,719] Trial 3 finished with value: 0.17193844151614635 and parameters: {'scalers': 'standard'}. Best is trial 1 with value: 0.17191107760190635.\n",
      "[I 2024-05-19 01:39:29,803] Trial 4 finished with value: 0.17205129966087637 and parameters: {'scalers': None}. Best is trial 1 with value: 0.17191107760190635.\n",
      "[I 2024-05-19 01:39:33,800] Trial 5 finished with value: 0.17191107760190635 and parameters: {'scalers': 'minmax'}. Best is trial 1 with value: 0.17191107760190635.\n",
      "[I 2024-05-19 01:39:37,825] Trial 6 finished with value: 0.17199887388129337 and parameters: {'scalers': 'maxabs'}. Best is trial 1 with value: 0.17191107760190635.\n",
      "[I 2024-05-19 01:39:41,893] Trial 7 finished with value: 0.17217571407645788 and parameters: {'scalers': 'robust'}. Best is trial 1 with value: 0.17191107760190635.\n",
      "[I 2024-05-19 01:39:47,291] Trial 8 finished with value: 0.17205129966087637 and parameters: {'scalers': None}. Best is trial 1 with value: 0.17191107760190635.\n",
      "[I 2024-05-19 01:39:51,898] Trial 9 finished with value: 0.17205129966087637 and parameters: {'scalers': None}. Best is trial 1 with value: 0.17191107760190635.\n",
      "[W 2024-05-19 01:39:51,944] Trial 10 failed with parameters: {'scalers': 'minmax'} because of the following error: KeyboardInterrupt().\n",
      "Traceback (most recent call last):\n",
      "  File \"c:\\Users\\Aleks\\Desktop\\Jup\\Cat_Model\\.venv\\Lib\\site-packages\\optuna\\study\\_optimize.py\", line 196, in _run_trial\n",
      "    value_or_values = func(trial)\n",
      "                      ^^^^^^^^^^^\n",
      "  File \"C:\\Users\\Aleks\\AppData\\Local\\Temp\\ipykernel_30428\\4049979884.py\", line 41, in objective\n",
      "    pipeline.fit(X_train, y_train)\n",
      "  File \"c:\\Users\\Aleks\\Desktop\\Jup\\Cat_Model\\.venv\\Lib\\site-packages\\sklearn\\base.py\", line 1474, in wrapper\n",
      "    return fit_method(estimator, *args, **kwargs)\n",
      "           ^^^^^^^^^^^^^^^^^^^^^^^^^^^^^^^^^^^^^^\n",
      "  File \"c:\\Users\\Aleks\\Desktop\\Jup\\Cat_Model\\.venv\\Lib\\site-packages\\sklearn\\pipeline.py\", line 475, in fit\n",
      "    self._final_estimator.fit(Xt, y, **last_step_params[\"fit\"])\n",
      "  File \"c:\\Users\\Aleks\\Desktop\\Jup\\Cat_Model\\.venv\\Lib\\site-packages\\sklearn\\base.py\", line 1474, in wrapper\n",
      "    return fit_method(estimator, *args, **kwargs)\n",
      "           ^^^^^^^^^^^^^^^^^^^^^^^^^^^^^^^^^^^^^^\n",
      "  File \"c:\\Users\\Aleks\\Desktop\\Jup\\Cat_Model\\.venv\\Lib\\site-packages\\sklearn\\ensemble\\_forest.py\", line 489, in fit\n",
      "    trees = Parallel(\n",
      "            ^^^^^^^^^\n",
      "  File \"c:\\Users\\Aleks\\Desktop\\Jup\\Cat_Model\\.venv\\Lib\\site-packages\\sklearn\\utils\\parallel.py\", line 67, in __call__\n",
      "    return super().__call__(iterable_with_config)\n",
      "           ^^^^^^^^^^^^^^^^^^^^^^^^^^^^^^^^^^^^^^\n",
      "  File \"c:\\Users\\Aleks\\Desktop\\Jup\\Cat_Model\\.venv\\Lib\\site-packages\\joblib\\parallel.py\", line 1918, in __call__\n",
      "    return output if self.return_generator else list(output)\n",
      "                                                ^^^^^^^^^^^^\n",
      "  File \"c:\\Users\\Aleks\\Desktop\\Jup\\Cat_Model\\.venv\\Lib\\site-packages\\joblib\\parallel.py\", line 1847, in _get_sequential_output\n",
      "    res = func(*args, **kwargs)\n",
      "          ^^^^^^^^^^^^^^^^^^^^^\n",
      "  File \"c:\\Users\\Aleks\\Desktop\\Jup\\Cat_Model\\.venv\\Lib\\site-packages\\sklearn\\utils\\parallel.py\", line 129, in __call__\n",
      "    return self.function(*args, **kwargs)\n",
      "           ^^^^^^^^^^^^^^^^^^^^^^^^^^^^^^\n",
      "  File \"c:\\Users\\Aleks\\Desktop\\Jup\\Cat_Model\\.venv\\Lib\\site-packages\\sklearn\\ensemble\\_forest.py\", line 179, in _parallel_build_trees\n",
      "    indices = _generate_sample_indices(\n",
      "              ^^^^^^^^^^^^^^^^^^^^^^^^^\n",
      "  File \"c:\\Users\\Aleks\\Desktop\\Jup\\Cat_Model\\.venv\\Lib\\site-packages\\sklearn\\ensemble\\_forest.py\", line 133, in _generate_sample_indices\n",
      "    sample_indices = random_instance.randint(\n",
      "                     ^^^^^^^^^^^^^^^^^^^^^^^^\n",
      "KeyboardInterrupt\n",
      "[W 2024-05-19 01:39:51,946] Trial 10 failed with value None.\n"
     ]
    },
    {
     "ename": "KeyboardInterrupt",
     "evalue": "",
     "output_type": "error",
     "traceback": [
      "\u001b[1;31m---------------------------------------------------------------------------\u001b[0m",
      "\u001b[1;31mKeyboardInterrupt\u001b[0m                         Traceback (most recent call last)",
      "Cell \u001b[1;32mIn[105], line 53\u001b[0m\n\u001b[0;32m     51\u001b[0m sampler \u001b[38;5;241m=\u001b[39m TPESampler(multivariate \u001b[38;5;241m=\u001b[39m \u001b[38;5;28;01mTrue\u001b[39;00m, group \u001b[38;5;241m=\u001b[39m \u001b[38;5;28;01mTrue\u001b[39;00m, seed \u001b[38;5;241m=\u001b[39m \u001b[38;5;241m777\u001b[39m)\n\u001b[0;32m     52\u001b[0m study \u001b[38;5;241m=\u001b[39m optuna\u001b[38;5;241m.\u001b[39mcreate_study(study_name \u001b[38;5;241m=\u001b[39m \u001b[38;5;124m\"\u001b[39m\u001b[38;5;124mRFR\u001b[39m\u001b[38;5;124m\"\u001b[39m, sampler \u001b[38;5;241m=\u001b[39m sampler)\n\u001b[1;32m---> 53\u001b[0m \u001b[43mstudy\u001b[49m\u001b[38;5;241;43m.\u001b[39;49m\u001b[43moptimize\u001b[49m\u001b[43m(\u001b[49m\u001b[43mobjective\u001b[49m\u001b[43m,\u001b[49m\u001b[43m \u001b[49m\u001b[43mn_trials\u001b[49m\u001b[43m \u001b[49m\u001b[38;5;241;43m=\u001b[39;49m\u001b[43m \u001b[49m\u001b[38;5;241;43m150\u001b[39;49m\u001b[43m)\u001b[49m\n\u001b[0;32m     54\u001b[0m trial \u001b[38;5;241m=\u001b[39m study\u001b[38;5;241m.\u001b[39mbest_trial\n\u001b[0;32m     56\u001b[0m \u001b[38;5;28mprint\u001b[39m(\u001b[38;5;124m\"\u001b[39m\u001b[38;5;124mNumber of finished trials: \u001b[39m\u001b[38;5;124m\"\u001b[39m, \u001b[38;5;28mlen\u001b[39m(study\u001b[38;5;241m.\u001b[39mtrials))\n",
      "File \u001b[1;32mc:\\Users\\Aleks\\Desktop\\Jup\\Cat_Model\\.venv\\Lib\\site-packages\\optuna\\study\\study.py:451\u001b[0m, in \u001b[0;36mStudy.optimize\u001b[1;34m(self, func, n_trials, timeout, n_jobs, catch, callbacks, gc_after_trial, show_progress_bar)\u001b[0m\n\u001b[0;32m    348\u001b[0m \u001b[38;5;28;01mdef\u001b[39;00m \u001b[38;5;21moptimize\u001b[39m(\n\u001b[0;32m    349\u001b[0m     \u001b[38;5;28mself\u001b[39m,\n\u001b[0;32m    350\u001b[0m     func: ObjectiveFuncType,\n\u001b[1;32m   (...)\u001b[0m\n\u001b[0;32m    357\u001b[0m     show_progress_bar: \u001b[38;5;28mbool\u001b[39m \u001b[38;5;241m=\u001b[39m \u001b[38;5;28;01mFalse\u001b[39;00m,\n\u001b[0;32m    358\u001b[0m ) \u001b[38;5;241m-\u001b[39m\u001b[38;5;241m>\u001b[39m \u001b[38;5;28;01mNone\u001b[39;00m:\n\u001b[0;32m    359\u001b[0m \u001b[38;5;250m    \u001b[39m\u001b[38;5;124;03m\"\"\"Optimize an objective function.\u001b[39;00m\n\u001b[0;32m    360\u001b[0m \n\u001b[0;32m    361\u001b[0m \u001b[38;5;124;03m    Optimization is done by choosing a suitable set of hyperparameter values from a given\u001b[39;00m\n\u001b[1;32m   (...)\u001b[0m\n\u001b[0;32m    449\u001b[0m \u001b[38;5;124;03m            If nested invocation of this method occurs.\u001b[39;00m\n\u001b[0;32m    450\u001b[0m \u001b[38;5;124;03m    \"\"\"\u001b[39;00m\n\u001b[1;32m--> 451\u001b[0m     \u001b[43m_optimize\u001b[49m\u001b[43m(\u001b[49m\n\u001b[0;32m    452\u001b[0m \u001b[43m        \u001b[49m\u001b[43mstudy\u001b[49m\u001b[38;5;241;43m=\u001b[39;49m\u001b[38;5;28;43mself\u001b[39;49m\u001b[43m,\u001b[49m\n\u001b[0;32m    453\u001b[0m \u001b[43m        \u001b[49m\u001b[43mfunc\u001b[49m\u001b[38;5;241;43m=\u001b[39;49m\u001b[43mfunc\u001b[49m\u001b[43m,\u001b[49m\n\u001b[0;32m    454\u001b[0m \u001b[43m        \u001b[49m\u001b[43mn_trials\u001b[49m\u001b[38;5;241;43m=\u001b[39;49m\u001b[43mn_trials\u001b[49m\u001b[43m,\u001b[49m\n\u001b[0;32m    455\u001b[0m \u001b[43m        \u001b[49m\u001b[43mtimeout\u001b[49m\u001b[38;5;241;43m=\u001b[39;49m\u001b[43mtimeout\u001b[49m\u001b[43m,\u001b[49m\n\u001b[0;32m    456\u001b[0m \u001b[43m        \u001b[49m\u001b[43mn_jobs\u001b[49m\u001b[38;5;241;43m=\u001b[39;49m\u001b[43mn_jobs\u001b[49m\u001b[43m,\u001b[49m\n\u001b[0;32m    457\u001b[0m \u001b[43m        \u001b[49m\u001b[43mcatch\u001b[49m\u001b[38;5;241;43m=\u001b[39;49m\u001b[38;5;28;43mtuple\u001b[39;49m\u001b[43m(\u001b[49m\u001b[43mcatch\u001b[49m\u001b[43m)\u001b[49m\u001b[43m \u001b[49m\u001b[38;5;28;43;01mif\u001b[39;49;00m\u001b[43m \u001b[49m\u001b[38;5;28;43misinstance\u001b[39;49m\u001b[43m(\u001b[49m\u001b[43mcatch\u001b[49m\u001b[43m,\u001b[49m\u001b[43m \u001b[49m\u001b[43mIterable\u001b[49m\u001b[43m)\u001b[49m\u001b[43m \u001b[49m\u001b[38;5;28;43;01melse\u001b[39;49;00m\u001b[43m \u001b[49m\u001b[43m(\u001b[49m\u001b[43mcatch\u001b[49m\u001b[43m,\u001b[49m\u001b[43m)\u001b[49m\u001b[43m,\u001b[49m\n\u001b[0;32m    458\u001b[0m \u001b[43m        \u001b[49m\u001b[43mcallbacks\u001b[49m\u001b[38;5;241;43m=\u001b[39;49m\u001b[43mcallbacks\u001b[49m\u001b[43m,\u001b[49m\n\u001b[0;32m    459\u001b[0m \u001b[43m        \u001b[49m\u001b[43mgc_after_trial\u001b[49m\u001b[38;5;241;43m=\u001b[39;49m\u001b[43mgc_after_trial\u001b[49m\u001b[43m,\u001b[49m\n\u001b[0;32m    460\u001b[0m \u001b[43m        \u001b[49m\u001b[43mshow_progress_bar\u001b[49m\u001b[38;5;241;43m=\u001b[39;49m\u001b[43mshow_progress_bar\u001b[49m\u001b[43m,\u001b[49m\n\u001b[0;32m    461\u001b[0m \u001b[43m    \u001b[49m\u001b[43m)\u001b[49m\n",
      "File \u001b[1;32mc:\\Users\\Aleks\\Desktop\\Jup\\Cat_Model\\.venv\\Lib\\site-packages\\optuna\\study\\_optimize.py:62\u001b[0m, in \u001b[0;36m_optimize\u001b[1;34m(study, func, n_trials, timeout, n_jobs, catch, callbacks, gc_after_trial, show_progress_bar)\u001b[0m\n\u001b[0;32m     60\u001b[0m \u001b[38;5;28;01mtry\u001b[39;00m:\n\u001b[0;32m     61\u001b[0m     \u001b[38;5;28;01mif\u001b[39;00m n_jobs \u001b[38;5;241m==\u001b[39m \u001b[38;5;241m1\u001b[39m:\n\u001b[1;32m---> 62\u001b[0m         \u001b[43m_optimize_sequential\u001b[49m\u001b[43m(\u001b[49m\n\u001b[0;32m     63\u001b[0m \u001b[43m            \u001b[49m\u001b[43mstudy\u001b[49m\u001b[43m,\u001b[49m\n\u001b[0;32m     64\u001b[0m \u001b[43m            \u001b[49m\u001b[43mfunc\u001b[49m\u001b[43m,\u001b[49m\n\u001b[0;32m     65\u001b[0m \u001b[43m            \u001b[49m\u001b[43mn_trials\u001b[49m\u001b[43m,\u001b[49m\n\u001b[0;32m     66\u001b[0m \u001b[43m            \u001b[49m\u001b[43mtimeout\u001b[49m\u001b[43m,\u001b[49m\n\u001b[0;32m     67\u001b[0m \u001b[43m            \u001b[49m\u001b[43mcatch\u001b[49m\u001b[43m,\u001b[49m\n\u001b[0;32m     68\u001b[0m \u001b[43m            \u001b[49m\u001b[43mcallbacks\u001b[49m\u001b[43m,\u001b[49m\n\u001b[0;32m     69\u001b[0m \u001b[43m            \u001b[49m\u001b[43mgc_after_trial\u001b[49m\u001b[43m,\u001b[49m\n\u001b[0;32m     70\u001b[0m \u001b[43m            \u001b[49m\u001b[43mreseed_sampler_rng\u001b[49m\u001b[38;5;241;43m=\u001b[39;49m\u001b[38;5;28;43;01mFalse\u001b[39;49;00m\u001b[43m,\u001b[49m\n\u001b[0;32m     71\u001b[0m \u001b[43m            \u001b[49m\u001b[43mtime_start\u001b[49m\u001b[38;5;241;43m=\u001b[39;49m\u001b[38;5;28;43;01mNone\u001b[39;49;00m\u001b[43m,\u001b[49m\n\u001b[0;32m     72\u001b[0m \u001b[43m            \u001b[49m\u001b[43mprogress_bar\u001b[49m\u001b[38;5;241;43m=\u001b[39;49m\u001b[43mprogress_bar\u001b[49m\u001b[43m,\u001b[49m\n\u001b[0;32m     73\u001b[0m \u001b[43m        \u001b[49m\u001b[43m)\u001b[49m\n\u001b[0;32m     74\u001b[0m     \u001b[38;5;28;01melse\u001b[39;00m:\n\u001b[0;32m     75\u001b[0m         \u001b[38;5;28;01mif\u001b[39;00m n_jobs \u001b[38;5;241m==\u001b[39m \u001b[38;5;241m-\u001b[39m\u001b[38;5;241m1\u001b[39m:\n",
      "File \u001b[1;32mc:\\Users\\Aleks\\Desktop\\Jup\\Cat_Model\\.venv\\Lib\\site-packages\\optuna\\study\\_optimize.py:159\u001b[0m, in \u001b[0;36m_optimize_sequential\u001b[1;34m(study, func, n_trials, timeout, catch, callbacks, gc_after_trial, reseed_sampler_rng, time_start, progress_bar)\u001b[0m\n\u001b[0;32m    156\u001b[0m         \u001b[38;5;28;01mbreak\u001b[39;00m\n\u001b[0;32m    158\u001b[0m \u001b[38;5;28;01mtry\u001b[39;00m:\n\u001b[1;32m--> 159\u001b[0m     frozen_trial \u001b[38;5;241m=\u001b[39m \u001b[43m_run_trial\u001b[49m\u001b[43m(\u001b[49m\u001b[43mstudy\u001b[49m\u001b[43m,\u001b[49m\u001b[43m \u001b[49m\u001b[43mfunc\u001b[49m\u001b[43m,\u001b[49m\u001b[43m \u001b[49m\u001b[43mcatch\u001b[49m\u001b[43m)\u001b[49m\n\u001b[0;32m    160\u001b[0m \u001b[38;5;28;01mfinally\u001b[39;00m:\n\u001b[0;32m    161\u001b[0m     \u001b[38;5;66;03m# The following line mitigates memory problems that can be occurred in some\u001b[39;00m\n\u001b[0;32m    162\u001b[0m     \u001b[38;5;66;03m# environments (e.g., services that use computing containers such as GitHub Actions).\u001b[39;00m\n\u001b[0;32m    163\u001b[0m     \u001b[38;5;66;03m# Please refer to the following PR for further details:\u001b[39;00m\n\u001b[0;32m    164\u001b[0m     \u001b[38;5;66;03m# https://github.com/optuna/optuna/pull/325.\u001b[39;00m\n\u001b[0;32m    165\u001b[0m     \u001b[38;5;28;01mif\u001b[39;00m gc_after_trial:\n",
      "File \u001b[1;32mc:\\Users\\Aleks\\Desktop\\Jup\\Cat_Model\\.venv\\Lib\\site-packages\\optuna\\study\\_optimize.py:247\u001b[0m, in \u001b[0;36m_run_trial\u001b[1;34m(study, func, catch)\u001b[0m\n\u001b[0;32m    240\u001b[0m         \u001b[38;5;28;01massert\u001b[39;00m \u001b[38;5;28;01mFalse\u001b[39;00m, \u001b[38;5;124m\"\u001b[39m\u001b[38;5;124mShould not reach.\u001b[39m\u001b[38;5;124m\"\u001b[39m\n\u001b[0;32m    242\u001b[0m \u001b[38;5;28;01mif\u001b[39;00m (\n\u001b[0;32m    243\u001b[0m     frozen_trial\u001b[38;5;241m.\u001b[39mstate \u001b[38;5;241m==\u001b[39m TrialState\u001b[38;5;241m.\u001b[39mFAIL\n\u001b[0;32m    244\u001b[0m     \u001b[38;5;129;01mand\u001b[39;00m func_err \u001b[38;5;129;01mis\u001b[39;00m \u001b[38;5;129;01mnot\u001b[39;00m \u001b[38;5;28;01mNone\u001b[39;00m\n\u001b[0;32m    245\u001b[0m     \u001b[38;5;129;01mand\u001b[39;00m \u001b[38;5;129;01mnot\u001b[39;00m \u001b[38;5;28misinstance\u001b[39m(func_err, catch)\n\u001b[0;32m    246\u001b[0m ):\n\u001b[1;32m--> 247\u001b[0m     \u001b[38;5;28;01mraise\u001b[39;00m func_err\n\u001b[0;32m    248\u001b[0m \u001b[38;5;28;01mreturn\u001b[39;00m frozen_trial\n",
      "File \u001b[1;32mc:\\Users\\Aleks\\Desktop\\Jup\\Cat_Model\\.venv\\Lib\\site-packages\\optuna\\study\\_optimize.py:196\u001b[0m, in \u001b[0;36m_run_trial\u001b[1;34m(study, func, catch)\u001b[0m\n\u001b[0;32m    194\u001b[0m \u001b[38;5;28;01mwith\u001b[39;00m get_heartbeat_thread(trial\u001b[38;5;241m.\u001b[39m_trial_id, study\u001b[38;5;241m.\u001b[39m_storage):\n\u001b[0;32m    195\u001b[0m     \u001b[38;5;28;01mtry\u001b[39;00m:\n\u001b[1;32m--> 196\u001b[0m         value_or_values \u001b[38;5;241m=\u001b[39m \u001b[43mfunc\u001b[49m\u001b[43m(\u001b[49m\u001b[43mtrial\u001b[49m\u001b[43m)\u001b[49m\n\u001b[0;32m    197\u001b[0m     \u001b[38;5;28;01mexcept\u001b[39;00m exceptions\u001b[38;5;241m.\u001b[39mTrialPruned \u001b[38;5;28;01mas\u001b[39;00m e:\n\u001b[0;32m    198\u001b[0m         \u001b[38;5;66;03m# TODO(mamu): Handle multi-objective cases.\u001b[39;00m\n\u001b[0;32m    199\u001b[0m         state \u001b[38;5;241m=\u001b[39m TrialState\u001b[38;5;241m.\u001b[39mPRUNED\n",
      "Cell \u001b[1;32mIn[105], line 41\u001b[0m, in \u001b[0;36mobjective\u001b[1;34m(trial)\u001b[0m\n\u001b[0;32m     39\u001b[0m \u001b[38;5;66;03m# Make a pipeline\u001b[39;00m\n\u001b[0;32m     40\u001b[0m pipeline \u001b[38;5;241m=\u001b[39m make_pipeline(scaler, rfr)\n\u001b[1;32m---> 41\u001b[0m \u001b[43mpipeline\u001b[49m\u001b[38;5;241;43m.\u001b[39;49m\u001b[43mfit\u001b[49m\u001b[43m(\u001b[49m\u001b[43mX_train\u001b[49m\u001b[43m,\u001b[49m\u001b[43m \u001b[49m\u001b[43my_train\u001b[49m\u001b[43m)\u001b[49m\n\u001b[0;32m     44\u001b[0m \u001b[38;5;66;03m# Predict and estimate results\u001b[39;00m\n\u001b[0;32m     45\u001b[0m preds \u001b[38;5;241m=\u001b[39m pipeline\u001b[38;5;241m.\u001b[39mpredict(X_test)\n",
      "File \u001b[1;32mc:\\Users\\Aleks\\Desktop\\Jup\\Cat_Model\\.venv\\Lib\\site-packages\\sklearn\\base.py:1474\u001b[0m, in \u001b[0;36m_fit_context.<locals>.decorator.<locals>.wrapper\u001b[1;34m(estimator, *args, **kwargs)\u001b[0m\n\u001b[0;32m   1467\u001b[0m     estimator\u001b[38;5;241m.\u001b[39m_validate_params()\n\u001b[0;32m   1469\u001b[0m \u001b[38;5;28;01mwith\u001b[39;00m config_context(\n\u001b[0;32m   1470\u001b[0m     skip_parameter_validation\u001b[38;5;241m=\u001b[39m(\n\u001b[0;32m   1471\u001b[0m         prefer_skip_nested_validation \u001b[38;5;129;01mor\u001b[39;00m global_skip_validation\n\u001b[0;32m   1472\u001b[0m     )\n\u001b[0;32m   1473\u001b[0m ):\n\u001b[1;32m-> 1474\u001b[0m     \u001b[38;5;28;01mreturn\u001b[39;00m \u001b[43mfit_method\u001b[49m\u001b[43m(\u001b[49m\u001b[43mestimator\u001b[49m\u001b[43m,\u001b[49m\u001b[43m \u001b[49m\u001b[38;5;241;43m*\u001b[39;49m\u001b[43margs\u001b[49m\u001b[43m,\u001b[49m\u001b[43m \u001b[49m\u001b[38;5;241;43m*\u001b[39;49m\u001b[38;5;241;43m*\u001b[39;49m\u001b[43mkwargs\u001b[49m\u001b[43m)\u001b[49m\n",
      "File \u001b[1;32mc:\\Users\\Aleks\\Desktop\\Jup\\Cat_Model\\.venv\\Lib\\site-packages\\sklearn\\pipeline.py:475\u001b[0m, in \u001b[0;36mPipeline.fit\u001b[1;34m(self, X, y, **params)\u001b[0m\n\u001b[0;32m    473\u001b[0m     \u001b[38;5;28;01mif\u001b[39;00m \u001b[38;5;28mself\u001b[39m\u001b[38;5;241m.\u001b[39m_final_estimator \u001b[38;5;241m!=\u001b[39m \u001b[38;5;124m\"\u001b[39m\u001b[38;5;124mpassthrough\u001b[39m\u001b[38;5;124m\"\u001b[39m:\n\u001b[0;32m    474\u001b[0m         last_step_params \u001b[38;5;241m=\u001b[39m routed_params[\u001b[38;5;28mself\u001b[39m\u001b[38;5;241m.\u001b[39msteps[\u001b[38;5;241m-\u001b[39m\u001b[38;5;241m1\u001b[39m][\u001b[38;5;241m0\u001b[39m]]\n\u001b[1;32m--> 475\u001b[0m         \u001b[38;5;28;43mself\u001b[39;49m\u001b[38;5;241;43m.\u001b[39;49m\u001b[43m_final_estimator\u001b[49m\u001b[38;5;241;43m.\u001b[39;49m\u001b[43mfit\u001b[49m\u001b[43m(\u001b[49m\u001b[43mXt\u001b[49m\u001b[43m,\u001b[49m\u001b[43m \u001b[49m\u001b[43my\u001b[49m\u001b[43m,\u001b[49m\u001b[43m \u001b[49m\u001b[38;5;241;43m*\u001b[39;49m\u001b[38;5;241;43m*\u001b[39;49m\u001b[43mlast_step_params\u001b[49m\u001b[43m[\u001b[49m\u001b[38;5;124;43m\"\u001b[39;49m\u001b[38;5;124;43mfit\u001b[39;49m\u001b[38;5;124;43m\"\u001b[39;49m\u001b[43m]\u001b[49m\u001b[43m)\u001b[49m\n\u001b[0;32m    477\u001b[0m \u001b[38;5;28;01mreturn\u001b[39;00m \u001b[38;5;28mself\u001b[39m\n",
      "File \u001b[1;32mc:\\Users\\Aleks\\Desktop\\Jup\\Cat_Model\\.venv\\Lib\\site-packages\\sklearn\\base.py:1474\u001b[0m, in \u001b[0;36m_fit_context.<locals>.decorator.<locals>.wrapper\u001b[1;34m(estimator, *args, **kwargs)\u001b[0m\n\u001b[0;32m   1467\u001b[0m     estimator\u001b[38;5;241m.\u001b[39m_validate_params()\n\u001b[0;32m   1469\u001b[0m \u001b[38;5;28;01mwith\u001b[39;00m config_context(\n\u001b[0;32m   1470\u001b[0m     skip_parameter_validation\u001b[38;5;241m=\u001b[39m(\n\u001b[0;32m   1471\u001b[0m         prefer_skip_nested_validation \u001b[38;5;129;01mor\u001b[39;00m global_skip_validation\n\u001b[0;32m   1472\u001b[0m     )\n\u001b[0;32m   1473\u001b[0m ):\n\u001b[1;32m-> 1474\u001b[0m     \u001b[38;5;28;01mreturn\u001b[39;00m \u001b[43mfit_method\u001b[49m\u001b[43m(\u001b[49m\u001b[43mestimator\u001b[49m\u001b[43m,\u001b[49m\u001b[43m \u001b[49m\u001b[38;5;241;43m*\u001b[39;49m\u001b[43margs\u001b[49m\u001b[43m,\u001b[49m\u001b[43m \u001b[49m\u001b[38;5;241;43m*\u001b[39;49m\u001b[38;5;241;43m*\u001b[39;49m\u001b[43mkwargs\u001b[49m\u001b[43m)\u001b[49m\n",
      "File \u001b[1;32mc:\\Users\\Aleks\\Desktop\\Jup\\Cat_Model\\.venv\\Lib\\site-packages\\sklearn\\ensemble\\_forest.py:489\u001b[0m, in \u001b[0;36mBaseForest.fit\u001b[1;34m(self, X, y, sample_weight)\u001b[0m\n\u001b[0;32m    478\u001b[0m trees \u001b[38;5;241m=\u001b[39m [\n\u001b[0;32m    479\u001b[0m     \u001b[38;5;28mself\u001b[39m\u001b[38;5;241m.\u001b[39m_make_estimator(append\u001b[38;5;241m=\u001b[39m\u001b[38;5;28;01mFalse\u001b[39;00m, random_state\u001b[38;5;241m=\u001b[39mrandom_state)\n\u001b[0;32m    480\u001b[0m     \u001b[38;5;28;01mfor\u001b[39;00m i \u001b[38;5;129;01min\u001b[39;00m \u001b[38;5;28mrange\u001b[39m(n_more_estimators)\n\u001b[0;32m    481\u001b[0m ]\n\u001b[0;32m    483\u001b[0m \u001b[38;5;66;03m# Parallel loop: we prefer the threading backend as the Cython code\u001b[39;00m\n\u001b[0;32m    484\u001b[0m \u001b[38;5;66;03m# for fitting the trees is internally releasing the Python GIL\u001b[39;00m\n\u001b[0;32m    485\u001b[0m \u001b[38;5;66;03m# making threading more efficient than multiprocessing in\u001b[39;00m\n\u001b[0;32m    486\u001b[0m \u001b[38;5;66;03m# that case. However, for joblib 0.12+ we respect any\u001b[39;00m\n\u001b[0;32m    487\u001b[0m \u001b[38;5;66;03m# parallel_backend contexts set at a higher level,\u001b[39;00m\n\u001b[0;32m    488\u001b[0m \u001b[38;5;66;03m# since correctness does not rely on using threads.\u001b[39;00m\n\u001b[1;32m--> 489\u001b[0m trees \u001b[38;5;241m=\u001b[39m \u001b[43mParallel\u001b[49m\u001b[43m(\u001b[49m\n\u001b[0;32m    490\u001b[0m \u001b[43m    \u001b[49m\u001b[43mn_jobs\u001b[49m\u001b[38;5;241;43m=\u001b[39;49m\u001b[38;5;28;43mself\u001b[39;49m\u001b[38;5;241;43m.\u001b[39;49m\u001b[43mn_jobs\u001b[49m\u001b[43m,\u001b[49m\n\u001b[0;32m    491\u001b[0m \u001b[43m    \u001b[49m\u001b[43mverbose\u001b[49m\u001b[38;5;241;43m=\u001b[39;49m\u001b[38;5;28;43mself\u001b[39;49m\u001b[38;5;241;43m.\u001b[39;49m\u001b[43mverbose\u001b[49m\u001b[43m,\u001b[49m\n\u001b[0;32m    492\u001b[0m \u001b[43m    \u001b[49m\u001b[43mprefer\u001b[49m\u001b[38;5;241;43m=\u001b[39;49m\u001b[38;5;124;43m\"\u001b[39;49m\u001b[38;5;124;43mthreads\u001b[39;49m\u001b[38;5;124;43m\"\u001b[39;49m\u001b[43m,\u001b[49m\n\u001b[0;32m    493\u001b[0m \u001b[43m\u001b[49m\u001b[43m)\u001b[49m\u001b[43m(\u001b[49m\n\u001b[0;32m    494\u001b[0m \u001b[43m    \u001b[49m\u001b[43mdelayed\u001b[49m\u001b[43m(\u001b[49m\u001b[43m_parallel_build_trees\u001b[49m\u001b[43m)\u001b[49m\u001b[43m(\u001b[49m\n\u001b[0;32m    495\u001b[0m \u001b[43m        \u001b[49m\u001b[43mt\u001b[49m\u001b[43m,\u001b[49m\n\u001b[0;32m    496\u001b[0m \u001b[43m        \u001b[49m\u001b[38;5;28;43mself\u001b[39;49m\u001b[38;5;241;43m.\u001b[39;49m\u001b[43mbootstrap\u001b[49m\u001b[43m,\u001b[49m\n\u001b[0;32m    497\u001b[0m \u001b[43m        \u001b[49m\u001b[43mX\u001b[49m\u001b[43m,\u001b[49m\n\u001b[0;32m    498\u001b[0m \u001b[43m        \u001b[49m\u001b[43my\u001b[49m\u001b[43m,\u001b[49m\n\u001b[0;32m    499\u001b[0m \u001b[43m        \u001b[49m\u001b[43msample_weight\u001b[49m\u001b[43m,\u001b[49m\n\u001b[0;32m    500\u001b[0m \u001b[43m        \u001b[49m\u001b[43mi\u001b[49m\u001b[43m,\u001b[49m\n\u001b[0;32m    501\u001b[0m \u001b[43m        \u001b[49m\u001b[38;5;28;43mlen\u001b[39;49m\u001b[43m(\u001b[49m\u001b[43mtrees\u001b[49m\u001b[43m)\u001b[49m\u001b[43m,\u001b[49m\n\u001b[0;32m    502\u001b[0m \u001b[43m        \u001b[49m\u001b[43mverbose\u001b[49m\u001b[38;5;241;43m=\u001b[39;49m\u001b[38;5;28;43mself\u001b[39;49m\u001b[38;5;241;43m.\u001b[39;49m\u001b[43mverbose\u001b[49m\u001b[43m,\u001b[49m\n\u001b[0;32m    503\u001b[0m \u001b[43m        \u001b[49m\u001b[43mclass_weight\u001b[49m\u001b[38;5;241;43m=\u001b[39;49m\u001b[38;5;28;43mself\u001b[39;49m\u001b[38;5;241;43m.\u001b[39;49m\u001b[43mclass_weight\u001b[49m\u001b[43m,\u001b[49m\n\u001b[0;32m    504\u001b[0m \u001b[43m        \u001b[49m\u001b[43mn_samples_bootstrap\u001b[49m\u001b[38;5;241;43m=\u001b[39;49m\u001b[43mn_samples_bootstrap\u001b[49m\u001b[43m,\u001b[49m\n\u001b[0;32m    505\u001b[0m \u001b[43m        \u001b[49m\u001b[43mmissing_values_in_feature_mask\u001b[49m\u001b[38;5;241;43m=\u001b[39;49m\u001b[43mmissing_values_in_feature_mask\u001b[49m\u001b[43m,\u001b[49m\n\u001b[0;32m    506\u001b[0m \u001b[43m    \u001b[49m\u001b[43m)\u001b[49m\n\u001b[0;32m    507\u001b[0m \u001b[43m    \u001b[49m\u001b[38;5;28;43;01mfor\u001b[39;49;00m\u001b[43m \u001b[49m\u001b[43mi\u001b[49m\u001b[43m,\u001b[49m\u001b[43m \u001b[49m\u001b[43mt\u001b[49m\u001b[43m \u001b[49m\u001b[38;5;129;43;01min\u001b[39;49;00m\u001b[43m \u001b[49m\u001b[38;5;28;43menumerate\u001b[39;49m\u001b[43m(\u001b[49m\u001b[43mtrees\u001b[49m\u001b[43m)\u001b[49m\n\u001b[0;32m    508\u001b[0m \u001b[43m\u001b[49m\u001b[43m)\u001b[49m\n\u001b[0;32m    510\u001b[0m \u001b[38;5;66;03m# Collect newly grown trees\u001b[39;00m\n\u001b[0;32m    511\u001b[0m \u001b[38;5;28mself\u001b[39m\u001b[38;5;241m.\u001b[39mestimators_\u001b[38;5;241m.\u001b[39mextend(trees)\n",
      "File \u001b[1;32mc:\\Users\\Aleks\\Desktop\\Jup\\Cat_Model\\.venv\\Lib\\site-packages\\sklearn\\utils\\parallel.py:67\u001b[0m, in \u001b[0;36mParallel.__call__\u001b[1;34m(self, iterable)\u001b[0m\n\u001b[0;32m     62\u001b[0m config \u001b[38;5;241m=\u001b[39m get_config()\n\u001b[0;32m     63\u001b[0m iterable_with_config \u001b[38;5;241m=\u001b[39m (\n\u001b[0;32m     64\u001b[0m     (_with_config(delayed_func, config), args, kwargs)\n\u001b[0;32m     65\u001b[0m     \u001b[38;5;28;01mfor\u001b[39;00m delayed_func, args, kwargs \u001b[38;5;129;01min\u001b[39;00m iterable\n\u001b[0;32m     66\u001b[0m )\n\u001b[1;32m---> 67\u001b[0m \u001b[38;5;28;01mreturn\u001b[39;00m \u001b[38;5;28;43msuper\u001b[39;49m\u001b[43m(\u001b[49m\u001b[43m)\u001b[49m\u001b[38;5;241;43m.\u001b[39;49m\u001b[38;5;21;43m__call__\u001b[39;49m\u001b[43m(\u001b[49m\u001b[43miterable_with_config\u001b[49m\u001b[43m)\u001b[49m\n",
      "File \u001b[1;32mc:\\Users\\Aleks\\Desktop\\Jup\\Cat_Model\\.venv\\Lib\\site-packages\\joblib\\parallel.py:1918\u001b[0m, in \u001b[0;36mParallel.__call__\u001b[1;34m(self, iterable)\u001b[0m\n\u001b[0;32m   1916\u001b[0m     output \u001b[38;5;241m=\u001b[39m \u001b[38;5;28mself\u001b[39m\u001b[38;5;241m.\u001b[39m_get_sequential_output(iterable)\n\u001b[0;32m   1917\u001b[0m     \u001b[38;5;28mnext\u001b[39m(output)\n\u001b[1;32m-> 1918\u001b[0m     \u001b[38;5;28;01mreturn\u001b[39;00m output \u001b[38;5;28;01mif\u001b[39;00m \u001b[38;5;28mself\u001b[39m\u001b[38;5;241m.\u001b[39mreturn_generator \u001b[38;5;28;01melse\u001b[39;00m \u001b[38;5;28;43mlist\u001b[39;49m\u001b[43m(\u001b[49m\u001b[43moutput\u001b[49m\u001b[43m)\u001b[49m\n\u001b[0;32m   1920\u001b[0m \u001b[38;5;66;03m# Let's create an ID that uniquely identifies the current call. If the\u001b[39;00m\n\u001b[0;32m   1921\u001b[0m \u001b[38;5;66;03m# call is interrupted early and that the same instance is immediately\u001b[39;00m\n\u001b[0;32m   1922\u001b[0m \u001b[38;5;66;03m# re-used, this id will be used to prevent workers that were\u001b[39;00m\n\u001b[0;32m   1923\u001b[0m \u001b[38;5;66;03m# concurrently finalizing a task from the previous call to run the\u001b[39;00m\n\u001b[0;32m   1924\u001b[0m \u001b[38;5;66;03m# callback.\u001b[39;00m\n\u001b[0;32m   1925\u001b[0m \u001b[38;5;28;01mwith\u001b[39;00m \u001b[38;5;28mself\u001b[39m\u001b[38;5;241m.\u001b[39m_lock:\n",
      "File \u001b[1;32mc:\\Users\\Aleks\\Desktop\\Jup\\Cat_Model\\.venv\\Lib\\site-packages\\joblib\\parallel.py:1847\u001b[0m, in \u001b[0;36mParallel._get_sequential_output\u001b[1;34m(self, iterable)\u001b[0m\n\u001b[0;32m   1845\u001b[0m \u001b[38;5;28mself\u001b[39m\u001b[38;5;241m.\u001b[39mn_dispatched_batches \u001b[38;5;241m+\u001b[39m\u001b[38;5;241m=\u001b[39m \u001b[38;5;241m1\u001b[39m\n\u001b[0;32m   1846\u001b[0m \u001b[38;5;28mself\u001b[39m\u001b[38;5;241m.\u001b[39mn_dispatched_tasks \u001b[38;5;241m+\u001b[39m\u001b[38;5;241m=\u001b[39m \u001b[38;5;241m1\u001b[39m\n\u001b[1;32m-> 1847\u001b[0m res \u001b[38;5;241m=\u001b[39m \u001b[43mfunc\u001b[49m\u001b[43m(\u001b[49m\u001b[38;5;241;43m*\u001b[39;49m\u001b[43margs\u001b[49m\u001b[43m,\u001b[49m\u001b[43m \u001b[49m\u001b[38;5;241;43m*\u001b[39;49m\u001b[38;5;241;43m*\u001b[39;49m\u001b[43mkwargs\u001b[49m\u001b[43m)\u001b[49m\n\u001b[0;32m   1848\u001b[0m \u001b[38;5;28mself\u001b[39m\u001b[38;5;241m.\u001b[39mn_completed_tasks \u001b[38;5;241m+\u001b[39m\u001b[38;5;241m=\u001b[39m \u001b[38;5;241m1\u001b[39m\n\u001b[0;32m   1849\u001b[0m \u001b[38;5;28mself\u001b[39m\u001b[38;5;241m.\u001b[39mprint_progress()\n",
      "File \u001b[1;32mc:\\Users\\Aleks\\Desktop\\Jup\\Cat_Model\\.venv\\Lib\\site-packages\\sklearn\\utils\\parallel.py:129\u001b[0m, in \u001b[0;36m_FuncWrapper.__call__\u001b[1;34m(self, *args, **kwargs)\u001b[0m\n\u001b[0;32m    127\u001b[0m     config \u001b[38;5;241m=\u001b[39m {}\n\u001b[0;32m    128\u001b[0m \u001b[38;5;28;01mwith\u001b[39;00m config_context(\u001b[38;5;241m*\u001b[39m\u001b[38;5;241m*\u001b[39mconfig):\n\u001b[1;32m--> 129\u001b[0m     \u001b[38;5;28;01mreturn\u001b[39;00m \u001b[38;5;28;43mself\u001b[39;49m\u001b[38;5;241;43m.\u001b[39;49m\u001b[43mfunction\u001b[49m\u001b[43m(\u001b[49m\u001b[38;5;241;43m*\u001b[39;49m\u001b[43margs\u001b[49m\u001b[43m,\u001b[49m\u001b[43m \u001b[49m\u001b[38;5;241;43m*\u001b[39;49m\u001b[38;5;241;43m*\u001b[39;49m\u001b[43mkwargs\u001b[49m\u001b[43m)\u001b[49m\n",
      "File \u001b[1;32mc:\\Users\\Aleks\\Desktop\\Jup\\Cat_Model\\.venv\\Lib\\site-packages\\sklearn\\ensemble\\_forest.py:179\u001b[0m, in \u001b[0;36m_parallel_build_trees\u001b[1;34m(tree, bootstrap, X, y, sample_weight, tree_idx, n_trees, verbose, class_weight, n_samples_bootstrap, missing_values_in_feature_mask)\u001b[0m\n\u001b[0;32m    176\u001b[0m \u001b[38;5;28;01melse\u001b[39;00m:\n\u001b[0;32m    177\u001b[0m     curr_sample_weight \u001b[38;5;241m=\u001b[39m sample_weight\u001b[38;5;241m.\u001b[39mcopy()\n\u001b[1;32m--> 179\u001b[0m indices \u001b[38;5;241m=\u001b[39m \u001b[43m_generate_sample_indices\u001b[49m\u001b[43m(\u001b[49m\n\u001b[0;32m    180\u001b[0m \u001b[43m    \u001b[49m\u001b[43mtree\u001b[49m\u001b[38;5;241;43m.\u001b[39;49m\u001b[43mrandom_state\u001b[49m\u001b[43m,\u001b[49m\u001b[43m \u001b[49m\u001b[43mn_samples\u001b[49m\u001b[43m,\u001b[49m\u001b[43m \u001b[49m\u001b[43mn_samples_bootstrap\u001b[49m\n\u001b[0;32m    181\u001b[0m \u001b[43m\u001b[49m\u001b[43m)\u001b[49m\n\u001b[0;32m    182\u001b[0m sample_counts \u001b[38;5;241m=\u001b[39m np\u001b[38;5;241m.\u001b[39mbincount(indices, minlength\u001b[38;5;241m=\u001b[39mn_samples)\n\u001b[0;32m    183\u001b[0m curr_sample_weight \u001b[38;5;241m*\u001b[39m\u001b[38;5;241m=\u001b[39m sample_counts\n",
      "File \u001b[1;32mc:\\Users\\Aleks\\Desktop\\Jup\\Cat_Model\\.venv\\Lib\\site-packages\\sklearn\\ensemble\\_forest.py:133\u001b[0m, in \u001b[0;36m_generate_sample_indices\u001b[1;34m(random_state, n_samples, n_samples_bootstrap)\u001b[0m\n\u001b[0;32m    129\u001b[0m \u001b[38;5;250m\u001b[39m\u001b[38;5;124;03m\"\"\"\u001b[39;00m\n\u001b[0;32m    130\u001b[0m \u001b[38;5;124;03mPrivate function used to _parallel_build_trees function.\"\"\"\u001b[39;00m\n\u001b[0;32m    132\u001b[0m random_instance \u001b[38;5;241m=\u001b[39m check_random_state(random_state)\n\u001b[1;32m--> 133\u001b[0m sample_indices \u001b[38;5;241m=\u001b[39m \u001b[43mrandom_instance\u001b[49m\u001b[38;5;241;43m.\u001b[39;49m\u001b[43mrandint\u001b[49m\u001b[43m(\u001b[49m\n\u001b[0;32m    134\u001b[0m \u001b[43m    \u001b[49m\u001b[38;5;241;43m0\u001b[39;49m\u001b[43m,\u001b[49m\u001b[43m \u001b[49m\u001b[43mn_samples\u001b[49m\u001b[43m,\u001b[49m\u001b[43m \u001b[49m\u001b[43mn_samples_bootstrap\u001b[49m\u001b[43m,\u001b[49m\u001b[43m \u001b[49m\u001b[43mdtype\u001b[49m\u001b[38;5;241;43m=\u001b[39;49m\u001b[43mnp\u001b[49m\u001b[38;5;241;43m.\u001b[39;49m\u001b[43mint32\u001b[49m\n\u001b[0;32m    135\u001b[0m \u001b[43m\u001b[49m\u001b[43m)\u001b[49m\n\u001b[0;32m    137\u001b[0m \u001b[38;5;28;01mreturn\u001b[39;00m sample_indices\n",
      "\u001b[1;31mKeyboardInterrupt\u001b[0m: "
     ]
    }
   ],
   "source": [
    "\n",
    "def objective(trial):\n",
    "    # split data in training and test data\n",
    "    X_train, X_test, y_train, y_test = train_test_split(df_encoded[df_encoded_features], df_encoded[target],\n",
    "                                                        test_size=0.25,\n",
    "                                                        random_state=777)\n",
    "\n",
    "    # Instantiate scaler\n",
    "    scalers = trial.suggest_categorical(\"scalers\", ['minmax', 'standard', 'robust', 'maxabs', None])\n",
    "\n",
    "    if scalers == \"minmax\":\n",
    "        scaler = MinMaxScaler()\n",
    "    elif scalers == \"standard\":\n",
    "        scaler = StandardScaler()\n",
    "    elif scalers == 'maxabs':\n",
    "        scaler = MaxAbsScaler()\n",
    "    elif scalers == 'robust':\n",
    "        scaler = RobustScaler()\n",
    "    else:\n",
    "        scaler = None\n",
    "    \n",
    "\n",
    "    # Tune estimator algorithm\n",
    "    param = { \n",
    "        \"n_estimators\": trial.suggest_int('n_estimators', 10, 500),\n",
    "        \"criterion\": trial.suggest_categorical('criterion', \n",
    "                                               [\"squared_error\", \"absolute_error\", 'friedman_mse', 'poisson']),\n",
    "        \"max_depth\": trial.suggest_int('max_depth', 4, 20),\n",
    "        \"min_samples_split\": trial.suggest_int('min_samples_split', 2, 200),\n",
    "        \"min_samples_leaf\": trial.suggest_int('min_samples_leaf', 2, 200),\n",
    "        \"min_weight_fraction_leaf\": trial.suggest_float('min_weight_fraction_leaf', 0, 0.5),\n",
    "        'max_features': trial.suggest_categorical('max_features', ['sqrt', 'log2', None]),\n",
    "        \"max_leaf_nodes\": trial.suggest_int('max_leaf_nodes', 2, 200),\n",
    "        \"min_impurity_decrease\": trial.suggest_float('min_impurity_decrease', 0, 1)\n",
    "   } \n",
    "     \n",
    "    rfr = RandomForestRegressor(\n",
    "        random_state = 777,\n",
    "        **param)\n",
    "\n",
    "    # Make a pipeline\n",
    "    pipeline = make_pipeline(scaler, rfr)\n",
    "    pipeline.fit(X_train, y_train)\n",
    "\n",
    "\n",
    "    # Predict and estimate results\n",
    "    preds = pipeline.predict(X_test)\n",
    "    rmse = root_mean_squared_error(y_test, preds)\n",
    "\n",
    "    return rmse\n",
    "\n",
    "\n",
    "sampler = TPESampler(multivariate = True, group = True, seed = 777)\n",
    "study = optuna.create_study(study_name = \"RFR\", sampler = sampler)\n",
    "study.optimize(objective, n_trials = 150)\n",
    "trial = study.best_trial\n",
    "\n",
    "print(\"Number of finished trials: \", len(study.trials))\n",
    "print(\"Best trial:\", trial.number)\n",
    "print(\"  Value: \", trial.value)\n",
    "print(\"  Params: \")\n",
    "\n",
    "for key, value in trial.params.items():\n",
    "    print(\"    {}: {}\".format(key, value))"
   ]
  },
  {
   "cell_type": "code",
   "execution_count": 95,
   "metadata": {},
   "outputs": [
    {
     "data": {
      "application/vnd.plotly.v1+json": {
       "config": {
        "plotlyServerURL": "https://plot.ly"
       },
       "data": [
        {
         "mode": "markers",
         "name": "Objective Value",
         "type": "scatter",
         "x": [
          0,
          1,
          2,
          3,
          4,
          5,
          6,
          7,
          8,
          9,
          10,
          11,
          12,
          13,
          14,
          15,
          16,
          17,
          18,
          19,
          20,
          21,
          22,
          23,
          24,
          25,
          26,
          27,
          28,
          29,
          30,
          31,
          32,
          33,
          34,
          35,
          36,
          37,
          38,
          39,
          40,
          41,
          42,
          43,
          44,
          45,
          46,
          47,
          48,
          49,
          50,
          51,
          52,
          53,
          54,
          55,
          56,
          57,
          58,
          59,
          60,
          61,
          62,
          63,
          64,
          65,
          66,
          67,
          68,
          69,
          70,
          71,
          72,
          73,
          74,
          75,
          76,
          77,
          78,
          79,
          80,
          81,
          82,
          83,
          84,
          85,
          86,
          87,
          88,
          89,
          90,
          91,
          92,
          93,
          94,
          95,
          96,
          97,
          98,
          99,
          100,
          101,
          102,
          103,
          104,
          105,
          106,
          107,
          108,
          109,
          110,
          111,
          112,
          113,
          114,
          115,
          116,
          117,
          118,
          119,
          120,
          121,
          122,
          123,
          124,
          125,
          126,
          127,
          128,
          129,
          130,
          131,
          132,
          133,
          134,
          135,
          136,
          137,
          138,
          139,
          140,
          141,
          142,
          143,
          144,
          145,
          146,
          147,
          148,
          149
         ],
         "y": [
          0.24902898950160907,
          0.24771967553584848,
          0.24771955407524465,
          0.23042379355921316,
          0.24900968833577689,
          0.24771968325453295,
          0.2490147916045744,
          0.24771758991309142,
          0.24771895689077753,
          0.24771957656540158,
          0.22033797093809634,
          0.2076560588539184,
          0.2477215924491485,
          0.2188498806672818,
          0.2264454587090536,
          0.237894246709293,
          0.24772123082479638,
          0.24771749736125176,
          0.23049477438752258,
          0.20431099807331202,
          0.21179501765231945,
          0.20488917033576604,
          0.218707781966758,
          0.24900332587983312,
          0.19906755436646015,
          0.20145568109829934,
          0.20376274244138395,
          0.19666477958701062,
          0.2279658615521047,
          0.24772278341692267,
          0.22748553426202067,
          0.2153396305681635,
          0.20165101865734075,
          0.24772026223783727,
          0.24899597663675638,
          0.24901455056117622,
          0.19423884093163868,
          0.23500697223997405,
          0.24771601222363016,
          0.21669600817165313,
          0.20635337923724215,
          0.24772304193930184,
          0.24043036206572924,
          0.23238477014799866,
          0.24904098034371047,
          0.2290939612472946,
          0.24772144633269563,
          0.19213351678355928,
          0.2039633650102281,
          0.22876744336487562,
          0.1991380678342731,
          0.24909581785855575,
          0.2193742864723468,
          0.19577142754083965,
          0.24771841992796934,
          0.18870204780382774,
          0.22820140604989478,
          0.23444441925176257,
          0.24771911568581348,
          0.1968512412200587,
          0.19065273903227517,
          0.22708467447342434,
          0.23893199719081737,
          0.19165238470189389,
          0.24771709769549877,
          0.24771723473467075,
          0.19671594823698307,
          0.18143701359944112,
          0.197718101450893,
          0.19956434790105013,
          0.1929062963334277,
          0.18569615030166148,
          0.19723048343696203,
          0.18804001197046258,
          0.19824987519590995,
          0.19923070477729377,
          0.1993124353320737,
          0.24899239758499658,
          0.21637121040622867,
          0.19595271096286837,
          0.19630312161817096,
          0.2040312570674157,
          0.1826398334424724,
          0.2490322337820259,
          0.24900257697032033,
          0.24898992670609799,
          0.2489974395953014,
          0.19862488893315192,
          0.22918903848431635,
          0.18268553877584284,
          0.21931289905206744,
          0.1847148226835211,
          0.1867068814759961,
          0.19192789861270712,
          0.183057645069422,
          0.18309252279027702,
          0.1980078486011888,
          0.19822132583022542,
          0.24771734237659032,
          0.1973906320383897,
          0.24771410868476992,
          0.19234103863934296,
          0.24771731854949075,
          0.18992723299045824,
          0.19162207451813487,
          0.18694527165758731,
          0.24771929763155795,
          0.1865591641169639,
          0.22900364265206768,
          0.22052276425749587,
          0.18544305467556865,
          0.18270846471154112,
          0.22965579234323147,
          0.1839530285074803,
          0.18591425080209445,
          0.2489871390935828,
          0.24771697052354244,
          0.21902955707462493,
          0.18566070611703528,
          0.1885680717438486,
          0.19953876871920348,
          0.1861985696338734,
          0.1884672776008701,
          0.24772149616261102,
          0.22024554510861358,
          0.18562591700614303,
          0.19955521465177103,
          0.24908597578613964,
          0.23077950680322634,
          0.24908597578613964,
          0.18985426496903793,
          0.1995929056763985,
          0.19802257534363243,
          0.24772140777878524,
          0.24771030296341331,
          0.19196840417173147,
          0.18460886131643947,
          0.19701068857900927,
          0.24771674848597086,
          0.2162284618752436,
          0.18700922660487562,
          0.19957311447466483,
          0.24772191244673167,
          0.18270148590156451,
          0.1864977831144425,
          0.21699746174634257,
          0.1862395353926112,
          0.18697834526337342,
          0.18889139126106005,
          0.22645854520590972
         ]
        },
        {
         "mode": "lines",
         "name": "Best Value",
         "type": "scatter",
         "x": [
          0,
          1,
          2,
          3,
          4,
          5,
          6,
          7,
          8,
          9,
          10,
          11,
          12,
          13,
          14,
          15,
          16,
          17,
          18,
          19,
          20,
          21,
          22,
          23,
          24,
          25,
          26,
          27,
          28,
          29,
          30,
          31,
          32,
          33,
          34,
          35,
          36,
          37,
          38,
          39,
          40,
          41,
          42,
          43,
          44,
          45,
          46,
          47,
          48,
          49,
          50,
          51,
          52,
          53,
          54,
          55,
          56,
          57,
          58,
          59,
          60,
          61,
          62,
          63,
          64,
          65,
          66,
          67,
          68,
          69,
          70,
          71,
          72,
          73,
          74,
          75,
          76,
          77,
          78,
          79,
          80,
          81,
          82,
          83,
          84,
          85,
          86,
          87,
          88,
          89,
          90,
          91,
          92,
          93,
          94,
          95,
          96,
          97,
          98,
          99,
          100,
          101,
          102,
          103,
          104,
          105,
          106,
          107,
          108,
          109,
          110,
          111,
          112,
          113,
          114,
          115,
          116,
          117,
          118,
          119,
          120,
          121,
          122,
          123,
          124,
          125,
          126,
          127,
          128,
          129,
          130,
          131,
          132,
          133,
          134,
          135,
          136,
          137,
          138,
          139,
          140,
          141,
          142,
          143,
          144,
          145,
          146,
          147,
          148,
          149
         ],
         "y": [
          0.24902898950160907,
          0.24771967553584848,
          0.24771955407524465,
          0.23042379355921316,
          0.23042379355921316,
          0.23042379355921316,
          0.23042379355921316,
          0.23042379355921316,
          0.23042379355921316,
          0.23042379355921316,
          0.22033797093809634,
          0.2076560588539184,
          0.2076560588539184,
          0.2076560588539184,
          0.2076560588539184,
          0.2076560588539184,
          0.2076560588539184,
          0.2076560588539184,
          0.2076560588539184,
          0.20431099807331202,
          0.20431099807331202,
          0.20431099807331202,
          0.20431099807331202,
          0.20431099807331202,
          0.19906755436646015,
          0.19906755436646015,
          0.19906755436646015,
          0.19666477958701062,
          0.19666477958701062,
          0.19666477958701062,
          0.19666477958701062,
          0.19666477958701062,
          0.19666477958701062,
          0.19666477958701062,
          0.19666477958701062,
          0.19666477958701062,
          0.19423884093163868,
          0.19423884093163868,
          0.19423884093163868,
          0.19423884093163868,
          0.19423884093163868,
          0.19423884093163868,
          0.19423884093163868,
          0.19423884093163868,
          0.19423884093163868,
          0.19423884093163868,
          0.19423884093163868,
          0.19213351678355928,
          0.19213351678355928,
          0.19213351678355928,
          0.19213351678355928,
          0.19213351678355928,
          0.19213351678355928,
          0.19213351678355928,
          0.19213351678355928,
          0.18870204780382774,
          0.18870204780382774,
          0.18870204780382774,
          0.18870204780382774,
          0.18870204780382774,
          0.18870204780382774,
          0.18870204780382774,
          0.18870204780382774,
          0.18870204780382774,
          0.18870204780382774,
          0.18870204780382774,
          0.18870204780382774,
          0.18143701359944112,
          0.18143701359944112,
          0.18143701359944112,
          0.18143701359944112,
          0.18143701359944112,
          0.18143701359944112,
          0.18143701359944112,
          0.18143701359944112,
          0.18143701359944112,
          0.18143701359944112,
          0.18143701359944112,
          0.18143701359944112,
          0.18143701359944112,
          0.18143701359944112,
          0.18143701359944112,
          0.18143701359944112,
          0.18143701359944112,
          0.18143701359944112,
          0.18143701359944112,
          0.18143701359944112,
          0.18143701359944112,
          0.18143701359944112,
          0.18143701359944112,
          0.18143701359944112,
          0.18143701359944112,
          0.18143701359944112,
          0.18143701359944112,
          0.18143701359944112,
          0.18143701359944112,
          0.18143701359944112,
          0.18143701359944112,
          0.18143701359944112,
          0.18143701359944112,
          0.18143701359944112,
          0.18143701359944112,
          0.18143701359944112,
          0.18143701359944112,
          0.18143701359944112,
          0.18143701359944112,
          0.18143701359944112,
          0.18143701359944112,
          0.18143701359944112,
          0.18143701359944112,
          0.18143701359944112,
          0.18143701359944112,
          0.18143701359944112,
          0.18143701359944112,
          0.18143701359944112,
          0.18143701359944112,
          0.18143701359944112,
          0.18143701359944112,
          0.18143701359944112,
          0.18143701359944112,
          0.18143701359944112,
          0.18143701359944112,
          0.18143701359944112,
          0.18143701359944112,
          0.18143701359944112,
          0.18143701359944112,
          0.18143701359944112,
          0.18143701359944112,
          0.18143701359944112,
          0.18143701359944112,
          0.18143701359944112,
          0.18143701359944112,
          0.18143701359944112,
          0.18143701359944112,
          0.18143701359944112,
          0.18143701359944112,
          0.18143701359944112,
          0.18143701359944112,
          0.18143701359944112,
          0.18143701359944112,
          0.18143701359944112,
          0.18143701359944112,
          0.18143701359944112,
          0.18143701359944112,
          0.18143701359944112,
          0.18143701359944112,
          0.18143701359944112,
          0.18143701359944112,
          0.18143701359944112,
          0.18143701359944112
         ]
        },
        {
         "marker": {
          "color": "#cccccc"
         },
         "mode": "markers",
         "name": "Infeasible Trial",
         "showlegend": false,
         "type": "scatter",
         "x": [],
         "y": []
        }
       ],
       "layout": {
        "template": {
         "data": {
          "bar": [
           {
            "error_x": {
             "color": "#2a3f5f"
            },
            "error_y": {
             "color": "#2a3f5f"
            },
            "marker": {
             "line": {
              "color": "#E5ECF6",
              "width": 0.5
             },
             "pattern": {
              "fillmode": "overlay",
              "size": 10,
              "solidity": 0.2
             }
            },
            "type": "bar"
           }
          ],
          "barpolar": [
           {
            "marker": {
             "line": {
              "color": "#E5ECF6",
              "width": 0.5
             },
             "pattern": {
              "fillmode": "overlay",
              "size": 10,
              "solidity": 0.2
             }
            },
            "type": "barpolar"
           }
          ],
          "carpet": [
           {
            "aaxis": {
             "endlinecolor": "#2a3f5f",
             "gridcolor": "white",
             "linecolor": "white",
             "minorgridcolor": "white",
             "startlinecolor": "#2a3f5f"
            },
            "baxis": {
             "endlinecolor": "#2a3f5f",
             "gridcolor": "white",
             "linecolor": "white",
             "minorgridcolor": "white",
             "startlinecolor": "#2a3f5f"
            },
            "type": "carpet"
           }
          ],
          "choropleth": [
           {
            "colorbar": {
             "outlinewidth": 0,
             "ticks": ""
            },
            "type": "choropleth"
           }
          ],
          "contour": [
           {
            "colorbar": {
             "outlinewidth": 0,
             "ticks": ""
            },
            "colorscale": [
             [
              0,
              "#0d0887"
             ],
             [
              0.1111111111111111,
              "#46039f"
             ],
             [
              0.2222222222222222,
              "#7201a8"
             ],
             [
              0.3333333333333333,
              "#9c179e"
             ],
             [
              0.4444444444444444,
              "#bd3786"
             ],
             [
              0.5555555555555556,
              "#d8576b"
             ],
             [
              0.6666666666666666,
              "#ed7953"
             ],
             [
              0.7777777777777778,
              "#fb9f3a"
             ],
             [
              0.8888888888888888,
              "#fdca26"
             ],
             [
              1,
              "#f0f921"
             ]
            ],
            "type": "contour"
           }
          ],
          "contourcarpet": [
           {
            "colorbar": {
             "outlinewidth": 0,
             "ticks": ""
            },
            "type": "contourcarpet"
           }
          ],
          "heatmap": [
           {
            "colorbar": {
             "outlinewidth": 0,
             "ticks": ""
            },
            "colorscale": [
             [
              0,
              "#0d0887"
             ],
             [
              0.1111111111111111,
              "#46039f"
             ],
             [
              0.2222222222222222,
              "#7201a8"
             ],
             [
              0.3333333333333333,
              "#9c179e"
             ],
             [
              0.4444444444444444,
              "#bd3786"
             ],
             [
              0.5555555555555556,
              "#d8576b"
             ],
             [
              0.6666666666666666,
              "#ed7953"
             ],
             [
              0.7777777777777778,
              "#fb9f3a"
             ],
             [
              0.8888888888888888,
              "#fdca26"
             ],
             [
              1,
              "#f0f921"
             ]
            ],
            "type": "heatmap"
           }
          ],
          "heatmapgl": [
           {
            "colorbar": {
             "outlinewidth": 0,
             "ticks": ""
            },
            "colorscale": [
             [
              0,
              "#0d0887"
             ],
             [
              0.1111111111111111,
              "#46039f"
             ],
             [
              0.2222222222222222,
              "#7201a8"
             ],
             [
              0.3333333333333333,
              "#9c179e"
             ],
             [
              0.4444444444444444,
              "#bd3786"
             ],
             [
              0.5555555555555556,
              "#d8576b"
             ],
             [
              0.6666666666666666,
              "#ed7953"
             ],
             [
              0.7777777777777778,
              "#fb9f3a"
             ],
             [
              0.8888888888888888,
              "#fdca26"
             ],
             [
              1,
              "#f0f921"
             ]
            ],
            "type": "heatmapgl"
           }
          ],
          "histogram": [
           {
            "marker": {
             "pattern": {
              "fillmode": "overlay",
              "size": 10,
              "solidity": 0.2
             }
            },
            "type": "histogram"
           }
          ],
          "histogram2d": [
           {
            "colorbar": {
             "outlinewidth": 0,
             "ticks": ""
            },
            "colorscale": [
             [
              0,
              "#0d0887"
             ],
             [
              0.1111111111111111,
              "#46039f"
             ],
             [
              0.2222222222222222,
              "#7201a8"
             ],
             [
              0.3333333333333333,
              "#9c179e"
             ],
             [
              0.4444444444444444,
              "#bd3786"
             ],
             [
              0.5555555555555556,
              "#d8576b"
             ],
             [
              0.6666666666666666,
              "#ed7953"
             ],
             [
              0.7777777777777778,
              "#fb9f3a"
             ],
             [
              0.8888888888888888,
              "#fdca26"
             ],
             [
              1,
              "#f0f921"
             ]
            ],
            "type": "histogram2d"
           }
          ],
          "histogram2dcontour": [
           {
            "colorbar": {
             "outlinewidth": 0,
             "ticks": ""
            },
            "colorscale": [
             [
              0,
              "#0d0887"
             ],
             [
              0.1111111111111111,
              "#46039f"
             ],
             [
              0.2222222222222222,
              "#7201a8"
             ],
             [
              0.3333333333333333,
              "#9c179e"
             ],
             [
              0.4444444444444444,
              "#bd3786"
             ],
             [
              0.5555555555555556,
              "#d8576b"
             ],
             [
              0.6666666666666666,
              "#ed7953"
             ],
             [
              0.7777777777777778,
              "#fb9f3a"
             ],
             [
              0.8888888888888888,
              "#fdca26"
             ],
             [
              1,
              "#f0f921"
             ]
            ],
            "type": "histogram2dcontour"
           }
          ],
          "mesh3d": [
           {
            "colorbar": {
             "outlinewidth": 0,
             "ticks": ""
            },
            "type": "mesh3d"
           }
          ],
          "parcoords": [
           {
            "line": {
             "colorbar": {
              "outlinewidth": 0,
              "ticks": ""
             }
            },
            "type": "parcoords"
           }
          ],
          "pie": [
           {
            "automargin": true,
            "type": "pie"
           }
          ],
          "scatter": [
           {
            "fillpattern": {
             "fillmode": "overlay",
             "size": 10,
             "solidity": 0.2
            },
            "type": "scatter"
           }
          ],
          "scatter3d": [
           {
            "line": {
             "colorbar": {
              "outlinewidth": 0,
              "ticks": ""
             }
            },
            "marker": {
             "colorbar": {
              "outlinewidth": 0,
              "ticks": ""
             }
            },
            "type": "scatter3d"
           }
          ],
          "scattercarpet": [
           {
            "marker": {
             "colorbar": {
              "outlinewidth": 0,
              "ticks": ""
             }
            },
            "type": "scattercarpet"
           }
          ],
          "scattergeo": [
           {
            "marker": {
             "colorbar": {
              "outlinewidth": 0,
              "ticks": ""
             }
            },
            "type": "scattergeo"
           }
          ],
          "scattergl": [
           {
            "marker": {
             "colorbar": {
              "outlinewidth": 0,
              "ticks": ""
             }
            },
            "type": "scattergl"
           }
          ],
          "scattermapbox": [
           {
            "marker": {
             "colorbar": {
              "outlinewidth": 0,
              "ticks": ""
             }
            },
            "type": "scattermapbox"
           }
          ],
          "scatterpolar": [
           {
            "marker": {
             "colorbar": {
              "outlinewidth": 0,
              "ticks": ""
             }
            },
            "type": "scatterpolar"
           }
          ],
          "scatterpolargl": [
           {
            "marker": {
             "colorbar": {
              "outlinewidth": 0,
              "ticks": ""
             }
            },
            "type": "scatterpolargl"
           }
          ],
          "scatterternary": [
           {
            "marker": {
             "colorbar": {
              "outlinewidth": 0,
              "ticks": ""
             }
            },
            "type": "scatterternary"
           }
          ],
          "surface": [
           {
            "colorbar": {
             "outlinewidth": 0,
             "ticks": ""
            },
            "colorscale": [
             [
              0,
              "#0d0887"
             ],
             [
              0.1111111111111111,
              "#46039f"
             ],
             [
              0.2222222222222222,
              "#7201a8"
             ],
             [
              0.3333333333333333,
              "#9c179e"
             ],
             [
              0.4444444444444444,
              "#bd3786"
             ],
             [
              0.5555555555555556,
              "#d8576b"
             ],
             [
              0.6666666666666666,
              "#ed7953"
             ],
             [
              0.7777777777777778,
              "#fb9f3a"
             ],
             [
              0.8888888888888888,
              "#fdca26"
             ],
             [
              1,
              "#f0f921"
             ]
            ],
            "type": "surface"
           }
          ],
          "table": [
           {
            "cells": {
             "fill": {
              "color": "#EBF0F8"
             },
             "line": {
              "color": "white"
             }
            },
            "header": {
             "fill": {
              "color": "#C8D4E3"
             },
             "line": {
              "color": "white"
             }
            },
            "type": "table"
           }
          ]
         },
         "layout": {
          "annotationdefaults": {
           "arrowcolor": "#2a3f5f",
           "arrowhead": 0,
           "arrowwidth": 1
          },
          "autotypenumbers": "strict",
          "coloraxis": {
           "colorbar": {
            "outlinewidth": 0,
            "ticks": ""
           }
          },
          "colorscale": {
           "diverging": [
            [
             0,
             "#8e0152"
            ],
            [
             0.1,
             "#c51b7d"
            ],
            [
             0.2,
             "#de77ae"
            ],
            [
             0.3,
             "#f1b6da"
            ],
            [
             0.4,
             "#fde0ef"
            ],
            [
             0.5,
             "#f7f7f7"
            ],
            [
             0.6,
             "#e6f5d0"
            ],
            [
             0.7,
             "#b8e186"
            ],
            [
             0.8,
             "#7fbc41"
            ],
            [
             0.9,
             "#4d9221"
            ],
            [
             1,
             "#276419"
            ]
           ],
           "sequential": [
            [
             0,
             "#0d0887"
            ],
            [
             0.1111111111111111,
             "#46039f"
            ],
            [
             0.2222222222222222,
             "#7201a8"
            ],
            [
             0.3333333333333333,
             "#9c179e"
            ],
            [
             0.4444444444444444,
             "#bd3786"
            ],
            [
             0.5555555555555556,
             "#d8576b"
            ],
            [
             0.6666666666666666,
             "#ed7953"
            ],
            [
             0.7777777777777778,
             "#fb9f3a"
            ],
            [
             0.8888888888888888,
             "#fdca26"
            ],
            [
             1,
             "#f0f921"
            ]
           ],
           "sequentialminus": [
            [
             0,
             "#0d0887"
            ],
            [
             0.1111111111111111,
             "#46039f"
            ],
            [
             0.2222222222222222,
             "#7201a8"
            ],
            [
             0.3333333333333333,
             "#9c179e"
            ],
            [
             0.4444444444444444,
             "#bd3786"
            ],
            [
             0.5555555555555556,
             "#d8576b"
            ],
            [
             0.6666666666666666,
             "#ed7953"
            ],
            [
             0.7777777777777778,
             "#fb9f3a"
            ],
            [
             0.8888888888888888,
             "#fdca26"
            ],
            [
             1,
             "#f0f921"
            ]
           ]
          },
          "colorway": [
           "#636efa",
           "#EF553B",
           "#00cc96",
           "#ab63fa",
           "#FFA15A",
           "#19d3f3",
           "#FF6692",
           "#B6E880",
           "#FF97FF",
           "#FECB52"
          ],
          "font": {
           "color": "#2a3f5f"
          },
          "geo": {
           "bgcolor": "white",
           "lakecolor": "white",
           "landcolor": "#E5ECF6",
           "showlakes": true,
           "showland": true,
           "subunitcolor": "white"
          },
          "hoverlabel": {
           "align": "left"
          },
          "hovermode": "closest",
          "mapbox": {
           "style": "light"
          },
          "paper_bgcolor": "white",
          "plot_bgcolor": "#E5ECF6",
          "polar": {
           "angularaxis": {
            "gridcolor": "white",
            "linecolor": "white",
            "ticks": ""
           },
           "bgcolor": "#E5ECF6",
           "radialaxis": {
            "gridcolor": "white",
            "linecolor": "white",
            "ticks": ""
           }
          },
          "scene": {
           "xaxis": {
            "backgroundcolor": "#E5ECF6",
            "gridcolor": "white",
            "gridwidth": 2,
            "linecolor": "white",
            "showbackground": true,
            "ticks": "",
            "zerolinecolor": "white"
           },
           "yaxis": {
            "backgroundcolor": "#E5ECF6",
            "gridcolor": "white",
            "gridwidth": 2,
            "linecolor": "white",
            "showbackground": true,
            "ticks": "",
            "zerolinecolor": "white"
           },
           "zaxis": {
            "backgroundcolor": "#E5ECF6",
            "gridcolor": "white",
            "gridwidth": 2,
            "linecolor": "white",
            "showbackground": true,
            "ticks": "",
            "zerolinecolor": "white"
           }
          },
          "shapedefaults": {
           "line": {
            "color": "#2a3f5f"
           }
          },
          "ternary": {
           "aaxis": {
            "gridcolor": "white",
            "linecolor": "white",
            "ticks": ""
           },
           "baxis": {
            "gridcolor": "white",
            "linecolor": "white",
            "ticks": ""
           },
           "bgcolor": "#E5ECF6",
           "caxis": {
            "gridcolor": "white",
            "linecolor": "white",
            "ticks": ""
           }
          },
          "title": {
           "x": 0.05
          },
          "xaxis": {
           "automargin": true,
           "gridcolor": "white",
           "linecolor": "white",
           "ticks": "",
           "title": {
            "standoff": 15
           },
           "zerolinecolor": "white",
           "zerolinewidth": 2
          },
          "yaxis": {
           "automargin": true,
           "gridcolor": "white",
           "linecolor": "white",
           "ticks": "",
           "title": {
            "standoff": 15
           },
           "zerolinecolor": "white",
           "zerolinewidth": 2
          }
         }
        },
        "title": {
         "text": "Optimization History Plot"
        },
        "xaxis": {
         "title": {
          "text": "Trial"
         }
        },
        "yaxis": {
         "title": {
          "text": "Objective Value"
         }
        }
       }
      }
     },
     "metadata": {},
     "output_type": "display_data"
    }
   ],
   "source": [
    "# History of optimization\n",
    "\n",
    "optuna.visualization.plot_optimization_history(study)"
   ]
  },
  {
   "cell_type": "code",
   "execution_count": 96,
   "metadata": {},
   "outputs": [
    {
     "data": {
      "application/vnd.plotly.v1+json": {
       "config": {
        "plotlyServerURL": "https://plot.ly"
       },
       "data": [
        {
         "marker": {
          "color": [
           0,
           1,
           2,
           3,
           4,
           5,
           6,
           7,
           8,
           9,
           10,
           11,
           12,
           13,
           14,
           15,
           16,
           17,
           18,
           19,
           20,
           21,
           22,
           23,
           24,
           25,
           26,
           27,
           28,
           29,
           30,
           31,
           32,
           33,
           34,
           35,
           36,
           37,
           38,
           39,
           40,
           41,
           42,
           43,
           44,
           45,
           46,
           47,
           48,
           49,
           50,
           51,
           52,
           53,
           54,
           55,
           56,
           57,
           58,
           59,
           60,
           61,
           62,
           63,
           64,
           65,
           66,
           67,
           68,
           69,
           70,
           71,
           72,
           73,
           74,
           75,
           76,
           77,
           78,
           79,
           80,
           81,
           82,
           83,
           84,
           85,
           86,
           87,
           88,
           89,
           90,
           91,
           92,
           93,
           94,
           95,
           96,
           97,
           98,
           99,
           100,
           101,
           102,
           103,
           104,
           105,
           106,
           107,
           108,
           109,
           110,
           111,
           112,
           113,
           114,
           115,
           116,
           117,
           118,
           119,
           120,
           121,
           122,
           123,
           124,
           125,
           126,
           127,
           128,
           129,
           130,
           131,
           132,
           133,
           134,
           135,
           136,
           137,
           138,
           139,
           140,
           141,
           142,
           143,
           144,
           145,
           146,
           147,
           148,
           149
          ],
          "colorbar": {
           "title": {
            "text": "Trial"
           },
           "x": 1,
           "xpad": 40
          },
          "colorscale": [
           [
            0,
            "rgb(247,251,255)"
           ],
           [
            0.125,
            "rgb(222,235,247)"
           ],
           [
            0.25,
            "rgb(198,219,239)"
           ],
           [
            0.375,
            "rgb(158,202,225)"
           ],
           [
            0.5,
            "rgb(107,174,214)"
           ],
           [
            0.625,
            "rgb(66,146,198)"
           ],
           [
            0.75,
            "rgb(33,113,181)"
           ],
           [
            0.875,
            "rgb(8,81,156)"
           ],
           [
            1,
            "rgb(8,48,107)"
           ]
          ],
          "line": {
           "color": "Grey",
           "width": 0.5
          },
          "showscale": true
         },
         "mode": "markers",
         "name": "Feasible Trial",
         "showlegend": false,
         "type": "scatter",
         "x": [
          "absolute_error",
          "poisson",
          "squared_error",
          "friedman_mse",
          "absolute_error",
          "poisson",
          "absolute_error",
          "squared_error",
          "poisson",
          "poisson",
          "friedman_mse",
          "friedman_mse",
          "squared_error",
          "friedman_mse",
          "friedman_mse",
          "friedman_mse",
          "poisson",
          "squared_error",
          "friedman_mse",
          "friedman_mse",
          "friedman_mse",
          "friedman_mse",
          "friedman_mse",
          "absolute_error",
          "friedman_mse",
          "friedman_mse",
          "friedman_mse",
          "friedman_mse",
          "friedman_mse",
          "squared_error",
          "friedman_mse",
          "friedman_mse",
          "friedman_mse",
          "poisson",
          "absolute_error",
          "absolute_error",
          "friedman_mse",
          "friedman_mse",
          "poisson",
          "friedman_mse",
          "friedman_mse",
          "squared_error",
          "friedman_mse",
          "friedman_mse",
          "absolute_error",
          "friedman_mse",
          "poisson",
          "friedman_mse",
          "friedman_mse",
          "friedman_mse",
          "friedman_mse",
          "absolute_error",
          "friedman_mse",
          "friedman_mse",
          "poisson",
          "friedman_mse",
          "friedman_mse",
          "poisson",
          "squared_error",
          "friedman_mse",
          "friedman_mse",
          "friedman_mse",
          "friedman_mse",
          "friedman_mse",
          "squared_error",
          "poisson",
          "friedman_mse",
          "friedman_mse",
          "friedman_mse",
          "friedman_mse",
          "friedman_mse",
          "friedman_mse",
          "friedman_mse",
          "friedman_mse",
          "friedman_mse",
          "friedman_mse",
          "friedman_mse",
          "absolute_error",
          "friedman_mse",
          "friedman_mse",
          "friedman_mse",
          "friedman_mse",
          "friedman_mse",
          "absolute_error",
          "absolute_error",
          "absolute_error",
          "absolute_error",
          "friedman_mse",
          "friedman_mse",
          "friedman_mse",
          "friedman_mse",
          "friedman_mse",
          "friedman_mse",
          "friedman_mse",
          "friedman_mse",
          "friedman_mse",
          "friedman_mse",
          "friedman_mse",
          "poisson",
          "friedman_mse",
          "squared_error",
          "friedman_mse",
          "poisson",
          "friedman_mse",
          "friedman_mse",
          "friedman_mse",
          "poisson",
          "friedman_mse",
          "friedman_mse",
          "friedman_mse",
          "friedman_mse",
          "friedman_mse",
          "absolute_error",
          "friedman_mse",
          "friedman_mse",
          "absolute_error",
          "poisson",
          "friedman_mse",
          "friedman_mse",
          "friedman_mse",
          "friedman_mse",
          "friedman_mse",
          "friedman_mse",
          "poisson",
          "friedman_mse",
          "friedman_mse",
          "friedman_mse",
          "absolute_error",
          "friedman_mse",
          "absolute_error",
          "friedman_mse",
          "friedman_mse",
          "friedman_mse",
          "squared_error",
          "squared_error",
          "friedman_mse",
          "friedman_mse",
          "friedman_mse",
          "poisson",
          "friedman_mse",
          "friedman_mse",
          "friedman_mse",
          "poisson",
          "friedman_mse",
          "friedman_mse",
          "friedman_mse",
          "friedman_mse",
          "friedman_mse",
          "friedman_mse",
          "friedman_mse"
         ],
         "xaxis": "x",
         "y": [
          0.24902898950160907,
          0.24771967553584848,
          0.24771955407524465,
          0.23042379355921316,
          0.24900968833577689,
          0.24771968325453295,
          0.2490147916045744,
          0.24771758991309142,
          0.24771895689077753,
          0.24771957656540158,
          0.22033797093809634,
          0.2076560588539184,
          0.2477215924491485,
          0.2188498806672818,
          0.2264454587090536,
          0.237894246709293,
          0.24772123082479638,
          0.24771749736125176,
          0.23049477438752258,
          0.20431099807331202,
          0.21179501765231945,
          0.20488917033576604,
          0.218707781966758,
          0.24900332587983312,
          0.19906755436646015,
          0.20145568109829934,
          0.20376274244138395,
          0.19666477958701062,
          0.2279658615521047,
          0.24772278341692267,
          0.22748553426202067,
          0.2153396305681635,
          0.20165101865734075,
          0.24772026223783727,
          0.24899597663675638,
          0.24901455056117622,
          0.19423884093163868,
          0.23500697223997405,
          0.24771601222363016,
          0.21669600817165313,
          0.20635337923724215,
          0.24772304193930184,
          0.24043036206572924,
          0.23238477014799866,
          0.24904098034371047,
          0.2290939612472946,
          0.24772144633269563,
          0.19213351678355928,
          0.2039633650102281,
          0.22876744336487562,
          0.1991380678342731,
          0.24909581785855575,
          0.2193742864723468,
          0.19577142754083965,
          0.24771841992796934,
          0.18870204780382774,
          0.22820140604989478,
          0.23444441925176257,
          0.24771911568581348,
          0.1968512412200587,
          0.19065273903227517,
          0.22708467447342434,
          0.23893199719081737,
          0.19165238470189389,
          0.24771709769549877,
          0.24771723473467075,
          0.19671594823698307,
          0.18143701359944112,
          0.197718101450893,
          0.19956434790105013,
          0.1929062963334277,
          0.18569615030166148,
          0.19723048343696203,
          0.18804001197046258,
          0.19824987519590995,
          0.19923070477729377,
          0.1993124353320737,
          0.24899239758499658,
          0.21637121040622867,
          0.19595271096286837,
          0.19630312161817096,
          0.2040312570674157,
          0.1826398334424724,
          0.2490322337820259,
          0.24900257697032033,
          0.24898992670609799,
          0.2489974395953014,
          0.19862488893315192,
          0.22918903848431635,
          0.18268553877584284,
          0.21931289905206744,
          0.1847148226835211,
          0.1867068814759961,
          0.19192789861270712,
          0.183057645069422,
          0.18309252279027702,
          0.1980078486011888,
          0.19822132583022542,
          0.24771734237659032,
          0.1973906320383897,
          0.24771410868476992,
          0.19234103863934296,
          0.24771731854949075,
          0.18992723299045824,
          0.19162207451813487,
          0.18694527165758731,
          0.24771929763155795,
          0.1865591641169639,
          0.22900364265206768,
          0.22052276425749587,
          0.18544305467556865,
          0.18270846471154112,
          0.22965579234323147,
          0.1839530285074803,
          0.18591425080209445,
          0.2489871390935828,
          0.24771697052354244,
          0.21902955707462493,
          0.18566070611703528,
          0.1885680717438486,
          0.19953876871920348,
          0.1861985696338734,
          0.1884672776008701,
          0.24772149616261102,
          0.22024554510861358,
          0.18562591700614303,
          0.19955521465177103,
          0.24908597578613964,
          0.23077950680322634,
          0.24908597578613964,
          0.18985426496903793,
          0.1995929056763985,
          0.19802257534363243,
          0.24772140777878524,
          0.24771030296341331,
          0.19196840417173147,
          0.18460886131643947,
          0.19701068857900927,
          0.24771674848597086,
          0.2162284618752436,
          0.18700922660487562,
          0.19957311447466483,
          0.24772191244673167,
          0.18270148590156451,
          0.1864977831144425,
          0.21699746174634257,
          0.1862395353926112,
          0.18697834526337342,
          0.18889139126106005,
          0.22645854520590972
         ],
         "yaxis": "y"
        },
        {
         "marker": {
          "color": [
           0,
           1,
           2,
           3,
           4,
           5,
           6,
           7,
           8,
           9,
           10,
           11,
           12,
           13,
           14,
           15,
           16,
           17,
           18,
           19,
           20,
           21,
           22,
           23,
           24,
           25,
           26,
           27,
           28,
           29,
           30,
           31,
           32,
           33,
           34,
           35,
           36,
           37,
           38,
           39,
           40,
           41,
           42,
           43,
           44,
           45,
           46,
           47,
           48,
           49,
           50,
           51,
           52,
           53,
           54,
           55,
           56,
           57,
           58,
           59,
           60,
           61,
           62,
           63,
           64,
           65,
           66,
           67,
           68,
           69,
           70,
           71,
           72,
           73,
           74,
           75,
           76,
           77,
           78,
           79,
           80,
           81,
           82,
           83,
           84,
           85,
           86,
           87,
           88,
           89,
           90,
           91,
           92,
           93,
           94,
           95,
           96,
           97,
           98,
           99,
           100,
           101,
           102,
           103,
           104,
           105,
           106,
           107,
           108,
           109,
           110,
           111,
           112,
           113,
           114,
           115,
           116,
           117,
           118,
           119,
           120,
           121,
           122,
           123,
           124,
           125,
           126,
           127,
           128,
           129,
           130,
           131,
           132,
           133,
           134,
           135,
           136,
           137,
           138,
           139,
           140,
           141,
           142,
           143,
           144,
           145,
           146,
           147,
           148,
           149
          ],
          "colorbar": {
           "title": {
            "text": "Trial"
           },
           "x": 1,
           "xpad": 40
          },
          "colorscale": [
           [
            0,
            "rgb(247,251,255)"
           ],
           [
            0.125,
            "rgb(222,235,247)"
           ],
           [
            0.25,
            "rgb(198,219,239)"
           ],
           [
            0.375,
            "rgb(158,202,225)"
           ],
           [
            0.5,
            "rgb(107,174,214)"
           ],
           [
            0.625,
            "rgb(66,146,198)"
           ],
           [
            0.75,
            "rgb(33,113,181)"
           ],
           [
            0.875,
            "rgb(8,81,156)"
           ],
           [
            1,
            "rgb(8,48,107)"
           ]
          ],
          "line": {
           "color": "Grey",
           "width": 0.5
          },
          "showscale": false
         },
         "mode": "markers",
         "name": "Feasible Trial",
         "showlegend": false,
         "type": "scatter",
         "x": [
          8,
          19,
          16,
          9,
          9,
          17,
          10,
          17,
          10,
          6,
          9,
          10,
          8,
          12,
          17,
          14,
          10,
          15,
          18,
          15,
          11,
          11,
          17,
          15,
          11,
          10,
          7,
          10,
          11,
          13,
          9,
          8,
          6,
          7,
          8,
          5,
          10,
          9,
          10,
          11,
          7,
          11,
          5,
          8,
          6,
          12,
          8,
          14,
          14,
          17,
          7,
          8,
          4,
          7,
          10,
          8,
          4,
          12,
          8,
          16,
          17,
          19,
          18,
          10,
          8,
          12,
          11,
          9,
          5,
          12,
          10,
          7,
          10,
          5,
          5,
          5,
          5,
          8,
          7,
          5,
          7,
          13,
          9,
          9,
          17,
          14,
          9,
          9,
          9,
          9,
          14,
          7,
          6,
          10,
          9,
          11,
          8,
          9,
          6,
          4,
          11,
          12,
          5,
          9,
          9,
          7,
          6,
          16,
          14,
          16,
          10,
          17,
          13,
          19,
          19,
          20,
          19,
          20,
          19,
          17,
          17,
          19,
          20,
          20,
          17,
          6,
          20,
          4,
          5,
          11,
          6,
          10,
          17,
          8,
          16,
          19,
          10,
          11,
          4,
          19,
          14,
          19,
          4,
          9,
          10,
          5,
          12,
          7,
          4,
          6
         ],
         "xaxis": "x2",
         "y": [
          0.24902898950160907,
          0.24771967553584848,
          0.24771955407524465,
          0.23042379355921316,
          0.24900968833577689,
          0.24771968325453295,
          0.2490147916045744,
          0.24771758991309142,
          0.24771895689077753,
          0.24771957656540158,
          0.22033797093809634,
          0.2076560588539184,
          0.2477215924491485,
          0.2188498806672818,
          0.2264454587090536,
          0.237894246709293,
          0.24772123082479638,
          0.24771749736125176,
          0.23049477438752258,
          0.20431099807331202,
          0.21179501765231945,
          0.20488917033576604,
          0.218707781966758,
          0.24900332587983312,
          0.19906755436646015,
          0.20145568109829934,
          0.20376274244138395,
          0.19666477958701062,
          0.2279658615521047,
          0.24772278341692267,
          0.22748553426202067,
          0.2153396305681635,
          0.20165101865734075,
          0.24772026223783727,
          0.24899597663675638,
          0.24901455056117622,
          0.19423884093163868,
          0.23500697223997405,
          0.24771601222363016,
          0.21669600817165313,
          0.20635337923724215,
          0.24772304193930184,
          0.24043036206572924,
          0.23238477014799866,
          0.24904098034371047,
          0.2290939612472946,
          0.24772144633269563,
          0.19213351678355928,
          0.2039633650102281,
          0.22876744336487562,
          0.1991380678342731,
          0.24909581785855575,
          0.2193742864723468,
          0.19577142754083965,
          0.24771841992796934,
          0.18870204780382774,
          0.22820140604989478,
          0.23444441925176257,
          0.24771911568581348,
          0.1968512412200587,
          0.19065273903227517,
          0.22708467447342434,
          0.23893199719081737,
          0.19165238470189389,
          0.24771709769549877,
          0.24771723473467075,
          0.19671594823698307,
          0.18143701359944112,
          0.197718101450893,
          0.19956434790105013,
          0.1929062963334277,
          0.18569615030166148,
          0.19723048343696203,
          0.18804001197046258,
          0.19824987519590995,
          0.19923070477729377,
          0.1993124353320737,
          0.24899239758499658,
          0.21637121040622867,
          0.19595271096286837,
          0.19630312161817096,
          0.2040312570674157,
          0.1826398334424724,
          0.2490322337820259,
          0.24900257697032033,
          0.24898992670609799,
          0.2489974395953014,
          0.19862488893315192,
          0.22918903848431635,
          0.18268553877584284,
          0.21931289905206744,
          0.1847148226835211,
          0.1867068814759961,
          0.19192789861270712,
          0.183057645069422,
          0.18309252279027702,
          0.1980078486011888,
          0.19822132583022542,
          0.24771734237659032,
          0.1973906320383897,
          0.24771410868476992,
          0.19234103863934296,
          0.24771731854949075,
          0.18992723299045824,
          0.19162207451813487,
          0.18694527165758731,
          0.24771929763155795,
          0.1865591641169639,
          0.22900364265206768,
          0.22052276425749587,
          0.18544305467556865,
          0.18270846471154112,
          0.22965579234323147,
          0.1839530285074803,
          0.18591425080209445,
          0.2489871390935828,
          0.24771697052354244,
          0.21902955707462493,
          0.18566070611703528,
          0.1885680717438486,
          0.19953876871920348,
          0.1861985696338734,
          0.1884672776008701,
          0.24772149616261102,
          0.22024554510861358,
          0.18562591700614303,
          0.19955521465177103,
          0.24908597578613964,
          0.23077950680322634,
          0.24908597578613964,
          0.18985426496903793,
          0.1995929056763985,
          0.19802257534363243,
          0.24772140777878524,
          0.24771030296341331,
          0.19196840417173147,
          0.18460886131643947,
          0.19701068857900927,
          0.24771674848597086,
          0.2162284618752436,
          0.18700922660487562,
          0.19957311447466483,
          0.24772191244673167,
          0.18270148590156451,
          0.1864977831144425,
          0.21699746174634257,
          0.1862395353926112,
          0.18697834526337342,
          0.18889139126106005,
          0.22645854520590972
         ],
         "yaxis": "y2"
        },
        {
         "marker": {
          "color": [
           0,
           1,
           2,
           3,
           4,
           5,
           6,
           7,
           8,
           9,
           10,
           11,
           12,
           13,
           14,
           15,
           16,
           17,
           18,
           19,
           20,
           21,
           22,
           23,
           24,
           25,
           26,
           27,
           28,
           29,
           30,
           31,
           32,
           33,
           34,
           35,
           36,
           37,
           38,
           39,
           40,
           41,
           42,
           43,
           44,
           45,
           46,
           47,
           48,
           49,
           50,
           51,
           52,
           53,
           54,
           55,
           56,
           57,
           58,
           59,
           60,
           61,
           62,
           63,
           64,
           65,
           66,
           67,
           68,
           69,
           70,
           71,
           72,
           73,
           74,
           75,
           76,
           77,
           78,
           79,
           80,
           81,
           82,
           83,
           84,
           85,
           86,
           87,
           88,
           89,
           90,
           91,
           92,
           93,
           94,
           95,
           96,
           97,
           98,
           99,
           100,
           101,
           102,
           103,
           104,
           105,
           106,
           107,
           108,
           109,
           110,
           111,
           112,
           113,
           114,
           115,
           116,
           117,
           118,
           119,
           120,
           121,
           122,
           123,
           124,
           125,
           126,
           127,
           128,
           129,
           130,
           131,
           132,
           133,
           134,
           135,
           136,
           137,
           138,
           139,
           140,
           141,
           142,
           143,
           144,
           145,
           146,
           147,
           148,
           149
          ],
          "colorbar": {
           "title": {
            "text": "Trial"
           },
           "x": 1,
           "xpad": 40
          },
          "colorscale": [
           [
            0,
            "rgb(247,251,255)"
           ],
           [
            0.125,
            "rgb(222,235,247)"
           ],
           [
            0.25,
            "rgb(198,219,239)"
           ],
           [
            0.375,
            "rgb(158,202,225)"
           ],
           [
            0.5,
            "rgb(107,174,214)"
           ],
           [
            0.625,
            "rgb(66,146,198)"
           ],
           [
            0.75,
            "rgb(33,113,181)"
           ],
           [
            0.875,
            "rgb(8,81,156)"
           ],
           [
            1,
            "rgb(8,48,107)"
           ]
          ],
          "line": {
           "color": "Grey",
           "width": 0.5
          },
          "showscale": false
         },
         "mode": "markers",
         "name": "Feasible Trial",
         "showlegend": false,
         "type": "scatter",
         "x": [
          null,
          "sqrt",
          "sqrt",
          null,
          "sqrt",
          "log2",
          "sqrt",
          "log2",
          null,
          "sqrt",
          null,
          null,
          "sqrt",
          null,
          null,
          "sqrt",
          null,
          null,
          null,
          "log2",
          "log2",
          "log2",
          null,
          "log2",
          "log2",
          "log2",
          "log2",
          "log2",
          "log2",
          "log2",
          "sqrt",
          "sqrt",
          "log2",
          "log2",
          "log2",
          "log2",
          "log2",
          "sqrt",
          "log2",
          "log2",
          "log2",
          "sqrt",
          "log2",
          "log2",
          "log2",
          "log2",
          "log2",
          "log2",
          "log2",
          "log2",
          "log2",
          "log2",
          "log2",
          "log2",
          null,
          "log2",
          "log2",
          "log2",
          "log2",
          null,
          null,
          null,
          "sqrt",
          null,
          null,
          null,
          null,
          null,
          null,
          null,
          "sqrt",
          null,
          "sqrt",
          null,
          null,
          "sqrt",
          null,
          null,
          null,
          null,
          "log2",
          "sqrt",
          null,
          null,
          "log2",
          null,
          null,
          null,
          "sqrt",
          null,
          null,
          null,
          null,
          null,
          null,
          null,
          null,
          null,
          null,
          null,
          null,
          null,
          null,
          null,
          null,
          null,
          null,
          null,
          "sqrt",
          null,
          null,
          null,
          null,
          null,
          null,
          null,
          null,
          null,
          null,
          null,
          null,
          null,
          null,
          null,
          null,
          null,
          null,
          null,
          null,
          null,
          null,
          null,
          null,
          null,
          null,
          "sqrt",
          null,
          null,
          null,
          "log2",
          null,
          null,
          "sqrt",
          null,
          null,
          "sqrt",
          null,
          null,
          null,
          null
         ],
         "xaxis": "x3",
         "y": [
          0.24902898950160907,
          0.24771967553584848,
          0.24771955407524465,
          0.23042379355921316,
          0.24900968833577689,
          0.24771968325453295,
          0.2490147916045744,
          0.24771758991309142,
          0.24771895689077753,
          0.24771957656540158,
          0.22033797093809634,
          0.2076560588539184,
          0.2477215924491485,
          0.2188498806672818,
          0.2264454587090536,
          0.237894246709293,
          0.24772123082479638,
          0.24771749736125176,
          0.23049477438752258,
          0.20431099807331202,
          0.21179501765231945,
          0.20488917033576604,
          0.218707781966758,
          0.24900332587983312,
          0.19906755436646015,
          0.20145568109829934,
          0.20376274244138395,
          0.19666477958701062,
          0.2279658615521047,
          0.24772278341692267,
          0.22748553426202067,
          0.2153396305681635,
          0.20165101865734075,
          0.24772026223783727,
          0.24899597663675638,
          0.24901455056117622,
          0.19423884093163868,
          0.23500697223997405,
          0.24771601222363016,
          0.21669600817165313,
          0.20635337923724215,
          0.24772304193930184,
          0.24043036206572924,
          0.23238477014799866,
          0.24904098034371047,
          0.2290939612472946,
          0.24772144633269563,
          0.19213351678355928,
          0.2039633650102281,
          0.22876744336487562,
          0.1991380678342731,
          0.24909581785855575,
          0.2193742864723468,
          0.19577142754083965,
          0.24771841992796934,
          0.18870204780382774,
          0.22820140604989478,
          0.23444441925176257,
          0.24771911568581348,
          0.1968512412200587,
          0.19065273903227517,
          0.22708467447342434,
          0.23893199719081737,
          0.19165238470189389,
          0.24771709769549877,
          0.24771723473467075,
          0.19671594823698307,
          0.18143701359944112,
          0.197718101450893,
          0.19956434790105013,
          0.1929062963334277,
          0.18569615030166148,
          0.19723048343696203,
          0.18804001197046258,
          0.19824987519590995,
          0.19923070477729377,
          0.1993124353320737,
          0.24899239758499658,
          0.21637121040622867,
          0.19595271096286837,
          0.19630312161817096,
          0.2040312570674157,
          0.1826398334424724,
          0.2490322337820259,
          0.24900257697032033,
          0.24898992670609799,
          0.2489974395953014,
          0.19862488893315192,
          0.22918903848431635,
          0.18268553877584284,
          0.21931289905206744,
          0.1847148226835211,
          0.1867068814759961,
          0.19192789861270712,
          0.183057645069422,
          0.18309252279027702,
          0.1980078486011888,
          0.19822132583022542,
          0.24771734237659032,
          0.1973906320383897,
          0.24771410868476992,
          0.19234103863934296,
          0.24771731854949075,
          0.18992723299045824,
          0.19162207451813487,
          0.18694527165758731,
          0.24771929763155795,
          0.1865591641169639,
          0.22900364265206768,
          0.22052276425749587,
          0.18544305467556865,
          0.18270846471154112,
          0.22965579234323147,
          0.1839530285074803,
          0.18591425080209445,
          0.2489871390935828,
          0.24771697052354244,
          0.21902955707462493,
          0.18566070611703528,
          0.1885680717438486,
          0.19953876871920348,
          0.1861985696338734,
          0.1884672776008701,
          0.24772149616261102,
          0.22024554510861358,
          0.18562591700614303,
          0.19955521465177103,
          0.24908597578613964,
          0.23077950680322634,
          0.24908597578613964,
          0.18985426496903793,
          0.1995929056763985,
          0.19802257534363243,
          0.24772140777878524,
          0.24771030296341331,
          0.19196840417173147,
          0.18460886131643947,
          0.19701068857900927,
          0.24771674848597086,
          0.2162284618752436,
          0.18700922660487562,
          0.19957311447466483,
          0.24772191244673167,
          0.18270148590156451,
          0.1864977831144425,
          0.21699746174634257,
          0.1862395353926112,
          0.18697834526337342,
          0.18889139126106005,
          0.22645854520590972
         ],
         "yaxis": "y3"
        },
        {
         "marker": {
          "color": [
           0,
           1,
           2,
           3,
           4,
           5,
           6,
           7,
           8,
           9,
           10,
           11,
           12,
           13,
           14,
           15,
           16,
           17,
           18,
           19,
           20,
           21,
           22,
           23,
           24,
           25,
           26,
           27,
           28,
           29,
           30,
           31,
           32,
           33,
           34,
           35,
           36,
           37,
           38,
           39,
           40,
           41,
           42,
           43,
           44,
           45,
           46,
           47,
           48,
           49,
           50,
           51,
           52,
           53,
           54,
           55,
           56,
           57,
           58,
           59,
           60,
           61,
           62,
           63,
           64,
           65,
           66,
           67,
           68,
           69,
           70,
           71,
           72,
           73,
           74,
           75,
           76,
           77,
           78,
           79,
           80,
           81,
           82,
           83,
           84,
           85,
           86,
           87,
           88,
           89,
           90,
           91,
           92,
           93,
           94,
           95,
           96,
           97,
           98,
           99,
           100,
           101,
           102,
           103,
           104,
           105,
           106,
           107,
           108,
           109,
           110,
           111,
           112,
           113,
           114,
           115,
           116,
           117,
           118,
           119,
           120,
           121,
           122,
           123,
           124,
           125,
           126,
           127,
           128,
           129,
           130,
           131,
           132,
           133,
           134,
           135,
           136,
           137,
           138,
           139,
           140,
           141,
           142,
           143,
           144,
           145,
           146,
           147,
           148,
           149
          ],
          "colorbar": {
           "title": {
            "text": "Trial"
           },
           "x": 1,
           "xpad": 40
          },
          "colorscale": [
           [
            0,
            "rgb(247,251,255)"
           ],
           [
            0.125,
            "rgb(222,235,247)"
           ],
           [
            0.25,
            "rgb(198,219,239)"
           ],
           [
            0.375,
            "rgb(158,202,225)"
           ],
           [
            0.5,
            "rgb(107,174,214)"
           ],
           [
            0.625,
            "rgb(66,146,198)"
           ],
           [
            0.75,
            "rgb(33,113,181)"
           ],
           [
            0.875,
            "rgb(8,81,156)"
           ],
           [
            1,
            "rgb(8,48,107)"
           ]
          ],
          "line": {
           "color": "Grey",
           "width": 0.5
          },
          "showscale": false
         },
         "mode": "markers",
         "name": "Feasible Trial",
         "showlegend": false,
         "type": "scatter",
         "x": [
          126,
          105,
          159,
          168,
          81,
          185,
          81,
          17,
          58,
          106,
          129,
          125,
          102,
          126,
          187,
          78,
          113,
          22,
          139,
          77,
          58,
          40,
          59,
          73,
          102,
          42,
          32,
          118,
          153,
          139,
          98,
          28,
          23,
          20,
          19,
          20,
          168,
          134,
          154,
          174,
          164,
          182,
          2,
          74,
          99,
          127,
          101,
          109,
          100,
          149,
          151,
          168,
          189,
          98,
          88,
          96,
          79,
          100,
          176,
          178,
          194,
          161,
          184,
          136,
          87,
          165,
          115,
          117,
          197,
          131,
          116,
          53,
          132,
          23,
          8,
          102,
          70,
          65,
          2,
          88,
          58,
          137,
          147,
          126,
          142,
          185,
          188,
          129,
          132,
          54,
          92,
          151,
          126,
          135,
          72,
          21,
          91,
          54,
          25,
          147,
          84,
          20,
          160,
          145,
          108,
          63,
          74,
          44,
          8,
          5,
          46,
          53,
          47,
          58,
          61,
          45,
          53,
          137,
          64,
          113,
          59,
          111,
          154,
          101,
          105,
          155,
          9,
          150,
          158,
          56,
          155,
          60,
          131,
          173,
          11,
          64,
          16,
          22,
          38,
          21,
          80,
          52,
          156,
          90,
          78,
          124,
          14,
          83,
          124,
          6
         ],
         "xaxis": "x4",
         "y": [
          0.24902898950160907,
          0.24771967553584848,
          0.24771955407524465,
          0.23042379355921316,
          0.24900968833577689,
          0.24771968325453295,
          0.2490147916045744,
          0.24771758991309142,
          0.24771895689077753,
          0.24771957656540158,
          0.22033797093809634,
          0.2076560588539184,
          0.2477215924491485,
          0.2188498806672818,
          0.2264454587090536,
          0.237894246709293,
          0.24772123082479638,
          0.24771749736125176,
          0.23049477438752258,
          0.20431099807331202,
          0.21179501765231945,
          0.20488917033576604,
          0.218707781966758,
          0.24900332587983312,
          0.19906755436646015,
          0.20145568109829934,
          0.20376274244138395,
          0.19666477958701062,
          0.2279658615521047,
          0.24772278341692267,
          0.22748553426202067,
          0.2153396305681635,
          0.20165101865734075,
          0.24772026223783727,
          0.24899597663675638,
          0.24901455056117622,
          0.19423884093163868,
          0.23500697223997405,
          0.24771601222363016,
          0.21669600817165313,
          0.20635337923724215,
          0.24772304193930184,
          0.24043036206572924,
          0.23238477014799866,
          0.24904098034371047,
          0.2290939612472946,
          0.24772144633269563,
          0.19213351678355928,
          0.2039633650102281,
          0.22876744336487562,
          0.1991380678342731,
          0.24909581785855575,
          0.2193742864723468,
          0.19577142754083965,
          0.24771841992796934,
          0.18870204780382774,
          0.22820140604989478,
          0.23444441925176257,
          0.24771911568581348,
          0.1968512412200587,
          0.19065273903227517,
          0.22708467447342434,
          0.23893199719081737,
          0.19165238470189389,
          0.24771709769549877,
          0.24771723473467075,
          0.19671594823698307,
          0.18143701359944112,
          0.197718101450893,
          0.19956434790105013,
          0.1929062963334277,
          0.18569615030166148,
          0.19723048343696203,
          0.18804001197046258,
          0.19824987519590995,
          0.19923070477729377,
          0.1993124353320737,
          0.24899239758499658,
          0.21637121040622867,
          0.19595271096286837,
          0.19630312161817096,
          0.2040312570674157,
          0.1826398334424724,
          0.2490322337820259,
          0.24900257697032033,
          0.24898992670609799,
          0.2489974395953014,
          0.19862488893315192,
          0.22918903848431635,
          0.18268553877584284,
          0.21931289905206744,
          0.1847148226835211,
          0.1867068814759961,
          0.19192789861270712,
          0.183057645069422,
          0.18309252279027702,
          0.1980078486011888,
          0.19822132583022542,
          0.24771734237659032,
          0.1973906320383897,
          0.24771410868476992,
          0.19234103863934296,
          0.24771731854949075,
          0.18992723299045824,
          0.19162207451813487,
          0.18694527165758731,
          0.24771929763155795,
          0.1865591641169639,
          0.22900364265206768,
          0.22052276425749587,
          0.18544305467556865,
          0.18270846471154112,
          0.22965579234323147,
          0.1839530285074803,
          0.18591425080209445,
          0.2489871390935828,
          0.24771697052354244,
          0.21902955707462493,
          0.18566070611703528,
          0.1885680717438486,
          0.19953876871920348,
          0.1861985696338734,
          0.1884672776008701,
          0.24772149616261102,
          0.22024554510861358,
          0.18562591700614303,
          0.19955521465177103,
          0.24908597578613964,
          0.23077950680322634,
          0.24908597578613964,
          0.18985426496903793,
          0.1995929056763985,
          0.19802257534363243,
          0.24772140777878524,
          0.24771030296341331,
          0.19196840417173147,
          0.18460886131643947,
          0.19701068857900927,
          0.24771674848597086,
          0.2162284618752436,
          0.18700922660487562,
          0.19957311447466483,
          0.24772191244673167,
          0.18270148590156451,
          0.1864977831144425,
          0.21699746174634257,
          0.1862395353926112,
          0.18697834526337342,
          0.18889139126106005,
          0.22645854520590972
         ],
         "yaxis": "y4"
        },
        {
         "marker": {
          "color": [
           0,
           1,
           2,
           3,
           4,
           5,
           6,
           7,
           8,
           9,
           10,
           11,
           12,
           13,
           14,
           15,
           16,
           17,
           18,
           19,
           20,
           21,
           22,
           23,
           24,
           25,
           26,
           27,
           28,
           29,
           30,
           31,
           32,
           33,
           34,
           35,
           36,
           37,
           38,
           39,
           40,
           41,
           42,
           43,
           44,
           45,
           46,
           47,
           48,
           49,
           50,
           51,
           52,
           53,
           54,
           55,
           56,
           57,
           58,
           59,
           60,
           61,
           62,
           63,
           64,
           65,
           66,
           67,
           68,
           69,
           70,
           71,
           72,
           73,
           74,
           75,
           76,
           77,
           78,
           79,
           80,
           81,
           82,
           83,
           84,
           85,
           86,
           87,
           88,
           89,
           90,
           91,
           92,
           93,
           94,
           95,
           96,
           97,
           98,
           99,
           100,
           101,
           102,
           103,
           104,
           105,
           106,
           107,
           108,
           109,
           110,
           111,
           112,
           113,
           114,
           115,
           116,
           117,
           118,
           119,
           120,
           121,
           122,
           123,
           124,
           125,
           126,
           127,
           128,
           129,
           130,
           131,
           132,
           133,
           134,
           135,
           136,
           137,
           138,
           139,
           140,
           141,
           142,
           143,
           144,
           145,
           146,
           147,
           148,
           149
          ],
          "colorbar": {
           "title": {
            "text": "Trial"
           },
           "x": 1,
           "xpad": 40
          },
          "colorscale": [
           [
            0,
            "rgb(247,251,255)"
           ],
           [
            0.125,
            "rgb(222,235,247)"
           ],
           [
            0.25,
            "rgb(198,219,239)"
           ],
           [
            0.375,
            "rgb(158,202,225)"
           ],
           [
            0.5,
            "rgb(107,174,214)"
           ],
           [
            0.625,
            "rgb(66,146,198)"
           ],
           [
            0.75,
            "rgb(33,113,181)"
           ],
           [
            0.875,
            "rgb(8,81,156)"
           ],
           [
            1,
            "rgb(8,48,107)"
           ]
          ],
          "line": {
           "color": "Grey",
           "width": 0.5
          },
          "showscale": false
         },
         "mode": "markers",
         "name": "Feasible Trial",
         "showlegend": false,
         "type": "scatter",
         "x": [
          0.6817792797809532,
          0.6003749356628741,
          0.11524967823613708,
          0.42432198984522573,
          0.5181734550376841,
          0.7282073456329294,
          0.5219639454250469,
          0.34543636030043634,
          0.6529307268262483,
          0.004583737331058879,
          0.5760696940047443,
          0.5902491678745266,
          0.672780004226541,
          0.593821425426929,
          0.8861894388957097,
          0.8122460478483498,
          0.8968445042696236,
          0.5888953509238695,
          0.1497111708241592,
          0.6374445914810423,
          0.9120042350165668,
          0.9805326221298098,
          0.6144361003474642,
          0.5674522676262923,
          0.4915106587972521,
          0.478316909829268,
          0.3785995480351049,
          0.12624035063527905,
          0.21976350473075806,
          0.22490834386376551,
          0.25947829792173993,
          0.5426653452617403,
          0.3656225745782201,
          0.4533853355070485,
          0.2295418163846677,
          0.059497414610512334,
          0.10866296715565382,
          0.13844515037708965,
          0.40966629437841917,
          0.08403830334168988,
          0.07149497045973568,
          0.29277250424318085,
          0.34571616305519104,
          0.3400955602102773,
          0.08201909828399884,
          0.22286030423080222,
          0.7418139149504009,
          0.07398246050225468,
          0.0031128434065424426,
          0.42992325666173437,
          0.03890464137403796,
          0.06915060942477753,
          0.009715703275712403,
          0.053558046243134524,
          0.2218487898053665,
          0.09503229073840985,
          0.07821464522846772,
          0.0076597681915558935,
          0.1733657223479179,
          0.09491403751272556,
          0.06568775505217682,
          0.07205024546880702,
          0.04716763422542629,
          0.13788467093097573,
          0.14624783953641177,
          0.11978301583429218,
          0.4335360904249391,
          0.1706004539735825,
          0.07963760208999357,
          0.04183970310139315,
          0.19097062877555748,
          0.053663092021390024,
          0.26942020768445596,
          0.17038249168303246,
          0.3747716151753969,
          0.14784594639185117,
          0.011591494919944254,
          0.057023831941434684,
          0.08828148068252524,
          0.12993200722053633,
          0.03374472308087175,
          0.32323437471203764,
          0.1584067031907734,
          0.30228012629163514,
          0.14846003765556384,
          0.03444027019335226,
          0.2126591628061221,
          0.11512785501451828,
          0.038779822885437604,
          0.10592517908804763,
          0.4052425078847632,
          0.028906646934789143,
          0.02156971900790464,
          0.15256860322764562,
          0.04192752265086973,
          0.22353926284423659,
          0.20828913747807826,
          0.1514895632399026,
          0.12304467161735681,
          0.06301656433478946,
          0.3555631921738379,
          0.10480223893863674,
          0.024243932591786893,
          0.04202396018527045,
          0.0969708640235219,
          0.029871693493526134,
          0.15450994494307335,
          0.1384681254439172,
          0.2414474140402496,
          0.19116583301725262,
          0.010952074688567293,
          0.1767142062219931,
          0.02912867276008496,
          0.019394342301916223,
          0.19504330987239982,
          0.4459049906998994,
          0.1472350652875163,
          0.13765794769211728,
          0.17893969047649502,
          0.005633808904796445,
          0.18078252522974267,
          0.07806025256207924,
          0.23692214501829736,
          0.04187725285974856,
          0.22827559743778594,
          0.14373218704293186,
          0.1349902489471298,
          0.15740347323362652,
          0.26052855543033254,
          0.25791376249969333,
          0.1767842606916706,
          0.1521208415830448,
          0.057537244464000825,
          0.21700856852870903,
          0.14008454643044835,
          0.1073238658737577,
          0.05177246410122429,
          0.09062469815884636,
          0.06304489460709078,
          0.2955523410141046,
          0.06123479801325463,
          0.5414610568584582,
          0.11568185895448645,
          0.16022781641578102,
          0.10720003907109948,
          0.47863986181496154,
          0.2225227979017794,
          0.19612531800291846,
          0.22901128286818082,
          0.05610587087368391
         ],
         "xaxis": "x5",
         "y": [
          0.24902898950160907,
          0.24771967553584848,
          0.24771955407524465,
          0.23042379355921316,
          0.24900968833577689,
          0.24771968325453295,
          0.2490147916045744,
          0.24771758991309142,
          0.24771895689077753,
          0.24771957656540158,
          0.22033797093809634,
          0.2076560588539184,
          0.2477215924491485,
          0.2188498806672818,
          0.2264454587090536,
          0.237894246709293,
          0.24772123082479638,
          0.24771749736125176,
          0.23049477438752258,
          0.20431099807331202,
          0.21179501765231945,
          0.20488917033576604,
          0.218707781966758,
          0.24900332587983312,
          0.19906755436646015,
          0.20145568109829934,
          0.20376274244138395,
          0.19666477958701062,
          0.2279658615521047,
          0.24772278341692267,
          0.22748553426202067,
          0.2153396305681635,
          0.20165101865734075,
          0.24772026223783727,
          0.24899597663675638,
          0.24901455056117622,
          0.19423884093163868,
          0.23500697223997405,
          0.24771601222363016,
          0.21669600817165313,
          0.20635337923724215,
          0.24772304193930184,
          0.24043036206572924,
          0.23238477014799866,
          0.24904098034371047,
          0.2290939612472946,
          0.24772144633269563,
          0.19213351678355928,
          0.2039633650102281,
          0.22876744336487562,
          0.1991380678342731,
          0.24909581785855575,
          0.2193742864723468,
          0.19577142754083965,
          0.24771841992796934,
          0.18870204780382774,
          0.22820140604989478,
          0.23444441925176257,
          0.24771911568581348,
          0.1968512412200587,
          0.19065273903227517,
          0.22708467447342434,
          0.23893199719081737,
          0.19165238470189389,
          0.24771709769549877,
          0.24771723473467075,
          0.19671594823698307,
          0.18143701359944112,
          0.197718101450893,
          0.19956434790105013,
          0.1929062963334277,
          0.18569615030166148,
          0.19723048343696203,
          0.18804001197046258,
          0.19824987519590995,
          0.19923070477729377,
          0.1993124353320737,
          0.24899239758499658,
          0.21637121040622867,
          0.19595271096286837,
          0.19630312161817096,
          0.2040312570674157,
          0.1826398334424724,
          0.2490322337820259,
          0.24900257697032033,
          0.24898992670609799,
          0.2489974395953014,
          0.19862488893315192,
          0.22918903848431635,
          0.18268553877584284,
          0.21931289905206744,
          0.1847148226835211,
          0.1867068814759961,
          0.19192789861270712,
          0.183057645069422,
          0.18309252279027702,
          0.1980078486011888,
          0.19822132583022542,
          0.24771734237659032,
          0.1973906320383897,
          0.24771410868476992,
          0.19234103863934296,
          0.24771731854949075,
          0.18992723299045824,
          0.19162207451813487,
          0.18694527165758731,
          0.24771929763155795,
          0.1865591641169639,
          0.22900364265206768,
          0.22052276425749587,
          0.18544305467556865,
          0.18270846471154112,
          0.22965579234323147,
          0.1839530285074803,
          0.18591425080209445,
          0.2489871390935828,
          0.24771697052354244,
          0.21902955707462493,
          0.18566070611703528,
          0.1885680717438486,
          0.19953876871920348,
          0.1861985696338734,
          0.1884672776008701,
          0.24772149616261102,
          0.22024554510861358,
          0.18562591700614303,
          0.19955521465177103,
          0.24908597578613964,
          0.23077950680322634,
          0.24908597578613964,
          0.18985426496903793,
          0.1995929056763985,
          0.19802257534363243,
          0.24772140777878524,
          0.24771030296341331,
          0.19196840417173147,
          0.18460886131643947,
          0.19701068857900927,
          0.24771674848597086,
          0.2162284618752436,
          0.18700922660487562,
          0.19957311447466483,
          0.24772191244673167,
          0.18270148590156451,
          0.1864977831144425,
          0.21699746174634257,
          0.1862395353926112,
          0.18697834526337342,
          0.18889139126106005,
          0.22645854520590972
         ],
         "yaxis": "y5"
        },
        {
         "marker": {
          "color": [
           0,
           1,
           2,
           3,
           4,
           5,
           6,
           7,
           8,
           9,
           10,
           11,
           12,
           13,
           14,
           15,
           16,
           17,
           18,
           19,
           20,
           21,
           22,
           23,
           24,
           25,
           26,
           27,
           28,
           29,
           30,
           31,
           32,
           33,
           34,
           35,
           36,
           37,
           38,
           39,
           40,
           41,
           42,
           43,
           44,
           45,
           46,
           47,
           48,
           49,
           50,
           51,
           52,
           53,
           54,
           55,
           56,
           57,
           58,
           59,
           60,
           61,
           62,
           63,
           64,
           65,
           66,
           67,
           68,
           69,
           70,
           71,
           72,
           73,
           74,
           75,
           76,
           77,
           78,
           79,
           80,
           81,
           82,
           83,
           84,
           85,
           86,
           87,
           88,
           89,
           90,
           91,
           92,
           93,
           94,
           95,
           96,
           97,
           98,
           99,
           100,
           101,
           102,
           103,
           104,
           105,
           106,
           107,
           108,
           109,
           110,
           111,
           112,
           113,
           114,
           115,
           116,
           117,
           118,
           119,
           120,
           121,
           122,
           123,
           124,
           125,
           126,
           127,
           128,
           129,
           130,
           131,
           132,
           133,
           134,
           135,
           136,
           137,
           138,
           139,
           140,
           141,
           142,
           143,
           144,
           145,
           146,
           147,
           148,
           149
          ],
          "colorbar": {
           "title": {
            "text": "Trial"
           },
           "x": 1,
           "xpad": 40
          },
          "colorscale": [
           [
            0,
            "rgb(247,251,255)"
           ],
           [
            0.125,
            "rgb(222,235,247)"
           ],
           [
            0.25,
            "rgb(198,219,239)"
           ],
           [
            0.375,
            "rgb(158,202,225)"
           ],
           [
            0.5,
            "rgb(107,174,214)"
           ],
           [
            0.625,
            "rgb(66,146,198)"
           ],
           [
            0.75,
            "rgb(33,113,181)"
           ],
           [
            0.875,
            "rgb(8,81,156)"
           ],
           [
            1,
            "rgb(8,48,107)"
           ]
          ],
          "line": {
           "color": "Grey",
           "width": 0.5
          },
          "showscale": false
         },
         "mode": "markers",
         "name": "Feasible Trial",
         "showlegend": false,
         "type": "scatter",
         "x": [
          20,
          52,
          155,
          67,
          162,
          194,
          61,
          178,
          148,
          28,
          26,
          17,
          33,
          12,
          58,
          25,
          11,
          24,
          13,
          64,
          133,
          148,
          101,
          79,
          40,
          82,
          61,
          12,
          8,
          29,
          65,
          61,
          114,
          86,
          125,
          146,
          95,
          68,
          75,
          167,
          119,
          115,
          86,
          176,
          19,
          60,
          134,
          41,
          22,
          73,
          37,
          95,
          46,
          21,
          25,
          38,
          33,
          14,
          85,
          108,
          131,
          150,
          99,
          91,
          128,
          54,
          133,
          47,
          40,
          35,
          77,
          87,
          101,
          81,
          90,
          42,
          59,
          94,
          139,
          83,
          92,
          117,
          102,
          107,
          7,
          103,
          128,
          30,
          82,
          103,
          95,
          122,
          180,
          184,
          111,
          110,
          168,
          47,
          100,
          166,
          146,
          130,
          179,
          88,
          72,
          122,
          168,
          124,
          166,
          98,
          129,
          105,
          132,
          124,
          152,
          138,
          69,
          64,
          159,
          115,
          124,
          179,
          169,
          164,
          188,
          108,
          170,
          117,
          83,
          86,
          134,
          116,
          186,
          84,
          160,
          122,
          134,
          50,
          88,
          168,
          95,
          132,
          63,
          104,
          141,
          162,
          172,
          90,
          86,
          136
         ],
         "xaxis": "x6",
         "y": [
          0.24902898950160907,
          0.24771967553584848,
          0.24771955407524465,
          0.23042379355921316,
          0.24900968833577689,
          0.24771968325453295,
          0.2490147916045744,
          0.24771758991309142,
          0.24771895689077753,
          0.24771957656540158,
          0.22033797093809634,
          0.2076560588539184,
          0.2477215924491485,
          0.2188498806672818,
          0.2264454587090536,
          0.237894246709293,
          0.24772123082479638,
          0.24771749736125176,
          0.23049477438752258,
          0.20431099807331202,
          0.21179501765231945,
          0.20488917033576604,
          0.218707781966758,
          0.24900332587983312,
          0.19906755436646015,
          0.20145568109829934,
          0.20376274244138395,
          0.19666477958701062,
          0.2279658615521047,
          0.24772278341692267,
          0.22748553426202067,
          0.2153396305681635,
          0.20165101865734075,
          0.24772026223783727,
          0.24899597663675638,
          0.24901455056117622,
          0.19423884093163868,
          0.23500697223997405,
          0.24771601222363016,
          0.21669600817165313,
          0.20635337923724215,
          0.24772304193930184,
          0.24043036206572924,
          0.23238477014799866,
          0.24904098034371047,
          0.2290939612472946,
          0.24772144633269563,
          0.19213351678355928,
          0.2039633650102281,
          0.22876744336487562,
          0.1991380678342731,
          0.24909581785855575,
          0.2193742864723468,
          0.19577142754083965,
          0.24771841992796934,
          0.18870204780382774,
          0.22820140604989478,
          0.23444441925176257,
          0.24771911568581348,
          0.1968512412200587,
          0.19065273903227517,
          0.22708467447342434,
          0.23893199719081737,
          0.19165238470189389,
          0.24771709769549877,
          0.24771723473467075,
          0.19671594823698307,
          0.18143701359944112,
          0.197718101450893,
          0.19956434790105013,
          0.1929062963334277,
          0.18569615030166148,
          0.19723048343696203,
          0.18804001197046258,
          0.19824987519590995,
          0.19923070477729377,
          0.1993124353320737,
          0.24899239758499658,
          0.21637121040622867,
          0.19595271096286837,
          0.19630312161817096,
          0.2040312570674157,
          0.1826398334424724,
          0.2490322337820259,
          0.24900257697032033,
          0.24898992670609799,
          0.2489974395953014,
          0.19862488893315192,
          0.22918903848431635,
          0.18268553877584284,
          0.21931289905206744,
          0.1847148226835211,
          0.1867068814759961,
          0.19192789861270712,
          0.183057645069422,
          0.18309252279027702,
          0.1980078486011888,
          0.19822132583022542,
          0.24771734237659032,
          0.1973906320383897,
          0.24771410868476992,
          0.19234103863934296,
          0.24771731854949075,
          0.18992723299045824,
          0.19162207451813487,
          0.18694527165758731,
          0.24771929763155795,
          0.1865591641169639,
          0.22900364265206768,
          0.22052276425749587,
          0.18544305467556865,
          0.18270846471154112,
          0.22965579234323147,
          0.1839530285074803,
          0.18591425080209445,
          0.2489871390935828,
          0.24771697052354244,
          0.21902955707462493,
          0.18566070611703528,
          0.1885680717438486,
          0.19953876871920348,
          0.1861985696338734,
          0.1884672776008701,
          0.24772149616261102,
          0.22024554510861358,
          0.18562591700614303,
          0.19955521465177103,
          0.24908597578613964,
          0.23077950680322634,
          0.24908597578613964,
          0.18985426496903793,
          0.1995929056763985,
          0.19802257534363243,
          0.24772140777878524,
          0.24771030296341331,
          0.19196840417173147,
          0.18460886131643947,
          0.19701068857900927,
          0.24771674848597086,
          0.2162284618752436,
          0.18700922660487562,
          0.19957311447466483,
          0.24772191244673167,
          0.18270148590156451,
          0.1864977831144425,
          0.21699746174634257,
          0.1862395353926112,
          0.18697834526337342,
          0.18889139126106005,
          0.22645854520590972
         ],
         "yaxis": "y6"
        },
        {
         "marker": {
          "color": [
           0,
           1,
           2,
           3,
           4,
           5,
           6,
           7,
           8,
           9,
           10,
           11,
           12,
           13,
           14,
           15,
           16,
           17,
           18,
           19,
           20,
           21,
           22,
           23,
           24,
           25,
           26,
           27,
           28,
           29,
           30,
           31,
           32,
           33,
           34,
           35,
           36,
           37,
           38,
           39,
           40,
           41,
           42,
           43,
           44,
           45,
           46,
           47,
           48,
           49,
           50,
           51,
           52,
           53,
           54,
           55,
           56,
           57,
           58,
           59,
           60,
           61,
           62,
           63,
           64,
           65,
           66,
           67,
           68,
           69,
           70,
           71,
           72,
           73,
           74,
           75,
           76,
           77,
           78,
           79,
           80,
           81,
           82,
           83,
           84,
           85,
           86,
           87,
           88,
           89,
           90,
           91,
           92,
           93,
           94,
           95,
           96,
           97,
           98,
           99,
           100,
           101,
           102,
           103,
           104,
           105,
           106,
           107,
           108,
           109,
           110,
           111,
           112,
           113,
           114,
           115,
           116,
           117,
           118,
           119,
           120,
           121,
           122,
           123,
           124,
           125,
           126,
           127,
           128,
           129,
           130,
           131,
           132,
           133,
           134,
           135,
           136,
           137,
           138,
           139,
           140,
           141,
           142,
           143,
           144,
           145,
           146,
           147,
           148,
           149
          ],
          "colorbar": {
           "title": {
            "text": "Trial"
           },
           "x": 1,
           "xpad": 40
          },
          "colorscale": [
           [
            0,
            "rgb(247,251,255)"
           ],
           [
            0.125,
            "rgb(222,235,247)"
           ],
           [
            0.25,
            "rgb(198,219,239)"
           ],
           [
            0.375,
            "rgb(158,202,225)"
           ],
           [
            0.5,
            "rgb(107,174,214)"
           ],
           [
            0.625,
            "rgb(66,146,198)"
           ],
           [
            0.75,
            "rgb(33,113,181)"
           ],
           [
            0.875,
            "rgb(8,81,156)"
           ],
           [
            1,
            "rgb(8,48,107)"
           ]
          ],
          "line": {
           "color": "Grey",
           "width": 0.5
          },
          "showscale": false
         },
         "mode": "markers",
         "name": "Feasible Trial",
         "showlegend": false,
         "type": "scatter",
         "x": [
          130,
          125,
          94,
          107,
          62,
          10,
          107,
          24,
          84,
          158,
          35,
          38,
          52,
          28,
          64,
          2,
          44,
          40,
          37,
          77,
          109,
          126,
          61,
          121,
          83,
          12,
          57,
          105,
          121,
          119,
          169,
          19,
          107,
          131,
          35,
          156,
          62,
          68,
          58,
          103,
          61,
          123,
          104,
          97,
          151,
          14,
          10,
          125,
          81,
          164,
          117,
          120,
          138,
          78,
          71,
          98,
          57,
          142,
          29,
          45,
          41,
          22,
          90,
          58,
          71,
          44,
          86,
          111,
          92,
          158,
          115,
          143,
          161,
          109,
          145,
          105,
          73,
          182,
          104,
          183,
          135,
          2,
          84,
          28,
          128,
          33,
          95,
          100,
          93,
          169,
          163,
          53,
          86,
          68,
          163,
          183,
          159,
          172,
          187,
          84,
          118,
          197,
          89,
          38,
          39,
          198,
          60,
          181,
          199,
          123,
          109,
          165,
          94,
          178,
          180,
          193,
          190,
          169,
          174,
          125,
          168,
          195,
          183,
          167,
          191,
          101,
          177,
          142,
          69,
          173,
          100,
          56,
          184,
          91,
          191,
          172,
          128,
          148,
          119,
          138,
          198,
          171,
          67,
          143,
          133,
          59,
          92,
          168,
          119,
          102
         ],
         "xaxis": "x7",
         "y": [
          0.24902898950160907,
          0.24771967553584848,
          0.24771955407524465,
          0.23042379355921316,
          0.24900968833577689,
          0.24771968325453295,
          0.2490147916045744,
          0.24771758991309142,
          0.24771895689077753,
          0.24771957656540158,
          0.22033797093809634,
          0.2076560588539184,
          0.2477215924491485,
          0.2188498806672818,
          0.2264454587090536,
          0.237894246709293,
          0.24772123082479638,
          0.24771749736125176,
          0.23049477438752258,
          0.20431099807331202,
          0.21179501765231945,
          0.20488917033576604,
          0.218707781966758,
          0.24900332587983312,
          0.19906755436646015,
          0.20145568109829934,
          0.20376274244138395,
          0.19666477958701062,
          0.2279658615521047,
          0.24772278341692267,
          0.22748553426202067,
          0.2153396305681635,
          0.20165101865734075,
          0.24772026223783727,
          0.24899597663675638,
          0.24901455056117622,
          0.19423884093163868,
          0.23500697223997405,
          0.24771601222363016,
          0.21669600817165313,
          0.20635337923724215,
          0.24772304193930184,
          0.24043036206572924,
          0.23238477014799866,
          0.24904098034371047,
          0.2290939612472946,
          0.24772144633269563,
          0.19213351678355928,
          0.2039633650102281,
          0.22876744336487562,
          0.1991380678342731,
          0.24909581785855575,
          0.2193742864723468,
          0.19577142754083965,
          0.24771841992796934,
          0.18870204780382774,
          0.22820140604989478,
          0.23444441925176257,
          0.24771911568581348,
          0.1968512412200587,
          0.19065273903227517,
          0.22708467447342434,
          0.23893199719081737,
          0.19165238470189389,
          0.24771709769549877,
          0.24771723473467075,
          0.19671594823698307,
          0.18143701359944112,
          0.197718101450893,
          0.19956434790105013,
          0.1929062963334277,
          0.18569615030166148,
          0.19723048343696203,
          0.18804001197046258,
          0.19824987519590995,
          0.19923070477729377,
          0.1993124353320737,
          0.24899239758499658,
          0.21637121040622867,
          0.19595271096286837,
          0.19630312161817096,
          0.2040312570674157,
          0.1826398334424724,
          0.2490322337820259,
          0.24900257697032033,
          0.24898992670609799,
          0.2489974395953014,
          0.19862488893315192,
          0.22918903848431635,
          0.18268553877584284,
          0.21931289905206744,
          0.1847148226835211,
          0.1867068814759961,
          0.19192789861270712,
          0.183057645069422,
          0.18309252279027702,
          0.1980078486011888,
          0.19822132583022542,
          0.24771734237659032,
          0.1973906320383897,
          0.24771410868476992,
          0.19234103863934296,
          0.24771731854949075,
          0.18992723299045824,
          0.19162207451813487,
          0.18694527165758731,
          0.24771929763155795,
          0.1865591641169639,
          0.22900364265206768,
          0.22052276425749587,
          0.18544305467556865,
          0.18270846471154112,
          0.22965579234323147,
          0.1839530285074803,
          0.18591425080209445,
          0.2489871390935828,
          0.24771697052354244,
          0.21902955707462493,
          0.18566070611703528,
          0.1885680717438486,
          0.19953876871920348,
          0.1861985696338734,
          0.1884672776008701,
          0.24772149616261102,
          0.22024554510861358,
          0.18562591700614303,
          0.19955521465177103,
          0.24908597578613964,
          0.23077950680322634,
          0.24908597578613964,
          0.18985426496903793,
          0.1995929056763985,
          0.19802257534363243,
          0.24772140777878524,
          0.24771030296341331,
          0.19196840417173147,
          0.18460886131643947,
          0.19701068857900927,
          0.24771674848597086,
          0.2162284618752436,
          0.18700922660487562,
          0.19957311447466483,
          0.24772191244673167,
          0.18270148590156451,
          0.1864977831144425,
          0.21699746174634257,
          0.1862395353926112,
          0.18697834526337342,
          0.18889139126106005,
          0.22645854520590972
         ],
         "yaxis": "y7"
        },
        {
         "marker": {
          "color": [
           0,
           1,
           2,
           3,
           4,
           5,
           6,
           7,
           8,
           9,
           10,
           11,
           12,
           13,
           14,
           15,
           16,
           17,
           18,
           19,
           20,
           21,
           22,
           23,
           24,
           25,
           26,
           27,
           28,
           29,
           30,
           31,
           32,
           33,
           34,
           35,
           36,
           37,
           38,
           39,
           40,
           41,
           42,
           43,
           44,
           45,
           46,
           47,
           48,
           49,
           50,
           51,
           52,
           53,
           54,
           55,
           56,
           57,
           58,
           59,
           60,
           61,
           62,
           63,
           64,
           65,
           66,
           67,
           68,
           69,
           70,
           71,
           72,
           73,
           74,
           75,
           76,
           77,
           78,
           79,
           80,
           81,
           82,
           83,
           84,
           85,
           86,
           87,
           88,
           89,
           90,
           91,
           92,
           93,
           94,
           95,
           96,
           97,
           98,
           99,
           100,
           101,
           102,
           103,
           104,
           105,
           106,
           107,
           108,
           109,
           110,
           111,
           112,
           113,
           114,
           115,
           116,
           117,
           118,
           119,
           120,
           121,
           122,
           123,
           124,
           125,
           126,
           127,
           128,
           129,
           130,
           131,
           132,
           133,
           134,
           135,
           136,
           137,
           138,
           139,
           140,
           141,
           142,
           143,
           144,
           145,
           146,
           147,
           148,
           149
          ],
          "colorbar": {
           "title": {
            "text": "Trial"
           },
           "x": 1,
           "xpad": 40
          },
          "colorscale": [
           [
            0,
            "rgb(247,251,255)"
           ],
           [
            0.125,
            "rgb(222,235,247)"
           ],
           [
            0.25,
            "rgb(198,219,239)"
           ],
           [
            0.375,
            "rgb(158,202,225)"
           ],
           [
            0.5,
            "rgb(107,174,214)"
           ],
           [
            0.625,
            "rgb(66,146,198)"
           ],
           [
            0.75,
            "rgb(33,113,181)"
           ],
           [
            0.875,
            "rgb(8,81,156)"
           ],
           [
            1,
            "rgb(8,48,107)"
           ]
          ],
          "line": {
           "color": "Grey",
           "width": 0.5
          },
          "showscale": false
         },
         "mode": "markers",
         "name": "Feasible Trial",
         "showlegend": false,
         "type": "scatter",
         "x": [
          0.039842942805741466,
          0.08996515336406607,
          0.09581551551077683,
          0.22445777198643302,
          0.41880498383516296,
          0.48760622921426827,
          0.18714575253474253,
          0.05333795773632383,
          0.35327267300353205,
          0.3004301867209255,
          0.15582939748217503,
          0.09593041788545736,
          0.03571414739085596,
          0.10892703935092425,
          0.1687383404998262,
          0.20566958504987443,
          0.22053687522692295,
          0.2083325174413412,
          0.21026357650847882,
          0.0255974042011929,
          0.05363423915615417,
          0.014162778139415966,
          0.12629540967392977,
          0.023418081825805983,
          0.019604899649103304,
          0.02492925522035327,
          0.01858535290375412,
          0.02849474228732347,
          0.10982819128406916,
          0.05274998735758235,
          0.10451406968170646,
          0.07271824675616001,
          0.023747120506847963,
          0.010957574853760935,
          0.02940192215332091,
          0.12462233806766768,
          0.017387850359253693,
          0.16856970150173822,
          0.0455054838962223,
          0.09009580175383063,
          0.05337008168465053,
          0.005041461703910913,
          0.10804779605688601,
          0.14704666458334353,
          0.001030729948350094,
          0.1258557537674539,
          0.05752934766149312,
          0.01990612308471764,
          0.05584101825808048,
          0.11038116773488324,
          0.04023645708974434,
          0.1729221248702536,
          0.09385148415567487,
          0.03149458417826048,
          0.036875397569482146,
          0.007032875842330068,
          0.11300272470085804,
          0.05273353829179645,
          0.023312279645732716,
          0.060582609107389364,
          0.04247589579983166,
          0.17026752414506066,
          0.19203404084110676,
          0.04529008470077689,
          0.09661794058451614,
          0.18535941670471268,
          0.05904103381835842,
          0.007117711835130706,
          0.0678112048729861,
          0.08602181703001979,
          0.013210433514014469,
          0.02212497370825137,
          0.019487920165487428,
          0.025196822993644355,
          0.07631259548039236,
          0.0316979664462274,
          0.0905464230671597,
          0.03934480658643742,
          0.044147497460092194,
          0.05160068037277256,
          0.03285921570698843,
          0.04629522529226334,
          0.002957018219155866,
          0.12153836469687712,
          0.0649749161982557,
          0.00591511488569036,
          0.02487553840612972,
          0.07904274072341241,
          0.13255008862067802,
          0.004203456423308726,
          0.1296640413605828,
          0.0055878586432046165,
          0.015499611183747902,
          0.04571438384174196,
          0.01105037667980409,
          0.010422506047507721,
          0.07038215141043129,
          0.07418499516216474,
          0.025359039669867033,
          0.05406223040002546,
          0.03443975899233006,
          0.04647014730709892,
          0.021154736046044866,
          0.04059819944436458,
          0.0451846798515001,
          0.029632912821296313,
          0.12787842702379693,
          0.02696646041625504,
          0.12463451548084235,
          0.14532864540455467,
          0.020650479718323334,
          0.0021837166114118452,
          0.04922769348335228,
          0.01691430832598842,
          0.021983598905652685,
          0.03089957918319659,
          0.06378868267347698,
          0.1049315284682176,
          0.0129997618877474,
          0.035979845759708,
          0.08648381727067987,
          0.013822208914295336,
          0.03564992838753524,
          0.05893014649638239,
          0.10196646343590067,
          0.008057964412003973,
          0.08867515065363368,
          0.0637413957667616,
          0.21669237273207564,
          0.034860636515985484,
          0.040269390511638616,
          0.09307237593060391,
          0.07058621487412002,
          0.0633980759965303,
          0.028056144601166223,
          0.01603761902233525,
          0.008979296958463995,
          0.06150294292951622,
          0.04261546583796558,
          0.08509094899909951,
          0.029591854029484235,
          0.08363539967986713,
          0.012997844112192812,
          0.004236659088957363,
          0.026963122064681884,
          0.06337310552798947,
          0.015791498072026136,
          0.030181883573736534,
          0.003956528498777975,
          0.1671664821672149
         ],
         "xaxis": "x8",
         "y": [
          0.24902898950160907,
          0.24771967553584848,
          0.24771955407524465,
          0.23042379355921316,
          0.24900968833577689,
          0.24771968325453295,
          0.2490147916045744,
          0.24771758991309142,
          0.24771895689077753,
          0.24771957656540158,
          0.22033797093809634,
          0.2076560588539184,
          0.2477215924491485,
          0.2188498806672818,
          0.2264454587090536,
          0.237894246709293,
          0.24772123082479638,
          0.24771749736125176,
          0.23049477438752258,
          0.20431099807331202,
          0.21179501765231945,
          0.20488917033576604,
          0.218707781966758,
          0.24900332587983312,
          0.19906755436646015,
          0.20145568109829934,
          0.20376274244138395,
          0.19666477958701062,
          0.2279658615521047,
          0.24772278341692267,
          0.22748553426202067,
          0.2153396305681635,
          0.20165101865734075,
          0.24772026223783727,
          0.24899597663675638,
          0.24901455056117622,
          0.19423884093163868,
          0.23500697223997405,
          0.24771601222363016,
          0.21669600817165313,
          0.20635337923724215,
          0.24772304193930184,
          0.24043036206572924,
          0.23238477014799866,
          0.24904098034371047,
          0.2290939612472946,
          0.24772144633269563,
          0.19213351678355928,
          0.2039633650102281,
          0.22876744336487562,
          0.1991380678342731,
          0.24909581785855575,
          0.2193742864723468,
          0.19577142754083965,
          0.24771841992796934,
          0.18870204780382774,
          0.22820140604989478,
          0.23444441925176257,
          0.24771911568581348,
          0.1968512412200587,
          0.19065273903227517,
          0.22708467447342434,
          0.23893199719081737,
          0.19165238470189389,
          0.24771709769549877,
          0.24771723473467075,
          0.19671594823698307,
          0.18143701359944112,
          0.197718101450893,
          0.19956434790105013,
          0.1929062963334277,
          0.18569615030166148,
          0.19723048343696203,
          0.18804001197046258,
          0.19824987519590995,
          0.19923070477729377,
          0.1993124353320737,
          0.24899239758499658,
          0.21637121040622867,
          0.19595271096286837,
          0.19630312161817096,
          0.2040312570674157,
          0.1826398334424724,
          0.2490322337820259,
          0.24900257697032033,
          0.24898992670609799,
          0.2489974395953014,
          0.19862488893315192,
          0.22918903848431635,
          0.18268553877584284,
          0.21931289905206744,
          0.1847148226835211,
          0.1867068814759961,
          0.19192789861270712,
          0.183057645069422,
          0.18309252279027702,
          0.1980078486011888,
          0.19822132583022542,
          0.24771734237659032,
          0.1973906320383897,
          0.24771410868476992,
          0.19234103863934296,
          0.24771731854949075,
          0.18992723299045824,
          0.19162207451813487,
          0.18694527165758731,
          0.24771929763155795,
          0.1865591641169639,
          0.22900364265206768,
          0.22052276425749587,
          0.18544305467556865,
          0.18270846471154112,
          0.22965579234323147,
          0.1839530285074803,
          0.18591425080209445,
          0.2489871390935828,
          0.24771697052354244,
          0.21902955707462493,
          0.18566070611703528,
          0.1885680717438486,
          0.19953876871920348,
          0.1861985696338734,
          0.1884672776008701,
          0.24772149616261102,
          0.22024554510861358,
          0.18562591700614303,
          0.19955521465177103,
          0.24908597578613964,
          0.23077950680322634,
          0.24908597578613964,
          0.18985426496903793,
          0.1995929056763985,
          0.19802257534363243,
          0.24772140777878524,
          0.24771030296341331,
          0.19196840417173147,
          0.18460886131643947,
          0.19701068857900927,
          0.24771674848597086,
          0.2162284618752436,
          0.18700922660487562,
          0.19957311447466483,
          0.24772191244673167,
          0.18270148590156451,
          0.1864977831144425,
          0.21699746174634257,
          0.1862395353926112,
          0.18697834526337342,
          0.18889139126106005,
          0.22645854520590972
         ],
         "yaxis": "y8"
        },
        {
         "marker": {
          "color": [
           0,
           1,
           2,
           3,
           4,
           5,
           6,
           7,
           8,
           9,
           10,
           11,
           12,
           13,
           14,
           15,
           16,
           17,
           18,
           19,
           20,
           21,
           22,
           23,
           24,
           25,
           26,
           27,
           28,
           29,
           30,
           31,
           32,
           33,
           34,
           35,
           36,
           37,
           38,
           39,
           40,
           41,
           42,
           43,
           44,
           45,
           46,
           47,
           48,
           49,
           50,
           51,
           52,
           53,
           54,
           55,
           56,
           57,
           58,
           59,
           60,
           61,
           62,
           63,
           64,
           65,
           66,
           67,
           68,
           69,
           70,
           71,
           72,
           73,
           74,
           75,
           76,
           77,
           78,
           79,
           80,
           81,
           82,
           83,
           84,
           85,
           86,
           87,
           88,
           89,
           90,
           91,
           92,
           93,
           94,
           95,
           96,
           97,
           98,
           99,
           100,
           101,
           102,
           103,
           104,
           105,
           106,
           107,
           108,
           109,
           110,
           111,
           112,
           113,
           114,
           115,
           116,
           117,
           118,
           119,
           120,
           121,
           122,
           123,
           124,
           125,
           126,
           127,
           128,
           129,
           130,
           131,
           132,
           133,
           134,
           135,
           136,
           137,
           138,
           139,
           140,
           141,
           142,
           143,
           144,
           145,
           146,
           147,
           148,
           149
          ],
          "colorbar": {
           "title": {
            "text": "Trial"
           },
           "x": 1,
           "xpad": 40
          },
          "colorscale": [
           [
            0,
            "rgb(247,251,255)"
           ],
           [
            0.125,
            "rgb(222,235,247)"
           ],
           [
            0.25,
            "rgb(198,219,239)"
           ],
           [
            0.375,
            "rgb(158,202,225)"
           ],
           [
            0.5,
            "rgb(107,174,214)"
           ],
           [
            0.625,
            "rgb(66,146,198)"
           ],
           [
            0.75,
            "rgb(33,113,181)"
           ],
           [
            0.875,
            "rgb(8,81,156)"
           ],
           [
            1,
            "rgb(8,48,107)"
           ]
          ],
          "line": {
           "color": "Grey",
           "width": 0.5
          },
          "showscale": false
         },
         "mode": "markers",
         "name": "Feasible Trial",
         "showlegend": false,
         "type": "scatter",
         "x": [
          235,
          119,
          449,
          230,
          367,
          74,
          390,
          310,
          339,
          78,
          192,
          218,
          138,
          230,
          114,
          378,
          98,
          309,
          293,
          51,
          85,
          97,
          90,
          117,
          84,
          69,
          25,
          125,
          281,
          59,
          71,
          60,
          81,
          126,
          116,
          55,
          16,
          84,
          16,
          182,
          49,
          51,
          248,
          170,
          193,
          82,
          97,
          108,
          132,
          112,
          98,
          27,
          142,
          79,
          168,
          130,
          141,
          153,
          160,
          72,
          167,
          142,
          22,
          162,
          199,
          294,
          39,
          112,
          222,
          104,
          208,
          169,
          236,
          88,
          67,
          140,
          161,
          131,
          128,
          205,
          210,
          236,
          143,
          176,
          141,
          133,
          115,
          92,
          270,
          125,
          146,
          214,
          203,
          265,
          30,
          86,
          152,
          104,
          200,
          178,
          38,
          59,
          205,
          256,
          170,
          100,
          118,
          27,
          80,
          72,
          25,
          41,
          87,
          154,
          21,
          58,
          247,
          30,
          147,
          250,
          227,
          134,
          74,
          64,
          70,
          42,
          205,
          32,
          27,
          28,
          80,
          65,
          215,
          96,
          35,
          103,
          106,
          222,
          276,
          59,
          237,
          111,
          49,
          16,
          90,
          20,
          86,
          39,
          47,
          24
         ],
         "xaxis": "x9",
         "y": [
          0.24902898950160907,
          0.24771967553584848,
          0.24771955407524465,
          0.23042379355921316,
          0.24900968833577689,
          0.24771968325453295,
          0.2490147916045744,
          0.24771758991309142,
          0.24771895689077753,
          0.24771957656540158,
          0.22033797093809634,
          0.2076560588539184,
          0.2477215924491485,
          0.2188498806672818,
          0.2264454587090536,
          0.237894246709293,
          0.24772123082479638,
          0.24771749736125176,
          0.23049477438752258,
          0.20431099807331202,
          0.21179501765231945,
          0.20488917033576604,
          0.218707781966758,
          0.24900332587983312,
          0.19906755436646015,
          0.20145568109829934,
          0.20376274244138395,
          0.19666477958701062,
          0.2279658615521047,
          0.24772278341692267,
          0.22748553426202067,
          0.2153396305681635,
          0.20165101865734075,
          0.24772026223783727,
          0.24899597663675638,
          0.24901455056117622,
          0.19423884093163868,
          0.23500697223997405,
          0.24771601222363016,
          0.21669600817165313,
          0.20635337923724215,
          0.24772304193930184,
          0.24043036206572924,
          0.23238477014799866,
          0.24904098034371047,
          0.2290939612472946,
          0.24772144633269563,
          0.19213351678355928,
          0.2039633650102281,
          0.22876744336487562,
          0.1991380678342731,
          0.24909581785855575,
          0.2193742864723468,
          0.19577142754083965,
          0.24771841992796934,
          0.18870204780382774,
          0.22820140604989478,
          0.23444441925176257,
          0.24771911568581348,
          0.1968512412200587,
          0.19065273903227517,
          0.22708467447342434,
          0.23893199719081737,
          0.19165238470189389,
          0.24771709769549877,
          0.24771723473467075,
          0.19671594823698307,
          0.18143701359944112,
          0.197718101450893,
          0.19956434790105013,
          0.1929062963334277,
          0.18569615030166148,
          0.19723048343696203,
          0.18804001197046258,
          0.19824987519590995,
          0.19923070477729377,
          0.1993124353320737,
          0.24899239758499658,
          0.21637121040622867,
          0.19595271096286837,
          0.19630312161817096,
          0.2040312570674157,
          0.1826398334424724,
          0.2490322337820259,
          0.24900257697032033,
          0.24898992670609799,
          0.2489974395953014,
          0.19862488893315192,
          0.22918903848431635,
          0.18268553877584284,
          0.21931289905206744,
          0.1847148226835211,
          0.1867068814759961,
          0.19192789861270712,
          0.183057645069422,
          0.18309252279027702,
          0.1980078486011888,
          0.19822132583022542,
          0.24771734237659032,
          0.1973906320383897,
          0.24771410868476992,
          0.19234103863934296,
          0.24771731854949075,
          0.18992723299045824,
          0.19162207451813487,
          0.18694527165758731,
          0.24771929763155795,
          0.1865591641169639,
          0.22900364265206768,
          0.22052276425749587,
          0.18544305467556865,
          0.18270846471154112,
          0.22965579234323147,
          0.1839530285074803,
          0.18591425080209445,
          0.2489871390935828,
          0.24771697052354244,
          0.21902955707462493,
          0.18566070611703528,
          0.1885680717438486,
          0.19953876871920348,
          0.1861985696338734,
          0.1884672776008701,
          0.24772149616261102,
          0.22024554510861358,
          0.18562591700614303,
          0.19955521465177103,
          0.24908597578613964,
          0.23077950680322634,
          0.24908597578613964,
          0.18985426496903793,
          0.1995929056763985,
          0.19802257534363243,
          0.24772140777878524,
          0.24771030296341331,
          0.19196840417173147,
          0.18460886131643947,
          0.19701068857900927,
          0.24771674848597086,
          0.2162284618752436,
          0.18700922660487562,
          0.19957311447466483,
          0.24772191244673167,
          0.18270148590156451,
          0.1864977831144425,
          0.21699746174634257,
          0.1862395353926112,
          0.18697834526337342,
          0.18889139126106005,
          0.22645854520590972
         ],
         "yaxis": "y9"
        },
        {
         "marker": {
          "color": [
           0,
           1,
           2,
           3,
           4,
           5,
           6,
           7,
           8,
           9,
           10,
           11,
           12,
           13,
           14,
           15,
           16,
           17,
           18,
           19,
           20,
           21,
           22,
           23,
           24,
           25,
           26,
           27,
           28,
           29,
           30,
           31,
           32,
           33,
           34,
           35,
           36,
           37,
           38,
           39,
           40,
           41,
           42,
           43,
           44,
           45,
           46,
           47,
           48,
           49,
           50,
           51,
           52,
           53,
           54,
           55,
           56,
           57,
           58,
           59,
           60,
           61,
           62,
           63,
           64,
           65,
           66,
           67,
           68,
           69,
           70,
           71,
           72,
           73,
           74,
           75,
           76,
           77,
           78,
           79,
           80,
           81,
           82,
           83,
           84,
           85,
           86,
           87,
           88,
           89,
           90,
           91,
           92,
           93,
           94,
           95,
           96,
           97,
           98,
           99,
           100,
           101,
           102,
           103,
           104,
           105,
           106,
           107,
           108,
           109,
           110,
           111,
           112,
           113,
           114,
           115,
           116,
           117,
           118,
           119,
           120,
           121,
           122,
           123,
           124,
           125,
           126,
           127,
           128,
           129,
           130,
           131,
           132,
           133,
           134,
           135,
           136,
           137,
           138,
           139,
           140,
           141,
           142,
           143,
           144,
           145,
           146,
           147,
           148,
           149
          ],
          "colorbar": {
           "title": {
            "text": "Trial"
           },
           "x": 1,
           "xpad": 40
          },
          "colorscale": [
           [
            0,
            "rgb(247,251,255)"
           ],
           [
            0.125,
            "rgb(222,235,247)"
           ],
           [
            0.25,
            "rgb(198,219,239)"
           ],
           [
            0.375,
            "rgb(158,202,225)"
           ],
           [
            0.5,
            "rgb(107,174,214)"
           ],
           [
            0.625,
            "rgb(66,146,198)"
           ],
           [
            0.75,
            "rgb(33,113,181)"
           ],
           [
            0.875,
            "rgb(8,81,156)"
           ],
           [
            1,
            "rgb(8,48,107)"
           ]
          ],
          "line": {
           "color": "Grey",
           "width": 0.5
          },
          "showscale": false
         },
         "mode": "markers",
         "name": "Feasible Trial",
         "showlegend": false,
         "type": "scatter",
         "x": [
          "standard",
          "minmax",
          "minmax",
          "minmax",
          "minmax",
          "robust",
          "robust",
          "standard",
          "minmax",
          "minmax",
          "minmax",
          "minmax",
          "minmax",
          "robust",
          "robust",
          "robust",
          "robust",
          "minmax",
          "robust",
          "robust",
          "robust",
          "robust",
          "robust",
          "standard",
          "robust",
          "robust",
          "robust",
          "robust",
          "robust",
          "robust",
          "robust",
          "robust",
          "robust",
          "minmax",
          "standard",
          "robust",
          "minmax",
          "standard",
          "minmax",
          "minmax",
          "minmax",
          "minmax",
          "standard",
          "robust",
          "robust",
          "robust",
          "robust",
          "minmax",
          "minmax",
          "minmax",
          "robust",
          "robust",
          "robust",
          "robust",
          "robust",
          "robust",
          "robust",
          "minmax",
          "standard",
          "minmax",
          "minmax",
          "minmax",
          "minmax",
          "minmax",
          "minmax",
          "minmax",
          "minmax",
          "minmax",
          "minmax",
          "minmax",
          "minmax",
          "minmax",
          "minmax",
          "minmax",
          "minmax",
          "minmax",
          "minmax",
          "minmax",
          "minmax",
          "standard",
          "minmax",
          "minmax",
          "minmax",
          "standard",
          "standard",
          "robust",
          "minmax",
          "minmax",
          "robust",
          "robust",
          "robust",
          "standard",
          "standard",
          "standard",
          "robust",
          "robust",
          "robust",
          "robust",
          "robust",
          "standard",
          "robust",
          "standard",
          "minmax",
          "standard",
          "standard",
          "robust",
          "standard",
          "robust",
          "robust",
          "robust",
          "robust",
          "robust",
          "robust",
          "robust",
          "robust",
          "standard",
          "robust",
          "robust",
          "robust",
          "robust",
          "minmax",
          "robust",
          "robust",
          "robust",
          "standard",
          "robust",
          "robust",
          "robust",
          "robust",
          "robust",
          "robust",
          "robust",
          "robust",
          "robust",
          "minmax",
          "robust",
          "robust",
          "minmax",
          "minmax",
          "robust",
          "robust",
          "robust",
          "robust",
          "minmax",
          "minmax",
          "robust",
          "robust",
          "minmax",
          "robust",
          "robust"
         ],
         "xaxis": "x10",
         "y": [
          0.24902898950160907,
          0.24771967553584848,
          0.24771955407524465,
          0.23042379355921316,
          0.24900968833577689,
          0.24771968325453295,
          0.2490147916045744,
          0.24771758991309142,
          0.24771895689077753,
          0.24771957656540158,
          0.22033797093809634,
          0.2076560588539184,
          0.2477215924491485,
          0.2188498806672818,
          0.2264454587090536,
          0.237894246709293,
          0.24772123082479638,
          0.24771749736125176,
          0.23049477438752258,
          0.20431099807331202,
          0.21179501765231945,
          0.20488917033576604,
          0.218707781966758,
          0.24900332587983312,
          0.19906755436646015,
          0.20145568109829934,
          0.20376274244138395,
          0.19666477958701062,
          0.2279658615521047,
          0.24772278341692267,
          0.22748553426202067,
          0.2153396305681635,
          0.20165101865734075,
          0.24772026223783727,
          0.24899597663675638,
          0.24901455056117622,
          0.19423884093163868,
          0.23500697223997405,
          0.24771601222363016,
          0.21669600817165313,
          0.20635337923724215,
          0.24772304193930184,
          0.24043036206572924,
          0.23238477014799866,
          0.24904098034371047,
          0.2290939612472946,
          0.24772144633269563,
          0.19213351678355928,
          0.2039633650102281,
          0.22876744336487562,
          0.1991380678342731,
          0.24909581785855575,
          0.2193742864723468,
          0.19577142754083965,
          0.24771841992796934,
          0.18870204780382774,
          0.22820140604989478,
          0.23444441925176257,
          0.24771911568581348,
          0.1968512412200587,
          0.19065273903227517,
          0.22708467447342434,
          0.23893199719081737,
          0.19165238470189389,
          0.24771709769549877,
          0.24771723473467075,
          0.19671594823698307,
          0.18143701359944112,
          0.197718101450893,
          0.19956434790105013,
          0.1929062963334277,
          0.18569615030166148,
          0.19723048343696203,
          0.18804001197046258,
          0.19824987519590995,
          0.19923070477729377,
          0.1993124353320737,
          0.24899239758499658,
          0.21637121040622867,
          0.19595271096286837,
          0.19630312161817096,
          0.2040312570674157,
          0.1826398334424724,
          0.2490322337820259,
          0.24900257697032033,
          0.24898992670609799,
          0.2489974395953014,
          0.19862488893315192,
          0.22918903848431635,
          0.18268553877584284,
          0.21931289905206744,
          0.1847148226835211,
          0.1867068814759961,
          0.19192789861270712,
          0.183057645069422,
          0.18309252279027702,
          0.1980078486011888,
          0.19822132583022542,
          0.24771734237659032,
          0.1973906320383897,
          0.24771410868476992,
          0.19234103863934296,
          0.24771731854949075,
          0.18992723299045824,
          0.19162207451813487,
          0.18694527165758731,
          0.24771929763155795,
          0.1865591641169639,
          0.22900364265206768,
          0.22052276425749587,
          0.18544305467556865,
          0.18270846471154112,
          0.22965579234323147,
          0.1839530285074803,
          0.18591425080209445,
          0.2489871390935828,
          0.24771697052354244,
          0.21902955707462493,
          0.18566070611703528,
          0.1885680717438486,
          0.19953876871920348,
          0.1861985696338734,
          0.1884672776008701,
          0.24772149616261102,
          0.22024554510861358,
          0.18562591700614303,
          0.19955521465177103,
          0.24908597578613964,
          0.23077950680322634,
          0.24908597578613964,
          0.18985426496903793,
          0.1995929056763985,
          0.19802257534363243,
          0.24772140777878524,
          0.24771030296341331,
          0.19196840417173147,
          0.18460886131643947,
          0.19701068857900927,
          0.24771674848597086,
          0.2162284618752436,
          0.18700922660487562,
          0.19957311447466483,
          0.24772191244673167,
          0.18270148590156451,
          0.1864977831144425,
          0.21699746174634257,
          0.1862395353926112,
          0.18697834526337342,
          0.18889139126106005,
          0.22645854520590972
         ],
         "yaxis": "y10"
        }
       ],
       "layout": {
        "template": {
         "data": {
          "bar": [
           {
            "error_x": {
             "color": "#2a3f5f"
            },
            "error_y": {
             "color": "#2a3f5f"
            },
            "marker": {
             "line": {
              "color": "#E5ECF6",
              "width": 0.5
             },
             "pattern": {
              "fillmode": "overlay",
              "size": 10,
              "solidity": 0.2
             }
            },
            "type": "bar"
           }
          ],
          "barpolar": [
           {
            "marker": {
             "line": {
              "color": "#E5ECF6",
              "width": 0.5
             },
             "pattern": {
              "fillmode": "overlay",
              "size": 10,
              "solidity": 0.2
             }
            },
            "type": "barpolar"
           }
          ],
          "carpet": [
           {
            "aaxis": {
             "endlinecolor": "#2a3f5f",
             "gridcolor": "white",
             "linecolor": "white",
             "minorgridcolor": "white",
             "startlinecolor": "#2a3f5f"
            },
            "baxis": {
             "endlinecolor": "#2a3f5f",
             "gridcolor": "white",
             "linecolor": "white",
             "minorgridcolor": "white",
             "startlinecolor": "#2a3f5f"
            },
            "type": "carpet"
           }
          ],
          "choropleth": [
           {
            "colorbar": {
             "outlinewidth": 0,
             "ticks": ""
            },
            "type": "choropleth"
           }
          ],
          "contour": [
           {
            "colorbar": {
             "outlinewidth": 0,
             "ticks": ""
            },
            "colorscale": [
             [
              0,
              "#0d0887"
             ],
             [
              0.1111111111111111,
              "#46039f"
             ],
             [
              0.2222222222222222,
              "#7201a8"
             ],
             [
              0.3333333333333333,
              "#9c179e"
             ],
             [
              0.4444444444444444,
              "#bd3786"
             ],
             [
              0.5555555555555556,
              "#d8576b"
             ],
             [
              0.6666666666666666,
              "#ed7953"
             ],
             [
              0.7777777777777778,
              "#fb9f3a"
             ],
             [
              0.8888888888888888,
              "#fdca26"
             ],
             [
              1,
              "#f0f921"
             ]
            ],
            "type": "contour"
           }
          ],
          "contourcarpet": [
           {
            "colorbar": {
             "outlinewidth": 0,
             "ticks": ""
            },
            "type": "contourcarpet"
           }
          ],
          "heatmap": [
           {
            "colorbar": {
             "outlinewidth": 0,
             "ticks": ""
            },
            "colorscale": [
             [
              0,
              "#0d0887"
             ],
             [
              0.1111111111111111,
              "#46039f"
             ],
             [
              0.2222222222222222,
              "#7201a8"
             ],
             [
              0.3333333333333333,
              "#9c179e"
             ],
             [
              0.4444444444444444,
              "#bd3786"
             ],
             [
              0.5555555555555556,
              "#d8576b"
             ],
             [
              0.6666666666666666,
              "#ed7953"
             ],
             [
              0.7777777777777778,
              "#fb9f3a"
             ],
             [
              0.8888888888888888,
              "#fdca26"
             ],
             [
              1,
              "#f0f921"
             ]
            ],
            "type": "heatmap"
           }
          ],
          "heatmapgl": [
           {
            "colorbar": {
             "outlinewidth": 0,
             "ticks": ""
            },
            "colorscale": [
             [
              0,
              "#0d0887"
             ],
             [
              0.1111111111111111,
              "#46039f"
             ],
             [
              0.2222222222222222,
              "#7201a8"
             ],
             [
              0.3333333333333333,
              "#9c179e"
             ],
             [
              0.4444444444444444,
              "#bd3786"
             ],
             [
              0.5555555555555556,
              "#d8576b"
             ],
             [
              0.6666666666666666,
              "#ed7953"
             ],
             [
              0.7777777777777778,
              "#fb9f3a"
             ],
             [
              0.8888888888888888,
              "#fdca26"
             ],
             [
              1,
              "#f0f921"
             ]
            ],
            "type": "heatmapgl"
           }
          ],
          "histogram": [
           {
            "marker": {
             "pattern": {
              "fillmode": "overlay",
              "size": 10,
              "solidity": 0.2
             }
            },
            "type": "histogram"
           }
          ],
          "histogram2d": [
           {
            "colorbar": {
             "outlinewidth": 0,
             "ticks": ""
            },
            "colorscale": [
             [
              0,
              "#0d0887"
             ],
             [
              0.1111111111111111,
              "#46039f"
             ],
             [
              0.2222222222222222,
              "#7201a8"
             ],
             [
              0.3333333333333333,
              "#9c179e"
             ],
             [
              0.4444444444444444,
              "#bd3786"
             ],
             [
              0.5555555555555556,
              "#d8576b"
             ],
             [
              0.6666666666666666,
              "#ed7953"
             ],
             [
              0.7777777777777778,
              "#fb9f3a"
             ],
             [
              0.8888888888888888,
              "#fdca26"
             ],
             [
              1,
              "#f0f921"
             ]
            ],
            "type": "histogram2d"
           }
          ],
          "histogram2dcontour": [
           {
            "colorbar": {
             "outlinewidth": 0,
             "ticks": ""
            },
            "colorscale": [
             [
              0,
              "#0d0887"
             ],
             [
              0.1111111111111111,
              "#46039f"
             ],
             [
              0.2222222222222222,
              "#7201a8"
             ],
             [
              0.3333333333333333,
              "#9c179e"
             ],
             [
              0.4444444444444444,
              "#bd3786"
             ],
             [
              0.5555555555555556,
              "#d8576b"
             ],
             [
              0.6666666666666666,
              "#ed7953"
             ],
             [
              0.7777777777777778,
              "#fb9f3a"
             ],
             [
              0.8888888888888888,
              "#fdca26"
             ],
             [
              1,
              "#f0f921"
             ]
            ],
            "type": "histogram2dcontour"
           }
          ],
          "mesh3d": [
           {
            "colorbar": {
             "outlinewidth": 0,
             "ticks": ""
            },
            "type": "mesh3d"
           }
          ],
          "parcoords": [
           {
            "line": {
             "colorbar": {
              "outlinewidth": 0,
              "ticks": ""
             }
            },
            "type": "parcoords"
           }
          ],
          "pie": [
           {
            "automargin": true,
            "type": "pie"
           }
          ],
          "scatter": [
           {
            "fillpattern": {
             "fillmode": "overlay",
             "size": 10,
             "solidity": 0.2
            },
            "type": "scatter"
           }
          ],
          "scatter3d": [
           {
            "line": {
             "colorbar": {
              "outlinewidth": 0,
              "ticks": ""
             }
            },
            "marker": {
             "colorbar": {
              "outlinewidth": 0,
              "ticks": ""
             }
            },
            "type": "scatter3d"
           }
          ],
          "scattercarpet": [
           {
            "marker": {
             "colorbar": {
              "outlinewidth": 0,
              "ticks": ""
             }
            },
            "type": "scattercarpet"
           }
          ],
          "scattergeo": [
           {
            "marker": {
             "colorbar": {
              "outlinewidth": 0,
              "ticks": ""
             }
            },
            "type": "scattergeo"
           }
          ],
          "scattergl": [
           {
            "marker": {
             "colorbar": {
              "outlinewidth": 0,
              "ticks": ""
             }
            },
            "type": "scattergl"
           }
          ],
          "scattermapbox": [
           {
            "marker": {
             "colorbar": {
              "outlinewidth": 0,
              "ticks": ""
             }
            },
            "type": "scattermapbox"
           }
          ],
          "scatterpolar": [
           {
            "marker": {
             "colorbar": {
              "outlinewidth": 0,
              "ticks": ""
             }
            },
            "type": "scatterpolar"
           }
          ],
          "scatterpolargl": [
           {
            "marker": {
             "colorbar": {
              "outlinewidth": 0,
              "ticks": ""
             }
            },
            "type": "scatterpolargl"
           }
          ],
          "scatterternary": [
           {
            "marker": {
             "colorbar": {
              "outlinewidth": 0,
              "ticks": ""
             }
            },
            "type": "scatterternary"
           }
          ],
          "surface": [
           {
            "colorbar": {
             "outlinewidth": 0,
             "ticks": ""
            },
            "colorscale": [
             [
              0,
              "#0d0887"
             ],
             [
              0.1111111111111111,
              "#46039f"
             ],
             [
              0.2222222222222222,
              "#7201a8"
             ],
             [
              0.3333333333333333,
              "#9c179e"
             ],
             [
              0.4444444444444444,
              "#bd3786"
             ],
             [
              0.5555555555555556,
              "#d8576b"
             ],
             [
              0.6666666666666666,
              "#ed7953"
             ],
             [
              0.7777777777777778,
              "#fb9f3a"
             ],
             [
              0.8888888888888888,
              "#fdca26"
             ],
             [
              1,
              "#f0f921"
             ]
            ],
            "type": "surface"
           }
          ],
          "table": [
           {
            "cells": {
             "fill": {
              "color": "#EBF0F8"
             },
             "line": {
              "color": "white"
             }
            },
            "header": {
             "fill": {
              "color": "#C8D4E3"
             },
             "line": {
              "color": "white"
             }
            },
            "type": "table"
           }
          ]
         },
         "layout": {
          "annotationdefaults": {
           "arrowcolor": "#2a3f5f",
           "arrowhead": 0,
           "arrowwidth": 1
          },
          "autotypenumbers": "strict",
          "coloraxis": {
           "colorbar": {
            "outlinewidth": 0,
            "ticks": ""
           }
          },
          "colorscale": {
           "diverging": [
            [
             0,
             "#8e0152"
            ],
            [
             0.1,
             "#c51b7d"
            ],
            [
             0.2,
             "#de77ae"
            ],
            [
             0.3,
             "#f1b6da"
            ],
            [
             0.4,
             "#fde0ef"
            ],
            [
             0.5,
             "#f7f7f7"
            ],
            [
             0.6,
             "#e6f5d0"
            ],
            [
             0.7,
             "#b8e186"
            ],
            [
             0.8,
             "#7fbc41"
            ],
            [
             0.9,
             "#4d9221"
            ],
            [
             1,
             "#276419"
            ]
           ],
           "sequential": [
            [
             0,
             "#0d0887"
            ],
            [
             0.1111111111111111,
             "#46039f"
            ],
            [
             0.2222222222222222,
             "#7201a8"
            ],
            [
             0.3333333333333333,
             "#9c179e"
            ],
            [
             0.4444444444444444,
             "#bd3786"
            ],
            [
             0.5555555555555556,
             "#d8576b"
            ],
            [
             0.6666666666666666,
             "#ed7953"
            ],
            [
             0.7777777777777778,
             "#fb9f3a"
            ],
            [
             0.8888888888888888,
             "#fdca26"
            ],
            [
             1,
             "#f0f921"
            ]
           ],
           "sequentialminus": [
            [
             0,
             "#0d0887"
            ],
            [
             0.1111111111111111,
             "#46039f"
            ],
            [
             0.2222222222222222,
             "#7201a8"
            ],
            [
             0.3333333333333333,
             "#9c179e"
            ],
            [
             0.4444444444444444,
             "#bd3786"
            ],
            [
             0.5555555555555556,
             "#d8576b"
            ],
            [
             0.6666666666666666,
             "#ed7953"
            ],
            [
             0.7777777777777778,
             "#fb9f3a"
            ],
            [
             0.8888888888888888,
             "#fdca26"
            ],
            [
             1,
             "#f0f921"
            ]
           ]
          },
          "colorway": [
           "#636efa",
           "#EF553B",
           "#00cc96",
           "#ab63fa",
           "#FFA15A",
           "#19d3f3",
           "#FF6692",
           "#B6E880",
           "#FF97FF",
           "#FECB52"
          ],
          "font": {
           "color": "#2a3f5f"
          },
          "geo": {
           "bgcolor": "white",
           "lakecolor": "white",
           "landcolor": "#E5ECF6",
           "showlakes": true,
           "showland": true,
           "subunitcolor": "white"
          },
          "hoverlabel": {
           "align": "left"
          },
          "hovermode": "closest",
          "mapbox": {
           "style": "light"
          },
          "paper_bgcolor": "white",
          "plot_bgcolor": "#E5ECF6",
          "polar": {
           "angularaxis": {
            "gridcolor": "white",
            "linecolor": "white",
            "ticks": ""
           },
           "bgcolor": "#E5ECF6",
           "radialaxis": {
            "gridcolor": "white",
            "linecolor": "white",
            "ticks": ""
           }
          },
          "scene": {
           "xaxis": {
            "backgroundcolor": "#E5ECF6",
            "gridcolor": "white",
            "gridwidth": 2,
            "linecolor": "white",
            "showbackground": true,
            "ticks": "",
            "zerolinecolor": "white"
           },
           "yaxis": {
            "backgroundcolor": "#E5ECF6",
            "gridcolor": "white",
            "gridwidth": 2,
            "linecolor": "white",
            "showbackground": true,
            "ticks": "",
            "zerolinecolor": "white"
           },
           "zaxis": {
            "backgroundcolor": "#E5ECF6",
            "gridcolor": "white",
            "gridwidth": 2,
            "linecolor": "white",
            "showbackground": true,
            "ticks": "",
            "zerolinecolor": "white"
           }
          },
          "shapedefaults": {
           "line": {
            "color": "#2a3f5f"
           }
          },
          "ternary": {
           "aaxis": {
            "gridcolor": "white",
            "linecolor": "white",
            "ticks": ""
           },
           "baxis": {
            "gridcolor": "white",
            "linecolor": "white",
            "ticks": ""
           },
           "bgcolor": "#E5ECF6",
           "caxis": {
            "gridcolor": "white",
            "linecolor": "white",
            "ticks": ""
           }
          },
          "title": {
           "x": 0.05
          },
          "xaxis": {
           "automargin": true,
           "gridcolor": "white",
           "linecolor": "white",
           "ticks": "",
           "title": {
            "standoff": 15
           },
           "zerolinecolor": "white",
           "zerolinewidth": 2
          },
          "yaxis": {
           "automargin": true,
           "gridcolor": "white",
           "linecolor": "white",
           "ticks": "",
           "title": {
            "standoff": 15
           },
           "zerolinecolor": "white",
           "zerolinewidth": 2
          }
         }
        },
        "title": {
         "text": "Slice Plot"
        },
        "width": 3000,
        "xaxis": {
         "anchor": "y",
         "categoryarray": [
          "squared_error",
          "absolute_error",
          "friedman_mse",
          "poisson"
         ],
         "categoryorder": "array",
         "domain": [
          0,
          0.082
         ],
         "title": {
          "text": "criterion"
         },
         "type": "category"
        },
        "xaxis10": {
         "anchor": "y10",
         "categoryarray": [
          "minmax",
          "standard",
          "robust"
         ],
         "categoryorder": "array",
         "domain": [
          0.9179999999999999,
          0.9999999999999999
         ],
         "title": {
          "text": "scalers"
         },
         "type": "category"
        },
        "xaxis2": {
         "anchor": "y2",
         "domain": [
          0.10200000000000001,
          0.184
         ],
         "title": {
          "text": "max_depth"
         }
        },
        "xaxis3": {
         "anchor": "y3",
         "categoryarray": [
          "sqrt",
          "log2",
          null
         ],
         "categoryorder": "array",
         "domain": [
          0.20400000000000001,
          0.28600000000000003
         ],
         "title": {
          "text": "max_features"
         },
         "type": "category"
        },
        "xaxis4": {
         "anchor": "y4",
         "domain": [
          0.306,
          0.388
         ],
         "title": {
          "text": "max_leaf_nodes"
         }
        },
        "xaxis5": {
         "anchor": "y5",
         "domain": [
          0.40800000000000003,
          0.49000000000000005
         ],
         "title": {
          "text": "min_impurity_decrease"
         }
        },
        "xaxis6": {
         "anchor": "y6",
         "domain": [
          0.51,
          0.592
         ],
         "title": {
          "text": "min_samples_leaf"
         }
        },
        "xaxis7": {
         "anchor": "y7",
         "domain": [
          0.612,
          0.694
         ],
         "title": {
          "text": "min_samples_split"
         }
        },
        "xaxis8": {
         "anchor": "y8",
         "domain": [
          0.7140000000000001,
          0.796
         ],
         "title": {
          "text": "min_weight_fraction_leaf"
         }
        },
        "xaxis9": {
         "anchor": "y9",
         "domain": [
          0.8160000000000001,
          0.898
         ],
         "title": {
          "text": "n_estimators"
         }
        },
        "yaxis": {
         "anchor": "x",
         "domain": [
          0,
          1
         ],
         "title": {
          "text": "Objective Value"
         }
        },
        "yaxis10": {
         "anchor": "x10",
         "domain": [
          0,
          1
         ],
         "matches": "y",
         "showticklabels": false
        },
        "yaxis2": {
         "anchor": "x2",
         "domain": [
          0,
          1
         ],
         "matches": "y",
         "showticklabels": false
        },
        "yaxis3": {
         "anchor": "x3",
         "domain": [
          0,
          1
         ],
         "matches": "y",
         "showticklabels": false
        },
        "yaxis4": {
         "anchor": "x4",
         "domain": [
          0,
          1
         ],
         "matches": "y",
         "showticklabels": false
        },
        "yaxis5": {
         "anchor": "x5",
         "domain": [
          0,
          1
         ],
         "matches": "y",
         "showticklabels": false
        },
        "yaxis6": {
         "anchor": "x6",
         "domain": [
          0,
          1
         ],
         "matches": "y",
         "showticklabels": false
        },
        "yaxis7": {
         "anchor": "x7",
         "domain": [
          0,
          1
         ],
         "matches": "y",
         "showticklabels": false
        },
        "yaxis8": {
         "anchor": "x8",
         "domain": [
          0,
          1
         ],
         "matches": "y",
         "showticklabels": false
        },
        "yaxis9": {
         "anchor": "x9",
         "domain": [
          0,
          1
         ],
         "matches": "y",
         "showticklabels": false
        }
       }
      }
     },
     "metadata": {},
     "output_type": "display_data"
    }
   ],
   "source": [
    "# Hyperparameters to score dependency\n",
    "\n",
    "optuna.visualization.plot_slice(study)"
   ]
  },
  {
   "cell_type": "code",
   "execution_count": 97,
   "metadata": {},
   "outputs": [
    {
     "data": {
      "application/vnd.plotly.v1+json": {
       "config": {
        "plotlyServerURL": "https://plot.ly"
       },
       "data": [
        {
         "cliponaxis": false,
         "hovertemplate": [
          "max_depth (IntDistribution): 0.0010545424464261704<extra></extra>",
          "min_samples_split (IntDistribution): 0.0013145060239842684<extra></extra>",
          "max_leaf_nodes (IntDistribution): 0.0014869143796067397<extra></extra>",
          "n_estimators (IntDistribution): 0.0021006486951570696<extra></extra>",
          "min_samples_leaf (IntDistribution): 0.002299614859914845<extra></extra>",
          "scalers (CategoricalDistribution): 0.00239191648797545<extra></extra>",
          "min_impurity_decrease (FloatDistribution): 0.008691140509351209<extra></extra>",
          "max_features (CategoricalDistribution): 0.01564803581550872<extra></extra>",
          "min_weight_fraction_leaf (FloatDistribution): 0.20286566603938797<extra></extra>",
          "criterion (CategoricalDistribution): 0.7621470147426878<extra></extra>"
         ],
         "name": "Objective Value",
         "orientation": "h",
         "text": [
          "<0.01",
          "<0.01",
          "<0.01",
          "<0.01",
          "<0.01",
          "<0.01",
          "<0.01",
          "0.02",
          "0.20",
          "0.76"
         ],
         "textposition": "outside",
         "type": "bar",
         "x": [
          0.0010545424464261704,
          0.0013145060239842684,
          0.0014869143796067397,
          0.0021006486951570696,
          0.002299614859914845,
          0.00239191648797545,
          0.008691140509351209,
          0.01564803581550872,
          0.20286566603938797,
          0.7621470147426878
         ],
         "y": [
          "max_depth",
          "min_samples_split",
          "max_leaf_nodes",
          "n_estimators",
          "min_samples_leaf",
          "scalers",
          "min_impurity_decrease",
          "max_features",
          "min_weight_fraction_leaf",
          "criterion"
         ]
        }
       ],
       "layout": {
        "template": {
         "data": {
          "bar": [
           {
            "error_x": {
             "color": "#2a3f5f"
            },
            "error_y": {
             "color": "#2a3f5f"
            },
            "marker": {
             "line": {
              "color": "#E5ECF6",
              "width": 0.5
             },
             "pattern": {
              "fillmode": "overlay",
              "size": 10,
              "solidity": 0.2
             }
            },
            "type": "bar"
           }
          ],
          "barpolar": [
           {
            "marker": {
             "line": {
              "color": "#E5ECF6",
              "width": 0.5
             },
             "pattern": {
              "fillmode": "overlay",
              "size": 10,
              "solidity": 0.2
             }
            },
            "type": "barpolar"
           }
          ],
          "carpet": [
           {
            "aaxis": {
             "endlinecolor": "#2a3f5f",
             "gridcolor": "white",
             "linecolor": "white",
             "minorgridcolor": "white",
             "startlinecolor": "#2a3f5f"
            },
            "baxis": {
             "endlinecolor": "#2a3f5f",
             "gridcolor": "white",
             "linecolor": "white",
             "minorgridcolor": "white",
             "startlinecolor": "#2a3f5f"
            },
            "type": "carpet"
           }
          ],
          "choropleth": [
           {
            "colorbar": {
             "outlinewidth": 0,
             "ticks": ""
            },
            "type": "choropleth"
           }
          ],
          "contour": [
           {
            "colorbar": {
             "outlinewidth": 0,
             "ticks": ""
            },
            "colorscale": [
             [
              0,
              "#0d0887"
             ],
             [
              0.1111111111111111,
              "#46039f"
             ],
             [
              0.2222222222222222,
              "#7201a8"
             ],
             [
              0.3333333333333333,
              "#9c179e"
             ],
             [
              0.4444444444444444,
              "#bd3786"
             ],
             [
              0.5555555555555556,
              "#d8576b"
             ],
             [
              0.6666666666666666,
              "#ed7953"
             ],
             [
              0.7777777777777778,
              "#fb9f3a"
             ],
             [
              0.8888888888888888,
              "#fdca26"
             ],
             [
              1,
              "#f0f921"
             ]
            ],
            "type": "contour"
           }
          ],
          "contourcarpet": [
           {
            "colorbar": {
             "outlinewidth": 0,
             "ticks": ""
            },
            "type": "contourcarpet"
           }
          ],
          "heatmap": [
           {
            "colorbar": {
             "outlinewidth": 0,
             "ticks": ""
            },
            "colorscale": [
             [
              0,
              "#0d0887"
             ],
             [
              0.1111111111111111,
              "#46039f"
             ],
             [
              0.2222222222222222,
              "#7201a8"
             ],
             [
              0.3333333333333333,
              "#9c179e"
             ],
             [
              0.4444444444444444,
              "#bd3786"
             ],
             [
              0.5555555555555556,
              "#d8576b"
             ],
             [
              0.6666666666666666,
              "#ed7953"
             ],
             [
              0.7777777777777778,
              "#fb9f3a"
             ],
             [
              0.8888888888888888,
              "#fdca26"
             ],
             [
              1,
              "#f0f921"
             ]
            ],
            "type": "heatmap"
           }
          ],
          "heatmapgl": [
           {
            "colorbar": {
             "outlinewidth": 0,
             "ticks": ""
            },
            "colorscale": [
             [
              0,
              "#0d0887"
             ],
             [
              0.1111111111111111,
              "#46039f"
             ],
             [
              0.2222222222222222,
              "#7201a8"
             ],
             [
              0.3333333333333333,
              "#9c179e"
             ],
             [
              0.4444444444444444,
              "#bd3786"
             ],
             [
              0.5555555555555556,
              "#d8576b"
             ],
             [
              0.6666666666666666,
              "#ed7953"
             ],
             [
              0.7777777777777778,
              "#fb9f3a"
             ],
             [
              0.8888888888888888,
              "#fdca26"
             ],
             [
              1,
              "#f0f921"
             ]
            ],
            "type": "heatmapgl"
           }
          ],
          "histogram": [
           {
            "marker": {
             "pattern": {
              "fillmode": "overlay",
              "size": 10,
              "solidity": 0.2
             }
            },
            "type": "histogram"
           }
          ],
          "histogram2d": [
           {
            "colorbar": {
             "outlinewidth": 0,
             "ticks": ""
            },
            "colorscale": [
             [
              0,
              "#0d0887"
             ],
             [
              0.1111111111111111,
              "#46039f"
             ],
             [
              0.2222222222222222,
              "#7201a8"
             ],
             [
              0.3333333333333333,
              "#9c179e"
             ],
             [
              0.4444444444444444,
              "#bd3786"
             ],
             [
              0.5555555555555556,
              "#d8576b"
             ],
             [
              0.6666666666666666,
              "#ed7953"
             ],
             [
              0.7777777777777778,
              "#fb9f3a"
             ],
             [
              0.8888888888888888,
              "#fdca26"
             ],
             [
              1,
              "#f0f921"
             ]
            ],
            "type": "histogram2d"
           }
          ],
          "histogram2dcontour": [
           {
            "colorbar": {
             "outlinewidth": 0,
             "ticks": ""
            },
            "colorscale": [
             [
              0,
              "#0d0887"
             ],
             [
              0.1111111111111111,
              "#46039f"
             ],
             [
              0.2222222222222222,
              "#7201a8"
             ],
             [
              0.3333333333333333,
              "#9c179e"
             ],
             [
              0.4444444444444444,
              "#bd3786"
             ],
             [
              0.5555555555555556,
              "#d8576b"
             ],
             [
              0.6666666666666666,
              "#ed7953"
             ],
             [
              0.7777777777777778,
              "#fb9f3a"
             ],
             [
              0.8888888888888888,
              "#fdca26"
             ],
             [
              1,
              "#f0f921"
             ]
            ],
            "type": "histogram2dcontour"
           }
          ],
          "mesh3d": [
           {
            "colorbar": {
             "outlinewidth": 0,
             "ticks": ""
            },
            "type": "mesh3d"
           }
          ],
          "parcoords": [
           {
            "line": {
             "colorbar": {
              "outlinewidth": 0,
              "ticks": ""
             }
            },
            "type": "parcoords"
           }
          ],
          "pie": [
           {
            "automargin": true,
            "type": "pie"
           }
          ],
          "scatter": [
           {
            "fillpattern": {
             "fillmode": "overlay",
             "size": 10,
             "solidity": 0.2
            },
            "type": "scatter"
           }
          ],
          "scatter3d": [
           {
            "line": {
             "colorbar": {
              "outlinewidth": 0,
              "ticks": ""
             }
            },
            "marker": {
             "colorbar": {
              "outlinewidth": 0,
              "ticks": ""
             }
            },
            "type": "scatter3d"
           }
          ],
          "scattercarpet": [
           {
            "marker": {
             "colorbar": {
              "outlinewidth": 0,
              "ticks": ""
             }
            },
            "type": "scattercarpet"
           }
          ],
          "scattergeo": [
           {
            "marker": {
             "colorbar": {
              "outlinewidth": 0,
              "ticks": ""
             }
            },
            "type": "scattergeo"
           }
          ],
          "scattergl": [
           {
            "marker": {
             "colorbar": {
              "outlinewidth": 0,
              "ticks": ""
             }
            },
            "type": "scattergl"
           }
          ],
          "scattermapbox": [
           {
            "marker": {
             "colorbar": {
              "outlinewidth": 0,
              "ticks": ""
             }
            },
            "type": "scattermapbox"
           }
          ],
          "scatterpolar": [
           {
            "marker": {
             "colorbar": {
              "outlinewidth": 0,
              "ticks": ""
             }
            },
            "type": "scatterpolar"
           }
          ],
          "scatterpolargl": [
           {
            "marker": {
             "colorbar": {
              "outlinewidth": 0,
              "ticks": ""
             }
            },
            "type": "scatterpolargl"
           }
          ],
          "scatterternary": [
           {
            "marker": {
             "colorbar": {
              "outlinewidth": 0,
              "ticks": ""
             }
            },
            "type": "scatterternary"
           }
          ],
          "surface": [
           {
            "colorbar": {
             "outlinewidth": 0,
             "ticks": ""
            },
            "colorscale": [
             [
              0,
              "#0d0887"
             ],
             [
              0.1111111111111111,
              "#46039f"
             ],
             [
              0.2222222222222222,
              "#7201a8"
             ],
             [
              0.3333333333333333,
              "#9c179e"
             ],
             [
              0.4444444444444444,
              "#bd3786"
             ],
             [
              0.5555555555555556,
              "#d8576b"
             ],
             [
              0.6666666666666666,
              "#ed7953"
             ],
             [
              0.7777777777777778,
              "#fb9f3a"
             ],
             [
              0.8888888888888888,
              "#fdca26"
             ],
             [
              1,
              "#f0f921"
             ]
            ],
            "type": "surface"
           }
          ],
          "table": [
           {
            "cells": {
             "fill": {
              "color": "#EBF0F8"
             },
             "line": {
              "color": "white"
             }
            },
            "header": {
             "fill": {
              "color": "#C8D4E3"
             },
             "line": {
              "color": "white"
             }
            },
            "type": "table"
           }
          ]
         },
         "layout": {
          "annotationdefaults": {
           "arrowcolor": "#2a3f5f",
           "arrowhead": 0,
           "arrowwidth": 1
          },
          "autotypenumbers": "strict",
          "coloraxis": {
           "colorbar": {
            "outlinewidth": 0,
            "ticks": ""
           }
          },
          "colorscale": {
           "diverging": [
            [
             0,
             "#8e0152"
            ],
            [
             0.1,
             "#c51b7d"
            ],
            [
             0.2,
             "#de77ae"
            ],
            [
             0.3,
             "#f1b6da"
            ],
            [
             0.4,
             "#fde0ef"
            ],
            [
             0.5,
             "#f7f7f7"
            ],
            [
             0.6,
             "#e6f5d0"
            ],
            [
             0.7,
             "#b8e186"
            ],
            [
             0.8,
             "#7fbc41"
            ],
            [
             0.9,
             "#4d9221"
            ],
            [
             1,
             "#276419"
            ]
           ],
           "sequential": [
            [
             0,
             "#0d0887"
            ],
            [
             0.1111111111111111,
             "#46039f"
            ],
            [
             0.2222222222222222,
             "#7201a8"
            ],
            [
             0.3333333333333333,
             "#9c179e"
            ],
            [
             0.4444444444444444,
             "#bd3786"
            ],
            [
             0.5555555555555556,
             "#d8576b"
            ],
            [
             0.6666666666666666,
             "#ed7953"
            ],
            [
             0.7777777777777778,
             "#fb9f3a"
            ],
            [
             0.8888888888888888,
             "#fdca26"
            ],
            [
             1,
             "#f0f921"
            ]
           ],
           "sequentialminus": [
            [
             0,
             "#0d0887"
            ],
            [
             0.1111111111111111,
             "#46039f"
            ],
            [
             0.2222222222222222,
             "#7201a8"
            ],
            [
             0.3333333333333333,
             "#9c179e"
            ],
            [
             0.4444444444444444,
             "#bd3786"
            ],
            [
             0.5555555555555556,
             "#d8576b"
            ],
            [
             0.6666666666666666,
             "#ed7953"
            ],
            [
             0.7777777777777778,
             "#fb9f3a"
            ],
            [
             0.8888888888888888,
             "#fdca26"
            ],
            [
             1,
             "#f0f921"
            ]
           ]
          },
          "colorway": [
           "#636efa",
           "#EF553B",
           "#00cc96",
           "#ab63fa",
           "#FFA15A",
           "#19d3f3",
           "#FF6692",
           "#B6E880",
           "#FF97FF",
           "#FECB52"
          ],
          "font": {
           "color": "#2a3f5f"
          },
          "geo": {
           "bgcolor": "white",
           "lakecolor": "white",
           "landcolor": "#E5ECF6",
           "showlakes": true,
           "showland": true,
           "subunitcolor": "white"
          },
          "hoverlabel": {
           "align": "left"
          },
          "hovermode": "closest",
          "mapbox": {
           "style": "light"
          },
          "paper_bgcolor": "white",
          "plot_bgcolor": "#E5ECF6",
          "polar": {
           "angularaxis": {
            "gridcolor": "white",
            "linecolor": "white",
            "ticks": ""
           },
           "bgcolor": "#E5ECF6",
           "radialaxis": {
            "gridcolor": "white",
            "linecolor": "white",
            "ticks": ""
           }
          },
          "scene": {
           "xaxis": {
            "backgroundcolor": "#E5ECF6",
            "gridcolor": "white",
            "gridwidth": 2,
            "linecolor": "white",
            "showbackground": true,
            "ticks": "",
            "zerolinecolor": "white"
           },
           "yaxis": {
            "backgroundcolor": "#E5ECF6",
            "gridcolor": "white",
            "gridwidth": 2,
            "linecolor": "white",
            "showbackground": true,
            "ticks": "",
            "zerolinecolor": "white"
           },
           "zaxis": {
            "backgroundcolor": "#E5ECF6",
            "gridcolor": "white",
            "gridwidth": 2,
            "linecolor": "white",
            "showbackground": true,
            "ticks": "",
            "zerolinecolor": "white"
           }
          },
          "shapedefaults": {
           "line": {
            "color": "#2a3f5f"
           }
          },
          "ternary": {
           "aaxis": {
            "gridcolor": "white",
            "linecolor": "white",
            "ticks": ""
           },
           "baxis": {
            "gridcolor": "white",
            "linecolor": "white",
            "ticks": ""
           },
           "bgcolor": "#E5ECF6",
           "caxis": {
            "gridcolor": "white",
            "linecolor": "white",
            "ticks": ""
           }
          },
          "title": {
           "x": 0.05
          },
          "xaxis": {
           "automargin": true,
           "gridcolor": "white",
           "linecolor": "white",
           "ticks": "",
           "title": {
            "standoff": 15
           },
           "zerolinecolor": "white",
           "zerolinewidth": 2
          },
          "yaxis": {
           "automargin": true,
           "gridcolor": "white",
           "linecolor": "white",
           "ticks": "",
           "title": {
            "standoff": 15
           },
           "zerolinecolor": "white",
           "zerolinewidth": 2
          }
         }
        },
        "title": {
         "text": "Hyperparameter Importances"
        },
        "xaxis": {
         "title": {
          "text": "Hyperparameter Importance"
         }
        },
        "yaxis": {
         "title": {
          "text": "Hyperparameter"
         }
        }
       }
      }
     },
     "metadata": {},
     "output_type": "display_data"
    }
   ],
   "source": [
    "# Hyperparameter importances\n",
    "\n",
    "optuna.visualization.plot_param_importances(study)"
   ]
  },
  {
   "cell_type": "code",
   "execution_count": null,
   "metadata": {},
   "outputs": [],
   "source": [
    "# define optimal hyperparameters\n",
    "params = study.best_trial.params\n",
    "del params['scalers']\n",
    "scaler_rfr = RobustScaler()\n",
    "rfr = RandomForestRegressor(**params)\n",
    "\n",
    "# create and fit pipeline\n",
    "pipeline_rfr = make_pipeline(scaler_rfr, rfr)"
   ]
  },
  {
   "cell_type": "code",
   "execution_count": null,
   "metadata": {},
   "outputs": [
    {
     "name": "stdout",
     "output_type": "stream",
     "text": [
      "[0.16065181 0.21176474 0.20914574 0.15613418 0.00597269] Средняя оценка: 0.1487338319854023\n"
     ]
    }
   ],
   "source": [
    "scores_rfr = cross_val_score(pipeline_rfr, df_encoded[df_encoded_features], df_encoded[target],  scoring = 'neg_root_mean_squared_error') * (-1)\n",
    "score_mean_rfr = scores_rfr.mean()\n",
    "print(scores_rfr, \"Средняя оценка:\", score_mean_rfr)"
   ]
  },
  {
   "cell_type": "markdown",
   "metadata": {},
   "source": [
    "# **KNN**"
   ]
  },
  {
   "cell_type": "code",
   "execution_count": 40,
   "metadata": {},
   "outputs": [
    {
     "name": "stderr",
     "output_type": "stream",
     "text": [
      "c:\\Users\\Aleks\\Desktop\\Jupyter\\Cat_Model\\.venv\\Lib\\site-packages\\optuna\\samplers\\_tpe\\sampler.py:319: ExperimentalWarning:\n",
      "\n",
      "``multivariate`` option is an experimental feature. The interface can change in the future.\n",
      "\n",
      "c:\\Users\\Aleks\\Desktop\\Jupyter\\Cat_Model\\.venv\\Lib\\site-packages\\optuna\\samplers\\_tpe\\sampler.py:330: ExperimentalWarning:\n",
      "\n",
      "``group`` option is an experimental feature. The interface can change in the future.\n",
      "\n",
      "[I 2024-05-17 19:52:17,910] A new study created in memory with name: KNN\n",
      "[I 2024-05-17 19:52:18,342] Trial 0 finished with value: 0.17735936362636037 and parameters: {'scalers': 'standard', 'n_neighbors': 230, 'weights': 'distance', 'metric': 'manhattan'}. Best is trial 0 with value: 0.17735936362636037.\n",
      "[I 2024-05-17 19:52:18,777] Trial 1 finished with value: 0.17971799732629964 and parameters: {'scalers': 'minmax', 'n_neighbors': 295, 'weights': 'distance', 'metric': 'manhattan'}. Best is trial 0 with value: 0.17735936362636037.\n",
      "[I 2024-05-17 19:52:19,008] Trial 2 finished with value: 0.20873079091331498 and parameters: {'scalers': 'standard', 'n_neighbors': 94, 'weights': 'uniform', 'metric': 'manhattan'}. Best is trial 0 with value: 0.17735936362636037.\n",
      "[I 2024-05-17 19:52:19,218] Trial 3 finished with value: 0.17002033659956992 and parameters: {'scalers': 'robust', 'n_neighbors': 113, 'weights': 'distance', 'metric': 'euclidean'}. Best is trial 3 with value: 0.17002033659956992.\n",
      "[I 2024-05-17 19:52:19,368] Trial 4 finished with value: 0.17378409077479717 and parameters: {'scalers': 'standard', 'n_neighbors': 62, 'weights': 'distance', 'metric': 'minkowski'}. Best is trial 3 with value: 0.17002033659956992.\n",
      "[I 2024-05-17 19:52:19,658] Trial 5 finished with value: 0.22892622769465265 and parameters: {'scalers': 'standard', 'n_neighbors': 237, 'weights': 'uniform', 'metric': 'euclidean'}. Best is trial 3 with value: 0.17002033659956992.\n",
      "[I 2024-05-17 19:52:20,109] Trial 6 finished with value: 0.18283134863140146 and parameters: {'scalers': 'minmax', 'n_neighbors': 462, 'weights': 'distance', 'metric': 'euclidean'}. Best is trial 3 with value: 0.17002033659956992.\n",
      "[I 2024-05-17 19:52:20,525] Trial 7 finished with value: 0.1705783521273964 and parameters: {'scalers': 'robust', 'n_neighbors': 418, 'weights': 'distance', 'metric': 'minkowski'}. Best is trial 3 with value: 0.17002033659956992.\n",
      "[I 2024-05-17 19:52:21,042] Trial 8 finished with value: 0.17871412490299757 and parameters: {'scalers': 'standard', 'n_neighbors': 446, 'weights': 'distance', 'metric': 'manhattan'}. Best is trial 3 with value: 0.17002033659956992.\n",
      "[I 2024-05-17 19:52:21,375] Trial 9 finished with value: 0.17008232836132825 and parameters: {'scalers': 'robust', 'n_neighbors': 260, 'weights': 'distance', 'metric': 'euclidean'}. Best is trial 3 with value: 0.17002033659956992.\n",
      "[I 2024-05-17 19:52:21,468] Trial 10 finished with value: 0.1793442257211878 and parameters: {'scalers': 'robust', 'n_neighbors': 9, 'weights': 'distance', 'metric': 'euclidean'}. Best is trial 3 with value: 0.17002033659956992.\n",
      "[I 2024-05-17 19:52:21,842] Trial 11 finished with value: 0.17028205290469717 and parameters: {'scalers': 'robust', 'n_neighbors': 319, 'weights': 'distance', 'metric': 'euclidean'}. Best is trial 3 with value: 0.17002033659956992.\n",
      "[I 2024-05-17 19:52:22,120] Trial 12 finished with value: 0.1698762769039173 and parameters: {'scalers': 'robust', 'n_neighbors': 180, 'weights': 'distance', 'metric': 'euclidean'}. Best is trial 12 with value: 0.1698762769039173.\n",
      "[I 2024-05-17 19:52:22,325] Trial 13 finished with value: 0.19785732260607272 and parameters: {'scalers': 'robust', 'n_neighbors': 105, 'weights': 'uniform', 'metric': 'minkowski'}. Best is trial 12 with value: 0.1698762769039173.\n",
      "[I 2024-05-17 19:52:22,559] Trial 14 finished with value: 0.17984339454013826 and parameters: {'scalers': 'minmax', 'n_neighbors': 159, 'weights': 'distance', 'metric': 'euclidean'}. Best is trial 12 with value: 0.1698762769039173.\n",
      "[I 2024-05-17 19:52:22,809] Trial 15 finished with value: 0.1697862495482686 and parameters: {'scalers': 'robust', 'n_neighbors': 133, 'weights': 'distance', 'metric': 'euclidean'}. Best is trial 15 with value: 0.1697862495482686.\n",
      "[I 2024-05-17 19:52:23,106] Trial 16 finished with value: 0.1694213661497127 and parameters: {'scalers': 'robust', 'n_neighbors': 125, 'weights': 'distance', 'metric': 'manhattan'}. Best is trial 16 with value: 0.1694213661497127.\n",
      "[I 2024-05-17 19:52:23,273] Trial 17 finished with value: 0.18101622007711268 and parameters: {'scalers': 'minmax', 'n_neighbors': 6, 'weights': 'distance', 'metric': 'manhattan'}. Best is trial 16 with value: 0.1694213661497127.\n",
      "[I 2024-05-17 19:52:23,592] Trial 18 finished with value: 0.16918490747672066 and parameters: {'scalers': 'robust', 'n_neighbors': 157, 'weights': 'distance', 'metric': 'manhattan'}. Best is trial 18 with value: 0.16918490747672066.\n",
      "[I 2024-05-17 19:52:23,909] Trial 19 finished with value: 0.16946531733464965 and parameters: {'scalers': 'robust', 'n_neighbors': 138, 'weights': 'distance', 'metric': 'manhattan'}. Best is trial 18 with value: 0.16918490747672066.\n",
      "[I 2024-05-17 19:52:24,275] Trial 20 finished with value: 0.20008788904295646 and parameters: {'scalers': 'robust', 'n_neighbors': 199, 'weights': 'uniform', 'metric': 'manhattan'}. Best is trial 18 with value: 0.16918490747672066.\n",
      "[I 2024-05-17 19:52:24,591] Trial 21 finished with value: 0.1694728876154081 and parameters: {'scalers': 'robust', 'n_neighbors': 133, 'weights': 'distance', 'metric': 'manhattan'}. Best is trial 18 with value: 0.16918490747672066.\n",
      "[I 2024-05-17 19:52:25,009] Trial 22 finished with value: 0.1694123068910368 and parameters: {'scalers': 'robust', 'n_neighbors': 259, 'weights': 'distance', 'metric': 'manhattan'}. Best is trial 18 with value: 0.16918490747672066.\n",
      "[I 2024-05-17 19:52:25,476] Trial 23 finished with value: 0.16971994991162817 and parameters: {'scalers': 'robust', 'n_neighbors': 356, 'weights': 'distance', 'metric': 'manhattan'}. Best is trial 18 with value: 0.16918490747672066.\n",
      "[I 2024-05-17 19:52:25,868] Trial 24 finished with value: 0.16926251937643674 and parameters: {'scalers': 'robust', 'n_neighbors': 235, 'weights': 'distance', 'metric': 'manhattan'}. Best is trial 18 with value: 0.16918490747672066.\n",
      "[I 2024-05-17 19:52:26,326] Trial 25 finished with value: 0.20118796060966668 and parameters: {'scalers': 'robust', 'n_neighbors': 372, 'weights': 'uniform', 'metric': 'manhattan'}. Best is trial 18 with value: 0.16918490747672066.\n",
      "[I 2024-05-17 19:52:26,767] Trial 26 finished with value: 0.2361482863589157 and parameters: {'scalers': 'standard', 'n_neighbors': 465, 'weights': 'uniform', 'metric': 'minkowski'}. Best is trial 18 with value: 0.16918490747672066.\n",
      "[I 2024-05-17 19:52:27,076] Trial 27 finished with value: 0.16988023183499978 and parameters: {'scalers': 'robust', 'n_neighbors': 232, 'weights': 'distance', 'metric': 'minkowski'}. Best is trial 18 with value: 0.16918490747672066.\n",
      "[I 2024-05-17 19:52:27,426] Trial 28 finished with value: 0.2321976205239665 and parameters: {'scalers': 'minmax', 'n_neighbors': 318, 'weights': 'uniform', 'metric': 'minkowski'}. Best is trial 18 with value: 0.16918490747672066.\n",
      "[I 2024-05-17 19:52:27,853] Trial 29 finished with value: 0.16939337388694684 and parameters: {'scalers': 'robust', 'n_neighbors': 256, 'weights': 'distance', 'metric': 'manhattan'}. Best is trial 18 with value: 0.16918490747672066.\n",
      "[I 2024-05-17 19:52:27,959] Trial 30 finished with value: 0.2005241321762396 and parameters: {'scalers': 'minmax', 'n_neighbors': 28, 'weights': 'uniform', 'metric': 'euclidean'}. Best is trial 18 with value: 0.16918490747672066.\n",
      "[I 2024-05-17 19:52:28,392] Trial 31 finished with value: 0.1695096231094551 and parameters: {'scalers': 'robust', 'n_neighbors': 278, 'weights': 'distance', 'metric': 'manhattan'}. Best is trial 18 with value: 0.16918490747672066.\n",
      "[I 2024-05-17 19:52:28,776] Trial 32 finished with value: 0.1772986636085961 and parameters: {'scalers': 'standard', 'n_neighbors': 226, 'weights': 'distance', 'metric': 'manhattan'}. Best is trial 18 with value: 0.16918490747672066.\n",
      "[I 2024-05-17 19:52:29,186] Trial 33 finished with value: 0.16924799102268884 and parameters: {'scalers': 'robust', 'n_neighbors': 240, 'weights': 'distance', 'metric': 'manhattan'}. Best is trial 18 with value: 0.16918490747672066.\n",
      "[I 2024-05-17 19:52:29,526] Trial 34 finished with value: 0.17813032696883513 and parameters: {'scalers': 'minmax', 'n_neighbors': 179, 'weights': 'distance', 'metric': 'manhattan'}. Best is trial 18 with value: 0.16918490747672066.\n",
      "[I 2024-05-17 19:52:29,892] Trial 35 finished with value: 0.1825315197122736 and parameters: {'scalers': 'minmax', 'n_neighbors': 322, 'weights': 'distance', 'metric': 'minkowski'}. Best is trial 18 with value: 0.16918490747672066.\n",
      "[I 2024-05-17 19:52:30,316] Trial 36 finished with value: 0.16944222541418227 and parameters: {'scalers': 'robust', 'n_neighbors': 271, 'weights': 'distance', 'metric': 'manhattan'}. Best is trial 18 with value: 0.16918490747672066.\n",
      "[I 2024-05-17 19:52:30,723] Trial 37 finished with value: 0.2294043948340058 and parameters: {'scalers': 'minmax', 'n_neighbors': 253, 'weights': 'uniform', 'metric': 'manhattan'}. Best is trial 18 with value: 0.16918490747672066.\n",
      "[I 2024-05-17 19:52:31,145] Trial 38 finished with value: 0.2274774723166767 and parameters: {'scalers': 'standard', 'n_neighbors': 292, 'weights': 'uniform', 'metric': 'manhattan'}. Best is trial 18 with value: 0.16918490747672066.\n",
      "[I 2024-05-17 19:52:31,593] Trial 39 finished with value: 0.20121196780898995 and parameters: {'scalers': 'robust', 'n_neighbors': 478, 'weights': 'uniform', 'metric': 'euclidean'}. Best is trial 18 with value: 0.16918490747672066.\n",
      "[I 2024-05-17 19:52:31,976] Trial 40 finished with value: 0.1691870216437658 and parameters: {'scalers': 'robust', 'n_neighbors': 214, 'weights': 'distance', 'metric': 'manhattan'}. Best is trial 18 with value: 0.16918490747672066.\n",
      "[I 2024-05-17 19:52:32,376] Trial 41 finished with value: 0.16921184805591863 and parameters: {'scalers': 'robust', 'n_neighbors': 218, 'weights': 'distance', 'metric': 'manhattan'}. Best is trial 18 with value: 0.16918490747672066.\n",
      "[I 2024-05-17 19:52:32,712] Trial 42 finished with value: 0.18150057667805325 and parameters: {'scalers': 'standard', 'n_neighbors': 289, 'weights': 'distance', 'metric': 'minkowski'}. Best is trial 18 with value: 0.16918490747672066.\n",
      "[I 2024-05-17 19:52:32,993] Trial 43 finished with value: 0.20075900358416024 and parameters: {'scalers': 'robust', 'n_neighbors': 194, 'weights': 'uniform', 'metric': 'euclidean'}. Best is trial 18 with value: 0.16918490747672066.\n",
      "[I 2024-05-17 19:52:33,226] Trial 44 finished with value: 0.1731930979120444 and parameters: {'scalers': 'standard', 'n_neighbors': 76, 'weights': 'distance', 'metric': 'manhattan'}. Best is trial 18 with value: 0.16918490747672066.\n",
      "[I 2024-05-17 19:52:33,409] Trial 45 finished with value: 0.1703010223410138 and parameters: {'scalers': 'robust', 'n_neighbors': 68, 'weights': 'distance', 'metric': 'minkowski'}. Best is trial 18 with value: 0.16918490747672066.\n",
      "[I 2024-05-17 19:52:33,877] Trial 46 finished with value: 0.179826755860751 and parameters: {'scalers': 'minmax', 'n_neighbors': 355, 'weights': 'distance', 'metric': 'manhattan'}. Best is trial 18 with value: 0.16918490747672066.\n",
      "[I 2024-05-17 19:52:34,246] Trial 47 finished with value: 0.16924585170731266 and parameters: {'scalers': 'robust', 'n_neighbors': 198, 'weights': 'distance', 'metric': 'manhattan'}. Best is trial 18 with value: 0.16918490747672066.\n",
      "[I 2024-05-17 19:52:34,476] Trial 48 finished with value: 0.19535448694823643 and parameters: {'scalers': 'robust', 'n_neighbors': 65, 'weights': 'uniform', 'metric': 'manhattan'}. Best is trial 18 with value: 0.16918490747672066.\n",
      "[I 2024-05-17 19:52:34,929] Trial 49 finished with value: 0.18431099694866912 and parameters: {'scalers': 'standard', 'n_neighbors': 498, 'weights': 'distance', 'metric': 'euclidean'}. Best is trial 18 with value: 0.16918490747672066.\n",
      "[I 2024-05-17 19:52:35,259] Trial 50 finished with value: 0.20156427689058795 and parameters: {'scalers': 'robust', 'n_neighbors': 272, 'weights': 'uniform', 'metric': 'minkowski'}. Best is trial 18 with value: 0.16918490747672066.\n",
      "[I 2024-05-17 19:52:35,618] Trial 51 finished with value: 0.16922967107239079 and parameters: {'scalers': 'robust', 'n_neighbors': 189, 'weights': 'distance', 'metric': 'manhattan'}. Best is trial 18 with value: 0.16918490747672066.\n",
      "[I 2024-05-17 19:52:35,959] Trial 52 finished with value: 0.16925065715096776 and parameters: {'scalers': 'robust', 'n_neighbors': 171, 'weights': 'distance', 'metric': 'manhattan'}. Best is trial 18 with value: 0.16918490747672066.\n",
      "[I 2024-05-17 19:52:36,318] Trial 53 finished with value: 0.16923982858500144 and parameters: {'scalers': 'robust', 'n_neighbors': 179, 'weights': 'distance', 'metric': 'manhattan'}. Best is trial 18 with value: 0.16918490747672066.\n",
      "[I 2024-05-17 19:52:36,510] Trial 54 finished with value: 0.20996121180482705 and parameters: {'scalers': 'standard', 'n_neighbors': 90, 'weights': 'uniform', 'metric': 'minkowski'}. Best is trial 18 with value: 0.16918490747672066.\n",
      "[I 2024-05-17 19:52:36,701] Trial 55 finished with value: 0.17160122536524472 and parameters: {'scalers': 'robust', 'n_neighbors': 32, 'weights': 'distance', 'metric': 'manhattan'}. Best is trial 18 with value: 0.16918490747672066.\n",
      "[I 2024-05-17 19:52:37,030] Trial 56 finished with value: 0.16918570178776512 and parameters: {'scalers': 'robust', 'n_neighbors': 156, 'weights': 'distance', 'metric': 'manhattan'}. Best is trial 18 with value: 0.16918490747672066.\n",
      "[I 2024-05-17 19:52:37,326] Trial 57 finished with value: 0.16942663732052715 and parameters: {'scalers': 'robust', 'n_neighbors': 123, 'weights': 'distance', 'metric': 'manhattan'}. Best is trial 18 with value: 0.16918490747672066.\n",
      "[I 2024-05-17 19:52:37,578] Trial 58 finished with value: 0.1796919932903128 and parameters: {'scalers': 'minmax', 'n_neighbors': 154, 'weights': 'distance', 'metric': 'minkowski'}. Best is trial 18 with value: 0.16918490747672066.\n",
      "[I 2024-05-17 19:52:37,909] Trial 59 finished with value: 0.16916831561261356 and parameters: {'scalers': 'robust', 'n_neighbors': 153, 'weights': 'distance', 'metric': 'manhattan'}. Best is trial 59 with value: 0.16916831561261356.\n",
      "[I 2024-05-17 19:52:38,246] Trial 60 finished with value: 0.16946230919379587 and parameters: {'scalers': 'robust', 'n_neighbors': 136, 'weights': 'distance', 'metric': 'manhattan'}. Best is trial 59 with value: 0.16916831561261356.\n",
      "[I 2024-05-17 19:52:38,576] Trial 61 finished with value: 0.16924359151177865 and parameters: {'scalers': 'robust', 'n_neighbors': 166, 'weights': 'distance', 'metric': 'manhattan'}. Best is trial 59 with value: 0.16916831561261356.\n",
      "[I 2024-05-17 19:52:38,910] Trial 62 finished with value: 0.16924184131031458 and parameters: {'scalers': 'robust', 'n_neighbors': 159, 'weights': 'distance', 'metric': 'manhattan'}. Best is trial 59 with value: 0.16916831561261356.\n",
      "[I 2024-05-17 19:52:39,143] Trial 63 finished with value: 0.17737357860213437 and parameters: {'scalers': 'standard', 'n_neighbors': 149, 'weights': 'distance', 'metric': 'euclidean'}. Best is trial 59 with value: 0.16916831561261356.\n",
      "[I 2024-05-17 19:52:39,402] Trial 64 finished with value: 0.16972712617381652 and parameters: {'scalers': 'robust', 'n_neighbors': 165, 'weights': 'distance', 'metric': 'minkowski'}. Best is trial 59 with value: 0.16916831561261356.\n",
      "[I 2024-05-17 19:52:39,752] Trial 65 finished with value: 0.19928480886656338 and parameters: {'scalers': 'robust', 'n_neighbors': 170, 'weights': 'uniform', 'metric': 'manhattan'}. Best is trial 59 with value: 0.16916831561261356.\n",
      "[I 2024-05-17 19:52:40,093] Trial 66 finished with value: 0.16924950004770262 and parameters: {'scalers': 'robust', 'n_neighbors': 176, 'weights': 'distance', 'metric': 'manhattan'}. Best is trial 59 with value: 0.16916831561261356.\n",
      "[I 2024-05-17 19:52:40,444] Trial 67 finished with value: 0.16924950004770262 and parameters: {'scalers': 'robust', 'n_neighbors': 176, 'weights': 'distance', 'metric': 'manhattan'}. Best is trial 59 with value: 0.16916831561261356.\n",
      "[I 2024-05-17 19:52:40,876] Trial 68 finished with value: 0.23247435690886592 and parameters: {'scalers': 'minmax', 'n_neighbors': 462, 'weights': 'uniform', 'metric': 'euclidean'}. Best is trial 59 with value: 0.16916831561261356.\n",
      "[I 2024-05-17 19:52:41,401] Trial 69 finished with value: 0.23027951237412284 and parameters: {'scalers': 'minmax', 'n_neighbors': 496, 'weights': 'uniform', 'metric': 'manhattan'}. Best is trial 59 with value: 0.16916831561261356.\n",
      "[I 2024-05-17 19:52:41,769] Trial 70 finished with value: 0.17859026185319957 and parameters: {'scalers': 'minmax', 'n_neighbors': 203, 'weights': 'distance', 'metric': 'manhattan'}. Best is trial 59 with value: 0.16916831561261356.\n",
      "[I 2024-05-17 19:52:42,093] Trial 71 finished with value: 0.1692377775224269 and parameters: {'scalers': 'robust', 'n_neighbors': 161, 'weights': 'distance', 'metric': 'manhattan'}. Best is trial 59 with value: 0.16916831561261356.\n",
      "[I 2024-05-17 19:52:42,376] Trial 72 finished with value: 0.16988456445678 and parameters: {'scalers': 'robust', 'n_neighbors': 197, 'weights': 'distance', 'metric': 'euclidean'}. Best is trial 59 with value: 0.16916831561261356.\n",
      "[I 2024-05-17 19:52:42,743] Trial 73 finished with value: 0.16922967107239079 and parameters: {'scalers': 'robust', 'n_neighbors': 189, 'weights': 'distance', 'metric': 'manhattan'}. Best is trial 59 with value: 0.16916831561261356.\n",
      "[I 2024-05-17 19:52:43,116] Trial 74 finished with value: 0.1770709530202881 and parameters: {'scalers': 'standard', 'n_neighbors': 210, 'weights': 'distance', 'metric': 'manhattan'}. Best is trial 59 with value: 0.16916831561261356.\n",
      "[I 2024-05-17 19:52:43,497] Trial 75 finished with value: 0.16925800807644698 and parameters: {'scalers': 'robust', 'n_neighbors': 201, 'weights': 'distance', 'metric': 'manhattan'}. Best is trial 59 with value: 0.16916831561261356.\n",
      "[I 2024-05-17 19:52:43,760] Trial 76 finished with value: 0.16960587454258905 and parameters: {'scalers': 'robust', 'n_neighbors': 90, 'weights': 'distance', 'metric': 'manhattan'}. Best is trial 59 with value: 0.16916831561261356.\n",
      "[I 2024-05-17 19:52:44,143] Trial 77 finished with value: 0.16920853847509448 and parameters: {'scalers': 'robust', 'n_neighbors': 217, 'weights': 'distance', 'metric': 'manhattan'}. Best is trial 59 with value: 0.16916831561261356.\n",
      "[I 2024-05-17 19:52:44,561] Trial 78 finished with value: 0.16933168958896821 and parameters: {'scalers': 'robust', 'n_neighbors': 250, 'weights': 'distance', 'metric': 'manhattan'}. Best is trial 59 with value: 0.16916831561261356.\n",
      "[I 2024-05-17 19:52:44,977] Trial 79 finished with value: 0.20104408118939782 and parameters: {'scalers': 'robust', 'n_neighbors': 261, 'weights': 'uniform', 'metric': 'manhattan'}. Best is trial 59 with value: 0.16916831561261356.\n",
      "[I 2024-05-17 19:52:45,397] Trial 80 finished with value: 0.16943516213688709 and parameters: {'scalers': 'robust', 'n_neighbors': 261, 'weights': 'distance', 'metric': 'manhattan'}. Best is trial 59 with value: 0.16916831561261356.\n",
      "[I 2024-05-17 19:52:45,760] Trial 81 finished with value: 0.169249192739834 and parameters: {'scalers': 'robust', 'n_neighbors': 186, 'weights': 'distance', 'metric': 'manhattan'}. Best is trial 59 with value: 0.16916831561261356.\n",
      "[I 2024-05-17 19:52:46,144] Trial 82 finished with value: 0.16925280693095057 and parameters: {'scalers': 'robust', 'n_neighbors': 204, 'weights': 'distance', 'metric': 'manhattan'}. Best is trial 59 with value: 0.16916831561261356.\n",
      "[I 2024-05-17 19:52:46,460] Trial 83 finished with value: 0.16941902202838338 and parameters: {'scalers': 'robust', 'n_neighbors': 124, 'weights': 'distance', 'metric': 'manhattan'}. Best is trial 59 with value: 0.16916831561261356.\n",
      "[I 2024-05-17 19:52:46,819] Trial 84 finished with value: 0.23508113118119267 and parameters: {'scalers': 'standard', 'n_neighbors': 361, 'weights': 'uniform', 'metric': 'euclidean'}. Best is trial 59 with value: 0.16916831561261356.\n",
      "[I 2024-05-17 19:52:47,208] Trial 85 finished with value: 0.16924280159630425 and parameters: {'scalers': 'robust', 'n_neighbors': 208, 'weights': 'distance', 'metric': 'manhattan'}. Best is trial 59 with value: 0.16916831561261356.\n",
      "[I 2024-05-17 19:52:47,477] Trial 86 finished with value: 0.17559786954222176 and parameters: {'scalers': 'minmax', 'n_neighbors': 106, 'weights': 'distance', 'metric': 'manhattan'}. Best is trial 59 with value: 0.16916831561261356.\n",
      "[I 2024-05-17 19:52:47,827] Trial 87 finished with value: 0.16924950004770262 and parameters: {'scalers': 'robust', 'n_neighbors': 176, 'weights': 'distance', 'metric': 'manhattan'}. Best is trial 59 with value: 0.16916831561261356.\n",
      "[I 2024-05-17 19:52:48,093] Trial 88 finished with value: 0.22668510201330308 and parameters: {'scalers': 'minmax', 'n_neighbors': 182, 'weights': 'uniform', 'metric': 'euclidean'}. Best is trial 59 with value: 0.16916831561261356.\n",
      "[I 2024-05-17 19:52:48,515] Trial 89 finished with value: 0.16951883907884213 and parameters: {'scalers': 'robust', 'n_neighbors': 279, 'weights': 'distance', 'metric': 'manhattan'}. Best is trial 59 with value: 0.16916831561261356.\n",
      "[I 2024-05-17 19:52:48,743] Trial 90 finished with value: 0.22187365414820742 and parameters: {'scalers': 'minmax', 'n_neighbors': 142, 'weights': 'uniform', 'metric': 'minkowski'}. Best is trial 59 with value: 0.16916831561261356.\n",
      "[I 2024-05-17 19:52:49,110] Trial 91 finished with value: 0.1820667759161011 and parameters: {'scalers': 'standard', 'n_neighbors': 317, 'weights': 'distance', 'metric': 'euclidean'}. Best is trial 59 with value: 0.16916831561261356.\n",
      "[I 2024-05-17 19:52:49,420] Trial 92 finished with value: 0.16934553742462674 and parameters: {'scalers': 'robust', 'n_neighbors': 144, 'weights': 'distance', 'metric': 'manhattan'}. Best is trial 59 with value: 0.16916831561261356.\n",
      "[I 2024-05-17 19:52:49,754] Trial 93 finished with value: 0.18248190973099374 and parameters: {'scalers': 'minmax', 'n_neighbors': 271, 'weights': 'distance', 'metric': 'euclidean'}. Best is trial 59 with value: 0.16916831561261356.\n",
      "[I 2024-05-17 19:52:50,112] Trial 94 finished with value: 0.16922967107239079 and parameters: {'scalers': 'robust', 'n_neighbors': 189, 'weights': 'distance', 'metric': 'manhattan'}. Best is trial 59 with value: 0.16916831561261356.\n",
      "[I 2024-05-17 19:52:50,485] Trial 95 finished with value: 0.16924280159630425 and parameters: {'scalers': 'robust', 'n_neighbors': 208, 'weights': 'distance', 'metric': 'manhattan'}. Best is trial 59 with value: 0.16916831561261356.\n",
      "[I 2024-05-17 19:52:50,955] Trial 96 finished with value: 0.18291929989879258 and parameters: {'scalers': 'minmax', 'n_neighbors': 493, 'weights': 'distance', 'metric': 'minkowski'}. Best is trial 59 with value: 0.16916831561261356.\n",
      "[I 2024-05-17 19:52:51,235] Trial 97 finished with value: 0.1695063786216969 and parameters: {'scalers': 'robust', 'n_neighbors': 108, 'weights': 'distance', 'metric': 'manhattan'}. Best is trial 59 with value: 0.16916831561261356.\n",
      "[I 2024-05-17 19:52:51,536] Trial 98 finished with value: 0.17496043420663085 and parameters: {'scalers': 'standard', 'n_neighbors': 128, 'weights': 'distance', 'metric': 'manhattan'}. Best is trial 59 with value: 0.16916831561261356.\n",
      "[I 2024-05-17 19:52:51,903] Trial 99 finished with value: 0.1702757190047778 and parameters: {'scalers': 'robust', 'n_neighbors': 318, 'weights': 'distance', 'metric': 'minkowski'}. Best is trial 59 with value: 0.16916831561261356.\n",
      "[I 2024-05-17 19:52:52,294] Trial 100 finished with value: 0.1692545194570268 and parameters: {'scalers': 'robust', 'n_neighbors': 221, 'weights': 'distance', 'metric': 'manhattan'}. Best is trial 59 with value: 0.16916831561261356.\n",
      "[I 2024-05-17 19:52:52,644] Trial 101 finished with value: 0.16924708398998697 and parameters: {'scalers': 'robust', 'n_neighbors': 170, 'weights': 'distance', 'metric': 'manhattan'}. Best is trial 59 with value: 0.16916831561261356.\n",
      "[I 2024-05-17 19:52:52,777] Trial 102 finished with value: 0.19616782597179908 and parameters: {'scalers': 'robust', 'n_neighbors': 36, 'weights': 'uniform', 'metric': 'euclidean'}. Best is trial 59 with value: 0.16916831561261356.\n",
      "[I 2024-05-17 19:52:53,060] Trial 103 finished with value: 0.21720521510693738 and parameters: {'scalers': 'minmax', 'n_neighbors': 127, 'weights': 'uniform', 'metric': 'manhattan'}. Best is trial 59 with value: 0.16916831561261356.\n",
      "[I 2024-05-17 19:52:53,414] Trial 104 finished with value: 0.16925056728745666 and parameters: {'scalers': 'robust', 'n_neighbors': 183, 'weights': 'distance', 'metric': 'manhattan'}. Best is trial 59 with value: 0.16916831561261356.\n",
      "[I 2024-05-17 19:52:53,762] Trial 105 finished with value: 0.1692377775224269 and parameters: {'scalers': 'robust', 'n_neighbors': 161, 'weights': 'distance', 'metric': 'manhattan'}. Best is trial 59 with value: 0.16916831561261356.\n",
      "[I 2024-05-17 19:52:54,090] Trial 106 finished with value: 0.2312357005055512 and parameters: {'scalers': 'standard', 'n_neighbors': 272, 'weights': 'uniform', 'metric': 'minkowski'}. Best is trial 59 with value: 0.16916831561261356.\n",
      "[I 2024-05-17 19:52:54,554] Trial 107 finished with value: 0.17848347549057336 and parameters: {'scalers': 'standard', 'n_neighbors': 355, 'weights': 'distance', 'metric': 'manhattan'}. Best is trial 59 with value: 0.16916831561261356.\n",
      "[I 2024-05-17 19:52:54,711] Trial 108 finished with value: 0.2057772260205632 and parameters: {'scalers': 'standard', 'n_neighbors': 65, 'weights': 'uniform', 'metric': 'euclidean'}. Best is trial 59 with value: 0.16916831561261356.\n",
      "[I 2024-05-17 19:52:54,994] Trial 109 finished with value: 0.1694817126544139 and parameters: {'scalers': 'robust', 'n_neighbors': 116, 'weights': 'distance', 'metric': 'manhattan'}. Best is trial 59 with value: 0.16916831561261356.\n",
      "[I 2024-05-17 19:52:55,502] Trial 110 finished with value: 0.2264992563450851 and parameters: {'scalers': 'standard', 'n_neighbors': 463, 'weights': 'uniform', 'metric': 'manhattan'}. Best is trial 59 with value: 0.16916831561261356.\n",
      "[I 2024-05-17 19:52:55,744] Trial 111 finished with value: 0.16975726205306477 and parameters: {'scalers': 'robust', 'n_neighbors': 148, 'weights': 'distance', 'metric': 'euclidean'}. Best is trial 59 with value: 0.16916831561261356.\n",
      "[I 2024-05-17 19:52:56,126] Trial 112 finished with value: 0.1692492119165112 and parameters: {'scalers': 'robust', 'n_neighbors': 192, 'weights': 'distance', 'metric': 'manhattan'}. Best is trial 59 with value: 0.16916831561261356.\n",
      "[I 2024-05-17 19:52:56,417] Trial 113 finished with value: 0.16986530157713928 and parameters: {'scalers': 'robust', 'n_neighbors': 213, 'weights': 'distance', 'metric': 'minkowski'}. Best is trial 59 with value: 0.16916831561261356.\n",
      "[I 2024-05-17 19:52:56,792] Trial 114 finished with value: 0.16922967107239079 and parameters: {'scalers': 'robust', 'n_neighbors': 189, 'weights': 'distance', 'metric': 'manhattan'}. Best is trial 59 with value: 0.16916831561261356.\n",
      "[I 2024-05-17 19:52:57,177] Trial 115 finished with value: 0.16926014834448783 and parameters: {'scalers': 'robust', 'n_neighbors': 230, 'weights': 'distance', 'metric': 'manhattan'}. Best is trial 59 with value: 0.16916831561261356.\n",
      "[I 2024-05-17 19:52:57,461] Trial 116 finished with value: 0.16942853618435474 and parameters: {'scalers': 'robust', 'n_neighbors': 120, 'weights': 'distance', 'metric': 'manhattan'}. Best is trial 59 with value: 0.16916831561261356.\n",
      "[I 2024-05-17 19:52:57,844] Trial 117 finished with value: 0.16917194454294834 and parameters: {'scalers': 'robust', 'n_neighbors': 213, 'weights': 'distance', 'metric': 'manhattan'}. Best is trial 59 with value: 0.16916831561261356.\n",
      "[I 2024-05-17 19:52:58,272] Trial 118 finished with value: 0.16943061221305525 and parameters: {'scalers': 'robust', 'n_neighbors': 267, 'weights': 'distance', 'metric': 'manhattan'}. Best is trial 59 with value: 0.16916831561261356.\n",
      "[I 2024-05-17 19:52:58,689] Trial 119 finished with value: 0.1795544851241436 and parameters: {'scalers': 'minmax', 'n_neighbors': 264, 'weights': 'distance', 'metric': 'manhattan'}. Best is trial 59 with value: 0.16916831561261356.\n",
      "[I 2024-05-17 19:52:58,794] Trial 120 finished with value: 0.17445693521395042 and parameters: {'scalers': 'minmax', 'n_neighbors': 28, 'weights': 'distance', 'metric': 'euclidean'}. Best is trial 59 with value: 0.16916831561261356.\n",
      "[I 2024-05-17 19:52:59,227] Trial 121 finished with value: 0.20103798814110924 and parameters: {'scalers': 'robust', 'n_neighbors': 430, 'weights': 'uniform', 'metric': 'minkowski'}. Best is trial 59 with value: 0.16916831561261356.\n",
      "[I 2024-05-17 19:52:59,594] Trial 122 finished with value: 0.1692505728245336 and parameters: {'scalers': 'robust', 'n_neighbors': 196, 'weights': 'distance', 'metric': 'manhattan'}. Best is trial 59 with value: 0.16916831561261356.\n",
      "[I 2024-05-17 19:52:59,961] Trial 123 finished with value: 0.16925674431720633 and parameters: {'scalers': 'robust', 'n_neighbors': 200, 'weights': 'distance', 'metric': 'manhattan'}. Best is trial 59 with value: 0.16916831561261356.\n",
      "[I 2024-05-17 19:53:00,312] Trial 124 finished with value: 0.17010244308279224 and parameters: {'scalers': 'robust', 'n_neighbors': 266, 'weights': 'distance', 'metric': 'euclidean'}. Best is trial 59 with value: 0.16916831561261356.\n",
      "[I 2024-05-17 19:53:00,627] Trial 125 finished with value: 0.16925963919707251 and parameters: {'scalers': 'robust', 'n_neighbors': 148, 'weights': 'distance', 'metric': 'manhattan'}. Best is trial 59 with value: 0.16916831561261356.\n",
      "[I 2024-05-17 19:53:00,973] Trial 126 finished with value: 0.19774927865296926 and parameters: {'scalers': 'robust', 'n_neighbors': 124, 'weights': 'uniform', 'metric': 'manhattan'}. Best is trial 59 with value: 0.16916831561261356.\n",
      "[I 2024-05-17 19:53:01,388] Trial 127 finished with value: 0.16924300705053846 and parameters: {'scalers': 'robust', 'n_neighbors': 229, 'weights': 'distance', 'metric': 'manhattan'}. Best is trial 59 with value: 0.16916831561261356.\n",
      "[I 2024-05-17 19:53:01,761] Trial 128 finished with value: 0.16941216338288512 and parameters: {'scalers': 'robust', 'n_neighbors': 141, 'weights': 'distance', 'metric': 'manhattan'}. Best is trial 59 with value: 0.16916831561261356.\n",
      "[I 2024-05-17 19:53:02,195] Trial 129 finished with value: 0.16923182749882126 and parameters: {'scalers': 'robust', 'n_neighbors': 219, 'weights': 'distance', 'metric': 'manhattan'}. Best is trial 59 with value: 0.16916831561261356.\n",
      "[I 2024-05-17 19:53:02,683] Trial 130 finished with value: 0.16966787973808076 and parameters: {'scalers': 'robust', 'n_neighbors': 348, 'weights': 'distance', 'metric': 'manhattan'}. Best is trial 59 with value: 0.16916831561261356.\n",
      "[I 2024-05-17 19:53:03,083] Trial 131 finished with value: 0.16923962934508224 and parameters: {'scalers': 'robust', 'n_neighbors': 228, 'weights': 'distance', 'metric': 'manhattan'}. Best is trial 59 with value: 0.16916831561261356.\n",
      "[I 2024-05-17 19:53:03,482] Trial 132 finished with value: 0.16924585170731266 and parameters: {'scalers': 'robust', 'n_neighbors': 198, 'weights': 'distance', 'metric': 'manhattan'}. Best is trial 59 with value: 0.16916831561261356.\n",
      "[I 2024-05-17 19:53:03,869] Trial 133 finished with value: 0.16925301840301765 and parameters: {'scalers': 'robust', 'n_neighbors': 207, 'weights': 'distance', 'metric': 'manhattan'}. Best is trial 59 with value: 0.16916831561261356.\n",
      "[I 2024-05-17 19:53:04,160] Trial 134 finished with value: 0.16944578991814713 and parameters: {'scalers': 'robust', 'n_neighbors': 126, 'weights': 'distance', 'metric': 'manhattan'}. Best is trial 59 with value: 0.16916831561261356.\n",
      "[I 2024-05-17 19:53:04,595] Trial 135 finished with value: 0.1693676738747081 and parameters: {'scalers': 'robust', 'n_neighbors': 253, 'weights': 'distance', 'metric': 'manhattan'}. Best is trial 59 with value: 0.16916831561261356.\n",
      "[I 2024-05-17 19:53:04,977] Trial 136 finished with value: 0.17716259587718297 and parameters: {'scalers': 'standard', 'n_neighbors': 216, 'weights': 'distance', 'metric': 'manhattan'}. Best is trial 59 with value: 0.16916831561261356.\n",
      "[I 2024-05-17 19:53:05,330] Trial 137 finished with value: 0.16924708398998697 and parameters: {'scalers': 'robust', 'n_neighbors': 170, 'weights': 'distance', 'metric': 'manhattan'}. Best is trial 59 with value: 0.16916831561261356.\n",
      "[I 2024-05-17 19:53:05,695] Trial 138 finished with value: 0.16923752193704217 and parameters: {'scalers': 'robust', 'n_neighbors': 180, 'weights': 'distance', 'metric': 'manhattan'}. Best is trial 59 with value: 0.16916831561261356.\n",
      "[I 2024-05-17 19:53:06,106] Trial 139 finished with value: 0.16932192889093853 and parameters: {'scalers': 'robust', 'n_neighbors': 249, 'weights': 'distance', 'metric': 'manhattan'}. Best is trial 59 with value: 0.16916831561261356.\n",
      "[I 2024-05-17 19:53:06,510] Trial 140 finished with value: 0.20075213350062754 and parameters: {'scalers': 'robust', 'n_neighbors': 238, 'weights': 'uniform', 'metric': 'manhattan'}. Best is trial 59 with value: 0.16916831561261356.\n",
      "[I 2024-05-17 19:53:06,835] Trial 141 finished with value: 0.1694646189639329 and parameters: {'scalers': 'robust', 'n_neighbors': 140, 'weights': 'distance', 'metric': 'manhattan'}. Best is trial 59 with value: 0.16916831561261356.\n",
      "[I 2024-05-17 19:53:07,206] Trial 142 finished with value: 0.16923421588146664 and parameters: {'scalers': 'robust', 'n_neighbors': 178, 'weights': 'distance', 'metric': 'manhattan'}. Best is trial 59 with value: 0.16916831561261356.\n",
      "[I 2024-05-17 19:53:07,607] Trial 143 finished with value: 0.1691870216437658 and parameters: {'scalers': 'robust', 'n_neighbors': 214, 'weights': 'distance', 'metric': 'manhattan'}. Best is trial 59 with value: 0.16916831561261356.\n",
      "[I 2024-05-17 19:53:08,028] Trial 144 finished with value: 0.16939375513222563 and parameters: {'scalers': 'robust', 'n_neighbors': 257, 'weights': 'distance', 'metric': 'manhattan'}. Best is trial 59 with value: 0.16916831561261356.\n",
      "[I 2024-05-17 19:53:08,440] Trial 145 finished with value: 0.1692614085969523 and parameters: {'scalers': 'robust', 'n_neighbors': 236, 'weights': 'distance', 'metric': 'manhattan'}. Best is trial 59 with value: 0.16916831561261356.\n",
      "[I 2024-05-17 19:53:08,809] Trial 146 finished with value: 0.16924287538313063 and parameters: {'scalers': 'robust', 'n_neighbors': 199, 'weights': 'distance', 'metric': 'manhattan'}. Best is trial 59 with value: 0.16916831561261356.\n",
      "[I 2024-05-17 19:53:09,152] Trial 147 finished with value: 0.17794747419908943 and parameters: {'scalers': 'minmax', 'n_neighbors': 168, 'weights': 'distance', 'metric': 'manhattan'}. Best is trial 59 with value: 0.16916831561261356.\n",
      "[I 2024-05-17 19:53:09,342] Trial 148 finished with value: 0.1752816117701105 and parameters: {'scalers': 'standard', 'n_neighbors': 94, 'weights': 'distance', 'metric': 'minkowski'}. Best is trial 59 with value: 0.16916831561261356.\n",
      "[I 2024-05-17 19:53:09,580] Trial 149 finished with value: 0.16986057935072757 and parameters: {'scalers': 'robust', 'n_neighbors': 138, 'weights': 'distance', 'metric': 'minkowski'}. Best is trial 59 with value: 0.16916831561261356.\n",
      "[I 2024-05-17 19:53:09,975] Trial 150 finished with value: 0.16920853847509448 and parameters: {'scalers': 'robust', 'n_neighbors': 217, 'weights': 'distance', 'metric': 'manhattan'}. Best is trial 59 with value: 0.16916831561261356.\n",
      "[I 2024-05-17 19:53:10,374] Trial 151 finished with value: 0.16926936541766785 and parameters: {'scalers': 'robust', 'n_neighbors': 226, 'weights': 'distance', 'metric': 'manhattan'}. Best is trial 59 with value: 0.16916831561261356.\n",
      "[I 2024-05-17 19:53:10,759] Trial 152 finished with value: 0.16924280159630425 and parameters: {'scalers': 'robust', 'n_neighbors': 208, 'weights': 'distance', 'metric': 'manhattan'}. Best is trial 59 with value: 0.16916831561261356.\n",
      "[I 2024-05-17 19:53:11,128] Trial 153 finished with value: 0.16924446714684888 and parameters: {'scalers': 'robust', 'n_neighbors': 194, 'weights': 'distance', 'metric': 'manhattan'}. Best is trial 59 with value: 0.16916831561261356.\n",
      "[I 2024-05-17 19:53:11,558] Trial 154 finished with value: 0.1695158383337922 and parameters: {'scalers': 'robust', 'n_neighbors': 280, 'weights': 'distance', 'metric': 'manhattan'}. Best is trial 59 with value: 0.16916831561261356.\n",
      "[I 2024-05-17 19:53:11,897] Trial 155 finished with value: 0.16924708398998697 and parameters: {'scalers': 'robust', 'n_neighbors': 170, 'weights': 'distance', 'metric': 'manhattan'}. Best is trial 59 with value: 0.16916831561261356.\n",
      "[I 2024-05-17 19:53:12,246] Trial 156 finished with value: 0.16927089336925674 and parameters: {'scalers': 'robust', 'n_neighbors': 165, 'weights': 'distance', 'metric': 'manhattan'}. Best is trial 59 with value: 0.16916831561261356.\n",
      "[I 2024-05-17 19:53:12,617] Trial 157 finished with value: 0.16925800807644698 and parameters: {'scalers': 'robust', 'n_neighbors': 201, 'weights': 'distance', 'metric': 'manhattan'}. Best is trial 59 with value: 0.16916831561261356.\n",
      "[I 2024-05-17 19:53:12,850] Trial 158 finished with value: 0.16999584326682268 and parameters: {'scalers': 'robust', 'n_neighbors': 57, 'weights': 'distance', 'metric': 'manhattan'}. Best is trial 59 with value: 0.16916831561261356.\n",
      "[I 2024-05-17 19:53:13,277] Trial 159 finished with value: 0.1693676738747081 and parameters: {'scalers': 'robust', 'n_neighbors': 253, 'weights': 'distance', 'metric': 'manhattan'}. Best is trial 59 with value: 0.16916831561261356.\n",
      "[I 2024-05-17 19:53:13,613] Trial 160 finished with value: 0.16926186702982718 and parameters: {'scalers': 'robust', 'n_neighbors': 163, 'weights': 'distance', 'metric': 'manhattan'}. Best is trial 59 with value: 0.16916831561261356.\n",
      "[I 2024-05-17 19:53:13,961] Trial 161 finished with value: 0.16919322285200256 and parameters: {'scalers': 'robust', 'n_neighbors': 155, 'weights': 'distance', 'metric': 'manhattan'}. Best is trial 59 with value: 0.16916831561261356.\n",
      "[I 2024-05-17 19:53:14,295] Trial 162 finished with value: 0.16937168819687323 and parameters: {'scalers': 'robust', 'n_neighbors': 143, 'weights': 'distance', 'metric': 'manhattan'}. Best is trial 59 with value: 0.16916831561261356.\n",
      "[I 2024-05-17 19:53:14,661] Trial 163 finished with value: 0.22345046078206884 and parameters: {'scalers': 'standard', 'n_neighbors': 201, 'weights': 'uniform', 'metric': 'manhattan'}. Best is trial 59 with value: 0.16916831561261356.\n",
      "[I 2024-05-17 19:53:15,037] Trial 164 finished with value: 0.1692505728245336 and parameters: {'scalers': 'robust', 'n_neighbors': 196, 'weights': 'distance', 'metric': 'manhattan'}. Best is trial 59 with value: 0.16916831561261356.\n",
      "[I 2024-05-17 19:53:15,356] Trial 165 finished with value: 0.16948521382609527 and parameters: {'scalers': 'robust', 'n_neighbors': 139, 'weights': 'distance', 'metric': 'manhattan'}. Best is trial 59 with value: 0.16916831561261356.\n",
      "[I 2024-05-17 19:53:15,754] Trial 166 finished with value: 0.16926977400092125 and parameters: {'scalers': 'robust', 'n_neighbors': 225, 'weights': 'distance', 'metric': 'manhattan'}. Best is trial 59 with value: 0.16916831561261356.\n",
      "[I 2024-05-17 19:53:16,194] Trial 167 finished with value: 0.18399843398155452 and parameters: {'scalers': 'standard', 'n_neighbors': 451, 'weights': 'distance', 'metric': 'minkowski'}. Best is trial 59 with value: 0.16916831561261356.\n",
      "[I 2024-05-17 19:53:16,744] Trial 168 finished with value: 0.17040023927327497 and parameters: {'scalers': 'robust', 'n_neighbors': 486, 'weights': 'distance', 'metric': 'manhattan'}. Best is trial 59 with value: 0.16916831561261356.\n",
      "[I 2024-05-17 19:53:17,078] Trial 169 finished with value: 0.16923709260750938 and parameters: {'scalers': 'robust', 'n_neighbors': 167, 'weights': 'distance', 'metric': 'manhattan'}. Best is trial 59 with value: 0.16916831561261356.\n",
      "[I 2024-05-17 19:53:17,327] Trial 170 finished with value: 0.16977686572469505 and parameters: {'scalers': 'robust', 'n_neighbors': 143, 'weights': 'distance', 'metric': 'euclidean'}. Best is trial 59 with value: 0.16916831561261356.\n",
      "[I 2024-05-17 19:53:17,628] Trial 171 finished with value: 0.16946157533849204 and parameters: {'scalers': 'robust', 'n_neighbors': 127, 'weights': 'distance', 'metric': 'manhattan'}. Best is trial 59 with value: 0.16916831561261356.\n",
      "[I 2024-05-17 19:53:17,987] Trial 172 finished with value: 0.16923762487204858 and parameters: {'scalers': 'robust', 'n_neighbors': 191, 'weights': 'distance', 'metric': 'manhattan'}. Best is trial 59 with value: 0.16916831561261356.\n",
      "[I 2024-05-17 19:53:18,345] Trial 173 finished with value: 0.16923871179863356 and parameters: {'scalers': 'robust', 'n_neighbors': 181, 'weights': 'distance', 'metric': 'manhattan'}. Best is trial 59 with value: 0.16916831561261356.\n",
      "[I 2024-05-17 19:53:18,758] Trial 174 finished with value: 0.1692573022372601 and parameters: {'scalers': 'robust', 'n_neighbors': 234, 'weights': 'distance', 'metric': 'manhattan'}. Best is trial 59 with value: 0.16916831561261356.\n",
      "[I 2024-05-17 19:53:19,019] Trial 175 finished with value: 0.1696342181002349 and parameters: {'scalers': 'robust', 'n_neighbors': 94, 'weights': 'distance', 'metric': 'manhattan'}. Best is trial 59 with value: 0.16916831561261356.\n",
      "[I 2024-05-17 19:53:19,387] Trial 176 finished with value: 0.1692352718771753 and parameters: {'scalers': 'robust', 'n_neighbors': 188, 'weights': 'distance', 'metric': 'manhattan'}. Best is trial 59 with value: 0.16916831561261356.\n",
      "[I 2024-05-17 19:53:19,804] Trial 177 finished with value: 0.16943061221305525 and parameters: {'scalers': 'robust', 'n_neighbors': 267, 'weights': 'distance', 'metric': 'manhattan'}. Best is trial 59 with value: 0.16916831561261356.\n",
      "[I 2024-05-17 19:53:20,245] Trial 178 finished with value: 0.17060688138898517 and parameters: {'scalers': 'robust', 'n_neighbors': 439, 'weights': 'distance', 'metric': 'euclidean'}. Best is trial 59 with value: 0.16916831561261356.\n",
      "[I 2024-05-17 19:53:20,595] Trial 179 finished with value: 0.1692536885821697 and parameters: {'scalers': 'robust', 'n_neighbors': 172, 'weights': 'distance', 'metric': 'manhattan'}. Best is trial 59 with value: 0.16916831561261356.\n",
      "[I 2024-05-17 19:53:20,898] Trial 180 finished with value: 0.16985446661544687 and parameters: {'scalers': 'robust', 'n_neighbors': 219, 'weights': 'distance', 'metric': 'minkowski'}. Best is trial 59 with value: 0.16916831561261356.\n",
      "[I 2024-05-17 19:53:21,262] Trial 181 finished with value: 0.2011066023898291 and parameters: {'scalers': 'robust', 'n_neighbors': 347, 'weights': 'uniform', 'metric': 'euclidean'}. Best is trial 59 with value: 0.16916831561261356.\n",
      "[I 2024-05-17 19:53:21,595] Trial 182 finished with value: 0.16922956011041884 and parameters: {'scalers': 'robust', 'n_neighbors': 160, 'weights': 'distance', 'metric': 'manhattan'}. Best is trial 59 with value: 0.16916831561261356.\n",
      "[I 2024-05-17 19:53:21,924] Trial 183 finished with value: 0.16948521382609527 and parameters: {'scalers': 'robust', 'n_neighbors': 139, 'weights': 'distance', 'metric': 'manhattan'}. Best is trial 59 with value: 0.16916831561261356.\n",
      "[I 2024-05-17 19:53:22,295] Trial 184 finished with value: 0.16922967107239079 and parameters: {'scalers': 'robust', 'n_neighbors': 189, 'weights': 'distance', 'metric': 'manhattan'}. Best is trial 59 with value: 0.16916831561261356.\n",
      "[I 2024-05-17 19:53:22,714] Trial 185 finished with value: 0.16926354353720538 and parameters: {'scalers': 'robust', 'n_neighbors': 244, 'weights': 'distance', 'metric': 'manhattan'}. Best is trial 59 with value: 0.16916831561261356.\n",
      "[I 2024-05-17 19:53:23,095] Trial 186 finished with value: 0.16925800807644698 and parameters: {'scalers': 'robust', 'n_neighbors': 201, 'weights': 'distance', 'metric': 'manhattan'}. Best is trial 59 with value: 0.16916831561261356.\n",
      "[I 2024-05-17 19:53:23,465] Trial 187 finished with value: 0.16924280159630425 and parameters: {'scalers': 'robust', 'n_neighbors': 208, 'weights': 'distance', 'metric': 'manhattan'}. Best is trial 59 with value: 0.16916831561261356.\n",
      "[I 2024-05-17 19:53:23,661] Trial 188 finished with value: 0.19688232123483007 and parameters: {'scalers': 'standard', 'n_neighbors': 30, 'weights': 'uniform', 'metric': 'manhattan'}. Best is trial 59 with value: 0.16916831561261356.\n",
      "[I 2024-05-17 19:53:24,028] Trial 189 finished with value: 0.19985827781077956 and parameters: {'scalers': 'robust', 'n_neighbors': 192, 'weights': 'uniform', 'metric': 'manhattan'}. Best is trial 59 with value: 0.16916831561261356.\n",
      "[I 2024-05-17 19:53:24,340] Trial 190 finished with value: 0.16942663732052715 and parameters: {'scalers': 'robust', 'n_neighbors': 123, 'weights': 'distance', 'metric': 'manhattan'}. Best is trial 59 with value: 0.16916831561261356.\n",
      "[I 2024-05-17 19:53:24,678] Trial 191 finished with value: 0.16923209124700506 and parameters: {'scalers': 'robust', 'n_neighbors': 168, 'weights': 'distance', 'metric': 'manhattan'}. Best is trial 59 with value: 0.16916831561261356.\n",
      "[I 2024-05-17 19:53:25,045] Trial 192 finished with value: 0.16924874124688247 and parameters: {'scalers': 'robust', 'n_neighbors': 187, 'weights': 'distance', 'metric': 'manhattan'}. Best is trial 59 with value: 0.16916831561261356.\n",
      "[I 2024-05-17 19:53:25,406] Trial 193 finished with value: 0.16923421588146664 and parameters: {'scalers': 'robust', 'n_neighbors': 178, 'weights': 'distance', 'metric': 'manhattan'}. Best is trial 59 with value: 0.16916831561261356.\n",
      "[I 2024-05-17 19:53:25,712] Trial 194 finished with value: 0.1694422069238911 and parameters: {'scalers': 'robust', 'n_neighbors': 114, 'weights': 'distance', 'metric': 'manhattan'}. Best is trial 59 with value: 0.16916831561261356.\n",
      "[I 2024-05-17 19:53:26,123] Trial 195 finished with value: 0.16924300705053846 and parameters: {'scalers': 'robust', 'n_neighbors': 229, 'weights': 'distance', 'metric': 'manhattan'}. Best is trial 59 with value: 0.16916831561261356.\n",
      "[I 2024-05-17 19:53:26,462] Trial 196 finished with value: 0.16926186702982718 and parameters: {'scalers': 'robust', 'n_neighbors': 163, 'weights': 'distance', 'metric': 'manhattan'}. Best is trial 59 with value: 0.16916831561261356.\n",
      "[I 2024-05-17 19:53:26,903] Trial 197 finished with value: 0.16943061221305525 and parameters: {'scalers': 'robust', 'n_neighbors': 267, 'weights': 'distance', 'metric': 'manhattan'}. Best is trial 59 with value: 0.16916831561261356.\n",
      "[I 2024-05-17 19:53:27,212] Trial 198 finished with value: 0.1746990548553831 and parameters: {'scalers': 'standard', 'n_neighbors': 121, 'weights': 'distance', 'metric': 'manhattan'}. Best is trial 59 with value: 0.16916831561261356.\n",
      "[I 2024-05-17 19:53:27,562] Trial 199 finished with value: 0.16919322285200256 and parameters: {'scalers': 'robust', 'n_neighbors': 155, 'weights': 'distance', 'metric': 'manhattan'}. Best is trial 59 with value: 0.16916831561261356.\n"
     ]
    },
    {
     "name": "stdout",
     "output_type": "stream",
     "text": [
      "Number of finished trials:  200\n",
      "Best trial: 59\n",
      "  Value:  0.16916831561261356\n",
      "  Params: \n",
      "    scalers: robust\n",
      "    n_neighbors: 153\n",
      "    weights: distance\n",
      "    metric: manhattan\n"
     ]
    }
   ],
   "source": [
    "\n",
    "def objective(trial):\n",
    "    # split data in training and test data\n",
    "    X_train, X_test, y_train, y_test = train_test_split(df_encoded[df_encoded_features], df_encoded[target],\n",
    "                                                        test_size=0.25,\n",
    "                                                        random_state=777)\n",
    "\n",
    "    # Instantiate scaler\n",
    "    scalers = trial.suggest_categorical(\"scalers\", ['minmax', 'standard', 'robust', 'maxabs', None])\n",
    "\n",
    "    if scalers == \"minmax\":\n",
    "        scaler = MinMaxScaler()\n",
    "    elif scalers == \"standard\":\n",
    "        scaler = StandardScaler()\n",
    "    elif scalers == 'maxabs':\n",
    "        scaler = MaxAbsScaler()\n",
    "    elif scalers == 'robust':\n",
    "        scaler = RobustScaler()\n",
    "    else:\n",
    "        scaler = None\n",
    "\n",
    "    # Tune estimator algorithm\n",
    "    n_neighbors = trial.suggest_int(\"n_neighbors\", 1, 500)\n",
    "    weights = trial.suggest_categorical(\"weights\", ['uniform', 'distance'])\n",
    "    metric = trial.suggest_categorical(\"metric\", ['euclidean', 'manhattan', 'minkowski'])\n",
    "    knn = KNeighborsRegressor(n_neighbors=n_neighbors, weights=weights, metric=metric)\n",
    "\n",
    "    # Make a pipeline\n",
    "    pipeline = make_pipeline(scaler, knn)\n",
    "    pipeline.fit(X_train, y_train)\n",
    "\n",
    "\n",
    "    # Predict and estimate results\n",
    "    preds = pipeline.predict(X_test)\n",
    "    rmse = root_mean_squared_error(y_test, preds)\n",
    "\n",
    "    return rmse\n",
    "\n",
    "\n",
    "sampler = TPESampler(multivariate = True, group = True, seed = 777)\n",
    "study = optuna.create_study(study_name = \"KNN\", sampler = sampler)\n",
    "study.optimize(objective, n_trials = 150)\n",
    "trial = study.best_trial\n",
    "\n",
    "print(\"Number of finished trials: \", len(study.trials))\n",
    "print(\"Best trial:\", trial.number)\n",
    "print(\"  Value: \", trial.value)\n",
    "print(\"  Params: \")\n",
    "\n",
    "for key, value in trial.params.items():\n",
    "    print(\"    {}: {}\".format(key, value))"
   ]
  },
  {
   "cell_type": "code",
   "execution_count": 41,
   "metadata": {},
   "outputs": [
    {
     "data": {
      "application/vnd.plotly.v1+json": {
       "config": {
        "plotlyServerURL": "https://plot.ly"
       },
       "data": [
        {
         "mode": "markers",
         "name": "Objective Value",
         "type": "scatter",
         "x": [
          0,
          1,
          2,
          3,
          4,
          5,
          6,
          7,
          8,
          9,
          10,
          11,
          12,
          13,
          14,
          15,
          16,
          17,
          18,
          19,
          20,
          21,
          22,
          23,
          24,
          25,
          26,
          27,
          28,
          29,
          30,
          31,
          32,
          33,
          34,
          35,
          36,
          37,
          38,
          39,
          40,
          41,
          42,
          43,
          44,
          45,
          46,
          47,
          48,
          49,
          50,
          51,
          52,
          53,
          54,
          55,
          56,
          57,
          58,
          59,
          60,
          61,
          62,
          63,
          64,
          65,
          66,
          67,
          68,
          69,
          70,
          71,
          72,
          73,
          74,
          75,
          76,
          77,
          78,
          79,
          80,
          81,
          82,
          83,
          84,
          85,
          86,
          87,
          88,
          89,
          90,
          91,
          92,
          93,
          94,
          95,
          96,
          97,
          98,
          99,
          100,
          101,
          102,
          103,
          104,
          105,
          106,
          107,
          108,
          109,
          110,
          111,
          112,
          113,
          114,
          115,
          116,
          117,
          118,
          119,
          120,
          121,
          122,
          123,
          124,
          125,
          126,
          127,
          128,
          129,
          130,
          131,
          132,
          133,
          134,
          135,
          136,
          137,
          138,
          139,
          140,
          141,
          142,
          143,
          144,
          145,
          146,
          147,
          148,
          149,
          150,
          151,
          152,
          153,
          154,
          155,
          156,
          157,
          158,
          159,
          160,
          161,
          162,
          163,
          164,
          165,
          166,
          167,
          168,
          169,
          170,
          171,
          172,
          173,
          174,
          175,
          176,
          177,
          178,
          179,
          180,
          181,
          182,
          183,
          184,
          185,
          186,
          187,
          188,
          189,
          190,
          191,
          192,
          193,
          194,
          195,
          196,
          197,
          198,
          199
         ],
         "y": [
          0.17735936362636037,
          0.17971799732629964,
          0.20873079091331498,
          0.17002033659956992,
          0.17378409077479717,
          0.22892622769465265,
          0.18283134863140146,
          0.1705783521273964,
          0.17871412490299757,
          0.17008232836132825,
          0.1793442257211878,
          0.17028205290469717,
          0.1698762769039173,
          0.19785732260607272,
          0.17984339454013826,
          0.1697862495482686,
          0.1694213661497127,
          0.18101622007711268,
          0.16918490747672066,
          0.16946531733464965,
          0.20008788904295646,
          0.1694728876154081,
          0.1694123068910368,
          0.16971994991162817,
          0.16926251937643674,
          0.20118796060966668,
          0.2361482863589157,
          0.16988023183499978,
          0.2321976205239665,
          0.16939337388694684,
          0.2005241321762396,
          0.1695096231094551,
          0.1772986636085961,
          0.16924799102268884,
          0.17813032696883513,
          0.1825315197122736,
          0.16944222541418227,
          0.2294043948340058,
          0.2274774723166767,
          0.20121196780898995,
          0.1691870216437658,
          0.16921184805591863,
          0.18150057667805325,
          0.20075900358416024,
          0.1731930979120444,
          0.1703010223410138,
          0.179826755860751,
          0.16924585170731266,
          0.19535448694823643,
          0.18431099694866912,
          0.20156427689058795,
          0.16922967107239079,
          0.16925065715096776,
          0.16923982858500144,
          0.20996121180482705,
          0.17160122536524472,
          0.16918570178776512,
          0.16942663732052715,
          0.1796919932903128,
          0.16916831561261356,
          0.16946230919379587,
          0.16924359151177865,
          0.16924184131031458,
          0.17737357860213437,
          0.16972712617381652,
          0.19928480886656338,
          0.16924950004770262,
          0.16924950004770262,
          0.23247435690886592,
          0.23027951237412284,
          0.17859026185319957,
          0.1692377775224269,
          0.16988456445678,
          0.16922967107239079,
          0.1770709530202881,
          0.16925800807644698,
          0.16960587454258905,
          0.16920853847509448,
          0.16933168958896821,
          0.20104408118939782,
          0.16943516213688709,
          0.169249192739834,
          0.16925280693095057,
          0.16941902202838338,
          0.23508113118119267,
          0.16924280159630425,
          0.17559786954222176,
          0.16924950004770262,
          0.22668510201330308,
          0.16951883907884213,
          0.22187365414820742,
          0.1820667759161011,
          0.16934553742462674,
          0.18248190973099374,
          0.16922967107239079,
          0.16924280159630425,
          0.18291929989879258,
          0.1695063786216969,
          0.17496043420663085,
          0.1702757190047778,
          0.1692545194570268,
          0.16924708398998697,
          0.19616782597179908,
          0.21720521510693738,
          0.16925056728745666,
          0.1692377775224269,
          0.2312357005055512,
          0.17848347549057336,
          0.2057772260205632,
          0.1694817126544139,
          0.2264992563450851,
          0.16975726205306477,
          0.1692492119165112,
          0.16986530157713928,
          0.16922967107239079,
          0.16926014834448783,
          0.16942853618435474,
          0.16917194454294834,
          0.16943061221305525,
          0.1795544851241436,
          0.17445693521395042,
          0.20103798814110924,
          0.1692505728245336,
          0.16925674431720633,
          0.17010244308279224,
          0.16925963919707251,
          0.19774927865296926,
          0.16924300705053846,
          0.16941216338288512,
          0.16923182749882126,
          0.16966787973808076,
          0.16923962934508224,
          0.16924585170731266,
          0.16925301840301765,
          0.16944578991814713,
          0.1693676738747081,
          0.17716259587718297,
          0.16924708398998697,
          0.16923752193704217,
          0.16932192889093853,
          0.20075213350062754,
          0.1694646189639329,
          0.16923421588146664,
          0.1691870216437658,
          0.16939375513222563,
          0.1692614085969523,
          0.16924287538313063,
          0.17794747419908943,
          0.1752816117701105,
          0.16986057935072757,
          0.16920853847509448,
          0.16926936541766785,
          0.16924280159630425,
          0.16924446714684888,
          0.1695158383337922,
          0.16924708398998697,
          0.16927089336925674,
          0.16925800807644698,
          0.16999584326682268,
          0.1693676738747081,
          0.16926186702982718,
          0.16919322285200256,
          0.16937168819687323,
          0.22345046078206884,
          0.1692505728245336,
          0.16948521382609527,
          0.16926977400092125,
          0.18399843398155452,
          0.17040023927327497,
          0.16923709260750938,
          0.16977686572469505,
          0.16946157533849204,
          0.16923762487204858,
          0.16923871179863356,
          0.1692573022372601,
          0.1696342181002349,
          0.1692352718771753,
          0.16943061221305525,
          0.17060688138898517,
          0.1692536885821697,
          0.16985446661544687,
          0.2011066023898291,
          0.16922956011041884,
          0.16948521382609527,
          0.16922967107239079,
          0.16926354353720538,
          0.16925800807644698,
          0.16924280159630425,
          0.19688232123483007,
          0.19985827781077956,
          0.16942663732052715,
          0.16923209124700506,
          0.16924874124688247,
          0.16923421588146664,
          0.1694422069238911,
          0.16924300705053846,
          0.16926186702982718,
          0.16943061221305525,
          0.1746990548553831,
          0.16919322285200256
         ]
        },
        {
         "mode": "lines",
         "name": "Best Value",
         "type": "scatter",
         "x": [
          0,
          1,
          2,
          3,
          4,
          5,
          6,
          7,
          8,
          9,
          10,
          11,
          12,
          13,
          14,
          15,
          16,
          17,
          18,
          19,
          20,
          21,
          22,
          23,
          24,
          25,
          26,
          27,
          28,
          29,
          30,
          31,
          32,
          33,
          34,
          35,
          36,
          37,
          38,
          39,
          40,
          41,
          42,
          43,
          44,
          45,
          46,
          47,
          48,
          49,
          50,
          51,
          52,
          53,
          54,
          55,
          56,
          57,
          58,
          59,
          60,
          61,
          62,
          63,
          64,
          65,
          66,
          67,
          68,
          69,
          70,
          71,
          72,
          73,
          74,
          75,
          76,
          77,
          78,
          79,
          80,
          81,
          82,
          83,
          84,
          85,
          86,
          87,
          88,
          89,
          90,
          91,
          92,
          93,
          94,
          95,
          96,
          97,
          98,
          99,
          100,
          101,
          102,
          103,
          104,
          105,
          106,
          107,
          108,
          109,
          110,
          111,
          112,
          113,
          114,
          115,
          116,
          117,
          118,
          119,
          120,
          121,
          122,
          123,
          124,
          125,
          126,
          127,
          128,
          129,
          130,
          131,
          132,
          133,
          134,
          135,
          136,
          137,
          138,
          139,
          140,
          141,
          142,
          143,
          144,
          145,
          146,
          147,
          148,
          149,
          150,
          151,
          152,
          153,
          154,
          155,
          156,
          157,
          158,
          159,
          160,
          161,
          162,
          163,
          164,
          165,
          166,
          167,
          168,
          169,
          170,
          171,
          172,
          173,
          174,
          175,
          176,
          177,
          178,
          179,
          180,
          181,
          182,
          183,
          184,
          185,
          186,
          187,
          188,
          189,
          190,
          191,
          192,
          193,
          194,
          195,
          196,
          197,
          198,
          199
         ],
         "y": [
          0.17735936362636037,
          0.17735936362636037,
          0.17735936362636037,
          0.17002033659956992,
          0.17002033659956992,
          0.17002033659956992,
          0.17002033659956992,
          0.17002033659956992,
          0.17002033659956992,
          0.17002033659956992,
          0.17002033659956992,
          0.17002033659956992,
          0.1698762769039173,
          0.1698762769039173,
          0.1698762769039173,
          0.1697862495482686,
          0.1694213661497127,
          0.1694213661497127,
          0.16918490747672066,
          0.16918490747672066,
          0.16918490747672066,
          0.16918490747672066,
          0.16918490747672066,
          0.16918490747672066,
          0.16918490747672066,
          0.16918490747672066,
          0.16918490747672066,
          0.16918490747672066,
          0.16918490747672066,
          0.16918490747672066,
          0.16918490747672066,
          0.16918490747672066,
          0.16918490747672066,
          0.16918490747672066,
          0.16918490747672066,
          0.16918490747672066,
          0.16918490747672066,
          0.16918490747672066,
          0.16918490747672066,
          0.16918490747672066,
          0.16918490747672066,
          0.16918490747672066,
          0.16918490747672066,
          0.16918490747672066,
          0.16918490747672066,
          0.16918490747672066,
          0.16918490747672066,
          0.16918490747672066,
          0.16918490747672066,
          0.16918490747672066,
          0.16918490747672066,
          0.16918490747672066,
          0.16918490747672066,
          0.16918490747672066,
          0.16918490747672066,
          0.16918490747672066,
          0.16918490747672066,
          0.16918490747672066,
          0.16918490747672066,
          0.16916831561261356,
          0.16916831561261356,
          0.16916831561261356,
          0.16916831561261356,
          0.16916831561261356,
          0.16916831561261356,
          0.16916831561261356,
          0.16916831561261356,
          0.16916831561261356,
          0.16916831561261356,
          0.16916831561261356,
          0.16916831561261356,
          0.16916831561261356,
          0.16916831561261356,
          0.16916831561261356,
          0.16916831561261356,
          0.16916831561261356,
          0.16916831561261356,
          0.16916831561261356,
          0.16916831561261356,
          0.16916831561261356,
          0.16916831561261356,
          0.16916831561261356,
          0.16916831561261356,
          0.16916831561261356,
          0.16916831561261356,
          0.16916831561261356,
          0.16916831561261356,
          0.16916831561261356,
          0.16916831561261356,
          0.16916831561261356,
          0.16916831561261356,
          0.16916831561261356,
          0.16916831561261356,
          0.16916831561261356,
          0.16916831561261356,
          0.16916831561261356,
          0.16916831561261356,
          0.16916831561261356,
          0.16916831561261356,
          0.16916831561261356,
          0.16916831561261356,
          0.16916831561261356,
          0.16916831561261356,
          0.16916831561261356,
          0.16916831561261356,
          0.16916831561261356,
          0.16916831561261356,
          0.16916831561261356,
          0.16916831561261356,
          0.16916831561261356,
          0.16916831561261356,
          0.16916831561261356,
          0.16916831561261356,
          0.16916831561261356,
          0.16916831561261356,
          0.16916831561261356,
          0.16916831561261356,
          0.16916831561261356,
          0.16916831561261356,
          0.16916831561261356,
          0.16916831561261356,
          0.16916831561261356,
          0.16916831561261356,
          0.16916831561261356,
          0.16916831561261356,
          0.16916831561261356,
          0.16916831561261356,
          0.16916831561261356,
          0.16916831561261356,
          0.16916831561261356,
          0.16916831561261356,
          0.16916831561261356,
          0.16916831561261356,
          0.16916831561261356,
          0.16916831561261356,
          0.16916831561261356,
          0.16916831561261356,
          0.16916831561261356,
          0.16916831561261356,
          0.16916831561261356,
          0.16916831561261356,
          0.16916831561261356,
          0.16916831561261356,
          0.16916831561261356,
          0.16916831561261356,
          0.16916831561261356,
          0.16916831561261356,
          0.16916831561261356,
          0.16916831561261356,
          0.16916831561261356,
          0.16916831561261356,
          0.16916831561261356,
          0.16916831561261356,
          0.16916831561261356,
          0.16916831561261356,
          0.16916831561261356,
          0.16916831561261356,
          0.16916831561261356,
          0.16916831561261356,
          0.16916831561261356,
          0.16916831561261356,
          0.16916831561261356,
          0.16916831561261356,
          0.16916831561261356,
          0.16916831561261356,
          0.16916831561261356,
          0.16916831561261356,
          0.16916831561261356,
          0.16916831561261356,
          0.16916831561261356,
          0.16916831561261356,
          0.16916831561261356,
          0.16916831561261356,
          0.16916831561261356,
          0.16916831561261356,
          0.16916831561261356,
          0.16916831561261356,
          0.16916831561261356,
          0.16916831561261356,
          0.16916831561261356,
          0.16916831561261356,
          0.16916831561261356,
          0.16916831561261356,
          0.16916831561261356,
          0.16916831561261356,
          0.16916831561261356,
          0.16916831561261356,
          0.16916831561261356,
          0.16916831561261356,
          0.16916831561261356,
          0.16916831561261356,
          0.16916831561261356,
          0.16916831561261356,
          0.16916831561261356,
          0.16916831561261356,
          0.16916831561261356,
          0.16916831561261356,
          0.16916831561261356,
          0.16916831561261356,
          0.16916831561261356
         ]
        },
        {
         "marker": {
          "color": "#cccccc"
         },
         "mode": "markers",
         "name": "Infeasible Trial",
         "showlegend": false,
         "type": "scatter",
         "x": [],
         "y": []
        }
       ],
       "layout": {
        "template": {
         "data": {
          "bar": [
           {
            "error_x": {
             "color": "#2a3f5f"
            },
            "error_y": {
             "color": "#2a3f5f"
            },
            "marker": {
             "line": {
              "color": "#E5ECF6",
              "width": 0.5
             },
             "pattern": {
              "fillmode": "overlay",
              "size": 10,
              "solidity": 0.2
             }
            },
            "type": "bar"
           }
          ],
          "barpolar": [
           {
            "marker": {
             "line": {
              "color": "#E5ECF6",
              "width": 0.5
             },
             "pattern": {
              "fillmode": "overlay",
              "size": 10,
              "solidity": 0.2
             }
            },
            "type": "barpolar"
           }
          ],
          "carpet": [
           {
            "aaxis": {
             "endlinecolor": "#2a3f5f",
             "gridcolor": "white",
             "linecolor": "white",
             "minorgridcolor": "white",
             "startlinecolor": "#2a3f5f"
            },
            "baxis": {
             "endlinecolor": "#2a3f5f",
             "gridcolor": "white",
             "linecolor": "white",
             "minorgridcolor": "white",
             "startlinecolor": "#2a3f5f"
            },
            "type": "carpet"
           }
          ],
          "choropleth": [
           {
            "colorbar": {
             "outlinewidth": 0,
             "ticks": ""
            },
            "type": "choropleth"
           }
          ],
          "contour": [
           {
            "colorbar": {
             "outlinewidth": 0,
             "ticks": ""
            },
            "colorscale": [
             [
              0,
              "#0d0887"
             ],
             [
              0.1111111111111111,
              "#46039f"
             ],
             [
              0.2222222222222222,
              "#7201a8"
             ],
             [
              0.3333333333333333,
              "#9c179e"
             ],
             [
              0.4444444444444444,
              "#bd3786"
             ],
             [
              0.5555555555555556,
              "#d8576b"
             ],
             [
              0.6666666666666666,
              "#ed7953"
             ],
             [
              0.7777777777777778,
              "#fb9f3a"
             ],
             [
              0.8888888888888888,
              "#fdca26"
             ],
             [
              1,
              "#f0f921"
             ]
            ],
            "type": "contour"
           }
          ],
          "contourcarpet": [
           {
            "colorbar": {
             "outlinewidth": 0,
             "ticks": ""
            },
            "type": "contourcarpet"
           }
          ],
          "heatmap": [
           {
            "colorbar": {
             "outlinewidth": 0,
             "ticks": ""
            },
            "colorscale": [
             [
              0,
              "#0d0887"
             ],
             [
              0.1111111111111111,
              "#46039f"
             ],
             [
              0.2222222222222222,
              "#7201a8"
             ],
             [
              0.3333333333333333,
              "#9c179e"
             ],
             [
              0.4444444444444444,
              "#bd3786"
             ],
             [
              0.5555555555555556,
              "#d8576b"
             ],
             [
              0.6666666666666666,
              "#ed7953"
             ],
             [
              0.7777777777777778,
              "#fb9f3a"
             ],
             [
              0.8888888888888888,
              "#fdca26"
             ],
             [
              1,
              "#f0f921"
             ]
            ],
            "type": "heatmap"
           }
          ],
          "heatmapgl": [
           {
            "colorbar": {
             "outlinewidth": 0,
             "ticks": ""
            },
            "colorscale": [
             [
              0,
              "#0d0887"
             ],
             [
              0.1111111111111111,
              "#46039f"
             ],
             [
              0.2222222222222222,
              "#7201a8"
             ],
             [
              0.3333333333333333,
              "#9c179e"
             ],
             [
              0.4444444444444444,
              "#bd3786"
             ],
             [
              0.5555555555555556,
              "#d8576b"
             ],
             [
              0.6666666666666666,
              "#ed7953"
             ],
             [
              0.7777777777777778,
              "#fb9f3a"
             ],
             [
              0.8888888888888888,
              "#fdca26"
             ],
             [
              1,
              "#f0f921"
             ]
            ],
            "type": "heatmapgl"
           }
          ],
          "histogram": [
           {
            "marker": {
             "pattern": {
              "fillmode": "overlay",
              "size": 10,
              "solidity": 0.2
             }
            },
            "type": "histogram"
           }
          ],
          "histogram2d": [
           {
            "colorbar": {
             "outlinewidth": 0,
             "ticks": ""
            },
            "colorscale": [
             [
              0,
              "#0d0887"
             ],
             [
              0.1111111111111111,
              "#46039f"
             ],
             [
              0.2222222222222222,
              "#7201a8"
             ],
             [
              0.3333333333333333,
              "#9c179e"
             ],
             [
              0.4444444444444444,
              "#bd3786"
             ],
             [
              0.5555555555555556,
              "#d8576b"
             ],
             [
              0.6666666666666666,
              "#ed7953"
             ],
             [
              0.7777777777777778,
              "#fb9f3a"
             ],
             [
              0.8888888888888888,
              "#fdca26"
             ],
             [
              1,
              "#f0f921"
             ]
            ],
            "type": "histogram2d"
           }
          ],
          "histogram2dcontour": [
           {
            "colorbar": {
             "outlinewidth": 0,
             "ticks": ""
            },
            "colorscale": [
             [
              0,
              "#0d0887"
             ],
             [
              0.1111111111111111,
              "#46039f"
             ],
             [
              0.2222222222222222,
              "#7201a8"
             ],
             [
              0.3333333333333333,
              "#9c179e"
             ],
             [
              0.4444444444444444,
              "#bd3786"
             ],
             [
              0.5555555555555556,
              "#d8576b"
             ],
             [
              0.6666666666666666,
              "#ed7953"
             ],
             [
              0.7777777777777778,
              "#fb9f3a"
             ],
             [
              0.8888888888888888,
              "#fdca26"
             ],
             [
              1,
              "#f0f921"
             ]
            ],
            "type": "histogram2dcontour"
           }
          ],
          "mesh3d": [
           {
            "colorbar": {
             "outlinewidth": 0,
             "ticks": ""
            },
            "type": "mesh3d"
           }
          ],
          "parcoords": [
           {
            "line": {
             "colorbar": {
              "outlinewidth": 0,
              "ticks": ""
             }
            },
            "type": "parcoords"
           }
          ],
          "pie": [
           {
            "automargin": true,
            "type": "pie"
           }
          ],
          "scatter": [
           {
            "fillpattern": {
             "fillmode": "overlay",
             "size": 10,
             "solidity": 0.2
            },
            "type": "scatter"
           }
          ],
          "scatter3d": [
           {
            "line": {
             "colorbar": {
              "outlinewidth": 0,
              "ticks": ""
             }
            },
            "marker": {
             "colorbar": {
              "outlinewidth": 0,
              "ticks": ""
             }
            },
            "type": "scatter3d"
           }
          ],
          "scattercarpet": [
           {
            "marker": {
             "colorbar": {
              "outlinewidth": 0,
              "ticks": ""
             }
            },
            "type": "scattercarpet"
           }
          ],
          "scattergeo": [
           {
            "marker": {
             "colorbar": {
              "outlinewidth": 0,
              "ticks": ""
             }
            },
            "type": "scattergeo"
           }
          ],
          "scattergl": [
           {
            "marker": {
             "colorbar": {
              "outlinewidth": 0,
              "ticks": ""
             }
            },
            "type": "scattergl"
           }
          ],
          "scattermapbox": [
           {
            "marker": {
             "colorbar": {
              "outlinewidth": 0,
              "ticks": ""
             }
            },
            "type": "scattermapbox"
           }
          ],
          "scatterpolar": [
           {
            "marker": {
             "colorbar": {
              "outlinewidth": 0,
              "ticks": ""
             }
            },
            "type": "scatterpolar"
           }
          ],
          "scatterpolargl": [
           {
            "marker": {
             "colorbar": {
              "outlinewidth": 0,
              "ticks": ""
             }
            },
            "type": "scatterpolargl"
           }
          ],
          "scatterternary": [
           {
            "marker": {
             "colorbar": {
              "outlinewidth": 0,
              "ticks": ""
             }
            },
            "type": "scatterternary"
           }
          ],
          "surface": [
           {
            "colorbar": {
             "outlinewidth": 0,
             "ticks": ""
            },
            "colorscale": [
             [
              0,
              "#0d0887"
             ],
             [
              0.1111111111111111,
              "#46039f"
             ],
             [
              0.2222222222222222,
              "#7201a8"
             ],
             [
              0.3333333333333333,
              "#9c179e"
             ],
             [
              0.4444444444444444,
              "#bd3786"
             ],
             [
              0.5555555555555556,
              "#d8576b"
             ],
             [
              0.6666666666666666,
              "#ed7953"
             ],
             [
              0.7777777777777778,
              "#fb9f3a"
             ],
             [
              0.8888888888888888,
              "#fdca26"
             ],
             [
              1,
              "#f0f921"
             ]
            ],
            "type": "surface"
           }
          ],
          "table": [
           {
            "cells": {
             "fill": {
              "color": "#EBF0F8"
             },
             "line": {
              "color": "white"
             }
            },
            "header": {
             "fill": {
              "color": "#C8D4E3"
             },
             "line": {
              "color": "white"
             }
            },
            "type": "table"
           }
          ]
         },
         "layout": {
          "annotationdefaults": {
           "arrowcolor": "#2a3f5f",
           "arrowhead": 0,
           "arrowwidth": 1
          },
          "autotypenumbers": "strict",
          "coloraxis": {
           "colorbar": {
            "outlinewidth": 0,
            "ticks": ""
           }
          },
          "colorscale": {
           "diverging": [
            [
             0,
             "#8e0152"
            ],
            [
             0.1,
             "#c51b7d"
            ],
            [
             0.2,
             "#de77ae"
            ],
            [
             0.3,
             "#f1b6da"
            ],
            [
             0.4,
             "#fde0ef"
            ],
            [
             0.5,
             "#f7f7f7"
            ],
            [
             0.6,
             "#e6f5d0"
            ],
            [
             0.7,
             "#b8e186"
            ],
            [
             0.8,
             "#7fbc41"
            ],
            [
             0.9,
             "#4d9221"
            ],
            [
             1,
             "#276419"
            ]
           ],
           "sequential": [
            [
             0,
             "#0d0887"
            ],
            [
             0.1111111111111111,
             "#46039f"
            ],
            [
             0.2222222222222222,
             "#7201a8"
            ],
            [
             0.3333333333333333,
             "#9c179e"
            ],
            [
             0.4444444444444444,
             "#bd3786"
            ],
            [
             0.5555555555555556,
             "#d8576b"
            ],
            [
             0.6666666666666666,
             "#ed7953"
            ],
            [
             0.7777777777777778,
             "#fb9f3a"
            ],
            [
             0.8888888888888888,
             "#fdca26"
            ],
            [
             1,
             "#f0f921"
            ]
           ],
           "sequentialminus": [
            [
             0,
             "#0d0887"
            ],
            [
             0.1111111111111111,
             "#46039f"
            ],
            [
             0.2222222222222222,
             "#7201a8"
            ],
            [
             0.3333333333333333,
             "#9c179e"
            ],
            [
             0.4444444444444444,
             "#bd3786"
            ],
            [
             0.5555555555555556,
             "#d8576b"
            ],
            [
             0.6666666666666666,
             "#ed7953"
            ],
            [
             0.7777777777777778,
             "#fb9f3a"
            ],
            [
             0.8888888888888888,
             "#fdca26"
            ],
            [
             1,
             "#f0f921"
            ]
           ]
          },
          "colorway": [
           "#636efa",
           "#EF553B",
           "#00cc96",
           "#ab63fa",
           "#FFA15A",
           "#19d3f3",
           "#FF6692",
           "#B6E880",
           "#FF97FF",
           "#FECB52"
          ],
          "font": {
           "color": "#2a3f5f"
          },
          "geo": {
           "bgcolor": "white",
           "lakecolor": "white",
           "landcolor": "#E5ECF6",
           "showlakes": true,
           "showland": true,
           "subunitcolor": "white"
          },
          "hoverlabel": {
           "align": "left"
          },
          "hovermode": "closest",
          "mapbox": {
           "style": "light"
          },
          "paper_bgcolor": "white",
          "plot_bgcolor": "#E5ECF6",
          "polar": {
           "angularaxis": {
            "gridcolor": "white",
            "linecolor": "white",
            "ticks": ""
           },
           "bgcolor": "#E5ECF6",
           "radialaxis": {
            "gridcolor": "white",
            "linecolor": "white",
            "ticks": ""
           }
          },
          "scene": {
           "xaxis": {
            "backgroundcolor": "#E5ECF6",
            "gridcolor": "white",
            "gridwidth": 2,
            "linecolor": "white",
            "showbackground": true,
            "ticks": "",
            "zerolinecolor": "white"
           },
           "yaxis": {
            "backgroundcolor": "#E5ECF6",
            "gridcolor": "white",
            "gridwidth": 2,
            "linecolor": "white",
            "showbackground": true,
            "ticks": "",
            "zerolinecolor": "white"
           },
           "zaxis": {
            "backgroundcolor": "#E5ECF6",
            "gridcolor": "white",
            "gridwidth": 2,
            "linecolor": "white",
            "showbackground": true,
            "ticks": "",
            "zerolinecolor": "white"
           }
          },
          "shapedefaults": {
           "line": {
            "color": "#2a3f5f"
           }
          },
          "ternary": {
           "aaxis": {
            "gridcolor": "white",
            "linecolor": "white",
            "ticks": ""
           },
           "baxis": {
            "gridcolor": "white",
            "linecolor": "white",
            "ticks": ""
           },
           "bgcolor": "#E5ECF6",
           "caxis": {
            "gridcolor": "white",
            "linecolor": "white",
            "ticks": ""
           }
          },
          "title": {
           "x": 0.05
          },
          "xaxis": {
           "automargin": true,
           "gridcolor": "white",
           "linecolor": "white",
           "ticks": "",
           "title": {
            "standoff": 15
           },
           "zerolinecolor": "white",
           "zerolinewidth": 2
          },
          "yaxis": {
           "automargin": true,
           "gridcolor": "white",
           "linecolor": "white",
           "ticks": "",
           "title": {
            "standoff": 15
           },
           "zerolinecolor": "white",
           "zerolinewidth": 2
          }
         }
        },
        "title": {
         "text": "Optimization History Plot"
        },
        "xaxis": {
         "title": {
          "text": "Trial"
         }
        },
        "yaxis": {
         "title": {
          "text": "Objective Value"
         }
        }
       }
      }
     },
     "metadata": {},
     "output_type": "display_data"
    }
   ],
   "source": [
    "# History of optimization\n",
    "\n",
    "optuna.visualization.plot_optimization_history(study)"
   ]
  },
  {
   "cell_type": "code",
   "execution_count": 42,
   "metadata": {},
   "outputs": [
    {
     "data": {
      "application/vnd.plotly.v1+json": {
       "config": {
        "plotlyServerURL": "https://plot.ly"
       },
       "data": [
        {
         "marker": {
          "color": [
           0,
           1,
           2,
           3,
           4,
           5,
           6,
           7,
           8,
           9,
           10,
           11,
           12,
           13,
           14,
           15,
           16,
           17,
           18,
           19,
           20,
           21,
           22,
           23,
           24,
           25,
           26,
           27,
           28,
           29,
           30,
           31,
           32,
           33,
           34,
           35,
           36,
           37,
           38,
           39,
           40,
           41,
           42,
           43,
           44,
           45,
           46,
           47,
           48,
           49,
           50,
           51,
           52,
           53,
           54,
           55,
           56,
           57,
           58,
           59,
           60,
           61,
           62,
           63,
           64,
           65,
           66,
           67,
           68,
           69,
           70,
           71,
           72,
           73,
           74,
           75,
           76,
           77,
           78,
           79,
           80,
           81,
           82,
           83,
           84,
           85,
           86,
           87,
           88,
           89,
           90,
           91,
           92,
           93,
           94,
           95,
           96,
           97,
           98,
           99,
           100,
           101,
           102,
           103,
           104,
           105,
           106,
           107,
           108,
           109,
           110,
           111,
           112,
           113,
           114,
           115,
           116,
           117,
           118,
           119,
           120,
           121,
           122,
           123,
           124,
           125,
           126,
           127,
           128,
           129,
           130,
           131,
           132,
           133,
           134,
           135,
           136,
           137,
           138,
           139,
           140,
           141,
           142,
           143,
           144,
           145,
           146,
           147,
           148,
           149,
           150,
           151,
           152,
           153,
           154,
           155,
           156,
           157,
           158,
           159,
           160,
           161,
           162,
           163,
           164,
           165,
           166,
           167,
           168,
           169,
           170,
           171,
           172,
           173,
           174,
           175,
           176,
           177,
           178,
           179,
           180,
           181,
           182,
           183,
           184,
           185,
           186,
           187,
           188,
           189,
           190,
           191,
           192,
           193,
           194,
           195,
           196,
           197,
           198,
           199
          ],
          "colorbar": {
           "title": {
            "text": "Trial"
           },
           "x": 1,
           "xpad": 40
          },
          "colorscale": [
           [
            0,
            "rgb(247,251,255)"
           ],
           [
            0.125,
            "rgb(222,235,247)"
           ],
           [
            0.25,
            "rgb(198,219,239)"
           ],
           [
            0.375,
            "rgb(158,202,225)"
           ],
           [
            0.5,
            "rgb(107,174,214)"
           ],
           [
            0.625,
            "rgb(66,146,198)"
           ],
           [
            0.75,
            "rgb(33,113,181)"
           ],
           [
            0.875,
            "rgb(8,81,156)"
           ],
           [
            1,
            "rgb(8,48,107)"
           ]
          ],
          "line": {
           "color": "Grey",
           "width": 0.5
          },
          "showscale": true
         },
         "mode": "markers",
         "name": "Feasible Trial",
         "showlegend": false,
         "type": "scatter",
         "x": [
          "manhattan",
          "manhattan",
          "manhattan",
          "euclidean",
          "minkowski",
          "euclidean",
          "euclidean",
          "minkowski",
          "manhattan",
          "euclidean",
          "euclidean",
          "euclidean",
          "euclidean",
          "minkowski",
          "euclidean",
          "euclidean",
          "manhattan",
          "manhattan",
          "manhattan",
          "manhattan",
          "manhattan",
          "manhattan",
          "manhattan",
          "manhattan",
          "manhattan",
          "manhattan",
          "minkowski",
          "minkowski",
          "minkowski",
          "manhattan",
          "euclidean",
          "manhattan",
          "manhattan",
          "manhattan",
          "manhattan",
          "minkowski",
          "manhattan",
          "manhattan",
          "manhattan",
          "euclidean",
          "manhattan",
          "manhattan",
          "minkowski",
          "euclidean",
          "manhattan",
          "minkowski",
          "manhattan",
          "manhattan",
          "manhattan",
          "euclidean",
          "minkowski",
          "manhattan",
          "manhattan",
          "manhattan",
          "minkowski",
          "manhattan",
          "manhattan",
          "manhattan",
          "minkowski",
          "manhattan",
          "manhattan",
          "manhattan",
          "manhattan",
          "euclidean",
          "minkowski",
          "manhattan",
          "manhattan",
          "manhattan",
          "euclidean",
          "manhattan",
          "manhattan",
          "manhattan",
          "euclidean",
          "manhattan",
          "manhattan",
          "manhattan",
          "manhattan",
          "manhattan",
          "manhattan",
          "manhattan",
          "manhattan",
          "manhattan",
          "manhattan",
          "manhattan",
          "euclidean",
          "manhattan",
          "manhattan",
          "manhattan",
          "euclidean",
          "manhattan",
          "minkowski",
          "euclidean",
          "manhattan",
          "euclidean",
          "manhattan",
          "manhattan",
          "minkowski",
          "manhattan",
          "manhattan",
          "minkowski",
          "manhattan",
          "manhattan",
          "euclidean",
          "manhattan",
          "manhattan",
          "manhattan",
          "minkowski",
          "manhattan",
          "euclidean",
          "manhattan",
          "manhattan",
          "euclidean",
          "manhattan",
          "minkowski",
          "manhattan",
          "manhattan",
          "manhattan",
          "manhattan",
          "manhattan",
          "manhattan",
          "euclidean",
          "minkowski",
          "manhattan",
          "manhattan",
          "euclidean",
          "manhattan",
          "manhattan",
          "manhattan",
          "manhattan",
          "manhattan",
          "manhattan",
          "manhattan",
          "manhattan",
          "manhattan",
          "manhattan",
          "manhattan",
          "manhattan",
          "manhattan",
          "manhattan",
          "manhattan",
          "manhattan",
          "manhattan",
          "manhattan",
          "manhattan",
          "manhattan",
          "manhattan",
          "manhattan",
          "manhattan",
          "minkowski",
          "minkowski",
          "manhattan",
          "manhattan",
          "manhattan",
          "manhattan",
          "manhattan",
          "manhattan",
          "manhattan",
          "manhattan",
          "manhattan",
          "manhattan",
          "manhattan",
          "manhattan",
          "manhattan",
          "manhattan",
          "manhattan",
          "manhattan",
          "manhattan",
          "minkowski",
          "manhattan",
          "manhattan",
          "euclidean",
          "manhattan",
          "manhattan",
          "manhattan",
          "manhattan",
          "manhattan",
          "manhattan",
          "manhattan",
          "euclidean",
          "manhattan",
          "minkowski",
          "euclidean",
          "manhattan",
          "manhattan",
          "manhattan",
          "manhattan",
          "manhattan",
          "manhattan",
          "manhattan",
          "manhattan",
          "manhattan",
          "manhattan",
          "manhattan",
          "manhattan",
          "manhattan",
          "manhattan",
          "manhattan",
          "manhattan",
          "manhattan",
          "manhattan"
         ],
         "xaxis": "x",
         "y": [
          0.17735936362636037,
          0.17971799732629964,
          0.20873079091331498,
          0.17002033659956992,
          0.17378409077479717,
          0.22892622769465265,
          0.18283134863140146,
          0.1705783521273964,
          0.17871412490299757,
          0.17008232836132825,
          0.1793442257211878,
          0.17028205290469717,
          0.1698762769039173,
          0.19785732260607272,
          0.17984339454013826,
          0.1697862495482686,
          0.1694213661497127,
          0.18101622007711268,
          0.16918490747672066,
          0.16946531733464965,
          0.20008788904295646,
          0.1694728876154081,
          0.1694123068910368,
          0.16971994991162817,
          0.16926251937643674,
          0.20118796060966668,
          0.2361482863589157,
          0.16988023183499978,
          0.2321976205239665,
          0.16939337388694684,
          0.2005241321762396,
          0.1695096231094551,
          0.1772986636085961,
          0.16924799102268884,
          0.17813032696883513,
          0.1825315197122736,
          0.16944222541418227,
          0.2294043948340058,
          0.2274774723166767,
          0.20121196780898995,
          0.1691870216437658,
          0.16921184805591863,
          0.18150057667805325,
          0.20075900358416024,
          0.1731930979120444,
          0.1703010223410138,
          0.179826755860751,
          0.16924585170731266,
          0.19535448694823643,
          0.18431099694866912,
          0.20156427689058795,
          0.16922967107239079,
          0.16925065715096776,
          0.16923982858500144,
          0.20996121180482705,
          0.17160122536524472,
          0.16918570178776512,
          0.16942663732052715,
          0.1796919932903128,
          0.16916831561261356,
          0.16946230919379587,
          0.16924359151177865,
          0.16924184131031458,
          0.17737357860213437,
          0.16972712617381652,
          0.19928480886656338,
          0.16924950004770262,
          0.16924950004770262,
          0.23247435690886592,
          0.23027951237412284,
          0.17859026185319957,
          0.1692377775224269,
          0.16988456445678,
          0.16922967107239079,
          0.1770709530202881,
          0.16925800807644698,
          0.16960587454258905,
          0.16920853847509448,
          0.16933168958896821,
          0.20104408118939782,
          0.16943516213688709,
          0.169249192739834,
          0.16925280693095057,
          0.16941902202838338,
          0.23508113118119267,
          0.16924280159630425,
          0.17559786954222176,
          0.16924950004770262,
          0.22668510201330308,
          0.16951883907884213,
          0.22187365414820742,
          0.1820667759161011,
          0.16934553742462674,
          0.18248190973099374,
          0.16922967107239079,
          0.16924280159630425,
          0.18291929989879258,
          0.1695063786216969,
          0.17496043420663085,
          0.1702757190047778,
          0.1692545194570268,
          0.16924708398998697,
          0.19616782597179908,
          0.21720521510693738,
          0.16925056728745666,
          0.1692377775224269,
          0.2312357005055512,
          0.17848347549057336,
          0.2057772260205632,
          0.1694817126544139,
          0.2264992563450851,
          0.16975726205306477,
          0.1692492119165112,
          0.16986530157713928,
          0.16922967107239079,
          0.16926014834448783,
          0.16942853618435474,
          0.16917194454294834,
          0.16943061221305525,
          0.1795544851241436,
          0.17445693521395042,
          0.20103798814110924,
          0.1692505728245336,
          0.16925674431720633,
          0.17010244308279224,
          0.16925963919707251,
          0.19774927865296926,
          0.16924300705053846,
          0.16941216338288512,
          0.16923182749882126,
          0.16966787973808076,
          0.16923962934508224,
          0.16924585170731266,
          0.16925301840301765,
          0.16944578991814713,
          0.1693676738747081,
          0.17716259587718297,
          0.16924708398998697,
          0.16923752193704217,
          0.16932192889093853,
          0.20075213350062754,
          0.1694646189639329,
          0.16923421588146664,
          0.1691870216437658,
          0.16939375513222563,
          0.1692614085969523,
          0.16924287538313063,
          0.17794747419908943,
          0.1752816117701105,
          0.16986057935072757,
          0.16920853847509448,
          0.16926936541766785,
          0.16924280159630425,
          0.16924446714684888,
          0.1695158383337922,
          0.16924708398998697,
          0.16927089336925674,
          0.16925800807644698,
          0.16999584326682268,
          0.1693676738747081,
          0.16926186702982718,
          0.16919322285200256,
          0.16937168819687323,
          0.22345046078206884,
          0.1692505728245336,
          0.16948521382609527,
          0.16926977400092125,
          0.18399843398155452,
          0.17040023927327497,
          0.16923709260750938,
          0.16977686572469505,
          0.16946157533849204,
          0.16923762487204858,
          0.16923871179863356,
          0.1692573022372601,
          0.1696342181002349,
          0.1692352718771753,
          0.16943061221305525,
          0.17060688138898517,
          0.1692536885821697,
          0.16985446661544687,
          0.2011066023898291,
          0.16922956011041884,
          0.16948521382609527,
          0.16922967107239079,
          0.16926354353720538,
          0.16925800807644698,
          0.16924280159630425,
          0.19688232123483007,
          0.19985827781077956,
          0.16942663732052715,
          0.16923209124700506,
          0.16924874124688247,
          0.16923421588146664,
          0.1694422069238911,
          0.16924300705053846,
          0.16926186702982718,
          0.16943061221305525,
          0.1746990548553831,
          0.16919322285200256
         ],
         "yaxis": "y"
        },
        {
         "marker": {
          "color": [
           0,
           1,
           2,
           3,
           4,
           5,
           6,
           7,
           8,
           9,
           10,
           11,
           12,
           13,
           14,
           15,
           16,
           17,
           18,
           19,
           20,
           21,
           22,
           23,
           24,
           25,
           26,
           27,
           28,
           29,
           30,
           31,
           32,
           33,
           34,
           35,
           36,
           37,
           38,
           39,
           40,
           41,
           42,
           43,
           44,
           45,
           46,
           47,
           48,
           49,
           50,
           51,
           52,
           53,
           54,
           55,
           56,
           57,
           58,
           59,
           60,
           61,
           62,
           63,
           64,
           65,
           66,
           67,
           68,
           69,
           70,
           71,
           72,
           73,
           74,
           75,
           76,
           77,
           78,
           79,
           80,
           81,
           82,
           83,
           84,
           85,
           86,
           87,
           88,
           89,
           90,
           91,
           92,
           93,
           94,
           95,
           96,
           97,
           98,
           99,
           100,
           101,
           102,
           103,
           104,
           105,
           106,
           107,
           108,
           109,
           110,
           111,
           112,
           113,
           114,
           115,
           116,
           117,
           118,
           119,
           120,
           121,
           122,
           123,
           124,
           125,
           126,
           127,
           128,
           129,
           130,
           131,
           132,
           133,
           134,
           135,
           136,
           137,
           138,
           139,
           140,
           141,
           142,
           143,
           144,
           145,
           146,
           147,
           148,
           149,
           150,
           151,
           152,
           153,
           154,
           155,
           156,
           157,
           158,
           159,
           160,
           161,
           162,
           163,
           164,
           165,
           166,
           167,
           168,
           169,
           170,
           171,
           172,
           173,
           174,
           175,
           176,
           177,
           178,
           179,
           180,
           181,
           182,
           183,
           184,
           185,
           186,
           187,
           188,
           189,
           190,
           191,
           192,
           193,
           194,
           195,
           196,
           197,
           198,
           199
          ],
          "colorbar": {
           "title": {
            "text": "Trial"
           },
           "x": 1,
           "xpad": 40
          },
          "colorscale": [
           [
            0,
            "rgb(247,251,255)"
           ],
           [
            0.125,
            "rgb(222,235,247)"
           ],
           [
            0.25,
            "rgb(198,219,239)"
           ],
           [
            0.375,
            "rgb(158,202,225)"
           ],
           [
            0.5,
            "rgb(107,174,214)"
           ],
           [
            0.625,
            "rgb(66,146,198)"
           ],
           [
            0.75,
            "rgb(33,113,181)"
           ],
           [
            0.875,
            "rgb(8,81,156)"
           ],
           [
            1,
            "rgb(8,48,107)"
           ]
          ],
          "line": {
           "color": "Grey",
           "width": 0.5
          },
          "showscale": false
         },
         "mode": "markers",
         "name": "Feasible Trial",
         "showlegend": false,
         "type": "scatter",
         "x": [
          230,
          295,
          94,
          113,
          62,
          237,
          462,
          418,
          446,
          260,
          9,
          319,
          180,
          105,
          159,
          133,
          125,
          6,
          157,
          138,
          199,
          133,
          259,
          356,
          235,
          372,
          465,
          232,
          318,
          256,
          28,
          278,
          226,
          240,
          179,
          322,
          271,
          253,
          292,
          478,
          214,
          218,
          289,
          194,
          76,
          68,
          355,
          198,
          65,
          498,
          272,
          189,
          171,
          179,
          90,
          32,
          156,
          123,
          154,
          153,
          136,
          166,
          159,
          149,
          165,
          170,
          176,
          176,
          462,
          496,
          203,
          161,
          197,
          189,
          210,
          201,
          90,
          217,
          250,
          261,
          261,
          186,
          204,
          124,
          361,
          208,
          106,
          176,
          182,
          279,
          142,
          317,
          144,
          271,
          189,
          208,
          493,
          108,
          128,
          318,
          221,
          170,
          36,
          127,
          183,
          161,
          272,
          355,
          65,
          116,
          463,
          148,
          192,
          213,
          189,
          230,
          120,
          213,
          267,
          264,
          28,
          430,
          196,
          200,
          266,
          148,
          124,
          229,
          141,
          219,
          348,
          228,
          198,
          207,
          126,
          253,
          216,
          170,
          180,
          249,
          238,
          140,
          178,
          214,
          257,
          236,
          199,
          168,
          94,
          138,
          217,
          226,
          208,
          194,
          280,
          170,
          165,
          201,
          57,
          253,
          163,
          155,
          143,
          201,
          196,
          139,
          225,
          451,
          486,
          167,
          143,
          127,
          191,
          181,
          234,
          94,
          188,
          267,
          439,
          172,
          219,
          347,
          160,
          139,
          189,
          244,
          201,
          208,
          30,
          192,
          123,
          168,
          187,
          178,
          114,
          229,
          163,
          267,
          121,
          155
         ],
         "xaxis": "x2",
         "y": [
          0.17735936362636037,
          0.17971799732629964,
          0.20873079091331498,
          0.17002033659956992,
          0.17378409077479717,
          0.22892622769465265,
          0.18283134863140146,
          0.1705783521273964,
          0.17871412490299757,
          0.17008232836132825,
          0.1793442257211878,
          0.17028205290469717,
          0.1698762769039173,
          0.19785732260607272,
          0.17984339454013826,
          0.1697862495482686,
          0.1694213661497127,
          0.18101622007711268,
          0.16918490747672066,
          0.16946531733464965,
          0.20008788904295646,
          0.1694728876154081,
          0.1694123068910368,
          0.16971994991162817,
          0.16926251937643674,
          0.20118796060966668,
          0.2361482863589157,
          0.16988023183499978,
          0.2321976205239665,
          0.16939337388694684,
          0.2005241321762396,
          0.1695096231094551,
          0.1772986636085961,
          0.16924799102268884,
          0.17813032696883513,
          0.1825315197122736,
          0.16944222541418227,
          0.2294043948340058,
          0.2274774723166767,
          0.20121196780898995,
          0.1691870216437658,
          0.16921184805591863,
          0.18150057667805325,
          0.20075900358416024,
          0.1731930979120444,
          0.1703010223410138,
          0.179826755860751,
          0.16924585170731266,
          0.19535448694823643,
          0.18431099694866912,
          0.20156427689058795,
          0.16922967107239079,
          0.16925065715096776,
          0.16923982858500144,
          0.20996121180482705,
          0.17160122536524472,
          0.16918570178776512,
          0.16942663732052715,
          0.1796919932903128,
          0.16916831561261356,
          0.16946230919379587,
          0.16924359151177865,
          0.16924184131031458,
          0.17737357860213437,
          0.16972712617381652,
          0.19928480886656338,
          0.16924950004770262,
          0.16924950004770262,
          0.23247435690886592,
          0.23027951237412284,
          0.17859026185319957,
          0.1692377775224269,
          0.16988456445678,
          0.16922967107239079,
          0.1770709530202881,
          0.16925800807644698,
          0.16960587454258905,
          0.16920853847509448,
          0.16933168958896821,
          0.20104408118939782,
          0.16943516213688709,
          0.169249192739834,
          0.16925280693095057,
          0.16941902202838338,
          0.23508113118119267,
          0.16924280159630425,
          0.17559786954222176,
          0.16924950004770262,
          0.22668510201330308,
          0.16951883907884213,
          0.22187365414820742,
          0.1820667759161011,
          0.16934553742462674,
          0.18248190973099374,
          0.16922967107239079,
          0.16924280159630425,
          0.18291929989879258,
          0.1695063786216969,
          0.17496043420663085,
          0.1702757190047778,
          0.1692545194570268,
          0.16924708398998697,
          0.19616782597179908,
          0.21720521510693738,
          0.16925056728745666,
          0.1692377775224269,
          0.2312357005055512,
          0.17848347549057336,
          0.2057772260205632,
          0.1694817126544139,
          0.2264992563450851,
          0.16975726205306477,
          0.1692492119165112,
          0.16986530157713928,
          0.16922967107239079,
          0.16926014834448783,
          0.16942853618435474,
          0.16917194454294834,
          0.16943061221305525,
          0.1795544851241436,
          0.17445693521395042,
          0.20103798814110924,
          0.1692505728245336,
          0.16925674431720633,
          0.17010244308279224,
          0.16925963919707251,
          0.19774927865296926,
          0.16924300705053846,
          0.16941216338288512,
          0.16923182749882126,
          0.16966787973808076,
          0.16923962934508224,
          0.16924585170731266,
          0.16925301840301765,
          0.16944578991814713,
          0.1693676738747081,
          0.17716259587718297,
          0.16924708398998697,
          0.16923752193704217,
          0.16932192889093853,
          0.20075213350062754,
          0.1694646189639329,
          0.16923421588146664,
          0.1691870216437658,
          0.16939375513222563,
          0.1692614085969523,
          0.16924287538313063,
          0.17794747419908943,
          0.1752816117701105,
          0.16986057935072757,
          0.16920853847509448,
          0.16926936541766785,
          0.16924280159630425,
          0.16924446714684888,
          0.1695158383337922,
          0.16924708398998697,
          0.16927089336925674,
          0.16925800807644698,
          0.16999584326682268,
          0.1693676738747081,
          0.16926186702982718,
          0.16919322285200256,
          0.16937168819687323,
          0.22345046078206884,
          0.1692505728245336,
          0.16948521382609527,
          0.16926977400092125,
          0.18399843398155452,
          0.17040023927327497,
          0.16923709260750938,
          0.16977686572469505,
          0.16946157533849204,
          0.16923762487204858,
          0.16923871179863356,
          0.1692573022372601,
          0.1696342181002349,
          0.1692352718771753,
          0.16943061221305525,
          0.17060688138898517,
          0.1692536885821697,
          0.16985446661544687,
          0.2011066023898291,
          0.16922956011041884,
          0.16948521382609527,
          0.16922967107239079,
          0.16926354353720538,
          0.16925800807644698,
          0.16924280159630425,
          0.19688232123483007,
          0.19985827781077956,
          0.16942663732052715,
          0.16923209124700506,
          0.16924874124688247,
          0.16923421588146664,
          0.1694422069238911,
          0.16924300705053846,
          0.16926186702982718,
          0.16943061221305525,
          0.1746990548553831,
          0.16919322285200256
         ],
         "yaxis": "y2"
        },
        {
         "marker": {
          "color": [
           0,
           1,
           2,
           3,
           4,
           5,
           6,
           7,
           8,
           9,
           10,
           11,
           12,
           13,
           14,
           15,
           16,
           17,
           18,
           19,
           20,
           21,
           22,
           23,
           24,
           25,
           26,
           27,
           28,
           29,
           30,
           31,
           32,
           33,
           34,
           35,
           36,
           37,
           38,
           39,
           40,
           41,
           42,
           43,
           44,
           45,
           46,
           47,
           48,
           49,
           50,
           51,
           52,
           53,
           54,
           55,
           56,
           57,
           58,
           59,
           60,
           61,
           62,
           63,
           64,
           65,
           66,
           67,
           68,
           69,
           70,
           71,
           72,
           73,
           74,
           75,
           76,
           77,
           78,
           79,
           80,
           81,
           82,
           83,
           84,
           85,
           86,
           87,
           88,
           89,
           90,
           91,
           92,
           93,
           94,
           95,
           96,
           97,
           98,
           99,
           100,
           101,
           102,
           103,
           104,
           105,
           106,
           107,
           108,
           109,
           110,
           111,
           112,
           113,
           114,
           115,
           116,
           117,
           118,
           119,
           120,
           121,
           122,
           123,
           124,
           125,
           126,
           127,
           128,
           129,
           130,
           131,
           132,
           133,
           134,
           135,
           136,
           137,
           138,
           139,
           140,
           141,
           142,
           143,
           144,
           145,
           146,
           147,
           148,
           149,
           150,
           151,
           152,
           153,
           154,
           155,
           156,
           157,
           158,
           159,
           160,
           161,
           162,
           163,
           164,
           165,
           166,
           167,
           168,
           169,
           170,
           171,
           172,
           173,
           174,
           175,
           176,
           177,
           178,
           179,
           180,
           181,
           182,
           183,
           184,
           185,
           186,
           187,
           188,
           189,
           190,
           191,
           192,
           193,
           194,
           195,
           196,
           197,
           198,
           199
          ],
          "colorbar": {
           "title": {
            "text": "Trial"
           },
           "x": 1,
           "xpad": 40
          },
          "colorscale": [
           [
            0,
            "rgb(247,251,255)"
           ],
           [
            0.125,
            "rgb(222,235,247)"
           ],
           [
            0.25,
            "rgb(198,219,239)"
           ],
           [
            0.375,
            "rgb(158,202,225)"
           ],
           [
            0.5,
            "rgb(107,174,214)"
           ],
           [
            0.625,
            "rgb(66,146,198)"
           ],
           [
            0.75,
            "rgb(33,113,181)"
           ],
           [
            0.875,
            "rgb(8,81,156)"
           ],
           [
            1,
            "rgb(8,48,107)"
           ]
          ],
          "line": {
           "color": "Grey",
           "width": 0.5
          },
          "showscale": false
         },
         "mode": "markers",
         "name": "Feasible Trial",
         "showlegend": false,
         "type": "scatter",
         "x": [
          "standard",
          "minmax",
          "standard",
          "robust",
          "standard",
          "standard",
          "minmax",
          "robust",
          "standard",
          "robust",
          "robust",
          "robust",
          "robust",
          "robust",
          "minmax",
          "robust",
          "robust",
          "minmax",
          "robust",
          "robust",
          "robust",
          "robust",
          "robust",
          "robust",
          "robust",
          "robust",
          "standard",
          "robust",
          "minmax",
          "robust",
          "minmax",
          "robust",
          "standard",
          "robust",
          "minmax",
          "minmax",
          "robust",
          "minmax",
          "standard",
          "robust",
          "robust",
          "robust",
          "standard",
          "robust",
          "standard",
          "robust",
          "minmax",
          "robust",
          "robust",
          "standard",
          "robust",
          "robust",
          "robust",
          "robust",
          "standard",
          "robust",
          "robust",
          "robust",
          "minmax",
          "robust",
          "robust",
          "robust",
          "robust",
          "standard",
          "robust",
          "robust",
          "robust",
          "robust",
          "minmax",
          "minmax",
          "minmax",
          "robust",
          "robust",
          "robust",
          "standard",
          "robust",
          "robust",
          "robust",
          "robust",
          "robust",
          "robust",
          "robust",
          "robust",
          "robust",
          "standard",
          "robust",
          "minmax",
          "robust",
          "minmax",
          "robust",
          "minmax",
          "standard",
          "robust",
          "minmax",
          "robust",
          "robust",
          "minmax",
          "robust",
          "standard",
          "robust",
          "robust",
          "robust",
          "robust",
          "minmax",
          "robust",
          "robust",
          "standard",
          "standard",
          "standard",
          "robust",
          "standard",
          "robust",
          "robust",
          "robust",
          "robust",
          "robust",
          "robust",
          "robust",
          "robust",
          "minmax",
          "minmax",
          "robust",
          "robust",
          "robust",
          "robust",
          "robust",
          "robust",
          "robust",
          "robust",
          "robust",
          "robust",
          "robust",
          "robust",
          "robust",
          "robust",
          "robust",
          "standard",
          "robust",
          "robust",
          "robust",
          "robust",
          "robust",
          "robust",
          "robust",
          "robust",
          "robust",
          "robust",
          "minmax",
          "standard",
          "robust",
          "robust",
          "robust",
          "robust",
          "robust",
          "robust",
          "robust",
          "robust",
          "robust",
          "robust",
          "robust",
          "robust",
          "robust",
          "robust",
          "standard",
          "robust",
          "robust",
          "robust",
          "standard",
          "robust",
          "robust",
          "robust",
          "robust",
          "robust",
          "robust",
          "robust",
          "robust",
          "robust",
          "robust",
          "robust",
          "robust",
          "robust",
          "robust",
          "robust",
          "robust",
          "robust",
          "robust",
          "robust",
          "robust",
          "standard",
          "robust",
          "robust",
          "robust",
          "robust",
          "robust",
          "robust",
          "robust",
          "robust",
          "robust",
          "standard",
          "robust"
         ],
         "xaxis": "x3",
         "y": [
          0.17735936362636037,
          0.17971799732629964,
          0.20873079091331498,
          0.17002033659956992,
          0.17378409077479717,
          0.22892622769465265,
          0.18283134863140146,
          0.1705783521273964,
          0.17871412490299757,
          0.17008232836132825,
          0.1793442257211878,
          0.17028205290469717,
          0.1698762769039173,
          0.19785732260607272,
          0.17984339454013826,
          0.1697862495482686,
          0.1694213661497127,
          0.18101622007711268,
          0.16918490747672066,
          0.16946531733464965,
          0.20008788904295646,
          0.1694728876154081,
          0.1694123068910368,
          0.16971994991162817,
          0.16926251937643674,
          0.20118796060966668,
          0.2361482863589157,
          0.16988023183499978,
          0.2321976205239665,
          0.16939337388694684,
          0.2005241321762396,
          0.1695096231094551,
          0.1772986636085961,
          0.16924799102268884,
          0.17813032696883513,
          0.1825315197122736,
          0.16944222541418227,
          0.2294043948340058,
          0.2274774723166767,
          0.20121196780898995,
          0.1691870216437658,
          0.16921184805591863,
          0.18150057667805325,
          0.20075900358416024,
          0.1731930979120444,
          0.1703010223410138,
          0.179826755860751,
          0.16924585170731266,
          0.19535448694823643,
          0.18431099694866912,
          0.20156427689058795,
          0.16922967107239079,
          0.16925065715096776,
          0.16923982858500144,
          0.20996121180482705,
          0.17160122536524472,
          0.16918570178776512,
          0.16942663732052715,
          0.1796919932903128,
          0.16916831561261356,
          0.16946230919379587,
          0.16924359151177865,
          0.16924184131031458,
          0.17737357860213437,
          0.16972712617381652,
          0.19928480886656338,
          0.16924950004770262,
          0.16924950004770262,
          0.23247435690886592,
          0.23027951237412284,
          0.17859026185319957,
          0.1692377775224269,
          0.16988456445678,
          0.16922967107239079,
          0.1770709530202881,
          0.16925800807644698,
          0.16960587454258905,
          0.16920853847509448,
          0.16933168958896821,
          0.20104408118939782,
          0.16943516213688709,
          0.169249192739834,
          0.16925280693095057,
          0.16941902202838338,
          0.23508113118119267,
          0.16924280159630425,
          0.17559786954222176,
          0.16924950004770262,
          0.22668510201330308,
          0.16951883907884213,
          0.22187365414820742,
          0.1820667759161011,
          0.16934553742462674,
          0.18248190973099374,
          0.16922967107239079,
          0.16924280159630425,
          0.18291929989879258,
          0.1695063786216969,
          0.17496043420663085,
          0.1702757190047778,
          0.1692545194570268,
          0.16924708398998697,
          0.19616782597179908,
          0.21720521510693738,
          0.16925056728745666,
          0.1692377775224269,
          0.2312357005055512,
          0.17848347549057336,
          0.2057772260205632,
          0.1694817126544139,
          0.2264992563450851,
          0.16975726205306477,
          0.1692492119165112,
          0.16986530157713928,
          0.16922967107239079,
          0.16926014834448783,
          0.16942853618435474,
          0.16917194454294834,
          0.16943061221305525,
          0.1795544851241436,
          0.17445693521395042,
          0.20103798814110924,
          0.1692505728245336,
          0.16925674431720633,
          0.17010244308279224,
          0.16925963919707251,
          0.19774927865296926,
          0.16924300705053846,
          0.16941216338288512,
          0.16923182749882126,
          0.16966787973808076,
          0.16923962934508224,
          0.16924585170731266,
          0.16925301840301765,
          0.16944578991814713,
          0.1693676738747081,
          0.17716259587718297,
          0.16924708398998697,
          0.16923752193704217,
          0.16932192889093853,
          0.20075213350062754,
          0.1694646189639329,
          0.16923421588146664,
          0.1691870216437658,
          0.16939375513222563,
          0.1692614085969523,
          0.16924287538313063,
          0.17794747419908943,
          0.1752816117701105,
          0.16986057935072757,
          0.16920853847509448,
          0.16926936541766785,
          0.16924280159630425,
          0.16924446714684888,
          0.1695158383337922,
          0.16924708398998697,
          0.16927089336925674,
          0.16925800807644698,
          0.16999584326682268,
          0.1693676738747081,
          0.16926186702982718,
          0.16919322285200256,
          0.16937168819687323,
          0.22345046078206884,
          0.1692505728245336,
          0.16948521382609527,
          0.16926977400092125,
          0.18399843398155452,
          0.17040023927327497,
          0.16923709260750938,
          0.16977686572469505,
          0.16946157533849204,
          0.16923762487204858,
          0.16923871179863356,
          0.1692573022372601,
          0.1696342181002349,
          0.1692352718771753,
          0.16943061221305525,
          0.17060688138898517,
          0.1692536885821697,
          0.16985446661544687,
          0.2011066023898291,
          0.16922956011041884,
          0.16948521382609527,
          0.16922967107239079,
          0.16926354353720538,
          0.16925800807644698,
          0.16924280159630425,
          0.19688232123483007,
          0.19985827781077956,
          0.16942663732052715,
          0.16923209124700506,
          0.16924874124688247,
          0.16923421588146664,
          0.1694422069238911,
          0.16924300705053846,
          0.16926186702982718,
          0.16943061221305525,
          0.1746990548553831,
          0.16919322285200256
         ],
         "yaxis": "y3"
        },
        {
         "marker": {
          "color": [
           0,
           1,
           2,
           3,
           4,
           5,
           6,
           7,
           8,
           9,
           10,
           11,
           12,
           13,
           14,
           15,
           16,
           17,
           18,
           19,
           20,
           21,
           22,
           23,
           24,
           25,
           26,
           27,
           28,
           29,
           30,
           31,
           32,
           33,
           34,
           35,
           36,
           37,
           38,
           39,
           40,
           41,
           42,
           43,
           44,
           45,
           46,
           47,
           48,
           49,
           50,
           51,
           52,
           53,
           54,
           55,
           56,
           57,
           58,
           59,
           60,
           61,
           62,
           63,
           64,
           65,
           66,
           67,
           68,
           69,
           70,
           71,
           72,
           73,
           74,
           75,
           76,
           77,
           78,
           79,
           80,
           81,
           82,
           83,
           84,
           85,
           86,
           87,
           88,
           89,
           90,
           91,
           92,
           93,
           94,
           95,
           96,
           97,
           98,
           99,
           100,
           101,
           102,
           103,
           104,
           105,
           106,
           107,
           108,
           109,
           110,
           111,
           112,
           113,
           114,
           115,
           116,
           117,
           118,
           119,
           120,
           121,
           122,
           123,
           124,
           125,
           126,
           127,
           128,
           129,
           130,
           131,
           132,
           133,
           134,
           135,
           136,
           137,
           138,
           139,
           140,
           141,
           142,
           143,
           144,
           145,
           146,
           147,
           148,
           149,
           150,
           151,
           152,
           153,
           154,
           155,
           156,
           157,
           158,
           159,
           160,
           161,
           162,
           163,
           164,
           165,
           166,
           167,
           168,
           169,
           170,
           171,
           172,
           173,
           174,
           175,
           176,
           177,
           178,
           179,
           180,
           181,
           182,
           183,
           184,
           185,
           186,
           187,
           188,
           189,
           190,
           191,
           192,
           193,
           194,
           195,
           196,
           197,
           198,
           199
          ],
          "colorbar": {
           "title": {
            "text": "Trial"
           },
           "x": 1,
           "xpad": 40
          },
          "colorscale": [
           [
            0,
            "rgb(247,251,255)"
           ],
           [
            0.125,
            "rgb(222,235,247)"
           ],
           [
            0.25,
            "rgb(198,219,239)"
           ],
           [
            0.375,
            "rgb(158,202,225)"
           ],
           [
            0.5,
            "rgb(107,174,214)"
           ],
           [
            0.625,
            "rgb(66,146,198)"
           ],
           [
            0.75,
            "rgb(33,113,181)"
           ],
           [
            0.875,
            "rgb(8,81,156)"
           ],
           [
            1,
            "rgb(8,48,107)"
           ]
          ],
          "line": {
           "color": "Grey",
           "width": 0.5
          },
          "showscale": false
         },
         "mode": "markers",
         "name": "Feasible Trial",
         "showlegend": false,
         "type": "scatter",
         "x": [
          "distance",
          "distance",
          "uniform",
          "distance",
          "distance",
          "uniform",
          "distance",
          "distance",
          "distance",
          "distance",
          "distance",
          "distance",
          "distance",
          "uniform",
          "distance",
          "distance",
          "distance",
          "distance",
          "distance",
          "distance",
          "uniform",
          "distance",
          "distance",
          "distance",
          "distance",
          "uniform",
          "uniform",
          "distance",
          "uniform",
          "distance",
          "uniform",
          "distance",
          "distance",
          "distance",
          "distance",
          "distance",
          "distance",
          "uniform",
          "uniform",
          "uniform",
          "distance",
          "distance",
          "distance",
          "uniform",
          "distance",
          "distance",
          "distance",
          "distance",
          "uniform",
          "distance",
          "uniform",
          "distance",
          "distance",
          "distance",
          "uniform",
          "distance",
          "distance",
          "distance",
          "distance",
          "distance",
          "distance",
          "distance",
          "distance",
          "distance",
          "distance",
          "uniform",
          "distance",
          "distance",
          "uniform",
          "uniform",
          "distance",
          "distance",
          "distance",
          "distance",
          "distance",
          "distance",
          "distance",
          "distance",
          "distance",
          "uniform",
          "distance",
          "distance",
          "distance",
          "distance",
          "uniform",
          "distance",
          "distance",
          "distance",
          "uniform",
          "distance",
          "uniform",
          "distance",
          "distance",
          "distance",
          "distance",
          "distance",
          "distance",
          "distance",
          "distance",
          "distance",
          "distance",
          "distance",
          "uniform",
          "uniform",
          "distance",
          "distance",
          "uniform",
          "distance",
          "uniform",
          "distance",
          "uniform",
          "distance",
          "distance",
          "distance",
          "distance",
          "distance",
          "distance",
          "distance",
          "distance",
          "distance",
          "distance",
          "uniform",
          "distance",
          "distance",
          "distance",
          "distance",
          "uniform",
          "distance",
          "distance",
          "distance",
          "distance",
          "distance",
          "distance",
          "distance",
          "distance",
          "distance",
          "distance",
          "distance",
          "distance",
          "distance",
          "uniform",
          "distance",
          "distance",
          "distance",
          "distance",
          "distance",
          "distance",
          "distance",
          "distance",
          "distance",
          "distance",
          "distance",
          "distance",
          "distance",
          "distance",
          "distance",
          "distance",
          "distance",
          "distance",
          "distance",
          "distance",
          "distance",
          "distance",
          "uniform",
          "distance",
          "distance",
          "distance",
          "distance",
          "distance",
          "distance",
          "distance",
          "distance",
          "distance",
          "distance",
          "distance",
          "distance",
          "distance",
          "distance",
          "distance",
          "distance",
          "distance",
          "uniform",
          "distance",
          "distance",
          "distance",
          "distance",
          "distance",
          "distance",
          "uniform",
          "uniform",
          "distance",
          "distance",
          "distance",
          "distance",
          "distance",
          "distance",
          "distance",
          "distance",
          "distance",
          "distance"
         ],
         "xaxis": "x4",
         "y": [
          0.17735936362636037,
          0.17971799732629964,
          0.20873079091331498,
          0.17002033659956992,
          0.17378409077479717,
          0.22892622769465265,
          0.18283134863140146,
          0.1705783521273964,
          0.17871412490299757,
          0.17008232836132825,
          0.1793442257211878,
          0.17028205290469717,
          0.1698762769039173,
          0.19785732260607272,
          0.17984339454013826,
          0.1697862495482686,
          0.1694213661497127,
          0.18101622007711268,
          0.16918490747672066,
          0.16946531733464965,
          0.20008788904295646,
          0.1694728876154081,
          0.1694123068910368,
          0.16971994991162817,
          0.16926251937643674,
          0.20118796060966668,
          0.2361482863589157,
          0.16988023183499978,
          0.2321976205239665,
          0.16939337388694684,
          0.2005241321762396,
          0.1695096231094551,
          0.1772986636085961,
          0.16924799102268884,
          0.17813032696883513,
          0.1825315197122736,
          0.16944222541418227,
          0.2294043948340058,
          0.2274774723166767,
          0.20121196780898995,
          0.1691870216437658,
          0.16921184805591863,
          0.18150057667805325,
          0.20075900358416024,
          0.1731930979120444,
          0.1703010223410138,
          0.179826755860751,
          0.16924585170731266,
          0.19535448694823643,
          0.18431099694866912,
          0.20156427689058795,
          0.16922967107239079,
          0.16925065715096776,
          0.16923982858500144,
          0.20996121180482705,
          0.17160122536524472,
          0.16918570178776512,
          0.16942663732052715,
          0.1796919932903128,
          0.16916831561261356,
          0.16946230919379587,
          0.16924359151177865,
          0.16924184131031458,
          0.17737357860213437,
          0.16972712617381652,
          0.19928480886656338,
          0.16924950004770262,
          0.16924950004770262,
          0.23247435690886592,
          0.23027951237412284,
          0.17859026185319957,
          0.1692377775224269,
          0.16988456445678,
          0.16922967107239079,
          0.1770709530202881,
          0.16925800807644698,
          0.16960587454258905,
          0.16920853847509448,
          0.16933168958896821,
          0.20104408118939782,
          0.16943516213688709,
          0.169249192739834,
          0.16925280693095057,
          0.16941902202838338,
          0.23508113118119267,
          0.16924280159630425,
          0.17559786954222176,
          0.16924950004770262,
          0.22668510201330308,
          0.16951883907884213,
          0.22187365414820742,
          0.1820667759161011,
          0.16934553742462674,
          0.18248190973099374,
          0.16922967107239079,
          0.16924280159630425,
          0.18291929989879258,
          0.1695063786216969,
          0.17496043420663085,
          0.1702757190047778,
          0.1692545194570268,
          0.16924708398998697,
          0.19616782597179908,
          0.21720521510693738,
          0.16925056728745666,
          0.1692377775224269,
          0.2312357005055512,
          0.17848347549057336,
          0.2057772260205632,
          0.1694817126544139,
          0.2264992563450851,
          0.16975726205306477,
          0.1692492119165112,
          0.16986530157713928,
          0.16922967107239079,
          0.16926014834448783,
          0.16942853618435474,
          0.16917194454294834,
          0.16943061221305525,
          0.1795544851241436,
          0.17445693521395042,
          0.20103798814110924,
          0.1692505728245336,
          0.16925674431720633,
          0.17010244308279224,
          0.16925963919707251,
          0.19774927865296926,
          0.16924300705053846,
          0.16941216338288512,
          0.16923182749882126,
          0.16966787973808076,
          0.16923962934508224,
          0.16924585170731266,
          0.16925301840301765,
          0.16944578991814713,
          0.1693676738747081,
          0.17716259587718297,
          0.16924708398998697,
          0.16923752193704217,
          0.16932192889093853,
          0.20075213350062754,
          0.1694646189639329,
          0.16923421588146664,
          0.1691870216437658,
          0.16939375513222563,
          0.1692614085969523,
          0.16924287538313063,
          0.17794747419908943,
          0.1752816117701105,
          0.16986057935072757,
          0.16920853847509448,
          0.16926936541766785,
          0.16924280159630425,
          0.16924446714684888,
          0.1695158383337922,
          0.16924708398998697,
          0.16927089336925674,
          0.16925800807644698,
          0.16999584326682268,
          0.1693676738747081,
          0.16926186702982718,
          0.16919322285200256,
          0.16937168819687323,
          0.22345046078206884,
          0.1692505728245336,
          0.16948521382609527,
          0.16926977400092125,
          0.18399843398155452,
          0.17040023927327497,
          0.16923709260750938,
          0.16977686572469505,
          0.16946157533849204,
          0.16923762487204858,
          0.16923871179863356,
          0.1692573022372601,
          0.1696342181002349,
          0.1692352718771753,
          0.16943061221305525,
          0.17060688138898517,
          0.1692536885821697,
          0.16985446661544687,
          0.2011066023898291,
          0.16922956011041884,
          0.16948521382609527,
          0.16922967107239079,
          0.16926354353720538,
          0.16925800807644698,
          0.16924280159630425,
          0.19688232123483007,
          0.19985827781077956,
          0.16942663732052715,
          0.16923209124700506,
          0.16924874124688247,
          0.16923421588146664,
          0.1694422069238911,
          0.16924300705053846,
          0.16926186702982718,
          0.16943061221305525,
          0.1746990548553831,
          0.16919322285200256
         ],
         "yaxis": "y4"
        }
       ],
       "layout": {
        "template": {
         "data": {
          "bar": [
           {
            "error_x": {
             "color": "#2a3f5f"
            },
            "error_y": {
             "color": "#2a3f5f"
            },
            "marker": {
             "line": {
              "color": "#E5ECF6",
              "width": 0.5
             },
             "pattern": {
              "fillmode": "overlay",
              "size": 10,
              "solidity": 0.2
             }
            },
            "type": "bar"
           }
          ],
          "barpolar": [
           {
            "marker": {
             "line": {
              "color": "#E5ECF6",
              "width": 0.5
             },
             "pattern": {
              "fillmode": "overlay",
              "size": 10,
              "solidity": 0.2
             }
            },
            "type": "barpolar"
           }
          ],
          "carpet": [
           {
            "aaxis": {
             "endlinecolor": "#2a3f5f",
             "gridcolor": "white",
             "linecolor": "white",
             "minorgridcolor": "white",
             "startlinecolor": "#2a3f5f"
            },
            "baxis": {
             "endlinecolor": "#2a3f5f",
             "gridcolor": "white",
             "linecolor": "white",
             "minorgridcolor": "white",
             "startlinecolor": "#2a3f5f"
            },
            "type": "carpet"
           }
          ],
          "choropleth": [
           {
            "colorbar": {
             "outlinewidth": 0,
             "ticks": ""
            },
            "type": "choropleth"
           }
          ],
          "contour": [
           {
            "colorbar": {
             "outlinewidth": 0,
             "ticks": ""
            },
            "colorscale": [
             [
              0,
              "#0d0887"
             ],
             [
              0.1111111111111111,
              "#46039f"
             ],
             [
              0.2222222222222222,
              "#7201a8"
             ],
             [
              0.3333333333333333,
              "#9c179e"
             ],
             [
              0.4444444444444444,
              "#bd3786"
             ],
             [
              0.5555555555555556,
              "#d8576b"
             ],
             [
              0.6666666666666666,
              "#ed7953"
             ],
             [
              0.7777777777777778,
              "#fb9f3a"
             ],
             [
              0.8888888888888888,
              "#fdca26"
             ],
             [
              1,
              "#f0f921"
             ]
            ],
            "type": "contour"
           }
          ],
          "contourcarpet": [
           {
            "colorbar": {
             "outlinewidth": 0,
             "ticks": ""
            },
            "type": "contourcarpet"
           }
          ],
          "heatmap": [
           {
            "colorbar": {
             "outlinewidth": 0,
             "ticks": ""
            },
            "colorscale": [
             [
              0,
              "#0d0887"
             ],
             [
              0.1111111111111111,
              "#46039f"
             ],
             [
              0.2222222222222222,
              "#7201a8"
             ],
             [
              0.3333333333333333,
              "#9c179e"
             ],
             [
              0.4444444444444444,
              "#bd3786"
             ],
             [
              0.5555555555555556,
              "#d8576b"
             ],
             [
              0.6666666666666666,
              "#ed7953"
             ],
             [
              0.7777777777777778,
              "#fb9f3a"
             ],
             [
              0.8888888888888888,
              "#fdca26"
             ],
             [
              1,
              "#f0f921"
             ]
            ],
            "type": "heatmap"
           }
          ],
          "heatmapgl": [
           {
            "colorbar": {
             "outlinewidth": 0,
             "ticks": ""
            },
            "colorscale": [
             [
              0,
              "#0d0887"
             ],
             [
              0.1111111111111111,
              "#46039f"
             ],
             [
              0.2222222222222222,
              "#7201a8"
             ],
             [
              0.3333333333333333,
              "#9c179e"
             ],
             [
              0.4444444444444444,
              "#bd3786"
             ],
             [
              0.5555555555555556,
              "#d8576b"
             ],
             [
              0.6666666666666666,
              "#ed7953"
             ],
             [
              0.7777777777777778,
              "#fb9f3a"
             ],
             [
              0.8888888888888888,
              "#fdca26"
             ],
             [
              1,
              "#f0f921"
             ]
            ],
            "type": "heatmapgl"
           }
          ],
          "histogram": [
           {
            "marker": {
             "pattern": {
              "fillmode": "overlay",
              "size": 10,
              "solidity": 0.2
             }
            },
            "type": "histogram"
           }
          ],
          "histogram2d": [
           {
            "colorbar": {
             "outlinewidth": 0,
             "ticks": ""
            },
            "colorscale": [
             [
              0,
              "#0d0887"
             ],
             [
              0.1111111111111111,
              "#46039f"
             ],
             [
              0.2222222222222222,
              "#7201a8"
             ],
             [
              0.3333333333333333,
              "#9c179e"
             ],
             [
              0.4444444444444444,
              "#bd3786"
             ],
             [
              0.5555555555555556,
              "#d8576b"
             ],
             [
              0.6666666666666666,
              "#ed7953"
             ],
             [
              0.7777777777777778,
              "#fb9f3a"
             ],
             [
              0.8888888888888888,
              "#fdca26"
             ],
             [
              1,
              "#f0f921"
             ]
            ],
            "type": "histogram2d"
           }
          ],
          "histogram2dcontour": [
           {
            "colorbar": {
             "outlinewidth": 0,
             "ticks": ""
            },
            "colorscale": [
             [
              0,
              "#0d0887"
             ],
             [
              0.1111111111111111,
              "#46039f"
             ],
             [
              0.2222222222222222,
              "#7201a8"
             ],
             [
              0.3333333333333333,
              "#9c179e"
             ],
             [
              0.4444444444444444,
              "#bd3786"
             ],
             [
              0.5555555555555556,
              "#d8576b"
             ],
             [
              0.6666666666666666,
              "#ed7953"
             ],
             [
              0.7777777777777778,
              "#fb9f3a"
             ],
             [
              0.8888888888888888,
              "#fdca26"
             ],
             [
              1,
              "#f0f921"
             ]
            ],
            "type": "histogram2dcontour"
           }
          ],
          "mesh3d": [
           {
            "colorbar": {
             "outlinewidth": 0,
             "ticks": ""
            },
            "type": "mesh3d"
           }
          ],
          "parcoords": [
           {
            "line": {
             "colorbar": {
              "outlinewidth": 0,
              "ticks": ""
             }
            },
            "type": "parcoords"
           }
          ],
          "pie": [
           {
            "automargin": true,
            "type": "pie"
           }
          ],
          "scatter": [
           {
            "fillpattern": {
             "fillmode": "overlay",
             "size": 10,
             "solidity": 0.2
            },
            "type": "scatter"
           }
          ],
          "scatter3d": [
           {
            "line": {
             "colorbar": {
              "outlinewidth": 0,
              "ticks": ""
             }
            },
            "marker": {
             "colorbar": {
              "outlinewidth": 0,
              "ticks": ""
             }
            },
            "type": "scatter3d"
           }
          ],
          "scattercarpet": [
           {
            "marker": {
             "colorbar": {
              "outlinewidth": 0,
              "ticks": ""
             }
            },
            "type": "scattercarpet"
           }
          ],
          "scattergeo": [
           {
            "marker": {
             "colorbar": {
              "outlinewidth": 0,
              "ticks": ""
             }
            },
            "type": "scattergeo"
           }
          ],
          "scattergl": [
           {
            "marker": {
             "colorbar": {
              "outlinewidth": 0,
              "ticks": ""
             }
            },
            "type": "scattergl"
           }
          ],
          "scattermapbox": [
           {
            "marker": {
             "colorbar": {
              "outlinewidth": 0,
              "ticks": ""
             }
            },
            "type": "scattermapbox"
           }
          ],
          "scatterpolar": [
           {
            "marker": {
             "colorbar": {
              "outlinewidth": 0,
              "ticks": ""
             }
            },
            "type": "scatterpolar"
           }
          ],
          "scatterpolargl": [
           {
            "marker": {
             "colorbar": {
              "outlinewidth": 0,
              "ticks": ""
             }
            },
            "type": "scatterpolargl"
           }
          ],
          "scatterternary": [
           {
            "marker": {
             "colorbar": {
              "outlinewidth": 0,
              "ticks": ""
             }
            },
            "type": "scatterternary"
           }
          ],
          "surface": [
           {
            "colorbar": {
             "outlinewidth": 0,
             "ticks": ""
            },
            "colorscale": [
             [
              0,
              "#0d0887"
             ],
             [
              0.1111111111111111,
              "#46039f"
             ],
             [
              0.2222222222222222,
              "#7201a8"
             ],
             [
              0.3333333333333333,
              "#9c179e"
             ],
             [
              0.4444444444444444,
              "#bd3786"
             ],
             [
              0.5555555555555556,
              "#d8576b"
             ],
             [
              0.6666666666666666,
              "#ed7953"
             ],
             [
              0.7777777777777778,
              "#fb9f3a"
             ],
             [
              0.8888888888888888,
              "#fdca26"
             ],
             [
              1,
              "#f0f921"
             ]
            ],
            "type": "surface"
           }
          ],
          "table": [
           {
            "cells": {
             "fill": {
              "color": "#EBF0F8"
             },
             "line": {
              "color": "white"
             }
            },
            "header": {
             "fill": {
              "color": "#C8D4E3"
             },
             "line": {
              "color": "white"
             }
            },
            "type": "table"
           }
          ]
         },
         "layout": {
          "annotationdefaults": {
           "arrowcolor": "#2a3f5f",
           "arrowhead": 0,
           "arrowwidth": 1
          },
          "autotypenumbers": "strict",
          "coloraxis": {
           "colorbar": {
            "outlinewidth": 0,
            "ticks": ""
           }
          },
          "colorscale": {
           "diverging": [
            [
             0,
             "#8e0152"
            ],
            [
             0.1,
             "#c51b7d"
            ],
            [
             0.2,
             "#de77ae"
            ],
            [
             0.3,
             "#f1b6da"
            ],
            [
             0.4,
             "#fde0ef"
            ],
            [
             0.5,
             "#f7f7f7"
            ],
            [
             0.6,
             "#e6f5d0"
            ],
            [
             0.7,
             "#b8e186"
            ],
            [
             0.8,
             "#7fbc41"
            ],
            [
             0.9,
             "#4d9221"
            ],
            [
             1,
             "#276419"
            ]
           ],
           "sequential": [
            [
             0,
             "#0d0887"
            ],
            [
             0.1111111111111111,
             "#46039f"
            ],
            [
             0.2222222222222222,
             "#7201a8"
            ],
            [
             0.3333333333333333,
             "#9c179e"
            ],
            [
             0.4444444444444444,
             "#bd3786"
            ],
            [
             0.5555555555555556,
             "#d8576b"
            ],
            [
             0.6666666666666666,
             "#ed7953"
            ],
            [
             0.7777777777777778,
             "#fb9f3a"
            ],
            [
             0.8888888888888888,
             "#fdca26"
            ],
            [
             1,
             "#f0f921"
            ]
           ],
           "sequentialminus": [
            [
             0,
             "#0d0887"
            ],
            [
             0.1111111111111111,
             "#46039f"
            ],
            [
             0.2222222222222222,
             "#7201a8"
            ],
            [
             0.3333333333333333,
             "#9c179e"
            ],
            [
             0.4444444444444444,
             "#bd3786"
            ],
            [
             0.5555555555555556,
             "#d8576b"
            ],
            [
             0.6666666666666666,
             "#ed7953"
            ],
            [
             0.7777777777777778,
             "#fb9f3a"
            ],
            [
             0.8888888888888888,
             "#fdca26"
            ],
            [
             1,
             "#f0f921"
            ]
           ]
          },
          "colorway": [
           "#636efa",
           "#EF553B",
           "#00cc96",
           "#ab63fa",
           "#FFA15A",
           "#19d3f3",
           "#FF6692",
           "#B6E880",
           "#FF97FF",
           "#FECB52"
          ],
          "font": {
           "color": "#2a3f5f"
          },
          "geo": {
           "bgcolor": "white",
           "lakecolor": "white",
           "landcolor": "#E5ECF6",
           "showlakes": true,
           "showland": true,
           "subunitcolor": "white"
          },
          "hoverlabel": {
           "align": "left"
          },
          "hovermode": "closest",
          "mapbox": {
           "style": "light"
          },
          "paper_bgcolor": "white",
          "plot_bgcolor": "#E5ECF6",
          "polar": {
           "angularaxis": {
            "gridcolor": "white",
            "linecolor": "white",
            "ticks": ""
           },
           "bgcolor": "#E5ECF6",
           "radialaxis": {
            "gridcolor": "white",
            "linecolor": "white",
            "ticks": ""
           }
          },
          "scene": {
           "xaxis": {
            "backgroundcolor": "#E5ECF6",
            "gridcolor": "white",
            "gridwidth": 2,
            "linecolor": "white",
            "showbackground": true,
            "ticks": "",
            "zerolinecolor": "white"
           },
           "yaxis": {
            "backgroundcolor": "#E5ECF6",
            "gridcolor": "white",
            "gridwidth": 2,
            "linecolor": "white",
            "showbackground": true,
            "ticks": "",
            "zerolinecolor": "white"
           },
           "zaxis": {
            "backgroundcolor": "#E5ECF6",
            "gridcolor": "white",
            "gridwidth": 2,
            "linecolor": "white",
            "showbackground": true,
            "ticks": "",
            "zerolinecolor": "white"
           }
          },
          "shapedefaults": {
           "line": {
            "color": "#2a3f5f"
           }
          },
          "ternary": {
           "aaxis": {
            "gridcolor": "white",
            "linecolor": "white",
            "ticks": ""
           },
           "baxis": {
            "gridcolor": "white",
            "linecolor": "white",
            "ticks": ""
           },
           "bgcolor": "#E5ECF6",
           "caxis": {
            "gridcolor": "white",
            "linecolor": "white",
            "ticks": ""
           }
          },
          "title": {
           "x": 0.05
          },
          "xaxis": {
           "automargin": true,
           "gridcolor": "white",
           "linecolor": "white",
           "ticks": "",
           "title": {
            "standoff": 15
           },
           "zerolinecolor": "white",
           "zerolinewidth": 2
          },
          "yaxis": {
           "automargin": true,
           "gridcolor": "white",
           "linecolor": "white",
           "ticks": "",
           "title": {
            "standoff": 15
           },
           "zerolinecolor": "white",
           "zerolinewidth": 2
          }
         }
        },
        "title": {
         "text": "Slice Plot"
        },
        "width": 1200,
        "xaxis": {
         "anchor": "y",
         "categoryarray": [
          "euclidean",
          "manhattan",
          "minkowski"
         ],
         "categoryorder": "array",
         "domain": [
          0,
          0.2125
         ],
         "title": {
          "text": "metric"
         },
         "type": "category"
        },
        "xaxis2": {
         "anchor": "y2",
         "domain": [
          0.2625,
          0.475
         ],
         "title": {
          "text": "n_neighbors"
         }
        },
        "xaxis3": {
         "anchor": "y3",
         "categoryarray": [
          "minmax",
          "standard",
          "robust"
         ],
         "categoryorder": "array",
         "domain": [
          0.525,
          0.7375
         ],
         "title": {
          "text": "scalers"
         },
         "type": "category"
        },
        "xaxis4": {
         "anchor": "y4",
         "categoryarray": [
          "uniform",
          "distance"
         ],
         "categoryorder": "array",
         "domain": [
          0.7875,
          1
         ],
         "title": {
          "text": "weights"
         },
         "type": "category"
        },
        "yaxis": {
         "anchor": "x",
         "domain": [
          0,
          1
         ],
         "title": {
          "text": "Objective Value"
         }
        },
        "yaxis2": {
         "anchor": "x2",
         "domain": [
          0,
          1
         ],
         "matches": "y",
         "showticklabels": false
        },
        "yaxis3": {
         "anchor": "x3",
         "domain": [
          0,
          1
         ],
         "matches": "y",
         "showticklabels": false
        },
        "yaxis4": {
         "anchor": "x4",
         "domain": [
          0,
          1
         ],
         "matches": "y",
         "showticklabels": false
        }
       }
      }
     },
     "metadata": {},
     "output_type": "display_data"
    }
   ],
   "source": [
    "# Hyperparameters to score dependency\n",
    "\n",
    "optuna.visualization.plot_slice(study)"
   ]
  },
  {
   "cell_type": "code",
   "execution_count": 43,
   "metadata": {},
   "outputs": [
    {
     "data": {
      "application/vnd.plotly.v1+json": {
       "config": {
        "plotlyServerURL": "https://plot.ly"
       },
       "data": [
        {
         "cliponaxis": false,
         "hovertemplate": [
          "metric (CategoricalDistribution): 0.0014823879111295643<extra></extra>",
          "n_neighbors (IntDistribution): 0.03109700160390353<extra></extra>",
          "scalers (CategoricalDistribution): 0.14997176445528732<extra></extra>",
          "weights (CategoricalDistribution): 0.8174488460296797<extra></extra>"
         ],
         "name": "Objective Value",
         "orientation": "h",
         "text": [
          "<0.01",
          "0.03",
          "0.15",
          "0.82"
         ],
         "textposition": "outside",
         "type": "bar",
         "x": [
          0.0014823879111295643,
          0.03109700160390353,
          0.14997176445528732,
          0.8174488460296797
         ],
         "y": [
          "metric",
          "n_neighbors",
          "scalers",
          "weights"
         ]
        }
       ],
       "layout": {
        "template": {
         "data": {
          "bar": [
           {
            "error_x": {
             "color": "#2a3f5f"
            },
            "error_y": {
             "color": "#2a3f5f"
            },
            "marker": {
             "line": {
              "color": "#E5ECF6",
              "width": 0.5
             },
             "pattern": {
              "fillmode": "overlay",
              "size": 10,
              "solidity": 0.2
             }
            },
            "type": "bar"
           }
          ],
          "barpolar": [
           {
            "marker": {
             "line": {
              "color": "#E5ECF6",
              "width": 0.5
             },
             "pattern": {
              "fillmode": "overlay",
              "size": 10,
              "solidity": 0.2
             }
            },
            "type": "barpolar"
           }
          ],
          "carpet": [
           {
            "aaxis": {
             "endlinecolor": "#2a3f5f",
             "gridcolor": "white",
             "linecolor": "white",
             "minorgridcolor": "white",
             "startlinecolor": "#2a3f5f"
            },
            "baxis": {
             "endlinecolor": "#2a3f5f",
             "gridcolor": "white",
             "linecolor": "white",
             "minorgridcolor": "white",
             "startlinecolor": "#2a3f5f"
            },
            "type": "carpet"
           }
          ],
          "choropleth": [
           {
            "colorbar": {
             "outlinewidth": 0,
             "ticks": ""
            },
            "type": "choropleth"
           }
          ],
          "contour": [
           {
            "colorbar": {
             "outlinewidth": 0,
             "ticks": ""
            },
            "colorscale": [
             [
              0,
              "#0d0887"
             ],
             [
              0.1111111111111111,
              "#46039f"
             ],
             [
              0.2222222222222222,
              "#7201a8"
             ],
             [
              0.3333333333333333,
              "#9c179e"
             ],
             [
              0.4444444444444444,
              "#bd3786"
             ],
             [
              0.5555555555555556,
              "#d8576b"
             ],
             [
              0.6666666666666666,
              "#ed7953"
             ],
             [
              0.7777777777777778,
              "#fb9f3a"
             ],
             [
              0.8888888888888888,
              "#fdca26"
             ],
             [
              1,
              "#f0f921"
             ]
            ],
            "type": "contour"
           }
          ],
          "contourcarpet": [
           {
            "colorbar": {
             "outlinewidth": 0,
             "ticks": ""
            },
            "type": "contourcarpet"
           }
          ],
          "heatmap": [
           {
            "colorbar": {
             "outlinewidth": 0,
             "ticks": ""
            },
            "colorscale": [
             [
              0,
              "#0d0887"
             ],
             [
              0.1111111111111111,
              "#46039f"
             ],
             [
              0.2222222222222222,
              "#7201a8"
             ],
             [
              0.3333333333333333,
              "#9c179e"
             ],
             [
              0.4444444444444444,
              "#bd3786"
             ],
             [
              0.5555555555555556,
              "#d8576b"
             ],
             [
              0.6666666666666666,
              "#ed7953"
             ],
             [
              0.7777777777777778,
              "#fb9f3a"
             ],
             [
              0.8888888888888888,
              "#fdca26"
             ],
             [
              1,
              "#f0f921"
             ]
            ],
            "type": "heatmap"
           }
          ],
          "heatmapgl": [
           {
            "colorbar": {
             "outlinewidth": 0,
             "ticks": ""
            },
            "colorscale": [
             [
              0,
              "#0d0887"
             ],
             [
              0.1111111111111111,
              "#46039f"
             ],
             [
              0.2222222222222222,
              "#7201a8"
             ],
             [
              0.3333333333333333,
              "#9c179e"
             ],
             [
              0.4444444444444444,
              "#bd3786"
             ],
             [
              0.5555555555555556,
              "#d8576b"
             ],
             [
              0.6666666666666666,
              "#ed7953"
             ],
             [
              0.7777777777777778,
              "#fb9f3a"
             ],
             [
              0.8888888888888888,
              "#fdca26"
             ],
             [
              1,
              "#f0f921"
             ]
            ],
            "type": "heatmapgl"
           }
          ],
          "histogram": [
           {
            "marker": {
             "pattern": {
              "fillmode": "overlay",
              "size": 10,
              "solidity": 0.2
             }
            },
            "type": "histogram"
           }
          ],
          "histogram2d": [
           {
            "colorbar": {
             "outlinewidth": 0,
             "ticks": ""
            },
            "colorscale": [
             [
              0,
              "#0d0887"
             ],
             [
              0.1111111111111111,
              "#46039f"
             ],
             [
              0.2222222222222222,
              "#7201a8"
             ],
             [
              0.3333333333333333,
              "#9c179e"
             ],
             [
              0.4444444444444444,
              "#bd3786"
             ],
             [
              0.5555555555555556,
              "#d8576b"
             ],
             [
              0.6666666666666666,
              "#ed7953"
             ],
             [
              0.7777777777777778,
              "#fb9f3a"
             ],
             [
              0.8888888888888888,
              "#fdca26"
             ],
             [
              1,
              "#f0f921"
             ]
            ],
            "type": "histogram2d"
           }
          ],
          "histogram2dcontour": [
           {
            "colorbar": {
             "outlinewidth": 0,
             "ticks": ""
            },
            "colorscale": [
             [
              0,
              "#0d0887"
             ],
             [
              0.1111111111111111,
              "#46039f"
             ],
             [
              0.2222222222222222,
              "#7201a8"
             ],
             [
              0.3333333333333333,
              "#9c179e"
             ],
             [
              0.4444444444444444,
              "#bd3786"
             ],
             [
              0.5555555555555556,
              "#d8576b"
             ],
             [
              0.6666666666666666,
              "#ed7953"
             ],
             [
              0.7777777777777778,
              "#fb9f3a"
             ],
             [
              0.8888888888888888,
              "#fdca26"
             ],
             [
              1,
              "#f0f921"
             ]
            ],
            "type": "histogram2dcontour"
           }
          ],
          "mesh3d": [
           {
            "colorbar": {
             "outlinewidth": 0,
             "ticks": ""
            },
            "type": "mesh3d"
           }
          ],
          "parcoords": [
           {
            "line": {
             "colorbar": {
              "outlinewidth": 0,
              "ticks": ""
             }
            },
            "type": "parcoords"
           }
          ],
          "pie": [
           {
            "automargin": true,
            "type": "pie"
           }
          ],
          "scatter": [
           {
            "fillpattern": {
             "fillmode": "overlay",
             "size": 10,
             "solidity": 0.2
            },
            "type": "scatter"
           }
          ],
          "scatter3d": [
           {
            "line": {
             "colorbar": {
              "outlinewidth": 0,
              "ticks": ""
             }
            },
            "marker": {
             "colorbar": {
              "outlinewidth": 0,
              "ticks": ""
             }
            },
            "type": "scatter3d"
           }
          ],
          "scattercarpet": [
           {
            "marker": {
             "colorbar": {
              "outlinewidth": 0,
              "ticks": ""
             }
            },
            "type": "scattercarpet"
           }
          ],
          "scattergeo": [
           {
            "marker": {
             "colorbar": {
              "outlinewidth": 0,
              "ticks": ""
             }
            },
            "type": "scattergeo"
           }
          ],
          "scattergl": [
           {
            "marker": {
             "colorbar": {
              "outlinewidth": 0,
              "ticks": ""
             }
            },
            "type": "scattergl"
           }
          ],
          "scattermapbox": [
           {
            "marker": {
             "colorbar": {
              "outlinewidth": 0,
              "ticks": ""
             }
            },
            "type": "scattermapbox"
           }
          ],
          "scatterpolar": [
           {
            "marker": {
             "colorbar": {
              "outlinewidth": 0,
              "ticks": ""
             }
            },
            "type": "scatterpolar"
           }
          ],
          "scatterpolargl": [
           {
            "marker": {
             "colorbar": {
              "outlinewidth": 0,
              "ticks": ""
             }
            },
            "type": "scatterpolargl"
           }
          ],
          "scatterternary": [
           {
            "marker": {
             "colorbar": {
              "outlinewidth": 0,
              "ticks": ""
             }
            },
            "type": "scatterternary"
           }
          ],
          "surface": [
           {
            "colorbar": {
             "outlinewidth": 0,
             "ticks": ""
            },
            "colorscale": [
             [
              0,
              "#0d0887"
             ],
             [
              0.1111111111111111,
              "#46039f"
             ],
             [
              0.2222222222222222,
              "#7201a8"
             ],
             [
              0.3333333333333333,
              "#9c179e"
             ],
             [
              0.4444444444444444,
              "#bd3786"
             ],
             [
              0.5555555555555556,
              "#d8576b"
             ],
             [
              0.6666666666666666,
              "#ed7953"
             ],
             [
              0.7777777777777778,
              "#fb9f3a"
             ],
             [
              0.8888888888888888,
              "#fdca26"
             ],
             [
              1,
              "#f0f921"
             ]
            ],
            "type": "surface"
           }
          ],
          "table": [
           {
            "cells": {
             "fill": {
              "color": "#EBF0F8"
             },
             "line": {
              "color": "white"
             }
            },
            "header": {
             "fill": {
              "color": "#C8D4E3"
             },
             "line": {
              "color": "white"
             }
            },
            "type": "table"
           }
          ]
         },
         "layout": {
          "annotationdefaults": {
           "arrowcolor": "#2a3f5f",
           "arrowhead": 0,
           "arrowwidth": 1
          },
          "autotypenumbers": "strict",
          "coloraxis": {
           "colorbar": {
            "outlinewidth": 0,
            "ticks": ""
           }
          },
          "colorscale": {
           "diverging": [
            [
             0,
             "#8e0152"
            ],
            [
             0.1,
             "#c51b7d"
            ],
            [
             0.2,
             "#de77ae"
            ],
            [
             0.3,
             "#f1b6da"
            ],
            [
             0.4,
             "#fde0ef"
            ],
            [
             0.5,
             "#f7f7f7"
            ],
            [
             0.6,
             "#e6f5d0"
            ],
            [
             0.7,
             "#b8e186"
            ],
            [
             0.8,
             "#7fbc41"
            ],
            [
             0.9,
             "#4d9221"
            ],
            [
             1,
             "#276419"
            ]
           ],
           "sequential": [
            [
             0,
             "#0d0887"
            ],
            [
             0.1111111111111111,
             "#46039f"
            ],
            [
             0.2222222222222222,
             "#7201a8"
            ],
            [
             0.3333333333333333,
             "#9c179e"
            ],
            [
             0.4444444444444444,
             "#bd3786"
            ],
            [
             0.5555555555555556,
             "#d8576b"
            ],
            [
             0.6666666666666666,
             "#ed7953"
            ],
            [
             0.7777777777777778,
             "#fb9f3a"
            ],
            [
             0.8888888888888888,
             "#fdca26"
            ],
            [
             1,
             "#f0f921"
            ]
           ],
           "sequentialminus": [
            [
             0,
             "#0d0887"
            ],
            [
             0.1111111111111111,
             "#46039f"
            ],
            [
             0.2222222222222222,
             "#7201a8"
            ],
            [
             0.3333333333333333,
             "#9c179e"
            ],
            [
             0.4444444444444444,
             "#bd3786"
            ],
            [
             0.5555555555555556,
             "#d8576b"
            ],
            [
             0.6666666666666666,
             "#ed7953"
            ],
            [
             0.7777777777777778,
             "#fb9f3a"
            ],
            [
             0.8888888888888888,
             "#fdca26"
            ],
            [
             1,
             "#f0f921"
            ]
           ]
          },
          "colorway": [
           "#636efa",
           "#EF553B",
           "#00cc96",
           "#ab63fa",
           "#FFA15A",
           "#19d3f3",
           "#FF6692",
           "#B6E880",
           "#FF97FF",
           "#FECB52"
          ],
          "font": {
           "color": "#2a3f5f"
          },
          "geo": {
           "bgcolor": "white",
           "lakecolor": "white",
           "landcolor": "#E5ECF6",
           "showlakes": true,
           "showland": true,
           "subunitcolor": "white"
          },
          "hoverlabel": {
           "align": "left"
          },
          "hovermode": "closest",
          "mapbox": {
           "style": "light"
          },
          "paper_bgcolor": "white",
          "plot_bgcolor": "#E5ECF6",
          "polar": {
           "angularaxis": {
            "gridcolor": "white",
            "linecolor": "white",
            "ticks": ""
           },
           "bgcolor": "#E5ECF6",
           "radialaxis": {
            "gridcolor": "white",
            "linecolor": "white",
            "ticks": ""
           }
          },
          "scene": {
           "xaxis": {
            "backgroundcolor": "#E5ECF6",
            "gridcolor": "white",
            "gridwidth": 2,
            "linecolor": "white",
            "showbackground": true,
            "ticks": "",
            "zerolinecolor": "white"
           },
           "yaxis": {
            "backgroundcolor": "#E5ECF6",
            "gridcolor": "white",
            "gridwidth": 2,
            "linecolor": "white",
            "showbackground": true,
            "ticks": "",
            "zerolinecolor": "white"
           },
           "zaxis": {
            "backgroundcolor": "#E5ECF6",
            "gridcolor": "white",
            "gridwidth": 2,
            "linecolor": "white",
            "showbackground": true,
            "ticks": "",
            "zerolinecolor": "white"
           }
          },
          "shapedefaults": {
           "line": {
            "color": "#2a3f5f"
           }
          },
          "ternary": {
           "aaxis": {
            "gridcolor": "white",
            "linecolor": "white",
            "ticks": ""
           },
           "baxis": {
            "gridcolor": "white",
            "linecolor": "white",
            "ticks": ""
           },
           "bgcolor": "#E5ECF6",
           "caxis": {
            "gridcolor": "white",
            "linecolor": "white",
            "ticks": ""
           }
          },
          "title": {
           "x": 0.05
          },
          "xaxis": {
           "automargin": true,
           "gridcolor": "white",
           "linecolor": "white",
           "ticks": "",
           "title": {
            "standoff": 15
           },
           "zerolinecolor": "white",
           "zerolinewidth": 2
          },
          "yaxis": {
           "automargin": true,
           "gridcolor": "white",
           "linecolor": "white",
           "ticks": "",
           "title": {
            "standoff": 15
           },
           "zerolinecolor": "white",
           "zerolinewidth": 2
          }
         }
        },
        "title": {
         "text": "Hyperparameter Importances"
        },
        "xaxis": {
         "title": {
          "text": "Hyperparameter Importance"
         }
        },
        "yaxis": {
         "title": {
          "text": "Hyperparameter"
         }
        }
       }
      }
     },
     "metadata": {},
     "output_type": "display_data"
    }
   ],
   "source": [
    "# Hyperparameter importances\n",
    "\n",
    "optuna.visualization.plot_param_importances(study)"
   ]
  },
  {
   "cell_type": "code",
   "execution_count": 20,
   "metadata": {},
   "outputs": [],
   "source": [
    "# define optimal hyperparameters\n",
    "scaler_knn = RobustScaler()\n",
    "knn = KNeighborsRegressor(n_neighbors = 153, weights = 'distance', metric = 'manhattan')\n",
    "\n",
    "# create and fit pipeline\n",
    "pipeline_knn = make_pipeline(scaler_knn, knn)"
   ]
  },
  {
   "cell_type": "code",
   "execution_count": 60,
   "metadata": {},
   "outputs": [
    {
     "name": "stdout",
     "output_type": "stream",
     "text": [
      "[0.16065181 0.21176474 0.20914574 0.15613418 0.00597269] Средняя оценка: 0.1487338319854023\n"
     ]
    }
   ],
   "source": [
    "scores_knn = cross_val_score(pipeline_knn, df_encoded[df_encoded_features], df_encoded[target],  scoring = 'neg_root_mean_squared_error') * (-1)\n",
    "score_mean_knn = scores_knn.mean()\n",
    "print(scores_knn, \"Средняя оценка:\", score_mean_knn)"
   ]
  },
  {
   "cell_type": "markdown",
   "metadata": {
    "id": "ukEvNLgt-Zgm"
   },
   "source": [
    "# **GBM - CatBoost**"
   ]
  },
  {
   "cell_type": "code",
   "execution_count": 52,
   "metadata": {},
   "outputs": [
    {
     "name": "stdout",
     "output_type": "stream",
     "text": [
      "<class 'pandas.core.frame.DataFrame'>\n",
      "RangeIndex: 14999 entries, 0 to 14998\n",
      "Data columns (total 8 columns):\n",
      " #   Column                Non-Null Count  Dtype  \n",
      "---  ------                --------------  -----  \n",
      " 0   last_evaluation       14999 non-null  float64\n",
      " 1   number_project        14999 non-null  int64  \n",
      " 2   average_montly_hours  14999 non-null  int64  \n",
      " 3   time_spend_company    14999 non-null  int64  \n",
      " 4   Work_accident         14999 non-null  int64  \n",
      " 5   sales                 14999 non-null  object \n",
      " 6   salary                14999 non-null  object \n",
      " 7   satisfaction_level    14999 non-null  float64\n",
      "dtypes: float64(2), int64(4), object(2)\n",
      "memory usage: 937.6+ KB\n"
     ]
    }
   ],
   "source": [
    "cat_data = df\n",
    "cat_data.info()"
   ]
  },
  {
   "cell_type": "code",
   "execution_count": 43,
   "metadata": {
    "id": "1McCCH0aP7xN"
   },
   "outputs": [],
   "source": [
    "features = [col for col in cat_data.columns if col != target]\n",
    "number_columns = cat_data.select_dtypes(include=['float64', 'int64']).columns.tolist()"
   ]
  },
  {
   "cell_type": "code",
   "execution_count": 82,
   "metadata": {},
   "outputs": [
    {
     "data": {
      "text/html": [
       "<div>\n",
       "<style scoped>\n",
       "    .dataframe tbody tr th:only-of-type {\n",
       "        vertical-align: middle;\n",
       "    }\n",
       "\n",
       "    .dataframe tbody tr th {\n",
       "        vertical-align: top;\n",
       "    }\n",
       "\n",
       "    .dataframe thead th {\n",
       "        text-align: right;\n",
       "    }\n",
       "</style>\n",
       "<table border=\"1\" class=\"dataframe\">\n",
       "  <thead>\n",
       "    <tr style=\"text-align: right;\">\n",
       "      <th></th>\n",
       "      <th>sales</th>\n",
       "      <th>salary</th>\n",
       "      <th>last_evaluation</th>\n",
       "      <th>number_project</th>\n",
       "      <th>average_montly_hours</th>\n",
       "      <th>time_spend_company</th>\n",
       "      <th>Work_accident</th>\n",
       "    </tr>\n",
       "  </thead>\n",
       "  <tbody>\n",
       "    <tr>\n",
       "      <th>0</th>\n",
       "      <td>sales</td>\n",
       "      <td>low</td>\n",
       "      <td>-0.61</td>\n",
       "      <td>-1.00</td>\n",
       "      <td>-0.48</td>\n",
       "      <td>0.00</td>\n",
       "      <td>0.00</td>\n",
       "    </tr>\n",
       "    <tr>\n",
       "      <th>1</th>\n",
       "      <td>sales</td>\n",
       "      <td>medium</td>\n",
       "      <td>0.45</td>\n",
       "      <td>0.50</td>\n",
       "      <td>0.70</td>\n",
       "      <td>3.00</td>\n",
       "      <td>0.00</td>\n",
       "    </tr>\n",
       "    <tr>\n",
       "      <th>2</th>\n",
       "      <td>sales</td>\n",
       "      <td>medium</td>\n",
       "      <td>0.52</td>\n",
       "      <td>1.50</td>\n",
       "      <td>0.81</td>\n",
       "      <td>1.00</td>\n",
       "      <td>0.00</td>\n",
       "    </tr>\n",
       "    <tr>\n",
       "      <th>3</th>\n",
       "      <td>sales</td>\n",
       "      <td>low</td>\n",
       "      <td>0.48</td>\n",
       "      <td>0.50</td>\n",
       "      <td>0.26</td>\n",
       "      <td>2.00</td>\n",
       "      <td>0.00</td>\n",
       "    </tr>\n",
       "    <tr>\n",
       "      <th>4</th>\n",
       "      <td>sales</td>\n",
       "      <td>low</td>\n",
       "      <td>-0.65</td>\n",
       "      <td>-1.00</td>\n",
       "      <td>-0.46</td>\n",
       "      <td>0.00</td>\n",
       "      <td>0.00</td>\n",
       "    </tr>\n",
       "    <tr>\n",
       "      <th>...</th>\n",
       "      <td>...</td>\n",
       "      <td>...</td>\n",
       "      <td>...</td>\n",
       "      <td>...</td>\n",
       "      <td>...</td>\n",
       "      <td>...</td>\n",
       "      <td>...</td>\n",
       "    </tr>\n",
       "    <tr>\n",
       "      <th>14994</th>\n",
       "      <td>support</td>\n",
       "      <td>low</td>\n",
       "      <td>-0.48</td>\n",
       "      <td>-1.00</td>\n",
       "      <td>-0.55</td>\n",
       "      <td>0.00</td>\n",
       "      <td>0.00</td>\n",
       "    </tr>\n",
       "    <tr>\n",
       "      <th>14995</th>\n",
       "      <td>support</td>\n",
       "      <td>low</td>\n",
       "      <td>-0.77</td>\n",
       "      <td>-1.00</td>\n",
       "      <td>-0.45</td>\n",
       "      <td>0.00</td>\n",
       "      <td>0.00</td>\n",
       "    </tr>\n",
       "    <tr>\n",
       "      <th>14996</th>\n",
       "      <td>support</td>\n",
       "      <td>low</td>\n",
       "      <td>-0.61</td>\n",
       "      <td>-1.00</td>\n",
       "      <td>-0.64</td>\n",
       "      <td>0.00</td>\n",
       "      <td>0.00</td>\n",
       "    </tr>\n",
       "    <tr>\n",
       "      <th>14997</th>\n",
       "      <td>support</td>\n",
       "      <td>low</td>\n",
       "      <td>0.77</td>\n",
       "      <td>1.00</td>\n",
       "      <td>0.90</td>\n",
       "      <td>1.00</td>\n",
       "      <td>0.00</td>\n",
       "    </tr>\n",
       "    <tr>\n",
       "      <th>14998</th>\n",
       "      <td>support</td>\n",
       "      <td>low</td>\n",
       "      <td>-0.65</td>\n",
       "      <td>-1.00</td>\n",
       "      <td>-0.47</td>\n",
       "      <td>0.00</td>\n",
       "      <td>0.00</td>\n",
       "    </tr>\n",
       "  </tbody>\n",
       "</table>\n",
       "<p>14999 rows × 7 columns</p>\n",
       "</div>"
      ],
      "text/plain": [
       "         sales  salary  last_evaluation  number_project  average_montly_hours  \\\n",
       "0        sales     low            -0.61           -1.00                 -0.48   \n",
       "1        sales  medium             0.45            0.50                  0.70   \n",
       "2        sales  medium             0.52            1.50                  0.81   \n",
       "3        sales     low             0.48            0.50                  0.26   \n",
       "4        sales     low            -0.65           -1.00                 -0.46   \n",
       "...        ...     ...              ...             ...                   ...   \n",
       "14994  support     low            -0.48           -1.00                 -0.55   \n",
       "14995  support     low            -0.77           -1.00                 -0.45   \n",
       "14996  support     low            -0.61           -1.00                 -0.64   \n",
       "14997  support     low             0.77            1.00                  0.90   \n",
       "14998  support     low            -0.65           -1.00                 -0.47   \n",
       "\n",
       "       time_spend_company  Work_accident  \n",
       "0                    0.00           0.00  \n",
       "1                    3.00           0.00  \n",
       "2                    1.00           0.00  \n",
       "3                    2.00           0.00  \n",
       "4                    0.00           0.00  \n",
       "...                   ...            ...  \n",
       "14994                0.00           0.00  \n",
       "14995                0.00           0.00  \n",
       "14996                0.00           0.00  \n",
       "14997                1.00           0.00  \n",
       "14998                0.00           0.00  \n",
       "\n",
       "[14999 rows x 7 columns]"
      ]
     },
     "execution_count": 82,
     "metadata": {},
     "output_type": "execute_result"
    }
   ],
   "source": [
    "data = cat_data[features]\n",
    "number_columns = data.select_dtypes(include=['float64', 'int64']).columns.tolist()\n",
    "scaler = RobustScaler()\n",
    "data_scaler = scaler.fit_transform(data[number_columns])\n",
    "data_scaler = pd.DataFrame(data_scaler, columns=scaler.get_feature_names_out(number_columns))\n",
    "df_scaled = pd.concat([data, data_scaler], axis=1)\n",
    "df_scaled = df_scaled.loc[:, 'sales':]\n",
    "df_scaled"
   ]
  },
  {
   "cell_type": "code",
   "execution_count": 87,
   "metadata": {
    "colab": {
     "base_uri": "https://localhost:8080/"
    },
    "id": "O6cDijIJea2M",
    "outputId": "d32748c0-e673-4de5-e22a-bdc1d40925f4"
   },
   "outputs": [
    {
     "name": "stderr",
     "output_type": "stream",
     "text": [
      "[I 2024-05-19 00:58:59,741] A new study created in memory with name: catboost\n"
     ]
    },
    {
     "name": "stderr",
     "output_type": "stream",
     "text": [
      "[I 2024-05-19 01:00:15,369] Trial 0 finished with value: 0.18081245304123997 and parameters: {'scalers': 'standard', 'n_estimators': 568, 'learning_rate': 0.2505760153312885, 'depth': 16, 'l2_leaf_reg': 7.269889843190701, 'border_count': 408, 'random_strength': 2.692050664721932, 'bootstrap_type': 'Bayesian', 'grow_policy': 'Lossguide', 'bagging_temperature': 6.26473206229759, 'max_leaves': 48}. Best is trial 0 with value: 0.18081245304123997.\n",
      "[I 2024-05-19 01:00:32,684] Trial 1 finished with value: 0.17945564740990094 and parameters: {'scalers': 'minmax', 'n_estimators': 378, 'learning_rate': 0.0559327801070181, 'depth': 9, 'l2_leaf_reg': 1.9316240563682419, 'border_count': 344, 'random_strength': 8.82808447266879, 'bootstrap_type': 'Bayesian', 'grow_policy': 'Depthwise', 'bagging_temperature': 5.184958191221346, 'min_data_in_leaf': 61}. Best is trial 1 with value: 0.17945564740990094.\n",
      "[I 2024-05-19 01:00:36,085] Trial 2 finished with value: 0.1809173951555256 and parameters: {'scalers': 'minmax', 'n_estimators': 917, 'learning_rate': 0.23097038831547428, 'depth': 5, 'l2_leaf_reg': 2.95872694087422, 'border_count': 345, 'random_strength': 7.261381221193409, 'bootstrap_type': 'Bernoulli', 'grow_policy': 'Depthwise', 'subsample': 0.8126964645655677, 'min_data_in_leaf': 12}. Best is trial 1 with value: 0.17945564740990094.\n",
      "[I 2024-05-19 01:02:43,159] Trial 3 finished with value: 0.18532673945693684 and parameters: {'scalers': 'minmax', 'n_estimators': 560, 'learning_rate': 0.008082678146252109, 'depth': 9, 'l2_leaf_reg': 9.22231703481385, 'border_count': 136, 'random_strength': 3.151217798889796, 'bootstrap_type': 'Bayesian', 'grow_policy': 'Lossguide', 'bagging_temperature': 8.359434095405659, 'max_leaves': 30}. Best is trial 1 with value: 0.17945564740990094.\n",
      "[I 2024-05-19 01:03:28,678] Trial 4 finished with value: 0.1781300907551567 and parameters: {'scalers': 'minmax', 'n_estimators': 782, 'learning_rate': 0.028155503500955425, 'depth': 15, 'l2_leaf_reg': 3.3625828298420246, 'border_count': 457, 'random_strength': 2.968489978028109, 'bootstrap_type': 'MVS', 'grow_policy': 'Depthwise', 'subsample': 0.4597995846044557, 'min_data_in_leaf': 52}. Best is trial 4 with value: 0.1781300907551567.\n",
      "[I 2024-05-19 01:03:40,525] Trial 5 finished with value: 0.1796390071758025 and parameters: {'scalers': 'robust', 'n_estimators': 305, 'learning_rate': 0.0863020932090645, 'depth': 8, 'l2_leaf_reg': 9.065595556793172, 'border_count': 500, 'random_strength': 7.708842924588205, 'bootstrap_type': 'MVS', 'grow_policy': 'SymmetricTree', 'subsample': 0.9280157319220326}. Best is trial 4 with value: 0.1781300907551567.\n",
      "[I 2024-05-19 01:03:46,981] Trial 6 finished with value: 0.1813932399390419 and parameters: {'scalers': 'minmax', 'n_estimators': 765, 'learning_rate': 0.23234486180541253, 'depth': 10, 'l2_leaf_reg': 8.014673646377311, 'border_count': 170, 'random_strength': 7.201693438586149, 'bootstrap_type': 'Bernoulli', 'grow_policy': 'SymmetricTree', 'subsample': 0.19524655373560565}. Best is trial 4 with value: 0.1781300907551567.\n",
      "[I 2024-05-19 01:04:06,899] Trial 7 finished with value: 0.17845474658152524 and parameters: {'scalers': 'standard', 'n_estimators': 883, 'learning_rate': 0.15551921013866837, 'depth': 11, 'l2_leaf_reg': 8.29150508406053, 'border_count': 106, 'random_strength': 7.70302002065551, 'bootstrap_type': 'Bayesian', 'grow_policy': 'Depthwise', 'bagging_temperature': 8.075940315197693, 'min_data_in_leaf': 11}. Best is trial 4 with value: 0.1781300907551567.\n",
      "[I 2024-05-19 01:05:27,434] Trial 8 finished with value: 0.18105189078494718 and parameters: {'scalers': 'robust', 'n_estimators': 252, 'learning_rate': 0.1908151812453065, 'depth': 12, 'l2_leaf_reg': 7.945648057020135, 'border_count': 220, 'random_strength': 7.581240200615699, 'bootstrap_type': 'Bayesian', 'grow_policy': 'Lossguide', 'bagging_temperature': 5.729729291625432, 'max_leaves': 67}. Best is trial 4 with value: 0.1781300907551567.\n",
      "[I 2024-05-19 01:05:35,455] Trial 9 finished with value: 0.18266708913706078 and parameters: {'scalers': 'robust', 'n_estimators': 524, 'learning_rate': 0.15409461256868065, 'depth': 5, 'l2_leaf_reg': 1.5721946605430914, 'border_count': 114, 'random_strength': 4.918060075416678, 'bootstrap_type': 'MVS', 'grow_policy': 'SymmetricTree', 'subsample': 0.10373456157039168}. Best is trial 4 with value: 0.1781300907551567.\n",
      "[I 2024-05-19 01:06:09,228] Trial 10 finished with value: 0.1798520432399738 and parameters: {'scalers': 'minmax', 'n_estimators': 423, 'learning_rate': 0.02043974303947856, 'depth': 16, 'l2_leaf_reg': 5.1714027932242885, 'border_count': 374, 'random_strength': 2.2836417065816894, 'bootstrap_type': 'MVS', 'grow_policy': 'Depthwise', 'subsample': 0.5009205655421559, 'min_data_in_leaf': 95}. Best is trial 4 with value: 0.1781300907551567.\n",
      "[I 2024-05-19 01:06:16,375] Trial 11 finished with value: 0.17924261936739436 and parameters: {'scalers': 'standard', 'n_estimators': 984, 'learning_rate': 0.2668715166433206, 'depth': 8, 'l2_leaf_reg': 7.842221414151103, 'border_count': 244, 'random_strength': 9.383473701025999, 'bootstrap_type': 'Bayesian', 'grow_policy': 'Depthwise', 'bagging_temperature': 0.19666197651283746, 'min_data_in_leaf': 35}. Best is trial 4 with value: 0.1781300907551567.\n",
      "[I 2024-05-19 01:06:58,541] Trial 12 finished with value: 0.17520166277785723 and parameters: {'scalers': 'standard', 'n_estimators': 929, 'learning_rate': 0.07458071973077701, 'depth': 14, 'l2_leaf_reg': 7.897696762556, 'border_count': 184, 'random_strength': 5.704943775758894, 'bootstrap_type': 'Bayesian', 'grow_policy': 'Depthwise', 'bagging_temperature': 9.38462496045269, 'min_data_in_leaf': 11}. Best is trial 12 with value: 0.17520166277785723.\n",
      "[I 2024-05-19 01:07:14,595] Trial 13 finished with value: 0.17835970046590585 and parameters: {'scalers': 'minmax', 'n_estimators': 808, 'learning_rate': 0.1278381766011305, 'depth': 13, 'l2_leaf_reg': 2.2507193307088933, 'border_count': 451, 'random_strength': 4.584950173467117, 'bootstrap_type': 'MVS', 'grow_policy': 'Depthwise', 'subsample': 0.5534159502077055, 'min_data_in_leaf': 45}. Best is trial 12 with value: 0.17520166277785723.\n",
      "[I 2024-05-19 01:08:06,912] Trial 14 finished with value: 0.178787842394789 and parameters: {'scalers': 'standard', 'n_estimators': 888, 'learning_rate': 0.025475298538975476, 'depth': 16, 'l2_leaf_reg': 5.589036531636982, 'border_count': 267, 'random_strength': 7.8732551042294485, 'bootstrap_type': 'Bayesian', 'grow_policy': 'Depthwise', 'bagging_temperature': 9.984213748503914, 'min_data_in_leaf': 70}. Best is trial 12 with value: 0.17520166277785723.\n",
      "[I 2024-05-19 01:09:43,382] Trial 15 finished with value: 0.17119042399913073 and parameters: {'scalers': 'minmax', 'n_estimators': 722, 'learning_rate': 0.022951673961296104, 'depth': 16, 'l2_leaf_reg': 0.260772153587816, 'border_count': 493, 'random_strength': 1.0294313091617588, 'bootstrap_type': 'Bayesian', 'grow_policy': 'Depthwise', 'bagging_temperature': 2.9015463871634086, 'min_data_in_leaf': 4}. Best is trial 15 with value: 0.17119042399913073.\n",
      "[W 2024-05-19 01:10:54,567] Trial 16 failed with parameters: {'scalers': 'standard', 'n_estimators': 630, 'learning_rate': 0.06186696513608296, 'depth': 16, 'l2_leaf_reg': 1.6959834528183433, 'border_count': 497, 'random_strength': 0.7907778890691881, 'bootstrap_type': 'Bayesian', 'grow_policy': 'Depthwise', 'bagging_temperature': 2.7623830727338476, 'min_data_in_leaf': 2} because of the following error: KeyboardInterrupt().\n",
      "Traceback (most recent call last):\n",
      "  File \"c:\\Users\\Aleks\\Desktop\\Jup\\Cat_Model\\.venv\\Lib\\site-packages\\optuna\\study\\_optimize.py\", line 196, in _run_trial\n",
      "    value_or_values = func(trial)\n",
      "                      ^^^^^^^^^^^\n",
      "  File \"C:\\Users\\Aleks\\AppData\\Local\\Temp\\ipykernel_30428\\3560155627.py\", line 60, in objective\n",
      "    model.fit(train_x, train_y, eval_set = [(test_x, test_y)],\n",
      "  File \"c:\\Users\\Aleks\\Desktop\\Jup\\Cat_Model\\.venv\\Lib\\site-packages\\catboost\\core.py\", line 5827, in fit\n",
      "    return self._fit(X, y, cat_features, text_features, embedding_features, None, sample_weight, None, None, None, None, baseline,\n",
      "           ^^^^^^^^^^^^^^^^^^^^^^^^^^^^^^^^^^^^^^^^^^^^^^^^^^^^^^^^^^^^^^^^^^^^^^^^^^^^^^^^^^^^^^^^^^^^^^^^^^^^^^^^^^^^^^^^^^^^^^^\n",
      "  File \"c:\\Users\\Aleks\\Desktop\\Jup\\Cat_Model\\.venv\\Lib\\site-packages\\catboost\\core.py\", line 2400, in _fit\n",
      "    self._train(\n",
      "  File \"c:\\Users\\Aleks\\Desktop\\Jup\\Cat_Model\\.venv\\Lib\\site-packages\\catboost\\core.py\", line 1780, in _train\n",
      "    self._object._train(train_pool, test_pool, params, allow_clear_pool, init_model._object if init_model else None)\n",
      "KeyboardInterrupt\n",
      "[W 2024-05-19 01:10:54,568] Trial 16 failed with value None.\n"
     ]
    },
    {
     "ename": "KeyboardInterrupt",
     "evalue": "",
     "output_type": "error",
     "traceback": [
      "\u001b[1;31m---------------------------------------------------------------------------\u001b[0m",
      "\u001b[1;31mKeyboardInterrupt\u001b[0m                         Traceback (most recent call last)",
      "Cell \u001b[1;32mIn[87], line 71\u001b[0m\n\u001b[0;32m     69\u001b[0m sampler \u001b[38;5;241m=\u001b[39m TPESampler(multivariate \u001b[38;5;241m=\u001b[39m \u001b[38;5;28;01mTrue\u001b[39;00m, group \u001b[38;5;241m=\u001b[39m \u001b[38;5;28;01mTrue\u001b[39;00m, seed \u001b[38;5;241m=\u001b[39m \u001b[38;5;241m777\u001b[39m)\n\u001b[0;32m     70\u001b[0m study \u001b[38;5;241m=\u001b[39m optuna\u001b[38;5;241m.\u001b[39mcreate_study(study_name \u001b[38;5;241m=\u001b[39m \u001b[38;5;124m\"\u001b[39m\u001b[38;5;124mcatboost\u001b[39m\u001b[38;5;124m\"\u001b[39m, sampler \u001b[38;5;241m=\u001b[39m sampler)\n\u001b[1;32m---> 71\u001b[0m \u001b[43mstudy\u001b[49m\u001b[38;5;241;43m.\u001b[39;49m\u001b[43moptimize\u001b[49m\u001b[43m(\u001b[49m\u001b[43mobjective\u001b[49m\u001b[43m,\u001b[49m\u001b[43m \u001b[49m\u001b[43mn_trials\u001b[49m\u001b[43m \u001b[49m\u001b[38;5;241;43m=\u001b[39;49m\u001b[43m \u001b[49m\u001b[38;5;241;43m150\u001b[39;49m\u001b[43m)\u001b[49m\n\u001b[0;32m     72\u001b[0m trial \u001b[38;5;241m=\u001b[39m study\u001b[38;5;241m.\u001b[39mbest_trial\n\u001b[0;32m     74\u001b[0m \u001b[38;5;28mprint\u001b[39m(\u001b[38;5;124m\"\u001b[39m\u001b[38;5;124mNumber of finished trials: \u001b[39m\u001b[38;5;124m\"\u001b[39m, \u001b[38;5;28mlen\u001b[39m(study\u001b[38;5;241m.\u001b[39mtrials))\n",
      "File \u001b[1;32mc:\\Users\\Aleks\\Desktop\\Jup\\Cat_Model\\.venv\\Lib\\site-packages\\optuna\\study\\study.py:451\u001b[0m, in \u001b[0;36mStudy.optimize\u001b[1;34m(self, func, n_trials, timeout, n_jobs, catch, callbacks, gc_after_trial, show_progress_bar)\u001b[0m\n\u001b[0;32m    348\u001b[0m \u001b[38;5;28;01mdef\u001b[39;00m \u001b[38;5;21moptimize\u001b[39m(\n\u001b[0;32m    349\u001b[0m     \u001b[38;5;28mself\u001b[39m,\n\u001b[0;32m    350\u001b[0m     func: ObjectiveFuncType,\n\u001b[1;32m   (...)\u001b[0m\n\u001b[0;32m    357\u001b[0m     show_progress_bar: \u001b[38;5;28mbool\u001b[39m \u001b[38;5;241m=\u001b[39m \u001b[38;5;28;01mFalse\u001b[39;00m,\n\u001b[0;32m    358\u001b[0m ) \u001b[38;5;241m-\u001b[39m\u001b[38;5;241m>\u001b[39m \u001b[38;5;28;01mNone\u001b[39;00m:\n\u001b[0;32m    359\u001b[0m \u001b[38;5;250m    \u001b[39m\u001b[38;5;124;03m\"\"\"Optimize an objective function.\u001b[39;00m\n\u001b[0;32m    360\u001b[0m \n\u001b[0;32m    361\u001b[0m \u001b[38;5;124;03m    Optimization is done by choosing a suitable set of hyperparameter values from a given\u001b[39;00m\n\u001b[1;32m   (...)\u001b[0m\n\u001b[0;32m    449\u001b[0m \u001b[38;5;124;03m            If nested invocation of this method occurs.\u001b[39;00m\n\u001b[0;32m    450\u001b[0m \u001b[38;5;124;03m    \"\"\"\u001b[39;00m\n\u001b[1;32m--> 451\u001b[0m     \u001b[43m_optimize\u001b[49m\u001b[43m(\u001b[49m\n\u001b[0;32m    452\u001b[0m \u001b[43m        \u001b[49m\u001b[43mstudy\u001b[49m\u001b[38;5;241;43m=\u001b[39;49m\u001b[38;5;28;43mself\u001b[39;49m\u001b[43m,\u001b[49m\n\u001b[0;32m    453\u001b[0m \u001b[43m        \u001b[49m\u001b[43mfunc\u001b[49m\u001b[38;5;241;43m=\u001b[39;49m\u001b[43mfunc\u001b[49m\u001b[43m,\u001b[49m\n\u001b[0;32m    454\u001b[0m \u001b[43m        \u001b[49m\u001b[43mn_trials\u001b[49m\u001b[38;5;241;43m=\u001b[39;49m\u001b[43mn_trials\u001b[49m\u001b[43m,\u001b[49m\n\u001b[0;32m    455\u001b[0m \u001b[43m        \u001b[49m\u001b[43mtimeout\u001b[49m\u001b[38;5;241;43m=\u001b[39;49m\u001b[43mtimeout\u001b[49m\u001b[43m,\u001b[49m\n\u001b[0;32m    456\u001b[0m \u001b[43m        \u001b[49m\u001b[43mn_jobs\u001b[49m\u001b[38;5;241;43m=\u001b[39;49m\u001b[43mn_jobs\u001b[49m\u001b[43m,\u001b[49m\n\u001b[0;32m    457\u001b[0m \u001b[43m        \u001b[49m\u001b[43mcatch\u001b[49m\u001b[38;5;241;43m=\u001b[39;49m\u001b[38;5;28;43mtuple\u001b[39;49m\u001b[43m(\u001b[49m\u001b[43mcatch\u001b[49m\u001b[43m)\u001b[49m\u001b[43m \u001b[49m\u001b[38;5;28;43;01mif\u001b[39;49;00m\u001b[43m \u001b[49m\u001b[38;5;28;43misinstance\u001b[39;49m\u001b[43m(\u001b[49m\u001b[43mcatch\u001b[49m\u001b[43m,\u001b[49m\u001b[43m \u001b[49m\u001b[43mIterable\u001b[49m\u001b[43m)\u001b[49m\u001b[43m \u001b[49m\u001b[38;5;28;43;01melse\u001b[39;49;00m\u001b[43m \u001b[49m\u001b[43m(\u001b[49m\u001b[43mcatch\u001b[49m\u001b[43m,\u001b[49m\u001b[43m)\u001b[49m\u001b[43m,\u001b[49m\n\u001b[0;32m    458\u001b[0m \u001b[43m        \u001b[49m\u001b[43mcallbacks\u001b[49m\u001b[38;5;241;43m=\u001b[39;49m\u001b[43mcallbacks\u001b[49m\u001b[43m,\u001b[49m\n\u001b[0;32m    459\u001b[0m \u001b[43m        \u001b[49m\u001b[43mgc_after_trial\u001b[49m\u001b[38;5;241;43m=\u001b[39;49m\u001b[43mgc_after_trial\u001b[49m\u001b[43m,\u001b[49m\n\u001b[0;32m    460\u001b[0m \u001b[43m        \u001b[49m\u001b[43mshow_progress_bar\u001b[49m\u001b[38;5;241;43m=\u001b[39;49m\u001b[43mshow_progress_bar\u001b[49m\u001b[43m,\u001b[49m\n\u001b[0;32m    461\u001b[0m \u001b[43m    \u001b[49m\u001b[43m)\u001b[49m\n",
      "File \u001b[1;32mc:\\Users\\Aleks\\Desktop\\Jup\\Cat_Model\\.venv\\Lib\\site-packages\\optuna\\study\\_optimize.py:62\u001b[0m, in \u001b[0;36m_optimize\u001b[1;34m(study, func, n_trials, timeout, n_jobs, catch, callbacks, gc_after_trial, show_progress_bar)\u001b[0m\n\u001b[0;32m     60\u001b[0m \u001b[38;5;28;01mtry\u001b[39;00m:\n\u001b[0;32m     61\u001b[0m     \u001b[38;5;28;01mif\u001b[39;00m n_jobs \u001b[38;5;241m==\u001b[39m \u001b[38;5;241m1\u001b[39m:\n\u001b[1;32m---> 62\u001b[0m         \u001b[43m_optimize_sequential\u001b[49m\u001b[43m(\u001b[49m\n\u001b[0;32m     63\u001b[0m \u001b[43m            \u001b[49m\u001b[43mstudy\u001b[49m\u001b[43m,\u001b[49m\n\u001b[0;32m     64\u001b[0m \u001b[43m            \u001b[49m\u001b[43mfunc\u001b[49m\u001b[43m,\u001b[49m\n\u001b[0;32m     65\u001b[0m \u001b[43m            \u001b[49m\u001b[43mn_trials\u001b[49m\u001b[43m,\u001b[49m\n\u001b[0;32m     66\u001b[0m \u001b[43m            \u001b[49m\u001b[43mtimeout\u001b[49m\u001b[43m,\u001b[49m\n\u001b[0;32m     67\u001b[0m \u001b[43m            \u001b[49m\u001b[43mcatch\u001b[49m\u001b[43m,\u001b[49m\n\u001b[0;32m     68\u001b[0m \u001b[43m            \u001b[49m\u001b[43mcallbacks\u001b[49m\u001b[43m,\u001b[49m\n\u001b[0;32m     69\u001b[0m \u001b[43m            \u001b[49m\u001b[43mgc_after_trial\u001b[49m\u001b[43m,\u001b[49m\n\u001b[0;32m     70\u001b[0m \u001b[43m            \u001b[49m\u001b[43mreseed_sampler_rng\u001b[49m\u001b[38;5;241;43m=\u001b[39;49m\u001b[38;5;28;43;01mFalse\u001b[39;49;00m\u001b[43m,\u001b[49m\n\u001b[0;32m     71\u001b[0m \u001b[43m            \u001b[49m\u001b[43mtime_start\u001b[49m\u001b[38;5;241;43m=\u001b[39;49m\u001b[38;5;28;43;01mNone\u001b[39;49;00m\u001b[43m,\u001b[49m\n\u001b[0;32m     72\u001b[0m \u001b[43m            \u001b[49m\u001b[43mprogress_bar\u001b[49m\u001b[38;5;241;43m=\u001b[39;49m\u001b[43mprogress_bar\u001b[49m\u001b[43m,\u001b[49m\n\u001b[0;32m     73\u001b[0m \u001b[43m        \u001b[49m\u001b[43m)\u001b[49m\n\u001b[0;32m     74\u001b[0m     \u001b[38;5;28;01melse\u001b[39;00m:\n\u001b[0;32m     75\u001b[0m         \u001b[38;5;28;01mif\u001b[39;00m n_jobs \u001b[38;5;241m==\u001b[39m \u001b[38;5;241m-\u001b[39m\u001b[38;5;241m1\u001b[39m:\n",
      "File \u001b[1;32mc:\\Users\\Aleks\\Desktop\\Jup\\Cat_Model\\.venv\\Lib\\site-packages\\optuna\\study\\_optimize.py:159\u001b[0m, in \u001b[0;36m_optimize_sequential\u001b[1;34m(study, func, n_trials, timeout, catch, callbacks, gc_after_trial, reseed_sampler_rng, time_start, progress_bar)\u001b[0m\n\u001b[0;32m    156\u001b[0m         \u001b[38;5;28;01mbreak\u001b[39;00m\n\u001b[0;32m    158\u001b[0m \u001b[38;5;28;01mtry\u001b[39;00m:\n\u001b[1;32m--> 159\u001b[0m     frozen_trial \u001b[38;5;241m=\u001b[39m \u001b[43m_run_trial\u001b[49m\u001b[43m(\u001b[49m\u001b[43mstudy\u001b[49m\u001b[43m,\u001b[49m\u001b[43m \u001b[49m\u001b[43mfunc\u001b[49m\u001b[43m,\u001b[49m\u001b[43m \u001b[49m\u001b[43mcatch\u001b[49m\u001b[43m)\u001b[49m\n\u001b[0;32m    160\u001b[0m \u001b[38;5;28;01mfinally\u001b[39;00m:\n\u001b[0;32m    161\u001b[0m     \u001b[38;5;66;03m# The following line mitigates memory problems that can be occurred in some\u001b[39;00m\n\u001b[0;32m    162\u001b[0m     \u001b[38;5;66;03m# environments (e.g., services that use computing containers such as GitHub Actions).\u001b[39;00m\n\u001b[0;32m    163\u001b[0m     \u001b[38;5;66;03m# Please refer to the following PR for further details:\u001b[39;00m\n\u001b[0;32m    164\u001b[0m     \u001b[38;5;66;03m# https://github.com/optuna/optuna/pull/325.\u001b[39;00m\n\u001b[0;32m    165\u001b[0m     \u001b[38;5;28;01mif\u001b[39;00m gc_after_trial:\n",
      "File \u001b[1;32mc:\\Users\\Aleks\\Desktop\\Jup\\Cat_Model\\.venv\\Lib\\site-packages\\optuna\\study\\_optimize.py:247\u001b[0m, in \u001b[0;36m_run_trial\u001b[1;34m(study, func, catch)\u001b[0m\n\u001b[0;32m    240\u001b[0m         \u001b[38;5;28;01massert\u001b[39;00m \u001b[38;5;28;01mFalse\u001b[39;00m, \u001b[38;5;124m\"\u001b[39m\u001b[38;5;124mShould not reach.\u001b[39m\u001b[38;5;124m\"\u001b[39m\n\u001b[0;32m    242\u001b[0m \u001b[38;5;28;01mif\u001b[39;00m (\n\u001b[0;32m    243\u001b[0m     frozen_trial\u001b[38;5;241m.\u001b[39mstate \u001b[38;5;241m==\u001b[39m TrialState\u001b[38;5;241m.\u001b[39mFAIL\n\u001b[0;32m    244\u001b[0m     \u001b[38;5;129;01mand\u001b[39;00m func_err \u001b[38;5;129;01mis\u001b[39;00m \u001b[38;5;129;01mnot\u001b[39;00m \u001b[38;5;28;01mNone\u001b[39;00m\n\u001b[0;32m    245\u001b[0m     \u001b[38;5;129;01mand\u001b[39;00m \u001b[38;5;129;01mnot\u001b[39;00m \u001b[38;5;28misinstance\u001b[39m(func_err, catch)\n\u001b[0;32m    246\u001b[0m ):\n\u001b[1;32m--> 247\u001b[0m     \u001b[38;5;28;01mraise\u001b[39;00m func_err\n\u001b[0;32m    248\u001b[0m \u001b[38;5;28;01mreturn\u001b[39;00m frozen_trial\n",
      "File \u001b[1;32mc:\\Users\\Aleks\\Desktop\\Jup\\Cat_Model\\.venv\\Lib\\site-packages\\optuna\\study\\_optimize.py:196\u001b[0m, in \u001b[0;36m_run_trial\u001b[1;34m(study, func, catch)\u001b[0m\n\u001b[0;32m    194\u001b[0m \u001b[38;5;28;01mwith\u001b[39;00m get_heartbeat_thread(trial\u001b[38;5;241m.\u001b[39m_trial_id, study\u001b[38;5;241m.\u001b[39m_storage):\n\u001b[0;32m    195\u001b[0m     \u001b[38;5;28;01mtry\u001b[39;00m:\n\u001b[1;32m--> 196\u001b[0m         value_or_values \u001b[38;5;241m=\u001b[39m \u001b[43mfunc\u001b[49m\u001b[43m(\u001b[49m\u001b[43mtrial\u001b[49m\u001b[43m)\u001b[49m\n\u001b[0;32m    197\u001b[0m     \u001b[38;5;28;01mexcept\u001b[39;00m exceptions\u001b[38;5;241m.\u001b[39mTrialPruned \u001b[38;5;28;01mas\u001b[39;00m e:\n\u001b[0;32m    198\u001b[0m         \u001b[38;5;66;03m# TODO(mamu): Handle multi-objective cases.\u001b[39;00m\n\u001b[0;32m    199\u001b[0m         state \u001b[38;5;241m=\u001b[39m TrialState\u001b[38;5;241m.\u001b[39mPRUNED\n",
      "Cell \u001b[1;32mIn[87], line 60\u001b[0m, in \u001b[0;36mobjective\u001b[1;34m(trial, data, target)\u001b[0m\n\u001b[0;32m     47\u001b[0m    param[\u001b[38;5;124m\"\u001b[39m\u001b[38;5;124mmax_leaves\u001b[39m\u001b[38;5;124m\"\u001b[39m] \u001b[38;5;241m=\u001b[39m trial\u001b[38;5;241m.\u001b[39msuggest_int(\u001b[38;5;124m'\u001b[39m\u001b[38;5;124mmax_leaves\u001b[39m\u001b[38;5;124m'\u001b[39m, \u001b[38;5;241m1\u001b[39m, \u001b[38;5;241m70\u001b[39m)\n\u001b[0;32m     49\u001b[0m model \u001b[38;5;241m=\u001b[39m CatBoostRegressor(\n\u001b[0;32m     50\u001b[0m     loss_function \u001b[38;5;241m=\u001b[39m \u001b[38;5;124m'\u001b[39m\u001b[38;5;124mRMSE\u001b[39m\u001b[38;5;124m'\u001b[39m,\n\u001b[0;32m     51\u001b[0m     eval_metric \u001b[38;5;241m=\u001b[39m \u001b[38;5;124m\"\u001b[39m\u001b[38;5;124mRMSE\u001b[39m\u001b[38;5;124m\"\u001b[39m,\n\u001b[1;32m   (...)\u001b[0m\n\u001b[0;32m     57\u001b[0m     \u001b[38;5;241m*\u001b[39m\u001b[38;5;241m*\u001b[39mparam\n\u001b[0;32m     58\u001b[0m )\n\u001b[1;32m---> 60\u001b[0m \u001b[43mmodel\u001b[49m\u001b[38;5;241;43m.\u001b[39;49m\u001b[43mfit\u001b[49m\u001b[43m(\u001b[49m\u001b[43mtrain_x\u001b[49m\u001b[43m,\u001b[49m\u001b[43m \u001b[49m\u001b[43mtrain_y\u001b[49m\u001b[43m,\u001b[49m\u001b[43m \u001b[49m\u001b[43meval_set\u001b[49m\u001b[43m \u001b[49m\u001b[38;5;241;43m=\u001b[39;49m\u001b[43m \u001b[49m\u001b[43m[\u001b[49m\u001b[43m(\u001b[49m\u001b[43mtest_x\u001b[49m\u001b[43m,\u001b[49m\u001b[43m \u001b[49m\u001b[43mtest_y\u001b[49m\u001b[43m)\u001b[49m\u001b[43m]\u001b[49m\u001b[43m,\u001b[49m\n\u001b[0;32m     61\u001b[0m \u001b[43m          \u001b[49m\u001b[43mverbose\u001b[49m\u001b[43m \u001b[49m\u001b[38;5;241;43m=\u001b[39;49m\u001b[43m \u001b[49m\u001b[38;5;28;43;01mFalse\u001b[39;49;00m\u001b[43m)\u001b[49m\n\u001b[0;32m     62\u001b[0m preds \u001b[38;5;241m=\u001b[39m model\u001b[38;5;241m.\u001b[39mpredict(test_x)\n\u001b[0;32m     63\u001b[0m rmse \u001b[38;5;241m=\u001b[39m root_mean_squared_error(test_y, preds)\n",
      "File \u001b[1;32mc:\\Users\\Aleks\\Desktop\\Jup\\Cat_Model\\.venv\\Lib\\site-packages\\catboost\\core.py:5827\u001b[0m, in \u001b[0;36mCatBoostRegressor.fit\u001b[1;34m(self, X, y, cat_features, text_features, embedding_features, sample_weight, baseline, use_best_model, eval_set, verbose, logging_level, plot, plot_file, column_description, verbose_eval, metric_period, silent, early_stopping_rounds, save_snapshot, snapshot_file, snapshot_interval, init_model, callbacks, log_cout, log_cerr)\u001b[0m\n\u001b[0;32m   5824\u001b[0m \u001b[38;5;28;01mif\u001b[39;00m \u001b[38;5;124m'\u001b[39m\u001b[38;5;124mloss_function\u001b[39m\u001b[38;5;124m'\u001b[39m \u001b[38;5;129;01min\u001b[39;00m params:\n\u001b[0;32m   5825\u001b[0m     CatBoostRegressor\u001b[38;5;241m.\u001b[39m_check_is_compatible_loss(params[\u001b[38;5;124m'\u001b[39m\u001b[38;5;124mloss_function\u001b[39m\u001b[38;5;124m'\u001b[39m])\n\u001b[1;32m-> 5827\u001b[0m \u001b[38;5;28;01mreturn\u001b[39;00m \u001b[38;5;28;43mself\u001b[39;49m\u001b[38;5;241;43m.\u001b[39;49m\u001b[43m_fit\u001b[49m\u001b[43m(\u001b[49m\u001b[43mX\u001b[49m\u001b[43m,\u001b[49m\u001b[43m \u001b[49m\u001b[43my\u001b[49m\u001b[43m,\u001b[49m\u001b[43m \u001b[49m\u001b[43mcat_features\u001b[49m\u001b[43m,\u001b[49m\u001b[43m \u001b[49m\u001b[43mtext_features\u001b[49m\u001b[43m,\u001b[49m\u001b[43m \u001b[49m\u001b[43membedding_features\u001b[49m\u001b[43m,\u001b[49m\u001b[43m \u001b[49m\u001b[38;5;28;43;01mNone\u001b[39;49;00m\u001b[43m,\u001b[49m\u001b[43m \u001b[49m\u001b[43msample_weight\u001b[49m\u001b[43m,\u001b[49m\u001b[43m \u001b[49m\u001b[38;5;28;43;01mNone\u001b[39;49;00m\u001b[43m,\u001b[49m\u001b[43m \u001b[49m\u001b[38;5;28;43;01mNone\u001b[39;49;00m\u001b[43m,\u001b[49m\u001b[43m \u001b[49m\u001b[38;5;28;43;01mNone\u001b[39;49;00m\u001b[43m,\u001b[49m\u001b[43m \u001b[49m\u001b[38;5;28;43;01mNone\u001b[39;49;00m\u001b[43m,\u001b[49m\u001b[43m \u001b[49m\u001b[43mbaseline\u001b[49m\u001b[43m,\u001b[49m\n\u001b[0;32m   5828\u001b[0m \u001b[43m                 \u001b[49m\u001b[43muse_best_model\u001b[49m\u001b[43m,\u001b[49m\u001b[43m \u001b[49m\u001b[43meval_set\u001b[49m\u001b[43m,\u001b[49m\u001b[43m \u001b[49m\u001b[43mverbose\u001b[49m\u001b[43m,\u001b[49m\u001b[43m \u001b[49m\u001b[43mlogging_level\u001b[49m\u001b[43m,\u001b[49m\u001b[43m \u001b[49m\u001b[43mplot\u001b[49m\u001b[43m,\u001b[49m\u001b[43m \u001b[49m\u001b[43mplot_file\u001b[49m\u001b[43m,\u001b[49m\u001b[43m \u001b[49m\u001b[43mcolumn_description\u001b[49m\u001b[43m,\u001b[49m\n\u001b[0;32m   5829\u001b[0m \u001b[43m                 \u001b[49m\u001b[43mverbose_eval\u001b[49m\u001b[43m,\u001b[49m\u001b[43m \u001b[49m\u001b[43mmetric_period\u001b[49m\u001b[43m,\u001b[49m\u001b[43m \u001b[49m\u001b[43msilent\u001b[49m\u001b[43m,\u001b[49m\u001b[43m \u001b[49m\u001b[43mearly_stopping_rounds\u001b[49m\u001b[43m,\u001b[49m\n\u001b[0;32m   5830\u001b[0m \u001b[43m                 \u001b[49m\u001b[43msave_snapshot\u001b[49m\u001b[43m,\u001b[49m\u001b[43m \u001b[49m\u001b[43msnapshot_file\u001b[49m\u001b[43m,\u001b[49m\u001b[43m \u001b[49m\u001b[43msnapshot_interval\u001b[49m\u001b[43m,\u001b[49m\u001b[43m \u001b[49m\u001b[43minit_model\u001b[49m\u001b[43m,\u001b[49m\u001b[43m \u001b[49m\u001b[43mcallbacks\u001b[49m\u001b[43m,\u001b[49m\u001b[43m \u001b[49m\u001b[43mlog_cout\u001b[49m\u001b[43m,\u001b[49m\u001b[43m \u001b[49m\u001b[43mlog_cerr\u001b[49m\u001b[43m)\u001b[49m\n",
      "File \u001b[1;32mc:\\Users\\Aleks\\Desktop\\Jup\\Cat_Model\\.venv\\Lib\\site-packages\\catboost\\core.py:2400\u001b[0m, in \u001b[0;36mCatBoost._fit\u001b[1;34m(self, X, y, cat_features, text_features, embedding_features, pairs, sample_weight, group_id, group_weight, subgroup_id, pairs_weight, baseline, use_best_model, eval_set, verbose, logging_level, plot, plot_file, column_description, verbose_eval, metric_period, silent, early_stopping_rounds, save_snapshot, snapshot_file, snapshot_interval, init_model, callbacks, log_cout, log_cerr)\u001b[0m\n\u001b[0;32m   2397\u001b[0m allow_clear_pool \u001b[38;5;241m=\u001b[39m train_params[\u001b[38;5;124m\"\u001b[39m\u001b[38;5;124mallow_clear_pool\u001b[39m\u001b[38;5;124m\"\u001b[39m]\n\u001b[0;32m   2399\u001b[0m \u001b[38;5;28;01mwith\u001b[39;00m plot_wrapper(plot, plot_file, \u001b[38;5;124m'\u001b[39m\u001b[38;5;124mTraining plots\u001b[39m\u001b[38;5;124m'\u001b[39m, [_get_train_dir(\u001b[38;5;28mself\u001b[39m\u001b[38;5;241m.\u001b[39mget_params())]):\n\u001b[1;32m-> 2400\u001b[0m     \u001b[38;5;28;43mself\u001b[39;49m\u001b[38;5;241;43m.\u001b[39;49m\u001b[43m_train\u001b[49m\u001b[43m(\u001b[49m\n\u001b[0;32m   2401\u001b[0m \u001b[43m        \u001b[49m\u001b[43mtrain_pool\u001b[49m\u001b[43m,\u001b[49m\n\u001b[0;32m   2402\u001b[0m \u001b[43m        \u001b[49m\u001b[43mtrain_params\u001b[49m\u001b[43m[\u001b[49m\u001b[38;5;124;43m\"\u001b[39;49m\u001b[38;5;124;43meval_sets\u001b[39;49m\u001b[38;5;124;43m\"\u001b[39;49m\u001b[43m]\u001b[49m\u001b[43m,\u001b[49m\n\u001b[0;32m   2403\u001b[0m \u001b[43m        \u001b[49m\u001b[43mparams\u001b[49m\u001b[43m,\u001b[49m\n\u001b[0;32m   2404\u001b[0m \u001b[43m        \u001b[49m\u001b[43mallow_clear_pool\u001b[49m\u001b[43m,\u001b[49m\n\u001b[0;32m   2405\u001b[0m \u001b[43m        \u001b[49m\u001b[43mtrain_params\u001b[49m\u001b[43m[\u001b[49m\u001b[38;5;124;43m\"\u001b[39;49m\u001b[38;5;124;43minit_model\u001b[39;49m\u001b[38;5;124;43m\"\u001b[39;49m\u001b[43m]\u001b[49m\n\u001b[0;32m   2406\u001b[0m \u001b[43m    \u001b[49m\u001b[43m)\u001b[49m\n\u001b[0;32m   2408\u001b[0m \u001b[38;5;66;03m# Have property feature_importance possibly set\u001b[39;00m\n\u001b[0;32m   2409\u001b[0m loss \u001b[38;5;241m=\u001b[39m \u001b[38;5;28mself\u001b[39m\u001b[38;5;241m.\u001b[39m_object\u001b[38;5;241m.\u001b[39m_get_loss_function_name()\n",
      "File \u001b[1;32mc:\\Users\\Aleks\\Desktop\\Jup\\Cat_Model\\.venv\\Lib\\site-packages\\catboost\\core.py:1780\u001b[0m, in \u001b[0;36m_CatBoostBase._train\u001b[1;34m(self, train_pool, test_pool, params, allow_clear_pool, init_model)\u001b[0m\n\u001b[0;32m   1779\u001b[0m \u001b[38;5;28;01mdef\u001b[39;00m \u001b[38;5;21m_train\u001b[39m(\u001b[38;5;28mself\u001b[39m, train_pool, test_pool, params, allow_clear_pool, init_model):\n\u001b[1;32m-> 1780\u001b[0m     \u001b[38;5;28;43mself\u001b[39;49m\u001b[38;5;241;43m.\u001b[39;49m\u001b[43m_object\u001b[49m\u001b[38;5;241;43m.\u001b[39;49m\u001b[43m_train\u001b[49m\u001b[43m(\u001b[49m\u001b[43mtrain_pool\u001b[49m\u001b[43m,\u001b[49m\u001b[43m \u001b[49m\u001b[43mtest_pool\u001b[49m\u001b[43m,\u001b[49m\u001b[43m \u001b[49m\u001b[43mparams\u001b[49m\u001b[43m,\u001b[49m\u001b[43m \u001b[49m\u001b[43mallow_clear_pool\u001b[49m\u001b[43m,\u001b[49m\u001b[43m \u001b[49m\u001b[43minit_model\u001b[49m\u001b[38;5;241;43m.\u001b[39;49m\u001b[43m_object\u001b[49m\u001b[43m \u001b[49m\u001b[38;5;28;43;01mif\u001b[39;49;00m\u001b[43m \u001b[49m\u001b[43minit_model\u001b[49m\u001b[43m \u001b[49m\u001b[38;5;28;43;01melse\u001b[39;49;00m\u001b[43m \u001b[49m\u001b[38;5;28;43;01mNone\u001b[39;49;00m\u001b[43m)\u001b[49m\n\u001b[0;32m   1781\u001b[0m     \u001b[38;5;28mself\u001b[39m\u001b[38;5;241m.\u001b[39m_set_trained_model_attributes()\n",
      "\u001b[1;31mKeyboardInterrupt\u001b[0m: "
     ]
    }
   ],
   "source": [
    "# Find best hyperparameters using Optuna library\n",
    "\n",
    "def objective(trial, data = cat_data[features], target = cat_data[target]):\n",
    "\n",
    "\n",
    "    scalers = trial.suggest_categorical(\"scalers\", ['minmax', 'standard', 'robust', 'maxabs', None])\n",
    "\n",
    "    if scalers == \"minmax\":\n",
    "        scaler = MinMaxScaler()\n",
    "    elif scalers == \"standard\":\n",
    "        scaler = StandardScaler()\n",
    "    elif scalers == 'maxabs':\n",
    "        scaler = MaxAbsScaler()\n",
    "    elif scalers == 'robust':\n",
    "        scaler = RobustScaler()\n",
    "    else:\n",
    "        scaler = None\n",
    "\n",
    "    data_scaler = scaler.fit_transform(data[number_columns])\n",
    "    data_scaler = pd.DataFrame(data_scaler, columns=scaler.get_feature_names_out(number_columns))\n",
    "    df_scaled = pd.concat([data, data_scaler], axis=1)\n",
    "    data = df_scaled.loc[:, 'sales':]\n",
    "    \n",
    "    train_x, test_x, train_y, test_y = train_test_split(data, target,\n",
    "                                                        test_size=0.25,\n",
    "                                                        random_state=777)\n",
    "    param = {\n",
    "        \"n_estimators\": trial.suggest_int('n_estimators', 200, 1000),\n",
    "        \"learning_rate\": trial.suggest_float('learning_rate', 0, 0.3),\n",
    "        \"depth\": trial.suggest_int('depth', 4, 16),\n",
    "        \"l2_leaf_reg\": trial.suggest_float('l2_leaf_reg', 0, 10),\n",
    "        \"border_count\": trial.suggest_int('border_count', 100, 500),\n",
    "        \"random_strength\": trial.suggest_float('random_strength', 0, 10),\n",
    "        \"bootstrap_type\": trial.suggest_categorical(\n",
    "            \"bootstrap_type\", [\"Bayesian\", \"Bernoulli\", \"MVS\"]\n",
    "        ),\n",
    "        'grow_policy': trial.suggest_categorical('grow_policy',\n",
    "            [\"Depthwise\", \"SymmetricTree\", 'Lossguide'])\n",
    "    }\n",
    "\n",
    "    if param[\"bootstrap_type\"] == \"Bayesian\":\n",
    "      param[\"bagging_temperature\"] = trial.suggest_float(\n",
    "            \"bagging_temperature\", 0, 10)\n",
    "\n",
    "    else:\n",
    "      param[\"subsample\"] = trial.suggest_float(\"subsample\", 0.1, 1)\n",
    "\n",
    "    if param[\"grow_policy\"] == \"Depthwise\":\n",
    "      param[\"min_data_in_leaf\"] = trial.suggest_int('min_data_in_leaf', 1, 100)\n",
    "    elif param[\"grow_policy\"] == 'Lossguide':\n",
    "       param[\"max_leaves\"] = trial.suggest_int('max_leaves', 1, 70)\n",
    "\n",
    "    model = CatBoostRegressor(\n",
    "        loss_function = 'RMSE',\n",
    "        eval_metric = \"RMSE\",\n",
    "        random_state = 777,\n",
    "        use_best_model = True,\n",
    "        od_type = \"Iter\",\n",
    "        od_wait = 25,\n",
    "        cat_features = [0, 1],\n",
    "        **param\n",
    "    )\n",
    "\n",
    "    model.fit(train_x, train_y, eval_set = [(test_x, test_y)],\n",
    "              verbose = False)\n",
    "    preds = model.predict(test_x)\n",
    "    rmse = root_mean_squared_error(test_y, preds)\n",
    "\n",
    "    return rmse\n",
    "\n",
    "\n",
    "\n",
    "sampler = TPESampler(multivariate = True, group = True, seed = 777)\n",
    "study = optuna.create_study(study_name = \"catboost\", sampler = sampler)\n",
    "study.optimize(objective, n_trials = 150)\n",
    "trial = study.best_trial\n",
    "\n",
    "print(\"Number of finished trials: \", len(study.trials))\n",
    "print(\"Best trial:\", trial.number)\n",
    "print(\"  Value: \", trial.value)\n",
    "print(\"  Params: \")\n",
    "\n",
    "for key, value in trial.params.items():\n",
    "    print(\"    {}: {}\".format(key, value))"
   ]
  },
  {
   "cell_type": "code",
   "execution_count": null,
   "metadata": {
    "colab": {
     "base_uri": "https://localhost:8080/",
     "height": 542
    },
    "id": "yArXDG21Gl2V",
    "outputId": "0f906be3-f8d9-4541-9934-d10316e1ddff"
   },
   "outputs": [
    {
     "data": {
      "application/vnd.plotly.v1+json": {
       "config": {
        "plotlyServerURL": "https://plot.ly"
       },
       "data": [
        {
         "mode": "markers",
         "name": "Objective Value",
         "type": "scatter",
         "x": [
          0,
          1,
          2,
          3,
          4,
          5,
          6,
          7,
          8,
          9,
          10,
          11,
          12,
          13,
          14,
          15,
          16,
          17,
          18,
          19,
          20,
          21,
          22,
          23,
          24,
          25,
          26,
          27,
          28,
          29,
          30,
          31,
          32,
          33,
          34,
          35,
          36,
          37,
          38,
          39,
          40,
          41,
          42,
          43,
          44,
          45,
          46,
          47,
          48,
          49,
          50,
          51,
          52,
          53,
          54,
          55,
          56,
          57,
          58,
          59,
          60,
          61,
          62,
          63,
          64,
          65,
          66,
          67,
          68,
          69,
          70,
          71,
          72,
          73,
          74,
          75,
          76,
          77,
          78,
          79,
          80,
          81,
          82,
          83,
          84,
          85,
          86,
          87,
          88,
          89,
          90,
          91,
          92,
          93,
          94,
          95,
          96,
          97,
          98,
          99,
          100,
          101,
          102,
          103,
          104,
          105,
          106,
          107,
          108,
          109,
          110,
          111,
          112,
          113,
          114,
          115,
          116,
          117,
          118,
          119,
          120,
          121,
          122,
          123,
          124,
          125,
          126,
          127,
          128,
          129,
          130,
          131,
          132,
          133,
          134,
          135,
          136,
          137,
          138,
          139,
          140,
          141,
          142,
          143,
          144,
          145,
          146,
          147,
          148,
          149
         ],
         "y": [
          0.18462259029797107,
          0.18249586267967313,
          0.18022339542221316,
          0.18505054556721032,
          0.18109175915821044,
          0.18374642888471546,
          0.18828707272203182,
          0.18577462928803484,
          0.1815535105515791,
          0.18143742309425773,
          0.18275431816393325,
          0.18199361185119928,
          0.18255978911614254,
          0.1817994535106567,
          0.1811184224483846,
          0.181728020040636,
          0.17953337874022768,
          0.17985539413444548,
          0.1801270346624885,
          0.18078586279584638,
          0.18076298013007072,
          0.1802843490061424,
          0.17929714341127762,
          0.1789237458436113,
          0.18069676527576187,
          0.178548419189479,
          0.1787585441186012,
          0.17937973755938671,
          0.18502849426303014,
          0.17873400275502557,
          0.18012258212251836,
          0.18052731080870446,
          0.18028978707013085,
          0.18893270497005538,
          0.17892951116036365,
          0.17857118598528426,
          0.18329360471967135,
          0.18114537202385006,
          0.1804048757528976,
          0.18389569189281446,
          0.1795543857148311,
          0.18072790216334286,
          0.18349939659130846,
          0.17923484903806255,
          0.17911001155441425,
          0.17869205233457908,
          0.1809490158424799,
          0.18126365376413073,
          0.17676222203789357,
          0.17915530030479052,
          0.17370651415715035,
          0.17986076811989776,
          0.17766404637459574,
          0.17658971473728005,
          0.1774192904740539,
          0.17865987615902426,
          0.17741463265170235,
          0.1765574496120485,
          0.17702056896257315,
          0.18316532429114196,
          0.1768312020591234,
          0.17820634619992962,
          0.17827563423408543,
          0.179466051831435,
          0.17982285927214295,
          0.18027224144195528,
          0.17473364431102698,
          0.17867291727322723,
          0.17718531513890307,
          0.1785048212613681,
          0.17788951856642948,
          0.1749519803696798,
          0.17938502850735966,
          0.1740891367975378,
          0.1797644904230985,
          0.1758444696316134,
          0.1805103089797051,
          0.17660499991350903,
          0.1833465735977777,
          0.1835577483222962,
          0.17830770428880802,
          0.18345942685509006,
          0.17697066867439806,
          0.17472014522233653,
          0.17994877258255007,
          0.17934085174963119,
          0.1811648811294992,
          0.18076027034672434,
          0.17719377101057052,
          0.18056397654196102,
          0.18390005144071603,
          0.2154644223086052,
          0.17688266890620724,
          0.1785101399703093,
          0.18432460325800723,
          0.17563630130062188,
          0.177351605725758,
          0.17537588735293758,
          0.18168379895358938,
          0.17906805170819837,
          0.18412016546126203,
          0.17460993812863895,
          0.1781497783115625,
          0.17607795202026819,
          0.1788884528383062,
          0.17501546290731548,
          0.17674804692811147,
          0.18100898293932433,
          0.1822016257526703,
          0.18067922008120751,
          0.1741048635517047,
          0.17518330885013006,
          0.17912053314823004,
          0.18055210959152596,
          0.1753545212795244,
          0.17413790414888503,
          0.17506234758452716,
          0.1787408895366292,
          0.1783220484463359,
          0.18637051377071667,
          0.17781552805874792,
          0.17539096730580958,
          0.17686223590614208,
          0.1783346507978726,
          0.17813198086194437,
          0.17607912319834448,
          0.17832899398617255,
          0.1781855713335123,
          0.1809034817445108,
          0.17432827806369713,
          0.1792715206169919,
          0.17713430712742723,
          0.17653753615768134,
          0.17917250795447578,
          0.17444336820044334,
          0.17506344051195014,
          0.17278343034770732,
          0.17746842803847243,
          0.1797170164995123,
          0.17704901328047262,
          0.17833194051850348,
          0.1752814803512496,
          0.17364433062868184,
          0.17861583084798932,
          0.1829843317260553,
          0.17999607001393877,
          0.18357868515615436,
          0.18806821382487343,
          0.17515202652613363,
          0.18117840930994336
         ]
        },
        {
         "mode": "lines",
         "name": "Best Value",
         "type": "scatter",
         "x": [
          0,
          1,
          2,
          3,
          4,
          5,
          6,
          7,
          8,
          9,
          10,
          11,
          12,
          13,
          14,
          15,
          16,
          17,
          18,
          19,
          20,
          21,
          22,
          23,
          24,
          25,
          26,
          27,
          28,
          29,
          30,
          31,
          32,
          33,
          34,
          35,
          36,
          37,
          38,
          39,
          40,
          41,
          42,
          43,
          44,
          45,
          46,
          47,
          48,
          49,
          50,
          51,
          52,
          53,
          54,
          55,
          56,
          57,
          58,
          59,
          60,
          61,
          62,
          63,
          64,
          65,
          66,
          67,
          68,
          69,
          70,
          71,
          72,
          73,
          74,
          75,
          76,
          77,
          78,
          79,
          80,
          81,
          82,
          83,
          84,
          85,
          86,
          87,
          88,
          89,
          90,
          91,
          92,
          93,
          94,
          95,
          96,
          97,
          98,
          99,
          100,
          101,
          102,
          103,
          104,
          105,
          106,
          107,
          108,
          109,
          110,
          111,
          112,
          113,
          114,
          115,
          116,
          117,
          118,
          119,
          120,
          121,
          122,
          123,
          124,
          125,
          126,
          127,
          128,
          129,
          130,
          131,
          132,
          133,
          134,
          135,
          136,
          137,
          138,
          139,
          140,
          141,
          142,
          143,
          144,
          145,
          146,
          147,
          148,
          149
         ],
         "y": [
          0.18462259029797107,
          0.18249586267967313,
          0.18022339542221316,
          0.18022339542221316,
          0.18022339542221316,
          0.18022339542221316,
          0.18022339542221316,
          0.18022339542221316,
          0.18022339542221316,
          0.18022339542221316,
          0.18022339542221316,
          0.18022339542221316,
          0.18022339542221316,
          0.18022339542221316,
          0.18022339542221316,
          0.18022339542221316,
          0.17953337874022768,
          0.17953337874022768,
          0.17953337874022768,
          0.17953337874022768,
          0.17953337874022768,
          0.17953337874022768,
          0.17929714341127762,
          0.1789237458436113,
          0.1789237458436113,
          0.178548419189479,
          0.178548419189479,
          0.178548419189479,
          0.178548419189479,
          0.178548419189479,
          0.178548419189479,
          0.178548419189479,
          0.178548419189479,
          0.178548419189479,
          0.178548419189479,
          0.178548419189479,
          0.178548419189479,
          0.178548419189479,
          0.178548419189479,
          0.178548419189479,
          0.178548419189479,
          0.178548419189479,
          0.178548419189479,
          0.178548419189479,
          0.178548419189479,
          0.178548419189479,
          0.178548419189479,
          0.178548419189479,
          0.17676222203789357,
          0.17676222203789357,
          0.17370651415715035,
          0.17370651415715035,
          0.17370651415715035,
          0.17370651415715035,
          0.17370651415715035,
          0.17370651415715035,
          0.17370651415715035,
          0.17370651415715035,
          0.17370651415715035,
          0.17370651415715035,
          0.17370651415715035,
          0.17370651415715035,
          0.17370651415715035,
          0.17370651415715035,
          0.17370651415715035,
          0.17370651415715035,
          0.17370651415715035,
          0.17370651415715035,
          0.17370651415715035,
          0.17370651415715035,
          0.17370651415715035,
          0.17370651415715035,
          0.17370651415715035,
          0.17370651415715035,
          0.17370651415715035,
          0.17370651415715035,
          0.17370651415715035,
          0.17370651415715035,
          0.17370651415715035,
          0.17370651415715035,
          0.17370651415715035,
          0.17370651415715035,
          0.17370651415715035,
          0.17370651415715035,
          0.17370651415715035,
          0.17370651415715035,
          0.17370651415715035,
          0.17370651415715035,
          0.17370651415715035,
          0.17370651415715035,
          0.17370651415715035,
          0.17370651415715035,
          0.17370651415715035,
          0.17370651415715035,
          0.17370651415715035,
          0.17370651415715035,
          0.17370651415715035,
          0.17370651415715035,
          0.17370651415715035,
          0.17370651415715035,
          0.17370651415715035,
          0.17370651415715035,
          0.17370651415715035,
          0.17370651415715035,
          0.17370651415715035,
          0.17370651415715035,
          0.17370651415715035,
          0.17370651415715035,
          0.17370651415715035,
          0.17370651415715035,
          0.17370651415715035,
          0.17370651415715035,
          0.17370651415715035,
          0.17370651415715035,
          0.17370651415715035,
          0.17370651415715035,
          0.17370651415715035,
          0.17370651415715035,
          0.17370651415715035,
          0.17370651415715035,
          0.17370651415715035,
          0.17370651415715035,
          0.17370651415715035,
          0.17370651415715035,
          0.17370651415715035,
          0.17370651415715035,
          0.17370651415715035,
          0.17370651415715035,
          0.17370651415715035,
          0.17370651415715035,
          0.17370651415715035,
          0.17370651415715035,
          0.17370651415715035,
          0.17370651415715035,
          0.17370651415715035,
          0.17370651415715035,
          0.17278343034770732,
          0.17278343034770732,
          0.17278343034770732,
          0.17278343034770732,
          0.17278343034770732,
          0.17278343034770732,
          0.17278343034770732,
          0.17278343034770732,
          0.17278343034770732,
          0.17278343034770732,
          0.17278343034770732,
          0.17278343034770732,
          0.17278343034770732,
          0.17278343034770732
         ]
        },
        {
         "marker": {
          "color": "#cccccc"
         },
         "mode": "markers",
         "name": "Infeasible Trial",
         "showlegend": false,
         "type": "scatter",
         "x": [],
         "y": []
        }
       ],
       "layout": {
        "template": {
         "data": {
          "bar": [
           {
            "error_x": {
             "color": "#2a3f5f"
            },
            "error_y": {
             "color": "#2a3f5f"
            },
            "marker": {
             "line": {
              "color": "#E5ECF6",
              "width": 0.5
             },
             "pattern": {
              "fillmode": "overlay",
              "size": 10,
              "solidity": 0.2
             }
            },
            "type": "bar"
           }
          ],
          "barpolar": [
           {
            "marker": {
             "line": {
              "color": "#E5ECF6",
              "width": 0.5
             },
             "pattern": {
              "fillmode": "overlay",
              "size": 10,
              "solidity": 0.2
             }
            },
            "type": "barpolar"
           }
          ],
          "carpet": [
           {
            "aaxis": {
             "endlinecolor": "#2a3f5f",
             "gridcolor": "white",
             "linecolor": "white",
             "minorgridcolor": "white",
             "startlinecolor": "#2a3f5f"
            },
            "baxis": {
             "endlinecolor": "#2a3f5f",
             "gridcolor": "white",
             "linecolor": "white",
             "minorgridcolor": "white",
             "startlinecolor": "#2a3f5f"
            },
            "type": "carpet"
           }
          ],
          "choropleth": [
           {
            "colorbar": {
             "outlinewidth": 0,
             "ticks": ""
            },
            "type": "choropleth"
           }
          ],
          "contour": [
           {
            "colorbar": {
             "outlinewidth": 0,
             "ticks": ""
            },
            "colorscale": [
             [
              0,
              "#0d0887"
             ],
             [
              0.1111111111111111,
              "#46039f"
             ],
             [
              0.2222222222222222,
              "#7201a8"
             ],
             [
              0.3333333333333333,
              "#9c179e"
             ],
             [
              0.4444444444444444,
              "#bd3786"
             ],
             [
              0.5555555555555556,
              "#d8576b"
             ],
             [
              0.6666666666666666,
              "#ed7953"
             ],
             [
              0.7777777777777778,
              "#fb9f3a"
             ],
             [
              0.8888888888888888,
              "#fdca26"
             ],
             [
              1,
              "#f0f921"
             ]
            ],
            "type": "contour"
           }
          ],
          "contourcarpet": [
           {
            "colorbar": {
             "outlinewidth": 0,
             "ticks": ""
            },
            "type": "contourcarpet"
           }
          ],
          "heatmap": [
           {
            "colorbar": {
             "outlinewidth": 0,
             "ticks": ""
            },
            "colorscale": [
             [
              0,
              "#0d0887"
             ],
             [
              0.1111111111111111,
              "#46039f"
             ],
             [
              0.2222222222222222,
              "#7201a8"
             ],
             [
              0.3333333333333333,
              "#9c179e"
             ],
             [
              0.4444444444444444,
              "#bd3786"
             ],
             [
              0.5555555555555556,
              "#d8576b"
             ],
             [
              0.6666666666666666,
              "#ed7953"
             ],
             [
              0.7777777777777778,
              "#fb9f3a"
             ],
             [
              0.8888888888888888,
              "#fdca26"
             ],
             [
              1,
              "#f0f921"
             ]
            ],
            "type": "heatmap"
           }
          ],
          "heatmapgl": [
           {
            "colorbar": {
             "outlinewidth": 0,
             "ticks": ""
            },
            "colorscale": [
             [
              0,
              "#0d0887"
             ],
             [
              0.1111111111111111,
              "#46039f"
             ],
             [
              0.2222222222222222,
              "#7201a8"
             ],
             [
              0.3333333333333333,
              "#9c179e"
             ],
             [
              0.4444444444444444,
              "#bd3786"
             ],
             [
              0.5555555555555556,
              "#d8576b"
             ],
             [
              0.6666666666666666,
              "#ed7953"
             ],
             [
              0.7777777777777778,
              "#fb9f3a"
             ],
             [
              0.8888888888888888,
              "#fdca26"
             ],
             [
              1,
              "#f0f921"
             ]
            ],
            "type": "heatmapgl"
           }
          ],
          "histogram": [
           {
            "marker": {
             "pattern": {
              "fillmode": "overlay",
              "size": 10,
              "solidity": 0.2
             }
            },
            "type": "histogram"
           }
          ],
          "histogram2d": [
           {
            "colorbar": {
             "outlinewidth": 0,
             "ticks": ""
            },
            "colorscale": [
             [
              0,
              "#0d0887"
             ],
             [
              0.1111111111111111,
              "#46039f"
             ],
             [
              0.2222222222222222,
              "#7201a8"
             ],
             [
              0.3333333333333333,
              "#9c179e"
             ],
             [
              0.4444444444444444,
              "#bd3786"
             ],
             [
              0.5555555555555556,
              "#d8576b"
             ],
             [
              0.6666666666666666,
              "#ed7953"
             ],
             [
              0.7777777777777778,
              "#fb9f3a"
             ],
             [
              0.8888888888888888,
              "#fdca26"
             ],
             [
              1,
              "#f0f921"
             ]
            ],
            "type": "histogram2d"
           }
          ],
          "histogram2dcontour": [
           {
            "colorbar": {
             "outlinewidth": 0,
             "ticks": ""
            },
            "colorscale": [
             [
              0,
              "#0d0887"
             ],
             [
              0.1111111111111111,
              "#46039f"
             ],
             [
              0.2222222222222222,
              "#7201a8"
             ],
             [
              0.3333333333333333,
              "#9c179e"
             ],
             [
              0.4444444444444444,
              "#bd3786"
             ],
             [
              0.5555555555555556,
              "#d8576b"
             ],
             [
              0.6666666666666666,
              "#ed7953"
             ],
             [
              0.7777777777777778,
              "#fb9f3a"
             ],
             [
              0.8888888888888888,
              "#fdca26"
             ],
             [
              1,
              "#f0f921"
             ]
            ],
            "type": "histogram2dcontour"
           }
          ],
          "mesh3d": [
           {
            "colorbar": {
             "outlinewidth": 0,
             "ticks": ""
            },
            "type": "mesh3d"
           }
          ],
          "parcoords": [
           {
            "line": {
             "colorbar": {
              "outlinewidth": 0,
              "ticks": ""
             }
            },
            "type": "parcoords"
           }
          ],
          "pie": [
           {
            "automargin": true,
            "type": "pie"
           }
          ],
          "scatter": [
           {
            "fillpattern": {
             "fillmode": "overlay",
             "size": 10,
             "solidity": 0.2
            },
            "type": "scatter"
           }
          ],
          "scatter3d": [
           {
            "line": {
             "colorbar": {
              "outlinewidth": 0,
              "ticks": ""
             }
            },
            "marker": {
             "colorbar": {
              "outlinewidth": 0,
              "ticks": ""
             }
            },
            "type": "scatter3d"
           }
          ],
          "scattercarpet": [
           {
            "marker": {
             "colorbar": {
              "outlinewidth": 0,
              "ticks": ""
             }
            },
            "type": "scattercarpet"
           }
          ],
          "scattergeo": [
           {
            "marker": {
             "colorbar": {
              "outlinewidth": 0,
              "ticks": ""
             }
            },
            "type": "scattergeo"
           }
          ],
          "scattergl": [
           {
            "marker": {
             "colorbar": {
              "outlinewidth": 0,
              "ticks": ""
             }
            },
            "type": "scattergl"
           }
          ],
          "scattermapbox": [
           {
            "marker": {
             "colorbar": {
              "outlinewidth": 0,
              "ticks": ""
             }
            },
            "type": "scattermapbox"
           }
          ],
          "scatterpolar": [
           {
            "marker": {
             "colorbar": {
              "outlinewidth": 0,
              "ticks": ""
             }
            },
            "type": "scatterpolar"
           }
          ],
          "scatterpolargl": [
           {
            "marker": {
             "colorbar": {
              "outlinewidth": 0,
              "ticks": ""
             }
            },
            "type": "scatterpolargl"
           }
          ],
          "scatterternary": [
           {
            "marker": {
             "colorbar": {
              "outlinewidth": 0,
              "ticks": ""
             }
            },
            "type": "scatterternary"
           }
          ],
          "surface": [
           {
            "colorbar": {
             "outlinewidth": 0,
             "ticks": ""
            },
            "colorscale": [
             [
              0,
              "#0d0887"
             ],
             [
              0.1111111111111111,
              "#46039f"
             ],
             [
              0.2222222222222222,
              "#7201a8"
             ],
             [
              0.3333333333333333,
              "#9c179e"
             ],
             [
              0.4444444444444444,
              "#bd3786"
             ],
             [
              0.5555555555555556,
              "#d8576b"
             ],
             [
              0.6666666666666666,
              "#ed7953"
             ],
             [
              0.7777777777777778,
              "#fb9f3a"
             ],
             [
              0.8888888888888888,
              "#fdca26"
             ],
             [
              1,
              "#f0f921"
             ]
            ],
            "type": "surface"
           }
          ],
          "table": [
           {
            "cells": {
             "fill": {
              "color": "#EBF0F8"
             },
             "line": {
              "color": "white"
             }
            },
            "header": {
             "fill": {
              "color": "#C8D4E3"
             },
             "line": {
              "color": "white"
             }
            },
            "type": "table"
           }
          ]
         },
         "layout": {
          "annotationdefaults": {
           "arrowcolor": "#2a3f5f",
           "arrowhead": 0,
           "arrowwidth": 1
          },
          "autotypenumbers": "strict",
          "coloraxis": {
           "colorbar": {
            "outlinewidth": 0,
            "ticks": ""
           }
          },
          "colorscale": {
           "diverging": [
            [
             0,
             "#8e0152"
            ],
            [
             0.1,
             "#c51b7d"
            ],
            [
             0.2,
             "#de77ae"
            ],
            [
             0.3,
             "#f1b6da"
            ],
            [
             0.4,
             "#fde0ef"
            ],
            [
             0.5,
             "#f7f7f7"
            ],
            [
             0.6,
             "#e6f5d0"
            ],
            [
             0.7,
             "#b8e186"
            ],
            [
             0.8,
             "#7fbc41"
            ],
            [
             0.9,
             "#4d9221"
            ],
            [
             1,
             "#276419"
            ]
           ],
           "sequential": [
            [
             0,
             "#0d0887"
            ],
            [
             0.1111111111111111,
             "#46039f"
            ],
            [
             0.2222222222222222,
             "#7201a8"
            ],
            [
             0.3333333333333333,
             "#9c179e"
            ],
            [
             0.4444444444444444,
             "#bd3786"
            ],
            [
             0.5555555555555556,
             "#d8576b"
            ],
            [
             0.6666666666666666,
             "#ed7953"
            ],
            [
             0.7777777777777778,
             "#fb9f3a"
            ],
            [
             0.8888888888888888,
             "#fdca26"
            ],
            [
             1,
             "#f0f921"
            ]
           ],
           "sequentialminus": [
            [
             0,
             "#0d0887"
            ],
            [
             0.1111111111111111,
             "#46039f"
            ],
            [
             0.2222222222222222,
             "#7201a8"
            ],
            [
             0.3333333333333333,
             "#9c179e"
            ],
            [
             0.4444444444444444,
             "#bd3786"
            ],
            [
             0.5555555555555556,
             "#d8576b"
            ],
            [
             0.6666666666666666,
             "#ed7953"
            ],
            [
             0.7777777777777778,
             "#fb9f3a"
            ],
            [
             0.8888888888888888,
             "#fdca26"
            ],
            [
             1,
             "#f0f921"
            ]
           ]
          },
          "colorway": [
           "#636efa",
           "#EF553B",
           "#00cc96",
           "#ab63fa",
           "#FFA15A",
           "#19d3f3",
           "#FF6692",
           "#B6E880",
           "#FF97FF",
           "#FECB52"
          ],
          "font": {
           "color": "#2a3f5f"
          },
          "geo": {
           "bgcolor": "white",
           "lakecolor": "white",
           "landcolor": "#E5ECF6",
           "showlakes": true,
           "showland": true,
           "subunitcolor": "white"
          },
          "hoverlabel": {
           "align": "left"
          },
          "hovermode": "closest",
          "mapbox": {
           "style": "light"
          },
          "paper_bgcolor": "white",
          "plot_bgcolor": "#E5ECF6",
          "polar": {
           "angularaxis": {
            "gridcolor": "white",
            "linecolor": "white",
            "ticks": ""
           },
           "bgcolor": "#E5ECF6",
           "radialaxis": {
            "gridcolor": "white",
            "linecolor": "white",
            "ticks": ""
           }
          },
          "scene": {
           "xaxis": {
            "backgroundcolor": "#E5ECF6",
            "gridcolor": "white",
            "gridwidth": 2,
            "linecolor": "white",
            "showbackground": true,
            "ticks": "",
            "zerolinecolor": "white"
           },
           "yaxis": {
            "backgroundcolor": "#E5ECF6",
            "gridcolor": "white",
            "gridwidth": 2,
            "linecolor": "white",
            "showbackground": true,
            "ticks": "",
            "zerolinecolor": "white"
           },
           "zaxis": {
            "backgroundcolor": "#E5ECF6",
            "gridcolor": "white",
            "gridwidth": 2,
            "linecolor": "white",
            "showbackground": true,
            "ticks": "",
            "zerolinecolor": "white"
           }
          },
          "shapedefaults": {
           "line": {
            "color": "#2a3f5f"
           }
          },
          "ternary": {
           "aaxis": {
            "gridcolor": "white",
            "linecolor": "white",
            "ticks": ""
           },
           "baxis": {
            "gridcolor": "white",
            "linecolor": "white",
            "ticks": ""
           },
           "bgcolor": "#E5ECF6",
           "caxis": {
            "gridcolor": "white",
            "linecolor": "white",
            "ticks": ""
           }
          },
          "title": {
           "x": 0.05
          },
          "xaxis": {
           "automargin": true,
           "gridcolor": "white",
           "linecolor": "white",
           "ticks": "",
           "title": {
            "standoff": 15
           },
           "zerolinecolor": "white",
           "zerolinewidth": 2
          },
          "yaxis": {
           "automargin": true,
           "gridcolor": "white",
           "linecolor": "white",
           "ticks": "",
           "title": {
            "standoff": 15
           },
           "zerolinecolor": "white",
           "zerolinewidth": 2
          }
         }
        },
        "title": {
         "text": "Optimization History Plot"
        },
        "xaxis": {
         "title": {
          "text": "Trial"
         }
        },
        "yaxis": {
         "title": {
          "text": "Objective Value"
         }
        }
       }
      }
     },
     "metadata": {},
     "output_type": "display_data"
    }
   ],
   "source": [
    "# History of optimization\n",
    "\n",
    "optuna.visualization.plot_optimization_history(study)"
   ]
  },
  {
   "cell_type": "code",
   "execution_count": 61,
   "metadata": {
    "colab": {
     "base_uri": "https://localhost:8080/",
     "height": 562
    },
    "id": "Wv179g_9HAiL",
    "outputId": "66117f10-ed3d-481f-d7a4-39c042f0e094"
   },
   "outputs": [
    {
     "data": {
      "application/vnd.plotly.v1+json": {
       "config": {
        "plotlyServerURL": "https://plot.ly"
       },
       "data": [
        {
         "marker": {
          "color": [
           2,
           4,
           5,
           7,
           8,
           18,
           29,
           30,
           31,
           32,
           33,
           34,
           35,
           37,
           39,
           40,
           41,
           42,
           44,
           45,
           46
          ],
          "colorbar": {
           "title": {
            "text": "Trial"
           },
           "x": 1,
           "xpad": 40
          },
          "colorscale": [
           [
            0,
            "rgb(247,251,255)"
           ],
           [
            0.125,
            "rgb(222,235,247)"
           ],
           [
            0.25,
            "rgb(198,219,239)"
           ],
           [
            0.375,
            "rgb(158,202,225)"
           ],
           [
            0.5,
            "rgb(107,174,214)"
           ],
           [
            0.625,
            "rgb(66,146,198)"
           ],
           [
            0.75,
            "rgb(33,113,181)"
           ],
           [
            0.875,
            "rgb(8,81,156)"
           ],
           [
            1,
            "rgb(8,48,107)"
           ]
          ],
          "line": {
           "color": "Grey",
           "width": 0.5
          },
          "showscale": true
         },
         "mode": "markers",
         "name": "Feasible Trial",
         "showlegend": false,
         "type": "scatter",
         "x": [
          2.95872694087422,
          8.487743038476367,
          3.1132730469920555,
          8.014673646377311,
          8.534923882779326,
          0.2997339835271662,
          5.252794225427124,
          5.504474717256731,
          5.375645704538614,
          5.354107519664672,
          5.221069386340981,
          5.102738403320382,
          6.104025679845267,
          4.543654321921808,
          6.10414376356748,
          3.553454214676364,
          5.440658034475831,
          5.907171301497382,
          5.4432553982368965,
          4.593490317641533,
          6.455450671847071
         ],
         "xaxis": "x",
         "y": [
          0.18142299197345485,
          0.18406574832376443,
          0.1819061861882877,
          0.18348816680036825,
          0.18384231868032946,
          0.17718091015257706,
          0.1724830899555335,
          0.18379000794888173,
          0.1735262083202761,
          0.17308997580628074,
          0.17371683178550876,
          0.17529436739591545,
          0.18196120215264822,
          0.1780088941060297,
          0.18293559068396856,
          0.1824192099522511,
          0.1721331289436391,
          0.17376065659033701,
          0.17601575687922164,
          0.2080715695145886,
          0.1736738186117331
         ],
         "yaxis": "y"
        },
        {
         "marker": {
          "color": [
           0,
           1,
           2,
           3,
           4,
           5,
           6,
           7,
           8,
           9,
           10,
           11,
           12,
           13,
           14,
           15,
           16,
           17,
           18,
           19,
           20,
           21,
           22,
           23,
           24,
           25,
           26,
           27,
           28,
           29,
           30,
           31,
           32,
           33,
           34,
           35,
           36,
           37,
           38,
           39,
           40,
           41,
           42,
           43,
           44,
           45,
           46,
           47,
           48,
           49
          ],
          "colorbar": {
           "title": {
            "text": "Trial"
           },
           "x": 1,
           "xpad": 40
          },
          "colorscale": [
           [
            0,
            "rgb(247,251,255)"
           ],
           [
            0.125,
            "rgb(222,235,247)"
           ],
           [
            0.25,
            "rgb(198,219,239)"
           ],
           [
            0.375,
            "rgb(158,202,225)"
           ],
           [
            0.5,
            "rgb(107,174,214)"
           ],
           [
            0.625,
            "rgb(66,146,198)"
           ],
           [
            0.75,
            "rgb(33,113,181)"
           ],
           [
            0.875,
            "rgb(8,81,156)"
           ],
           [
            1,
            "rgb(8,48,107)"
           ]
          ],
          "line": {
           "color": "Grey",
           "width": 0.5
          },
          "showscale": false
         },
         "mode": "markers",
         "name": "Feasible Trial",
         "showlegend": false,
         "type": "scatter",
         "x": [
          "Bernoulli",
          "MVS",
          "Bayesian",
          "Bernoulli",
          "Bayesian",
          "Bayesian",
          "MVS",
          "Bayesian",
          "Bayesian",
          "MVS",
          "Bernoulli",
          "Bernoulli",
          "Bernoulli",
          "Bernoulli",
          "MVS",
          "MVS",
          "Bernoulli",
          "Bernoulli",
          "Bayesian",
          "Bernoulli",
          "Bernoulli",
          "Bernoulli",
          "Bernoulli",
          "Bernoulli",
          "Bernoulli",
          "Bernoulli",
          "Bernoulli",
          "Bernoulli",
          "Bernoulli",
          "Bayesian",
          "Bayesian",
          "Bayesian",
          "Bayesian",
          "Bayesian",
          "Bayesian",
          "Bayesian",
          "MVS",
          "Bayesian",
          "Bernoulli",
          "Bayesian",
          "Bayesian",
          "Bayesian",
          "Bayesian",
          "Bernoulli",
          "Bayesian",
          "Bayesian",
          "Bayesian",
          "Bernoulli",
          "Bernoulli",
          "Bernoulli"
         ],
         "xaxis": "x2",
         "y": [
          0.18195852816319277,
          0.1800309206579141,
          0.18142299197345485,
          0.1757594563833213,
          0.18406574832376443,
          0.1819061861882877,
          0.18111368187832375,
          0.18348816680036825,
          0.18384231868032946,
          0.18281174910000608,
          0.17535633153505334,
          0.17396243697723446,
          0.17527998498124617,
          0.1792324489049143,
          0.17768158893075883,
          0.17871625314073883,
          0.17788587300222053,
          0.17937917426474906,
          0.17718091015257706,
          0.17695435531488685,
          0.17948828085227525,
          0.177184502687431,
          0.17537676861492899,
          0.17621565179799228,
          0.18104016279536958,
          0.17325779038294198,
          0.1763072072865679,
          0.17942563938457448,
          0.1781528277178471,
          0.1724830899555335,
          0.18379000794888173,
          0.1735262083202761,
          0.17308997580628074,
          0.17371683178550876,
          0.17529436739591545,
          0.18196120215264822,
          0.17538524225081667,
          0.1780088941060297,
          0.17904974201093815,
          0.18293559068396856,
          0.1824192099522511,
          0.1721331289436391,
          0.17376065659033701,
          0.17502064541236714,
          0.17601575687922164,
          0.2080715695145886,
          0.1736738186117331,
          0.1797922857385551,
          0.18070803172046287,
          0.17741446205838474
         ],
         "yaxis": "y2"
        },
        {
         "marker": {
          "color": [
           0,
           1,
           2,
           3,
           4,
           5,
           6,
           7,
           8,
           9,
           10,
           11,
           12,
           13,
           14,
           15,
           16,
           17,
           18,
           19,
           20,
           21,
           22,
           23,
           24,
           25,
           26,
           27,
           28,
           29,
           30,
           31,
           32,
           33,
           34,
           35,
           36,
           37,
           38,
           39,
           40,
           41,
           42,
           43,
           44,
           45,
           46,
           47,
           48,
           49
          ],
          "colorbar": {
           "title": {
            "text": "Trial"
           },
           "x": 1,
           "xpad": 40
          },
          "colorscale": [
           [
            0,
            "rgb(247,251,255)"
           ],
           [
            0.125,
            "rgb(222,235,247)"
           ],
           [
            0.25,
            "rgb(198,219,239)"
           ],
           [
            0.375,
            "rgb(158,202,225)"
           ],
           [
            0.5,
            "rgb(107,174,214)"
           ],
           [
            0.625,
            "rgb(66,146,198)"
           ],
           [
            0.75,
            "rgb(33,113,181)"
           ],
           [
            0.875,
            "rgb(8,81,156)"
           ],
           [
            1,
            "rgb(8,48,107)"
           ]
          ],
          "line": {
           "color": "Grey",
           "width": 0.5
          },
          "showscale": false
         },
         "mode": "markers",
         "name": "Feasible Trial",
         "showlegend": false,
         "type": "scatter",
         "x": [
          434,
          207,
          307,
          323,
          311,
          458,
          410,
          286,
          219,
          408,
          369,
          321,
          331,
          249,
          294,
          384,
          120,
          162,
          244,
          350,
          343,
          424,
          387,
          418,
          343,
          279,
          271,
          234,
          368,
          394,
          337,
          381,
          420,
          453,
          492,
          410,
          379,
          330,
          224,
          441,
          438,
          431,
          272,
          326,
          333,
          374,
          421,
          481,
          450,
          148
         ],
         "xaxis": "x3",
         "y": [
          0.18195852816319277,
          0.1800309206579141,
          0.18142299197345485,
          0.1757594563833213,
          0.18406574832376443,
          0.1819061861882877,
          0.18111368187832375,
          0.18348816680036825,
          0.18384231868032946,
          0.18281174910000608,
          0.17535633153505334,
          0.17396243697723446,
          0.17527998498124617,
          0.1792324489049143,
          0.17768158893075883,
          0.17871625314073883,
          0.17788587300222053,
          0.17937917426474906,
          0.17718091015257706,
          0.17695435531488685,
          0.17948828085227525,
          0.177184502687431,
          0.17537676861492899,
          0.17621565179799228,
          0.18104016279536958,
          0.17325779038294198,
          0.1763072072865679,
          0.17942563938457448,
          0.1781528277178471,
          0.1724830899555335,
          0.18379000794888173,
          0.1735262083202761,
          0.17308997580628074,
          0.17371683178550876,
          0.17529436739591545,
          0.18196120215264822,
          0.17538524225081667,
          0.1780088941060297,
          0.17904974201093815,
          0.18293559068396856,
          0.1824192099522511,
          0.1721331289436391,
          0.17376065659033701,
          0.17502064541236714,
          0.17601575687922164,
          0.2080715695145886,
          0.1736738186117331,
          0.1797922857385551,
          0.18070803172046287,
          0.17741446205838474
         ],
         "yaxis": "y3"
        },
        {
         "marker": {
          "color": [
           0,
           1,
           2,
           3,
           4,
           5,
           6,
           7,
           8,
           9,
           10,
           11,
           12,
           13,
           14,
           15,
           16,
           17,
           18,
           19,
           20,
           21,
           22,
           23,
           24,
           25,
           26,
           27,
           28,
           29,
           30,
           31,
           32,
           33,
           34,
           35,
           36,
           37,
           38,
           39,
           40,
           41,
           42,
           43,
           44,
           45,
           46,
           47,
           48,
           49
          ],
          "colorbar": {
           "title": {
            "text": "Trial"
           },
           "x": 1,
           "xpad": 40
          },
          "colorscale": [
           [
            0,
            "rgb(247,251,255)"
           ],
           [
            0.125,
            "rgb(222,235,247)"
           ],
           [
            0.25,
            "rgb(198,219,239)"
           ],
           [
            0.375,
            "rgb(158,202,225)"
           ],
           [
            0.5,
            "rgb(107,174,214)"
           ],
           [
            0.625,
            "rgb(66,146,198)"
           ],
           [
            0.75,
            "rgb(33,113,181)"
           ],
           [
            0.875,
            "rgb(8,81,156)"
           ],
           [
            1,
            "rgb(8,48,107)"
           ]
          ],
          "line": {
           "color": "Grey",
           "width": 0.5
          },
          "showscale": false
         },
         "mode": "markers",
         "name": "Feasible Trial",
         "showlegend": false,
         "type": "scatter",
         "x": [
          4,
          12,
          6,
          13,
          5,
          13,
          10,
          6,
          8,
          14,
          15,
          15,
          14,
          13,
          14,
          13,
          12,
          16,
          16,
          12,
          14,
          11,
          16,
          15,
          15,
          14,
          15,
          13,
          13,
          15,
          16,
          14,
          14,
          15,
          13,
          16,
          14,
          14,
          9,
          10,
          15,
          16,
          15,
          13,
          13,
          13,
          15,
          14,
          15,
          15
         ],
         "xaxis": "x4",
         "y": [
          0.18195852816319277,
          0.1800309206579141,
          0.18142299197345485,
          0.1757594563833213,
          0.18406574832376443,
          0.1819061861882877,
          0.18111368187832375,
          0.18348816680036825,
          0.18384231868032946,
          0.18281174910000608,
          0.17535633153505334,
          0.17396243697723446,
          0.17527998498124617,
          0.1792324489049143,
          0.17768158893075883,
          0.17871625314073883,
          0.17788587300222053,
          0.17937917426474906,
          0.17718091015257706,
          0.17695435531488685,
          0.17948828085227525,
          0.177184502687431,
          0.17537676861492899,
          0.17621565179799228,
          0.18104016279536958,
          0.17325779038294198,
          0.1763072072865679,
          0.17942563938457448,
          0.1781528277178471,
          0.1724830899555335,
          0.18379000794888173,
          0.1735262083202761,
          0.17308997580628074,
          0.17371683178550876,
          0.17529436739591545,
          0.18196120215264822,
          0.17538524225081667,
          0.1780088941060297,
          0.17904974201093815,
          0.18293559068396856,
          0.1824192099522511,
          0.1721331289436391,
          0.17376065659033701,
          0.17502064541236714,
          0.17601575687922164,
          0.2080715695145886,
          0.1736738186117331,
          0.1797922857385551,
          0.18070803172046287,
          0.17741446205838474
         ],
         "yaxis": "y4"
        },
        {
         "marker": {
          "color": [
           0,
           1,
           2,
           3,
           4,
           5,
           6,
           7,
           8,
           9,
           10,
           11,
           12,
           13,
           14,
           15,
           16,
           17,
           18,
           19,
           20,
           21,
           22,
           23,
           24,
           25,
           26,
           27,
           28,
           29,
           30,
           31,
           32,
           33,
           34,
           35,
           36,
           37,
           38,
           39,
           40,
           41,
           42,
           43,
           44,
           45,
           46,
           47,
           48,
           49
          ],
          "colorbar": {
           "title": {
            "text": "Trial"
           },
           "x": 1,
           "xpad": 40
          },
          "colorscale": [
           [
            0,
            "rgb(247,251,255)"
           ],
           [
            0.125,
            "rgb(222,235,247)"
           ],
           [
            0.25,
            "rgb(198,219,239)"
           ],
           [
            0.375,
            "rgb(158,202,225)"
           ],
           [
            0.5,
            "rgb(107,174,214)"
           ],
           [
            0.625,
            "rgb(66,146,198)"
           ],
           [
            0.75,
            "rgb(33,113,181)"
           ],
           [
            0.875,
            "rgb(8,81,156)"
           ],
           [
            1,
            "rgb(8,48,107)"
           ]
          ],
          "line": {
           "color": "Grey",
           "width": 0.5
          },
          "showscale": false
         },
         "mode": "markers",
         "name": "Feasible Trial",
         "showlegend": false,
         "type": "scatter",
         "x": [
          "Depthwise",
          "Lossguide",
          "Depthwise",
          "Depthwise",
          "SymmetricTree",
          "SymmetricTree",
          "SymmetricTree",
          "SymmetricTree",
          "SymmetricTree",
          "Lossguide",
          "Depthwise",
          "Depthwise",
          "Depthwise",
          "Depthwise",
          "Depthwise",
          "SymmetricTree",
          "Depthwise",
          "Depthwise",
          "Depthwise",
          "Lossguide",
          "SymmetricTree",
          "Depthwise",
          "Depthwise",
          "Depthwise",
          "SymmetricTree",
          "Depthwise",
          "Depthwise",
          "SymmetricTree",
          "Lossguide",
          "Depthwise",
          "Depthwise",
          "Depthwise",
          "Depthwise",
          "Depthwise",
          "Depthwise",
          "Lossguide",
          "Depthwise",
          "Depthwise",
          "Depthwise",
          "SymmetricTree",
          "SymmetricTree",
          "Depthwise",
          "Depthwise",
          "Depthwise",
          "Depthwise",
          "Lossguide",
          "Depthwise",
          "Depthwise",
          "Depthwise",
          "Depthwise"
         ],
         "xaxis": "x5",
         "y": [
          0.18195852816319277,
          0.1800309206579141,
          0.18142299197345485,
          0.1757594563833213,
          0.18406574832376443,
          0.1819061861882877,
          0.18111368187832375,
          0.18348816680036825,
          0.18384231868032946,
          0.18281174910000608,
          0.17535633153505334,
          0.17396243697723446,
          0.17527998498124617,
          0.1792324489049143,
          0.17768158893075883,
          0.17871625314073883,
          0.17788587300222053,
          0.17937917426474906,
          0.17718091015257706,
          0.17695435531488685,
          0.17948828085227525,
          0.177184502687431,
          0.17537676861492899,
          0.17621565179799228,
          0.18104016279536958,
          0.17325779038294198,
          0.1763072072865679,
          0.17942563938457448,
          0.1781528277178471,
          0.1724830899555335,
          0.18379000794888173,
          0.1735262083202761,
          0.17308997580628074,
          0.17371683178550876,
          0.17529436739591545,
          0.18196120215264822,
          0.17538524225081667,
          0.1780088941060297,
          0.17904974201093815,
          0.18293559068396856,
          0.1824192099522511,
          0.1721331289436391,
          0.17376065659033701,
          0.17502064541236714,
          0.17601575687922164,
          0.2080715695145886,
          0.1736738186117331,
          0.1797922857385551,
          0.18070803172046287,
          0.17741446205838474
         ],
         "yaxis": "y5"
        },
        {
         "marker": {
          "color": [
           0,
           1,
           2,
           3,
           4,
           5,
           6,
           7,
           8,
           9,
           10,
           11,
           12,
           13,
           14,
           15,
           16,
           17,
           18,
           19,
           20,
           21,
           22,
           23,
           24,
           25,
           26,
           27,
           28,
           29,
           30,
           31,
           32,
           33,
           34,
           35,
           36,
           37,
           38,
           39,
           40,
           41,
           42,
           43,
           44,
           45,
           46,
           47,
           48,
           49
          ],
          "colorbar": {
           "title": {
            "text": "Trial"
           },
           "x": 1,
           "xpad": 40
          },
          "colorscale": [
           [
            0,
            "rgb(247,251,255)"
           ],
           [
            0.125,
            "rgb(222,235,247)"
           ],
           [
            0.25,
            "rgb(198,219,239)"
           ],
           [
            0.375,
            "rgb(158,202,225)"
           ],
           [
            0.5,
            "rgb(107,174,214)"
           ],
           [
            0.625,
            "rgb(66,146,198)"
           ],
           [
            0.75,
            "rgb(33,113,181)"
           ],
           [
            0.875,
            "rgb(8,81,156)"
           ],
           [
            1,
            "rgb(8,48,107)"
           ]
          ],
          "line": {
           "color": "Grey",
           "width": 0.5
          },
          "showscale": false
         },
         "mode": "markers",
         "name": "Feasible Trial",
         "showlegend": false,
         "type": "scatter",
         "x": [
          4.598603416089688,
          5.522568137371598,
          5.1685714000403,
          1.9163103102155365,
          3.151217798889796,
          0.9385167833651809,
          0.0738845086388995,
          6.798530523253653,
          5.320929510572377,
          0.16892290818836475,
          5.688361993290832,
          5.413827171538055,
          6.128887714796843,
          9.342518177477519,
          4.25916181491497,
          3.923630110190622,
          7.041508467109891,
          3.936875807572548,
          7.019146237999555,
          4.692333860933482,
          7.626990076983871,
          5.625431254073397,
          3.8932382155894185,
          9.426764850000104,
          4.8899235596399135,
          7.382213846434896,
          8.355821181836294,
          7.4598229286778395,
          7.390782025297816,
          7.094371862614476,
          8.31411579351599,
          6.583200384767354,
          5.457781587159286,
          5.1081717549247125,
          6.902194449682829,
          7.2482610392607985,
          5.316919283606606,
          5.337664186546126,
          6.8839284320577905,
          7.841337940000556,
          6.751560673777918,
          6.066574058552226,
          6.291743446155381,
          7.076412330913555,
          9.179289008385174,
          6.527357171132428,
          6.848613280959973,
          5.333099342565041,
          8.403806283875541,
          7.254067956278446
         ],
         "xaxis": "x6",
         "y": [
          0.18195852816319277,
          0.1800309206579141,
          0.18142299197345485,
          0.1757594563833213,
          0.18406574832376443,
          0.1819061861882877,
          0.18111368187832375,
          0.18348816680036825,
          0.18384231868032946,
          0.18281174910000608,
          0.17535633153505334,
          0.17396243697723446,
          0.17527998498124617,
          0.1792324489049143,
          0.17768158893075883,
          0.17871625314073883,
          0.17788587300222053,
          0.17937917426474906,
          0.17718091015257706,
          0.17695435531488685,
          0.17948828085227525,
          0.177184502687431,
          0.17537676861492899,
          0.17621565179799228,
          0.18104016279536958,
          0.17325779038294198,
          0.1763072072865679,
          0.17942563938457448,
          0.1781528277178471,
          0.1724830899555335,
          0.18379000794888173,
          0.1735262083202761,
          0.17308997580628074,
          0.17371683178550876,
          0.17529436739591545,
          0.18196120215264822,
          0.17538524225081667,
          0.1780088941060297,
          0.17904974201093815,
          0.18293559068396856,
          0.1824192099522511,
          0.1721331289436391,
          0.17376065659033701,
          0.17502064541236714,
          0.17601575687922164,
          0.2080715695145886,
          0.1736738186117331,
          0.1797922857385551,
          0.18070803172046287,
          0.17741446205838474
         ],
         "yaxis": "y6"
        },
        {
         "marker": {
          "color": [
           0,
           1,
           2,
           3,
           4,
           5,
           6,
           7,
           8,
           9,
           10,
           11,
           12,
           13,
           14,
           15,
           16,
           17,
           18,
           19,
           20,
           21,
           22,
           23,
           24,
           25,
           26,
           27,
           28,
           29,
           30,
           31,
           32,
           33,
           34,
           35,
           36,
           37,
           38,
           39,
           40,
           41,
           42,
           43,
           44,
           45,
           46,
           47,
           48,
           49
          ],
          "colorbar": {
           "title": {
            "text": "Trial"
           },
           "x": 1,
           "xpad": 40
          },
          "colorscale": [
           [
            0,
            "rgb(247,251,255)"
           ],
           [
            0.125,
            "rgb(222,235,247)"
           ],
           [
            0.25,
            "rgb(198,219,239)"
           ],
           [
            0.375,
            "rgb(158,202,225)"
           ],
           [
            0.5,
            "rgb(107,174,214)"
           ],
           [
            0.625,
            "rgb(66,146,198)"
           ],
           [
            0.75,
            "rgb(33,113,181)"
           ],
           [
            0.875,
            "rgb(8,81,156)"
           ],
           [
            1,
            "rgb(8,48,107)"
           ]
          ],
          "line": {
           "color": "Grey",
           "width": 0.5
          },
          "showscale": false
         },
         "mode": "markers",
         "name": "Feasible Trial",
         "showlegend": false,
         "type": "scatter",
         "x": [
          0.09070698291225636,
          0.1879419618689277,
          0.24492134088542317,
          0.1390492413367278,
          0.27666951104441545,
          0.10623103750214725,
          0.11993319486815188,
          0.29256373752856096,
          0.2160508031575845,
          0.18331980964166225,
          0.189396955731482,
          0.13817170475054266,
          0.18269088742509318,
          0.11816025895396519,
          0.15585312426038797,
          0.06391182680014541,
          0.2753175201535545,
          0.10703749106159002,
          0.15484944329158437,
          0.11062166284573066,
          0.0768932430424822,
          0.20449769466916132,
          0.17730855066266443,
          0.18538937875908876,
          0.21041357389797347,
          0.09733326907707766,
          0.029200400755439462,
          0.13090898539345147,
          0.09922604037861867,
          0.04062430788676878,
          0.0030252072610808464,
          0.04860727848026633,
          0.06384710775403432,
          0.11738942209089091,
          0.02812252594043317,
          0.11756139289617824,
          0.08289505971155273,
          0.015199128230450547,
          0.10589557007527088,
          0.04359867267867674,
          0.05598496515750698,
          0.12130510601833022,
          0.15724040688215335,
          0.14092857030840494,
          0.03132511337783111,
          0.0010160053876625275,
          0.07770378084798976,
          0.005364109447766753,
          0.2112238535614857,
          0.11941434314722013
         ],
         "xaxis": "x7",
         "y": [
          0.18195852816319277,
          0.1800309206579141,
          0.18142299197345485,
          0.1757594563833213,
          0.18406574832376443,
          0.1819061861882877,
          0.18111368187832375,
          0.18348816680036825,
          0.18384231868032946,
          0.18281174910000608,
          0.17535633153505334,
          0.17396243697723446,
          0.17527998498124617,
          0.1792324489049143,
          0.17768158893075883,
          0.17871625314073883,
          0.17788587300222053,
          0.17937917426474906,
          0.17718091015257706,
          0.17695435531488685,
          0.17948828085227525,
          0.177184502687431,
          0.17537676861492899,
          0.17621565179799228,
          0.18104016279536958,
          0.17325779038294198,
          0.1763072072865679,
          0.17942563938457448,
          0.1781528277178471,
          0.1724830899555335,
          0.18379000794888173,
          0.1735262083202761,
          0.17308997580628074,
          0.17371683178550876,
          0.17529436739591545,
          0.18196120215264822,
          0.17538524225081667,
          0.1780088941060297,
          0.17904974201093815,
          0.18293559068396856,
          0.1824192099522511,
          0.1721331289436391,
          0.17376065659033701,
          0.17502064541236714,
          0.17601575687922164,
          0.2080715695145886,
          0.1736738186117331,
          0.1797922857385551,
          0.18070803172046287,
          0.17741446205838474
         ],
         "yaxis": "y7"
        },
        {
         "marker": {
          "color": [
           1,
           9,
           19,
           28,
           35,
           45
          ],
          "colorbar": {
           "title": {
            "text": "Trial"
           },
           "x": 1,
           "xpad": 40
          },
          "colorscale": [
           [
            0,
            "rgb(247,251,255)"
           ],
           [
            0.125,
            "rgb(222,235,247)"
           ],
           [
            0.25,
            "rgb(198,219,239)"
           ],
           [
            0.375,
            "rgb(158,202,225)"
           ],
           [
            0.5,
            "rgb(107,174,214)"
           ],
           [
            0.625,
            "rgb(66,146,198)"
           ],
           [
            0.75,
            "rgb(33,113,181)"
           ],
           [
            0.875,
            "rgb(8,81,156)"
           ],
           [
            1,
            "rgb(8,48,107)"
           ]
          ],
          "line": {
           "color": "Grey",
           "width": 0.5
          },
          "showscale": false
         },
         "mode": "markers",
         "name": "Feasible Trial",
         "showlegend": false,
         "type": "scatter",
         "x": [
          18,
          6,
          70,
          45,
          37,
          56
         ],
         "xaxis": "x8",
         "y": [
          0.1800309206579141,
          0.18281174910000608,
          0.17695435531488685,
          0.1781528277178471,
          0.18196120215264822,
          0.2080715695145886
         ],
         "yaxis": "y8"
        },
        {
         "marker": {
          "color": [
           0,
           2,
           3,
           10,
           11,
           12,
           13,
           14,
           16,
           17,
           18,
           21,
           22,
           23,
           25,
           26,
           29,
           30,
           31,
           32,
           33,
           34,
           36,
           37,
           38,
           41,
           42,
           43,
           44,
           46,
           47,
           48,
           49
          ],
          "colorbar": {
           "title": {
            "text": "Trial"
           },
           "x": 1,
           "xpad": 40
          },
          "colorscale": [
           [
            0,
            "rgb(247,251,255)"
           ],
           [
            0.125,
            "rgb(222,235,247)"
           ],
           [
            0.25,
            "rgb(198,219,239)"
           ],
           [
            0.375,
            "rgb(158,202,225)"
           ],
           [
            0.5,
            "rgb(107,174,214)"
           ],
           [
            0.625,
            "rgb(66,146,198)"
           ],
           [
            0.75,
            "rgb(33,113,181)"
           ],
           [
            0.875,
            "rgb(8,81,156)"
           ],
           [
            1,
            "rgb(8,48,107)"
           ]
          ],
          "line": {
           "color": "Grey",
           "width": 0.5
          },
          "showscale": false
         },
         "mode": "markers",
         "name": "Feasible Trial",
         "showlegend": false,
         "type": "scatter",
         "x": [
          35,
          62,
          3,
          1,
          1,
          1,
          99,
          28,
          2,
          28,
          17,
          6,
          1,
          5,
          1,
          21,
          1,
          23,
          1,
          1,
          1,
          2,
          1,
          77,
          20,
          3,
          1,
          1,
          14,
          3,
          1,
          18,
          15
         ],
         "xaxis": "x9",
         "y": [
          0.18195852816319277,
          0.18142299197345485,
          0.1757594563833213,
          0.17535633153505334,
          0.17396243697723446,
          0.17527998498124617,
          0.1792324489049143,
          0.17768158893075883,
          0.17788587300222053,
          0.17937917426474906,
          0.17718091015257706,
          0.177184502687431,
          0.17537676861492899,
          0.17621565179799228,
          0.17325779038294198,
          0.1763072072865679,
          0.1724830899555335,
          0.18379000794888173,
          0.1735262083202761,
          0.17308997580628074,
          0.17371683178550876,
          0.17529436739591545,
          0.17538524225081667,
          0.1780088941060297,
          0.17904974201093815,
          0.1721331289436391,
          0.17376065659033701,
          0.17502064541236714,
          0.17601575687922164,
          0.1736738186117331,
          0.1797922857385551,
          0.18070803172046287,
          0.17741446205838474
         ],
         "yaxis": "y9"
        },
        {
         "marker": {
          "color": [
           0,
           1,
           2,
           3,
           4,
           5,
           6,
           7,
           8,
           9,
           10,
           11,
           12,
           13,
           14,
           15,
           16,
           17,
           18,
           19,
           20,
           21,
           22,
           23,
           24,
           25,
           26,
           27,
           28,
           29,
           30,
           31,
           32,
           33,
           34,
           35,
           36,
           37,
           38,
           39,
           40,
           41,
           42,
           43,
           44,
           45,
           46,
           47,
           48,
           49
          ],
          "colorbar": {
           "title": {
            "text": "Trial"
           },
           "x": 1,
           "xpad": 40
          },
          "colorscale": [
           [
            0,
            "rgb(247,251,255)"
           ],
           [
            0.125,
            "rgb(222,235,247)"
           ],
           [
            0.25,
            "rgb(198,219,239)"
           ],
           [
            0.375,
            "rgb(158,202,225)"
           ],
           [
            0.5,
            "rgb(107,174,214)"
           ],
           [
            0.625,
            "rgb(66,146,198)"
           ],
           [
            0.75,
            "rgb(33,113,181)"
           ],
           [
            0.875,
            "rgb(8,81,156)"
           ],
           [
            1,
            "rgb(8,48,107)"
           ]
          ],
          "line": {
           "color": "Grey",
           "width": 0.5
          },
          "showscale": false
         },
         "mode": "markers",
         "name": "Feasible Trial",
         "showlegend": false,
         "type": "scatter",
         "x": [
          322,
          992,
          344,
          781,
          532,
          637,
          223,
          973,
          340,
          615,
          953,
          975,
          973,
          722,
          673,
          990,
          886,
          795,
          976,
          751,
          970,
          886,
          826,
          923,
          923,
          910,
          945,
          962,
          684,
          766,
          819,
          796,
          734,
          834,
          504,
          736,
          700,
          881,
          845,
          977,
          757,
          765,
          533,
          787,
          611,
          651,
          803,
          762,
          754,
          784
         ],
         "xaxis": "x10",
         "y": [
          0.18195852816319277,
          0.1800309206579141,
          0.18142299197345485,
          0.1757594563833213,
          0.18406574832376443,
          0.1819061861882877,
          0.18111368187832375,
          0.18348816680036825,
          0.18384231868032946,
          0.18281174910000608,
          0.17535633153505334,
          0.17396243697723446,
          0.17527998498124617,
          0.1792324489049143,
          0.17768158893075883,
          0.17871625314073883,
          0.17788587300222053,
          0.17937917426474906,
          0.17718091015257706,
          0.17695435531488685,
          0.17948828085227525,
          0.177184502687431,
          0.17537676861492899,
          0.17621565179799228,
          0.18104016279536958,
          0.17325779038294198,
          0.1763072072865679,
          0.17942563938457448,
          0.1781528277178471,
          0.1724830899555335,
          0.18379000794888173,
          0.1735262083202761,
          0.17308997580628074,
          0.17371683178550876,
          0.17529436739591545,
          0.18196120215264822,
          0.17538524225081667,
          0.1780088941060297,
          0.17904974201093815,
          0.18293559068396856,
          0.1824192099522511,
          0.1721331289436391,
          0.17376065659033701,
          0.17502064541236714,
          0.17601575687922164,
          0.2080715695145886,
          0.1736738186117331,
          0.1797922857385551,
          0.18070803172046287,
          0.17741446205838474
         ],
         "yaxis": "y10"
        },
        {
         "marker": {
          "color": [
           0,
           1,
           2,
           3,
           4,
           5,
           6,
           7,
           8,
           9,
           10,
           11,
           12,
           13,
           14,
           15,
           16,
           17,
           18,
           19,
           20,
           21,
           22,
           23,
           24,
           25,
           26,
           27,
           28,
           29,
           30,
           31,
           32,
           33,
           34,
           35,
           36,
           37,
           38,
           39,
           40,
           41,
           42,
           43,
           44,
           45,
           46,
           47,
           48,
           49
          ],
          "colorbar": {
           "title": {
            "text": "Trial"
           },
           "x": 1,
           "xpad": 40
          },
          "colorscale": [
           [
            0,
            "rgb(247,251,255)"
           ],
           [
            0.125,
            "rgb(222,235,247)"
           ],
           [
            0.25,
            "rgb(198,219,239)"
           ],
           [
            0.375,
            "rgb(158,202,225)"
           ],
           [
            0.5,
            "rgb(107,174,214)"
           ],
           [
            0.625,
            "rgb(66,146,198)"
           ],
           [
            0.75,
            "rgb(33,113,181)"
           ],
           [
            0.875,
            "rgb(8,81,156)"
           ],
           [
            1,
            "rgb(8,48,107)"
           ]
          ],
          "line": {
           "color": "Grey",
           "width": 0.5
          },
          "showscale": false
         },
         "mode": "markers",
         "name": "Feasible Trial",
         "showlegend": false,
         "type": "scatter",
         "x": [
          9.269970477498946,
          3.732593864368466,
          6.003749356628742,
          5.50778157101194,
          3.2806203071203157,
          3.3625828298420246,
          8.544711956012629,
          9.200174799133695,
          3.7429150506948505,
          8.084747414388291,
          7.925288149960631,
          9.945568899293932,
          8.75319819094305,
          9.783128879044199,
          9.304507305633686,
          9.547843313378916,
          6.7275722032004,
          9.988669257862767,
          9.05237511320872,
          9.584633130697554,
          8.918943958590985,
          6.630711483073708,
          8.253484399204892,
          8.354885227715567,
          6.781720848717406,
          4.904333115596883,
          3.513326821488529,
          4.705461013559823,
          4.186088563773131,
          7.7076778790187985,
          9.560436673502544,
          4.5497223689216275,
          3.386481419479189,
          1.1433104088384765,
          4.285485764657426,
          5.2130479468918365,
          3.886137114955648,
          3.53066350550764,
          5.346688546263672,
          4.295264419257855,
          3.399083169379409,
          0.8578928621416503,
          2.5747324633704776,
          3.2848738011946916,
          5.654495507061939,
          3.438027908508473,
          7.1673332378367975,
          2.0291284731184818,
          0.5557218817659839,
          3.7600786459355966
         ],
         "xaxis": "x11",
         "y": [
          0.18195852816319277,
          0.1800309206579141,
          0.18142299197345485,
          0.1757594563833213,
          0.18406574832376443,
          0.1819061861882877,
          0.18111368187832375,
          0.18348816680036825,
          0.18384231868032946,
          0.18281174910000608,
          0.17535633153505334,
          0.17396243697723446,
          0.17527998498124617,
          0.1792324489049143,
          0.17768158893075883,
          0.17871625314073883,
          0.17788587300222053,
          0.17937917426474906,
          0.17718091015257706,
          0.17695435531488685,
          0.17948828085227525,
          0.177184502687431,
          0.17537676861492899,
          0.17621565179799228,
          0.18104016279536958,
          0.17325779038294198,
          0.1763072072865679,
          0.17942563938457448,
          0.1781528277178471,
          0.1724830899555335,
          0.18379000794888173,
          0.1735262083202761,
          0.17308997580628074,
          0.17371683178550876,
          0.17529436739591545,
          0.18196120215264822,
          0.17538524225081667,
          0.1780088941060297,
          0.17904974201093815,
          0.18293559068396856,
          0.1824192099522511,
          0.1721331289436391,
          0.17376065659033701,
          0.17502064541236714,
          0.17601575687922164,
          0.2080715695145886,
          0.1736738186117331,
          0.1797922857385551,
          0.18070803172046287,
          0.17741446205838474
         ],
         "yaxis": "y11"
        },
        {
         "marker": {
          "color": [
           0,
           1,
           3,
           6,
           9,
           10,
           11,
           12,
           13,
           14,
           15,
           16,
           17,
           19,
           20,
           21,
           22,
           23,
           24,
           25,
           26,
           27,
           28,
           36,
           38,
           43,
           47,
           48,
           49
          ],
          "colorbar": {
           "title": {
            "text": "Trial"
           },
           "x": 1,
           "xpad": 40
          },
          "colorscale": [
           [
            0,
            "rgb(247,251,255)"
           ],
           [
            0.125,
            "rgb(222,235,247)"
           ],
           [
            0.25,
            "rgb(198,219,239)"
           ],
           [
            0.375,
            "rgb(158,202,225)"
           ],
           [
            0.5,
            "rgb(107,174,214)"
           ],
           [
            0.625,
            "rgb(66,146,198)"
           ],
           [
            0.75,
            "rgb(33,113,181)"
           ],
           [
            0.875,
            "rgb(8,81,156)"
           ],
           [
            1,
            "rgb(8,48,107)"
           ]
          ],
          "line": {
           "color": "Grey",
           "width": 0.5
          },
          "showscale": false
         },
         "mode": "markers",
         "name": "Feasible Trial",
         "showlegend": false,
         "type": "scatter",
         "x": [
          0.6306523781102779,
          0.6601049418885235,
          0.5045668749241808,
          0.13856276567073517,
          0.19178988567315775,
          0.4361817673315083,
          0.4530135664589872,
          0.9985018071800789,
          0.9947395680763372,
          0.8491062158329805,
          0.958189183385887,
          0.8006544792359174,
          0.3765730016228135,
          0.9921764795690523,
          0.7327712460707057,
          0.4113755785073576,
          0.4029526174602531,
          0.48952077103818664,
          0.3183060346042711,
          0.5556621694710814,
          0.611691111538202,
          0.7782161940584473,
          0.5776567522169493,
          0.16762524873206847,
          0.7005864279891977,
          0.2671395988520171,
          0.5957874745357858,
          0.10282915265317716,
          0.6867300706043435
         ],
         "xaxis": "x12",
         "y": [
          0.18195852816319277,
          0.1800309206579141,
          0.1757594563833213,
          0.18111368187832375,
          0.18281174910000608,
          0.17535633153505334,
          0.17396243697723446,
          0.17527998498124617,
          0.1792324489049143,
          0.17768158893075883,
          0.17871625314073883,
          0.17788587300222053,
          0.17937917426474906,
          0.17695435531488685,
          0.17948828085227525,
          0.177184502687431,
          0.17537676861492899,
          0.17621565179799228,
          0.18104016279536958,
          0.17325779038294198,
          0.1763072072865679,
          0.17942563938457448,
          0.1781528277178471,
          0.17538524225081667,
          0.17904974201093815,
          0.17502064541236714,
          0.1797922857385551,
          0.18070803172046287,
          0.17741446205838474
         ],
         "yaxis": "y12"
        }
       ],
       "layout": {
        "template": {
         "data": {
          "bar": [
           {
            "error_x": {
             "color": "#2a3f5f"
            },
            "error_y": {
             "color": "#2a3f5f"
            },
            "marker": {
             "line": {
              "color": "#E5ECF6",
              "width": 0.5
             },
             "pattern": {
              "fillmode": "overlay",
              "size": 10,
              "solidity": 0.2
             }
            },
            "type": "bar"
           }
          ],
          "barpolar": [
           {
            "marker": {
             "line": {
              "color": "#E5ECF6",
              "width": 0.5
             },
             "pattern": {
              "fillmode": "overlay",
              "size": 10,
              "solidity": 0.2
             }
            },
            "type": "barpolar"
           }
          ],
          "carpet": [
           {
            "aaxis": {
             "endlinecolor": "#2a3f5f",
             "gridcolor": "white",
             "linecolor": "white",
             "minorgridcolor": "white",
             "startlinecolor": "#2a3f5f"
            },
            "baxis": {
             "endlinecolor": "#2a3f5f",
             "gridcolor": "white",
             "linecolor": "white",
             "minorgridcolor": "white",
             "startlinecolor": "#2a3f5f"
            },
            "type": "carpet"
           }
          ],
          "choropleth": [
           {
            "colorbar": {
             "outlinewidth": 0,
             "ticks": ""
            },
            "type": "choropleth"
           }
          ],
          "contour": [
           {
            "colorbar": {
             "outlinewidth": 0,
             "ticks": ""
            },
            "colorscale": [
             [
              0,
              "#0d0887"
             ],
             [
              0.1111111111111111,
              "#46039f"
             ],
             [
              0.2222222222222222,
              "#7201a8"
             ],
             [
              0.3333333333333333,
              "#9c179e"
             ],
             [
              0.4444444444444444,
              "#bd3786"
             ],
             [
              0.5555555555555556,
              "#d8576b"
             ],
             [
              0.6666666666666666,
              "#ed7953"
             ],
             [
              0.7777777777777778,
              "#fb9f3a"
             ],
             [
              0.8888888888888888,
              "#fdca26"
             ],
             [
              1,
              "#f0f921"
             ]
            ],
            "type": "contour"
           }
          ],
          "contourcarpet": [
           {
            "colorbar": {
             "outlinewidth": 0,
             "ticks": ""
            },
            "type": "contourcarpet"
           }
          ],
          "heatmap": [
           {
            "colorbar": {
             "outlinewidth": 0,
             "ticks": ""
            },
            "colorscale": [
             [
              0,
              "#0d0887"
             ],
             [
              0.1111111111111111,
              "#46039f"
             ],
             [
              0.2222222222222222,
              "#7201a8"
             ],
             [
              0.3333333333333333,
              "#9c179e"
             ],
             [
              0.4444444444444444,
              "#bd3786"
             ],
             [
              0.5555555555555556,
              "#d8576b"
             ],
             [
              0.6666666666666666,
              "#ed7953"
             ],
             [
              0.7777777777777778,
              "#fb9f3a"
             ],
             [
              0.8888888888888888,
              "#fdca26"
             ],
             [
              1,
              "#f0f921"
             ]
            ],
            "type": "heatmap"
           }
          ],
          "heatmapgl": [
           {
            "colorbar": {
             "outlinewidth": 0,
             "ticks": ""
            },
            "colorscale": [
             [
              0,
              "#0d0887"
             ],
             [
              0.1111111111111111,
              "#46039f"
             ],
             [
              0.2222222222222222,
              "#7201a8"
             ],
             [
              0.3333333333333333,
              "#9c179e"
             ],
             [
              0.4444444444444444,
              "#bd3786"
             ],
             [
              0.5555555555555556,
              "#d8576b"
             ],
             [
              0.6666666666666666,
              "#ed7953"
             ],
             [
              0.7777777777777778,
              "#fb9f3a"
             ],
             [
              0.8888888888888888,
              "#fdca26"
             ],
             [
              1,
              "#f0f921"
             ]
            ],
            "type": "heatmapgl"
           }
          ],
          "histogram": [
           {
            "marker": {
             "pattern": {
              "fillmode": "overlay",
              "size": 10,
              "solidity": 0.2
             }
            },
            "type": "histogram"
           }
          ],
          "histogram2d": [
           {
            "colorbar": {
             "outlinewidth": 0,
             "ticks": ""
            },
            "colorscale": [
             [
              0,
              "#0d0887"
             ],
             [
              0.1111111111111111,
              "#46039f"
             ],
             [
              0.2222222222222222,
              "#7201a8"
             ],
             [
              0.3333333333333333,
              "#9c179e"
             ],
             [
              0.4444444444444444,
              "#bd3786"
             ],
             [
              0.5555555555555556,
              "#d8576b"
             ],
             [
              0.6666666666666666,
              "#ed7953"
             ],
             [
              0.7777777777777778,
              "#fb9f3a"
             ],
             [
              0.8888888888888888,
              "#fdca26"
             ],
             [
              1,
              "#f0f921"
             ]
            ],
            "type": "histogram2d"
           }
          ],
          "histogram2dcontour": [
           {
            "colorbar": {
             "outlinewidth": 0,
             "ticks": ""
            },
            "colorscale": [
             [
              0,
              "#0d0887"
             ],
             [
              0.1111111111111111,
              "#46039f"
             ],
             [
              0.2222222222222222,
              "#7201a8"
             ],
             [
              0.3333333333333333,
              "#9c179e"
             ],
             [
              0.4444444444444444,
              "#bd3786"
             ],
             [
              0.5555555555555556,
              "#d8576b"
             ],
             [
              0.6666666666666666,
              "#ed7953"
             ],
             [
              0.7777777777777778,
              "#fb9f3a"
             ],
             [
              0.8888888888888888,
              "#fdca26"
             ],
             [
              1,
              "#f0f921"
             ]
            ],
            "type": "histogram2dcontour"
           }
          ],
          "mesh3d": [
           {
            "colorbar": {
             "outlinewidth": 0,
             "ticks": ""
            },
            "type": "mesh3d"
           }
          ],
          "parcoords": [
           {
            "line": {
             "colorbar": {
              "outlinewidth": 0,
              "ticks": ""
             }
            },
            "type": "parcoords"
           }
          ],
          "pie": [
           {
            "automargin": true,
            "type": "pie"
           }
          ],
          "scatter": [
           {
            "fillpattern": {
             "fillmode": "overlay",
             "size": 10,
             "solidity": 0.2
            },
            "type": "scatter"
           }
          ],
          "scatter3d": [
           {
            "line": {
             "colorbar": {
              "outlinewidth": 0,
              "ticks": ""
             }
            },
            "marker": {
             "colorbar": {
              "outlinewidth": 0,
              "ticks": ""
             }
            },
            "type": "scatter3d"
           }
          ],
          "scattercarpet": [
           {
            "marker": {
             "colorbar": {
              "outlinewidth": 0,
              "ticks": ""
             }
            },
            "type": "scattercarpet"
           }
          ],
          "scattergeo": [
           {
            "marker": {
             "colorbar": {
              "outlinewidth": 0,
              "ticks": ""
             }
            },
            "type": "scattergeo"
           }
          ],
          "scattergl": [
           {
            "marker": {
             "colorbar": {
              "outlinewidth": 0,
              "ticks": ""
             }
            },
            "type": "scattergl"
           }
          ],
          "scattermapbox": [
           {
            "marker": {
             "colorbar": {
              "outlinewidth": 0,
              "ticks": ""
             }
            },
            "type": "scattermapbox"
           }
          ],
          "scatterpolar": [
           {
            "marker": {
             "colorbar": {
              "outlinewidth": 0,
              "ticks": ""
             }
            },
            "type": "scatterpolar"
           }
          ],
          "scatterpolargl": [
           {
            "marker": {
             "colorbar": {
              "outlinewidth": 0,
              "ticks": ""
             }
            },
            "type": "scatterpolargl"
           }
          ],
          "scatterternary": [
           {
            "marker": {
             "colorbar": {
              "outlinewidth": 0,
              "ticks": ""
             }
            },
            "type": "scatterternary"
           }
          ],
          "surface": [
           {
            "colorbar": {
             "outlinewidth": 0,
             "ticks": ""
            },
            "colorscale": [
             [
              0,
              "#0d0887"
             ],
             [
              0.1111111111111111,
              "#46039f"
             ],
             [
              0.2222222222222222,
              "#7201a8"
             ],
             [
              0.3333333333333333,
              "#9c179e"
             ],
             [
              0.4444444444444444,
              "#bd3786"
             ],
             [
              0.5555555555555556,
              "#d8576b"
             ],
             [
              0.6666666666666666,
              "#ed7953"
             ],
             [
              0.7777777777777778,
              "#fb9f3a"
             ],
             [
              0.8888888888888888,
              "#fdca26"
             ],
             [
              1,
              "#f0f921"
             ]
            ],
            "type": "surface"
           }
          ],
          "table": [
           {
            "cells": {
             "fill": {
              "color": "#EBF0F8"
             },
             "line": {
              "color": "white"
             }
            },
            "header": {
             "fill": {
              "color": "#C8D4E3"
             },
             "line": {
              "color": "white"
             }
            },
            "type": "table"
           }
          ]
         },
         "layout": {
          "annotationdefaults": {
           "arrowcolor": "#2a3f5f",
           "arrowhead": 0,
           "arrowwidth": 1
          },
          "autotypenumbers": "strict",
          "coloraxis": {
           "colorbar": {
            "outlinewidth": 0,
            "ticks": ""
           }
          },
          "colorscale": {
           "diverging": [
            [
             0,
             "#8e0152"
            ],
            [
             0.1,
             "#c51b7d"
            ],
            [
             0.2,
             "#de77ae"
            ],
            [
             0.3,
             "#f1b6da"
            ],
            [
             0.4,
             "#fde0ef"
            ],
            [
             0.5,
             "#f7f7f7"
            ],
            [
             0.6,
             "#e6f5d0"
            ],
            [
             0.7,
             "#b8e186"
            ],
            [
             0.8,
             "#7fbc41"
            ],
            [
             0.9,
             "#4d9221"
            ],
            [
             1,
             "#276419"
            ]
           ],
           "sequential": [
            [
             0,
             "#0d0887"
            ],
            [
             0.1111111111111111,
             "#46039f"
            ],
            [
             0.2222222222222222,
             "#7201a8"
            ],
            [
             0.3333333333333333,
             "#9c179e"
            ],
            [
             0.4444444444444444,
             "#bd3786"
            ],
            [
             0.5555555555555556,
             "#d8576b"
            ],
            [
             0.6666666666666666,
             "#ed7953"
            ],
            [
             0.7777777777777778,
             "#fb9f3a"
            ],
            [
             0.8888888888888888,
             "#fdca26"
            ],
            [
             1,
             "#f0f921"
            ]
           ],
           "sequentialminus": [
            [
             0,
             "#0d0887"
            ],
            [
             0.1111111111111111,
             "#46039f"
            ],
            [
             0.2222222222222222,
             "#7201a8"
            ],
            [
             0.3333333333333333,
             "#9c179e"
            ],
            [
             0.4444444444444444,
             "#bd3786"
            ],
            [
             0.5555555555555556,
             "#d8576b"
            ],
            [
             0.6666666666666666,
             "#ed7953"
            ],
            [
             0.7777777777777778,
             "#fb9f3a"
            ],
            [
             0.8888888888888888,
             "#fdca26"
            ],
            [
             1,
             "#f0f921"
            ]
           ]
          },
          "colorway": [
           "#636efa",
           "#EF553B",
           "#00cc96",
           "#ab63fa",
           "#FFA15A",
           "#19d3f3",
           "#FF6692",
           "#B6E880",
           "#FF97FF",
           "#FECB52"
          ],
          "font": {
           "color": "#2a3f5f"
          },
          "geo": {
           "bgcolor": "white",
           "lakecolor": "white",
           "landcolor": "#E5ECF6",
           "showlakes": true,
           "showland": true,
           "subunitcolor": "white"
          },
          "hoverlabel": {
           "align": "left"
          },
          "hovermode": "closest",
          "mapbox": {
           "style": "light"
          },
          "paper_bgcolor": "white",
          "plot_bgcolor": "#E5ECF6",
          "polar": {
           "angularaxis": {
            "gridcolor": "white",
            "linecolor": "white",
            "ticks": ""
           },
           "bgcolor": "#E5ECF6",
           "radialaxis": {
            "gridcolor": "white",
            "linecolor": "white",
            "ticks": ""
           }
          },
          "scene": {
           "xaxis": {
            "backgroundcolor": "#E5ECF6",
            "gridcolor": "white",
            "gridwidth": 2,
            "linecolor": "white",
            "showbackground": true,
            "ticks": "",
            "zerolinecolor": "white"
           },
           "yaxis": {
            "backgroundcolor": "#E5ECF6",
            "gridcolor": "white",
            "gridwidth": 2,
            "linecolor": "white",
            "showbackground": true,
            "ticks": "",
            "zerolinecolor": "white"
           },
           "zaxis": {
            "backgroundcolor": "#E5ECF6",
            "gridcolor": "white",
            "gridwidth": 2,
            "linecolor": "white",
            "showbackground": true,
            "ticks": "",
            "zerolinecolor": "white"
           }
          },
          "shapedefaults": {
           "line": {
            "color": "#2a3f5f"
           }
          },
          "ternary": {
           "aaxis": {
            "gridcolor": "white",
            "linecolor": "white",
            "ticks": ""
           },
           "baxis": {
            "gridcolor": "white",
            "linecolor": "white",
            "ticks": ""
           },
           "bgcolor": "#E5ECF6",
           "caxis": {
            "gridcolor": "white",
            "linecolor": "white",
            "ticks": ""
           }
          },
          "title": {
           "x": 0.05
          },
          "xaxis": {
           "automargin": true,
           "gridcolor": "white",
           "linecolor": "white",
           "ticks": "",
           "title": {
            "standoff": 15
           },
           "zerolinecolor": "white",
           "zerolinewidth": 2
          },
          "yaxis": {
           "automargin": true,
           "gridcolor": "white",
           "linecolor": "white",
           "ticks": "",
           "title": {
            "standoff": 15
           },
           "zerolinecolor": "white",
           "zerolinewidth": 2
          }
         }
        },
        "title": {
         "text": "Slice Plot"
        },
        "width": 3600,
        "xaxis": {
         "anchor": "y",
         "domain": [
          0,
          0.06805555555555555
         ],
         "title": {
          "text": "bagging_temperature"
         }
        },
        "xaxis10": {
         "anchor": "y10",
         "domain": [
          0.7625,
          0.8305555555555555
         ],
         "title": {
          "text": "n_estimators"
         }
        },
        "xaxis11": {
         "anchor": "y11",
         "domain": [
          0.8472222222222221,
          0.9152777777777776
         ],
         "title": {
          "text": "random_strength"
         }
        },
        "xaxis12": {
         "anchor": "y12",
         "domain": [
          0.9319444444444444,
          0.9999999999999999
         ],
         "title": {
          "text": "subsample"
         }
        },
        "xaxis2": {
         "anchor": "y2",
         "categoryarray": [
          "Bayesian",
          "Bernoulli",
          "MVS"
         ],
         "categoryorder": "array",
         "domain": [
          0.08472222222222221,
          0.15277777777777776
         ],
         "title": {
          "text": "bootstrap_type"
         },
         "type": "category"
        },
        "xaxis3": {
         "anchor": "y3",
         "domain": [
          0.16944444444444443,
          0.2375
         ],
         "title": {
          "text": "border_count"
         }
        },
        "xaxis4": {
         "anchor": "y4",
         "domain": [
          0.25416666666666665,
          0.3222222222222222
         ],
         "title": {
          "text": "depth"
         }
        },
        "xaxis5": {
         "anchor": "y5",
         "categoryarray": [
          "Depthwise",
          "SymmetricTree",
          "Lossguide"
         ],
         "categoryorder": "array",
         "domain": [
          0.33888888888888885,
          0.4069444444444444
         ],
         "title": {
          "text": "grow_policy"
         },
         "type": "category"
        },
        "xaxis6": {
         "anchor": "y6",
         "domain": [
          0.42361111111111105,
          0.4916666666666666
         ],
         "title": {
          "text": "l2_leaf_reg"
         }
        },
        "xaxis7": {
         "anchor": "y7",
         "domain": [
          0.5083333333333333,
          0.5763888888888888
         ],
         "title": {
          "text": "learning_rate"
         }
        },
        "xaxis8": {
         "anchor": "y8",
         "domain": [
          0.5930555555555556,
          0.6611111111111111
         ],
         "title": {
          "text": "max_leaves"
         }
        },
        "xaxis9": {
         "anchor": "y9",
         "domain": [
          0.6777777777777777,
          0.7458333333333332
         ],
         "title": {
          "text": "min_data_in_leaf"
         }
        },
        "yaxis": {
         "anchor": "x",
         "domain": [
          0,
          1
         ],
         "title": {
          "text": "Objective Value"
         }
        },
        "yaxis10": {
         "anchor": "x10",
         "domain": [
          0,
          1
         ],
         "matches": "y",
         "showticklabels": false
        },
        "yaxis11": {
         "anchor": "x11",
         "domain": [
          0,
          1
         ],
         "matches": "y",
         "showticklabels": false
        },
        "yaxis12": {
         "anchor": "x12",
         "domain": [
          0,
          1
         ],
         "matches": "y",
         "showticklabels": false
        },
        "yaxis2": {
         "anchor": "x2",
         "domain": [
          0,
          1
         ],
         "matches": "y",
         "showticklabels": false
        },
        "yaxis3": {
         "anchor": "x3",
         "domain": [
          0,
          1
         ],
         "matches": "y",
         "showticklabels": false
        },
        "yaxis4": {
         "anchor": "x4",
         "domain": [
          0,
          1
         ],
         "matches": "y",
         "showticklabels": false
        },
        "yaxis5": {
         "anchor": "x5",
         "domain": [
          0,
          1
         ],
         "matches": "y",
         "showticklabels": false
        },
        "yaxis6": {
         "anchor": "x6",
         "domain": [
          0,
          1
         ],
         "matches": "y",
         "showticklabels": false
        },
        "yaxis7": {
         "anchor": "x7",
         "domain": [
          0,
          1
         ],
         "matches": "y",
         "showticklabels": false
        },
        "yaxis8": {
         "anchor": "x8",
         "domain": [
          0,
          1
         ],
         "matches": "y",
         "showticklabels": false
        },
        "yaxis9": {
         "anchor": "x9",
         "domain": [
          0,
          1
         ],
         "matches": "y",
         "showticklabels": false
        }
       }
      }
     },
     "metadata": {},
     "output_type": "display_data"
    }
   ],
   "source": [
    "# Hyperparameters to score dependency\n",
    "\n",
    "optuna.visualization.plot_slice(study)"
   ]
  },
  {
   "cell_type": "code",
   "execution_count": null,
   "metadata": {
    "colab": {
     "base_uri": "https://localhost:8080/",
     "height": 542
    },
    "id": "EwIS_u5DJfJl",
    "outputId": "6bd688f2-674c-443e-85d9-843d68a6392c"
   },
   "outputs": [
    {
     "data": {
      "application/vnd.plotly.v1+json": {
       "config": {
        "plotlyServerURL": "https://plot.ly"
       },
       "data": [
        {
         "cliponaxis": false,
         "hovertemplate": [
          "border_count (IntDistribution): 0.01721559204612642<extra></extra>",
          "random_strength (FloatDistribution): 0.020723991912867567<extra></extra>",
          "l2_leaf_reg (FloatDistribution): 0.020741536807265877<extra></extra>",
          "od_wait (IntDistribution): 0.02179602275241675<extra></extra>",
          "bootstrap_type (CategoricalDistribution): 0.033479347881829935<extra></extra>",
          "depth (IntDistribution): 0.0878173547522772<extra></extra>",
          "n_estimators (IntDistribution): 0.09835612239077146<extra></extra>",
          "grow_policy (CategoricalDistribution): 0.10014911230800136<extra></extra>",
          "learning_rate (FloatDistribution): 0.5997209191484434<extra></extra>"
         ],
         "name": "Objective Value",
         "orientation": "h",
         "text": [
          "0.02",
          "0.02",
          "0.02",
          "0.02",
          "0.03",
          "0.09",
          "0.10",
          "0.10",
          "0.60"
         ],
         "textposition": "outside",
         "type": "bar",
         "x": [
          0.01721559204612642,
          0.020723991912867567,
          0.020741536807265877,
          0.02179602275241675,
          0.033479347881829935,
          0.0878173547522772,
          0.09835612239077146,
          0.10014911230800136,
          0.5997209191484434
         ],
         "y": [
          "border_count",
          "random_strength",
          "l2_leaf_reg",
          "od_wait",
          "bootstrap_type",
          "depth",
          "n_estimators",
          "grow_policy",
          "learning_rate"
         ]
        }
       ],
       "layout": {
        "template": {
         "data": {
          "bar": [
           {
            "error_x": {
             "color": "#2a3f5f"
            },
            "error_y": {
             "color": "#2a3f5f"
            },
            "marker": {
             "line": {
              "color": "#E5ECF6",
              "width": 0.5
             },
             "pattern": {
              "fillmode": "overlay",
              "size": 10,
              "solidity": 0.2
             }
            },
            "type": "bar"
           }
          ],
          "barpolar": [
           {
            "marker": {
             "line": {
              "color": "#E5ECF6",
              "width": 0.5
             },
             "pattern": {
              "fillmode": "overlay",
              "size": 10,
              "solidity": 0.2
             }
            },
            "type": "barpolar"
           }
          ],
          "carpet": [
           {
            "aaxis": {
             "endlinecolor": "#2a3f5f",
             "gridcolor": "white",
             "linecolor": "white",
             "minorgridcolor": "white",
             "startlinecolor": "#2a3f5f"
            },
            "baxis": {
             "endlinecolor": "#2a3f5f",
             "gridcolor": "white",
             "linecolor": "white",
             "minorgridcolor": "white",
             "startlinecolor": "#2a3f5f"
            },
            "type": "carpet"
           }
          ],
          "choropleth": [
           {
            "colorbar": {
             "outlinewidth": 0,
             "ticks": ""
            },
            "type": "choropleth"
           }
          ],
          "contour": [
           {
            "colorbar": {
             "outlinewidth": 0,
             "ticks": ""
            },
            "colorscale": [
             [
              0,
              "#0d0887"
             ],
             [
              0.1111111111111111,
              "#46039f"
             ],
             [
              0.2222222222222222,
              "#7201a8"
             ],
             [
              0.3333333333333333,
              "#9c179e"
             ],
             [
              0.4444444444444444,
              "#bd3786"
             ],
             [
              0.5555555555555556,
              "#d8576b"
             ],
             [
              0.6666666666666666,
              "#ed7953"
             ],
             [
              0.7777777777777778,
              "#fb9f3a"
             ],
             [
              0.8888888888888888,
              "#fdca26"
             ],
             [
              1,
              "#f0f921"
             ]
            ],
            "type": "contour"
           }
          ],
          "contourcarpet": [
           {
            "colorbar": {
             "outlinewidth": 0,
             "ticks": ""
            },
            "type": "contourcarpet"
           }
          ],
          "heatmap": [
           {
            "colorbar": {
             "outlinewidth": 0,
             "ticks": ""
            },
            "colorscale": [
             [
              0,
              "#0d0887"
             ],
             [
              0.1111111111111111,
              "#46039f"
             ],
             [
              0.2222222222222222,
              "#7201a8"
             ],
             [
              0.3333333333333333,
              "#9c179e"
             ],
             [
              0.4444444444444444,
              "#bd3786"
             ],
             [
              0.5555555555555556,
              "#d8576b"
             ],
             [
              0.6666666666666666,
              "#ed7953"
             ],
             [
              0.7777777777777778,
              "#fb9f3a"
             ],
             [
              0.8888888888888888,
              "#fdca26"
             ],
             [
              1,
              "#f0f921"
             ]
            ],
            "type": "heatmap"
           }
          ],
          "heatmapgl": [
           {
            "colorbar": {
             "outlinewidth": 0,
             "ticks": ""
            },
            "colorscale": [
             [
              0,
              "#0d0887"
             ],
             [
              0.1111111111111111,
              "#46039f"
             ],
             [
              0.2222222222222222,
              "#7201a8"
             ],
             [
              0.3333333333333333,
              "#9c179e"
             ],
             [
              0.4444444444444444,
              "#bd3786"
             ],
             [
              0.5555555555555556,
              "#d8576b"
             ],
             [
              0.6666666666666666,
              "#ed7953"
             ],
             [
              0.7777777777777778,
              "#fb9f3a"
             ],
             [
              0.8888888888888888,
              "#fdca26"
             ],
             [
              1,
              "#f0f921"
             ]
            ],
            "type": "heatmapgl"
           }
          ],
          "histogram": [
           {
            "marker": {
             "pattern": {
              "fillmode": "overlay",
              "size": 10,
              "solidity": 0.2
             }
            },
            "type": "histogram"
           }
          ],
          "histogram2d": [
           {
            "colorbar": {
             "outlinewidth": 0,
             "ticks": ""
            },
            "colorscale": [
             [
              0,
              "#0d0887"
             ],
             [
              0.1111111111111111,
              "#46039f"
             ],
             [
              0.2222222222222222,
              "#7201a8"
             ],
             [
              0.3333333333333333,
              "#9c179e"
             ],
             [
              0.4444444444444444,
              "#bd3786"
             ],
             [
              0.5555555555555556,
              "#d8576b"
             ],
             [
              0.6666666666666666,
              "#ed7953"
             ],
             [
              0.7777777777777778,
              "#fb9f3a"
             ],
             [
              0.8888888888888888,
              "#fdca26"
             ],
             [
              1,
              "#f0f921"
             ]
            ],
            "type": "histogram2d"
           }
          ],
          "histogram2dcontour": [
           {
            "colorbar": {
             "outlinewidth": 0,
             "ticks": ""
            },
            "colorscale": [
             [
              0,
              "#0d0887"
             ],
             [
              0.1111111111111111,
              "#46039f"
             ],
             [
              0.2222222222222222,
              "#7201a8"
             ],
             [
              0.3333333333333333,
              "#9c179e"
             ],
             [
              0.4444444444444444,
              "#bd3786"
             ],
             [
              0.5555555555555556,
              "#d8576b"
             ],
             [
              0.6666666666666666,
              "#ed7953"
             ],
             [
              0.7777777777777778,
              "#fb9f3a"
             ],
             [
              0.8888888888888888,
              "#fdca26"
             ],
             [
              1,
              "#f0f921"
             ]
            ],
            "type": "histogram2dcontour"
           }
          ],
          "mesh3d": [
           {
            "colorbar": {
             "outlinewidth": 0,
             "ticks": ""
            },
            "type": "mesh3d"
           }
          ],
          "parcoords": [
           {
            "line": {
             "colorbar": {
              "outlinewidth": 0,
              "ticks": ""
             }
            },
            "type": "parcoords"
           }
          ],
          "pie": [
           {
            "automargin": true,
            "type": "pie"
           }
          ],
          "scatter": [
           {
            "fillpattern": {
             "fillmode": "overlay",
             "size": 10,
             "solidity": 0.2
            },
            "type": "scatter"
           }
          ],
          "scatter3d": [
           {
            "line": {
             "colorbar": {
              "outlinewidth": 0,
              "ticks": ""
             }
            },
            "marker": {
             "colorbar": {
              "outlinewidth": 0,
              "ticks": ""
             }
            },
            "type": "scatter3d"
           }
          ],
          "scattercarpet": [
           {
            "marker": {
             "colorbar": {
              "outlinewidth": 0,
              "ticks": ""
             }
            },
            "type": "scattercarpet"
           }
          ],
          "scattergeo": [
           {
            "marker": {
             "colorbar": {
              "outlinewidth": 0,
              "ticks": ""
             }
            },
            "type": "scattergeo"
           }
          ],
          "scattergl": [
           {
            "marker": {
             "colorbar": {
              "outlinewidth": 0,
              "ticks": ""
             }
            },
            "type": "scattergl"
           }
          ],
          "scattermapbox": [
           {
            "marker": {
             "colorbar": {
              "outlinewidth": 0,
              "ticks": ""
             }
            },
            "type": "scattermapbox"
           }
          ],
          "scatterpolar": [
           {
            "marker": {
             "colorbar": {
              "outlinewidth": 0,
              "ticks": ""
             }
            },
            "type": "scatterpolar"
           }
          ],
          "scatterpolargl": [
           {
            "marker": {
             "colorbar": {
              "outlinewidth": 0,
              "ticks": ""
             }
            },
            "type": "scatterpolargl"
           }
          ],
          "scatterternary": [
           {
            "marker": {
             "colorbar": {
              "outlinewidth": 0,
              "ticks": ""
             }
            },
            "type": "scatterternary"
           }
          ],
          "surface": [
           {
            "colorbar": {
             "outlinewidth": 0,
             "ticks": ""
            },
            "colorscale": [
             [
              0,
              "#0d0887"
             ],
             [
              0.1111111111111111,
              "#46039f"
             ],
             [
              0.2222222222222222,
              "#7201a8"
             ],
             [
              0.3333333333333333,
              "#9c179e"
             ],
             [
              0.4444444444444444,
              "#bd3786"
             ],
             [
              0.5555555555555556,
              "#d8576b"
             ],
             [
              0.6666666666666666,
              "#ed7953"
             ],
             [
              0.7777777777777778,
              "#fb9f3a"
             ],
             [
              0.8888888888888888,
              "#fdca26"
             ],
             [
              1,
              "#f0f921"
             ]
            ],
            "type": "surface"
           }
          ],
          "table": [
           {
            "cells": {
             "fill": {
              "color": "#EBF0F8"
             },
             "line": {
              "color": "white"
             }
            },
            "header": {
             "fill": {
              "color": "#C8D4E3"
             },
             "line": {
              "color": "white"
             }
            },
            "type": "table"
           }
          ]
         },
         "layout": {
          "annotationdefaults": {
           "arrowcolor": "#2a3f5f",
           "arrowhead": 0,
           "arrowwidth": 1
          },
          "autotypenumbers": "strict",
          "coloraxis": {
           "colorbar": {
            "outlinewidth": 0,
            "ticks": ""
           }
          },
          "colorscale": {
           "diverging": [
            [
             0,
             "#8e0152"
            ],
            [
             0.1,
             "#c51b7d"
            ],
            [
             0.2,
             "#de77ae"
            ],
            [
             0.3,
             "#f1b6da"
            ],
            [
             0.4,
             "#fde0ef"
            ],
            [
             0.5,
             "#f7f7f7"
            ],
            [
             0.6,
             "#e6f5d0"
            ],
            [
             0.7,
             "#b8e186"
            ],
            [
             0.8,
             "#7fbc41"
            ],
            [
             0.9,
             "#4d9221"
            ],
            [
             1,
             "#276419"
            ]
           ],
           "sequential": [
            [
             0,
             "#0d0887"
            ],
            [
             0.1111111111111111,
             "#46039f"
            ],
            [
             0.2222222222222222,
             "#7201a8"
            ],
            [
             0.3333333333333333,
             "#9c179e"
            ],
            [
             0.4444444444444444,
             "#bd3786"
            ],
            [
             0.5555555555555556,
             "#d8576b"
            ],
            [
             0.6666666666666666,
             "#ed7953"
            ],
            [
             0.7777777777777778,
             "#fb9f3a"
            ],
            [
             0.8888888888888888,
             "#fdca26"
            ],
            [
             1,
             "#f0f921"
            ]
           ],
           "sequentialminus": [
            [
             0,
             "#0d0887"
            ],
            [
             0.1111111111111111,
             "#46039f"
            ],
            [
             0.2222222222222222,
             "#7201a8"
            ],
            [
             0.3333333333333333,
             "#9c179e"
            ],
            [
             0.4444444444444444,
             "#bd3786"
            ],
            [
             0.5555555555555556,
             "#d8576b"
            ],
            [
             0.6666666666666666,
             "#ed7953"
            ],
            [
             0.7777777777777778,
             "#fb9f3a"
            ],
            [
             0.8888888888888888,
             "#fdca26"
            ],
            [
             1,
             "#f0f921"
            ]
           ]
          },
          "colorway": [
           "#636efa",
           "#EF553B",
           "#00cc96",
           "#ab63fa",
           "#FFA15A",
           "#19d3f3",
           "#FF6692",
           "#B6E880",
           "#FF97FF",
           "#FECB52"
          ],
          "font": {
           "color": "#2a3f5f"
          },
          "geo": {
           "bgcolor": "white",
           "lakecolor": "white",
           "landcolor": "#E5ECF6",
           "showlakes": true,
           "showland": true,
           "subunitcolor": "white"
          },
          "hoverlabel": {
           "align": "left"
          },
          "hovermode": "closest",
          "mapbox": {
           "style": "light"
          },
          "paper_bgcolor": "white",
          "plot_bgcolor": "#E5ECF6",
          "polar": {
           "angularaxis": {
            "gridcolor": "white",
            "linecolor": "white",
            "ticks": ""
           },
           "bgcolor": "#E5ECF6",
           "radialaxis": {
            "gridcolor": "white",
            "linecolor": "white",
            "ticks": ""
           }
          },
          "scene": {
           "xaxis": {
            "backgroundcolor": "#E5ECF6",
            "gridcolor": "white",
            "gridwidth": 2,
            "linecolor": "white",
            "showbackground": true,
            "ticks": "",
            "zerolinecolor": "white"
           },
           "yaxis": {
            "backgroundcolor": "#E5ECF6",
            "gridcolor": "white",
            "gridwidth": 2,
            "linecolor": "white",
            "showbackground": true,
            "ticks": "",
            "zerolinecolor": "white"
           },
           "zaxis": {
            "backgroundcolor": "#E5ECF6",
            "gridcolor": "white",
            "gridwidth": 2,
            "linecolor": "white",
            "showbackground": true,
            "ticks": "",
            "zerolinecolor": "white"
           }
          },
          "shapedefaults": {
           "line": {
            "color": "#2a3f5f"
           }
          },
          "ternary": {
           "aaxis": {
            "gridcolor": "white",
            "linecolor": "white",
            "ticks": ""
           },
           "baxis": {
            "gridcolor": "white",
            "linecolor": "white",
            "ticks": ""
           },
           "bgcolor": "#E5ECF6",
           "caxis": {
            "gridcolor": "white",
            "linecolor": "white",
            "ticks": ""
           }
          },
          "title": {
           "x": 0.05
          },
          "xaxis": {
           "automargin": true,
           "gridcolor": "white",
           "linecolor": "white",
           "ticks": "",
           "title": {
            "standoff": 15
           },
           "zerolinecolor": "white",
           "zerolinewidth": 2
          },
          "yaxis": {
           "automargin": true,
           "gridcolor": "white",
           "linecolor": "white",
           "ticks": "",
           "title": {
            "standoff": 15
           },
           "zerolinecolor": "white",
           "zerolinewidth": 2
          }
         }
        },
        "title": {
         "text": "Hyperparameter Importances"
        },
        "xaxis": {
         "title": {
          "text": "Hyperparameter Importance"
         }
        },
        "yaxis": {
         "title": {
          "text": "Hyperparameter"
         }
        }
       }
      }
     },
     "metadata": {},
     "output_type": "display_data"
    }
   ],
   "source": [
    "# Hyperparameter importances\n",
    "\n",
    "optuna.visualization.plot_param_importances(study)"
   ]
  },
  {
   "cell_type": "code",
   "execution_count": 62,
   "metadata": {},
   "outputs": [
    {
     "data": {
      "text/plain": [
       "{'n_estimators': 765,\n",
       " 'learning_rate': 0.12130510601833022,\n",
       " 'depth': 16,\n",
       " 'l2_leaf_reg': 6.066574058552226,\n",
       " 'border_count': 431,\n",
       " 'random_strength': 0.8578928621416503,\n",
       " 'bootstrap_type': 'Bayesian',\n",
       " 'grow_policy': 'Depthwise',\n",
       " 'bagging_temperature': 5.440658034475831,\n",
       " 'min_data_in_leaf': 3,\n",
       " 'loss_function': 'RMSE',\n",
       " 'od_type': 'Iter',\n",
       " 'od_wait': 25}"
      ]
     },
     "execution_count": 62,
     "metadata": {},
     "output_type": "execute_result"
    }
   ],
   "source": [
    "params = study.best_trial.params\n",
    "params['loss_function'] = 'RMSE'\n",
    "params['od_type'] = 'Iter'\n",
    "params['od_wait'] = 25\n",
    "params"
   ]
  },
  {
   "cell_type": "code",
   "execution_count": 63,
   "metadata": {
    "id": "umjLfKc8UjMv"
   },
   "outputs": [
    {
     "data": {
      "application/vnd.jupyter.widget-view+json": {
       "model_id": "a6b5837f34244f1c867fad4dbc3f1df2",
       "version_major": 2,
       "version_minor": 0
      },
      "text/plain": [
       "MetricVisualizer(layout=Layout(align_self='stretch', height='500px'))"
      ]
     },
     "metadata": {},
     "output_type": "display_data"
    },
    {
     "name": "stdout",
     "output_type": "stream",
     "text": [
      "Training on fold [0/5]\n",
      "\n",
      "bestTest = 0.1736578541\n",
      "bestIteration = 223\n",
      "\n",
      "Training on fold [1/5]\n",
      "\n",
      "bestTest = 0.1753402097\n",
      "bestIteration = 334\n",
      "\n",
      "Training on fold [2/5]\n",
      "\n",
      "bestTest = 0.1745438723\n",
      "bestIteration = 225\n",
      "\n",
      "Training on fold [3/5]\n"
     ]
    },
    {
     "ename": "KeyboardInterrupt",
     "evalue": "",
     "output_type": "error",
     "traceback": [
      "\u001b[1;31m---------------------------------------------------------------------------\u001b[0m",
      "\u001b[1;31mKeyboardInterrupt\u001b[0m                         Traceback (most recent call last)",
      "Cell \u001b[1;32mIn[63], line 9\u001b[0m\n\u001b[0;32m      1\u001b[0m \u001b[38;5;66;03m# Creating CV\u001b[39;00m\n\u001b[0;32m      3\u001b[0m cat_train_data \u001b[38;5;241m=\u001b[39m Pool(\n\u001b[0;32m      4\u001b[0m     data \u001b[38;5;241m=\u001b[39m cat_data[features],\n\u001b[0;32m      5\u001b[0m     label \u001b[38;5;241m=\u001b[39m cat_data[target],\n\u001b[0;32m      6\u001b[0m     cat_features \u001b[38;5;241m=\u001b[39m categorical_indicies,\n\u001b[0;32m      7\u001b[0m )\n\u001b[1;32m----> 9\u001b[0m cv_data \u001b[38;5;241m=\u001b[39m \u001b[43mcv\u001b[49m\u001b[43m(\u001b[49m\n\u001b[0;32m     10\u001b[0m \u001b[43m    \u001b[49m\u001b[43mpool\u001b[49m\u001b[43m \u001b[49m\u001b[38;5;241;43m=\u001b[39;49m\u001b[43m \u001b[49m\u001b[43mcat_train_data\u001b[49m\u001b[43m,\u001b[49m\n\u001b[0;32m     11\u001b[0m \u001b[43m    \u001b[49m\u001b[43mparams\u001b[49m\u001b[43m \u001b[49m\u001b[38;5;241;43m=\u001b[39;49m\u001b[43m \u001b[49m\u001b[43mparams\u001b[49m\u001b[43m,\u001b[49m\n\u001b[0;32m     12\u001b[0m \u001b[43m    \u001b[49m\u001b[43mfold_count\u001b[49m\u001b[43m \u001b[49m\u001b[38;5;241;43m=\u001b[39;49m\u001b[43m \u001b[49m\u001b[38;5;241;43m5\u001b[39;49m\u001b[43m,\u001b[49m\n\u001b[0;32m     13\u001b[0m \u001b[43m    \u001b[49m\u001b[43mshuffle\u001b[49m\u001b[43m \u001b[49m\u001b[38;5;241;43m=\u001b[39;49m\u001b[43m \u001b[49m\u001b[38;5;28;43;01mTrue\u001b[39;49;00m\u001b[43m,\u001b[49m\n\u001b[0;32m     14\u001b[0m \u001b[43m    \u001b[49m\u001b[43mpartition_random_seed\u001b[49m\u001b[43m \u001b[49m\u001b[38;5;241;43m=\u001b[39;49m\u001b[43m \u001b[49m\u001b[38;5;241;43m777\u001b[39;49m\u001b[43m,\u001b[49m\n\u001b[0;32m     15\u001b[0m \u001b[43m    \u001b[49m\u001b[43mplot\u001b[49m\u001b[43m \u001b[49m\u001b[38;5;241;43m=\u001b[39;49m\u001b[43m \u001b[49m\u001b[38;5;28;43;01mTrue\u001b[39;49;00m\u001b[43m,\u001b[49m\n\u001b[0;32m     16\u001b[0m \u001b[43m    \u001b[49m\u001b[43mstratified\u001b[49m\u001b[43m \u001b[49m\u001b[38;5;241;43m=\u001b[39;49m\u001b[43m \u001b[49m\u001b[38;5;28;43;01mTrue\u001b[39;49;00m\u001b[43m,\u001b[49m\u001b[43m \u001b[49m\n\u001b[0;32m     17\u001b[0m \u001b[43m    \u001b[49m\u001b[43mverbose\u001b[49m\u001b[43m \u001b[49m\u001b[38;5;241;43m=\u001b[39;49m\u001b[43m \u001b[49m\u001b[38;5;28;43;01mFalse\u001b[39;49;00m\n\u001b[0;32m     18\u001b[0m \u001b[43m)\u001b[49m\n",
      "File \u001b[1;32mc:\\Users\\Aleks\\AppData\\Local\\Programs\\Python\\Python312\\Lib\\site-packages\\catboost\\core.py:6924\u001b[0m, in \u001b[0;36mcv\u001b[1;34m(pool, params, dtrain, iterations, num_boost_round, fold_count, nfold, inverted, partition_random_seed, seed, shuffle, logging_level, stratified, as_pandas, metric_period, verbose, verbose_eval, plot, plot_file, early_stopping_rounds, save_snapshot, snapshot_file, snapshot_interval, metric_update_interval, folds, type, return_models, log_cout, log_cerr)\u001b[0m\n\u001b[0;32m   6922\u001b[0m \u001b[38;5;28;01mwith\u001b[39;00m log_fixup(log_cout, log_cerr), plot_wrapper(plot, plot_file\u001b[38;5;241m=\u001b[39mplot_file, plot_title\u001b[38;5;241m=\u001b[39m\u001b[38;5;124m'\u001b[39m\u001b[38;5;124mCross-validation plot\u001b[39m\u001b[38;5;124m'\u001b[39m, train_dirs\u001b[38;5;241m=\u001b[39mplot_dirs):\n\u001b[0;32m   6923\u001b[0m     \u001b[38;5;28;01mif\u001b[39;00m \u001b[38;5;129;01mnot\u001b[39;00m return_models:\n\u001b[1;32m-> 6924\u001b[0m         \u001b[38;5;28;01mreturn\u001b[39;00m \u001b[43m_cv\u001b[49m\u001b[43m(\u001b[49m\n\u001b[0;32m   6925\u001b[0m \u001b[43m            \u001b[49m\u001b[43mparams\u001b[49m\u001b[43m,\u001b[49m\n\u001b[0;32m   6926\u001b[0m \u001b[43m            \u001b[49m\u001b[43mpool\u001b[49m\u001b[43m,\u001b[49m\n\u001b[0;32m   6927\u001b[0m \u001b[43m            \u001b[49m\u001b[43mfold_count\u001b[49m\u001b[43m,\u001b[49m\n\u001b[0;32m   6928\u001b[0m \u001b[43m            \u001b[49m\u001b[43minverted\u001b[49m\u001b[43m,\u001b[49m\n\u001b[0;32m   6929\u001b[0m \u001b[43m            \u001b[49m\u001b[43mpartition_random_seed\u001b[49m\u001b[43m,\u001b[49m\n\u001b[0;32m   6930\u001b[0m \u001b[43m            \u001b[49m\u001b[43mshuffle\u001b[49m\u001b[43m,\u001b[49m\n\u001b[0;32m   6931\u001b[0m \u001b[43m            \u001b[49m\u001b[43mstratified\u001b[49m\u001b[43m,\u001b[49m\n\u001b[0;32m   6932\u001b[0m \u001b[43m            \u001b[49m\u001b[43mmetric_update_interval\u001b[49m\u001b[43m,\u001b[49m\n\u001b[0;32m   6933\u001b[0m \u001b[43m            \u001b[49m\u001b[43mas_pandas\u001b[49m\u001b[43m,\u001b[49m\n\u001b[0;32m   6934\u001b[0m \u001b[43m            \u001b[49m\u001b[43mfolds\u001b[49m\u001b[43m,\u001b[49m\n\u001b[0;32m   6935\u001b[0m \u001b[43m            \u001b[49m\u001b[38;5;28;43mtype\u001b[39;49m\u001b[43m,\u001b[49m\n\u001b[0;32m   6936\u001b[0m \u001b[43m            \u001b[49m\u001b[43mreturn_models\u001b[49m\n\u001b[0;32m   6937\u001b[0m \u001b[43m        \u001b[49m\u001b[43m)\u001b[49m\n\u001b[0;32m   6938\u001b[0m     \u001b[38;5;28;01melse\u001b[39;00m:\n\u001b[0;32m   6939\u001b[0m         results, cv_models \u001b[38;5;241m=\u001b[39m _cv(\n\u001b[0;32m   6940\u001b[0m             params,\n\u001b[0;32m   6941\u001b[0m             pool,\n\u001b[1;32m   (...)\u001b[0m\n\u001b[0;32m   6951\u001b[0m             return_models\n\u001b[0;32m   6952\u001b[0m         )\n",
      "File \u001b[1;32m_catboost.pyx:5696\u001b[0m, in \u001b[0;36m_catboost._cv\u001b[1;34m()\u001b[0m\n",
      "File \u001b[1;32m_catboost.pyx:5728\u001b[0m, in \u001b[0;36m_catboost._cv\u001b[1;34m()\u001b[0m\n",
      "\u001b[1;31mKeyboardInterrupt\u001b[0m: "
     ]
    }
   ],
   "source": [
    "# Creating CV\n",
    "\n",
    "cat_train_data = Pool(\n",
    "    data = cat_data[features],\n",
    "    label = cat_data[target],\n",
    "    cat_features = categorical_indicies,\n",
    ")\n",
    "\n",
    "cv_data = cv(\n",
    "    pool = cat_train_data,\n",
    "    params = params,\n",
    "    fold_count = 5,\n",
    "    shuffle = True,\n",
    "    partition_random_seed = 777,\n",
    "    plot = True,\n",
    "    stratified = True, \n",
    "    verbose = False\n",
    ")"
   ]
  },
  {
   "cell_type": "code",
   "execution_count": null,
   "metadata": {
    "id": "bckVwDpbXJdR"
   },
   "outputs": [],
   "source": [
    "# Creating the model with best hyperparameters\n",
    "\n",
    "cat_model = CatBoostRegressor(loss_function = 'RMSE',\n",
    "                        random_state = 777,\n",
    "                        od_type = \"Iter\",\n",
    "                        od_wait = 25,\n",
    "                        **study.best_trial.params)\n",
    "\n",
    "cat_model.fit(cat_train_data, verbose = False)"
   ]
  },
  {
   "cell_type": "code",
   "execution_count": null,
   "metadata": {
    "colab": {
     "base_uri": "https://localhost:8080/",
     "height": 571
    },
    "id": "0q6pcEBAo60f",
    "outputId": "d05c7262-d19c-4102-e7ec-ba8c279b90a3"
   },
   "outputs": [
    {
     "data": {
      "text/plain": [
       "Text(0.5, 1.0, 'Feature Importance')"
      ]
     },
     "execution_count": 59,
     "metadata": {},
     "output_type": "execute_result"
    },
    {
     "data": {
      "image/png": "[encoded data removed]",
      "text/plain": [
       "<Figure size 1200x600 with 1 Axes>"
      ]
     },
     "metadata": {},
     "output_type": "display_data"
    }
   ],
   "source": [
    "# Plotting feature importance\n",
    "\n",
    "feature_importance = cat_model.feature_importances_\n",
    "sorted_idx = np.argsort(feature_importance)\n",
    "\n",
    "fig = plt.figure(figsize=(12, 6))\n",
    "plt.barh(np.array(features)[sorted_idx], feature_importance[sorted_idx])\n",
    "plt.title('Feature Importance')"
   ]
  }
 ],
 "metadata": {
  "colab": {
   "provenance": []
  },
  "kernelspec": {
   "display_name": "Python 3 (ipykernel)",
   "language": "python",
   "name": "python3"
  },
  "language_info": {
   "codemirror_mode": {
    "name": "ipython",
    "version": 3
   },
   "file_extension": ".py",
   "mimetype": "text/x-python",
   "name": "python",
   "nbconvert_exporter": "python",
   "pygments_lexer": "ipython3",
   "version": "3.12.0"
  }
 },
 "nbformat": 4,
 "nbformat_minor": 4
}
