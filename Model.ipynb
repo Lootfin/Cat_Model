{
 "cells": [
  {
   "cell_type": "code",
   "execution_count": 46,
   "metadata": {},
   "outputs": [
    {
     "name": "stdout",
     "output_type": "stream",
     "text": [
      "Requirement already satisfied: catboost in c:\\users\\aleks\\appdata\\local\\programs\\python\\python312\\lib\\site-packages (1.2.5)\n",
      "Requirement already satisfied: optuna in c:\\users\\aleks\\appdata\\local\\programs\\python\\python312\\lib\\site-packages (3.6.1)\n",
      "Requirement already satisfied: optuna-integration in c:\\users\\aleks\\appdata\\local\\programs\\python\\python312\\lib\\site-packages (3.6.0)\n",
      "Requirement already satisfied: seaborn in c:\\users\\aleks\\appdata\\local\\programs\\python\\python312\\lib\\site-packages (0.13.2)\n",
      "Requirement already satisfied: scikit-learn in c:\\users\\aleks\\appdata\\local\\programs\\python\\python312\\lib\\site-packages (1.4.2)\n",
      "Requirement already satisfied: openpyxl in c:\\users\\aleks\\appdata\\local\\programs\\python\\python312\\lib\\site-packages (3.1.2)\n",
      "Collecting nbformat\n",
      "  Obtaining dependency information for nbformat from https://files.pythonhosted.org/packages/a9/82/0340caa499416c78e5d8f5f05947ae4bc3cba53c9f038ab6e9ed964e22f1/nbformat-5.10.4-py3-none-any.whl.metadata\n",
      "  Downloading nbformat-5.10.4-py3-none-any.whl.metadata (3.6 kB)\n",
      "Requirement already satisfied: graphviz in c:\\users\\aleks\\appdata\\local\\programs\\python\\python312\\lib\\site-packages (from catboost) (0.20.3)\n",
      "Requirement already satisfied: matplotlib in c:\\users\\aleks\\appdata\\local\\programs\\python\\python312\\lib\\site-packages (from catboost) (3.8.4)\n",
      "Requirement already satisfied: numpy>=1.16.0 in c:\\users\\aleks\\appdata\\local\\programs\\python\\python312\\lib\\site-packages (from catboost) (1.26.4)\n",
      "Requirement already satisfied: pandas>=0.24 in c:\\users\\aleks\\appdata\\local\\programs\\python\\python312\\lib\\site-packages (from catboost) (2.2.2)\n",
      "Requirement already satisfied: scipy in c:\\users\\aleks\\appdata\\local\\programs\\python\\python312\\lib\\site-packages (from catboost) (1.13.0)\n",
      "Requirement already satisfied: plotly in c:\\users\\aleks\\appdata\\local\\programs\\python\\python312\\lib\\site-packages (from catboost) (5.22.0)\n",
      "Requirement already satisfied: six in c:\\users\\aleks\\appdata\\roaming\\python\\python312\\site-packages (from catboost) (1.16.0)\n",
      "Requirement already satisfied: alembic>=1.5.0 in c:\\users\\aleks\\appdata\\local\\programs\\python\\python312\\lib\\site-packages (from optuna) (1.13.1)\n",
      "Requirement already satisfied: colorlog in c:\\users\\aleks\\appdata\\local\\programs\\python\\python312\\lib\\site-packages (from optuna) (6.8.2)\n",
      "Requirement already satisfied: packaging>=20.0 in c:\\users\\aleks\\appdata\\roaming\\python\\python312\\site-packages (from optuna) (24.0)\n",
      "Requirement already satisfied: sqlalchemy>=1.3.0 in c:\\users\\aleks\\appdata\\local\\programs\\python\\python312\\lib\\site-packages (from optuna) (2.0.30)\n",
      "Requirement already satisfied: tqdm in c:\\users\\aleks\\appdata\\local\\programs\\python\\python312\\lib\\site-packages (from optuna) (4.66.4)\n",
      "Requirement already satisfied: PyYAML in c:\\users\\aleks\\appdata\\local\\programs\\python\\python312\\lib\\site-packages (from optuna) (6.0.1)\n",
      "Requirement already satisfied: joblib>=1.2.0 in c:\\users\\aleks\\appdata\\local\\programs\\python\\python312\\lib\\site-packages (from scikit-learn) (1.4.2)\n",
      "Requirement already satisfied: threadpoolctl>=2.0.0 in c:\\users\\aleks\\appdata\\local\\programs\\python\\python312\\lib\\site-packages (from scikit-learn) (3.5.0)\n",
      "Requirement already satisfied: et-xmlfile in c:\\users\\aleks\\appdata\\local\\programs\\python\\python312\\lib\\site-packages (from openpyxl) (1.1.0)\n",
      "Collecting fastjsonschema>=2.15 (from nbformat)\n",
      "  Obtaining dependency information for fastjsonschema>=2.15 from https://files.pythonhosted.org/packages/9c/b9/79691036d4a8f9857e74d1728b23f34f583b81350a27492edda58d5604e1/fastjsonschema-2.19.1-py3-none-any.whl.metadata\n",
      "  Downloading fastjsonschema-2.19.1-py3-none-any.whl.metadata (2.1 kB)\n",
      "Collecting jsonschema>=2.6 (from nbformat)\n",
      "  Obtaining dependency information for jsonschema>=2.6 from https://files.pythonhosted.org/packages/c8/2f/324fab4be6fe37fb7b521546e8a557e6cf08c1c1b3d0b4839a00f589d9ef/jsonschema-4.22.0-py3-none-any.whl.metadata\n",
      "  Downloading jsonschema-4.22.0-py3-none-any.whl.metadata (8.2 kB)\n",
      "Requirement already satisfied: jupyter-core!=5.0.*,>=4.12 in c:\\users\\aleks\\appdata\\roaming\\python\\python312\\site-packages (from nbformat) (5.7.2)\n",
      "Requirement already satisfied: traitlets>=5.1 in c:\\users\\aleks\\appdata\\roaming\\python\\python312\\site-packages (from nbformat) (5.14.3)\n",
      "Requirement already satisfied: Mako in c:\\users\\aleks\\appdata\\local\\programs\\python\\python312\\lib\\site-packages (from alembic>=1.5.0->optuna) (1.3.3)\n",
      "Requirement already satisfied: typing-extensions>=4 in c:\\users\\aleks\\appdata\\local\\programs\\python\\python312\\lib\\site-packages (from alembic>=1.5.0->optuna) (4.11.0)\n",
      "Collecting attrs>=22.2.0 (from jsonschema>=2.6->nbformat)\n",
      "  Obtaining dependency information for attrs>=22.2.0 from https://files.pythonhosted.org/packages/e0/44/827b2a91a5816512fcaf3cc4ebc465ccd5d598c45cefa6703fcf4a79018f/attrs-23.2.0-py3-none-any.whl.metadata\n",
      "  Downloading attrs-23.2.0-py3-none-any.whl.metadata (9.5 kB)\n",
      "Collecting jsonschema-specifications>=2023.03.6 (from jsonschema>=2.6->nbformat)\n",
      "  Obtaining dependency information for jsonschema-specifications>=2023.03.6 from https://files.pythonhosted.org/packages/ee/07/44bd408781594c4d0a027666ef27fab1e441b109dc3b76b4f836f8fd04fe/jsonschema_specifications-2023.12.1-py3-none-any.whl.metadata\n",
      "  Downloading jsonschema_specifications-2023.12.1-py3-none-any.whl.metadata (3.0 kB)\n",
      "Collecting referencing>=0.28.4 (from jsonschema>=2.6->nbformat)\n",
      "  Obtaining dependency information for referencing>=0.28.4 from https://files.pythonhosted.org/packages/b7/59/2056f61236782a2c86b33906c025d4f4a0b17be0161b63b70fd9e8775d36/referencing-0.35.1-py3-none-any.whl.metadata\n",
      "  Downloading referencing-0.35.1-py3-none-any.whl.metadata (2.8 kB)\n",
      "Collecting rpds-py>=0.7.1 (from jsonschema>=2.6->nbformat)\n",
      "  Obtaining dependency information for rpds-py>=0.7.1 from https://files.pythonhosted.org/packages/01/7d/8552e329973a198e5e150cc6be068f5cbae797a89e64c02bbd47bd397dee/rpds_py-0.18.1-cp312-none-win_amd64.whl.metadata\n",
      "  Downloading rpds_py-0.18.1-cp312-none-win_amd64.whl.metadata (4.2 kB)\n",
      "Requirement already satisfied: platformdirs>=2.5 in c:\\users\\aleks\\appdata\\roaming\\python\\python312\\site-packages (from jupyter-core!=5.0.*,>=4.12->nbformat) (4.2.1)\n",
      "Requirement already satisfied: pywin32>=300 in c:\\users\\aleks\\appdata\\roaming\\python\\python312\\site-packages (from jupyter-core!=5.0.*,>=4.12->nbformat) (306)\n",
      "Requirement already satisfied: contourpy>=1.0.1 in c:\\users\\aleks\\appdata\\local\\programs\\python\\python312\\lib\\site-packages (from matplotlib->catboost) (1.2.1)\n",
      "Requirement already satisfied: cycler>=0.10 in c:\\users\\aleks\\appdata\\local\\programs\\python\\python312\\lib\\site-packages (from matplotlib->catboost) (0.12.1)\n",
      "Requirement already satisfied: fonttools>=4.22.0 in c:\\users\\aleks\\appdata\\local\\programs\\python\\python312\\lib\\site-packages (from matplotlib->catboost) (4.51.0)\n",
      "Requirement already satisfied: kiwisolver>=1.3.1 in c:\\users\\aleks\\appdata\\local\\programs\\python\\python312\\lib\\site-packages (from matplotlib->catboost) (1.4.5)\n",
      "Requirement already satisfied: pillow>=8 in c:\\users\\aleks\\appdata\\local\\programs\\python\\python312\\lib\\site-packages (from matplotlib->catboost) (10.3.0)\n",
      "Requirement already satisfied: pyparsing>=2.3.1 in c:\\users\\aleks\\appdata\\local\\programs\\python\\python312\\lib\\site-packages (from matplotlib->catboost) (3.1.2)\n",
      "Requirement already satisfied: python-dateutil>=2.7 in c:\\users\\aleks\\appdata\\roaming\\python\\python312\\site-packages (from matplotlib->catboost) (2.9.0.post0)\n",
      "Requirement already satisfied: pytz>=2020.1 in c:\\users\\aleks\\appdata\\local\\programs\\python\\python312\\lib\\site-packages (from pandas>=0.24->catboost) (2024.1)\n",
      "Requirement already satisfied: tzdata>=2022.7 in c:\\users\\aleks\\appdata\\local\\programs\\python\\python312\\lib\\site-packages (from pandas>=0.24->catboost) (2024.1)\n",
      "Requirement already satisfied: greenlet!=0.4.17 in c:\\users\\aleks\\appdata\\local\\programs\\python\\python312\\lib\\site-packages (from sqlalchemy>=1.3.0->optuna) (3.0.3)\n",
      "Requirement already satisfied: colorama in c:\\users\\aleks\\appdata\\roaming\\python\\python312\\site-packages (from colorlog->optuna) (0.4.6)\n",
      "Requirement already satisfied: tenacity>=6.2.0 in c:\\users\\aleks\\appdata\\local\\programs\\python\\python312\\lib\\site-packages (from plotly->catboost) (8.3.0)\n",
      "Requirement already satisfied: MarkupSafe>=0.9.2 in c:\\users\\aleks\\appdata\\local\\programs\\python\\python312\\lib\\site-packages (from Mako->alembic>=1.5.0->optuna) (2.1.5)\n",
      "Downloading nbformat-5.10.4-py3-none-any.whl (78 kB)\n",
      "   ---------------------------------------- 0.0/78.5 kB ? eta -:--:--\n",
      "   --------------- ------------------------ 30.7/78.5 kB 1.4 MB/s eta 0:00:01\n",
      "   ---------------------------------------- 78.5/78.5 kB 1.5 MB/s eta 0:00:00\n",
      "Downloading fastjsonschema-2.19.1-py3-none-any.whl (23 kB)\n",
      "Downloading jsonschema-4.22.0-py3-none-any.whl (88 kB)\n",
      "   ---------------------------------------- 0.0/88.3 kB ? eta -:--:--\n",
      "   ---------------------------------------- 88.3/88.3 kB 4.9 MB/s eta 0:00:00\n",
      "Downloading attrs-23.2.0-py3-none-any.whl (60 kB)\n",
      "   ---------------------------------------- 0.0/60.8 kB ? eta -:--:--\n",
      "   ---------------------------------------- 60.8/60.8 kB ? eta 0:00:00\n",
      "Downloading jsonschema_specifications-2023.12.1-py3-none-any.whl (18 kB)\n",
      "Downloading referencing-0.35.1-py3-none-any.whl (26 kB)\n",
      "Downloading rpds_py-0.18.1-cp312-none-win_amd64.whl (209 kB)\n",
      "   ---------------------------------------- 0.0/209.3 kB ? eta -:--:--\n",
      "   ---------------------------------------  204.8/209.3 kB 4.1 MB/s eta 0:00:01\n",
      "   ---------------------------------------- 209.3/209.3 kB 4.2 MB/s eta 0:00:00\n",
      "Installing collected packages: fastjsonschema, rpds-py, attrs, referencing, jsonschema-specifications, jsonschema, nbformat\n",
      "Successfully installed attrs-23.2.0 fastjsonschema-2.19.1 jsonschema-4.22.0 jsonschema-specifications-2023.12.1 nbformat-5.10.4 referencing-0.35.1 rpds-py-0.18.1\n",
      "Note: you may need to restart the kernel to use updated packages.\n"
     ]
    },
    {
     "name": "stderr",
     "output_type": "stream",
     "text": [
      "  WARNING: The script jsonschema.exe is installed in 'c:\\Users\\Aleks\\AppData\\Local\\Programs\\Python\\Python312\\Scripts' which is not on PATH.\n",
      "  Consider adding this directory to PATH or, if you prefer to suppress this warning, use --no-warn-script-location.\n",
      "  WARNING: The script jupyter-trust.exe is installed in 'c:\\Users\\Aleks\\AppData\\Local\\Programs\\Python\\Python312\\Scripts' which is not on PATH.\n",
      "  Consider adding this directory to PATH or, if you prefer to suppress this warning, use --no-warn-script-location.\n",
      "\n",
      "[notice] A new release of pip is available: 23.2.1 -> 24.0\n",
      "[notice] To update, run: python.exe -m pip install --upgrade pip\n"
     ]
    }
   ],
   "source": [
    "#Downloading libraries\n",
    "\n",
    "%pip install catboost optuna optuna-integration seaborn scikit-learn openpyxl nbformat"
   ]
  },
  {
   "cell_type": "code",
   "execution_count": 47,
   "metadata": {
    "colab": {
     "base_uri": "https://localhost:8080/"
    },
    "id": "MX0D87LbnNKR",
    "outputId": "c7b0cc44-7939-4905-8788-cbe706df2069"
   },
   "outputs": [],
   "source": [
    "# Importing libraries and setting necessery settings\n",
    "\n",
    "import numpy as np\n",
    "import pandas as pd\n",
    "import seaborn as sns\n",
    "import matplotlib.pyplot as plt\n",
    "# import all the required models and methods\n",
    "from sklearn.metrics import mean_absolute_percentage_error\n",
    "from sklearn.model_selection import train_test_split\n",
    "import optuna\n",
    "from optuna.samplers import TPESampler\n",
    "\n",
    "\n",
    "%matplotlib inline\n",
    "plt.style.use(\"seaborn-v0_8\")"
   ]
  },
  {
   "cell_type": "markdown",
   "metadata": {
    "id": "ukEvNLgt-Zgm"
   },
   "source": [
    "# **GBM - CatBoost**"
   ]
  },
  {
   "cell_type": "code",
   "execution_count": 11,
   "metadata": {
    "id": "MhPVSVCq-kJq"
   },
   "outputs": [],
   "source": [
    "# Importing necessary libraries\n",
    "\n",
    "from catboost import CatBoostRegressor, Pool\n",
    "from pandas.api.types import is_numeric_dtype\n",
    "from optuna.integration import CatBoostPruningCallback"
   ]
  },
  {
   "cell_type": "code",
   "execution_count": 14,
   "metadata": {
    "colab": {
     "base_uri": "https://localhost:8080/",
     "height": 287
    },
    "id": "NYcIpbdLO8Cq",
    "outputId": "4216785c-9513-4568-a8c4-3542ec86f652"
   },
   "outputs": [],
   "source": [
    "cat_data = pd.read_excel(\"PRODATA.xlsx\")"
   ]
  },
  {
   "cell_type": "code",
   "execution_count": 15,
   "metadata": {},
   "outputs": [],
   "source": [
    "cat_data = cat_data[(cat_data['trans_date'] > \"2021-01-01\")]"
   ]
  },
  {
   "cell_type": "code",
   "execution_count": 16,
   "metadata": {},
   "outputs": [
    {
     "data": {
      "text/html": [
       "<div>\n",
       "<style scoped>\n",
       "    .dataframe tbody tr th:only-of-type {\n",
       "        vertical-align: middle;\n",
       "    }\n",
       "\n",
       "    .dataframe tbody tr th {\n",
       "        vertical-align: top;\n",
       "    }\n",
       "\n",
       "    .dataframe thead th {\n",
       "        text-align: right;\n",
       "    }\n",
       "</style>\n",
       "<table border=\"1\" class=\"dataframe\">\n",
       "  <thead>\n",
       "    <tr style=\"text-align: right;\">\n",
       "      <th></th>\n",
       "      <th>trans_id</th>\n",
       "      <th>trans_type</th>\n",
       "      <th>trans_date</th>\n",
       "      <th>prop_type</th>\n",
       "      <th>prop_stype</th>\n",
       "      <th>prop_usage</th>\n",
       "      <th>location_id</th>\n",
       "      <th>location_name</th>\n",
       "      <th>capacity</th>\n",
       "      <th>prop_area(sq/m)</th>\n",
       "      <th>sale_price(sq/m)</th>\n",
       "      <th>prop_value</th>\n",
       "    </tr>\n",
       "  </thead>\n",
       "  <tbody>\n",
       "    <tr>\n",
       "      <th>19</th>\n",
       "      <td>2-13-2021-896</td>\n",
       "      <td>Mortgages</td>\n",
       "      <td>2021-01-25</td>\n",
       "      <td>Villa</td>\n",
       "      <td>Villa</td>\n",
       "      <td>Residential</td>\n",
       "      <td>434</td>\n",
       "      <td>Wadi Al Safa 6</td>\n",
       "      <td>2 B/R</td>\n",
       "      <td>180.24</td>\n",
       "      <td>6857.35</td>\n",
       "      <td>1235968</td>\n",
       "    </tr>\n",
       "    <tr>\n",
       "      <th>20</th>\n",
       "      <td>1-102-2022-16814</td>\n",
       "      <td>Sales</td>\n",
       "      <td>2022-06-23</td>\n",
       "      <td>Unit</td>\n",
       "      <td>Flat</td>\n",
       "      <td>Residential</td>\n",
       "      <td>317</td>\n",
       "      <td>Jumeirah First</td>\n",
       "      <td>3 B/R</td>\n",
       "      <td>189.37</td>\n",
       "      <td>25833.36</td>\n",
       "      <td>4892064</td>\n",
       "    </tr>\n",
       "    <tr>\n",
       "      <th>21</th>\n",
       "      <td>2-13-2022-18993</td>\n",
       "      <td>Mortgages</td>\n",
       "      <td>2022-12-05</td>\n",
       "      <td>Villa</td>\n",
       "      <td>Villa</td>\n",
       "      <td>Residential</td>\n",
       "      <td>434</td>\n",
       "      <td>Wadi Al Safa 6</td>\n",
       "      <td>2 B/R</td>\n",
       "      <td>172.18</td>\n",
       "      <td>8363.34</td>\n",
       "      <td>1440000</td>\n",
       "    </tr>\n",
       "    <tr>\n",
       "      <th>22</th>\n",
       "      <td>1-102-2023-4596</td>\n",
       "      <td>Sales</td>\n",
       "      <td>2023-01-30</td>\n",
       "      <td>Unit</td>\n",
       "      <td>Flat</td>\n",
       "      <td>Residential</td>\n",
       "      <td>350</td>\n",
       "      <td>Al Thanyah Fifth</td>\n",
       "      <td>Studio</td>\n",
       "      <td>35.67</td>\n",
       "      <td>15627.05</td>\n",
       "      <td>557417</td>\n",
       "    </tr>\n",
       "    <tr>\n",
       "      <th>30</th>\n",
       "      <td>2-13-2021-12893</td>\n",
       "      <td>Mortgages</td>\n",
       "      <td>2021-10-12</td>\n",
       "      <td>Villa</td>\n",
       "      <td>NaN</td>\n",
       "      <td>Residential</td>\n",
       "      <td>523</td>\n",
       "      <td>Al Hebiah Third</td>\n",
       "      <td>NaN</td>\n",
       "      <td>253.58</td>\n",
       "      <td>6955.40</td>\n",
       "      <td>1763750</td>\n",
       "    </tr>\n",
       "  </tbody>\n",
       "</table>\n",
       "</div>"
      ],
      "text/plain": [
       "            trans_id trans_type trans_date prop_type prop_stype   prop_usage  \\\n",
       "19     2-13-2021-896  Mortgages 2021-01-25     Villa      Villa  Residential   \n",
       "20  1-102-2022-16814      Sales 2022-06-23      Unit       Flat  Residential   \n",
       "21   2-13-2022-18993  Mortgages 2022-12-05     Villa      Villa  Residential   \n",
       "22   1-102-2023-4596      Sales 2023-01-30      Unit       Flat  Residential   \n",
       "30   2-13-2021-12893  Mortgages 2021-10-12     Villa        NaN  Residential   \n",
       "\n",
       "    location_id     location_name capacity  prop_area(sq/m)  sale_price(sq/m)  \\\n",
       "19          434    Wadi Al Safa 6    2 B/R           180.24           6857.35   \n",
       "20          317    Jumeirah First    3 B/R           189.37          25833.36   \n",
       "21          434    Wadi Al Safa 6    2 B/R           172.18           8363.34   \n",
       "22          350  Al Thanyah Fifth   Studio            35.67          15627.05   \n",
       "30          523   Al Hebiah Third      NaN           253.58           6955.40   \n",
       "\n",
       "    prop_value  \n",
       "19     1235968  \n",
       "20     4892064  \n",
       "21     1440000  \n",
       "22      557417  \n",
       "30     1763750  "
      ]
     },
     "execution_count": 16,
     "metadata": {},
     "output_type": "execute_result"
    }
   ],
   "source": [
    "cat_data.head()"
   ]
  },
  {
   "cell_type": "code",
   "execution_count": 17,
   "metadata": {},
   "outputs": [
    {
     "data": {
      "text/html": [
       "<div>\n",
       "<style scoped>\n",
       "    .dataframe tbody tr th:only-of-type {\n",
       "        vertical-align: middle;\n",
       "    }\n",
       "\n",
       "    .dataframe tbody tr th {\n",
       "        vertical-align: top;\n",
       "    }\n",
       "\n",
       "    .dataframe thead th {\n",
       "        text-align: right;\n",
       "    }\n",
       "</style>\n",
       "<table border=\"1\" class=\"dataframe\">\n",
       "  <thead>\n",
       "    <tr style=\"text-align: right;\">\n",
       "      <th></th>\n",
       "      <th>trans_date</th>\n",
       "      <th>location_id</th>\n",
       "      <th>prop_area(sq/m)</th>\n",
       "      <th>sale_price(sq/m)</th>\n",
       "      <th>prop_value</th>\n",
       "    </tr>\n",
       "  </thead>\n",
       "  <tbody>\n",
       "    <tr>\n",
       "      <th>count</th>\n",
       "      <td>303827</td>\n",
       "      <td>303827.000000</td>\n",
       "      <td>3.038270e+05</td>\n",
       "      <td>303827.000000</td>\n",
       "      <td>3.038270e+05</td>\n",
       "    </tr>\n",
       "    <tr>\n",
       "      <th>mean</th>\n",
       "      <td>2022-10-17 22:04:19.323891200</td>\n",
       "      <td>424.149746</td>\n",
       "      <td>2.489818e+02</td>\n",
       "      <td>15226.801663</td>\n",
       "      <td>2.646562e+06</td>\n",
       "    </tr>\n",
       "    <tr>\n",
       "      <th>min</th>\n",
       "      <td>2021-01-04 00:00:00</td>\n",
       "      <td>230.000000</td>\n",
       "      <td>2.800000e-01</td>\n",
       "      <td>0.000000</td>\n",
       "      <td>1.000000e+00</td>\n",
       "    </tr>\n",
       "    <tr>\n",
       "      <th>25%</th>\n",
       "      <td>2022-02-21 00:00:00</td>\n",
       "      <td>364.000000</td>\n",
       "      <td>6.649000e+01</td>\n",
       "      <td>8330.070000</td>\n",
       "      <td>7.450000e+05</td>\n",
       "    </tr>\n",
       "    <tr>\n",
       "      <th>50%</th>\n",
       "      <td>2022-12-05 00:00:00</td>\n",
       "      <td>441.000000</td>\n",
       "      <td>1.008700e+02</td>\n",
       "      <td>12433.170000</td>\n",
       "      <td>1.380000e+06</td>\n",
       "    </tr>\n",
       "    <tr>\n",
       "      <th>75%</th>\n",
       "      <td>2023-07-14 00:00:00</td>\n",
       "      <td>467.000000</td>\n",
       "      <td>1.709900e+02</td>\n",
       "      <td>19542.630000</td>\n",
       "      <td>2.400000e+06</td>\n",
       "    </tr>\n",
       "    <tr>\n",
       "      <th>max</th>\n",
       "      <td>2024-01-23 00:00:00</td>\n",
       "      <td>531.000000</td>\n",
       "      <td>4.508390e+06</td>\n",
       "      <td>674778.760000</td>\n",
       "      <td>2.400000e+09</td>\n",
       "    </tr>\n",
       "    <tr>\n",
       "      <th>std</th>\n",
       "      <td>NaN</td>\n",
       "      <td>65.090220</td>\n",
       "      <td>8.939807e+03</td>\n",
       "      <td>11065.180611</td>\n",
       "      <td>1.542924e+07</td>\n",
       "    </tr>\n",
       "  </tbody>\n",
       "</table>\n",
       "</div>"
      ],
      "text/plain": [
       "                          trans_date    location_id  prop_area(sq/m)  \\\n",
       "count                         303827  303827.000000     3.038270e+05   \n",
       "mean   2022-10-17 22:04:19.323891200     424.149746     2.489818e+02   \n",
       "min              2021-01-04 00:00:00     230.000000     2.800000e-01   \n",
       "25%              2022-02-21 00:00:00     364.000000     6.649000e+01   \n",
       "50%              2022-12-05 00:00:00     441.000000     1.008700e+02   \n",
       "75%              2023-07-14 00:00:00     467.000000     1.709900e+02   \n",
       "max              2024-01-23 00:00:00     531.000000     4.508390e+06   \n",
       "std                              NaN      65.090220     8.939807e+03   \n",
       "\n",
       "       sale_price(sq/m)    prop_value  \n",
       "count     303827.000000  3.038270e+05  \n",
       "mean       15226.801663  2.646562e+06  \n",
       "min            0.000000  1.000000e+00  \n",
       "25%         8330.070000  7.450000e+05  \n",
       "50%        12433.170000  1.380000e+06  \n",
       "75%        19542.630000  2.400000e+06  \n",
       "max       674778.760000  2.400000e+09  \n",
       "std        11065.180611  1.542924e+07  "
      ]
     },
     "execution_count": 17,
     "metadata": {},
     "output_type": "execute_result"
    }
   ],
   "source": [
    "cat_data.describe()"
   ]
  },
  {
   "cell_type": "code",
   "execution_count": 20,
   "metadata": {
    "colab": {
     "base_uri": "https://localhost:8080/"
    },
    "id": "jvdmqyUXPDzf",
    "outputId": "5d117f85-eb42-4c10-c442-be58f039020e"
   },
   "outputs": [
    {
     "name": "stdout",
     "output_type": "stream",
     "text": [
      "<class 'pandas.core.frame.DataFrame'>\n",
      "Index: 275230 entries, 19 to 958498\n",
      "Data columns (total 12 columns):\n",
      " #   Column            Non-Null Count   Dtype         \n",
      "---  ------            --------------   -----         \n",
      " 0   trans_id          275230 non-null  object        \n",
      " 1   trans_type        275230 non-null  object        \n",
      " 2   trans_date        275230 non-null  datetime64[ns]\n",
      " 3   prop_type         275230 non-null  object        \n",
      " 4   prop_stype        275230 non-null  object        \n",
      " 5   prop_usage        275230 non-null  object        \n",
      " 6   location_id       275230 non-null  int64         \n",
      " 7   location_name     275230 non-null  object        \n",
      " 8   capacity          275230 non-null  object        \n",
      " 9   prop_area(sq/m)   275230 non-null  float64       \n",
      " 10  sale_price(sq/m)  275230 non-null  float64       \n",
      " 11  prop_value        275230 non-null  int64         \n",
      "dtypes: datetime64[ns](1), float64(2), int64(2), object(7)\n",
      "memory usage: 27.3+ MB\n"
     ]
    }
   ],
   "source": [
    "# For further simplicity the target row should be the last\n",
    "\n",
    "cat_data.info()"
   ]
  },
  {
   "cell_type": "code",
   "execution_count": 19,
   "metadata": {},
   "outputs": [],
   "source": [
    "cat_data.dropna(inplace=True)\n"
   ]
  },
  {
   "cell_type": "code",
   "execution_count": 32,
   "metadata": {},
   "outputs": [],
   "source": [
    "cat_data.drop([\"trans_date\", \"trans_id\", \"location_name\"], axis = 1, inplace = True)"
   ]
  },
  {
   "cell_type": "code",
   "execution_count": 34,
   "metadata": {
    "id": "EOFqe4WFPdRR"
   },
   "outputs": [],
   "source": [
    "# Getting categorical feature indecies\n",
    "\n",
    "def get_categorical_indicies(X):\n",
    "    cats = []\n",
    "    for col in X.columns:\n",
    "        if is_numeric_dtype(X[col]):\n",
    "            pass\n",
    "        else:\n",
    "            cats.append(col)\n",
    "    cat_indicies = []\n",
    "    for col in cats:\n",
    "        cat_indicies.append(X.columns.get_loc(col))\n",
    "    return cat_indicies\n",
    "\n",
    "\n",
    "def convert_cats(X):\n",
    "    for col in categorical_indicies:\n",
    "        X[col] = X[col].astype('category')\n",
    "\n",
    "\n",
    "categorical_indicies = get_categorical_indicies(cat_data)\n",
    "# Попробовать без неё convert_cats(cat_data)"
   ]
  },
  {
   "cell_type": "code",
   "execution_count": 33,
   "metadata": {
    "colab": {
     "base_uri": "https://localhost:8080/"
    },
    "id": "GS6bUsL_Pt3d",
    "outputId": "91518088-ec38-4b73-a874-9ae7c8f387b8"
   },
   "outputs": [
    {
     "name": "stdout",
     "output_type": "stream",
     "text": [
      "<class 'pandas.core.frame.DataFrame'>\n",
      "Index: 275230 entries, 19 to 958498\n",
      "Data columns (total 9 columns):\n",
      " #   Column            Non-Null Count   Dtype  \n",
      "---  ------            --------------   -----  \n",
      " 0   trans_type        275230 non-null  object \n",
      " 1   prop_type         275230 non-null  object \n",
      " 2   prop_stype        275230 non-null  object \n",
      " 3   prop_usage        275230 non-null  object \n",
      " 4   location_id       275230 non-null  int64  \n",
      " 5   capacity          275230 non-null  object \n",
      " 6   prop_area(sq/m)   275230 non-null  float64\n",
      " 7   sale_price(sq/m)  275230 non-null  float64\n",
      " 8   prop_value        275230 non-null  int64  \n",
      "dtypes: float64(2), int64(2), object(5)\n",
      "memory usage: 21.0+ MB\n"
     ]
    }
   ],
   "source": [
    "cat_data.info()"
   ]
  },
  {
   "cell_type": "code",
   "execution_count": 35,
   "metadata": {},
   "outputs": [],
   "source": [
    "training_set, validation_set = train_test_split(cat_data, test_size=0.1, random_state=777)"
   ]
  },
  {
   "cell_type": "code",
   "execution_count": 36,
   "metadata": {
    "id": "1McCCH0aP7xN"
   },
   "outputs": [],
   "source": [
    "target = \"prop_value\"\n",
    "cat_features = [col for col in cat_data.columns if col != target]"
   ]
  },
  {
   "cell_type": "code",
   "execution_count": 38,
   "metadata": {
    "colab": {
     "base_uri": "https://localhost:8080/"
    },
    "id": "O6cDijIJea2M",
    "outputId": "d32748c0-e673-4de5-e22a-bdc1d40925f4"
   },
   "outputs": [
    {
     "name": "stderr",
     "output_type": "stream",
     "text": [
      "c:\\Users\\Aleks\\AppData\\Local\\Programs\\Python\\Python312\\Lib\\site-packages\\optuna\\samplers\\_tpe\\sampler.py:319: ExperimentalWarning: ``multivariate`` option is an experimental feature. The interface can change in the future.\n",
      "  warnings.warn(\n",
      "c:\\Users\\Aleks\\AppData\\Local\\Programs\\Python\\Python312\\Lib\\site-packages\\optuna\\samplers\\_tpe\\sampler.py:330: ExperimentalWarning: ``group`` option is an experimental feature. The interface can change in the future.\n",
      "  warnings.warn(\n",
      "[I 2024-05-08 01:39:59,676] A new study created in memory with name: catboost\n"
     ]
    },
    {
     "name": "stderr",
     "output_type": "stream",
     "text": [
      "C:\\Users\\Aleks\\AppData\\Local\\Temp\\ipykernel_8604\\859435403.py:46: ExperimentalWarning: CatBoostPruningCallback is experimental (supported from v3.0.0). The interface can change in the future.\n",
      "  pruning_callback = CatBoostPruningCallback(trial, \"MAPE\")\n",
      "[I 2024-05-08 01:40:09,886] Trial 0 finished with value: 0.44573425431744024 and parameters: {'n_estimators': 161, 'learning_rate': 0.3023566097075212, 'depth': 4, 'l2_leaf_reg': 4.598603416089688, 'od_wait': 23, 'border_count': 471, 'random_strength': 7.269889843190701, 'bootstrap_type': 'Bayesian', 'grow_policy': 'Depthwise', 'bagging_temperature': 5.896137534558643, 'min_data_in_leaf': 172}. Best is trial 0 with value: 0.44573425431744024.\n",
      "C:\\Users\\Aleks\\AppData\\Local\\Temp\\ipykernel_8604\\859435403.py:46: ExperimentalWarning: CatBoostPruningCallback is experimental (supported from v3.0.0). The interface can change in the future.\n",
      "  pruning_callback = CatBoostPruningCallback(trial, \"MAPE\")\n",
      "[I 2024-05-08 01:40:39,521] Trial 1 finished with value: 0.31325194663775785 and parameters: {'n_estimators': 496, 'learning_rate': 0.626473206229759, 'depth': 10, 'l2_leaf_reg': 5.522568137371598, 'od_wait': 14, 'border_count': 249, 'random_strength': 2.229280989962561, 'bootstrap_type': 'Bernoulli', 'grow_policy': 'SymmetricTree', 'subsample': 0.6601049418885235}. Best is trial 1 with value: 0.31325194663775785.\n",
      "C:\\Users\\Aleks\\AppData\\Local\\Temp\\ipykernel_8604\\859435403.py:46: ExperimentalWarning: CatBoostPruningCallback is experimental (supported from v3.0.0). The interface can change in the future.\n",
      "  pruning_callback = CatBoostPruningCallback(trial, \"MAPE\")\n",
      "[I 2024-05-08 01:41:14,011] Trial 2 finished with value: 0.1923539626301527 and parameters: {'n_estimators': 201, 'learning_rate': 0.17993030672813215, 'depth': 11, 'l2_leaf_reg': 2.2537162067885674, 'od_wait': 18, 'border_count': 307, 'random_strength': 6.003749356628742, 'bootstrap_type': 'Bayesian', 'grow_policy': 'Depthwise', 'bagging_temperature': 1.228516961349656, 'min_data_in_leaf': 148}. Best is trial 2 with value: 0.1923539626301527.\n",
      "C:\\Users\\Aleks\\AppData\\Local\\Temp\\ipykernel_8604\\859435403.py:46: ExperimentalWarning: CatBoostPruningCallback is experimental (supported from v3.0.0). The interface can change in the future.\n",
      "  pruning_callback = CatBoostPruningCallback(trial, \"MAPE\")\n",
      "[I 2024-05-08 01:41:46,479] Trial 3 finished with value: 0.3804503000272274 and parameters: {'n_estimators': 345, 'learning_rate': 0.7261381221193408, 'depth': 8, 'l2_leaf_reg': 7.691103672226161, 'od_wait': 13, 'border_count': 323, 'random_strength': 5.50778157101194, 'bootstrap_type': 'Bernoulli', 'grow_policy': 'Depthwise', 'subsample': 0.409788004370225, 'min_data_in_leaf': 225}. Best is trial 2 with value: 0.1923539626301527.\n",
      "C:\\Users\\Aleks\\AppData\\Local\\Temp\\ipykernel_8604\\859435403.py:46: ExperimentalWarning: CatBoostPruningCallback is experimental (supported from v3.0.0). The interface can change in the future.\n",
      "  pruning_callback = CatBoostPruningCallback(trial, \"MAPE\")\n",
      "[I 2024-05-08 01:41:58,994] Trial 4 finished with value: 0.2970609810741265 and parameters: {'n_estimators': 110, 'learning_rate': 0.4152476898098848, 'depth': 12, 'l2_leaf_reg': 0.9120557080741232, 'od_wait': 15, 'border_count': 311, 'random_strength': 3.2806203071203157, 'bootstrap_type': 'Bayesian', 'grow_policy': 'SymmetricTree', 'bagging_temperature': 4.243219898452257}. Best is trial 2 with value: 0.1923539626301527.\n",
      "C:\\Users\\Aleks\\AppData\\Local\\Temp\\ipykernel_8604\\859435403.py:46: ExperimentalWarning: CatBoostPruningCallback is experimental (supported from v3.0.0). The interface can change in the future.\n",
      "  pruning_callback = CatBoostPruningCallback(trial, \"MAPE\")\n",
      "[I 2024-05-08 01:41:59,695] Trial 5 pruned. Trial was pruned at iteration 0.\n",
      "[I 2024-05-08 01:42:00,434] Trial 6 pruned. Trial was pruned at iteration 0.\n",
      "[I 2024-05-08 01:42:01,346] Trial 7 pruned. Trial was pruned at iteration 2.\n",
      "[I 2024-05-08 01:42:02,962] Trial 8 pruned. Trial was pruned at iteration 5.\n",
      "[I 2024-05-08 01:42:06,792] Trial 9 pruned. Trial was pruned at iteration 21.\n",
      "[I 2024-05-08 01:42:07,676] Trial 10 pruned. Trial was pruned at iteration 0.\n",
      "[I 2024-05-08 01:42:08,408] Trial 11 pruned. Trial was pruned at iteration 0.\n",
      "[I 2024-05-08 01:42:09,467] Trial 12 pruned. Trial was pruned at iteration 5.\n",
      "[I 2024-05-08 01:42:30,399] Trial 13 finished with value: 0.12990407333752463 and parameters: {'n_estimators': 153, 'learning_rate': 0.1523639476459231, 'depth': 12, 'l2_leaf_reg': 3.6478802698132933, 'od_wait': 20, 'border_count': 217, 'random_strength': 0.2688212455565311, 'bootstrap_type': 'Bayesian', 'grow_policy': 'SymmetricTree', 'bagging_temperature': 9.014036856436508}. Best is trial 13 with value: 0.12990407333752463.\n",
      "C:\\Users\\Aleks\\AppData\\Local\\Temp\\ipykernel_8604\\859435403.py:46: ExperimentalWarning: CatBoostPruningCallback is experimental (supported from v3.0.0). The interface can change in the future.\n",
      "  pruning_callback = CatBoostPruningCallback(trial, \"MAPE\")\n",
      "[I 2024-05-08 01:42:31,377] Trial 14 pruned. Trial was pruned at iteration 0.\n",
      "[I 2024-05-08 01:42:32,389] Trial 15 pruned. Trial was pruned at iteration 0.\n",
      "[I 2024-05-08 01:42:33,343] Trial 16 pruned. Trial was pruned at iteration 0.\n",
      "[I 2024-05-08 01:42:34,197] Trial 17 pruned. Trial was pruned at iteration 0.\n",
      "[I 2024-05-08 01:42:37,331] Trial 18 pruned. Trial was pruned at iteration 12.\n",
      "[I 2024-05-08 01:42:38,242] Trial 19 pruned. Trial was pruned at iteration 0.\n",
      "[I 2024-05-08 01:42:59,354] Trial 20 finished with value: 0.15121286497097775 and parameters: {'n_estimators': 135, 'learning_rate': 0.1537519327561497, 'depth': 8, 'l2_leaf_reg': 1.2822175353741807, 'od_wait': 19, 'border_count': 333, 'random_strength': 6.040403278599362, 'bootstrap_type': 'Bayesian', 'grow_policy': 'Depthwise', 'bagging_temperature': 9.987073306041054, 'min_data_in_leaf': 317}. Best is trial 13 with value: 0.12990407333752463.\n",
      "C:\\Users\\Aleks\\AppData\\Local\\Temp\\ipykernel_8604\\859435403.py:46: ExperimentalWarning: CatBoostPruningCallback is experimental (supported from v3.0.0). The interface can change in the future.\n",
      "  pruning_callback = CatBoostPruningCallback(trial, \"MAPE\")\n",
      "[I 2024-05-08 01:43:00,236] Trial 21 pruned. Trial was pruned at iteration 0.\n",
      "[I 2024-05-08 01:43:01,219] Trial 22 pruned. Trial was pruned at iteration 0.\n",
      "[I 2024-05-08 01:43:02,005] Trial 23 pruned. Trial was pruned at iteration 0.\n",
      "[I 2024-05-08 01:43:02,887] Trial 24 pruned. Trial was pruned at iteration 0.\n",
      "[I 2024-05-08 01:43:03,877] Trial 25 pruned. Trial was pruned at iteration 4.\n",
      "[I 2024-05-08 01:43:17,446] Trial 26 finished with value: 0.22576668957663523 and parameters: {'n_estimators': 144, 'learning_rate': 0.5889529344613407, 'depth': 9, 'l2_leaf_reg': 2.1689869422107373, 'od_wait': 24, 'border_count': 186, 'random_strength': 1.4757301411192385, 'bootstrap_type': 'Bayesian', 'grow_policy': 'SymmetricTree', 'bagging_temperature': 9.756866720834928}. Best is trial 13 with value: 0.12990407333752463.\n",
      "C:\\Users\\Aleks\\AppData\\Local\\Temp\\ipykernel_8604\\859435403.py:46: ExperimentalWarning: CatBoostPruningCallback is experimental (supported from v3.0.0). The interface can change in the future.\n",
      "  pruning_callback = CatBoostPruningCallback(trial, \"MAPE\")\n",
      "[I 2024-05-08 01:43:18,257] Trial 27 pruned. Trial was pruned at iteration 0.\n",
      "[I 2024-05-08 01:43:19,081] Trial 28 pruned. Trial was pruned at iteration 0.\n",
      "[I 2024-05-08 01:43:20,398] Trial 29 pruned. Trial was pruned at iteration 3.\n",
      "[I 2024-05-08 01:43:21,080] Trial 30 pruned. Trial was pruned at iteration 0.\n",
      "[I 2024-05-08 01:43:32,031] Trial 31 pruned. Trial was pruned at iteration 122.\n",
      "[I 2024-05-08 01:43:33,173] Trial 32 pruned. Trial was pruned at iteration 5.\n",
      "[I 2024-05-08 01:44:34,901] Trial 33 finished with value: 0.0967718003435825 and parameters: {'n_estimators': 285, 'learning_rate': 0.2934667999857045, 'depth': 11, 'l2_leaf_reg': 2.698003676918142, 'od_wait': 17, 'border_count': 294, 'random_strength': 7.541548374874541, 'bootstrap_type': 'Bayesian', 'grow_policy': 'Depthwise', 'bagging_temperature': 9.911277411849381, 'min_data_in_leaf': 235}. Best is trial 33 with value: 0.0967718003435825.\n",
      "C:\\Users\\Aleks\\AppData\\Local\\Temp\\ipykernel_8604\\859435403.py:46: ExperimentalWarning: CatBoostPruningCallback is experimental (supported from v3.0.0). The interface can change in the future.\n",
      "  pruning_callback = CatBoostPruningCallback(trial, \"MAPE\")\n",
      "[I 2024-05-08 01:45:48,943] Trial 34 finished with value: 0.10418792477358048 and parameters: {'n_estimators': 380, 'learning_rate': 0.27873164046780347, 'depth': 10, 'l2_leaf_reg': 3.670455508035167, 'od_wait': 17, 'border_count': 193, 'random_strength': 8.530006749197774, 'bootstrap_type': 'Bayesian', 'grow_policy': 'Depthwise', 'bagging_temperature': 9.8344912810759, 'min_data_in_leaf': 223}. Best is trial 33 with value: 0.0967718003435825.\n",
      "C:\\Users\\Aleks\\AppData\\Local\\Temp\\ipykernel_8604\\859435403.py:46: ExperimentalWarning: CatBoostPruningCallback is experimental (supported from v3.0.0). The interface can change in the future.\n",
      "  pruning_callback = CatBoostPruningCallback(trial, \"MAPE\")\n",
      "[I 2024-05-08 01:46:27,182] Trial 35 pruned. Trial was pruned at iteration 201.\n",
      "[I 2024-05-08 01:47:11,432] Trial 36 pruned. Trial was pruned at iteration 201.\n",
      "[I 2024-05-08 01:47:14,133] Trial 37 pruned. Trial was pruned at iteration 7.\n",
      "[I 2024-05-08 01:47:30,292] Trial 38 finished with value: 0.13708221040718185 and parameters: {'n_estimators': 107, 'learning_rate': 0.2583711508816783, 'depth': 12, 'l2_leaf_reg': 2.385352477188939, 'od_wait': 22, 'border_count': 234, 'random_strength': 0.6609769793551182, 'bootstrap_type': 'Bayesian', 'grow_policy': 'SymmetricTree', 'bagging_temperature': 9.864930915569468}. Best is trial 33 with value: 0.0967718003435825.\n",
      "C:\\Users\\Aleks\\AppData\\Local\\Temp\\ipykernel_8604\\859435403.py:46: ExperimentalWarning: CatBoostPruningCallback is experimental (supported from v3.0.0). The interface can change in the future.\n",
      "  pruning_callback = CatBoostPruningCallback(trial, \"MAPE\")\n",
      "[I 2024-05-08 01:48:12,225] Trial 39 finished with value: 0.1327470550306914 and parameters: {'n_estimators': 136, 'learning_rate': 0.2306514034264288, 'depth': 12, 'l2_leaf_reg': 3.760155483398436, 'od_wait': 19, 'border_count': 233, 'random_strength': 0.9151394058470198, 'bootstrap_type': 'Bayesian', 'grow_policy': 'Depthwise', 'bagging_temperature': 8.096631895075989, 'min_data_in_leaf': 178}. Best is trial 33 with value: 0.0967718003435825.\n",
      "C:\\Users\\Aleks\\AppData\\Local\\Temp\\ipykernel_8604\\859435403.py:46: ExperimentalWarning: CatBoostPruningCallback is experimental (supported from v3.0.0). The interface can change in the future.\n",
      "  pruning_callback = CatBoostPruningCallback(trial, \"MAPE\")\n",
      "[I 2024-05-08 01:49:07,419] Trial 40 finished with value: 0.10064331461907569 and parameters: {'n_estimators': 226, 'learning_rate': 0.2554394812697451, 'depth': 11, 'l2_leaf_reg': 4.414198756950219, 'od_wait': 17, 'border_count': 288, 'random_strength': 0.09339998170420893, 'bootstrap_type': 'Bayesian', 'grow_policy': 'Depthwise', 'bagging_temperature': 7.64697249569321, 'min_data_in_leaf': 188}. Best is trial 33 with value: 0.0967718003435825.\n",
      "C:\\Users\\Aleks\\AppData\\Local\\Temp\\ipykernel_8604\\859435403.py:46: ExperimentalWarning: CatBoostPruningCallback is experimental (supported from v3.0.0). The interface can change in the future.\n",
      "  pruning_callback = CatBoostPruningCallback(trial, \"MAPE\")\n",
      "[I 2024-05-08 01:49:10,314] Trial 41 pruned. Trial was pruned at iteration 8.\n",
      "[I 2024-05-08 01:50:09,231] Trial 42 finished with value: 0.09606316115412764 and parameters: {'n_estimators': 243, 'learning_rate': 0.26702716130652354, 'depth': 12, 'l2_leaf_reg': 4.795720556739125, 'od_wait': 18, 'border_count': 359, 'random_strength': 0.3217128884812821, 'bootstrap_type': 'Bayesian', 'grow_policy': 'Depthwise', 'bagging_temperature': 7.412643687048379, 'min_data_in_leaf': 191}. Best is trial 42 with value: 0.09606316115412764.\n",
      "C:\\Users\\Aleks\\AppData\\Local\\Temp\\ipykernel_8604\\859435403.py:46: ExperimentalWarning: CatBoostPruningCallback is experimental (supported from v3.0.0). The interface can change in the future.\n",
      "  pruning_callback = CatBoostPruningCallback(trial, \"MAPE\")\n",
      "[I 2024-05-08 01:50:10,164] Trial 43 pruned. Trial was pruned at iteration 0.\n",
      "[I 2024-05-08 01:50:11,645] Trial 44 pruned. Trial was pruned at iteration 3.\n",
      "[I 2024-05-08 01:50:13,073] Trial 45 pruned. Trial was pruned at iteration 4.\n",
      "[I 2024-05-08 01:50:14,058] Trial 46 pruned. Trial was pruned at iteration 0.\n",
      "[I 2024-05-08 01:50:14,926] Trial 47 pruned. Trial was pruned at iteration 0.\n",
      "[I 2024-05-08 01:50:15,753] Trial 48 pruned. Trial was pruned at iteration 0.\n",
      "[I 2024-05-08 01:50:17,245] Trial 49 pruned. Trial was pruned at iteration 6.\n",
      "[I 2024-05-08 01:50:18,089] Trial 50 pruned. Trial was pruned at iteration 0.\n",
      "[I 2024-05-08 01:50:20,105] Trial 51 pruned. Trial was pruned at iteration 6.\n",
      "[I 2024-05-08 01:50:21,080] Trial 52 pruned. Trial was pruned at iteration 0.\n",
      "[I 2024-05-08 01:50:23,180] Trial 53 pruned. Trial was pruned at iteration 6.\n",
      "[I 2024-05-08 01:50:24,281] Trial 54 pruned. Trial was pruned at iteration 1.\n",
      "[I 2024-05-08 01:50:25,268] Trial 55 pruned. Trial was pruned at iteration 0.\n",
      "[I 2024-05-08 01:50:26,132] Trial 56 pruned. Trial was pruned at iteration 0.\n",
      "[I 2024-05-08 01:50:27,324] Trial 57 pruned. Trial was pruned at iteration 2.\n",
      "[I 2024-05-08 01:50:43,325] Trial 58 pruned. Trial was pruned at iteration 68.\n",
      "[I 2024-05-08 01:50:44,233] Trial 59 pruned. Trial was pruned at iteration 0.\n",
      "[I 2024-05-08 01:50:45,262] Trial 60 pruned. Trial was pruned at iteration 0.\n",
      "[I 2024-05-08 01:50:45,982] Trial 61 pruned. Trial was pruned at iteration 0.\n",
      "[I 2024-05-08 01:51:04,437] Trial 62 finished with value: 0.14638629223328806 and parameters: {'n_estimators': 124, 'learning_rate': 0.3203511901253876, 'depth': 12, 'l2_leaf_reg': 4.078678438980133, 'od_wait': 23, 'border_count': 246, 'random_strength': 1.3622501790884343, 'bootstrap_type': 'Bayesian', 'grow_policy': 'SymmetricTree', 'bagging_temperature': 9.951184484014943}. Best is trial 42 with value: 0.09606316115412764.\n",
      "C:\\Users\\Aleks\\AppData\\Local\\Temp\\ipykernel_8604\\859435403.py:46: ExperimentalWarning: CatBoostPruningCallback is experimental (supported from v3.0.0). The interface can change in the future.\n",
      "  pruning_callback = CatBoostPruningCallback(trial, \"MAPE\")\n",
      "[I 2024-05-08 01:51:05,431] Trial 63 pruned. Trial was pruned at iteration 0.\n",
      "[I 2024-05-08 01:51:06,364] Trial 64 pruned. Trial was pruned at iteration 0.\n",
      "[I 2024-05-08 01:51:07,147] Trial 65 pruned. Trial was pruned at iteration 0.\n",
      "[I 2024-05-08 01:51:08,068] Trial 66 pruned. Trial was pruned at iteration 2.\n",
      "[I 2024-05-08 01:51:08,775] Trial 67 pruned. Trial was pruned at iteration 0.\n",
      "[I 2024-05-08 01:51:09,986] Trial 68 pruned. Trial was pruned at iteration 2.\n",
      "[I 2024-05-08 01:51:21,189] Trial 69 pruned. Trial was pruned at iteration 66.\n",
      "[I 2024-05-08 01:51:22,217] Trial 70 pruned. Trial was pruned at iteration 0.\n",
      "[I 2024-05-08 01:51:23,017] Trial 71 pruned. Trial was pruned at iteration 0.\n",
      "[I 2024-05-08 01:51:30,676] Trial 72 pruned. Trial was pruned at iteration 58.\n",
      "[I 2024-05-08 01:51:31,594] Trial 73 pruned. Trial was pruned at iteration 0.\n",
      "[I 2024-05-08 01:51:32,462] Trial 74 pruned. Trial was pruned at iteration 0.\n",
      "[I 2024-05-08 01:51:33,649] Trial 75 pruned. Trial was pruned at iteration 3.\n",
      "[I 2024-05-08 01:51:34,673] Trial 76 pruned. Trial was pruned at iteration 2.\n",
      "[I 2024-05-08 01:51:35,824] Trial 77 pruned. Trial was pruned at iteration 0.\n",
      "[I 2024-05-08 01:52:24,327] Trial 78 pruned. Trial was pruned at iteration 188.\n",
      "[I 2024-05-08 01:52:27,571] Trial 79 pruned. Trial was pruned at iteration 31.\n",
      "[I 2024-05-08 01:52:28,480] Trial 80 pruned. Trial was pruned at iteration 0.\n",
      "[I 2024-05-08 01:52:47,729] Trial 81 pruned. Trial was pruned at iteration 91.\n",
      "[I 2024-05-08 01:52:50,609] Trial 82 pruned. Trial was pruned at iteration 17.\n",
      "[I 2024-05-08 01:52:55,482] Trial 83 pruned. Trial was pruned at iteration 16.\n",
      "[I 2024-05-08 01:52:56,294] Trial 84 pruned. Trial was pruned at iteration 0.\n",
      "[I 2024-05-08 01:52:57,100] Trial 85 pruned. Trial was pruned at iteration 0.\n",
      "[I 2024-05-08 01:52:58,374] Trial 86 pruned. Trial was pruned at iteration 4.\n",
      "[I 2024-05-08 01:52:59,131] Trial 87 pruned. Trial was pruned at iteration 0.\n",
      "[I 2024-05-08 01:53:36,974] Trial 88 pruned. Trial was pruned at iteration 135.\n",
      "[I 2024-05-08 01:53:37,784] Trial 89 pruned. Trial was pruned at iteration 0.\n",
      "[I 2024-05-08 01:53:38,896] Trial 90 pruned. Trial was pruned at iteration 1.\n",
      "[I 2024-05-08 01:53:39,979] Trial 91 pruned. Trial was pruned at iteration 1.\n",
      "[I 2024-05-08 01:53:40,754] Trial 92 pruned. Trial was pruned at iteration 0.\n",
      "[I 2024-05-08 01:53:41,549] Trial 93 pruned. Trial was pruned at iteration 0.\n",
      "[I 2024-05-08 01:54:46,016] Trial 94 finished with value: 0.08669020046935776 and parameters: {'n_estimators': 236, 'learning_rate': 0.26238916853480065, 'depth': 12, 'l2_leaf_reg': 8.330263653741417, 'od_wait': 18, 'border_count': 330, 'random_strength': 0.3310263450567085, 'bootstrap_type': 'Bayesian', 'grow_policy': 'Depthwise', 'bagging_temperature': 8.663707807805357, 'min_data_in_leaf': 168}. Best is trial 94 with value: 0.08669020046935776.\n",
      "C:\\Users\\Aleks\\AppData\\Local\\Temp\\ipykernel_8604\\859435403.py:46: ExperimentalWarning: CatBoostPruningCallback is experimental (supported from v3.0.0). The interface can change in the future.\n",
      "  pruning_callback = CatBoostPruningCallback(trial, \"MAPE\")\n",
      "[I 2024-05-08 01:54:48,404] Trial 95 pruned. Trial was pruned at iteration 6.\n",
      "[I 2024-05-08 01:54:49,501] Trial 96 pruned. Trial was pruned at iteration 0.\n",
      "[I 2024-05-08 01:54:50,472] Trial 97 pruned. Trial was pruned at iteration 0.\n",
      "[I 2024-05-08 01:54:51,485] Trial 98 pruned. Trial was pruned at iteration 1.\n",
      "[I 2024-05-08 01:54:52,309] Trial 99 pruned. Trial was pruned at iteration 0.\n",
      "[I 2024-05-08 01:54:53,222] Trial 100 pruned. Trial was pruned at iteration 0.\n",
      "[I 2024-05-08 01:54:54,056] Trial 101 pruned. Trial was pruned at iteration 0.\n",
      "[I 2024-05-08 01:54:55,100] Trial 102 pruned. Trial was pruned at iteration 0.\n",
      "[I 2024-05-08 01:54:57,029] Trial 103 pruned. Trial was pruned at iteration 5.\n",
      "[I 2024-05-08 01:55:03,746] Trial 104 pruned. Trial was pruned at iteration 67.\n",
      "[I 2024-05-08 01:55:04,723] Trial 105 pruned. Trial was pruned at iteration 0.\n",
      "[I 2024-05-08 01:55:07,866] Trial 106 pruned. Trial was pruned at iteration 22.\n",
      "[I 2024-05-08 01:55:08,945] Trial 107 pruned. Trial was pruned at iteration 1.\n",
      "[I 2024-05-08 01:55:10,146] Trial 108 pruned. Trial was pruned at iteration 2.\n",
      "[I 2024-05-08 01:55:11,133] Trial 109 pruned. Trial was pruned at iteration 1.\n",
      "[I 2024-05-08 01:55:12,272] Trial 110 pruned. Trial was pruned at iteration 3.\n",
      "[I 2024-05-08 01:55:16,942] Trial 111 pruned. Trial was pruned at iteration 22.\n",
      "[I 2024-05-08 01:55:19,717] Trial 112 pruned. Trial was pruned at iteration 25.\n",
      "[I 2024-05-08 01:55:20,617] Trial 113 pruned. Trial was pruned at iteration 0.\n",
      "[I 2024-05-08 01:55:21,508] Trial 114 pruned. Trial was pruned at iteration 0.\n",
      "[I 2024-05-08 01:55:22,438] Trial 115 pruned. Trial was pruned at iteration 3.\n",
      "[I 2024-05-08 01:56:07,851] Trial 116 finished with value: 0.09527976422901176 and parameters: {'n_estimators': 143, 'learning_rate': 0.2879108158262327, 'depth': 12, 'l2_leaf_reg': 4.174514265635646, 'od_wait': 20, 'border_count': 367, 'random_strength': 1.1662358925882055, 'bootstrap_type': 'Bayesian', 'grow_policy': 'Depthwise', 'bagging_temperature': 9.985819159361096, 'min_data_in_leaf': 161}. Best is trial 94 with value: 0.08669020046935776.\n",
      "C:\\Users\\Aleks\\AppData\\Local\\Temp\\ipykernel_8604\\859435403.py:46: ExperimentalWarning: CatBoostPruningCallback is experimental (supported from v3.0.0). The interface can change in the future.\n",
      "  pruning_callback = CatBoostPruningCallback(trial, \"MAPE\")\n",
      "[I 2024-05-08 01:56:08,872] Trial 117 pruned. Trial was pruned at iteration 0.\n",
      "[I 2024-05-08 01:57:14,508] Trial 118 pruned. Trial was pruned at iteration 188.\n",
      "[I 2024-05-08 01:57:15,351] Trial 119 pruned. Trial was pruned at iteration 0.\n",
      "[I 2024-05-08 01:57:17,415] Trial 120 pruned. Trial was pruned at iteration 4.\n",
      "[I 2024-05-08 01:58:07,098] Trial 121 finished with value: 0.10569945141994165 and parameters: {'n_estimators': 187, 'learning_rate': 0.4135738124044074, 'depth': 11, 'l2_leaf_reg': 4.401139925053949, 'od_wait': 19, 'border_count': 317, 'random_strength': 1.077358885121901, 'bootstrap_type': 'Bayesian', 'grow_policy': 'Depthwise', 'bagging_temperature': 9.976941278516367, 'min_data_in_leaf': 244}. Best is trial 94 with value: 0.08669020046935776.\n",
      "C:\\Users\\Aleks\\AppData\\Local\\Temp\\ipykernel_8604\\859435403.py:46: ExperimentalWarning: CatBoostPruningCallback is experimental (supported from v3.0.0). The interface can change in the future.\n",
      "  pruning_callback = CatBoostPruningCallback(trial, \"MAPE\")\n",
      "[I 2024-05-08 01:58:45,410] Trial 122 pruned. Trial was pruned at iteration 170.\n",
      "[I 2024-05-08 01:58:46,511] Trial 123 pruned. Trial was pruned at iteration 0.\n",
      "[I 2024-05-08 01:59:35,802] Trial 124 finished with value: 0.09343713718816066 and parameters: {'n_estimators': 171, 'learning_rate': 0.37099974343510955, 'depth': 12, 'l2_leaf_reg': 5.8412572981827, 'od_wait': 19, 'border_count': 330, 'random_strength': 0.22351577813761914, 'bootstrap_type': 'Bayesian', 'grow_policy': 'Depthwise', 'bagging_temperature': 8.754107426125122, 'min_data_in_leaf': 226}. Best is trial 94 with value: 0.08669020046935776.\n",
      "C:\\Users\\Aleks\\AppData\\Local\\Temp\\ipykernel_8604\\859435403.py:46: ExperimentalWarning: CatBoostPruningCallback is experimental (supported from v3.0.0). The interface can change in the future.\n",
      "  pruning_callback = CatBoostPruningCallback(trial, \"MAPE\")\n",
      "[I 2024-05-08 01:59:39,836] Trial 125 pruned. Trial was pruned at iteration 13.\n",
      "[I 2024-05-08 01:59:40,687] Trial 126 pruned. Trial was pruned at iteration 0.\n",
      "[I 2024-05-08 01:59:42,491] Trial 127 pruned. Trial was pruned at iteration 4.\n",
      "[I 2024-05-08 01:59:43,427] Trial 128 pruned. Trial was pruned at iteration 2.\n",
      "[I 2024-05-08 01:59:46,590] Trial 129 pruned. Trial was pruned at iteration 30.\n",
      "[I 2024-05-08 02:00:28,823] Trial 130 finished with value: 0.09223083412710958 and parameters: {'n_estimators': 172, 'learning_rate': 0.4269214470686331, 'depth': 11, 'l2_leaf_reg': 5.2619652636956005, 'od_wait': 19, 'border_count': 279, 'random_strength': 0.09035277467088819, 'bootstrap_type': 'Bayesian', 'grow_policy': 'Depthwise', 'bagging_temperature': 8.558265773497306, 'min_data_in_leaf': 218}. Best is trial 94 with value: 0.08669020046935776.\n",
      "C:\\Users\\Aleks\\AppData\\Local\\Temp\\ipykernel_8604\\859435403.py:46: ExperimentalWarning: CatBoostPruningCallback is experimental (supported from v3.0.0). The interface can change in the future.\n",
      "  pruning_callback = CatBoostPruningCallback(trial, \"MAPE\")\n",
      "[I 2024-05-08 02:00:30,329] Trial 131 pruned. Trial was pruned at iteration 3.\n",
      "[I 2024-05-08 02:00:31,470] Trial 132 pruned. Trial was pruned at iteration 1.\n",
      "[I 2024-05-08 02:00:38,741] Trial 133 pruned. Trial was pruned at iteration 54.\n",
      "[I 2024-05-08 02:00:41,758] Trial 134 pruned. Trial was pruned at iteration 8.\n",
      "[I 2024-05-08 02:00:42,967] Trial 135 pruned. Trial was pruned at iteration 1.\n",
      "[I 2024-05-08 02:00:44,995] Trial 136 pruned. Trial was pruned at iteration 5.\n",
      "[I 2024-05-08 02:00:45,995] Trial 137 pruned. Trial was pruned at iteration 2.\n",
      "[I 2024-05-08 02:00:46,980] Trial 138 pruned. Trial was pruned at iteration 0.\n",
      "[I 2024-05-08 02:01:35,558] Trial 139 pruned. Trial was pruned at iteration 211.\n",
      "[I 2024-05-08 02:01:36,667] Trial 140 pruned. Trial was pruned at iteration 0.\n",
      "[I 2024-05-08 02:01:37,684] Trial 141 pruned. Trial was pruned at iteration 0.\n",
      "[I 2024-05-08 02:01:39,221] Trial 142 pruned. Trial was pruned at iteration 3.\n",
      "[I 2024-05-08 02:01:41,794] Trial 143 pruned. Trial was pruned at iteration 17.\n",
      "[I 2024-05-08 02:01:42,745] Trial 144 pruned. Trial was pruned at iteration 0.\n",
      "[I 2024-05-08 02:02:40,922] Trial 145 finished with value: 0.10239509242704552 and parameters: {'n_estimators': 182, 'learning_rate': 0.4637122882039103, 'depth': 12, 'l2_leaf_reg': 5.128188728918285, 'od_wait': 17, 'border_count': 229, 'random_strength': 0.7396908789556265, 'bootstrap_type': 'Bayesian', 'grow_policy': 'Depthwise', 'bagging_temperature': 9.983721006190395, 'min_data_in_leaf': 173}. Best is trial 94 with value: 0.08669020046935776.\n",
      "C:\\Users\\Aleks\\AppData\\Local\\Temp\\ipykernel_8604\\859435403.py:46: ExperimentalWarning: CatBoostPruningCallback is experimental (supported from v3.0.0). The interface can change in the future.\n",
      "  pruning_callback = CatBoostPruningCallback(trial, \"MAPE\")\n",
      "[I 2024-05-08 02:03:51,867] Trial 146 finished with value: 0.089995347060581 and parameters: {'n_estimators': 224, 'learning_rate': 0.3442433776050216, 'depth': 12, 'l2_leaf_reg': 5.258346084743444, 'od_wait': 15, 'border_count': 179, 'random_strength': 0.772838879577332, 'bootstrap_type': 'Bayesian', 'grow_policy': 'Depthwise', 'bagging_temperature': 9.988003585502463, 'min_data_in_leaf': 197}. Best is trial 94 with value: 0.08669020046935776.\n",
      "C:\\Users\\Aleks\\AppData\\Local\\Temp\\ipykernel_8604\\859435403.py:46: ExperimentalWarning: CatBoostPruningCallback is experimental (supported from v3.0.0). The interface can change in the future.\n",
      "  pruning_callback = CatBoostPruningCallback(trial, \"MAPE\")\n",
      "[I 2024-05-08 02:04:47,517] Trial 147 finished with value: 0.10385132433748773 and parameters: {'n_estimators': 169, 'learning_rate': 0.38886439052637994, 'depth': 12, 'l2_leaf_reg': 4.751782062165222, 'od_wait': 12, 'border_count': 162, 'random_strength': 0.8423479313437001, 'bootstrap_type': 'Bayesian', 'grow_policy': 'Depthwise', 'bagging_temperature': 9.903001026279528, 'min_data_in_leaf': 175}. Best is trial 94 with value: 0.08669020046935776.\n",
      "C:\\Users\\Aleks\\AppData\\Local\\Temp\\ipykernel_8604\\859435403.py:46: ExperimentalWarning: CatBoostPruningCallback is experimental (supported from v3.0.0). The interface can change in the future.\n",
      "  pruning_callback = CatBoostPruningCallback(trial, \"MAPE\")\n",
      "[I 2024-05-08 02:04:58,489] Trial 148 pruned. Trial was pruned at iteration 34.\n",
      "[I 2024-05-08 02:04:59,644] Trial 149 pruned. Trial was pruned at iteration 2.\n",
      "[I 2024-05-08 02:05:00,844] Trial 150 pruned. Trial was pruned at iteration 0.\n",
      "[I 2024-05-08 02:05:05,965] Trial 151 pruned. Trial was pruned at iteration 14.\n",
      "[I 2024-05-08 02:05:09,805] Trial 152 pruned. Trial was pruned at iteration 33.\n",
      "[I 2024-05-08 02:05:10,927] Trial 153 pruned. Trial was pruned at iteration 2.\n",
      "[I 2024-05-08 02:05:13,611] Trial 154 pruned. Trial was pruned at iteration 9.\n",
      "[I 2024-05-08 02:05:14,750] Trial 155 pruned. Trial was pruned at iteration 0.\n",
      "[I 2024-05-08 02:05:15,673] Trial 156 pruned. Trial was pruned at iteration 0.\n",
      "[I 2024-05-08 02:05:16,889] Trial 157 pruned. Trial was pruned at iteration 2.\n",
      "[I 2024-05-08 02:05:18,894] Trial 158 pruned. Trial was pruned at iteration 5.\n",
      "[I 2024-05-08 02:05:19,727] Trial 159 pruned. Trial was pruned at iteration 1.\n",
      "[I 2024-05-08 02:06:12,613] Trial 160 finished with value: 0.09771281553616255 and parameters: {'n_estimators': 238, 'learning_rate': 0.4929086496406034, 'depth': 10, 'l2_leaf_reg': 5.920840442593013, 'od_wait': 10, 'border_count': 135, 'random_strength': 0.2831261796261031, 'bootstrap_type': 'Bayesian', 'grow_policy': 'Depthwise', 'bagging_temperature': 9.995309448742987, 'min_data_in_leaf': 222}. Best is trial 94 with value: 0.08669020046935776.\n",
      "C:\\Users\\Aleks\\AppData\\Local\\Temp\\ipykernel_8604\\859435403.py:46: ExperimentalWarning: CatBoostPruningCallback is experimental (supported from v3.0.0). The interface can change in the future.\n",
      "  pruning_callback = CatBoostPruningCallback(trial, \"MAPE\")\n",
      "[I 2024-05-08 02:06:13,633] Trial 161 pruned. Trial was pruned at iteration 2.\n",
      "[I 2024-05-08 02:06:15,993] Trial 162 pruned. Trial was pruned at iteration 5.\n",
      "[I 2024-05-08 02:06:16,896] Trial 163 pruned. Trial was pruned at iteration 0.\n",
      "[I 2024-05-08 02:06:20,111] Trial 164 pruned. Trial was pruned at iteration 8.\n",
      "[I 2024-05-08 02:06:23,890] Trial 165 pruned. Trial was pruned at iteration 9.\n",
      "[I 2024-05-08 02:06:29,049] Trial 166 pruned. Trial was pruned at iteration 18.\n",
      "[I 2024-05-08 02:06:29,919] Trial 167 pruned. Trial was pruned at iteration 0.\n",
      "[I 2024-05-08 02:06:31,557] Trial 168 pruned. Trial was pruned at iteration 4.\n",
      "[I 2024-05-08 02:06:32,356] Trial 169 pruned. Trial was pruned at iteration 0.\n",
      "[I 2024-05-08 02:06:33,969] Trial 170 pruned. Trial was pruned at iteration 4.\n",
      "[I 2024-05-08 02:06:36,131] Trial 171 pruned. Trial was pruned at iteration 11.\n",
      "[I 2024-05-08 02:06:36,995] Trial 172 pruned. Trial was pruned at iteration 0.\n",
      "[I 2024-05-08 02:06:37,854] Trial 173 pruned. Trial was pruned at iteration 0.\n",
      "[I 2024-05-08 02:06:38,747] Trial 174 pruned. Trial was pruned at iteration 0.\n",
      "[I 2024-05-08 02:06:39,550] Trial 175 pruned. Trial was pruned at iteration 0.\n",
      "[I 2024-05-08 02:07:56,630] Trial 176 finished with value: 0.07008948738808198 and parameters: {'n_estimators': 337, 'learning_rate': 0.46510940176204085, 'depth': 10, 'l2_leaf_reg': 6.752884443750061, 'od_wait': 11, 'border_count': 167, 'random_strength': 0.030578303342516877, 'bootstrap_type': 'Bayesian', 'grow_policy': 'Depthwise', 'bagging_temperature': 9.992836685513474, 'min_data_in_leaf': 209}. Best is trial 176 with value: 0.07008948738808198.\n",
      "C:\\Users\\Aleks\\AppData\\Local\\Temp\\ipykernel_8604\\859435403.py:46: ExperimentalWarning: CatBoostPruningCallback is experimental (supported from v3.0.0). The interface can change in the future.\n",
      "  pruning_callback = CatBoostPruningCallback(trial, \"MAPE\")\n",
      "[I 2024-05-08 02:07:58,987] Trial 177 pruned. Trial was pruned at iteration 5.\n",
      "[I 2024-05-08 02:08:03,013] Trial 178 pruned. Trial was pruned at iteration 11.\n",
      "[I 2024-05-08 02:08:30,688] Trial 179 pruned. Trial was pruned at iteration 114.\n",
      "[I 2024-05-08 02:08:31,682] Trial 180 pruned. Trial was pruned at iteration 0.\n",
      "[I 2024-05-08 02:08:32,766] Trial 181 pruned. Trial was pruned at iteration 0.\n",
      "[I 2024-05-08 02:09:45,297] Trial 182 finished with value: 0.09048342362255352 and parameters: {'n_estimators': 260, 'learning_rate': 0.30189610876484696, 'depth': 12, 'l2_leaf_reg': 6.5257286864699635, 'od_wait': 16, 'border_count': 383, 'random_strength': 0.5932043204597061, 'bootstrap_type': 'Bayesian', 'grow_policy': 'Depthwise', 'bagging_temperature': 9.915390407426234, 'min_data_in_leaf': 165}. Best is trial 176 with value: 0.07008948738808198.\n",
      "C:\\Users\\Aleks\\AppData\\Local\\Temp\\ipykernel_8604\\859435403.py:46: ExperimentalWarning: CatBoostPruningCallback is experimental (supported from v3.0.0). The interface can change in the future.\n",
      "  pruning_callback = CatBoostPruningCallback(trial, \"MAPE\")\n",
      "[I 2024-05-08 02:11:07,910] Trial 183 finished with value: 0.07914363065743762 and parameters: {'n_estimators': 272, 'learning_rate': 0.3071357315456206, 'depth': 12, 'l2_leaf_reg': 5.100359145871922, 'od_wait': 17, 'border_count': 454, 'random_strength': 1.0121794813320557, 'bootstrap_type': 'Bayesian', 'grow_policy': 'Depthwise', 'bagging_temperature': 9.89872496891705, 'min_data_in_leaf': 125}. Best is trial 176 with value: 0.07008948738808198.\n",
      "C:\\Users\\Aleks\\AppData\\Local\\Temp\\ipykernel_8604\\859435403.py:46: ExperimentalWarning: CatBoostPruningCallback is experimental (supported from v3.0.0). The interface can change in the future.\n",
      "  pruning_callback = CatBoostPruningCallback(trial, \"MAPE\")\n",
      "[I 2024-05-08 02:11:21,954] Trial 184 pruned. Trial was pruned at iteration 73.\n",
      "[I 2024-05-08 02:11:22,951] Trial 185 pruned. Trial was pruned at iteration 0.\n",
      "[I 2024-05-08 02:11:24,057] Trial 186 pruned. Trial was pruned at iteration 0.\n",
      "[I 2024-05-08 02:11:25,868] Trial 187 pruned. Trial was pruned at iteration 3.\n",
      "[I 2024-05-08 02:11:26,762] Trial 188 pruned. Trial was pruned at iteration 0.\n",
      "[I 2024-05-08 02:11:27,789] Trial 189 pruned. Trial was pruned at iteration 0.\n",
      "[I 2024-05-08 02:11:29,225] Trial 190 pruned. Trial was pruned at iteration 2.\n",
      "[I 2024-05-08 02:12:05,318] Trial 191 finished with value: 0.08218027339315814 and parameters: {'n_estimators': 157, 'learning_rate': 0.3739306345669003, 'depth': 10, 'l2_leaf_reg': 3.7250637737279835, 'od_wait': 19, 'border_count': 257, 'random_strength': 0.12714557884602318, 'bootstrap_type': 'Bayesian', 'grow_policy': 'Depthwise', 'bagging_temperature': 9.897144646417793, 'min_data_in_leaf': 108}. Best is trial 176 with value: 0.07008948738808198.\n",
      "C:\\Users\\Aleks\\AppData\\Local\\Temp\\ipykernel_8604\\859435403.py:46: ExperimentalWarning: CatBoostPruningCallback is experimental (supported from v3.0.0). The interface can change in the future.\n",
      "  pruning_callback = CatBoostPruningCallback(trial, \"MAPE\")\n",
      "[I 2024-05-08 02:12:06,518] Trial 192 pruned. Trial was pruned at iteration 0.\n",
      "[I 2024-05-08 02:12:07,777] Trial 193 pruned. Trial was pruned at iteration 2.\n",
      "[I 2024-05-08 02:12:37,391] Trial 194 pruned. Trial was pruned at iteration 130.\n",
      "[I 2024-05-08 02:12:38,962] Trial 195 pruned. Trial was pruned at iteration 2.\n",
      "[I 2024-05-08 02:13:20,266] Trial 196 finished with value: 0.09760503867966844 and parameters: {'n_estimators': 141, 'learning_rate': 0.3480277939716783, 'depth': 12, 'l2_leaf_reg': 5.165687406460412, 'od_wait': 16, 'border_count': 277, 'random_strength': 0.4083228923718823, 'bootstrap_type': 'Bayesian', 'grow_policy': 'Depthwise', 'bagging_temperature': 8.892351413478782, 'min_data_in_leaf': 158}. Best is trial 176 with value: 0.07008948738808198.\n",
      "C:\\Users\\Aleks\\AppData\\Local\\Temp\\ipykernel_8604\\859435403.py:46: ExperimentalWarning: CatBoostPruningCallback is experimental (supported from v3.0.0). The interface can change in the future.\n",
      "  pruning_callback = CatBoostPruningCallback(trial, \"MAPE\")\n",
      "[I 2024-05-08 02:14:11,065] Trial 197 finished with value: 0.08450421488482183 and parameters: {'n_estimators': 187, 'learning_rate': 0.3828839078650477, 'depth': 12, 'l2_leaf_reg': 6.040666672225204, 'od_wait': 17, 'border_count': 279, 'random_strength': 0.0554677592423648, 'bootstrap_type': 'Bayesian', 'grow_policy': 'Depthwise', 'bagging_temperature': 7.577733046671767, 'min_data_in_leaf': 145}. Best is trial 176 with value: 0.07008948738808198.\n",
      "C:\\Users\\Aleks\\AppData\\Local\\Temp\\ipykernel_8604\\859435403.py:46: ExperimentalWarning: CatBoostPruningCallback is experimental (supported from v3.0.0). The interface can change in the future.\n",
      "  pruning_callback = CatBoostPruningCallback(trial, \"MAPE\")\n",
      "[I 2024-05-08 02:14:12,057] Trial 198 pruned. Trial was pruned at iteration 0.\n",
      "[I 2024-05-08 02:14:14,242] Trial 199 pruned. Trial was pruned at iteration 5.\n"
     ]
    },
    {
     "name": "stdout",
     "output_type": "stream",
     "text": [
      "Number of finished trials:  200\n",
      "Best trial: 176\n",
      "  Value:  0.07008948738808198\n",
      "  Params: \n",
      "    n_estimators: 337\n",
      "    learning_rate: 0.46510940176204085\n",
      "    depth: 10\n",
      "    l2_leaf_reg: 6.752884443750061\n",
      "    od_wait: 11\n",
      "    border_count: 167\n",
      "    random_strength: 0.030578303342516877\n",
      "    bootstrap_type: Bayesian\n",
      "    grow_policy: Depthwise\n",
      "    bagging_temperature: 9.992836685513474\n",
      "    min_data_in_leaf: 209\n"
     ]
    }
   ],
   "source": [
    "# Find best hyperparameters using Optuna library\n",
    "\n",
    "def objective(trial, data = training_set[cat_features], target = training_set[target]):\n",
    "\n",
    "    train_x, test_x, train_y, test_y = train_test_split(data, target,\n",
    "                                                        test_size=0.25,\n",
    "                                                        random_state=777)\n",
    "\n",
    "    param = {\n",
    "        \"n_estimators\": trial.suggest_int('n_estimators', 100, 500),\n",
    "        \"learning_rate\": trial.suggest_float('learning_rate', 0, 1),\n",
    "        \"depth\": trial.suggest_int('depth', 4, 12),\n",
    "        \"l2_leaf_reg\": trial.suggest_float('l2_leaf_reg', 0, 10),\n",
    "        \"od_wait\": trial.suggest_int(\"od_wait\", 10, 25),\n",
    "        \"border_count\": trial.suggest_int('border_count', 100, 500),\n",
    "        \"random_strength\": trial.suggest_float('random_strength', 0, 10),\n",
    "        \"bootstrap_type\": trial.suggest_categorical(\n",
    "            \"bootstrap_type\", [\"Bayesian\", \"Bernoulli\", \"MVS\"]\n",
    "        ),\n",
    "        'grow_policy': trial.suggest_categorical('grow_policy',\n",
    "            [\"Depthwise\", \"SymmetricTree\"])\n",
    "    }\n",
    "\n",
    "    if param[\"bootstrap_type\"] == \"Bayesian\":\n",
    "      param[\"bagging_temperature\"] = trial.suggest_float(\n",
    "            \"bagging_temperature\", 0, 10)\n",
    "\n",
    "    else:\n",
    "      param[\"subsample\"] = trial.suggest_float(\"subsample\", 0.1, 1)\n",
    "\n",
    "    if param[\"grow_policy\"] == \"Depthwise\":\n",
    "      param[\"min_data_in_leaf\"] = trial.suggest_int('min_data_in_leaf', 1, 500)\n",
    "\n",
    "    model = CatBoostRegressor(\n",
    "        loss_function = 'MAPE',\n",
    "        eval_metric = \"MAPE\",\n",
    "#        task_type = 'GPU',\n",
    "        random_state = 777,\n",
    "        use_best_model = True,\n",
    "        od_type = \"Iter\",\n",
    "        cat_features = categorical_indicies,\n",
    "        per_float_feature_quantization = '0:border_count=1024',\n",
    "        **param\n",
    "    )\n",
    "\n",
    "    pruning_callback = CatBoostPruningCallback(trial, \"MAPE\")\n",
    "\n",
    "\n",
    "    model.fit(train_x, train_y, eval_set = [(test_x, test_y)],\n",
    "              verbose = False, callbacks=[pruning_callback])\n",
    "\n",
    "    pruning_callback.check_pruned()\n",
    "\n",
    "    preds = model.predict(test_x)\n",
    "#    preds = np.fabs(model.predict(test_x))\n",
    "    mape = mean_absolute_percentage_error(test_y, preds)\n",
    "\n",
    "    return mape\n",
    "\n",
    "\n",
    "\n",
    "sampler = TPESampler(multivariate = True, group = True, seed = 777)\n",
    "study = optuna.create_study(study_name = \"catboost\", sampler = sampler,)\n",
    "study.optimize(objective, n_trials = 200)\n",
    "trial = study.best_trial\n",
    "\n",
    "print(\"Number of finished trials: \", len(study.trials))\n",
    "print(\"Best trial:\", trial.number)\n",
    "print(\"  Value: \", trial.value)\n",
    "print(\"  Params: \")\n",
    "\n",
    "for key, value in trial.params.items():\n",
    "    print(\"    {}: {}\".format(key, value))"
   ]
  },
  {
   "cell_type": "code",
   "execution_count": 39,
   "metadata": {
    "colab": {
     "base_uri": "https://localhost:8080/",
     "height": 542
    },
    "id": "yArXDG21Gl2V",
    "outputId": "0f906be3-f8d9-4541-9934-d10316e1ddff"
   },
   "outputs": [
    {
     "ename": "ValueError",
     "evalue": "Mime type rendering requires nbformat>=4.2.0 but it is not installed",
     "output_type": "error",
     "traceback": [
      "\u001b[1;31m---------------------------------------------------------------------------\u001b[0m",
      "\u001b[1;31mValueError\u001b[0m                                Traceback (most recent call last)",
      "File \u001b[1;32m~\\AppData\\Roaming\\Python\\Python312\\site-packages\\IPython\\core\\formatters.py:925\u001b[0m, in \u001b[0;36mIPythonDisplayFormatter.__call__\u001b[1;34m(self, obj)\u001b[0m\n\u001b[0;32m    923\u001b[0m method \u001b[38;5;241m=\u001b[39m get_real_method(obj, \u001b[38;5;28mself\u001b[39m\u001b[38;5;241m.\u001b[39mprint_method)\n\u001b[0;32m    924\u001b[0m \u001b[38;5;28;01mif\u001b[39;00m method \u001b[38;5;129;01mis\u001b[39;00m \u001b[38;5;129;01mnot\u001b[39;00m \u001b[38;5;28;01mNone\u001b[39;00m:\n\u001b[1;32m--> 925\u001b[0m     \u001b[43mmethod\u001b[49m\u001b[43m(\u001b[49m\u001b[43m)\u001b[49m\n\u001b[0;32m    926\u001b[0m     \u001b[38;5;28;01mreturn\u001b[39;00m \u001b[38;5;28;01mTrue\u001b[39;00m\n",
      "File \u001b[1;32mc:\\Users\\Aleks\\AppData\\Local\\Programs\\Python\\Python312\\Lib\\site-packages\\plotly\\basedatatypes.py:832\u001b[0m, in \u001b[0;36mBaseFigure._ipython_display_\u001b[1;34m(self)\u001b[0m\n\u001b[0;32m    829\u001b[0m \u001b[38;5;28;01mimport\u001b[39;00m \u001b[38;5;21;01mplotly\u001b[39;00m\u001b[38;5;21;01m.\u001b[39;00m\u001b[38;5;21;01mio\u001b[39;00m \u001b[38;5;28;01mas\u001b[39;00m \u001b[38;5;21;01mpio\u001b[39;00m\n\u001b[0;32m    831\u001b[0m \u001b[38;5;28;01mif\u001b[39;00m pio\u001b[38;5;241m.\u001b[39mrenderers\u001b[38;5;241m.\u001b[39mrender_on_display \u001b[38;5;129;01mand\u001b[39;00m pio\u001b[38;5;241m.\u001b[39mrenderers\u001b[38;5;241m.\u001b[39mdefault:\n\u001b[1;32m--> 832\u001b[0m     \u001b[43mpio\u001b[49m\u001b[38;5;241;43m.\u001b[39;49m\u001b[43mshow\u001b[49m\u001b[43m(\u001b[49m\u001b[38;5;28;43mself\u001b[39;49m\u001b[43m)\u001b[49m\n\u001b[0;32m    833\u001b[0m \u001b[38;5;28;01melse\u001b[39;00m:\n\u001b[0;32m    834\u001b[0m     \u001b[38;5;28mprint\u001b[39m(\u001b[38;5;28mrepr\u001b[39m(\u001b[38;5;28mself\u001b[39m))\n",
      "File \u001b[1;32mc:\\Users\\Aleks\\AppData\\Local\\Programs\\Python\\Python312\\Lib\\site-packages\\plotly\\io\\_renderers.py:394\u001b[0m, in \u001b[0;36mshow\u001b[1;34m(fig, renderer, validate, **kwargs)\u001b[0m\n\u001b[0;32m    389\u001b[0m         \u001b[38;5;28;01mraise\u001b[39;00m \u001b[38;5;167;01mValueError\u001b[39;00m(\n\u001b[0;32m    390\u001b[0m             \u001b[38;5;124m\"\u001b[39m\u001b[38;5;124mMime type rendering requires ipython but it is not installed\u001b[39m\u001b[38;5;124m\"\u001b[39m\n\u001b[0;32m    391\u001b[0m         )\n\u001b[0;32m    393\u001b[0m     \u001b[38;5;28;01mif\u001b[39;00m \u001b[38;5;129;01mnot\u001b[39;00m nbformat \u001b[38;5;129;01mor\u001b[39;00m Version(nbformat\u001b[38;5;241m.\u001b[39m__version__) \u001b[38;5;241m<\u001b[39m Version(\u001b[38;5;124m\"\u001b[39m\u001b[38;5;124m4.2.0\u001b[39m\u001b[38;5;124m\"\u001b[39m):\n\u001b[1;32m--> 394\u001b[0m         \u001b[38;5;28;01mraise\u001b[39;00m \u001b[38;5;167;01mValueError\u001b[39;00m(\n\u001b[0;32m    395\u001b[0m             \u001b[38;5;124m\"\u001b[39m\u001b[38;5;124mMime type rendering requires nbformat>=4.2.0 but it is not installed\u001b[39m\u001b[38;5;124m\"\u001b[39m\n\u001b[0;32m    396\u001b[0m         )\n\u001b[0;32m    398\u001b[0m     ipython_display\u001b[38;5;241m.\u001b[39mdisplay(bundle, raw\u001b[38;5;241m=\u001b[39m\u001b[38;5;28;01mTrue\u001b[39;00m)\n\u001b[0;32m    400\u001b[0m \u001b[38;5;66;03m# external renderers\u001b[39;00m\n",
      "\u001b[1;31mValueError\u001b[0m: Mime type rendering requires nbformat>=4.2.0 but it is not installed"
     ]
    },
    {
     "data": {
      "application/vnd.plotly.v1+json": {
       "config": {
        "plotlyServerURL": "https://plot.ly"
       },
       "data": [
        {
         "mode": "markers",
         "name": "Objective Value",
         "type": "scatter",
         "x": [
          0,
          1,
          2,
          3,
          4,
          13,
          20,
          26,
          33,
          34,
          38,
          39,
          40,
          42,
          62,
          94,
          116,
          121,
          124,
          130,
          145,
          146,
          147,
          160,
          176,
          182,
          183,
          191,
          196,
          197
         ],
         "y": [
          0.44573425431744024,
          0.31325194663775785,
          0.1923539626301527,
          0.3804503000272274,
          0.2970609810741265,
          0.12990407333752463,
          0.15121286497097775,
          0.22576668957663523,
          0.0967718003435825,
          0.10418792477358048,
          0.13708221040718185,
          0.1327470550306914,
          0.10064331461907569,
          0.09606316115412764,
          0.14638629223328806,
          0.08669020046935776,
          0.09527976422901176,
          0.10569945141994165,
          0.09343713718816066,
          0.09223083412710958,
          0.10239509242704552,
          0.089995347060581,
          0.10385132433748773,
          0.09771281553616255,
          0.07008948738808198,
          0.09048342362255352,
          0.07914363065743762,
          0.08218027339315814,
          0.09760503867966844,
          0.08450421488482183
         ]
        },
        {
         "mode": "lines",
         "name": "Best Value",
         "type": "scatter",
         "x": [
          0,
          1,
          2,
          3,
          4,
          5,
          6,
          7,
          8,
          9,
          10,
          11,
          12,
          13,
          14,
          15,
          16,
          17,
          18,
          19,
          20,
          21,
          22,
          23,
          24,
          25,
          26,
          27,
          28,
          29,
          30,
          31,
          32,
          33,
          34,
          35,
          36,
          37,
          38,
          39,
          40,
          41,
          42,
          43,
          44,
          45,
          46,
          47,
          48,
          49,
          50,
          51,
          52,
          53,
          54,
          55,
          56,
          57,
          58,
          59,
          60,
          61,
          62,
          63,
          64,
          65,
          66,
          67,
          68,
          69,
          70,
          71,
          72,
          73,
          74,
          75,
          76,
          77,
          78,
          79,
          80,
          81,
          82,
          83,
          84,
          85,
          86,
          87,
          88,
          89,
          90,
          91,
          92,
          93,
          94,
          95,
          96,
          97,
          98,
          99,
          100,
          101,
          102,
          103,
          104,
          105,
          106,
          107,
          108,
          109,
          110,
          111,
          112,
          113,
          114,
          115,
          116,
          117,
          118,
          119,
          120,
          121,
          122,
          123,
          124,
          125,
          126,
          127,
          128,
          129,
          130,
          131,
          132,
          133,
          134,
          135,
          136,
          137,
          138,
          139,
          140,
          141,
          142,
          143,
          144,
          145,
          146,
          147,
          148,
          149,
          150,
          151,
          152,
          153,
          154,
          155,
          156,
          157,
          158,
          159,
          160,
          161,
          162,
          163,
          164,
          165,
          166,
          167,
          168,
          169,
          170,
          171,
          172,
          173,
          174,
          175,
          176,
          177,
          178,
          179,
          180,
          181,
          182,
          183,
          184,
          185,
          186,
          187,
          188,
          189,
          190,
          191,
          192,
          193,
          194,
          195,
          196,
          197,
          198,
          199
         ],
         "y": [
          0.44573425431744024,
          0.31325194663775785,
          0.1923539626301527,
          0.1923539626301527,
          0.1923539626301527,
          0.1923539626301527,
          0.1923539626301527,
          0.1923539626301527,
          0.1923539626301527,
          0.1923539626301527,
          0.1923539626301527,
          0.1923539626301527,
          0.1923539626301527,
          0.12990407333752463,
          0.12990407333752463,
          0.12990407333752463,
          0.12990407333752463,
          0.12990407333752463,
          0.12990407333752463,
          0.12990407333752463,
          0.12990407333752463,
          0.12990407333752463,
          0.12990407333752463,
          0.12990407333752463,
          0.12990407333752463,
          0.12990407333752463,
          0.12990407333752463,
          0.12990407333752463,
          0.12990407333752463,
          0.12990407333752463,
          0.12990407333752463,
          0.12990407333752463,
          0.12990407333752463,
          0.0967718003435825,
          0.0967718003435825,
          0.0967718003435825,
          0.0967718003435825,
          0.0967718003435825,
          0.0967718003435825,
          0.0967718003435825,
          0.0967718003435825,
          0.0967718003435825,
          0.09606316115412764,
          0.09606316115412764,
          0.09606316115412764,
          0.09606316115412764,
          0.09606316115412764,
          0.09606316115412764,
          0.09606316115412764,
          0.09606316115412764,
          0.09606316115412764,
          0.09606316115412764,
          0.09606316115412764,
          0.09606316115412764,
          0.09606316115412764,
          0.09606316115412764,
          0.09606316115412764,
          0.09606316115412764,
          0.09606316115412764,
          0.09606316115412764,
          0.09606316115412764,
          0.09606316115412764,
          0.09606316115412764,
          0.09606316115412764,
          0.09606316115412764,
          0.09606316115412764,
          0.09606316115412764,
          0.09606316115412764,
          0.09606316115412764,
          0.09606316115412764,
          0.09606316115412764,
          0.09606316115412764,
          0.09606316115412764,
          0.09606316115412764,
          0.09606316115412764,
          0.09606316115412764,
          0.09606316115412764,
          0.09606316115412764,
          0.09606316115412764,
          0.09606316115412764,
          0.09606316115412764,
          0.09606316115412764,
          0.09606316115412764,
          0.09606316115412764,
          0.09606316115412764,
          0.09606316115412764,
          0.09606316115412764,
          0.09606316115412764,
          0.09606316115412764,
          0.09606316115412764,
          0.09606316115412764,
          0.09606316115412764,
          0.09606316115412764,
          0.09606316115412764,
          0.08669020046935776,
          0.08669020046935776,
          0.08669020046935776,
          0.08669020046935776,
          0.08669020046935776,
          0.08669020046935776,
          0.08669020046935776,
          0.08669020046935776,
          0.08669020046935776,
          0.08669020046935776,
          0.08669020046935776,
          0.08669020046935776,
          0.08669020046935776,
          0.08669020046935776,
          0.08669020046935776,
          0.08669020046935776,
          0.08669020046935776,
          0.08669020046935776,
          0.08669020046935776,
          0.08669020046935776,
          0.08669020046935776,
          0.08669020046935776,
          0.08669020046935776,
          0.08669020046935776,
          0.08669020046935776,
          0.08669020046935776,
          0.08669020046935776,
          0.08669020046935776,
          0.08669020046935776,
          0.08669020046935776,
          0.08669020046935776,
          0.08669020046935776,
          0.08669020046935776,
          0.08669020046935776,
          0.08669020046935776,
          0.08669020046935776,
          0.08669020046935776,
          0.08669020046935776,
          0.08669020046935776,
          0.08669020046935776,
          0.08669020046935776,
          0.08669020046935776,
          0.08669020046935776,
          0.08669020046935776,
          0.08669020046935776,
          0.08669020046935776,
          0.08669020046935776,
          0.08669020046935776,
          0.08669020046935776,
          0.08669020046935776,
          0.08669020046935776,
          0.08669020046935776,
          0.08669020046935776,
          0.08669020046935776,
          0.08669020046935776,
          0.08669020046935776,
          0.08669020046935776,
          0.08669020046935776,
          0.08669020046935776,
          0.08669020046935776,
          0.08669020046935776,
          0.08669020046935776,
          0.08669020046935776,
          0.08669020046935776,
          0.08669020046935776,
          0.08669020046935776,
          0.08669020046935776,
          0.08669020046935776,
          0.08669020046935776,
          0.08669020046935776,
          0.08669020046935776,
          0.08669020046935776,
          0.08669020046935776,
          0.08669020046935776,
          0.08669020046935776,
          0.08669020046935776,
          0.08669020046935776,
          0.08669020046935776,
          0.08669020046935776,
          0.08669020046935776,
          0.08669020046935776,
          0.08669020046935776,
          0.07008948738808198,
          0.07008948738808198,
          0.07008948738808198,
          0.07008948738808198,
          0.07008948738808198,
          0.07008948738808198,
          0.07008948738808198,
          0.07008948738808198,
          0.07008948738808198,
          0.07008948738808198,
          0.07008948738808198,
          0.07008948738808198,
          0.07008948738808198,
          0.07008948738808198,
          0.07008948738808198,
          0.07008948738808198,
          0.07008948738808198,
          0.07008948738808198,
          0.07008948738808198,
          0.07008948738808198,
          0.07008948738808198,
          0.07008948738808198,
          0.07008948738808198,
          0.07008948738808198
         ]
        },
        {
         "marker": {
          "color": "#cccccc"
         },
         "mode": "markers",
         "name": "Infeasible Trial",
         "showlegend": false,
         "type": "scatter",
         "x": [],
         "y": []
        }
       ],
       "layout": {
        "template": {
         "data": {
          "bar": [
           {
            "error_x": {
             "color": "#2a3f5f"
            },
            "error_y": {
             "color": "#2a3f5f"
            },
            "marker": {
             "line": {
              "color": "#E5ECF6",
              "width": 0.5
             },
             "pattern": {
              "fillmode": "overlay",
              "size": 10,
              "solidity": 0.2
             }
            },
            "type": "bar"
           }
          ],
          "barpolar": [
           {
            "marker": {
             "line": {
              "color": "#E5ECF6",
              "width": 0.5
             },
             "pattern": {
              "fillmode": "overlay",
              "size": 10,
              "solidity": 0.2
             }
            },
            "type": "barpolar"
           }
          ],
          "carpet": [
           {
            "aaxis": {
             "endlinecolor": "#2a3f5f",
             "gridcolor": "white",
             "linecolor": "white",
             "minorgridcolor": "white",
             "startlinecolor": "#2a3f5f"
            },
            "baxis": {
             "endlinecolor": "#2a3f5f",
             "gridcolor": "white",
             "linecolor": "white",
             "minorgridcolor": "white",
             "startlinecolor": "#2a3f5f"
            },
            "type": "carpet"
           }
          ],
          "choropleth": [
           {
            "colorbar": {
             "outlinewidth": 0,
             "ticks": ""
            },
            "type": "choropleth"
           }
          ],
          "contour": [
           {
            "colorbar": {
             "outlinewidth": 0,
             "ticks": ""
            },
            "colorscale": [
             [
              0,
              "#0d0887"
             ],
             [
              0.1111111111111111,
              "#46039f"
             ],
             [
              0.2222222222222222,
              "#7201a8"
             ],
             [
              0.3333333333333333,
              "#9c179e"
             ],
             [
              0.4444444444444444,
              "#bd3786"
             ],
             [
              0.5555555555555556,
              "#d8576b"
             ],
             [
              0.6666666666666666,
              "#ed7953"
             ],
             [
              0.7777777777777778,
              "#fb9f3a"
             ],
             [
              0.8888888888888888,
              "#fdca26"
             ],
             [
              1,
              "#f0f921"
             ]
            ],
            "type": "contour"
           }
          ],
          "contourcarpet": [
           {
            "colorbar": {
             "outlinewidth": 0,
             "ticks": ""
            },
            "type": "contourcarpet"
           }
          ],
          "heatmap": [
           {
            "colorbar": {
             "outlinewidth": 0,
             "ticks": ""
            },
            "colorscale": [
             [
              0,
              "#0d0887"
             ],
             [
              0.1111111111111111,
              "#46039f"
             ],
             [
              0.2222222222222222,
              "#7201a8"
             ],
             [
              0.3333333333333333,
              "#9c179e"
             ],
             [
              0.4444444444444444,
              "#bd3786"
             ],
             [
              0.5555555555555556,
              "#d8576b"
             ],
             [
              0.6666666666666666,
              "#ed7953"
             ],
             [
              0.7777777777777778,
              "#fb9f3a"
             ],
             [
              0.8888888888888888,
              "#fdca26"
             ],
             [
              1,
              "#f0f921"
             ]
            ],
            "type": "heatmap"
           }
          ],
          "heatmapgl": [
           {
            "colorbar": {
             "outlinewidth": 0,
             "ticks": ""
            },
            "colorscale": [
             [
              0,
              "#0d0887"
             ],
             [
              0.1111111111111111,
              "#46039f"
             ],
             [
              0.2222222222222222,
              "#7201a8"
             ],
             [
              0.3333333333333333,
              "#9c179e"
             ],
             [
              0.4444444444444444,
              "#bd3786"
             ],
             [
              0.5555555555555556,
              "#d8576b"
             ],
             [
              0.6666666666666666,
              "#ed7953"
             ],
             [
              0.7777777777777778,
              "#fb9f3a"
             ],
             [
              0.8888888888888888,
              "#fdca26"
             ],
             [
              1,
              "#f0f921"
             ]
            ],
            "type": "heatmapgl"
           }
          ],
          "histogram": [
           {
            "marker": {
             "pattern": {
              "fillmode": "overlay",
              "size": 10,
              "solidity": 0.2
             }
            },
            "type": "histogram"
           }
          ],
          "histogram2d": [
           {
            "colorbar": {
             "outlinewidth": 0,
             "ticks": ""
            },
            "colorscale": [
             [
              0,
              "#0d0887"
             ],
             [
              0.1111111111111111,
              "#46039f"
             ],
             [
              0.2222222222222222,
              "#7201a8"
             ],
             [
              0.3333333333333333,
              "#9c179e"
             ],
             [
              0.4444444444444444,
              "#bd3786"
             ],
             [
              0.5555555555555556,
              "#d8576b"
             ],
             [
              0.6666666666666666,
              "#ed7953"
             ],
             [
              0.7777777777777778,
              "#fb9f3a"
             ],
             [
              0.8888888888888888,
              "#fdca26"
             ],
             [
              1,
              "#f0f921"
             ]
            ],
            "type": "histogram2d"
           }
          ],
          "histogram2dcontour": [
           {
            "colorbar": {
             "outlinewidth": 0,
             "ticks": ""
            },
            "colorscale": [
             [
              0,
              "#0d0887"
             ],
             [
              0.1111111111111111,
              "#46039f"
             ],
             [
              0.2222222222222222,
              "#7201a8"
             ],
             [
              0.3333333333333333,
              "#9c179e"
             ],
             [
              0.4444444444444444,
              "#bd3786"
             ],
             [
              0.5555555555555556,
              "#d8576b"
             ],
             [
              0.6666666666666666,
              "#ed7953"
             ],
             [
              0.7777777777777778,
              "#fb9f3a"
             ],
             [
              0.8888888888888888,
              "#fdca26"
             ],
             [
              1,
              "#f0f921"
             ]
            ],
            "type": "histogram2dcontour"
           }
          ],
          "mesh3d": [
           {
            "colorbar": {
             "outlinewidth": 0,
             "ticks": ""
            },
            "type": "mesh3d"
           }
          ],
          "parcoords": [
           {
            "line": {
             "colorbar": {
              "outlinewidth": 0,
              "ticks": ""
             }
            },
            "type": "parcoords"
           }
          ],
          "pie": [
           {
            "automargin": true,
            "type": "pie"
           }
          ],
          "scatter": [
           {
            "fillpattern": {
             "fillmode": "overlay",
             "size": 10,
             "solidity": 0.2
            },
            "type": "scatter"
           }
          ],
          "scatter3d": [
           {
            "line": {
             "colorbar": {
              "outlinewidth": 0,
              "ticks": ""
             }
            },
            "marker": {
             "colorbar": {
              "outlinewidth": 0,
              "ticks": ""
             }
            },
            "type": "scatter3d"
           }
          ],
          "scattercarpet": [
           {
            "marker": {
             "colorbar": {
              "outlinewidth": 0,
              "ticks": ""
             }
            },
            "type": "scattercarpet"
           }
          ],
          "scattergeo": [
           {
            "marker": {
             "colorbar": {
              "outlinewidth": 0,
              "ticks": ""
             }
            },
            "type": "scattergeo"
           }
          ],
          "scattergl": [
           {
            "marker": {
             "colorbar": {
              "outlinewidth": 0,
              "ticks": ""
             }
            },
            "type": "scattergl"
           }
          ],
          "scattermapbox": [
           {
            "marker": {
             "colorbar": {
              "outlinewidth": 0,
              "ticks": ""
             }
            },
            "type": "scattermapbox"
           }
          ],
          "scatterpolar": [
           {
            "marker": {
             "colorbar": {
              "outlinewidth": 0,
              "ticks": ""
             }
            },
            "type": "scatterpolar"
           }
          ],
          "scatterpolargl": [
           {
            "marker": {
             "colorbar": {
              "outlinewidth": 0,
              "ticks": ""
             }
            },
            "type": "scatterpolargl"
           }
          ],
          "scatterternary": [
           {
            "marker": {
             "colorbar": {
              "outlinewidth": 0,
              "ticks": ""
             }
            },
            "type": "scatterternary"
           }
          ],
          "surface": [
           {
            "colorbar": {
             "outlinewidth": 0,
             "ticks": ""
            },
            "colorscale": [
             [
              0,
              "#0d0887"
             ],
             [
              0.1111111111111111,
              "#46039f"
             ],
             [
              0.2222222222222222,
              "#7201a8"
             ],
             [
              0.3333333333333333,
              "#9c179e"
             ],
             [
              0.4444444444444444,
              "#bd3786"
             ],
             [
              0.5555555555555556,
              "#d8576b"
             ],
             [
              0.6666666666666666,
              "#ed7953"
             ],
             [
              0.7777777777777778,
              "#fb9f3a"
             ],
             [
              0.8888888888888888,
              "#fdca26"
             ],
             [
              1,
              "#f0f921"
             ]
            ],
            "type": "surface"
           }
          ],
          "table": [
           {
            "cells": {
             "fill": {
              "color": "#EBF0F8"
             },
             "line": {
              "color": "white"
             }
            },
            "header": {
             "fill": {
              "color": "#C8D4E3"
             },
             "line": {
              "color": "white"
             }
            },
            "type": "table"
           }
          ]
         },
         "layout": {
          "annotationdefaults": {
           "arrowcolor": "#2a3f5f",
           "arrowhead": 0,
           "arrowwidth": 1
          },
          "autotypenumbers": "strict",
          "coloraxis": {
           "colorbar": {
            "outlinewidth": 0,
            "ticks": ""
           }
          },
          "colorscale": {
           "diverging": [
            [
             0,
             "#8e0152"
            ],
            [
             0.1,
             "#c51b7d"
            ],
            [
             0.2,
             "#de77ae"
            ],
            [
             0.3,
             "#f1b6da"
            ],
            [
             0.4,
             "#fde0ef"
            ],
            [
             0.5,
             "#f7f7f7"
            ],
            [
             0.6,
             "#e6f5d0"
            ],
            [
             0.7,
             "#b8e186"
            ],
            [
             0.8,
             "#7fbc41"
            ],
            [
             0.9,
             "#4d9221"
            ],
            [
             1,
             "#276419"
            ]
           ],
           "sequential": [
            [
             0,
             "#0d0887"
            ],
            [
             0.1111111111111111,
             "#46039f"
            ],
            [
             0.2222222222222222,
             "#7201a8"
            ],
            [
             0.3333333333333333,
             "#9c179e"
            ],
            [
             0.4444444444444444,
             "#bd3786"
            ],
            [
             0.5555555555555556,
             "#d8576b"
            ],
            [
             0.6666666666666666,
             "#ed7953"
            ],
            [
             0.7777777777777778,
             "#fb9f3a"
            ],
            [
             0.8888888888888888,
             "#fdca26"
            ],
            [
             1,
             "#f0f921"
            ]
           ],
           "sequentialminus": [
            [
             0,
             "#0d0887"
            ],
            [
             0.1111111111111111,
             "#46039f"
            ],
            [
             0.2222222222222222,
             "#7201a8"
            ],
            [
             0.3333333333333333,
             "#9c179e"
            ],
            [
             0.4444444444444444,
             "#bd3786"
            ],
            [
             0.5555555555555556,
             "#d8576b"
            ],
            [
             0.6666666666666666,
             "#ed7953"
            ],
            [
             0.7777777777777778,
             "#fb9f3a"
            ],
            [
             0.8888888888888888,
             "#fdca26"
            ],
            [
             1,
             "#f0f921"
            ]
           ]
          },
          "colorway": [
           "#636efa",
           "#EF553B",
           "#00cc96",
           "#ab63fa",
           "#FFA15A",
           "#19d3f3",
           "#FF6692",
           "#B6E880",
           "#FF97FF",
           "#FECB52"
          ],
          "font": {
           "color": "#2a3f5f"
          },
          "geo": {
           "bgcolor": "white",
           "lakecolor": "white",
           "landcolor": "#E5ECF6",
           "showlakes": true,
           "showland": true,
           "subunitcolor": "white"
          },
          "hoverlabel": {
           "align": "left"
          },
          "hovermode": "closest",
          "mapbox": {
           "style": "light"
          },
          "paper_bgcolor": "white",
          "plot_bgcolor": "#E5ECF6",
          "polar": {
           "angularaxis": {
            "gridcolor": "white",
            "linecolor": "white",
            "ticks": ""
           },
           "bgcolor": "#E5ECF6",
           "radialaxis": {
            "gridcolor": "white",
            "linecolor": "white",
            "ticks": ""
           }
          },
          "scene": {
           "xaxis": {
            "backgroundcolor": "#E5ECF6",
            "gridcolor": "white",
            "gridwidth": 2,
            "linecolor": "white",
            "showbackground": true,
            "ticks": "",
            "zerolinecolor": "white"
           },
           "yaxis": {
            "backgroundcolor": "#E5ECF6",
            "gridcolor": "white",
            "gridwidth": 2,
            "linecolor": "white",
            "showbackground": true,
            "ticks": "",
            "zerolinecolor": "white"
           },
           "zaxis": {
            "backgroundcolor": "#E5ECF6",
            "gridcolor": "white",
            "gridwidth": 2,
            "linecolor": "white",
            "showbackground": true,
            "ticks": "",
            "zerolinecolor": "white"
           }
          },
          "shapedefaults": {
           "line": {
            "color": "#2a3f5f"
           }
          },
          "ternary": {
           "aaxis": {
            "gridcolor": "white",
            "linecolor": "white",
            "ticks": ""
           },
           "baxis": {
            "gridcolor": "white",
            "linecolor": "white",
            "ticks": ""
           },
           "bgcolor": "#E5ECF6",
           "caxis": {
            "gridcolor": "white",
            "linecolor": "white",
            "ticks": ""
           }
          },
          "title": {
           "x": 0.05
          },
          "xaxis": {
           "automargin": true,
           "gridcolor": "white",
           "linecolor": "white",
           "ticks": "",
           "title": {
            "standoff": 15
           },
           "zerolinecolor": "white",
           "zerolinewidth": 2
          },
          "yaxis": {
           "automargin": true,
           "gridcolor": "white",
           "linecolor": "white",
           "ticks": "",
           "title": {
            "standoff": 15
           },
           "zerolinecolor": "white",
           "zerolinewidth": 2
          }
         }
        },
        "title": {
         "text": "Optimization History Plot"
        },
        "xaxis": {
         "title": {
          "text": "Trial"
         }
        },
        "yaxis": {
         "title": {
          "text": "Objective Value"
         }
        }
       }
      },
      "text/html": [
       "<div>                        <script type=\"text/javascript\">window.PlotlyConfig = {MathJaxConfig: 'local'};</script>\n",
       "        <script charset=\"utf-8\" src=\"https://cdn.plot.ly/plotly-2.32.0.min.js\"></script>                <div id=\"0571c866-0934-4511-9866-90efdb1c3f86\" class=\"plotly-graph-div\" style=\"height:100%; width:100%;\"></div>            <script type=\"text/javascript\">                                    window.PLOTLYENV=window.PLOTLYENV || {};                                    if (document.getElementById(\"0571c866-0934-4511-9866-90efdb1c3f86\")) {                    Plotly.newPlot(                        \"0571c866-0934-4511-9866-90efdb1c3f86\",                        [{\"mode\":\"markers\",\"name\":\"Objective Value\",\"x\":[0,1,2,3,4,13,20,26,33,34,38,39,40,42,62,94,116,121,124,130,145,146,147,160,176,182,183,191,196,197],\"y\":[0.44573425431744024,0.31325194663775785,0.1923539626301527,0.3804503000272274,0.2970609810741265,0.12990407333752463,0.15121286497097775,0.22576668957663523,0.0967718003435825,0.10418792477358048,0.13708221040718185,0.1327470550306914,0.10064331461907569,0.09606316115412764,0.14638629223328806,0.08669020046935776,0.09527976422901176,0.10569945141994165,0.09343713718816066,0.09223083412710958,0.10239509242704552,0.089995347060581,0.10385132433748773,0.09771281553616255,0.07008948738808198,0.09048342362255352,0.07914363065743762,0.08218027339315814,0.09760503867966844,0.08450421488482183],\"type\":\"scatter\"},{\"mode\":\"lines\",\"name\":\"Best Value\",\"x\":[0,1,2,3,4,5,6,7,8,9,10,11,12,13,14,15,16,17,18,19,20,21,22,23,24,25,26,27,28,29,30,31,32,33,34,35,36,37,38,39,40,41,42,43,44,45,46,47,48,49,50,51,52,53,54,55,56,57,58,59,60,61,62,63,64,65,66,67,68,69,70,71,72,73,74,75,76,77,78,79,80,81,82,83,84,85,86,87,88,89,90,91,92,93,94,95,96,97,98,99,100,101,102,103,104,105,106,107,108,109,110,111,112,113,114,115,116,117,118,119,120,121,122,123,124,125,126,127,128,129,130,131,132,133,134,135,136,137,138,139,140,141,142,143,144,145,146,147,148,149,150,151,152,153,154,155,156,157,158,159,160,161,162,163,164,165,166,167,168,169,170,171,172,173,174,175,176,177,178,179,180,181,182,183,184,185,186,187,188,189,190,191,192,193,194,195,196,197,198,199],\"y\":[0.44573425431744024,0.31325194663775785,0.1923539626301527,0.1923539626301527,0.1923539626301527,0.1923539626301527,0.1923539626301527,0.1923539626301527,0.1923539626301527,0.1923539626301527,0.1923539626301527,0.1923539626301527,0.1923539626301527,0.12990407333752463,0.12990407333752463,0.12990407333752463,0.12990407333752463,0.12990407333752463,0.12990407333752463,0.12990407333752463,0.12990407333752463,0.12990407333752463,0.12990407333752463,0.12990407333752463,0.12990407333752463,0.12990407333752463,0.12990407333752463,0.12990407333752463,0.12990407333752463,0.12990407333752463,0.12990407333752463,0.12990407333752463,0.12990407333752463,0.0967718003435825,0.0967718003435825,0.0967718003435825,0.0967718003435825,0.0967718003435825,0.0967718003435825,0.0967718003435825,0.0967718003435825,0.0967718003435825,0.09606316115412764,0.09606316115412764,0.09606316115412764,0.09606316115412764,0.09606316115412764,0.09606316115412764,0.09606316115412764,0.09606316115412764,0.09606316115412764,0.09606316115412764,0.09606316115412764,0.09606316115412764,0.09606316115412764,0.09606316115412764,0.09606316115412764,0.09606316115412764,0.09606316115412764,0.09606316115412764,0.09606316115412764,0.09606316115412764,0.09606316115412764,0.09606316115412764,0.09606316115412764,0.09606316115412764,0.09606316115412764,0.09606316115412764,0.09606316115412764,0.09606316115412764,0.09606316115412764,0.09606316115412764,0.09606316115412764,0.09606316115412764,0.09606316115412764,0.09606316115412764,0.09606316115412764,0.09606316115412764,0.09606316115412764,0.09606316115412764,0.09606316115412764,0.09606316115412764,0.09606316115412764,0.09606316115412764,0.09606316115412764,0.09606316115412764,0.09606316115412764,0.09606316115412764,0.09606316115412764,0.09606316115412764,0.09606316115412764,0.09606316115412764,0.09606316115412764,0.09606316115412764,0.08669020046935776,0.08669020046935776,0.08669020046935776,0.08669020046935776,0.08669020046935776,0.08669020046935776,0.08669020046935776,0.08669020046935776,0.08669020046935776,0.08669020046935776,0.08669020046935776,0.08669020046935776,0.08669020046935776,0.08669020046935776,0.08669020046935776,0.08669020046935776,0.08669020046935776,0.08669020046935776,0.08669020046935776,0.08669020046935776,0.08669020046935776,0.08669020046935776,0.08669020046935776,0.08669020046935776,0.08669020046935776,0.08669020046935776,0.08669020046935776,0.08669020046935776,0.08669020046935776,0.08669020046935776,0.08669020046935776,0.08669020046935776,0.08669020046935776,0.08669020046935776,0.08669020046935776,0.08669020046935776,0.08669020046935776,0.08669020046935776,0.08669020046935776,0.08669020046935776,0.08669020046935776,0.08669020046935776,0.08669020046935776,0.08669020046935776,0.08669020046935776,0.08669020046935776,0.08669020046935776,0.08669020046935776,0.08669020046935776,0.08669020046935776,0.08669020046935776,0.08669020046935776,0.08669020046935776,0.08669020046935776,0.08669020046935776,0.08669020046935776,0.08669020046935776,0.08669020046935776,0.08669020046935776,0.08669020046935776,0.08669020046935776,0.08669020046935776,0.08669020046935776,0.08669020046935776,0.08669020046935776,0.08669020046935776,0.08669020046935776,0.08669020046935776,0.08669020046935776,0.08669020046935776,0.08669020046935776,0.08669020046935776,0.08669020046935776,0.08669020046935776,0.08669020046935776,0.08669020046935776,0.08669020046935776,0.08669020046935776,0.08669020046935776,0.08669020046935776,0.08669020046935776,0.08669020046935776,0.07008948738808198,0.07008948738808198,0.07008948738808198,0.07008948738808198,0.07008948738808198,0.07008948738808198,0.07008948738808198,0.07008948738808198,0.07008948738808198,0.07008948738808198,0.07008948738808198,0.07008948738808198,0.07008948738808198,0.07008948738808198,0.07008948738808198,0.07008948738808198,0.07008948738808198,0.07008948738808198,0.07008948738808198,0.07008948738808198,0.07008948738808198,0.07008948738808198,0.07008948738808198,0.07008948738808198],\"type\":\"scatter\"},{\"marker\":{\"color\":\"#cccccc\"},\"mode\":\"markers\",\"name\":\"Infeasible Trial\",\"showlegend\":false,\"x\":[],\"y\":[],\"type\":\"scatter\"}],                        {\"title\":{\"text\":\"Optimization History Plot\"},\"xaxis\":{\"title\":{\"text\":\"Trial\"}},\"yaxis\":{\"title\":{\"text\":\"Objective Value\"}},\"template\":{\"data\":{\"histogram2dcontour\":[{\"type\":\"histogram2dcontour\",\"colorbar\":{\"outlinewidth\":0,\"ticks\":\"\"},\"colorscale\":[[0.0,\"#0d0887\"],[0.1111111111111111,\"#46039f\"],[0.2222222222222222,\"#7201a8\"],[0.3333333333333333,\"#9c179e\"],[0.4444444444444444,\"#bd3786\"],[0.5555555555555556,\"#d8576b\"],[0.6666666666666666,\"#ed7953\"],[0.7777777777777778,\"#fb9f3a\"],[0.8888888888888888,\"#fdca26\"],[1.0,\"#f0f921\"]]}],\"choropleth\":[{\"type\":\"choropleth\",\"colorbar\":{\"outlinewidth\":0,\"ticks\":\"\"}}],\"histogram2d\":[{\"type\":\"histogram2d\",\"colorbar\":{\"outlinewidth\":0,\"ticks\":\"\"},\"colorscale\":[[0.0,\"#0d0887\"],[0.1111111111111111,\"#46039f\"],[0.2222222222222222,\"#7201a8\"],[0.3333333333333333,\"#9c179e\"],[0.4444444444444444,\"#bd3786\"],[0.5555555555555556,\"#d8576b\"],[0.6666666666666666,\"#ed7953\"],[0.7777777777777778,\"#fb9f3a\"],[0.8888888888888888,\"#fdca26\"],[1.0,\"#f0f921\"]]}],\"heatmap\":[{\"type\":\"heatmap\",\"colorbar\":{\"outlinewidth\":0,\"ticks\":\"\"},\"colorscale\":[[0.0,\"#0d0887\"],[0.1111111111111111,\"#46039f\"],[0.2222222222222222,\"#7201a8\"],[0.3333333333333333,\"#9c179e\"],[0.4444444444444444,\"#bd3786\"],[0.5555555555555556,\"#d8576b\"],[0.6666666666666666,\"#ed7953\"],[0.7777777777777778,\"#fb9f3a\"],[0.8888888888888888,\"#fdca26\"],[1.0,\"#f0f921\"]]}],\"heatmapgl\":[{\"type\":\"heatmapgl\",\"colorbar\":{\"outlinewidth\":0,\"ticks\":\"\"},\"colorscale\":[[0.0,\"#0d0887\"],[0.1111111111111111,\"#46039f\"],[0.2222222222222222,\"#7201a8\"],[0.3333333333333333,\"#9c179e\"],[0.4444444444444444,\"#bd3786\"],[0.5555555555555556,\"#d8576b\"],[0.6666666666666666,\"#ed7953\"],[0.7777777777777778,\"#fb9f3a\"],[0.8888888888888888,\"#fdca26\"],[1.0,\"#f0f921\"]]}],\"contourcarpet\":[{\"type\":\"contourcarpet\",\"colorbar\":{\"outlinewidth\":0,\"ticks\":\"\"}}],\"contour\":[{\"type\":\"contour\",\"colorbar\":{\"outlinewidth\":0,\"ticks\":\"\"},\"colorscale\":[[0.0,\"#0d0887\"],[0.1111111111111111,\"#46039f\"],[0.2222222222222222,\"#7201a8\"],[0.3333333333333333,\"#9c179e\"],[0.4444444444444444,\"#bd3786\"],[0.5555555555555556,\"#d8576b\"],[0.6666666666666666,\"#ed7953\"],[0.7777777777777778,\"#fb9f3a\"],[0.8888888888888888,\"#fdca26\"],[1.0,\"#f0f921\"]]}],\"surface\":[{\"type\":\"surface\",\"colorbar\":{\"outlinewidth\":0,\"ticks\":\"\"},\"colorscale\":[[0.0,\"#0d0887\"],[0.1111111111111111,\"#46039f\"],[0.2222222222222222,\"#7201a8\"],[0.3333333333333333,\"#9c179e\"],[0.4444444444444444,\"#bd3786\"],[0.5555555555555556,\"#d8576b\"],[0.6666666666666666,\"#ed7953\"],[0.7777777777777778,\"#fb9f3a\"],[0.8888888888888888,\"#fdca26\"],[1.0,\"#f0f921\"]]}],\"mesh3d\":[{\"type\":\"mesh3d\",\"colorbar\":{\"outlinewidth\":0,\"ticks\":\"\"}}],\"scatter\":[{\"fillpattern\":{\"fillmode\":\"overlay\",\"size\":10,\"solidity\":0.2},\"type\":\"scatter\"}],\"parcoords\":[{\"type\":\"parcoords\",\"line\":{\"colorbar\":{\"outlinewidth\":0,\"ticks\":\"\"}}}],\"scatterpolargl\":[{\"type\":\"scatterpolargl\",\"marker\":{\"colorbar\":{\"outlinewidth\":0,\"ticks\":\"\"}}}],\"bar\":[{\"error_x\":{\"color\":\"#2a3f5f\"},\"error_y\":{\"color\":\"#2a3f5f\"},\"marker\":{\"line\":{\"color\":\"#E5ECF6\",\"width\":0.5},\"pattern\":{\"fillmode\":\"overlay\",\"size\":10,\"solidity\":0.2}},\"type\":\"bar\"}],\"scattergeo\":[{\"type\":\"scattergeo\",\"marker\":{\"colorbar\":{\"outlinewidth\":0,\"ticks\":\"\"}}}],\"scatterpolar\":[{\"type\":\"scatterpolar\",\"marker\":{\"colorbar\":{\"outlinewidth\":0,\"ticks\":\"\"}}}],\"histogram\":[{\"marker\":{\"pattern\":{\"fillmode\":\"overlay\",\"size\":10,\"solidity\":0.2}},\"type\":\"histogram\"}],\"scattergl\":[{\"type\":\"scattergl\",\"marker\":{\"colorbar\":{\"outlinewidth\":0,\"ticks\":\"\"}}}],\"scatter3d\":[{\"type\":\"scatter3d\",\"line\":{\"colorbar\":{\"outlinewidth\":0,\"ticks\":\"\"}},\"marker\":{\"colorbar\":{\"outlinewidth\":0,\"ticks\":\"\"}}}],\"scattermapbox\":[{\"type\":\"scattermapbox\",\"marker\":{\"colorbar\":{\"outlinewidth\":0,\"ticks\":\"\"}}}],\"scatterternary\":[{\"type\":\"scatterternary\",\"marker\":{\"colorbar\":{\"outlinewidth\":0,\"ticks\":\"\"}}}],\"scattercarpet\":[{\"type\":\"scattercarpet\",\"marker\":{\"colorbar\":{\"outlinewidth\":0,\"ticks\":\"\"}}}],\"carpet\":[{\"aaxis\":{\"endlinecolor\":\"#2a3f5f\",\"gridcolor\":\"white\",\"linecolor\":\"white\",\"minorgridcolor\":\"white\",\"startlinecolor\":\"#2a3f5f\"},\"baxis\":{\"endlinecolor\":\"#2a3f5f\",\"gridcolor\":\"white\",\"linecolor\":\"white\",\"minorgridcolor\":\"white\",\"startlinecolor\":\"#2a3f5f\"},\"type\":\"carpet\"}],\"table\":[{\"cells\":{\"fill\":{\"color\":\"#EBF0F8\"},\"line\":{\"color\":\"white\"}},\"header\":{\"fill\":{\"color\":\"#C8D4E3\"},\"line\":{\"color\":\"white\"}},\"type\":\"table\"}],\"barpolar\":[{\"marker\":{\"line\":{\"color\":\"#E5ECF6\",\"width\":0.5},\"pattern\":{\"fillmode\":\"overlay\",\"size\":10,\"solidity\":0.2}},\"type\":\"barpolar\"}],\"pie\":[{\"automargin\":true,\"type\":\"pie\"}]},\"layout\":{\"autotypenumbers\":\"strict\",\"colorway\":[\"#636efa\",\"#EF553B\",\"#00cc96\",\"#ab63fa\",\"#FFA15A\",\"#19d3f3\",\"#FF6692\",\"#B6E880\",\"#FF97FF\",\"#FECB52\"],\"font\":{\"color\":\"#2a3f5f\"},\"hovermode\":\"closest\",\"hoverlabel\":{\"align\":\"left\"},\"paper_bgcolor\":\"white\",\"plot_bgcolor\":\"#E5ECF6\",\"polar\":{\"bgcolor\":\"#E5ECF6\",\"angularaxis\":{\"gridcolor\":\"white\",\"linecolor\":\"white\",\"ticks\":\"\"},\"radialaxis\":{\"gridcolor\":\"white\",\"linecolor\":\"white\",\"ticks\":\"\"}},\"ternary\":{\"bgcolor\":\"#E5ECF6\",\"aaxis\":{\"gridcolor\":\"white\",\"linecolor\":\"white\",\"ticks\":\"\"},\"baxis\":{\"gridcolor\":\"white\",\"linecolor\":\"white\",\"ticks\":\"\"},\"caxis\":{\"gridcolor\":\"white\",\"linecolor\":\"white\",\"ticks\":\"\"}},\"coloraxis\":{\"colorbar\":{\"outlinewidth\":0,\"ticks\":\"\"}},\"colorscale\":{\"sequential\":[[0.0,\"#0d0887\"],[0.1111111111111111,\"#46039f\"],[0.2222222222222222,\"#7201a8\"],[0.3333333333333333,\"#9c179e\"],[0.4444444444444444,\"#bd3786\"],[0.5555555555555556,\"#d8576b\"],[0.6666666666666666,\"#ed7953\"],[0.7777777777777778,\"#fb9f3a\"],[0.8888888888888888,\"#fdca26\"],[1.0,\"#f0f921\"]],\"sequentialminus\":[[0.0,\"#0d0887\"],[0.1111111111111111,\"#46039f\"],[0.2222222222222222,\"#7201a8\"],[0.3333333333333333,\"#9c179e\"],[0.4444444444444444,\"#bd3786\"],[0.5555555555555556,\"#d8576b\"],[0.6666666666666666,\"#ed7953\"],[0.7777777777777778,\"#fb9f3a\"],[0.8888888888888888,\"#fdca26\"],[1.0,\"#f0f921\"]],\"diverging\":[[0,\"#8e0152\"],[0.1,\"#c51b7d\"],[0.2,\"#de77ae\"],[0.3,\"#f1b6da\"],[0.4,\"#fde0ef\"],[0.5,\"#f7f7f7\"],[0.6,\"#e6f5d0\"],[0.7,\"#b8e186\"],[0.8,\"#7fbc41\"],[0.9,\"#4d9221\"],[1,\"#276419\"]]},\"xaxis\":{\"gridcolor\":\"white\",\"linecolor\":\"white\",\"ticks\":\"\",\"title\":{\"standoff\":15},\"zerolinecolor\":\"white\",\"automargin\":true,\"zerolinewidth\":2},\"yaxis\":{\"gridcolor\":\"white\",\"linecolor\":\"white\",\"ticks\":\"\",\"title\":{\"standoff\":15},\"zerolinecolor\":\"white\",\"automargin\":true,\"zerolinewidth\":2},\"scene\":{\"xaxis\":{\"backgroundcolor\":\"#E5ECF6\",\"gridcolor\":\"white\",\"linecolor\":\"white\",\"showbackground\":true,\"ticks\":\"\",\"zerolinecolor\":\"white\",\"gridwidth\":2},\"yaxis\":{\"backgroundcolor\":\"#E5ECF6\",\"gridcolor\":\"white\",\"linecolor\":\"white\",\"showbackground\":true,\"ticks\":\"\",\"zerolinecolor\":\"white\",\"gridwidth\":2},\"zaxis\":{\"backgroundcolor\":\"#E5ECF6\",\"gridcolor\":\"white\",\"linecolor\":\"white\",\"showbackground\":true,\"ticks\":\"\",\"zerolinecolor\":\"white\",\"gridwidth\":2}},\"shapedefaults\":{\"line\":{\"color\":\"#2a3f5f\"}},\"annotationdefaults\":{\"arrowcolor\":\"#2a3f5f\",\"arrowhead\":0,\"arrowwidth\":1},\"geo\":{\"bgcolor\":\"white\",\"landcolor\":\"#E5ECF6\",\"subunitcolor\":\"white\",\"showland\":true,\"showlakes\":true,\"lakecolor\":\"white\"},\"title\":{\"x\":0.05},\"mapbox\":{\"style\":\"light\"}}}},                        {\"responsive\": true}                    )                };                            </script>        </div>"
      ],
      "text/plain": [
       "Figure({\n",
       "    'data': [{'mode': 'markers',\n",
       "              'name': 'Objective Value',\n",
       "              'type': 'scatter',\n",
       "              'x': [0, 1, 2, 3, 4, 13, 20, 26, 33, 34, 38, 39, 40, 42, 62, 94,\n",
       "                    116, 121, 124, 130, 145, 146, 147, 160, 176, 182, 183, 191,\n",
       "                    196, 197],\n",
       "              'y': [0.44573425431744024, 0.31325194663775785, 0.1923539626301527,\n",
       "                    0.3804503000272274, 0.2970609810741265, 0.12990407333752463,\n",
       "                    0.15121286497097775, 0.22576668957663523, 0.0967718003435825,\n",
       "                    0.10418792477358048, 0.13708221040718185, 0.1327470550306914,\n",
       "                    0.10064331461907569, 0.09606316115412764, 0.14638629223328806,\n",
       "                    0.08669020046935776, 0.09527976422901176, 0.10569945141994165,\n",
       "                    0.09343713718816066, 0.09223083412710958, 0.10239509242704552,\n",
       "                    0.089995347060581, 0.10385132433748773, 0.09771281553616255,\n",
       "                    0.07008948738808198, 0.09048342362255352, 0.07914363065743762,\n",
       "                    0.08218027339315814, 0.09760503867966844, 0.08450421488482183]},\n",
       "             {'mode': 'lines',\n",
       "              'name': 'Best Value',\n",
       "              'type': 'scatter',\n",
       "              'x': [0, 1, 2, 3, 4, 5, 6, 7, 8, 9, 10, 11, 12, 13, 14, 15, 16, 17,\n",
       "                    18, 19, 20, 21, 22, 23, 24, 25, 26, 27, 28, 29, 30, 31, 32, 33,\n",
       "                    34, 35, 36, 37, 38, 39, 40, 41, 42, 43, 44, 45, 46, 47, 48, 49,\n",
       "                    50, 51, 52, 53, 54, 55, 56, 57, 58, 59, 60, 61, 62, 63, 64, 65,\n",
       "                    66, 67, 68, 69, 70, 71, 72, 73, 74, 75, 76, 77, 78, 79, 80, 81,\n",
       "                    82, 83, 84, 85, 86, 87, 88, 89, 90, 91, 92, 93, 94, 95, 96, 97,\n",
       "                    98, 99, 100, 101, 102, 103, 104, 105, 106, 107, 108, 109, 110,\n",
       "                    111, 112, 113, 114, 115, 116, 117, 118, 119, 120, 121, 122,\n",
       "                    123, 124, 125, 126, 127, 128, 129, 130, 131, 132, 133, 134,\n",
       "                    135, 136, 137, 138, 139, 140, 141, 142, 143, 144, 145, 146,\n",
       "                    147, 148, 149, 150, 151, 152, 153, 154, 155, 156, 157, 158,\n",
       "                    159, 160, 161, 162, 163, 164, 165, 166, 167, 168, 169, 170,\n",
       "                    171, 172, 173, 174, 175, 176, 177, 178, 179, 180, 181, 182,\n",
       "                    183, 184, 185, 186, 187, 188, 189, 190, 191, 192, 193, 194,\n",
       "                    195, 196, 197, 198, 199],\n",
       "              'y': [0.44573425431744024, 0.31325194663775785, 0.1923539626301527,\n",
       "                    0.1923539626301527, 0.1923539626301527, 0.1923539626301527,\n",
       "                    0.1923539626301527, 0.1923539626301527, 0.1923539626301527,\n",
       "                    0.1923539626301527, 0.1923539626301527, 0.1923539626301527,\n",
       "                    0.1923539626301527, 0.12990407333752463, 0.12990407333752463,\n",
       "                    0.12990407333752463, 0.12990407333752463, 0.12990407333752463,\n",
       "                    0.12990407333752463, 0.12990407333752463, 0.12990407333752463,\n",
       "                    0.12990407333752463, 0.12990407333752463, 0.12990407333752463,\n",
       "                    0.12990407333752463, 0.12990407333752463, 0.12990407333752463,\n",
       "                    0.12990407333752463, 0.12990407333752463, 0.12990407333752463,\n",
       "                    0.12990407333752463, 0.12990407333752463, 0.12990407333752463,\n",
       "                    0.0967718003435825, 0.0967718003435825, 0.0967718003435825,\n",
       "                    0.0967718003435825, 0.0967718003435825, 0.0967718003435825,\n",
       "                    0.0967718003435825, 0.0967718003435825, 0.0967718003435825,\n",
       "                    0.09606316115412764, 0.09606316115412764, 0.09606316115412764,\n",
       "                    0.09606316115412764, 0.09606316115412764, 0.09606316115412764,\n",
       "                    0.09606316115412764, 0.09606316115412764, 0.09606316115412764,\n",
       "                    0.09606316115412764, 0.09606316115412764, 0.09606316115412764,\n",
       "                    0.09606316115412764, 0.09606316115412764, 0.09606316115412764,\n",
       "                    0.09606316115412764, 0.09606316115412764, 0.09606316115412764,\n",
       "                    0.09606316115412764, 0.09606316115412764, 0.09606316115412764,\n",
       "                    0.09606316115412764, 0.09606316115412764, 0.09606316115412764,\n",
       "                    0.09606316115412764, 0.09606316115412764, 0.09606316115412764,\n",
       "                    0.09606316115412764, 0.09606316115412764, 0.09606316115412764,\n",
       "                    0.09606316115412764, 0.09606316115412764, 0.09606316115412764,\n",
       "                    0.09606316115412764, 0.09606316115412764, 0.09606316115412764,\n",
       "                    0.09606316115412764, 0.09606316115412764, 0.09606316115412764,\n",
       "                    0.09606316115412764, 0.09606316115412764, 0.09606316115412764,\n",
       "                    0.09606316115412764, 0.09606316115412764, 0.09606316115412764,\n",
       "                    0.09606316115412764, 0.09606316115412764, 0.09606316115412764,\n",
       "                    0.09606316115412764, 0.09606316115412764, 0.09606316115412764,\n",
       "                    0.09606316115412764, 0.08669020046935776, 0.08669020046935776,\n",
       "                    0.08669020046935776, 0.08669020046935776, 0.08669020046935776,\n",
       "                    0.08669020046935776, 0.08669020046935776, 0.08669020046935776,\n",
       "                    0.08669020046935776, 0.08669020046935776, 0.08669020046935776,\n",
       "                    0.08669020046935776, 0.08669020046935776, 0.08669020046935776,\n",
       "                    0.08669020046935776, 0.08669020046935776, 0.08669020046935776,\n",
       "                    0.08669020046935776, 0.08669020046935776, 0.08669020046935776,\n",
       "                    0.08669020046935776, 0.08669020046935776, 0.08669020046935776,\n",
       "                    0.08669020046935776, 0.08669020046935776, 0.08669020046935776,\n",
       "                    0.08669020046935776, 0.08669020046935776, 0.08669020046935776,\n",
       "                    0.08669020046935776, 0.08669020046935776, 0.08669020046935776,\n",
       "                    0.08669020046935776, 0.08669020046935776, 0.08669020046935776,\n",
       "                    0.08669020046935776, 0.08669020046935776, 0.08669020046935776,\n",
       "                    0.08669020046935776, 0.08669020046935776, 0.08669020046935776,\n",
       "                    0.08669020046935776, 0.08669020046935776, 0.08669020046935776,\n",
       "                    0.08669020046935776, 0.08669020046935776, 0.08669020046935776,\n",
       "                    0.08669020046935776, 0.08669020046935776, 0.08669020046935776,\n",
       "                    0.08669020046935776, 0.08669020046935776, 0.08669020046935776,\n",
       "                    0.08669020046935776, 0.08669020046935776, 0.08669020046935776,\n",
       "                    0.08669020046935776, 0.08669020046935776, 0.08669020046935776,\n",
       "                    0.08669020046935776, 0.08669020046935776, 0.08669020046935776,\n",
       "                    0.08669020046935776, 0.08669020046935776, 0.08669020046935776,\n",
       "                    0.08669020046935776, 0.08669020046935776, 0.08669020046935776,\n",
       "                    0.08669020046935776, 0.08669020046935776, 0.08669020046935776,\n",
       "                    0.08669020046935776, 0.08669020046935776, 0.08669020046935776,\n",
       "                    0.08669020046935776, 0.08669020046935776, 0.08669020046935776,\n",
       "                    0.08669020046935776, 0.08669020046935776, 0.08669020046935776,\n",
       "                    0.08669020046935776, 0.08669020046935776, 0.07008948738808198,\n",
       "                    0.07008948738808198, 0.07008948738808198, 0.07008948738808198,\n",
       "                    0.07008948738808198, 0.07008948738808198, 0.07008948738808198,\n",
       "                    0.07008948738808198, 0.07008948738808198, 0.07008948738808198,\n",
       "                    0.07008948738808198, 0.07008948738808198, 0.07008948738808198,\n",
       "                    0.07008948738808198, 0.07008948738808198, 0.07008948738808198,\n",
       "                    0.07008948738808198, 0.07008948738808198, 0.07008948738808198,\n",
       "                    0.07008948738808198, 0.07008948738808198, 0.07008948738808198,\n",
       "                    0.07008948738808198, 0.07008948738808198]},\n",
       "             {'marker': {'color': '#cccccc'},\n",
       "              'mode': 'markers',\n",
       "              'name': 'Infeasible Trial',\n",
       "              'showlegend': False,\n",
       "              'type': 'scatter',\n",
       "              'x': [],\n",
       "              'y': []}],\n",
       "    'layout': {'template': '...',\n",
       "               'title': {'text': 'Optimization History Plot'},\n",
       "               'xaxis': {'title': {'text': 'Trial'}},\n",
       "               'yaxis': {'title': {'text': 'Objective Value'}}}\n",
       "})"
      ]
     },
     "execution_count": 39,
     "metadata": {},
     "output_type": "execute_result"
    }
   ],
   "source": [
    "# History of optimization\n",
    "\n",
    "optuna.visualization.plot_optimization_history(study)"
   ]
  },
  {
   "cell_type": "code",
   "execution_count": 40,
   "metadata": {
    "colab": {
     "base_uri": "https://localhost:8080/",
     "height": 562
    },
    "id": "Wv179g_9HAiL",
    "outputId": "66117f10-ed3d-481f-d7a4-39c042f0e094"
   },
   "outputs": [
    {
     "ename": "ValueError",
     "evalue": "Mime type rendering requires nbformat>=4.2.0 but it is not installed",
     "output_type": "error",
     "traceback": [
      "\u001b[1;31m---------------------------------------------------------------------------\u001b[0m",
      "\u001b[1;31mValueError\u001b[0m                                Traceback (most recent call last)",
      "File \u001b[1;32m~\\AppData\\Roaming\\Python\\Python312\\site-packages\\IPython\\core\\formatters.py:925\u001b[0m, in \u001b[0;36mIPythonDisplayFormatter.__call__\u001b[1;34m(self, obj)\u001b[0m\n\u001b[0;32m    923\u001b[0m method \u001b[38;5;241m=\u001b[39m get_real_method(obj, \u001b[38;5;28mself\u001b[39m\u001b[38;5;241m.\u001b[39mprint_method)\n\u001b[0;32m    924\u001b[0m \u001b[38;5;28;01mif\u001b[39;00m method \u001b[38;5;129;01mis\u001b[39;00m \u001b[38;5;129;01mnot\u001b[39;00m \u001b[38;5;28;01mNone\u001b[39;00m:\n\u001b[1;32m--> 925\u001b[0m     \u001b[43mmethod\u001b[49m\u001b[43m(\u001b[49m\u001b[43m)\u001b[49m\n\u001b[0;32m    926\u001b[0m     \u001b[38;5;28;01mreturn\u001b[39;00m \u001b[38;5;28;01mTrue\u001b[39;00m\n",
      "File \u001b[1;32mc:\\Users\\Aleks\\AppData\\Local\\Programs\\Python\\Python312\\Lib\\site-packages\\plotly\\basedatatypes.py:832\u001b[0m, in \u001b[0;36mBaseFigure._ipython_display_\u001b[1;34m(self)\u001b[0m\n\u001b[0;32m    829\u001b[0m \u001b[38;5;28;01mimport\u001b[39;00m \u001b[38;5;21;01mplotly\u001b[39;00m\u001b[38;5;21;01m.\u001b[39;00m\u001b[38;5;21;01mio\u001b[39;00m \u001b[38;5;28;01mas\u001b[39;00m \u001b[38;5;21;01mpio\u001b[39;00m\n\u001b[0;32m    831\u001b[0m \u001b[38;5;28;01mif\u001b[39;00m pio\u001b[38;5;241m.\u001b[39mrenderers\u001b[38;5;241m.\u001b[39mrender_on_display \u001b[38;5;129;01mand\u001b[39;00m pio\u001b[38;5;241m.\u001b[39mrenderers\u001b[38;5;241m.\u001b[39mdefault:\n\u001b[1;32m--> 832\u001b[0m     \u001b[43mpio\u001b[49m\u001b[38;5;241;43m.\u001b[39;49m\u001b[43mshow\u001b[49m\u001b[43m(\u001b[49m\u001b[38;5;28;43mself\u001b[39;49m\u001b[43m)\u001b[49m\n\u001b[0;32m    833\u001b[0m \u001b[38;5;28;01melse\u001b[39;00m:\n\u001b[0;32m    834\u001b[0m     \u001b[38;5;28mprint\u001b[39m(\u001b[38;5;28mrepr\u001b[39m(\u001b[38;5;28mself\u001b[39m))\n",
      "File \u001b[1;32mc:\\Users\\Aleks\\AppData\\Local\\Programs\\Python\\Python312\\Lib\\site-packages\\plotly\\io\\_renderers.py:394\u001b[0m, in \u001b[0;36mshow\u001b[1;34m(fig, renderer, validate, **kwargs)\u001b[0m\n\u001b[0;32m    389\u001b[0m         \u001b[38;5;28;01mraise\u001b[39;00m \u001b[38;5;167;01mValueError\u001b[39;00m(\n\u001b[0;32m    390\u001b[0m             \u001b[38;5;124m\"\u001b[39m\u001b[38;5;124mMime type rendering requires ipython but it is not installed\u001b[39m\u001b[38;5;124m\"\u001b[39m\n\u001b[0;32m    391\u001b[0m         )\n\u001b[0;32m    393\u001b[0m     \u001b[38;5;28;01mif\u001b[39;00m \u001b[38;5;129;01mnot\u001b[39;00m nbformat \u001b[38;5;129;01mor\u001b[39;00m Version(nbformat\u001b[38;5;241m.\u001b[39m__version__) \u001b[38;5;241m<\u001b[39m Version(\u001b[38;5;124m\"\u001b[39m\u001b[38;5;124m4.2.0\u001b[39m\u001b[38;5;124m\"\u001b[39m):\n\u001b[1;32m--> 394\u001b[0m         \u001b[38;5;28;01mraise\u001b[39;00m \u001b[38;5;167;01mValueError\u001b[39;00m(\n\u001b[0;32m    395\u001b[0m             \u001b[38;5;124m\"\u001b[39m\u001b[38;5;124mMime type rendering requires nbformat>=4.2.0 but it is not installed\u001b[39m\u001b[38;5;124m\"\u001b[39m\n\u001b[0;32m    396\u001b[0m         )\n\u001b[0;32m    398\u001b[0m     ipython_display\u001b[38;5;241m.\u001b[39mdisplay(bundle, raw\u001b[38;5;241m=\u001b[39m\u001b[38;5;28;01mTrue\u001b[39;00m)\n\u001b[0;32m    400\u001b[0m \u001b[38;5;66;03m# external renderers\u001b[39;00m\n",
      "\u001b[1;31mValueError\u001b[0m: Mime type rendering requires nbformat>=4.2.0 but it is not installed"
     ]
    },
    {
     "data": {
      "application/vnd.plotly.v1+json": {
       "config": {
        "plotlyServerURL": "https://plot.ly"
       },
       "data": [
        {
         "marker": {
          "color": [
           0,
           2,
           4,
           13,
           20,
           26,
           33,
           34,
           38,
           39,
           40,
           42,
           62,
           94,
           116,
           121,
           124,
           130,
           145,
           146,
           147,
           160,
           176,
           182,
           183,
           191,
           196,
           197
          ],
          "colorbar": {
           "title": {
            "text": "Trial"
           },
           "x": 1,
           "xpad": 40
          },
          "colorscale": [
           [
            0,
            "rgb(247,251,255)"
           ],
           [
            0.125,
            "rgb(222,235,247)"
           ],
           [
            0.25,
            "rgb(198,219,239)"
           ],
           [
            0.375,
            "rgb(158,202,225)"
           ],
           [
            0.5,
            "rgb(107,174,214)"
           ],
           [
            0.625,
            "rgb(66,146,198)"
           ],
           [
            0.75,
            "rgb(33,113,181)"
           ],
           [
            0.875,
            "rgb(8,81,156)"
           ],
           [
            1,
            "rgb(8,48,107)"
           ]
          ],
          "line": {
           "color": "Grey",
           "width": 0.5
          },
          "showscale": true
         },
         "mode": "markers",
         "name": "Feasible Trial",
         "showlegend": false,
         "type": "scatter",
         "x": [
          5.896137534558643,
          1.228516961349656,
          4.243219898452257,
          9.014036856436508,
          9.987073306041054,
          9.756866720834928,
          9.911277411849381,
          9.8344912810759,
          9.864930915569468,
          8.096631895075989,
          7.64697249569321,
          7.412643687048379,
          9.951184484014943,
          8.663707807805357,
          9.985819159361096,
          9.976941278516367,
          8.754107426125122,
          8.558265773497306,
          9.983721006190395,
          9.988003585502463,
          9.903001026279528,
          9.995309448742987,
          9.992836685513474,
          9.915390407426234,
          9.89872496891705,
          9.897144646417793,
          8.892351413478782,
          7.577733046671767
         ],
         "xaxis": "x",
         "y": [
          0.44573425431744024,
          0.1923539626301527,
          0.2970609810741265,
          0.12990407333752463,
          0.15121286497097775,
          0.22576668957663523,
          0.0967718003435825,
          0.10418792477358048,
          0.13708221040718185,
          0.1327470550306914,
          0.10064331461907569,
          0.09606316115412764,
          0.14638629223328806,
          0.08669020046935776,
          0.09527976422901176,
          0.10569945141994165,
          0.09343713718816066,
          0.09223083412710958,
          0.10239509242704552,
          0.089995347060581,
          0.10385132433748773,
          0.09771281553616255,
          0.07008948738808198,
          0.09048342362255352,
          0.07914363065743762,
          0.08218027339315814,
          0.09760503867966844,
          0.08450421488482183
         ],
         "yaxis": "y"
        },
        {
         "marker": {
          "color": [
           0,
           1,
           2,
           3,
           4,
           13,
           20,
           26,
           33,
           34,
           38,
           39,
           40,
           42,
           62,
           94,
           116,
           121,
           124,
           130,
           145,
           146,
           147,
           160,
           176,
           182,
           183,
           191,
           196,
           197
          ],
          "colorbar": {
           "title": {
            "text": "Trial"
           },
           "x": 1,
           "xpad": 40
          },
          "colorscale": [
           [
            0,
            "rgb(247,251,255)"
           ],
           [
            0.125,
            "rgb(222,235,247)"
           ],
           [
            0.25,
            "rgb(198,219,239)"
           ],
           [
            0.375,
            "rgb(158,202,225)"
           ],
           [
            0.5,
            "rgb(107,174,214)"
           ],
           [
            0.625,
            "rgb(66,146,198)"
           ],
           [
            0.75,
            "rgb(33,113,181)"
           ],
           [
            0.875,
            "rgb(8,81,156)"
           ],
           [
            1,
            "rgb(8,48,107)"
           ]
          ],
          "line": {
           "color": "Grey",
           "width": 0.5
          },
          "showscale": false
         },
         "mode": "markers",
         "name": "Feasible Trial",
         "showlegend": false,
         "type": "scatter",
         "x": [
          "Bayesian",
          "Bernoulli",
          "Bayesian",
          "Bernoulli",
          "Bayesian",
          "Bayesian",
          "Bayesian",
          "Bayesian",
          "Bayesian",
          "Bayesian",
          "Bayesian",
          "Bayesian",
          "Bayesian",
          "Bayesian",
          "Bayesian",
          "Bayesian",
          "Bayesian",
          "Bayesian",
          "Bayesian",
          "Bayesian",
          "Bayesian",
          "Bayesian",
          "Bayesian",
          "Bayesian",
          "Bayesian",
          "Bayesian",
          "Bayesian",
          "Bayesian",
          "Bayesian",
          "Bayesian"
         ],
         "xaxis": "x2",
         "y": [
          0.44573425431744024,
          0.31325194663775785,
          0.1923539626301527,
          0.3804503000272274,
          0.2970609810741265,
          0.12990407333752463,
          0.15121286497097775,
          0.22576668957663523,
          0.0967718003435825,
          0.10418792477358048,
          0.13708221040718185,
          0.1327470550306914,
          0.10064331461907569,
          0.09606316115412764,
          0.14638629223328806,
          0.08669020046935776,
          0.09527976422901176,
          0.10569945141994165,
          0.09343713718816066,
          0.09223083412710958,
          0.10239509242704552,
          0.089995347060581,
          0.10385132433748773,
          0.09771281553616255,
          0.07008948738808198,
          0.09048342362255352,
          0.07914363065743762,
          0.08218027339315814,
          0.09760503867966844,
          0.08450421488482183
         ],
         "yaxis": "y2"
        },
        {
         "marker": {
          "color": [
           0,
           1,
           2,
           3,
           4,
           13,
           20,
           26,
           33,
           34,
           38,
           39,
           40,
           42,
           62,
           94,
           116,
           121,
           124,
           130,
           145,
           146,
           147,
           160,
           176,
           182,
           183,
           191,
           196,
           197
          ],
          "colorbar": {
           "title": {
            "text": "Trial"
           },
           "x": 1,
           "xpad": 40
          },
          "colorscale": [
           [
            0,
            "rgb(247,251,255)"
           ],
           [
            0.125,
            "rgb(222,235,247)"
           ],
           [
            0.25,
            "rgb(198,219,239)"
           ],
           [
            0.375,
            "rgb(158,202,225)"
           ],
           [
            0.5,
            "rgb(107,174,214)"
           ],
           [
            0.625,
            "rgb(66,146,198)"
           ],
           [
            0.75,
            "rgb(33,113,181)"
           ],
           [
            0.875,
            "rgb(8,81,156)"
           ],
           [
            1,
            "rgb(8,48,107)"
           ]
          ],
          "line": {
           "color": "Grey",
           "width": 0.5
          },
          "showscale": false
         },
         "mode": "markers",
         "name": "Feasible Trial",
         "showlegend": false,
         "type": "scatter",
         "x": [
          471,
          249,
          307,
          323,
          311,
          217,
          333,
          186,
          294,
          193,
          234,
          233,
          288,
          359,
          246,
          330,
          367,
          317,
          330,
          279,
          229,
          179,
          162,
          135,
          167,
          383,
          454,
          257,
          277,
          279
         ],
         "xaxis": "x3",
         "y": [
          0.44573425431744024,
          0.31325194663775785,
          0.1923539626301527,
          0.3804503000272274,
          0.2970609810741265,
          0.12990407333752463,
          0.15121286497097775,
          0.22576668957663523,
          0.0967718003435825,
          0.10418792477358048,
          0.13708221040718185,
          0.1327470550306914,
          0.10064331461907569,
          0.09606316115412764,
          0.14638629223328806,
          0.08669020046935776,
          0.09527976422901176,
          0.10569945141994165,
          0.09343713718816066,
          0.09223083412710958,
          0.10239509242704552,
          0.089995347060581,
          0.10385132433748773,
          0.09771281553616255,
          0.07008948738808198,
          0.09048342362255352,
          0.07914363065743762,
          0.08218027339315814,
          0.09760503867966844,
          0.08450421488482183
         ],
         "yaxis": "y3"
        },
        {
         "marker": {
          "color": [
           0,
           1,
           2,
           3,
           4,
           13,
           20,
           26,
           33,
           34,
           38,
           39,
           40,
           42,
           62,
           94,
           116,
           121,
           124,
           130,
           145,
           146,
           147,
           160,
           176,
           182,
           183,
           191,
           196,
           197
          ],
          "colorbar": {
           "title": {
            "text": "Trial"
           },
           "x": 1,
           "xpad": 40
          },
          "colorscale": [
           [
            0,
            "rgb(247,251,255)"
           ],
           [
            0.125,
            "rgb(222,235,247)"
           ],
           [
            0.25,
            "rgb(198,219,239)"
           ],
           [
            0.375,
            "rgb(158,202,225)"
           ],
           [
            0.5,
            "rgb(107,174,214)"
           ],
           [
            0.625,
            "rgb(66,146,198)"
           ],
           [
            0.75,
            "rgb(33,113,181)"
           ],
           [
            0.875,
            "rgb(8,81,156)"
           ],
           [
            1,
            "rgb(8,48,107)"
           ]
          ],
          "line": {
           "color": "Grey",
           "width": 0.5
          },
          "showscale": false
         },
         "mode": "markers",
         "name": "Feasible Trial",
         "showlegend": false,
         "type": "scatter",
         "x": [
          4,
          10,
          11,
          8,
          12,
          12,
          8,
          9,
          11,
          10,
          12,
          12,
          11,
          12,
          12,
          12,
          12,
          11,
          12,
          11,
          12,
          12,
          12,
          10,
          10,
          12,
          12,
          10,
          12,
          12
         ],
         "xaxis": "x4",
         "y": [
          0.44573425431744024,
          0.31325194663775785,
          0.1923539626301527,
          0.3804503000272274,
          0.2970609810741265,
          0.12990407333752463,
          0.15121286497097775,
          0.22576668957663523,
          0.0967718003435825,
          0.10418792477358048,
          0.13708221040718185,
          0.1327470550306914,
          0.10064331461907569,
          0.09606316115412764,
          0.14638629223328806,
          0.08669020046935776,
          0.09527976422901176,
          0.10569945141994165,
          0.09343713718816066,
          0.09223083412710958,
          0.10239509242704552,
          0.089995347060581,
          0.10385132433748773,
          0.09771281553616255,
          0.07008948738808198,
          0.09048342362255352,
          0.07914363065743762,
          0.08218027339315814,
          0.09760503867966844,
          0.08450421488482183
         ],
         "yaxis": "y4"
        },
        {
         "marker": {
          "color": [
           0,
           1,
           2,
           3,
           4,
           13,
           20,
           26,
           33,
           34,
           38,
           39,
           40,
           42,
           62,
           94,
           116,
           121,
           124,
           130,
           145,
           146,
           147,
           160,
           176,
           182,
           183,
           191,
           196,
           197
          ],
          "colorbar": {
           "title": {
            "text": "Trial"
           },
           "x": 1,
           "xpad": 40
          },
          "colorscale": [
           [
            0,
            "rgb(247,251,255)"
           ],
           [
            0.125,
            "rgb(222,235,247)"
           ],
           [
            0.25,
            "rgb(198,219,239)"
           ],
           [
            0.375,
            "rgb(158,202,225)"
           ],
           [
            0.5,
            "rgb(107,174,214)"
           ],
           [
            0.625,
            "rgb(66,146,198)"
           ],
           [
            0.75,
            "rgb(33,113,181)"
           ],
           [
            0.875,
            "rgb(8,81,156)"
           ],
           [
            1,
            "rgb(8,48,107)"
           ]
          ],
          "line": {
           "color": "Grey",
           "width": 0.5
          },
          "showscale": false
         },
         "mode": "markers",
         "name": "Feasible Trial",
         "showlegend": false,
         "type": "scatter",
         "x": [
          "Depthwise",
          "SymmetricTree",
          "Depthwise",
          "Depthwise",
          "SymmetricTree",
          "SymmetricTree",
          "Depthwise",
          "SymmetricTree",
          "Depthwise",
          "Depthwise",
          "SymmetricTree",
          "Depthwise",
          "Depthwise",
          "Depthwise",
          "SymmetricTree",
          "Depthwise",
          "Depthwise",
          "Depthwise",
          "Depthwise",
          "Depthwise",
          "Depthwise",
          "Depthwise",
          "Depthwise",
          "Depthwise",
          "Depthwise",
          "Depthwise",
          "Depthwise",
          "Depthwise",
          "Depthwise",
          "Depthwise"
         ],
         "xaxis": "x5",
         "y": [
          0.44573425431744024,
          0.31325194663775785,
          0.1923539626301527,
          0.3804503000272274,
          0.2970609810741265,
          0.12990407333752463,
          0.15121286497097775,
          0.22576668957663523,
          0.0967718003435825,
          0.10418792477358048,
          0.13708221040718185,
          0.1327470550306914,
          0.10064331461907569,
          0.09606316115412764,
          0.14638629223328806,
          0.08669020046935776,
          0.09527976422901176,
          0.10569945141994165,
          0.09343713718816066,
          0.09223083412710958,
          0.10239509242704552,
          0.089995347060581,
          0.10385132433748773,
          0.09771281553616255,
          0.07008948738808198,
          0.09048342362255352,
          0.07914363065743762,
          0.08218027339315814,
          0.09760503867966844,
          0.08450421488482183
         ],
         "yaxis": "y5"
        },
        {
         "marker": {
          "color": [
           0,
           1,
           2,
           3,
           4,
           13,
           20,
           26,
           33,
           34,
           38,
           39,
           40,
           42,
           62,
           94,
           116,
           121,
           124,
           130,
           145,
           146,
           147,
           160,
           176,
           182,
           183,
           191,
           196,
           197
          ],
          "colorbar": {
           "title": {
            "text": "Trial"
           },
           "x": 1,
           "xpad": 40
          },
          "colorscale": [
           [
            0,
            "rgb(247,251,255)"
           ],
           [
            0.125,
            "rgb(222,235,247)"
           ],
           [
            0.25,
            "rgb(198,219,239)"
           ],
           [
            0.375,
            "rgb(158,202,225)"
           ],
           [
            0.5,
            "rgb(107,174,214)"
           ],
           [
            0.625,
            "rgb(66,146,198)"
           ],
           [
            0.75,
            "rgb(33,113,181)"
           ],
           [
            0.875,
            "rgb(8,81,156)"
           ],
           [
            1,
            "rgb(8,48,107)"
           ]
          ],
          "line": {
           "color": "Grey",
           "width": 0.5
          },
          "showscale": false
         },
         "mode": "markers",
         "name": "Feasible Trial",
         "showlegend": false,
         "type": "scatter",
         "x": [
          4.598603416089688,
          5.522568137371598,
          2.2537162067885674,
          7.691103672226161,
          0.9120557080741232,
          3.6478802698132933,
          1.2822175353741807,
          2.1689869422107373,
          2.698003676918142,
          3.670455508035167,
          2.385352477188939,
          3.760155483398436,
          4.414198756950219,
          4.795720556739125,
          4.078678438980133,
          8.330263653741417,
          4.174514265635646,
          4.401139925053949,
          5.8412572981827,
          5.2619652636956005,
          5.128188728918285,
          5.258346084743444,
          4.751782062165222,
          5.920840442593013,
          6.752884443750061,
          6.5257286864699635,
          5.100359145871922,
          3.7250637737279835,
          5.165687406460412,
          6.040666672225204
         ],
         "xaxis": "x6",
         "y": [
          0.44573425431744024,
          0.31325194663775785,
          0.1923539626301527,
          0.3804503000272274,
          0.2970609810741265,
          0.12990407333752463,
          0.15121286497097775,
          0.22576668957663523,
          0.0967718003435825,
          0.10418792477358048,
          0.13708221040718185,
          0.1327470550306914,
          0.10064331461907569,
          0.09606316115412764,
          0.14638629223328806,
          0.08669020046935776,
          0.09527976422901176,
          0.10569945141994165,
          0.09343713718816066,
          0.09223083412710958,
          0.10239509242704552,
          0.089995347060581,
          0.10385132433748773,
          0.09771281553616255,
          0.07008948738808198,
          0.09048342362255352,
          0.07914363065743762,
          0.08218027339315814,
          0.09760503867966844,
          0.08450421488482183
         ],
         "yaxis": "y6"
        },
        {
         "marker": {
          "color": [
           0,
           1,
           2,
           3,
           4,
           13,
           20,
           26,
           33,
           34,
           38,
           39,
           40,
           42,
           62,
           94,
           116,
           121,
           124,
           130,
           145,
           146,
           147,
           160,
           176,
           182,
           183,
           191,
           196,
           197
          ],
          "colorbar": {
           "title": {
            "text": "Trial"
           },
           "x": 1,
           "xpad": 40
          },
          "colorscale": [
           [
            0,
            "rgb(247,251,255)"
           ],
           [
            0.125,
            "rgb(222,235,247)"
           ],
           [
            0.25,
            "rgb(198,219,239)"
           ],
           [
            0.375,
            "rgb(158,202,225)"
           ],
           [
            0.5,
            "rgb(107,174,214)"
           ],
           [
            0.625,
            "rgb(66,146,198)"
           ],
           [
            0.75,
            "rgb(33,113,181)"
           ],
           [
            0.875,
            "rgb(8,81,156)"
           ],
           [
            1,
            "rgb(8,48,107)"
           ]
          ],
          "line": {
           "color": "Grey",
           "width": 0.5
          },
          "showscale": false
         },
         "mode": "markers",
         "name": "Feasible Trial",
         "showlegend": false,
         "type": "scatter",
         "x": [
          0.3023566097075212,
          0.626473206229759,
          0.17993030672813215,
          0.7261381221193408,
          0.4152476898098848,
          0.1523639476459231,
          0.1537519327561497,
          0.5889529344613407,
          0.2934667999857045,
          0.27873164046780347,
          0.2583711508816783,
          0.2306514034264288,
          0.2554394812697451,
          0.26702716130652354,
          0.3203511901253876,
          0.26238916853480065,
          0.2879108158262327,
          0.4135738124044074,
          0.37099974343510955,
          0.4269214470686331,
          0.4637122882039103,
          0.3442433776050216,
          0.38886439052637994,
          0.4929086496406034,
          0.46510940176204085,
          0.30189610876484696,
          0.3071357315456206,
          0.3739306345669003,
          0.3480277939716783,
          0.3828839078650477
         ],
         "xaxis": "x7",
         "y": [
          0.44573425431744024,
          0.31325194663775785,
          0.1923539626301527,
          0.3804503000272274,
          0.2970609810741265,
          0.12990407333752463,
          0.15121286497097775,
          0.22576668957663523,
          0.0967718003435825,
          0.10418792477358048,
          0.13708221040718185,
          0.1327470550306914,
          0.10064331461907569,
          0.09606316115412764,
          0.14638629223328806,
          0.08669020046935776,
          0.09527976422901176,
          0.10569945141994165,
          0.09343713718816066,
          0.09223083412710958,
          0.10239509242704552,
          0.089995347060581,
          0.10385132433748773,
          0.09771281553616255,
          0.07008948738808198,
          0.09048342362255352,
          0.07914363065743762,
          0.08218027339315814,
          0.09760503867966844,
          0.08450421488482183
         ],
         "yaxis": "y7"
        },
        {
         "marker": {
          "color": [
           0,
           2,
           3,
           20,
           33,
           34,
           39,
           40,
           42,
           94,
           116,
           121,
           124,
           130,
           145,
           146,
           147,
           160,
           176,
           182,
           183,
           191,
           196,
           197
          ],
          "colorbar": {
           "title": {
            "text": "Trial"
           },
           "x": 1,
           "xpad": 40
          },
          "colorscale": [
           [
            0,
            "rgb(247,251,255)"
           ],
           [
            0.125,
            "rgb(222,235,247)"
           ],
           [
            0.25,
            "rgb(198,219,239)"
           ],
           [
            0.375,
            "rgb(158,202,225)"
           ],
           [
            0.5,
            "rgb(107,174,214)"
           ],
           [
            0.625,
            "rgb(66,146,198)"
           ],
           [
            0.75,
            "rgb(33,113,181)"
           ],
           [
            0.875,
            "rgb(8,81,156)"
           ],
           [
            1,
            "rgb(8,48,107)"
           ]
          ],
          "line": {
           "color": "Grey",
           "width": 0.5
          },
          "showscale": false
         },
         "mode": "markers",
         "name": "Feasible Trial",
         "showlegend": false,
         "type": "scatter",
         "x": [
          172,
          148,
          225,
          317,
          235,
          223,
          178,
          188,
          191,
          168,
          161,
          244,
          226,
          218,
          173,
          197,
          175,
          222,
          209,
          165,
          125,
          108,
          158,
          145
         ],
         "xaxis": "x8",
         "y": [
          0.44573425431744024,
          0.1923539626301527,
          0.3804503000272274,
          0.15121286497097775,
          0.0967718003435825,
          0.10418792477358048,
          0.1327470550306914,
          0.10064331461907569,
          0.09606316115412764,
          0.08669020046935776,
          0.09527976422901176,
          0.10569945141994165,
          0.09343713718816066,
          0.09223083412710958,
          0.10239509242704552,
          0.089995347060581,
          0.10385132433748773,
          0.09771281553616255,
          0.07008948738808198,
          0.09048342362255352,
          0.07914363065743762,
          0.08218027339315814,
          0.09760503867966844,
          0.08450421488482183
         ],
         "yaxis": "y8"
        },
        {
         "marker": {
          "color": [
           0,
           1,
           2,
           3,
           4,
           13,
           20,
           26,
           33,
           34,
           38,
           39,
           40,
           42,
           62,
           94,
           116,
           121,
           124,
           130,
           145,
           146,
           147,
           160,
           176,
           182,
           183,
           191,
           196,
           197
          ],
          "colorbar": {
           "title": {
            "text": "Trial"
           },
           "x": 1,
           "xpad": 40
          },
          "colorscale": [
           [
            0,
            "rgb(247,251,255)"
           ],
           [
            0.125,
            "rgb(222,235,247)"
           ],
           [
            0.25,
            "rgb(198,219,239)"
           ],
           [
            0.375,
            "rgb(158,202,225)"
           ],
           [
            0.5,
            "rgb(107,174,214)"
           ],
           [
            0.625,
            "rgb(66,146,198)"
           ],
           [
            0.75,
            "rgb(33,113,181)"
           ],
           [
            0.875,
            "rgb(8,81,156)"
           ],
           [
            1,
            "rgb(8,48,107)"
           ]
          ],
          "line": {
           "color": "Grey",
           "width": 0.5
          },
          "showscale": false
         },
         "mode": "markers",
         "name": "Feasible Trial",
         "showlegend": false,
         "type": "scatter",
         "x": [
          161,
          496,
          201,
          345,
          110,
          153,
          135,
          144,
          285,
          380,
          107,
          136,
          226,
          243,
          124,
          236,
          143,
          187,
          171,
          172,
          182,
          224,
          169,
          238,
          337,
          260,
          272,
          157,
          141,
          187
         ],
         "xaxis": "x9",
         "y": [
          0.44573425431744024,
          0.31325194663775785,
          0.1923539626301527,
          0.3804503000272274,
          0.2970609810741265,
          0.12990407333752463,
          0.15121286497097775,
          0.22576668957663523,
          0.0967718003435825,
          0.10418792477358048,
          0.13708221040718185,
          0.1327470550306914,
          0.10064331461907569,
          0.09606316115412764,
          0.14638629223328806,
          0.08669020046935776,
          0.09527976422901176,
          0.10569945141994165,
          0.09343713718816066,
          0.09223083412710958,
          0.10239509242704552,
          0.089995347060581,
          0.10385132433748773,
          0.09771281553616255,
          0.07008948738808198,
          0.09048342362255352,
          0.07914363065743762,
          0.08218027339315814,
          0.09760503867966844,
          0.08450421488482183
         ],
         "yaxis": "y9"
        },
        {
         "marker": {
          "color": [
           0,
           1,
           2,
           3,
           4,
           13,
           20,
           26,
           33,
           34,
           38,
           39,
           40,
           42,
           62,
           94,
           116,
           121,
           124,
           130,
           145,
           146,
           147,
           160,
           176,
           182,
           183,
           191,
           196,
           197
          ],
          "colorbar": {
           "title": {
            "text": "Trial"
           },
           "x": 1,
           "xpad": 40
          },
          "colorscale": [
           [
            0,
            "rgb(247,251,255)"
           ],
           [
            0.125,
            "rgb(222,235,247)"
           ],
           [
            0.25,
            "rgb(198,219,239)"
           ],
           [
            0.375,
            "rgb(158,202,225)"
           ],
           [
            0.5,
            "rgb(107,174,214)"
           ],
           [
            0.625,
            "rgb(66,146,198)"
           ],
           [
            0.75,
            "rgb(33,113,181)"
           ],
           [
            0.875,
            "rgb(8,81,156)"
           ],
           [
            1,
            "rgb(8,48,107)"
           ]
          ],
          "line": {
           "color": "Grey",
           "width": 0.5
          },
          "showscale": false
         },
         "mode": "markers",
         "name": "Feasible Trial",
         "showlegend": false,
         "type": "scatter",
         "x": [
          23,
          14,
          18,
          13,
          15,
          20,
          19,
          24,
          17,
          17,
          22,
          19,
          17,
          18,
          23,
          18,
          20,
          19,
          19,
          19,
          17,
          15,
          12,
          10,
          11,
          16,
          17,
          19,
          16,
          17
         ],
         "xaxis": "x10",
         "y": [
          0.44573425431744024,
          0.31325194663775785,
          0.1923539626301527,
          0.3804503000272274,
          0.2970609810741265,
          0.12990407333752463,
          0.15121286497097775,
          0.22576668957663523,
          0.0967718003435825,
          0.10418792477358048,
          0.13708221040718185,
          0.1327470550306914,
          0.10064331461907569,
          0.09606316115412764,
          0.14638629223328806,
          0.08669020046935776,
          0.09527976422901176,
          0.10569945141994165,
          0.09343713718816066,
          0.09223083412710958,
          0.10239509242704552,
          0.089995347060581,
          0.10385132433748773,
          0.09771281553616255,
          0.07008948738808198,
          0.09048342362255352,
          0.07914363065743762,
          0.08218027339315814,
          0.09760503867966844,
          0.08450421488482183
         ],
         "yaxis": "y10"
        },
        {
         "marker": {
          "color": [
           0,
           1,
           2,
           3,
           4,
           13,
           20,
           26,
           33,
           34,
           38,
           39,
           40,
           42,
           62,
           94,
           116,
           121,
           124,
           130,
           145,
           146,
           147,
           160,
           176,
           182,
           183,
           191,
           196,
           197
          ],
          "colorbar": {
           "title": {
            "text": "Trial"
           },
           "x": 1,
           "xpad": 40
          },
          "colorscale": [
           [
            0,
            "rgb(247,251,255)"
           ],
           [
            0.125,
            "rgb(222,235,247)"
           ],
           [
            0.25,
            "rgb(198,219,239)"
           ],
           [
            0.375,
            "rgb(158,202,225)"
           ],
           [
            0.5,
            "rgb(107,174,214)"
           ],
           [
            0.625,
            "rgb(66,146,198)"
           ],
           [
            0.75,
            "rgb(33,113,181)"
           ],
           [
            0.875,
            "rgb(8,81,156)"
           ],
           [
            1,
            "rgb(8,48,107)"
           ]
          ],
          "line": {
           "color": "Grey",
           "width": 0.5
          },
          "showscale": false
         },
         "mode": "markers",
         "name": "Feasible Trial",
         "showlegend": false,
         "type": "scatter",
         "x": [
          7.269889843190701,
          2.229280989962561,
          6.003749356628742,
          5.50778157101194,
          3.2806203071203157,
          0.2688212455565311,
          6.040403278599362,
          1.4757301411192385,
          7.541548374874541,
          8.530006749197774,
          0.6609769793551182,
          0.9151394058470198,
          0.09339998170420893,
          0.3217128884812821,
          1.3622501790884343,
          0.3310263450567085,
          1.1662358925882055,
          1.077358885121901,
          0.22351577813761914,
          0.09035277467088819,
          0.7396908789556265,
          0.772838879577332,
          0.8423479313437001,
          0.2831261796261031,
          0.030578303342516877,
          0.5932043204597061,
          1.0121794813320557,
          0.12714557884602318,
          0.4083228923718823,
          0.0554677592423648
         ],
         "xaxis": "x11",
         "y": [
          0.44573425431744024,
          0.31325194663775785,
          0.1923539626301527,
          0.3804503000272274,
          0.2970609810741265,
          0.12990407333752463,
          0.15121286497097775,
          0.22576668957663523,
          0.0967718003435825,
          0.10418792477358048,
          0.13708221040718185,
          0.1327470550306914,
          0.10064331461907569,
          0.09606316115412764,
          0.14638629223328806,
          0.08669020046935776,
          0.09527976422901176,
          0.10569945141994165,
          0.09343713718816066,
          0.09223083412710958,
          0.10239509242704552,
          0.089995347060581,
          0.10385132433748773,
          0.09771281553616255,
          0.07008948738808198,
          0.09048342362255352,
          0.07914363065743762,
          0.08218027339315814,
          0.09760503867966844,
          0.08450421488482183
         ],
         "yaxis": "y11"
        },
        {
         "marker": {
          "color": [
           1,
           3
          ],
          "colorbar": {
           "title": {
            "text": "Trial"
           },
           "x": 1,
           "xpad": 40
          },
          "colorscale": [
           [
            0,
            "rgb(247,251,255)"
           ],
           [
            0.125,
            "rgb(222,235,247)"
           ],
           [
            0.25,
            "rgb(198,219,239)"
           ],
           [
            0.375,
            "rgb(158,202,225)"
           ],
           [
            0.5,
            "rgb(107,174,214)"
           ],
           [
            0.625,
            "rgb(66,146,198)"
           ],
           [
            0.75,
            "rgb(33,113,181)"
           ],
           [
            0.875,
            "rgb(8,81,156)"
           ],
           [
            1,
            "rgb(8,48,107)"
           ]
          ],
          "line": {
           "color": "Grey",
           "width": 0.5
          },
          "showscale": false
         },
         "mode": "markers",
         "name": "Feasible Trial",
         "showlegend": false,
         "type": "scatter",
         "x": [
          0.6601049418885235,
          0.409788004370225
         ],
         "xaxis": "x12",
         "y": [
          0.31325194663775785,
          0.3804503000272274
         ],
         "yaxis": "y12"
        }
       ],
       "layout": {
        "template": {
         "data": {
          "bar": [
           {
            "error_x": {
             "color": "#2a3f5f"
            },
            "error_y": {
             "color": "#2a3f5f"
            },
            "marker": {
             "line": {
              "color": "#E5ECF6",
              "width": 0.5
             },
             "pattern": {
              "fillmode": "overlay",
              "size": 10,
              "solidity": 0.2
             }
            },
            "type": "bar"
           }
          ],
          "barpolar": [
           {
            "marker": {
             "line": {
              "color": "#E5ECF6",
              "width": 0.5
             },
             "pattern": {
              "fillmode": "overlay",
              "size": 10,
              "solidity": 0.2
             }
            },
            "type": "barpolar"
           }
          ],
          "carpet": [
           {
            "aaxis": {
             "endlinecolor": "#2a3f5f",
             "gridcolor": "white",
             "linecolor": "white",
             "minorgridcolor": "white",
             "startlinecolor": "#2a3f5f"
            },
            "baxis": {
             "endlinecolor": "#2a3f5f",
             "gridcolor": "white",
             "linecolor": "white",
             "minorgridcolor": "white",
             "startlinecolor": "#2a3f5f"
            },
            "type": "carpet"
           }
          ],
          "choropleth": [
           {
            "colorbar": {
             "outlinewidth": 0,
             "ticks": ""
            },
            "type": "choropleth"
           }
          ],
          "contour": [
           {
            "colorbar": {
             "outlinewidth": 0,
             "ticks": ""
            },
            "colorscale": [
             [
              0,
              "#0d0887"
             ],
             [
              0.1111111111111111,
              "#46039f"
             ],
             [
              0.2222222222222222,
              "#7201a8"
             ],
             [
              0.3333333333333333,
              "#9c179e"
             ],
             [
              0.4444444444444444,
              "#bd3786"
             ],
             [
              0.5555555555555556,
              "#d8576b"
             ],
             [
              0.6666666666666666,
              "#ed7953"
             ],
             [
              0.7777777777777778,
              "#fb9f3a"
             ],
             [
              0.8888888888888888,
              "#fdca26"
             ],
             [
              1,
              "#f0f921"
             ]
            ],
            "type": "contour"
           }
          ],
          "contourcarpet": [
           {
            "colorbar": {
             "outlinewidth": 0,
             "ticks": ""
            },
            "type": "contourcarpet"
           }
          ],
          "heatmap": [
           {
            "colorbar": {
             "outlinewidth": 0,
             "ticks": ""
            },
            "colorscale": [
             [
              0,
              "#0d0887"
             ],
             [
              0.1111111111111111,
              "#46039f"
             ],
             [
              0.2222222222222222,
              "#7201a8"
             ],
             [
              0.3333333333333333,
              "#9c179e"
             ],
             [
              0.4444444444444444,
              "#bd3786"
             ],
             [
              0.5555555555555556,
              "#d8576b"
             ],
             [
              0.6666666666666666,
              "#ed7953"
             ],
             [
              0.7777777777777778,
              "#fb9f3a"
             ],
             [
              0.8888888888888888,
              "#fdca26"
             ],
             [
              1,
              "#f0f921"
             ]
            ],
            "type": "heatmap"
           }
          ],
          "heatmapgl": [
           {
            "colorbar": {
             "outlinewidth": 0,
             "ticks": ""
            },
            "colorscale": [
             [
              0,
              "#0d0887"
             ],
             [
              0.1111111111111111,
              "#46039f"
             ],
             [
              0.2222222222222222,
              "#7201a8"
             ],
             [
              0.3333333333333333,
              "#9c179e"
             ],
             [
              0.4444444444444444,
              "#bd3786"
             ],
             [
              0.5555555555555556,
              "#d8576b"
             ],
             [
              0.6666666666666666,
              "#ed7953"
             ],
             [
              0.7777777777777778,
              "#fb9f3a"
             ],
             [
              0.8888888888888888,
              "#fdca26"
             ],
             [
              1,
              "#f0f921"
             ]
            ],
            "type": "heatmapgl"
           }
          ],
          "histogram": [
           {
            "marker": {
             "pattern": {
              "fillmode": "overlay",
              "size": 10,
              "solidity": 0.2
             }
            },
            "type": "histogram"
           }
          ],
          "histogram2d": [
           {
            "colorbar": {
             "outlinewidth": 0,
             "ticks": ""
            },
            "colorscale": [
             [
              0,
              "#0d0887"
             ],
             [
              0.1111111111111111,
              "#46039f"
             ],
             [
              0.2222222222222222,
              "#7201a8"
             ],
             [
              0.3333333333333333,
              "#9c179e"
             ],
             [
              0.4444444444444444,
              "#bd3786"
             ],
             [
              0.5555555555555556,
              "#d8576b"
             ],
             [
              0.6666666666666666,
              "#ed7953"
             ],
             [
              0.7777777777777778,
              "#fb9f3a"
             ],
             [
              0.8888888888888888,
              "#fdca26"
             ],
             [
              1,
              "#f0f921"
             ]
            ],
            "type": "histogram2d"
           }
          ],
          "histogram2dcontour": [
           {
            "colorbar": {
             "outlinewidth": 0,
             "ticks": ""
            },
            "colorscale": [
             [
              0,
              "#0d0887"
             ],
             [
              0.1111111111111111,
              "#46039f"
             ],
             [
              0.2222222222222222,
              "#7201a8"
             ],
             [
              0.3333333333333333,
              "#9c179e"
             ],
             [
              0.4444444444444444,
              "#bd3786"
             ],
             [
              0.5555555555555556,
              "#d8576b"
             ],
             [
              0.6666666666666666,
              "#ed7953"
             ],
             [
              0.7777777777777778,
              "#fb9f3a"
             ],
             [
              0.8888888888888888,
              "#fdca26"
             ],
             [
              1,
              "#f0f921"
             ]
            ],
            "type": "histogram2dcontour"
           }
          ],
          "mesh3d": [
           {
            "colorbar": {
             "outlinewidth": 0,
             "ticks": ""
            },
            "type": "mesh3d"
           }
          ],
          "parcoords": [
           {
            "line": {
             "colorbar": {
              "outlinewidth": 0,
              "ticks": ""
             }
            },
            "type": "parcoords"
           }
          ],
          "pie": [
           {
            "automargin": true,
            "type": "pie"
           }
          ],
          "scatter": [
           {
            "fillpattern": {
             "fillmode": "overlay",
             "size": 10,
             "solidity": 0.2
            },
            "type": "scatter"
           }
          ],
          "scatter3d": [
           {
            "line": {
             "colorbar": {
              "outlinewidth": 0,
              "ticks": ""
             }
            },
            "marker": {
             "colorbar": {
              "outlinewidth": 0,
              "ticks": ""
             }
            },
            "type": "scatter3d"
           }
          ],
          "scattercarpet": [
           {
            "marker": {
             "colorbar": {
              "outlinewidth": 0,
              "ticks": ""
             }
            },
            "type": "scattercarpet"
           }
          ],
          "scattergeo": [
           {
            "marker": {
             "colorbar": {
              "outlinewidth": 0,
              "ticks": ""
             }
            },
            "type": "scattergeo"
           }
          ],
          "scattergl": [
           {
            "marker": {
             "colorbar": {
              "outlinewidth": 0,
              "ticks": ""
             }
            },
            "type": "scattergl"
           }
          ],
          "scattermapbox": [
           {
            "marker": {
             "colorbar": {
              "outlinewidth": 0,
              "ticks": ""
             }
            },
            "type": "scattermapbox"
           }
          ],
          "scatterpolar": [
           {
            "marker": {
             "colorbar": {
              "outlinewidth": 0,
              "ticks": ""
             }
            },
            "type": "scatterpolar"
           }
          ],
          "scatterpolargl": [
           {
            "marker": {
             "colorbar": {
              "outlinewidth": 0,
              "ticks": ""
             }
            },
            "type": "scatterpolargl"
           }
          ],
          "scatterternary": [
           {
            "marker": {
             "colorbar": {
              "outlinewidth": 0,
              "ticks": ""
             }
            },
            "type": "scatterternary"
           }
          ],
          "surface": [
           {
            "colorbar": {
             "outlinewidth": 0,
             "ticks": ""
            },
            "colorscale": [
             [
              0,
              "#0d0887"
             ],
             [
              0.1111111111111111,
              "#46039f"
             ],
             [
              0.2222222222222222,
              "#7201a8"
             ],
             [
              0.3333333333333333,
              "#9c179e"
             ],
             [
              0.4444444444444444,
              "#bd3786"
             ],
             [
              0.5555555555555556,
              "#d8576b"
             ],
             [
              0.6666666666666666,
              "#ed7953"
             ],
             [
              0.7777777777777778,
              "#fb9f3a"
             ],
             [
              0.8888888888888888,
              "#fdca26"
             ],
             [
              1,
              "#f0f921"
             ]
            ],
            "type": "surface"
           }
          ],
          "table": [
           {
            "cells": {
             "fill": {
              "color": "#EBF0F8"
             },
             "line": {
              "color": "white"
             }
            },
            "header": {
             "fill": {
              "color": "#C8D4E3"
             },
             "line": {
              "color": "white"
             }
            },
            "type": "table"
           }
          ]
         },
         "layout": {
          "annotationdefaults": {
           "arrowcolor": "#2a3f5f",
           "arrowhead": 0,
           "arrowwidth": 1
          },
          "autotypenumbers": "strict",
          "coloraxis": {
           "colorbar": {
            "outlinewidth": 0,
            "ticks": ""
           }
          },
          "colorscale": {
           "diverging": [
            [
             0,
             "#8e0152"
            ],
            [
             0.1,
             "#c51b7d"
            ],
            [
             0.2,
             "#de77ae"
            ],
            [
             0.3,
             "#f1b6da"
            ],
            [
             0.4,
             "#fde0ef"
            ],
            [
             0.5,
             "#f7f7f7"
            ],
            [
             0.6,
             "#e6f5d0"
            ],
            [
             0.7,
             "#b8e186"
            ],
            [
             0.8,
             "#7fbc41"
            ],
            [
             0.9,
             "#4d9221"
            ],
            [
             1,
             "#276419"
            ]
           ],
           "sequential": [
            [
             0,
             "#0d0887"
            ],
            [
             0.1111111111111111,
             "#46039f"
            ],
            [
             0.2222222222222222,
             "#7201a8"
            ],
            [
             0.3333333333333333,
             "#9c179e"
            ],
            [
             0.4444444444444444,
             "#bd3786"
            ],
            [
             0.5555555555555556,
             "#d8576b"
            ],
            [
             0.6666666666666666,
             "#ed7953"
            ],
            [
             0.7777777777777778,
             "#fb9f3a"
            ],
            [
             0.8888888888888888,
             "#fdca26"
            ],
            [
             1,
             "#f0f921"
            ]
           ],
           "sequentialminus": [
            [
             0,
             "#0d0887"
            ],
            [
             0.1111111111111111,
             "#46039f"
            ],
            [
             0.2222222222222222,
             "#7201a8"
            ],
            [
             0.3333333333333333,
             "#9c179e"
            ],
            [
             0.4444444444444444,
             "#bd3786"
            ],
            [
             0.5555555555555556,
             "#d8576b"
            ],
            [
             0.6666666666666666,
             "#ed7953"
            ],
            [
             0.7777777777777778,
             "#fb9f3a"
            ],
            [
             0.8888888888888888,
             "#fdca26"
            ],
            [
             1,
             "#f0f921"
            ]
           ]
          },
          "colorway": [
           "#636efa",
           "#EF553B",
           "#00cc96",
           "#ab63fa",
           "#FFA15A",
           "#19d3f3",
           "#FF6692",
           "#B6E880",
           "#FF97FF",
           "#FECB52"
          ],
          "font": {
           "color": "#2a3f5f"
          },
          "geo": {
           "bgcolor": "white",
           "lakecolor": "white",
           "landcolor": "#E5ECF6",
           "showlakes": true,
           "showland": true,
           "subunitcolor": "white"
          },
          "hoverlabel": {
           "align": "left"
          },
          "hovermode": "closest",
          "mapbox": {
           "style": "light"
          },
          "paper_bgcolor": "white",
          "plot_bgcolor": "#E5ECF6",
          "polar": {
           "angularaxis": {
            "gridcolor": "white",
            "linecolor": "white",
            "ticks": ""
           },
           "bgcolor": "#E5ECF6",
           "radialaxis": {
            "gridcolor": "white",
            "linecolor": "white",
            "ticks": ""
           }
          },
          "scene": {
           "xaxis": {
            "backgroundcolor": "#E5ECF6",
            "gridcolor": "white",
            "gridwidth": 2,
            "linecolor": "white",
            "showbackground": true,
            "ticks": "",
            "zerolinecolor": "white"
           },
           "yaxis": {
            "backgroundcolor": "#E5ECF6",
            "gridcolor": "white",
            "gridwidth": 2,
            "linecolor": "white",
            "showbackground": true,
            "ticks": "",
            "zerolinecolor": "white"
           },
           "zaxis": {
            "backgroundcolor": "#E5ECF6",
            "gridcolor": "white",
            "gridwidth": 2,
            "linecolor": "white",
            "showbackground": true,
            "ticks": "",
            "zerolinecolor": "white"
           }
          },
          "shapedefaults": {
           "line": {
            "color": "#2a3f5f"
           }
          },
          "ternary": {
           "aaxis": {
            "gridcolor": "white",
            "linecolor": "white",
            "ticks": ""
           },
           "baxis": {
            "gridcolor": "white",
            "linecolor": "white",
            "ticks": ""
           },
           "bgcolor": "#E5ECF6",
           "caxis": {
            "gridcolor": "white",
            "linecolor": "white",
            "ticks": ""
           }
          },
          "title": {
           "x": 0.05
          },
          "xaxis": {
           "automargin": true,
           "gridcolor": "white",
           "linecolor": "white",
           "ticks": "",
           "title": {
            "standoff": 15
           },
           "zerolinecolor": "white",
           "zerolinewidth": 2
          },
          "yaxis": {
           "automargin": true,
           "gridcolor": "white",
           "linecolor": "white",
           "ticks": "",
           "title": {
            "standoff": 15
           },
           "zerolinecolor": "white",
           "zerolinewidth": 2
          }
         }
        },
        "title": {
         "text": "Slice Plot"
        },
        "width": 3600,
        "xaxis": {
         "anchor": "y",
         "domain": [
          0,
          0.06805555555555555
         ],
         "title": {
          "text": "bagging_temperature"
         }
        },
        "xaxis10": {
         "anchor": "y10",
         "domain": [
          0.7625,
          0.8305555555555555
         ],
         "title": {
          "text": "od_wait"
         }
        },
        "xaxis11": {
         "anchor": "y11",
         "domain": [
          0.8472222222222221,
          0.9152777777777776
         ],
         "title": {
          "text": "random_strength"
         }
        },
        "xaxis12": {
         "anchor": "y12",
         "domain": [
          0.9319444444444444,
          0.9999999999999999
         ],
         "title": {
          "text": "subsample"
         }
        },
        "xaxis2": {
         "anchor": "y2",
         "categoryarray": [
          "Bayesian",
          "Bernoulli",
          "MVS"
         ],
         "categoryorder": "array",
         "domain": [
          0.08472222222222221,
          0.15277777777777776
         ],
         "title": {
          "text": "bootstrap_type"
         },
         "type": "category"
        },
        "xaxis3": {
         "anchor": "y3",
         "domain": [
          0.16944444444444443,
          0.2375
         ],
         "title": {
          "text": "border_count"
         }
        },
        "xaxis4": {
         "anchor": "y4",
         "domain": [
          0.25416666666666665,
          0.3222222222222222
         ],
         "title": {
          "text": "depth"
         }
        },
        "xaxis5": {
         "anchor": "y5",
         "categoryarray": [
          "Depthwise",
          "SymmetricTree"
         ],
         "categoryorder": "array",
         "domain": [
          0.33888888888888885,
          0.4069444444444444
         ],
         "title": {
          "text": "grow_policy"
         },
         "type": "category"
        },
        "xaxis6": {
         "anchor": "y6",
         "domain": [
          0.42361111111111105,
          0.4916666666666666
         ],
         "title": {
          "text": "l2_leaf_reg"
         }
        },
        "xaxis7": {
         "anchor": "y7",
         "domain": [
          0.5083333333333333,
          0.5763888888888888
         ],
         "title": {
          "text": "learning_rate"
         }
        },
        "xaxis8": {
         "anchor": "y8",
         "domain": [
          0.5930555555555556,
          0.6611111111111111
         ],
         "title": {
          "text": "min_data_in_leaf"
         }
        },
        "xaxis9": {
         "anchor": "y9",
         "domain": [
          0.6777777777777777,
          0.7458333333333332
         ],
         "title": {
          "text": "n_estimators"
         }
        },
        "yaxis": {
         "anchor": "x",
         "domain": [
          0,
          1
         ],
         "title": {
          "text": "Objective Value"
         }
        },
        "yaxis10": {
         "anchor": "x10",
         "domain": [
          0,
          1
         ],
         "matches": "y",
         "showticklabels": false
        },
        "yaxis11": {
         "anchor": "x11",
         "domain": [
          0,
          1
         ],
         "matches": "y",
         "showticklabels": false
        },
        "yaxis12": {
         "anchor": "x12",
         "domain": [
          0,
          1
         ],
         "matches": "y",
         "showticklabels": false
        },
        "yaxis2": {
         "anchor": "x2",
         "domain": [
          0,
          1
         ],
         "matches": "y",
         "showticklabels": false
        },
        "yaxis3": {
         "anchor": "x3",
         "domain": [
          0,
          1
         ],
         "matches": "y",
         "showticklabels": false
        },
        "yaxis4": {
         "anchor": "x4",
         "domain": [
          0,
          1
         ],
         "matches": "y",
         "showticklabels": false
        },
        "yaxis5": {
         "anchor": "x5",
         "domain": [
          0,
          1
         ],
         "matches": "y",
         "showticklabels": false
        },
        "yaxis6": {
         "anchor": "x6",
         "domain": [
          0,
          1
         ],
         "matches": "y",
         "showticklabels": false
        },
        "yaxis7": {
         "anchor": "x7",
         "domain": [
          0,
          1
         ],
         "matches": "y",
         "showticklabels": false
        },
        "yaxis8": {
         "anchor": "x8",
         "domain": [
          0,
          1
         ],
         "matches": "y",
         "showticklabels": false
        },
        "yaxis9": {
         "anchor": "x9",
         "domain": [
          0,
          1
         ],
         "matches": "y",
         "showticklabels": false
        }
       }
      },
      "text/html": [
       "<div>                        <script type=\"text/javascript\">window.PlotlyConfig = {MathJaxConfig: 'local'};</script>\n",
       "        <script charset=\"utf-8\" src=\"https://cdn.plot.ly/plotly-2.32.0.min.js\"></script>                <div id=\"a3df8471-1579-4091-a07c-91b957fe9409\" class=\"plotly-graph-div\" style=\"height:100%; width:3600px;\"></div>            <script type=\"text/javascript\">                                    window.PLOTLYENV=window.PLOTLYENV || {};                                    if (document.getElementById(\"a3df8471-1579-4091-a07c-91b957fe9409\")) {                    Plotly.newPlot(                        \"a3df8471-1579-4091-a07c-91b957fe9409\",                        [{\"marker\":{\"color\":[0,2,4,13,20,26,33,34,38,39,40,42,62,94,116,121,124,130,145,146,147,160,176,182,183,191,196,197],\"colorbar\":{\"title\":{\"text\":\"Trial\"},\"x\":1.0,\"xpad\":40},\"colorscale\":[[0.0,\"rgb(247,251,255)\"],[0.125,\"rgb(222,235,247)\"],[0.25,\"rgb(198,219,239)\"],[0.375,\"rgb(158,202,225)\"],[0.5,\"rgb(107,174,214)\"],[0.625,\"rgb(66,146,198)\"],[0.75,\"rgb(33,113,181)\"],[0.875,\"rgb(8,81,156)\"],[1.0,\"rgb(8,48,107)\"]],\"line\":{\"color\":\"Grey\",\"width\":0.5},\"showscale\":true},\"mode\":\"markers\",\"name\":\"Feasible Trial\",\"showlegend\":false,\"x\":[5.896137534558643,1.228516961349656,4.243219898452257,9.014036856436508,9.987073306041054,9.756866720834928,9.911277411849381,9.8344912810759,9.864930915569468,8.096631895075989,7.64697249569321,7.412643687048379,9.951184484014943,8.663707807805357,9.985819159361096,9.976941278516367,8.754107426125122,8.558265773497306,9.983721006190395,9.988003585502463,9.903001026279528,9.995309448742987,9.992836685513474,9.915390407426234,9.89872496891705,9.897144646417793,8.892351413478782,7.577733046671767],\"y\":[0.44573425431744024,0.1923539626301527,0.2970609810741265,0.12990407333752463,0.15121286497097775,0.22576668957663523,0.0967718003435825,0.10418792477358048,0.13708221040718185,0.1327470550306914,0.10064331461907569,0.09606316115412764,0.14638629223328806,0.08669020046935776,0.09527976422901176,0.10569945141994165,0.09343713718816066,0.09223083412710958,0.10239509242704552,0.089995347060581,0.10385132433748773,0.09771281553616255,0.07008948738808198,0.09048342362255352,0.07914363065743762,0.08218027339315814,0.09760503867966844,0.08450421488482183],\"type\":\"scatter\",\"xaxis\":\"x\",\"yaxis\":\"y\"},{\"marker\":{\"color\":[0,1,2,3,4,13,20,26,33,34,38,39,40,42,62,94,116,121,124,130,145,146,147,160,176,182,183,191,196,197],\"colorbar\":{\"title\":{\"text\":\"Trial\"},\"x\":1.0,\"xpad\":40},\"colorscale\":[[0.0,\"rgb(247,251,255)\"],[0.125,\"rgb(222,235,247)\"],[0.25,\"rgb(198,219,239)\"],[0.375,\"rgb(158,202,225)\"],[0.5,\"rgb(107,174,214)\"],[0.625,\"rgb(66,146,198)\"],[0.75,\"rgb(33,113,181)\"],[0.875,\"rgb(8,81,156)\"],[1.0,\"rgb(8,48,107)\"]],\"line\":{\"color\":\"Grey\",\"width\":0.5},\"showscale\":false},\"mode\":\"markers\",\"name\":\"Feasible Trial\",\"showlegend\":false,\"x\":[\"Bayesian\",\"Bernoulli\",\"Bayesian\",\"Bernoulli\",\"Bayesian\",\"Bayesian\",\"Bayesian\",\"Bayesian\",\"Bayesian\",\"Bayesian\",\"Bayesian\",\"Bayesian\",\"Bayesian\",\"Bayesian\",\"Bayesian\",\"Bayesian\",\"Bayesian\",\"Bayesian\",\"Bayesian\",\"Bayesian\",\"Bayesian\",\"Bayesian\",\"Bayesian\",\"Bayesian\",\"Bayesian\",\"Bayesian\",\"Bayesian\",\"Bayesian\",\"Bayesian\",\"Bayesian\"],\"y\":[0.44573425431744024,0.31325194663775785,0.1923539626301527,0.3804503000272274,0.2970609810741265,0.12990407333752463,0.15121286497097775,0.22576668957663523,0.0967718003435825,0.10418792477358048,0.13708221040718185,0.1327470550306914,0.10064331461907569,0.09606316115412764,0.14638629223328806,0.08669020046935776,0.09527976422901176,0.10569945141994165,0.09343713718816066,0.09223083412710958,0.10239509242704552,0.089995347060581,0.10385132433748773,0.09771281553616255,0.07008948738808198,0.09048342362255352,0.07914363065743762,0.08218027339315814,0.09760503867966844,0.08450421488482183],\"type\":\"scatter\",\"xaxis\":\"x2\",\"yaxis\":\"y2\"},{\"marker\":{\"color\":[0,1,2,3,4,13,20,26,33,34,38,39,40,42,62,94,116,121,124,130,145,146,147,160,176,182,183,191,196,197],\"colorbar\":{\"title\":{\"text\":\"Trial\"},\"x\":1.0,\"xpad\":40},\"colorscale\":[[0.0,\"rgb(247,251,255)\"],[0.125,\"rgb(222,235,247)\"],[0.25,\"rgb(198,219,239)\"],[0.375,\"rgb(158,202,225)\"],[0.5,\"rgb(107,174,214)\"],[0.625,\"rgb(66,146,198)\"],[0.75,\"rgb(33,113,181)\"],[0.875,\"rgb(8,81,156)\"],[1.0,\"rgb(8,48,107)\"]],\"line\":{\"color\":\"Grey\",\"width\":0.5},\"showscale\":false},\"mode\":\"markers\",\"name\":\"Feasible Trial\",\"showlegend\":false,\"x\":[471,249,307,323,311,217,333,186,294,193,234,233,288,359,246,330,367,317,330,279,229,179,162,135,167,383,454,257,277,279],\"y\":[0.44573425431744024,0.31325194663775785,0.1923539626301527,0.3804503000272274,0.2970609810741265,0.12990407333752463,0.15121286497097775,0.22576668957663523,0.0967718003435825,0.10418792477358048,0.13708221040718185,0.1327470550306914,0.10064331461907569,0.09606316115412764,0.14638629223328806,0.08669020046935776,0.09527976422901176,0.10569945141994165,0.09343713718816066,0.09223083412710958,0.10239509242704552,0.089995347060581,0.10385132433748773,0.09771281553616255,0.07008948738808198,0.09048342362255352,0.07914363065743762,0.08218027339315814,0.09760503867966844,0.08450421488482183],\"type\":\"scatter\",\"xaxis\":\"x3\",\"yaxis\":\"y3\"},{\"marker\":{\"color\":[0,1,2,3,4,13,20,26,33,34,38,39,40,42,62,94,116,121,124,130,145,146,147,160,176,182,183,191,196,197],\"colorbar\":{\"title\":{\"text\":\"Trial\"},\"x\":1.0,\"xpad\":40},\"colorscale\":[[0.0,\"rgb(247,251,255)\"],[0.125,\"rgb(222,235,247)\"],[0.25,\"rgb(198,219,239)\"],[0.375,\"rgb(158,202,225)\"],[0.5,\"rgb(107,174,214)\"],[0.625,\"rgb(66,146,198)\"],[0.75,\"rgb(33,113,181)\"],[0.875,\"rgb(8,81,156)\"],[1.0,\"rgb(8,48,107)\"]],\"line\":{\"color\":\"Grey\",\"width\":0.5},\"showscale\":false},\"mode\":\"markers\",\"name\":\"Feasible Trial\",\"showlegend\":false,\"x\":[4,10,11,8,12,12,8,9,11,10,12,12,11,12,12,12,12,11,12,11,12,12,12,10,10,12,12,10,12,12],\"y\":[0.44573425431744024,0.31325194663775785,0.1923539626301527,0.3804503000272274,0.2970609810741265,0.12990407333752463,0.15121286497097775,0.22576668957663523,0.0967718003435825,0.10418792477358048,0.13708221040718185,0.1327470550306914,0.10064331461907569,0.09606316115412764,0.14638629223328806,0.08669020046935776,0.09527976422901176,0.10569945141994165,0.09343713718816066,0.09223083412710958,0.10239509242704552,0.089995347060581,0.10385132433748773,0.09771281553616255,0.07008948738808198,0.09048342362255352,0.07914363065743762,0.08218027339315814,0.09760503867966844,0.08450421488482183],\"type\":\"scatter\",\"xaxis\":\"x4\",\"yaxis\":\"y4\"},{\"marker\":{\"color\":[0,1,2,3,4,13,20,26,33,34,38,39,40,42,62,94,116,121,124,130,145,146,147,160,176,182,183,191,196,197],\"colorbar\":{\"title\":{\"text\":\"Trial\"},\"x\":1.0,\"xpad\":40},\"colorscale\":[[0.0,\"rgb(247,251,255)\"],[0.125,\"rgb(222,235,247)\"],[0.25,\"rgb(198,219,239)\"],[0.375,\"rgb(158,202,225)\"],[0.5,\"rgb(107,174,214)\"],[0.625,\"rgb(66,146,198)\"],[0.75,\"rgb(33,113,181)\"],[0.875,\"rgb(8,81,156)\"],[1.0,\"rgb(8,48,107)\"]],\"line\":{\"color\":\"Grey\",\"width\":0.5},\"showscale\":false},\"mode\":\"markers\",\"name\":\"Feasible Trial\",\"showlegend\":false,\"x\":[\"Depthwise\",\"SymmetricTree\",\"Depthwise\",\"Depthwise\",\"SymmetricTree\",\"SymmetricTree\",\"Depthwise\",\"SymmetricTree\",\"Depthwise\",\"Depthwise\",\"SymmetricTree\",\"Depthwise\",\"Depthwise\",\"Depthwise\",\"SymmetricTree\",\"Depthwise\",\"Depthwise\",\"Depthwise\",\"Depthwise\",\"Depthwise\",\"Depthwise\",\"Depthwise\",\"Depthwise\",\"Depthwise\",\"Depthwise\",\"Depthwise\",\"Depthwise\",\"Depthwise\",\"Depthwise\",\"Depthwise\"],\"y\":[0.44573425431744024,0.31325194663775785,0.1923539626301527,0.3804503000272274,0.2970609810741265,0.12990407333752463,0.15121286497097775,0.22576668957663523,0.0967718003435825,0.10418792477358048,0.13708221040718185,0.1327470550306914,0.10064331461907569,0.09606316115412764,0.14638629223328806,0.08669020046935776,0.09527976422901176,0.10569945141994165,0.09343713718816066,0.09223083412710958,0.10239509242704552,0.089995347060581,0.10385132433748773,0.09771281553616255,0.07008948738808198,0.09048342362255352,0.07914363065743762,0.08218027339315814,0.09760503867966844,0.08450421488482183],\"type\":\"scatter\",\"xaxis\":\"x5\",\"yaxis\":\"y5\"},{\"marker\":{\"color\":[0,1,2,3,4,13,20,26,33,34,38,39,40,42,62,94,116,121,124,130,145,146,147,160,176,182,183,191,196,197],\"colorbar\":{\"title\":{\"text\":\"Trial\"},\"x\":1.0,\"xpad\":40},\"colorscale\":[[0.0,\"rgb(247,251,255)\"],[0.125,\"rgb(222,235,247)\"],[0.25,\"rgb(198,219,239)\"],[0.375,\"rgb(158,202,225)\"],[0.5,\"rgb(107,174,214)\"],[0.625,\"rgb(66,146,198)\"],[0.75,\"rgb(33,113,181)\"],[0.875,\"rgb(8,81,156)\"],[1.0,\"rgb(8,48,107)\"]],\"line\":{\"color\":\"Grey\",\"width\":0.5},\"showscale\":false},\"mode\":\"markers\",\"name\":\"Feasible Trial\",\"showlegend\":false,\"x\":[4.598603416089688,5.522568137371598,2.2537162067885674,7.691103672226161,0.9120557080741232,3.6478802698132933,1.2822175353741807,2.1689869422107373,2.698003676918142,3.670455508035167,2.385352477188939,3.760155483398436,4.414198756950219,4.795720556739125,4.078678438980133,8.330263653741417,4.174514265635646,4.401139925053949,5.8412572981827,5.2619652636956005,5.128188728918285,5.258346084743444,4.751782062165222,5.920840442593013,6.752884443750061,6.5257286864699635,5.100359145871922,3.7250637737279835,5.165687406460412,6.040666672225204],\"y\":[0.44573425431744024,0.31325194663775785,0.1923539626301527,0.3804503000272274,0.2970609810741265,0.12990407333752463,0.15121286497097775,0.22576668957663523,0.0967718003435825,0.10418792477358048,0.13708221040718185,0.1327470550306914,0.10064331461907569,0.09606316115412764,0.14638629223328806,0.08669020046935776,0.09527976422901176,0.10569945141994165,0.09343713718816066,0.09223083412710958,0.10239509242704552,0.089995347060581,0.10385132433748773,0.09771281553616255,0.07008948738808198,0.09048342362255352,0.07914363065743762,0.08218027339315814,0.09760503867966844,0.08450421488482183],\"type\":\"scatter\",\"xaxis\":\"x6\",\"yaxis\":\"y6\"},{\"marker\":{\"color\":[0,1,2,3,4,13,20,26,33,34,38,39,40,42,62,94,116,121,124,130,145,146,147,160,176,182,183,191,196,197],\"colorbar\":{\"title\":{\"text\":\"Trial\"},\"x\":1.0,\"xpad\":40},\"colorscale\":[[0.0,\"rgb(247,251,255)\"],[0.125,\"rgb(222,235,247)\"],[0.25,\"rgb(198,219,239)\"],[0.375,\"rgb(158,202,225)\"],[0.5,\"rgb(107,174,214)\"],[0.625,\"rgb(66,146,198)\"],[0.75,\"rgb(33,113,181)\"],[0.875,\"rgb(8,81,156)\"],[1.0,\"rgb(8,48,107)\"]],\"line\":{\"color\":\"Grey\",\"width\":0.5},\"showscale\":false},\"mode\":\"markers\",\"name\":\"Feasible Trial\",\"showlegend\":false,\"x\":[0.3023566097075212,0.626473206229759,0.17993030672813215,0.7261381221193408,0.4152476898098848,0.1523639476459231,0.1537519327561497,0.5889529344613407,0.2934667999857045,0.27873164046780347,0.2583711508816783,0.2306514034264288,0.2554394812697451,0.26702716130652354,0.3203511901253876,0.26238916853480065,0.2879108158262327,0.4135738124044074,0.37099974343510955,0.4269214470686331,0.4637122882039103,0.3442433776050216,0.38886439052637994,0.4929086496406034,0.46510940176204085,0.30189610876484696,0.3071357315456206,0.3739306345669003,0.3480277939716783,0.3828839078650477],\"y\":[0.44573425431744024,0.31325194663775785,0.1923539626301527,0.3804503000272274,0.2970609810741265,0.12990407333752463,0.15121286497097775,0.22576668957663523,0.0967718003435825,0.10418792477358048,0.13708221040718185,0.1327470550306914,0.10064331461907569,0.09606316115412764,0.14638629223328806,0.08669020046935776,0.09527976422901176,0.10569945141994165,0.09343713718816066,0.09223083412710958,0.10239509242704552,0.089995347060581,0.10385132433748773,0.09771281553616255,0.07008948738808198,0.09048342362255352,0.07914363065743762,0.08218027339315814,0.09760503867966844,0.08450421488482183],\"type\":\"scatter\",\"xaxis\":\"x7\",\"yaxis\":\"y7\"},{\"marker\":{\"color\":[0,2,3,20,33,34,39,40,42,94,116,121,124,130,145,146,147,160,176,182,183,191,196,197],\"colorbar\":{\"title\":{\"text\":\"Trial\"},\"x\":1.0,\"xpad\":40},\"colorscale\":[[0.0,\"rgb(247,251,255)\"],[0.125,\"rgb(222,235,247)\"],[0.25,\"rgb(198,219,239)\"],[0.375,\"rgb(158,202,225)\"],[0.5,\"rgb(107,174,214)\"],[0.625,\"rgb(66,146,198)\"],[0.75,\"rgb(33,113,181)\"],[0.875,\"rgb(8,81,156)\"],[1.0,\"rgb(8,48,107)\"]],\"line\":{\"color\":\"Grey\",\"width\":0.5},\"showscale\":false},\"mode\":\"markers\",\"name\":\"Feasible Trial\",\"showlegend\":false,\"x\":[172,148,225,317,235,223,178,188,191,168,161,244,226,218,173,197,175,222,209,165,125,108,158,145],\"y\":[0.44573425431744024,0.1923539626301527,0.3804503000272274,0.15121286497097775,0.0967718003435825,0.10418792477358048,0.1327470550306914,0.10064331461907569,0.09606316115412764,0.08669020046935776,0.09527976422901176,0.10569945141994165,0.09343713718816066,0.09223083412710958,0.10239509242704552,0.089995347060581,0.10385132433748773,0.09771281553616255,0.07008948738808198,0.09048342362255352,0.07914363065743762,0.08218027339315814,0.09760503867966844,0.08450421488482183],\"type\":\"scatter\",\"xaxis\":\"x8\",\"yaxis\":\"y8\"},{\"marker\":{\"color\":[0,1,2,3,4,13,20,26,33,34,38,39,40,42,62,94,116,121,124,130,145,146,147,160,176,182,183,191,196,197],\"colorbar\":{\"title\":{\"text\":\"Trial\"},\"x\":1.0,\"xpad\":40},\"colorscale\":[[0.0,\"rgb(247,251,255)\"],[0.125,\"rgb(222,235,247)\"],[0.25,\"rgb(198,219,239)\"],[0.375,\"rgb(158,202,225)\"],[0.5,\"rgb(107,174,214)\"],[0.625,\"rgb(66,146,198)\"],[0.75,\"rgb(33,113,181)\"],[0.875,\"rgb(8,81,156)\"],[1.0,\"rgb(8,48,107)\"]],\"line\":{\"color\":\"Grey\",\"width\":0.5},\"showscale\":false},\"mode\":\"markers\",\"name\":\"Feasible Trial\",\"showlegend\":false,\"x\":[161,496,201,345,110,153,135,144,285,380,107,136,226,243,124,236,143,187,171,172,182,224,169,238,337,260,272,157,141,187],\"y\":[0.44573425431744024,0.31325194663775785,0.1923539626301527,0.3804503000272274,0.2970609810741265,0.12990407333752463,0.15121286497097775,0.22576668957663523,0.0967718003435825,0.10418792477358048,0.13708221040718185,0.1327470550306914,0.10064331461907569,0.09606316115412764,0.14638629223328806,0.08669020046935776,0.09527976422901176,0.10569945141994165,0.09343713718816066,0.09223083412710958,0.10239509242704552,0.089995347060581,0.10385132433748773,0.09771281553616255,0.07008948738808198,0.09048342362255352,0.07914363065743762,0.08218027339315814,0.09760503867966844,0.08450421488482183],\"type\":\"scatter\",\"xaxis\":\"x9\",\"yaxis\":\"y9\"},{\"marker\":{\"color\":[0,1,2,3,4,13,20,26,33,34,38,39,40,42,62,94,116,121,124,130,145,146,147,160,176,182,183,191,196,197],\"colorbar\":{\"title\":{\"text\":\"Trial\"},\"x\":1.0,\"xpad\":40},\"colorscale\":[[0.0,\"rgb(247,251,255)\"],[0.125,\"rgb(222,235,247)\"],[0.25,\"rgb(198,219,239)\"],[0.375,\"rgb(158,202,225)\"],[0.5,\"rgb(107,174,214)\"],[0.625,\"rgb(66,146,198)\"],[0.75,\"rgb(33,113,181)\"],[0.875,\"rgb(8,81,156)\"],[1.0,\"rgb(8,48,107)\"]],\"line\":{\"color\":\"Grey\",\"width\":0.5},\"showscale\":false},\"mode\":\"markers\",\"name\":\"Feasible Trial\",\"showlegend\":false,\"x\":[23,14,18,13,15,20,19,24,17,17,22,19,17,18,23,18,20,19,19,19,17,15,12,10,11,16,17,19,16,17],\"y\":[0.44573425431744024,0.31325194663775785,0.1923539626301527,0.3804503000272274,0.2970609810741265,0.12990407333752463,0.15121286497097775,0.22576668957663523,0.0967718003435825,0.10418792477358048,0.13708221040718185,0.1327470550306914,0.10064331461907569,0.09606316115412764,0.14638629223328806,0.08669020046935776,0.09527976422901176,0.10569945141994165,0.09343713718816066,0.09223083412710958,0.10239509242704552,0.089995347060581,0.10385132433748773,0.09771281553616255,0.07008948738808198,0.09048342362255352,0.07914363065743762,0.08218027339315814,0.09760503867966844,0.08450421488482183],\"type\":\"scatter\",\"xaxis\":\"x10\",\"yaxis\":\"y10\"},{\"marker\":{\"color\":[0,1,2,3,4,13,20,26,33,34,38,39,40,42,62,94,116,121,124,130,145,146,147,160,176,182,183,191,196,197],\"colorbar\":{\"title\":{\"text\":\"Trial\"},\"x\":1.0,\"xpad\":40},\"colorscale\":[[0.0,\"rgb(247,251,255)\"],[0.125,\"rgb(222,235,247)\"],[0.25,\"rgb(198,219,239)\"],[0.375,\"rgb(158,202,225)\"],[0.5,\"rgb(107,174,214)\"],[0.625,\"rgb(66,146,198)\"],[0.75,\"rgb(33,113,181)\"],[0.875,\"rgb(8,81,156)\"],[1.0,\"rgb(8,48,107)\"]],\"line\":{\"color\":\"Grey\",\"width\":0.5},\"showscale\":false},\"mode\":\"markers\",\"name\":\"Feasible Trial\",\"showlegend\":false,\"x\":[7.269889843190701,2.229280989962561,6.003749356628742,5.50778157101194,3.2806203071203157,0.2688212455565311,6.040403278599362,1.4757301411192385,7.541548374874541,8.530006749197774,0.6609769793551182,0.9151394058470198,0.09339998170420893,0.3217128884812821,1.3622501790884343,0.3310263450567085,1.1662358925882055,1.077358885121901,0.22351577813761914,0.09035277467088819,0.7396908789556265,0.772838879577332,0.8423479313437001,0.2831261796261031,0.030578303342516877,0.5932043204597061,1.0121794813320557,0.12714557884602318,0.4083228923718823,0.0554677592423648],\"y\":[0.44573425431744024,0.31325194663775785,0.1923539626301527,0.3804503000272274,0.2970609810741265,0.12990407333752463,0.15121286497097775,0.22576668957663523,0.0967718003435825,0.10418792477358048,0.13708221040718185,0.1327470550306914,0.10064331461907569,0.09606316115412764,0.14638629223328806,0.08669020046935776,0.09527976422901176,0.10569945141994165,0.09343713718816066,0.09223083412710958,0.10239509242704552,0.089995347060581,0.10385132433748773,0.09771281553616255,0.07008948738808198,0.09048342362255352,0.07914363065743762,0.08218027339315814,0.09760503867966844,0.08450421488482183],\"type\":\"scatter\",\"xaxis\":\"x11\",\"yaxis\":\"y11\"},{\"marker\":{\"color\":[1,3],\"colorbar\":{\"title\":{\"text\":\"Trial\"},\"x\":1.0,\"xpad\":40},\"colorscale\":[[0.0,\"rgb(247,251,255)\"],[0.125,\"rgb(222,235,247)\"],[0.25,\"rgb(198,219,239)\"],[0.375,\"rgb(158,202,225)\"],[0.5,\"rgb(107,174,214)\"],[0.625,\"rgb(66,146,198)\"],[0.75,\"rgb(33,113,181)\"],[0.875,\"rgb(8,81,156)\"],[1.0,\"rgb(8,48,107)\"]],\"line\":{\"color\":\"Grey\",\"width\":0.5},\"showscale\":false},\"mode\":\"markers\",\"name\":\"Feasible Trial\",\"showlegend\":false,\"x\":[0.6601049418885235,0.409788004370225],\"y\":[0.31325194663775785,0.3804503000272274],\"type\":\"scatter\",\"xaxis\":\"x12\",\"yaxis\":\"y12\"}],                        {\"template\":{\"data\":{\"histogram2dcontour\":[{\"type\":\"histogram2dcontour\",\"colorbar\":{\"outlinewidth\":0,\"ticks\":\"\"},\"colorscale\":[[0.0,\"#0d0887\"],[0.1111111111111111,\"#46039f\"],[0.2222222222222222,\"#7201a8\"],[0.3333333333333333,\"#9c179e\"],[0.4444444444444444,\"#bd3786\"],[0.5555555555555556,\"#d8576b\"],[0.6666666666666666,\"#ed7953\"],[0.7777777777777778,\"#fb9f3a\"],[0.8888888888888888,\"#fdca26\"],[1.0,\"#f0f921\"]]}],\"choropleth\":[{\"type\":\"choropleth\",\"colorbar\":{\"outlinewidth\":0,\"ticks\":\"\"}}],\"histogram2d\":[{\"type\":\"histogram2d\",\"colorbar\":{\"outlinewidth\":0,\"ticks\":\"\"},\"colorscale\":[[0.0,\"#0d0887\"],[0.1111111111111111,\"#46039f\"],[0.2222222222222222,\"#7201a8\"],[0.3333333333333333,\"#9c179e\"],[0.4444444444444444,\"#bd3786\"],[0.5555555555555556,\"#d8576b\"],[0.6666666666666666,\"#ed7953\"],[0.7777777777777778,\"#fb9f3a\"],[0.8888888888888888,\"#fdca26\"],[1.0,\"#f0f921\"]]}],\"heatmap\":[{\"type\":\"heatmap\",\"colorbar\":{\"outlinewidth\":0,\"ticks\":\"\"},\"colorscale\":[[0.0,\"#0d0887\"],[0.1111111111111111,\"#46039f\"],[0.2222222222222222,\"#7201a8\"],[0.3333333333333333,\"#9c179e\"],[0.4444444444444444,\"#bd3786\"],[0.5555555555555556,\"#d8576b\"],[0.6666666666666666,\"#ed7953\"],[0.7777777777777778,\"#fb9f3a\"],[0.8888888888888888,\"#fdca26\"],[1.0,\"#f0f921\"]]}],\"heatmapgl\":[{\"type\":\"heatmapgl\",\"colorbar\":{\"outlinewidth\":0,\"ticks\":\"\"},\"colorscale\":[[0.0,\"#0d0887\"],[0.1111111111111111,\"#46039f\"],[0.2222222222222222,\"#7201a8\"],[0.3333333333333333,\"#9c179e\"],[0.4444444444444444,\"#bd3786\"],[0.5555555555555556,\"#d8576b\"],[0.6666666666666666,\"#ed7953\"],[0.7777777777777778,\"#fb9f3a\"],[0.8888888888888888,\"#fdca26\"],[1.0,\"#f0f921\"]]}],\"contourcarpet\":[{\"type\":\"contourcarpet\",\"colorbar\":{\"outlinewidth\":0,\"ticks\":\"\"}}],\"contour\":[{\"type\":\"contour\",\"colorbar\":{\"outlinewidth\":0,\"ticks\":\"\"},\"colorscale\":[[0.0,\"#0d0887\"],[0.1111111111111111,\"#46039f\"],[0.2222222222222222,\"#7201a8\"],[0.3333333333333333,\"#9c179e\"],[0.4444444444444444,\"#bd3786\"],[0.5555555555555556,\"#d8576b\"],[0.6666666666666666,\"#ed7953\"],[0.7777777777777778,\"#fb9f3a\"],[0.8888888888888888,\"#fdca26\"],[1.0,\"#f0f921\"]]}],\"surface\":[{\"type\":\"surface\",\"colorbar\":{\"outlinewidth\":0,\"ticks\":\"\"},\"colorscale\":[[0.0,\"#0d0887\"],[0.1111111111111111,\"#46039f\"],[0.2222222222222222,\"#7201a8\"],[0.3333333333333333,\"#9c179e\"],[0.4444444444444444,\"#bd3786\"],[0.5555555555555556,\"#d8576b\"],[0.6666666666666666,\"#ed7953\"],[0.7777777777777778,\"#fb9f3a\"],[0.8888888888888888,\"#fdca26\"],[1.0,\"#f0f921\"]]}],\"mesh3d\":[{\"type\":\"mesh3d\",\"colorbar\":{\"outlinewidth\":0,\"ticks\":\"\"}}],\"scatter\":[{\"fillpattern\":{\"fillmode\":\"overlay\",\"size\":10,\"solidity\":0.2},\"type\":\"scatter\"}],\"parcoords\":[{\"type\":\"parcoords\",\"line\":{\"colorbar\":{\"outlinewidth\":0,\"ticks\":\"\"}}}],\"scatterpolargl\":[{\"type\":\"scatterpolargl\",\"marker\":{\"colorbar\":{\"outlinewidth\":0,\"ticks\":\"\"}}}],\"bar\":[{\"error_x\":{\"color\":\"#2a3f5f\"},\"error_y\":{\"color\":\"#2a3f5f\"},\"marker\":{\"line\":{\"color\":\"#E5ECF6\",\"width\":0.5},\"pattern\":{\"fillmode\":\"overlay\",\"size\":10,\"solidity\":0.2}},\"type\":\"bar\"}],\"scattergeo\":[{\"type\":\"scattergeo\",\"marker\":{\"colorbar\":{\"outlinewidth\":0,\"ticks\":\"\"}}}],\"scatterpolar\":[{\"type\":\"scatterpolar\",\"marker\":{\"colorbar\":{\"outlinewidth\":0,\"ticks\":\"\"}}}],\"histogram\":[{\"marker\":{\"pattern\":{\"fillmode\":\"overlay\",\"size\":10,\"solidity\":0.2}},\"type\":\"histogram\"}],\"scattergl\":[{\"type\":\"scattergl\",\"marker\":{\"colorbar\":{\"outlinewidth\":0,\"ticks\":\"\"}}}],\"scatter3d\":[{\"type\":\"scatter3d\",\"line\":{\"colorbar\":{\"outlinewidth\":0,\"ticks\":\"\"}},\"marker\":{\"colorbar\":{\"outlinewidth\":0,\"ticks\":\"\"}}}],\"scattermapbox\":[{\"type\":\"scattermapbox\",\"marker\":{\"colorbar\":{\"outlinewidth\":0,\"ticks\":\"\"}}}],\"scatterternary\":[{\"type\":\"scatterternary\",\"marker\":{\"colorbar\":{\"outlinewidth\":0,\"ticks\":\"\"}}}],\"scattercarpet\":[{\"type\":\"scattercarpet\",\"marker\":{\"colorbar\":{\"outlinewidth\":0,\"ticks\":\"\"}}}],\"carpet\":[{\"aaxis\":{\"endlinecolor\":\"#2a3f5f\",\"gridcolor\":\"white\",\"linecolor\":\"white\",\"minorgridcolor\":\"white\",\"startlinecolor\":\"#2a3f5f\"},\"baxis\":{\"endlinecolor\":\"#2a3f5f\",\"gridcolor\":\"white\",\"linecolor\":\"white\",\"minorgridcolor\":\"white\",\"startlinecolor\":\"#2a3f5f\"},\"type\":\"carpet\"}],\"table\":[{\"cells\":{\"fill\":{\"color\":\"#EBF0F8\"},\"line\":{\"color\":\"white\"}},\"header\":{\"fill\":{\"color\":\"#C8D4E3\"},\"line\":{\"color\":\"white\"}},\"type\":\"table\"}],\"barpolar\":[{\"marker\":{\"line\":{\"color\":\"#E5ECF6\",\"width\":0.5},\"pattern\":{\"fillmode\":\"overlay\",\"size\":10,\"solidity\":0.2}},\"type\":\"barpolar\"}],\"pie\":[{\"automargin\":true,\"type\":\"pie\"}]},\"layout\":{\"autotypenumbers\":\"strict\",\"colorway\":[\"#636efa\",\"#EF553B\",\"#00cc96\",\"#ab63fa\",\"#FFA15A\",\"#19d3f3\",\"#FF6692\",\"#B6E880\",\"#FF97FF\",\"#FECB52\"],\"font\":{\"color\":\"#2a3f5f\"},\"hovermode\":\"closest\",\"hoverlabel\":{\"align\":\"left\"},\"paper_bgcolor\":\"white\",\"plot_bgcolor\":\"#E5ECF6\",\"polar\":{\"bgcolor\":\"#E5ECF6\",\"angularaxis\":{\"gridcolor\":\"white\",\"linecolor\":\"white\",\"ticks\":\"\"},\"radialaxis\":{\"gridcolor\":\"white\",\"linecolor\":\"white\",\"ticks\":\"\"}},\"ternary\":{\"bgcolor\":\"#E5ECF6\",\"aaxis\":{\"gridcolor\":\"white\",\"linecolor\":\"white\",\"ticks\":\"\"},\"baxis\":{\"gridcolor\":\"white\",\"linecolor\":\"white\",\"ticks\":\"\"},\"caxis\":{\"gridcolor\":\"white\",\"linecolor\":\"white\",\"ticks\":\"\"}},\"coloraxis\":{\"colorbar\":{\"outlinewidth\":0,\"ticks\":\"\"}},\"colorscale\":{\"sequential\":[[0.0,\"#0d0887\"],[0.1111111111111111,\"#46039f\"],[0.2222222222222222,\"#7201a8\"],[0.3333333333333333,\"#9c179e\"],[0.4444444444444444,\"#bd3786\"],[0.5555555555555556,\"#d8576b\"],[0.6666666666666666,\"#ed7953\"],[0.7777777777777778,\"#fb9f3a\"],[0.8888888888888888,\"#fdca26\"],[1.0,\"#f0f921\"]],\"sequentialminus\":[[0.0,\"#0d0887\"],[0.1111111111111111,\"#46039f\"],[0.2222222222222222,\"#7201a8\"],[0.3333333333333333,\"#9c179e\"],[0.4444444444444444,\"#bd3786\"],[0.5555555555555556,\"#d8576b\"],[0.6666666666666666,\"#ed7953\"],[0.7777777777777778,\"#fb9f3a\"],[0.8888888888888888,\"#fdca26\"],[1.0,\"#f0f921\"]],\"diverging\":[[0,\"#8e0152\"],[0.1,\"#c51b7d\"],[0.2,\"#de77ae\"],[0.3,\"#f1b6da\"],[0.4,\"#fde0ef\"],[0.5,\"#f7f7f7\"],[0.6,\"#e6f5d0\"],[0.7,\"#b8e186\"],[0.8,\"#7fbc41\"],[0.9,\"#4d9221\"],[1,\"#276419\"]]},\"xaxis\":{\"gridcolor\":\"white\",\"linecolor\":\"white\",\"ticks\":\"\",\"title\":{\"standoff\":15},\"zerolinecolor\":\"white\",\"automargin\":true,\"zerolinewidth\":2},\"yaxis\":{\"gridcolor\":\"white\",\"linecolor\":\"white\",\"ticks\":\"\",\"title\":{\"standoff\":15},\"zerolinecolor\":\"white\",\"automargin\":true,\"zerolinewidth\":2},\"scene\":{\"xaxis\":{\"backgroundcolor\":\"#E5ECF6\",\"gridcolor\":\"white\",\"linecolor\":\"white\",\"showbackground\":true,\"ticks\":\"\",\"zerolinecolor\":\"white\",\"gridwidth\":2},\"yaxis\":{\"backgroundcolor\":\"#E5ECF6\",\"gridcolor\":\"white\",\"linecolor\":\"white\",\"showbackground\":true,\"ticks\":\"\",\"zerolinecolor\":\"white\",\"gridwidth\":2},\"zaxis\":{\"backgroundcolor\":\"#E5ECF6\",\"gridcolor\":\"white\",\"linecolor\":\"white\",\"showbackground\":true,\"ticks\":\"\",\"zerolinecolor\":\"white\",\"gridwidth\":2}},\"shapedefaults\":{\"line\":{\"color\":\"#2a3f5f\"}},\"annotationdefaults\":{\"arrowcolor\":\"#2a3f5f\",\"arrowhead\":0,\"arrowwidth\":1},\"geo\":{\"bgcolor\":\"white\",\"landcolor\":\"#E5ECF6\",\"subunitcolor\":\"white\",\"showland\":true,\"showlakes\":true,\"lakecolor\":\"white\"},\"title\":{\"x\":0.05},\"mapbox\":{\"style\":\"light\"}}},\"xaxis\":{\"anchor\":\"y\",\"domain\":[0.0,0.06805555555555555],\"title\":{\"text\":\"bagging_temperature\"}},\"yaxis\":{\"anchor\":\"x\",\"domain\":[0.0,1.0],\"title\":{\"text\":\"Objective Value\"}},\"xaxis2\":{\"anchor\":\"y2\",\"domain\":[0.08472222222222221,0.15277777777777776],\"title\":{\"text\":\"bootstrap_type\"},\"type\":\"category\",\"categoryorder\":\"array\",\"categoryarray\":[\"Bayesian\",\"Bernoulli\",\"MVS\"]},\"yaxis2\":{\"anchor\":\"x2\",\"domain\":[0.0,1.0],\"matches\":\"y\",\"showticklabels\":false},\"xaxis3\":{\"anchor\":\"y3\",\"domain\":[0.16944444444444443,0.2375],\"title\":{\"text\":\"border_count\"}},\"yaxis3\":{\"anchor\":\"x3\",\"domain\":[0.0,1.0],\"matches\":\"y\",\"showticklabels\":false},\"xaxis4\":{\"anchor\":\"y4\",\"domain\":[0.25416666666666665,0.3222222222222222],\"title\":{\"text\":\"depth\"}},\"yaxis4\":{\"anchor\":\"x4\",\"domain\":[0.0,1.0],\"matches\":\"y\",\"showticklabels\":false},\"xaxis5\":{\"anchor\":\"y5\",\"domain\":[0.33888888888888885,0.4069444444444444],\"title\":{\"text\":\"grow_policy\"},\"type\":\"category\",\"categoryorder\":\"array\",\"categoryarray\":[\"Depthwise\",\"SymmetricTree\"]},\"yaxis5\":{\"anchor\":\"x5\",\"domain\":[0.0,1.0],\"matches\":\"y\",\"showticklabels\":false},\"xaxis6\":{\"anchor\":\"y6\",\"domain\":[0.42361111111111105,0.4916666666666666],\"title\":{\"text\":\"l2_leaf_reg\"}},\"yaxis6\":{\"anchor\":\"x6\",\"domain\":[0.0,1.0],\"matches\":\"y\",\"showticklabels\":false},\"xaxis7\":{\"anchor\":\"y7\",\"domain\":[0.5083333333333333,0.5763888888888888],\"title\":{\"text\":\"learning_rate\"}},\"yaxis7\":{\"anchor\":\"x7\",\"domain\":[0.0,1.0],\"matches\":\"y\",\"showticklabels\":false},\"xaxis8\":{\"anchor\":\"y8\",\"domain\":[0.5930555555555556,0.6611111111111111],\"title\":{\"text\":\"min_data_in_leaf\"}},\"yaxis8\":{\"anchor\":\"x8\",\"domain\":[0.0,1.0],\"matches\":\"y\",\"showticklabels\":false},\"xaxis9\":{\"anchor\":\"y9\",\"domain\":[0.6777777777777777,0.7458333333333332],\"title\":{\"text\":\"n_estimators\"}},\"yaxis9\":{\"anchor\":\"x9\",\"domain\":[0.0,1.0],\"matches\":\"y\",\"showticklabels\":false},\"xaxis10\":{\"anchor\":\"y10\",\"domain\":[0.7625,0.8305555555555555],\"title\":{\"text\":\"od_wait\"}},\"yaxis10\":{\"anchor\":\"x10\",\"domain\":[0.0,1.0],\"matches\":\"y\",\"showticklabels\":false},\"xaxis11\":{\"anchor\":\"y11\",\"domain\":[0.8472222222222221,0.9152777777777776],\"title\":{\"text\":\"random_strength\"}},\"yaxis11\":{\"anchor\":\"x11\",\"domain\":[0.0,1.0],\"matches\":\"y\",\"showticklabels\":false},\"xaxis12\":{\"anchor\":\"y12\",\"domain\":[0.9319444444444444,0.9999999999999999],\"title\":{\"text\":\"subsample\"}},\"yaxis12\":{\"anchor\":\"x12\",\"domain\":[0.0,1.0],\"matches\":\"y\",\"showticklabels\":false},\"title\":{\"text\":\"Slice Plot\"},\"width\":3600},                        {\"responsive\": true}                    )                };                            </script>        </div>"
      ],
      "text/plain": [
       "Figure({\n",
       "    'data': [{'marker': {'color': [0, 2, 4, 13, 20, 26, 33, 34, 38, 39, 40, 42,\n",
       "                                   62, 94, 116, 121, 124, 130, 145, 146, 147, 160,\n",
       "                                   176, 182, 183, 191, 196, 197],\n",
       "                         'colorbar': {'title': {'text': 'Trial'}, 'x': 1.0, 'xpad': 40},\n",
       "                         'colorscale': [[0.0, 'rgb(247,251,255)'], [0.125,\n",
       "                                        'rgb(222,235,247)'], [0.25,\n",
       "                                        'rgb(198,219,239)'], [0.375,\n",
       "                                        'rgb(158,202,225)'], [0.5,\n",
       "                                        'rgb(107,174,214)'], [0.625,\n",
       "                                        'rgb(66,146,198)'], [0.75,\n",
       "                                        'rgb(33,113,181)'], [0.875,\n",
       "                                        'rgb(8,81,156)'], [1.0, 'rgb(8,48,107)']],\n",
       "                         'line': {'color': 'Grey', 'width': 0.5},\n",
       "                         'showscale': True},\n",
       "              'mode': 'markers',\n",
       "              'name': 'Feasible Trial',\n",
       "              'showlegend': False,\n",
       "              'type': 'scatter',\n",
       "              'x': [5.896137534558643, 1.228516961349656, 4.243219898452257,\n",
       "                    9.014036856436508, 9.987073306041054, 9.756866720834928,\n",
       "                    9.911277411849381, 9.8344912810759, 9.864930915569468,\n",
       "                    8.096631895075989, 7.64697249569321, 7.412643687048379,\n",
       "                    9.951184484014943, 8.663707807805357, 9.985819159361096,\n",
       "                    9.976941278516367, 8.754107426125122, 8.558265773497306,\n",
       "                    9.983721006190395, 9.988003585502463, 9.903001026279528,\n",
       "                    9.995309448742987, 9.992836685513474, 9.915390407426234,\n",
       "                    9.89872496891705, 9.897144646417793, 8.892351413478782,\n",
       "                    7.577733046671767],\n",
       "              'xaxis': 'x',\n",
       "              'y': [0.44573425431744024, 0.1923539626301527, 0.2970609810741265,\n",
       "                    0.12990407333752463, 0.15121286497097775, 0.22576668957663523,\n",
       "                    0.0967718003435825, 0.10418792477358048, 0.13708221040718185,\n",
       "                    0.1327470550306914, 0.10064331461907569, 0.09606316115412764,\n",
       "                    0.14638629223328806, 0.08669020046935776, 0.09527976422901176,\n",
       "                    0.10569945141994165, 0.09343713718816066, 0.09223083412710958,\n",
       "                    0.10239509242704552, 0.089995347060581, 0.10385132433748773,\n",
       "                    0.09771281553616255, 0.07008948738808198, 0.09048342362255352,\n",
       "                    0.07914363065743762, 0.08218027339315814, 0.09760503867966844,\n",
       "                    0.08450421488482183],\n",
       "              'yaxis': 'y'},\n",
       "             {'marker': {'color': [0, 1, 2, 3, 4, 13, 20, 26, 33, 34, 38, 39, 40,\n",
       "                                   42, 62, 94, 116, 121, 124, 130, 145, 146, 147,\n",
       "                                   160, 176, 182, 183, 191, 196, 197],\n",
       "                         'colorbar': {'title': {'text': 'Trial'}, 'x': 1.0, 'xpad': 40},\n",
       "                         'colorscale': [[0.0, 'rgb(247,251,255)'], [0.125,\n",
       "                                        'rgb(222,235,247)'], [0.25,\n",
       "                                        'rgb(198,219,239)'], [0.375,\n",
       "                                        'rgb(158,202,225)'], [0.5,\n",
       "                                        'rgb(107,174,214)'], [0.625,\n",
       "                                        'rgb(66,146,198)'], [0.75,\n",
       "                                        'rgb(33,113,181)'], [0.875,\n",
       "                                        'rgb(8,81,156)'], [1.0, 'rgb(8,48,107)']],\n",
       "                         'line': {'color': 'Grey', 'width': 0.5},\n",
       "                         'showscale': False},\n",
       "              'mode': 'markers',\n",
       "              'name': 'Feasible Trial',\n",
       "              'showlegend': False,\n",
       "              'type': 'scatter',\n",
       "              'x': [Bayesian, Bernoulli, Bayesian, Bernoulli, Bayesian, Bayesian,\n",
       "                    Bayesian, Bayesian, Bayesian, Bayesian, Bayesian, Bayesian,\n",
       "                    Bayesian, Bayesian, Bayesian, Bayesian, Bayesian, Bayesian,\n",
       "                    Bayesian, Bayesian, Bayesian, Bayesian, Bayesian, Bayesian,\n",
       "                    Bayesian, Bayesian, Bayesian, Bayesian, Bayesian, Bayesian],\n",
       "              'xaxis': 'x2',\n",
       "              'y': [0.44573425431744024, 0.31325194663775785, 0.1923539626301527,\n",
       "                    0.3804503000272274, 0.2970609810741265, 0.12990407333752463,\n",
       "                    0.15121286497097775, 0.22576668957663523, 0.0967718003435825,\n",
       "                    0.10418792477358048, 0.13708221040718185, 0.1327470550306914,\n",
       "                    0.10064331461907569, 0.09606316115412764, 0.14638629223328806,\n",
       "                    0.08669020046935776, 0.09527976422901176, 0.10569945141994165,\n",
       "                    0.09343713718816066, 0.09223083412710958, 0.10239509242704552,\n",
       "                    0.089995347060581, 0.10385132433748773, 0.09771281553616255,\n",
       "                    0.07008948738808198, 0.09048342362255352, 0.07914363065743762,\n",
       "                    0.08218027339315814, 0.09760503867966844, 0.08450421488482183],\n",
       "              'yaxis': 'y2'},\n",
       "             {'marker': {'color': [0, 1, 2, 3, 4, 13, 20, 26, 33, 34, 38, 39, 40,\n",
       "                                   42, 62, 94, 116, 121, 124, 130, 145, 146, 147,\n",
       "                                   160, 176, 182, 183, 191, 196, 197],\n",
       "                         'colorbar': {'title': {'text': 'Trial'}, 'x': 1.0, 'xpad': 40},\n",
       "                         'colorscale': [[0.0, 'rgb(247,251,255)'], [0.125,\n",
       "                                        'rgb(222,235,247)'], [0.25,\n",
       "                                        'rgb(198,219,239)'], [0.375,\n",
       "                                        'rgb(158,202,225)'], [0.5,\n",
       "                                        'rgb(107,174,214)'], [0.625,\n",
       "                                        'rgb(66,146,198)'], [0.75,\n",
       "                                        'rgb(33,113,181)'], [0.875,\n",
       "                                        'rgb(8,81,156)'], [1.0, 'rgb(8,48,107)']],\n",
       "                         'line': {'color': 'Grey', 'width': 0.5},\n",
       "                         'showscale': False},\n",
       "              'mode': 'markers',\n",
       "              'name': 'Feasible Trial',\n",
       "              'showlegend': False,\n",
       "              'type': 'scatter',\n",
       "              'x': [471, 249, 307, 323, 311, 217, 333, 186, 294, 193, 234, 233,\n",
       "                    288, 359, 246, 330, 367, 317, 330, 279, 229, 179, 162, 135,\n",
       "                    167, 383, 454, 257, 277, 279],\n",
       "              'xaxis': 'x3',\n",
       "              'y': [0.44573425431744024, 0.31325194663775785, 0.1923539626301527,\n",
       "                    0.3804503000272274, 0.2970609810741265, 0.12990407333752463,\n",
       "                    0.15121286497097775, 0.22576668957663523, 0.0967718003435825,\n",
       "                    0.10418792477358048, 0.13708221040718185, 0.1327470550306914,\n",
       "                    0.10064331461907569, 0.09606316115412764, 0.14638629223328806,\n",
       "                    0.08669020046935776, 0.09527976422901176, 0.10569945141994165,\n",
       "                    0.09343713718816066, 0.09223083412710958, 0.10239509242704552,\n",
       "                    0.089995347060581, 0.10385132433748773, 0.09771281553616255,\n",
       "                    0.07008948738808198, 0.09048342362255352, 0.07914363065743762,\n",
       "                    0.08218027339315814, 0.09760503867966844, 0.08450421488482183],\n",
       "              'yaxis': 'y3'},\n",
       "             {'marker': {'color': [0, 1, 2, 3, 4, 13, 20, 26, 33, 34, 38, 39, 40,\n",
       "                                   42, 62, 94, 116, 121, 124, 130, 145, 146, 147,\n",
       "                                   160, 176, 182, 183, 191, 196, 197],\n",
       "                         'colorbar': {'title': {'text': 'Trial'}, 'x': 1.0, 'xpad': 40},\n",
       "                         'colorscale': [[0.0, 'rgb(247,251,255)'], [0.125,\n",
       "                                        'rgb(222,235,247)'], [0.25,\n",
       "                                        'rgb(198,219,239)'], [0.375,\n",
       "                                        'rgb(158,202,225)'], [0.5,\n",
       "                                        'rgb(107,174,214)'], [0.625,\n",
       "                                        'rgb(66,146,198)'], [0.75,\n",
       "                                        'rgb(33,113,181)'], [0.875,\n",
       "                                        'rgb(8,81,156)'], [1.0, 'rgb(8,48,107)']],\n",
       "                         'line': {'color': 'Grey', 'width': 0.5},\n",
       "                         'showscale': False},\n",
       "              'mode': 'markers',\n",
       "              'name': 'Feasible Trial',\n",
       "              'showlegend': False,\n",
       "              'type': 'scatter',\n",
       "              'x': [4, 10, 11, 8, 12, 12, 8, 9, 11, 10, 12, 12, 11, 12, 12, 12,\n",
       "                    12, 11, 12, 11, 12, 12, 12, 10, 10, 12, 12, 10, 12, 12],\n",
       "              'xaxis': 'x4',\n",
       "              'y': [0.44573425431744024, 0.31325194663775785, 0.1923539626301527,\n",
       "                    0.3804503000272274, 0.2970609810741265, 0.12990407333752463,\n",
       "                    0.15121286497097775, 0.22576668957663523, 0.0967718003435825,\n",
       "                    0.10418792477358048, 0.13708221040718185, 0.1327470550306914,\n",
       "                    0.10064331461907569, 0.09606316115412764, 0.14638629223328806,\n",
       "                    0.08669020046935776, 0.09527976422901176, 0.10569945141994165,\n",
       "                    0.09343713718816066, 0.09223083412710958, 0.10239509242704552,\n",
       "                    0.089995347060581, 0.10385132433748773, 0.09771281553616255,\n",
       "                    0.07008948738808198, 0.09048342362255352, 0.07914363065743762,\n",
       "                    0.08218027339315814, 0.09760503867966844, 0.08450421488482183],\n",
       "              'yaxis': 'y4'},\n",
       "             {'marker': {'color': [0, 1, 2, 3, 4, 13, 20, 26, 33, 34, 38, 39, 40,\n",
       "                                   42, 62, 94, 116, 121, 124, 130, 145, 146, 147,\n",
       "                                   160, 176, 182, 183, 191, 196, 197],\n",
       "                         'colorbar': {'title': {'text': 'Trial'}, 'x': 1.0, 'xpad': 40},\n",
       "                         'colorscale': [[0.0, 'rgb(247,251,255)'], [0.125,\n",
       "                                        'rgb(222,235,247)'], [0.25,\n",
       "                                        'rgb(198,219,239)'], [0.375,\n",
       "                                        'rgb(158,202,225)'], [0.5,\n",
       "                                        'rgb(107,174,214)'], [0.625,\n",
       "                                        'rgb(66,146,198)'], [0.75,\n",
       "                                        'rgb(33,113,181)'], [0.875,\n",
       "                                        'rgb(8,81,156)'], [1.0, 'rgb(8,48,107)']],\n",
       "                         'line': {'color': 'Grey', 'width': 0.5},\n",
       "                         'showscale': False},\n",
       "              'mode': 'markers',\n",
       "              'name': 'Feasible Trial',\n",
       "              'showlegend': False,\n",
       "              'type': 'scatter',\n",
       "              'x': [Depthwise, SymmetricTree, Depthwise, Depthwise, SymmetricTree,\n",
       "                    SymmetricTree, Depthwise, SymmetricTree, Depthwise, Depthwise,\n",
       "                    SymmetricTree, Depthwise, Depthwise, Depthwise, SymmetricTree,\n",
       "                    Depthwise, Depthwise, Depthwise, Depthwise, Depthwise,\n",
       "                    Depthwise, Depthwise, Depthwise, Depthwise, Depthwise,\n",
       "                    Depthwise, Depthwise, Depthwise, Depthwise, Depthwise],\n",
       "              'xaxis': 'x5',\n",
       "              'y': [0.44573425431744024, 0.31325194663775785, 0.1923539626301527,\n",
       "                    0.3804503000272274, 0.2970609810741265, 0.12990407333752463,\n",
       "                    0.15121286497097775, 0.22576668957663523, 0.0967718003435825,\n",
       "                    0.10418792477358048, 0.13708221040718185, 0.1327470550306914,\n",
       "                    0.10064331461907569, 0.09606316115412764, 0.14638629223328806,\n",
       "                    0.08669020046935776, 0.09527976422901176, 0.10569945141994165,\n",
       "                    0.09343713718816066, 0.09223083412710958, 0.10239509242704552,\n",
       "                    0.089995347060581, 0.10385132433748773, 0.09771281553616255,\n",
       "                    0.07008948738808198, 0.09048342362255352, 0.07914363065743762,\n",
       "                    0.08218027339315814, 0.09760503867966844, 0.08450421488482183],\n",
       "              'yaxis': 'y5'},\n",
       "             {'marker': {'color': [0, 1, 2, 3, 4, 13, 20, 26, 33, 34, 38, 39, 40,\n",
       "                                   42, 62, 94, 116, 121, 124, 130, 145, 146, 147,\n",
       "                                   160, 176, 182, 183, 191, 196, 197],\n",
       "                         'colorbar': {'title': {'text': 'Trial'}, 'x': 1.0, 'xpad': 40},\n",
       "                         'colorscale': [[0.0, 'rgb(247,251,255)'], [0.125,\n",
       "                                        'rgb(222,235,247)'], [0.25,\n",
       "                                        'rgb(198,219,239)'], [0.375,\n",
       "                                        'rgb(158,202,225)'], [0.5,\n",
       "                                        'rgb(107,174,214)'], [0.625,\n",
       "                                        'rgb(66,146,198)'], [0.75,\n",
       "                                        'rgb(33,113,181)'], [0.875,\n",
       "                                        'rgb(8,81,156)'], [1.0, 'rgb(8,48,107)']],\n",
       "                         'line': {'color': 'Grey', 'width': 0.5},\n",
       "                         'showscale': False},\n",
       "              'mode': 'markers',\n",
       "              'name': 'Feasible Trial',\n",
       "              'showlegend': False,\n",
       "              'type': 'scatter',\n",
       "              'x': [4.598603416089688, 5.522568137371598, 2.2537162067885674,\n",
       "                    7.691103672226161, 0.9120557080741232, 3.6478802698132933,\n",
       "                    1.2822175353741807, 2.1689869422107373, 2.698003676918142,\n",
       "                    3.670455508035167, 2.385352477188939, 3.760155483398436,\n",
       "                    4.414198756950219, 4.795720556739125, 4.078678438980133,\n",
       "                    8.330263653741417, 4.174514265635646, 4.401139925053949,\n",
       "                    5.8412572981827, 5.2619652636956005, 5.128188728918285,\n",
       "                    5.258346084743444, 4.751782062165222, 5.920840442593013,\n",
       "                    6.752884443750061, 6.5257286864699635, 5.100359145871922,\n",
       "                    3.7250637737279835, 5.165687406460412, 6.040666672225204],\n",
       "              'xaxis': 'x6',\n",
       "              'y': [0.44573425431744024, 0.31325194663775785, 0.1923539626301527,\n",
       "                    0.3804503000272274, 0.2970609810741265, 0.12990407333752463,\n",
       "                    0.15121286497097775, 0.22576668957663523, 0.0967718003435825,\n",
       "                    0.10418792477358048, 0.13708221040718185, 0.1327470550306914,\n",
       "                    0.10064331461907569, 0.09606316115412764, 0.14638629223328806,\n",
       "                    0.08669020046935776, 0.09527976422901176, 0.10569945141994165,\n",
       "                    0.09343713718816066, 0.09223083412710958, 0.10239509242704552,\n",
       "                    0.089995347060581, 0.10385132433748773, 0.09771281553616255,\n",
       "                    0.07008948738808198, 0.09048342362255352, 0.07914363065743762,\n",
       "                    0.08218027339315814, 0.09760503867966844, 0.08450421488482183],\n",
       "              'yaxis': 'y6'},\n",
       "             {'marker': {'color': [0, 1, 2, 3, 4, 13, 20, 26, 33, 34, 38, 39, 40,\n",
       "                                   42, 62, 94, 116, 121, 124, 130, 145, 146, 147,\n",
       "                                   160, 176, 182, 183, 191, 196, 197],\n",
       "                         'colorbar': {'title': {'text': 'Trial'}, 'x': 1.0, 'xpad': 40},\n",
       "                         'colorscale': [[0.0, 'rgb(247,251,255)'], [0.125,\n",
       "                                        'rgb(222,235,247)'], [0.25,\n",
       "                                        'rgb(198,219,239)'], [0.375,\n",
       "                                        'rgb(158,202,225)'], [0.5,\n",
       "                                        'rgb(107,174,214)'], [0.625,\n",
       "                                        'rgb(66,146,198)'], [0.75,\n",
       "                                        'rgb(33,113,181)'], [0.875,\n",
       "                                        'rgb(8,81,156)'], [1.0, 'rgb(8,48,107)']],\n",
       "                         'line': {'color': 'Grey', 'width': 0.5},\n",
       "                         'showscale': False},\n",
       "              'mode': 'markers',\n",
       "              'name': 'Feasible Trial',\n",
       "              'showlegend': False,\n",
       "              'type': 'scatter',\n",
       "              'x': [0.3023566097075212, 0.626473206229759, 0.17993030672813215,\n",
       "                    0.7261381221193408, 0.4152476898098848, 0.1523639476459231,\n",
       "                    0.1537519327561497, 0.5889529344613407, 0.2934667999857045,\n",
       "                    0.27873164046780347, 0.2583711508816783, 0.2306514034264288,\n",
       "                    0.2554394812697451, 0.26702716130652354, 0.3203511901253876,\n",
       "                    0.26238916853480065, 0.2879108158262327, 0.4135738124044074,\n",
       "                    0.37099974343510955, 0.4269214470686331, 0.4637122882039103,\n",
       "                    0.3442433776050216, 0.38886439052637994, 0.4929086496406034,\n",
       "                    0.46510940176204085, 0.30189610876484696, 0.3071357315456206,\n",
       "                    0.3739306345669003, 0.3480277939716783, 0.3828839078650477],\n",
       "              'xaxis': 'x7',\n",
       "              'y': [0.44573425431744024, 0.31325194663775785, 0.1923539626301527,\n",
       "                    0.3804503000272274, 0.2970609810741265, 0.12990407333752463,\n",
       "                    0.15121286497097775, 0.22576668957663523, 0.0967718003435825,\n",
       "                    0.10418792477358048, 0.13708221040718185, 0.1327470550306914,\n",
       "                    0.10064331461907569, 0.09606316115412764, 0.14638629223328806,\n",
       "                    0.08669020046935776, 0.09527976422901176, 0.10569945141994165,\n",
       "                    0.09343713718816066, 0.09223083412710958, 0.10239509242704552,\n",
       "                    0.089995347060581, 0.10385132433748773, 0.09771281553616255,\n",
       "                    0.07008948738808198, 0.09048342362255352, 0.07914363065743762,\n",
       "                    0.08218027339315814, 0.09760503867966844, 0.08450421488482183],\n",
       "              'yaxis': 'y7'},\n",
       "             {'marker': {'color': [0, 2, 3, 20, 33, 34, 39, 40, 42, 94, 116, 121,\n",
       "                                   124, 130, 145, 146, 147, 160, 176, 182, 183,\n",
       "                                   191, 196, 197],\n",
       "                         'colorbar': {'title': {'text': 'Trial'}, 'x': 1.0, 'xpad': 40},\n",
       "                         'colorscale': [[0.0, 'rgb(247,251,255)'], [0.125,\n",
       "                                        'rgb(222,235,247)'], [0.25,\n",
       "                                        'rgb(198,219,239)'], [0.375,\n",
       "                                        'rgb(158,202,225)'], [0.5,\n",
       "                                        'rgb(107,174,214)'], [0.625,\n",
       "                                        'rgb(66,146,198)'], [0.75,\n",
       "                                        'rgb(33,113,181)'], [0.875,\n",
       "                                        'rgb(8,81,156)'], [1.0, 'rgb(8,48,107)']],\n",
       "                         'line': {'color': 'Grey', 'width': 0.5},\n",
       "                         'showscale': False},\n",
       "              'mode': 'markers',\n",
       "              'name': 'Feasible Trial',\n",
       "              'showlegend': False,\n",
       "              'type': 'scatter',\n",
       "              'x': [172, 148, 225, 317, 235, 223, 178, 188, 191, 168, 161, 244,\n",
       "                    226, 218, 173, 197, 175, 222, 209, 165, 125, 108, 158, 145],\n",
       "              'xaxis': 'x8',\n",
       "              'y': [0.44573425431744024, 0.1923539626301527, 0.3804503000272274,\n",
       "                    0.15121286497097775, 0.0967718003435825, 0.10418792477358048,\n",
       "                    0.1327470550306914, 0.10064331461907569, 0.09606316115412764,\n",
       "                    0.08669020046935776, 0.09527976422901176, 0.10569945141994165,\n",
       "                    0.09343713718816066, 0.09223083412710958, 0.10239509242704552,\n",
       "                    0.089995347060581, 0.10385132433748773, 0.09771281553616255,\n",
       "                    0.07008948738808198, 0.09048342362255352, 0.07914363065743762,\n",
       "                    0.08218027339315814, 0.09760503867966844, 0.08450421488482183],\n",
       "              'yaxis': 'y8'},\n",
       "             {'marker': {'color': [0, 1, 2, 3, 4, 13, 20, 26, 33, 34, 38, 39, 40,\n",
       "                                   42, 62, 94, 116, 121, 124, 130, 145, 146, 147,\n",
       "                                   160, 176, 182, 183, 191, 196, 197],\n",
       "                         'colorbar': {'title': {'text': 'Trial'}, 'x': 1.0, 'xpad': 40},\n",
       "                         'colorscale': [[0.0, 'rgb(247,251,255)'], [0.125,\n",
       "                                        'rgb(222,235,247)'], [0.25,\n",
       "                                        'rgb(198,219,239)'], [0.375,\n",
       "                                        'rgb(158,202,225)'], [0.5,\n",
       "                                        'rgb(107,174,214)'], [0.625,\n",
       "                                        'rgb(66,146,198)'], [0.75,\n",
       "                                        'rgb(33,113,181)'], [0.875,\n",
       "                                        'rgb(8,81,156)'], [1.0, 'rgb(8,48,107)']],\n",
       "                         'line': {'color': 'Grey', 'width': 0.5},\n",
       "                         'showscale': False},\n",
       "              'mode': 'markers',\n",
       "              'name': 'Feasible Trial',\n",
       "              'showlegend': False,\n",
       "              'type': 'scatter',\n",
       "              'x': [161, 496, 201, 345, 110, 153, 135, 144, 285, 380, 107, 136,\n",
       "                    226, 243, 124, 236, 143, 187, 171, 172, 182, 224, 169, 238,\n",
       "                    337, 260, 272, 157, 141, 187],\n",
       "              'xaxis': 'x9',\n",
       "              'y': [0.44573425431744024, 0.31325194663775785, 0.1923539626301527,\n",
       "                    0.3804503000272274, 0.2970609810741265, 0.12990407333752463,\n",
       "                    0.15121286497097775, 0.22576668957663523, 0.0967718003435825,\n",
       "                    0.10418792477358048, 0.13708221040718185, 0.1327470550306914,\n",
       "                    0.10064331461907569, 0.09606316115412764, 0.14638629223328806,\n",
       "                    0.08669020046935776, 0.09527976422901176, 0.10569945141994165,\n",
       "                    0.09343713718816066, 0.09223083412710958, 0.10239509242704552,\n",
       "                    0.089995347060581, 0.10385132433748773, 0.09771281553616255,\n",
       "                    0.07008948738808198, 0.09048342362255352, 0.07914363065743762,\n",
       "                    0.08218027339315814, 0.09760503867966844, 0.08450421488482183],\n",
       "              'yaxis': 'y9'},\n",
       "             {'marker': {'color': [0, 1, 2, 3, 4, 13, 20, 26, 33, 34, 38, 39, 40,\n",
       "                                   42, 62, 94, 116, 121, 124, 130, 145, 146, 147,\n",
       "                                   160, 176, 182, 183, 191, 196, 197],\n",
       "                         'colorbar': {'title': {'text': 'Trial'}, 'x': 1.0, 'xpad': 40},\n",
       "                         'colorscale': [[0.0, 'rgb(247,251,255)'], [0.125,\n",
       "                                        'rgb(222,235,247)'], [0.25,\n",
       "                                        'rgb(198,219,239)'], [0.375,\n",
       "                                        'rgb(158,202,225)'], [0.5,\n",
       "                                        'rgb(107,174,214)'], [0.625,\n",
       "                                        'rgb(66,146,198)'], [0.75,\n",
       "                                        'rgb(33,113,181)'], [0.875,\n",
       "                                        'rgb(8,81,156)'], [1.0, 'rgb(8,48,107)']],\n",
       "                         'line': {'color': 'Grey', 'width': 0.5},\n",
       "                         'showscale': False},\n",
       "              'mode': 'markers',\n",
       "              'name': 'Feasible Trial',\n",
       "              'showlegend': False,\n",
       "              'type': 'scatter',\n",
       "              'x': [23, 14, 18, 13, 15, 20, 19, 24, 17, 17, 22, 19, 17, 18, 23,\n",
       "                    18, 20, 19, 19, 19, 17, 15, 12, 10, 11, 16, 17, 19, 16, 17],\n",
       "              'xaxis': 'x10',\n",
       "              'y': [0.44573425431744024, 0.31325194663775785, 0.1923539626301527,\n",
       "                    0.3804503000272274, 0.2970609810741265, 0.12990407333752463,\n",
       "                    0.15121286497097775, 0.22576668957663523, 0.0967718003435825,\n",
       "                    0.10418792477358048, 0.13708221040718185, 0.1327470550306914,\n",
       "                    0.10064331461907569, 0.09606316115412764, 0.14638629223328806,\n",
       "                    0.08669020046935776, 0.09527976422901176, 0.10569945141994165,\n",
       "                    0.09343713718816066, 0.09223083412710958, 0.10239509242704552,\n",
       "                    0.089995347060581, 0.10385132433748773, 0.09771281553616255,\n",
       "                    0.07008948738808198, 0.09048342362255352, 0.07914363065743762,\n",
       "                    0.08218027339315814, 0.09760503867966844, 0.08450421488482183],\n",
       "              'yaxis': 'y10'},\n",
       "             {'marker': {'color': [0, 1, 2, 3, 4, 13, 20, 26, 33, 34, 38, 39, 40,\n",
       "                                   42, 62, 94, 116, 121, 124, 130, 145, 146, 147,\n",
       "                                   160, 176, 182, 183, 191, 196, 197],\n",
       "                         'colorbar': {'title': {'text': 'Trial'}, 'x': 1.0, 'xpad': 40},\n",
       "                         'colorscale': [[0.0, 'rgb(247,251,255)'], [0.125,\n",
       "                                        'rgb(222,235,247)'], [0.25,\n",
       "                                        'rgb(198,219,239)'], [0.375,\n",
       "                                        'rgb(158,202,225)'], [0.5,\n",
       "                                        'rgb(107,174,214)'], [0.625,\n",
       "                                        'rgb(66,146,198)'], [0.75,\n",
       "                                        'rgb(33,113,181)'], [0.875,\n",
       "                                        'rgb(8,81,156)'], [1.0, 'rgb(8,48,107)']],\n",
       "                         'line': {'color': 'Grey', 'width': 0.5},\n",
       "                         'showscale': False},\n",
       "              'mode': 'markers',\n",
       "              'name': 'Feasible Trial',\n",
       "              'showlegend': False,\n",
       "              'type': 'scatter',\n",
       "              'x': [7.269889843190701, 2.229280989962561, 6.003749356628742,\n",
       "                    5.50778157101194, 3.2806203071203157, 0.2688212455565311,\n",
       "                    6.040403278599362, 1.4757301411192385, 7.541548374874541,\n",
       "                    8.530006749197774, 0.6609769793551182, 0.9151394058470198,\n",
       "                    0.09339998170420893, 0.3217128884812821, 1.3622501790884343,\n",
       "                    0.3310263450567085, 1.1662358925882055, 1.077358885121901,\n",
       "                    0.22351577813761914, 0.09035277467088819, 0.7396908789556265,\n",
       "                    0.772838879577332, 0.8423479313437001, 0.2831261796261031,\n",
       "                    0.030578303342516877, 0.5932043204597061, 1.0121794813320557,\n",
       "                    0.12714557884602318, 0.4083228923718823, 0.0554677592423648],\n",
       "              'xaxis': 'x11',\n",
       "              'y': [0.44573425431744024, 0.31325194663775785, 0.1923539626301527,\n",
       "                    0.3804503000272274, 0.2970609810741265, 0.12990407333752463,\n",
       "                    0.15121286497097775, 0.22576668957663523, 0.0967718003435825,\n",
       "                    0.10418792477358048, 0.13708221040718185, 0.1327470550306914,\n",
       "                    0.10064331461907569, 0.09606316115412764, 0.14638629223328806,\n",
       "                    0.08669020046935776, 0.09527976422901176, 0.10569945141994165,\n",
       "                    0.09343713718816066, 0.09223083412710958, 0.10239509242704552,\n",
       "                    0.089995347060581, 0.10385132433748773, 0.09771281553616255,\n",
       "                    0.07008948738808198, 0.09048342362255352, 0.07914363065743762,\n",
       "                    0.08218027339315814, 0.09760503867966844, 0.08450421488482183],\n",
       "              'yaxis': 'y11'},\n",
       "             {'marker': {'color': [1, 3],\n",
       "                         'colorbar': {'title': {'text': 'Trial'}, 'x': 1.0, 'xpad': 40},\n",
       "                         'colorscale': [[0.0, 'rgb(247,251,255)'], [0.125,\n",
       "                                        'rgb(222,235,247)'], [0.25,\n",
       "                                        'rgb(198,219,239)'], [0.375,\n",
       "                                        'rgb(158,202,225)'], [0.5,\n",
       "                                        'rgb(107,174,214)'], [0.625,\n",
       "                                        'rgb(66,146,198)'], [0.75,\n",
       "                                        'rgb(33,113,181)'], [0.875,\n",
       "                                        'rgb(8,81,156)'], [1.0, 'rgb(8,48,107)']],\n",
       "                         'line': {'color': 'Grey', 'width': 0.5},\n",
       "                         'showscale': False},\n",
       "              'mode': 'markers',\n",
       "              'name': 'Feasible Trial',\n",
       "              'showlegend': False,\n",
       "              'type': 'scatter',\n",
       "              'x': [0.6601049418885235, 0.409788004370225],\n",
       "              'xaxis': 'x12',\n",
       "              'y': [0.31325194663775785, 0.3804503000272274],\n",
       "              'yaxis': 'y12'}],\n",
       "    'layout': {'template': '...',\n",
       "               'title': {'text': 'Slice Plot'},\n",
       "               'width': 3600,\n",
       "               'xaxis': {'anchor': 'y', 'domain': [0.0, 0.06805555555555555], 'title': {'text': 'bagging_temperature'}},\n",
       "               'xaxis10': {'anchor': 'y10', 'domain': [0.7625, 0.8305555555555555], 'title': {'text': 'od_wait'}},\n",
       "               'xaxis11': {'anchor': 'y11',\n",
       "                           'domain': [0.8472222222222221, 0.9152777777777776],\n",
       "                           'title': {'text': 'random_strength'}},\n",
       "               'xaxis12': {'anchor': 'y12',\n",
       "                           'domain': [0.9319444444444444, 0.9999999999999999],\n",
       "                           'title': {'text': 'subsample'}},\n",
       "               'xaxis2': {'anchor': 'y2',\n",
       "                          'categoryarray': [Bayesian, Bernoulli, MVS],\n",
       "                          'categoryorder': 'array',\n",
       "                          'domain': [0.08472222222222221, 0.15277777777777776],\n",
       "                          'title': {'text': 'bootstrap_type'},\n",
       "                          'type': 'category'},\n",
       "               'xaxis3': {'anchor': 'y3', 'domain': [0.16944444444444443, 0.2375], 'title': {'text': 'border_count'}},\n",
       "               'xaxis4': {'anchor': 'y4', 'domain': [0.25416666666666665, 0.3222222222222222], 'title': {'text': 'depth'}},\n",
       "               'xaxis5': {'anchor': 'y5',\n",
       "                          'categoryarray': [Depthwise, SymmetricTree],\n",
       "                          'categoryorder': 'array',\n",
       "                          'domain': [0.33888888888888885, 0.4069444444444444],\n",
       "                          'title': {'text': 'grow_policy'},\n",
       "                          'type': 'category'},\n",
       "               'xaxis6': {'anchor': 'y6',\n",
       "                          'domain': [0.42361111111111105, 0.4916666666666666],\n",
       "                          'title': {'text': 'l2_leaf_reg'}},\n",
       "               'xaxis7': {'anchor': 'y7',\n",
       "                          'domain': [0.5083333333333333, 0.5763888888888888],\n",
       "                          'title': {'text': 'learning_rate'}},\n",
       "               'xaxis8': {'anchor': 'y8',\n",
       "                          'domain': [0.5930555555555556, 0.6611111111111111],\n",
       "                          'title': {'text': 'min_data_in_leaf'}},\n",
       "               'xaxis9': {'anchor': 'y9',\n",
       "                          'domain': [0.6777777777777777, 0.7458333333333332],\n",
       "                          'title': {'text': 'n_estimators'}},\n",
       "               'yaxis': {'anchor': 'x', 'domain': [0.0, 1.0], 'title': {'text': 'Objective Value'}},\n",
       "               'yaxis10': {'anchor': 'x10', 'domain': [0.0, 1.0], 'matches': 'y', 'showticklabels': False},\n",
       "               'yaxis11': {'anchor': 'x11', 'domain': [0.0, 1.0], 'matches': 'y', 'showticklabels': False},\n",
       "               'yaxis12': {'anchor': 'x12', 'domain': [0.0, 1.0], 'matches': 'y', 'showticklabels': False},\n",
       "               'yaxis2': {'anchor': 'x2', 'domain': [0.0, 1.0], 'matches': 'y', 'showticklabels': False},\n",
       "               'yaxis3': {'anchor': 'x3', 'domain': [0.0, 1.0], 'matches': 'y', 'showticklabels': False},\n",
       "               'yaxis4': {'anchor': 'x4', 'domain': [0.0, 1.0], 'matches': 'y', 'showticklabels': False},\n",
       "               'yaxis5': {'anchor': 'x5', 'domain': [0.0, 1.0], 'matches': 'y', 'showticklabels': False},\n",
       "               'yaxis6': {'anchor': 'x6', 'domain': [0.0, 1.0], 'matches': 'y', 'showticklabels': False},\n",
       "               'yaxis7': {'anchor': 'x7', 'domain': [0.0, 1.0], 'matches': 'y', 'showticklabels': False},\n",
       "               'yaxis8': {'anchor': 'x8', 'domain': [0.0, 1.0], 'matches': 'y', 'showticklabels': False},\n",
       "               'yaxis9': {'anchor': 'x9', 'domain': [0.0, 1.0], 'matches': 'y', 'showticklabels': False}}\n",
       "})"
      ]
     },
     "execution_count": 40,
     "metadata": {},
     "output_type": "execute_result"
    }
   ],
   "source": [
    "# Hyperparameters to score dependency\n",
    "\n",
    "optuna.visualization.plot_slice(study)"
   ]
  },
  {
   "cell_type": "code",
   "execution_count": 41,
   "metadata": {
    "colab": {
     "base_uri": "https://localhost:8080/",
     "height": 542
    },
    "id": "EwIS_u5DJfJl",
    "outputId": "6bd688f2-674c-443e-85d9-843d68a6392c"
   },
   "outputs": [
    {
     "ename": "ValueError",
     "evalue": "Mime type rendering requires nbformat>=4.2.0 but it is not installed",
     "output_type": "error",
     "traceback": [
      "\u001b[1;31m---------------------------------------------------------------------------\u001b[0m",
      "\u001b[1;31mValueError\u001b[0m                                Traceback (most recent call last)",
      "File \u001b[1;32m~\\AppData\\Roaming\\Python\\Python312\\site-packages\\IPython\\core\\formatters.py:925\u001b[0m, in \u001b[0;36mIPythonDisplayFormatter.__call__\u001b[1;34m(self, obj)\u001b[0m\n\u001b[0;32m    923\u001b[0m method \u001b[38;5;241m=\u001b[39m get_real_method(obj, \u001b[38;5;28mself\u001b[39m\u001b[38;5;241m.\u001b[39mprint_method)\n\u001b[0;32m    924\u001b[0m \u001b[38;5;28;01mif\u001b[39;00m method \u001b[38;5;129;01mis\u001b[39;00m \u001b[38;5;129;01mnot\u001b[39;00m \u001b[38;5;28;01mNone\u001b[39;00m:\n\u001b[1;32m--> 925\u001b[0m     \u001b[43mmethod\u001b[49m\u001b[43m(\u001b[49m\u001b[43m)\u001b[49m\n\u001b[0;32m    926\u001b[0m     \u001b[38;5;28;01mreturn\u001b[39;00m \u001b[38;5;28;01mTrue\u001b[39;00m\n",
      "File \u001b[1;32mc:\\Users\\Aleks\\AppData\\Local\\Programs\\Python\\Python312\\Lib\\site-packages\\plotly\\basedatatypes.py:832\u001b[0m, in \u001b[0;36mBaseFigure._ipython_display_\u001b[1;34m(self)\u001b[0m\n\u001b[0;32m    829\u001b[0m \u001b[38;5;28;01mimport\u001b[39;00m \u001b[38;5;21;01mplotly\u001b[39;00m\u001b[38;5;21;01m.\u001b[39;00m\u001b[38;5;21;01mio\u001b[39;00m \u001b[38;5;28;01mas\u001b[39;00m \u001b[38;5;21;01mpio\u001b[39;00m\n\u001b[0;32m    831\u001b[0m \u001b[38;5;28;01mif\u001b[39;00m pio\u001b[38;5;241m.\u001b[39mrenderers\u001b[38;5;241m.\u001b[39mrender_on_display \u001b[38;5;129;01mand\u001b[39;00m pio\u001b[38;5;241m.\u001b[39mrenderers\u001b[38;5;241m.\u001b[39mdefault:\n\u001b[1;32m--> 832\u001b[0m     \u001b[43mpio\u001b[49m\u001b[38;5;241;43m.\u001b[39;49m\u001b[43mshow\u001b[49m\u001b[43m(\u001b[49m\u001b[38;5;28;43mself\u001b[39;49m\u001b[43m)\u001b[49m\n\u001b[0;32m    833\u001b[0m \u001b[38;5;28;01melse\u001b[39;00m:\n\u001b[0;32m    834\u001b[0m     \u001b[38;5;28mprint\u001b[39m(\u001b[38;5;28mrepr\u001b[39m(\u001b[38;5;28mself\u001b[39m))\n",
      "File \u001b[1;32mc:\\Users\\Aleks\\AppData\\Local\\Programs\\Python\\Python312\\Lib\\site-packages\\plotly\\io\\_renderers.py:394\u001b[0m, in \u001b[0;36mshow\u001b[1;34m(fig, renderer, validate, **kwargs)\u001b[0m\n\u001b[0;32m    389\u001b[0m         \u001b[38;5;28;01mraise\u001b[39;00m \u001b[38;5;167;01mValueError\u001b[39;00m(\n\u001b[0;32m    390\u001b[0m             \u001b[38;5;124m\"\u001b[39m\u001b[38;5;124mMime type rendering requires ipython but it is not installed\u001b[39m\u001b[38;5;124m\"\u001b[39m\n\u001b[0;32m    391\u001b[0m         )\n\u001b[0;32m    393\u001b[0m     \u001b[38;5;28;01mif\u001b[39;00m \u001b[38;5;129;01mnot\u001b[39;00m nbformat \u001b[38;5;129;01mor\u001b[39;00m Version(nbformat\u001b[38;5;241m.\u001b[39m__version__) \u001b[38;5;241m<\u001b[39m Version(\u001b[38;5;124m\"\u001b[39m\u001b[38;5;124m4.2.0\u001b[39m\u001b[38;5;124m\"\u001b[39m):\n\u001b[1;32m--> 394\u001b[0m         \u001b[38;5;28;01mraise\u001b[39;00m \u001b[38;5;167;01mValueError\u001b[39;00m(\n\u001b[0;32m    395\u001b[0m             \u001b[38;5;124m\"\u001b[39m\u001b[38;5;124mMime type rendering requires nbformat>=4.2.0 but it is not installed\u001b[39m\u001b[38;5;124m\"\u001b[39m\n\u001b[0;32m    396\u001b[0m         )\n\u001b[0;32m    398\u001b[0m     ipython_display\u001b[38;5;241m.\u001b[39mdisplay(bundle, raw\u001b[38;5;241m=\u001b[39m\u001b[38;5;28;01mTrue\u001b[39;00m)\n\u001b[0;32m    400\u001b[0m \u001b[38;5;66;03m# external renderers\u001b[39;00m\n",
      "\u001b[1;31mValueError\u001b[0m: Mime type rendering requires nbformat>=4.2.0 but it is not installed"
     ]
    },
    {
     "data": {
      "application/vnd.plotly.v1+json": {
       "config": {
        "plotlyServerURL": "https://plot.ly"
       },
       "data": [
        {
         "cliponaxis": false,
         "hovertemplate": [
          "od_wait (IntDistribution): 0.008265676434615248<extra></extra>",
          "n_estimators (IntDistribution): 0.022464104142137835<extra></extra>",
          "bootstrap_type (CategoricalDistribution): 0.06436092701817185<extra></extra>",
          "grow_policy (CategoricalDistribution): 0.06879436937571072<extra></extra>",
          "border_count (IntDistribution): 0.0771776080706243<extra></extra>",
          "l2_leaf_reg (FloatDistribution): 0.15143309297065063<extra></extra>",
          "random_strength (FloatDistribution): 0.16483829364809532<extra></extra>",
          "learning_rate (FloatDistribution): 0.18228877549131486<extra></extra>",
          "depth (IntDistribution): 0.2603771528486791<extra></extra>"
         ],
         "name": "Objective Value",
         "orientation": "h",
         "text": [
          "<0.01",
          "0.02",
          "0.06",
          "0.07",
          "0.08",
          "0.15",
          "0.16",
          "0.18",
          "0.26"
         ],
         "textposition": "outside",
         "type": "bar",
         "x": [
          0.008265676434615248,
          0.022464104142137835,
          0.06436092701817185,
          0.06879436937571072,
          0.0771776080706243,
          0.15143309297065063,
          0.16483829364809532,
          0.18228877549131486,
          0.2603771528486791
         ],
         "y": [
          "od_wait",
          "n_estimators",
          "bootstrap_type",
          "grow_policy",
          "border_count",
          "l2_leaf_reg",
          "random_strength",
          "learning_rate",
          "depth"
         ]
        }
       ],
       "layout": {
        "template": {
         "data": {
          "bar": [
           {
            "error_x": {
             "color": "#2a3f5f"
            },
            "error_y": {
             "color": "#2a3f5f"
            },
            "marker": {
             "line": {
              "color": "#E5ECF6",
              "width": 0.5
             },
             "pattern": {
              "fillmode": "overlay",
              "size": 10,
              "solidity": 0.2
             }
            },
            "type": "bar"
           }
          ],
          "barpolar": [
           {
            "marker": {
             "line": {
              "color": "#E5ECF6",
              "width": 0.5
             },
             "pattern": {
              "fillmode": "overlay",
              "size": 10,
              "solidity": 0.2
             }
            },
            "type": "barpolar"
           }
          ],
          "carpet": [
           {
            "aaxis": {
             "endlinecolor": "#2a3f5f",
             "gridcolor": "white",
             "linecolor": "white",
             "minorgridcolor": "white",
             "startlinecolor": "#2a3f5f"
            },
            "baxis": {
             "endlinecolor": "#2a3f5f",
             "gridcolor": "white",
             "linecolor": "white",
             "minorgridcolor": "white",
             "startlinecolor": "#2a3f5f"
            },
            "type": "carpet"
           }
          ],
          "choropleth": [
           {
            "colorbar": {
             "outlinewidth": 0,
             "ticks": ""
            },
            "type": "choropleth"
           }
          ],
          "contour": [
           {
            "colorbar": {
             "outlinewidth": 0,
             "ticks": ""
            },
            "colorscale": [
             [
              0,
              "#0d0887"
             ],
             [
              0.1111111111111111,
              "#46039f"
             ],
             [
              0.2222222222222222,
              "#7201a8"
             ],
             [
              0.3333333333333333,
              "#9c179e"
             ],
             [
              0.4444444444444444,
              "#bd3786"
             ],
             [
              0.5555555555555556,
              "#d8576b"
             ],
             [
              0.6666666666666666,
              "#ed7953"
             ],
             [
              0.7777777777777778,
              "#fb9f3a"
             ],
             [
              0.8888888888888888,
              "#fdca26"
             ],
             [
              1,
              "#f0f921"
             ]
            ],
            "type": "contour"
           }
          ],
          "contourcarpet": [
           {
            "colorbar": {
             "outlinewidth": 0,
             "ticks": ""
            },
            "type": "contourcarpet"
           }
          ],
          "heatmap": [
           {
            "colorbar": {
             "outlinewidth": 0,
             "ticks": ""
            },
            "colorscale": [
             [
              0,
              "#0d0887"
             ],
             [
              0.1111111111111111,
              "#46039f"
             ],
             [
              0.2222222222222222,
              "#7201a8"
             ],
             [
              0.3333333333333333,
              "#9c179e"
             ],
             [
              0.4444444444444444,
              "#bd3786"
             ],
             [
              0.5555555555555556,
              "#d8576b"
             ],
             [
              0.6666666666666666,
              "#ed7953"
             ],
             [
              0.7777777777777778,
              "#fb9f3a"
             ],
             [
              0.8888888888888888,
              "#fdca26"
             ],
             [
              1,
              "#f0f921"
             ]
            ],
            "type": "heatmap"
           }
          ],
          "heatmapgl": [
           {
            "colorbar": {
             "outlinewidth": 0,
             "ticks": ""
            },
            "colorscale": [
             [
              0,
              "#0d0887"
             ],
             [
              0.1111111111111111,
              "#46039f"
             ],
             [
              0.2222222222222222,
              "#7201a8"
             ],
             [
              0.3333333333333333,
              "#9c179e"
             ],
             [
              0.4444444444444444,
              "#bd3786"
             ],
             [
              0.5555555555555556,
              "#d8576b"
             ],
             [
              0.6666666666666666,
              "#ed7953"
             ],
             [
              0.7777777777777778,
              "#fb9f3a"
             ],
             [
              0.8888888888888888,
              "#fdca26"
             ],
             [
              1,
              "#f0f921"
             ]
            ],
            "type": "heatmapgl"
           }
          ],
          "histogram": [
           {
            "marker": {
             "pattern": {
              "fillmode": "overlay",
              "size": 10,
              "solidity": 0.2
             }
            },
            "type": "histogram"
           }
          ],
          "histogram2d": [
           {
            "colorbar": {
             "outlinewidth": 0,
             "ticks": ""
            },
            "colorscale": [
             [
              0,
              "#0d0887"
             ],
             [
              0.1111111111111111,
              "#46039f"
             ],
             [
              0.2222222222222222,
              "#7201a8"
             ],
             [
              0.3333333333333333,
              "#9c179e"
             ],
             [
              0.4444444444444444,
              "#bd3786"
             ],
             [
              0.5555555555555556,
              "#d8576b"
             ],
             [
              0.6666666666666666,
              "#ed7953"
             ],
             [
              0.7777777777777778,
              "#fb9f3a"
             ],
             [
              0.8888888888888888,
              "#fdca26"
             ],
             [
              1,
              "#f0f921"
             ]
            ],
            "type": "histogram2d"
           }
          ],
          "histogram2dcontour": [
           {
            "colorbar": {
             "outlinewidth": 0,
             "ticks": ""
            },
            "colorscale": [
             [
              0,
              "#0d0887"
             ],
             [
              0.1111111111111111,
              "#46039f"
             ],
             [
              0.2222222222222222,
              "#7201a8"
             ],
             [
              0.3333333333333333,
              "#9c179e"
             ],
             [
              0.4444444444444444,
              "#bd3786"
             ],
             [
              0.5555555555555556,
              "#d8576b"
             ],
             [
              0.6666666666666666,
              "#ed7953"
             ],
             [
              0.7777777777777778,
              "#fb9f3a"
             ],
             [
              0.8888888888888888,
              "#fdca26"
             ],
             [
              1,
              "#f0f921"
             ]
            ],
            "type": "histogram2dcontour"
           }
          ],
          "mesh3d": [
           {
            "colorbar": {
             "outlinewidth": 0,
             "ticks": ""
            },
            "type": "mesh3d"
           }
          ],
          "parcoords": [
           {
            "line": {
             "colorbar": {
              "outlinewidth": 0,
              "ticks": ""
             }
            },
            "type": "parcoords"
           }
          ],
          "pie": [
           {
            "automargin": true,
            "type": "pie"
           }
          ],
          "scatter": [
           {
            "fillpattern": {
             "fillmode": "overlay",
             "size": 10,
             "solidity": 0.2
            },
            "type": "scatter"
           }
          ],
          "scatter3d": [
           {
            "line": {
             "colorbar": {
              "outlinewidth": 0,
              "ticks": ""
             }
            },
            "marker": {
             "colorbar": {
              "outlinewidth": 0,
              "ticks": ""
             }
            },
            "type": "scatter3d"
           }
          ],
          "scattercarpet": [
           {
            "marker": {
             "colorbar": {
              "outlinewidth": 0,
              "ticks": ""
             }
            },
            "type": "scattercarpet"
           }
          ],
          "scattergeo": [
           {
            "marker": {
             "colorbar": {
              "outlinewidth": 0,
              "ticks": ""
             }
            },
            "type": "scattergeo"
           }
          ],
          "scattergl": [
           {
            "marker": {
             "colorbar": {
              "outlinewidth": 0,
              "ticks": ""
             }
            },
            "type": "scattergl"
           }
          ],
          "scattermapbox": [
           {
            "marker": {
             "colorbar": {
              "outlinewidth": 0,
              "ticks": ""
             }
            },
            "type": "scattermapbox"
           }
          ],
          "scatterpolar": [
           {
            "marker": {
             "colorbar": {
              "outlinewidth": 0,
              "ticks": ""
             }
            },
            "type": "scatterpolar"
           }
          ],
          "scatterpolargl": [
           {
            "marker": {
             "colorbar": {
              "outlinewidth": 0,
              "ticks": ""
             }
            },
            "type": "scatterpolargl"
           }
          ],
          "scatterternary": [
           {
            "marker": {
             "colorbar": {
              "outlinewidth": 0,
              "ticks": ""
             }
            },
            "type": "scatterternary"
           }
          ],
          "surface": [
           {
            "colorbar": {
             "outlinewidth": 0,
             "ticks": ""
            },
            "colorscale": [
             [
              0,
              "#0d0887"
             ],
             [
              0.1111111111111111,
              "#46039f"
             ],
             [
              0.2222222222222222,
              "#7201a8"
             ],
             [
              0.3333333333333333,
              "#9c179e"
             ],
             [
              0.4444444444444444,
              "#bd3786"
             ],
             [
              0.5555555555555556,
              "#d8576b"
             ],
             [
              0.6666666666666666,
              "#ed7953"
             ],
             [
              0.7777777777777778,
              "#fb9f3a"
             ],
             [
              0.8888888888888888,
              "#fdca26"
             ],
             [
              1,
              "#f0f921"
             ]
            ],
            "type": "surface"
           }
          ],
          "table": [
           {
            "cells": {
             "fill": {
              "color": "#EBF0F8"
             },
             "line": {
              "color": "white"
             }
            },
            "header": {
             "fill": {
              "color": "#C8D4E3"
             },
             "line": {
              "color": "white"
             }
            },
            "type": "table"
           }
          ]
         },
         "layout": {
          "annotationdefaults": {
           "arrowcolor": "#2a3f5f",
           "arrowhead": 0,
           "arrowwidth": 1
          },
          "autotypenumbers": "strict",
          "coloraxis": {
           "colorbar": {
            "outlinewidth": 0,
            "ticks": ""
           }
          },
          "colorscale": {
           "diverging": [
            [
             0,
             "#8e0152"
            ],
            [
             0.1,
             "#c51b7d"
            ],
            [
             0.2,
             "#de77ae"
            ],
            [
             0.3,
             "#f1b6da"
            ],
            [
             0.4,
             "#fde0ef"
            ],
            [
             0.5,
             "#f7f7f7"
            ],
            [
             0.6,
             "#e6f5d0"
            ],
            [
             0.7,
             "#b8e186"
            ],
            [
             0.8,
             "#7fbc41"
            ],
            [
             0.9,
             "#4d9221"
            ],
            [
             1,
             "#276419"
            ]
           ],
           "sequential": [
            [
             0,
             "#0d0887"
            ],
            [
             0.1111111111111111,
             "#46039f"
            ],
            [
             0.2222222222222222,
             "#7201a8"
            ],
            [
             0.3333333333333333,
             "#9c179e"
            ],
            [
             0.4444444444444444,
             "#bd3786"
            ],
            [
             0.5555555555555556,
             "#d8576b"
            ],
            [
             0.6666666666666666,
             "#ed7953"
            ],
            [
             0.7777777777777778,
             "#fb9f3a"
            ],
            [
             0.8888888888888888,
             "#fdca26"
            ],
            [
             1,
             "#f0f921"
            ]
           ],
           "sequentialminus": [
            [
             0,
             "#0d0887"
            ],
            [
             0.1111111111111111,
             "#46039f"
            ],
            [
             0.2222222222222222,
             "#7201a8"
            ],
            [
             0.3333333333333333,
             "#9c179e"
            ],
            [
             0.4444444444444444,
             "#bd3786"
            ],
            [
             0.5555555555555556,
             "#d8576b"
            ],
            [
             0.6666666666666666,
             "#ed7953"
            ],
            [
             0.7777777777777778,
             "#fb9f3a"
            ],
            [
             0.8888888888888888,
             "#fdca26"
            ],
            [
             1,
             "#f0f921"
            ]
           ]
          },
          "colorway": [
           "#636efa",
           "#EF553B",
           "#00cc96",
           "#ab63fa",
           "#FFA15A",
           "#19d3f3",
           "#FF6692",
           "#B6E880",
           "#FF97FF",
           "#FECB52"
          ],
          "font": {
           "color": "#2a3f5f"
          },
          "geo": {
           "bgcolor": "white",
           "lakecolor": "white",
           "landcolor": "#E5ECF6",
           "showlakes": true,
           "showland": true,
           "subunitcolor": "white"
          },
          "hoverlabel": {
           "align": "left"
          },
          "hovermode": "closest",
          "mapbox": {
           "style": "light"
          },
          "paper_bgcolor": "white",
          "plot_bgcolor": "#E5ECF6",
          "polar": {
           "angularaxis": {
            "gridcolor": "white",
            "linecolor": "white",
            "ticks": ""
           },
           "bgcolor": "#E5ECF6",
           "radialaxis": {
            "gridcolor": "white",
            "linecolor": "white",
            "ticks": ""
           }
          },
          "scene": {
           "xaxis": {
            "backgroundcolor": "#E5ECF6",
            "gridcolor": "white",
            "gridwidth": 2,
            "linecolor": "white",
            "showbackground": true,
            "ticks": "",
            "zerolinecolor": "white"
           },
           "yaxis": {
            "backgroundcolor": "#E5ECF6",
            "gridcolor": "white",
            "gridwidth": 2,
            "linecolor": "white",
            "showbackground": true,
            "ticks": "",
            "zerolinecolor": "white"
           },
           "zaxis": {
            "backgroundcolor": "#E5ECF6",
            "gridcolor": "white",
            "gridwidth": 2,
            "linecolor": "white",
            "showbackground": true,
            "ticks": "",
            "zerolinecolor": "white"
           }
          },
          "shapedefaults": {
           "line": {
            "color": "#2a3f5f"
           }
          },
          "ternary": {
           "aaxis": {
            "gridcolor": "white",
            "linecolor": "white",
            "ticks": ""
           },
           "baxis": {
            "gridcolor": "white",
            "linecolor": "white",
            "ticks": ""
           },
           "bgcolor": "#E5ECF6",
           "caxis": {
            "gridcolor": "white",
            "linecolor": "white",
            "ticks": ""
           }
          },
          "title": {
           "x": 0.05
          },
          "xaxis": {
           "automargin": true,
           "gridcolor": "white",
           "linecolor": "white",
           "ticks": "",
           "title": {
            "standoff": 15
           },
           "zerolinecolor": "white",
           "zerolinewidth": 2
          },
          "yaxis": {
           "automargin": true,
           "gridcolor": "white",
           "linecolor": "white",
           "ticks": "",
           "title": {
            "standoff": 15
           },
           "zerolinecolor": "white",
           "zerolinewidth": 2
          }
         }
        },
        "title": {
         "text": "Hyperparameter Importances"
        },
        "xaxis": {
         "title": {
          "text": "Hyperparameter Importance"
         }
        },
        "yaxis": {
         "title": {
          "text": "Hyperparameter"
         }
        }
       }
      },
      "text/html": [
       "<div>                        <script type=\"text/javascript\">window.PlotlyConfig = {MathJaxConfig: 'local'};</script>\n",
       "        <script charset=\"utf-8\" src=\"https://cdn.plot.ly/plotly-2.32.0.min.js\"></script>                <div id=\"75c3ead6-d1cd-4a24-8cf1-a04d0e3eb839\" class=\"plotly-graph-div\" style=\"height:100%; width:100%;\"></div>            <script type=\"text/javascript\">                                    window.PLOTLYENV=window.PLOTLYENV || {};                                    if (document.getElementById(\"75c3ead6-d1cd-4a24-8cf1-a04d0e3eb839\")) {                    Plotly.newPlot(                        \"75c3ead6-d1cd-4a24-8cf1-a04d0e3eb839\",                        [{\"cliponaxis\":false,\"hovertemplate\":[\"od_wait (IntDistribution): 0.008265676434615248\\u003cextra\\u003e\\u003c\\u002fextra\\u003e\",\"n_estimators (IntDistribution): 0.022464104142137835\\u003cextra\\u003e\\u003c\\u002fextra\\u003e\",\"bootstrap_type (CategoricalDistribution): 0.06436092701817185\\u003cextra\\u003e\\u003c\\u002fextra\\u003e\",\"grow_policy (CategoricalDistribution): 0.06879436937571072\\u003cextra\\u003e\\u003c\\u002fextra\\u003e\",\"border_count (IntDistribution): 0.0771776080706243\\u003cextra\\u003e\\u003c\\u002fextra\\u003e\",\"l2_leaf_reg (FloatDistribution): 0.15143309297065063\\u003cextra\\u003e\\u003c\\u002fextra\\u003e\",\"random_strength (FloatDistribution): 0.16483829364809532\\u003cextra\\u003e\\u003c\\u002fextra\\u003e\",\"learning_rate (FloatDistribution): 0.18228877549131486\\u003cextra\\u003e\\u003c\\u002fextra\\u003e\",\"depth (IntDistribution): 0.2603771528486791\\u003cextra\\u003e\\u003c\\u002fextra\\u003e\"],\"name\":\"Objective Value\",\"orientation\":\"h\",\"text\":[\"\\u003c0.01\",\"0.02\",\"0.06\",\"0.07\",\"0.08\",\"0.15\",\"0.16\",\"0.18\",\"0.26\"],\"textposition\":\"outside\",\"x\":[0.008265676434615248,0.022464104142137835,0.06436092701817185,0.06879436937571072,0.0771776080706243,0.15143309297065063,0.16483829364809532,0.18228877549131486,0.2603771528486791],\"y\":[\"od_wait\",\"n_estimators\",\"bootstrap_type\",\"grow_policy\",\"border_count\",\"l2_leaf_reg\",\"random_strength\",\"learning_rate\",\"depth\"],\"type\":\"bar\"}],                        {\"title\":{\"text\":\"Hyperparameter Importances\"},\"xaxis\":{\"title\":{\"text\":\"Hyperparameter Importance\"}},\"yaxis\":{\"title\":{\"text\":\"Hyperparameter\"}},\"template\":{\"data\":{\"histogram2dcontour\":[{\"type\":\"histogram2dcontour\",\"colorbar\":{\"outlinewidth\":0,\"ticks\":\"\"},\"colorscale\":[[0.0,\"#0d0887\"],[0.1111111111111111,\"#46039f\"],[0.2222222222222222,\"#7201a8\"],[0.3333333333333333,\"#9c179e\"],[0.4444444444444444,\"#bd3786\"],[0.5555555555555556,\"#d8576b\"],[0.6666666666666666,\"#ed7953\"],[0.7777777777777778,\"#fb9f3a\"],[0.8888888888888888,\"#fdca26\"],[1.0,\"#f0f921\"]]}],\"choropleth\":[{\"type\":\"choropleth\",\"colorbar\":{\"outlinewidth\":0,\"ticks\":\"\"}}],\"histogram2d\":[{\"type\":\"histogram2d\",\"colorbar\":{\"outlinewidth\":0,\"ticks\":\"\"},\"colorscale\":[[0.0,\"#0d0887\"],[0.1111111111111111,\"#46039f\"],[0.2222222222222222,\"#7201a8\"],[0.3333333333333333,\"#9c179e\"],[0.4444444444444444,\"#bd3786\"],[0.5555555555555556,\"#d8576b\"],[0.6666666666666666,\"#ed7953\"],[0.7777777777777778,\"#fb9f3a\"],[0.8888888888888888,\"#fdca26\"],[1.0,\"#f0f921\"]]}],\"heatmap\":[{\"type\":\"heatmap\",\"colorbar\":{\"outlinewidth\":0,\"ticks\":\"\"},\"colorscale\":[[0.0,\"#0d0887\"],[0.1111111111111111,\"#46039f\"],[0.2222222222222222,\"#7201a8\"],[0.3333333333333333,\"#9c179e\"],[0.4444444444444444,\"#bd3786\"],[0.5555555555555556,\"#d8576b\"],[0.6666666666666666,\"#ed7953\"],[0.7777777777777778,\"#fb9f3a\"],[0.8888888888888888,\"#fdca26\"],[1.0,\"#f0f921\"]]}],\"heatmapgl\":[{\"type\":\"heatmapgl\",\"colorbar\":{\"outlinewidth\":0,\"ticks\":\"\"},\"colorscale\":[[0.0,\"#0d0887\"],[0.1111111111111111,\"#46039f\"],[0.2222222222222222,\"#7201a8\"],[0.3333333333333333,\"#9c179e\"],[0.4444444444444444,\"#bd3786\"],[0.5555555555555556,\"#d8576b\"],[0.6666666666666666,\"#ed7953\"],[0.7777777777777778,\"#fb9f3a\"],[0.8888888888888888,\"#fdca26\"],[1.0,\"#f0f921\"]]}],\"contourcarpet\":[{\"type\":\"contourcarpet\",\"colorbar\":{\"outlinewidth\":0,\"ticks\":\"\"}}],\"contour\":[{\"type\":\"contour\",\"colorbar\":{\"outlinewidth\":0,\"ticks\":\"\"},\"colorscale\":[[0.0,\"#0d0887\"],[0.1111111111111111,\"#46039f\"],[0.2222222222222222,\"#7201a8\"],[0.3333333333333333,\"#9c179e\"],[0.4444444444444444,\"#bd3786\"],[0.5555555555555556,\"#d8576b\"],[0.6666666666666666,\"#ed7953\"],[0.7777777777777778,\"#fb9f3a\"],[0.8888888888888888,\"#fdca26\"],[1.0,\"#f0f921\"]]}],\"surface\":[{\"type\":\"surface\",\"colorbar\":{\"outlinewidth\":0,\"ticks\":\"\"},\"colorscale\":[[0.0,\"#0d0887\"],[0.1111111111111111,\"#46039f\"],[0.2222222222222222,\"#7201a8\"],[0.3333333333333333,\"#9c179e\"],[0.4444444444444444,\"#bd3786\"],[0.5555555555555556,\"#d8576b\"],[0.6666666666666666,\"#ed7953\"],[0.7777777777777778,\"#fb9f3a\"],[0.8888888888888888,\"#fdca26\"],[1.0,\"#f0f921\"]]}],\"mesh3d\":[{\"type\":\"mesh3d\",\"colorbar\":{\"outlinewidth\":0,\"ticks\":\"\"}}],\"scatter\":[{\"fillpattern\":{\"fillmode\":\"overlay\",\"size\":10,\"solidity\":0.2},\"type\":\"scatter\"}],\"parcoords\":[{\"type\":\"parcoords\",\"line\":{\"colorbar\":{\"outlinewidth\":0,\"ticks\":\"\"}}}],\"scatterpolargl\":[{\"type\":\"scatterpolargl\",\"marker\":{\"colorbar\":{\"outlinewidth\":0,\"ticks\":\"\"}}}],\"bar\":[{\"error_x\":{\"color\":\"#2a3f5f\"},\"error_y\":{\"color\":\"#2a3f5f\"},\"marker\":{\"line\":{\"color\":\"#E5ECF6\",\"width\":0.5},\"pattern\":{\"fillmode\":\"overlay\",\"size\":10,\"solidity\":0.2}},\"type\":\"bar\"}],\"scattergeo\":[{\"type\":\"scattergeo\",\"marker\":{\"colorbar\":{\"outlinewidth\":0,\"ticks\":\"\"}}}],\"scatterpolar\":[{\"type\":\"scatterpolar\",\"marker\":{\"colorbar\":{\"outlinewidth\":0,\"ticks\":\"\"}}}],\"histogram\":[{\"marker\":{\"pattern\":{\"fillmode\":\"overlay\",\"size\":10,\"solidity\":0.2}},\"type\":\"histogram\"}],\"scattergl\":[{\"type\":\"scattergl\",\"marker\":{\"colorbar\":{\"outlinewidth\":0,\"ticks\":\"\"}}}],\"scatter3d\":[{\"type\":\"scatter3d\",\"line\":{\"colorbar\":{\"outlinewidth\":0,\"ticks\":\"\"}},\"marker\":{\"colorbar\":{\"outlinewidth\":0,\"ticks\":\"\"}}}],\"scattermapbox\":[{\"type\":\"scattermapbox\",\"marker\":{\"colorbar\":{\"outlinewidth\":0,\"ticks\":\"\"}}}],\"scatterternary\":[{\"type\":\"scatterternary\",\"marker\":{\"colorbar\":{\"outlinewidth\":0,\"ticks\":\"\"}}}],\"scattercarpet\":[{\"type\":\"scattercarpet\",\"marker\":{\"colorbar\":{\"outlinewidth\":0,\"ticks\":\"\"}}}],\"carpet\":[{\"aaxis\":{\"endlinecolor\":\"#2a3f5f\",\"gridcolor\":\"white\",\"linecolor\":\"white\",\"minorgridcolor\":\"white\",\"startlinecolor\":\"#2a3f5f\"},\"baxis\":{\"endlinecolor\":\"#2a3f5f\",\"gridcolor\":\"white\",\"linecolor\":\"white\",\"minorgridcolor\":\"white\",\"startlinecolor\":\"#2a3f5f\"},\"type\":\"carpet\"}],\"table\":[{\"cells\":{\"fill\":{\"color\":\"#EBF0F8\"},\"line\":{\"color\":\"white\"}},\"header\":{\"fill\":{\"color\":\"#C8D4E3\"},\"line\":{\"color\":\"white\"}},\"type\":\"table\"}],\"barpolar\":[{\"marker\":{\"line\":{\"color\":\"#E5ECF6\",\"width\":0.5},\"pattern\":{\"fillmode\":\"overlay\",\"size\":10,\"solidity\":0.2}},\"type\":\"barpolar\"}],\"pie\":[{\"automargin\":true,\"type\":\"pie\"}]},\"layout\":{\"autotypenumbers\":\"strict\",\"colorway\":[\"#636efa\",\"#EF553B\",\"#00cc96\",\"#ab63fa\",\"#FFA15A\",\"#19d3f3\",\"#FF6692\",\"#B6E880\",\"#FF97FF\",\"#FECB52\"],\"font\":{\"color\":\"#2a3f5f\"},\"hovermode\":\"closest\",\"hoverlabel\":{\"align\":\"left\"},\"paper_bgcolor\":\"white\",\"plot_bgcolor\":\"#E5ECF6\",\"polar\":{\"bgcolor\":\"#E5ECF6\",\"angularaxis\":{\"gridcolor\":\"white\",\"linecolor\":\"white\",\"ticks\":\"\"},\"radialaxis\":{\"gridcolor\":\"white\",\"linecolor\":\"white\",\"ticks\":\"\"}},\"ternary\":{\"bgcolor\":\"#E5ECF6\",\"aaxis\":{\"gridcolor\":\"white\",\"linecolor\":\"white\",\"ticks\":\"\"},\"baxis\":{\"gridcolor\":\"white\",\"linecolor\":\"white\",\"ticks\":\"\"},\"caxis\":{\"gridcolor\":\"white\",\"linecolor\":\"white\",\"ticks\":\"\"}},\"coloraxis\":{\"colorbar\":{\"outlinewidth\":0,\"ticks\":\"\"}},\"colorscale\":{\"sequential\":[[0.0,\"#0d0887\"],[0.1111111111111111,\"#46039f\"],[0.2222222222222222,\"#7201a8\"],[0.3333333333333333,\"#9c179e\"],[0.4444444444444444,\"#bd3786\"],[0.5555555555555556,\"#d8576b\"],[0.6666666666666666,\"#ed7953\"],[0.7777777777777778,\"#fb9f3a\"],[0.8888888888888888,\"#fdca26\"],[1.0,\"#f0f921\"]],\"sequentialminus\":[[0.0,\"#0d0887\"],[0.1111111111111111,\"#46039f\"],[0.2222222222222222,\"#7201a8\"],[0.3333333333333333,\"#9c179e\"],[0.4444444444444444,\"#bd3786\"],[0.5555555555555556,\"#d8576b\"],[0.6666666666666666,\"#ed7953\"],[0.7777777777777778,\"#fb9f3a\"],[0.8888888888888888,\"#fdca26\"],[1.0,\"#f0f921\"]],\"diverging\":[[0,\"#8e0152\"],[0.1,\"#c51b7d\"],[0.2,\"#de77ae\"],[0.3,\"#f1b6da\"],[0.4,\"#fde0ef\"],[0.5,\"#f7f7f7\"],[0.6,\"#e6f5d0\"],[0.7,\"#b8e186\"],[0.8,\"#7fbc41\"],[0.9,\"#4d9221\"],[1,\"#276419\"]]},\"xaxis\":{\"gridcolor\":\"white\",\"linecolor\":\"white\",\"ticks\":\"\",\"title\":{\"standoff\":15},\"zerolinecolor\":\"white\",\"automargin\":true,\"zerolinewidth\":2},\"yaxis\":{\"gridcolor\":\"white\",\"linecolor\":\"white\",\"ticks\":\"\",\"title\":{\"standoff\":15},\"zerolinecolor\":\"white\",\"automargin\":true,\"zerolinewidth\":2},\"scene\":{\"xaxis\":{\"backgroundcolor\":\"#E5ECF6\",\"gridcolor\":\"white\",\"linecolor\":\"white\",\"showbackground\":true,\"ticks\":\"\",\"zerolinecolor\":\"white\",\"gridwidth\":2},\"yaxis\":{\"backgroundcolor\":\"#E5ECF6\",\"gridcolor\":\"white\",\"linecolor\":\"white\",\"showbackground\":true,\"ticks\":\"\",\"zerolinecolor\":\"white\",\"gridwidth\":2},\"zaxis\":{\"backgroundcolor\":\"#E5ECF6\",\"gridcolor\":\"white\",\"linecolor\":\"white\",\"showbackground\":true,\"ticks\":\"\",\"zerolinecolor\":\"white\",\"gridwidth\":2}},\"shapedefaults\":{\"line\":{\"color\":\"#2a3f5f\"}},\"annotationdefaults\":{\"arrowcolor\":\"#2a3f5f\",\"arrowhead\":0,\"arrowwidth\":1},\"geo\":{\"bgcolor\":\"white\",\"landcolor\":\"#E5ECF6\",\"subunitcolor\":\"white\",\"showland\":true,\"showlakes\":true,\"lakecolor\":\"white\"},\"title\":{\"x\":0.05},\"mapbox\":{\"style\":\"light\"}}}},                        {\"responsive\": true}                    )                };                            </script>        </div>"
      ],
      "text/plain": [
       "Figure({\n",
       "    'data': [{'cliponaxis': False,\n",
       "              'hovertemplate': [od_wait (IntDistribution):\n",
       "                                0.008265676434615248<extra></extra>, n_estimators\n",
       "                                (IntDistribution):\n",
       "                                0.022464104142137835<extra></extra>, bootstrap_type\n",
       "                                (CategoricalDistribution):\n",
       "                                0.06436092701817185<extra></extra>, grow_policy\n",
       "                                (CategoricalDistribution):\n",
       "                                0.06879436937571072<extra></extra>, border_count\n",
       "                                (IntDistribution):\n",
       "                                0.0771776080706243<extra></extra>, l2_leaf_reg\n",
       "                                (FloatDistribution):\n",
       "                                0.15143309297065063<extra></extra>, random_strength\n",
       "                                (FloatDistribution):\n",
       "                                0.16483829364809532<extra></extra>, learning_rate\n",
       "                                (FloatDistribution):\n",
       "                                0.18228877549131486<extra></extra>, depth\n",
       "                                (IntDistribution):\n",
       "                                0.2603771528486791<extra></extra>],\n",
       "              'name': 'Objective Value',\n",
       "              'orientation': 'h',\n",
       "              'text': [<0.01, 0.02, 0.06, 0.07, 0.08, 0.15, 0.16, 0.18, 0.26],\n",
       "              'textposition': 'outside',\n",
       "              'type': 'bar',\n",
       "              'x': [0.008265676434615248, 0.022464104142137835,\n",
       "                    0.06436092701817185, 0.06879436937571072, 0.0771776080706243,\n",
       "                    0.15143309297065063, 0.16483829364809532, 0.18228877549131486,\n",
       "                    0.2603771528486791],\n",
       "              'y': [od_wait, n_estimators, bootstrap_type, grow_policy,\n",
       "                    border_count, l2_leaf_reg, random_strength, learning_rate,\n",
       "                    depth]}],\n",
       "    'layout': {'template': '...',\n",
       "               'title': {'text': 'Hyperparameter Importances'},\n",
       "               'xaxis': {'title': {'text': 'Hyperparameter Importance'}},\n",
       "               'yaxis': {'title': {'text': 'Hyperparameter'}}}\n",
       "})"
      ]
     },
     "execution_count": 41,
     "metadata": {},
     "output_type": "execute_result"
    }
   ],
   "source": [
    "# Hyperparameter importances\n",
    "\n",
    "optuna.visualization.plot_param_importances(study)"
   ]
  },
  {
   "cell_type": "code",
   "execution_count": 42,
   "metadata": {
    "id": "bckVwDpbXJdR"
   },
   "outputs": [],
   "source": [
    "# Creating the model with best hyperparameters\n",
    "\n",
    "cat_model = CatBoostRegressor(loss_function = 'MAPE',\n",
    "#                        task_type = 'GPU',\n",
    "                        random_state = 777,\n",
    "                        od_type = \"Iter\",\n",
    "                        per_float_feature_quantization = '0:border_count=1024',\n",
    "                        **study.best_trial.params)"
   ]
  },
  {
   "cell_type": "code",
   "execution_count": 43,
   "metadata": {
    "id": "umjLfKc8UjMv"
   },
   "outputs": [],
   "source": [
    "# Creating train Pool\n",
    "\n",
    "cat_train_data = Pool(\n",
    "    data = training_set[cat_features],\n",
    "    label = training_set[target],\n",
    "    cat_features = categorical_indicies,\n",
    ")"
   ]
  },
  {
   "cell_type": "code",
   "execution_count": 44,
   "metadata": {
    "id": "NNmFYG-SVm-z"
   },
   "outputs": [
    {
     "name": "stdout",
     "output_type": "stream",
     "text": [
      "0:\tlearn: 0.5540794\ttotal: 269ms\tremaining: 1m 30s\n",
      "1:\tlearn: 0.3968552\ttotal: 414ms\tremaining: 1m 9s\n",
      "2:\tlearn: 0.2932251\ttotal: 553ms\tremaining: 1m 1s\n",
      "3:\tlearn: 0.2198262\ttotal: 808ms\tremaining: 1m 7s\n",
      "4:\tlearn: 0.1954669\ttotal: 1.06s\tremaining: 1m 10s\n",
      "5:\tlearn: 0.1809710\ttotal: 1.28s\tremaining: 1m 10s\n",
      "6:\tlearn: 0.1690129\ttotal: 1.56s\tremaining: 1m 13s\n",
      "7:\tlearn: 0.1618301\ttotal: 1.76s\tremaining: 1m 12s\n",
      "8:\tlearn: 0.1605339\ttotal: 1.97s\tremaining: 1m 11s\n",
      "9:\tlearn: 0.1595196\ttotal: 2.12s\tremaining: 1m 9s\n",
      "10:\tlearn: 0.1563227\ttotal: 2.34s\tremaining: 1m 9s\n",
      "11:\tlearn: 0.1548337\ttotal: 2.54s\tremaining: 1m 8s\n",
      "12:\tlearn: 0.1541472\ttotal: 2.68s\tremaining: 1m 6s\n",
      "13:\tlearn: 0.1508042\ttotal: 2.88s\tremaining: 1m 6s\n",
      "14:\tlearn: 0.1482707\ttotal: 3.14s\tremaining: 1m 7s\n",
      "15:\tlearn: 0.1432159\ttotal: 3.32s\tremaining: 1m 6s\n",
      "16:\tlearn: 0.1402125\ttotal: 3.53s\tremaining: 1m 6s\n",
      "17:\tlearn: 0.1399055\ttotal: 3.66s\tremaining: 1m 4s\n",
      "18:\tlearn: 0.1387042\ttotal: 3.88s\tremaining: 1m 5s\n",
      "19:\tlearn: 0.1381386\ttotal: 4.1s\tremaining: 1m 5s\n",
      "20:\tlearn: 0.1374412\ttotal: 4.29s\tremaining: 1m 4s\n",
      "21:\tlearn: 0.1367147\ttotal: 4.48s\tremaining: 1m 4s\n",
      "22:\tlearn: 0.1366109\ttotal: 4.63s\tremaining: 1m 3s\n",
      "23:\tlearn: 0.1344639\ttotal: 4.87s\tremaining: 1m 3s\n",
      "24:\tlearn: 0.1326818\ttotal: 5.12s\tremaining: 1m 3s\n",
      "25:\tlearn: 0.1303575\ttotal: 5.36s\tremaining: 1m 4s\n",
      "26:\tlearn: 0.1286553\ttotal: 5.57s\tremaining: 1m 3s\n",
      "27:\tlearn: 0.1285767\ttotal: 5.74s\tremaining: 1m 3s\n",
      "28:\tlearn: 0.1278542\ttotal: 5.99s\tremaining: 1m 3s\n",
      "29:\tlearn: 0.1271912\ttotal: 6.17s\tremaining: 1m 3s\n",
      "30:\tlearn: 0.1267426\ttotal: 6.36s\tremaining: 1m 2s\n",
      "31:\tlearn: 0.1263882\ttotal: 6.54s\tremaining: 1m 2s\n",
      "32:\tlearn: 0.1261732\ttotal: 6.74s\tremaining: 1m 2s\n",
      "33:\tlearn: 0.1258880\ttotal: 6.92s\tremaining: 1m 1s\n",
      "34:\tlearn: 0.1244511\ttotal: 7.16s\tremaining: 1m 1s\n",
      "35:\tlearn: 0.1243258\ttotal: 7.32s\tremaining: 1m 1s\n",
      "36:\tlearn: 0.1237670\ttotal: 7.51s\tremaining: 1m\n",
      "37:\tlearn: 0.1236898\ttotal: 7.66s\tremaining: 1m\n",
      "38:\tlearn: 0.1213606\ttotal: 7.85s\tremaining: 60s\n",
      "39:\tlearn: 0.1208793\ttotal: 8.04s\tremaining: 59.7s\n",
      "40:\tlearn: 0.1206873\ttotal: 8.2s\tremaining: 59.2s\n",
      "41:\tlearn: 0.1204550\ttotal: 8.34s\tremaining: 58.6s\n",
      "42:\tlearn: 0.1202786\ttotal: 8.51s\tremaining: 58.2s\n",
      "43:\tlearn: 0.1198407\ttotal: 8.68s\tremaining: 57.8s\n",
      "44:\tlearn: 0.1195676\ttotal: 8.86s\tremaining: 57.5s\n",
      "45:\tlearn: 0.1188619\ttotal: 9.09s\tremaining: 57.5s\n",
      "46:\tlearn: 0.1185982\ttotal: 9.26s\tremaining: 57.1s\n",
      "47:\tlearn: 0.1184855\ttotal: 9.44s\tremaining: 56.9s\n",
      "48:\tlearn: 0.1183122\ttotal: 9.63s\tremaining: 56.6s\n",
      "49:\tlearn: 0.1167770\ttotal: 9.85s\tremaining: 56.6s\n",
      "50:\tlearn: 0.1167225\ttotal: 10s\tremaining: 56.3s\n",
      "51:\tlearn: 0.1160147\ttotal: 10.3s\tremaining: 56.5s\n",
      "52:\tlearn: 0.1153164\ttotal: 10.5s\tremaining: 56.4s\n",
      "53:\tlearn: 0.1150017\ttotal: 10.7s\tremaining: 56s\n",
      "54:\tlearn: 0.1147637\ttotal: 10.9s\tremaining: 55.8s\n",
      "55:\tlearn: 0.1146350\ttotal: 11s\tremaining: 55.4s\n",
      "56:\tlearn: 0.1145413\ttotal: 11.2s\tremaining: 55s\n",
      "57:\tlearn: 0.1131382\ttotal: 11.4s\tremaining: 54.8s\n",
      "58:\tlearn: 0.1130551\ttotal: 11.6s\tremaining: 54.5s\n",
      "59:\tlearn: 0.1125417\ttotal: 11.7s\tremaining: 54.2s\n",
      "60:\tlearn: 0.1124246\ttotal: 12s\tremaining: 54.1s\n",
      "61:\tlearn: 0.1106953\ttotal: 12.3s\tremaining: 54.5s\n",
      "62:\tlearn: 0.1103752\ttotal: 12.4s\tremaining: 53.9s\n",
      "63:\tlearn: 0.1101520\ttotal: 12.6s\tremaining: 53.8s\n",
      "64:\tlearn: 0.1100988\ttotal: 12.8s\tremaining: 53.5s\n",
      "65:\tlearn: 0.1096239\ttotal: 13s\tremaining: 53.5s\n",
      "66:\tlearn: 0.1092865\ttotal: 13.2s\tremaining: 53.3s\n",
      "67:\tlearn: 0.1088961\ttotal: 13.5s\tremaining: 53.2s\n",
      "68:\tlearn: 0.1086507\ttotal: 13.7s\tremaining: 53.1s\n",
      "69:\tlearn: 0.1084605\ttotal: 13.9s\tremaining: 52.9s\n",
      "70:\tlearn: 0.1078068\ttotal: 14.1s\tremaining: 52.9s\n",
      "71:\tlearn: 0.1076327\ttotal: 14.3s\tremaining: 52.6s\n",
      "72:\tlearn: 0.1075765\ttotal: 14.5s\tremaining: 52.5s\n",
      "73:\tlearn: 0.1062668\ttotal: 14.7s\tremaining: 52.4s\n",
      "74:\tlearn: 0.1061720\ttotal: 14.9s\tremaining: 52.1s\n",
      "75:\tlearn: 0.1058855\ttotal: 15.2s\tremaining: 52.1s\n",
      "76:\tlearn: 0.1053534\ttotal: 15.3s\tremaining: 51.8s\n",
      "77:\tlearn: 0.1052917\ttotal: 15.5s\tremaining: 51.5s\n",
      "78:\tlearn: 0.1052706\ttotal: 15.7s\tremaining: 51.3s\n",
      "79:\tlearn: 0.1046188\ttotal: 15.9s\tremaining: 51s\n",
      "80:\tlearn: 0.1036109\ttotal: 16.1s\tremaining: 51s\n",
      "81:\tlearn: 0.1034287\ttotal: 16.4s\tremaining: 50.9s\n",
      "82:\tlearn: 0.1033862\ttotal: 16.5s\tremaining: 50.6s\n",
      "83:\tlearn: 0.1028848\ttotal: 16.8s\tremaining: 50.5s\n",
      "84:\tlearn: 0.1026826\ttotal: 17s\tremaining: 50.5s\n",
      "85:\tlearn: 0.1025491\ttotal: 17.2s\tremaining: 50.2s\n",
      "86:\tlearn: 0.1023991\ttotal: 17.4s\tremaining: 49.9s\n",
      "87:\tlearn: 0.1018598\ttotal: 17.6s\tremaining: 49.9s\n",
      "88:\tlearn: 0.1016866\ttotal: 17.9s\tremaining: 49.7s\n",
      "89:\tlearn: 0.1012717\ttotal: 18.1s\tremaining: 49.7s\n",
      "90:\tlearn: 0.1012045\ttotal: 18.3s\tremaining: 49.5s\n",
      "91:\tlearn: 0.1011650\ttotal: 18.4s\tremaining: 49.1s\n",
      "92:\tlearn: 0.1009783\ttotal: 18.6s\tremaining: 48.8s\n",
      "93:\tlearn: 0.1007719\ttotal: 18.8s\tremaining: 48.6s\n",
      "94:\tlearn: 0.1006433\ttotal: 19s\tremaining: 48.4s\n",
      "95:\tlearn: 0.1004209\ttotal: 19.2s\tremaining: 48.2s\n",
      "96:\tlearn: 0.1002557\ttotal: 19.4s\tremaining: 48s\n",
      "97:\tlearn: 0.1000051\ttotal: 19.6s\tremaining: 47.8s\n",
      "98:\tlearn: 0.0999871\ttotal: 19.7s\tremaining: 47.4s\n",
      "99:\tlearn: 0.0997526\ttotal: 19.9s\tremaining: 47.2s\n",
      "100:\tlearn: 0.0994233\ttotal: 20.2s\tremaining: 47.1s\n",
      "101:\tlearn: 0.0991268\ttotal: 20.4s\tremaining: 46.9s\n",
      "102:\tlearn: 0.0990962\ttotal: 20.6s\tremaining: 46.7s\n",
      "103:\tlearn: 0.0990718\ttotal: 20.7s\tremaining: 46.4s\n",
      "104:\tlearn: 0.0988907\ttotal: 20.9s\tremaining: 46.2s\n",
      "105:\tlearn: 0.0988558\ttotal: 21.1s\tremaining: 46s\n",
      "106:\tlearn: 0.0988541\ttotal: 21.3s\tremaining: 45.7s\n",
      "107:\tlearn: 0.0987794\ttotal: 21.4s\tremaining: 45.4s\n",
      "108:\tlearn: 0.0986005\ttotal: 21.6s\tremaining: 45.2s\n",
      "109:\tlearn: 0.0982951\ttotal: 21.9s\tremaining: 45.1s\n",
      "110:\tlearn: 0.0982922\ttotal: 22s\tremaining: 44.8s\n",
      "111:\tlearn: 0.0980895\ttotal: 22.2s\tremaining: 44.6s\n",
      "112:\tlearn: 0.0979874\ttotal: 22.4s\tremaining: 44.4s\n",
      "113:\tlearn: 0.0978993\ttotal: 22.6s\tremaining: 44.2s\n",
      "114:\tlearn: 0.0977419\ttotal: 22.8s\tremaining: 44.1s\n",
      "115:\tlearn: 0.0975929\ttotal: 23s\tremaining: 43.8s\n",
      "116:\tlearn: 0.0972741\ttotal: 23.2s\tremaining: 43.6s\n",
      "117:\tlearn: 0.0972044\ttotal: 23.4s\tremaining: 43.4s\n",
      "118:\tlearn: 0.0968544\ttotal: 23.6s\tremaining: 43.1s\n",
      "119:\tlearn: 0.0967274\ttotal: 23.7s\tremaining: 42.9s\n",
      "120:\tlearn: 0.0966259\ttotal: 23.9s\tremaining: 42.7s\n",
      "121:\tlearn: 0.0964524\ttotal: 24.2s\tremaining: 42.6s\n",
      "122:\tlearn: 0.0964087\ttotal: 24.3s\tremaining: 42.3s\n",
      "123:\tlearn: 0.0963262\ttotal: 24.5s\tremaining: 42.1s\n",
      "124:\tlearn: 0.0958012\ttotal: 24.7s\tremaining: 41.9s\n",
      "125:\tlearn: 0.0957824\ttotal: 24.9s\tremaining: 41.7s\n",
      "126:\tlearn: 0.0955214\ttotal: 25.1s\tremaining: 41.5s\n",
      "127:\tlearn: 0.0954997\ttotal: 25.3s\tremaining: 41.3s\n",
      "128:\tlearn: 0.0950577\ttotal: 25.5s\tremaining: 41.1s\n",
      "129:\tlearn: 0.0950439\ttotal: 25.6s\tremaining: 40.8s\n",
      "130:\tlearn: 0.0947634\ttotal: 25.8s\tremaining: 40.6s\n",
      "131:\tlearn: 0.0944573\ttotal: 26.1s\tremaining: 40.5s\n",
      "132:\tlearn: 0.0943358\ttotal: 26.3s\tremaining: 40.3s\n",
      "133:\tlearn: 0.0939719\ttotal: 26.5s\tremaining: 40.1s\n",
      "134:\tlearn: 0.0939577\ttotal: 26.6s\tremaining: 39.8s\n",
      "135:\tlearn: 0.0938727\ttotal: 26.8s\tremaining: 39.6s\n",
      "136:\tlearn: 0.0938598\ttotal: 26.9s\tremaining: 39.3s\n",
      "137:\tlearn: 0.0938213\ttotal: 27.1s\tremaining: 39.1s\n",
      "138:\tlearn: 0.0937828\ttotal: 27.3s\tremaining: 38.9s\n",
      "139:\tlearn: 0.0935033\ttotal: 27.4s\tremaining: 38.6s\n",
      "140:\tlearn: 0.0934510\ttotal: 27.6s\tremaining: 38.4s\n",
      "141:\tlearn: 0.0933516\ttotal: 27.8s\tremaining: 38.1s\n",
      "142:\tlearn: 0.0932870\ttotal: 27.9s\tremaining: 37.9s\n",
      "143:\tlearn: 0.0929155\ttotal: 28.2s\tremaining: 37.8s\n",
      "144:\tlearn: 0.0927881\ttotal: 28.4s\tremaining: 37.6s\n",
      "145:\tlearn: 0.0927322\ttotal: 28.6s\tremaining: 37.4s\n",
      "146:\tlearn: 0.0927146\ttotal: 28.7s\tremaining: 37.1s\n",
      "147:\tlearn: 0.0926180\ttotal: 28.9s\tremaining: 36.9s\n",
      "148:\tlearn: 0.0925780\ttotal: 29.1s\tremaining: 36.7s\n",
      "149:\tlearn: 0.0925513\ttotal: 29.3s\tremaining: 36.5s\n",
      "150:\tlearn: 0.0925168\ttotal: 29.5s\tremaining: 36.3s\n",
      "151:\tlearn: 0.0924825\ttotal: 29.6s\tremaining: 36.1s\n",
      "152:\tlearn: 0.0923600\ttotal: 29.8s\tremaining: 35.9s\n",
      "153:\tlearn: 0.0923535\ttotal: 30s\tremaining: 35.7s\n",
      "154:\tlearn: 0.0922469\ttotal: 30.2s\tremaining: 35.5s\n",
      "155:\tlearn: 0.0920753\ttotal: 30.4s\tremaining: 35.2s\n",
      "156:\tlearn: 0.0916924\ttotal: 30.6s\tremaining: 35.1s\n",
      "157:\tlearn: 0.0916587\ttotal: 30.8s\tremaining: 34.9s\n",
      "158:\tlearn: 0.0916780\ttotal: 31s\tremaining: 34.6s\n",
      "159:\tlearn: 0.0916567\ttotal: 31.1s\tremaining: 34.4s\n",
      "160:\tlearn: 0.0915348\ttotal: 31.3s\tremaining: 34.2s\n",
      "161:\tlearn: 0.0911102\ttotal: 31.5s\tremaining: 34s\n",
      "162:\tlearn: 0.0910905\ttotal: 31.6s\tremaining: 33.8s\n",
      "163:\tlearn: 0.0910459\ttotal: 31.8s\tremaining: 33.5s\n",
      "164:\tlearn: 0.0905723\ttotal: 32s\tremaining: 33.4s\n",
      "165:\tlearn: 0.0904586\ttotal: 32.3s\tremaining: 33.2s\n",
      "166:\tlearn: 0.0904374\ttotal: 32.4s\tremaining: 33s\n",
      "167:\tlearn: 0.0904296\ttotal: 32.5s\tremaining: 32.7s\n",
      "168:\tlearn: 0.0900962\ttotal: 32.7s\tremaining: 32.5s\n",
      "169:\tlearn: 0.0900195\ttotal: 32.9s\tremaining: 32.3s\n",
      "170:\tlearn: 0.0899306\ttotal: 33.1s\tremaining: 32.2s\n",
      "171:\tlearn: 0.0896025\ttotal: 33.4s\tremaining: 32s\n",
      "172:\tlearn: 0.0895681\ttotal: 33.5s\tremaining: 31.8s\n",
      "173:\tlearn: 0.0894151\ttotal: 33.7s\tremaining: 31.5s\n",
      "174:\tlearn: 0.0894033\ttotal: 33.8s\tremaining: 31.3s\n",
      "175:\tlearn: 0.0893528\ttotal: 34s\tremaining: 31.1s\n",
      "176:\tlearn: 0.0893421\ttotal: 34.2s\tremaining: 30.9s\n",
      "177:\tlearn: 0.0892797\ttotal: 34.3s\tremaining: 30.7s\n",
      "178:\tlearn: 0.0891262\ttotal: 34.5s\tremaining: 30.5s\n",
      "179:\tlearn: 0.0891319\ttotal: 34.7s\tremaining: 30.2s\n",
      "180:\tlearn: 0.0886010\ttotal: 34.9s\tremaining: 30.1s\n",
      "181:\tlearn: 0.0883616\ttotal: 35s\tremaining: 29.8s\n",
      "182:\tlearn: 0.0883583\ttotal: 35.2s\tremaining: 29.6s\n",
      "183:\tlearn: 0.0883440\ttotal: 35.4s\tremaining: 29.4s\n",
      "184:\tlearn: 0.0883222\ttotal: 35.5s\tremaining: 29.2s\n",
      "185:\tlearn: 0.0882571\ttotal: 35.7s\tremaining: 29s\n",
      "186:\tlearn: 0.0881565\ttotal: 35.9s\tremaining: 28.8s\n",
      "187:\tlearn: 0.0879572\ttotal: 36.1s\tremaining: 28.6s\n",
      "188:\tlearn: 0.0879006\ttotal: 36.4s\tremaining: 28.5s\n",
      "189:\tlearn: 0.0878313\ttotal: 36.5s\tremaining: 28.2s\n",
      "190:\tlearn: 0.0877616\ttotal: 36.7s\tremaining: 28s\n",
      "191:\tlearn: 0.0876420\ttotal: 36.9s\tremaining: 27.9s\n",
      "192:\tlearn: 0.0876287\ttotal: 37.1s\tremaining: 27.7s\n",
      "193:\tlearn: 0.0875189\ttotal: 37.3s\tremaining: 27.5s\n",
      "194:\tlearn: 0.0873923\ttotal: 37.4s\tremaining: 27.2s\n",
      "195:\tlearn: 0.0873433\ttotal: 37.5s\tremaining: 27s\n",
      "196:\tlearn: 0.0869129\ttotal: 37.7s\tremaining: 26.8s\n",
      "197:\tlearn: 0.0868992\ttotal: 37.9s\tremaining: 26.6s\n",
      "198:\tlearn: 0.0868951\ttotal: 38.1s\tremaining: 26.4s\n",
      "199:\tlearn: 0.0868544\ttotal: 38.2s\tremaining: 26.2s\n",
      "200:\tlearn: 0.0868410\ttotal: 38.4s\tremaining: 26s\n",
      "201:\tlearn: 0.0868367\ttotal: 38.5s\tremaining: 25.8s\n",
      "202:\tlearn: 0.0867950\ttotal: 38.7s\tremaining: 25.5s\n",
      "203:\tlearn: 0.0867562\ttotal: 38.8s\tremaining: 25.3s\n",
      "204:\tlearn: 0.0865596\ttotal: 39.1s\tremaining: 25.2s\n",
      "205:\tlearn: 0.0864063\ttotal: 39.3s\tremaining: 25s\n",
      "206:\tlearn: 0.0863789\ttotal: 39.4s\tremaining: 24.8s\n",
      "207:\tlearn: 0.0863594\ttotal: 39.6s\tremaining: 24.5s\n",
      "208:\tlearn: 0.0863165\ttotal: 39.7s\tremaining: 24.3s\n",
      "209:\tlearn: 0.0861843\ttotal: 39.8s\tremaining: 24.1s\n",
      "210:\tlearn: 0.0861771\ttotal: 40s\tremaining: 23.9s\n",
      "211:\tlearn: 0.0860548\ttotal: 40.2s\tremaining: 23.7s\n",
      "212:\tlearn: 0.0859154\ttotal: 40.4s\tremaining: 23.5s\n",
      "213:\tlearn: 0.0858475\ttotal: 40.5s\tremaining: 23.3s\n",
      "214:\tlearn: 0.0855455\ttotal: 40.7s\tremaining: 23.1s\n",
      "215:\tlearn: 0.0855233\ttotal: 40.9s\tremaining: 22.9s\n",
      "216:\tlearn: 0.0854603\ttotal: 41.1s\tremaining: 22.7s\n",
      "217:\tlearn: 0.0853853\ttotal: 41.3s\tremaining: 22.5s\n",
      "218:\tlearn: 0.0853294\ttotal: 41.5s\tremaining: 22.3s\n",
      "219:\tlearn: 0.0852992\ttotal: 41.6s\tremaining: 22.1s\n",
      "220:\tlearn: 0.0852844\ttotal: 41.7s\tremaining: 21.9s\n",
      "221:\tlearn: 0.0851546\ttotal: 41.9s\tremaining: 21.7s\n",
      "222:\tlearn: 0.0851390\ttotal: 42.1s\tremaining: 21.5s\n",
      "223:\tlearn: 0.0851243\ttotal: 42.2s\tremaining: 21.3s\n",
      "224:\tlearn: 0.0849692\ttotal: 42.4s\tremaining: 21.1s\n",
      "225:\tlearn: 0.0847588\ttotal: 42.6s\tremaining: 20.9s\n",
      "226:\tlearn: 0.0846950\ttotal: 42.8s\tremaining: 20.7s\n",
      "227:\tlearn: 0.0846825\ttotal: 42.9s\tremaining: 20.5s\n",
      "228:\tlearn: 0.0845201\ttotal: 43.1s\tremaining: 20.3s\n",
      "229:\tlearn: 0.0845116\ttotal: 43.3s\tremaining: 20.1s\n",
      "230:\tlearn: 0.0844957\ttotal: 43.5s\tremaining: 19.9s\n",
      "231:\tlearn: 0.0844896\ttotal: 43.6s\tremaining: 19.7s\n",
      "232:\tlearn: 0.0844669\ttotal: 43.8s\tremaining: 19.5s\n",
      "233:\tlearn: 0.0843569\ttotal: 43.9s\tremaining: 19.3s\n",
      "234:\tlearn: 0.0843533\ttotal: 44.1s\tremaining: 19.1s\n",
      "235:\tlearn: 0.0842772\ttotal: 44.3s\tremaining: 19s\n",
      "236:\tlearn: 0.0842747\ttotal: 44.5s\tremaining: 18.8s\n",
      "237:\tlearn: 0.0842014\ttotal: 44.6s\tremaining: 18.6s\n",
      "238:\tlearn: 0.0841242\ttotal: 44.8s\tremaining: 18.4s\n",
      "239:\tlearn: 0.0840837\ttotal: 44.9s\tremaining: 18.2s\n",
      "240:\tlearn: 0.0840779\ttotal: 45.1s\tremaining: 18s\n",
      "241:\tlearn: 0.0838824\ttotal: 45.3s\tremaining: 17.8s\n",
      "242:\tlearn: 0.0837662\ttotal: 45.5s\tremaining: 17.6s\n",
      "243:\tlearn: 0.0835081\ttotal: 45.6s\tremaining: 17.4s\n",
      "244:\tlearn: 0.0834353\ttotal: 45.8s\tremaining: 17.2s\n",
      "245:\tlearn: 0.0833893\ttotal: 46s\tremaining: 17s\n",
      "246:\tlearn: 0.0833483\ttotal: 46.2s\tremaining: 16.8s\n",
      "247:\tlearn: 0.0833420\ttotal: 46.3s\tremaining: 16.6s\n",
      "248:\tlearn: 0.0833129\ttotal: 46.5s\tremaining: 16.4s\n",
      "249:\tlearn: 0.0831935\ttotal: 46.7s\tremaining: 16.2s\n",
      "250:\tlearn: 0.0830939\ttotal: 46.8s\tremaining: 16.1s\n",
      "251:\tlearn: 0.0830370\ttotal: 47s\tremaining: 15.9s\n",
      "252:\tlearn: 0.0830255\ttotal: 47.2s\tremaining: 15.7s\n",
      "253:\tlearn: 0.0829988\ttotal: 47.3s\tremaining: 15.5s\n",
      "254:\tlearn: 0.0829838\ttotal: 47.5s\tremaining: 15.3s\n",
      "255:\tlearn: 0.0829705\ttotal: 47.6s\tremaining: 15.1s\n",
      "256:\tlearn: 0.0828946\ttotal: 47.8s\tremaining: 14.9s\n",
      "257:\tlearn: 0.0828721\ttotal: 47.9s\tremaining: 14.7s\n",
      "258:\tlearn: 0.0827333\ttotal: 48.1s\tremaining: 14.5s\n",
      "259:\tlearn: 0.0827073\ttotal: 48.3s\tremaining: 14.3s\n",
      "260:\tlearn: 0.0826951\ttotal: 48.4s\tremaining: 14.1s\n",
      "261:\tlearn: 0.0825999\ttotal: 48.6s\tremaining: 13.9s\n",
      "262:\tlearn: 0.0825984\ttotal: 48.8s\tremaining: 13.7s\n",
      "263:\tlearn: 0.0825679\ttotal: 48.9s\tremaining: 13.5s\n",
      "264:\tlearn: 0.0824246\ttotal: 49.1s\tremaining: 13.3s\n",
      "265:\tlearn: 0.0823818\ttotal: 49.3s\tremaining: 13.1s\n",
      "266:\tlearn: 0.0823772\ttotal: 49.4s\tremaining: 13s\n",
      "267:\tlearn: 0.0823186\ttotal: 49.5s\tremaining: 12.8s\n",
      "268:\tlearn: 0.0823144\ttotal: 49.7s\tremaining: 12.6s\n",
      "269:\tlearn: 0.0822086\ttotal: 49.8s\tremaining: 12.4s\n",
      "270:\tlearn: 0.0821958\ttotal: 50s\tremaining: 12.2s\n",
      "271:\tlearn: 0.0821364\ttotal: 50.2s\tremaining: 12s\n",
      "272:\tlearn: 0.0820980\ttotal: 50.3s\tremaining: 11.8s\n",
      "273:\tlearn: 0.0820532\ttotal: 50.5s\tremaining: 11.6s\n",
      "274:\tlearn: 0.0819715\ttotal: 50.7s\tremaining: 11.4s\n",
      "275:\tlearn: 0.0819777\ttotal: 50.8s\tremaining: 11.2s\n",
      "276:\tlearn: 0.0819642\ttotal: 50.9s\tremaining: 11s\n",
      "277:\tlearn: 0.0818954\ttotal: 51.1s\tremaining: 10.8s\n",
      "278:\tlearn: 0.0818479\ttotal: 51.3s\tremaining: 10.7s\n",
      "279:\tlearn: 0.0816737\ttotal: 51.4s\tremaining: 10.5s\n",
      "280:\tlearn: 0.0816232\ttotal: 51.6s\tremaining: 10.3s\n",
      "281:\tlearn: 0.0814715\ttotal: 51.8s\tremaining: 10.1s\n",
      "282:\tlearn: 0.0814356\ttotal: 52s\tremaining: 9.91s\n",
      "283:\tlearn: 0.0813226\ttotal: 52.2s\tremaining: 9.74s\n",
      "284:\tlearn: 0.0812563\ttotal: 52.4s\tremaining: 9.57s\n",
      "285:\tlearn: 0.0811751\ttotal: 52.6s\tremaining: 9.38s\n",
      "286:\tlearn: 0.0811651\ttotal: 52.7s\tremaining: 9.19s\n",
      "287:\tlearn: 0.0811300\ttotal: 52.9s\tremaining: 9s\n",
      "288:\tlearn: 0.0811111\ttotal: 53s\tremaining: 8.81s\n",
      "289:\tlearn: 0.0811047\ttotal: 53.2s\tremaining: 8.63s\n",
      "290:\tlearn: 0.0809242\ttotal: 53.4s\tremaining: 8.45s\n",
      "291:\tlearn: 0.0807260\ttotal: 53.6s\tremaining: 8.26s\n",
      "292:\tlearn: 0.0807239\ttotal: 53.7s\tremaining: 8.07s\n",
      "293:\tlearn: 0.0806888\ttotal: 53.9s\tremaining: 7.88s\n",
      "294:\tlearn: 0.0805610\ttotal: 54.1s\tremaining: 7.7s\n",
      "295:\tlearn: 0.0805260\ttotal: 54.3s\tremaining: 7.52s\n",
      "296:\tlearn: 0.0805217\ttotal: 54.5s\tremaining: 7.34s\n",
      "297:\tlearn: 0.0805171\ttotal: 54.6s\tremaining: 7.15s\n",
      "298:\tlearn: 0.0804546\ttotal: 54.8s\tremaining: 6.96s\n",
      "299:\tlearn: 0.0801440\ttotal: 55s\tremaining: 6.78s\n",
      "300:\tlearn: 0.0799718\ttotal: 55.2s\tremaining: 6.6s\n",
      "301:\tlearn: 0.0797994\ttotal: 55.4s\tremaining: 6.42s\n",
      "302:\tlearn: 0.0797852\ttotal: 55.5s\tremaining: 6.23s\n",
      "303:\tlearn: 0.0796069\ttotal: 55.7s\tremaining: 6.04s\n",
      "304:\tlearn: 0.0794482\ttotal: 55.9s\tremaining: 5.86s\n",
      "305:\tlearn: 0.0792820\ttotal: 56.1s\tremaining: 5.68s\n",
      "306:\tlearn: 0.0792799\ttotal: 56.2s\tremaining: 5.49s\n",
      "307:\tlearn: 0.0792742\ttotal: 56.4s\tremaining: 5.31s\n",
      "308:\tlearn: 0.0792589\ttotal: 56.5s\tremaining: 5.12s\n",
      "309:\tlearn: 0.0792432\ttotal: 56.7s\tremaining: 4.94s\n",
      "310:\tlearn: 0.0792101\ttotal: 56.9s\tremaining: 4.75s\n",
      "311:\tlearn: 0.0792100\ttotal: 57s\tremaining: 4.57s\n",
      "312:\tlearn: 0.0792058\ttotal: 57.2s\tremaining: 4.38s\n",
      "313:\tlearn: 0.0791578\ttotal: 57.3s\tremaining: 4.2s\n",
      "314:\tlearn: 0.0791347\ttotal: 57.5s\tremaining: 4.01s\n",
      "315:\tlearn: 0.0791245\ttotal: 57.6s\tremaining: 3.83s\n",
      "316:\tlearn: 0.0790891\ttotal: 57.8s\tremaining: 3.64s\n",
      "317:\tlearn: 0.0790501\ttotal: 57.9s\tremaining: 3.46s\n",
      "318:\tlearn: 0.0790353\ttotal: 58.1s\tremaining: 3.28s\n",
      "319:\tlearn: 0.0790009\ttotal: 58.3s\tremaining: 3.1s\n",
      "320:\tlearn: 0.0789984\ttotal: 58.4s\tremaining: 2.91s\n",
      "321:\tlearn: 0.0789853\ttotal: 58.6s\tremaining: 2.73s\n",
      "322:\tlearn: 0.0788958\ttotal: 58.7s\tremaining: 2.55s\n",
      "323:\tlearn: 0.0787106\ttotal: 58.9s\tremaining: 2.36s\n",
      "324:\tlearn: 0.0786871\ttotal: 59.1s\tremaining: 2.18s\n",
      "325:\tlearn: 0.0786715\ttotal: 59.3s\tremaining: 2s\n",
      "326:\tlearn: 0.0786062\ttotal: 59.5s\tremaining: 1.82s\n",
      "327:\tlearn: 0.0784854\ttotal: 59.6s\tremaining: 1.64s\n",
      "328:\tlearn: 0.0784193\ttotal: 59.8s\tremaining: 1.45s\n",
      "329:\tlearn: 0.0784077\ttotal: 59.9s\tremaining: 1.27s\n",
      "330:\tlearn: 0.0784024\ttotal: 1m\tremaining: 1.09s\n",
      "331:\tlearn: 0.0783348\ttotal: 1m\tremaining: 908ms\n",
      "332:\tlearn: 0.0782778\ttotal: 1m\tremaining: 726ms\n",
      "333:\tlearn: 0.0782473\ttotal: 1m\tremaining: 544ms\n",
      "334:\tlearn: 0.0781753\ttotal: 1m\tremaining: 363ms\n",
      "335:\tlearn: 0.0781602\ttotal: 1m\tremaining: 181ms\n",
      "336:\tlearn: 0.0781269\ttotal: 1m 1s\tremaining: 0us\n"
     ]
    },
    {
     "data": {
      "text/plain": [
       "<catboost.core.CatBoostRegressor at 0x2442cf155e0>"
      ]
     },
     "execution_count": 44,
     "metadata": {},
     "output_type": "execute_result"
    }
   ],
   "source": [
    "cat_model.fit(cat_train_data, verbose = True)"
   ]
  },
  {
   "cell_type": "code",
   "execution_count": 48,
   "metadata": {
    "colab": {
     "base_uri": "https://localhost:8080/",
     "height": 571
    },
    "id": "0q6pcEBAo60f",
    "outputId": "d05c7262-d19c-4102-e7ec-ba8c279b90a3"
   },
   "outputs": [
    {
     "data": {
      "text/plain": [
       "Text(0.5, 1.0, 'Feature Importance')"
      ]
     },
     "execution_count": 48,
     "metadata": {},
     "output_type": "execute_result"
    },
    {
     "data": {
      "image/png": "[encoded data removed]",
      "text/plain": [
       "<Figure size 1200x600 with 1 Axes>"
      ]
     },
     "metadata": {},
     "output_type": "display_data"
    }
   ],
   "source": [
    "# Plotting feature importance\n",
    "\n",
    "feature_importance = cat_model.feature_importances_\n",
    "sorted_idx = np.argsort(feature_importance)\n",
    "\n",
    "fig = plt.figure(figsize=(12, 6))\n",
    "plt.barh(np.array(cat_features)[sorted_idx], feature_importance[sorted_idx])\n",
    "plt.title('Feature Importance')"
   ]
  },
  {
   "cell_type": "code",
   "execution_count": 49,
   "metadata": {
    "colab": {
     "base_uri": "https://localhost:8080/"
    },
    "id": "ULFLMXMz8N5-",
    "outputId": "63007581-d44f-4d0f-c246-372bbdee3a1c"
   },
   "outputs": [
    {
     "name": "stdout",
     "output_type": "stream",
     "text": [
      "<class 'pandas.core.frame.DataFrame'>\n",
      "Index: 27523 entries, 711380 to 182273\n",
      "Data columns (total 9 columns):\n",
      " #   Column            Non-Null Count  Dtype  \n",
      "---  ------            --------------  -----  \n",
      " 0   trans_type        27523 non-null  object \n",
      " 1   prop_type         27523 non-null  object \n",
      " 2   prop_stype        27523 non-null  object \n",
      " 3   prop_usage        27523 non-null  object \n",
      " 4   location_id       27523 non-null  int64  \n",
      " 5   capacity          27523 non-null  object \n",
      " 6   prop_area(sq/m)   27523 non-null  float64\n",
      " 7   sale_price(sq/m)  27523 non-null  float64\n",
      " 8   prop_value        27523 non-null  int64  \n",
      "dtypes: float64(2), int64(2), object(5)\n",
      "memory usage: 2.1+ MB\n"
     ]
    }
   ],
   "source": [
    "validation_set.info()"
   ]
  },
  {
   "cell_type": "code",
   "execution_count": 50,
   "metadata": {
    "id": "sUXYIhd0h7--"
   },
   "outputs": [],
   "source": [
    "# Creating Test Pool and predicting\n",
    "\n",
    "test = Pool(\n",
    "    data = validation_set[cat_features],\n",
    "    cat_features = categorical_indicies,\n",
    ")\n",
    "y_pred = cat_model.predict(test)"
   ]
  },
  {
   "cell_type": "code",
   "execution_count": 51,
   "metadata": {
    "colab": {
     "base_uri": "https://localhost:8080/",
     "height": 424
    },
    "id": "19tDbQd4S9dG",
    "outputId": "091dc8d5-01a3-4ae1-a6be-fb88c41e028f"
   },
   "outputs": [
    {
     "name": "stdout",
     "output_type": "stream",
     "text": [
      "validation: 1.8332658775451625 test: 0.07008948738808198\n"
     ]
    }
   ],
   "source": [
    "validation_error = mean_absolute_percentage_error(validation_set[target], y_pred)\n",
    "print(\"validation:\", validation_error, \"test:\", study.best_trial.value)"
   ]
  }
 ],
 "metadata": {
  "colab": {
   "provenance": []
  },
  "kernelspec": {
   "display_name": "Python 3 (ipykernel)",
   "language": "python",
   "name": "python3"
  },
  "language_info": {
   "codemirror_mode": {
    "name": "ipython",
    "version": 3
   },
   "file_extension": ".py",
   "mimetype": "text/x-python",
   "name": "python",
   "nbconvert_exporter": "python",
   "pygments_lexer": "ipython3",
   "version": "3.12.0"
  }
 },
 "nbformat": 4,
 "nbformat_minor": 4
}
