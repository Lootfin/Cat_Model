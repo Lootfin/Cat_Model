{
 "cells": [
  {
   "cell_type": "markdown",
   "metadata": {},
   "source": [
    "# **Installing necessary libraries**"
   ]
  },
  {
   "cell_type": "code",
   "execution_count": 2,
   "metadata": {},
   "outputs": [
    {
     "name": "stdout",
     "output_type": "stream",
     "text": [
      "Requirement already satisfied: catboost in c:\\users\\aleks\\desktop\\jup\\cat_model\\.venv\\lib\\site-packages (1.2.5)\n",
      "Requirement already satisfied: optuna in c:\\users\\aleks\\desktop\\jup\\cat_model\\.venv\\lib\\site-packages (3.6.1)\n",
      "Requirement already satisfied: seaborn in c:\\users\\aleks\\desktop\\jup\\cat_model\\.venv\\lib\\site-packages (0.13.2)\n",
      "Requirement already satisfied: scikit-learn in c:\\users\\aleks\\desktop\\jup\\cat_model\\.venv\\lib\\site-packages (1.4.2)\n",
      "Requirement already satisfied: openpyxl in c:\\users\\aleks\\desktop\\jup\\cat_model\\.venv\\lib\\site-packages (3.1.2)\n",
      "Requirement already satisfied: nbformat in c:\\users\\aleks\\desktop\\jup\\cat_model\\.venv\\lib\\site-packages (5.10.4)\n",
      "Requirement already satisfied: ipython in c:\\users\\aleks\\desktop\\jup\\cat_model\\.venv\\lib\\site-packages (8.24.0)\n",
      "Requirement already satisfied: ipywidgets in c:\\users\\aleks\\desktop\\jup\\cat_model\\.venv\\lib\\site-packages (8.1.2)\n",
      "Requirement already satisfied: lazypredict-nightly in c:\\users\\aleks\\desktop\\jup\\cat_model\\.venv\\lib\\site-packages (0.3.2)\n",
      "Requirement already satisfied: graphviz in c:\\users\\aleks\\desktop\\jup\\cat_model\\.venv\\lib\\site-packages (from catboost) (0.20.3)\n",
      "Requirement already satisfied: matplotlib in c:\\users\\aleks\\desktop\\jup\\cat_model\\.venv\\lib\\site-packages (from catboost) (3.9.0)\n",
      "Requirement already satisfied: numpy>=1.16.0 in c:\\users\\aleks\\desktop\\jup\\cat_model\\.venv\\lib\\site-packages (from catboost) (1.26.4)\n",
      "Requirement already satisfied: pandas>=0.24 in c:\\users\\aleks\\desktop\\jup\\cat_model\\.venv\\lib\\site-packages (from catboost) (2.2.2)\n",
      "Requirement already satisfied: scipy in c:\\users\\aleks\\desktop\\jup\\cat_model\\.venv\\lib\\site-packages (from catboost) (1.13.0)\n",
      "Requirement already satisfied: plotly in c:\\users\\aleks\\desktop\\jup\\cat_model\\.venv\\lib\\site-packages (from catboost) (5.22.0)\n",
      "Requirement already satisfied: six in c:\\users\\aleks\\desktop\\jup\\cat_model\\.venv\\lib\\site-packages (from catboost) (1.16.0)\n",
      "Requirement already satisfied: alembic>=1.5.0 in c:\\users\\aleks\\desktop\\jup\\cat_model\\.venv\\lib\\site-packages (from optuna) (1.13.1)\n",
      "Requirement already satisfied: colorlog in c:\\users\\aleks\\desktop\\jup\\cat_model\\.venv\\lib\\site-packages (from optuna) (6.8.2)\n",
      "Requirement already satisfied: packaging>=20.0 in c:\\users\\aleks\\desktop\\jup\\cat_model\\.venv\\lib\\site-packages (from optuna) (24.0)\n",
      "Requirement already satisfied: sqlalchemy>=1.3.0 in c:\\users\\aleks\\desktop\\jup\\cat_model\\.venv\\lib\\site-packages (from optuna) (2.0.30)\n",
      "Requirement already satisfied: tqdm in c:\\users\\aleks\\desktop\\jup\\cat_model\\.venv\\lib\\site-packages (from optuna) (4.66.4)\n",
      "Requirement already satisfied: PyYAML in c:\\users\\aleks\\desktop\\jup\\cat_model\\.venv\\lib\\site-packages (from optuna) (6.0.1)\n",
      "Requirement already satisfied: joblib>=1.2.0 in c:\\users\\aleks\\desktop\\jup\\cat_model\\.venv\\lib\\site-packages (from scikit-learn) (1.4.2)\n",
      "Requirement already satisfied: threadpoolctl>=2.0.0 in c:\\users\\aleks\\desktop\\jup\\cat_model\\.venv\\lib\\site-packages (from scikit-learn) (3.5.0)\n",
      "Requirement already satisfied: et-xmlfile in c:\\users\\aleks\\desktop\\jup\\cat_model\\.venv\\lib\\site-packages (from openpyxl) (1.1.0)\n",
      "Requirement already satisfied: fastjsonschema>=2.15 in c:\\users\\aleks\\desktop\\jup\\cat_model\\.venv\\lib\\site-packages (from nbformat) (2.19.1)\n",
      "Requirement already satisfied: jsonschema>=2.6 in c:\\users\\aleks\\desktop\\jup\\cat_model\\.venv\\lib\\site-packages (from nbformat) (4.22.0)\n",
      "Requirement already satisfied: jupyter-core!=5.0.*,>=4.12 in c:\\users\\aleks\\desktop\\jup\\cat_model\\.venv\\lib\\site-packages (from nbformat) (5.7.2)\n",
      "Requirement already satisfied: traitlets>=5.1 in c:\\users\\aleks\\desktop\\jup\\cat_model\\.venv\\lib\\site-packages (from nbformat) (5.14.3)\n",
      "Requirement already satisfied: decorator in c:\\users\\aleks\\desktop\\jup\\cat_model\\.venv\\lib\\site-packages (from ipython) (5.1.1)\n",
      "Requirement already satisfied: jedi>=0.16 in c:\\users\\aleks\\desktop\\jup\\cat_model\\.venv\\lib\\site-packages (from ipython) (0.19.1)\n",
      "Requirement already satisfied: matplotlib-inline in c:\\users\\aleks\\desktop\\jup\\cat_model\\.venv\\lib\\site-packages (from ipython) (0.1.7)\n",
      "Requirement already satisfied: prompt-toolkit<3.1.0,>=3.0.41 in c:\\users\\aleks\\desktop\\jup\\cat_model\\.venv\\lib\\site-packages (from ipython) (3.0.43)\n",
      "Requirement already satisfied: pygments>=2.4.0 in c:\\users\\aleks\\desktop\\jup\\cat_model\\.venv\\lib\\site-packages (from ipython) (2.18.0)\n",
      "Requirement already satisfied: stack-data in c:\\users\\aleks\\desktop\\jup\\cat_model\\.venv\\lib\\site-packages (from ipython) (0.6.3)\n",
      "Requirement already satisfied: colorama in c:\\users\\aleks\\desktop\\jup\\cat_model\\.venv\\lib\\site-packages (from ipython) (0.4.6)\n",
      "Requirement already satisfied: comm>=0.1.3 in c:\\users\\aleks\\desktop\\jup\\cat_model\\.venv\\lib\\site-packages (from ipywidgets) (0.2.2)\n",
      "Requirement already satisfied: widgetsnbextension~=4.0.10 in c:\\users\\aleks\\desktop\\jup\\cat_model\\.venv\\lib\\site-packages (from ipywidgets) (4.0.10)\n",
      "Requirement already satisfied: jupyterlab-widgets~=3.0.10 in c:\\users\\aleks\\desktop\\jup\\cat_model\\.venv\\lib\\site-packages (from ipywidgets) (3.0.10)\n",
      "Requirement already satisfied: click in c:\\users\\aleks\\desktop\\jup\\cat_model\\.venv\\lib\\site-packages (from lazypredict-nightly) (8.1.7)\n",
      "Requirement already satisfied: lightgbm in c:\\users\\aleks\\desktop\\jup\\cat_model\\.venv\\lib\\site-packages (from lazypredict-nightly) (4.3.0)\n",
      "Requirement already satisfied: xgboost in c:\\users\\aleks\\desktop\\jup\\cat_model\\.venv\\lib\\site-packages (from lazypredict-nightly) (2.0.3)\n",
      "Requirement already satisfied: markupsafe<=2.1.4 in c:\\users\\aleks\\desktop\\jup\\cat_model\\.venv\\lib\\site-packages (from lazypredict-nightly) (2.1.4)\n",
      "Requirement already satisfied: Mako in c:\\users\\aleks\\desktop\\jup\\cat_model\\.venv\\lib\\site-packages (from alembic>=1.5.0->optuna) (1.3.5)\n",
      "Requirement already satisfied: typing-extensions>=4 in c:\\users\\aleks\\desktop\\jup\\cat_model\\.venv\\lib\\site-packages (from alembic>=1.5.0->optuna) (4.11.0)\n",
      "Requirement already satisfied: parso<0.9.0,>=0.8.3 in c:\\users\\aleks\\desktop\\jup\\cat_model\\.venv\\lib\\site-packages (from jedi>=0.16->ipython) (0.8.4)\n",
      "Requirement already satisfied: attrs>=22.2.0 in c:\\users\\aleks\\desktop\\jup\\cat_model\\.venv\\lib\\site-packages (from jsonschema>=2.6->nbformat) (23.2.0)\n",
      "Requirement already satisfied: jsonschema-specifications>=2023.03.6 in c:\\users\\aleks\\desktop\\jup\\cat_model\\.venv\\lib\\site-packages (from jsonschema>=2.6->nbformat) (2023.12.1)\n",
      "Requirement already satisfied: referencing>=0.28.4 in c:\\users\\aleks\\desktop\\jup\\cat_model\\.venv\\lib\\site-packages (from jsonschema>=2.6->nbformat) (0.35.1)\n",
      "Requirement already satisfied: rpds-py>=0.7.1 in c:\\users\\aleks\\desktop\\jup\\cat_model\\.venv\\lib\\site-packages (from jsonschema>=2.6->nbformat) (0.18.1)\n",
      "Requirement already satisfied: platformdirs>=2.5 in c:\\users\\aleks\\desktop\\jup\\cat_model\\.venv\\lib\\site-packages (from jupyter-core!=5.0.*,>=4.12->nbformat) (4.2.2)\n",
      "Requirement already satisfied: pywin32>=300 in c:\\users\\aleks\\desktop\\jup\\cat_model\\.venv\\lib\\site-packages (from jupyter-core!=5.0.*,>=4.12->nbformat) (306)\n",
      "Requirement already satisfied: contourpy>=1.0.1 in c:\\users\\aleks\\desktop\\jup\\cat_model\\.venv\\lib\\site-packages (from matplotlib->catboost) (1.2.1)\n",
      "Requirement already satisfied: cycler>=0.10 in c:\\users\\aleks\\desktop\\jup\\cat_model\\.venv\\lib\\site-packages (from matplotlib->catboost) (0.12.1)\n",
      "Requirement already satisfied: fonttools>=4.22.0 in c:\\users\\aleks\\desktop\\jup\\cat_model\\.venv\\lib\\site-packages (from matplotlib->catboost) (4.51.0)\n",
      "Requirement already satisfied: kiwisolver>=1.3.1 in c:\\users\\aleks\\desktop\\jup\\cat_model\\.venv\\lib\\site-packages (from matplotlib->catboost) (1.4.5)\n",
      "Requirement already satisfied: pillow>=8 in c:\\users\\aleks\\desktop\\jup\\cat_model\\.venv\\lib\\site-packages (from matplotlib->catboost) (10.3.0)\n",
      "Requirement already satisfied: pyparsing>=2.3.1 in c:\\users\\aleks\\desktop\\jup\\cat_model\\.venv\\lib\\site-packages (from matplotlib->catboost) (3.1.2)\n",
      "Requirement already satisfied: python-dateutil>=2.7 in c:\\users\\aleks\\desktop\\jup\\cat_model\\.venv\\lib\\site-packages (from matplotlib->catboost) (2.9.0.post0)\n",
      "Requirement already satisfied: pytz>=2020.1 in c:\\users\\aleks\\desktop\\jup\\cat_model\\.venv\\lib\\site-packages (from pandas>=0.24->catboost) (2024.1)\n",
      "Requirement already satisfied: tzdata>=2022.7 in c:\\users\\aleks\\desktop\\jup\\cat_model\\.venv\\lib\\site-packages (from pandas>=0.24->catboost) (2024.1)\n",
      "Requirement already satisfied: wcwidth in c:\\users\\aleks\\desktop\\jup\\cat_model\\.venv\\lib\\site-packages (from prompt-toolkit<3.1.0,>=3.0.41->ipython) (0.2.13)\n",
      "Requirement already satisfied: greenlet!=0.4.17 in c:\\users\\aleks\\desktop\\jup\\cat_model\\.venv\\lib\\site-packages (from sqlalchemy>=1.3.0->optuna) (3.0.3)\n",
      "Requirement already satisfied: tenacity>=6.2.0 in c:\\users\\aleks\\desktop\\jup\\cat_model\\.venv\\lib\\site-packages (from plotly->catboost) (8.3.0)\n",
      "Requirement already satisfied: executing>=1.2.0 in c:\\users\\aleks\\desktop\\jup\\cat_model\\.venv\\lib\\site-packages (from stack-data->ipython) (2.0.1)\n",
      "Requirement already satisfied: asttokens>=2.1.0 in c:\\users\\aleks\\desktop\\jup\\cat_model\\.venv\\lib\\site-packages (from stack-data->ipython) (2.4.1)\n",
      "Requirement already satisfied: pure-eval in c:\\users\\aleks\\desktop\\jup\\cat_model\\.venv\\lib\\site-packages (from stack-data->ipython) (0.2.2)\n",
      "Note: you may need to restart the kernel to use updated packages.\n"
     ]
    }
   ],
   "source": [
    "#Downloading libraries\n",
    "\n",
    "%pip install catboost optuna seaborn scikit-learn openpyxl nbformat ipython ipywidgets lazypredict-nightly"
   ]
  },
  {
   "cell_type": "code",
   "execution_count": 3,
   "metadata": {
    "colab": {
     "base_uri": "https://localhost:8080/"
    },
    "id": "MX0D87LbnNKR",
    "outputId": "c7b0cc44-7939-4905-8788-cbe706df2069"
   },
   "outputs": [],
   "source": [
    "# Importing libraries and setting necessery settings\n",
    "\n",
    "import numpy as np\n",
    "import pandas as pd\n",
    "import seaborn as sns\n",
    "import matplotlib.pyplot as plt\n",
    "from sklearn.metrics import root_mean_squared_error\n",
    "from sklearn.model_selection import train_test_split\n",
    "from sklearn.neighbors import KNeighborsRegressor\n",
    "import optuna\n",
    "from optuna.samplers import TPESampler\n",
    "import lazypredict\n",
    "from lazypredict import LazyRegressor\n",
    "from catboost import CatBoostRegressor, Pool, cv\n",
    "from pandas.api.types import is_numeric_dtype\n",
    "from sklearn.preprocessing import MinMaxScaler, StandardScaler, RobustScaler, OneHotEncoder, MaxAbsScaler\n",
    "from sklearn.pipeline import make_pipeline\n",
    "from sklearn.model_selection import cross_val_score\n",
    "from sklearn.ensemble import RandomForestRegressor, BaggingRegressor\n",
    "from sklearn.neural_network import MLPRegressor\n",
    "from sklearn.utils import shuffle\n",
    "\n",
    "\n",
    "%matplotlib inline\n",
    "plt.style.use(\"seaborn-v0_8\")"
   ]
  },
  {
   "cell_type": "markdown",
   "metadata": {},
   "source": [
    "# **Basic EDA**"
   ]
  },
  {
   "cell_type": "code",
   "execution_count": 12,
   "metadata": {
    "colab": {
     "base_uri": "https://localhost:8080/",
     "height": 287
    },
    "id": "NYcIpbdLO8Cq",
    "outputId": "4216785c-9513-4568-a8c4-3542ec86f652"
   },
   "outputs": [],
   "source": [
    "# Readign the file\n",
    "\n",
    "data = pd.read_excel(\"Employee Turnover Analytics Data set.xlsx\")"
   ]
  },
  {
   "cell_type": "code",
   "execution_count": 5,
   "metadata": {},
   "outputs": [
    {
     "data": {
      "text/html": [
       "<div>\n",
       "<style scoped>\n",
       "    .dataframe tbody tr th:only-of-type {\n",
       "        vertical-align: middle;\n",
       "    }\n",
       "\n",
       "    .dataframe tbody tr th {\n",
       "        vertical-align: top;\n",
       "    }\n",
       "\n",
       "    .dataframe thead th {\n",
       "        text-align: right;\n",
       "    }\n",
       "</style>\n",
       "<table border=\"1\" class=\"dataframe\">\n",
       "  <thead>\n",
       "    <tr style=\"text-align: right;\">\n",
       "      <th></th>\n",
       "      <th>satisfaction_level</th>\n",
       "      <th>last_evaluation</th>\n",
       "      <th>number_project</th>\n",
       "      <th>average_montly_hours</th>\n",
       "      <th>time_spend_company</th>\n",
       "      <th>Work_accident</th>\n",
       "      <th>left</th>\n",
       "      <th>promotion_last_5years</th>\n",
       "      <th>sales</th>\n",
       "      <th>salary</th>\n",
       "    </tr>\n",
       "  </thead>\n",
       "  <tbody>\n",
       "    <tr>\n",
       "      <th>0</th>\n",
       "      <td>0.38</td>\n",
       "      <td>0.53</td>\n",
       "      <td>2</td>\n",
       "      <td>157</td>\n",
       "      <td>3</td>\n",
       "      <td>0</td>\n",
       "      <td>1</td>\n",
       "      <td>0</td>\n",
       "      <td>sales</td>\n",
       "      <td>low</td>\n",
       "    </tr>\n",
       "    <tr>\n",
       "      <th>1</th>\n",
       "      <td>0.80</td>\n",
       "      <td>0.86</td>\n",
       "      <td>5</td>\n",
       "      <td>262</td>\n",
       "      <td>6</td>\n",
       "      <td>0</td>\n",
       "      <td>1</td>\n",
       "      <td>0</td>\n",
       "      <td>sales</td>\n",
       "      <td>medium</td>\n",
       "    </tr>\n",
       "    <tr>\n",
       "      <th>2</th>\n",
       "      <td>0.11</td>\n",
       "      <td>0.88</td>\n",
       "      <td>7</td>\n",
       "      <td>272</td>\n",
       "      <td>4</td>\n",
       "      <td>0</td>\n",
       "      <td>1</td>\n",
       "      <td>0</td>\n",
       "      <td>sales</td>\n",
       "      <td>medium</td>\n",
       "    </tr>\n",
       "    <tr>\n",
       "      <th>3</th>\n",
       "      <td>0.72</td>\n",
       "      <td>0.87</td>\n",
       "      <td>5</td>\n",
       "      <td>223</td>\n",
       "      <td>5</td>\n",
       "      <td>0</td>\n",
       "      <td>1</td>\n",
       "      <td>0</td>\n",
       "      <td>sales</td>\n",
       "      <td>low</td>\n",
       "    </tr>\n",
       "    <tr>\n",
       "      <th>4</th>\n",
       "      <td>0.37</td>\n",
       "      <td>0.52</td>\n",
       "      <td>2</td>\n",
       "      <td>159</td>\n",
       "      <td>3</td>\n",
       "      <td>0</td>\n",
       "      <td>1</td>\n",
       "      <td>0</td>\n",
       "      <td>sales</td>\n",
       "      <td>low</td>\n",
       "    </tr>\n",
       "  </tbody>\n",
       "</table>\n",
       "</div>"
      ],
      "text/plain": [
       "   satisfaction_level  last_evaluation  number_project  average_montly_hours  \\\n",
       "0                0.38             0.53               2                   157   \n",
       "1                0.80             0.86               5                   262   \n",
       "2                0.11             0.88               7                   272   \n",
       "3                0.72             0.87               5                   223   \n",
       "4                0.37             0.52               2                   159   \n",
       "\n",
       "   time_spend_company  Work_accident  left  promotion_last_5years  sales  \\\n",
       "0                   3              0     1                      0  sales   \n",
       "1                   6              0     1                      0  sales   \n",
       "2                   4              0     1                      0  sales   \n",
       "3                   5              0     1                      0  sales   \n",
       "4                   3              0     1                      0  sales   \n",
       "\n",
       "   salary  \n",
       "0     low  \n",
       "1  medium  \n",
       "2  medium  \n",
       "3     low  \n",
       "4     low  "
      ]
     },
     "execution_count": 5,
     "metadata": {},
     "output_type": "execute_result"
    }
   ],
   "source": [
    "# To view some real data\n",
    "\n",
    "data.head()"
   ]
  },
  {
   "cell_type": "code",
   "execution_count": 6,
   "metadata": {},
   "outputs": [
    {
     "data": {
      "text/html": [
       "<div>\n",
       "<style scoped>\n",
       "    .dataframe tbody tr th:only-of-type {\n",
       "        vertical-align: middle;\n",
       "    }\n",
       "\n",
       "    .dataframe tbody tr th {\n",
       "        vertical-align: top;\n",
       "    }\n",
       "\n",
       "    .dataframe thead th {\n",
       "        text-align: right;\n",
       "    }\n",
       "</style>\n",
       "<table border=\"1\" class=\"dataframe\">\n",
       "  <thead>\n",
       "    <tr style=\"text-align: right;\">\n",
       "      <th></th>\n",
       "      <th>satisfaction_level</th>\n",
       "      <th>last_evaluation</th>\n",
       "      <th>number_project</th>\n",
       "      <th>average_montly_hours</th>\n",
       "      <th>time_spend_company</th>\n",
       "      <th>Work_accident</th>\n",
       "      <th>left</th>\n",
       "      <th>promotion_last_5years</th>\n",
       "    </tr>\n",
       "  </thead>\n",
       "  <tbody>\n",
       "    <tr>\n",
       "      <th>count</th>\n",
       "      <td>14999.00</td>\n",
       "      <td>14999.00</td>\n",
       "      <td>14999.00</td>\n",
       "      <td>14999.00</td>\n",
       "      <td>14999.00</td>\n",
       "      <td>14999.00</td>\n",
       "      <td>14999.00</td>\n",
       "      <td>14999.00</td>\n",
       "    </tr>\n",
       "    <tr>\n",
       "      <th>mean</th>\n",
       "      <td>0.61</td>\n",
       "      <td>0.72</td>\n",
       "      <td>3.80</td>\n",
       "      <td>201.05</td>\n",
       "      <td>3.50</td>\n",
       "      <td>0.14</td>\n",
       "      <td>0.24</td>\n",
       "      <td>0.02</td>\n",
       "    </tr>\n",
       "    <tr>\n",
       "      <th>std</th>\n",
       "      <td>0.25</td>\n",
       "      <td>0.17</td>\n",
       "      <td>1.23</td>\n",
       "      <td>49.94</td>\n",
       "      <td>1.46</td>\n",
       "      <td>0.35</td>\n",
       "      <td>0.43</td>\n",
       "      <td>0.14</td>\n",
       "    </tr>\n",
       "    <tr>\n",
       "      <th>min</th>\n",
       "      <td>0.09</td>\n",
       "      <td>0.36</td>\n",
       "      <td>2.00</td>\n",
       "      <td>96.00</td>\n",
       "      <td>2.00</td>\n",
       "      <td>0.00</td>\n",
       "      <td>0.00</td>\n",
       "      <td>0.00</td>\n",
       "    </tr>\n",
       "    <tr>\n",
       "      <th>25%</th>\n",
       "      <td>0.44</td>\n",
       "      <td>0.56</td>\n",
       "      <td>3.00</td>\n",
       "      <td>156.00</td>\n",
       "      <td>3.00</td>\n",
       "      <td>0.00</td>\n",
       "      <td>0.00</td>\n",
       "      <td>0.00</td>\n",
       "    </tr>\n",
       "    <tr>\n",
       "      <th>50%</th>\n",
       "      <td>0.64</td>\n",
       "      <td>0.72</td>\n",
       "      <td>4.00</td>\n",
       "      <td>200.00</td>\n",
       "      <td>3.00</td>\n",
       "      <td>0.00</td>\n",
       "      <td>0.00</td>\n",
       "      <td>0.00</td>\n",
       "    </tr>\n",
       "    <tr>\n",
       "      <th>75%</th>\n",
       "      <td>0.82</td>\n",
       "      <td>0.87</td>\n",
       "      <td>5.00</td>\n",
       "      <td>245.00</td>\n",
       "      <td>4.00</td>\n",
       "      <td>0.00</td>\n",
       "      <td>0.00</td>\n",
       "      <td>0.00</td>\n",
       "    </tr>\n",
       "    <tr>\n",
       "      <th>max</th>\n",
       "      <td>1.00</td>\n",
       "      <td>1.00</td>\n",
       "      <td>7.00</td>\n",
       "      <td>310.00</td>\n",
       "      <td>10.00</td>\n",
       "      <td>1.00</td>\n",
       "      <td>1.00</td>\n",
       "      <td>1.00</td>\n",
       "    </tr>\n",
       "  </tbody>\n",
       "</table>\n",
       "</div>"
      ],
      "text/plain": [
       "       satisfaction_level  last_evaluation  number_project  \\\n",
       "count            14999.00         14999.00        14999.00   \n",
       "mean                 0.61             0.72            3.80   \n",
       "std                  0.25             0.17            1.23   \n",
       "min                  0.09             0.36            2.00   \n",
       "25%                  0.44             0.56            3.00   \n",
       "50%                  0.64             0.72            4.00   \n",
       "75%                  0.82             0.87            5.00   \n",
       "max                  1.00             1.00            7.00   \n",
       "\n",
       "       average_montly_hours  time_spend_company  Work_accident     left  \\\n",
       "count              14999.00            14999.00       14999.00 14999.00   \n",
       "mean                 201.05                3.50           0.14     0.24   \n",
       "std                   49.94                1.46           0.35     0.43   \n",
       "min                   96.00                2.00           0.00     0.00   \n",
       "25%                  156.00                3.00           0.00     0.00   \n",
       "50%                  200.00                3.00           0.00     0.00   \n",
       "75%                  245.00                4.00           0.00     0.00   \n",
       "max                  310.00               10.00           1.00     1.00   \n",
       "\n",
       "       promotion_last_5years  \n",
       "count               14999.00  \n",
       "mean                    0.02  \n",
       "std                     0.14  \n",
       "min                     0.00  \n",
       "25%                     0.00  \n",
       "50%                     0.00  \n",
       "75%                     0.00  \n",
       "max                     1.00  "
      ]
     },
     "execution_count": 6,
     "metadata": {},
     "output_type": "execute_result"
    }
   ],
   "source": [
    "# To understand the statistica about the data\n",
    "\n",
    "data.describe()"
   ]
  },
  {
   "cell_type": "code",
   "execution_count": 7,
   "metadata": {
    "colab": {
     "base_uri": "https://localhost:8080/"
    },
    "id": "jvdmqyUXPDzf",
    "outputId": "5d117f85-eb42-4c10-c442-be58f039020e"
   },
   "outputs": [
    {
     "name": "stdout",
     "output_type": "stream",
     "text": [
      "<class 'pandas.core.frame.DataFrame'>\n",
      "RangeIndex: 14999 entries, 0 to 14998\n",
      "Data columns (total 10 columns):\n",
      " #   Column                 Non-Null Count  Dtype  \n",
      "---  ------                 --------------  -----  \n",
      " 0   satisfaction_level     14999 non-null  float64\n",
      " 1   last_evaluation        14999 non-null  float64\n",
      " 2   number_project         14999 non-null  int64  \n",
      " 3   average_montly_hours   14999 non-null  int64  \n",
      " 4   time_spend_company     14999 non-null  int64  \n",
      " 5   Work_accident          14999 non-null  int64  \n",
      " 6   left                   14999 non-null  int64  \n",
      " 7   promotion_last_5years  14999 non-null  int64  \n",
      " 8   sales                  14999 non-null  object \n",
      " 9   salary                 14999 non-null  object \n",
      "dtypes: float64(2), int64(6), object(2)\n",
      "memory usage: 1.1+ MB\n"
     ]
    }
   ],
   "source": [
    "# To know data types and null number\n",
    "\n",
    "data.info()"
   ]
  },
  {
   "cell_type": "code",
   "execution_count": 13,
   "metadata": {},
   "outputs": [],
   "source": [
    "# Drop unnecessary columns and For further simplicity the target row should be the last\n",
    "\n",
    "data.drop([\"left\", \"promotion_last_5years\"], axis = 1, inplace = True)\n",
    "\n",
    "cols = data.columns.tolist()\n",
    "cols = cols[1:] + cols[:1]\n",
    "data = data[cols]"
   ]
  },
  {
   "cell_type": "code",
   "execution_count": 9,
   "metadata": {},
   "outputs": [
    {
     "name": "stdout",
     "output_type": "stream",
     "text": [
      "<class 'pandas.core.frame.DataFrame'>\n",
      "RangeIndex: 14999 entries, 0 to 14998\n",
      "Data columns (total 8 columns):\n",
      " #   Column                Non-Null Count  Dtype  \n",
      "---  ------                --------------  -----  \n",
      " 0   last_evaluation       14999 non-null  float64\n",
      " 1   number_project        14999 non-null  int64  \n",
      " 2   average_montly_hours  14999 non-null  int64  \n",
      " 3   time_spend_company    14999 non-null  int64  \n",
      " 4   Work_accident         14999 non-null  int64  \n",
      " 5   sales                 14999 non-null  object \n",
      " 6   salary                14999 non-null  object \n",
      " 7   satisfaction_level    14999 non-null  float64\n",
      "dtypes: float64(2), int64(4), object(2)\n",
      "memory usage: 937.6+ KB\n"
     ]
    }
   ],
   "source": [
    "# Check\n",
    "\n",
    "data.info()"
   ]
  },
  {
   "cell_type": "code",
   "execution_count": 14,
   "metadata": {},
   "outputs": [
    {
     "data": {
      "text/html": [
       "<div>\n",
       "<style scoped>\n",
       "    .dataframe tbody tr th:only-of-type {\n",
       "        vertical-align: middle;\n",
       "    }\n",
       "\n",
       "    .dataframe tbody tr th {\n",
       "        vertical-align: top;\n",
       "    }\n",
       "\n",
       "    .dataframe thead th {\n",
       "        text-align: right;\n",
       "    }\n",
       "</style>\n",
       "<table border=\"1\" class=\"dataframe\">\n",
       "  <thead>\n",
       "    <tr style=\"text-align: right;\">\n",
       "      <th></th>\n",
       "      <th>last_evaluation</th>\n",
       "      <th>number_project</th>\n",
       "      <th>average_montly_hours</th>\n",
       "      <th>time_spend_company</th>\n",
       "      <th>Work_accident</th>\n",
       "      <th>sales</th>\n",
       "      <th>salary</th>\n",
       "      <th>satisfaction_level</th>\n",
       "    </tr>\n",
       "  </thead>\n",
       "  <tbody>\n",
       "    <tr>\n",
       "      <th>6118</th>\n",
       "      <td>0.87</td>\n",
       "      <td>4</td>\n",
       "      <td>194</td>\n",
       "      <td>4</td>\n",
       "      <td>0</td>\n",
       "      <td>sales</td>\n",
       "      <td>low</td>\n",
       "      <td>0.15</td>\n",
       "    </tr>\n",
       "    <tr>\n",
       "      <th>13064</th>\n",
       "      <td>0.38</td>\n",
       "      <td>4</td>\n",
       "      <td>203</td>\n",
       "      <td>5</td>\n",
       "      <td>0</td>\n",
       "      <td>sales</td>\n",
       "      <td>low</td>\n",
       "      <td>0.58</td>\n",
       "    </tr>\n",
       "    <tr>\n",
       "      <th>14710</th>\n",
       "      <td>0.95</td>\n",
       "      <td>2</td>\n",
       "      <td>181</td>\n",
       "      <td>5</td>\n",
       "      <td>0</td>\n",
       "      <td>technical</td>\n",
       "      <td>medium</td>\n",
       "      <td>0.89</td>\n",
       "    </tr>\n",
       "    <tr>\n",
       "      <th>10564</th>\n",
       "      <td>0.89</td>\n",
       "      <td>5</td>\n",
       "      <td>182</td>\n",
       "      <td>2</td>\n",
       "      <td>0</td>\n",
       "      <td>hr</td>\n",
       "      <td>low</td>\n",
       "      <td>0.74</td>\n",
       "    </tr>\n",
       "    <tr>\n",
       "      <th>720</th>\n",
       "      <td>0.49</td>\n",
       "      <td>2</td>\n",
       "      <td>139</td>\n",
       "      <td>3</td>\n",
       "      <td>0</td>\n",
       "      <td>hr</td>\n",
       "      <td>low</td>\n",
       "      <td>0.42</td>\n",
       "    </tr>\n",
       "    <tr>\n",
       "      <th>...</th>\n",
       "      <td>...</td>\n",
       "      <td>...</td>\n",
       "      <td>...</td>\n",
       "      <td>...</td>\n",
       "      <td>...</td>\n",
       "      <td>...</td>\n",
       "      <td>...</td>\n",
       "      <td>...</td>\n",
       "    </tr>\n",
       "    <tr>\n",
       "      <th>10311</th>\n",
       "      <td>0.62</td>\n",
       "      <td>4</td>\n",
       "      <td>233</td>\n",
       "      <td>3</td>\n",
       "      <td>0</td>\n",
       "      <td>marketing</td>\n",
       "      <td>medium</td>\n",
       "      <td>0.61</td>\n",
       "    </tr>\n",
       "    <tr>\n",
       "      <th>4017</th>\n",
       "      <td>0.91</td>\n",
       "      <td>4</td>\n",
       "      <td>186</td>\n",
       "      <td>3</td>\n",
       "      <td>0</td>\n",
       "      <td>support</td>\n",
       "      <td>low</td>\n",
       "      <td>0.69</td>\n",
       "    </tr>\n",
       "    <tr>\n",
       "      <th>7767</th>\n",
       "      <td>0.65</td>\n",
       "      <td>4</td>\n",
       "      <td>134</td>\n",
       "      <td>3</td>\n",
       "      <td>0</td>\n",
       "      <td>technical</td>\n",
       "      <td>medium</td>\n",
       "      <td>0.68</td>\n",
       "    </tr>\n",
       "    <tr>\n",
       "      <th>2982</th>\n",
       "      <td>0.71</td>\n",
       "      <td>3</td>\n",
       "      <td>181</td>\n",
       "      <td>2</td>\n",
       "      <td>0</td>\n",
       "      <td>technical</td>\n",
       "      <td>low</td>\n",
       "      <td>0.64</td>\n",
       "    </tr>\n",
       "    <tr>\n",
       "      <th>14439</th>\n",
       "      <td>0.95</td>\n",
       "      <td>5</td>\n",
       "      <td>236</td>\n",
       "      <td>5</td>\n",
       "      <td>0</td>\n",
       "      <td>hr</td>\n",
       "      <td>low</td>\n",
       "      <td>0.85</td>\n",
       "    </tr>\n",
       "  </tbody>\n",
       "</table>\n",
       "<p>14999 rows × 8 columns</p>\n",
       "</div>"
      ],
      "text/plain": [
       "       last_evaluation  number_project  average_montly_hours  \\\n",
       "6118              0.87               4                   194   \n",
       "13064             0.38               4                   203   \n",
       "14710             0.95               2                   181   \n",
       "10564             0.89               5                   182   \n",
       "720               0.49               2                   139   \n",
       "...                ...             ...                   ...   \n",
       "10311             0.62               4                   233   \n",
       "4017              0.91               4                   186   \n",
       "7767              0.65               4                   134   \n",
       "2982              0.71               3                   181   \n",
       "14439             0.95               5                   236   \n",
       "\n",
       "       time_spend_company  Work_accident      sales  salary  \\\n",
       "6118                    4              0      sales     low   \n",
       "13064                   5              0      sales     low   \n",
       "14710                   5              0  technical  medium   \n",
       "10564                   2              0         hr     low   \n",
       "720                     3              0         hr     low   \n",
       "...                   ...            ...        ...     ...   \n",
       "10311                   3              0  marketing  medium   \n",
       "4017                    3              0    support     low   \n",
       "7767                    3              0  technical  medium   \n",
       "2982                    2              0  technical     low   \n",
       "14439                   5              0         hr     low   \n",
       "\n",
       "       satisfaction_level  \n",
       "6118                 0.15  \n",
       "13064                0.58  \n",
       "14710                0.89  \n",
       "10564                0.74  \n",
       "720                  0.42  \n",
       "...                   ...  \n",
       "10311                0.61  \n",
       "4017                 0.69  \n",
       "7767                 0.68  \n",
       "2982                 0.64  \n",
       "14439                0.85  \n",
       "\n",
       "[14999 rows x 8 columns]"
      ]
     },
     "execution_count": 14,
     "metadata": {},
     "output_type": "execute_result"
    }
   ],
   "source": [
    "df = shuffle(data, random_state = 777)\n",
    "df"
   ]
  },
  {
   "cell_type": "code",
   "execution_count": 15,
   "metadata": {},
   "outputs": [],
   "source": [
    "# Creating the target and feature lists\n",
    "\n",
    "target = \"satisfaction_level\"\n",
    "df_features = [col for col in df.columns if col != target]"
   ]
  },
  {
   "cell_type": "code",
   "execution_count": 16,
   "metadata": {},
   "outputs": [],
   "source": [
    "# Encoding the categorical features for some models\n",
    "\n",
    "categorical_columns = df.select_dtypes(include=['object']).columns.tolist()\n",
    "encoder = OneHotEncoder(sparse_output=False, handle_unknown=\"ignore\")\n",
    "one_hot_encoded = encoder.fit_transform(df[categorical_columns])\n",
    "one_hot_df = pd.DataFrame(one_hot_encoded, columns=encoder.get_feature_names_out(categorical_columns))\n",
    "df_encoded = pd.concat([df, one_hot_df], axis=1)\n",
    "df_encoded = df_encoded.drop(categorical_columns, axis=1)"
   ]
  },
  {
   "cell_type": "code",
   "execution_count": 17,
   "metadata": {},
   "outputs": [
    {
     "name": "stdout",
     "output_type": "stream",
     "text": [
      "<class 'pandas.core.frame.DataFrame'>\n",
      "Index: 14999 entries, 6118 to 14439\n",
      "Data columns (total 19 columns):\n",
      " #   Column                Non-Null Count  Dtype  \n",
      "---  ------                --------------  -----  \n",
      " 0   last_evaluation       14999 non-null  float64\n",
      " 1   number_project        14999 non-null  int64  \n",
      " 2   average_montly_hours  14999 non-null  int64  \n",
      " 3   time_spend_company    14999 non-null  int64  \n",
      " 4   Work_accident         14999 non-null  int64  \n",
      " 5   satisfaction_level    14999 non-null  float64\n",
      " 6   sales_IT              14999 non-null  float64\n",
      " 7   sales_RandD           14999 non-null  float64\n",
      " 8   sales_accounting      14999 non-null  float64\n",
      " 9   sales_hr              14999 non-null  float64\n",
      " 10  sales_management      14999 non-null  float64\n",
      " 11  sales_marketing       14999 non-null  float64\n",
      " 12  sales_product_mng     14999 non-null  float64\n",
      " 13  sales_sales           14999 non-null  float64\n",
      " 14  sales_support         14999 non-null  float64\n",
      " 15  sales_technical       14999 non-null  float64\n",
      " 16  salary_high           14999 non-null  float64\n",
      " 17  salary_low            14999 non-null  float64\n",
      " 18  salary_medium         14999 non-null  float64\n",
      "dtypes: float64(15), int64(4)\n",
      "memory usage: 2.3 MB\n"
     ]
    }
   ],
   "source": [
    "# Creating the target and feature lists for encoded dataset\n",
    "\n",
    "df_encoded_features = [col for col in df_encoded.columns if col != target]\n",
    "df_encoded.info()"
   ]
  },
  {
   "cell_type": "code",
   "execution_count": 18,
   "metadata": {},
   "outputs": [],
   "source": [
    "# Getting categorical feature indecies from main dataset\n",
    "\n",
    "def get_categorical_indicies(X):\n",
    "    cats = []\n",
    "    for col in X.columns:\n",
    "        if is_numeric_dtype(X[col]):\n",
    "            pass\n",
    "        else:\n",
    "            cats.append(col)\n",
    "    cat_indicies = []\n",
    "    for col in cats:\n",
    "        cat_indicies.append(X.columns.get_loc(col))\n",
    "    return cat_indicies\n",
    "\n",
    "\n",
    "categorical_indicies = get_categorical_indicies(df)"
   ]
  },
  {
   "cell_type": "markdown",
   "metadata": {},
   "source": [
    "# **Searching for the best model**"
   ]
  },
  {
   "cell_type": "code",
   "execution_count": 28,
   "metadata": {},
   "outputs": [
    {
     "name": "stderr",
     "output_type": "stream",
     "text": [
      "100%|██████████| 42/42 [01:36<00:00,  2.31s/it]"
     ]
    },
    {
     "name": "stdout",
     "output_type": "stream",
     "text": [
      "[LightGBM] [Info] Auto-choosing row-wise multi-threading, the overhead of testing was 0.000141 seconds.\n",
      "You can set `force_row_wise=true` to remove the overhead.\n",
      "And if memory is not enough, you can set `force_col_wise=true`.\n",
      "[LightGBM] [Info] Total Bins 327\n",
      "[LightGBM] [Info] Number of data points in the train set: 11249, number of used features: 18\n",
      "[LightGBM] [Info] Start training from score 0.611764\n"
     ]
    },
    {
     "name": "stderr",
     "output_type": "stream",
     "text": [
      "\n"
     ]
    }
   ],
   "source": [
    "# Building 40+ regressors\n",
    "\n",
    "X_train, X_test, y_train, y_test = train_test_split(df[df_features], df[target],\n",
    "                                                        test_size = 0.25,\n",
    "                                                        random_state = 777)\n",
    "\n",
    "reg = LazyRegressor(ignore_warnings = False)\n",
    "models, predictions = reg.fit(X_train, X_test, y_train, y_test)"
   ]
  },
  {
   "cell_type": "code",
   "execution_count": 29,
   "metadata": {},
   "outputs": [
    {
     "data": {
      "text/plain": [
       "Model\n",
       "RandomForestRegressor             0.1720\n",
       "ExtraTreesRegressor               0.1727\n",
       "LGBMRegressor                     0.1776\n",
       "HistGradientBoostingRegressor     0.1792\n",
       "BaggingRegressor                  0.1800\n",
       "XGBRegressor                      0.1805\n",
       "GradientBoostingRegressor         0.1817\n",
       "NuSVR                             0.1862\n",
       "SVR                               0.1863\n",
       "MLPRegressor                      0.1889\n",
       "AdaBoostRegressor                 0.1943\n",
       "KNeighborsRegressor               0.1961\n",
       "DecisionTreeRegressor             0.2263\n",
       "ExtraTreeRegressor                0.2299\n",
       "SGDRegressor                      0.2384\n",
       "OrthogonalMatchingPursuitCV       0.2385\n",
       "ElasticNetCV                      0.2385\n",
       "LassoLarsCV                       0.2385\n",
       "LarsCV                            0.2385\n",
       "LassoCV                           0.2385\n",
       "LassoLarsIC                       0.2385\n",
       "BayesianRidge                     0.2385\n",
       "RidgeCV                           0.2385\n",
       "Ridge                             0.2385\n",
       "Lars                              0.2385\n",
       "KernelRidge                       0.2385\n",
       "LinearRegression                  0.2386\n",
       "TransformedTargetRegressor        0.2386\n",
       "TweedieRegressor                  0.2416\n",
       "GammaRegressor                    0.2418\n",
       "PoissonRegressor                  0.2428\n",
       "HuberRegressor                    0.2431\n",
       "OrthogonalMatchingPursuit         0.2448\n",
       "ElasticNet                        0.2469\n",
       "DummyRegressor                    0.2469\n",
       "LassoLars                         0.2469\n",
       "Lasso                             0.2469\n",
       "QuantileRegressor                 0.2480\n",
       "LinearSVR                         0.2565\n",
       "RANSACRegressor                   0.3328\n",
       "PassiveAggressiveRegressor        0.3419\n",
       "GaussianProcessRegressor         31.5045\n",
       "Name: RMSE, dtype: object"
      ]
     },
     "execution_count": 29,
     "metadata": {},
     "output_type": "execute_result"
    }
   ],
   "source": [
    "# Searching for the best regressors\n",
    "\n",
    "predictions[\"RMSE\"].map(lambda x: '%.4f' % x)"
   ]
  },
  {
   "cell_type": "code",
   "execution_count": 32,
   "metadata": {},
   "outputs": [
    {
     "data": {
      "text/plain": [
       "0.17945812345786055"
      ]
     },
     "execution_count": 32,
     "metadata": {},
     "output_type": "execute_result"
    }
   ],
   "source": [
    "# Building CatBoostRegressor for comparison\n",
    "\n",
    "model = CatBoostRegressor(\n",
    "    cat_features = categorical_indicies,\n",
    ")\n",
    "\n",
    "\n",
    "model.fit(X_train, y_train, eval_set = [(X_test, y_test)],\n",
    "            verbose = False)\n",
    "preds = model.predict(X_test)\n",
    "rmse = root_mean_squared_error(y_test, preds)\n",
    "rmse"
   ]
  },
  {
   "cell_type": "code",
   "execution_count": 172,
   "metadata": {},
   "outputs": [
    {
     "data": {
      "text/plain": [
       "0.2394632204765995"
      ]
     },
     "execution_count": 172,
     "metadata": {},
     "output_type": "execute_result"
    }
   ],
   "source": [
    "# Building NeuralNetworkRegressor for comparison\n",
    "\n",
    "X_train_enc, X_test_enc, y_train_enc, y_test_enc = train_test_split(df_encoded[df_encoded_features], df_encoded[target],\n",
    "                                                        test_size = 0.25,\n",
    "                                                        random_state = 777)\n",
    "\n",
    "mlp = MLPRegressor()\n",
    "mlp.fit(X_train_enc, y_train_enc)\n",
    "rmse_mplp = root_mean_squared_error(y_test_enc, mlp.predict(X_test_enc))\n",
    "rmse_mplp"
   ]
  },
  {
   "cell_type": "markdown",
   "metadata": {},
   "source": [
    "# **RandomForest**"
   ]
  },
  {
   "cell_type": "code",
   "execution_count": 151,
   "metadata": {},
   "outputs": [
    {
     "name": "stderr",
     "output_type": "stream",
     "text": [
      "[I 2024-05-19 23:41:49,685] A new study created in memory with name: RFR\n",
      "[I 2024-05-19 23:42:05,204] Trial 0 finished with value: 0.17074813686866802 and parameters: {'scalers': None, 'n_estimators': 931, 'max_depth': 112, 'max_features': 'sqrt'}. Best is trial 0 with value: 0.17074813686866802.\n",
      "[I 2024-05-19 23:42:16,476] Trial 1 finished with value: 0.17090043803856325 and parameters: {'scalers': None, 'n_estimators': 645, 'max_depth': 106, 'max_features': 'sqrt'}. Best is trial 0 with value: 0.17074813686866802.\n",
      "[I 2024-05-19 23:42:54,998] Trial 2 finished with value: 0.17155806344955274 and parameters: {'scalers': None, 'n_estimators': 889, 'max_depth': 97, 'max_features': None}. Best is trial 0 with value: 0.17074813686866802.\n",
      "[I 2024-05-19 23:42:56,152] Trial 3 finished with value: 0.17127297651233828 and parameters: {'scalers': 'maxabs', 'n_estimators': 62, 'max_depth': 83, 'max_features': 'sqrt'}. Best is trial 0 with value: 0.17074813686866802.\n",
      "[I 2024-05-19 23:43:06,515] Trial 4 finished with value: 0.17186624640732465 and parameters: {'scalers': None, 'n_estimators': 232, 'max_depth': 88, 'max_features': None}. Best is trial 0 with value: 0.17074813686866802.\n",
      "[I 2024-05-19 23:43:07,776] Trial 5 finished with value: 0.17096445610622066 and parameters: {'scalers': 'standard', 'n_estimators': 75, 'max_depth': 68, 'max_features': 'sqrt'}. Best is trial 0 with value: 0.17074813686866802.\n",
      "[I 2024-05-19 23:43:19,754] Trial 6 finished with value: 0.1707290853190409 and parameters: {'scalers': 'minmax', 'n_estimators': 708, 'max_depth': 127, 'max_features': 'log2'}. Best is trial 6 with value: 0.1707290853190409.\n",
      "[I 2024-05-19 23:43:56,981] Trial 7 finished with value: 0.17152460302330608 and parameters: {'scalers': 'maxabs', 'n_estimators': 898, 'max_depth': 51, 'max_features': None}. Best is trial 6 with value: 0.1707290853190409.\n",
      "[I 2024-05-19 23:43:57,867] Trial 8 finished with value: 0.17142909246912236 and parameters: {'scalers': 'minmax', 'n_estimators': 57, 'max_depth': 119, 'max_features': 'sqrt'}. Best is trial 6 with value: 0.1707290853190409.\n",
      "[I 2024-05-19 23:44:12,872] Trial 9 finished with value: 0.17079535074777374 and parameters: {'scalers': 'robust', 'n_estimators': 967, 'max_depth': 147, 'max_features': 'log2'}. Best is trial 6 with value: 0.1707290853190409.\n",
      "[I 2024-05-19 23:44:21,247] Trial 10 finished with value: 0.17083957947431425 and parameters: {'scalers': 'minmax', 'n_estimators': 542, 'max_depth': 83, 'max_features': 'log2'}. Best is trial 6 with value: 0.1707290853190409.\n",
      "[I 2024-05-19 23:44:35,183] Trial 11 finished with value: 0.17062334715281377 and parameters: {'scalers': 'minmax', 'n_estimators': 916, 'max_depth': 118, 'max_features': 'sqrt'}. Best is trial 11 with value: 0.17062334715281377.\n",
      "[I 2024-05-19 23:45:06,930] Trial 12 finished with value: 0.17150766708419446 and parameters: {'scalers': 'minmax', 'n_estimators': 789, 'max_depth': 130, 'max_features': None}. Best is trial 11 with value: 0.17062334715281377.\n",
      "[I 2024-05-19 23:45:22,142] Trial 13 finished with value: 0.17064301344387206 and parameters: {'scalers': 'minmax', 'n_estimators': 986, 'max_depth': 136, 'max_features': 'sqrt'}. Best is trial 11 with value: 0.17062334715281377.\n",
      "[I 2024-05-19 23:45:36,972] Trial 14 finished with value: 0.17063558174883928 and parameters: {'scalers': 'minmax', 'n_estimators': 968, 'max_depth': 109, 'max_features': 'sqrt'}. Best is trial 11 with value: 0.17062334715281377.\n",
      "[I 2024-05-19 23:45:49,952] Trial 15 finished with value: 0.17062468950820942 and parameters: {'scalers': 'minmax', 'n_estimators': 841, 'max_depth': 79, 'max_features': 'sqrt'}. Best is trial 11 with value: 0.17062334715281377.\n",
      "[I 2024-05-19 23:45:55,698] Trial 16 finished with value: 0.17103711429030347 and parameters: {'scalers': 'minmax', 'n_estimators': 429, 'max_depth': 21, 'max_features': 'sqrt'}. Best is trial 11 with value: 0.17062334715281377.\n",
      "[I 2024-05-19 23:46:07,713] Trial 17 finished with value: 0.17069565877424717 and parameters: {'scalers': 'minmax', 'n_estimators': 778, 'max_depth': 66, 'max_features': 'sqrt'}. Best is trial 11 with value: 0.17062334715281377.\n",
      "[I 2024-05-19 23:46:22,670] Trial 18 finished with value: 0.17047930629861402 and parameters: {'scalers': None, 'n_estimators': 998, 'max_depth': 27, 'max_features': 'sqrt'}. Best is trial 18 with value: 0.17047930629861402.\n",
      "[I 2024-05-19 23:46:27,652] Trial 19 finished with value: 0.17879198784021114 and parameters: {'scalers': 'standard', 'n_estimators': 785, 'max_depth': 11, 'max_features': 'sqrt'}. Best is trial 18 with value: 0.17047930629861402.\n",
      "[I 2024-05-19 23:46:41,754] Trial 20 finished with value: 0.17057318847356034 and parameters: {'scalers': None, 'n_estimators': 879, 'max_depth': 33, 'max_features': 'sqrt'}. Best is trial 18 with value: 0.17047930629861402.\n",
      "[I 2024-05-19 23:46:55,995] Trial 21 finished with value: 0.17050679151563367 and parameters: {'scalers': None, 'n_estimators': 923, 'max_depth': 23, 'max_features': 'sqrt'}. Best is trial 18 with value: 0.17047930629861402.\n",
      "[I 2024-05-19 23:47:11,500] Trial 22 finished with value: 0.1707437392043175 and parameters: {'scalers': None, 'n_estimators': 986, 'max_depth': 37, 'max_features': 'sqrt'}. Best is trial 18 with value: 0.17047930629861402.\n",
      "[I 2024-05-19 23:47:18,599] Trial 23 finished with value: 0.17634003319035144 and parameters: {'scalers': None, 'n_estimators': 927, 'max_depth': 13, 'max_features': 'log2'}. Best is trial 18 with value: 0.17047930629861402.\n",
      "[I 2024-05-19 23:47:27,376] Trial 24 finished with value: 0.1709572464488998 and parameters: {'scalers': None, 'n_estimators': 575, 'max_depth': 40, 'max_features': 'sqrt'}. Best is trial 18 with value: 0.17047930629861402.\n",
      "[I 2024-05-19 23:47:37,059] Trial 25 finished with value: 0.17243610299060622 and parameters: {'scalers': 'maxabs', 'n_estimators': 878, 'max_depth': 17, 'max_features': 'sqrt'}. Best is trial 18 with value: 0.17047930629861402.\n",
      "[I 2024-05-19 23:47:48,084] Trial 26 finished with value: 0.17087496618012873 and parameters: {'scalers': 'robust', 'n_estimators': 728, 'max_depth': 41, 'max_features': 'sqrt'}. Best is trial 18 with value: 0.17047930629861402.\n",
      "[I 2024-05-19 23:48:25,091] Trial 27 finished with value: 0.17154231107186418 and parameters: {'scalers': None, 'n_estimators': 919, 'max_depth': 39, 'max_features': None}. Best is trial 18 with value: 0.17047930629861402.\n",
      "[I 2024-05-19 23:48:34,201] Trial 28 finished with value: 0.1741629899981338 and parameters: {'scalers': 'robust', 'n_estimators': 989, 'max_depth': 15, 'max_features': 'sqrt'}. Best is trial 18 with value: 0.17047930629861402.\n",
      "[I 2024-05-19 23:48:43,040] Trial 29 finished with value: 0.17106680899651394 and parameters: {'scalers': None, 'n_estimators': 699, 'max_depth': 20, 'max_features': 'sqrt'}. Best is trial 18 with value: 0.17047930629861402.\n",
      "[I 2024-05-19 23:48:57,272] Trial 30 finished with value: 0.1707088044839079 and parameters: {'scalers': 'standard', 'n_estimators': 928, 'max_depth': 66, 'max_features': 'log2'}. Best is trial 18 with value: 0.17047930629861402.\n",
      "[I 2024-05-19 23:49:02,990] Trial 31 finished with value: 0.1804082306807222 and parameters: {'scalers': None, 'n_estimators': 998, 'max_depth': 10, 'max_features': 'sqrt'}. Best is trial 18 with value: 0.17047930629861402.\n",
      "[I 2024-05-19 23:49:17,722] Trial 32 finished with value: 0.17060641854682887 and parameters: {'scalers': 'minmax', 'n_estimators': 964, 'max_depth': 30, 'max_features': 'sqrt'}. Best is trial 18 with value: 0.17047930629861402.\n",
      "[I 2024-05-19 23:49:28,942] Trial 33 finished with value: 0.17047199957999185 and parameters: {'scalers': 'minmax', 'n_estimators': 736, 'max_depth': 31, 'max_features': 'sqrt'}. Best is trial 33 with value: 0.17047199957999185.\n",
      "[I 2024-05-19 23:49:34,293] Trial 34 finished with value: 0.17637861355992107 and parameters: {'scalers': 'minmax', 'n_estimators': 705, 'max_depth': 13, 'max_features': 'log2'}. Best is trial 33 with value: 0.17047199957999185.\n",
      "[I 2024-05-19 23:49:38,715] Trial 35 finished with value: 0.17110685127012043 and parameters: {'scalers': 'robust', 'n_estimators': 284, 'max_depth': 130, 'max_features': 'log2'}. Best is trial 33 with value: 0.17047199957999185.\n",
      "[I 2024-05-19 23:49:53,695] Trial 36 finished with value: 0.17075267076563516 and parameters: {'scalers': 'standard', 'n_estimators': 988, 'max_depth': 43, 'max_features': 'sqrt'}. Best is trial 33 with value: 0.17047199957999185.\n",
      "[I 2024-05-19 23:50:24,474] Trial 37 finished with value: 0.17146256329061452 and parameters: {'scalers': 'minmax', 'n_estimators': 780, 'max_depth': 28, 'max_features': None}. Best is trial 33 with value: 0.17047199957999185.\n",
      "[I 2024-05-19 23:50:35,740] Trial 38 finished with value: 0.17075678665439104 and parameters: {'scalers': 'minmax', 'n_estimators': 741, 'max_depth': 34, 'max_features': 'sqrt'}. Best is trial 33 with value: 0.17047199957999185.\n",
      "[I 2024-05-19 23:50:49,023] Trial 39 finished with value: 0.17079986834811395 and parameters: {'scalers': None, 'n_estimators': 827, 'max_depth': 64, 'max_features': 'log2'}. Best is trial 33 with value: 0.17047199957999185.\n",
      "[I 2024-05-19 23:51:03,284] Trial 40 finished with value: 0.17079188958037173 and parameters: {'scalers': None, 'n_estimators': 845, 'max_depth': 68, 'max_features': 'sqrt'}. Best is trial 33 with value: 0.17047199957999185.\n",
      "[I 2024-05-19 23:51:16,966] Trial 41 finished with value: 0.17063963458015502 and parameters: {'scalers': 'minmax', 'n_estimators': 881, 'max_depth': 30, 'max_features': 'sqrt'}. Best is trial 33 with value: 0.17047199957999185.\n",
      "[I 2024-05-19 23:51:31,851] Trial 42 finished with value: 0.1708033790363846 and parameters: {'scalers': 'robust', 'n_estimators': 975, 'max_depth': 43, 'max_features': 'log2'}. Best is trial 33 with value: 0.17047199957999185.\n",
      "[I 2024-05-19 23:51:47,229] Trial 43 finished with value: 0.17062016819565828 and parameters: {'scalers': 'minmax', 'n_estimators': 998, 'max_depth': 39, 'max_features': 'sqrt'}. Best is trial 33 with value: 0.17047199957999185.\n",
      "[I 2024-05-19 23:52:03,761] Trial 44 finished with value: 0.17753886907526506 and parameters: {'scalers': 'standard', 'n_estimators': 952, 'max_depth': 11, 'max_features': None}. Best is trial 33 with value: 0.17047199957999185.\n",
      "[I 2024-05-19 23:52:15,183] Trial 45 finished with value: 0.17085329240138974 and parameters: {'scalers': 'maxabs', 'n_estimators': 744, 'max_depth': 60, 'max_features': 'sqrt'}. Best is trial 33 with value: 0.17047199957999185.\n",
      "[I 2024-05-19 23:52:23,010] Trial 46 finished with value: 0.17106859256379278 and parameters: {'scalers': 'robust', 'n_estimators': 512, 'max_depth': 148, 'max_features': 'sqrt'}. Best is trial 33 with value: 0.17047199957999185.\n",
      "[I 2024-05-19 23:52:31,818] Trial 47 finished with value: 0.1716836804563355 and parameters: {'scalers': 'standard', 'n_estimators': 218, 'max_depth': 48, 'max_features': None}. Best is trial 33 with value: 0.17047199957999185.\n",
      "[I 2024-05-19 23:52:43,901] Trial 48 finished with value: 0.17089527257321296 and parameters: {'scalers': None, 'n_estimators': 793, 'max_depth': 26, 'max_features': 'sqrt'}. Best is trial 33 with value: 0.17047199957999185.\n",
      "[I 2024-05-19 23:52:44,945] Trial 49 finished with value: 0.17115254017803833 and parameters: {'scalers': 'standard', 'n_estimators': 67, 'max_depth': 126, 'max_features': 'log2'}. Best is trial 33 with value: 0.17047199957999185.\n",
      "[I 2024-05-19 23:52:59,863] Trial 50 finished with value: 0.17060253792383542 and parameters: {'scalers': 'minmax', 'n_estimators': 961, 'max_depth': 30, 'max_features': 'log2'}. Best is trial 33 with value: 0.17047199957999185.\n",
      "[I 2024-05-19 23:53:11,895] Trial 51 finished with value: 0.1706602693717597 and parameters: {'scalers': 'minmax', 'n_estimators': 787, 'max_depth': 41, 'max_features': 'log2'}. Best is trial 33 with value: 0.17047199957999185.\n",
      "[I 2024-05-19 23:53:26,428] Trial 52 finished with value: 0.1707606993120258 and parameters: {'scalers': None, 'n_estimators': 944, 'max_depth': 51, 'max_features': 'sqrt'}. Best is trial 33 with value: 0.17047199957999185.\n",
      "[I 2024-05-19 23:53:41,654] Trial 53 finished with value: 0.1706215622139301 and parameters: {'scalers': 'minmax', 'n_estimators': 1000, 'max_depth': 56, 'max_features': 'log2'}. Best is trial 33 with value: 0.17047199957999185.\n",
      "[I 2024-05-19 23:53:56,087] Trial 54 finished with value: 0.17083011247592833 and parameters: {'scalers': 'maxabs', 'n_estimators': 931, 'max_depth': 32, 'max_features': 'log2'}. Best is trial 33 with value: 0.17047199957999185.\n",
      "[I 2024-05-19 23:53:58,234] Trial 55 finished with value: 0.17111023345723364 and parameters: {'scalers': None, 'n_estimators': 169, 'max_depth': 20, 'max_features': 'log2'}. Best is trial 33 with value: 0.17047199957999185.\n",
      "[I 2024-05-19 23:54:11,919] Trial 56 finished with value: 0.17071566731491192 and parameters: {'scalers': None, 'n_estimators': 900, 'max_depth': 30, 'max_features': 'sqrt'}. Best is trial 33 with value: 0.17047199957999185.\n",
      "[I 2024-05-19 23:54:32,666] Trial 57 finished with value: 0.1714987441498344 and parameters: {'scalers': 'minmax', 'n_estimators': 506, 'max_depth': 80, 'max_features': None}. Best is trial 33 with value: 0.17047199957999185.\n",
      "[I 2024-05-19 23:54:46,763] Trial 58 finished with value: 0.17050055770975545 and parameters: {'scalers': 'minmax', 'n_estimators': 937, 'max_depth': 28, 'max_features': 'log2'}. Best is trial 33 with value: 0.17047199957999185.\n",
      "[I 2024-05-19 23:54:59,681] Trial 59 finished with value: 0.1704672381827229 and parameters: {'scalers': 'minmax', 'n_estimators': 854, 'max_depth': 27, 'max_features': 'log2'}. Best is trial 59 with value: 0.1704672381827229.\n",
      "[I 2024-05-19 23:55:33,493] Trial 60 finished with value: 0.17147259208277302 and parameters: {'scalers': 'standard', 'n_estimators': 833, 'max_depth': 117, 'max_features': None}. Best is trial 59 with value: 0.1704672381827229.\n",
      "[I 2024-05-19 23:55:46,310] Trial 61 finished with value: 0.1707592452689522 and parameters: {'scalers': 'minmax', 'n_estimators': 957, 'max_depth': 21, 'max_features': 'log2'}. Best is trial 59 with value: 0.1704672381827229.\n",
      "[I 2024-05-19 23:55:59,838] Trial 62 finished with value: 0.1704099519756974 and parameters: {'scalers': 'minmax', 'n_estimators': 900, 'max_depth': 27, 'max_features': 'log2'}. Best is trial 62 with value: 0.1704099519756974.\n",
      "[I 2024-05-19 23:56:05,384] Trial 63 finished with value: 0.1719779846865551 and parameters: {'scalers': None, 'n_estimators': 135, 'max_depth': 146, 'max_features': None}. Best is trial 62 with value: 0.1704099519756974.\n",
      "[I 2024-05-19 23:56:14,683] Trial 64 finished with value: 0.1718838646354942 and parameters: {'scalers': 'standard', 'n_estimators': 797, 'max_depth': 18, 'max_features': 'log2'}. Best is trial 62 with value: 0.1704099519756974.\n",
      "[I 2024-05-19 23:56:19,406] Trial 65 finished with value: 0.1777570520446169 and parameters: {'scalers': 'robust', 'n_estimators': 668, 'max_depth': 12, 'max_features': 'log2'}. Best is trial 62 with value: 0.1704099519756974.\n",
      "[I 2024-05-19 23:56:58,605] Trial 66 finished with value: 0.17165165367689733 and parameters: {'scalers': 'robust', 'n_estimators': 958, 'max_depth': 51, 'max_features': None}. Best is trial 62 with value: 0.1704099519756974.\n",
      "[I 2024-05-19 23:57:12,976] Trial 67 finished with value: 0.1707346996062411 and parameters: {'scalers': 'maxabs', 'n_estimators': 920, 'max_depth': 117, 'max_features': 'log2'}. Best is trial 62 with value: 0.1704099519756974.\n",
      "[I 2024-05-19 23:57:16,591] Trial 68 finished with value: 0.18051153349754162 and parameters: {'scalers': 'minmax', 'n_estimators': 624, 'max_depth': 10, 'max_features': 'sqrt'}. Best is trial 62 with value: 0.1704099519756974.\n",
      "[I 2024-05-19 23:57:28,661] Trial 69 finished with value: 0.17048829873605156 and parameters: {'scalers': 'minmax', 'n_estimators': 833, 'max_depth': 24, 'max_features': 'log2'}. Best is trial 62 with value: 0.1704099519756974.\n",
      "[I 2024-05-19 23:57:36,348] Trial 70 finished with value: 0.17097466063225536 and parameters: {'scalers': 'standard', 'n_estimators': 506, 'max_depth': 73, 'max_features': 'sqrt'}. Best is trial 62 with value: 0.1704099519756974.\n",
      "[I 2024-05-19 23:57:49,709] Trial 71 finished with value: 0.170751626350964 and parameters: {'scalers': 'minmax', 'n_estimators': 807, 'max_depth': 32, 'max_features': 'log2'}. Best is trial 62 with value: 0.1704099519756974.\n",
      "[I 2024-05-19 23:57:58,776] Trial 72 finished with value: 0.1706589311970149 and parameters: {'scalers': None, 'n_estimators': 590, 'max_depth': 23, 'max_features': 'log2'}. Best is trial 62 with value: 0.1704099519756974.\n",
      "[I 2024-05-19 23:58:41,744] Trial 73 finished with value: 0.1713907802644928 and parameters: {'scalers': 'minmax', 'n_estimators': 974, 'max_depth': 65, 'max_features': None}. Best is trial 62 with value: 0.1704099519756974.\n",
      "[I 2024-05-19 23:58:52,823] Trial 74 finished with value: 0.17180371086159435 and parameters: {'scalers': 'minmax', 'n_estimators': 905, 'max_depth': 18, 'max_features': 'log2'}. Best is trial 62 with value: 0.1704099519756974.\n",
      "[I 2024-05-19 23:59:07,678] Trial 75 finished with value: 0.1707248528055322 and parameters: {'scalers': None, 'n_estimators': 896, 'max_depth': 37, 'max_features': 'log2'}. Best is trial 62 with value: 0.1704099519756974.\n",
      "[I 2024-05-19 23:59:33,661] Trial 76 finished with value: 0.17162147784066886 and parameters: {'scalers': None, 'n_estimators': 616, 'max_depth': 42, 'max_features': None}. Best is trial 62 with value: 0.1704099519756974.\n",
      "[I 2024-05-19 23:59:58,769] Trial 77 finished with value: 0.17380243880010582 and parameters: {'scalers': 'minmax', 'n_estimators': 905, 'max_depth': 16, 'max_features': None}. Best is trial 62 with value: 0.1704099519756974.\n",
      "[I 2024-05-20 00:00:10,347] Trial 78 finished with value: 0.17074578688408298 and parameters: {'scalers': 'minmax', 'n_estimators': 680, 'max_depth': 68, 'max_features': 'log2'}. Best is trial 62 with value: 0.1704099519756974.\n",
      "[I 2024-05-20 00:00:36,781] Trial 79 finished with value: 0.17176177610490032 and parameters: {'scalers': 'robust', 'n_estimators': 648, 'max_depth': 99, 'max_features': None}. Best is trial 62 with value: 0.1704099519756974.\n",
      "[I 2024-05-20 00:00:52,312] Trial 80 finished with value: 0.1715778797816163 and parameters: {'scalers': 'maxabs', 'n_estimators': 377, 'max_depth': 136, 'max_features': None}. Best is trial 62 with value: 0.1704099519756974.\n",
      "[I 2024-05-20 00:01:07,568] Trial 81 finished with value: 0.17057901873155143 and parameters: {'scalers': 'minmax', 'n_estimators': 975, 'max_depth': 34, 'max_features': 'log2'}. Best is trial 62 with value: 0.1704099519756974.\n",
      "[I 2024-05-20 00:01:23,378] Trial 82 finished with value: 0.17069150402540764 and parameters: {'scalers': None, 'n_estimators': 997, 'max_depth': 36, 'max_features': 'sqrt'}. Best is trial 62 with value: 0.1704099519756974.\n",
      "[I 2024-05-20 00:01:36,359] Trial 83 finished with value: 0.17053259276383215 and parameters: {'scalers': 'minmax', 'n_estimators': 788, 'max_depth': 25, 'max_features': 'log2'}. Best is trial 62 with value: 0.1704099519756974.\n",
      "[I 2024-05-20 00:01:45,983] Trial 84 finished with value: 0.17082390026948413 and parameters: {'scalers': 'minmax', 'n_estimators': 574, 'max_depth': 30, 'max_features': 'log2'}. Best is trial 62 with value: 0.1704099519756974.\n",
      "[I 2024-05-20 00:01:58,336] Trial 85 finished with value: 0.1706972947296857 and parameters: {'scalers': 'minmax', 'n_estimators': 766, 'max_depth': 41, 'max_features': 'log2'}. Best is trial 62 with value: 0.1704099519756974.\n",
      "[I 2024-05-20 00:02:05,349] Trial 86 finished with value: 0.17098245872010398 and parameters: {'scalers': 'maxabs', 'n_estimators': 449, 'max_depth': 65, 'max_features': 'log2'}. Best is trial 62 with value: 0.1704099519756974.\n",
      "[I 2024-05-20 00:02:08,668] Trial 87 finished with value: 0.1710632918478958 and parameters: {'scalers': 'robust', 'n_estimators': 213, 'max_depth': 74, 'max_features': 'log2'}. Best is trial 62 with value: 0.1704099519756974.\n",
      "[I 2024-05-20 00:02:13,442] Trial 88 finished with value: 0.18049716584039066 and parameters: {'scalers': 'minmax', 'n_estimators': 787, 'max_depth': 10, 'max_features': 'log2'}. Best is trial 62 with value: 0.1704099519756974.\n",
      "[I 2024-05-20 00:02:24,580] Trial 89 finished with value: 0.17067701906701097 and parameters: {'scalers': 'maxabs', 'n_estimators': 711, 'max_depth': 22, 'max_features': 'log2'}. Best is trial 62 with value: 0.1704099519756974.\n",
      "[I 2024-05-20 00:02:25,715] Trial 90 finished with value: 0.17108219287599682 and parameters: {'scalers': 'robust', 'n_estimators': 69, 'max_depth': 139, 'max_features': 'sqrt'}. Best is trial 62 with value: 0.1704099519756974.\n",
      "[I 2024-05-20 00:02:40,668] Trial 91 finished with value: 0.17060678498447307 and parameters: {'scalers': 'minmax', 'n_estimators': 882, 'max_depth': 54, 'max_features': 'log2'}. Best is trial 62 with value: 0.1704099519756974.\n",
      "[I 2024-05-20 00:02:57,241] Trial 92 finished with value: 0.17059757557036964 and parameters: {'scalers': 'minmax', 'n_estimators': 969, 'max_depth': 35, 'max_features': 'log2'}. Best is trial 62 with value: 0.1704099519756974.\n",
      "[I 2024-05-20 00:03:04,087] Trial 93 finished with value: 0.17764776757852518 and parameters: {'scalers': None, 'n_estimators': 937, 'max_depth': 12, 'max_features': 'sqrt'}. Best is trial 62 with value: 0.1704099519756974.\n",
      "[I 2024-05-20 00:03:20,827] Trial 94 finished with value: 0.1759946518760045 and parameters: {'scalers': None, 'n_estimators': 786, 'max_depth': 13, 'max_features': None}. Best is trial 62 with value: 0.1704099519756974.\n",
      "[I 2024-05-20 00:03:32,993] Trial 95 finished with value: 0.17047980667300788 and parameters: {'scalers': 'minmax', 'n_estimators': 785, 'max_depth': 33, 'max_features': 'log2'}. Best is trial 62 with value: 0.1704099519756974.\n",
      "[I 2024-05-20 00:03:43,774] Trial 96 finished with value: 0.17074244979929917 and parameters: {'scalers': 'minmax', 'n_estimators': 600, 'max_depth': 40, 'max_features': 'sqrt'}. Best is trial 62 with value: 0.1704099519756974.\n",
      "[I 2024-05-20 00:03:56,040] Trial 97 finished with value: 0.17059589787949975 and parameters: {'scalers': 'minmax', 'n_estimators': 728, 'max_depth': 29, 'max_features': 'log2'}. Best is trial 62 with value: 0.1704099519756974.\n",
      "[I 2024-05-20 00:04:07,460] Trial 98 finished with value: 0.1708938360789059 and parameters: {'scalers': 'robust', 'n_estimators': 720, 'max_depth': 48, 'max_features': 'log2'}. Best is trial 62 with value: 0.1704099519756974.\n",
      "[I 2024-05-20 00:04:17,498] Trial 99 finished with value: 0.17330371842948714 and parameters: {'scalers': 'robust', 'n_estimators': 969, 'max_depth': 16, 'max_features': 'log2'}. Best is trial 62 with value: 0.1704099519756974.\n",
      "[I 2024-05-20 00:04:27,219] Trial 100 finished with value: 0.1708763813573182 and parameters: {'scalers': 'standard', 'n_estimators': 610, 'max_depth': 127, 'max_features': 'sqrt'}. Best is trial 62 with value: 0.1704099519756974.\n",
      "[I 2024-05-20 00:04:42,976] Trial 101 finished with value: 0.1705043223446407 and parameters: {'scalers': 'standard', 'n_estimators': 936, 'max_depth': 33, 'max_features': 'log2'}. Best is trial 62 with value: 0.1704099519756974.\n",
      "[I 2024-05-20 00:04:55,433] Trial 102 finished with value: 0.17080954510703128 and parameters: {'scalers': 'standard', 'n_estimators': 774, 'max_depth': 67, 'max_features': 'log2'}. Best is trial 62 with value: 0.1704099519756974.\n",
      "[I 2024-05-20 00:05:07,945] Trial 103 finished with value: 0.17053740714103682 and parameters: {'scalers': 'minmax', 'n_estimators': 797, 'max_depth': 25, 'max_features': 'log2'}. Best is trial 62 with value: 0.1704099519756974.\n",
      "[I 2024-05-20 00:05:22,114] Trial 104 finished with value: 0.17070294746869494 and parameters: {'scalers': 'standard', 'n_estimators': 883, 'max_depth': 42, 'max_features': 'log2'}. Best is trial 62 with value: 0.1704099519756974.\n",
      "[I 2024-05-20 00:05:33,275] Trial 105 finished with value: 0.17230791683681365 and parameters: {'scalers': 'standard', 'n_estimators': 996, 'max_depth': 17, 'max_features': 'log2'}. Best is trial 62 with value: 0.1704099519756974.\n",
      "[I 2024-05-20 00:05:39,634] Trial 106 finished with value: 0.17085421068063367 and parameters: {'scalers': 'minmax', 'n_estimators': 400, 'max_depth': 142, 'max_features': 'log2'}. Best is trial 62 with value: 0.1704099519756974.\n",
      "[I 2024-05-20 00:05:50,194] Trial 107 finished with value: 0.17184542249018317 and parameters: {'scalers': 'maxabs', 'n_estimators': 246, 'max_depth': 80, 'max_features': None}. Best is trial 62 with value: 0.1704099519756974.\n",
      "[I 2024-05-20 00:05:53,997] Trial 108 finished with value: 0.1723669878750674 and parameters: {'scalers': 'maxabs', 'n_estimators': 94, 'max_depth': 30, 'max_features': None}. Best is trial 62 with value: 0.1704099519756974.\n",
      "[I 2024-05-20 00:06:09,600] Trial 109 finished with value: 0.17437254736978464 and parameters: {'scalers': 'minmax', 'n_estimators': 553, 'max_depth': 15, 'max_features': None}. Best is trial 62 with value: 0.1704099519756974.\n",
      "[I 2024-05-20 00:06:20,035] Trial 110 finished with value: 0.17090518479312633 and parameters: {'scalers': 'minmax', 'n_estimators': 802, 'max_depth': 20, 'max_features': 'log2'}. Best is trial 62 with value: 0.1704099519756974.\n",
      "[I 2024-05-20 00:06:36,269] Trial 111 finished with value: 0.17061880924998432 and parameters: {'scalers': 'maxabs', 'n_estimators': 978, 'max_depth': 29, 'max_features': 'sqrt'}. Best is trial 62 with value: 0.1704099519756974.\n",
      "[I 2024-05-20 00:06:48,025] Trial 112 finished with value: 0.17072086177030474 and parameters: {'scalers': None, 'n_estimators': 742, 'max_depth': 28, 'max_features': 'sqrt'}. Best is trial 62 with value: 0.1704099519756974.\n",
      "[I 2024-05-20 00:06:59,944] Trial 113 finished with value: 0.17082021333122288 and parameters: {'scalers': 'minmax', 'n_estimators': 763, 'max_depth': 32, 'max_features': 'log2'}. Best is trial 62 with value: 0.1704099519756974.\n",
      "[I 2024-05-20 00:07:11,742] Trial 114 finished with value: 0.1708359432976961 and parameters: {'scalers': 'standard', 'n_estimators': 756, 'max_depth': 40, 'max_features': 'sqrt'}. Best is trial 62 with value: 0.1704099519756974.\n",
      "[I 2024-05-20 00:07:38,075] Trial 115 finished with value: 0.17152271246854736 and parameters: {'scalers': 'standard', 'n_estimators': 631, 'max_depth': 32, 'max_features': None}. Best is trial 62 with value: 0.1704099519756974.\n",
      "[I 2024-05-20 00:07:51,066] Trial 116 finished with value: 0.17043081951376607 and parameters: {'scalers': 'minmax', 'n_estimators': 841, 'max_depth': 33, 'max_features': 'log2'}. Best is trial 62 with value: 0.1704099519756974.\n",
      "[I 2024-05-20 00:08:03,954] Trial 117 finished with value: 0.17064042403466792 and parameters: {'scalers': 'minmax', 'n_estimators': 826, 'max_depth': 40, 'max_features': 'log2'}. Best is trial 62 with value: 0.1704099519756974.\n",
      "[I 2024-05-20 00:08:16,834] Trial 118 finished with value: 0.17058551109774778 and parameters: {'scalers': 'minmax', 'n_estimators': 813, 'max_depth': 29, 'max_features': 'sqrt'}. Best is trial 62 with value: 0.1704099519756974.\n",
      "[I 2024-05-20 00:08:22,361] Trial 119 finished with value: 0.18045342237208128 and parameters: {'scalers': 'minmax', 'n_estimators': 903, 'max_depth': 10, 'max_features': 'log2'}. Best is trial 62 with value: 0.1704099519756974.\n",
      "[I 2024-05-20 00:08:35,844] Trial 120 finished with value: 0.17063956122697035 and parameters: {'scalers': 'minmax', 'n_estimators': 830, 'max_depth': 41, 'max_features': 'log2'}. Best is trial 62 with value: 0.1704099519756974.\n",
      "[I 2024-05-20 00:08:50,159] Trial 121 finished with value: 0.170673319369295 and parameters: {'scalers': None, 'n_estimators': 877, 'max_depth': 36, 'max_features': 'sqrt'}. Best is trial 62 with value: 0.1704099519756974.\n",
      "[I 2024-05-20 00:09:05,846] Trial 122 finished with value: 0.17074625376206298 and parameters: {'scalers': 'standard', 'n_estimators': 974, 'max_depth': 46, 'max_features': 'log2'}. Best is trial 62 with value: 0.1704099519756974.\n",
      "[I 2024-05-20 00:09:11,886] Trial 123 finished with value: 0.17642466745845137 and parameters: {'scalers': None, 'n_estimators': 760, 'max_depth': 13, 'max_features': 'log2'}. Best is trial 62 with value: 0.1704099519756974.\n",
      "[I 2024-05-20 00:09:27,098] Trial 124 finished with value: 0.17075532929437034 and parameters: {'scalers': 'robust', 'n_estimators': 934, 'max_depth': 69, 'max_features': 'sqrt'}. Best is trial 62 with value: 0.1704099519756974.\n",
      "[I 2024-05-20 00:09:39,194] Trial 125 finished with value: 0.17080585770465365 and parameters: {'scalers': 'maxabs', 'n_estimators': 781, 'max_depth': 71, 'max_features': 'log2'}. Best is trial 62 with value: 0.1704099519756974.\n",
      "[I 2024-05-20 00:09:47,991] Trial 126 finished with value: 0.1715425992258201 and parameters: {'scalers': 'minmax', 'n_estimators': 672, 'max_depth': 19, 'max_features': 'log2'}. Best is trial 62 with value: 0.1704099519756974.\n",
      "[I 2024-05-20 00:10:00,315] Trial 127 finished with value: 0.1707213755993629 and parameters: {'scalers': 'minmax', 'n_estimators': 749, 'max_depth': 40, 'max_features': 'log2'}. Best is trial 62 with value: 0.1704099519756974.\n",
      "[I 2024-05-20 00:10:14,219] Trial 128 finished with value: 0.1704976831646322 and parameters: {'scalers': 'minmax', 'n_estimators': 868, 'max_depth': 29, 'max_features': 'log2'}. Best is trial 62 with value: 0.1704099519756974.\n",
      "[I 2024-05-20 00:10:27,493] Trial 129 finished with value: 0.17041057958978814 and parameters: {'scalers': 'minmax', 'n_estimators': 893, 'max_depth': 25, 'max_features': 'log2'}. Best is trial 62 with value: 0.1704099519756974.\n",
      "[I 2024-05-20 00:10:57,696] Trial 130 finished with value: 0.17152114639833568 and parameters: {'scalers': 'minmax', 'n_estimators': 740, 'max_depth': 53, 'max_features': None}. Best is trial 62 with value: 0.1704099519756974.\n",
      "[I 2024-05-20 00:11:04,284] Trial 131 finished with value: 0.17099885288421754 and parameters: {'scalers': None, 'n_estimators': 424, 'max_depth': 89, 'max_features': 'sqrt'}. Best is trial 62 with value: 0.1704099519756974.\n",
      "[I 2024-05-20 00:11:09,711] Trial 132 finished with value: 0.18045275519482262 and parameters: {'scalers': 'maxabs', 'n_estimators': 961, 'max_depth': 10, 'max_features': 'log2'}. Best is trial 62 with value: 0.1704099519756974.\n",
      "[I 2024-05-20 00:11:22,593] Trial 133 finished with value: 0.170469679571962 and parameters: {'scalers': 'minmax', 'n_estimators': 879, 'max_depth': 25, 'max_features': 'log2'}. Best is trial 62 with value: 0.1704099519756974.\n",
      "[I 2024-05-20 00:11:29,709] Trial 134 finished with value: 0.17498864776524803 and parameters: {'scalers': 'minmax', 'n_estimators': 852, 'max_depth': 14, 'max_features': 'log2'}. Best is trial 62 with value: 0.1704099519756974.\n",
      "[I 2024-05-20 00:11:45,259] Trial 135 finished with value: 0.17058617075246815 and parameters: {'scalers': 'minmax', 'n_estimators': 989, 'max_depth': 34, 'max_features': 'log2'}. Best is trial 62 with value: 0.1704099519756974.\n",
      "[I 2024-05-20 00:12:01,504] Trial 136 finished with value: 0.1707350874691486 and parameters: {'scalers': 'minmax', 'n_estimators': 910, 'max_depth': 32, 'max_features': 'log2'}. Best is trial 62 with value: 0.1704099519756974.\n",
      "[I 2024-05-20 00:12:15,478] Trial 137 finished with value: 0.17039856088432723 and parameters: {'scalers': 'minmax', 'n_estimators': 890, 'max_depth': 27, 'max_features': 'log2'}. Best is trial 137 with value: 0.17039856088432723.\n",
      "[I 2024-05-20 00:12:22,169] Trial 138 finished with value: 0.1776194946723512 and parameters: {'scalers': 'minmax', 'n_estimators': 914, 'max_depth': 12, 'max_features': 'log2'}. Best is trial 137 with value: 0.17039856088432723.\n",
      "[I 2024-05-20 00:12:37,239] Trial 139 finished with value: 0.17059613436691334 and parameters: {'scalers': 'minmax', 'n_estimators': 960, 'max_depth': 38, 'max_features': 'log2'}. Best is trial 137 with value: 0.17039856088432723.\n",
      "[I 2024-05-20 00:12:49,514] Trial 140 finished with value: 0.17066051153071382 and parameters: {'scalers': 'standard', 'n_estimators': 805, 'max_depth': 29, 'max_features': 'log2'}. Best is trial 137 with value: 0.17039856088432723.\n",
      "[I 2024-05-20 00:13:02,136] Trial 141 finished with value: 0.17067196979240462 and parameters: {'scalers': 'minmax', 'n_estimators': 786, 'max_depth': 43, 'max_features': 'log2'}. Best is trial 137 with value: 0.17039856088432723.\n",
      "[I 2024-05-20 00:13:07,030] Trial 142 finished with value: 0.18050056192578515 and parameters: {'scalers': 'minmax', 'n_estimators': 820, 'max_depth': 10, 'max_features': 'sqrt'}. Best is trial 137 with value: 0.17039856088432723.\n",
      "[I 2024-05-20 00:13:20,041] Trial 143 finished with value: 0.1706509691756181 and parameters: {'scalers': 'minmax', 'n_estimators': 811, 'max_depth': 46, 'max_features': 'log2'}. Best is trial 137 with value: 0.17039856088432723.\n",
      "[I 2024-05-20 00:13:32,074] Trial 144 finished with value: 0.17059606774983918 and parameters: {'scalers': 'minmax', 'n_estimators': 843, 'max_depth': 22, 'max_features': 'log2'}. Best is trial 137 with value: 0.17039856088432723.\n",
      "[I 2024-05-20 00:13:39,783] Trial 145 finished with value: 0.17060891483893864 and parameters: {'scalers': 'robust', 'n_estimators': 477, 'max_depth': 31, 'max_features': 'sqrt'}. Best is trial 137 with value: 0.17039856088432723.\n",
      "[I 2024-05-20 00:13:54,152] Trial 146 finished with value: 0.17065216684860213 and parameters: {'scalers': None, 'n_estimators': 957, 'max_depth': 22, 'max_features': 'log2'}. Best is trial 137 with value: 0.17039856088432723.\n",
      "[I 2024-05-20 00:13:55,582] Trial 147 finished with value: 0.17122515505693947 and parameters: {'scalers': 'robust', 'n_estimators': 83, 'max_depth': 62, 'max_features': 'sqrt'}. Best is trial 137 with value: 0.17039856088432723.\n",
      "[I 2024-05-20 00:14:10,511] Trial 148 finished with value: 0.17063502930677038 and parameters: {'scalers': 'minmax', 'n_estimators': 886, 'max_depth': 30, 'max_features': 'log2'}. Best is trial 137 with value: 0.17039856088432723.\n",
      "[I 2024-05-20 00:14:17,444] Trial 149 finished with value: 0.17148141133899478 and parameters: {'scalers': 'minmax', 'n_estimators': 153, 'max_depth': 105, 'max_features': None}. Best is trial 137 with value: 0.17039856088432723.\n"
     ]
    },
    {
     "name": "stdout",
     "output_type": "stream",
     "text": [
      "Number of finished trials:  150\n",
      "Best trial: 137\n",
      "  Value:  0.17039856088432723\n",
      "  Params: \n",
      "    scalers: minmax\n",
      "    n_estimators: 890\n",
      "    max_depth: 27\n",
      "    max_features: log2\n"
     ]
    }
   ],
   "source": [
    "# RandomForest hyperparameters search using optuna\n",
    "\n",
    "def objective(trial):\n",
    "    # split data in training and test data\n",
    "    X_train, X_test, y_train, y_test = train_test_split(df_encoded[df_encoded_features], df_encoded[target],\n",
    "                                                        test_size=0.25,\n",
    "                                                        random_state=777)\n",
    "\n",
    "    # Instantiate scaler\n",
    "    scalers = trial.suggest_categorical(\"scalers\", ['minmax', 'standard', 'robust', 'maxabs', None])\n",
    "\n",
    "    if scalers == \"minmax\":\n",
    "        scaler = MinMaxScaler()\n",
    "    elif scalers == \"standard\":\n",
    "        scaler = StandardScaler()\n",
    "    elif scalers == 'maxabs':\n",
    "        scaler = MaxAbsScaler()\n",
    "    elif scalers == 'robust':\n",
    "        scaler = RobustScaler()\n",
    "    else:\n",
    "        scaler = None\n",
    "    \n",
    "\n",
    "    # Suggest hyperparameters\n",
    "    param = { \n",
    "        \"n_estimators\": trial.suggest_int('n_estimators', 50, 1000),\n",
    "        \"max_depth\": trial.suggest_int('max_depth', 10, 150),\n",
    "        'max_features': trial.suggest_categorical('max_features', ['sqrt', 'log2', None])\n",
    "   } \n",
    "     \n",
    "    rfr = RandomForestRegressor(\n",
    "        random_state = 777,\n",
    "        criterion = 'friedman_mse',\n",
    "        **param)\n",
    "\n",
    "    # Make a pipeline\n",
    "    pipeline = make_pipeline(scaler, rfr)\n",
    "    pipeline.fit(X_train, y_train)\n",
    "\n",
    "\n",
    "    # Predict and estimate results\n",
    "    preds = pipeline.predict(X_test)\n",
    "    rmse = root_mean_squared_error(y_test, preds)\n",
    "\n",
    "    return rmse\n",
    "\n",
    "# Opruna study creation for tuning\n",
    "sampler_rfr = TPESampler(multivariate = True, group = True, seed = 777)\n",
    "study_rfr = optuna.create_study(study_name = \"RFR\", sampler = sampler_rfr)\n",
    "study_rfr.optimize(objective, n_trials = 150)\n",
    "trial_rfr = study_rfr.best_trial\n",
    "params_rfr = study_rfr.best_trial.params\n",
    "\n",
    "# Printing the parameters\n",
    "print(\"Number of finished trials: \", len(study_rfr.trials))\n",
    "print(\"Best trial:\", trial_rfr.number)\n",
    "print(\"  Value: \", trial_rfr.value)\n",
    "print(\"  Params: \")\n",
    "\n",
    "for key, value in trial_rfr.params.items():\n",
    "    print(\"    {}: {}\".format(key, value))"
   ]
  },
  {
   "cell_type": "code",
   "execution_count": 152,
   "metadata": {},
   "outputs": [
    {
     "data": {
      "application/vnd.plotly.v1+json": {
       "config": {
        "plotlyServerURL": "https://plot.ly"
       },
       "data": [
        {
         "mode": "markers",
         "name": "Objective Value",
         "type": "scatter",
         "x": [
          0,
          1,
          2,
          3,
          4,
          5,
          6,
          7,
          8,
          9,
          10,
          11,
          12,
          13,
          14,
          15,
          16,
          17,
          18,
          19,
          20,
          21,
          22,
          23,
          24,
          25,
          26,
          27,
          28,
          29,
          30,
          31,
          32,
          33,
          34,
          35,
          36,
          37,
          38,
          39,
          40,
          41,
          42,
          43,
          44,
          45,
          46,
          47,
          48,
          49,
          50,
          51,
          52,
          53,
          54,
          55,
          56,
          57,
          58,
          59,
          60,
          61,
          62,
          63,
          64,
          65,
          66,
          67,
          68,
          69,
          70,
          71,
          72,
          73,
          74,
          75,
          76,
          77,
          78,
          79,
          80,
          81,
          82,
          83,
          84,
          85,
          86,
          87,
          88,
          89,
          90,
          91,
          92,
          93,
          94,
          95,
          96,
          97,
          98,
          99,
          100,
          101,
          102,
          103,
          104,
          105,
          106,
          107,
          108,
          109,
          110,
          111,
          112,
          113,
          114,
          115,
          116,
          117,
          118,
          119,
          120,
          121,
          122,
          123,
          124,
          125,
          126,
          127,
          128,
          129,
          130,
          131,
          132,
          133,
          134,
          135,
          136,
          137,
          138,
          139,
          140,
          141,
          142,
          143,
          144,
          145,
          146,
          147,
          148,
          149
         ],
         "y": [
          0.17074813686866802,
          0.17090043803856325,
          0.17155806344955274,
          0.17127297651233828,
          0.17186624640732465,
          0.17096445610622066,
          0.1707290853190409,
          0.17152460302330608,
          0.17142909246912236,
          0.17079535074777374,
          0.17083957947431425,
          0.17062334715281377,
          0.17150766708419446,
          0.17064301344387206,
          0.17063558174883928,
          0.17062468950820942,
          0.17103711429030347,
          0.17069565877424717,
          0.17047930629861402,
          0.17879198784021114,
          0.17057318847356034,
          0.17050679151563367,
          0.1707437392043175,
          0.17634003319035144,
          0.1709572464488998,
          0.17243610299060622,
          0.17087496618012873,
          0.17154231107186418,
          0.1741629899981338,
          0.17106680899651394,
          0.1707088044839079,
          0.1804082306807222,
          0.17060641854682887,
          0.17047199957999185,
          0.17637861355992107,
          0.17110685127012043,
          0.17075267076563516,
          0.17146256329061452,
          0.17075678665439104,
          0.17079986834811395,
          0.17079188958037173,
          0.17063963458015502,
          0.1708033790363846,
          0.17062016819565828,
          0.17753886907526506,
          0.17085329240138974,
          0.17106859256379278,
          0.1716836804563355,
          0.17089527257321296,
          0.17115254017803833,
          0.17060253792383542,
          0.1706602693717597,
          0.1707606993120258,
          0.1706215622139301,
          0.17083011247592833,
          0.17111023345723364,
          0.17071566731491192,
          0.1714987441498344,
          0.17050055770975545,
          0.1704672381827229,
          0.17147259208277302,
          0.1707592452689522,
          0.1704099519756974,
          0.1719779846865551,
          0.1718838646354942,
          0.1777570520446169,
          0.17165165367689733,
          0.1707346996062411,
          0.18051153349754162,
          0.17048829873605156,
          0.17097466063225536,
          0.170751626350964,
          0.1706589311970149,
          0.1713907802644928,
          0.17180371086159435,
          0.1707248528055322,
          0.17162147784066886,
          0.17380243880010582,
          0.17074578688408298,
          0.17176177610490032,
          0.1715778797816163,
          0.17057901873155143,
          0.17069150402540764,
          0.17053259276383215,
          0.17082390026948413,
          0.1706972947296857,
          0.17098245872010398,
          0.1710632918478958,
          0.18049716584039066,
          0.17067701906701097,
          0.17108219287599682,
          0.17060678498447307,
          0.17059757557036964,
          0.17764776757852518,
          0.1759946518760045,
          0.17047980667300788,
          0.17074244979929917,
          0.17059589787949975,
          0.1708938360789059,
          0.17330371842948714,
          0.1708763813573182,
          0.1705043223446407,
          0.17080954510703128,
          0.17053740714103682,
          0.17070294746869494,
          0.17230791683681365,
          0.17085421068063367,
          0.17184542249018317,
          0.1723669878750674,
          0.17437254736978464,
          0.17090518479312633,
          0.17061880924998432,
          0.17072086177030474,
          0.17082021333122288,
          0.1708359432976961,
          0.17152271246854736,
          0.17043081951376607,
          0.17064042403466792,
          0.17058551109774778,
          0.18045342237208128,
          0.17063956122697035,
          0.170673319369295,
          0.17074625376206298,
          0.17642466745845137,
          0.17075532929437034,
          0.17080585770465365,
          0.1715425992258201,
          0.1707213755993629,
          0.1704976831646322,
          0.17041057958978814,
          0.17152114639833568,
          0.17099885288421754,
          0.18045275519482262,
          0.170469679571962,
          0.17498864776524803,
          0.17058617075246815,
          0.1707350874691486,
          0.17039856088432723,
          0.1776194946723512,
          0.17059613436691334,
          0.17066051153071382,
          0.17067196979240462,
          0.18050056192578515,
          0.1706509691756181,
          0.17059606774983918,
          0.17060891483893864,
          0.17065216684860213,
          0.17122515505693947,
          0.17063502930677038,
          0.17148141133899478
         ]
        },
        {
         "mode": "lines",
         "name": "Best Value",
         "type": "scatter",
         "x": [
          0,
          1,
          2,
          3,
          4,
          5,
          6,
          7,
          8,
          9,
          10,
          11,
          12,
          13,
          14,
          15,
          16,
          17,
          18,
          19,
          20,
          21,
          22,
          23,
          24,
          25,
          26,
          27,
          28,
          29,
          30,
          31,
          32,
          33,
          34,
          35,
          36,
          37,
          38,
          39,
          40,
          41,
          42,
          43,
          44,
          45,
          46,
          47,
          48,
          49,
          50,
          51,
          52,
          53,
          54,
          55,
          56,
          57,
          58,
          59,
          60,
          61,
          62,
          63,
          64,
          65,
          66,
          67,
          68,
          69,
          70,
          71,
          72,
          73,
          74,
          75,
          76,
          77,
          78,
          79,
          80,
          81,
          82,
          83,
          84,
          85,
          86,
          87,
          88,
          89,
          90,
          91,
          92,
          93,
          94,
          95,
          96,
          97,
          98,
          99,
          100,
          101,
          102,
          103,
          104,
          105,
          106,
          107,
          108,
          109,
          110,
          111,
          112,
          113,
          114,
          115,
          116,
          117,
          118,
          119,
          120,
          121,
          122,
          123,
          124,
          125,
          126,
          127,
          128,
          129,
          130,
          131,
          132,
          133,
          134,
          135,
          136,
          137,
          138,
          139,
          140,
          141,
          142,
          143,
          144,
          145,
          146,
          147,
          148,
          149
         ],
         "y": [
          0.17074813686866802,
          0.17074813686866802,
          0.17074813686866802,
          0.17074813686866802,
          0.17074813686866802,
          0.17074813686866802,
          0.1707290853190409,
          0.1707290853190409,
          0.1707290853190409,
          0.1707290853190409,
          0.1707290853190409,
          0.17062334715281377,
          0.17062334715281377,
          0.17062334715281377,
          0.17062334715281377,
          0.17062334715281377,
          0.17062334715281377,
          0.17062334715281377,
          0.17047930629861402,
          0.17047930629861402,
          0.17047930629861402,
          0.17047930629861402,
          0.17047930629861402,
          0.17047930629861402,
          0.17047930629861402,
          0.17047930629861402,
          0.17047930629861402,
          0.17047930629861402,
          0.17047930629861402,
          0.17047930629861402,
          0.17047930629861402,
          0.17047930629861402,
          0.17047930629861402,
          0.17047199957999185,
          0.17047199957999185,
          0.17047199957999185,
          0.17047199957999185,
          0.17047199957999185,
          0.17047199957999185,
          0.17047199957999185,
          0.17047199957999185,
          0.17047199957999185,
          0.17047199957999185,
          0.17047199957999185,
          0.17047199957999185,
          0.17047199957999185,
          0.17047199957999185,
          0.17047199957999185,
          0.17047199957999185,
          0.17047199957999185,
          0.17047199957999185,
          0.17047199957999185,
          0.17047199957999185,
          0.17047199957999185,
          0.17047199957999185,
          0.17047199957999185,
          0.17047199957999185,
          0.17047199957999185,
          0.17047199957999185,
          0.1704672381827229,
          0.1704672381827229,
          0.1704672381827229,
          0.1704099519756974,
          0.1704099519756974,
          0.1704099519756974,
          0.1704099519756974,
          0.1704099519756974,
          0.1704099519756974,
          0.1704099519756974,
          0.1704099519756974,
          0.1704099519756974,
          0.1704099519756974,
          0.1704099519756974,
          0.1704099519756974,
          0.1704099519756974,
          0.1704099519756974,
          0.1704099519756974,
          0.1704099519756974,
          0.1704099519756974,
          0.1704099519756974,
          0.1704099519756974,
          0.1704099519756974,
          0.1704099519756974,
          0.1704099519756974,
          0.1704099519756974,
          0.1704099519756974,
          0.1704099519756974,
          0.1704099519756974,
          0.1704099519756974,
          0.1704099519756974,
          0.1704099519756974,
          0.1704099519756974,
          0.1704099519756974,
          0.1704099519756974,
          0.1704099519756974,
          0.1704099519756974,
          0.1704099519756974,
          0.1704099519756974,
          0.1704099519756974,
          0.1704099519756974,
          0.1704099519756974,
          0.1704099519756974,
          0.1704099519756974,
          0.1704099519756974,
          0.1704099519756974,
          0.1704099519756974,
          0.1704099519756974,
          0.1704099519756974,
          0.1704099519756974,
          0.1704099519756974,
          0.1704099519756974,
          0.1704099519756974,
          0.1704099519756974,
          0.1704099519756974,
          0.1704099519756974,
          0.1704099519756974,
          0.1704099519756974,
          0.1704099519756974,
          0.1704099519756974,
          0.1704099519756974,
          0.1704099519756974,
          0.1704099519756974,
          0.1704099519756974,
          0.1704099519756974,
          0.1704099519756974,
          0.1704099519756974,
          0.1704099519756974,
          0.1704099519756974,
          0.1704099519756974,
          0.1704099519756974,
          0.1704099519756974,
          0.1704099519756974,
          0.1704099519756974,
          0.1704099519756974,
          0.1704099519756974,
          0.1704099519756974,
          0.1704099519756974,
          0.17039856088432723,
          0.17039856088432723,
          0.17039856088432723,
          0.17039856088432723,
          0.17039856088432723,
          0.17039856088432723,
          0.17039856088432723,
          0.17039856088432723,
          0.17039856088432723,
          0.17039856088432723,
          0.17039856088432723,
          0.17039856088432723,
          0.17039856088432723
         ]
        },
        {
         "marker": {
          "color": "#cccccc"
         },
         "mode": "markers",
         "name": "Infeasible Trial",
         "showlegend": false,
         "type": "scatter",
         "x": [],
         "y": []
        }
       ],
       "layout": {
        "template": {
         "data": {
          "bar": [
           {
            "error_x": {
             "color": "#2a3f5f"
            },
            "error_y": {
             "color": "#2a3f5f"
            },
            "marker": {
             "line": {
              "color": "#E5ECF6",
              "width": 0.5
             },
             "pattern": {
              "fillmode": "overlay",
              "size": 10,
              "solidity": 0.2
             }
            },
            "type": "bar"
           }
          ],
          "barpolar": [
           {
            "marker": {
             "line": {
              "color": "#E5ECF6",
              "width": 0.5
             },
             "pattern": {
              "fillmode": "overlay",
              "size": 10,
              "solidity": 0.2
             }
            },
            "type": "barpolar"
           }
          ],
          "carpet": [
           {
            "aaxis": {
             "endlinecolor": "#2a3f5f",
             "gridcolor": "white",
             "linecolor": "white",
             "minorgridcolor": "white",
             "startlinecolor": "#2a3f5f"
            },
            "baxis": {
             "endlinecolor": "#2a3f5f",
             "gridcolor": "white",
             "linecolor": "white",
             "minorgridcolor": "white",
             "startlinecolor": "#2a3f5f"
            },
            "type": "carpet"
           }
          ],
          "choropleth": [
           {
            "colorbar": {
             "outlinewidth": 0,
             "ticks": ""
            },
            "type": "choropleth"
           }
          ],
          "contour": [
           {
            "colorbar": {
             "outlinewidth": 0,
             "ticks": ""
            },
            "colorscale": [
             [
              0,
              "#0d0887"
             ],
             [
              0.1111111111111111,
              "#46039f"
             ],
             [
              0.2222222222222222,
              "#7201a8"
             ],
             [
              0.3333333333333333,
              "#9c179e"
             ],
             [
              0.4444444444444444,
              "#bd3786"
             ],
             [
              0.5555555555555556,
              "#d8576b"
             ],
             [
              0.6666666666666666,
              "#ed7953"
             ],
             [
              0.7777777777777778,
              "#fb9f3a"
             ],
             [
              0.8888888888888888,
              "#fdca26"
             ],
             [
              1,
              "#f0f921"
             ]
            ],
            "type": "contour"
           }
          ],
          "contourcarpet": [
           {
            "colorbar": {
             "outlinewidth": 0,
             "ticks": ""
            },
            "type": "contourcarpet"
           }
          ],
          "heatmap": [
           {
            "colorbar": {
             "outlinewidth": 0,
             "ticks": ""
            },
            "colorscale": [
             [
              0,
              "#0d0887"
             ],
             [
              0.1111111111111111,
              "#46039f"
             ],
             [
              0.2222222222222222,
              "#7201a8"
             ],
             [
              0.3333333333333333,
              "#9c179e"
             ],
             [
              0.4444444444444444,
              "#bd3786"
             ],
             [
              0.5555555555555556,
              "#d8576b"
             ],
             [
              0.6666666666666666,
              "#ed7953"
             ],
             [
              0.7777777777777778,
              "#fb9f3a"
             ],
             [
              0.8888888888888888,
              "#fdca26"
             ],
             [
              1,
              "#f0f921"
             ]
            ],
            "type": "heatmap"
           }
          ],
          "heatmapgl": [
           {
            "colorbar": {
             "outlinewidth": 0,
             "ticks": ""
            },
            "colorscale": [
             [
              0,
              "#0d0887"
             ],
             [
              0.1111111111111111,
              "#46039f"
             ],
             [
              0.2222222222222222,
              "#7201a8"
             ],
             [
              0.3333333333333333,
              "#9c179e"
             ],
             [
              0.4444444444444444,
              "#bd3786"
             ],
             [
              0.5555555555555556,
              "#d8576b"
             ],
             [
              0.6666666666666666,
              "#ed7953"
             ],
             [
              0.7777777777777778,
              "#fb9f3a"
             ],
             [
              0.8888888888888888,
              "#fdca26"
             ],
             [
              1,
              "#f0f921"
             ]
            ],
            "type": "heatmapgl"
           }
          ],
          "histogram": [
           {
            "marker": {
             "pattern": {
              "fillmode": "overlay",
              "size": 10,
              "solidity": 0.2
             }
            },
            "type": "histogram"
           }
          ],
          "histogram2d": [
           {
            "colorbar": {
             "outlinewidth": 0,
             "ticks": ""
            },
            "colorscale": [
             [
              0,
              "#0d0887"
             ],
             [
              0.1111111111111111,
              "#46039f"
             ],
             [
              0.2222222222222222,
              "#7201a8"
             ],
             [
              0.3333333333333333,
              "#9c179e"
             ],
             [
              0.4444444444444444,
              "#bd3786"
             ],
             [
              0.5555555555555556,
              "#d8576b"
             ],
             [
              0.6666666666666666,
              "#ed7953"
             ],
             [
              0.7777777777777778,
              "#fb9f3a"
             ],
             [
              0.8888888888888888,
              "#fdca26"
             ],
             [
              1,
              "#f0f921"
             ]
            ],
            "type": "histogram2d"
           }
          ],
          "histogram2dcontour": [
           {
            "colorbar": {
             "outlinewidth": 0,
             "ticks": ""
            },
            "colorscale": [
             [
              0,
              "#0d0887"
             ],
             [
              0.1111111111111111,
              "#46039f"
             ],
             [
              0.2222222222222222,
              "#7201a8"
             ],
             [
              0.3333333333333333,
              "#9c179e"
             ],
             [
              0.4444444444444444,
              "#bd3786"
             ],
             [
              0.5555555555555556,
              "#d8576b"
             ],
             [
              0.6666666666666666,
              "#ed7953"
             ],
             [
              0.7777777777777778,
              "#fb9f3a"
             ],
             [
              0.8888888888888888,
              "#fdca26"
             ],
             [
              1,
              "#f0f921"
             ]
            ],
            "type": "histogram2dcontour"
           }
          ],
          "mesh3d": [
           {
            "colorbar": {
             "outlinewidth": 0,
             "ticks": ""
            },
            "type": "mesh3d"
           }
          ],
          "parcoords": [
           {
            "line": {
             "colorbar": {
              "outlinewidth": 0,
              "ticks": ""
             }
            },
            "type": "parcoords"
           }
          ],
          "pie": [
           {
            "automargin": true,
            "type": "pie"
           }
          ],
          "scatter": [
           {
            "fillpattern": {
             "fillmode": "overlay",
             "size": 10,
             "solidity": 0.2
            },
            "type": "scatter"
           }
          ],
          "scatter3d": [
           {
            "line": {
             "colorbar": {
              "outlinewidth": 0,
              "ticks": ""
             }
            },
            "marker": {
             "colorbar": {
              "outlinewidth": 0,
              "ticks": ""
             }
            },
            "type": "scatter3d"
           }
          ],
          "scattercarpet": [
           {
            "marker": {
             "colorbar": {
              "outlinewidth": 0,
              "ticks": ""
             }
            },
            "type": "scattercarpet"
           }
          ],
          "scattergeo": [
           {
            "marker": {
             "colorbar": {
              "outlinewidth": 0,
              "ticks": ""
             }
            },
            "type": "scattergeo"
           }
          ],
          "scattergl": [
           {
            "marker": {
             "colorbar": {
              "outlinewidth": 0,
              "ticks": ""
             }
            },
            "type": "scattergl"
           }
          ],
          "scattermapbox": [
           {
            "marker": {
             "colorbar": {
              "outlinewidth": 0,
              "ticks": ""
             }
            },
            "type": "scattermapbox"
           }
          ],
          "scatterpolar": [
           {
            "marker": {
             "colorbar": {
              "outlinewidth": 0,
              "ticks": ""
             }
            },
            "type": "scatterpolar"
           }
          ],
          "scatterpolargl": [
           {
            "marker": {
             "colorbar": {
              "outlinewidth": 0,
              "ticks": ""
             }
            },
            "type": "scatterpolargl"
           }
          ],
          "scatterternary": [
           {
            "marker": {
             "colorbar": {
              "outlinewidth": 0,
              "ticks": ""
             }
            },
            "type": "scatterternary"
           }
          ],
          "surface": [
           {
            "colorbar": {
             "outlinewidth": 0,
             "ticks": ""
            },
            "colorscale": [
             [
              0,
              "#0d0887"
             ],
             [
              0.1111111111111111,
              "#46039f"
             ],
             [
              0.2222222222222222,
              "#7201a8"
             ],
             [
              0.3333333333333333,
              "#9c179e"
             ],
             [
              0.4444444444444444,
              "#bd3786"
             ],
             [
              0.5555555555555556,
              "#d8576b"
             ],
             [
              0.6666666666666666,
              "#ed7953"
             ],
             [
              0.7777777777777778,
              "#fb9f3a"
             ],
             [
              0.8888888888888888,
              "#fdca26"
             ],
             [
              1,
              "#f0f921"
             ]
            ],
            "type": "surface"
           }
          ],
          "table": [
           {
            "cells": {
             "fill": {
              "color": "#EBF0F8"
             },
             "line": {
              "color": "white"
             }
            },
            "header": {
             "fill": {
              "color": "#C8D4E3"
             },
             "line": {
              "color": "white"
             }
            },
            "type": "table"
           }
          ]
         },
         "layout": {
          "annotationdefaults": {
           "arrowcolor": "#2a3f5f",
           "arrowhead": 0,
           "arrowwidth": 1
          },
          "autotypenumbers": "strict",
          "coloraxis": {
           "colorbar": {
            "outlinewidth": 0,
            "ticks": ""
           }
          },
          "colorscale": {
           "diverging": [
            [
             0,
             "#8e0152"
            ],
            [
             0.1,
             "#c51b7d"
            ],
            [
             0.2,
             "#de77ae"
            ],
            [
             0.3,
             "#f1b6da"
            ],
            [
             0.4,
             "#fde0ef"
            ],
            [
             0.5,
             "#f7f7f7"
            ],
            [
             0.6,
             "#e6f5d0"
            ],
            [
             0.7,
             "#b8e186"
            ],
            [
             0.8,
             "#7fbc41"
            ],
            [
             0.9,
             "#4d9221"
            ],
            [
             1,
             "#276419"
            ]
           ],
           "sequential": [
            [
             0,
             "#0d0887"
            ],
            [
             0.1111111111111111,
             "#46039f"
            ],
            [
             0.2222222222222222,
             "#7201a8"
            ],
            [
             0.3333333333333333,
             "#9c179e"
            ],
            [
             0.4444444444444444,
             "#bd3786"
            ],
            [
             0.5555555555555556,
             "#d8576b"
            ],
            [
             0.6666666666666666,
             "#ed7953"
            ],
            [
             0.7777777777777778,
             "#fb9f3a"
            ],
            [
             0.8888888888888888,
             "#fdca26"
            ],
            [
             1,
             "#f0f921"
            ]
           ],
           "sequentialminus": [
            [
             0,
             "#0d0887"
            ],
            [
             0.1111111111111111,
             "#46039f"
            ],
            [
             0.2222222222222222,
             "#7201a8"
            ],
            [
             0.3333333333333333,
             "#9c179e"
            ],
            [
             0.4444444444444444,
             "#bd3786"
            ],
            [
             0.5555555555555556,
             "#d8576b"
            ],
            [
             0.6666666666666666,
             "#ed7953"
            ],
            [
             0.7777777777777778,
             "#fb9f3a"
            ],
            [
             0.8888888888888888,
             "#fdca26"
            ],
            [
             1,
             "#f0f921"
            ]
           ]
          },
          "colorway": [
           "#636efa",
           "#EF553B",
           "#00cc96",
           "#ab63fa",
           "#FFA15A",
           "#19d3f3",
           "#FF6692",
           "#B6E880",
           "#FF97FF",
           "#FECB52"
          ],
          "font": {
           "color": "#2a3f5f"
          },
          "geo": {
           "bgcolor": "white",
           "lakecolor": "white",
           "landcolor": "#E5ECF6",
           "showlakes": true,
           "showland": true,
           "subunitcolor": "white"
          },
          "hoverlabel": {
           "align": "left"
          },
          "hovermode": "closest",
          "mapbox": {
           "style": "light"
          },
          "paper_bgcolor": "white",
          "plot_bgcolor": "#E5ECF6",
          "polar": {
           "angularaxis": {
            "gridcolor": "white",
            "linecolor": "white",
            "ticks": ""
           },
           "bgcolor": "#E5ECF6",
           "radialaxis": {
            "gridcolor": "white",
            "linecolor": "white",
            "ticks": ""
           }
          },
          "scene": {
           "xaxis": {
            "backgroundcolor": "#E5ECF6",
            "gridcolor": "white",
            "gridwidth": 2,
            "linecolor": "white",
            "showbackground": true,
            "ticks": "",
            "zerolinecolor": "white"
           },
           "yaxis": {
            "backgroundcolor": "#E5ECF6",
            "gridcolor": "white",
            "gridwidth": 2,
            "linecolor": "white",
            "showbackground": true,
            "ticks": "",
            "zerolinecolor": "white"
           },
           "zaxis": {
            "backgroundcolor": "#E5ECF6",
            "gridcolor": "white",
            "gridwidth": 2,
            "linecolor": "white",
            "showbackground": true,
            "ticks": "",
            "zerolinecolor": "white"
           }
          },
          "shapedefaults": {
           "line": {
            "color": "#2a3f5f"
           }
          },
          "ternary": {
           "aaxis": {
            "gridcolor": "white",
            "linecolor": "white",
            "ticks": ""
           },
           "baxis": {
            "gridcolor": "white",
            "linecolor": "white",
            "ticks": ""
           },
           "bgcolor": "#E5ECF6",
           "caxis": {
            "gridcolor": "white",
            "linecolor": "white",
            "ticks": ""
           }
          },
          "title": {
           "x": 0.05
          },
          "xaxis": {
           "automargin": true,
           "gridcolor": "white",
           "linecolor": "white",
           "ticks": "",
           "title": {
            "standoff": 15
           },
           "zerolinecolor": "white",
           "zerolinewidth": 2
          },
          "yaxis": {
           "automargin": true,
           "gridcolor": "white",
           "linecolor": "white",
           "ticks": "",
           "title": {
            "standoff": 15
           },
           "zerolinecolor": "white",
           "zerolinewidth": 2
          }
         }
        },
        "title": {
         "text": "Optimization History Plot"
        },
        "xaxis": {
         "title": {
          "text": "Trial"
         }
        },
        "yaxis": {
         "title": {
          "text": "Objective Value"
         }
        }
       }
      }
     },
     "metadata": {},
     "output_type": "display_data"
    }
   ],
   "source": [
    "# History of optimization\n",
    "\n",
    "optuna.visualization.plot_optimization_history(study_rfr)"
   ]
  },
  {
   "cell_type": "code",
   "execution_count": 153,
   "metadata": {},
   "outputs": [
    {
     "data": {
      "application/vnd.plotly.v1+json": {
       "config": {
        "plotlyServerURL": "https://plot.ly"
       },
       "data": [
        {
         "marker": {
          "color": [
           0,
           1,
           2,
           3,
           4,
           5,
           6,
           7,
           8,
           9,
           10,
           11,
           12,
           13,
           14,
           15,
           16,
           17,
           18,
           19,
           20,
           21,
           22,
           23,
           24,
           25,
           26,
           27,
           28,
           29,
           30,
           31,
           32,
           33,
           34,
           35,
           36,
           37,
           38,
           39,
           40,
           41,
           42,
           43,
           44,
           45,
           46,
           47,
           48,
           49,
           50,
           51,
           52,
           53,
           54,
           55,
           56,
           57,
           58,
           59,
           60,
           61,
           62,
           63,
           64,
           65,
           66,
           67,
           68,
           69,
           70,
           71,
           72,
           73,
           74,
           75,
           76,
           77,
           78,
           79,
           80,
           81,
           82,
           83,
           84,
           85,
           86,
           87,
           88,
           89,
           90,
           91,
           92,
           93,
           94,
           95,
           96,
           97,
           98,
           99,
           100,
           101,
           102,
           103,
           104,
           105,
           106,
           107,
           108,
           109,
           110,
           111,
           112,
           113,
           114,
           115,
           116,
           117,
           118,
           119,
           120,
           121,
           122,
           123,
           124,
           125,
           126,
           127,
           128,
           129,
           130,
           131,
           132,
           133,
           134,
           135,
           136,
           137,
           138,
           139,
           140,
           141,
           142,
           143,
           144,
           145,
           146,
           147,
           148,
           149
          ],
          "colorbar": {
           "title": {
            "text": "Trial"
           },
           "x": 1,
           "xpad": 40
          },
          "colorscale": [
           [
            0,
            "rgb(247,251,255)"
           ],
           [
            0.125,
            "rgb(222,235,247)"
           ],
           [
            0.25,
            "rgb(198,219,239)"
           ],
           [
            0.375,
            "rgb(158,202,225)"
           ],
           [
            0.5,
            "rgb(107,174,214)"
           ],
           [
            0.625,
            "rgb(66,146,198)"
           ],
           [
            0.75,
            "rgb(33,113,181)"
           ],
           [
            0.875,
            "rgb(8,81,156)"
           ],
           [
            1,
            "rgb(8,48,107)"
           ]
          ],
          "line": {
           "color": "Grey",
           "width": 0.5
          },
          "showscale": true
         },
         "mode": "markers",
         "name": "Feasible Trial",
         "showlegend": false,
         "type": "scatter",
         "x": [
          112,
          106,
          97,
          83,
          88,
          68,
          127,
          51,
          119,
          147,
          83,
          118,
          130,
          136,
          109,
          79,
          21,
          66,
          27,
          11,
          33,
          23,
          37,
          13,
          40,
          17,
          41,
          39,
          15,
          20,
          66,
          10,
          30,
          31,
          13,
          130,
          43,
          28,
          34,
          64,
          68,
          30,
          43,
          39,
          11,
          60,
          148,
          48,
          26,
          126,
          30,
          41,
          51,
          56,
          32,
          20,
          30,
          80,
          28,
          27,
          117,
          21,
          27,
          146,
          18,
          12,
          51,
          117,
          10,
          24,
          73,
          32,
          23,
          65,
          18,
          37,
          42,
          16,
          68,
          99,
          136,
          34,
          36,
          25,
          30,
          41,
          65,
          74,
          10,
          22,
          139,
          54,
          35,
          12,
          13,
          33,
          40,
          29,
          48,
          16,
          127,
          33,
          67,
          25,
          42,
          17,
          142,
          80,
          30,
          15,
          20,
          29,
          28,
          32,
          40,
          32,
          33,
          40,
          29,
          10,
          41,
          36,
          46,
          13,
          69,
          71,
          19,
          40,
          29,
          25,
          53,
          89,
          10,
          25,
          14,
          34,
          32,
          27,
          12,
          38,
          29,
          43,
          10,
          46,
          22,
          31,
          22,
          62,
          30,
          105
         ],
         "xaxis": "x",
         "y": [
          0.17074813686866802,
          0.17090043803856325,
          0.17155806344955274,
          0.17127297651233828,
          0.17186624640732465,
          0.17096445610622066,
          0.1707290853190409,
          0.17152460302330608,
          0.17142909246912236,
          0.17079535074777374,
          0.17083957947431425,
          0.17062334715281377,
          0.17150766708419446,
          0.17064301344387206,
          0.17063558174883928,
          0.17062468950820942,
          0.17103711429030347,
          0.17069565877424717,
          0.17047930629861402,
          0.17879198784021114,
          0.17057318847356034,
          0.17050679151563367,
          0.1707437392043175,
          0.17634003319035144,
          0.1709572464488998,
          0.17243610299060622,
          0.17087496618012873,
          0.17154231107186418,
          0.1741629899981338,
          0.17106680899651394,
          0.1707088044839079,
          0.1804082306807222,
          0.17060641854682887,
          0.17047199957999185,
          0.17637861355992107,
          0.17110685127012043,
          0.17075267076563516,
          0.17146256329061452,
          0.17075678665439104,
          0.17079986834811395,
          0.17079188958037173,
          0.17063963458015502,
          0.1708033790363846,
          0.17062016819565828,
          0.17753886907526506,
          0.17085329240138974,
          0.17106859256379278,
          0.1716836804563355,
          0.17089527257321296,
          0.17115254017803833,
          0.17060253792383542,
          0.1706602693717597,
          0.1707606993120258,
          0.1706215622139301,
          0.17083011247592833,
          0.17111023345723364,
          0.17071566731491192,
          0.1714987441498344,
          0.17050055770975545,
          0.1704672381827229,
          0.17147259208277302,
          0.1707592452689522,
          0.1704099519756974,
          0.1719779846865551,
          0.1718838646354942,
          0.1777570520446169,
          0.17165165367689733,
          0.1707346996062411,
          0.18051153349754162,
          0.17048829873605156,
          0.17097466063225536,
          0.170751626350964,
          0.1706589311970149,
          0.1713907802644928,
          0.17180371086159435,
          0.1707248528055322,
          0.17162147784066886,
          0.17380243880010582,
          0.17074578688408298,
          0.17176177610490032,
          0.1715778797816163,
          0.17057901873155143,
          0.17069150402540764,
          0.17053259276383215,
          0.17082390026948413,
          0.1706972947296857,
          0.17098245872010398,
          0.1710632918478958,
          0.18049716584039066,
          0.17067701906701097,
          0.17108219287599682,
          0.17060678498447307,
          0.17059757557036964,
          0.17764776757852518,
          0.1759946518760045,
          0.17047980667300788,
          0.17074244979929917,
          0.17059589787949975,
          0.1708938360789059,
          0.17330371842948714,
          0.1708763813573182,
          0.1705043223446407,
          0.17080954510703128,
          0.17053740714103682,
          0.17070294746869494,
          0.17230791683681365,
          0.17085421068063367,
          0.17184542249018317,
          0.1723669878750674,
          0.17437254736978464,
          0.17090518479312633,
          0.17061880924998432,
          0.17072086177030474,
          0.17082021333122288,
          0.1708359432976961,
          0.17152271246854736,
          0.17043081951376607,
          0.17064042403466792,
          0.17058551109774778,
          0.18045342237208128,
          0.17063956122697035,
          0.170673319369295,
          0.17074625376206298,
          0.17642466745845137,
          0.17075532929437034,
          0.17080585770465365,
          0.1715425992258201,
          0.1707213755993629,
          0.1704976831646322,
          0.17041057958978814,
          0.17152114639833568,
          0.17099885288421754,
          0.18045275519482262,
          0.170469679571962,
          0.17498864776524803,
          0.17058617075246815,
          0.1707350874691486,
          0.17039856088432723,
          0.1776194946723512,
          0.17059613436691334,
          0.17066051153071382,
          0.17067196979240462,
          0.18050056192578515,
          0.1706509691756181,
          0.17059606774983918,
          0.17060891483893864,
          0.17065216684860213,
          0.17122515505693947,
          0.17063502930677038,
          0.17148141133899478
         ],
         "yaxis": "y"
        },
        {
         "marker": {
          "color": [
           0,
           1,
           2,
           3,
           4,
           5,
           6,
           7,
           8,
           9,
           10,
           11,
           12,
           13,
           14,
           15,
           16,
           17,
           18,
           19,
           20,
           21,
           22,
           23,
           24,
           25,
           26,
           27,
           28,
           29,
           30,
           31,
           32,
           33,
           34,
           35,
           36,
           37,
           38,
           39,
           40,
           41,
           42,
           43,
           44,
           45,
           46,
           47,
           48,
           49,
           50,
           51,
           52,
           53,
           54,
           55,
           56,
           57,
           58,
           59,
           60,
           61,
           62,
           63,
           64,
           65,
           66,
           67,
           68,
           69,
           70,
           71,
           72,
           73,
           74,
           75,
           76,
           77,
           78,
           79,
           80,
           81,
           82,
           83,
           84,
           85,
           86,
           87,
           88,
           89,
           90,
           91,
           92,
           93,
           94,
           95,
           96,
           97,
           98,
           99,
           100,
           101,
           102,
           103,
           104,
           105,
           106,
           107,
           108,
           109,
           110,
           111,
           112,
           113,
           114,
           115,
           116,
           117,
           118,
           119,
           120,
           121,
           122,
           123,
           124,
           125,
           126,
           127,
           128,
           129,
           130,
           131,
           132,
           133,
           134,
           135,
           136,
           137,
           138,
           139,
           140,
           141,
           142,
           143,
           144,
           145,
           146,
           147,
           148,
           149
          ],
          "colorbar": {
           "title": {
            "text": "Trial"
           },
           "x": 1,
           "xpad": 40
          },
          "colorscale": [
           [
            0,
            "rgb(247,251,255)"
           ],
           [
            0.125,
            "rgb(222,235,247)"
           ],
           [
            0.25,
            "rgb(198,219,239)"
           ],
           [
            0.375,
            "rgb(158,202,225)"
           ],
           [
            0.5,
            "rgb(107,174,214)"
           ],
           [
            0.625,
            "rgb(66,146,198)"
           ],
           [
            0.75,
            "rgb(33,113,181)"
           ],
           [
            0.875,
            "rgb(8,81,156)"
           ],
           [
            1,
            "rgb(8,48,107)"
           ]
          ],
          "line": {
           "color": "Grey",
           "width": 0.5
          },
          "showscale": false
         },
         "mode": "markers",
         "name": "Feasible Trial",
         "showlegend": false,
         "type": "scatter",
         "x": [
          "sqrt",
          "sqrt",
          null,
          "sqrt",
          null,
          "sqrt",
          "log2",
          null,
          "sqrt",
          "log2",
          "log2",
          "sqrt",
          null,
          "sqrt",
          "sqrt",
          "sqrt",
          "sqrt",
          "sqrt",
          "sqrt",
          "sqrt",
          "sqrt",
          "sqrt",
          "sqrt",
          "log2",
          "sqrt",
          "sqrt",
          "sqrt",
          null,
          "sqrt",
          "sqrt",
          "log2",
          "sqrt",
          "sqrt",
          "sqrt",
          "log2",
          "log2",
          "sqrt",
          null,
          "sqrt",
          "log2",
          "sqrt",
          "sqrt",
          "log2",
          "sqrt",
          null,
          "sqrt",
          "sqrt",
          null,
          "sqrt",
          "log2",
          "log2",
          "log2",
          "sqrt",
          "log2",
          "log2",
          "log2",
          "sqrt",
          null,
          "log2",
          "log2",
          null,
          "log2",
          "log2",
          null,
          "log2",
          "log2",
          null,
          "log2",
          "sqrt",
          "log2",
          "sqrt",
          "log2",
          "log2",
          null,
          "log2",
          "log2",
          null,
          null,
          "log2",
          null,
          null,
          "log2",
          "sqrt",
          "log2",
          "log2",
          "log2",
          "log2",
          "log2",
          "log2",
          "log2",
          "sqrt",
          "log2",
          "log2",
          "sqrt",
          null,
          "log2",
          "sqrt",
          "log2",
          "log2",
          "log2",
          "sqrt",
          "log2",
          "log2",
          "log2",
          "log2",
          "log2",
          "log2",
          null,
          null,
          null,
          "log2",
          "sqrt",
          "sqrt",
          "log2",
          "sqrt",
          null,
          "log2",
          "log2",
          "sqrt",
          "log2",
          "log2",
          "sqrt",
          "log2",
          "log2",
          "sqrt",
          "log2",
          "log2",
          "log2",
          "log2",
          "log2",
          null,
          "sqrt",
          "log2",
          "log2",
          "log2",
          "log2",
          "log2",
          "log2",
          "log2",
          "log2",
          "log2",
          "log2",
          "sqrt",
          "log2",
          "log2",
          "sqrt",
          "log2",
          "sqrt",
          "log2",
          null
         ],
         "xaxis": "x2",
         "y": [
          0.17074813686866802,
          0.17090043803856325,
          0.17155806344955274,
          0.17127297651233828,
          0.17186624640732465,
          0.17096445610622066,
          0.1707290853190409,
          0.17152460302330608,
          0.17142909246912236,
          0.17079535074777374,
          0.17083957947431425,
          0.17062334715281377,
          0.17150766708419446,
          0.17064301344387206,
          0.17063558174883928,
          0.17062468950820942,
          0.17103711429030347,
          0.17069565877424717,
          0.17047930629861402,
          0.17879198784021114,
          0.17057318847356034,
          0.17050679151563367,
          0.1707437392043175,
          0.17634003319035144,
          0.1709572464488998,
          0.17243610299060622,
          0.17087496618012873,
          0.17154231107186418,
          0.1741629899981338,
          0.17106680899651394,
          0.1707088044839079,
          0.1804082306807222,
          0.17060641854682887,
          0.17047199957999185,
          0.17637861355992107,
          0.17110685127012043,
          0.17075267076563516,
          0.17146256329061452,
          0.17075678665439104,
          0.17079986834811395,
          0.17079188958037173,
          0.17063963458015502,
          0.1708033790363846,
          0.17062016819565828,
          0.17753886907526506,
          0.17085329240138974,
          0.17106859256379278,
          0.1716836804563355,
          0.17089527257321296,
          0.17115254017803833,
          0.17060253792383542,
          0.1706602693717597,
          0.1707606993120258,
          0.1706215622139301,
          0.17083011247592833,
          0.17111023345723364,
          0.17071566731491192,
          0.1714987441498344,
          0.17050055770975545,
          0.1704672381827229,
          0.17147259208277302,
          0.1707592452689522,
          0.1704099519756974,
          0.1719779846865551,
          0.1718838646354942,
          0.1777570520446169,
          0.17165165367689733,
          0.1707346996062411,
          0.18051153349754162,
          0.17048829873605156,
          0.17097466063225536,
          0.170751626350964,
          0.1706589311970149,
          0.1713907802644928,
          0.17180371086159435,
          0.1707248528055322,
          0.17162147784066886,
          0.17380243880010582,
          0.17074578688408298,
          0.17176177610490032,
          0.1715778797816163,
          0.17057901873155143,
          0.17069150402540764,
          0.17053259276383215,
          0.17082390026948413,
          0.1706972947296857,
          0.17098245872010398,
          0.1710632918478958,
          0.18049716584039066,
          0.17067701906701097,
          0.17108219287599682,
          0.17060678498447307,
          0.17059757557036964,
          0.17764776757852518,
          0.1759946518760045,
          0.17047980667300788,
          0.17074244979929917,
          0.17059589787949975,
          0.1708938360789059,
          0.17330371842948714,
          0.1708763813573182,
          0.1705043223446407,
          0.17080954510703128,
          0.17053740714103682,
          0.17070294746869494,
          0.17230791683681365,
          0.17085421068063367,
          0.17184542249018317,
          0.1723669878750674,
          0.17437254736978464,
          0.17090518479312633,
          0.17061880924998432,
          0.17072086177030474,
          0.17082021333122288,
          0.1708359432976961,
          0.17152271246854736,
          0.17043081951376607,
          0.17064042403466792,
          0.17058551109774778,
          0.18045342237208128,
          0.17063956122697035,
          0.170673319369295,
          0.17074625376206298,
          0.17642466745845137,
          0.17075532929437034,
          0.17080585770465365,
          0.1715425992258201,
          0.1707213755993629,
          0.1704976831646322,
          0.17041057958978814,
          0.17152114639833568,
          0.17099885288421754,
          0.18045275519482262,
          0.170469679571962,
          0.17498864776524803,
          0.17058617075246815,
          0.1707350874691486,
          0.17039856088432723,
          0.1776194946723512,
          0.17059613436691334,
          0.17066051153071382,
          0.17067196979240462,
          0.18050056192578515,
          0.1706509691756181,
          0.17059606774983918,
          0.17060891483893864,
          0.17065216684860213,
          0.17122515505693947,
          0.17063502930677038,
          0.17148141133899478
         ],
         "yaxis": "y2"
        },
        {
         "marker": {
          "color": [
           0,
           1,
           2,
           3,
           4,
           5,
           6,
           7,
           8,
           9,
           10,
           11,
           12,
           13,
           14,
           15,
           16,
           17,
           18,
           19,
           20,
           21,
           22,
           23,
           24,
           25,
           26,
           27,
           28,
           29,
           30,
           31,
           32,
           33,
           34,
           35,
           36,
           37,
           38,
           39,
           40,
           41,
           42,
           43,
           44,
           45,
           46,
           47,
           48,
           49,
           50,
           51,
           52,
           53,
           54,
           55,
           56,
           57,
           58,
           59,
           60,
           61,
           62,
           63,
           64,
           65,
           66,
           67,
           68,
           69,
           70,
           71,
           72,
           73,
           74,
           75,
           76,
           77,
           78,
           79,
           80,
           81,
           82,
           83,
           84,
           85,
           86,
           87,
           88,
           89,
           90,
           91,
           92,
           93,
           94,
           95,
           96,
           97,
           98,
           99,
           100,
           101,
           102,
           103,
           104,
           105,
           106,
           107,
           108,
           109,
           110,
           111,
           112,
           113,
           114,
           115,
           116,
           117,
           118,
           119,
           120,
           121,
           122,
           123,
           124,
           125,
           126,
           127,
           128,
           129,
           130,
           131,
           132,
           133,
           134,
           135,
           136,
           137,
           138,
           139,
           140,
           141,
           142,
           143,
           144,
           145,
           146,
           147,
           148,
           149
          ],
          "colorbar": {
           "title": {
            "text": "Trial"
           },
           "x": 1,
           "xpad": 40
          },
          "colorscale": [
           [
            0,
            "rgb(247,251,255)"
           ],
           [
            0.125,
            "rgb(222,235,247)"
           ],
           [
            0.25,
            "rgb(198,219,239)"
           ],
           [
            0.375,
            "rgb(158,202,225)"
           ],
           [
            0.5,
            "rgb(107,174,214)"
           ],
           [
            0.625,
            "rgb(66,146,198)"
           ],
           [
            0.75,
            "rgb(33,113,181)"
           ],
           [
            0.875,
            "rgb(8,81,156)"
           ],
           [
            1,
            "rgb(8,48,107)"
           ]
          ],
          "line": {
           "color": "Grey",
           "width": 0.5
          },
          "showscale": false
         },
         "mode": "markers",
         "name": "Feasible Trial",
         "showlegend": false,
         "type": "scatter",
         "x": [
          931,
          645,
          889,
          62,
          232,
          75,
          708,
          898,
          57,
          967,
          542,
          916,
          789,
          986,
          968,
          841,
          429,
          778,
          998,
          785,
          879,
          923,
          986,
          927,
          575,
          878,
          728,
          919,
          989,
          699,
          928,
          998,
          964,
          736,
          705,
          284,
          988,
          780,
          741,
          827,
          845,
          881,
          975,
          998,
          952,
          744,
          512,
          218,
          793,
          67,
          961,
          787,
          944,
          1000,
          931,
          169,
          900,
          506,
          937,
          854,
          833,
          957,
          900,
          135,
          797,
          668,
          958,
          920,
          624,
          833,
          506,
          807,
          590,
          974,
          905,
          896,
          616,
          905,
          680,
          648,
          377,
          975,
          997,
          788,
          574,
          766,
          449,
          213,
          787,
          711,
          69,
          882,
          969,
          937,
          786,
          785,
          600,
          728,
          720,
          969,
          610,
          936,
          774,
          797,
          883,
          996,
          400,
          246,
          94,
          553,
          802,
          978,
          742,
          763,
          756,
          631,
          841,
          826,
          813,
          903,
          830,
          877,
          974,
          760,
          934,
          781,
          672,
          749,
          868,
          893,
          740,
          424,
          961,
          879,
          852,
          989,
          910,
          890,
          914,
          960,
          805,
          786,
          820,
          811,
          843,
          477,
          957,
          83,
          886,
          153
         ],
         "xaxis": "x3",
         "y": [
          0.17074813686866802,
          0.17090043803856325,
          0.17155806344955274,
          0.17127297651233828,
          0.17186624640732465,
          0.17096445610622066,
          0.1707290853190409,
          0.17152460302330608,
          0.17142909246912236,
          0.17079535074777374,
          0.17083957947431425,
          0.17062334715281377,
          0.17150766708419446,
          0.17064301344387206,
          0.17063558174883928,
          0.17062468950820942,
          0.17103711429030347,
          0.17069565877424717,
          0.17047930629861402,
          0.17879198784021114,
          0.17057318847356034,
          0.17050679151563367,
          0.1707437392043175,
          0.17634003319035144,
          0.1709572464488998,
          0.17243610299060622,
          0.17087496618012873,
          0.17154231107186418,
          0.1741629899981338,
          0.17106680899651394,
          0.1707088044839079,
          0.1804082306807222,
          0.17060641854682887,
          0.17047199957999185,
          0.17637861355992107,
          0.17110685127012043,
          0.17075267076563516,
          0.17146256329061452,
          0.17075678665439104,
          0.17079986834811395,
          0.17079188958037173,
          0.17063963458015502,
          0.1708033790363846,
          0.17062016819565828,
          0.17753886907526506,
          0.17085329240138974,
          0.17106859256379278,
          0.1716836804563355,
          0.17089527257321296,
          0.17115254017803833,
          0.17060253792383542,
          0.1706602693717597,
          0.1707606993120258,
          0.1706215622139301,
          0.17083011247592833,
          0.17111023345723364,
          0.17071566731491192,
          0.1714987441498344,
          0.17050055770975545,
          0.1704672381827229,
          0.17147259208277302,
          0.1707592452689522,
          0.1704099519756974,
          0.1719779846865551,
          0.1718838646354942,
          0.1777570520446169,
          0.17165165367689733,
          0.1707346996062411,
          0.18051153349754162,
          0.17048829873605156,
          0.17097466063225536,
          0.170751626350964,
          0.1706589311970149,
          0.1713907802644928,
          0.17180371086159435,
          0.1707248528055322,
          0.17162147784066886,
          0.17380243880010582,
          0.17074578688408298,
          0.17176177610490032,
          0.1715778797816163,
          0.17057901873155143,
          0.17069150402540764,
          0.17053259276383215,
          0.17082390026948413,
          0.1706972947296857,
          0.17098245872010398,
          0.1710632918478958,
          0.18049716584039066,
          0.17067701906701097,
          0.17108219287599682,
          0.17060678498447307,
          0.17059757557036964,
          0.17764776757852518,
          0.1759946518760045,
          0.17047980667300788,
          0.17074244979929917,
          0.17059589787949975,
          0.1708938360789059,
          0.17330371842948714,
          0.1708763813573182,
          0.1705043223446407,
          0.17080954510703128,
          0.17053740714103682,
          0.17070294746869494,
          0.17230791683681365,
          0.17085421068063367,
          0.17184542249018317,
          0.1723669878750674,
          0.17437254736978464,
          0.17090518479312633,
          0.17061880924998432,
          0.17072086177030474,
          0.17082021333122288,
          0.1708359432976961,
          0.17152271246854736,
          0.17043081951376607,
          0.17064042403466792,
          0.17058551109774778,
          0.18045342237208128,
          0.17063956122697035,
          0.170673319369295,
          0.17074625376206298,
          0.17642466745845137,
          0.17075532929437034,
          0.17080585770465365,
          0.1715425992258201,
          0.1707213755993629,
          0.1704976831646322,
          0.17041057958978814,
          0.17152114639833568,
          0.17099885288421754,
          0.18045275519482262,
          0.170469679571962,
          0.17498864776524803,
          0.17058617075246815,
          0.1707350874691486,
          0.17039856088432723,
          0.1776194946723512,
          0.17059613436691334,
          0.17066051153071382,
          0.17067196979240462,
          0.18050056192578515,
          0.1706509691756181,
          0.17059606774983918,
          0.17060891483893864,
          0.17065216684860213,
          0.17122515505693947,
          0.17063502930677038,
          0.17148141133899478
         ],
         "yaxis": "y3"
        },
        {
         "marker": {
          "color": [
           0,
           1,
           2,
           3,
           4,
           5,
           6,
           7,
           8,
           9,
           10,
           11,
           12,
           13,
           14,
           15,
           16,
           17,
           18,
           19,
           20,
           21,
           22,
           23,
           24,
           25,
           26,
           27,
           28,
           29,
           30,
           31,
           32,
           33,
           34,
           35,
           36,
           37,
           38,
           39,
           40,
           41,
           42,
           43,
           44,
           45,
           46,
           47,
           48,
           49,
           50,
           51,
           52,
           53,
           54,
           55,
           56,
           57,
           58,
           59,
           60,
           61,
           62,
           63,
           64,
           65,
           66,
           67,
           68,
           69,
           70,
           71,
           72,
           73,
           74,
           75,
           76,
           77,
           78,
           79,
           80,
           81,
           82,
           83,
           84,
           85,
           86,
           87,
           88,
           89,
           90,
           91,
           92,
           93,
           94,
           95,
           96,
           97,
           98,
           99,
           100,
           101,
           102,
           103,
           104,
           105,
           106,
           107,
           108,
           109,
           110,
           111,
           112,
           113,
           114,
           115,
           116,
           117,
           118,
           119,
           120,
           121,
           122,
           123,
           124,
           125,
           126,
           127,
           128,
           129,
           130,
           131,
           132,
           133,
           134,
           135,
           136,
           137,
           138,
           139,
           140,
           141,
           142,
           143,
           144,
           145,
           146,
           147,
           148,
           149
          ],
          "colorbar": {
           "title": {
            "text": "Trial"
           },
           "x": 1,
           "xpad": 40
          },
          "colorscale": [
           [
            0,
            "rgb(247,251,255)"
           ],
           [
            0.125,
            "rgb(222,235,247)"
           ],
           [
            0.25,
            "rgb(198,219,239)"
           ],
           [
            0.375,
            "rgb(158,202,225)"
           ],
           [
            0.5,
            "rgb(107,174,214)"
           ],
           [
            0.625,
            "rgb(66,146,198)"
           ],
           [
            0.75,
            "rgb(33,113,181)"
           ],
           [
            0.875,
            "rgb(8,81,156)"
           ],
           [
            1,
            "rgb(8,48,107)"
           ]
          ],
          "line": {
           "color": "Grey",
           "width": 0.5
          },
          "showscale": false
         },
         "mode": "markers",
         "name": "Feasible Trial",
         "showlegend": false,
         "type": "scatter",
         "x": [
          null,
          null,
          null,
          "maxabs",
          null,
          "standard",
          "minmax",
          "maxabs",
          "minmax",
          "robust",
          "minmax",
          "minmax",
          "minmax",
          "minmax",
          "minmax",
          "minmax",
          "minmax",
          "minmax",
          null,
          "standard",
          null,
          null,
          null,
          null,
          null,
          "maxabs",
          "robust",
          null,
          "robust",
          null,
          "standard",
          null,
          "minmax",
          "minmax",
          "minmax",
          "robust",
          "standard",
          "minmax",
          "minmax",
          null,
          null,
          "minmax",
          "robust",
          "minmax",
          "standard",
          "maxabs",
          "robust",
          "standard",
          null,
          "standard",
          "minmax",
          "minmax",
          null,
          "minmax",
          "maxabs",
          null,
          null,
          "minmax",
          "minmax",
          "minmax",
          "standard",
          "minmax",
          "minmax",
          null,
          "standard",
          "robust",
          "robust",
          "maxabs",
          "minmax",
          "minmax",
          "standard",
          "minmax",
          null,
          "minmax",
          "minmax",
          null,
          null,
          "minmax",
          "minmax",
          "robust",
          "maxabs",
          "minmax",
          null,
          "minmax",
          "minmax",
          "minmax",
          "maxabs",
          "robust",
          "minmax",
          "maxabs",
          "robust",
          "minmax",
          "minmax",
          null,
          null,
          "minmax",
          "minmax",
          "minmax",
          "robust",
          "robust",
          "standard",
          "standard",
          "standard",
          "minmax",
          "standard",
          "standard",
          "minmax",
          "maxabs",
          "maxabs",
          "minmax",
          "minmax",
          "maxabs",
          null,
          "minmax",
          "standard",
          "standard",
          "minmax",
          "minmax",
          "minmax",
          "minmax",
          "minmax",
          null,
          "standard",
          null,
          "robust",
          "maxabs",
          "minmax",
          "minmax",
          "minmax",
          "minmax",
          "minmax",
          null,
          "maxabs",
          "minmax",
          "minmax",
          "minmax",
          "minmax",
          "minmax",
          "minmax",
          "minmax",
          "standard",
          "minmax",
          "minmax",
          "minmax",
          "minmax",
          "robust",
          null,
          "robust",
          "minmax",
          "minmax"
         ],
         "xaxis": "x4",
         "y": [
          0.17074813686866802,
          0.17090043803856325,
          0.17155806344955274,
          0.17127297651233828,
          0.17186624640732465,
          0.17096445610622066,
          0.1707290853190409,
          0.17152460302330608,
          0.17142909246912236,
          0.17079535074777374,
          0.17083957947431425,
          0.17062334715281377,
          0.17150766708419446,
          0.17064301344387206,
          0.17063558174883928,
          0.17062468950820942,
          0.17103711429030347,
          0.17069565877424717,
          0.17047930629861402,
          0.17879198784021114,
          0.17057318847356034,
          0.17050679151563367,
          0.1707437392043175,
          0.17634003319035144,
          0.1709572464488998,
          0.17243610299060622,
          0.17087496618012873,
          0.17154231107186418,
          0.1741629899981338,
          0.17106680899651394,
          0.1707088044839079,
          0.1804082306807222,
          0.17060641854682887,
          0.17047199957999185,
          0.17637861355992107,
          0.17110685127012043,
          0.17075267076563516,
          0.17146256329061452,
          0.17075678665439104,
          0.17079986834811395,
          0.17079188958037173,
          0.17063963458015502,
          0.1708033790363846,
          0.17062016819565828,
          0.17753886907526506,
          0.17085329240138974,
          0.17106859256379278,
          0.1716836804563355,
          0.17089527257321296,
          0.17115254017803833,
          0.17060253792383542,
          0.1706602693717597,
          0.1707606993120258,
          0.1706215622139301,
          0.17083011247592833,
          0.17111023345723364,
          0.17071566731491192,
          0.1714987441498344,
          0.17050055770975545,
          0.1704672381827229,
          0.17147259208277302,
          0.1707592452689522,
          0.1704099519756974,
          0.1719779846865551,
          0.1718838646354942,
          0.1777570520446169,
          0.17165165367689733,
          0.1707346996062411,
          0.18051153349754162,
          0.17048829873605156,
          0.17097466063225536,
          0.170751626350964,
          0.1706589311970149,
          0.1713907802644928,
          0.17180371086159435,
          0.1707248528055322,
          0.17162147784066886,
          0.17380243880010582,
          0.17074578688408298,
          0.17176177610490032,
          0.1715778797816163,
          0.17057901873155143,
          0.17069150402540764,
          0.17053259276383215,
          0.17082390026948413,
          0.1706972947296857,
          0.17098245872010398,
          0.1710632918478958,
          0.18049716584039066,
          0.17067701906701097,
          0.17108219287599682,
          0.17060678498447307,
          0.17059757557036964,
          0.17764776757852518,
          0.1759946518760045,
          0.17047980667300788,
          0.17074244979929917,
          0.17059589787949975,
          0.1708938360789059,
          0.17330371842948714,
          0.1708763813573182,
          0.1705043223446407,
          0.17080954510703128,
          0.17053740714103682,
          0.17070294746869494,
          0.17230791683681365,
          0.17085421068063367,
          0.17184542249018317,
          0.1723669878750674,
          0.17437254736978464,
          0.17090518479312633,
          0.17061880924998432,
          0.17072086177030474,
          0.17082021333122288,
          0.1708359432976961,
          0.17152271246854736,
          0.17043081951376607,
          0.17064042403466792,
          0.17058551109774778,
          0.18045342237208128,
          0.17063956122697035,
          0.170673319369295,
          0.17074625376206298,
          0.17642466745845137,
          0.17075532929437034,
          0.17080585770465365,
          0.1715425992258201,
          0.1707213755993629,
          0.1704976831646322,
          0.17041057958978814,
          0.17152114639833568,
          0.17099885288421754,
          0.18045275519482262,
          0.170469679571962,
          0.17498864776524803,
          0.17058617075246815,
          0.1707350874691486,
          0.17039856088432723,
          0.1776194946723512,
          0.17059613436691334,
          0.17066051153071382,
          0.17067196979240462,
          0.18050056192578515,
          0.1706509691756181,
          0.17059606774983918,
          0.17060891483893864,
          0.17065216684860213,
          0.17122515505693947,
          0.17063502930677038,
          0.17148141133899478
         ],
         "yaxis": "y4"
        }
       ],
       "layout": {
        "template": {
         "data": {
          "bar": [
           {
            "error_x": {
             "color": "#2a3f5f"
            },
            "error_y": {
             "color": "#2a3f5f"
            },
            "marker": {
             "line": {
              "color": "#E5ECF6",
              "width": 0.5
             },
             "pattern": {
              "fillmode": "overlay",
              "size": 10,
              "solidity": 0.2
             }
            },
            "type": "bar"
           }
          ],
          "barpolar": [
           {
            "marker": {
             "line": {
              "color": "#E5ECF6",
              "width": 0.5
             },
             "pattern": {
              "fillmode": "overlay",
              "size": 10,
              "solidity": 0.2
             }
            },
            "type": "barpolar"
           }
          ],
          "carpet": [
           {
            "aaxis": {
             "endlinecolor": "#2a3f5f",
             "gridcolor": "white",
             "linecolor": "white",
             "minorgridcolor": "white",
             "startlinecolor": "#2a3f5f"
            },
            "baxis": {
             "endlinecolor": "#2a3f5f",
             "gridcolor": "white",
             "linecolor": "white",
             "minorgridcolor": "white",
             "startlinecolor": "#2a3f5f"
            },
            "type": "carpet"
           }
          ],
          "choropleth": [
           {
            "colorbar": {
             "outlinewidth": 0,
             "ticks": ""
            },
            "type": "choropleth"
           }
          ],
          "contour": [
           {
            "colorbar": {
             "outlinewidth": 0,
             "ticks": ""
            },
            "colorscale": [
             [
              0,
              "#0d0887"
             ],
             [
              0.1111111111111111,
              "#46039f"
             ],
             [
              0.2222222222222222,
              "#7201a8"
             ],
             [
              0.3333333333333333,
              "#9c179e"
             ],
             [
              0.4444444444444444,
              "#bd3786"
             ],
             [
              0.5555555555555556,
              "#d8576b"
             ],
             [
              0.6666666666666666,
              "#ed7953"
             ],
             [
              0.7777777777777778,
              "#fb9f3a"
             ],
             [
              0.8888888888888888,
              "#fdca26"
             ],
             [
              1,
              "#f0f921"
             ]
            ],
            "type": "contour"
           }
          ],
          "contourcarpet": [
           {
            "colorbar": {
             "outlinewidth": 0,
             "ticks": ""
            },
            "type": "contourcarpet"
           }
          ],
          "heatmap": [
           {
            "colorbar": {
             "outlinewidth": 0,
             "ticks": ""
            },
            "colorscale": [
             [
              0,
              "#0d0887"
             ],
             [
              0.1111111111111111,
              "#46039f"
             ],
             [
              0.2222222222222222,
              "#7201a8"
             ],
             [
              0.3333333333333333,
              "#9c179e"
             ],
             [
              0.4444444444444444,
              "#bd3786"
             ],
             [
              0.5555555555555556,
              "#d8576b"
             ],
             [
              0.6666666666666666,
              "#ed7953"
             ],
             [
              0.7777777777777778,
              "#fb9f3a"
             ],
             [
              0.8888888888888888,
              "#fdca26"
             ],
             [
              1,
              "#f0f921"
             ]
            ],
            "type": "heatmap"
           }
          ],
          "heatmapgl": [
           {
            "colorbar": {
             "outlinewidth": 0,
             "ticks": ""
            },
            "colorscale": [
             [
              0,
              "#0d0887"
             ],
             [
              0.1111111111111111,
              "#46039f"
             ],
             [
              0.2222222222222222,
              "#7201a8"
             ],
             [
              0.3333333333333333,
              "#9c179e"
             ],
             [
              0.4444444444444444,
              "#bd3786"
             ],
             [
              0.5555555555555556,
              "#d8576b"
             ],
             [
              0.6666666666666666,
              "#ed7953"
             ],
             [
              0.7777777777777778,
              "#fb9f3a"
             ],
             [
              0.8888888888888888,
              "#fdca26"
             ],
             [
              1,
              "#f0f921"
             ]
            ],
            "type": "heatmapgl"
           }
          ],
          "histogram": [
           {
            "marker": {
             "pattern": {
              "fillmode": "overlay",
              "size": 10,
              "solidity": 0.2
             }
            },
            "type": "histogram"
           }
          ],
          "histogram2d": [
           {
            "colorbar": {
             "outlinewidth": 0,
             "ticks": ""
            },
            "colorscale": [
             [
              0,
              "#0d0887"
             ],
             [
              0.1111111111111111,
              "#46039f"
             ],
             [
              0.2222222222222222,
              "#7201a8"
             ],
             [
              0.3333333333333333,
              "#9c179e"
             ],
             [
              0.4444444444444444,
              "#bd3786"
             ],
             [
              0.5555555555555556,
              "#d8576b"
             ],
             [
              0.6666666666666666,
              "#ed7953"
             ],
             [
              0.7777777777777778,
              "#fb9f3a"
             ],
             [
              0.8888888888888888,
              "#fdca26"
             ],
             [
              1,
              "#f0f921"
             ]
            ],
            "type": "histogram2d"
           }
          ],
          "histogram2dcontour": [
           {
            "colorbar": {
             "outlinewidth": 0,
             "ticks": ""
            },
            "colorscale": [
             [
              0,
              "#0d0887"
             ],
             [
              0.1111111111111111,
              "#46039f"
             ],
             [
              0.2222222222222222,
              "#7201a8"
             ],
             [
              0.3333333333333333,
              "#9c179e"
             ],
             [
              0.4444444444444444,
              "#bd3786"
             ],
             [
              0.5555555555555556,
              "#d8576b"
             ],
             [
              0.6666666666666666,
              "#ed7953"
             ],
             [
              0.7777777777777778,
              "#fb9f3a"
             ],
             [
              0.8888888888888888,
              "#fdca26"
             ],
             [
              1,
              "#f0f921"
             ]
            ],
            "type": "histogram2dcontour"
           }
          ],
          "mesh3d": [
           {
            "colorbar": {
             "outlinewidth": 0,
             "ticks": ""
            },
            "type": "mesh3d"
           }
          ],
          "parcoords": [
           {
            "line": {
             "colorbar": {
              "outlinewidth": 0,
              "ticks": ""
             }
            },
            "type": "parcoords"
           }
          ],
          "pie": [
           {
            "automargin": true,
            "type": "pie"
           }
          ],
          "scatter": [
           {
            "fillpattern": {
             "fillmode": "overlay",
             "size": 10,
             "solidity": 0.2
            },
            "type": "scatter"
           }
          ],
          "scatter3d": [
           {
            "line": {
             "colorbar": {
              "outlinewidth": 0,
              "ticks": ""
             }
            },
            "marker": {
             "colorbar": {
              "outlinewidth": 0,
              "ticks": ""
             }
            },
            "type": "scatter3d"
           }
          ],
          "scattercarpet": [
           {
            "marker": {
             "colorbar": {
              "outlinewidth": 0,
              "ticks": ""
             }
            },
            "type": "scattercarpet"
           }
          ],
          "scattergeo": [
           {
            "marker": {
             "colorbar": {
              "outlinewidth": 0,
              "ticks": ""
             }
            },
            "type": "scattergeo"
           }
          ],
          "scattergl": [
           {
            "marker": {
             "colorbar": {
              "outlinewidth": 0,
              "ticks": ""
             }
            },
            "type": "scattergl"
           }
          ],
          "scattermapbox": [
           {
            "marker": {
             "colorbar": {
              "outlinewidth": 0,
              "ticks": ""
             }
            },
            "type": "scattermapbox"
           }
          ],
          "scatterpolar": [
           {
            "marker": {
             "colorbar": {
              "outlinewidth": 0,
              "ticks": ""
             }
            },
            "type": "scatterpolar"
           }
          ],
          "scatterpolargl": [
           {
            "marker": {
             "colorbar": {
              "outlinewidth": 0,
              "ticks": ""
             }
            },
            "type": "scatterpolargl"
           }
          ],
          "scatterternary": [
           {
            "marker": {
             "colorbar": {
              "outlinewidth": 0,
              "ticks": ""
             }
            },
            "type": "scatterternary"
           }
          ],
          "surface": [
           {
            "colorbar": {
             "outlinewidth": 0,
             "ticks": ""
            },
            "colorscale": [
             [
              0,
              "#0d0887"
             ],
             [
              0.1111111111111111,
              "#46039f"
             ],
             [
              0.2222222222222222,
              "#7201a8"
             ],
             [
              0.3333333333333333,
              "#9c179e"
             ],
             [
              0.4444444444444444,
              "#bd3786"
             ],
             [
              0.5555555555555556,
              "#d8576b"
             ],
             [
              0.6666666666666666,
              "#ed7953"
             ],
             [
              0.7777777777777778,
              "#fb9f3a"
             ],
             [
              0.8888888888888888,
              "#fdca26"
             ],
             [
              1,
              "#f0f921"
             ]
            ],
            "type": "surface"
           }
          ],
          "table": [
           {
            "cells": {
             "fill": {
              "color": "#EBF0F8"
             },
             "line": {
              "color": "white"
             }
            },
            "header": {
             "fill": {
              "color": "#C8D4E3"
             },
             "line": {
              "color": "white"
             }
            },
            "type": "table"
           }
          ]
         },
         "layout": {
          "annotationdefaults": {
           "arrowcolor": "#2a3f5f",
           "arrowhead": 0,
           "arrowwidth": 1
          },
          "autotypenumbers": "strict",
          "coloraxis": {
           "colorbar": {
            "outlinewidth": 0,
            "ticks": ""
           }
          },
          "colorscale": {
           "diverging": [
            [
             0,
             "#8e0152"
            ],
            [
             0.1,
             "#c51b7d"
            ],
            [
             0.2,
             "#de77ae"
            ],
            [
             0.3,
             "#f1b6da"
            ],
            [
             0.4,
             "#fde0ef"
            ],
            [
             0.5,
             "#f7f7f7"
            ],
            [
             0.6,
             "#e6f5d0"
            ],
            [
             0.7,
             "#b8e186"
            ],
            [
             0.8,
             "#7fbc41"
            ],
            [
             0.9,
             "#4d9221"
            ],
            [
             1,
             "#276419"
            ]
           ],
           "sequential": [
            [
             0,
             "#0d0887"
            ],
            [
             0.1111111111111111,
             "#46039f"
            ],
            [
             0.2222222222222222,
             "#7201a8"
            ],
            [
             0.3333333333333333,
             "#9c179e"
            ],
            [
             0.4444444444444444,
             "#bd3786"
            ],
            [
             0.5555555555555556,
             "#d8576b"
            ],
            [
             0.6666666666666666,
             "#ed7953"
            ],
            [
             0.7777777777777778,
             "#fb9f3a"
            ],
            [
             0.8888888888888888,
             "#fdca26"
            ],
            [
             1,
             "#f0f921"
            ]
           ],
           "sequentialminus": [
            [
             0,
             "#0d0887"
            ],
            [
             0.1111111111111111,
             "#46039f"
            ],
            [
             0.2222222222222222,
             "#7201a8"
            ],
            [
             0.3333333333333333,
             "#9c179e"
            ],
            [
             0.4444444444444444,
             "#bd3786"
            ],
            [
             0.5555555555555556,
             "#d8576b"
            ],
            [
             0.6666666666666666,
             "#ed7953"
            ],
            [
             0.7777777777777778,
             "#fb9f3a"
            ],
            [
             0.8888888888888888,
             "#fdca26"
            ],
            [
             1,
             "#f0f921"
            ]
           ]
          },
          "colorway": [
           "#636efa",
           "#EF553B",
           "#00cc96",
           "#ab63fa",
           "#FFA15A",
           "#19d3f3",
           "#FF6692",
           "#B6E880",
           "#FF97FF",
           "#FECB52"
          ],
          "font": {
           "color": "#2a3f5f"
          },
          "geo": {
           "bgcolor": "white",
           "lakecolor": "white",
           "landcolor": "#E5ECF6",
           "showlakes": true,
           "showland": true,
           "subunitcolor": "white"
          },
          "hoverlabel": {
           "align": "left"
          },
          "hovermode": "closest",
          "mapbox": {
           "style": "light"
          },
          "paper_bgcolor": "white",
          "plot_bgcolor": "#E5ECF6",
          "polar": {
           "angularaxis": {
            "gridcolor": "white",
            "linecolor": "white",
            "ticks": ""
           },
           "bgcolor": "#E5ECF6",
           "radialaxis": {
            "gridcolor": "white",
            "linecolor": "white",
            "ticks": ""
           }
          },
          "scene": {
           "xaxis": {
            "backgroundcolor": "#E5ECF6",
            "gridcolor": "white",
            "gridwidth": 2,
            "linecolor": "white",
            "showbackground": true,
            "ticks": "",
            "zerolinecolor": "white"
           },
           "yaxis": {
            "backgroundcolor": "#E5ECF6",
            "gridcolor": "white",
            "gridwidth": 2,
            "linecolor": "white",
            "showbackground": true,
            "ticks": "",
            "zerolinecolor": "white"
           },
           "zaxis": {
            "backgroundcolor": "#E5ECF6",
            "gridcolor": "white",
            "gridwidth": 2,
            "linecolor": "white",
            "showbackground": true,
            "ticks": "",
            "zerolinecolor": "white"
           }
          },
          "shapedefaults": {
           "line": {
            "color": "#2a3f5f"
           }
          },
          "ternary": {
           "aaxis": {
            "gridcolor": "white",
            "linecolor": "white",
            "ticks": ""
           },
           "baxis": {
            "gridcolor": "white",
            "linecolor": "white",
            "ticks": ""
           },
           "bgcolor": "#E5ECF6",
           "caxis": {
            "gridcolor": "white",
            "linecolor": "white",
            "ticks": ""
           }
          },
          "title": {
           "x": 0.05
          },
          "xaxis": {
           "automargin": true,
           "gridcolor": "white",
           "linecolor": "white",
           "ticks": "",
           "title": {
            "standoff": 15
           },
           "zerolinecolor": "white",
           "zerolinewidth": 2
          },
          "yaxis": {
           "automargin": true,
           "gridcolor": "white",
           "linecolor": "white",
           "ticks": "",
           "title": {
            "standoff": 15
           },
           "zerolinecolor": "white",
           "zerolinewidth": 2
          }
         }
        },
        "title": {
         "text": "Slice Plot"
        },
        "width": 1200,
        "xaxis": {
         "anchor": "y",
         "domain": [
          0,
          0.2125
         ],
         "title": {
          "text": "max_depth"
         }
        },
        "xaxis2": {
         "anchor": "y2",
         "categoryarray": [
          "sqrt",
          "log2",
          null
         ],
         "categoryorder": "array",
         "domain": [
          0.2625,
          0.475
         ],
         "title": {
          "text": "max_features"
         },
         "type": "category"
        },
        "xaxis3": {
         "anchor": "y3",
         "domain": [
          0.525,
          0.7375
         ],
         "title": {
          "text": "n_estimators"
         }
        },
        "xaxis4": {
         "anchor": "y4",
         "categoryarray": [
          "minmax",
          "standard",
          "robust",
          "maxabs",
          null
         ],
         "categoryorder": "array",
         "domain": [
          0.7875,
          1
         ],
         "title": {
          "text": "scalers"
         },
         "type": "category"
        },
        "yaxis": {
         "anchor": "x",
         "domain": [
          0,
          1
         ],
         "title": {
          "text": "Objective Value"
         }
        },
        "yaxis2": {
         "anchor": "x2",
         "domain": [
          0,
          1
         ],
         "matches": "y",
         "showticklabels": false
        },
        "yaxis3": {
         "anchor": "x3",
         "domain": [
          0,
          1
         ],
         "matches": "y",
         "showticklabels": false
        },
        "yaxis4": {
         "anchor": "x4",
         "domain": [
          0,
          1
         ],
         "matches": "y",
         "showticklabels": false
        }
       }
      }
     },
     "metadata": {},
     "output_type": "display_data"
    }
   ],
   "source": [
    "# Hyperparameters to score dependency\n",
    "\n",
    "optuna.visualization.plot_slice(study_rfr)"
   ]
  },
  {
   "cell_type": "code",
   "execution_count": 154,
   "metadata": {},
   "outputs": [
    {
     "data": {
      "application/vnd.plotly.v1+json": {
       "config": {
        "plotlyServerURL": "https://plot.ly"
       },
       "data": [
        {
         "cliponaxis": false,
         "hovertemplate": [
          "scalers (CategoricalDistribution): 0.0017546248649980745<extra></extra>",
          "n_estimators (IntDistribution): 0.014372829174480801<extra></extra>",
          "max_features (CategoricalDistribution): 0.08790651525788197<extra></extra>",
          "max_depth (IntDistribution): 0.8959660307026391<extra></extra>"
         ],
         "name": "Objective Value",
         "orientation": "h",
         "text": [
          "<0.01",
          "0.01",
          "0.09",
          "0.90"
         ],
         "textposition": "outside",
         "type": "bar",
         "x": [
          0.0017546248649980745,
          0.014372829174480801,
          0.08790651525788197,
          0.8959660307026391
         ],
         "y": [
          "scalers",
          "n_estimators",
          "max_features",
          "max_depth"
         ]
        }
       ],
       "layout": {
        "template": {
         "data": {
          "bar": [
           {
            "error_x": {
             "color": "#2a3f5f"
            },
            "error_y": {
             "color": "#2a3f5f"
            },
            "marker": {
             "line": {
              "color": "#E5ECF6",
              "width": 0.5
             },
             "pattern": {
              "fillmode": "overlay",
              "size": 10,
              "solidity": 0.2
             }
            },
            "type": "bar"
           }
          ],
          "barpolar": [
           {
            "marker": {
             "line": {
              "color": "#E5ECF6",
              "width": 0.5
             },
             "pattern": {
              "fillmode": "overlay",
              "size": 10,
              "solidity": 0.2
             }
            },
            "type": "barpolar"
           }
          ],
          "carpet": [
           {
            "aaxis": {
             "endlinecolor": "#2a3f5f",
             "gridcolor": "white",
             "linecolor": "white",
             "minorgridcolor": "white",
             "startlinecolor": "#2a3f5f"
            },
            "baxis": {
             "endlinecolor": "#2a3f5f",
             "gridcolor": "white",
             "linecolor": "white",
             "minorgridcolor": "white",
             "startlinecolor": "#2a3f5f"
            },
            "type": "carpet"
           }
          ],
          "choropleth": [
           {
            "colorbar": {
             "outlinewidth": 0,
             "ticks": ""
            },
            "type": "choropleth"
           }
          ],
          "contour": [
           {
            "colorbar": {
             "outlinewidth": 0,
             "ticks": ""
            },
            "colorscale": [
             [
              0,
              "#0d0887"
             ],
             [
              0.1111111111111111,
              "#46039f"
             ],
             [
              0.2222222222222222,
              "#7201a8"
             ],
             [
              0.3333333333333333,
              "#9c179e"
             ],
             [
              0.4444444444444444,
              "#bd3786"
             ],
             [
              0.5555555555555556,
              "#d8576b"
             ],
             [
              0.6666666666666666,
              "#ed7953"
             ],
             [
              0.7777777777777778,
              "#fb9f3a"
             ],
             [
              0.8888888888888888,
              "#fdca26"
             ],
             [
              1,
              "#f0f921"
             ]
            ],
            "type": "contour"
           }
          ],
          "contourcarpet": [
           {
            "colorbar": {
             "outlinewidth": 0,
             "ticks": ""
            },
            "type": "contourcarpet"
           }
          ],
          "heatmap": [
           {
            "colorbar": {
             "outlinewidth": 0,
             "ticks": ""
            },
            "colorscale": [
             [
              0,
              "#0d0887"
             ],
             [
              0.1111111111111111,
              "#46039f"
             ],
             [
              0.2222222222222222,
              "#7201a8"
             ],
             [
              0.3333333333333333,
              "#9c179e"
             ],
             [
              0.4444444444444444,
              "#bd3786"
             ],
             [
              0.5555555555555556,
              "#d8576b"
             ],
             [
              0.6666666666666666,
              "#ed7953"
             ],
             [
              0.7777777777777778,
              "#fb9f3a"
             ],
             [
              0.8888888888888888,
              "#fdca26"
             ],
             [
              1,
              "#f0f921"
             ]
            ],
            "type": "heatmap"
           }
          ],
          "heatmapgl": [
           {
            "colorbar": {
             "outlinewidth": 0,
             "ticks": ""
            },
            "colorscale": [
             [
              0,
              "#0d0887"
             ],
             [
              0.1111111111111111,
              "#46039f"
             ],
             [
              0.2222222222222222,
              "#7201a8"
             ],
             [
              0.3333333333333333,
              "#9c179e"
             ],
             [
              0.4444444444444444,
              "#bd3786"
             ],
             [
              0.5555555555555556,
              "#d8576b"
             ],
             [
              0.6666666666666666,
              "#ed7953"
             ],
             [
              0.7777777777777778,
              "#fb9f3a"
             ],
             [
              0.8888888888888888,
              "#fdca26"
             ],
             [
              1,
              "#f0f921"
             ]
            ],
            "type": "heatmapgl"
           }
          ],
          "histogram": [
           {
            "marker": {
             "pattern": {
              "fillmode": "overlay",
              "size": 10,
              "solidity": 0.2
             }
            },
            "type": "histogram"
           }
          ],
          "histogram2d": [
           {
            "colorbar": {
             "outlinewidth": 0,
             "ticks": ""
            },
            "colorscale": [
             [
              0,
              "#0d0887"
             ],
             [
              0.1111111111111111,
              "#46039f"
             ],
             [
              0.2222222222222222,
              "#7201a8"
             ],
             [
              0.3333333333333333,
              "#9c179e"
             ],
             [
              0.4444444444444444,
              "#bd3786"
             ],
             [
              0.5555555555555556,
              "#d8576b"
             ],
             [
              0.6666666666666666,
              "#ed7953"
             ],
             [
              0.7777777777777778,
              "#fb9f3a"
             ],
             [
              0.8888888888888888,
              "#fdca26"
             ],
             [
              1,
              "#f0f921"
             ]
            ],
            "type": "histogram2d"
           }
          ],
          "histogram2dcontour": [
           {
            "colorbar": {
             "outlinewidth": 0,
             "ticks": ""
            },
            "colorscale": [
             [
              0,
              "#0d0887"
             ],
             [
              0.1111111111111111,
              "#46039f"
             ],
             [
              0.2222222222222222,
              "#7201a8"
             ],
             [
              0.3333333333333333,
              "#9c179e"
             ],
             [
              0.4444444444444444,
              "#bd3786"
             ],
             [
              0.5555555555555556,
              "#d8576b"
             ],
             [
              0.6666666666666666,
              "#ed7953"
             ],
             [
              0.7777777777777778,
              "#fb9f3a"
             ],
             [
              0.8888888888888888,
              "#fdca26"
             ],
             [
              1,
              "#f0f921"
             ]
            ],
            "type": "histogram2dcontour"
           }
          ],
          "mesh3d": [
           {
            "colorbar": {
             "outlinewidth": 0,
             "ticks": ""
            },
            "type": "mesh3d"
           }
          ],
          "parcoords": [
           {
            "line": {
             "colorbar": {
              "outlinewidth": 0,
              "ticks": ""
             }
            },
            "type": "parcoords"
           }
          ],
          "pie": [
           {
            "automargin": true,
            "type": "pie"
           }
          ],
          "scatter": [
           {
            "fillpattern": {
             "fillmode": "overlay",
             "size": 10,
             "solidity": 0.2
            },
            "type": "scatter"
           }
          ],
          "scatter3d": [
           {
            "line": {
             "colorbar": {
              "outlinewidth": 0,
              "ticks": ""
             }
            },
            "marker": {
             "colorbar": {
              "outlinewidth": 0,
              "ticks": ""
             }
            },
            "type": "scatter3d"
           }
          ],
          "scattercarpet": [
           {
            "marker": {
             "colorbar": {
              "outlinewidth": 0,
              "ticks": ""
             }
            },
            "type": "scattercarpet"
           }
          ],
          "scattergeo": [
           {
            "marker": {
             "colorbar": {
              "outlinewidth": 0,
              "ticks": ""
             }
            },
            "type": "scattergeo"
           }
          ],
          "scattergl": [
           {
            "marker": {
             "colorbar": {
              "outlinewidth": 0,
              "ticks": ""
             }
            },
            "type": "scattergl"
           }
          ],
          "scattermapbox": [
           {
            "marker": {
             "colorbar": {
              "outlinewidth": 0,
              "ticks": ""
             }
            },
            "type": "scattermapbox"
           }
          ],
          "scatterpolar": [
           {
            "marker": {
             "colorbar": {
              "outlinewidth": 0,
              "ticks": ""
             }
            },
            "type": "scatterpolar"
           }
          ],
          "scatterpolargl": [
           {
            "marker": {
             "colorbar": {
              "outlinewidth": 0,
              "ticks": ""
             }
            },
            "type": "scatterpolargl"
           }
          ],
          "scatterternary": [
           {
            "marker": {
             "colorbar": {
              "outlinewidth": 0,
              "ticks": ""
             }
            },
            "type": "scatterternary"
           }
          ],
          "surface": [
           {
            "colorbar": {
             "outlinewidth": 0,
             "ticks": ""
            },
            "colorscale": [
             [
              0,
              "#0d0887"
             ],
             [
              0.1111111111111111,
              "#46039f"
             ],
             [
              0.2222222222222222,
              "#7201a8"
             ],
             [
              0.3333333333333333,
              "#9c179e"
             ],
             [
              0.4444444444444444,
              "#bd3786"
             ],
             [
              0.5555555555555556,
              "#d8576b"
             ],
             [
              0.6666666666666666,
              "#ed7953"
             ],
             [
              0.7777777777777778,
              "#fb9f3a"
             ],
             [
              0.8888888888888888,
              "#fdca26"
             ],
             [
              1,
              "#f0f921"
             ]
            ],
            "type": "surface"
           }
          ],
          "table": [
           {
            "cells": {
             "fill": {
              "color": "#EBF0F8"
             },
             "line": {
              "color": "white"
             }
            },
            "header": {
             "fill": {
              "color": "#C8D4E3"
             },
             "line": {
              "color": "white"
             }
            },
            "type": "table"
           }
          ]
         },
         "layout": {
          "annotationdefaults": {
           "arrowcolor": "#2a3f5f",
           "arrowhead": 0,
           "arrowwidth": 1
          },
          "autotypenumbers": "strict",
          "coloraxis": {
           "colorbar": {
            "outlinewidth": 0,
            "ticks": ""
           }
          },
          "colorscale": {
           "diverging": [
            [
             0,
             "#8e0152"
            ],
            [
             0.1,
             "#c51b7d"
            ],
            [
             0.2,
             "#de77ae"
            ],
            [
             0.3,
             "#f1b6da"
            ],
            [
             0.4,
             "#fde0ef"
            ],
            [
             0.5,
             "#f7f7f7"
            ],
            [
             0.6,
             "#e6f5d0"
            ],
            [
             0.7,
             "#b8e186"
            ],
            [
             0.8,
             "#7fbc41"
            ],
            [
             0.9,
             "#4d9221"
            ],
            [
             1,
             "#276419"
            ]
           ],
           "sequential": [
            [
             0,
             "#0d0887"
            ],
            [
             0.1111111111111111,
             "#46039f"
            ],
            [
             0.2222222222222222,
             "#7201a8"
            ],
            [
             0.3333333333333333,
             "#9c179e"
            ],
            [
             0.4444444444444444,
             "#bd3786"
            ],
            [
             0.5555555555555556,
             "#d8576b"
            ],
            [
             0.6666666666666666,
             "#ed7953"
            ],
            [
             0.7777777777777778,
             "#fb9f3a"
            ],
            [
             0.8888888888888888,
             "#fdca26"
            ],
            [
             1,
             "#f0f921"
            ]
           ],
           "sequentialminus": [
            [
             0,
             "#0d0887"
            ],
            [
             0.1111111111111111,
             "#46039f"
            ],
            [
             0.2222222222222222,
             "#7201a8"
            ],
            [
             0.3333333333333333,
             "#9c179e"
            ],
            [
             0.4444444444444444,
             "#bd3786"
            ],
            [
             0.5555555555555556,
             "#d8576b"
            ],
            [
             0.6666666666666666,
             "#ed7953"
            ],
            [
             0.7777777777777778,
             "#fb9f3a"
            ],
            [
             0.8888888888888888,
             "#fdca26"
            ],
            [
             1,
             "#f0f921"
            ]
           ]
          },
          "colorway": [
           "#636efa",
           "#EF553B",
           "#00cc96",
           "#ab63fa",
           "#FFA15A",
           "#19d3f3",
           "#FF6692",
           "#B6E880",
           "#FF97FF",
           "#FECB52"
          ],
          "font": {
           "color": "#2a3f5f"
          },
          "geo": {
           "bgcolor": "white",
           "lakecolor": "white",
           "landcolor": "#E5ECF6",
           "showlakes": true,
           "showland": true,
           "subunitcolor": "white"
          },
          "hoverlabel": {
           "align": "left"
          },
          "hovermode": "closest",
          "mapbox": {
           "style": "light"
          },
          "paper_bgcolor": "white",
          "plot_bgcolor": "#E5ECF6",
          "polar": {
           "angularaxis": {
            "gridcolor": "white",
            "linecolor": "white",
            "ticks": ""
           },
           "bgcolor": "#E5ECF6",
           "radialaxis": {
            "gridcolor": "white",
            "linecolor": "white",
            "ticks": ""
           }
          },
          "scene": {
           "xaxis": {
            "backgroundcolor": "#E5ECF6",
            "gridcolor": "white",
            "gridwidth": 2,
            "linecolor": "white",
            "showbackground": true,
            "ticks": "",
            "zerolinecolor": "white"
           },
           "yaxis": {
            "backgroundcolor": "#E5ECF6",
            "gridcolor": "white",
            "gridwidth": 2,
            "linecolor": "white",
            "showbackground": true,
            "ticks": "",
            "zerolinecolor": "white"
           },
           "zaxis": {
            "backgroundcolor": "#E5ECF6",
            "gridcolor": "white",
            "gridwidth": 2,
            "linecolor": "white",
            "showbackground": true,
            "ticks": "",
            "zerolinecolor": "white"
           }
          },
          "shapedefaults": {
           "line": {
            "color": "#2a3f5f"
           }
          },
          "ternary": {
           "aaxis": {
            "gridcolor": "white",
            "linecolor": "white",
            "ticks": ""
           },
           "baxis": {
            "gridcolor": "white",
            "linecolor": "white",
            "ticks": ""
           },
           "bgcolor": "#E5ECF6",
           "caxis": {
            "gridcolor": "white",
            "linecolor": "white",
            "ticks": ""
           }
          },
          "title": {
           "x": 0.05
          },
          "xaxis": {
           "automargin": true,
           "gridcolor": "white",
           "linecolor": "white",
           "ticks": "",
           "title": {
            "standoff": 15
           },
           "zerolinecolor": "white",
           "zerolinewidth": 2
          },
          "yaxis": {
           "automargin": true,
           "gridcolor": "white",
           "linecolor": "white",
           "ticks": "",
           "title": {
            "standoff": 15
           },
           "zerolinecolor": "white",
           "zerolinewidth": 2
          }
         }
        },
        "title": {
         "text": "Hyperparameter Importances"
        },
        "xaxis": {
         "title": {
          "text": "Hyperparameter Importance"
         }
        },
        "yaxis": {
         "title": {
          "text": "Hyperparameter"
         }
        }
       }
      }
     },
     "metadata": {},
     "output_type": "display_data"
    }
   ],
   "source": [
    "# Hyperparameter importances\n",
    "\n",
    "optuna.visualization.plot_param_importances(study_rfr)"
   ]
  },
  {
   "cell_type": "code",
   "execution_count": 155,
   "metadata": {},
   "outputs": [],
   "source": [
    "# Define optimal hyperparameters\n",
    "del params_rfr['scalers']\n",
    "scaler_rfr = MinMaxScaler()\n",
    "rfr = RandomForestRegressor(**params_rfr, criterion = 'friedman_mse')\n",
    "\n",
    "# Create pipeline\n",
    "pipeline_rfr = make_pipeline(scaler_rfr, rfr)"
   ]
  },
  {
   "cell_type": "code",
   "execution_count": 156,
   "metadata": {},
   "outputs": [
    {
     "name": "stdout",
     "output_type": "stream",
     "text": [
      "[0.1453414  0.20959767 0.20842707 0.16439386 0.06375362] Средняя оценка: 0.15830272347743563\n"
     ]
    }
   ],
   "source": [
    "# Implementing cross validation\n",
    "\n",
    "scores_rfr = cross_val_score(pipeline_rfr, df_encoded[df_encoded_features], df_encoded[target],  scoring = 'neg_root_mean_squared_error') * (-1)\n",
    "score_mean_rfr = scores_rfr.mean()\n",
    "print(scores_rfr, \"Средняя оценка:\", score_mean_rfr)"
   ]
  },
  {
   "cell_type": "markdown",
   "metadata": {},
   "source": [
    "# **KNN**"
   ]
  },
  {
   "cell_type": "code",
   "execution_count": 177,
   "metadata": {},
   "outputs": [
    {
     "name": "stderr",
     "output_type": "stream",
     "text": [
      "[I 2024-05-20 00:22:25,752] A new study created in memory with name: knn\n",
      "[I 2024-05-20 00:22:26,424] Trial 0 finished with value: 0.18051505540109108 and parameters: {'scalers': None, 'n_neighbors': 464, 'weights': 'distance', 'metric': 'manhattan', 'algorithm': 'ball_tree', 'leaf_size': 83}. Best is trial 0 with value: 0.18051505540109108.\n",
      "[I 2024-05-20 00:22:26,809] Trial 1 finished with value: 0.1753951242792008 and parameters: {'scalers': None, 'n_neighbors': 97, 'weights': 'distance', 'metric': 'cityblock', 'algorithm': 'kd_tree', 'leaf_size': 2}. Best is trial 1 with value: 0.1753951242792008.\n",
      "[I 2024-05-20 00:22:28,355] Trial 2 finished with value: 0.23316065386800147 and parameters: {'scalers': 'standard', 'n_neighbors': 307, 'weights': 'uniform', 'metric': 'l2', 'algorithm': 'kd_tree', 'leaf_size': 52}. Best is trial 1 with value: 0.1753951242792008.\n",
      "[I 2024-05-20 00:22:29,491] Trial 3 finished with value: 0.22275010662294664 and parameters: {'scalers': 'maxabs', 'n_neighbors': 158, 'weights': 'uniform', 'metric': 'l1', 'algorithm': 'ball_tree', 'leaf_size': 110}. Best is trial 1 with value: 0.1753951242792008.\n",
      "[I 2024-05-20 00:22:30,655] Trial 4 finished with value: 0.17746510874053287 and parameters: {'scalers': 'standard', 'n_neighbors': 151, 'weights': 'distance', 'metric': 'euclidean', 'algorithm': 'kd_tree', 'leaf_size': 44}. Best is trial 1 with value: 0.1753951242792008.\n",
      "[I 2024-05-20 00:22:32,125] Trial 5 finished with value: 0.2012685089624203 and parameters: {'scalers': 'robust', 'n_neighbors': 483, 'weights': 'uniform', 'metric': 'minkowski', 'algorithm': 'kd_tree', 'leaf_size': 121}. Best is trial 1 with value: 0.1753951242792008.\n",
      "[I 2024-05-20 00:22:33,381] Trial 6 finished with value: 0.2221355692730472 and parameters: {'scalers': 'standard', 'n_neighbors': 188, 'weights': 'uniform', 'metric': 'l1', 'algorithm': 'kd_tree', 'leaf_size': 116}. Best is trial 1 with value: 0.1753951242792008.\n",
      "[I 2024-05-20 00:22:34,629] Trial 7 finished with value: 0.2183532909114306 and parameters: {'scalers': 'maxabs', 'n_neighbors': 120, 'weights': 'uniform', 'metric': 'minkowski', 'algorithm': 'ball_tree', 'leaf_size': 126}. Best is trial 1 with value: 0.1753951242792008.\n",
      "[I 2024-05-20 00:22:35,199] Trial 8 finished with value: 0.21036869932298835 and parameters: {'scalers': None, 'n_neighbors': 287, 'weights': 'uniform', 'metric': 'manhattan', 'algorithm': 'brute'}. Best is trial 1 with value: 0.1753951242792008.\n",
      "[I 2024-05-20 00:22:35,341] Trial 9 finished with value: 0.19286964801838782 and parameters: {'scalers': 'standard', 'n_neighbors': 3, 'weights': 'distance', 'metric': 'minkowski', 'algorithm': 'brute'}. Best is trial 1 with value: 0.1753951242792008.\n",
      "[I 2024-05-20 00:22:35,695] Trial 10 finished with value: 0.1753825774838523 and parameters: {'scalers': None, 'n_neighbors': 32, 'weights': 'distance', 'metric': 'cityblock', 'algorithm': 'kd_tree', 'leaf_size': 1}. Best is trial 10 with value: 0.1753825774838523.\n",
      "[I 2024-05-20 00:22:35,860] Trial 11 finished with value: 0.17689316309815614 and parameters: {'scalers': None, 'n_neighbors': 22, 'weights': 'distance', 'metric': 'cityblock', 'algorithm': 'kd_tree', 'leaf_size': 6}. Best is trial 10 with value: 0.1753825774838523.\n",
      "[I 2024-05-20 00:22:36,390] Trial 12 finished with value: 0.17766976746154975 and parameters: {'scalers': None, 'n_neighbors': 237, 'weights': 'distance', 'metric': 'cityblock', 'algorithm': 'brute'}. Best is trial 10 with value: 0.1753825774838523.\n",
      "[I 2024-05-20 00:22:37,189] Trial 13 finished with value: 0.17731143334445196 and parameters: {'scalers': None, 'n_neighbors': 196, 'weights': 'distance', 'metric': 'l1', 'algorithm': 'kd_tree', 'leaf_size': 1}. Best is trial 10 with value: 0.1753825774838523.\n",
      "[I 2024-05-20 00:22:38,161] Trial 14 finished with value: 0.16946975707395934 and parameters: {'scalers': 'robust', 'n_neighbors': 137, 'weights': 'distance', 'metric': 'cityblock', 'algorithm': 'kd_tree', 'leaf_size': 23}. Best is trial 14 with value: 0.16946975707395934.\n",
      "[I 2024-05-20 00:22:39,443] Trial 15 finished with value: 0.16943049308626953 and parameters: {'scalers': 'robust', 'n_neighbors': 262, 'weights': 'distance', 'metric': 'manhattan', 'algorithm': 'kd_tree', 'leaf_size': 40}. Best is trial 15 with value: 0.16943049308626953.\n",
      "[I 2024-05-20 00:22:41,026] Trial 16 finished with value: 0.16967537932779783 and parameters: {'scalers': 'robust', 'n_neighbors': 338, 'weights': 'distance', 'metric': 'manhattan', 'algorithm': 'kd_tree', 'leaf_size': 47}. Best is trial 15 with value: 0.16943049308626953.\n",
      "[I 2024-05-20 00:22:42,612] Trial 17 finished with value: 0.16926163580478845 and parameters: {'scalers': 'robust', 'n_neighbors': 244, 'weights': 'distance', 'metric': 'l1', 'algorithm': 'ball_tree', 'leaf_size': 67}. Best is trial 17 with value: 0.16926163580478845.\n",
      "[I 2024-05-20 00:22:43,947] Trial 18 finished with value: 0.16926399114707685 and parameters: {'scalers': 'robust', 'n_neighbors': 236, 'weights': 'distance', 'metric': 'l1', 'algorithm': 'ball_tree', 'leaf_size': 75}. Best is trial 17 with value: 0.16926163580478845.\n",
      "[I 2024-05-20 00:22:45,207] Trial 19 finished with value: 0.16923658168996986 and parameters: {'scalers': 'robust', 'n_neighbors': 180, 'weights': 'distance', 'metric': 'l1', 'algorithm': 'ball_tree', 'leaf_size': 81}. Best is trial 19 with value: 0.16923658168996986.\n",
      "[I 2024-05-20 00:22:46,307] Trial 20 finished with value: 0.17001165005133936 and parameters: {'scalers': 'robust', 'n_neighbors': 104, 'weights': 'distance', 'metric': 'euclidean', 'algorithm': 'ball_tree', 'leaf_size': 81}. Best is trial 19 with value: 0.16923658168996986.\n",
      "[I 2024-05-20 00:22:47,919] Trial 21 finished with value: 0.1797095759949801 and parameters: {'scalers': 'minmax', 'n_neighbors': 280, 'weights': 'distance', 'metric': 'l1', 'algorithm': 'ball_tree', 'leaf_size': 78}. Best is trial 19 with value: 0.16923658168996986.\n",
      "[I 2024-05-20 00:22:49,459] Trial 22 finished with value: 0.16925748034009613 and parameters: {'scalers': 'robust', 'n_neighbors': 230, 'weights': 'distance', 'metric': 'l1', 'algorithm': 'ball_tree', 'leaf_size': 75}. Best is trial 19 with value: 0.16923658168996986.\n",
      "[I 2024-05-20 00:22:51,433] Trial 23 finished with value: 0.20121995871763304 and parameters: {'scalers': 'robust', 'n_neighbors': 344, 'weights': 'uniform', 'metric': 'cityblock', 'algorithm': 'ball_tree', 'leaf_size': 78}. Best is trial 19 with value: 0.16923658168996986.\n",
      "[I 2024-05-20 00:22:52,706] Trial 24 finished with value: 0.1705772284574082 and parameters: {'scalers': 'robust', 'n_neighbors': 389, 'weights': 'distance', 'metric': 'euclidean', 'algorithm': 'ball_tree', 'leaf_size': 87}. Best is trial 19 with value: 0.16923658168996986.\n",
      "[I 2024-05-20 00:22:53,177] Trial 25 finished with value: 0.17889590092675242 and parameters: {'scalers': 'maxabs', 'n_neighbors': 209, 'weights': 'distance', 'metric': 'l1', 'algorithm': 'brute'}. Best is trial 19 with value: 0.16923658168996986.\n",
      "[I 2024-05-20 00:22:53,670] Trial 26 finished with value: 0.16989105563758405 and parameters: {'scalers': 'robust', 'n_neighbors': 239, 'weights': 'distance', 'metric': 'l2', 'algorithm': 'brute'}. Best is trial 19 with value: 0.16923658168996986.\n",
      "[I 2024-05-20 00:22:54,014] Trial 27 finished with value: 0.18160804869827976 and parameters: {'scalers': None, 'n_neighbors': 275, 'weights': 'distance', 'metric': 'minkowski', 'algorithm': 'ball_tree', 'leaf_size': 67}. Best is trial 19 with value: 0.16923658168996986.\n",
      "[I 2024-05-20 00:22:54,314] Trial 28 finished with value: 0.17192232181538686 and parameters: {'scalers': 'robust', 'n_neighbors': 29, 'weights': 'distance', 'metric': 'l1', 'algorithm': 'brute'}. Best is trial 19 with value: 0.16923658168996986.\n",
      "[I 2024-05-20 00:22:55,534] Trial 29 finished with value: 0.19994184860311062 and parameters: {'scalers': 'robust', 'n_neighbors': 194, 'weights': 'uniform', 'metric': 'l1', 'algorithm': 'ball_tree', 'leaf_size': 91}. Best is trial 19 with value: 0.16923658168996986.\n",
      "[I 2024-05-20 00:22:56,712] Trial 30 finished with value: 0.17553102181908714 and parameters: {'scalers': 'standard', 'n_neighbors': 145, 'weights': 'distance', 'metric': 'l1', 'algorithm': 'ball_tree', 'leaf_size': 58}. Best is trial 19 with value: 0.16923658168996986.\n",
      "[I 2024-05-20 00:22:57,856] Trial 31 finished with value: 0.1700959691719455 and parameters: {'scalers': 'robust', 'n_neighbors': 257, 'weights': 'distance', 'metric': 'l2', 'algorithm': 'ball_tree', 'leaf_size': 72}. Best is trial 19 with value: 0.16923658168996986.\n",
      "[I 2024-05-20 00:22:59,135] Trial 32 finished with value: 0.16924828202509062 and parameters: {'scalers': 'robust', 'n_neighbors': 205, 'weights': 'distance', 'metric': 'l1', 'algorithm': 'ball_tree', 'leaf_size': 74}. Best is trial 19 with value: 0.16923658168996986.\n",
      "[I 2024-05-20 00:23:00,218] Trial 33 finished with value: 0.17627630244788328 and parameters: {'scalers': 'maxabs', 'n_neighbors': 118, 'weights': 'distance', 'metric': 'cityblock', 'algorithm': 'ball_tree', 'leaf_size': 67}. Best is trial 19 with value: 0.16923658168996986.\n",
      "[I 2024-05-20 00:23:00,972] Trial 34 finished with value: 0.16964564192764428 and parameters: {'scalers': 'robust', 'n_neighbors': 305, 'weights': 'distance', 'metric': 'l1', 'algorithm': 'brute'}. Best is trial 19 with value: 0.16923658168996986.\n",
      "[I 2024-05-20 00:23:02,303] Trial 35 finished with value: 0.18009061250029412 and parameters: {'scalers': 'maxabs', 'n_neighbors': 283, 'weights': 'distance', 'metric': 'manhattan', 'algorithm': 'ball_tree', 'leaf_size': 91}. Best is trial 19 with value: 0.16923658168996986.\n",
      "[I 2024-05-20 00:23:03,425] Trial 36 finished with value: 0.16985787795174045 and parameters: {'scalers': 'robust', 'n_neighbors': 204, 'weights': 'distance', 'metric': 'minkowski', 'algorithm': 'ball_tree', 'leaf_size': 149}. Best is trial 19 with value: 0.16923658168996986.\n",
      "[I 2024-05-20 00:23:04,408] Trial 37 finished with value: 0.17475012649298288 and parameters: {'scalers': 'minmax', 'n_neighbors': 13, 'weights': 'distance', 'metric': 'l1', 'algorithm': 'ball_tree', 'leaf_size': 89}. Best is trial 19 with value: 0.16923658168996986.\n",
      "[I 2024-05-20 00:23:06,034] Trial 38 finished with value: 0.17817989363262776 and parameters: {'scalers': 'standard', 'n_neighbors': 296, 'weights': 'distance', 'metric': 'cityblock', 'algorithm': 'ball_tree', 'leaf_size': 65}. Best is trial 19 with value: 0.16923658168996986.\n",
      "[I 2024-05-20 00:23:07,182] Trial 39 finished with value: 0.16949789926809708 and parameters: {'scalers': 'robust', 'n_neighbors': 128, 'weights': 'distance', 'metric': 'l1', 'algorithm': 'ball_tree', 'leaf_size': 96}. Best is trial 19 with value: 0.16923658168996986.\n",
      "[I 2024-05-20 00:23:07,684] Trial 40 finished with value: 0.17998408314649425 and parameters: {'scalers': None, 'n_neighbors': 412, 'weights': 'distance', 'metric': 'l1', 'algorithm': 'ball_tree', 'leaf_size': 60}. Best is trial 19 with value: 0.16923658168996986.\n",
      "[I 2024-05-20 00:23:08,016] Trial 41 finished with value: 0.1769423209713121 and parameters: {'scalers': None, 'n_neighbors': 181, 'weights': 'distance', 'metric': 'l1', 'algorithm': 'ball_tree', 'leaf_size': 76}. Best is trial 19 with value: 0.16923658168996986.\n",
      "[I 2024-05-20 00:23:09,340] Trial 42 finished with value: 0.16924647851801855 and parameters: {'scalers': 'robust', 'n_neighbors': 231, 'weights': 'distance', 'metric': 'l1', 'algorithm': 'ball_tree', 'leaf_size': 74}. Best is trial 19 with value: 0.16923658168996986.\n",
      "[I 2024-05-20 00:23:10,330] Trial 43 finished with value: 0.16923008542134785 and parameters: {'scalers': 'robust', 'n_neighbors': 189, 'weights': 'distance', 'metric': 'l1', 'algorithm': 'kd_tree', 'leaf_size': 67}. Best is trial 43 with value: 0.16923008542134785.\n",
      "[I 2024-05-20 00:23:11,188] Trial 44 finished with value: 0.16946675112775342 and parameters: {'scalers': 'robust', 'n_neighbors': 137, 'weights': 'distance', 'metric': 'l1', 'algorithm': 'kd_tree', 'leaf_size': 69}. Best is trial 43 with value: 0.16923008542134785.\n",
      "[I 2024-05-20 00:23:12,008] Trial 45 finished with value: 0.2198843724867807 and parameters: {'scalers': 'maxabs', 'n_neighbors': 130, 'weights': 'uniform', 'metric': 'euclidean', 'algorithm': 'kd_tree', 'leaf_size': 93}. Best is trial 43 with value: 0.16923008542134785.\n",
      "[I 2024-05-20 00:23:13,233] Trial 46 finished with value: 0.1801650012065059 and parameters: {'scalers': 'maxabs', 'n_neighbors': 311, 'weights': 'distance', 'metric': 'l1', 'algorithm': 'kd_tree', 'leaf_size': 53}. Best is trial 43 with value: 0.16923008542134785.\n",
      "[I 2024-05-20 00:23:14,257] Trial 47 finished with value: 0.19953183418774348 and parameters: {'scalers': 'robust', 'n_neighbors': 182, 'weights': 'uniform', 'metric': 'l1', 'algorithm': 'kd_tree', 'leaf_size': 91}. Best is trial 43 with value: 0.16923008542134785.\n",
      "[I 2024-05-20 00:23:15,618] Trial 48 finished with value: 0.16969152611139912 and parameters: {'scalers': 'robust', 'n_neighbors': 325, 'weights': 'distance', 'metric': 'l1', 'algorithm': 'kd_tree', 'leaf_size': 60}. Best is trial 43 with value: 0.16923008542134785.\n",
      "[I 2024-05-20 00:23:16,281] Trial 49 finished with value: 0.19978972820681473 and parameters: {'scalers': 'robust', 'n_neighbors': 190, 'weights': 'uniform', 'metric': 'cityblock', 'algorithm': 'brute'}. Best is trial 43 with value: 0.16923008542134785.\n",
      "[I 2024-05-20 00:23:17,528] Trial 50 finished with value: 0.2209552573088285 and parameters: {'scalers': 'minmax', 'n_neighbors': 136, 'weights': 'uniform', 'metric': 'minkowski', 'algorithm': 'kd_tree', 'leaf_size': 76}. Best is trial 43 with value: 0.16923008542134785.\n",
      "[I 2024-05-20 00:23:19,067] Trial 51 finished with value: 0.16983411677969884 and parameters: {'scalers': 'robust', 'n_neighbors': 393, 'weights': 'distance', 'metric': 'l1', 'algorithm': 'ball_tree', 'leaf_size': 63}. Best is trial 43 with value: 0.16923008542134785.\n",
      "[I 2024-05-20 00:23:20,433] Trial 52 finished with value: 0.17999746196197522 and parameters: {'scalers': 'maxabs', 'n_neighbors': 271, 'weights': 'distance', 'metric': 'l1', 'algorithm': 'ball_tree', 'leaf_size': 64}. Best is trial 43 with value: 0.16923008542134785.\n",
      "[I 2024-05-20 00:23:21,559] Trial 53 finished with value: 0.16943880300432979 and parameters: {'scalers': 'robust', 'n_neighbors': 114, 'weights': 'distance', 'metric': 'manhattan', 'algorithm': 'ball_tree', 'leaf_size': 73}. Best is trial 43 with value: 0.16923008542134785.\n",
      "[I 2024-05-20 00:23:22,875] Trial 54 finished with value: 0.16925751883140275 and parameters: {'scalers': 'robust', 'n_neighbors': 238, 'weights': 'distance', 'metric': 'l1', 'algorithm': 'ball_tree', 'leaf_size': 40}. Best is trial 43 with value: 0.16923008542134785.\n",
      "[I 2024-05-20 00:23:24,407] Trial 55 finished with value: 0.22609164276002314 and parameters: {'scalers': 'standard', 'n_neighbors': 204, 'weights': 'uniform', 'metric': 'l2', 'algorithm': 'ball_tree', 'leaf_size': 30}. Best is trial 43 with value: 0.16923008542134785.\n",
      "[I 2024-05-20 00:23:25,756] Trial 56 finished with value: 0.16923884629243288 and parameters: {'scalers': 'robust', 'n_neighbors': 180, 'weights': 'distance', 'metric': 'cityblock', 'algorithm': 'ball_tree', 'leaf_size': 39}. Best is trial 43 with value: 0.16923008542134785.\n",
      "[I 2024-05-20 00:23:27,434] Trial 57 finished with value: 0.1692575808992625 and parameters: {'scalers': 'robust', 'n_neighbors': 230, 'weights': 'distance', 'metric': 'cityblock', 'algorithm': 'ball_tree', 'leaf_size': 29}. Best is trial 43 with value: 0.16923008542134785.\n",
      "[I 2024-05-20 00:23:28,610] Trial 58 finished with value: 0.16998569960217252 and parameters: {'scalers': 'robust', 'n_neighbors': 250, 'weights': 'distance', 'metric': 'euclidean', 'algorithm': 'kd_tree', 'leaf_size': 110}. Best is trial 43 with value: 0.16923008542134785.\n",
      "[I 2024-05-20 00:23:28,914] Trial 59 finished with value: 0.20906912732395475 and parameters: {'scalers': 'minmax', 'n_neighbors': 2, 'weights': 'uniform', 'metric': 'manhattan', 'algorithm': 'brute'}. Best is trial 43 with value: 0.16923008542134785.\n",
      "[I 2024-05-20 00:23:29,237] Trial 60 finished with value: 0.18143287163781774 and parameters: {'scalers': 'minmax', 'n_neighbors': 206, 'weights': 'distance', 'metric': 'euclidean', 'algorithm': 'brute'}. Best is trial 43 with value: 0.16923008542134785.\n",
      "[I 2024-05-20 00:23:31,173] Trial 61 finished with value: 0.18244332552300513 and parameters: {'scalers': 'minmax', 'n_neighbors': 267, 'weights': 'distance', 'metric': 'minkowski', 'algorithm': 'kd_tree', 'leaf_size': 36}. Best is trial 43 with value: 0.16923008542134785.\n",
      "[I 2024-05-20 00:23:32,594] Trial 62 finished with value: 0.1694290260128074 and parameters: {'scalers': 'robust', 'n_neighbors': 266, 'weights': 'distance', 'metric': 'manhattan', 'algorithm': 'ball_tree', 'leaf_size': 37}. Best is trial 43 with value: 0.16923008542134785.\n",
      "[I 2024-05-20 00:23:34,011] Trial 63 finished with value: 0.1692465208240913 and parameters: {'scalers': 'robust', 'n_neighbors': 240, 'weights': 'distance', 'metric': 'l1', 'algorithm': 'ball_tree', 'leaf_size': 36}. Best is trial 43 with value: 0.16923008542134785.\n",
      "[I 2024-05-20 00:23:35,026] Trial 64 finished with value: 0.1960420597757071 and parameters: {'scalers': 'robust', 'n_neighbors': 22, 'weights': 'uniform', 'metric': 'l2', 'algorithm': 'ball_tree', 'leaf_size': 38}. Best is trial 43 with value: 0.16923008542134785.\n",
      "[I 2024-05-20 00:23:35,263] Trial 65 finished with value: 0.1777326098562473 and parameters: {'scalers': None, 'n_neighbors': 115, 'weights': 'distance', 'metric': 'l2', 'algorithm': 'ball_tree', 'leaf_size': 45}. Best is trial 43 with value: 0.16923008542134785.\n",
      "[I 2024-05-20 00:23:36,559] Trial 66 finished with value: 0.17612702175915323 and parameters: {'scalers': 'minmax', 'n_neighbors': 121, 'weights': 'distance', 'metric': 'cityblock', 'algorithm': 'ball_tree', 'leaf_size': 49}. Best is trial 43 with value: 0.16923008542134785.\n",
      "[I 2024-05-20 00:23:37,902] Trial 67 finished with value: 0.16987310166016822 and parameters: {'scalers': 'robust', 'n_neighbors': 210, 'weights': 'distance', 'metric': 'l2', 'algorithm': 'kd_tree', 'leaf_size': 26}. Best is trial 43 with value: 0.16923008542134785.\n",
      "[I 2024-05-20 00:23:38,346] Trial 68 finished with value: 0.1762211582719657 and parameters: {'scalers': 'standard', 'n_neighbors': 171, 'weights': 'distance', 'metric': 'l1', 'algorithm': 'brute'}. Best is trial 43 with value: 0.16923008542134785.\n",
      "[I 2024-05-20 00:23:39,676] Trial 69 finished with value: 0.1777195122884917 and parameters: {'scalers': 'standard', 'n_neighbors': 252, 'weights': 'distance', 'metric': 'l1', 'algorithm': 'kd_tree', 'leaf_size': 79}. Best is trial 43 with value: 0.16923008542134785.\n",
      "[I 2024-05-20 00:23:41,165] Trial 70 finished with value: 0.17978748945343923 and parameters: {'scalers': 'standard', 'n_neighbors': 222, 'weights': 'distance', 'metric': 'euclidean', 'algorithm': 'ball_tree', 'leaf_size': 58}. Best is trial 43 with value: 0.16923008542134785.\n",
      "[I 2024-05-20 00:23:42,500] Trial 71 finished with value: 0.16926220832371622 and parameters: {'scalers': 'robust', 'n_neighbors': 236, 'weights': 'distance', 'metric': 'l1', 'algorithm': 'ball_tree', 'leaf_size': 22}. Best is trial 43 with value: 0.16923008542134785.\n",
      "[I 2024-05-20 00:23:43,877] Trial 72 finished with value: 0.22600875976275178 and parameters: {'scalers': 'minmax', 'n_neighbors': 176, 'weights': 'uniform', 'metric': 'euclidean', 'algorithm': 'ball_tree', 'leaf_size': 41}. Best is trial 43 with value: 0.16923008542134785.\n",
      "[I 2024-05-20 00:23:45,100] Trial 73 finished with value: 0.16993565510115333 and parameters: {'scalers': 'robust', 'n_neighbors': 245, 'weights': 'distance', 'metric': 'euclidean', 'algorithm': 'ball_tree', 'leaf_size': 40}. Best is trial 43 with value: 0.16923008542134785.\n",
      "[I 2024-05-20 00:23:46,257] Trial 74 finished with value: 0.16960451885803812 and parameters: {'scalers': 'robust', 'n_neighbors': 90, 'weights': 'distance', 'metric': 'cityblock', 'algorithm': 'ball_tree', 'leaf_size': 49}. Best is trial 43 with value: 0.16923008542134785.\n",
      "[I 2024-05-20 00:23:47,550] Trial 75 finished with value: 0.2276002269226902 and parameters: {'scalers': 'standard', 'n_neighbors': 313, 'weights': 'uniform', 'metric': 'l1', 'algorithm': 'ball_tree', 'leaf_size': 82}. Best is trial 43 with value: 0.16923008542134785.\n",
      "[I 2024-05-20 00:23:48,107] Trial 76 finished with value: 0.18309716390322928 and parameters: {'scalers': 'maxabs', 'n_neighbors': 492, 'weights': 'distance', 'metric': 'euclidean', 'algorithm': 'brute'}. Best is trial 43 with value: 0.16923008542134785.\n",
      "[I 2024-05-20 00:23:49,317] Trial 77 finished with value: 0.17740895360997244 and parameters: {'scalers': 'minmax', 'n_neighbors': 153, 'weights': 'distance', 'metric': 'l1', 'algorithm': 'kd_tree', 'leaf_size': 14}. Best is trial 43 with value: 0.16923008542134785.\n",
      "[I 2024-05-20 00:23:50,502] Trial 78 finished with value: 0.20125426854550757 and parameters: {'scalers': 'robust', 'n_neighbors': 234, 'weights': 'uniform', 'metric': 'minkowski', 'algorithm': 'ball_tree', 'leaf_size': 63}. Best is trial 43 with value: 0.16923008542134785.\n",
      "[I 2024-05-20 00:23:51,999] Trial 79 finished with value: 0.17846203104707975 and parameters: {'scalers': 'standard', 'n_neighbors': 347, 'weights': 'distance', 'metric': 'l1', 'algorithm': 'ball_tree', 'leaf_size': 90}. Best is trial 43 with value: 0.16923008542134785.\n",
      "[I 2024-05-20 00:23:53,208] Trial 80 finished with value: 0.1692487628436122 and parameters: {'scalers': 'robust', 'n_neighbors': 176, 'weights': 'distance', 'metric': 'l1', 'algorithm': 'ball_tree', 'leaf_size': 57}. Best is trial 43 with value: 0.16923008542134785.\n",
      "[I 2024-05-20 00:23:54,355] Trial 81 finished with value: 0.16925106536564918 and parameters: {'scalers': 'robust', 'n_neighbors': 169, 'weights': 'distance', 'metric': 'l1', 'algorithm': 'ball_tree', 'leaf_size': 51}. Best is trial 43 with value: 0.16923008542134785.\n",
      "[I 2024-05-20 00:23:55,201] Trial 82 finished with value: 0.16972600718661238 and parameters: {'scalers': 'robust', 'n_neighbors': 156, 'weights': 'distance', 'metric': 'minkowski', 'algorithm': 'kd_tree', 'leaf_size': 59}. Best is trial 43 with value: 0.16923008542134785.\n",
      "[I 2024-05-20 00:23:56,154] Trial 83 finished with value: 0.1699717697006633 and parameters: {'scalers': 'robust', 'n_neighbors': 102, 'weights': 'distance', 'metric': 'l2', 'algorithm': 'ball_tree', 'leaf_size': 66}. Best is trial 43 with value: 0.16923008542134785.\n",
      "[I 2024-05-20 00:23:57,176] Trial 84 finished with value: 0.1694285546513399 and parameters: {'scalers': 'robust', 'n_neighbors': 122, 'weights': 'distance', 'metric': 'l1', 'algorithm': 'ball_tree', 'leaf_size': 71}. Best is trial 43 with value: 0.16923008542134785.\n",
      "[I 2024-05-20 00:23:57,809] Trial 85 finished with value: 0.16925391167397236 and parameters: {'scalers': 'robust', 'n_neighbors': 183, 'weights': 'distance', 'metric': 'manhattan', 'algorithm': 'brute'}. Best is trial 43 with value: 0.16923008542134785.\n",
      "[I 2024-05-20 00:23:58,318] Trial 86 finished with value: 0.1692426044080714 and parameters: {'scalers': 'robust', 'n_neighbors': 231, 'weights': 'distance', 'metric': 'manhattan', 'algorithm': 'brute'}. Best is trial 43 with value: 0.16923008542134785.\n",
      "[I 2024-05-20 00:23:58,779] Trial 87 finished with value: 0.17851877953364328 and parameters: {'scalers': None, 'n_neighbors': 286, 'weights': 'distance', 'metric': 'cityblock', 'algorithm': 'ball_tree', 'leaf_size': 49}. Best is trial 43 with value: 0.16923008542134785.\n",
      "[I 2024-05-20 00:23:59,335] Trial 88 finished with value: 0.169234831999182 and parameters: {'scalers': 'robust', 'n_neighbors': 180, 'weights': 'distance', 'metric': 'l1', 'algorithm': 'brute'}. Best is trial 43 with value: 0.16923008542134785.\n",
      "[I 2024-05-20 00:24:00,168] Trial 89 finished with value: 0.17976801447826032 and parameters: {'scalers': 'minmax', 'n_neighbors': 331, 'weights': 'distance', 'metric': 'manhattan', 'algorithm': 'brute'}. Best is trial 43 with value: 0.16923008542134785.\n",
      "[I 2024-05-20 00:24:00,722] Trial 90 finished with value: 0.1703931739873475 and parameters: {'scalers': 'robust', 'n_neighbors': 338, 'weights': 'distance', 'metric': 'minkowski', 'algorithm': 'brute'}. Best is trial 43 with value: 0.16923008542134785.\n",
      "[I 2024-05-20 00:24:01,261] Trial 91 finished with value: 0.16923605846287015 and parameters: {'scalers': 'robust', 'n_neighbors': 188, 'weights': 'distance', 'metric': 'l1', 'algorithm': 'brute'}. Best is trial 43 with value: 0.16923008542134785.\n",
      "[I 2024-05-20 00:24:01,790] Trial 92 finished with value: 0.16927602173194414 and parameters: {'scalers': 'robust', 'n_neighbors': 223, 'weights': 'distance', 'metric': 'l1', 'algorithm': 'brute'}. Best is trial 43 with value: 0.16923008542134785.\n",
      "[I 2024-05-20 00:24:02,351] Trial 93 finished with value: 0.1780324107136561 and parameters: {'scalers': 'standard', 'n_neighbors': 269, 'weights': 'distance', 'metric': 'manhattan', 'algorithm': 'brute'}. Best is trial 43 with value: 0.16923008542134785.\n",
      "[I 2024-05-20 00:24:02,850] Trial 94 finished with value: 0.22925164824619215 and parameters: {'scalers': 'minmax', 'n_neighbors': 244, 'weights': 'uniform', 'metric': 'l1', 'algorithm': 'brute'}. Best is trial 43 with value: 0.16923008542134785.\n",
      "[I 2024-05-20 00:24:03,302] Trial 95 finished with value: 0.17777161046423676 and parameters: {'scalers': 'minmax', 'n_neighbors': 162, 'weights': 'distance', 'metric': 'l1', 'algorithm': 'brute'}. Best is trial 43 with value: 0.16923008542134785.\n",
      "[I 2024-05-20 00:24:03,765] Trial 96 finished with value: 0.20014299175672712 and parameters: {'scalers': 'robust', 'n_neighbors': 200, 'weights': 'uniform', 'metric': 'manhattan', 'algorithm': 'brute'}. Best is trial 43 with value: 0.16923008542134785.\n",
      "[I 2024-05-20 00:24:04,196] Trial 97 finished with value: 0.17595958476225543 and parameters: {'scalers': None, 'n_neighbors': 129, 'weights': 'distance', 'metric': 'l1', 'algorithm': 'brute'}. Best is trial 43 with value: 0.16923008542134785.\n",
      "[I 2024-05-20 00:24:05,223] Trial 98 finished with value: 0.16925084908301055 and parameters: {'scalers': 'robust', 'n_neighbors': 203, 'weights': 'distance', 'metric': 'l1', 'algorithm': 'kd_tree', 'leaf_size': 100}. Best is trial 43 with value: 0.16923008542134785.\n",
      "[I 2024-05-20 00:24:05,778] Trial 99 finished with value: 0.16946342105964413 and parameters: {'scalers': 'robust', 'n_neighbors': 140, 'weights': 'distance', 'metric': 'l1', 'algorithm': 'brute'}. Best is trial 43 with value: 0.16923008542134785.\n",
      "[I 2024-05-20 00:24:06,310] Trial 100 finished with value: 0.2008375212238032 and parameters: {'scalers': 'robust', 'n_neighbors': 247, 'weights': 'uniform', 'metric': 'l1', 'algorithm': 'brute'}. Best is trial 43 with value: 0.16923008542134785.\n",
      "[I 2024-05-20 00:24:07,202] Trial 101 finished with value: 0.1760709980813677 and parameters: {'scalers': 'maxabs', 'n_neighbors': 112, 'weights': 'distance', 'metric': 'manhattan', 'algorithm': 'kd_tree', 'leaf_size': 118}. Best is trial 43 with value: 0.16923008542134785.\n",
      "[I 2024-05-20 00:24:07,649] Trial 102 finished with value: 0.16925391167397236 and parameters: {'scalers': 'robust', 'n_neighbors': 183, 'weights': 'distance', 'metric': 'cityblock', 'algorithm': 'brute'}. Best is trial 43 with value: 0.16923008542134785.\n",
      "[I 2024-05-20 00:24:08,746] Trial 103 finished with value: 0.1692570188646933 and parameters: {'scalers': 'robust', 'n_neighbors': 238, 'weights': 'distance', 'metric': 'l1', 'algorithm': 'kd_tree', 'leaf_size': 106}. Best is trial 43 with value: 0.16923008542134785.\n",
      "[I 2024-05-20 00:24:09,309] Trial 104 finished with value: 0.16942929887334854 and parameters: {'scalers': 'robust', 'n_neighbors': 266, 'weights': 'distance', 'metric': 'manhattan', 'algorithm': 'brute'}. Best is trial 43 with value: 0.16923008542134785.\n",
      "[I 2024-05-20 00:24:10,945] Trial 105 finished with value: 0.22630841010913375 and parameters: {'scalers': 'standard', 'n_neighbors': 476, 'weights': 'uniform', 'metric': 'manhattan', 'algorithm': 'ball_tree', 'leaf_size': 104}. Best is trial 43 with value: 0.16923008542134785.\n",
      "[I 2024-05-20 00:24:12,030] Trial 106 finished with value: 0.17925414427610903 and parameters: {'scalers': 'maxabs', 'n_neighbors': 151, 'weights': 'distance', 'metric': 'euclidean', 'algorithm': 'ball_tree', 'leaf_size': 95}. Best is trial 43 with value: 0.16923008542134785.\n",
      "[I 2024-05-20 00:24:12,270] Trial 107 finished with value: 0.1699994956269879 and parameters: {'scalers': 'robust', 'n_neighbors': 109, 'weights': 'distance', 'metric': 'minkowski', 'algorithm': 'brute'}. Best is trial 43 with value: 0.16923008542134785.\n",
      "[I 2024-05-20 00:24:13,663] Trial 108 finished with value: 0.17833396754035313 and parameters: {'scalers': 'minmax', 'n_neighbors': 192, 'weights': 'distance', 'metric': 'l1', 'algorithm': 'ball_tree', 'leaf_size': 87}. Best is trial 43 with value: 0.16923008542134785.\n",
      "[I 2024-05-20 00:24:13,971] Trial 109 finished with value: 0.16975585477896282 and parameters: {'scalers': 'robust', 'n_neighbors': 144, 'weights': 'distance', 'metric': 'euclidean', 'algorithm': 'brute'}. Best is trial 43 with value: 0.16923008542134785.\n",
      "[I 2024-05-20 00:24:15,097] Trial 110 finished with value: 0.17826660663097857 and parameters: {'scalers': 'standard', 'n_neighbors': 172, 'weights': 'distance', 'metric': 'minkowski', 'algorithm': 'ball_tree', 'leaf_size': 132}. Best is trial 43 with value: 0.16923008542134785.\n",
      "[I 2024-05-20 00:24:16,122] Trial 111 finished with value: 0.17741053617761882 and parameters: {'scalers': 'maxabs', 'n_neighbors': 152, 'weights': 'distance', 'metric': 'l1', 'algorithm': 'ball_tree', 'leaf_size': 57}. Best is trial 43 with value: 0.16923008542134785.\n",
      "[I 2024-05-20 00:24:17,041] Trial 112 finished with value: 0.1692384397488918 and parameters: {'scalers': 'robust', 'n_neighbors': 182, 'weights': 'distance', 'metric': 'l1', 'algorithm': 'kd_tree', 'leaf_size': 75}. Best is trial 43 with value: 0.16923008542134785.\n",
      "[I 2024-05-20 00:24:18,041] Trial 113 finished with value: 0.16927120993687084 and parameters: {'scalers': 'robust', 'n_neighbors': 225, 'weights': 'distance', 'metric': 'l1', 'algorithm': 'kd_tree', 'leaf_size': 84}. Best is trial 43 with value: 0.16923008542134785.\n",
      "[I 2024-05-20 00:24:18,815] Trial 114 finished with value: 0.16943978849708183 and parameters: {'scalers': 'robust', 'n_neighbors': 114, 'weights': 'distance', 'metric': 'l1', 'algorithm': 'kd_tree', 'leaf_size': 81}. Best is trial 43 with value: 0.16923008542134785.\n",
      "[I 2024-05-20 00:24:20,200] Trial 115 finished with value: 0.1694294991048617 and parameters: {'scalers': 'robust', 'n_neighbors': 268, 'weights': 'distance', 'metric': 'l1', 'algorithm': 'ball_tree', 'leaf_size': 78}. Best is trial 43 with value: 0.16923008542134785.\n",
      "[I 2024-05-20 00:24:20,679] Trial 116 finished with value: 0.1692049667546559 and parameters: {'scalers': 'robust', 'n_neighbors': 210, 'weights': 'distance', 'metric': 'l1', 'algorithm': 'brute'}. Best is trial 116 with value: 0.1692049667546559.\n",
      "[I 2024-05-20 00:24:21,779] Trial 117 finished with value: 0.19839707007892735 and parameters: {'scalers': 'robust', 'n_neighbors': 151, 'weights': 'uniform', 'metric': 'cityblock', 'algorithm': 'ball_tree', 'leaf_size': 69}. Best is trial 116 with value: 0.1692049667546559.\n",
      "[I 2024-05-20 00:24:22,120] Trial 118 finished with value: 0.2053058415204172 and parameters: {'scalers': None, 'n_neighbors': 171, 'weights': 'uniform', 'metric': 'l1', 'algorithm': 'ball_tree', 'leaf_size': 66}. Best is trial 116 with value: 0.1692049667546559.\n",
      "[I 2024-05-20 00:24:22,548] Trial 119 finished with value: 0.17848591284405985 and parameters: {'scalers': 'maxabs', 'n_neighbors': 190, 'weights': 'distance', 'metric': 'manhattan', 'algorithm': 'brute'}. Best is trial 116 with value: 0.1692049667546559.\n",
      "[I 2024-05-20 00:24:23,630] Trial 120 finished with value: 0.16953238960933414 and parameters: {'scalers': 'robust', 'n_neighbors': 281, 'weights': 'distance', 'metric': 'cityblock', 'algorithm': 'kd_tree', 'leaf_size': 67}. Best is trial 116 with value: 0.1692049667546559.\n",
      "[I 2024-05-20 00:24:24,173] Trial 121 finished with value: 0.17870551591372616 and parameters: {'scalers': None, 'n_neighbors': 303, 'weights': 'distance', 'metric': 'l1', 'algorithm': 'brute'}. Best is trial 116 with value: 0.1692049667546559.\n",
      "[I 2024-05-20 00:24:24,504] Trial 122 finished with value: 0.19581995626065776 and parameters: {'scalers': 'robust', 'n_neighbors': 75, 'weights': 'uniform', 'metric': 'l1', 'algorithm': 'brute'}. Best is trial 116 with value: 0.1692049667546559.\n",
      "[I 2024-05-20 00:24:25,430] Trial 123 finished with value: 0.17670770279170098 and parameters: {'scalers': 'maxabs', 'n_neighbors': 131, 'weights': 'distance', 'metric': 'l1', 'algorithm': 'kd_tree', 'leaf_size': 101}. Best is trial 116 with value: 0.1692049667546559.\n",
      "[I 2024-05-20 00:24:25,952] Trial 124 finished with value: 0.1692418312710737 and parameters: {'scalers': 'robust', 'n_neighbors': 220, 'weights': 'distance', 'metric': 'l1', 'algorithm': 'brute'}. Best is trial 116 with value: 0.1692049667546559.\n",
      "[I 2024-05-20 00:24:26,524] Trial 125 finished with value: 0.16944122351556823 and parameters: {'scalers': 'robust', 'n_neighbors': 270, 'weights': 'distance', 'metric': 'l1', 'algorithm': 'brute'}. Best is trial 116 with value: 0.1692049667546559.\n",
      "[I 2024-05-20 00:24:26,989] Trial 126 finished with value: 0.2040393442843806 and parameters: {'scalers': None, 'n_neighbors': 150, 'weights': 'uniform', 'metric': 'cityblock', 'algorithm': 'kd_tree', 'leaf_size': 2}. Best is trial 116 with value: 0.1692049667546559.\n",
      "[I 2024-05-20 00:24:27,398] Trial 127 finished with value: 0.1697562562607169 and parameters: {'scalers': 'robust', 'n_neighbors': 132, 'weights': 'distance', 'metric': 'l2', 'algorithm': 'brute'}. Best is trial 116 with value: 0.1692049667546559.\n",
      "[I 2024-05-20 00:24:27,842] Trial 128 finished with value: 0.16923791477389638 and parameters: {'scalers': 'robust', 'n_neighbors': 175, 'weights': 'distance', 'metric': 'l1', 'algorithm': 'brute'}. Best is trial 116 with value: 0.1692049667546559.\n",
      "[I 2024-05-20 00:24:28,393] Trial 129 finished with value: 0.16924775237674966 and parameters: {'scalers': 'robust', 'n_neighbors': 170, 'weights': 'distance', 'metric': 'l1', 'algorithm': 'brute'}. Best is trial 116 with value: 0.1692049667546559.\n",
      "[I 2024-05-20 00:24:28,878] Trial 130 finished with value: 0.16923821709169012 and parameters: {'scalers': 'robust', 'n_neighbors': 197, 'weights': 'distance', 'metric': 'l1', 'algorithm': 'brute'}. Best is trial 116 with value: 0.1692049667546559.\n",
      "[I 2024-05-20 00:24:29,319] Trial 131 finished with value: 0.16945769016691717 and parameters: {'scalers': 'robust', 'n_neighbors': 134, 'weights': 'distance', 'metric': 'l1', 'algorithm': 'brute'}. Best is trial 116 with value: 0.1692049667546559.\n",
      "[I 2024-05-20 00:24:29,923] Trial 132 finished with value: 0.16925906984954922 and parameters: {'scalers': 'robust', 'n_neighbors': 235, 'weights': 'distance', 'metric': 'l1', 'algorithm': 'brute'}. Best is trial 116 with value: 0.1692049667546559.\n",
      "[I 2024-05-20 00:24:30,384] Trial 133 finished with value: 0.17722187571063933 and parameters: {'scalers': None, 'n_neighbors': 190, 'weights': 'distance', 'metric': 'manhattan', 'algorithm': 'brute'}. Best is trial 116 with value: 0.1692049667546559.\n",
      "[I 2024-05-20 00:24:30,797] Trial 134 finished with value: 0.20954717549938098 and parameters: {'scalers': None, 'n_neighbors': 154, 'weights': 'uniform', 'metric': 'l2', 'algorithm': 'brute'}. Best is trial 116 with value: 0.1692049667546559.\n",
      "[I 2024-05-20 00:24:31,465] Trial 135 finished with value: 0.22665255632237666 and parameters: {'scalers': 'standard', 'n_neighbors': 448, 'weights': 'uniform', 'metric': 'cityblock', 'algorithm': 'brute'}. Best is trial 116 with value: 0.1692049667546559.\n",
      "[I 2024-05-20 00:24:32,069] Trial 136 finished with value: 0.17029490544468687 and parameters: {'scalers': 'robust', 'n_neighbors': 51, 'weights': 'distance', 'metric': 'manhattan', 'algorithm': 'kd_tree', 'leaf_size': 21}. Best is trial 116 with value: 0.1692049667546559.\n",
      "[I 2024-05-20 00:24:32,459] Trial 137 finished with value: 0.16944263970716203 and parameters: {'scalers': 'robust', 'n_neighbors': 115, 'weights': 'distance', 'metric': 'l1', 'algorithm': 'brute'}. Best is trial 116 with value: 0.1692049667546559.\n",
      "[I 2024-05-20 00:24:33,655] Trial 138 finished with value: 0.17607639044199447 and parameters: {'scalers': 'standard', 'n_neighbors': 166, 'weights': 'distance', 'metric': 'cityblock', 'algorithm': 'kd_tree', 'leaf_size': 27}. Best is trial 116 with value: 0.1692049667546559.\n",
      "[I 2024-05-20 00:24:34,050] Trial 139 finished with value: 0.17012567686766908 and parameters: {'scalers': 'robust', 'n_neighbors': 284, 'weights': 'distance', 'metric': 'euclidean', 'algorithm': 'brute'}. Best is trial 116 with value: 0.1692049667546559.\n",
      "[I 2024-05-20 00:24:34,649] Trial 140 finished with value: 0.17846159437486753 and parameters: {'scalers': 'standard', 'n_neighbors': 347, 'weights': 'distance', 'metric': 'l1', 'algorithm': 'brute'}. Best is trial 116 with value: 0.1692049667546559.\n",
      "[I 2024-05-20 00:24:35,118] Trial 141 finished with value: 0.16924431109437849 and parameters: {'scalers': 'robust', 'n_neighbors': 198, 'weights': 'distance', 'metric': 'l1', 'algorithm': 'brute'}. Best is trial 116 with value: 0.1692049667546559.\n",
      "[I 2024-05-20 00:24:35,601] Trial 142 finished with value: 0.1692548590863191 and parameters: {'scalers': 'robust', 'n_neighbors': 204, 'weights': 'distance', 'metric': 'l1', 'algorithm': 'brute'}. Best is trial 116 with value: 0.1692049667546559.\n",
      "[I 2024-05-20 00:24:36,703] Trial 143 finished with value: 0.16923778570194958 and parameters: {'scalers': 'robust', 'n_neighbors': 175, 'weights': 'distance', 'metric': 'cityblock', 'algorithm': 'ball_tree', 'leaf_size': 43}. Best is trial 116 with value: 0.1692049667546559.\n",
      "[I 2024-05-20 00:24:37,804] Trial 144 finished with value: 0.1692483331588763 and parameters: {'scalers': 'robust', 'n_neighbors': 170, 'weights': 'distance', 'metric': 'cityblock', 'algorithm': 'ball_tree', 'leaf_size': 35}. Best is trial 116 with value: 0.1692049667546559.\n",
      "[I 2024-05-20 00:24:38,132] Trial 145 finished with value: 0.17390022670811145 and parameters: {'scalers': 'maxabs', 'n_neighbors': 59, 'weights': 'distance', 'metric': 'l1', 'algorithm': 'brute'}. Best is trial 116 with value: 0.1692049667546559.\n",
      "[I 2024-05-20 00:24:39,131] Trial 146 finished with value: 0.1731333327621199 and parameters: {'scalers': 'standard', 'n_neighbors': 75, 'weights': 'distance', 'metric': 'cityblock', 'algorithm': 'ball_tree', 'leaf_size': 34}. Best is trial 116 with value: 0.1692049667546559.\n",
      "[I 2024-05-20 00:24:40,515] Trial 147 finished with value: 0.16961640025485558 and parameters: {'scalers': 'robust', 'n_neighbors': 298, 'weights': 'distance', 'metric': 'cityblock', 'algorithm': 'ball_tree', 'leaf_size': 42}. Best is trial 116 with value: 0.1692049667546559.\n",
      "[I 2024-05-20 00:24:41,040] Trial 148 finished with value: 0.17970624732410317 and parameters: {'scalers': 'minmax', 'n_neighbors': 281, 'weights': 'distance', 'metric': 'l1', 'algorithm': 'brute'}. Best is trial 116 with value: 0.1692049667546559.\n",
      "[I 2024-05-20 00:24:42,270] Trial 149 finished with value: 0.23217924132800233 and parameters: {'scalers': 'maxabs', 'n_neighbors': 347, 'weights': 'uniform', 'metric': 'l2', 'algorithm': 'kd_tree', 'leaf_size': 44}. Best is trial 116 with value: 0.1692049667546559.\n"
     ]
    },
    {
     "name": "stdout",
     "output_type": "stream",
     "text": [
      "Number of finished trials:  150\n",
      "Best trial: 116\n",
      "  Value:  0.1692049667546559\n",
      "  Params: \n",
      "    scalers: robust\n",
      "    n_neighbors: 210\n",
      "    weights: distance\n",
      "    metric: l1\n",
      "    algorithm: brute\n"
     ]
    }
   ],
   "source": [
    "# KNN hyperparameters search using optuna\n",
    "\n",
    "\n",
    "def objective(trial):\n",
    "    # split data in training and test data\n",
    "    X_train, X_test, y_train, y_test = train_test_split(df_encoded[df_encoded_features], df_encoded[target],\n",
    "                                                        test_size=0.25,\n",
    "                                                        random_state=777)\n",
    "\n",
    "    # Instantiate scaler\n",
    "    scalers = trial.suggest_categorical(\"scalers\", ['minmax', 'standard', 'robust', 'maxabs', None])\n",
    "\n",
    "    if scalers == \"minmax\":\n",
    "        scaler = MinMaxScaler()\n",
    "    elif scalers == \"standard\":\n",
    "        scaler = StandardScaler()\n",
    "    elif scalers == 'maxabs':\n",
    "        scaler = MaxAbsScaler()\n",
    "    elif scalers == 'robust':\n",
    "        scaler = RobustScaler()\n",
    "    else:\n",
    "        scaler = None\n",
    "\n",
    "    # Suggest hyperparameters\n",
    "    param = { \n",
    "        'n_neighbors': trial.suggest_int(\"n_neighbors\", 1, 500),\n",
    "        'weights': trial.suggest_categorical(\"weights\", ['uniform', 'distance']),\n",
    "        'metric': trial.suggest_categorical(\"metric\", ['euclidean', 'manhattan', 'minkowski',\n",
    "                                                        'cityblock', 'l1', 'l2']),\n",
    "        'algorithm': trial.suggest_categorical(\"algorithm\", ['ball_tree', 'kd_tree', 'brute']),\n",
    "    }\n",
    "    \n",
    "    if param[\"algorithm\"] != \"brute\":\n",
    "        param[\"leaf_size\"] = trial.suggest_int('leaf_size', 1, 150)\n",
    "\n",
    "    knn = KNeighborsRegressor(**param)\n",
    "    \n",
    "    # Make a pipeline\n",
    "    pipeline = make_pipeline(scaler, knn)\n",
    "    pipeline.fit(X_train, y_train)\n",
    "\n",
    "\n",
    "    # Predict and estimate results\n",
    "    preds = pipeline.predict(X_test)\n",
    "    rmse = root_mean_squared_error(y_test, preds)\n",
    "\n",
    "    return rmse\n",
    "\n",
    "\n",
    "# Opruna study creation for tuning\n",
    "sampler_knn = TPESampler(multivariate = True, group = True, seed = 777)\n",
    "study_knn = optuna.create_study(study_name = \"knn\", sampler = sampler_knn)\n",
    "study_knn.optimize(objective, n_trials = 150)\n",
    "trial_knn = study_knn.best_trial\n",
    "params_knn = study_knn.best_trial.params\n",
    "\n",
    "# Printing the parameters\n",
    "print(\"Number of finished trials: \", len(study_knn.trials))\n",
    "print(\"Best trial:\", trial_knn.number)\n",
    "print(\"  Value: \", trial_knn.value)\n",
    "print(\"  Params: \")\n",
    "\n",
    "for key, value in trial_knn.params.items():\n",
    "    print(\"    {}: {}\".format(key, value))"
   ]
  },
  {
   "cell_type": "code",
   "execution_count": 178,
   "metadata": {},
   "outputs": [
    {
     "data": {
      "application/vnd.plotly.v1+json": {
       "config": {
        "plotlyServerURL": "https://plot.ly"
       },
       "data": [
        {
         "mode": "markers",
         "name": "Objective Value",
         "type": "scatter",
         "x": [
          0,
          1,
          2,
          3,
          4,
          5,
          6,
          7,
          8,
          9,
          10,
          11,
          12,
          13,
          14,
          15,
          16,
          17,
          18,
          19,
          20,
          21,
          22,
          23,
          24,
          25,
          26,
          27,
          28,
          29,
          30,
          31,
          32,
          33,
          34,
          35,
          36,
          37,
          38,
          39,
          40,
          41,
          42,
          43,
          44,
          45,
          46,
          47,
          48,
          49,
          50,
          51,
          52,
          53,
          54,
          55,
          56,
          57,
          58,
          59,
          60,
          61,
          62,
          63,
          64,
          65,
          66,
          67,
          68,
          69,
          70,
          71,
          72,
          73,
          74,
          75,
          76,
          77,
          78,
          79,
          80,
          81,
          82,
          83,
          84,
          85,
          86,
          87,
          88,
          89,
          90,
          91,
          92,
          93,
          94,
          95,
          96,
          97,
          98,
          99,
          100,
          101,
          102,
          103,
          104,
          105,
          106,
          107,
          108,
          109,
          110,
          111,
          112,
          113,
          114,
          115,
          116,
          117,
          118,
          119,
          120,
          121,
          122,
          123,
          124,
          125,
          126,
          127,
          128,
          129,
          130,
          131,
          132,
          133,
          134,
          135,
          136,
          137,
          138,
          139,
          140,
          141,
          142,
          143,
          144,
          145,
          146,
          147,
          148,
          149
         ],
         "y": [
          0.18051505540109108,
          0.1753951242792008,
          0.23316065386800147,
          0.22275010662294664,
          0.17746510874053287,
          0.2012685089624203,
          0.2221355692730472,
          0.2183532909114306,
          0.21036869932298835,
          0.19286964801838782,
          0.1753825774838523,
          0.17689316309815614,
          0.17766976746154975,
          0.17731143334445196,
          0.16946975707395934,
          0.16943049308626953,
          0.16967537932779783,
          0.16926163580478845,
          0.16926399114707685,
          0.16923658168996986,
          0.17001165005133936,
          0.1797095759949801,
          0.16925748034009613,
          0.20121995871763304,
          0.1705772284574082,
          0.17889590092675242,
          0.16989105563758405,
          0.18160804869827976,
          0.17192232181538686,
          0.19994184860311062,
          0.17553102181908714,
          0.1700959691719455,
          0.16924828202509062,
          0.17627630244788328,
          0.16964564192764428,
          0.18009061250029412,
          0.16985787795174045,
          0.17475012649298288,
          0.17817989363262776,
          0.16949789926809708,
          0.17998408314649425,
          0.1769423209713121,
          0.16924647851801855,
          0.16923008542134785,
          0.16946675112775342,
          0.2198843724867807,
          0.1801650012065059,
          0.19953183418774348,
          0.16969152611139912,
          0.19978972820681473,
          0.2209552573088285,
          0.16983411677969884,
          0.17999746196197522,
          0.16943880300432979,
          0.16925751883140275,
          0.22609164276002314,
          0.16923884629243288,
          0.1692575808992625,
          0.16998569960217252,
          0.20906912732395475,
          0.18143287163781774,
          0.18244332552300513,
          0.1694290260128074,
          0.1692465208240913,
          0.1960420597757071,
          0.1777326098562473,
          0.17612702175915323,
          0.16987310166016822,
          0.1762211582719657,
          0.1777195122884917,
          0.17978748945343923,
          0.16926220832371622,
          0.22600875976275178,
          0.16993565510115333,
          0.16960451885803812,
          0.2276002269226902,
          0.18309716390322928,
          0.17740895360997244,
          0.20125426854550757,
          0.17846203104707975,
          0.1692487628436122,
          0.16925106536564918,
          0.16972600718661238,
          0.1699717697006633,
          0.1694285546513399,
          0.16925391167397236,
          0.1692426044080714,
          0.17851877953364328,
          0.169234831999182,
          0.17976801447826032,
          0.1703931739873475,
          0.16923605846287015,
          0.16927602173194414,
          0.1780324107136561,
          0.22925164824619215,
          0.17777161046423676,
          0.20014299175672712,
          0.17595958476225543,
          0.16925084908301055,
          0.16946342105964413,
          0.2008375212238032,
          0.1760709980813677,
          0.16925391167397236,
          0.1692570188646933,
          0.16942929887334854,
          0.22630841010913375,
          0.17925414427610903,
          0.1699994956269879,
          0.17833396754035313,
          0.16975585477896282,
          0.17826660663097857,
          0.17741053617761882,
          0.1692384397488918,
          0.16927120993687084,
          0.16943978849708183,
          0.1694294991048617,
          0.1692049667546559,
          0.19839707007892735,
          0.2053058415204172,
          0.17848591284405985,
          0.16953238960933414,
          0.17870551591372616,
          0.19581995626065776,
          0.17670770279170098,
          0.1692418312710737,
          0.16944122351556823,
          0.2040393442843806,
          0.1697562562607169,
          0.16923791477389638,
          0.16924775237674966,
          0.16923821709169012,
          0.16945769016691717,
          0.16925906984954922,
          0.17722187571063933,
          0.20954717549938098,
          0.22665255632237666,
          0.17029490544468687,
          0.16944263970716203,
          0.17607639044199447,
          0.17012567686766908,
          0.17846159437486753,
          0.16924431109437849,
          0.1692548590863191,
          0.16923778570194958,
          0.1692483331588763,
          0.17390022670811145,
          0.1731333327621199,
          0.16961640025485558,
          0.17970624732410317,
          0.23217924132800233
         ]
        },
        {
         "mode": "lines",
         "name": "Best Value",
         "type": "scatter",
         "x": [
          0,
          1,
          2,
          3,
          4,
          5,
          6,
          7,
          8,
          9,
          10,
          11,
          12,
          13,
          14,
          15,
          16,
          17,
          18,
          19,
          20,
          21,
          22,
          23,
          24,
          25,
          26,
          27,
          28,
          29,
          30,
          31,
          32,
          33,
          34,
          35,
          36,
          37,
          38,
          39,
          40,
          41,
          42,
          43,
          44,
          45,
          46,
          47,
          48,
          49,
          50,
          51,
          52,
          53,
          54,
          55,
          56,
          57,
          58,
          59,
          60,
          61,
          62,
          63,
          64,
          65,
          66,
          67,
          68,
          69,
          70,
          71,
          72,
          73,
          74,
          75,
          76,
          77,
          78,
          79,
          80,
          81,
          82,
          83,
          84,
          85,
          86,
          87,
          88,
          89,
          90,
          91,
          92,
          93,
          94,
          95,
          96,
          97,
          98,
          99,
          100,
          101,
          102,
          103,
          104,
          105,
          106,
          107,
          108,
          109,
          110,
          111,
          112,
          113,
          114,
          115,
          116,
          117,
          118,
          119,
          120,
          121,
          122,
          123,
          124,
          125,
          126,
          127,
          128,
          129,
          130,
          131,
          132,
          133,
          134,
          135,
          136,
          137,
          138,
          139,
          140,
          141,
          142,
          143,
          144,
          145,
          146,
          147,
          148,
          149
         ],
         "y": [
          0.18051505540109108,
          0.1753951242792008,
          0.1753951242792008,
          0.1753951242792008,
          0.1753951242792008,
          0.1753951242792008,
          0.1753951242792008,
          0.1753951242792008,
          0.1753951242792008,
          0.1753951242792008,
          0.1753825774838523,
          0.1753825774838523,
          0.1753825774838523,
          0.1753825774838523,
          0.16946975707395934,
          0.16943049308626953,
          0.16943049308626953,
          0.16926163580478845,
          0.16926163580478845,
          0.16923658168996986,
          0.16923658168996986,
          0.16923658168996986,
          0.16923658168996986,
          0.16923658168996986,
          0.16923658168996986,
          0.16923658168996986,
          0.16923658168996986,
          0.16923658168996986,
          0.16923658168996986,
          0.16923658168996986,
          0.16923658168996986,
          0.16923658168996986,
          0.16923658168996986,
          0.16923658168996986,
          0.16923658168996986,
          0.16923658168996986,
          0.16923658168996986,
          0.16923658168996986,
          0.16923658168996986,
          0.16923658168996986,
          0.16923658168996986,
          0.16923658168996986,
          0.16923658168996986,
          0.16923008542134785,
          0.16923008542134785,
          0.16923008542134785,
          0.16923008542134785,
          0.16923008542134785,
          0.16923008542134785,
          0.16923008542134785,
          0.16923008542134785,
          0.16923008542134785,
          0.16923008542134785,
          0.16923008542134785,
          0.16923008542134785,
          0.16923008542134785,
          0.16923008542134785,
          0.16923008542134785,
          0.16923008542134785,
          0.16923008542134785,
          0.16923008542134785,
          0.16923008542134785,
          0.16923008542134785,
          0.16923008542134785,
          0.16923008542134785,
          0.16923008542134785,
          0.16923008542134785,
          0.16923008542134785,
          0.16923008542134785,
          0.16923008542134785,
          0.16923008542134785,
          0.16923008542134785,
          0.16923008542134785,
          0.16923008542134785,
          0.16923008542134785,
          0.16923008542134785,
          0.16923008542134785,
          0.16923008542134785,
          0.16923008542134785,
          0.16923008542134785,
          0.16923008542134785,
          0.16923008542134785,
          0.16923008542134785,
          0.16923008542134785,
          0.16923008542134785,
          0.16923008542134785,
          0.16923008542134785,
          0.16923008542134785,
          0.16923008542134785,
          0.16923008542134785,
          0.16923008542134785,
          0.16923008542134785,
          0.16923008542134785,
          0.16923008542134785,
          0.16923008542134785,
          0.16923008542134785,
          0.16923008542134785,
          0.16923008542134785,
          0.16923008542134785,
          0.16923008542134785,
          0.16923008542134785,
          0.16923008542134785,
          0.16923008542134785,
          0.16923008542134785,
          0.16923008542134785,
          0.16923008542134785,
          0.16923008542134785,
          0.16923008542134785,
          0.16923008542134785,
          0.16923008542134785,
          0.16923008542134785,
          0.16923008542134785,
          0.16923008542134785,
          0.16923008542134785,
          0.16923008542134785,
          0.16923008542134785,
          0.1692049667546559,
          0.1692049667546559,
          0.1692049667546559,
          0.1692049667546559,
          0.1692049667546559,
          0.1692049667546559,
          0.1692049667546559,
          0.1692049667546559,
          0.1692049667546559,
          0.1692049667546559,
          0.1692049667546559,
          0.1692049667546559,
          0.1692049667546559,
          0.1692049667546559,
          0.1692049667546559,
          0.1692049667546559,
          0.1692049667546559,
          0.1692049667546559,
          0.1692049667546559,
          0.1692049667546559,
          0.1692049667546559,
          0.1692049667546559,
          0.1692049667546559,
          0.1692049667546559,
          0.1692049667546559,
          0.1692049667546559,
          0.1692049667546559,
          0.1692049667546559,
          0.1692049667546559,
          0.1692049667546559,
          0.1692049667546559,
          0.1692049667546559,
          0.1692049667546559,
          0.1692049667546559
         ]
        },
        {
         "marker": {
          "color": "#cccccc"
         },
         "mode": "markers",
         "name": "Infeasible Trial",
         "showlegend": false,
         "type": "scatter",
         "x": [],
         "y": []
        }
       ],
       "layout": {
        "template": {
         "data": {
          "bar": [
           {
            "error_x": {
             "color": "#2a3f5f"
            },
            "error_y": {
             "color": "#2a3f5f"
            },
            "marker": {
             "line": {
              "color": "#E5ECF6",
              "width": 0.5
             },
             "pattern": {
              "fillmode": "overlay",
              "size": 10,
              "solidity": 0.2
             }
            },
            "type": "bar"
           }
          ],
          "barpolar": [
           {
            "marker": {
             "line": {
              "color": "#E5ECF6",
              "width": 0.5
             },
             "pattern": {
              "fillmode": "overlay",
              "size": 10,
              "solidity": 0.2
             }
            },
            "type": "barpolar"
           }
          ],
          "carpet": [
           {
            "aaxis": {
             "endlinecolor": "#2a3f5f",
             "gridcolor": "white",
             "linecolor": "white",
             "minorgridcolor": "white",
             "startlinecolor": "#2a3f5f"
            },
            "baxis": {
             "endlinecolor": "#2a3f5f",
             "gridcolor": "white",
             "linecolor": "white",
             "minorgridcolor": "white",
             "startlinecolor": "#2a3f5f"
            },
            "type": "carpet"
           }
          ],
          "choropleth": [
           {
            "colorbar": {
             "outlinewidth": 0,
             "ticks": ""
            },
            "type": "choropleth"
           }
          ],
          "contour": [
           {
            "colorbar": {
             "outlinewidth": 0,
             "ticks": ""
            },
            "colorscale": [
             [
              0,
              "#0d0887"
             ],
             [
              0.1111111111111111,
              "#46039f"
             ],
             [
              0.2222222222222222,
              "#7201a8"
             ],
             [
              0.3333333333333333,
              "#9c179e"
             ],
             [
              0.4444444444444444,
              "#bd3786"
             ],
             [
              0.5555555555555556,
              "#d8576b"
             ],
             [
              0.6666666666666666,
              "#ed7953"
             ],
             [
              0.7777777777777778,
              "#fb9f3a"
             ],
             [
              0.8888888888888888,
              "#fdca26"
             ],
             [
              1,
              "#f0f921"
             ]
            ],
            "type": "contour"
           }
          ],
          "contourcarpet": [
           {
            "colorbar": {
             "outlinewidth": 0,
             "ticks": ""
            },
            "type": "contourcarpet"
           }
          ],
          "heatmap": [
           {
            "colorbar": {
             "outlinewidth": 0,
             "ticks": ""
            },
            "colorscale": [
             [
              0,
              "#0d0887"
             ],
             [
              0.1111111111111111,
              "#46039f"
             ],
             [
              0.2222222222222222,
              "#7201a8"
             ],
             [
              0.3333333333333333,
              "#9c179e"
             ],
             [
              0.4444444444444444,
              "#bd3786"
             ],
             [
              0.5555555555555556,
              "#d8576b"
             ],
             [
              0.6666666666666666,
              "#ed7953"
             ],
             [
              0.7777777777777778,
              "#fb9f3a"
             ],
             [
              0.8888888888888888,
              "#fdca26"
             ],
             [
              1,
              "#f0f921"
             ]
            ],
            "type": "heatmap"
           }
          ],
          "heatmapgl": [
           {
            "colorbar": {
             "outlinewidth": 0,
             "ticks": ""
            },
            "colorscale": [
             [
              0,
              "#0d0887"
             ],
             [
              0.1111111111111111,
              "#46039f"
             ],
             [
              0.2222222222222222,
              "#7201a8"
             ],
             [
              0.3333333333333333,
              "#9c179e"
             ],
             [
              0.4444444444444444,
              "#bd3786"
             ],
             [
              0.5555555555555556,
              "#d8576b"
             ],
             [
              0.6666666666666666,
              "#ed7953"
             ],
             [
              0.7777777777777778,
              "#fb9f3a"
             ],
             [
              0.8888888888888888,
              "#fdca26"
             ],
             [
              1,
              "#f0f921"
             ]
            ],
            "type": "heatmapgl"
           }
          ],
          "histogram": [
           {
            "marker": {
             "pattern": {
              "fillmode": "overlay",
              "size": 10,
              "solidity": 0.2
             }
            },
            "type": "histogram"
           }
          ],
          "histogram2d": [
           {
            "colorbar": {
             "outlinewidth": 0,
             "ticks": ""
            },
            "colorscale": [
             [
              0,
              "#0d0887"
             ],
             [
              0.1111111111111111,
              "#46039f"
             ],
             [
              0.2222222222222222,
              "#7201a8"
             ],
             [
              0.3333333333333333,
              "#9c179e"
             ],
             [
              0.4444444444444444,
              "#bd3786"
             ],
             [
              0.5555555555555556,
              "#d8576b"
             ],
             [
              0.6666666666666666,
              "#ed7953"
             ],
             [
              0.7777777777777778,
              "#fb9f3a"
             ],
             [
              0.8888888888888888,
              "#fdca26"
             ],
             [
              1,
              "#f0f921"
             ]
            ],
            "type": "histogram2d"
           }
          ],
          "histogram2dcontour": [
           {
            "colorbar": {
             "outlinewidth": 0,
             "ticks": ""
            },
            "colorscale": [
             [
              0,
              "#0d0887"
             ],
             [
              0.1111111111111111,
              "#46039f"
             ],
             [
              0.2222222222222222,
              "#7201a8"
             ],
             [
              0.3333333333333333,
              "#9c179e"
             ],
             [
              0.4444444444444444,
              "#bd3786"
             ],
             [
              0.5555555555555556,
              "#d8576b"
             ],
             [
              0.6666666666666666,
              "#ed7953"
             ],
             [
              0.7777777777777778,
              "#fb9f3a"
             ],
             [
              0.8888888888888888,
              "#fdca26"
             ],
             [
              1,
              "#f0f921"
             ]
            ],
            "type": "histogram2dcontour"
           }
          ],
          "mesh3d": [
           {
            "colorbar": {
             "outlinewidth": 0,
             "ticks": ""
            },
            "type": "mesh3d"
           }
          ],
          "parcoords": [
           {
            "line": {
             "colorbar": {
              "outlinewidth": 0,
              "ticks": ""
             }
            },
            "type": "parcoords"
           }
          ],
          "pie": [
           {
            "automargin": true,
            "type": "pie"
           }
          ],
          "scatter": [
           {
            "fillpattern": {
             "fillmode": "overlay",
             "size": 10,
             "solidity": 0.2
            },
            "type": "scatter"
           }
          ],
          "scatter3d": [
           {
            "line": {
             "colorbar": {
              "outlinewidth": 0,
              "ticks": ""
             }
            },
            "marker": {
             "colorbar": {
              "outlinewidth": 0,
              "ticks": ""
             }
            },
            "type": "scatter3d"
           }
          ],
          "scattercarpet": [
           {
            "marker": {
             "colorbar": {
              "outlinewidth": 0,
              "ticks": ""
             }
            },
            "type": "scattercarpet"
           }
          ],
          "scattergeo": [
           {
            "marker": {
             "colorbar": {
              "outlinewidth": 0,
              "ticks": ""
             }
            },
            "type": "scattergeo"
           }
          ],
          "scattergl": [
           {
            "marker": {
             "colorbar": {
              "outlinewidth": 0,
              "ticks": ""
             }
            },
            "type": "scattergl"
           }
          ],
          "scattermapbox": [
           {
            "marker": {
             "colorbar": {
              "outlinewidth": 0,
              "ticks": ""
             }
            },
            "type": "scattermapbox"
           }
          ],
          "scatterpolar": [
           {
            "marker": {
             "colorbar": {
              "outlinewidth": 0,
              "ticks": ""
             }
            },
            "type": "scatterpolar"
           }
          ],
          "scatterpolargl": [
           {
            "marker": {
             "colorbar": {
              "outlinewidth": 0,
              "ticks": ""
             }
            },
            "type": "scatterpolargl"
           }
          ],
          "scatterternary": [
           {
            "marker": {
             "colorbar": {
              "outlinewidth": 0,
              "ticks": ""
             }
            },
            "type": "scatterternary"
           }
          ],
          "surface": [
           {
            "colorbar": {
             "outlinewidth": 0,
             "ticks": ""
            },
            "colorscale": [
             [
              0,
              "#0d0887"
             ],
             [
              0.1111111111111111,
              "#46039f"
             ],
             [
              0.2222222222222222,
              "#7201a8"
             ],
             [
              0.3333333333333333,
              "#9c179e"
             ],
             [
              0.4444444444444444,
              "#bd3786"
             ],
             [
              0.5555555555555556,
              "#d8576b"
             ],
             [
              0.6666666666666666,
              "#ed7953"
             ],
             [
              0.7777777777777778,
              "#fb9f3a"
             ],
             [
              0.8888888888888888,
              "#fdca26"
             ],
             [
              1,
              "#f0f921"
             ]
            ],
            "type": "surface"
           }
          ],
          "table": [
           {
            "cells": {
             "fill": {
              "color": "#EBF0F8"
             },
             "line": {
              "color": "white"
             }
            },
            "header": {
             "fill": {
              "color": "#C8D4E3"
             },
             "line": {
              "color": "white"
             }
            },
            "type": "table"
           }
          ]
         },
         "layout": {
          "annotationdefaults": {
           "arrowcolor": "#2a3f5f",
           "arrowhead": 0,
           "arrowwidth": 1
          },
          "autotypenumbers": "strict",
          "coloraxis": {
           "colorbar": {
            "outlinewidth": 0,
            "ticks": ""
           }
          },
          "colorscale": {
           "diverging": [
            [
             0,
             "#8e0152"
            ],
            [
             0.1,
             "#c51b7d"
            ],
            [
             0.2,
             "#de77ae"
            ],
            [
             0.3,
             "#f1b6da"
            ],
            [
             0.4,
             "#fde0ef"
            ],
            [
             0.5,
             "#f7f7f7"
            ],
            [
             0.6,
             "#e6f5d0"
            ],
            [
             0.7,
             "#b8e186"
            ],
            [
             0.8,
             "#7fbc41"
            ],
            [
             0.9,
             "#4d9221"
            ],
            [
             1,
             "#276419"
            ]
           ],
           "sequential": [
            [
             0,
             "#0d0887"
            ],
            [
             0.1111111111111111,
             "#46039f"
            ],
            [
             0.2222222222222222,
             "#7201a8"
            ],
            [
             0.3333333333333333,
             "#9c179e"
            ],
            [
             0.4444444444444444,
             "#bd3786"
            ],
            [
             0.5555555555555556,
             "#d8576b"
            ],
            [
             0.6666666666666666,
             "#ed7953"
            ],
            [
             0.7777777777777778,
             "#fb9f3a"
            ],
            [
             0.8888888888888888,
             "#fdca26"
            ],
            [
             1,
             "#f0f921"
            ]
           ],
           "sequentialminus": [
            [
             0,
             "#0d0887"
            ],
            [
             0.1111111111111111,
             "#46039f"
            ],
            [
             0.2222222222222222,
             "#7201a8"
            ],
            [
             0.3333333333333333,
             "#9c179e"
            ],
            [
             0.4444444444444444,
             "#bd3786"
            ],
            [
             0.5555555555555556,
             "#d8576b"
            ],
            [
             0.6666666666666666,
             "#ed7953"
            ],
            [
             0.7777777777777778,
             "#fb9f3a"
            ],
            [
             0.8888888888888888,
             "#fdca26"
            ],
            [
             1,
             "#f0f921"
            ]
           ]
          },
          "colorway": [
           "#636efa",
           "#EF553B",
           "#00cc96",
           "#ab63fa",
           "#FFA15A",
           "#19d3f3",
           "#FF6692",
           "#B6E880",
           "#FF97FF",
           "#FECB52"
          ],
          "font": {
           "color": "#2a3f5f"
          },
          "geo": {
           "bgcolor": "white",
           "lakecolor": "white",
           "landcolor": "#E5ECF6",
           "showlakes": true,
           "showland": true,
           "subunitcolor": "white"
          },
          "hoverlabel": {
           "align": "left"
          },
          "hovermode": "closest",
          "mapbox": {
           "style": "light"
          },
          "paper_bgcolor": "white",
          "plot_bgcolor": "#E5ECF6",
          "polar": {
           "angularaxis": {
            "gridcolor": "white",
            "linecolor": "white",
            "ticks": ""
           },
           "bgcolor": "#E5ECF6",
           "radialaxis": {
            "gridcolor": "white",
            "linecolor": "white",
            "ticks": ""
           }
          },
          "scene": {
           "xaxis": {
            "backgroundcolor": "#E5ECF6",
            "gridcolor": "white",
            "gridwidth": 2,
            "linecolor": "white",
            "showbackground": true,
            "ticks": "",
            "zerolinecolor": "white"
           },
           "yaxis": {
            "backgroundcolor": "#E5ECF6",
            "gridcolor": "white",
            "gridwidth": 2,
            "linecolor": "white",
            "showbackground": true,
            "ticks": "",
            "zerolinecolor": "white"
           },
           "zaxis": {
            "backgroundcolor": "#E5ECF6",
            "gridcolor": "white",
            "gridwidth": 2,
            "linecolor": "white",
            "showbackground": true,
            "ticks": "",
            "zerolinecolor": "white"
           }
          },
          "shapedefaults": {
           "line": {
            "color": "#2a3f5f"
           }
          },
          "ternary": {
           "aaxis": {
            "gridcolor": "white",
            "linecolor": "white",
            "ticks": ""
           },
           "baxis": {
            "gridcolor": "white",
            "linecolor": "white",
            "ticks": ""
           },
           "bgcolor": "#E5ECF6",
           "caxis": {
            "gridcolor": "white",
            "linecolor": "white",
            "ticks": ""
           }
          },
          "title": {
           "x": 0.05
          },
          "xaxis": {
           "automargin": true,
           "gridcolor": "white",
           "linecolor": "white",
           "ticks": "",
           "title": {
            "standoff": 15
           },
           "zerolinecolor": "white",
           "zerolinewidth": 2
          },
          "yaxis": {
           "automargin": true,
           "gridcolor": "white",
           "linecolor": "white",
           "ticks": "",
           "title": {
            "standoff": 15
           },
           "zerolinecolor": "white",
           "zerolinewidth": 2
          }
         }
        },
        "title": {
         "text": "Optimization History Plot"
        },
        "xaxis": {
         "title": {
          "text": "Trial"
         }
        },
        "yaxis": {
         "title": {
          "text": "Objective Value"
         }
        }
       }
      }
     },
     "metadata": {},
     "output_type": "display_data"
    }
   ],
   "source": [
    "# History of optimization\n",
    "\n",
    "optuna.visualization.plot_optimization_history(study_knn)"
   ]
  },
  {
   "cell_type": "code",
   "execution_count": 179,
   "metadata": {},
   "outputs": [
    {
     "data": {
      "application/vnd.plotly.v1+json": {
       "config": {
        "plotlyServerURL": "https://plot.ly"
       },
       "data": [
        {
         "marker": {
          "color": [
           0,
           1,
           2,
           3,
           4,
           5,
           6,
           7,
           8,
           9,
           10,
           11,
           12,
           13,
           14,
           15,
           16,
           17,
           18,
           19,
           20,
           21,
           22,
           23,
           24,
           25,
           26,
           27,
           28,
           29,
           30,
           31,
           32,
           33,
           34,
           35,
           36,
           37,
           38,
           39,
           40,
           41,
           42,
           43,
           44,
           45,
           46,
           47,
           48,
           49,
           50,
           51,
           52,
           53,
           54,
           55,
           56,
           57,
           58,
           59,
           60,
           61,
           62,
           63,
           64,
           65,
           66,
           67,
           68,
           69,
           70,
           71,
           72,
           73,
           74,
           75,
           76,
           77,
           78,
           79,
           80,
           81,
           82,
           83,
           84,
           85,
           86,
           87,
           88,
           89,
           90,
           91,
           92,
           93,
           94,
           95,
           96,
           97,
           98,
           99,
           100,
           101,
           102,
           103,
           104,
           105,
           106,
           107,
           108,
           109,
           110,
           111,
           112,
           113,
           114,
           115,
           116,
           117,
           118,
           119,
           120,
           121,
           122,
           123,
           124,
           125,
           126,
           127,
           128,
           129,
           130,
           131,
           132,
           133,
           134,
           135,
           136,
           137,
           138,
           139,
           140,
           141,
           142,
           143,
           144,
           145,
           146,
           147,
           148,
           149
          ],
          "colorbar": {
           "title": {
            "text": "Trial"
           },
           "x": 1,
           "xpad": 40
          },
          "colorscale": [
           [
            0,
            "rgb(247,251,255)"
           ],
           [
            0.125,
            "rgb(222,235,247)"
           ],
           [
            0.25,
            "rgb(198,219,239)"
           ],
           [
            0.375,
            "rgb(158,202,225)"
           ],
           [
            0.5,
            "rgb(107,174,214)"
           ],
           [
            0.625,
            "rgb(66,146,198)"
           ],
           [
            0.75,
            "rgb(33,113,181)"
           ],
           [
            0.875,
            "rgb(8,81,156)"
           ],
           [
            1,
            "rgb(8,48,107)"
           ]
          ],
          "line": {
           "color": "Grey",
           "width": 0.5
          },
          "showscale": true
         },
         "mode": "markers",
         "name": "Feasible Trial",
         "showlegend": false,
         "type": "scatter",
         "x": [
          "ball_tree",
          "kd_tree",
          "kd_tree",
          "ball_tree",
          "kd_tree",
          "kd_tree",
          "kd_tree",
          "ball_tree",
          "brute",
          "brute",
          "kd_tree",
          "kd_tree",
          "brute",
          "kd_tree",
          "kd_tree",
          "kd_tree",
          "kd_tree",
          "ball_tree",
          "ball_tree",
          "ball_tree",
          "ball_tree",
          "ball_tree",
          "ball_tree",
          "ball_tree",
          "ball_tree",
          "brute",
          "brute",
          "ball_tree",
          "brute",
          "ball_tree",
          "ball_tree",
          "ball_tree",
          "ball_tree",
          "ball_tree",
          "brute",
          "ball_tree",
          "ball_tree",
          "ball_tree",
          "ball_tree",
          "ball_tree",
          "ball_tree",
          "ball_tree",
          "ball_tree",
          "kd_tree",
          "kd_tree",
          "kd_tree",
          "kd_tree",
          "kd_tree",
          "kd_tree",
          "brute",
          "kd_tree",
          "ball_tree",
          "ball_tree",
          "ball_tree",
          "ball_tree",
          "ball_tree",
          "ball_tree",
          "ball_tree",
          "kd_tree",
          "brute",
          "brute",
          "kd_tree",
          "ball_tree",
          "ball_tree",
          "ball_tree",
          "ball_tree",
          "ball_tree",
          "kd_tree",
          "brute",
          "kd_tree",
          "ball_tree",
          "ball_tree",
          "ball_tree",
          "ball_tree",
          "ball_tree",
          "ball_tree",
          "brute",
          "kd_tree",
          "ball_tree",
          "ball_tree",
          "ball_tree",
          "ball_tree",
          "kd_tree",
          "ball_tree",
          "ball_tree",
          "brute",
          "brute",
          "ball_tree",
          "brute",
          "brute",
          "brute",
          "brute",
          "brute",
          "brute",
          "brute",
          "brute",
          "brute",
          "brute",
          "kd_tree",
          "brute",
          "brute",
          "kd_tree",
          "brute",
          "kd_tree",
          "brute",
          "ball_tree",
          "ball_tree",
          "brute",
          "ball_tree",
          "brute",
          "ball_tree",
          "ball_tree",
          "kd_tree",
          "kd_tree",
          "kd_tree",
          "ball_tree",
          "brute",
          "ball_tree",
          "ball_tree",
          "brute",
          "kd_tree",
          "brute",
          "brute",
          "kd_tree",
          "brute",
          "brute",
          "kd_tree",
          "brute",
          "brute",
          "brute",
          "brute",
          "brute",
          "brute",
          "brute",
          "brute",
          "brute",
          "kd_tree",
          "brute",
          "kd_tree",
          "brute",
          "brute",
          "brute",
          "brute",
          "ball_tree",
          "ball_tree",
          "brute",
          "ball_tree",
          "ball_tree",
          "brute",
          "kd_tree"
         ],
         "xaxis": "x",
         "y": [
          0.18051505540109108,
          0.1753951242792008,
          0.23316065386800147,
          0.22275010662294664,
          0.17746510874053287,
          0.2012685089624203,
          0.2221355692730472,
          0.2183532909114306,
          0.21036869932298835,
          0.19286964801838782,
          0.1753825774838523,
          0.17689316309815614,
          0.17766976746154975,
          0.17731143334445196,
          0.16946975707395934,
          0.16943049308626953,
          0.16967537932779783,
          0.16926163580478845,
          0.16926399114707685,
          0.16923658168996986,
          0.17001165005133936,
          0.1797095759949801,
          0.16925748034009613,
          0.20121995871763304,
          0.1705772284574082,
          0.17889590092675242,
          0.16989105563758405,
          0.18160804869827976,
          0.17192232181538686,
          0.19994184860311062,
          0.17553102181908714,
          0.1700959691719455,
          0.16924828202509062,
          0.17627630244788328,
          0.16964564192764428,
          0.18009061250029412,
          0.16985787795174045,
          0.17475012649298288,
          0.17817989363262776,
          0.16949789926809708,
          0.17998408314649425,
          0.1769423209713121,
          0.16924647851801855,
          0.16923008542134785,
          0.16946675112775342,
          0.2198843724867807,
          0.1801650012065059,
          0.19953183418774348,
          0.16969152611139912,
          0.19978972820681473,
          0.2209552573088285,
          0.16983411677969884,
          0.17999746196197522,
          0.16943880300432979,
          0.16925751883140275,
          0.22609164276002314,
          0.16923884629243288,
          0.1692575808992625,
          0.16998569960217252,
          0.20906912732395475,
          0.18143287163781774,
          0.18244332552300513,
          0.1694290260128074,
          0.1692465208240913,
          0.1960420597757071,
          0.1777326098562473,
          0.17612702175915323,
          0.16987310166016822,
          0.1762211582719657,
          0.1777195122884917,
          0.17978748945343923,
          0.16926220832371622,
          0.22600875976275178,
          0.16993565510115333,
          0.16960451885803812,
          0.2276002269226902,
          0.18309716390322928,
          0.17740895360997244,
          0.20125426854550757,
          0.17846203104707975,
          0.1692487628436122,
          0.16925106536564918,
          0.16972600718661238,
          0.1699717697006633,
          0.1694285546513399,
          0.16925391167397236,
          0.1692426044080714,
          0.17851877953364328,
          0.169234831999182,
          0.17976801447826032,
          0.1703931739873475,
          0.16923605846287015,
          0.16927602173194414,
          0.1780324107136561,
          0.22925164824619215,
          0.17777161046423676,
          0.20014299175672712,
          0.17595958476225543,
          0.16925084908301055,
          0.16946342105964413,
          0.2008375212238032,
          0.1760709980813677,
          0.16925391167397236,
          0.1692570188646933,
          0.16942929887334854,
          0.22630841010913375,
          0.17925414427610903,
          0.1699994956269879,
          0.17833396754035313,
          0.16975585477896282,
          0.17826660663097857,
          0.17741053617761882,
          0.1692384397488918,
          0.16927120993687084,
          0.16943978849708183,
          0.1694294991048617,
          0.1692049667546559,
          0.19839707007892735,
          0.2053058415204172,
          0.17848591284405985,
          0.16953238960933414,
          0.17870551591372616,
          0.19581995626065776,
          0.17670770279170098,
          0.1692418312710737,
          0.16944122351556823,
          0.2040393442843806,
          0.1697562562607169,
          0.16923791477389638,
          0.16924775237674966,
          0.16923821709169012,
          0.16945769016691717,
          0.16925906984954922,
          0.17722187571063933,
          0.20954717549938098,
          0.22665255632237666,
          0.17029490544468687,
          0.16944263970716203,
          0.17607639044199447,
          0.17012567686766908,
          0.17846159437486753,
          0.16924431109437849,
          0.1692548590863191,
          0.16923778570194958,
          0.1692483331588763,
          0.17390022670811145,
          0.1731333327621199,
          0.16961640025485558,
          0.17970624732410317,
          0.23217924132800233
         ],
         "yaxis": "y"
        },
        {
         "marker": {
          "color": [
           0,
           1,
           2,
           3,
           4,
           5,
           6,
           7,
           10,
           11,
           13,
           14,
           15,
           16,
           17,
           18,
           19,
           20,
           21,
           22,
           23,
           24,
           27,
           29,
           30,
           31,
           32,
           33,
           35,
           36,
           37,
           38,
           39,
           40,
           41,
           42,
           43,
           44,
           45,
           46,
           47,
           48,
           50,
           51,
           52,
           53,
           54,
           55,
           56,
           57,
           58,
           61,
           62,
           63,
           64,
           65,
           66,
           67,
           69,
           70,
           71,
           72,
           73,
           74,
           75,
           77,
           78,
           79,
           80,
           81,
           82,
           83,
           84,
           87,
           98,
           101,
           103,
           105,
           106,
           108,
           110,
           111,
           112,
           113,
           114,
           115,
           117,
           118,
           120,
           123,
           126,
           136,
           138,
           143,
           144,
           146,
           147,
           149
          ],
          "colorbar": {
           "title": {
            "text": "Trial"
           },
           "x": 1,
           "xpad": 40
          },
          "colorscale": [
           [
            0,
            "rgb(247,251,255)"
           ],
           [
            0.125,
            "rgb(222,235,247)"
           ],
           [
            0.25,
            "rgb(198,219,239)"
           ],
           [
            0.375,
            "rgb(158,202,225)"
           ],
           [
            0.5,
            "rgb(107,174,214)"
           ],
           [
            0.625,
            "rgb(66,146,198)"
           ],
           [
            0.75,
            "rgb(33,113,181)"
           ],
           [
            0.875,
            "rgb(8,81,156)"
           ],
           [
            1,
            "rgb(8,48,107)"
           ]
          ],
          "line": {
           "color": "Grey",
           "width": 0.5
          },
          "showscale": false
         },
         "mode": "markers",
         "name": "Feasible Trial",
         "showlegend": false,
         "type": "scatter",
         "x": [
          83,
          2,
          52,
          110,
          44,
          121,
          116,
          126,
          1,
          6,
          1,
          23,
          40,
          47,
          67,
          75,
          81,
          81,
          78,
          75,
          78,
          87,
          67,
          91,
          58,
          72,
          74,
          67,
          91,
          149,
          89,
          65,
          96,
          60,
          76,
          74,
          67,
          69,
          93,
          53,
          91,
          60,
          76,
          63,
          64,
          73,
          40,
          30,
          39,
          29,
          110,
          36,
          37,
          36,
          38,
          45,
          49,
          26,
          79,
          58,
          22,
          41,
          40,
          49,
          82,
          14,
          63,
          90,
          57,
          51,
          59,
          66,
          71,
          49,
          100,
          118,
          106,
          104,
          95,
          87,
          132,
          57,
          75,
          84,
          81,
          78,
          69,
          66,
          67,
          101,
          2,
          21,
          27,
          43,
          35,
          34,
          42,
          44
         ],
         "xaxis": "x2",
         "y": [
          0.18051505540109108,
          0.1753951242792008,
          0.23316065386800147,
          0.22275010662294664,
          0.17746510874053287,
          0.2012685089624203,
          0.2221355692730472,
          0.2183532909114306,
          0.1753825774838523,
          0.17689316309815614,
          0.17731143334445196,
          0.16946975707395934,
          0.16943049308626953,
          0.16967537932779783,
          0.16926163580478845,
          0.16926399114707685,
          0.16923658168996986,
          0.17001165005133936,
          0.1797095759949801,
          0.16925748034009613,
          0.20121995871763304,
          0.1705772284574082,
          0.18160804869827976,
          0.19994184860311062,
          0.17553102181908714,
          0.1700959691719455,
          0.16924828202509062,
          0.17627630244788328,
          0.18009061250029412,
          0.16985787795174045,
          0.17475012649298288,
          0.17817989363262776,
          0.16949789926809708,
          0.17998408314649425,
          0.1769423209713121,
          0.16924647851801855,
          0.16923008542134785,
          0.16946675112775342,
          0.2198843724867807,
          0.1801650012065059,
          0.19953183418774348,
          0.16969152611139912,
          0.2209552573088285,
          0.16983411677969884,
          0.17999746196197522,
          0.16943880300432979,
          0.16925751883140275,
          0.22609164276002314,
          0.16923884629243288,
          0.1692575808992625,
          0.16998569960217252,
          0.18244332552300513,
          0.1694290260128074,
          0.1692465208240913,
          0.1960420597757071,
          0.1777326098562473,
          0.17612702175915323,
          0.16987310166016822,
          0.1777195122884917,
          0.17978748945343923,
          0.16926220832371622,
          0.22600875976275178,
          0.16993565510115333,
          0.16960451885803812,
          0.2276002269226902,
          0.17740895360997244,
          0.20125426854550757,
          0.17846203104707975,
          0.1692487628436122,
          0.16925106536564918,
          0.16972600718661238,
          0.1699717697006633,
          0.1694285546513399,
          0.17851877953364328,
          0.16925084908301055,
          0.1760709980813677,
          0.1692570188646933,
          0.22630841010913375,
          0.17925414427610903,
          0.17833396754035313,
          0.17826660663097857,
          0.17741053617761882,
          0.1692384397488918,
          0.16927120993687084,
          0.16943978849708183,
          0.1694294991048617,
          0.19839707007892735,
          0.2053058415204172,
          0.16953238960933414,
          0.17670770279170098,
          0.2040393442843806,
          0.17029490544468687,
          0.17607639044199447,
          0.16923778570194958,
          0.1692483331588763,
          0.1731333327621199,
          0.16961640025485558,
          0.23217924132800233
         ],
         "yaxis": "y2"
        },
        {
         "marker": {
          "color": [
           0,
           1,
           2,
           3,
           4,
           5,
           6,
           7,
           8,
           9,
           10,
           11,
           12,
           13,
           14,
           15,
           16,
           17,
           18,
           19,
           20,
           21,
           22,
           23,
           24,
           25,
           26,
           27,
           28,
           29,
           30,
           31,
           32,
           33,
           34,
           35,
           36,
           37,
           38,
           39,
           40,
           41,
           42,
           43,
           44,
           45,
           46,
           47,
           48,
           49,
           50,
           51,
           52,
           53,
           54,
           55,
           56,
           57,
           58,
           59,
           60,
           61,
           62,
           63,
           64,
           65,
           66,
           67,
           68,
           69,
           70,
           71,
           72,
           73,
           74,
           75,
           76,
           77,
           78,
           79,
           80,
           81,
           82,
           83,
           84,
           85,
           86,
           87,
           88,
           89,
           90,
           91,
           92,
           93,
           94,
           95,
           96,
           97,
           98,
           99,
           100,
           101,
           102,
           103,
           104,
           105,
           106,
           107,
           108,
           109,
           110,
           111,
           112,
           113,
           114,
           115,
           116,
           117,
           118,
           119,
           120,
           121,
           122,
           123,
           124,
           125,
           126,
           127,
           128,
           129,
           130,
           131,
           132,
           133,
           134,
           135,
           136,
           137,
           138,
           139,
           140,
           141,
           142,
           143,
           144,
           145,
           146,
           147,
           148,
           149
          ],
          "colorbar": {
           "title": {
            "text": "Trial"
           },
           "x": 1,
           "xpad": 40
          },
          "colorscale": [
           [
            0,
            "rgb(247,251,255)"
           ],
           [
            0.125,
            "rgb(222,235,247)"
           ],
           [
            0.25,
            "rgb(198,219,239)"
           ],
           [
            0.375,
            "rgb(158,202,225)"
           ],
           [
            0.5,
            "rgb(107,174,214)"
           ],
           [
            0.625,
            "rgb(66,146,198)"
           ],
           [
            0.75,
            "rgb(33,113,181)"
           ],
           [
            0.875,
            "rgb(8,81,156)"
           ],
           [
            1,
            "rgb(8,48,107)"
           ]
          ],
          "line": {
           "color": "Grey",
           "width": 0.5
          },
          "showscale": false
         },
         "mode": "markers",
         "name": "Feasible Trial",
         "showlegend": false,
         "type": "scatter",
         "x": [
          "manhattan",
          "cityblock",
          "l2",
          "l1",
          "euclidean",
          "minkowski",
          "l1",
          "minkowski",
          "manhattan",
          "minkowski",
          "cityblock",
          "cityblock",
          "cityblock",
          "l1",
          "cityblock",
          "manhattan",
          "manhattan",
          "l1",
          "l1",
          "l1",
          "euclidean",
          "l1",
          "l1",
          "cityblock",
          "euclidean",
          "l1",
          "l2",
          "minkowski",
          "l1",
          "l1",
          "l1",
          "l2",
          "l1",
          "cityblock",
          "l1",
          "manhattan",
          "minkowski",
          "l1",
          "cityblock",
          "l1",
          "l1",
          "l1",
          "l1",
          "l1",
          "l1",
          "euclidean",
          "l1",
          "l1",
          "l1",
          "cityblock",
          "minkowski",
          "l1",
          "l1",
          "manhattan",
          "l1",
          "l2",
          "cityblock",
          "cityblock",
          "euclidean",
          "manhattan",
          "euclidean",
          "minkowski",
          "manhattan",
          "l1",
          "l2",
          "l2",
          "cityblock",
          "l2",
          "l1",
          "l1",
          "euclidean",
          "l1",
          "euclidean",
          "euclidean",
          "cityblock",
          "l1",
          "euclidean",
          "l1",
          "minkowski",
          "l1",
          "l1",
          "l1",
          "minkowski",
          "l2",
          "l1",
          "manhattan",
          "manhattan",
          "cityblock",
          "l1",
          "manhattan",
          "minkowski",
          "l1",
          "l1",
          "manhattan",
          "l1",
          "l1",
          "manhattan",
          "l1",
          "l1",
          "l1",
          "l1",
          "manhattan",
          "cityblock",
          "l1",
          "manhattan",
          "manhattan",
          "euclidean",
          "minkowski",
          "l1",
          "euclidean",
          "minkowski",
          "l1",
          "l1",
          "l1",
          "l1",
          "l1",
          "l1",
          "cityblock",
          "l1",
          "manhattan",
          "cityblock",
          "l1",
          "l1",
          "l1",
          "l1",
          "l1",
          "cityblock",
          "l2",
          "l1",
          "l1",
          "l1",
          "l1",
          "l1",
          "manhattan",
          "l2",
          "cityblock",
          "manhattan",
          "l1",
          "cityblock",
          "euclidean",
          "l1",
          "l1",
          "l1",
          "cityblock",
          "cityblock",
          "l1",
          "cityblock",
          "cityblock",
          "l1",
          "l2"
         ],
         "xaxis": "x3",
         "y": [
          0.18051505540109108,
          0.1753951242792008,
          0.23316065386800147,
          0.22275010662294664,
          0.17746510874053287,
          0.2012685089624203,
          0.2221355692730472,
          0.2183532909114306,
          0.21036869932298835,
          0.19286964801838782,
          0.1753825774838523,
          0.17689316309815614,
          0.17766976746154975,
          0.17731143334445196,
          0.16946975707395934,
          0.16943049308626953,
          0.16967537932779783,
          0.16926163580478845,
          0.16926399114707685,
          0.16923658168996986,
          0.17001165005133936,
          0.1797095759949801,
          0.16925748034009613,
          0.20121995871763304,
          0.1705772284574082,
          0.17889590092675242,
          0.16989105563758405,
          0.18160804869827976,
          0.17192232181538686,
          0.19994184860311062,
          0.17553102181908714,
          0.1700959691719455,
          0.16924828202509062,
          0.17627630244788328,
          0.16964564192764428,
          0.18009061250029412,
          0.16985787795174045,
          0.17475012649298288,
          0.17817989363262776,
          0.16949789926809708,
          0.17998408314649425,
          0.1769423209713121,
          0.16924647851801855,
          0.16923008542134785,
          0.16946675112775342,
          0.2198843724867807,
          0.1801650012065059,
          0.19953183418774348,
          0.16969152611139912,
          0.19978972820681473,
          0.2209552573088285,
          0.16983411677969884,
          0.17999746196197522,
          0.16943880300432979,
          0.16925751883140275,
          0.22609164276002314,
          0.16923884629243288,
          0.1692575808992625,
          0.16998569960217252,
          0.20906912732395475,
          0.18143287163781774,
          0.18244332552300513,
          0.1694290260128074,
          0.1692465208240913,
          0.1960420597757071,
          0.1777326098562473,
          0.17612702175915323,
          0.16987310166016822,
          0.1762211582719657,
          0.1777195122884917,
          0.17978748945343923,
          0.16926220832371622,
          0.22600875976275178,
          0.16993565510115333,
          0.16960451885803812,
          0.2276002269226902,
          0.18309716390322928,
          0.17740895360997244,
          0.20125426854550757,
          0.17846203104707975,
          0.1692487628436122,
          0.16925106536564918,
          0.16972600718661238,
          0.1699717697006633,
          0.1694285546513399,
          0.16925391167397236,
          0.1692426044080714,
          0.17851877953364328,
          0.169234831999182,
          0.17976801447826032,
          0.1703931739873475,
          0.16923605846287015,
          0.16927602173194414,
          0.1780324107136561,
          0.22925164824619215,
          0.17777161046423676,
          0.20014299175672712,
          0.17595958476225543,
          0.16925084908301055,
          0.16946342105964413,
          0.2008375212238032,
          0.1760709980813677,
          0.16925391167397236,
          0.1692570188646933,
          0.16942929887334854,
          0.22630841010913375,
          0.17925414427610903,
          0.1699994956269879,
          0.17833396754035313,
          0.16975585477896282,
          0.17826660663097857,
          0.17741053617761882,
          0.1692384397488918,
          0.16927120993687084,
          0.16943978849708183,
          0.1694294991048617,
          0.1692049667546559,
          0.19839707007892735,
          0.2053058415204172,
          0.17848591284405985,
          0.16953238960933414,
          0.17870551591372616,
          0.19581995626065776,
          0.17670770279170098,
          0.1692418312710737,
          0.16944122351556823,
          0.2040393442843806,
          0.1697562562607169,
          0.16923791477389638,
          0.16924775237674966,
          0.16923821709169012,
          0.16945769016691717,
          0.16925906984954922,
          0.17722187571063933,
          0.20954717549938098,
          0.22665255632237666,
          0.17029490544468687,
          0.16944263970716203,
          0.17607639044199447,
          0.17012567686766908,
          0.17846159437486753,
          0.16924431109437849,
          0.1692548590863191,
          0.16923778570194958,
          0.1692483331588763,
          0.17390022670811145,
          0.1731333327621199,
          0.16961640025485558,
          0.17970624732410317,
          0.23217924132800233
         ],
         "yaxis": "y3"
        },
        {
         "marker": {
          "color": [
           0,
           1,
           2,
           3,
           4,
           5,
           6,
           7,
           8,
           9,
           10,
           11,
           12,
           13,
           14,
           15,
           16,
           17,
           18,
           19,
           20,
           21,
           22,
           23,
           24,
           25,
           26,
           27,
           28,
           29,
           30,
           31,
           32,
           33,
           34,
           35,
           36,
           37,
           38,
           39,
           40,
           41,
           42,
           43,
           44,
           45,
           46,
           47,
           48,
           49,
           50,
           51,
           52,
           53,
           54,
           55,
           56,
           57,
           58,
           59,
           60,
           61,
           62,
           63,
           64,
           65,
           66,
           67,
           68,
           69,
           70,
           71,
           72,
           73,
           74,
           75,
           76,
           77,
           78,
           79,
           80,
           81,
           82,
           83,
           84,
           85,
           86,
           87,
           88,
           89,
           90,
           91,
           92,
           93,
           94,
           95,
           96,
           97,
           98,
           99,
           100,
           101,
           102,
           103,
           104,
           105,
           106,
           107,
           108,
           109,
           110,
           111,
           112,
           113,
           114,
           115,
           116,
           117,
           118,
           119,
           120,
           121,
           122,
           123,
           124,
           125,
           126,
           127,
           128,
           129,
           130,
           131,
           132,
           133,
           134,
           135,
           136,
           137,
           138,
           139,
           140,
           141,
           142,
           143,
           144,
           145,
           146,
           147,
           148,
           149
          ],
          "colorbar": {
           "title": {
            "text": "Trial"
           },
           "x": 1,
           "xpad": 40
          },
          "colorscale": [
           [
            0,
            "rgb(247,251,255)"
           ],
           [
            0.125,
            "rgb(222,235,247)"
           ],
           [
            0.25,
            "rgb(198,219,239)"
           ],
           [
            0.375,
            "rgb(158,202,225)"
           ],
           [
            0.5,
            "rgb(107,174,214)"
           ],
           [
            0.625,
            "rgb(66,146,198)"
           ],
           [
            0.75,
            "rgb(33,113,181)"
           ],
           [
            0.875,
            "rgb(8,81,156)"
           ],
           [
            1,
            "rgb(8,48,107)"
           ]
          ],
          "line": {
           "color": "Grey",
           "width": 0.5
          },
          "showscale": false
         },
         "mode": "markers",
         "name": "Feasible Trial",
         "showlegend": false,
         "type": "scatter",
         "x": [
          464,
          97,
          307,
          158,
          151,
          483,
          188,
          120,
          287,
          3,
          32,
          22,
          237,
          196,
          137,
          262,
          338,
          244,
          236,
          180,
          104,
          280,
          230,
          344,
          389,
          209,
          239,
          275,
          29,
          194,
          145,
          257,
          205,
          118,
          305,
          283,
          204,
          13,
          296,
          128,
          412,
          181,
          231,
          189,
          137,
          130,
          311,
          182,
          325,
          190,
          136,
          393,
          271,
          114,
          238,
          204,
          180,
          230,
          250,
          2,
          206,
          267,
          266,
          240,
          22,
          115,
          121,
          210,
          171,
          252,
          222,
          236,
          176,
          245,
          90,
          313,
          492,
          153,
          234,
          347,
          176,
          169,
          156,
          102,
          122,
          183,
          231,
          286,
          180,
          331,
          338,
          188,
          223,
          269,
          244,
          162,
          200,
          129,
          203,
          140,
          247,
          112,
          183,
          238,
          266,
          476,
          151,
          109,
          192,
          144,
          172,
          152,
          182,
          225,
          114,
          268,
          210,
          151,
          171,
          190,
          281,
          303,
          75,
          131,
          220,
          270,
          150,
          132,
          175,
          170,
          197,
          134,
          235,
          190,
          154,
          448,
          51,
          115,
          166,
          284,
          347,
          198,
          204,
          175,
          170,
          59,
          75,
          298,
          281,
          347
         ],
         "xaxis": "x4",
         "y": [
          0.18051505540109108,
          0.1753951242792008,
          0.23316065386800147,
          0.22275010662294664,
          0.17746510874053287,
          0.2012685089624203,
          0.2221355692730472,
          0.2183532909114306,
          0.21036869932298835,
          0.19286964801838782,
          0.1753825774838523,
          0.17689316309815614,
          0.17766976746154975,
          0.17731143334445196,
          0.16946975707395934,
          0.16943049308626953,
          0.16967537932779783,
          0.16926163580478845,
          0.16926399114707685,
          0.16923658168996986,
          0.17001165005133936,
          0.1797095759949801,
          0.16925748034009613,
          0.20121995871763304,
          0.1705772284574082,
          0.17889590092675242,
          0.16989105563758405,
          0.18160804869827976,
          0.17192232181538686,
          0.19994184860311062,
          0.17553102181908714,
          0.1700959691719455,
          0.16924828202509062,
          0.17627630244788328,
          0.16964564192764428,
          0.18009061250029412,
          0.16985787795174045,
          0.17475012649298288,
          0.17817989363262776,
          0.16949789926809708,
          0.17998408314649425,
          0.1769423209713121,
          0.16924647851801855,
          0.16923008542134785,
          0.16946675112775342,
          0.2198843724867807,
          0.1801650012065059,
          0.19953183418774348,
          0.16969152611139912,
          0.19978972820681473,
          0.2209552573088285,
          0.16983411677969884,
          0.17999746196197522,
          0.16943880300432979,
          0.16925751883140275,
          0.22609164276002314,
          0.16923884629243288,
          0.1692575808992625,
          0.16998569960217252,
          0.20906912732395475,
          0.18143287163781774,
          0.18244332552300513,
          0.1694290260128074,
          0.1692465208240913,
          0.1960420597757071,
          0.1777326098562473,
          0.17612702175915323,
          0.16987310166016822,
          0.1762211582719657,
          0.1777195122884917,
          0.17978748945343923,
          0.16926220832371622,
          0.22600875976275178,
          0.16993565510115333,
          0.16960451885803812,
          0.2276002269226902,
          0.18309716390322928,
          0.17740895360997244,
          0.20125426854550757,
          0.17846203104707975,
          0.1692487628436122,
          0.16925106536564918,
          0.16972600718661238,
          0.1699717697006633,
          0.1694285546513399,
          0.16925391167397236,
          0.1692426044080714,
          0.17851877953364328,
          0.169234831999182,
          0.17976801447826032,
          0.1703931739873475,
          0.16923605846287015,
          0.16927602173194414,
          0.1780324107136561,
          0.22925164824619215,
          0.17777161046423676,
          0.20014299175672712,
          0.17595958476225543,
          0.16925084908301055,
          0.16946342105964413,
          0.2008375212238032,
          0.1760709980813677,
          0.16925391167397236,
          0.1692570188646933,
          0.16942929887334854,
          0.22630841010913375,
          0.17925414427610903,
          0.1699994956269879,
          0.17833396754035313,
          0.16975585477896282,
          0.17826660663097857,
          0.17741053617761882,
          0.1692384397488918,
          0.16927120993687084,
          0.16943978849708183,
          0.1694294991048617,
          0.1692049667546559,
          0.19839707007892735,
          0.2053058415204172,
          0.17848591284405985,
          0.16953238960933414,
          0.17870551591372616,
          0.19581995626065776,
          0.17670770279170098,
          0.1692418312710737,
          0.16944122351556823,
          0.2040393442843806,
          0.1697562562607169,
          0.16923791477389638,
          0.16924775237674966,
          0.16923821709169012,
          0.16945769016691717,
          0.16925906984954922,
          0.17722187571063933,
          0.20954717549938098,
          0.22665255632237666,
          0.17029490544468687,
          0.16944263970716203,
          0.17607639044199447,
          0.17012567686766908,
          0.17846159437486753,
          0.16924431109437849,
          0.1692548590863191,
          0.16923778570194958,
          0.1692483331588763,
          0.17390022670811145,
          0.1731333327621199,
          0.16961640025485558,
          0.17970624732410317,
          0.23217924132800233
         ],
         "yaxis": "y4"
        },
        {
         "marker": {
          "color": [
           0,
           1,
           2,
           3,
           4,
           5,
           6,
           7,
           8,
           9,
           10,
           11,
           12,
           13,
           14,
           15,
           16,
           17,
           18,
           19,
           20,
           21,
           22,
           23,
           24,
           25,
           26,
           27,
           28,
           29,
           30,
           31,
           32,
           33,
           34,
           35,
           36,
           37,
           38,
           39,
           40,
           41,
           42,
           43,
           44,
           45,
           46,
           47,
           48,
           49,
           50,
           51,
           52,
           53,
           54,
           55,
           56,
           57,
           58,
           59,
           60,
           61,
           62,
           63,
           64,
           65,
           66,
           67,
           68,
           69,
           70,
           71,
           72,
           73,
           74,
           75,
           76,
           77,
           78,
           79,
           80,
           81,
           82,
           83,
           84,
           85,
           86,
           87,
           88,
           89,
           90,
           91,
           92,
           93,
           94,
           95,
           96,
           97,
           98,
           99,
           100,
           101,
           102,
           103,
           104,
           105,
           106,
           107,
           108,
           109,
           110,
           111,
           112,
           113,
           114,
           115,
           116,
           117,
           118,
           119,
           120,
           121,
           122,
           123,
           124,
           125,
           126,
           127,
           128,
           129,
           130,
           131,
           132,
           133,
           134,
           135,
           136,
           137,
           138,
           139,
           140,
           141,
           142,
           143,
           144,
           145,
           146,
           147,
           148,
           149
          ],
          "colorbar": {
           "title": {
            "text": "Trial"
           },
           "x": 1,
           "xpad": 40
          },
          "colorscale": [
           [
            0,
            "rgb(247,251,255)"
           ],
           [
            0.125,
            "rgb(222,235,247)"
           ],
           [
            0.25,
            "rgb(198,219,239)"
           ],
           [
            0.375,
            "rgb(158,202,225)"
           ],
           [
            0.5,
            "rgb(107,174,214)"
           ],
           [
            0.625,
            "rgb(66,146,198)"
           ],
           [
            0.75,
            "rgb(33,113,181)"
           ],
           [
            0.875,
            "rgb(8,81,156)"
           ],
           [
            1,
            "rgb(8,48,107)"
           ]
          ],
          "line": {
           "color": "Grey",
           "width": 0.5
          },
          "showscale": false
         },
         "mode": "markers",
         "name": "Feasible Trial",
         "showlegend": false,
         "type": "scatter",
         "x": [
          null,
          null,
          "standard",
          "maxabs",
          "standard",
          "robust",
          "standard",
          "maxabs",
          null,
          "standard",
          null,
          null,
          null,
          null,
          "robust",
          "robust",
          "robust",
          "robust",
          "robust",
          "robust",
          "robust",
          "minmax",
          "robust",
          "robust",
          "robust",
          "maxabs",
          "robust",
          null,
          "robust",
          "robust",
          "standard",
          "robust",
          "robust",
          "maxabs",
          "robust",
          "maxabs",
          "robust",
          "minmax",
          "standard",
          "robust",
          null,
          null,
          "robust",
          "robust",
          "robust",
          "maxabs",
          "maxabs",
          "robust",
          "robust",
          "robust",
          "minmax",
          "robust",
          "maxabs",
          "robust",
          "robust",
          "standard",
          "robust",
          "robust",
          "robust",
          "minmax",
          "minmax",
          "minmax",
          "robust",
          "robust",
          "robust",
          null,
          "minmax",
          "robust",
          "standard",
          "standard",
          "standard",
          "robust",
          "minmax",
          "robust",
          "robust",
          "standard",
          "maxabs",
          "minmax",
          "robust",
          "standard",
          "robust",
          "robust",
          "robust",
          "robust",
          "robust",
          "robust",
          "robust",
          null,
          "robust",
          "minmax",
          "robust",
          "robust",
          "robust",
          "standard",
          "minmax",
          "minmax",
          "robust",
          null,
          "robust",
          "robust",
          "robust",
          "maxabs",
          "robust",
          "robust",
          "robust",
          "standard",
          "maxabs",
          "robust",
          "minmax",
          "robust",
          "standard",
          "maxabs",
          "robust",
          "robust",
          "robust",
          "robust",
          "robust",
          "robust",
          null,
          "maxabs",
          "robust",
          null,
          "robust",
          "maxabs",
          "robust",
          "robust",
          null,
          "robust",
          "robust",
          "robust",
          "robust",
          "robust",
          "robust",
          null,
          null,
          "standard",
          "robust",
          "robust",
          "standard",
          "robust",
          "standard",
          "robust",
          "robust",
          "robust",
          "robust",
          "maxabs",
          "standard",
          "robust",
          "minmax",
          "maxabs"
         ],
         "xaxis": "x5",
         "y": [
          0.18051505540109108,
          0.1753951242792008,
          0.23316065386800147,
          0.22275010662294664,
          0.17746510874053287,
          0.2012685089624203,
          0.2221355692730472,
          0.2183532909114306,
          0.21036869932298835,
          0.19286964801838782,
          0.1753825774838523,
          0.17689316309815614,
          0.17766976746154975,
          0.17731143334445196,
          0.16946975707395934,
          0.16943049308626953,
          0.16967537932779783,
          0.16926163580478845,
          0.16926399114707685,
          0.16923658168996986,
          0.17001165005133936,
          0.1797095759949801,
          0.16925748034009613,
          0.20121995871763304,
          0.1705772284574082,
          0.17889590092675242,
          0.16989105563758405,
          0.18160804869827976,
          0.17192232181538686,
          0.19994184860311062,
          0.17553102181908714,
          0.1700959691719455,
          0.16924828202509062,
          0.17627630244788328,
          0.16964564192764428,
          0.18009061250029412,
          0.16985787795174045,
          0.17475012649298288,
          0.17817989363262776,
          0.16949789926809708,
          0.17998408314649425,
          0.1769423209713121,
          0.16924647851801855,
          0.16923008542134785,
          0.16946675112775342,
          0.2198843724867807,
          0.1801650012065059,
          0.19953183418774348,
          0.16969152611139912,
          0.19978972820681473,
          0.2209552573088285,
          0.16983411677969884,
          0.17999746196197522,
          0.16943880300432979,
          0.16925751883140275,
          0.22609164276002314,
          0.16923884629243288,
          0.1692575808992625,
          0.16998569960217252,
          0.20906912732395475,
          0.18143287163781774,
          0.18244332552300513,
          0.1694290260128074,
          0.1692465208240913,
          0.1960420597757071,
          0.1777326098562473,
          0.17612702175915323,
          0.16987310166016822,
          0.1762211582719657,
          0.1777195122884917,
          0.17978748945343923,
          0.16926220832371622,
          0.22600875976275178,
          0.16993565510115333,
          0.16960451885803812,
          0.2276002269226902,
          0.18309716390322928,
          0.17740895360997244,
          0.20125426854550757,
          0.17846203104707975,
          0.1692487628436122,
          0.16925106536564918,
          0.16972600718661238,
          0.1699717697006633,
          0.1694285546513399,
          0.16925391167397236,
          0.1692426044080714,
          0.17851877953364328,
          0.169234831999182,
          0.17976801447826032,
          0.1703931739873475,
          0.16923605846287015,
          0.16927602173194414,
          0.1780324107136561,
          0.22925164824619215,
          0.17777161046423676,
          0.20014299175672712,
          0.17595958476225543,
          0.16925084908301055,
          0.16946342105964413,
          0.2008375212238032,
          0.1760709980813677,
          0.16925391167397236,
          0.1692570188646933,
          0.16942929887334854,
          0.22630841010913375,
          0.17925414427610903,
          0.1699994956269879,
          0.17833396754035313,
          0.16975585477896282,
          0.17826660663097857,
          0.17741053617761882,
          0.1692384397488918,
          0.16927120993687084,
          0.16943978849708183,
          0.1694294991048617,
          0.1692049667546559,
          0.19839707007892735,
          0.2053058415204172,
          0.17848591284405985,
          0.16953238960933414,
          0.17870551591372616,
          0.19581995626065776,
          0.17670770279170098,
          0.1692418312710737,
          0.16944122351556823,
          0.2040393442843806,
          0.1697562562607169,
          0.16923791477389638,
          0.16924775237674966,
          0.16923821709169012,
          0.16945769016691717,
          0.16925906984954922,
          0.17722187571063933,
          0.20954717549938098,
          0.22665255632237666,
          0.17029490544468687,
          0.16944263970716203,
          0.17607639044199447,
          0.17012567686766908,
          0.17846159437486753,
          0.16924431109437849,
          0.1692548590863191,
          0.16923778570194958,
          0.1692483331588763,
          0.17390022670811145,
          0.1731333327621199,
          0.16961640025485558,
          0.17970624732410317,
          0.23217924132800233
         ],
         "yaxis": "y5"
        },
        {
         "marker": {
          "color": [
           0,
           1,
           2,
           3,
           4,
           5,
           6,
           7,
           8,
           9,
           10,
           11,
           12,
           13,
           14,
           15,
           16,
           17,
           18,
           19,
           20,
           21,
           22,
           23,
           24,
           25,
           26,
           27,
           28,
           29,
           30,
           31,
           32,
           33,
           34,
           35,
           36,
           37,
           38,
           39,
           40,
           41,
           42,
           43,
           44,
           45,
           46,
           47,
           48,
           49,
           50,
           51,
           52,
           53,
           54,
           55,
           56,
           57,
           58,
           59,
           60,
           61,
           62,
           63,
           64,
           65,
           66,
           67,
           68,
           69,
           70,
           71,
           72,
           73,
           74,
           75,
           76,
           77,
           78,
           79,
           80,
           81,
           82,
           83,
           84,
           85,
           86,
           87,
           88,
           89,
           90,
           91,
           92,
           93,
           94,
           95,
           96,
           97,
           98,
           99,
           100,
           101,
           102,
           103,
           104,
           105,
           106,
           107,
           108,
           109,
           110,
           111,
           112,
           113,
           114,
           115,
           116,
           117,
           118,
           119,
           120,
           121,
           122,
           123,
           124,
           125,
           126,
           127,
           128,
           129,
           130,
           131,
           132,
           133,
           134,
           135,
           136,
           137,
           138,
           139,
           140,
           141,
           142,
           143,
           144,
           145,
           146,
           147,
           148,
           149
          ],
          "colorbar": {
           "title": {
            "text": "Trial"
           },
           "x": 1,
           "xpad": 40
          },
          "colorscale": [
           [
            0,
            "rgb(247,251,255)"
           ],
           [
            0.125,
            "rgb(222,235,247)"
           ],
           [
            0.25,
            "rgb(198,219,239)"
           ],
           [
            0.375,
            "rgb(158,202,225)"
           ],
           [
            0.5,
            "rgb(107,174,214)"
           ],
           [
            0.625,
            "rgb(66,146,198)"
           ],
           [
            0.75,
            "rgb(33,113,181)"
           ],
           [
            0.875,
            "rgb(8,81,156)"
           ],
           [
            1,
            "rgb(8,48,107)"
           ]
          ],
          "line": {
           "color": "Grey",
           "width": 0.5
          },
          "showscale": false
         },
         "mode": "markers",
         "name": "Feasible Trial",
         "showlegend": false,
         "type": "scatter",
         "x": [
          "distance",
          "distance",
          "uniform",
          "uniform",
          "distance",
          "uniform",
          "uniform",
          "uniform",
          "uniform",
          "distance",
          "distance",
          "distance",
          "distance",
          "distance",
          "distance",
          "distance",
          "distance",
          "distance",
          "distance",
          "distance",
          "distance",
          "distance",
          "distance",
          "uniform",
          "distance",
          "distance",
          "distance",
          "distance",
          "distance",
          "uniform",
          "distance",
          "distance",
          "distance",
          "distance",
          "distance",
          "distance",
          "distance",
          "distance",
          "distance",
          "distance",
          "distance",
          "distance",
          "distance",
          "distance",
          "distance",
          "uniform",
          "distance",
          "uniform",
          "distance",
          "uniform",
          "uniform",
          "distance",
          "distance",
          "distance",
          "distance",
          "uniform",
          "distance",
          "distance",
          "distance",
          "uniform",
          "distance",
          "distance",
          "distance",
          "distance",
          "uniform",
          "distance",
          "distance",
          "distance",
          "distance",
          "distance",
          "distance",
          "distance",
          "uniform",
          "distance",
          "distance",
          "uniform",
          "distance",
          "distance",
          "uniform",
          "distance",
          "distance",
          "distance",
          "distance",
          "distance",
          "distance",
          "distance",
          "distance",
          "distance",
          "distance",
          "distance",
          "distance",
          "distance",
          "distance",
          "distance",
          "uniform",
          "distance",
          "uniform",
          "distance",
          "distance",
          "distance",
          "uniform",
          "distance",
          "distance",
          "distance",
          "distance",
          "uniform",
          "distance",
          "distance",
          "distance",
          "distance",
          "distance",
          "distance",
          "distance",
          "distance",
          "distance",
          "distance",
          "distance",
          "uniform",
          "uniform",
          "distance",
          "distance",
          "distance",
          "uniform",
          "distance",
          "distance",
          "distance",
          "uniform",
          "distance",
          "distance",
          "distance",
          "distance",
          "distance",
          "distance",
          "distance",
          "uniform",
          "uniform",
          "distance",
          "distance",
          "distance",
          "distance",
          "distance",
          "distance",
          "distance",
          "distance",
          "distance",
          "distance",
          "distance",
          "distance",
          "distance",
          "uniform"
         ],
         "xaxis": "x6",
         "y": [
          0.18051505540109108,
          0.1753951242792008,
          0.23316065386800147,
          0.22275010662294664,
          0.17746510874053287,
          0.2012685089624203,
          0.2221355692730472,
          0.2183532909114306,
          0.21036869932298835,
          0.19286964801838782,
          0.1753825774838523,
          0.17689316309815614,
          0.17766976746154975,
          0.17731143334445196,
          0.16946975707395934,
          0.16943049308626953,
          0.16967537932779783,
          0.16926163580478845,
          0.16926399114707685,
          0.16923658168996986,
          0.17001165005133936,
          0.1797095759949801,
          0.16925748034009613,
          0.20121995871763304,
          0.1705772284574082,
          0.17889590092675242,
          0.16989105563758405,
          0.18160804869827976,
          0.17192232181538686,
          0.19994184860311062,
          0.17553102181908714,
          0.1700959691719455,
          0.16924828202509062,
          0.17627630244788328,
          0.16964564192764428,
          0.18009061250029412,
          0.16985787795174045,
          0.17475012649298288,
          0.17817989363262776,
          0.16949789926809708,
          0.17998408314649425,
          0.1769423209713121,
          0.16924647851801855,
          0.16923008542134785,
          0.16946675112775342,
          0.2198843724867807,
          0.1801650012065059,
          0.19953183418774348,
          0.16969152611139912,
          0.19978972820681473,
          0.2209552573088285,
          0.16983411677969884,
          0.17999746196197522,
          0.16943880300432979,
          0.16925751883140275,
          0.22609164276002314,
          0.16923884629243288,
          0.1692575808992625,
          0.16998569960217252,
          0.20906912732395475,
          0.18143287163781774,
          0.18244332552300513,
          0.1694290260128074,
          0.1692465208240913,
          0.1960420597757071,
          0.1777326098562473,
          0.17612702175915323,
          0.16987310166016822,
          0.1762211582719657,
          0.1777195122884917,
          0.17978748945343923,
          0.16926220832371622,
          0.22600875976275178,
          0.16993565510115333,
          0.16960451885803812,
          0.2276002269226902,
          0.18309716390322928,
          0.17740895360997244,
          0.20125426854550757,
          0.17846203104707975,
          0.1692487628436122,
          0.16925106536564918,
          0.16972600718661238,
          0.1699717697006633,
          0.1694285546513399,
          0.16925391167397236,
          0.1692426044080714,
          0.17851877953364328,
          0.169234831999182,
          0.17976801447826032,
          0.1703931739873475,
          0.16923605846287015,
          0.16927602173194414,
          0.1780324107136561,
          0.22925164824619215,
          0.17777161046423676,
          0.20014299175672712,
          0.17595958476225543,
          0.16925084908301055,
          0.16946342105964413,
          0.2008375212238032,
          0.1760709980813677,
          0.16925391167397236,
          0.1692570188646933,
          0.16942929887334854,
          0.22630841010913375,
          0.17925414427610903,
          0.1699994956269879,
          0.17833396754035313,
          0.16975585477896282,
          0.17826660663097857,
          0.17741053617761882,
          0.1692384397488918,
          0.16927120993687084,
          0.16943978849708183,
          0.1694294991048617,
          0.1692049667546559,
          0.19839707007892735,
          0.2053058415204172,
          0.17848591284405985,
          0.16953238960933414,
          0.17870551591372616,
          0.19581995626065776,
          0.17670770279170098,
          0.1692418312710737,
          0.16944122351556823,
          0.2040393442843806,
          0.1697562562607169,
          0.16923791477389638,
          0.16924775237674966,
          0.16923821709169012,
          0.16945769016691717,
          0.16925906984954922,
          0.17722187571063933,
          0.20954717549938098,
          0.22665255632237666,
          0.17029490544468687,
          0.16944263970716203,
          0.17607639044199447,
          0.17012567686766908,
          0.17846159437486753,
          0.16924431109437849,
          0.1692548590863191,
          0.16923778570194958,
          0.1692483331588763,
          0.17390022670811145,
          0.1731333327621199,
          0.16961640025485558,
          0.17970624732410317,
          0.23217924132800233
         ],
         "yaxis": "y6"
        }
       ],
       "layout": {
        "template": {
         "data": {
          "bar": [
           {
            "error_x": {
             "color": "#2a3f5f"
            },
            "error_y": {
             "color": "#2a3f5f"
            },
            "marker": {
             "line": {
              "color": "#E5ECF6",
              "width": 0.5
             },
             "pattern": {
              "fillmode": "overlay",
              "size": 10,
              "solidity": 0.2
             }
            },
            "type": "bar"
           }
          ],
          "barpolar": [
           {
            "marker": {
             "line": {
              "color": "#E5ECF6",
              "width": 0.5
             },
             "pattern": {
              "fillmode": "overlay",
              "size": 10,
              "solidity": 0.2
             }
            },
            "type": "barpolar"
           }
          ],
          "carpet": [
           {
            "aaxis": {
             "endlinecolor": "#2a3f5f",
             "gridcolor": "white",
             "linecolor": "white",
             "minorgridcolor": "white",
             "startlinecolor": "#2a3f5f"
            },
            "baxis": {
             "endlinecolor": "#2a3f5f",
             "gridcolor": "white",
             "linecolor": "white",
             "minorgridcolor": "white",
             "startlinecolor": "#2a3f5f"
            },
            "type": "carpet"
           }
          ],
          "choropleth": [
           {
            "colorbar": {
             "outlinewidth": 0,
             "ticks": ""
            },
            "type": "choropleth"
           }
          ],
          "contour": [
           {
            "colorbar": {
             "outlinewidth": 0,
             "ticks": ""
            },
            "colorscale": [
             [
              0,
              "#0d0887"
             ],
             [
              0.1111111111111111,
              "#46039f"
             ],
             [
              0.2222222222222222,
              "#7201a8"
             ],
             [
              0.3333333333333333,
              "#9c179e"
             ],
             [
              0.4444444444444444,
              "#bd3786"
             ],
             [
              0.5555555555555556,
              "#d8576b"
             ],
             [
              0.6666666666666666,
              "#ed7953"
             ],
             [
              0.7777777777777778,
              "#fb9f3a"
             ],
             [
              0.8888888888888888,
              "#fdca26"
             ],
             [
              1,
              "#f0f921"
             ]
            ],
            "type": "contour"
           }
          ],
          "contourcarpet": [
           {
            "colorbar": {
             "outlinewidth": 0,
             "ticks": ""
            },
            "type": "contourcarpet"
           }
          ],
          "heatmap": [
           {
            "colorbar": {
             "outlinewidth": 0,
             "ticks": ""
            },
            "colorscale": [
             [
              0,
              "#0d0887"
             ],
             [
              0.1111111111111111,
              "#46039f"
             ],
             [
              0.2222222222222222,
              "#7201a8"
             ],
             [
              0.3333333333333333,
              "#9c179e"
             ],
             [
              0.4444444444444444,
              "#bd3786"
             ],
             [
              0.5555555555555556,
              "#d8576b"
             ],
             [
              0.6666666666666666,
              "#ed7953"
             ],
             [
              0.7777777777777778,
              "#fb9f3a"
             ],
             [
              0.8888888888888888,
              "#fdca26"
             ],
             [
              1,
              "#f0f921"
             ]
            ],
            "type": "heatmap"
           }
          ],
          "heatmapgl": [
           {
            "colorbar": {
             "outlinewidth": 0,
             "ticks": ""
            },
            "colorscale": [
             [
              0,
              "#0d0887"
             ],
             [
              0.1111111111111111,
              "#46039f"
             ],
             [
              0.2222222222222222,
              "#7201a8"
             ],
             [
              0.3333333333333333,
              "#9c179e"
             ],
             [
              0.4444444444444444,
              "#bd3786"
             ],
             [
              0.5555555555555556,
              "#d8576b"
             ],
             [
              0.6666666666666666,
              "#ed7953"
             ],
             [
              0.7777777777777778,
              "#fb9f3a"
             ],
             [
              0.8888888888888888,
              "#fdca26"
             ],
             [
              1,
              "#f0f921"
             ]
            ],
            "type": "heatmapgl"
           }
          ],
          "histogram": [
           {
            "marker": {
             "pattern": {
              "fillmode": "overlay",
              "size": 10,
              "solidity": 0.2
             }
            },
            "type": "histogram"
           }
          ],
          "histogram2d": [
           {
            "colorbar": {
             "outlinewidth": 0,
             "ticks": ""
            },
            "colorscale": [
             [
              0,
              "#0d0887"
             ],
             [
              0.1111111111111111,
              "#46039f"
             ],
             [
              0.2222222222222222,
              "#7201a8"
             ],
             [
              0.3333333333333333,
              "#9c179e"
             ],
             [
              0.4444444444444444,
              "#bd3786"
             ],
             [
              0.5555555555555556,
              "#d8576b"
             ],
             [
              0.6666666666666666,
              "#ed7953"
             ],
             [
              0.7777777777777778,
              "#fb9f3a"
             ],
             [
              0.8888888888888888,
              "#fdca26"
             ],
             [
              1,
              "#f0f921"
             ]
            ],
            "type": "histogram2d"
           }
          ],
          "histogram2dcontour": [
           {
            "colorbar": {
             "outlinewidth": 0,
             "ticks": ""
            },
            "colorscale": [
             [
              0,
              "#0d0887"
             ],
             [
              0.1111111111111111,
              "#46039f"
             ],
             [
              0.2222222222222222,
              "#7201a8"
             ],
             [
              0.3333333333333333,
              "#9c179e"
             ],
             [
              0.4444444444444444,
              "#bd3786"
             ],
             [
              0.5555555555555556,
              "#d8576b"
             ],
             [
              0.6666666666666666,
              "#ed7953"
             ],
             [
              0.7777777777777778,
              "#fb9f3a"
             ],
             [
              0.8888888888888888,
              "#fdca26"
             ],
             [
              1,
              "#f0f921"
             ]
            ],
            "type": "histogram2dcontour"
           }
          ],
          "mesh3d": [
           {
            "colorbar": {
             "outlinewidth": 0,
             "ticks": ""
            },
            "type": "mesh3d"
           }
          ],
          "parcoords": [
           {
            "line": {
             "colorbar": {
              "outlinewidth": 0,
              "ticks": ""
             }
            },
            "type": "parcoords"
           }
          ],
          "pie": [
           {
            "automargin": true,
            "type": "pie"
           }
          ],
          "scatter": [
           {
            "fillpattern": {
             "fillmode": "overlay",
             "size": 10,
             "solidity": 0.2
            },
            "type": "scatter"
           }
          ],
          "scatter3d": [
           {
            "line": {
             "colorbar": {
              "outlinewidth": 0,
              "ticks": ""
             }
            },
            "marker": {
             "colorbar": {
              "outlinewidth": 0,
              "ticks": ""
             }
            },
            "type": "scatter3d"
           }
          ],
          "scattercarpet": [
           {
            "marker": {
             "colorbar": {
              "outlinewidth": 0,
              "ticks": ""
             }
            },
            "type": "scattercarpet"
           }
          ],
          "scattergeo": [
           {
            "marker": {
             "colorbar": {
              "outlinewidth": 0,
              "ticks": ""
             }
            },
            "type": "scattergeo"
           }
          ],
          "scattergl": [
           {
            "marker": {
             "colorbar": {
              "outlinewidth": 0,
              "ticks": ""
             }
            },
            "type": "scattergl"
           }
          ],
          "scattermapbox": [
           {
            "marker": {
             "colorbar": {
              "outlinewidth": 0,
              "ticks": ""
             }
            },
            "type": "scattermapbox"
           }
          ],
          "scatterpolar": [
           {
            "marker": {
             "colorbar": {
              "outlinewidth": 0,
              "ticks": ""
             }
            },
            "type": "scatterpolar"
           }
          ],
          "scatterpolargl": [
           {
            "marker": {
             "colorbar": {
              "outlinewidth": 0,
              "ticks": ""
             }
            },
            "type": "scatterpolargl"
           }
          ],
          "scatterternary": [
           {
            "marker": {
             "colorbar": {
              "outlinewidth": 0,
              "ticks": ""
             }
            },
            "type": "scatterternary"
           }
          ],
          "surface": [
           {
            "colorbar": {
             "outlinewidth": 0,
             "ticks": ""
            },
            "colorscale": [
             [
              0,
              "#0d0887"
             ],
             [
              0.1111111111111111,
              "#46039f"
             ],
             [
              0.2222222222222222,
              "#7201a8"
             ],
             [
              0.3333333333333333,
              "#9c179e"
             ],
             [
              0.4444444444444444,
              "#bd3786"
             ],
             [
              0.5555555555555556,
              "#d8576b"
             ],
             [
              0.6666666666666666,
              "#ed7953"
             ],
             [
              0.7777777777777778,
              "#fb9f3a"
             ],
             [
              0.8888888888888888,
              "#fdca26"
             ],
             [
              1,
              "#f0f921"
             ]
            ],
            "type": "surface"
           }
          ],
          "table": [
           {
            "cells": {
             "fill": {
              "color": "#EBF0F8"
             },
             "line": {
              "color": "white"
             }
            },
            "header": {
             "fill": {
              "color": "#C8D4E3"
             },
             "line": {
              "color": "white"
             }
            },
            "type": "table"
           }
          ]
         },
         "layout": {
          "annotationdefaults": {
           "arrowcolor": "#2a3f5f",
           "arrowhead": 0,
           "arrowwidth": 1
          },
          "autotypenumbers": "strict",
          "coloraxis": {
           "colorbar": {
            "outlinewidth": 0,
            "ticks": ""
           }
          },
          "colorscale": {
           "diverging": [
            [
             0,
             "#8e0152"
            ],
            [
             0.1,
             "#c51b7d"
            ],
            [
             0.2,
             "#de77ae"
            ],
            [
             0.3,
             "#f1b6da"
            ],
            [
             0.4,
             "#fde0ef"
            ],
            [
             0.5,
             "#f7f7f7"
            ],
            [
             0.6,
             "#e6f5d0"
            ],
            [
             0.7,
             "#b8e186"
            ],
            [
             0.8,
             "#7fbc41"
            ],
            [
             0.9,
             "#4d9221"
            ],
            [
             1,
             "#276419"
            ]
           ],
           "sequential": [
            [
             0,
             "#0d0887"
            ],
            [
             0.1111111111111111,
             "#46039f"
            ],
            [
             0.2222222222222222,
             "#7201a8"
            ],
            [
             0.3333333333333333,
             "#9c179e"
            ],
            [
             0.4444444444444444,
             "#bd3786"
            ],
            [
             0.5555555555555556,
             "#d8576b"
            ],
            [
             0.6666666666666666,
             "#ed7953"
            ],
            [
             0.7777777777777778,
             "#fb9f3a"
            ],
            [
             0.8888888888888888,
             "#fdca26"
            ],
            [
             1,
             "#f0f921"
            ]
           ],
           "sequentialminus": [
            [
             0,
             "#0d0887"
            ],
            [
             0.1111111111111111,
             "#46039f"
            ],
            [
             0.2222222222222222,
             "#7201a8"
            ],
            [
             0.3333333333333333,
             "#9c179e"
            ],
            [
             0.4444444444444444,
             "#bd3786"
            ],
            [
             0.5555555555555556,
             "#d8576b"
            ],
            [
             0.6666666666666666,
             "#ed7953"
            ],
            [
             0.7777777777777778,
             "#fb9f3a"
            ],
            [
             0.8888888888888888,
             "#fdca26"
            ],
            [
             1,
             "#f0f921"
            ]
           ]
          },
          "colorway": [
           "#636efa",
           "#EF553B",
           "#00cc96",
           "#ab63fa",
           "#FFA15A",
           "#19d3f3",
           "#FF6692",
           "#B6E880",
           "#FF97FF",
           "#FECB52"
          ],
          "font": {
           "color": "#2a3f5f"
          },
          "geo": {
           "bgcolor": "white",
           "lakecolor": "white",
           "landcolor": "#E5ECF6",
           "showlakes": true,
           "showland": true,
           "subunitcolor": "white"
          },
          "hoverlabel": {
           "align": "left"
          },
          "hovermode": "closest",
          "mapbox": {
           "style": "light"
          },
          "paper_bgcolor": "white",
          "plot_bgcolor": "#E5ECF6",
          "polar": {
           "angularaxis": {
            "gridcolor": "white",
            "linecolor": "white",
            "ticks": ""
           },
           "bgcolor": "#E5ECF6",
           "radialaxis": {
            "gridcolor": "white",
            "linecolor": "white",
            "ticks": ""
           }
          },
          "scene": {
           "xaxis": {
            "backgroundcolor": "#E5ECF6",
            "gridcolor": "white",
            "gridwidth": 2,
            "linecolor": "white",
            "showbackground": true,
            "ticks": "",
            "zerolinecolor": "white"
           },
           "yaxis": {
            "backgroundcolor": "#E5ECF6",
            "gridcolor": "white",
            "gridwidth": 2,
            "linecolor": "white",
            "showbackground": true,
            "ticks": "",
            "zerolinecolor": "white"
           },
           "zaxis": {
            "backgroundcolor": "#E5ECF6",
            "gridcolor": "white",
            "gridwidth": 2,
            "linecolor": "white",
            "showbackground": true,
            "ticks": "",
            "zerolinecolor": "white"
           }
          },
          "shapedefaults": {
           "line": {
            "color": "#2a3f5f"
           }
          },
          "ternary": {
           "aaxis": {
            "gridcolor": "white",
            "linecolor": "white",
            "ticks": ""
           },
           "baxis": {
            "gridcolor": "white",
            "linecolor": "white",
            "ticks": ""
           },
           "bgcolor": "#E5ECF6",
           "caxis": {
            "gridcolor": "white",
            "linecolor": "white",
            "ticks": ""
           }
          },
          "title": {
           "x": 0.05
          },
          "xaxis": {
           "automargin": true,
           "gridcolor": "white",
           "linecolor": "white",
           "ticks": "",
           "title": {
            "standoff": 15
           },
           "zerolinecolor": "white",
           "zerolinewidth": 2
          },
          "yaxis": {
           "automargin": true,
           "gridcolor": "white",
           "linecolor": "white",
           "ticks": "",
           "title": {
            "standoff": 15
           },
           "zerolinecolor": "white",
           "zerolinewidth": 2
          }
         }
        },
        "title": {
         "text": "Slice Plot"
        },
        "width": 1800,
        "xaxis": {
         "anchor": "y",
         "categoryarray": [
          "ball_tree",
          "kd_tree",
          "brute"
         ],
         "categoryorder": "array",
         "domain": [
          0,
          0.1388888888888889
         ],
         "title": {
          "text": "algorithm"
         },
         "type": "category"
        },
        "xaxis2": {
         "anchor": "y2",
         "domain": [
          0.17222222222222222,
          0.3111111111111111
         ],
         "title": {
          "text": "leaf_size"
         }
        },
        "xaxis3": {
         "anchor": "y3",
         "categoryarray": [
          "euclidean",
          "manhattan",
          "minkowski",
          "cityblock",
          "l1",
          "l2"
         ],
         "categoryorder": "array",
         "domain": [
          0.34444444444444444,
          0.48333333333333334
         ],
         "title": {
          "text": "metric"
         },
         "type": "category"
        },
        "xaxis4": {
         "anchor": "y4",
         "domain": [
          0.5166666666666667,
          0.6555555555555557
         ],
         "title": {
          "text": "n_neighbors"
         }
        },
        "xaxis5": {
         "anchor": "y5",
         "categoryarray": [
          "minmax",
          "standard",
          "robust",
          "maxabs",
          null
         ],
         "categoryorder": "array",
         "domain": [
          0.6888888888888889,
          0.8277777777777777
         ],
         "title": {
          "text": "scalers"
         },
         "type": "category"
        },
        "xaxis6": {
         "anchor": "y6",
         "categoryarray": [
          "uniform",
          "distance"
         ],
         "categoryorder": "array",
         "domain": [
          0.861111111111111,
          1
         ],
         "title": {
          "text": "weights"
         },
         "type": "category"
        },
        "yaxis": {
         "anchor": "x",
         "domain": [
          0,
          1
         ],
         "title": {
          "text": "Objective Value"
         }
        },
        "yaxis2": {
         "anchor": "x2",
         "domain": [
          0,
          1
         ],
         "matches": "y",
         "showticklabels": false
        },
        "yaxis3": {
         "anchor": "x3",
         "domain": [
          0,
          1
         ],
         "matches": "y",
         "showticklabels": false
        },
        "yaxis4": {
         "anchor": "x4",
         "domain": [
          0,
          1
         ],
         "matches": "y",
         "showticklabels": false
        },
        "yaxis5": {
         "anchor": "x5",
         "domain": [
          0,
          1
         ],
         "matches": "y",
         "showticklabels": false
        },
        "yaxis6": {
         "anchor": "x6",
         "domain": [
          0,
          1
         ],
         "matches": "y",
         "showticklabels": false
        }
       }
      }
     },
     "metadata": {},
     "output_type": "display_data"
    }
   ],
   "source": [
    "# Hyperparameters to score dependency\n",
    "\n",
    "optuna.visualization.plot_slice(study_knn)"
   ]
  },
  {
   "cell_type": "code",
   "execution_count": 180,
   "metadata": {},
   "outputs": [
    {
     "data": {
      "application/vnd.plotly.v1+json": {
       "config": {
        "plotlyServerURL": "https://plot.ly"
       },
       "data": [
        {
         "cliponaxis": false,
         "hovertemplate": [
          "algorithm (CategoricalDistribution): 0.0005059326446889011<extra></extra>",
          "metric (CategoricalDistribution): 0.0012538933376786356<extra></extra>",
          "n_neighbors (IntDistribution): 0.008138910640804515<extra></extra>",
          "scalers (CategoricalDistribution): 0.14725292068732068<extra></extra>",
          "weights (CategoricalDistribution): 0.8428483426895073<extra></extra>"
         ],
         "name": "Objective Value",
         "orientation": "h",
         "text": [
          "<0.01",
          "<0.01",
          "<0.01",
          "0.15",
          "0.84"
         ],
         "textposition": "outside",
         "type": "bar",
         "x": [
          0.0005059326446889011,
          0.0012538933376786356,
          0.008138910640804515,
          0.14725292068732068,
          0.8428483426895073
         ],
         "y": [
          "algorithm",
          "metric",
          "n_neighbors",
          "scalers",
          "weights"
         ]
        }
       ],
       "layout": {
        "template": {
         "data": {
          "bar": [
           {
            "error_x": {
             "color": "#2a3f5f"
            },
            "error_y": {
             "color": "#2a3f5f"
            },
            "marker": {
             "line": {
              "color": "#E5ECF6",
              "width": 0.5
             },
             "pattern": {
              "fillmode": "overlay",
              "size": 10,
              "solidity": 0.2
             }
            },
            "type": "bar"
           }
          ],
          "barpolar": [
           {
            "marker": {
             "line": {
              "color": "#E5ECF6",
              "width": 0.5
             },
             "pattern": {
              "fillmode": "overlay",
              "size": 10,
              "solidity": 0.2
             }
            },
            "type": "barpolar"
           }
          ],
          "carpet": [
           {
            "aaxis": {
             "endlinecolor": "#2a3f5f",
             "gridcolor": "white",
             "linecolor": "white",
             "minorgridcolor": "white",
             "startlinecolor": "#2a3f5f"
            },
            "baxis": {
             "endlinecolor": "#2a3f5f",
             "gridcolor": "white",
             "linecolor": "white",
             "minorgridcolor": "white",
             "startlinecolor": "#2a3f5f"
            },
            "type": "carpet"
           }
          ],
          "choropleth": [
           {
            "colorbar": {
             "outlinewidth": 0,
             "ticks": ""
            },
            "type": "choropleth"
           }
          ],
          "contour": [
           {
            "colorbar": {
             "outlinewidth": 0,
             "ticks": ""
            },
            "colorscale": [
             [
              0,
              "#0d0887"
             ],
             [
              0.1111111111111111,
              "#46039f"
             ],
             [
              0.2222222222222222,
              "#7201a8"
             ],
             [
              0.3333333333333333,
              "#9c179e"
             ],
             [
              0.4444444444444444,
              "#bd3786"
             ],
             [
              0.5555555555555556,
              "#d8576b"
             ],
             [
              0.6666666666666666,
              "#ed7953"
             ],
             [
              0.7777777777777778,
              "#fb9f3a"
             ],
             [
              0.8888888888888888,
              "#fdca26"
             ],
             [
              1,
              "#f0f921"
             ]
            ],
            "type": "contour"
           }
          ],
          "contourcarpet": [
           {
            "colorbar": {
             "outlinewidth": 0,
             "ticks": ""
            },
            "type": "contourcarpet"
           }
          ],
          "heatmap": [
           {
            "colorbar": {
             "outlinewidth": 0,
             "ticks": ""
            },
            "colorscale": [
             [
              0,
              "#0d0887"
             ],
             [
              0.1111111111111111,
              "#46039f"
             ],
             [
              0.2222222222222222,
              "#7201a8"
             ],
             [
              0.3333333333333333,
              "#9c179e"
             ],
             [
              0.4444444444444444,
              "#bd3786"
             ],
             [
              0.5555555555555556,
              "#d8576b"
             ],
             [
              0.6666666666666666,
              "#ed7953"
             ],
             [
              0.7777777777777778,
              "#fb9f3a"
             ],
             [
              0.8888888888888888,
              "#fdca26"
             ],
             [
              1,
              "#f0f921"
             ]
            ],
            "type": "heatmap"
           }
          ],
          "heatmapgl": [
           {
            "colorbar": {
             "outlinewidth": 0,
             "ticks": ""
            },
            "colorscale": [
             [
              0,
              "#0d0887"
             ],
             [
              0.1111111111111111,
              "#46039f"
             ],
             [
              0.2222222222222222,
              "#7201a8"
             ],
             [
              0.3333333333333333,
              "#9c179e"
             ],
             [
              0.4444444444444444,
              "#bd3786"
             ],
             [
              0.5555555555555556,
              "#d8576b"
             ],
             [
              0.6666666666666666,
              "#ed7953"
             ],
             [
              0.7777777777777778,
              "#fb9f3a"
             ],
             [
              0.8888888888888888,
              "#fdca26"
             ],
             [
              1,
              "#f0f921"
             ]
            ],
            "type": "heatmapgl"
           }
          ],
          "histogram": [
           {
            "marker": {
             "pattern": {
              "fillmode": "overlay",
              "size": 10,
              "solidity": 0.2
             }
            },
            "type": "histogram"
           }
          ],
          "histogram2d": [
           {
            "colorbar": {
             "outlinewidth": 0,
             "ticks": ""
            },
            "colorscale": [
             [
              0,
              "#0d0887"
             ],
             [
              0.1111111111111111,
              "#46039f"
             ],
             [
              0.2222222222222222,
              "#7201a8"
             ],
             [
              0.3333333333333333,
              "#9c179e"
             ],
             [
              0.4444444444444444,
              "#bd3786"
             ],
             [
              0.5555555555555556,
              "#d8576b"
             ],
             [
              0.6666666666666666,
              "#ed7953"
             ],
             [
              0.7777777777777778,
              "#fb9f3a"
             ],
             [
              0.8888888888888888,
              "#fdca26"
             ],
             [
              1,
              "#f0f921"
             ]
            ],
            "type": "histogram2d"
           }
          ],
          "histogram2dcontour": [
           {
            "colorbar": {
             "outlinewidth": 0,
             "ticks": ""
            },
            "colorscale": [
             [
              0,
              "#0d0887"
             ],
             [
              0.1111111111111111,
              "#46039f"
             ],
             [
              0.2222222222222222,
              "#7201a8"
             ],
             [
              0.3333333333333333,
              "#9c179e"
             ],
             [
              0.4444444444444444,
              "#bd3786"
             ],
             [
              0.5555555555555556,
              "#d8576b"
             ],
             [
              0.6666666666666666,
              "#ed7953"
             ],
             [
              0.7777777777777778,
              "#fb9f3a"
             ],
             [
              0.8888888888888888,
              "#fdca26"
             ],
             [
              1,
              "#f0f921"
             ]
            ],
            "type": "histogram2dcontour"
           }
          ],
          "mesh3d": [
           {
            "colorbar": {
             "outlinewidth": 0,
             "ticks": ""
            },
            "type": "mesh3d"
           }
          ],
          "parcoords": [
           {
            "line": {
             "colorbar": {
              "outlinewidth": 0,
              "ticks": ""
             }
            },
            "type": "parcoords"
           }
          ],
          "pie": [
           {
            "automargin": true,
            "type": "pie"
           }
          ],
          "scatter": [
           {
            "fillpattern": {
             "fillmode": "overlay",
             "size": 10,
             "solidity": 0.2
            },
            "type": "scatter"
           }
          ],
          "scatter3d": [
           {
            "line": {
             "colorbar": {
              "outlinewidth": 0,
              "ticks": ""
             }
            },
            "marker": {
             "colorbar": {
              "outlinewidth": 0,
              "ticks": ""
             }
            },
            "type": "scatter3d"
           }
          ],
          "scattercarpet": [
           {
            "marker": {
             "colorbar": {
              "outlinewidth": 0,
              "ticks": ""
             }
            },
            "type": "scattercarpet"
           }
          ],
          "scattergeo": [
           {
            "marker": {
             "colorbar": {
              "outlinewidth": 0,
              "ticks": ""
             }
            },
            "type": "scattergeo"
           }
          ],
          "scattergl": [
           {
            "marker": {
             "colorbar": {
              "outlinewidth": 0,
              "ticks": ""
             }
            },
            "type": "scattergl"
           }
          ],
          "scattermapbox": [
           {
            "marker": {
             "colorbar": {
              "outlinewidth": 0,
              "ticks": ""
             }
            },
            "type": "scattermapbox"
           }
          ],
          "scatterpolar": [
           {
            "marker": {
             "colorbar": {
              "outlinewidth": 0,
              "ticks": ""
             }
            },
            "type": "scatterpolar"
           }
          ],
          "scatterpolargl": [
           {
            "marker": {
             "colorbar": {
              "outlinewidth": 0,
              "ticks": ""
             }
            },
            "type": "scatterpolargl"
           }
          ],
          "scatterternary": [
           {
            "marker": {
             "colorbar": {
              "outlinewidth": 0,
              "ticks": ""
             }
            },
            "type": "scatterternary"
           }
          ],
          "surface": [
           {
            "colorbar": {
             "outlinewidth": 0,
             "ticks": ""
            },
            "colorscale": [
             [
              0,
              "#0d0887"
             ],
             [
              0.1111111111111111,
              "#46039f"
             ],
             [
              0.2222222222222222,
              "#7201a8"
             ],
             [
              0.3333333333333333,
              "#9c179e"
             ],
             [
              0.4444444444444444,
              "#bd3786"
             ],
             [
              0.5555555555555556,
              "#d8576b"
             ],
             [
              0.6666666666666666,
              "#ed7953"
             ],
             [
              0.7777777777777778,
              "#fb9f3a"
             ],
             [
              0.8888888888888888,
              "#fdca26"
             ],
             [
              1,
              "#f0f921"
             ]
            ],
            "type": "surface"
           }
          ],
          "table": [
           {
            "cells": {
             "fill": {
              "color": "#EBF0F8"
             },
             "line": {
              "color": "white"
             }
            },
            "header": {
             "fill": {
              "color": "#C8D4E3"
             },
             "line": {
              "color": "white"
             }
            },
            "type": "table"
           }
          ]
         },
         "layout": {
          "annotationdefaults": {
           "arrowcolor": "#2a3f5f",
           "arrowhead": 0,
           "arrowwidth": 1
          },
          "autotypenumbers": "strict",
          "coloraxis": {
           "colorbar": {
            "outlinewidth": 0,
            "ticks": ""
           }
          },
          "colorscale": {
           "diverging": [
            [
             0,
             "#8e0152"
            ],
            [
             0.1,
             "#c51b7d"
            ],
            [
             0.2,
             "#de77ae"
            ],
            [
             0.3,
             "#f1b6da"
            ],
            [
             0.4,
             "#fde0ef"
            ],
            [
             0.5,
             "#f7f7f7"
            ],
            [
             0.6,
             "#e6f5d0"
            ],
            [
             0.7,
             "#b8e186"
            ],
            [
             0.8,
             "#7fbc41"
            ],
            [
             0.9,
             "#4d9221"
            ],
            [
             1,
             "#276419"
            ]
           ],
           "sequential": [
            [
             0,
             "#0d0887"
            ],
            [
             0.1111111111111111,
             "#46039f"
            ],
            [
             0.2222222222222222,
             "#7201a8"
            ],
            [
             0.3333333333333333,
             "#9c179e"
            ],
            [
             0.4444444444444444,
             "#bd3786"
            ],
            [
             0.5555555555555556,
             "#d8576b"
            ],
            [
             0.6666666666666666,
             "#ed7953"
            ],
            [
             0.7777777777777778,
             "#fb9f3a"
            ],
            [
             0.8888888888888888,
             "#fdca26"
            ],
            [
             1,
             "#f0f921"
            ]
           ],
           "sequentialminus": [
            [
             0,
             "#0d0887"
            ],
            [
             0.1111111111111111,
             "#46039f"
            ],
            [
             0.2222222222222222,
             "#7201a8"
            ],
            [
             0.3333333333333333,
             "#9c179e"
            ],
            [
             0.4444444444444444,
             "#bd3786"
            ],
            [
             0.5555555555555556,
             "#d8576b"
            ],
            [
             0.6666666666666666,
             "#ed7953"
            ],
            [
             0.7777777777777778,
             "#fb9f3a"
            ],
            [
             0.8888888888888888,
             "#fdca26"
            ],
            [
             1,
             "#f0f921"
            ]
           ]
          },
          "colorway": [
           "#636efa",
           "#EF553B",
           "#00cc96",
           "#ab63fa",
           "#FFA15A",
           "#19d3f3",
           "#FF6692",
           "#B6E880",
           "#FF97FF",
           "#FECB52"
          ],
          "font": {
           "color": "#2a3f5f"
          },
          "geo": {
           "bgcolor": "white",
           "lakecolor": "white",
           "landcolor": "#E5ECF6",
           "showlakes": true,
           "showland": true,
           "subunitcolor": "white"
          },
          "hoverlabel": {
           "align": "left"
          },
          "hovermode": "closest",
          "mapbox": {
           "style": "light"
          },
          "paper_bgcolor": "white",
          "plot_bgcolor": "#E5ECF6",
          "polar": {
           "angularaxis": {
            "gridcolor": "white",
            "linecolor": "white",
            "ticks": ""
           },
           "bgcolor": "#E5ECF6",
           "radialaxis": {
            "gridcolor": "white",
            "linecolor": "white",
            "ticks": ""
           }
          },
          "scene": {
           "xaxis": {
            "backgroundcolor": "#E5ECF6",
            "gridcolor": "white",
            "gridwidth": 2,
            "linecolor": "white",
            "showbackground": true,
            "ticks": "",
            "zerolinecolor": "white"
           },
           "yaxis": {
            "backgroundcolor": "#E5ECF6",
            "gridcolor": "white",
            "gridwidth": 2,
            "linecolor": "white",
            "showbackground": true,
            "ticks": "",
            "zerolinecolor": "white"
           },
           "zaxis": {
            "backgroundcolor": "#E5ECF6",
            "gridcolor": "white",
            "gridwidth": 2,
            "linecolor": "white",
            "showbackground": true,
            "ticks": "",
            "zerolinecolor": "white"
           }
          },
          "shapedefaults": {
           "line": {
            "color": "#2a3f5f"
           }
          },
          "ternary": {
           "aaxis": {
            "gridcolor": "white",
            "linecolor": "white",
            "ticks": ""
           },
           "baxis": {
            "gridcolor": "white",
            "linecolor": "white",
            "ticks": ""
           },
           "bgcolor": "#E5ECF6",
           "caxis": {
            "gridcolor": "white",
            "linecolor": "white",
            "ticks": ""
           }
          },
          "title": {
           "x": 0.05
          },
          "xaxis": {
           "automargin": true,
           "gridcolor": "white",
           "linecolor": "white",
           "ticks": "",
           "title": {
            "standoff": 15
           },
           "zerolinecolor": "white",
           "zerolinewidth": 2
          },
          "yaxis": {
           "automargin": true,
           "gridcolor": "white",
           "linecolor": "white",
           "ticks": "",
           "title": {
            "standoff": 15
           },
           "zerolinecolor": "white",
           "zerolinewidth": 2
          }
         }
        },
        "title": {
         "text": "Hyperparameter Importances"
        },
        "xaxis": {
         "title": {
          "text": "Hyperparameter Importance"
         }
        },
        "yaxis": {
         "title": {
          "text": "Hyperparameter"
         }
        }
       }
      }
     },
     "metadata": {},
     "output_type": "display_data"
    }
   ],
   "source": [
    "# Hyperparameter importances\n",
    "\n",
    "optuna.visualization.plot_param_importances(study_knn)"
   ]
  },
  {
   "cell_type": "code",
   "execution_count": 181,
   "metadata": {},
   "outputs": [],
   "source": [
    "# Extracting hyperparameters\n",
    "del params_knn['scalers']\n",
    "\n",
    "# Define optimal hyperparameters\n",
    "scaler_knn = RobustScaler()\n",
    "knn = KNeighborsRegressor(**params_knn)\n",
    "\n",
    "# Create pipeline\n",
    "pipeline_knn = make_pipeline(scaler_knn, knn)"
   ]
  },
  {
   "cell_type": "code",
   "execution_count": 182,
   "metadata": {},
   "outputs": [
    {
     "name": "stdout",
     "output_type": "stream",
     "text": [
      "[0.16194009 0.2108754  0.20925186 0.15590632 0.00597269] Средняя оценка: 0.14878927172939888\n"
     ]
    }
   ],
   "source": [
    "# Implementing cross validation\n",
    "\n",
    "scores_knn = cross_val_score(pipeline_knn, df_encoded[df_encoded_features], df_encoded[target],  scoring = 'neg_root_mean_squared_error') * (-1)\n",
    "score_mean_knn = scores_knn.mean()\n",
    "print(scores_knn, \"Средняя оценка:\", score_mean_knn)"
   ]
  },
  {
   "cell_type": "markdown",
   "metadata": {
    "id": "ukEvNLgt-Zgm"
   },
   "source": [
    "# **GBM - CatBoost**"
   ]
  },
  {
   "cell_type": "code",
   "execution_count": 22,
   "metadata": {
    "id": "1McCCH0aP7xN"
   },
   "outputs": [
    {
     "data": {
      "text/plain": [
       "['last_evaluation',\n",
       " 'number_project',\n",
       " 'average_montly_hours',\n",
       " 'time_spend_company',\n",
       " 'Work_accident']"
      ]
     },
     "execution_count": 22,
     "metadata": {},
     "output_type": "execute_result"
    }
   ],
   "source": [
    "# Finding number columns for faster Scaller work next\n",
    "\n",
    "number_columns = df.select_dtypes(include=['float64', 'int64']).columns.tolist()\n",
    "number_columns.remove(target)\n",
    "number_columns"
   ]
  },
  {
   "cell_type": "code",
   "execution_count": 190,
   "metadata": {
    "colab": {
     "base_uri": "https://localhost:8080/"
    },
    "id": "O6cDijIJea2M",
    "outputId": "d32748c0-e673-4de5-e22a-bdc1d40925f4"
   },
   "outputs": [
    {
     "name": "stderr",
     "output_type": "stream",
     "text": [
      "[I 2024-05-20 00:31:16,277] A new study created in memory with name: Catboost\n",
      "[I 2024-05-20 00:31:28,925] Trial 0 finished with value: 0.17946398926806365 and parameters: {'scalers': None, 'n_estimators': 942, 'learning_rate': 0.21809669529572104, 'depth': 13, 'l2_leaf_reg': 2.692050664721932, 'random_strength': 6.440292920709894, 'bootstrap_type': 'MVS', 'grow_policy': 'SymmetricTree', 'subsample': 0.7136013518028579}. Best is trial 0 with value: 0.17946398926806365.\n",
      "[I 2024-05-20 00:33:32,944] Trial 1 finished with value: 0.17879445956782114 and parameters: {'scalers': 'minmax', 'n_estimators': 512, 'learning_rate': 0.057948721691047256, 'depth': 11, 'l2_leaf_reg': 8.82808447266879, 'random_strength': 6.223388243205817, 'bootstrap_type': 'MVS', 'grow_policy': 'Lossguide', 'subsample': 0.6403374420965867, 'max_leaves': 38}. Best is trial 1 with value: 0.17879445956782114.\n",
      "[I 2024-05-20 00:33:44,778] Trial 2 finished with value: 0.17997495015348808 and parameters: {'scalers': 'robust', 'n_estimators': 436, 'learning_rate': 0.18360707378197, 'depth': 13, 'l2_leaf_reg': 4.63497471122426, 'random_strength': 7.691103672226161, 'bootstrap_type': 'Bernoulli', 'grow_policy': 'SymmetricTree', 'subsample': 0.713173508437488}. Best is trial 1 with value: 0.17879445956782114.\n",
      "[I 2024-05-20 00:34:05,524] Trial 3 finished with value: 0.1830269048848305 and parameters: {'scalers': 'robust', 'n_estimators': 938, 'learning_rate': 0.027361671242223693, 'depth': 8, 'l2_leaf_reg': 5.280222441303621, 'random_strength': 3.2806203071203157, 'bootstrap_type': 'Bayesian', 'grow_policy': 'SymmetricTree', 'bagging_temperature': 8.487743038476367}. Best is trial 1 with value: 0.17879445956782114.\n",
      "[I 2024-05-20 00:34:52,551] Trial 4 finished with value: 0.1800402968242954 and parameters: {'scalers': None, 'n_estimators': 469, 'learning_rate': 0.2675498038296723, 'depth': 7, 'l2_leaf_reg': 3.0164829000414786, 'random_strength': 8.062406084252704, 'bootstrap_type': 'Bayesian', 'grow_policy': 'Lossguide', 'bagging_temperature': 0.0738845086388995, 'max_leaves': 55}. Best is trial 1 with value: 0.17879445956782114.\n",
      "[I 2024-05-20 00:34:57,162] Trial 5 finished with value: 0.18320728771949188 and parameters: {'scalers': None, 'n_estimators': 1000, 'learning_rate': 0.23126528773764615, 'depth': 4, 'l2_leaf_reg': 9.652511052082179, 'random_strength': 9.752124584285365, 'bootstrap_type': 'Bernoulli', 'grow_policy': 'Depthwise', 'subsample': 0.1175859684491191, 'min_data_in_leaf': 71}. Best is trial 1 with value: 0.17879445956782114.\n",
      "[I 2024-05-20 00:35:48,894] Trial 6 finished with value: 0.18031607319492246 and parameters: {'scalers': 'robust', 'n_estimators': 494, 'learning_rate': 0.1596278853171713, 'depth': 7, 'l2_leaf_reg': 3.7429150506948505, 'random_strength': 7.2810013410465935, 'bootstrap_type': 'MVS', 'grow_policy': 'Lossguide', 'subsample': 0.5665576304160052, 'max_leaves': 43}. Best is trial 1 with value: 0.17879445956782114.\n",
      "[I 2024-05-20 00:35:52,583] Trial 7 finished with value: 0.18116737518967532 and parameters: {'scalers': 'minmax', 'n_estimators': 291, 'learning_rate': 0.2664269566580639, 'depth': 5, 'l2_leaf_reg': 2.3981015820433402, 'random_strength': 8.075940315197693, 'bootstrap_type': 'MVS', 'grow_policy': 'Depthwise', 'subsample': 0.7032385311373228, 'min_data_in_leaf': 80}. Best is trial 1 with value: 0.17879445956782114.\n",
      "[I 2024-05-20 00:36:03,298] Trial 8 finished with value: 0.18009947046723518 and parameters: {'scalers': 'robust', 'n_estimators': 788, 'learning_rate': 0.21196360380211923, 'depth': 13, 'l2_leaf_reg': 5.729729291625432, 'random_strength': 9.452662661589669, 'bootstrap_type': 'MVS', 'grow_policy': 'SymmetricTree', 'subsample': 0.24149751944887823}. Best is trial 1 with value: 0.17879445956782114.\n",
      "[I 2024-05-20 00:36:12,881] Trial 9 finished with value: 0.180800332852336 and parameters: {'scalers': None, 'n_estimators': 305, 'learning_rate': 0.1802581120325553, 'depth': 10, 'l2_leaf_reg': 0.041495128559907446, 'random_strength': 0.8791204860959989, 'bootstrap_type': 'Bayesian', 'grow_policy': 'Depthwise', 'bagging_temperature': 8.284264081832653, 'min_data_in_leaf': 37}. Best is trial 1 with value: 0.17879445956782114.\n",
      "[I 2024-05-20 00:36:31,842] Trial 10 finished with value: 0.18404199921314526 and parameters: {'scalers': 'minmax', 'n_estimators': 335, 'learning_rate': 0.020402004637622734, 'depth': 9, 'l2_leaf_reg': 8.494840365137167, 'random_strength': 5.944718629407887, 'bootstrap_type': 'MVS', 'grow_policy': 'Depthwise', 'subsample': 0.8936284080918897, 'min_data_in_leaf': 2}. Best is trial 1 with value: 0.17879445956782114.\n",
      "[I 2024-05-20 00:37:02,239] Trial 11 finished with value: 0.18205957933759487 and parameters: {'scalers': None, 'n_estimators': 928, 'learning_rate': 0.25282526741838396, 'depth': 16, 'l2_leaf_reg': 0.2639509891293872, 'random_strength': 5.356139850876958, 'bootstrap_type': 'MVS', 'grow_policy': 'SymmetricTree', 'subsample': 0.45511274841464744}. Best is trial 1 with value: 0.17879445956782114.\n",
      "[I 2024-05-20 00:37:27,313] Trial 12 finished with value: 0.1840562907816523 and parameters: {'scalers': 'standard', 'n_estimators': 623, 'learning_rate': 0.06485126664824392, 'depth': 12, 'l2_leaf_reg': 9.555404186510662, 'random_strength': 5.807704165165448, 'bootstrap_type': 'MVS', 'grow_policy': 'Lossguide', 'subsample': 0.9985018071800789, 'max_leaves': 5}. Best is trial 1 with value: 0.17879445956782114.\n",
      "[I 2024-05-20 00:37:56,201] Trial 13 finished with value: 0.17967829972620722 and parameters: {'scalers': None, 'n_estimators': 845, 'learning_rate': 0.08795964809863163, 'depth': 14, 'l2_leaf_reg': 3.158622663455954, 'random_strength': 3.962887321328663, 'bootstrap_type': 'MVS', 'grow_policy': 'SymmetricTree', 'subsample': 0.5676559225941449}. Best is trial 1 with value: 0.17879445956782114.\n",
      "[I 2024-05-20 00:40:23,238] Trial 14 finished with value: 0.17834902815736636 and parameters: {'scalers': 'minmax', 'n_estimators': 692, 'learning_rate': 0.04731582434866625, 'depth': 13, 'l2_leaf_reg': 5.02051679288608, 'random_strength': 5.900797102581202, 'bootstrap_type': 'Bernoulli', 'grow_policy': 'Lossguide', 'subsample': 0.7727390929866661, 'max_leaves': 28}. Best is trial 14 with value: 0.17834902815736636.\n",
      "[I 2024-05-20 00:42:33,270] Trial 15 finished with value: 0.17841854737932172 and parameters: {'scalers': 'standard', 'n_estimators': 659, 'learning_rate': 0.05536695119584702, 'depth': 16, 'l2_leaf_reg': 4.8293989858617286, 'random_strength': 6.367694324200465, 'bootstrap_type': 'Bernoulli', 'grow_policy': 'Lossguide', 'subsample': 0.8065239939709253, 'max_leaves': 28}. Best is trial 14 with value: 0.17834902815736636.\n",
      "[I 2024-05-20 00:44:25,055] Trial 16 finished with value: 0.18968295268981064 and parameters: {'scalers': 'minmax', 'n_estimators': 725, 'learning_rate': 0.00357434594744499, 'depth': 12, 'l2_leaf_reg': 4.277804501354725, 'random_strength': 3.7931077341541712, 'bootstrap_type': 'Bernoulli', 'grow_policy': 'Lossguide', 'subsample': 0.8662190803950158, 'max_leaves': 23}. Best is trial 14 with value: 0.17834902815736636.\n",
      "[I 2024-05-20 00:46:22,705] Trial 17 finished with value: 0.18057750633826034 and parameters: {'scalers': 'standard', 'n_estimators': 788, 'learning_rate': 0.04564180782920374, 'depth': 15, 'l2_leaf_reg': 3.538808940413367, 'random_strength': 7.271215979617782, 'bootstrap_type': 'Bayesian', 'grow_policy': 'Lossguide', 'bagging_temperature': 3.878487947040952, 'max_leaves': 24}. Best is trial 14 with value: 0.17834902815736636.\n",
      "[I 2024-05-20 00:50:56,609] Trial 18 finished with value: 0.17634321824727686 and parameters: {'scalers': 'maxabs', 'n_estimators': 567, 'learning_rate': 0.06558372774051772, 'depth': 15, 'l2_leaf_reg': 6.182137206453689, 'random_strength': 8.059583406580522, 'bootstrap_type': 'Bernoulli', 'grow_policy': 'Lossguide', 'subsample': 0.8518935002919269, 'max_leaves': 68}. Best is trial 18 with value: 0.17634321824727686.\n",
      "[I 2024-05-20 00:57:05,009] Trial 19 finished with value: 0.17752623435685322 and parameters: {'scalers': 'maxabs', 'n_estimators': 865, 'learning_rate': 0.03283977684678733, 'depth': 12, 'l2_leaf_reg': 3.7736894212291827, 'random_strength': 9.661998608783604, 'bootstrap_type': 'Bernoulli', 'grow_policy': 'Lossguide', 'subsample': 0.9858973101297617, 'max_leaves': 65}. Best is trial 18 with value: 0.17634321824727686.\n",
      "[I 2024-05-20 00:58:53,435] Trial 20 finished with value: 0.17827547668712437 and parameters: {'scalers': 'maxabs', 'n_estimators': 404, 'learning_rate': 0.14925514426560504, 'depth': 14, 'l2_leaf_reg': 7.12510890735758, 'random_strength': 9.330345820464084, 'bootstrap_type': 'Bernoulli', 'grow_policy': 'Lossguide', 'subsample': 0.9992115299796568, 'max_leaves': 70}. Best is trial 18 with value: 0.17634321824727686.\n",
      "[I 2024-05-20 01:02:37,511] Trial 21 finished with value: 0.17717474303853856 and parameters: {'scalers': 'maxabs', 'n_estimators': 967, 'learning_rate': 0.08631643777654784, 'depth': 10, 'l2_leaf_reg': 2.905144205640526, 'random_strength': 8.618258637291559, 'bootstrap_type': 'Bernoulli', 'grow_policy': 'Lossguide', 'subsample': 0.9976440463740658, 'max_leaves': 70}. Best is trial 18 with value: 0.17634321824727686.\n",
      "[I 2024-05-20 01:02:54,104] Trial 22 finished with value: 0.17848975831618694 and parameters: {'scalers': 'maxabs', 'n_estimators': 919, 'learning_rate': 0.09349775653168468, 'depth': 10, 'l2_leaf_reg': 1.0883870023328863, 'random_strength': 8.29251791211188, 'bootstrap_type': 'Bernoulli', 'grow_policy': 'Depthwise', 'subsample': 0.9953313517173267, 'min_data_in_leaf': 99}. Best is trial 18 with value: 0.17634321824727686.\n",
      "[I 2024-05-20 01:04:19,007] Trial 23 finished with value: 0.17849087806827024 and parameters: {'scalers': 'maxabs', 'n_estimators': 988, 'learning_rate': 0.1295846290248211, 'depth': 10, 'l2_leaf_reg': 4.203633516351449, 'random_strength': 7.213863376855196, 'bootstrap_type': 'MVS', 'grow_policy': 'Lossguide', 'subsample': 0.9917642516531591, 'max_leaves': 70}. Best is trial 18 with value: 0.17634321824727686.\n",
      "[I 2024-05-20 01:04:55,802] Trial 24 finished with value: 0.18131004298602318 and parameters: {'scalers': 'maxabs', 'n_estimators': 441, 'learning_rate': 0.022471344076884586, 'depth': 15, 'l2_leaf_reg': 8.654186924720475, 'random_strength': 6.976754689921609, 'bootstrap_type': 'Bernoulli', 'grow_policy': 'Depthwise', 'subsample': 0.8896124814420756, 'min_data_in_leaf': 36}. Best is trial 18 with value: 0.17634321824727686.\n",
      "[I 2024-05-20 01:07:28,276] Trial 25 finished with value: 0.17774991619824015 and parameters: {'scalers': 'maxabs', 'n_estimators': 763, 'learning_rate': 0.06327835153536389, 'depth': 12, 'l2_leaf_reg': 2.9817600240576665, 'random_strength': 9.342645810574517, 'bootstrap_type': 'Bernoulli', 'grow_policy': 'Lossguide', 'subsample': 0.9995552308234662, 'max_leaves': 59}. Best is trial 18 with value: 0.17634321824727686.\n",
      "[I 2024-05-20 01:11:02,780] Trial 26 finished with value: 0.1772539634589208 and parameters: {'scalers': 'maxabs', 'n_estimators': 984, 'learning_rate': 0.0666044660462162, 'depth': 10, 'l2_leaf_reg': 9.320234123350808, 'random_strength': 7.818945610137378, 'bootstrap_type': 'Bernoulli', 'grow_policy': 'Lossguide', 'subsample': 0.8348483273338909, 'max_leaves': 69}. Best is trial 18 with value: 0.17634321824727686.\n",
      "[I 2024-05-20 01:14:09,427] Trial 27 finished with value: 0.17739038258861217 and parameters: {'scalers': 'maxabs', 'n_estimators': 934, 'learning_rate': 0.08605884714104534, 'depth': 9, 'l2_leaf_reg': 9.278506832310166, 'random_strength': 9.223231490574468, 'bootstrap_type': 'Bernoulli', 'grow_policy': 'Lossguide', 'subsample': 0.779493381049434, 'max_leaves': 70}. Best is trial 18 with value: 0.17634321824727686.\n",
      "[I 2024-05-20 01:19:05,557] Trial 28 finished with value: 0.177619197852258 and parameters: {'scalers': None, 'n_estimators': 824, 'learning_rate': 0.03828202661903103, 'depth': 10, 'l2_leaf_reg': 9.41305665202185, 'random_strength': 5.558141357245204, 'bootstrap_type': 'Bernoulli', 'grow_policy': 'Lossguide', 'subsample': 0.7939260818290419, 'max_leaves': 55}. Best is trial 18 with value: 0.17634321824727686.\n",
      "[I 2024-05-20 01:19:14,169] Trial 29 finished with value: 0.18032681926200714 and parameters: {'scalers': 'maxabs', 'n_estimators': 983, 'learning_rate': 0.13374321815325313, 'depth': 7, 'l2_leaf_reg': 9.041128390121509, 'random_strength': 3.61863372346159, 'bootstrap_type': 'Bernoulli', 'grow_policy': 'SymmetricTree', 'subsample': 0.8083780071723685}. Best is trial 18 with value: 0.17634321824727686.\n",
      "[I 2024-05-20 01:19:41,207] Trial 30 finished with value: 0.179016989634852 and parameters: {'scalers': 'minmax', 'n_estimators': 955, 'learning_rate': 0.07725679890399019, 'depth': 13, 'l2_leaf_reg': 8.583603606395961, 'random_strength': 6.985893847586566, 'bootstrap_type': 'Bernoulli', 'grow_policy': 'SymmetricTree', 'subsample': 0.8350828643398055}. Best is trial 18 with value: 0.17634321824727686.\n",
      "[I 2024-05-20 01:19:54,164] Trial 31 finished with value: 0.17942300126175317 and parameters: {'scalers': 'maxabs', 'n_estimators': 941, 'learning_rate': 0.12478510479552245, 'depth': 11, 'l2_leaf_reg': 9.241184633727771, 'random_strength': 9.564463567763097, 'bootstrap_type': 'Bernoulli', 'grow_policy': 'Depthwise', 'subsample': 0.8007144949006936, 'min_data_in_leaf': 55}. Best is trial 18 with value: 0.17634321824727686.\n",
      "[I 2024-05-20 01:22:26,280] Trial 32 finished with value: 0.17826750211276535 and parameters: {'scalers': 'maxabs', 'n_estimators': 936, 'learning_rate': 0.06858754392592709, 'depth': 6, 'l2_leaf_reg': 9.156670890497082, 'random_strength': 8.322322473000876, 'bootstrap_type': 'Bernoulli', 'grow_policy': 'Lossguide', 'subsample': 0.8022418936012957, 'max_leaves': 70}. Best is trial 18 with value: 0.17634321824727686.\n",
      "[I 2024-05-20 01:24:59,895] Trial 33 finished with value: 0.18026216645665857 and parameters: {'scalers': 'maxabs', 'n_estimators': 988, 'learning_rate': 0.06270431251448498, 'depth': 11, 'l2_leaf_reg': 9.416421081262367, 'random_strength': 7.658566314744491, 'bootstrap_type': 'Bayesian', 'grow_policy': 'Lossguide', 'bagging_temperature': 4.990085016838443, 'max_leaves': 69}. Best is trial 18 with value: 0.17634321824727686.\n",
      "[I 2024-05-20 01:27:27,681] Trial 34 finished with value: 0.1779603111367995 and parameters: {'scalers': 'standard', 'n_estimators': 985, 'learning_rate': 0.07942470717163198, 'depth': 10, 'l2_leaf_reg': 7.871336304595395, 'random_strength': 6.948138092293611, 'bootstrap_type': 'Bernoulli', 'grow_policy': 'Lossguide', 'subsample': 0.846853300929541, 'max_leaves': 70}. Best is trial 18 with value: 0.17634321824727686.\n",
      "[I 2024-05-20 01:28:23,556] Trial 35 finished with value: 0.17916023862815714 and parameters: {'scalers': 'maxabs', 'n_estimators': 995, 'learning_rate': 0.24749914616288965, 'depth': 8, 'l2_leaf_reg': 1.3917212549646392, 'random_strength': 9.63259618319848, 'bootstrap_type': 'Bernoulli', 'grow_policy': 'Lossguide', 'subsample': 0.7188082641362936, 'max_leaves': 70}. Best is trial 18 with value: 0.17634321824727686.\n",
      "[I 2024-05-20 01:30:54,843] Trial 36 finished with value: 0.17772379922079407 and parameters: {'scalers': 'robust', 'n_estimators': 902, 'learning_rate': 0.07655174984957586, 'depth': 8, 'l2_leaf_reg': 2.7430922989827096, 'random_strength': 7.5374203844779535, 'bootstrap_type': 'Bernoulli', 'grow_policy': 'Lossguide', 'subsample': 0.8376127252391015, 'max_leaves': 57}. Best is trial 18 with value: 0.17634321824727686.\n",
      "[I 2024-05-20 01:35:17,684] Trial 37 finished with value: 0.18923842575395955 and parameters: {'scalers': 'minmax', 'n_estimators': 767, 'learning_rate': 0.004498283453981983, 'depth': 9, 'l2_leaf_reg': 9.554969070022421, 'random_strength': 9.79434865618282, 'bootstrap_type': 'Bernoulli', 'grow_policy': 'Lossguide', 'subsample': 0.6447788221389331, 'max_leaves': 70}. Best is trial 18 with value: 0.17634321824727686.\n",
      "[I 2024-05-20 01:36:01,570] Trial 38 finished with value: 0.1787721397061363 and parameters: {'scalers': 'maxabs', 'n_estimators': 895, 'learning_rate': 0.06784249160432787, 'depth': 14, 'l2_leaf_reg': 8.256121594931452, 'random_strength': 9.637671237850476, 'bootstrap_type': 'MVS', 'grow_policy': 'SymmetricTree', 'subsample': 0.6932970311217928}. Best is trial 18 with value: 0.17634321824727686.\n",
      "[I 2024-05-20 01:38:55,638] Trial 39 finished with value: 0.17748909431746326 and parameters: {'scalers': 'maxabs', 'n_estimators': 868, 'learning_rate': 0.12993152426534033, 'depth': 11, 'l2_leaf_reg': 8.876063147266072, 'random_strength': 7.90413258865856, 'bootstrap_type': 'Bernoulli', 'grow_policy': 'Lossguide', 'subsample': 0.8605509524798494, 'max_leaves': 57}. Best is trial 18 with value: 0.17634321824727686.\n",
      "[I 2024-05-20 01:43:03,288] Trial 40 finished with value: 0.17718527496167433 and parameters: {'scalers': 'maxabs', 'n_estimators': 480, 'learning_rate': 0.05801849391295709, 'depth': 16, 'l2_leaf_reg': 4.241367606721996, 'random_strength': 8.741477951518362, 'bootstrap_type': 'Bernoulli', 'grow_policy': 'Lossguide', 'subsample': 0.6346490027053004, 'max_leaves': 70}. Best is trial 18 with value: 0.17634321824727686.\n",
      "[I 2024-05-20 01:45:39,196] Trial 41 finished with value: 0.18198583160997134 and parameters: {'scalers': 'maxabs', 'n_estimators': 337, 'learning_rate': 0.03540447747388083, 'depth': 14, 'l2_leaf_reg': 2.9378950270353776, 'random_strength': 9.316562290162976, 'bootstrap_type': 'Bayesian', 'grow_policy': 'Lossguide', 'bagging_temperature': 2.861052288480221, 'max_leaves': 70}. Best is trial 18 with value: 0.17634321824727686.\n",
      "[I 2024-05-20 01:48:25,932] Trial 42 finished with value: 0.18719045351764704 and parameters: {'scalers': 'maxabs', 'n_estimators': 432, 'learning_rate': 0.012716540305421624, 'depth': 15, 'l2_leaf_reg': 4.412234747265864, 'random_strength': 6.36643909441307, 'bootstrap_type': 'Bernoulli', 'grow_policy': 'Lossguide', 'subsample': 0.5085618251171853, 'max_leaves': 69}. Best is trial 18 with value: 0.17634321824727686.\n",
      "[I 2024-05-20 01:48:46,020] Trial 43 finished with value: 0.17531540331326637 and parameters: {'scalers': 'maxabs', 'n_estimators': 527, 'learning_rate': 0.09685193267685249, 'depth': 14, 'l2_leaf_reg': 2.9476426521767776, 'random_strength': 8.44187943059116, 'bootstrap_type': 'Bernoulli', 'grow_policy': 'Depthwise', 'subsample': 0.6605196518033604, 'min_data_in_leaf': 17}. Best is trial 43 with value: 0.17531540331326637.\n",
      "[I 2024-05-20 01:49:02,743] Trial 44 finished with value: 0.1775139488460192 and parameters: {'scalers': 'maxabs', 'n_estimators': 334, 'learning_rate': 0.10983255124213136, 'depth': 13, 'l2_leaf_reg': 1.1506754484300263, 'random_strength': 8.635989684050193, 'bootstrap_type': 'Bernoulli', 'grow_policy': 'Depthwise', 'subsample': 0.6000063517468153, 'min_data_in_leaf': 20}. Best is trial 43 with value: 0.17531540331326637.\n",
      "[I 2024-05-20 01:50:29,105] Trial 45 finished with value: 0.17339698460205857 and parameters: {'scalers': 'maxabs', 'n_estimators': 611, 'learning_rate': 0.1250931102522119, 'depth': 16, 'l2_leaf_reg': 5.6600072943107556, 'random_strength': 8.156314131171314, 'bootstrap_type': 'Bernoulli', 'grow_policy': 'Depthwise', 'subsample': 0.6049360536897948, 'min_data_in_leaf': 1}. Best is trial 45 with value: 0.17339698460205857.\n",
      "[I 2024-05-20 01:51:02,855] Trial 46 finished with value: 0.17490112414649467 and parameters: {'scalers': 'minmax', 'n_estimators': 552, 'learning_rate': 0.06191696192273846, 'depth': 16, 'l2_leaf_reg': 1.8679358887485145, 'random_strength': 9.580687634201349, 'bootstrap_type': 'MVS', 'grow_policy': 'Depthwise', 'subsample': 0.5523249832500202, 'min_data_in_leaf': 8}. Best is trial 45 with value: 0.17339698460205857.\n",
      "[I 2024-05-20 01:51:37,957] Trial 47 finished with value: 0.17502724689842072 and parameters: {'scalers': 'minmax', 'n_estimators': 382, 'learning_rate': 0.06435874325589286, 'depth': 14, 'l2_leaf_reg': 2.951248743934286, 'random_strength': 9.441470973399694, 'bootstrap_type': 'MVS', 'grow_policy': 'Depthwise', 'subsample': 0.4613232506894875, 'min_data_in_leaf': 2}. Best is trial 45 with value: 0.17339698460205857.\n",
      "[I 2024-05-20 01:52:03,217] Trial 48 finished with value: 0.1743629402561046 and parameters: {'scalers': 'minmax', 'n_estimators': 598, 'learning_rate': 0.08863957915515633, 'depth': 14, 'l2_leaf_reg': 1.908757630539524, 'random_strength': 9.603806901582178, 'bootstrap_type': 'MVS', 'grow_policy': 'Depthwise', 'subsample': 0.4495167397567538, 'min_data_in_leaf': 3}. Best is trial 45 with value: 0.17339698460205857.\n",
      "[I 2024-05-20 01:53:47,892] Trial 49 finished with value: 0.17345196570554403 and parameters: {'scalers': 'minmax', 'n_estimators': 724, 'learning_rate': 0.044625156118629716, 'depth': 15, 'l2_leaf_reg': 2.4049607476671593, 'random_strength': 9.288233720084277, 'bootstrap_type': 'MVS', 'grow_policy': 'Depthwise', 'subsample': 0.34634928585300806, 'min_data_in_leaf': 1}. Best is trial 45 with value: 0.17339698460205857.\n",
      "[I 2024-05-20 01:55:04,639] Trial 50 finished with value: 0.17989104200822842 and parameters: {'scalers': 'minmax', 'n_estimators': 805, 'learning_rate': 0.013440441672412123, 'depth': 14, 'l2_leaf_reg': 1.9165097025812532, 'random_strength': 8.47907562001971, 'bootstrap_type': 'MVS', 'grow_policy': 'Depthwise', 'subsample': 0.3543550022730374, 'min_data_in_leaf': 1}. Best is trial 45 with value: 0.17339698460205857.\n",
      "[I 2024-05-20 01:55:36,080] Trial 51 finished with value: 0.17474469323969205 and parameters: {'scalers': 'minmax', 'n_estimators': 427, 'learning_rate': 0.1364984375083803, 'depth': 14, 'l2_leaf_reg': 2.3945000170965343, 'random_strength': 8.427510885117528, 'bootstrap_type': 'MVS', 'grow_policy': 'Depthwise', 'subsample': 0.35625718525987515, 'min_data_in_leaf': 1}. Best is trial 45 with value: 0.17339698460205857.\n",
      "[I 2024-05-20 01:56:17,703] Trial 52 finished with value: 0.17446696220915658 and parameters: {'scalers': 'minmax', 'n_estimators': 318, 'learning_rate': 0.10361922779676172, 'depth': 14, 'l2_leaf_reg': 2.783246344144201, 'random_strength': 9.115226117471762, 'bootstrap_type': 'MVS', 'grow_policy': 'Depthwise', 'subsample': 0.3704361275527901, 'min_data_in_leaf': 1}. Best is trial 45 with value: 0.17339698460205857.\n",
      "[I 2024-05-20 01:56:47,549] Trial 53 finished with value: 0.17724811490835235 and parameters: {'scalers': 'minmax', 'n_estimators': 557, 'learning_rate': 0.21220290258885136, 'depth': 16, 'l2_leaf_reg': 1.1831040448373278, 'random_strength': 8.71807695589974, 'bootstrap_type': 'MVS', 'grow_policy': 'Depthwise', 'subsample': 0.28276621561858556, 'min_data_in_leaf': 1}. Best is trial 45 with value: 0.17339698460205857.\n",
      "[I 2024-05-20 01:56:47,851] Trial 54 finished with value: 0.24771729472043705 and parameters: {'scalers': 'minmax', 'n_estimators': 641, 'learning_rate': 0.11331268316651545, 'depth': 13, 'l2_leaf_reg': 0.017782695331085563, 'random_strength': 6.332255778867955, 'bootstrap_type': 'MVS', 'grow_policy': 'Lossguide', 'subsample': 0.36748930013815656, 'max_leaves': 1}. Best is trial 45 with value: 0.17339698460205857.\n",
      "[I 2024-05-20 01:57:08,742] Trial 55 finished with value: 0.17950702561962648 and parameters: {'scalers': 'minmax', 'n_estimators': 364, 'learning_rate': 0.13213896926175173, 'depth': 14, 'l2_leaf_reg': 1.7642968431012638, 'random_strength': 8.372745117119157, 'bootstrap_type': 'MVS', 'grow_policy': 'SymmetricTree', 'subsample': 0.38469680495435593}. Best is trial 45 with value: 0.17339698460205857.\n",
      "[I 2024-05-20 01:58:34,981] Trial 56 finished with value: 0.1747675039091284 and parameters: {'scalers': 'maxabs', 'n_estimators': 571, 'learning_rate': 0.05535380317072996, 'depth': 16, 'l2_leaf_reg': 0.30979954596397397, 'random_strength': 8.808026570284104, 'bootstrap_type': 'MVS', 'grow_policy': 'Depthwise', 'subsample': 0.15580305292723703, 'min_data_in_leaf': 1}. Best is trial 45 with value: 0.17339698460205857.\n",
      "[I 2024-05-20 01:59:16,111] Trial 57 finished with value: 0.186364921411797 and parameters: {'scalers': 'maxabs', 'n_estimators': 417, 'learning_rate': 0.005093128065670152, 'depth': 14, 'l2_leaf_reg': 0.5300866384533025, 'random_strength': 7.45270207178438, 'bootstrap_type': 'MVS', 'grow_policy': 'Depthwise', 'subsample': 0.12825718280273324, 'min_data_in_leaf': 1}. Best is trial 45 with value: 0.17339698460205857.\n",
      "[I 2024-05-20 01:59:46,932] Trial 58 finished with value: 0.17602947282817313 and parameters: {'scalers': 'standard', 'n_estimators': 885, 'learning_rate': 0.158443667761688, 'depth': 16, 'l2_leaf_reg': 5.328914672463253, 'random_strength': 8.003520816985734, 'bootstrap_type': 'Bernoulli', 'grow_policy': 'Depthwise', 'subsample': 0.22919489050081704, 'min_data_in_leaf': 3}. Best is trial 45 with value: 0.17339698460205857.\n",
      "[I 2024-05-20 02:01:15,036] Trial 59 finished with value: 0.17996400316725955 and parameters: {'scalers': 'maxabs', 'n_estimators': 558, 'learning_rate': 0.06362811050033661, 'depth': 16, 'l2_leaf_reg': 0.9302854292411271, 'random_strength': 8.481906121752953, 'bootstrap_type': 'MVS', 'grow_policy': 'SymmetricTree', 'subsample': 0.2932458716335782}. Best is trial 45 with value: 0.17339698460205857.\n",
      "[I 2024-05-20 02:01:31,503] Trial 60 finished with value: 0.17722725855553723 and parameters: {'scalers': 'minmax', 'n_estimators': 354, 'learning_rate': 0.1970361929227669, 'depth': 11, 'l2_leaf_reg': 4.669792668644467, 'random_strength': 6.586414532986488, 'bootstrap_type': 'MVS', 'grow_policy': 'Depthwise', 'subsample': 0.3810720731725339, 'min_data_in_leaf': 1}. Best is trial 45 with value: 0.17339698460205857.\n",
      "[I 2024-05-20 02:02:11,457] Trial 61 finished with value: 0.1755651158474042 and parameters: {'scalers': 'robust', 'n_estimators': 669, 'learning_rate': 0.09402998968273588, 'depth': 13, 'l2_leaf_reg': 4.449780424339798, 'random_strength': 9.491073394442328, 'bootstrap_type': 'MVS', 'grow_policy': 'Depthwise', 'subsample': 0.46770818007059245, 'min_data_in_leaf': 1}. Best is trial 45 with value: 0.17339698460205857.\n",
      "[I 2024-05-20 02:02:53,691] Trial 62 finished with value: 0.17544764770172555 and parameters: {'scalers': 'minmax', 'n_estimators': 611, 'learning_rate': 0.04916901921880693, 'depth': 12, 'l2_leaf_reg': 1.5801798808510568, 'random_strength': 9.786366417139577, 'bootstrap_type': 'Bayesian', 'grow_policy': 'Depthwise', 'bagging_temperature': 6.342487494924638, 'min_data_in_leaf': 14}. Best is trial 45 with value: 0.17339698460205857.\n",
      "[I 2024-05-20 02:03:19,406] Trial 63 finished with value: 0.17568690839485712 and parameters: {'scalers': None, 'n_estimators': 606, 'learning_rate': 0.1159766851161788, 'depth': 14, 'l2_leaf_reg': 1.3360945601918595, 'random_strength': 8.421752104680253, 'bootstrap_type': 'MVS', 'grow_policy': 'Depthwise', 'subsample': 0.14186243094978854, 'min_data_in_leaf': 2}. Best is trial 45 with value: 0.17339698460205857.\n",
      "[I 2024-05-20 02:04:25,414] Trial 64 finished with value: 0.17682857438837574 and parameters: {'scalers': 'maxabs', 'n_estimators': 585, 'learning_rate': 0.2186153343236671, 'depth': 14, 'l2_leaf_reg': 5.422678092312879, 'random_strength': 8.810250779390692, 'bootstrap_type': 'Bayesian', 'grow_policy': 'Depthwise', 'bagging_temperature': 9.491389890647289, 'min_data_in_leaf': 1}. Best is trial 45 with value: 0.17339698460205857.\n",
      "[I 2024-05-20 02:04:52,729] Trial 65 finished with value: 0.19190849631986556 and parameters: {'scalers': 'minmax', 'n_estimators': 595, 'learning_rate': 0.0052182998414689735, 'depth': 13, 'l2_leaf_reg': 4.3704423951407705, 'random_strength': 9.199363108014055, 'bootstrap_type': 'MVS', 'grow_policy': 'SymmetricTree', 'subsample': 0.47932239827797696}. Best is trial 45 with value: 0.17339698460205857.\n",
      "[I 2024-05-20 02:05:05,903] Trial 66 finished with value: 0.17968691628558942 and parameters: {'scalers': 'maxabs', 'n_estimators': 615, 'learning_rate': 0.17741429858965546, 'depth': 16, 'l2_leaf_reg': 7.234621389541317, 'random_strength': 7.883697525136591, 'bootstrap_type': 'Bernoulli', 'grow_policy': 'Depthwise', 'subsample': 0.29679128872669186, 'min_data_in_leaf': 16}. Best is trial 45 with value: 0.17339698460205857.\n",
      "[I 2024-05-20 02:05:45,981] Trial 67 finished with value: 0.17157344963153554 and parameters: {'scalers': 'standard', 'n_estimators': 352, 'learning_rate': 0.14303173070070926, 'depth': 13, 'l2_leaf_reg': 1.7731224427725452, 'random_strength': 9.771825922270962, 'bootstrap_type': 'Bayesian', 'grow_policy': 'Depthwise', 'bagging_temperature': 1.6892402284116992, 'min_data_in_leaf': 1}. Best is trial 67 with value: 0.17157344963153554.\n",
      "[I 2024-05-20 02:06:23,055] Trial 68 finished with value: 0.17322456542458606 and parameters: {'scalers': 'standard', 'n_estimators': 470, 'learning_rate': 0.11593267313692626, 'depth': 12, 'l2_leaf_reg': 1.908437004912006, 'random_strength': 8.703928369386768, 'bootstrap_type': 'Bayesian', 'grow_policy': 'Depthwise', 'bagging_temperature': 1.6784989186586556, 'min_data_in_leaf': 1}. Best is trial 67 with value: 0.17157344963153554.\n",
      "[I 2024-05-20 02:06:57,712] Trial 69 finished with value: 0.1734236200729897 and parameters: {'scalers': 'standard', 'n_estimators': 316, 'learning_rate': 0.154478631608718, 'depth': 13, 'l2_leaf_reg': 2.321147684162479, 'random_strength': 8.634802529328928, 'bootstrap_type': 'Bayesian', 'grow_policy': 'Depthwise', 'bagging_temperature': 1.3316915724147749, 'min_data_in_leaf': 1}. Best is trial 67 with value: 0.17157344963153554.\n",
      "[I 2024-05-20 02:07:31,600] Trial 70 finished with value: 0.17438052157494935 and parameters: {'scalers': 'standard', 'n_estimators': 233, 'learning_rate': 0.1407329284860067, 'depth': 12, 'l2_leaf_reg': 2.5542753217484244, 'random_strength': 7.308013251633637, 'bootstrap_type': 'Bayesian', 'grow_policy': 'Depthwise', 'bagging_temperature': 1.6198620667769086, 'min_data_in_leaf': 1}. Best is trial 67 with value: 0.17157344963153554.\n",
      "[I 2024-05-20 02:09:28,633] Trial 71 finished with value: 0.17292572153343405 and parameters: {'scalers': 'standard', 'n_estimators': 328, 'learning_rate': 0.08370111375207175, 'depth': 15, 'l2_leaf_reg': 3.6630910101827867, 'random_strength': 7.024096878606011, 'bootstrap_type': 'Bayesian', 'grow_policy': 'Depthwise', 'bagging_temperature': 1.545144603683796, 'min_data_in_leaf': 1}. Best is trial 67 with value: 0.17157344963153554.\n",
      "[I 2024-05-20 02:11:09,778] Trial 72 finished with value: 0.17331107039847102 and parameters: {'scalers': 'standard', 'n_estimators': 424, 'learning_rate': 0.09199846904996037, 'depth': 15, 'l2_leaf_reg': 1.8643819729997624, 'random_strength': 6.698239405762405, 'bootstrap_type': 'Bayesian', 'grow_policy': 'Depthwise', 'bagging_temperature': 1.5932437774245527, 'min_data_in_leaf': 1}. Best is trial 67 with value: 0.17157344963153554.\n",
      "[I 2024-05-20 02:12:02,555] Trial 73 finished with value: 0.1805759673125463 and parameters: {'scalers': 'standard', 'n_estimators': 413, 'learning_rate': 0.04378575140560653, 'depth': 14, 'l2_leaf_reg': 3.8824912603357626, 'random_strength': 7.582656712311932, 'bootstrap_type': 'Bayesian', 'grow_policy': 'SymmetricTree', 'bagging_temperature': 1.4809614258410064}. Best is trial 67 with value: 0.17157344963153554.\n",
      "[I 2024-05-20 02:13:33,859] Trial 74 finished with value: 0.17859665385874568 and parameters: {'scalers': 'standard', 'n_estimators': 314, 'learning_rate': 0.14621115372331167, 'depth': 14, 'l2_leaf_reg': 1.5772426172652358, 'random_strength': 8.724459390114138, 'bootstrap_type': 'Bayesian', 'grow_policy': 'Lossguide', 'bagging_temperature': 1.7031356190411309, 'max_leaves': 41}. Best is trial 67 with value: 0.17157344963153554.\n",
      "[I 2024-05-20 02:14:06,399] Trial 75 finished with value: 0.179898564874976 and parameters: {'scalers': 'standard', 'n_estimators': 350, 'learning_rate': 0.02709502221079687, 'depth': 15, 'l2_leaf_reg': 5.75225428915861, 'random_strength': 5.464276168723165, 'bootstrap_type': 'Bayesian', 'grow_policy': 'Depthwise', 'bagging_temperature': 1.5652077532849107, 'min_data_in_leaf': 17}. Best is trial 67 with value: 0.17157344963153554.\n",
      "[I 2024-05-20 02:15:36,510] Trial 76 finished with value: 0.1718300198247284 and parameters: {'scalers': 'standard', 'n_estimators': 480, 'learning_rate': 0.050893981553974295, 'depth': 13, 'l2_leaf_reg': 2.4499432033820243, 'random_strength': 8.280831120867157, 'bootstrap_type': 'Bayesian', 'grow_policy': 'Depthwise', 'bagging_temperature': 1.5219990039393307, 'min_data_in_leaf': 1}. Best is trial 67 with value: 0.17157344963153554.\n",
      "[I 2024-05-20 02:16:55,074] Trial 77 finished with value: 0.17323586211592115 and parameters: {'scalers': 'robust', 'n_estimators': 545, 'learning_rate': 0.1293557136317654, 'depth': 15, 'l2_leaf_reg': 3.073092078684974, 'random_strength': 5.265937856622987, 'bootstrap_type': 'Bayesian', 'grow_policy': 'Depthwise', 'bagging_temperature': 1.545086049539828, 'min_data_in_leaf': 1}. Best is trial 67 with value: 0.17157344963153554.\n",
      "[I 2024-05-20 02:18:01,076] Trial 78 finished with value: 0.1733780204761803 and parameters: {'scalers': 'standard', 'n_estimators': 614, 'learning_rate': 0.10601256389461175, 'depth': 14, 'l2_leaf_reg': 1.9631902163375174, 'random_strength': 7.55466365041048, 'bootstrap_type': 'Bayesian', 'grow_policy': 'Depthwise', 'bagging_temperature': 1.4905374082881164, 'min_data_in_leaf': 1}. Best is trial 67 with value: 0.17157344963153554.\n",
      "[I 2024-05-20 02:18:21,161] Trial 79 finished with value: 0.17587444826522008 and parameters: {'scalers': 'robust', 'n_estimators': 495, 'learning_rate': 0.13010984952400845, 'depth': 15, 'l2_leaf_reg': 3.019628430883147, 'random_strength': 5.148898135272851, 'bootstrap_type': 'Bayesian', 'grow_policy': 'Depthwise', 'bagging_temperature': 1.6944225589497315, 'min_data_in_leaf': 19}. Best is trial 67 with value: 0.17157344963153554.\n",
      "[I 2024-05-20 02:19:33,501] Trial 80 finished with value: 0.17706550476176816 and parameters: {'scalers': 'standard', 'n_estimators': 582, 'learning_rate': 0.16755191251738996, 'depth': 16, 'l2_leaf_reg': 0.00891886042068113, 'random_strength': 5.914454152626806, 'bootstrap_type': 'Bayesian', 'grow_policy': 'Depthwise', 'bagging_temperature': 1.8548316267522806, 'min_data_in_leaf': 1}. Best is trial 67 with value: 0.17157344963153554.\n",
      "[I 2024-05-20 02:21:23,856] Trial 81 finished with value: 0.17254514796497794 and parameters: {'scalers': 'standard', 'n_estimators': 523, 'learning_rate': 0.10431488278037811, 'depth': 15, 'l2_leaf_reg': 4.036525260456772, 'random_strength': 9.842633581847496, 'bootstrap_type': 'Bayesian', 'grow_policy': 'Depthwise', 'bagging_temperature': 1.3084584499005216, 'min_data_in_leaf': 1}. Best is trial 67 with value: 0.17157344963153554.\n",
      "[I 2024-05-20 02:23:12,752] Trial 82 finished with value: 0.17255952211969047 and parameters: {'scalers': 'standard', 'n_estimators': 548, 'learning_rate': 0.09915444906000428, 'depth': 15, 'l2_leaf_reg': 4.069793483174644, 'random_strength': 7.496042866696283, 'bootstrap_type': 'Bayesian', 'grow_policy': 'Depthwise', 'bagging_temperature': 1.302926613274539, 'min_data_in_leaf': 1}. Best is trial 67 with value: 0.17157344963153554.\n",
      "[I 2024-05-20 02:24:00,269] Trial 83 finished with value: 0.1747076544138027 and parameters: {'scalers': 'standard', 'n_estimators': 631, 'learning_rate': 0.05975447155828678, 'depth': 16, 'l2_leaf_reg': 3.1489673095138233, 'random_strength': 9.464324748734619, 'bootstrap_type': 'Bayesian', 'grow_policy': 'Depthwise', 'bagging_temperature': 1.1486891388267613, 'min_data_in_leaf': 17}. Best is trial 67 with value: 0.17157344963153554.\n",
      "[I 2024-05-20 02:24:36,725] Trial 84 finished with value: 0.18351897323566665 and parameters: {'scalers': 'standard', 'n_estimators': 361, 'learning_rate': 0.0090312166712442, 'depth': 13, 'l2_leaf_reg': 1.0681190611574736, 'random_strength': 6.78396258943043, 'bootstrap_type': 'Bayesian', 'grow_policy': 'Depthwise', 'bagging_temperature': 1.4294276888572708, 'min_data_in_leaf': 1}. Best is trial 67 with value: 0.17157344963153554.\n",
      "[I 2024-05-20 02:24:47,928] Trial 85 finished with value: 0.17887596871298858 and parameters: {'scalers': 'standard', 'n_estimators': 783, 'learning_rate': 0.14934797035559497, 'depth': 12, 'l2_leaf_reg': 3.7641833597122787, 'random_strength': 8.160680784855879, 'bootstrap_type': 'Bayesian', 'grow_policy': 'Depthwise', 'bagging_temperature': 1.8621139397813504, 'min_data_in_leaf': 72}. Best is trial 67 with value: 0.17157344963153554.\n",
      "[I 2024-05-20 02:25:10,480] Trial 86 finished with value: 0.17562384040855372 and parameters: {'scalers': None, 'n_estimators': 468, 'learning_rate': 0.08097443335548611, 'depth': 11, 'l2_leaf_reg': 2.6859237688389994, 'random_strength': 7.708480982481916, 'bootstrap_type': 'Bayesian', 'grow_policy': 'Depthwise', 'bagging_temperature': 0.44413525179366986, 'min_data_in_leaf': 18}. Best is trial 67 with value: 0.17157344963153554.\n",
      "[I 2024-05-20 02:25:24,208] Trial 87 finished with value: 0.1781824072812697 and parameters: {'scalers': 'standard', 'n_estimators': 401, 'learning_rate': 0.16278980319742095, 'depth': 9, 'l2_leaf_reg': 0.19026125843229824, 'random_strength': 8.77999036930769, 'bootstrap_type': 'MVS', 'grow_policy': 'Depthwise', 'subsample': 0.16304344618583494, 'min_data_in_leaf': 1}. Best is trial 67 with value: 0.17157344963153554.\n",
      "[I 2024-05-20 02:25:46,862] Trial 88 finished with value: 0.181186121153717 and parameters: {'scalers': 'standard', 'n_estimators': 633, 'learning_rate': 0.14040175532363441, 'depth': 14, 'l2_leaf_reg': 7.185708088936965, 'random_strength': 9.197923261589423, 'bootstrap_type': 'Bayesian', 'grow_policy': 'SymmetricTree', 'bagging_temperature': 2.408954810748019}. Best is trial 67 with value: 0.17157344963153554.\n",
      "[I 2024-05-20 02:26:20,660] Trial 89 finished with value: 0.17405339387738122 and parameters: {'scalers': 'robust', 'n_estimators': 368, 'learning_rate': 0.09222028374843554, 'depth': 14, 'l2_leaf_reg': 4.625626592892928, 'random_strength': 9.75218945659689, 'bootstrap_type': 'Bayesian', 'grow_policy': 'Depthwise', 'bagging_temperature': 1.7582166684737266, 'min_data_in_leaf': 16}. Best is trial 67 with value: 0.17157344963153554.\n",
      "[I 2024-05-20 02:28:05,744] Trial 90 finished with value: 0.17321448422402047 and parameters: {'scalers': 'standard', 'n_estimators': 411, 'learning_rate': 0.11631195234425318, 'depth': 16, 'l2_leaf_reg': 3.1535314792054807, 'random_strength': 9.104637997285554, 'bootstrap_type': 'Bernoulli', 'grow_policy': 'Depthwise', 'subsample': 0.584227625294836, 'min_data_in_leaf': 1}. Best is trial 67 with value: 0.17157344963153554.\n",
      "[I 2024-05-20 02:28:31,440] Trial 91 finished with value: 0.17512268812037401 and parameters: {'scalers': 'standard', 'n_estimators': 589, 'learning_rate': 0.0762048255883821, 'depth': 9, 'l2_leaf_reg': 2.8684161854920953, 'random_strength': 9.040238700585757, 'bootstrap_type': 'Bayesian', 'grow_policy': 'Depthwise', 'bagging_temperature': 1.034809836389619, 'min_data_in_leaf': 1}. Best is trial 67 with value: 0.17157344963153554.\n",
      "[I 2024-05-20 02:30:18,733] Trial 92 finished with value: 0.17299053606351075 and parameters: {'scalers': 'standard', 'n_estimators': 343, 'learning_rate': 0.07567680777299979, 'depth': 14, 'l2_leaf_reg': 6.323970299452828, 'random_strength': 7.90616785983052, 'bootstrap_type': 'Bernoulli', 'grow_policy': 'Depthwise', 'subsample': 0.5898831353699268, 'min_data_in_leaf': 1}. Best is trial 67 with value: 0.17157344963153554.\n",
      "[I 2024-05-20 02:30:35,312] Trial 93 finished with value: 0.18500320019558072 and parameters: {'scalers': 'standard', 'n_estimators': 220, 'learning_rate': 0.017940032693885596, 'depth': 13, 'l2_leaf_reg': 5.55630066322253, 'random_strength': 8.762864036846928, 'bootstrap_type': 'Bernoulli', 'grow_policy': 'Depthwise', 'subsample': 0.6253996118637279, 'min_data_in_leaf': 14}. Best is trial 67 with value: 0.17157344963153554.\n",
      "[I 2024-05-20 02:32:20,862] Trial 94 finished with value: 0.1732718484442376 and parameters: {'scalers': 'standard', 'n_estimators': 513, 'learning_rate': 0.07419804505489758, 'depth': 14, 'l2_leaf_reg': 6.369053827129925, 'random_strength': 7.2181984353777615, 'bootstrap_type': 'Bernoulli', 'grow_policy': 'Depthwise', 'subsample': 0.5667768463444031, 'min_data_in_leaf': 1}. Best is trial 67 with value: 0.17157344963153554.\n",
      "[I 2024-05-20 02:32:45,355] Trial 95 finished with value: 0.1768507755331088 and parameters: {'scalers': 'standard', 'n_estimators': 676, 'learning_rate': 0.10421642512670228, 'depth': 11, 'l2_leaf_reg': 6.352639508149822, 'random_strength': 6.305784531558856, 'bootstrap_type': 'Bernoulli', 'grow_policy': 'Depthwise', 'subsample': 0.5600681862153609, 'min_data_in_leaf': 15}. Best is trial 67 with value: 0.17157344963153554.\n",
      "[I 2024-05-20 02:35:12,074] Trial 96 finished with value: 0.1730704077485262 and parameters: {'scalers': 'maxabs', 'n_estimators': 713, 'learning_rate': 0.05020854360299336, 'depth': 13, 'l2_leaf_reg': 3.0679571859717125, 'random_strength': 5.133953776287956, 'bootstrap_type': 'Bayesian', 'grow_policy': 'Depthwise', 'bagging_temperature': 3.2900315251301704, 'min_data_in_leaf': 1}. Best is trial 67 with value: 0.17157344963153554.\n",
      "[I 2024-05-20 02:40:30,769] Trial 97 finished with value: 0.1728816215268286 and parameters: {'scalers': 'maxabs', 'n_estimators': 891, 'learning_rate': 0.025123058138601558, 'depth': 14, 'l2_leaf_reg': 4.586063590684075, 'random_strength': 4.016068408477561, 'bootstrap_type': 'Bayesian', 'grow_policy': 'Depthwise', 'bagging_temperature': 3.726073309332213, 'min_data_in_leaf': 1}. Best is trial 67 with value: 0.17157344963153554.\n",
      "[I 2024-05-20 02:41:17,009] Trial 98 finished with value: 0.17538482362635305 and parameters: {'scalers': 'maxabs', 'n_estimators': 842, 'learning_rate': 0.0706232491153245, 'depth': 15, 'l2_leaf_reg': 6.317186871710379, 'random_strength': 5.2199186854389, 'bootstrap_type': 'Bayesian', 'grow_policy': 'Depthwise', 'bagging_temperature': 3.9672210293388046, 'min_data_in_leaf': 15}. Best is trial 67 with value: 0.17157344963153554.\n",
      "[I 2024-05-20 02:42:05,773] Trial 99 finished with value: 0.17972530488300875 and parameters: {'scalers': 'maxabs', 'n_estimators': 619, 'learning_rate': 0.008133475958326829, 'depth': 13, 'l2_leaf_reg': 1.9897193577128867, 'random_strength': 3.7118612163932525, 'bootstrap_type': 'Bayesian', 'grow_policy': 'Depthwise', 'bagging_temperature': 4.0275264593265, 'min_data_in_leaf': 45}. Best is trial 67 with value: 0.17157344963153554.\n",
      "[I 2024-05-20 02:43:27,189] Trial 100 finished with value: 0.17317944184497253 and parameters: {'scalers': 'standard', 'n_estimators': 393, 'learning_rate': 0.12887303962420335, 'depth': 15, 'l2_leaf_reg': 2.1727226604062726, 'random_strength': 9.79342369887284, 'bootstrap_type': 'Bernoulli', 'grow_policy': 'Depthwise', 'subsample': 0.6465862675991776, 'min_data_in_leaf': 1}. Best is trial 67 with value: 0.17157344963153554.\n",
      "[I 2024-05-20 02:44:41,801] Trial 101 finished with value: 0.17409211519616616 and parameters: {'scalers': 'standard', 'n_estimators': 396, 'learning_rate': 0.17132181720586293, 'depth': 16, 'l2_leaf_reg': 2.2416566316441604, 'random_strength': 8.89316105834202, 'bootstrap_type': 'Bernoulli', 'grow_policy': 'Depthwise', 'subsample': 0.6671055605037567, 'min_data_in_leaf': 1}. Best is trial 67 with value: 0.17157344963153554.\n",
      "[I 2024-05-20 02:45:06,725] Trial 102 finished with value: 0.17801485637715941 and parameters: {'scalers': 'maxabs', 'n_estimators': 932, 'learning_rate': 0.05751627837838866, 'depth': 14, 'l2_leaf_reg': 2.7697366497961635, 'random_strength': 2.586886071864031, 'bootstrap_type': 'Bayesian', 'grow_policy': 'Depthwise', 'bagging_temperature': 3.5117637938701516, 'min_data_in_leaf': 95}. Best is trial 67 with value: 0.17157344963153554.\n",
      "[I 2024-05-20 02:50:28,899] Trial 103 finished with value: 0.17261223490355213 and parameters: {'scalers': 'standard', 'n_estimators': 959, 'learning_rate': 0.020888765239857793, 'depth': 16, 'l2_leaf_reg': 6.546883474955992, 'random_strength': 2.748244254172925, 'bootstrap_type': 'Bayesian', 'grow_policy': 'Depthwise', 'bagging_temperature': 3.5775531089577046, 'min_data_in_leaf': 2}. Best is trial 67 with value: 0.17157344963153554.\n",
      "[I 2024-05-20 02:57:06,152] Trial 104 finished with value: 0.1733350264859356 and parameters: {'scalers': 'standard', 'n_estimators': 954, 'learning_rate': 0.014508299428474127, 'depth': 15, 'l2_leaf_reg': 7.385042302884768, 'random_strength': 4.177493111460774, 'bootstrap_type': 'Bayesian', 'grow_policy': 'Depthwise', 'bagging_temperature': 3.8910950334836065, 'min_data_in_leaf': 1}. Best is trial 67 with value: 0.17157344963153554.\n",
      "[I 2024-05-20 02:57:34,874] Trial 105 finished with value: 0.18215924843027287 and parameters: {'scalers': 'standard', 'n_estimators': 444, 'learning_rate': 0.024586394831180067, 'depth': 11, 'l2_leaf_reg': 0.6311775637939643, 'random_strength': 9.1890736514747, 'bootstrap_type': 'Bernoulli', 'grow_policy': 'Depthwise', 'subsample': 0.6701668080513338, 'min_data_in_leaf': 14}. Best is trial 67 with value: 0.17157344963153554.\n",
      "[I 2024-05-20 03:00:35,949] Trial 106 finished with value: 0.18276927793218087 and parameters: {'scalers': 'standard', 'n_estimators': 883, 'learning_rate': 0.033004775886534984, 'depth': 16, 'l2_leaf_reg': 7.002074131171282, 'random_strength': 0.35923636074112775, 'bootstrap_type': 'Bayesian', 'grow_policy': 'SymmetricTree', 'bagging_temperature': 3.4877116720830124}. Best is trial 67 with value: 0.17157344963153554.\n",
      "[I 2024-05-20 03:01:04,381] Trial 107 finished with value: 0.17573331563929362 and parameters: {'scalers': 'standard', 'n_estimators': 482, 'learning_rate': 0.13551433161193494, 'depth': 15, 'l2_leaf_reg': 3.5022884224248885, 'random_strength': 9.841003888949512, 'bootstrap_type': 'MVS', 'grow_policy': 'Depthwise', 'subsample': 0.5787758411825916, 'min_data_in_leaf': 2}. Best is trial 67 with value: 0.17157344963153554.\n",
      "[I 2024-05-20 03:04:04,814] Trial 108 finished with value: 0.1728887852468902 and parameters: {'scalers': 'minmax', 'n_estimators': 857, 'learning_rate': 0.05570224974622011, 'depth': 13, 'l2_leaf_reg': 5.432695316143928, 'random_strength': 2.937459144596227, 'bootstrap_type': 'Bayesian', 'grow_policy': 'Depthwise', 'bagging_temperature': 3.6437127325647864, 'min_data_in_leaf': 1}. Best is trial 67 with value: 0.17157344963153554.\n",
      "[I 2024-05-20 03:05:30,623] Trial 109 finished with value: 0.17994035970116184 and parameters: {'scalers': 'robust', 'n_estimators': 926, 'learning_rate': 0.00633036831888234, 'depth': 12, 'l2_leaf_reg': 5.878749249553296, 'random_strength': 8.309093845201387, 'bootstrap_type': 'Bayesian', 'grow_policy': 'Depthwise', 'bagging_temperature': 4.134616625546533, 'min_data_in_leaf': 14}. Best is trial 67 with value: 0.17157344963153554.\n",
      "[I 2024-05-20 03:06:50,396] Trial 110 finished with value: 0.17403954960500767 and parameters: {'scalers': 'robust', 'n_estimators': 820, 'learning_rate': 0.06405144853285089, 'depth': 13, 'l2_leaf_reg': 4.867132565580309, 'random_strength': 2.5188294933607907, 'bootstrap_type': 'Bayesian', 'grow_policy': 'Depthwise', 'bagging_temperature': 3.4049856266465737, 'min_data_in_leaf': 2}. Best is trial 67 with value: 0.17157344963153554.\n",
      "[I 2024-05-20 03:13:09,624] Trial 111 finished with value: 0.17205735493683633 and parameters: {'scalers': 'minmax', 'n_estimators': 670, 'learning_rate': 0.04849244284692826, 'depth': 16, 'l2_leaf_reg': 5.509822489945794, 'random_strength': 3.174721986960497, 'bootstrap_type': 'Bayesian', 'grow_policy': 'Depthwise', 'bagging_temperature': 3.6274703738869096, 'min_data_in_leaf': 1}. Best is trial 67 with value: 0.17157344963153554.\n",
      "[I 2024-05-20 03:14:20,942] Trial 112 finished with value: 0.17469183331864482 and parameters: {'scalers': 'minmax', 'n_estimators': 640, 'learning_rate': 0.07869732376983087, 'depth': 14, 'l2_leaf_reg': 7.672093086478988, 'random_strength': 3.768561754578784, 'bootstrap_type': 'MVS', 'grow_policy': 'Depthwise', 'subsample': 0.7302611779553747, 'min_data_in_leaf': 1}. Best is trial 67 with value: 0.17157344963153554.\n",
      "[I 2024-05-20 03:19:23,438] Trial 113 finished with value: 0.17266865306613563 and parameters: {'scalers': 'minmax', 'n_estimators': 610, 'learning_rate': 0.0730205281580483, 'depth': 16, 'l2_leaf_reg': 4.705262425583424, 'random_strength': 2.5382453929969335, 'bootstrap_type': 'Bayesian', 'grow_policy': 'Depthwise', 'bagging_temperature': 4.587051697215214, 'min_data_in_leaf': 1}. Best is trial 67 with value: 0.17157344963153554.\n",
      "[I 2024-05-20 03:20:19,987] Trial 114 finished with value: 0.17415387637660948 and parameters: {'scalers': 'minmax', 'n_estimators': 622, 'learning_rate': 0.08079099469583331, 'depth': 16, 'l2_leaf_reg': 4.293127006678679, 'random_strength': 3.8154113802848166, 'bootstrap_type': 'Bayesian', 'grow_policy': 'Depthwise', 'bagging_temperature': 5.0071195883058675, 'min_data_in_leaf': 14}. Best is trial 67 with value: 0.17157344963153554.\n",
      "[I 2024-05-20 03:21:03,122] Trial 115 finished with value: 0.17703311780939937 and parameters: {'scalers': 'minmax', 'n_estimators': 774, 'learning_rate': 0.032264604382912426, 'depth': 8, 'l2_leaf_reg': 7.5673966146649025, 'random_strength': 4.812019961108259, 'bootstrap_type': 'Bayesian', 'grow_policy': 'Depthwise', 'bagging_temperature': 4.154630225333699, 'min_data_in_leaf': 1}. Best is trial 67 with value: 0.17157344963153554.\n",
      "[I 2024-05-20 03:23:06,824] Trial 116 finished with value: 0.17530131819250036 and parameters: {'scalers': 'maxabs', 'n_estimators': 859, 'learning_rate': 0.03299089608894865, 'depth': 16, 'l2_leaf_reg': 6.185543014530181, 'random_strength': 2.283654593651742, 'bootstrap_type': 'MVS', 'grow_policy': 'Depthwise', 'subsample': 0.9816243983755341, 'min_data_in_leaf': 1}. Best is trial 67 with value: 0.17157344963153554.\n",
      "[I 2024-05-20 03:24:11,980] Trial 117 finished with value: 0.1738721370648613 and parameters: {'scalers': 'minmax', 'n_estimators': 952, 'learning_rate': 0.06656343063139712, 'depth': 16, 'l2_leaf_reg': 6.568315684498064, 'random_strength': 2.7183905189564923, 'bootstrap_type': 'Bayesian', 'grow_policy': 'Depthwise', 'bagging_temperature': 3.794298623224102, 'min_data_in_leaf': 14}. Best is trial 67 with value: 0.17157344963153554.\n",
      "[I 2024-05-20 03:26:45,050] Trial 118 finished with value: 0.17394646031083297 and parameters: {'scalers': 'standard', 'n_estimators': 426, 'learning_rate': 0.16118827366596578, 'depth': 15, 'l2_leaf_reg': 6.310726045704547, 'random_strength': 9.921936630805858, 'bootstrap_type': 'Bayesian', 'grow_policy': 'Depthwise', 'bagging_temperature': 5.549440081186164, 'min_data_in_leaf': 1}. Best is trial 67 with value: 0.17157344963153554.\n",
      "[I 2024-05-20 03:28:03,202] Trial 119 finished with value: 0.17395165107149183 and parameters: {'scalers': 'standard', 'n_estimators': 828, 'learning_rate': 0.053980449042561704, 'depth': 16, 'l2_leaf_reg': 4.171378354193415, 'random_strength': 2.5267748969522916, 'bootstrap_type': 'Bayesian', 'grow_policy': 'Depthwise', 'bagging_temperature': 3.4309745289486084, 'min_data_in_leaf': 14}. Best is trial 67 with value: 0.17157344963153554.\n",
      "[I 2024-05-20 03:29:06,951] Trial 120 finished with value: 0.17377981029403786 and parameters: {'scalers': 'minmax', 'n_estimators': 620, 'learning_rate': 0.08297063027227758, 'depth': 16, 'l2_leaf_reg': 4.753859573411839, 'random_strength': 0.8259633659322225, 'bootstrap_type': 'Bernoulli', 'grow_policy': 'Depthwise', 'subsample': 0.7749548979840093, 'min_data_in_leaf': 2}. Best is trial 67 with value: 0.17157344963153554.\n",
      "[I 2024-05-20 03:29:30,418] Trial 121 finished with value: 0.17960030714234987 and parameters: {'scalers': 'standard', 'n_estimators': 263, 'learning_rate': 0.09398513522646845, 'depth': 12, 'l2_leaf_reg': 9.817115566007452, 'random_strength': 7.722909927140114, 'bootstrap_type': 'Bernoulli', 'grow_policy': 'SymmetricTree', 'subsample': 0.5081969099255463}. Best is trial 67 with value: 0.17157344963153554.\n",
      "[I 2024-05-20 03:30:51,039] Trial 122 finished with value: 0.18142841524176548 and parameters: {'scalers': None, 'n_estimators': 829, 'learning_rate': 0.015768782148319747, 'depth': 13, 'l2_leaf_reg': 5.493813124418884, 'random_strength': 5.221914251222513, 'bootstrap_type': 'Bayesian', 'grow_policy': 'SymmetricTree', 'bagging_temperature': 3.331740222287931}. Best is trial 67 with value: 0.17157344963153554.\n",
      "[I 2024-05-20 03:32:21,114] Trial 123 finished with value: 0.18317435934019266 and parameters: {'scalers': 'minmax', 'n_estimators': 577, 'learning_rate': 0.06899013992842115, 'depth': 16, 'l2_leaf_reg': 5.540756362011879, 'random_strength': 1.6010691908572359, 'bootstrap_type': 'Bayesian', 'grow_policy': 'SymmetricTree', 'bagging_temperature': 3.3419506095947273}. Best is trial 67 with value: 0.17157344963153554.\n",
      "[I 2024-05-20 03:33:06,313] Trial 124 finished with value: 0.1785176553980235 and parameters: {'scalers': 'minmax', 'n_estimators': 820, 'learning_rate': 0.020964815219237723, 'depth': 9, 'l2_leaf_reg': 3.9060827338797006, 'random_strength': 3.675121384774032, 'bootstrap_type': 'MVS', 'grow_policy': 'Depthwise', 'subsample': 0.7161519119683868, 'min_data_in_leaf': 3}. Best is trial 67 with value: 0.17157344963153554.\n",
      "[I 2024-05-20 03:34:41,614] Trial 125 finished with value: 0.18239670397951688 and parameters: {'scalers': 'maxabs', 'n_estimators': 767, 'learning_rate': 0.06940650569341672, 'depth': 12, 'l2_leaf_reg': 0.15486843636895786, 'random_strength': 6.4936268411573295, 'bootstrap_type': 'Bayesian', 'grow_policy': 'Lossguide', 'bagging_temperature': 5.583528133897773, 'max_leaves': 14}. Best is trial 67 with value: 0.17157344963153554.\n",
      "[I 2024-05-20 03:38:58,639] Trial 126 finished with value: 0.179274825614861 and parameters: {'scalers': 'maxabs', 'n_estimators': 964, 'learning_rate': 0.031856486170525826, 'depth': 13, 'l2_leaf_reg': 8.073872558240634, 'random_strength': 1.6115685116211789, 'bootstrap_type': 'Bayesian', 'grow_policy': 'Lossguide', 'bagging_temperature': 3.134065495851556, 'max_leaves': 40}. Best is trial 67 with value: 0.17157344963153554.\n",
      "[I 2024-05-20 03:40:33,000] Trial 127 finished with value: 0.17403826088032803 and parameters: {'scalers': None, 'n_estimators': 485, 'learning_rate': 0.06525321281277736, 'depth': 13, 'l2_leaf_reg': 5.240128553552855, 'random_strength': 2.174810005940879, 'bootstrap_type': 'Bayesian', 'grow_policy': 'Depthwise', 'bagging_temperature': 0.08000824768070847, 'min_data_in_leaf': 1}. Best is trial 67 with value: 0.17157344963153554.\n",
      "[I 2024-05-20 03:41:42,340] Trial 128 finished with value: 0.17328016009122177 and parameters: {'scalers': 'maxabs', 'n_estimators': 718, 'learning_rate': 0.0877745382994051, 'depth': 12, 'l2_leaf_reg': 1.61985626661023, 'random_strength': 6.159326019960357, 'bootstrap_type': 'Bayesian', 'grow_policy': 'Depthwise', 'bagging_temperature': 2.744136973735033, 'min_data_in_leaf': 1}. Best is trial 67 with value: 0.17157344963153554.\n",
      "[I 2024-05-20 03:42:37,008] Trial 129 finished with value: 0.17389563217541026 and parameters: {'scalers': 'minmax', 'n_estimators': 882, 'learning_rate': 0.09828736480322425, 'depth': 11, 'l2_leaf_reg': 3.703947239468609, 'random_strength': 3.908765642979328, 'bootstrap_type': 'Bayesian', 'grow_policy': 'Depthwise', 'bagging_temperature': 2.8125508844486387, 'min_data_in_leaf': 1}. Best is trial 67 with value: 0.17157344963153554.\n",
      "[I 2024-05-20 03:43:08,547] Trial 130 finished with value: 0.18414384351155524 and parameters: {'scalers': 'standard', 'n_estimators': 770, 'learning_rate': 0.0754807104971402, 'depth': 11, 'l2_leaf_reg': 4.439151416337438, 'random_strength': 1.4326323295791945, 'bootstrap_type': 'Bayesian', 'grow_policy': 'Lossguide', 'bagging_temperature': 4.774533686270454, 'max_leaves': 9}. Best is trial 67 with value: 0.17157344963153554.\n",
      "[I 2024-05-20 03:43:38,513] Trial 131 finished with value: 0.17563868515489528 and parameters: {'scalers': 'standard', 'n_estimators': 325, 'learning_rate': 0.20043578452320082, 'depth': 12, 'l2_leaf_reg': 6.3873805894096725, 'random_strength': 7.601880339358755, 'bootstrap_type': 'Bernoulli', 'grow_policy': 'Depthwise', 'subsample': 0.5677146903175387, 'min_data_in_leaf': 1}. Best is trial 67 with value: 0.17157344963153554.\n",
      "[I 2024-05-20 03:44:41,444] Trial 132 finished with value: 0.17348903950015768 and parameters: {'scalers': None, 'n_estimators': 232, 'learning_rate': 0.11597076310565668, 'depth': 14, 'l2_leaf_reg': 2.948044322738658, 'random_strength': 8.126789582772034, 'bootstrap_type': 'Bernoulli', 'grow_policy': 'Depthwise', 'subsample': 0.5534094043210411, 'min_data_in_leaf': 1}. Best is trial 67 with value: 0.17157344963153554.\n",
      "[I 2024-05-20 03:45:15,056] Trial 133 finished with value: 0.17545056255532887 and parameters: {'scalers': 'standard', 'n_estimators': 419, 'learning_rate': 0.06610967420835777, 'depth': 15, 'l2_leaf_reg': 3.7200142593468075, 'random_strength': 7.7747574985207875, 'bootstrap_type': 'Bernoulli', 'grow_policy': 'Depthwise', 'subsample': 0.6596901014515023, 'min_data_in_leaf': 14}. Best is trial 67 with value: 0.17157344963153554.\n",
      "[I 2024-05-20 03:48:33,301] Trial 134 finished with value: 0.1721969564381413 and parameters: {'scalers': 'minmax', 'n_estimators': 489, 'learning_rate': 0.05338666467127341, 'depth': 14, 'l2_leaf_reg': 4.414634999721961, 'random_strength': 1.7558929394621452, 'bootstrap_type': 'Bayesian', 'grow_policy': 'Depthwise', 'bagging_temperature': 2.622463290530801, 'min_data_in_leaf': 1}. Best is trial 67 with value: 0.17157344963153554.\n",
      "[I 2024-05-20 03:49:11,018] Trial 135 finished with value: 0.1739027883737781 and parameters: {'scalers': 'minmax', 'n_estimators': 311, 'learning_rate': 0.08267084082973175, 'depth': 15, 'l2_leaf_reg': 4.351676356230489, 'random_strength': 1.639730437703843, 'bootstrap_type': 'Bayesian', 'grow_policy': 'Depthwise', 'bagging_temperature': 2.7932876416490253, 'min_data_in_leaf': 13}. Best is trial 67 with value: 0.17157344963153554.\n",
      "[I 2024-05-20 03:52:51,599] Trial 136 finished with value: 0.17157082713816912 and parameters: {'scalers': 'minmax', 'n_estimators': 637, 'learning_rate': 0.06922782903877982, 'depth': 15, 'l2_leaf_reg': 6.588703318494482, 'random_strength': 1.7494515291029002, 'bootstrap_type': 'Bayesian', 'grow_policy': 'Depthwise', 'bagging_temperature': 2.329066611368438, 'min_data_in_leaf': 1}. Best is trial 136 with value: 0.17157082713816912.\n",
      "[I 2024-05-20 04:00:07,362] Trial 137 finished with value: 0.1717673760163722 and parameters: {'scalers': 'minmax', 'n_estimators': 666, 'learning_rate': 0.034201973900891844, 'depth': 15, 'l2_leaf_reg': 6.279226196952993, 'random_strength': 1.1868669976178012, 'bootstrap_type': 'Bayesian', 'grow_policy': 'Depthwise', 'bagging_temperature': 2.359317968461035, 'min_data_in_leaf': 1}. Best is trial 136 with value: 0.17157082713816912.\n",
      "[I 2024-05-20 04:00:56,140] Trial 138 finished with value: 0.1741819519057697 and parameters: {'scalers': 'minmax', 'n_estimators': 570, 'learning_rate': 0.05197499018193266, 'depth': 13, 'l2_leaf_reg': 5.763255517909919, 'random_strength': 2.401601685745751, 'bootstrap_type': 'Bayesian', 'grow_policy': 'Depthwise', 'bagging_temperature': 1.5300862139178013, 'min_data_in_leaf': 15}. Best is trial 136 with value: 0.17157082713816912.\n",
      "[I 2024-05-20 04:05:12,700] Trial 139 finished with value: 0.17818418732936037 and parameters: {'scalers': 'minmax', 'n_estimators': 959, 'learning_rate': 0.05095872640280696, 'depth': 14, 'l2_leaf_reg': 5.247382722611557, 'random_strength': 3.268600738255574, 'bootstrap_type': 'Bayesian', 'grow_policy': 'Lossguide', 'bagging_temperature': 2.048741554711647, 'max_leaves': 38}. Best is trial 136 with value: 0.17157082713816912.\n",
      "[I 2024-05-20 04:07:26,987] Trial 140 finished with value: 0.17252747833004128 and parameters: {'scalers': 'minmax', 'n_estimators': 633, 'learning_rate': 0.0436084680743026, 'depth': 12, 'l2_leaf_reg': 3.650032511024831, 'random_strength': 0.5218518410916599, 'bootstrap_type': 'Bayesian', 'grow_policy': 'Depthwise', 'bagging_temperature': 2.207033457947934, 'min_data_in_leaf': 1}. Best is trial 136 with value: 0.17157082713816912.\n",
      "[I 2024-05-20 04:11:14,664] Trial 141 finished with value: 0.18109217969343955 and parameters: {'scalers': 'minmax', 'n_estimators': 675, 'learning_rate': 0.0029751936138207036, 'depth': 16, 'l2_leaf_reg': 1.6264134020982675, 'random_strength': 2.202946842474725, 'bootstrap_type': 'Bayesian', 'grow_policy': 'Depthwise', 'bagging_temperature': 2.047468019831863, 'min_data_in_leaf': 1}. Best is trial 136 with value: 0.17157082713816912.\n",
      "[I 2024-05-20 04:11:38,609] Trial 142 finished with value: 0.17491898843859946 and parameters: {'scalers': 'minmax', 'n_estimators': 664, 'learning_rate': 0.11676170683444156, 'depth': 12, 'l2_leaf_reg': 5.0701899462310935, 'random_strength': 0.6464867833601038, 'bootstrap_type': 'Bayesian', 'grow_policy': 'Depthwise', 'bagging_temperature': 1.9774968806308313, 'min_data_in_leaf': 12}. Best is trial 136 with value: 0.17157082713816912.\n",
      "[I 2024-05-20 04:13:01,541] Trial 143 finished with value: 0.1730509993470086 and parameters: {'scalers': 'minmax', 'n_estimators': 565, 'learning_rate': 0.11784192977316442, 'depth': 14, 'l2_leaf_reg': 9.383023164452476, 'random_strength': 1.1008502323187885, 'bootstrap_type': 'Bayesian', 'grow_policy': 'Depthwise', 'bagging_temperature': 1.8206128531508512, 'min_data_in_leaf': 2}. Best is trial 136 with value: 0.17157082713816912.\n",
      "[I 2024-05-20 04:14:33,798] Trial 144 finished with value: 0.1729267100285576 and parameters: {'scalers': 'maxabs', 'n_estimators': 555, 'learning_rate': 0.12455167998921861, 'depth': 15, 'l2_leaf_reg': 5.415105653582986, 'random_strength': 1.264203193635054, 'bootstrap_type': 'Bayesian', 'grow_policy': 'Depthwise', 'bagging_temperature': 0.6464587647190343, 'min_data_in_leaf': 1}. Best is trial 136 with value: 0.17157082713816912.\n",
      "[I 2024-05-20 04:15:15,758] Trial 145 finished with value: 0.1738684122386065 and parameters: {'scalers': 'maxabs', 'n_estimators': 471, 'learning_rate': 0.12959601095060722, 'depth': 16, 'l2_leaf_reg': 4.460382955178228, 'random_strength': 0.2838529551291432, 'bootstrap_type': 'Bayesian', 'grow_policy': 'Depthwise', 'bagging_temperature': 0.14394150431891461, 'min_data_in_leaf': 1}. Best is trial 136 with value: 0.17157082713816912.\n",
      "[I 2024-05-20 04:15:53,864] Trial 146 finished with value: 0.17510134437403052 and parameters: {'scalers': 'maxabs', 'n_estimators': 290, 'learning_rate': 0.0695972101866214, 'depth': 16, 'l2_leaf_reg': 4.123118313868199, 'random_strength': 8.708443534748026, 'bootstrap_type': 'Bayesian', 'grow_policy': 'Depthwise', 'bagging_temperature': 0.7452431086243536, 'min_data_in_leaf': 14}. Best is trial 136 with value: 0.17157082713816912.\n",
      "[I 2024-05-20 04:16:52,885] Trial 147 finished with value: 0.17387832467636138 and parameters: {'scalers': 'minmax', 'n_estimators': 690, 'learning_rate': 0.050789184490848974, 'depth': 16, 'l2_leaf_reg': 6.832603727034845, 'random_strength': 0.9914922863204401, 'bootstrap_type': 'Bayesian', 'grow_policy': 'Depthwise', 'bagging_temperature': 1.6115154398636335, 'min_data_in_leaf': 13}. Best is trial 136 with value: 0.17157082713816912.\n",
      "[I 2024-05-20 04:18:33,883] Trial 148 finished with value: 0.1821629534876234 and parameters: {'scalers': 'minmax', 'n_estimators': 781, 'learning_rate': 0.009241924596173776, 'depth': 15, 'l2_leaf_reg': 7.886234142558597, 'random_strength': 3.814054575847427, 'bootstrap_type': 'Bernoulli', 'grow_policy': 'Depthwise', 'subsample': 0.1256940550612054, 'min_data_in_leaf': 1}. Best is trial 136 with value: 0.17157082713816912.\n",
      "[I 2024-05-20 04:20:44,973] Trial 149 finished with value: 0.17830745596777942 and parameters: {'scalers': 'minmax', 'n_estimators': 932, 'learning_rate': 0.006795614124656332, 'depth': 12, 'l2_leaf_reg': 6.770631927296553, 'random_strength': 2.1045954940744602, 'bootstrap_type': 'Bayesian', 'grow_policy': 'Depthwise', 'bagging_temperature': 1.9489432689007513, 'min_data_in_leaf': 1}. Best is trial 136 with value: 0.17157082713816912.\n"
     ]
    },
    {
     "name": "stdout",
     "output_type": "stream",
     "text": [
      "Number of finished trials:  150\n",
      "Best trial: 136\n",
      "  Value:  0.17157082713816912\n",
      "  Params: \n",
      "    scalers: minmax\n",
      "    n_estimators: 637\n",
      "    learning_rate: 0.06922782903877982\n",
      "    depth: 15\n",
      "    l2_leaf_reg: 6.588703318494482\n",
      "    random_strength: 1.7494515291029002\n",
      "    bootstrap_type: Bayesian\n",
      "    grow_policy: Depthwise\n",
      "    bagging_temperature: 2.329066611368438\n",
      "    min_data_in_leaf: 1\n"
     ]
    }
   ],
   "source": [
    "# Find best hyperparameters for Catboost using Optuna library\n",
    "\n",
    "def objective(trial, data = df[df_features], target = df[target]):\n",
    "\n",
    "    # Instantiate scaler\n",
    "    scalers = trial.suggest_categorical(\"scalers\", ['minmax', 'standard', 'robust', 'maxabs', None])\n",
    "\n",
    "    if scalers == \"minmax\":\n",
    "        scaler = MinMaxScaler()\n",
    "    elif scalers == \"standard\":\n",
    "        scaler = StandardScaler()\n",
    "    elif scalers == 'maxabs':\n",
    "        scaler = MaxAbsScaler()\n",
    "    elif scalers == 'robust':\n",
    "        scaler = RobustScaler()\n",
    "    else:\n",
    "        scaler = None\n",
    "\n",
    "    # Transform data\n",
    "    if scaler != None:\n",
    "        data_scaler = scaler.fit_transform(data[number_columns])\n",
    "        data_scaler = pd.DataFrame(data_scaler, columns=scaler.get_feature_names_out(number_columns))\n",
    "        df_scaled = pd.concat([data, data_scaler], axis=1)\n",
    "        data = df_scaled.loc[:, 'sales':]\n",
    "        cat_features = [0, 1]\n",
    "    else:\n",
    "       cat_features = categorical_indicies\n",
    "    \n",
    "    # split data in training and test data\n",
    "    train_x, test_x, train_y, test_y = train_test_split(data, target,\n",
    "                                                        test_size=0.25,\n",
    "                                                        random_state=777)\n",
    "    # Suggest hyperparameters\n",
    "    param = {\n",
    "        \"n_estimators\": trial.suggest_int('n_estimators', 200, 1000),\n",
    "        \"learning_rate\": trial.suggest_float('learning_rate', 0, 0.3),\n",
    "        \"depth\": trial.suggest_int('depth', 4, 16),\n",
    "        \"l2_leaf_reg\": trial.suggest_float('l2_leaf_reg', 0, 10),\n",
    "        \"random_strength\": trial.suggest_float('random_strength', 0, 10),\n",
    "        \"bootstrap_type\": trial.suggest_categorical(\n",
    "            \"bootstrap_type\", [\"Bayesian\", \"Bernoulli\", \"MVS\"]\n",
    "        ),\n",
    "        'grow_policy': trial.suggest_categorical('grow_policy',\n",
    "            [\"Depthwise\", \"SymmetricTree\", 'Lossguide'])\n",
    "    }\n",
    "\n",
    "    if param[\"bootstrap_type\"] == \"Bayesian\":\n",
    "      param[\"bagging_temperature\"] = trial.suggest_float(\n",
    "            \"bagging_temperature\", 0, 10)\n",
    "    else:\n",
    "      param[\"subsample\"] = trial.suggest_float(\"subsample\", 0.1, 1)\n",
    "\n",
    "    if param[\"grow_policy\"] == \"Depthwise\":\n",
    "      param[\"min_data_in_leaf\"] = trial.suggest_int('min_data_in_leaf', 1, 100)\n",
    "    elif param[\"grow_policy\"] == 'Lossguide':\n",
    "       param[\"max_leaves\"] = trial.suggest_int('max_leaves', 1, 70)\n",
    "    \n",
    "    # Create and fit model\n",
    "    model = CatBoostRegressor(\n",
    "        loss_function = 'RMSE',\n",
    "        eval_metric = \"RMSE\",\n",
    "        random_state = 777,\n",
    "        use_best_model = True,\n",
    "        od_type = \"Iter\",\n",
    "        od_wait = 25,\n",
    "        cat_features = cat_features,\n",
    "        **param\n",
    "    )\n",
    "\n",
    "    model.fit(train_x, train_y, eval_set = [(test_x, test_y)],\n",
    "              verbose = False)\n",
    "    \n",
    "    # Predict and estimate results\n",
    "    preds = model.predict(test_x)\n",
    "    rmse = root_mean_squared_error(test_y, preds)\n",
    "\n",
    "    return rmse\n",
    "\n",
    "\n",
    "\n",
    "# Opruna study creation for tuning\n",
    "sampler_cat = TPESampler(multivariate = True, group = True, seed = 777)\n",
    "study_cat = optuna.create_study(study_name = \"Catboost\", sampler = sampler_cat)\n",
    "study_cat.optimize(objective, n_trials = 150)\n",
    "trial_cat = study_cat.best_trial\n",
    "params_cat = study_cat.best_trial.params\n",
    "\n",
    "# Printing the parameters\n",
    "print(\"Number of finished trials: \", len(study_cat.trials))\n",
    "print(\"Best trial:\", trial_cat.number)\n",
    "print(\"  Value: \", trial_cat.value)\n",
    "print(\"  Params: \")\n",
    "\n",
    "for key, value in trial_cat.params.items():\n",
    "    print(\"    {}: {}\".format(key, value))"
   ]
  },
  {
   "cell_type": "code",
   "execution_count": 191,
   "metadata": {
    "colab": {
     "base_uri": "https://localhost:8080/",
     "height": 542
    },
    "id": "yArXDG21Gl2V",
    "outputId": "0f906be3-f8d9-4541-9934-d10316e1ddff"
   },
   "outputs": [
    {
     "data": {
      "application/vnd.plotly.v1+json": {
       "config": {
        "plotlyServerURL": "https://plot.ly"
       },
       "data": [
        {
         "mode": "markers",
         "name": "Objective Value",
         "type": "scatter",
         "x": [
          0,
          1,
          2,
          3,
          4,
          5,
          6,
          7,
          8,
          9,
          10,
          11,
          12,
          13,
          14,
          15,
          16,
          17,
          18,
          19,
          20,
          21,
          22,
          23,
          24,
          25,
          26,
          27,
          28,
          29,
          30,
          31,
          32,
          33,
          34,
          35,
          36,
          37,
          38,
          39,
          40,
          41,
          42,
          43,
          44,
          45,
          46,
          47,
          48,
          49,
          50,
          51,
          52,
          53,
          54,
          55,
          56,
          57,
          58,
          59,
          60,
          61,
          62,
          63,
          64,
          65,
          66,
          67,
          68,
          69,
          70,
          71,
          72,
          73,
          74,
          75,
          76,
          77,
          78,
          79,
          80,
          81,
          82,
          83,
          84,
          85,
          86,
          87,
          88,
          89,
          90,
          91,
          92,
          93,
          94,
          95,
          96,
          97,
          98,
          99,
          100,
          101,
          102,
          103,
          104,
          105,
          106,
          107,
          108,
          109,
          110,
          111,
          112,
          113,
          114,
          115,
          116,
          117,
          118,
          119,
          120,
          121,
          122,
          123,
          124,
          125,
          126,
          127,
          128,
          129,
          130,
          131,
          132,
          133,
          134,
          135,
          136,
          137,
          138,
          139,
          140,
          141,
          142,
          143,
          144,
          145,
          146,
          147,
          148,
          149
         ],
         "y": [
          0.17946398926806365,
          0.17879445956782114,
          0.17997495015348808,
          0.1830269048848305,
          0.1800402968242954,
          0.18320728771949188,
          0.18031607319492246,
          0.18116737518967532,
          0.18009947046723518,
          0.180800332852336,
          0.18404199921314526,
          0.18205957933759487,
          0.1840562907816523,
          0.17967829972620722,
          0.17834902815736636,
          0.17841854737932172,
          0.18968295268981064,
          0.18057750633826034,
          0.17634321824727686,
          0.17752623435685322,
          0.17827547668712437,
          0.17717474303853856,
          0.17848975831618694,
          0.17849087806827024,
          0.18131004298602318,
          0.17774991619824015,
          0.1772539634589208,
          0.17739038258861217,
          0.177619197852258,
          0.18032681926200714,
          0.179016989634852,
          0.17942300126175317,
          0.17826750211276535,
          0.18026216645665857,
          0.1779603111367995,
          0.17916023862815714,
          0.17772379922079407,
          0.18923842575395955,
          0.1787721397061363,
          0.17748909431746326,
          0.17718527496167433,
          0.18198583160997134,
          0.18719045351764704,
          0.17531540331326637,
          0.1775139488460192,
          0.17339698460205857,
          0.17490112414649467,
          0.17502724689842072,
          0.1743629402561046,
          0.17345196570554403,
          0.17989104200822842,
          0.17474469323969205,
          0.17446696220915658,
          0.17724811490835235,
          0.24771729472043705,
          0.17950702561962648,
          0.1747675039091284,
          0.186364921411797,
          0.17602947282817313,
          0.17996400316725955,
          0.17722725855553723,
          0.1755651158474042,
          0.17544764770172555,
          0.17568690839485712,
          0.17682857438837574,
          0.19190849631986556,
          0.17968691628558942,
          0.17157344963153554,
          0.17322456542458606,
          0.1734236200729897,
          0.17438052157494935,
          0.17292572153343405,
          0.17331107039847102,
          0.1805759673125463,
          0.17859665385874568,
          0.179898564874976,
          0.1718300198247284,
          0.17323586211592115,
          0.1733780204761803,
          0.17587444826522008,
          0.17706550476176816,
          0.17254514796497794,
          0.17255952211969047,
          0.1747076544138027,
          0.18351897323566665,
          0.17887596871298858,
          0.17562384040855372,
          0.1781824072812697,
          0.181186121153717,
          0.17405339387738122,
          0.17321448422402047,
          0.17512268812037401,
          0.17299053606351075,
          0.18500320019558072,
          0.1732718484442376,
          0.1768507755331088,
          0.1730704077485262,
          0.1728816215268286,
          0.17538482362635305,
          0.17972530488300875,
          0.17317944184497253,
          0.17409211519616616,
          0.17801485637715941,
          0.17261223490355213,
          0.1733350264859356,
          0.18215924843027287,
          0.18276927793218087,
          0.17573331563929362,
          0.1728887852468902,
          0.17994035970116184,
          0.17403954960500767,
          0.17205735493683633,
          0.17469183331864482,
          0.17266865306613563,
          0.17415387637660948,
          0.17703311780939937,
          0.17530131819250036,
          0.1738721370648613,
          0.17394646031083297,
          0.17395165107149183,
          0.17377981029403786,
          0.17960030714234987,
          0.18142841524176548,
          0.18317435934019266,
          0.1785176553980235,
          0.18239670397951688,
          0.179274825614861,
          0.17403826088032803,
          0.17328016009122177,
          0.17389563217541026,
          0.18414384351155524,
          0.17563868515489528,
          0.17348903950015768,
          0.17545056255532887,
          0.1721969564381413,
          0.1739027883737781,
          0.17157082713816912,
          0.1717673760163722,
          0.1741819519057697,
          0.17818418732936037,
          0.17252747833004128,
          0.18109217969343955,
          0.17491898843859946,
          0.1730509993470086,
          0.1729267100285576,
          0.1738684122386065,
          0.17510134437403052,
          0.17387832467636138,
          0.1821629534876234,
          0.17830745596777942
         ]
        },
        {
         "mode": "lines",
         "name": "Best Value",
         "type": "scatter",
         "x": [
          0,
          1,
          2,
          3,
          4,
          5,
          6,
          7,
          8,
          9,
          10,
          11,
          12,
          13,
          14,
          15,
          16,
          17,
          18,
          19,
          20,
          21,
          22,
          23,
          24,
          25,
          26,
          27,
          28,
          29,
          30,
          31,
          32,
          33,
          34,
          35,
          36,
          37,
          38,
          39,
          40,
          41,
          42,
          43,
          44,
          45,
          46,
          47,
          48,
          49,
          50,
          51,
          52,
          53,
          54,
          55,
          56,
          57,
          58,
          59,
          60,
          61,
          62,
          63,
          64,
          65,
          66,
          67,
          68,
          69,
          70,
          71,
          72,
          73,
          74,
          75,
          76,
          77,
          78,
          79,
          80,
          81,
          82,
          83,
          84,
          85,
          86,
          87,
          88,
          89,
          90,
          91,
          92,
          93,
          94,
          95,
          96,
          97,
          98,
          99,
          100,
          101,
          102,
          103,
          104,
          105,
          106,
          107,
          108,
          109,
          110,
          111,
          112,
          113,
          114,
          115,
          116,
          117,
          118,
          119,
          120,
          121,
          122,
          123,
          124,
          125,
          126,
          127,
          128,
          129,
          130,
          131,
          132,
          133,
          134,
          135,
          136,
          137,
          138,
          139,
          140,
          141,
          142,
          143,
          144,
          145,
          146,
          147,
          148,
          149
         ],
         "y": [
          0.17946398926806365,
          0.17879445956782114,
          0.17879445956782114,
          0.17879445956782114,
          0.17879445956782114,
          0.17879445956782114,
          0.17879445956782114,
          0.17879445956782114,
          0.17879445956782114,
          0.17879445956782114,
          0.17879445956782114,
          0.17879445956782114,
          0.17879445956782114,
          0.17879445956782114,
          0.17834902815736636,
          0.17834902815736636,
          0.17834902815736636,
          0.17834902815736636,
          0.17634321824727686,
          0.17634321824727686,
          0.17634321824727686,
          0.17634321824727686,
          0.17634321824727686,
          0.17634321824727686,
          0.17634321824727686,
          0.17634321824727686,
          0.17634321824727686,
          0.17634321824727686,
          0.17634321824727686,
          0.17634321824727686,
          0.17634321824727686,
          0.17634321824727686,
          0.17634321824727686,
          0.17634321824727686,
          0.17634321824727686,
          0.17634321824727686,
          0.17634321824727686,
          0.17634321824727686,
          0.17634321824727686,
          0.17634321824727686,
          0.17634321824727686,
          0.17634321824727686,
          0.17634321824727686,
          0.17531540331326637,
          0.17531540331326637,
          0.17339698460205857,
          0.17339698460205857,
          0.17339698460205857,
          0.17339698460205857,
          0.17339698460205857,
          0.17339698460205857,
          0.17339698460205857,
          0.17339698460205857,
          0.17339698460205857,
          0.17339698460205857,
          0.17339698460205857,
          0.17339698460205857,
          0.17339698460205857,
          0.17339698460205857,
          0.17339698460205857,
          0.17339698460205857,
          0.17339698460205857,
          0.17339698460205857,
          0.17339698460205857,
          0.17339698460205857,
          0.17339698460205857,
          0.17339698460205857,
          0.17157344963153554,
          0.17157344963153554,
          0.17157344963153554,
          0.17157344963153554,
          0.17157344963153554,
          0.17157344963153554,
          0.17157344963153554,
          0.17157344963153554,
          0.17157344963153554,
          0.17157344963153554,
          0.17157344963153554,
          0.17157344963153554,
          0.17157344963153554,
          0.17157344963153554,
          0.17157344963153554,
          0.17157344963153554,
          0.17157344963153554,
          0.17157344963153554,
          0.17157344963153554,
          0.17157344963153554,
          0.17157344963153554,
          0.17157344963153554,
          0.17157344963153554,
          0.17157344963153554,
          0.17157344963153554,
          0.17157344963153554,
          0.17157344963153554,
          0.17157344963153554,
          0.17157344963153554,
          0.17157344963153554,
          0.17157344963153554,
          0.17157344963153554,
          0.17157344963153554,
          0.17157344963153554,
          0.17157344963153554,
          0.17157344963153554,
          0.17157344963153554,
          0.17157344963153554,
          0.17157344963153554,
          0.17157344963153554,
          0.17157344963153554,
          0.17157344963153554,
          0.17157344963153554,
          0.17157344963153554,
          0.17157344963153554,
          0.17157344963153554,
          0.17157344963153554,
          0.17157344963153554,
          0.17157344963153554,
          0.17157344963153554,
          0.17157344963153554,
          0.17157344963153554,
          0.17157344963153554,
          0.17157344963153554,
          0.17157344963153554,
          0.17157344963153554,
          0.17157344963153554,
          0.17157344963153554,
          0.17157344963153554,
          0.17157344963153554,
          0.17157344963153554,
          0.17157344963153554,
          0.17157344963153554,
          0.17157344963153554,
          0.17157344963153554,
          0.17157344963153554,
          0.17157344963153554,
          0.17157344963153554,
          0.17157344963153554,
          0.17157082713816912,
          0.17157082713816912,
          0.17157082713816912,
          0.17157082713816912,
          0.17157082713816912,
          0.17157082713816912,
          0.17157082713816912,
          0.17157082713816912,
          0.17157082713816912,
          0.17157082713816912,
          0.17157082713816912,
          0.17157082713816912,
          0.17157082713816912,
          0.17157082713816912
         ]
        },
        {
         "marker": {
          "color": "#cccccc"
         },
         "mode": "markers",
         "name": "Infeasible Trial",
         "showlegend": false,
         "type": "scatter",
         "x": [],
         "y": []
        }
       ],
       "layout": {
        "template": {
         "data": {
          "bar": [
           {
            "error_x": {
             "color": "#2a3f5f"
            },
            "error_y": {
             "color": "#2a3f5f"
            },
            "marker": {
             "line": {
              "color": "#E5ECF6",
              "width": 0.5
             },
             "pattern": {
              "fillmode": "overlay",
              "size": 10,
              "solidity": 0.2
             }
            },
            "type": "bar"
           }
          ],
          "barpolar": [
           {
            "marker": {
             "line": {
              "color": "#E5ECF6",
              "width": 0.5
             },
             "pattern": {
              "fillmode": "overlay",
              "size": 10,
              "solidity": 0.2
             }
            },
            "type": "barpolar"
           }
          ],
          "carpet": [
           {
            "aaxis": {
             "endlinecolor": "#2a3f5f",
             "gridcolor": "white",
             "linecolor": "white",
             "minorgridcolor": "white",
             "startlinecolor": "#2a3f5f"
            },
            "baxis": {
             "endlinecolor": "#2a3f5f",
             "gridcolor": "white",
             "linecolor": "white",
             "minorgridcolor": "white",
             "startlinecolor": "#2a3f5f"
            },
            "type": "carpet"
           }
          ],
          "choropleth": [
           {
            "colorbar": {
             "outlinewidth": 0,
             "ticks": ""
            },
            "type": "choropleth"
           }
          ],
          "contour": [
           {
            "colorbar": {
             "outlinewidth": 0,
             "ticks": ""
            },
            "colorscale": [
             [
              0,
              "#0d0887"
             ],
             [
              0.1111111111111111,
              "#46039f"
             ],
             [
              0.2222222222222222,
              "#7201a8"
             ],
             [
              0.3333333333333333,
              "#9c179e"
             ],
             [
              0.4444444444444444,
              "#bd3786"
             ],
             [
              0.5555555555555556,
              "#d8576b"
             ],
             [
              0.6666666666666666,
              "#ed7953"
             ],
             [
              0.7777777777777778,
              "#fb9f3a"
             ],
             [
              0.8888888888888888,
              "#fdca26"
             ],
             [
              1,
              "#f0f921"
             ]
            ],
            "type": "contour"
           }
          ],
          "contourcarpet": [
           {
            "colorbar": {
             "outlinewidth": 0,
             "ticks": ""
            },
            "type": "contourcarpet"
           }
          ],
          "heatmap": [
           {
            "colorbar": {
             "outlinewidth": 0,
             "ticks": ""
            },
            "colorscale": [
             [
              0,
              "#0d0887"
             ],
             [
              0.1111111111111111,
              "#46039f"
             ],
             [
              0.2222222222222222,
              "#7201a8"
             ],
             [
              0.3333333333333333,
              "#9c179e"
             ],
             [
              0.4444444444444444,
              "#bd3786"
             ],
             [
              0.5555555555555556,
              "#d8576b"
             ],
             [
              0.6666666666666666,
              "#ed7953"
             ],
             [
              0.7777777777777778,
              "#fb9f3a"
             ],
             [
              0.8888888888888888,
              "#fdca26"
             ],
             [
              1,
              "#f0f921"
             ]
            ],
            "type": "heatmap"
           }
          ],
          "heatmapgl": [
           {
            "colorbar": {
             "outlinewidth": 0,
             "ticks": ""
            },
            "colorscale": [
             [
              0,
              "#0d0887"
             ],
             [
              0.1111111111111111,
              "#46039f"
             ],
             [
              0.2222222222222222,
              "#7201a8"
             ],
             [
              0.3333333333333333,
              "#9c179e"
             ],
             [
              0.4444444444444444,
              "#bd3786"
             ],
             [
              0.5555555555555556,
              "#d8576b"
             ],
             [
              0.6666666666666666,
              "#ed7953"
             ],
             [
              0.7777777777777778,
              "#fb9f3a"
             ],
             [
              0.8888888888888888,
              "#fdca26"
             ],
             [
              1,
              "#f0f921"
             ]
            ],
            "type": "heatmapgl"
           }
          ],
          "histogram": [
           {
            "marker": {
             "pattern": {
              "fillmode": "overlay",
              "size": 10,
              "solidity": 0.2
             }
            },
            "type": "histogram"
           }
          ],
          "histogram2d": [
           {
            "colorbar": {
             "outlinewidth": 0,
             "ticks": ""
            },
            "colorscale": [
             [
              0,
              "#0d0887"
             ],
             [
              0.1111111111111111,
              "#46039f"
             ],
             [
              0.2222222222222222,
              "#7201a8"
             ],
             [
              0.3333333333333333,
              "#9c179e"
             ],
             [
              0.4444444444444444,
              "#bd3786"
             ],
             [
              0.5555555555555556,
              "#d8576b"
             ],
             [
              0.6666666666666666,
              "#ed7953"
             ],
             [
              0.7777777777777778,
              "#fb9f3a"
             ],
             [
              0.8888888888888888,
              "#fdca26"
             ],
             [
              1,
              "#f0f921"
             ]
            ],
            "type": "histogram2d"
           }
          ],
          "histogram2dcontour": [
           {
            "colorbar": {
             "outlinewidth": 0,
             "ticks": ""
            },
            "colorscale": [
             [
              0,
              "#0d0887"
             ],
             [
              0.1111111111111111,
              "#46039f"
             ],
             [
              0.2222222222222222,
              "#7201a8"
             ],
             [
              0.3333333333333333,
              "#9c179e"
             ],
             [
              0.4444444444444444,
              "#bd3786"
             ],
             [
              0.5555555555555556,
              "#d8576b"
             ],
             [
              0.6666666666666666,
              "#ed7953"
             ],
             [
              0.7777777777777778,
              "#fb9f3a"
             ],
             [
              0.8888888888888888,
              "#fdca26"
             ],
             [
              1,
              "#f0f921"
             ]
            ],
            "type": "histogram2dcontour"
           }
          ],
          "mesh3d": [
           {
            "colorbar": {
             "outlinewidth": 0,
             "ticks": ""
            },
            "type": "mesh3d"
           }
          ],
          "parcoords": [
           {
            "line": {
             "colorbar": {
              "outlinewidth": 0,
              "ticks": ""
             }
            },
            "type": "parcoords"
           }
          ],
          "pie": [
           {
            "automargin": true,
            "type": "pie"
           }
          ],
          "scatter": [
           {
            "fillpattern": {
             "fillmode": "overlay",
             "size": 10,
             "solidity": 0.2
            },
            "type": "scatter"
           }
          ],
          "scatter3d": [
           {
            "line": {
             "colorbar": {
              "outlinewidth": 0,
              "ticks": ""
             }
            },
            "marker": {
             "colorbar": {
              "outlinewidth": 0,
              "ticks": ""
             }
            },
            "type": "scatter3d"
           }
          ],
          "scattercarpet": [
           {
            "marker": {
             "colorbar": {
              "outlinewidth": 0,
              "ticks": ""
             }
            },
            "type": "scattercarpet"
           }
          ],
          "scattergeo": [
           {
            "marker": {
             "colorbar": {
              "outlinewidth": 0,
              "ticks": ""
             }
            },
            "type": "scattergeo"
           }
          ],
          "scattergl": [
           {
            "marker": {
             "colorbar": {
              "outlinewidth": 0,
              "ticks": ""
             }
            },
            "type": "scattergl"
           }
          ],
          "scattermapbox": [
           {
            "marker": {
             "colorbar": {
              "outlinewidth": 0,
              "ticks": ""
             }
            },
            "type": "scattermapbox"
           }
          ],
          "scatterpolar": [
           {
            "marker": {
             "colorbar": {
              "outlinewidth": 0,
              "ticks": ""
             }
            },
            "type": "scatterpolar"
           }
          ],
          "scatterpolargl": [
           {
            "marker": {
             "colorbar": {
              "outlinewidth": 0,
              "ticks": ""
             }
            },
            "type": "scatterpolargl"
           }
          ],
          "scatterternary": [
           {
            "marker": {
             "colorbar": {
              "outlinewidth": 0,
              "ticks": ""
             }
            },
            "type": "scatterternary"
           }
          ],
          "surface": [
           {
            "colorbar": {
             "outlinewidth": 0,
             "ticks": ""
            },
            "colorscale": [
             [
              0,
              "#0d0887"
             ],
             [
              0.1111111111111111,
              "#46039f"
             ],
             [
              0.2222222222222222,
              "#7201a8"
             ],
             [
              0.3333333333333333,
              "#9c179e"
             ],
             [
              0.4444444444444444,
              "#bd3786"
             ],
             [
              0.5555555555555556,
              "#d8576b"
             ],
             [
              0.6666666666666666,
              "#ed7953"
             ],
             [
              0.7777777777777778,
              "#fb9f3a"
             ],
             [
              0.8888888888888888,
              "#fdca26"
             ],
             [
              1,
              "#f0f921"
             ]
            ],
            "type": "surface"
           }
          ],
          "table": [
           {
            "cells": {
             "fill": {
              "color": "#EBF0F8"
             },
             "line": {
              "color": "white"
             }
            },
            "header": {
             "fill": {
              "color": "#C8D4E3"
             },
             "line": {
              "color": "white"
             }
            },
            "type": "table"
           }
          ]
         },
         "layout": {
          "annotationdefaults": {
           "arrowcolor": "#2a3f5f",
           "arrowhead": 0,
           "arrowwidth": 1
          },
          "autotypenumbers": "strict",
          "coloraxis": {
           "colorbar": {
            "outlinewidth": 0,
            "ticks": ""
           }
          },
          "colorscale": {
           "diverging": [
            [
             0,
             "#8e0152"
            ],
            [
             0.1,
             "#c51b7d"
            ],
            [
             0.2,
             "#de77ae"
            ],
            [
             0.3,
             "#f1b6da"
            ],
            [
             0.4,
             "#fde0ef"
            ],
            [
             0.5,
             "#f7f7f7"
            ],
            [
             0.6,
             "#e6f5d0"
            ],
            [
             0.7,
             "#b8e186"
            ],
            [
             0.8,
             "#7fbc41"
            ],
            [
             0.9,
             "#4d9221"
            ],
            [
             1,
             "#276419"
            ]
           ],
           "sequential": [
            [
             0,
             "#0d0887"
            ],
            [
             0.1111111111111111,
             "#46039f"
            ],
            [
             0.2222222222222222,
             "#7201a8"
            ],
            [
             0.3333333333333333,
             "#9c179e"
            ],
            [
             0.4444444444444444,
             "#bd3786"
            ],
            [
             0.5555555555555556,
             "#d8576b"
            ],
            [
             0.6666666666666666,
             "#ed7953"
            ],
            [
             0.7777777777777778,
             "#fb9f3a"
            ],
            [
             0.8888888888888888,
             "#fdca26"
            ],
            [
             1,
             "#f0f921"
            ]
           ],
           "sequentialminus": [
            [
             0,
             "#0d0887"
            ],
            [
             0.1111111111111111,
             "#46039f"
            ],
            [
             0.2222222222222222,
             "#7201a8"
            ],
            [
             0.3333333333333333,
             "#9c179e"
            ],
            [
             0.4444444444444444,
             "#bd3786"
            ],
            [
             0.5555555555555556,
             "#d8576b"
            ],
            [
             0.6666666666666666,
             "#ed7953"
            ],
            [
             0.7777777777777778,
             "#fb9f3a"
            ],
            [
             0.8888888888888888,
             "#fdca26"
            ],
            [
             1,
             "#f0f921"
            ]
           ]
          },
          "colorway": [
           "#636efa",
           "#EF553B",
           "#00cc96",
           "#ab63fa",
           "#FFA15A",
           "#19d3f3",
           "#FF6692",
           "#B6E880",
           "#FF97FF",
           "#FECB52"
          ],
          "font": {
           "color": "#2a3f5f"
          },
          "geo": {
           "bgcolor": "white",
           "lakecolor": "white",
           "landcolor": "#E5ECF6",
           "showlakes": true,
           "showland": true,
           "subunitcolor": "white"
          },
          "hoverlabel": {
           "align": "left"
          },
          "hovermode": "closest",
          "mapbox": {
           "style": "light"
          },
          "paper_bgcolor": "white",
          "plot_bgcolor": "#E5ECF6",
          "polar": {
           "angularaxis": {
            "gridcolor": "white",
            "linecolor": "white",
            "ticks": ""
           },
           "bgcolor": "#E5ECF6",
           "radialaxis": {
            "gridcolor": "white",
            "linecolor": "white",
            "ticks": ""
           }
          },
          "scene": {
           "xaxis": {
            "backgroundcolor": "#E5ECF6",
            "gridcolor": "white",
            "gridwidth": 2,
            "linecolor": "white",
            "showbackground": true,
            "ticks": "",
            "zerolinecolor": "white"
           },
           "yaxis": {
            "backgroundcolor": "#E5ECF6",
            "gridcolor": "white",
            "gridwidth": 2,
            "linecolor": "white",
            "showbackground": true,
            "ticks": "",
            "zerolinecolor": "white"
           },
           "zaxis": {
            "backgroundcolor": "#E5ECF6",
            "gridcolor": "white",
            "gridwidth": 2,
            "linecolor": "white",
            "showbackground": true,
            "ticks": "",
            "zerolinecolor": "white"
           }
          },
          "shapedefaults": {
           "line": {
            "color": "#2a3f5f"
           }
          },
          "ternary": {
           "aaxis": {
            "gridcolor": "white",
            "linecolor": "white",
            "ticks": ""
           },
           "baxis": {
            "gridcolor": "white",
            "linecolor": "white",
            "ticks": ""
           },
           "bgcolor": "#E5ECF6",
           "caxis": {
            "gridcolor": "white",
            "linecolor": "white",
            "ticks": ""
           }
          },
          "title": {
           "x": 0.05
          },
          "xaxis": {
           "automargin": true,
           "gridcolor": "white",
           "linecolor": "white",
           "ticks": "",
           "title": {
            "standoff": 15
           },
           "zerolinecolor": "white",
           "zerolinewidth": 2
          },
          "yaxis": {
           "automargin": true,
           "gridcolor": "white",
           "linecolor": "white",
           "ticks": "",
           "title": {
            "standoff": 15
           },
           "zerolinecolor": "white",
           "zerolinewidth": 2
          }
         }
        },
        "title": {
         "text": "Optimization History Plot"
        },
        "xaxis": {
         "title": {
          "text": "Trial"
         }
        },
        "yaxis": {
         "title": {
          "text": "Objective Value"
         }
        }
       }
      }
     },
     "metadata": {},
     "output_type": "display_data"
    }
   ],
   "source": [
    "# History of optimization\n",
    "\n",
    "optuna.visualization.plot_optimization_history(study_cat)"
   ]
  },
  {
   "cell_type": "code",
   "execution_count": 192,
   "metadata": {
    "colab": {
     "base_uri": "https://localhost:8080/",
     "height": 562
    },
    "id": "Wv179g_9HAiL",
    "outputId": "66117f10-ed3d-481f-d7a4-39c042f0e094"
   },
   "outputs": [
    {
     "data": {
      "application/vnd.plotly.v1+json": {
       "config": {
        "plotlyServerURL": "https://plot.ly"
       },
       "data": [
        {
         "marker": {
          "color": [
           3,
           4,
           9,
           17,
           33,
           41,
           62,
           64,
           67,
           68,
           69,
           70,
           71,
           72,
           73,
           74,
           75,
           76,
           77,
           78,
           79,
           80,
           81,
           82,
           83,
           84,
           85,
           86,
           88,
           89,
           91,
           96,
           97,
           98,
           99,
           102,
           103,
           104,
           106,
           108,
           109,
           110,
           111,
           113,
           114,
           115,
           117,
           118,
           119,
           122,
           123,
           125,
           126,
           127,
           128,
           129,
           130,
           134,
           135,
           136,
           137,
           138,
           139,
           140,
           141,
           142,
           143,
           144,
           145,
           146,
           147,
           149
          ],
          "colorbar": {
           "title": {
            "text": "Trial"
           },
           "x": 1,
           "xpad": 40
          },
          "colorscale": [
           [
            0,
            "rgb(247,251,255)"
           ],
           [
            0.125,
            "rgb(222,235,247)"
           ],
           [
            0.25,
            "rgb(198,219,239)"
           ],
           [
            0.375,
            "rgb(158,202,225)"
           ],
           [
            0.5,
            "rgb(107,174,214)"
           ],
           [
            0.625,
            "rgb(66,146,198)"
           ],
           [
            0.75,
            "rgb(33,113,181)"
           ],
           [
            0.875,
            "rgb(8,81,156)"
           ],
           [
            1,
            "rgb(8,48,107)"
           ]
          ],
          "line": {
           "color": "Grey",
           "width": 0.5
          },
          "showscale": true
         },
         "mode": "markers",
         "name": "Feasible Trial",
         "showlegend": false,
         "type": "scatter",
         "x": [
          8.487743038476367,
          0.0738845086388995,
          8.284264081832653,
          3.878487947040952,
          4.990085016838443,
          2.861052288480221,
          6.342487494924638,
          9.491389890647289,
          1.6892402284116992,
          1.6784989186586556,
          1.3316915724147749,
          1.6198620667769086,
          1.545144603683796,
          1.5932437774245527,
          1.4809614258410064,
          1.7031356190411309,
          1.5652077532849107,
          1.5219990039393307,
          1.545086049539828,
          1.4905374082881164,
          1.6944225589497315,
          1.8548316267522806,
          1.3084584499005216,
          1.302926613274539,
          1.1486891388267613,
          1.4294276888572708,
          1.8621139397813504,
          0.44413525179366986,
          2.408954810748019,
          1.7582166684737266,
          1.034809836389619,
          3.2900315251301704,
          3.726073309332213,
          3.9672210293388046,
          4.0275264593265,
          3.5117637938701516,
          3.5775531089577046,
          3.8910950334836065,
          3.4877116720830124,
          3.6437127325647864,
          4.134616625546533,
          3.4049856266465737,
          3.6274703738869096,
          4.587051697215214,
          5.0071195883058675,
          4.154630225333699,
          3.794298623224102,
          5.549440081186164,
          3.4309745289486084,
          3.331740222287931,
          3.3419506095947273,
          5.583528133897773,
          3.134065495851556,
          0.08000824768070847,
          2.744136973735033,
          2.8125508844486387,
          4.774533686270454,
          2.622463290530801,
          2.7932876416490253,
          2.329066611368438,
          2.359317968461035,
          1.5300862139178013,
          2.048741554711647,
          2.207033457947934,
          2.047468019831863,
          1.9774968806308313,
          1.8206128531508512,
          0.6464587647190343,
          0.14394150431891461,
          0.7452431086243536,
          1.6115154398636335,
          1.9489432689007513
         ],
         "xaxis": "x",
         "y": [
          0.1830269048848305,
          0.1800402968242954,
          0.180800332852336,
          0.18057750633826034,
          0.18026216645665857,
          0.18198583160997134,
          0.17544764770172555,
          0.17682857438837574,
          0.17157344963153554,
          0.17322456542458606,
          0.1734236200729897,
          0.17438052157494935,
          0.17292572153343405,
          0.17331107039847102,
          0.1805759673125463,
          0.17859665385874568,
          0.179898564874976,
          0.1718300198247284,
          0.17323586211592115,
          0.1733780204761803,
          0.17587444826522008,
          0.17706550476176816,
          0.17254514796497794,
          0.17255952211969047,
          0.1747076544138027,
          0.18351897323566665,
          0.17887596871298858,
          0.17562384040855372,
          0.181186121153717,
          0.17405339387738122,
          0.17512268812037401,
          0.1730704077485262,
          0.1728816215268286,
          0.17538482362635305,
          0.17972530488300875,
          0.17801485637715941,
          0.17261223490355213,
          0.1733350264859356,
          0.18276927793218087,
          0.1728887852468902,
          0.17994035970116184,
          0.17403954960500767,
          0.17205735493683633,
          0.17266865306613563,
          0.17415387637660948,
          0.17703311780939937,
          0.1738721370648613,
          0.17394646031083297,
          0.17395165107149183,
          0.18142841524176548,
          0.18317435934019266,
          0.18239670397951688,
          0.179274825614861,
          0.17403826088032803,
          0.17328016009122177,
          0.17389563217541026,
          0.18414384351155524,
          0.1721969564381413,
          0.1739027883737781,
          0.17157082713816912,
          0.1717673760163722,
          0.1741819519057697,
          0.17818418732936037,
          0.17252747833004128,
          0.18109217969343955,
          0.17491898843859946,
          0.1730509993470086,
          0.1729267100285576,
          0.1738684122386065,
          0.17510134437403052,
          0.17387832467636138,
          0.17830745596777942
         ],
         "yaxis": "y"
        },
        {
         "marker": {
          "color": [
           0,
           1,
           2,
           3,
           4,
           5,
           6,
           7,
           8,
           9,
           10,
           11,
           12,
           13,
           14,
           15,
           16,
           17,
           18,
           19,
           20,
           21,
           22,
           23,
           24,
           25,
           26,
           27,
           28,
           29,
           30,
           31,
           32,
           33,
           34,
           35,
           36,
           37,
           38,
           39,
           40,
           41,
           42,
           43,
           44,
           45,
           46,
           47,
           48,
           49,
           50,
           51,
           52,
           53,
           54,
           55,
           56,
           57,
           58,
           59,
           60,
           61,
           62,
           63,
           64,
           65,
           66,
           67,
           68,
           69,
           70,
           71,
           72,
           73,
           74,
           75,
           76,
           77,
           78,
           79,
           80,
           81,
           82,
           83,
           84,
           85,
           86,
           87,
           88,
           89,
           90,
           91,
           92,
           93,
           94,
           95,
           96,
           97,
           98,
           99,
           100,
           101,
           102,
           103,
           104,
           105,
           106,
           107,
           108,
           109,
           110,
           111,
           112,
           113,
           114,
           115,
           116,
           117,
           118,
           119,
           120,
           121,
           122,
           123,
           124,
           125,
           126,
           127,
           128,
           129,
           130,
           131,
           132,
           133,
           134,
           135,
           136,
           137,
           138,
           139,
           140,
           141,
           142,
           143,
           144,
           145,
           146,
           147,
           148,
           149
          ],
          "colorbar": {
           "title": {
            "text": "Trial"
           },
           "x": 1,
           "xpad": 40
          },
          "colorscale": [
           [
            0,
            "rgb(247,251,255)"
           ],
           [
            0.125,
            "rgb(222,235,247)"
           ],
           [
            0.25,
            "rgb(198,219,239)"
           ],
           [
            0.375,
            "rgb(158,202,225)"
           ],
           [
            0.5,
            "rgb(107,174,214)"
           ],
           [
            0.625,
            "rgb(66,146,198)"
           ],
           [
            0.75,
            "rgb(33,113,181)"
           ],
           [
            0.875,
            "rgb(8,81,156)"
           ],
           [
            1,
            "rgb(8,48,107)"
           ]
          ],
          "line": {
           "color": "Grey",
           "width": 0.5
          },
          "showscale": false
         },
         "mode": "markers",
         "name": "Feasible Trial",
         "showlegend": false,
         "type": "scatter",
         "x": [
          "MVS",
          "MVS",
          "Bernoulli",
          "Bayesian",
          "Bayesian",
          "Bernoulli",
          "MVS",
          "MVS",
          "MVS",
          "Bayesian",
          "MVS",
          "MVS",
          "MVS",
          "MVS",
          "Bernoulli",
          "Bernoulli",
          "Bernoulli",
          "Bayesian",
          "Bernoulli",
          "Bernoulli",
          "Bernoulli",
          "Bernoulli",
          "Bernoulli",
          "MVS",
          "Bernoulli",
          "Bernoulli",
          "Bernoulli",
          "Bernoulli",
          "Bernoulli",
          "Bernoulli",
          "Bernoulli",
          "Bernoulli",
          "Bernoulli",
          "Bayesian",
          "Bernoulli",
          "Bernoulli",
          "Bernoulli",
          "Bernoulli",
          "MVS",
          "Bernoulli",
          "Bernoulli",
          "Bayesian",
          "Bernoulli",
          "Bernoulli",
          "Bernoulli",
          "Bernoulli",
          "MVS",
          "MVS",
          "MVS",
          "MVS",
          "MVS",
          "MVS",
          "MVS",
          "MVS",
          "MVS",
          "MVS",
          "MVS",
          "MVS",
          "Bernoulli",
          "MVS",
          "MVS",
          "MVS",
          "Bayesian",
          "MVS",
          "Bayesian",
          "MVS",
          "Bernoulli",
          "Bayesian",
          "Bayesian",
          "Bayesian",
          "Bayesian",
          "Bayesian",
          "Bayesian",
          "Bayesian",
          "Bayesian",
          "Bayesian",
          "Bayesian",
          "Bayesian",
          "Bayesian",
          "Bayesian",
          "Bayesian",
          "Bayesian",
          "Bayesian",
          "Bayesian",
          "Bayesian",
          "Bayesian",
          "Bayesian",
          "MVS",
          "Bayesian",
          "Bayesian",
          "Bernoulli",
          "Bayesian",
          "Bernoulli",
          "Bernoulli",
          "Bernoulli",
          "Bernoulli",
          "Bayesian",
          "Bayesian",
          "Bayesian",
          "Bayesian",
          "Bernoulli",
          "Bernoulli",
          "Bayesian",
          "Bayesian",
          "Bayesian",
          "Bernoulli",
          "Bayesian",
          "MVS",
          "Bayesian",
          "Bayesian",
          "Bayesian",
          "Bayesian",
          "MVS",
          "Bayesian",
          "Bayesian",
          "Bayesian",
          "MVS",
          "Bayesian",
          "Bayesian",
          "Bayesian",
          "Bernoulli",
          "Bernoulli",
          "Bayesian",
          "Bayesian",
          "MVS",
          "Bayesian",
          "Bayesian",
          "Bayesian",
          "Bayesian",
          "Bayesian",
          "Bayesian",
          "Bernoulli",
          "Bernoulli",
          "Bernoulli",
          "Bayesian",
          "Bayesian",
          "Bayesian",
          "Bayesian",
          "Bayesian",
          "Bayesian",
          "Bayesian",
          "Bayesian",
          "Bayesian",
          "Bayesian",
          "Bayesian",
          "Bayesian",
          "Bayesian",
          "Bayesian",
          "Bernoulli",
          "Bayesian"
         ],
         "xaxis": "x2",
         "y": [
          0.17946398926806365,
          0.17879445956782114,
          0.17997495015348808,
          0.1830269048848305,
          0.1800402968242954,
          0.18320728771949188,
          0.18031607319492246,
          0.18116737518967532,
          0.18009947046723518,
          0.180800332852336,
          0.18404199921314526,
          0.18205957933759487,
          0.1840562907816523,
          0.17967829972620722,
          0.17834902815736636,
          0.17841854737932172,
          0.18968295268981064,
          0.18057750633826034,
          0.17634321824727686,
          0.17752623435685322,
          0.17827547668712437,
          0.17717474303853856,
          0.17848975831618694,
          0.17849087806827024,
          0.18131004298602318,
          0.17774991619824015,
          0.1772539634589208,
          0.17739038258861217,
          0.177619197852258,
          0.18032681926200714,
          0.179016989634852,
          0.17942300126175317,
          0.17826750211276535,
          0.18026216645665857,
          0.1779603111367995,
          0.17916023862815714,
          0.17772379922079407,
          0.18923842575395955,
          0.1787721397061363,
          0.17748909431746326,
          0.17718527496167433,
          0.18198583160997134,
          0.18719045351764704,
          0.17531540331326637,
          0.1775139488460192,
          0.17339698460205857,
          0.17490112414649467,
          0.17502724689842072,
          0.1743629402561046,
          0.17345196570554403,
          0.17989104200822842,
          0.17474469323969205,
          0.17446696220915658,
          0.17724811490835235,
          0.24771729472043705,
          0.17950702561962648,
          0.1747675039091284,
          0.186364921411797,
          0.17602947282817313,
          0.17996400316725955,
          0.17722725855553723,
          0.1755651158474042,
          0.17544764770172555,
          0.17568690839485712,
          0.17682857438837574,
          0.19190849631986556,
          0.17968691628558942,
          0.17157344963153554,
          0.17322456542458606,
          0.1734236200729897,
          0.17438052157494935,
          0.17292572153343405,
          0.17331107039847102,
          0.1805759673125463,
          0.17859665385874568,
          0.179898564874976,
          0.1718300198247284,
          0.17323586211592115,
          0.1733780204761803,
          0.17587444826522008,
          0.17706550476176816,
          0.17254514796497794,
          0.17255952211969047,
          0.1747076544138027,
          0.18351897323566665,
          0.17887596871298858,
          0.17562384040855372,
          0.1781824072812697,
          0.181186121153717,
          0.17405339387738122,
          0.17321448422402047,
          0.17512268812037401,
          0.17299053606351075,
          0.18500320019558072,
          0.1732718484442376,
          0.1768507755331088,
          0.1730704077485262,
          0.1728816215268286,
          0.17538482362635305,
          0.17972530488300875,
          0.17317944184497253,
          0.17409211519616616,
          0.17801485637715941,
          0.17261223490355213,
          0.1733350264859356,
          0.18215924843027287,
          0.18276927793218087,
          0.17573331563929362,
          0.1728887852468902,
          0.17994035970116184,
          0.17403954960500767,
          0.17205735493683633,
          0.17469183331864482,
          0.17266865306613563,
          0.17415387637660948,
          0.17703311780939937,
          0.17530131819250036,
          0.1738721370648613,
          0.17394646031083297,
          0.17395165107149183,
          0.17377981029403786,
          0.17960030714234987,
          0.18142841524176548,
          0.18317435934019266,
          0.1785176553980235,
          0.18239670397951688,
          0.179274825614861,
          0.17403826088032803,
          0.17328016009122177,
          0.17389563217541026,
          0.18414384351155524,
          0.17563868515489528,
          0.17348903950015768,
          0.17545056255532887,
          0.1721969564381413,
          0.1739027883737781,
          0.17157082713816912,
          0.1717673760163722,
          0.1741819519057697,
          0.17818418732936037,
          0.17252747833004128,
          0.18109217969343955,
          0.17491898843859946,
          0.1730509993470086,
          0.1729267100285576,
          0.1738684122386065,
          0.17510134437403052,
          0.17387832467636138,
          0.1821629534876234,
          0.17830745596777942
         ],
         "yaxis": "y2"
        },
        {
         "marker": {
          "color": [
           0,
           1,
           2,
           3,
           4,
           5,
           6,
           7,
           8,
           9,
           10,
           11,
           12,
           13,
           14,
           15,
           16,
           17,
           18,
           19,
           20,
           21,
           22,
           23,
           24,
           25,
           26,
           27,
           28,
           29,
           30,
           31,
           32,
           33,
           34,
           35,
           36,
           37,
           38,
           39,
           40,
           41,
           42,
           43,
           44,
           45,
           46,
           47,
           48,
           49,
           50,
           51,
           52,
           53,
           54,
           55,
           56,
           57,
           58,
           59,
           60,
           61,
           62,
           63,
           64,
           65,
           66,
           67,
           68,
           69,
           70,
           71,
           72,
           73,
           74,
           75,
           76,
           77,
           78,
           79,
           80,
           81,
           82,
           83,
           84,
           85,
           86,
           87,
           88,
           89,
           90,
           91,
           92,
           93,
           94,
           95,
           96,
           97,
           98,
           99,
           100,
           101,
           102,
           103,
           104,
           105,
           106,
           107,
           108,
           109,
           110,
           111,
           112,
           113,
           114,
           115,
           116,
           117,
           118,
           119,
           120,
           121,
           122,
           123,
           124,
           125,
           126,
           127,
           128,
           129,
           130,
           131,
           132,
           133,
           134,
           135,
           136,
           137,
           138,
           139,
           140,
           141,
           142,
           143,
           144,
           145,
           146,
           147,
           148,
           149
          ],
          "colorbar": {
           "title": {
            "text": "Trial"
           },
           "x": 1,
           "xpad": 40
          },
          "colorscale": [
           [
            0,
            "rgb(247,251,255)"
           ],
           [
            0.125,
            "rgb(222,235,247)"
           ],
           [
            0.25,
            "rgb(198,219,239)"
           ],
           [
            0.375,
            "rgb(158,202,225)"
           ],
           [
            0.5,
            "rgb(107,174,214)"
           ],
           [
            0.625,
            "rgb(66,146,198)"
           ],
           [
            0.75,
            "rgb(33,113,181)"
           ],
           [
            0.875,
            "rgb(8,81,156)"
           ],
           [
            1,
            "rgb(8,48,107)"
           ]
          ],
          "line": {
           "color": "Grey",
           "width": 0.5
          },
          "showscale": false
         },
         "mode": "markers",
         "name": "Feasible Trial",
         "showlegend": false,
         "type": "scatter",
         "x": [
          13,
          11,
          13,
          8,
          7,
          4,
          7,
          5,
          13,
          10,
          9,
          16,
          12,
          14,
          13,
          16,
          12,
          15,
          15,
          12,
          14,
          10,
          10,
          10,
          15,
          12,
          10,
          9,
          10,
          7,
          13,
          11,
          6,
          11,
          10,
          8,
          8,
          9,
          14,
          11,
          16,
          14,
          15,
          14,
          13,
          16,
          16,
          14,
          14,
          15,
          14,
          14,
          14,
          16,
          13,
          14,
          16,
          14,
          16,
          16,
          11,
          13,
          12,
          14,
          14,
          13,
          16,
          13,
          12,
          13,
          12,
          15,
          15,
          14,
          14,
          15,
          13,
          15,
          14,
          15,
          16,
          15,
          15,
          16,
          13,
          12,
          11,
          9,
          14,
          14,
          16,
          9,
          14,
          13,
          14,
          11,
          13,
          14,
          15,
          13,
          15,
          16,
          14,
          16,
          15,
          11,
          16,
          15,
          13,
          12,
          13,
          16,
          14,
          16,
          16,
          8,
          16,
          16,
          15,
          16,
          16,
          12,
          13,
          16,
          9,
          12,
          13,
          13,
          12,
          11,
          11,
          12,
          14,
          15,
          14,
          15,
          15,
          15,
          13,
          14,
          12,
          16,
          12,
          14,
          15,
          16,
          16,
          16,
          15,
          12
         ],
         "xaxis": "x3",
         "y": [
          0.17946398926806365,
          0.17879445956782114,
          0.17997495015348808,
          0.1830269048848305,
          0.1800402968242954,
          0.18320728771949188,
          0.18031607319492246,
          0.18116737518967532,
          0.18009947046723518,
          0.180800332852336,
          0.18404199921314526,
          0.18205957933759487,
          0.1840562907816523,
          0.17967829972620722,
          0.17834902815736636,
          0.17841854737932172,
          0.18968295268981064,
          0.18057750633826034,
          0.17634321824727686,
          0.17752623435685322,
          0.17827547668712437,
          0.17717474303853856,
          0.17848975831618694,
          0.17849087806827024,
          0.18131004298602318,
          0.17774991619824015,
          0.1772539634589208,
          0.17739038258861217,
          0.177619197852258,
          0.18032681926200714,
          0.179016989634852,
          0.17942300126175317,
          0.17826750211276535,
          0.18026216645665857,
          0.1779603111367995,
          0.17916023862815714,
          0.17772379922079407,
          0.18923842575395955,
          0.1787721397061363,
          0.17748909431746326,
          0.17718527496167433,
          0.18198583160997134,
          0.18719045351764704,
          0.17531540331326637,
          0.1775139488460192,
          0.17339698460205857,
          0.17490112414649467,
          0.17502724689842072,
          0.1743629402561046,
          0.17345196570554403,
          0.17989104200822842,
          0.17474469323969205,
          0.17446696220915658,
          0.17724811490835235,
          0.24771729472043705,
          0.17950702561962648,
          0.1747675039091284,
          0.186364921411797,
          0.17602947282817313,
          0.17996400316725955,
          0.17722725855553723,
          0.1755651158474042,
          0.17544764770172555,
          0.17568690839485712,
          0.17682857438837574,
          0.19190849631986556,
          0.17968691628558942,
          0.17157344963153554,
          0.17322456542458606,
          0.1734236200729897,
          0.17438052157494935,
          0.17292572153343405,
          0.17331107039847102,
          0.1805759673125463,
          0.17859665385874568,
          0.179898564874976,
          0.1718300198247284,
          0.17323586211592115,
          0.1733780204761803,
          0.17587444826522008,
          0.17706550476176816,
          0.17254514796497794,
          0.17255952211969047,
          0.1747076544138027,
          0.18351897323566665,
          0.17887596871298858,
          0.17562384040855372,
          0.1781824072812697,
          0.181186121153717,
          0.17405339387738122,
          0.17321448422402047,
          0.17512268812037401,
          0.17299053606351075,
          0.18500320019558072,
          0.1732718484442376,
          0.1768507755331088,
          0.1730704077485262,
          0.1728816215268286,
          0.17538482362635305,
          0.17972530488300875,
          0.17317944184497253,
          0.17409211519616616,
          0.17801485637715941,
          0.17261223490355213,
          0.1733350264859356,
          0.18215924843027287,
          0.18276927793218087,
          0.17573331563929362,
          0.1728887852468902,
          0.17994035970116184,
          0.17403954960500767,
          0.17205735493683633,
          0.17469183331864482,
          0.17266865306613563,
          0.17415387637660948,
          0.17703311780939937,
          0.17530131819250036,
          0.1738721370648613,
          0.17394646031083297,
          0.17395165107149183,
          0.17377981029403786,
          0.17960030714234987,
          0.18142841524176548,
          0.18317435934019266,
          0.1785176553980235,
          0.18239670397951688,
          0.179274825614861,
          0.17403826088032803,
          0.17328016009122177,
          0.17389563217541026,
          0.18414384351155524,
          0.17563868515489528,
          0.17348903950015768,
          0.17545056255532887,
          0.1721969564381413,
          0.1739027883737781,
          0.17157082713816912,
          0.1717673760163722,
          0.1741819519057697,
          0.17818418732936037,
          0.17252747833004128,
          0.18109217969343955,
          0.17491898843859946,
          0.1730509993470086,
          0.1729267100285576,
          0.1738684122386065,
          0.17510134437403052,
          0.17387832467636138,
          0.1821629534876234,
          0.17830745596777942
         ],
         "yaxis": "y3"
        },
        {
         "marker": {
          "color": [
           0,
           1,
           2,
           3,
           4,
           5,
           6,
           7,
           8,
           9,
           10,
           11,
           12,
           13,
           14,
           15,
           16,
           17,
           18,
           19,
           20,
           21,
           22,
           23,
           24,
           25,
           26,
           27,
           28,
           29,
           30,
           31,
           32,
           33,
           34,
           35,
           36,
           37,
           38,
           39,
           40,
           41,
           42,
           43,
           44,
           45,
           46,
           47,
           48,
           49,
           50,
           51,
           52,
           53,
           54,
           55,
           56,
           57,
           58,
           59,
           60,
           61,
           62,
           63,
           64,
           65,
           66,
           67,
           68,
           69,
           70,
           71,
           72,
           73,
           74,
           75,
           76,
           77,
           78,
           79,
           80,
           81,
           82,
           83,
           84,
           85,
           86,
           87,
           88,
           89,
           90,
           91,
           92,
           93,
           94,
           95,
           96,
           97,
           98,
           99,
           100,
           101,
           102,
           103,
           104,
           105,
           106,
           107,
           108,
           109,
           110,
           111,
           112,
           113,
           114,
           115,
           116,
           117,
           118,
           119,
           120,
           121,
           122,
           123,
           124,
           125,
           126,
           127,
           128,
           129,
           130,
           131,
           132,
           133,
           134,
           135,
           136,
           137,
           138,
           139,
           140,
           141,
           142,
           143,
           144,
           145,
           146,
           147,
           148,
           149
          ],
          "colorbar": {
           "title": {
            "text": "Trial"
           },
           "x": 1,
           "xpad": 40
          },
          "colorscale": [
           [
            0,
            "rgb(247,251,255)"
           ],
           [
            0.125,
            "rgb(222,235,247)"
           ],
           [
            0.25,
            "rgb(198,219,239)"
           ],
           [
            0.375,
            "rgb(158,202,225)"
           ],
           [
            0.5,
            "rgb(107,174,214)"
           ],
           [
            0.625,
            "rgb(66,146,198)"
           ],
           [
            0.75,
            "rgb(33,113,181)"
           ],
           [
            0.875,
            "rgb(8,81,156)"
           ],
           [
            1,
            "rgb(8,48,107)"
           ]
          ],
          "line": {
           "color": "Grey",
           "width": 0.5
          },
          "showscale": false
         },
         "mode": "markers",
         "name": "Feasible Trial",
         "showlegend": false,
         "type": "scatter",
         "x": [
          "SymmetricTree",
          "Lossguide",
          "SymmetricTree",
          "SymmetricTree",
          "Lossguide",
          "Depthwise",
          "Lossguide",
          "Depthwise",
          "SymmetricTree",
          "Depthwise",
          "Depthwise",
          "SymmetricTree",
          "Lossguide",
          "SymmetricTree",
          "Lossguide",
          "Lossguide",
          "Lossguide",
          "Lossguide",
          "Lossguide",
          "Lossguide",
          "Lossguide",
          "Lossguide",
          "Depthwise",
          "Lossguide",
          "Depthwise",
          "Lossguide",
          "Lossguide",
          "Lossguide",
          "Lossguide",
          "SymmetricTree",
          "SymmetricTree",
          "Depthwise",
          "Lossguide",
          "Lossguide",
          "Lossguide",
          "Lossguide",
          "Lossguide",
          "Lossguide",
          "SymmetricTree",
          "Lossguide",
          "Lossguide",
          "Lossguide",
          "Lossguide",
          "Depthwise",
          "Depthwise",
          "Depthwise",
          "Depthwise",
          "Depthwise",
          "Depthwise",
          "Depthwise",
          "Depthwise",
          "Depthwise",
          "Depthwise",
          "Depthwise",
          "Lossguide",
          "SymmetricTree",
          "Depthwise",
          "Depthwise",
          "Depthwise",
          "SymmetricTree",
          "Depthwise",
          "Depthwise",
          "Depthwise",
          "Depthwise",
          "Depthwise",
          "SymmetricTree",
          "Depthwise",
          "Depthwise",
          "Depthwise",
          "Depthwise",
          "Depthwise",
          "Depthwise",
          "Depthwise",
          "SymmetricTree",
          "Lossguide",
          "Depthwise",
          "Depthwise",
          "Depthwise",
          "Depthwise",
          "Depthwise",
          "Depthwise",
          "Depthwise",
          "Depthwise",
          "Depthwise",
          "Depthwise",
          "Depthwise",
          "Depthwise",
          "Depthwise",
          "SymmetricTree",
          "Depthwise",
          "Depthwise",
          "Depthwise",
          "Depthwise",
          "Depthwise",
          "Depthwise",
          "Depthwise",
          "Depthwise",
          "Depthwise",
          "Depthwise",
          "Depthwise",
          "Depthwise",
          "Depthwise",
          "Depthwise",
          "Depthwise",
          "Depthwise",
          "Depthwise",
          "SymmetricTree",
          "Depthwise",
          "Depthwise",
          "Depthwise",
          "Depthwise",
          "Depthwise",
          "Depthwise",
          "Depthwise",
          "Depthwise",
          "Depthwise",
          "Depthwise",
          "Depthwise",
          "Depthwise",
          "Depthwise",
          "Depthwise",
          "SymmetricTree",
          "SymmetricTree",
          "SymmetricTree",
          "Depthwise",
          "Lossguide",
          "Lossguide",
          "Depthwise",
          "Depthwise",
          "Depthwise",
          "Lossguide",
          "Depthwise",
          "Depthwise",
          "Depthwise",
          "Depthwise",
          "Depthwise",
          "Depthwise",
          "Depthwise",
          "Depthwise",
          "Lossguide",
          "Depthwise",
          "Depthwise",
          "Depthwise",
          "Depthwise",
          "Depthwise",
          "Depthwise",
          "Depthwise",
          "Depthwise",
          "Depthwise",
          "Depthwise"
         ],
         "xaxis": "x4",
         "y": [
          0.17946398926806365,
          0.17879445956782114,
          0.17997495015348808,
          0.1830269048848305,
          0.1800402968242954,
          0.18320728771949188,
          0.18031607319492246,
          0.18116737518967532,
          0.18009947046723518,
          0.180800332852336,
          0.18404199921314526,
          0.18205957933759487,
          0.1840562907816523,
          0.17967829972620722,
          0.17834902815736636,
          0.17841854737932172,
          0.18968295268981064,
          0.18057750633826034,
          0.17634321824727686,
          0.17752623435685322,
          0.17827547668712437,
          0.17717474303853856,
          0.17848975831618694,
          0.17849087806827024,
          0.18131004298602318,
          0.17774991619824015,
          0.1772539634589208,
          0.17739038258861217,
          0.177619197852258,
          0.18032681926200714,
          0.179016989634852,
          0.17942300126175317,
          0.17826750211276535,
          0.18026216645665857,
          0.1779603111367995,
          0.17916023862815714,
          0.17772379922079407,
          0.18923842575395955,
          0.1787721397061363,
          0.17748909431746326,
          0.17718527496167433,
          0.18198583160997134,
          0.18719045351764704,
          0.17531540331326637,
          0.1775139488460192,
          0.17339698460205857,
          0.17490112414649467,
          0.17502724689842072,
          0.1743629402561046,
          0.17345196570554403,
          0.17989104200822842,
          0.17474469323969205,
          0.17446696220915658,
          0.17724811490835235,
          0.24771729472043705,
          0.17950702561962648,
          0.1747675039091284,
          0.186364921411797,
          0.17602947282817313,
          0.17996400316725955,
          0.17722725855553723,
          0.1755651158474042,
          0.17544764770172555,
          0.17568690839485712,
          0.17682857438837574,
          0.19190849631986556,
          0.17968691628558942,
          0.17157344963153554,
          0.17322456542458606,
          0.1734236200729897,
          0.17438052157494935,
          0.17292572153343405,
          0.17331107039847102,
          0.1805759673125463,
          0.17859665385874568,
          0.179898564874976,
          0.1718300198247284,
          0.17323586211592115,
          0.1733780204761803,
          0.17587444826522008,
          0.17706550476176816,
          0.17254514796497794,
          0.17255952211969047,
          0.1747076544138027,
          0.18351897323566665,
          0.17887596871298858,
          0.17562384040855372,
          0.1781824072812697,
          0.181186121153717,
          0.17405339387738122,
          0.17321448422402047,
          0.17512268812037401,
          0.17299053606351075,
          0.18500320019558072,
          0.1732718484442376,
          0.1768507755331088,
          0.1730704077485262,
          0.1728816215268286,
          0.17538482362635305,
          0.17972530488300875,
          0.17317944184497253,
          0.17409211519616616,
          0.17801485637715941,
          0.17261223490355213,
          0.1733350264859356,
          0.18215924843027287,
          0.18276927793218087,
          0.17573331563929362,
          0.1728887852468902,
          0.17994035970116184,
          0.17403954960500767,
          0.17205735493683633,
          0.17469183331864482,
          0.17266865306613563,
          0.17415387637660948,
          0.17703311780939937,
          0.17530131819250036,
          0.1738721370648613,
          0.17394646031083297,
          0.17395165107149183,
          0.17377981029403786,
          0.17960030714234987,
          0.18142841524176548,
          0.18317435934019266,
          0.1785176553980235,
          0.18239670397951688,
          0.179274825614861,
          0.17403826088032803,
          0.17328016009122177,
          0.17389563217541026,
          0.18414384351155524,
          0.17563868515489528,
          0.17348903950015768,
          0.17545056255532887,
          0.1721969564381413,
          0.1739027883737781,
          0.17157082713816912,
          0.1717673760163722,
          0.1741819519057697,
          0.17818418732936037,
          0.17252747833004128,
          0.18109217969343955,
          0.17491898843859946,
          0.1730509993470086,
          0.1729267100285576,
          0.1738684122386065,
          0.17510134437403052,
          0.17387832467636138,
          0.1821629534876234,
          0.17830745596777942
         ],
         "yaxis": "y4"
        },
        {
         "marker": {
          "color": [
           0,
           1,
           2,
           3,
           4,
           5,
           6,
           7,
           8,
           9,
           10,
           11,
           12,
           13,
           14,
           15,
           16,
           17,
           18,
           19,
           20,
           21,
           22,
           23,
           24,
           25,
           26,
           27,
           28,
           29,
           30,
           31,
           32,
           33,
           34,
           35,
           36,
           37,
           38,
           39,
           40,
           41,
           42,
           43,
           44,
           45,
           46,
           47,
           48,
           49,
           50,
           51,
           52,
           53,
           54,
           55,
           56,
           57,
           58,
           59,
           60,
           61,
           62,
           63,
           64,
           65,
           66,
           67,
           68,
           69,
           70,
           71,
           72,
           73,
           74,
           75,
           76,
           77,
           78,
           79,
           80,
           81,
           82,
           83,
           84,
           85,
           86,
           87,
           88,
           89,
           90,
           91,
           92,
           93,
           94,
           95,
           96,
           97,
           98,
           99,
           100,
           101,
           102,
           103,
           104,
           105,
           106,
           107,
           108,
           109,
           110,
           111,
           112,
           113,
           114,
           115,
           116,
           117,
           118,
           119,
           120,
           121,
           122,
           123,
           124,
           125,
           126,
           127,
           128,
           129,
           130,
           131,
           132,
           133,
           134,
           135,
           136,
           137,
           138,
           139,
           140,
           141,
           142,
           143,
           144,
           145,
           146,
           147,
           148,
           149
          ],
          "colorbar": {
           "title": {
            "text": "Trial"
           },
           "x": 1,
           "xpad": 40
          },
          "colorscale": [
           [
            0,
            "rgb(247,251,255)"
           ],
           [
            0.125,
            "rgb(222,235,247)"
           ],
           [
            0.25,
            "rgb(198,219,239)"
           ],
           [
            0.375,
            "rgb(158,202,225)"
           ],
           [
            0.5,
            "rgb(107,174,214)"
           ],
           [
            0.625,
            "rgb(66,146,198)"
           ],
           [
            0.75,
            "rgb(33,113,181)"
           ],
           [
            0.875,
            "rgb(8,81,156)"
           ],
           [
            1,
            "rgb(8,48,107)"
           ]
          ],
          "line": {
           "color": "Grey",
           "width": 0.5
          },
          "showscale": false
         },
         "mode": "markers",
         "name": "Feasible Trial",
         "showlegend": false,
         "type": "scatter",
         "x": [
          2.692050664721932,
          8.82808447266879,
          4.63497471122426,
          5.280222441303621,
          3.0164829000414786,
          9.652511052082179,
          3.7429150506948505,
          2.3981015820433402,
          5.729729291625432,
          0.041495128559907446,
          8.494840365137167,
          0.2639509891293872,
          9.555404186510662,
          3.158622663455954,
          5.02051679288608,
          4.8293989858617286,
          4.277804501354725,
          3.538808940413367,
          6.182137206453689,
          3.7736894212291827,
          7.12510890735758,
          2.905144205640526,
          1.0883870023328863,
          4.203633516351449,
          8.654186924720475,
          2.9817600240576665,
          9.320234123350808,
          9.278506832310166,
          9.41305665202185,
          9.041128390121509,
          8.583603606395961,
          9.241184633727771,
          9.156670890497082,
          9.416421081262367,
          7.871336304595395,
          1.3917212549646392,
          2.7430922989827096,
          9.554969070022421,
          8.256121594931452,
          8.876063147266072,
          4.241367606721996,
          2.9378950270353776,
          4.412234747265864,
          2.9476426521767776,
          1.1506754484300263,
          5.6600072943107556,
          1.8679358887485145,
          2.951248743934286,
          1.908757630539524,
          2.4049607476671593,
          1.9165097025812532,
          2.3945000170965343,
          2.783246344144201,
          1.1831040448373278,
          0.017782695331085563,
          1.7642968431012638,
          0.30979954596397397,
          0.5300866384533025,
          5.328914672463253,
          0.9302854292411271,
          4.669792668644467,
          4.449780424339798,
          1.5801798808510568,
          1.3360945601918595,
          5.422678092312879,
          4.3704423951407705,
          7.234621389541317,
          1.7731224427725452,
          1.908437004912006,
          2.321147684162479,
          2.5542753217484244,
          3.6630910101827867,
          1.8643819729997624,
          3.8824912603357626,
          1.5772426172652358,
          5.75225428915861,
          2.4499432033820243,
          3.073092078684974,
          1.9631902163375174,
          3.019628430883147,
          0.00891886042068113,
          4.036525260456772,
          4.069793483174644,
          3.1489673095138233,
          1.0681190611574736,
          3.7641833597122787,
          2.6859237688389994,
          0.19026125843229824,
          7.185708088936965,
          4.625626592892928,
          3.1535314792054807,
          2.8684161854920953,
          6.323970299452828,
          5.55630066322253,
          6.369053827129925,
          6.352639508149822,
          3.0679571859717125,
          4.586063590684075,
          6.317186871710379,
          1.9897193577128867,
          2.1727226604062726,
          2.2416566316441604,
          2.7697366497961635,
          6.546883474955992,
          7.385042302884768,
          0.6311775637939643,
          7.002074131171282,
          3.5022884224248885,
          5.432695316143928,
          5.878749249553296,
          4.867132565580309,
          5.509822489945794,
          7.672093086478988,
          4.705262425583424,
          4.293127006678679,
          7.5673966146649025,
          6.185543014530181,
          6.568315684498064,
          6.310726045704547,
          4.171378354193415,
          4.753859573411839,
          9.817115566007452,
          5.493813124418884,
          5.540756362011879,
          3.9060827338797006,
          0.15486843636895786,
          8.073872558240634,
          5.240128553552855,
          1.61985626661023,
          3.703947239468609,
          4.439151416337438,
          6.3873805894096725,
          2.948044322738658,
          3.7200142593468075,
          4.414634999721961,
          4.351676356230489,
          6.588703318494482,
          6.279226196952993,
          5.763255517909919,
          5.247382722611557,
          3.650032511024831,
          1.6264134020982675,
          5.0701899462310935,
          9.383023164452476,
          5.415105653582986,
          4.460382955178228,
          4.123118313868199,
          6.832603727034845,
          7.886234142558597,
          6.770631927296553
         ],
         "xaxis": "x5",
         "y": [
          0.17946398926806365,
          0.17879445956782114,
          0.17997495015348808,
          0.1830269048848305,
          0.1800402968242954,
          0.18320728771949188,
          0.18031607319492246,
          0.18116737518967532,
          0.18009947046723518,
          0.180800332852336,
          0.18404199921314526,
          0.18205957933759487,
          0.1840562907816523,
          0.17967829972620722,
          0.17834902815736636,
          0.17841854737932172,
          0.18968295268981064,
          0.18057750633826034,
          0.17634321824727686,
          0.17752623435685322,
          0.17827547668712437,
          0.17717474303853856,
          0.17848975831618694,
          0.17849087806827024,
          0.18131004298602318,
          0.17774991619824015,
          0.1772539634589208,
          0.17739038258861217,
          0.177619197852258,
          0.18032681926200714,
          0.179016989634852,
          0.17942300126175317,
          0.17826750211276535,
          0.18026216645665857,
          0.1779603111367995,
          0.17916023862815714,
          0.17772379922079407,
          0.18923842575395955,
          0.1787721397061363,
          0.17748909431746326,
          0.17718527496167433,
          0.18198583160997134,
          0.18719045351764704,
          0.17531540331326637,
          0.1775139488460192,
          0.17339698460205857,
          0.17490112414649467,
          0.17502724689842072,
          0.1743629402561046,
          0.17345196570554403,
          0.17989104200822842,
          0.17474469323969205,
          0.17446696220915658,
          0.17724811490835235,
          0.24771729472043705,
          0.17950702561962648,
          0.1747675039091284,
          0.186364921411797,
          0.17602947282817313,
          0.17996400316725955,
          0.17722725855553723,
          0.1755651158474042,
          0.17544764770172555,
          0.17568690839485712,
          0.17682857438837574,
          0.19190849631986556,
          0.17968691628558942,
          0.17157344963153554,
          0.17322456542458606,
          0.1734236200729897,
          0.17438052157494935,
          0.17292572153343405,
          0.17331107039847102,
          0.1805759673125463,
          0.17859665385874568,
          0.179898564874976,
          0.1718300198247284,
          0.17323586211592115,
          0.1733780204761803,
          0.17587444826522008,
          0.17706550476176816,
          0.17254514796497794,
          0.17255952211969047,
          0.1747076544138027,
          0.18351897323566665,
          0.17887596871298858,
          0.17562384040855372,
          0.1781824072812697,
          0.181186121153717,
          0.17405339387738122,
          0.17321448422402047,
          0.17512268812037401,
          0.17299053606351075,
          0.18500320019558072,
          0.1732718484442376,
          0.1768507755331088,
          0.1730704077485262,
          0.1728816215268286,
          0.17538482362635305,
          0.17972530488300875,
          0.17317944184497253,
          0.17409211519616616,
          0.17801485637715941,
          0.17261223490355213,
          0.1733350264859356,
          0.18215924843027287,
          0.18276927793218087,
          0.17573331563929362,
          0.1728887852468902,
          0.17994035970116184,
          0.17403954960500767,
          0.17205735493683633,
          0.17469183331864482,
          0.17266865306613563,
          0.17415387637660948,
          0.17703311780939937,
          0.17530131819250036,
          0.1738721370648613,
          0.17394646031083297,
          0.17395165107149183,
          0.17377981029403786,
          0.17960030714234987,
          0.18142841524176548,
          0.18317435934019266,
          0.1785176553980235,
          0.18239670397951688,
          0.179274825614861,
          0.17403826088032803,
          0.17328016009122177,
          0.17389563217541026,
          0.18414384351155524,
          0.17563868515489528,
          0.17348903950015768,
          0.17545056255532887,
          0.1721969564381413,
          0.1739027883737781,
          0.17157082713816912,
          0.1717673760163722,
          0.1741819519057697,
          0.17818418732936037,
          0.17252747833004128,
          0.18109217969343955,
          0.17491898843859946,
          0.1730509993470086,
          0.1729267100285576,
          0.1738684122386065,
          0.17510134437403052,
          0.17387832467636138,
          0.1821629534876234,
          0.17830745596777942
         ],
         "yaxis": "y5"
        },
        {
         "marker": {
          "color": [
           0,
           1,
           2,
           3,
           4,
           5,
           6,
           7,
           8,
           9,
           10,
           11,
           12,
           13,
           14,
           15,
           16,
           17,
           18,
           19,
           20,
           21,
           22,
           23,
           24,
           25,
           26,
           27,
           28,
           29,
           30,
           31,
           32,
           33,
           34,
           35,
           36,
           37,
           38,
           39,
           40,
           41,
           42,
           43,
           44,
           45,
           46,
           47,
           48,
           49,
           50,
           51,
           52,
           53,
           54,
           55,
           56,
           57,
           58,
           59,
           60,
           61,
           62,
           63,
           64,
           65,
           66,
           67,
           68,
           69,
           70,
           71,
           72,
           73,
           74,
           75,
           76,
           77,
           78,
           79,
           80,
           81,
           82,
           83,
           84,
           85,
           86,
           87,
           88,
           89,
           90,
           91,
           92,
           93,
           94,
           95,
           96,
           97,
           98,
           99,
           100,
           101,
           102,
           103,
           104,
           105,
           106,
           107,
           108,
           109,
           110,
           111,
           112,
           113,
           114,
           115,
           116,
           117,
           118,
           119,
           120,
           121,
           122,
           123,
           124,
           125,
           126,
           127,
           128,
           129,
           130,
           131,
           132,
           133,
           134,
           135,
           136,
           137,
           138,
           139,
           140,
           141,
           142,
           143,
           144,
           145,
           146,
           147,
           148,
           149
          ],
          "colorbar": {
           "title": {
            "text": "Trial"
           },
           "x": 1,
           "xpad": 40
          },
          "colorscale": [
           [
            0,
            "rgb(247,251,255)"
           ],
           [
            0.125,
            "rgb(222,235,247)"
           ],
           [
            0.25,
            "rgb(198,219,239)"
           ],
           [
            0.375,
            "rgb(158,202,225)"
           ],
           [
            0.5,
            "rgb(107,174,214)"
           ],
           [
            0.625,
            "rgb(66,146,198)"
           ],
           [
            0.75,
            "rgb(33,113,181)"
           ],
           [
            0.875,
            "rgb(8,81,156)"
           ],
           [
            1,
            "rgb(8,48,107)"
           ]
          ],
          "line": {
           "color": "Grey",
           "width": 0.5
          },
          "showscale": false
         },
         "mode": "markers",
         "name": "Feasible Trial",
         "showlegend": false,
         "type": "scatter",
         "x": [
          0.21809669529572104,
          0.057948721691047256,
          0.18360707378197,
          0.027361671242223693,
          0.2675498038296723,
          0.23126528773764615,
          0.1596278853171713,
          0.2664269566580639,
          0.21196360380211923,
          0.1802581120325553,
          0.020402004637622734,
          0.25282526741838396,
          0.06485126664824392,
          0.08795964809863163,
          0.04731582434866625,
          0.05536695119584702,
          0.00357434594744499,
          0.04564180782920374,
          0.06558372774051772,
          0.03283977684678733,
          0.14925514426560504,
          0.08631643777654784,
          0.09349775653168468,
          0.1295846290248211,
          0.022471344076884586,
          0.06327835153536389,
          0.0666044660462162,
          0.08605884714104534,
          0.03828202661903103,
          0.13374321815325313,
          0.07725679890399019,
          0.12478510479552245,
          0.06858754392592709,
          0.06270431251448498,
          0.07942470717163198,
          0.24749914616288965,
          0.07655174984957586,
          0.004498283453981983,
          0.06784249160432787,
          0.12993152426534033,
          0.05801849391295709,
          0.03540447747388083,
          0.012716540305421624,
          0.09685193267685249,
          0.10983255124213136,
          0.1250931102522119,
          0.06191696192273846,
          0.06435874325589286,
          0.08863957915515633,
          0.044625156118629716,
          0.013440441672412123,
          0.1364984375083803,
          0.10361922779676172,
          0.21220290258885136,
          0.11331268316651545,
          0.13213896926175173,
          0.05535380317072996,
          0.005093128065670152,
          0.158443667761688,
          0.06362811050033661,
          0.1970361929227669,
          0.09402998968273588,
          0.04916901921880693,
          0.1159766851161788,
          0.2186153343236671,
          0.0052182998414689735,
          0.17741429858965546,
          0.14303173070070926,
          0.11593267313692626,
          0.154478631608718,
          0.1407329284860067,
          0.08370111375207175,
          0.09199846904996037,
          0.04378575140560653,
          0.14621115372331167,
          0.02709502221079687,
          0.050893981553974295,
          0.1293557136317654,
          0.10601256389461175,
          0.13010984952400845,
          0.16755191251738996,
          0.10431488278037811,
          0.09915444906000428,
          0.05975447155828678,
          0.0090312166712442,
          0.14934797035559497,
          0.08097443335548611,
          0.16278980319742095,
          0.14040175532363441,
          0.09222028374843554,
          0.11631195234425318,
          0.0762048255883821,
          0.07567680777299979,
          0.017940032693885596,
          0.07419804505489758,
          0.10421642512670228,
          0.05020854360299336,
          0.025123058138601558,
          0.0706232491153245,
          0.008133475958326829,
          0.12887303962420335,
          0.17132181720586293,
          0.05751627837838866,
          0.020888765239857793,
          0.014508299428474127,
          0.024586394831180067,
          0.033004775886534984,
          0.13551433161193494,
          0.05570224974622011,
          0.00633036831888234,
          0.06405144853285089,
          0.04849244284692826,
          0.07869732376983087,
          0.0730205281580483,
          0.08079099469583331,
          0.032264604382912426,
          0.03299089608894865,
          0.06656343063139712,
          0.16118827366596578,
          0.053980449042561704,
          0.08297063027227758,
          0.09398513522646845,
          0.015768782148319747,
          0.06899013992842115,
          0.020964815219237723,
          0.06940650569341672,
          0.031856486170525826,
          0.06525321281277736,
          0.0877745382994051,
          0.09828736480322425,
          0.0754807104971402,
          0.20043578452320082,
          0.11597076310565668,
          0.06610967420835777,
          0.05338666467127341,
          0.08267084082973175,
          0.06922782903877982,
          0.034201973900891844,
          0.05197499018193266,
          0.05095872640280696,
          0.0436084680743026,
          0.0029751936138207036,
          0.11676170683444156,
          0.11784192977316442,
          0.12455167998921861,
          0.12959601095060722,
          0.0695972101866214,
          0.050789184490848974,
          0.009241924596173776,
          0.006795614124656332
         ],
         "xaxis": "x6",
         "y": [
          0.17946398926806365,
          0.17879445956782114,
          0.17997495015348808,
          0.1830269048848305,
          0.1800402968242954,
          0.18320728771949188,
          0.18031607319492246,
          0.18116737518967532,
          0.18009947046723518,
          0.180800332852336,
          0.18404199921314526,
          0.18205957933759487,
          0.1840562907816523,
          0.17967829972620722,
          0.17834902815736636,
          0.17841854737932172,
          0.18968295268981064,
          0.18057750633826034,
          0.17634321824727686,
          0.17752623435685322,
          0.17827547668712437,
          0.17717474303853856,
          0.17848975831618694,
          0.17849087806827024,
          0.18131004298602318,
          0.17774991619824015,
          0.1772539634589208,
          0.17739038258861217,
          0.177619197852258,
          0.18032681926200714,
          0.179016989634852,
          0.17942300126175317,
          0.17826750211276535,
          0.18026216645665857,
          0.1779603111367995,
          0.17916023862815714,
          0.17772379922079407,
          0.18923842575395955,
          0.1787721397061363,
          0.17748909431746326,
          0.17718527496167433,
          0.18198583160997134,
          0.18719045351764704,
          0.17531540331326637,
          0.1775139488460192,
          0.17339698460205857,
          0.17490112414649467,
          0.17502724689842072,
          0.1743629402561046,
          0.17345196570554403,
          0.17989104200822842,
          0.17474469323969205,
          0.17446696220915658,
          0.17724811490835235,
          0.24771729472043705,
          0.17950702561962648,
          0.1747675039091284,
          0.186364921411797,
          0.17602947282817313,
          0.17996400316725955,
          0.17722725855553723,
          0.1755651158474042,
          0.17544764770172555,
          0.17568690839485712,
          0.17682857438837574,
          0.19190849631986556,
          0.17968691628558942,
          0.17157344963153554,
          0.17322456542458606,
          0.1734236200729897,
          0.17438052157494935,
          0.17292572153343405,
          0.17331107039847102,
          0.1805759673125463,
          0.17859665385874568,
          0.179898564874976,
          0.1718300198247284,
          0.17323586211592115,
          0.1733780204761803,
          0.17587444826522008,
          0.17706550476176816,
          0.17254514796497794,
          0.17255952211969047,
          0.1747076544138027,
          0.18351897323566665,
          0.17887596871298858,
          0.17562384040855372,
          0.1781824072812697,
          0.181186121153717,
          0.17405339387738122,
          0.17321448422402047,
          0.17512268812037401,
          0.17299053606351075,
          0.18500320019558072,
          0.1732718484442376,
          0.1768507755331088,
          0.1730704077485262,
          0.1728816215268286,
          0.17538482362635305,
          0.17972530488300875,
          0.17317944184497253,
          0.17409211519616616,
          0.17801485637715941,
          0.17261223490355213,
          0.1733350264859356,
          0.18215924843027287,
          0.18276927793218087,
          0.17573331563929362,
          0.1728887852468902,
          0.17994035970116184,
          0.17403954960500767,
          0.17205735493683633,
          0.17469183331864482,
          0.17266865306613563,
          0.17415387637660948,
          0.17703311780939937,
          0.17530131819250036,
          0.1738721370648613,
          0.17394646031083297,
          0.17395165107149183,
          0.17377981029403786,
          0.17960030714234987,
          0.18142841524176548,
          0.18317435934019266,
          0.1785176553980235,
          0.18239670397951688,
          0.179274825614861,
          0.17403826088032803,
          0.17328016009122177,
          0.17389563217541026,
          0.18414384351155524,
          0.17563868515489528,
          0.17348903950015768,
          0.17545056255532887,
          0.1721969564381413,
          0.1739027883737781,
          0.17157082713816912,
          0.1717673760163722,
          0.1741819519057697,
          0.17818418732936037,
          0.17252747833004128,
          0.18109217969343955,
          0.17491898843859946,
          0.1730509993470086,
          0.1729267100285576,
          0.1738684122386065,
          0.17510134437403052,
          0.17387832467636138,
          0.1821629534876234,
          0.17830745596777942
         ],
         "yaxis": "y6"
        },
        {
         "marker": {
          "color": [
           1,
           4,
           6,
           12,
           14,
           15,
           16,
           17,
           18,
           19,
           20,
           21,
           23,
           25,
           26,
           27,
           28,
           32,
           33,
           34,
           35,
           36,
           37,
           39,
           40,
           41,
           42,
           54,
           74,
           125,
           126,
           130,
           139
          ],
          "colorbar": {
           "title": {
            "text": "Trial"
           },
           "x": 1,
           "xpad": 40
          },
          "colorscale": [
           [
            0,
            "rgb(247,251,255)"
           ],
           [
            0.125,
            "rgb(222,235,247)"
           ],
           [
            0.25,
            "rgb(198,219,239)"
           ],
           [
            0.375,
            "rgb(158,202,225)"
           ],
           [
            0.5,
            "rgb(107,174,214)"
           ],
           [
            0.625,
            "rgb(66,146,198)"
           ],
           [
            0.75,
            "rgb(33,113,181)"
           ],
           [
            0.875,
            "rgb(8,81,156)"
           ],
           [
            1,
            "rgb(8,48,107)"
           ]
          ],
          "line": {
           "color": "Grey",
           "width": 0.5
          },
          "showscale": false
         },
         "mode": "markers",
         "name": "Feasible Trial",
         "showlegend": false,
         "type": "scatter",
         "x": [
          38,
          55,
          43,
          5,
          28,
          28,
          23,
          24,
          68,
          65,
          70,
          70,
          70,
          59,
          69,
          70,
          55,
          70,
          69,
          70,
          70,
          57,
          70,
          57,
          70,
          70,
          69,
          1,
          41,
          14,
          40,
          9,
          38
         ],
         "xaxis": "x7",
         "y": [
          0.17879445956782114,
          0.1800402968242954,
          0.18031607319492246,
          0.1840562907816523,
          0.17834902815736636,
          0.17841854737932172,
          0.18968295268981064,
          0.18057750633826034,
          0.17634321824727686,
          0.17752623435685322,
          0.17827547668712437,
          0.17717474303853856,
          0.17849087806827024,
          0.17774991619824015,
          0.1772539634589208,
          0.17739038258861217,
          0.177619197852258,
          0.17826750211276535,
          0.18026216645665857,
          0.1779603111367995,
          0.17916023862815714,
          0.17772379922079407,
          0.18923842575395955,
          0.17748909431746326,
          0.17718527496167433,
          0.18198583160997134,
          0.18719045351764704,
          0.24771729472043705,
          0.17859665385874568,
          0.18239670397951688,
          0.179274825614861,
          0.18414384351155524,
          0.17818418732936037
         ],
         "yaxis": "y7"
        },
        {
         "marker": {
          "color": [
           5,
           7,
           9,
           10,
           22,
           24,
           31,
           43,
           44,
           45,
           46,
           47,
           48,
           49,
           50,
           51,
           52,
           53,
           56,
           57,
           58,
           60,
           61,
           62,
           63,
           64,
           66,
           67,
           68,
           69,
           70,
           71,
           72,
           75,
           76,
           77,
           78,
           79,
           80,
           81,
           82,
           83,
           84,
           85,
           86,
           87,
           89,
           90,
           91,
           92,
           93,
           94,
           95,
           96,
           97,
           98,
           99,
           100,
           101,
           102,
           103,
           104,
           105,
           107,
           108,
           109,
           110,
           111,
           112,
           113,
           114,
           115,
           116,
           117,
           118,
           119,
           120,
           124,
           127,
           128,
           129,
           131,
           132,
           133,
           134,
           135,
           136,
           137,
           138,
           140,
           141,
           142,
           143,
           144,
           145,
           146,
           147,
           148,
           149
          ],
          "colorbar": {
           "title": {
            "text": "Trial"
           },
           "x": 1,
           "xpad": 40
          },
          "colorscale": [
           [
            0,
            "rgb(247,251,255)"
           ],
           [
            0.125,
            "rgb(222,235,247)"
           ],
           [
            0.25,
            "rgb(198,219,239)"
           ],
           [
            0.375,
            "rgb(158,202,225)"
           ],
           [
            0.5,
            "rgb(107,174,214)"
           ],
           [
            0.625,
            "rgb(66,146,198)"
           ],
           [
            0.75,
            "rgb(33,113,181)"
           ],
           [
            0.875,
            "rgb(8,81,156)"
           ],
           [
            1,
            "rgb(8,48,107)"
           ]
          ],
          "line": {
           "color": "Grey",
           "width": 0.5
          },
          "showscale": false
         },
         "mode": "markers",
         "name": "Feasible Trial",
         "showlegend": false,
         "type": "scatter",
         "x": [
          71,
          80,
          37,
          2,
          99,
          36,
          55,
          17,
          20,
          1,
          8,
          2,
          3,
          1,
          1,
          1,
          1,
          1,
          1,
          1,
          3,
          1,
          1,
          14,
          2,
          1,
          16,
          1,
          1,
          1,
          1,
          1,
          1,
          17,
          1,
          1,
          1,
          19,
          1,
          1,
          1,
          17,
          1,
          72,
          18,
          1,
          16,
          1,
          1,
          1,
          14,
          1,
          15,
          1,
          1,
          15,
          45,
          1,
          1,
          95,
          2,
          1,
          14,
          2,
          1,
          14,
          2,
          1,
          1,
          1,
          14,
          1,
          1,
          14,
          1,
          14,
          2,
          3,
          1,
          1,
          1,
          1,
          1,
          14,
          1,
          13,
          1,
          1,
          15,
          1,
          1,
          12,
          2,
          1,
          1,
          14,
          13,
          1,
          1
         ],
         "xaxis": "x8",
         "y": [
          0.18320728771949188,
          0.18116737518967532,
          0.180800332852336,
          0.18404199921314526,
          0.17848975831618694,
          0.18131004298602318,
          0.17942300126175317,
          0.17531540331326637,
          0.1775139488460192,
          0.17339698460205857,
          0.17490112414649467,
          0.17502724689842072,
          0.1743629402561046,
          0.17345196570554403,
          0.17989104200822842,
          0.17474469323969205,
          0.17446696220915658,
          0.17724811490835235,
          0.1747675039091284,
          0.186364921411797,
          0.17602947282817313,
          0.17722725855553723,
          0.1755651158474042,
          0.17544764770172555,
          0.17568690839485712,
          0.17682857438837574,
          0.17968691628558942,
          0.17157344963153554,
          0.17322456542458606,
          0.1734236200729897,
          0.17438052157494935,
          0.17292572153343405,
          0.17331107039847102,
          0.179898564874976,
          0.1718300198247284,
          0.17323586211592115,
          0.1733780204761803,
          0.17587444826522008,
          0.17706550476176816,
          0.17254514796497794,
          0.17255952211969047,
          0.1747076544138027,
          0.18351897323566665,
          0.17887596871298858,
          0.17562384040855372,
          0.1781824072812697,
          0.17405339387738122,
          0.17321448422402047,
          0.17512268812037401,
          0.17299053606351075,
          0.18500320019558072,
          0.1732718484442376,
          0.1768507755331088,
          0.1730704077485262,
          0.1728816215268286,
          0.17538482362635305,
          0.17972530488300875,
          0.17317944184497253,
          0.17409211519616616,
          0.17801485637715941,
          0.17261223490355213,
          0.1733350264859356,
          0.18215924843027287,
          0.17573331563929362,
          0.1728887852468902,
          0.17994035970116184,
          0.17403954960500767,
          0.17205735493683633,
          0.17469183331864482,
          0.17266865306613563,
          0.17415387637660948,
          0.17703311780939937,
          0.17530131819250036,
          0.1738721370648613,
          0.17394646031083297,
          0.17395165107149183,
          0.17377981029403786,
          0.1785176553980235,
          0.17403826088032803,
          0.17328016009122177,
          0.17389563217541026,
          0.17563868515489528,
          0.17348903950015768,
          0.17545056255532887,
          0.1721969564381413,
          0.1739027883737781,
          0.17157082713816912,
          0.1717673760163722,
          0.1741819519057697,
          0.17252747833004128,
          0.18109217969343955,
          0.17491898843859946,
          0.1730509993470086,
          0.1729267100285576,
          0.1738684122386065,
          0.17510134437403052,
          0.17387832467636138,
          0.1821629534876234,
          0.17830745596777942
         ],
         "yaxis": "y8"
        },
        {
         "marker": {
          "color": [
           0,
           1,
           2,
           3,
           4,
           5,
           6,
           7,
           8,
           9,
           10,
           11,
           12,
           13,
           14,
           15,
           16,
           17,
           18,
           19,
           20,
           21,
           22,
           23,
           24,
           25,
           26,
           27,
           28,
           29,
           30,
           31,
           32,
           33,
           34,
           35,
           36,
           37,
           38,
           39,
           40,
           41,
           42,
           43,
           44,
           45,
           46,
           47,
           48,
           49,
           50,
           51,
           52,
           53,
           54,
           55,
           56,
           57,
           58,
           59,
           60,
           61,
           62,
           63,
           64,
           65,
           66,
           67,
           68,
           69,
           70,
           71,
           72,
           73,
           74,
           75,
           76,
           77,
           78,
           79,
           80,
           81,
           82,
           83,
           84,
           85,
           86,
           87,
           88,
           89,
           90,
           91,
           92,
           93,
           94,
           95,
           96,
           97,
           98,
           99,
           100,
           101,
           102,
           103,
           104,
           105,
           106,
           107,
           108,
           109,
           110,
           111,
           112,
           113,
           114,
           115,
           116,
           117,
           118,
           119,
           120,
           121,
           122,
           123,
           124,
           125,
           126,
           127,
           128,
           129,
           130,
           131,
           132,
           133,
           134,
           135,
           136,
           137,
           138,
           139,
           140,
           141,
           142,
           143,
           144,
           145,
           146,
           147,
           148,
           149
          ],
          "colorbar": {
           "title": {
            "text": "Trial"
           },
           "x": 1,
           "xpad": 40
          },
          "colorscale": [
           [
            0,
            "rgb(247,251,255)"
           ],
           [
            0.125,
            "rgb(222,235,247)"
           ],
           [
            0.25,
            "rgb(198,219,239)"
           ],
           [
            0.375,
            "rgb(158,202,225)"
           ],
           [
            0.5,
            "rgb(107,174,214)"
           ],
           [
            0.625,
            "rgb(66,146,198)"
           ],
           [
            0.75,
            "rgb(33,113,181)"
           ],
           [
            0.875,
            "rgb(8,81,156)"
           ],
           [
            1,
            "rgb(8,48,107)"
           ]
          ],
          "line": {
           "color": "Grey",
           "width": 0.5
          },
          "showscale": false
         },
         "mode": "markers",
         "name": "Feasible Trial",
         "showlegend": false,
         "type": "scatter",
         "x": [
          942,
          512,
          436,
          938,
          469,
          1000,
          494,
          291,
          788,
          305,
          335,
          928,
          623,
          845,
          692,
          659,
          725,
          788,
          567,
          865,
          404,
          967,
          919,
          988,
          441,
          763,
          984,
          934,
          824,
          983,
          955,
          941,
          936,
          988,
          985,
          995,
          902,
          767,
          895,
          868,
          480,
          337,
          432,
          527,
          334,
          611,
          552,
          382,
          598,
          724,
          805,
          427,
          318,
          557,
          641,
          364,
          571,
          417,
          885,
          558,
          354,
          669,
          611,
          606,
          585,
          595,
          615,
          352,
          470,
          316,
          233,
          328,
          424,
          413,
          314,
          350,
          480,
          545,
          614,
          495,
          582,
          523,
          548,
          631,
          361,
          783,
          468,
          401,
          633,
          368,
          411,
          589,
          343,
          220,
          513,
          676,
          713,
          891,
          842,
          619,
          393,
          396,
          932,
          959,
          954,
          444,
          883,
          482,
          857,
          926,
          820,
          670,
          640,
          610,
          622,
          774,
          859,
          952,
          426,
          828,
          620,
          263,
          829,
          577,
          820,
          767,
          964,
          485,
          718,
          882,
          770,
          325,
          232,
          419,
          489,
          311,
          637,
          666,
          570,
          959,
          633,
          675,
          664,
          565,
          555,
          471,
          290,
          690,
          781,
          932
         ],
         "xaxis": "x9",
         "y": [
          0.17946398926806365,
          0.17879445956782114,
          0.17997495015348808,
          0.1830269048848305,
          0.1800402968242954,
          0.18320728771949188,
          0.18031607319492246,
          0.18116737518967532,
          0.18009947046723518,
          0.180800332852336,
          0.18404199921314526,
          0.18205957933759487,
          0.1840562907816523,
          0.17967829972620722,
          0.17834902815736636,
          0.17841854737932172,
          0.18968295268981064,
          0.18057750633826034,
          0.17634321824727686,
          0.17752623435685322,
          0.17827547668712437,
          0.17717474303853856,
          0.17848975831618694,
          0.17849087806827024,
          0.18131004298602318,
          0.17774991619824015,
          0.1772539634589208,
          0.17739038258861217,
          0.177619197852258,
          0.18032681926200714,
          0.179016989634852,
          0.17942300126175317,
          0.17826750211276535,
          0.18026216645665857,
          0.1779603111367995,
          0.17916023862815714,
          0.17772379922079407,
          0.18923842575395955,
          0.1787721397061363,
          0.17748909431746326,
          0.17718527496167433,
          0.18198583160997134,
          0.18719045351764704,
          0.17531540331326637,
          0.1775139488460192,
          0.17339698460205857,
          0.17490112414649467,
          0.17502724689842072,
          0.1743629402561046,
          0.17345196570554403,
          0.17989104200822842,
          0.17474469323969205,
          0.17446696220915658,
          0.17724811490835235,
          0.24771729472043705,
          0.17950702561962648,
          0.1747675039091284,
          0.186364921411797,
          0.17602947282817313,
          0.17996400316725955,
          0.17722725855553723,
          0.1755651158474042,
          0.17544764770172555,
          0.17568690839485712,
          0.17682857438837574,
          0.19190849631986556,
          0.17968691628558942,
          0.17157344963153554,
          0.17322456542458606,
          0.1734236200729897,
          0.17438052157494935,
          0.17292572153343405,
          0.17331107039847102,
          0.1805759673125463,
          0.17859665385874568,
          0.179898564874976,
          0.1718300198247284,
          0.17323586211592115,
          0.1733780204761803,
          0.17587444826522008,
          0.17706550476176816,
          0.17254514796497794,
          0.17255952211969047,
          0.1747076544138027,
          0.18351897323566665,
          0.17887596871298858,
          0.17562384040855372,
          0.1781824072812697,
          0.181186121153717,
          0.17405339387738122,
          0.17321448422402047,
          0.17512268812037401,
          0.17299053606351075,
          0.18500320019558072,
          0.1732718484442376,
          0.1768507755331088,
          0.1730704077485262,
          0.1728816215268286,
          0.17538482362635305,
          0.17972530488300875,
          0.17317944184497253,
          0.17409211519616616,
          0.17801485637715941,
          0.17261223490355213,
          0.1733350264859356,
          0.18215924843027287,
          0.18276927793218087,
          0.17573331563929362,
          0.1728887852468902,
          0.17994035970116184,
          0.17403954960500767,
          0.17205735493683633,
          0.17469183331864482,
          0.17266865306613563,
          0.17415387637660948,
          0.17703311780939937,
          0.17530131819250036,
          0.1738721370648613,
          0.17394646031083297,
          0.17395165107149183,
          0.17377981029403786,
          0.17960030714234987,
          0.18142841524176548,
          0.18317435934019266,
          0.1785176553980235,
          0.18239670397951688,
          0.179274825614861,
          0.17403826088032803,
          0.17328016009122177,
          0.17389563217541026,
          0.18414384351155524,
          0.17563868515489528,
          0.17348903950015768,
          0.17545056255532887,
          0.1721969564381413,
          0.1739027883737781,
          0.17157082713816912,
          0.1717673760163722,
          0.1741819519057697,
          0.17818418732936037,
          0.17252747833004128,
          0.18109217969343955,
          0.17491898843859946,
          0.1730509993470086,
          0.1729267100285576,
          0.1738684122386065,
          0.17510134437403052,
          0.17387832467636138,
          0.1821629534876234,
          0.17830745596777942
         ],
         "yaxis": "y9"
        },
        {
         "marker": {
          "color": [
           0,
           1,
           2,
           3,
           4,
           5,
           6,
           7,
           8,
           9,
           10,
           11,
           12,
           13,
           14,
           15,
           16,
           17,
           18,
           19,
           20,
           21,
           22,
           23,
           24,
           25,
           26,
           27,
           28,
           29,
           30,
           31,
           32,
           33,
           34,
           35,
           36,
           37,
           38,
           39,
           40,
           41,
           42,
           43,
           44,
           45,
           46,
           47,
           48,
           49,
           50,
           51,
           52,
           53,
           54,
           55,
           56,
           57,
           58,
           59,
           60,
           61,
           62,
           63,
           64,
           65,
           66,
           67,
           68,
           69,
           70,
           71,
           72,
           73,
           74,
           75,
           76,
           77,
           78,
           79,
           80,
           81,
           82,
           83,
           84,
           85,
           86,
           87,
           88,
           89,
           90,
           91,
           92,
           93,
           94,
           95,
           96,
           97,
           98,
           99,
           100,
           101,
           102,
           103,
           104,
           105,
           106,
           107,
           108,
           109,
           110,
           111,
           112,
           113,
           114,
           115,
           116,
           117,
           118,
           119,
           120,
           121,
           122,
           123,
           124,
           125,
           126,
           127,
           128,
           129,
           130,
           131,
           132,
           133,
           134,
           135,
           136,
           137,
           138,
           139,
           140,
           141,
           142,
           143,
           144,
           145,
           146,
           147,
           148,
           149
          ],
          "colorbar": {
           "title": {
            "text": "Trial"
           },
           "x": 1,
           "xpad": 40
          },
          "colorscale": [
           [
            0,
            "rgb(247,251,255)"
           ],
           [
            0.125,
            "rgb(222,235,247)"
           ],
           [
            0.25,
            "rgb(198,219,239)"
           ],
           [
            0.375,
            "rgb(158,202,225)"
           ],
           [
            0.5,
            "rgb(107,174,214)"
           ],
           [
            0.625,
            "rgb(66,146,198)"
           ],
           [
            0.75,
            "rgb(33,113,181)"
           ],
           [
            0.875,
            "rgb(8,81,156)"
           ],
           [
            1,
            "rgb(8,48,107)"
           ]
          ],
          "line": {
           "color": "Grey",
           "width": 0.5
          },
          "showscale": false
         },
         "mode": "markers",
         "name": "Feasible Trial",
         "showlegend": false,
         "type": "scatter",
         "x": [
          6.440292920709894,
          6.223388243205817,
          7.691103672226161,
          3.2806203071203157,
          8.062406084252704,
          9.752124584285365,
          7.2810013410465935,
          8.075940315197693,
          9.452662661589669,
          0.8791204860959989,
          5.944718629407887,
          5.356139850876958,
          5.807704165165448,
          3.962887321328663,
          5.900797102581202,
          6.367694324200465,
          3.7931077341541712,
          7.271215979617782,
          8.059583406580522,
          9.661998608783604,
          9.330345820464084,
          8.618258637291559,
          8.29251791211188,
          7.213863376855196,
          6.976754689921609,
          9.342645810574517,
          7.818945610137378,
          9.223231490574468,
          5.558141357245204,
          3.61863372346159,
          6.985893847586566,
          9.564463567763097,
          8.322322473000876,
          7.658566314744491,
          6.948138092293611,
          9.63259618319848,
          7.5374203844779535,
          9.79434865618282,
          9.637671237850476,
          7.90413258865856,
          8.741477951518362,
          9.316562290162976,
          6.36643909441307,
          8.44187943059116,
          8.635989684050193,
          8.156314131171314,
          9.580687634201349,
          9.441470973399694,
          9.603806901582178,
          9.288233720084277,
          8.47907562001971,
          8.427510885117528,
          9.115226117471762,
          8.71807695589974,
          6.332255778867955,
          8.372745117119157,
          8.808026570284104,
          7.45270207178438,
          8.003520816985734,
          8.481906121752953,
          6.586414532986488,
          9.491073394442328,
          9.786366417139577,
          8.421752104680253,
          8.810250779390692,
          9.199363108014055,
          7.883697525136591,
          9.771825922270962,
          8.703928369386768,
          8.634802529328928,
          7.308013251633637,
          7.024096878606011,
          6.698239405762405,
          7.582656712311932,
          8.724459390114138,
          5.464276168723165,
          8.280831120867157,
          5.265937856622987,
          7.55466365041048,
          5.148898135272851,
          5.914454152626806,
          9.842633581847496,
          7.496042866696283,
          9.464324748734619,
          6.78396258943043,
          8.160680784855879,
          7.708480982481916,
          8.77999036930769,
          9.197923261589423,
          9.75218945659689,
          9.104637997285554,
          9.040238700585757,
          7.90616785983052,
          8.762864036846928,
          7.2181984353777615,
          6.305784531558856,
          5.133953776287956,
          4.016068408477561,
          5.2199186854389,
          3.7118612163932525,
          9.79342369887284,
          8.89316105834202,
          2.586886071864031,
          2.748244254172925,
          4.177493111460774,
          9.1890736514747,
          0.35923636074112775,
          9.841003888949512,
          2.937459144596227,
          8.309093845201387,
          2.5188294933607907,
          3.174721986960497,
          3.768561754578784,
          2.5382453929969335,
          3.8154113802848166,
          4.812019961108259,
          2.283654593651742,
          2.7183905189564923,
          9.921936630805858,
          2.5267748969522916,
          0.8259633659322225,
          7.722909927140114,
          5.221914251222513,
          1.6010691908572359,
          3.675121384774032,
          6.4936268411573295,
          1.6115685116211789,
          2.174810005940879,
          6.159326019960357,
          3.908765642979328,
          1.4326323295791945,
          7.601880339358755,
          8.126789582772034,
          7.7747574985207875,
          1.7558929394621452,
          1.639730437703843,
          1.7494515291029002,
          1.1868669976178012,
          2.401601685745751,
          3.268600738255574,
          0.5218518410916599,
          2.202946842474725,
          0.6464867833601038,
          1.1008502323187885,
          1.264203193635054,
          0.2838529551291432,
          8.708443534748026,
          0.9914922863204401,
          3.814054575847427,
          2.1045954940744602
         ],
         "xaxis": "x10",
         "y": [
          0.17946398926806365,
          0.17879445956782114,
          0.17997495015348808,
          0.1830269048848305,
          0.1800402968242954,
          0.18320728771949188,
          0.18031607319492246,
          0.18116737518967532,
          0.18009947046723518,
          0.180800332852336,
          0.18404199921314526,
          0.18205957933759487,
          0.1840562907816523,
          0.17967829972620722,
          0.17834902815736636,
          0.17841854737932172,
          0.18968295268981064,
          0.18057750633826034,
          0.17634321824727686,
          0.17752623435685322,
          0.17827547668712437,
          0.17717474303853856,
          0.17848975831618694,
          0.17849087806827024,
          0.18131004298602318,
          0.17774991619824015,
          0.1772539634589208,
          0.17739038258861217,
          0.177619197852258,
          0.18032681926200714,
          0.179016989634852,
          0.17942300126175317,
          0.17826750211276535,
          0.18026216645665857,
          0.1779603111367995,
          0.17916023862815714,
          0.17772379922079407,
          0.18923842575395955,
          0.1787721397061363,
          0.17748909431746326,
          0.17718527496167433,
          0.18198583160997134,
          0.18719045351764704,
          0.17531540331326637,
          0.1775139488460192,
          0.17339698460205857,
          0.17490112414649467,
          0.17502724689842072,
          0.1743629402561046,
          0.17345196570554403,
          0.17989104200822842,
          0.17474469323969205,
          0.17446696220915658,
          0.17724811490835235,
          0.24771729472043705,
          0.17950702561962648,
          0.1747675039091284,
          0.186364921411797,
          0.17602947282817313,
          0.17996400316725955,
          0.17722725855553723,
          0.1755651158474042,
          0.17544764770172555,
          0.17568690839485712,
          0.17682857438837574,
          0.19190849631986556,
          0.17968691628558942,
          0.17157344963153554,
          0.17322456542458606,
          0.1734236200729897,
          0.17438052157494935,
          0.17292572153343405,
          0.17331107039847102,
          0.1805759673125463,
          0.17859665385874568,
          0.179898564874976,
          0.1718300198247284,
          0.17323586211592115,
          0.1733780204761803,
          0.17587444826522008,
          0.17706550476176816,
          0.17254514796497794,
          0.17255952211969047,
          0.1747076544138027,
          0.18351897323566665,
          0.17887596871298858,
          0.17562384040855372,
          0.1781824072812697,
          0.181186121153717,
          0.17405339387738122,
          0.17321448422402047,
          0.17512268812037401,
          0.17299053606351075,
          0.18500320019558072,
          0.1732718484442376,
          0.1768507755331088,
          0.1730704077485262,
          0.1728816215268286,
          0.17538482362635305,
          0.17972530488300875,
          0.17317944184497253,
          0.17409211519616616,
          0.17801485637715941,
          0.17261223490355213,
          0.1733350264859356,
          0.18215924843027287,
          0.18276927793218087,
          0.17573331563929362,
          0.1728887852468902,
          0.17994035970116184,
          0.17403954960500767,
          0.17205735493683633,
          0.17469183331864482,
          0.17266865306613563,
          0.17415387637660948,
          0.17703311780939937,
          0.17530131819250036,
          0.1738721370648613,
          0.17394646031083297,
          0.17395165107149183,
          0.17377981029403786,
          0.17960030714234987,
          0.18142841524176548,
          0.18317435934019266,
          0.1785176553980235,
          0.18239670397951688,
          0.179274825614861,
          0.17403826088032803,
          0.17328016009122177,
          0.17389563217541026,
          0.18414384351155524,
          0.17563868515489528,
          0.17348903950015768,
          0.17545056255532887,
          0.1721969564381413,
          0.1739027883737781,
          0.17157082713816912,
          0.1717673760163722,
          0.1741819519057697,
          0.17818418732936037,
          0.17252747833004128,
          0.18109217969343955,
          0.17491898843859946,
          0.1730509993470086,
          0.1729267100285576,
          0.1738684122386065,
          0.17510134437403052,
          0.17387832467636138,
          0.1821629534876234,
          0.17830745596777942
         ],
         "yaxis": "y10"
        },
        {
         "marker": {
          "color": [
           0,
           1,
           2,
           3,
           4,
           5,
           6,
           7,
           8,
           9,
           10,
           11,
           12,
           13,
           14,
           15,
           16,
           17,
           18,
           19,
           20,
           21,
           22,
           23,
           24,
           25,
           26,
           27,
           28,
           29,
           30,
           31,
           32,
           33,
           34,
           35,
           36,
           37,
           38,
           39,
           40,
           41,
           42,
           43,
           44,
           45,
           46,
           47,
           48,
           49,
           50,
           51,
           52,
           53,
           54,
           55,
           56,
           57,
           58,
           59,
           60,
           61,
           62,
           63,
           64,
           65,
           66,
           67,
           68,
           69,
           70,
           71,
           72,
           73,
           74,
           75,
           76,
           77,
           78,
           79,
           80,
           81,
           82,
           83,
           84,
           85,
           86,
           87,
           88,
           89,
           90,
           91,
           92,
           93,
           94,
           95,
           96,
           97,
           98,
           99,
           100,
           101,
           102,
           103,
           104,
           105,
           106,
           107,
           108,
           109,
           110,
           111,
           112,
           113,
           114,
           115,
           116,
           117,
           118,
           119,
           120,
           121,
           122,
           123,
           124,
           125,
           126,
           127,
           128,
           129,
           130,
           131,
           132,
           133,
           134,
           135,
           136,
           137,
           138,
           139,
           140,
           141,
           142,
           143,
           144,
           145,
           146,
           147,
           148,
           149
          ],
          "colorbar": {
           "title": {
            "text": "Trial"
           },
           "x": 1,
           "xpad": 40
          },
          "colorscale": [
           [
            0,
            "rgb(247,251,255)"
           ],
           [
            0.125,
            "rgb(222,235,247)"
           ],
           [
            0.25,
            "rgb(198,219,239)"
           ],
           [
            0.375,
            "rgb(158,202,225)"
           ],
           [
            0.5,
            "rgb(107,174,214)"
           ],
           [
            0.625,
            "rgb(66,146,198)"
           ],
           [
            0.75,
            "rgb(33,113,181)"
           ],
           [
            0.875,
            "rgb(8,81,156)"
           ],
           [
            1,
            "rgb(8,48,107)"
           ]
          ],
          "line": {
           "color": "Grey",
           "width": 0.5
          },
          "showscale": false
         },
         "mode": "markers",
         "name": "Feasible Trial",
         "showlegend": false,
         "type": "scatter",
         "x": [
          null,
          "minmax",
          "robust",
          "robust",
          null,
          null,
          "robust",
          "minmax",
          "robust",
          null,
          "minmax",
          null,
          "standard",
          null,
          "minmax",
          "standard",
          "minmax",
          "standard",
          "maxabs",
          "maxabs",
          "maxabs",
          "maxabs",
          "maxabs",
          "maxabs",
          "maxabs",
          "maxabs",
          "maxabs",
          "maxabs",
          null,
          "maxabs",
          "minmax",
          "maxabs",
          "maxabs",
          "maxabs",
          "standard",
          "maxabs",
          "robust",
          "minmax",
          "maxabs",
          "maxabs",
          "maxabs",
          "maxabs",
          "maxabs",
          "maxabs",
          "maxabs",
          "maxabs",
          "minmax",
          "minmax",
          "minmax",
          "minmax",
          "minmax",
          "minmax",
          "minmax",
          "minmax",
          "minmax",
          "minmax",
          "maxabs",
          "maxabs",
          "standard",
          "maxabs",
          "minmax",
          "robust",
          "minmax",
          null,
          "maxabs",
          "minmax",
          "maxabs",
          "standard",
          "standard",
          "standard",
          "standard",
          "standard",
          "standard",
          "standard",
          "standard",
          "standard",
          "standard",
          "robust",
          "standard",
          "robust",
          "standard",
          "standard",
          "standard",
          "standard",
          "standard",
          "standard",
          null,
          "standard",
          "standard",
          "robust",
          "standard",
          "standard",
          "standard",
          "standard",
          "standard",
          "standard",
          "maxabs",
          "maxabs",
          "maxabs",
          "maxabs",
          "standard",
          "standard",
          "maxabs",
          "standard",
          "standard",
          "standard",
          "standard",
          "standard",
          "minmax",
          "robust",
          "robust",
          "minmax",
          "minmax",
          "minmax",
          "minmax",
          "minmax",
          "maxabs",
          "minmax",
          "standard",
          "standard",
          "minmax",
          "standard",
          null,
          "minmax",
          "minmax",
          "maxabs",
          "maxabs",
          null,
          "maxabs",
          "minmax",
          "standard",
          "standard",
          null,
          "standard",
          "minmax",
          "minmax",
          "minmax",
          "minmax",
          "minmax",
          "minmax",
          "minmax",
          "minmax",
          "minmax",
          "minmax",
          "maxabs",
          "maxabs",
          "maxabs",
          "minmax",
          "minmax",
          "minmax"
         ],
         "xaxis": "x11",
         "y": [
          0.17946398926806365,
          0.17879445956782114,
          0.17997495015348808,
          0.1830269048848305,
          0.1800402968242954,
          0.18320728771949188,
          0.18031607319492246,
          0.18116737518967532,
          0.18009947046723518,
          0.180800332852336,
          0.18404199921314526,
          0.18205957933759487,
          0.1840562907816523,
          0.17967829972620722,
          0.17834902815736636,
          0.17841854737932172,
          0.18968295268981064,
          0.18057750633826034,
          0.17634321824727686,
          0.17752623435685322,
          0.17827547668712437,
          0.17717474303853856,
          0.17848975831618694,
          0.17849087806827024,
          0.18131004298602318,
          0.17774991619824015,
          0.1772539634589208,
          0.17739038258861217,
          0.177619197852258,
          0.18032681926200714,
          0.179016989634852,
          0.17942300126175317,
          0.17826750211276535,
          0.18026216645665857,
          0.1779603111367995,
          0.17916023862815714,
          0.17772379922079407,
          0.18923842575395955,
          0.1787721397061363,
          0.17748909431746326,
          0.17718527496167433,
          0.18198583160997134,
          0.18719045351764704,
          0.17531540331326637,
          0.1775139488460192,
          0.17339698460205857,
          0.17490112414649467,
          0.17502724689842072,
          0.1743629402561046,
          0.17345196570554403,
          0.17989104200822842,
          0.17474469323969205,
          0.17446696220915658,
          0.17724811490835235,
          0.24771729472043705,
          0.17950702561962648,
          0.1747675039091284,
          0.186364921411797,
          0.17602947282817313,
          0.17996400316725955,
          0.17722725855553723,
          0.1755651158474042,
          0.17544764770172555,
          0.17568690839485712,
          0.17682857438837574,
          0.19190849631986556,
          0.17968691628558942,
          0.17157344963153554,
          0.17322456542458606,
          0.1734236200729897,
          0.17438052157494935,
          0.17292572153343405,
          0.17331107039847102,
          0.1805759673125463,
          0.17859665385874568,
          0.179898564874976,
          0.1718300198247284,
          0.17323586211592115,
          0.1733780204761803,
          0.17587444826522008,
          0.17706550476176816,
          0.17254514796497794,
          0.17255952211969047,
          0.1747076544138027,
          0.18351897323566665,
          0.17887596871298858,
          0.17562384040855372,
          0.1781824072812697,
          0.181186121153717,
          0.17405339387738122,
          0.17321448422402047,
          0.17512268812037401,
          0.17299053606351075,
          0.18500320019558072,
          0.1732718484442376,
          0.1768507755331088,
          0.1730704077485262,
          0.1728816215268286,
          0.17538482362635305,
          0.17972530488300875,
          0.17317944184497253,
          0.17409211519616616,
          0.17801485637715941,
          0.17261223490355213,
          0.1733350264859356,
          0.18215924843027287,
          0.18276927793218087,
          0.17573331563929362,
          0.1728887852468902,
          0.17994035970116184,
          0.17403954960500767,
          0.17205735493683633,
          0.17469183331864482,
          0.17266865306613563,
          0.17415387637660948,
          0.17703311780939937,
          0.17530131819250036,
          0.1738721370648613,
          0.17394646031083297,
          0.17395165107149183,
          0.17377981029403786,
          0.17960030714234987,
          0.18142841524176548,
          0.18317435934019266,
          0.1785176553980235,
          0.18239670397951688,
          0.179274825614861,
          0.17403826088032803,
          0.17328016009122177,
          0.17389563217541026,
          0.18414384351155524,
          0.17563868515489528,
          0.17348903950015768,
          0.17545056255532887,
          0.1721969564381413,
          0.1739027883737781,
          0.17157082713816912,
          0.1717673760163722,
          0.1741819519057697,
          0.17818418732936037,
          0.17252747833004128,
          0.18109217969343955,
          0.17491898843859946,
          0.1730509993470086,
          0.1729267100285576,
          0.1738684122386065,
          0.17510134437403052,
          0.17387832467636138,
          0.1821629534876234,
          0.17830745596777942
         ],
         "yaxis": "y11"
        },
        {
         "marker": {
          "color": [
           0,
           1,
           2,
           5,
           6,
           7,
           8,
           10,
           11,
           12,
           13,
           14,
           15,
           16,
           18,
           19,
           20,
           21,
           22,
           23,
           24,
           25,
           26,
           27,
           28,
           29,
           30,
           31,
           32,
           34,
           35,
           36,
           37,
           38,
           39,
           40,
           42,
           43,
           44,
           45,
           46,
           47,
           48,
           49,
           50,
           51,
           52,
           53,
           54,
           55,
           56,
           57,
           58,
           59,
           60,
           61,
           63,
           65,
           66,
           87,
           90,
           92,
           93,
           94,
           95,
           100,
           101,
           105,
           107,
           112,
           116,
           120,
           121,
           124,
           131,
           132,
           133,
           148
          ],
          "colorbar": {
           "title": {
            "text": "Trial"
           },
           "x": 1,
           "xpad": 40
          },
          "colorscale": [
           [
            0,
            "rgb(247,251,255)"
           ],
           [
            0.125,
            "rgb(222,235,247)"
           ],
           [
            0.25,
            "rgb(198,219,239)"
           ],
           [
            0.375,
            "rgb(158,202,225)"
           ],
           [
            0.5,
            "rgb(107,174,214)"
           ],
           [
            0.625,
            "rgb(66,146,198)"
           ],
           [
            0.75,
            "rgb(33,113,181)"
           ],
           [
            0.875,
            "rgb(8,81,156)"
           ],
           [
            1,
            "rgb(8,48,107)"
           ]
          ],
          "line": {
           "color": "Grey",
           "width": 0.5
          },
          "showscale": false
         },
         "mode": "markers",
         "name": "Feasible Trial",
         "showlegend": false,
         "type": "scatter",
         "x": [
          0.7136013518028579,
          0.6403374420965867,
          0.713173508437488,
          0.1175859684491191,
          0.5665576304160052,
          0.7032385311373228,
          0.24149751944887823,
          0.8936284080918897,
          0.45511274841464744,
          0.9985018071800789,
          0.5676559225941449,
          0.7727390929866661,
          0.8065239939709253,
          0.8662190803950158,
          0.8518935002919269,
          0.9858973101297617,
          0.9992115299796568,
          0.9976440463740658,
          0.9953313517173267,
          0.9917642516531591,
          0.8896124814420756,
          0.9995552308234662,
          0.8348483273338909,
          0.779493381049434,
          0.7939260818290419,
          0.8083780071723685,
          0.8350828643398055,
          0.8007144949006936,
          0.8022418936012957,
          0.846853300929541,
          0.7188082641362936,
          0.8376127252391015,
          0.6447788221389331,
          0.6932970311217928,
          0.8605509524798494,
          0.6346490027053004,
          0.5085618251171853,
          0.6605196518033604,
          0.6000063517468153,
          0.6049360536897948,
          0.5523249832500202,
          0.4613232506894875,
          0.4495167397567538,
          0.34634928585300806,
          0.3543550022730374,
          0.35625718525987515,
          0.3704361275527901,
          0.28276621561858556,
          0.36748930013815656,
          0.38469680495435593,
          0.15580305292723703,
          0.12825718280273324,
          0.22919489050081704,
          0.2932458716335782,
          0.3810720731725339,
          0.46770818007059245,
          0.14186243094978854,
          0.47932239827797696,
          0.29679128872669186,
          0.16304344618583494,
          0.584227625294836,
          0.5898831353699268,
          0.6253996118637279,
          0.5667768463444031,
          0.5600681862153609,
          0.6465862675991776,
          0.6671055605037567,
          0.6701668080513338,
          0.5787758411825916,
          0.7302611779553747,
          0.9816243983755341,
          0.7749548979840093,
          0.5081969099255463,
          0.7161519119683868,
          0.5677146903175387,
          0.5534094043210411,
          0.6596901014515023,
          0.1256940550612054
         ],
         "xaxis": "x12",
         "y": [
          0.17946398926806365,
          0.17879445956782114,
          0.17997495015348808,
          0.18320728771949188,
          0.18031607319492246,
          0.18116737518967532,
          0.18009947046723518,
          0.18404199921314526,
          0.18205957933759487,
          0.1840562907816523,
          0.17967829972620722,
          0.17834902815736636,
          0.17841854737932172,
          0.18968295268981064,
          0.17634321824727686,
          0.17752623435685322,
          0.17827547668712437,
          0.17717474303853856,
          0.17848975831618694,
          0.17849087806827024,
          0.18131004298602318,
          0.17774991619824015,
          0.1772539634589208,
          0.17739038258861217,
          0.177619197852258,
          0.18032681926200714,
          0.179016989634852,
          0.17942300126175317,
          0.17826750211276535,
          0.1779603111367995,
          0.17916023862815714,
          0.17772379922079407,
          0.18923842575395955,
          0.1787721397061363,
          0.17748909431746326,
          0.17718527496167433,
          0.18719045351764704,
          0.17531540331326637,
          0.1775139488460192,
          0.17339698460205857,
          0.17490112414649467,
          0.17502724689842072,
          0.1743629402561046,
          0.17345196570554403,
          0.17989104200822842,
          0.17474469323969205,
          0.17446696220915658,
          0.17724811490835235,
          0.24771729472043705,
          0.17950702561962648,
          0.1747675039091284,
          0.186364921411797,
          0.17602947282817313,
          0.17996400316725955,
          0.17722725855553723,
          0.1755651158474042,
          0.17568690839485712,
          0.19190849631986556,
          0.17968691628558942,
          0.1781824072812697,
          0.17321448422402047,
          0.17299053606351075,
          0.18500320019558072,
          0.1732718484442376,
          0.1768507755331088,
          0.17317944184497253,
          0.17409211519616616,
          0.18215924843027287,
          0.17573331563929362,
          0.17469183331864482,
          0.17530131819250036,
          0.17377981029403786,
          0.17960030714234987,
          0.1785176553980235,
          0.17563868515489528,
          0.17348903950015768,
          0.17545056255532887,
          0.1821629534876234
         ],
         "yaxis": "y12"
        }
       ],
       "layout": {
        "template": {
         "data": {
          "bar": [
           {
            "error_x": {
             "color": "#2a3f5f"
            },
            "error_y": {
             "color": "#2a3f5f"
            },
            "marker": {
             "line": {
              "color": "#E5ECF6",
              "width": 0.5
             },
             "pattern": {
              "fillmode": "overlay",
              "size": 10,
              "solidity": 0.2
             }
            },
            "type": "bar"
           }
          ],
          "barpolar": [
           {
            "marker": {
             "line": {
              "color": "#E5ECF6",
              "width": 0.5
             },
             "pattern": {
              "fillmode": "overlay",
              "size": 10,
              "solidity": 0.2
             }
            },
            "type": "barpolar"
           }
          ],
          "carpet": [
           {
            "aaxis": {
             "endlinecolor": "#2a3f5f",
             "gridcolor": "white",
             "linecolor": "white",
             "minorgridcolor": "white",
             "startlinecolor": "#2a3f5f"
            },
            "baxis": {
             "endlinecolor": "#2a3f5f",
             "gridcolor": "white",
             "linecolor": "white",
             "minorgridcolor": "white",
             "startlinecolor": "#2a3f5f"
            },
            "type": "carpet"
           }
          ],
          "choropleth": [
           {
            "colorbar": {
             "outlinewidth": 0,
             "ticks": ""
            },
            "type": "choropleth"
           }
          ],
          "contour": [
           {
            "colorbar": {
             "outlinewidth": 0,
             "ticks": ""
            },
            "colorscale": [
             [
              0,
              "#0d0887"
             ],
             [
              0.1111111111111111,
              "#46039f"
             ],
             [
              0.2222222222222222,
              "#7201a8"
             ],
             [
              0.3333333333333333,
              "#9c179e"
             ],
             [
              0.4444444444444444,
              "#bd3786"
             ],
             [
              0.5555555555555556,
              "#d8576b"
             ],
             [
              0.6666666666666666,
              "#ed7953"
             ],
             [
              0.7777777777777778,
              "#fb9f3a"
             ],
             [
              0.8888888888888888,
              "#fdca26"
             ],
             [
              1,
              "#f0f921"
             ]
            ],
            "type": "contour"
           }
          ],
          "contourcarpet": [
           {
            "colorbar": {
             "outlinewidth": 0,
             "ticks": ""
            },
            "type": "contourcarpet"
           }
          ],
          "heatmap": [
           {
            "colorbar": {
             "outlinewidth": 0,
             "ticks": ""
            },
            "colorscale": [
             [
              0,
              "#0d0887"
             ],
             [
              0.1111111111111111,
              "#46039f"
             ],
             [
              0.2222222222222222,
              "#7201a8"
             ],
             [
              0.3333333333333333,
              "#9c179e"
             ],
             [
              0.4444444444444444,
              "#bd3786"
             ],
             [
              0.5555555555555556,
              "#d8576b"
             ],
             [
              0.6666666666666666,
              "#ed7953"
             ],
             [
              0.7777777777777778,
              "#fb9f3a"
             ],
             [
              0.8888888888888888,
              "#fdca26"
             ],
             [
              1,
              "#f0f921"
             ]
            ],
            "type": "heatmap"
           }
          ],
          "heatmapgl": [
           {
            "colorbar": {
             "outlinewidth": 0,
             "ticks": ""
            },
            "colorscale": [
             [
              0,
              "#0d0887"
             ],
             [
              0.1111111111111111,
              "#46039f"
             ],
             [
              0.2222222222222222,
              "#7201a8"
             ],
             [
              0.3333333333333333,
              "#9c179e"
             ],
             [
              0.4444444444444444,
              "#bd3786"
             ],
             [
              0.5555555555555556,
              "#d8576b"
             ],
             [
              0.6666666666666666,
              "#ed7953"
             ],
             [
              0.7777777777777778,
              "#fb9f3a"
             ],
             [
              0.8888888888888888,
              "#fdca26"
             ],
             [
              1,
              "#f0f921"
             ]
            ],
            "type": "heatmapgl"
           }
          ],
          "histogram": [
           {
            "marker": {
             "pattern": {
              "fillmode": "overlay",
              "size": 10,
              "solidity": 0.2
             }
            },
            "type": "histogram"
           }
          ],
          "histogram2d": [
           {
            "colorbar": {
             "outlinewidth": 0,
             "ticks": ""
            },
            "colorscale": [
             [
              0,
              "#0d0887"
             ],
             [
              0.1111111111111111,
              "#46039f"
             ],
             [
              0.2222222222222222,
              "#7201a8"
             ],
             [
              0.3333333333333333,
              "#9c179e"
             ],
             [
              0.4444444444444444,
              "#bd3786"
             ],
             [
              0.5555555555555556,
              "#d8576b"
             ],
             [
              0.6666666666666666,
              "#ed7953"
             ],
             [
              0.7777777777777778,
              "#fb9f3a"
             ],
             [
              0.8888888888888888,
              "#fdca26"
             ],
             [
              1,
              "#f0f921"
             ]
            ],
            "type": "histogram2d"
           }
          ],
          "histogram2dcontour": [
           {
            "colorbar": {
             "outlinewidth": 0,
             "ticks": ""
            },
            "colorscale": [
             [
              0,
              "#0d0887"
             ],
             [
              0.1111111111111111,
              "#46039f"
             ],
             [
              0.2222222222222222,
              "#7201a8"
             ],
             [
              0.3333333333333333,
              "#9c179e"
             ],
             [
              0.4444444444444444,
              "#bd3786"
             ],
             [
              0.5555555555555556,
              "#d8576b"
             ],
             [
              0.6666666666666666,
              "#ed7953"
             ],
             [
              0.7777777777777778,
              "#fb9f3a"
             ],
             [
              0.8888888888888888,
              "#fdca26"
             ],
             [
              1,
              "#f0f921"
             ]
            ],
            "type": "histogram2dcontour"
           }
          ],
          "mesh3d": [
           {
            "colorbar": {
             "outlinewidth": 0,
             "ticks": ""
            },
            "type": "mesh3d"
           }
          ],
          "parcoords": [
           {
            "line": {
             "colorbar": {
              "outlinewidth": 0,
              "ticks": ""
             }
            },
            "type": "parcoords"
           }
          ],
          "pie": [
           {
            "automargin": true,
            "type": "pie"
           }
          ],
          "scatter": [
           {
            "fillpattern": {
             "fillmode": "overlay",
             "size": 10,
             "solidity": 0.2
            },
            "type": "scatter"
           }
          ],
          "scatter3d": [
           {
            "line": {
             "colorbar": {
              "outlinewidth": 0,
              "ticks": ""
             }
            },
            "marker": {
             "colorbar": {
              "outlinewidth": 0,
              "ticks": ""
             }
            },
            "type": "scatter3d"
           }
          ],
          "scattercarpet": [
           {
            "marker": {
             "colorbar": {
              "outlinewidth": 0,
              "ticks": ""
             }
            },
            "type": "scattercarpet"
           }
          ],
          "scattergeo": [
           {
            "marker": {
             "colorbar": {
              "outlinewidth": 0,
              "ticks": ""
             }
            },
            "type": "scattergeo"
           }
          ],
          "scattergl": [
           {
            "marker": {
             "colorbar": {
              "outlinewidth": 0,
              "ticks": ""
             }
            },
            "type": "scattergl"
           }
          ],
          "scattermapbox": [
           {
            "marker": {
             "colorbar": {
              "outlinewidth": 0,
              "ticks": ""
             }
            },
            "type": "scattermapbox"
           }
          ],
          "scatterpolar": [
           {
            "marker": {
             "colorbar": {
              "outlinewidth": 0,
              "ticks": ""
             }
            },
            "type": "scatterpolar"
           }
          ],
          "scatterpolargl": [
           {
            "marker": {
             "colorbar": {
              "outlinewidth": 0,
              "ticks": ""
             }
            },
            "type": "scatterpolargl"
           }
          ],
          "scatterternary": [
           {
            "marker": {
             "colorbar": {
              "outlinewidth": 0,
              "ticks": ""
             }
            },
            "type": "scatterternary"
           }
          ],
          "surface": [
           {
            "colorbar": {
             "outlinewidth": 0,
             "ticks": ""
            },
            "colorscale": [
             [
              0,
              "#0d0887"
             ],
             [
              0.1111111111111111,
              "#46039f"
             ],
             [
              0.2222222222222222,
              "#7201a8"
             ],
             [
              0.3333333333333333,
              "#9c179e"
             ],
             [
              0.4444444444444444,
              "#bd3786"
             ],
             [
              0.5555555555555556,
              "#d8576b"
             ],
             [
              0.6666666666666666,
              "#ed7953"
             ],
             [
              0.7777777777777778,
              "#fb9f3a"
             ],
             [
              0.8888888888888888,
              "#fdca26"
             ],
             [
              1,
              "#f0f921"
             ]
            ],
            "type": "surface"
           }
          ],
          "table": [
           {
            "cells": {
             "fill": {
              "color": "#EBF0F8"
             },
             "line": {
              "color": "white"
             }
            },
            "header": {
             "fill": {
              "color": "#C8D4E3"
             },
             "line": {
              "color": "white"
             }
            },
            "type": "table"
           }
          ]
         },
         "layout": {
          "annotationdefaults": {
           "arrowcolor": "#2a3f5f",
           "arrowhead": 0,
           "arrowwidth": 1
          },
          "autotypenumbers": "strict",
          "coloraxis": {
           "colorbar": {
            "outlinewidth": 0,
            "ticks": ""
           }
          },
          "colorscale": {
           "diverging": [
            [
             0,
             "#8e0152"
            ],
            [
             0.1,
             "#c51b7d"
            ],
            [
             0.2,
             "#de77ae"
            ],
            [
             0.3,
             "#f1b6da"
            ],
            [
             0.4,
             "#fde0ef"
            ],
            [
             0.5,
             "#f7f7f7"
            ],
            [
             0.6,
             "#e6f5d0"
            ],
            [
             0.7,
             "#b8e186"
            ],
            [
             0.8,
             "#7fbc41"
            ],
            [
             0.9,
             "#4d9221"
            ],
            [
             1,
             "#276419"
            ]
           ],
           "sequential": [
            [
             0,
             "#0d0887"
            ],
            [
             0.1111111111111111,
             "#46039f"
            ],
            [
             0.2222222222222222,
             "#7201a8"
            ],
            [
             0.3333333333333333,
             "#9c179e"
            ],
            [
             0.4444444444444444,
             "#bd3786"
            ],
            [
             0.5555555555555556,
             "#d8576b"
            ],
            [
             0.6666666666666666,
             "#ed7953"
            ],
            [
             0.7777777777777778,
             "#fb9f3a"
            ],
            [
             0.8888888888888888,
             "#fdca26"
            ],
            [
             1,
             "#f0f921"
            ]
           ],
           "sequentialminus": [
            [
             0,
             "#0d0887"
            ],
            [
             0.1111111111111111,
             "#46039f"
            ],
            [
             0.2222222222222222,
             "#7201a8"
            ],
            [
             0.3333333333333333,
             "#9c179e"
            ],
            [
             0.4444444444444444,
             "#bd3786"
            ],
            [
             0.5555555555555556,
             "#d8576b"
            ],
            [
             0.6666666666666666,
             "#ed7953"
            ],
            [
             0.7777777777777778,
             "#fb9f3a"
            ],
            [
             0.8888888888888888,
             "#fdca26"
            ],
            [
             1,
             "#f0f921"
            ]
           ]
          },
          "colorway": [
           "#636efa",
           "#EF553B",
           "#00cc96",
           "#ab63fa",
           "#FFA15A",
           "#19d3f3",
           "#FF6692",
           "#B6E880",
           "#FF97FF",
           "#FECB52"
          ],
          "font": {
           "color": "#2a3f5f"
          },
          "geo": {
           "bgcolor": "white",
           "lakecolor": "white",
           "landcolor": "#E5ECF6",
           "showlakes": true,
           "showland": true,
           "subunitcolor": "white"
          },
          "hoverlabel": {
           "align": "left"
          },
          "hovermode": "closest",
          "mapbox": {
           "style": "light"
          },
          "paper_bgcolor": "white",
          "plot_bgcolor": "#E5ECF6",
          "polar": {
           "angularaxis": {
            "gridcolor": "white",
            "linecolor": "white",
            "ticks": ""
           },
           "bgcolor": "#E5ECF6",
           "radialaxis": {
            "gridcolor": "white",
            "linecolor": "white",
            "ticks": ""
           }
          },
          "scene": {
           "xaxis": {
            "backgroundcolor": "#E5ECF6",
            "gridcolor": "white",
            "gridwidth": 2,
            "linecolor": "white",
            "showbackground": true,
            "ticks": "",
            "zerolinecolor": "white"
           },
           "yaxis": {
            "backgroundcolor": "#E5ECF6",
            "gridcolor": "white",
            "gridwidth": 2,
            "linecolor": "white",
            "showbackground": true,
            "ticks": "",
            "zerolinecolor": "white"
           },
           "zaxis": {
            "backgroundcolor": "#E5ECF6",
            "gridcolor": "white",
            "gridwidth": 2,
            "linecolor": "white",
            "showbackground": true,
            "ticks": "",
            "zerolinecolor": "white"
           }
          },
          "shapedefaults": {
           "line": {
            "color": "#2a3f5f"
           }
          },
          "ternary": {
           "aaxis": {
            "gridcolor": "white",
            "linecolor": "white",
            "ticks": ""
           },
           "baxis": {
            "gridcolor": "white",
            "linecolor": "white",
            "ticks": ""
           },
           "bgcolor": "#E5ECF6",
           "caxis": {
            "gridcolor": "white",
            "linecolor": "white",
            "ticks": ""
           }
          },
          "title": {
           "x": 0.05
          },
          "xaxis": {
           "automargin": true,
           "gridcolor": "white",
           "linecolor": "white",
           "ticks": "",
           "title": {
            "standoff": 15
           },
           "zerolinecolor": "white",
           "zerolinewidth": 2
          },
          "yaxis": {
           "automargin": true,
           "gridcolor": "white",
           "linecolor": "white",
           "ticks": "",
           "title": {
            "standoff": 15
           },
           "zerolinecolor": "white",
           "zerolinewidth": 2
          }
         }
        },
        "title": {
         "text": "Slice Plot"
        },
        "width": 3600,
        "xaxis": {
         "anchor": "y",
         "domain": [
          0,
          0.06805555555555555
         ],
         "title": {
          "text": "bagging_temperature"
         }
        },
        "xaxis10": {
         "anchor": "y10",
         "domain": [
          0.7625,
          0.8305555555555555
         ],
         "title": {
          "text": "random_strength"
         }
        },
        "xaxis11": {
         "anchor": "y11",
         "categoryarray": [
          "minmax",
          "standard",
          "robust",
          "maxabs",
          null
         ],
         "categoryorder": "array",
         "domain": [
          0.8472222222222221,
          0.9152777777777776
         ],
         "title": {
          "text": "scalers"
         },
         "type": "category"
        },
        "xaxis12": {
         "anchor": "y12",
         "domain": [
          0.9319444444444444,
          0.9999999999999999
         ],
         "title": {
          "text": "subsample"
         }
        },
        "xaxis2": {
         "anchor": "y2",
         "categoryarray": [
          "Bayesian",
          "Bernoulli",
          "MVS"
         ],
         "categoryorder": "array",
         "domain": [
          0.08472222222222221,
          0.15277777777777776
         ],
         "title": {
          "text": "bootstrap_type"
         },
         "type": "category"
        },
        "xaxis3": {
         "anchor": "y3",
         "domain": [
          0.16944444444444443,
          0.2375
         ],
         "title": {
          "text": "depth"
         }
        },
        "xaxis4": {
         "anchor": "y4",
         "categoryarray": [
          "Depthwise",
          "SymmetricTree",
          "Lossguide"
         ],
         "categoryorder": "array",
         "domain": [
          0.25416666666666665,
          0.3222222222222222
         ],
         "title": {
          "text": "grow_policy"
         },
         "type": "category"
        },
        "xaxis5": {
         "anchor": "y5",
         "domain": [
          0.33888888888888885,
          0.4069444444444444
         ],
         "title": {
          "text": "l2_leaf_reg"
         }
        },
        "xaxis6": {
         "anchor": "y6",
         "domain": [
          0.42361111111111105,
          0.4916666666666666
         ],
         "title": {
          "text": "learning_rate"
         }
        },
        "xaxis7": {
         "anchor": "y7",
         "domain": [
          0.5083333333333333,
          0.5763888888888888
         ],
         "title": {
          "text": "max_leaves"
         }
        },
        "xaxis8": {
         "anchor": "y8",
         "domain": [
          0.5930555555555556,
          0.6611111111111111
         ],
         "title": {
          "text": "min_data_in_leaf"
         }
        },
        "xaxis9": {
         "anchor": "y9",
         "domain": [
          0.6777777777777777,
          0.7458333333333332
         ],
         "title": {
          "text": "n_estimators"
         }
        },
        "yaxis": {
         "anchor": "x",
         "domain": [
          0,
          1
         ],
         "title": {
          "text": "Objective Value"
         }
        },
        "yaxis10": {
         "anchor": "x10",
         "domain": [
          0,
          1
         ],
         "matches": "y",
         "showticklabels": false
        },
        "yaxis11": {
         "anchor": "x11",
         "domain": [
          0,
          1
         ],
         "matches": "y",
         "showticklabels": false
        },
        "yaxis12": {
         "anchor": "x12",
         "domain": [
          0,
          1
         ],
         "matches": "y",
         "showticklabels": false
        },
        "yaxis2": {
         "anchor": "x2",
         "domain": [
          0,
          1
         ],
         "matches": "y",
         "showticklabels": false
        },
        "yaxis3": {
         "anchor": "x3",
         "domain": [
          0,
          1
         ],
         "matches": "y",
         "showticklabels": false
        },
        "yaxis4": {
         "anchor": "x4",
         "domain": [
          0,
          1
         ],
         "matches": "y",
         "showticklabels": false
        },
        "yaxis5": {
         "anchor": "x5",
         "domain": [
          0,
          1
         ],
         "matches": "y",
         "showticklabels": false
        },
        "yaxis6": {
         "anchor": "x6",
         "domain": [
          0,
          1
         ],
         "matches": "y",
         "showticklabels": false
        },
        "yaxis7": {
         "anchor": "x7",
         "domain": [
          0,
          1
         ],
         "matches": "y",
         "showticklabels": false
        },
        "yaxis8": {
         "anchor": "x8",
         "domain": [
          0,
          1
         ],
         "matches": "y",
         "showticklabels": false
        },
        "yaxis9": {
         "anchor": "x9",
         "domain": [
          0,
          1
         ],
         "matches": "y",
         "showticklabels": false
        }
       }
      }
     },
     "metadata": {},
     "output_type": "display_data"
    }
   ],
   "source": [
    "# Hyperparameters to score dependency\n",
    "\n",
    "optuna.visualization.plot_slice(study_cat)"
   ]
  },
  {
   "cell_type": "code",
   "execution_count": 193,
   "metadata": {
    "colab": {
     "base_uri": "https://localhost:8080/",
     "height": 542
    },
    "id": "EwIS_u5DJfJl",
    "outputId": "6bd688f2-674c-443e-85d9-843d68a6392c"
   },
   "outputs": [
    {
     "data": {
      "application/vnd.plotly.v1+json": {
       "config": {
        "plotlyServerURL": "https://plot.ly"
       },
       "data": [
        {
         "cliponaxis": false,
         "hovertemplate": [
          "scalers (CategoricalDistribution): 0.006798588882010848<extra></extra>",
          "n_estimators (IntDistribution): 0.008415462154766542<extra></extra>",
          "random_strength (FloatDistribution): 0.022457367472421077<extra></extra>",
          "bootstrap_type (CategoricalDistribution): 0.027087621999594816<extra></extra>",
          "depth (IntDistribution): 0.0433933045774381<extra></extra>",
          "grow_policy (CategoricalDistribution): 0.19175371283415954<extra></extra>",
          "learning_rate (FloatDistribution): 0.21759681738651956<extra></extra>",
          "l2_leaf_reg (FloatDistribution): 0.48249712469308953<extra></extra>"
         ],
         "name": "Objective Value",
         "orientation": "h",
         "text": [
          "<0.01",
          "<0.01",
          "0.02",
          "0.03",
          "0.04",
          "0.19",
          "0.22",
          "0.48"
         ],
         "textposition": "outside",
         "type": "bar",
         "x": [
          0.006798588882010848,
          0.008415462154766542,
          0.022457367472421077,
          0.027087621999594816,
          0.0433933045774381,
          0.19175371283415954,
          0.21759681738651956,
          0.48249712469308953
         ],
         "y": [
          "scalers",
          "n_estimators",
          "random_strength",
          "bootstrap_type",
          "depth",
          "grow_policy",
          "learning_rate",
          "l2_leaf_reg"
         ]
        }
       ],
       "layout": {
        "template": {
         "data": {
          "bar": [
           {
            "error_x": {
             "color": "#2a3f5f"
            },
            "error_y": {
             "color": "#2a3f5f"
            },
            "marker": {
             "line": {
              "color": "#E5ECF6",
              "width": 0.5
             },
             "pattern": {
              "fillmode": "overlay",
              "size": 10,
              "solidity": 0.2
             }
            },
            "type": "bar"
           }
          ],
          "barpolar": [
           {
            "marker": {
             "line": {
              "color": "#E5ECF6",
              "width": 0.5
             },
             "pattern": {
              "fillmode": "overlay",
              "size": 10,
              "solidity": 0.2
             }
            },
            "type": "barpolar"
           }
          ],
          "carpet": [
           {
            "aaxis": {
             "endlinecolor": "#2a3f5f",
             "gridcolor": "white",
             "linecolor": "white",
             "minorgridcolor": "white",
             "startlinecolor": "#2a3f5f"
            },
            "baxis": {
             "endlinecolor": "#2a3f5f",
             "gridcolor": "white",
             "linecolor": "white",
             "minorgridcolor": "white",
             "startlinecolor": "#2a3f5f"
            },
            "type": "carpet"
           }
          ],
          "choropleth": [
           {
            "colorbar": {
             "outlinewidth": 0,
             "ticks": ""
            },
            "type": "choropleth"
           }
          ],
          "contour": [
           {
            "colorbar": {
             "outlinewidth": 0,
             "ticks": ""
            },
            "colorscale": [
             [
              0,
              "#0d0887"
             ],
             [
              0.1111111111111111,
              "#46039f"
             ],
             [
              0.2222222222222222,
              "#7201a8"
             ],
             [
              0.3333333333333333,
              "#9c179e"
             ],
             [
              0.4444444444444444,
              "#bd3786"
             ],
             [
              0.5555555555555556,
              "#d8576b"
             ],
             [
              0.6666666666666666,
              "#ed7953"
             ],
             [
              0.7777777777777778,
              "#fb9f3a"
             ],
             [
              0.8888888888888888,
              "#fdca26"
             ],
             [
              1,
              "#f0f921"
             ]
            ],
            "type": "contour"
           }
          ],
          "contourcarpet": [
           {
            "colorbar": {
             "outlinewidth": 0,
             "ticks": ""
            },
            "type": "contourcarpet"
           }
          ],
          "heatmap": [
           {
            "colorbar": {
             "outlinewidth": 0,
             "ticks": ""
            },
            "colorscale": [
             [
              0,
              "#0d0887"
             ],
             [
              0.1111111111111111,
              "#46039f"
             ],
             [
              0.2222222222222222,
              "#7201a8"
             ],
             [
              0.3333333333333333,
              "#9c179e"
             ],
             [
              0.4444444444444444,
              "#bd3786"
             ],
             [
              0.5555555555555556,
              "#d8576b"
             ],
             [
              0.6666666666666666,
              "#ed7953"
             ],
             [
              0.7777777777777778,
              "#fb9f3a"
             ],
             [
              0.8888888888888888,
              "#fdca26"
             ],
             [
              1,
              "#f0f921"
             ]
            ],
            "type": "heatmap"
           }
          ],
          "heatmapgl": [
           {
            "colorbar": {
             "outlinewidth": 0,
             "ticks": ""
            },
            "colorscale": [
             [
              0,
              "#0d0887"
             ],
             [
              0.1111111111111111,
              "#46039f"
             ],
             [
              0.2222222222222222,
              "#7201a8"
             ],
             [
              0.3333333333333333,
              "#9c179e"
             ],
             [
              0.4444444444444444,
              "#bd3786"
             ],
             [
              0.5555555555555556,
              "#d8576b"
             ],
             [
              0.6666666666666666,
              "#ed7953"
             ],
             [
              0.7777777777777778,
              "#fb9f3a"
             ],
             [
              0.8888888888888888,
              "#fdca26"
             ],
             [
              1,
              "#f0f921"
             ]
            ],
            "type": "heatmapgl"
           }
          ],
          "histogram": [
           {
            "marker": {
             "pattern": {
              "fillmode": "overlay",
              "size": 10,
              "solidity": 0.2
             }
            },
            "type": "histogram"
           }
          ],
          "histogram2d": [
           {
            "colorbar": {
             "outlinewidth": 0,
             "ticks": ""
            },
            "colorscale": [
             [
              0,
              "#0d0887"
             ],
             [
              0.1111111111111111,
              "#46039f"
             ],
             [
              0.2222222222222222,
              "#7201a8"
             ],
             [
              0.3333333333333333,
              "#9c179e"
             ],
             [
              0.4444444444444444,
              "#bd3786"
             ],
             [
              0.5555555555555556,
              "#d8576b"
             ],
             [
              0.6666666666666666,
              "#ed7953"
             ],
             [
              0.7777777777777778,
              "#fb9f3a"
             ],
             [
              0.8888888888888888,
              "#fdca26"
             ],
             [
              1,
              "#f0f921"
             ]
            ],
            "type": "histogram2d"
           }
          ],
          "histogram2dcontour": [
           {
            "colorbar": {
             "outlinewidth": 0,
             "ticks": ""
            },
            "colorscale": [
             [
              0,
              "#0d0887"
             ],
             [
              0.1111111111111111,
              "#46039f"
             ],
             [
              0.2222222222222222,
              "#7201a8"
             ],
             [
              0.3333333333333333,
              "#9c179e"
             ],
             [
              0.4444444444444444,
              "#bd3786"
             ],
             [
              0.5555555555555556,
              "#d8576b"
             ],
             [
              0.6666666666666666,
              "#ed7953"
             ],
             [
              0.7777777777777778,
              "#fb9f3a"
             ],
             [
              0.8888888888888888,
              "#fdca26"
             ],
             [
              1,
              "#f0f921"
             ]
            ],
            "type": "histogram2dcontour"
           }
          ],
          "mesh3d": [
           {
            "colorbar": {
             "outlinewidth": 0,
             "ticks": ""
            },
            "type": "mesh3d"
           }
          ],
          "parcoords": [
           {
            "line": {
             "colorbar": {
              "outlinewidth": 0,
              "ticks": ""
             }
            },
            "type": "parcoords"
           }
          ],
          "pie": [
           {
            "automargin": true,
            "type": "pie"
           }
          ],
          "scatter": [
           {
            "fillpattern": {
             "fillmode": "overlay",
             "size": 10,
             "solidity": 0.2
            },
            "type": "scatter"
           }
          ],
          "scatter3d": [
           {
            "line": {
             "colorbar": {
              "outlinewidth": 0,
              "ticks": ""
             }
            },
            "marker": {
             "colorbar": {
              "outlinewidth": 0,
              "ticks": ""
             }
            },
            "type": "scatter3d"
           }
          ],
          "scattercarpet": [
           {
            "marker": {
             "colorbar": {
              "outlinewidth": 0,
              "ticks": ""
             }
            },
            "type": "scattercarpet"
           }
          ],
          "scattergeo": [
           {
            "marker": {
             "colorbar": {
              "outlinewidth": 0,
              "ticks": ""
             }
            },
            "type": "scattergeo"
           }
          ],
          "scattergl": [
           {
            "marker": {
             "colorbar": {
              "outlinewidth": 0,
              "ticks": ""
             }
            },
            "type": "scattergl"
           }
          ],
          "scattermapbox": [
           {
            "marker": {
             "colorbar": {
              "outlinewidth": 0,
              "ticks": ""
             }
            },
            "type": "scattermapbox"
           }
          ],
          "scatterpolar": [
           {
            "marker": {
             "colorbar": {
              "outlinewidth": 0,
              "ticks": ""
             }
            },
            "type": "scatterpolar"
           }
          ],
          "scatterpolargl": [
           {
            "marker": {
             "colorbar": {
              "outlinewidth": 0,
              "ticks": ""
             }
            },
            "type": "scatterpolargl"
           }
          ],
          "scatterternary": [
           {
            "marker": {
             "colorbar": {
              "outlinewidth": 0,
              "ticks": ""
             }
            },
            "type": "scatterternary"
           }
          ],
          "surface": [
           {
            "colorbar": {
             "outlinewidth": 0,
             "ticks": ""
            },
            "colorscale": [
             [
              0,
              "#0d0887"
             ],
             [
              0.1111111111111111,
              "#46039f"
             ],
             [
              0.2222222222222222,
              "#7201a8"
             ],
             [
              0.3333333333333333,
              "#9c179e"
             ],
             [
              0.4444444444444444,
              "#bd3786"
             ],
             [
              0.5555555555555556,
              "#d8576b"
             ],
             [
              0.6666666666666666,
              "#ed7953"
             ],
             [
              0.7777777777777778,
              "#fb9f3a"
             ],
             [
              0.8888888888888888,
              "#fdca26"
             ],
             [
              1,
              "#f0f921"
             ]
            ],
            "type": "surface"
           }
          ],
          "table": [
           {
            "cells": {
             "fill": {
              "color": "#EBF0F8"
             },
             "line": {
              "color": "white"
             }
            },
            "header": {
             "fill": {
              "color": "#C8D4E3"
             },
             "line": {
              "color": "white"
             }
            },
            "type": "table"
           }
          ]
         },
         "layout": {
          "annotationdefaults": {
           "arrowcolor": "#2a3f5f",
           "arrowhead": 0,
           "arrowwidth": 1
          },
          "autotypenumbers": "strict",
          "coloraxis": {
           "colorbar": {
            "outlinewidth": 0,
            "ticks": ""
           }
          },
          "colorscale": {
           "diverging": [
            [
             0,
             "#8e0152"
            ],
            [
             0.1,
             "#c51b7d"
            ],
            [
             0.2,
             "#de77ae"
            ],
            [
             0.3,
             "#f1b6da"
            ],
            [
             0.4,
             "#fde0ef"
            ],
            [
             0.5,
             "#f7f7f7"
            ],
            [
             0.6,
             "#e6f5d0"
            ],
            [
             0.7,
             "#b8e186"
            ],
            [
             0.8,
             "#7fbc41"
            ],
            [
             0.9,
             "#4d9221"
            ],
            [
             1,
             "#276419"
            ]
           ],
           "sequential": [
            [
             0,
             "#0d0887"
            ],
            [
             0.1111111111111111,
             "#46039f"
            ],
            [
             0.2222222222222222,
             "#7201a8"
            ],
            [
             0.3333333333333333,
             "#9c179e"
            ],
            [
             0.4444444444444444,
             "#bd3786"
            ],
            [
             0.5555555555555556,
             "#d8576b"
            ],
            [
             0.6666666666666666,
             "#ed7953"
            ],
            [
             0.7777777777777778,
             "#fb9f3a"
            ],
            [
             0.8888888888888888,
             "#fdca26"
            ],
            [
             1,
             "#f0f921"
            ]
           ],
           "sequentialminus": [
            [
             0,
             "#0d0887"
            ],
            [
             0.1111111111111111,
             "#46039f"
            ],
            [
             0.2222222222222222,
             "#7201a8"
            ],
            [
             0.3333333333333333,
             "#9c179e"
            ],
            [
             0.4444444444444444,
             "#bd3786"
            ],
            [
             0.5555555555555556,
             "#d8576b"
            ],
            [
             0.6666666666666666,
             "#ed7953"
            ],
            [
             0.7777777777777778,
             "#fb9f3a"
            ],
            [
             0.8888888888888888,
             "#fdca26"
            ],
            [
             1,
             "#f0f921"
            ]
           ]
          },
          "colorway": [
           "#636efa",
           "#EF553B",
           "#00cc96",
           "#ab63fa",
           "#FFA15A",
           "#19d3f3",
           "#FF6692",
           "#B6E880",
           "#FF97FF",
           "#FECB52"
          ],
          "font": {
           "color": "#2a3f5f"
          },
          "geo": {
           "bgcolor": "white",
           "lakecolor": "white",
           "landcolor": "#E5ECF6",
           "showlakes": true,
           "showland": true,
           "subunitcolor": "white"
          },
          "hoverlabel": {
           "align": "left"
          },
          "hovermode": "closest",
          "mapbox": {
           "style": "light"
          },
          "paper_bgcolor": "white",
          "plot_bgcolor": "#E5ECF6",
          "polar": {
           "angularaxis": {
            "gridcolor": "white",
            "linecolor": "white",
            "ticks": ""
           },
           "bgcolor": "#E5ECF6",
           "radialaxis": {
            "gridcolor": "white",
            "linecolor": "white",
            "ticks": ""
           }
          },
          "scene": {
           "xaxis": {
            "backgroundcolor": "#E5ECF6",
            "gridcolor": "white",
            "gridwidth": 2,
            "linecolor": "white",
            "showbackground": true,
            "ticks": "",
            "zerolinecolor": "white"
           },
           "yaxis": {
            "backgroundcolor": "#E5ECF6",
            "gridcolor": "white",
            "gridwidth": 2,
            "linecolor": "white",
            "showbackground": true,
            "ticks": "",
            "zerolinecolor": "white"
           },
           "zaxis": {
            "backgroundcolor": "#E5ECF6",
            "gridcolor": "white",
            "gridwidth": 2,
            "linecolor": "white",
            "showbackground": true,
            "ticks": "",
            "zerolinecolor": "white"
           }
          },
          "shapedefaults": {
           "line": {
            "color": "#2a3f5f"
           }
          },
          "ternary": {
           "aaxis": {
            "gridcolor": "white",
            "linecolor": "white",
            "ticks": ""
           },
           "baxis": {
            "gridcolor": "white",
            "linecolor": "white",
            "ticks": ""
           },
           "bgcolor": "#E5ECF6",
           "caxis": {
            "gridcolor": "white",
            "linecolor": "white",
            "ticks": ""
           }
          },
          "title": {
           "x": 0.05
          },
          "xaxis": {
           "automargin": true,
           "gridcolor": "white",
           "linecolor": "white",
           "ticks": "",
           "title": {
            "standoff": 15
           },
           "zerolinecolor": "white",
           "zerolinewidth": 2
          },
          "yaxis": {
           "automargin": true,
           "gridcolor": "white",
           "linecolor": "white",
           "ticks": "",
           "title": {
            "standoff": 15
           },
           "zerolinecolor": "white",
           "zerolinewidth": 2
          }
         }
        },
        "title": {
         "text": "Hyperparameter Importances"
        },
        "xaxis": {
         "title": {
          "text": "Hyperparameter Importance"
         }
        },
        "yaxis": {
         "title": {
          "text": "Hyperparameter"
         }
        }
       }
      }
     },
     "metadata": {},
     "output_type": "display_data"
    }
   ],
   "source": [
    "# Hyperparameter importances\n",
    "\n",
    "optuna.visualization.plot_param_importances(study_cat)"
   ]
  },
  {
   "cell_type": "code",
   "execution_count": 201,
   "metadata": {},
   "outputs": [
    {
     "data": {
      "text/plain": [
       "{'n_estimators': 637,\n",
       " 'learning_rate': 0.06922782903877982,\n",
       " 'depth': 15,\n",
       " 'l2_leaf_reg': 6.588703318494482,\n",
       " 'random_strength': 1.7494515291029002,\n",
       " 'bootstrap_type': 'Bayesian',\n",
       " 'grow_policy': 'Depthwise',\n",
       " 'bagging_temperature': 2.329066611368438,\n",
       " 'min_data_in_leaf': 1,\n",
       " 'loss_function': 'RMSE',\n",
       " 'od_type': 'Iter',\n",
       " 'od_wait': 25}"
      ]
     },
     "execution_count": 201,
     "metadata": {},
     "output_type": "execute_result"
    }
   ],
   "source": [
    "# Extracting the best parameters\n",
    "\n",
    "params_cat['loss_function'] = 'RMSE'\n",
    "params_cat['od_type'] = 'Iter'\n",
    "params_cat['od_wait'] = 25\n",
    "del params_cat['scalers']\n",
    "params_cat"
   ]
  },
  {
   "cell_type": "code",
   "execution_count": 197,
   "metadata": {},
   "outputs": [
    {
     "name": "stdout",
     "output_type": "stream",
     "text": [
      "<class 'pandas.core.frame.DataFrame'>\n",
      "RangeIndex: 14999 entries, 0 to 14998\n",
      "Data columns (total 8 columns):\n",
      " #   Column                Non-Null Count  Dtype  \n",
      "---  ------                --------------  -----  \n",
      " 0   sales                 14999 non-null  object \n",
      " 1   salary                14999 non-null  object \n",
      " 2   satisfaction_level    14999 non-null  float64\n",
      " 3   last_evaluation       14999 non-null  float64\n",
      " 4   number_project        14999 non-null  float64\n",
      " 5   average_montly_hours  14999 non-null  float64\n",
      " 6   time_spend_company    14999 non-null  float64\n",
      " 7   Work_accident         14999 non-null  float64\n",
      "dtypes: float64(6), object(2)\n",
      "memory usage: 937.6+ KB\n"
     ]
    }
   ],
   "source": [
    "# Implementing scaler\n",
    "\n",
    "scaler_cat = MinMaxScaler()\n",
    "data_scaler = scaler_cat.fit_transform(df[number_columns])\n",
    "data_scaler = pd.DataFrame(data_scaler, columns=scaler_cat.get_feature_names_out(number_columns))\n",
    "df_scaled = pd.concat([df, data_scaler], axis=1)\n",
    "cat_df_scaled = df_scaled.loc[:, 'sales':]\n",
    "cat_df_scaled.info()"
   ]
  },
  {
   "cell_type": "code",
   "execution_count": 198,
   "metadata": {},
   "outputs": [
    {
     "data": {
      "text/html": [
       "<div>\n",
       "<style scoped>\n",
       "    .dataframe tbody tr th:only-of-type {\n",
       "        vertical-align: middle;\n",
       "    }\n",
       "\n",
       "    .dataframe tbody tr th {\n",
       "        vertical-align: top;\n",
       "    }\n",
       "\n",
       "    .dataframe thead th {\n",
       "        text-align: right;\n",
       "    }\n",
       "</style>\n",
       "<table border=\"1\" class=\"dataframe\">\n",
       "  <thead>\n",
       "    <tr style=\"text-align: right;\">\n",
       "      <th></th>\n",
       "      <th>last_evaluation</th>\n",
       "      <th>number_project</th>\n",
       "      <th>average_montly_hours</th>\n",
       "      <th>time_spend_company</th>\n",
       "      <th>Work_accident</th>\n",
       "      <th>sales</th>\n",
       "      <th>salary</th>\n",
       "    </tr>\n",
       "  </thead>\n",
       "  <tbody>\n",
       "    <tr>\n",
       "      <th>0</th>\n",
       "      <td>0.27</td>\n",
       "      <td>0.00</td>\n",
       "      <td>0.29</td>\n",
       "      <td>0.12</td>\n",
       "      <td>0.00</td>\n",
       "      <td>sales</td>\n",
       "      <td>low</td>\n",
       "    </tr>\n",
       "    <tr>\n",
       "      <th>1</th>\n",
       "      <td>0.78</td>\n",
       "      <td>0.60</td>\n",
       "      <td>0.78</td>\n",
       "      <td>0.50</td>\n",
       "      <td>0.00</td>\n",
       "      <td>sales</td>\n",
       "      <td>medium</td>\n",
       "    </tr>\n",
       "    <tr>\n",
       "      <th>2</th>\n",
       "      <td>0.81</td>\n",
       "      <td>1.00</td>\n",
       "      <td>0.82</td>\n",
       "      <td>0.25</td>\n",
       "      <td>0.00</td>\n",
       "      <td>sales</td>\n",
       "      <td>medium</td>\n",
       "    </tr>\n",
       "    <tr>\n",
       "      <th>3</th>\n",
       "      <td>0.80</td>\n",
       "      <td>0.60</td>\n",
       "      <td>0.59</td>\n",
       "      <td>0.38</td>\n",
       "      <td>0.00</td>\n",
       "      <td>sales</td>\n",
       "      <td>low</td>\n",
       "    </tr>\n",
       "    <tr>\n",
       "      <th>4</th>\n",
       "      <td>0.25</td>\n",
       "      <td>0.00</td>\n",
       "      <td>0.29</td>\n",
       "      <td>0.12</td>\n",
       "      <td>0.00</td>\n",
       "      <td>sales</td>\n",
       "      <td>low</td>\n",
       "    </tr>\n",
       "    <tr>\n",
       "      <th>...</th>\n",
       "      <td>...</td>\n",
       "      <td>...</td>\n",
       "      <td>...</td>\n",
       "      <td>...</td>\n",
       "      <td>...</td>\n",
       "      <td>...</td>\n",
       "      <td>...</td>\n",
       "    </tr>\n",
       "    <tr>\n",
       "      <th>14994</th>\n",
       "      <td>0.33</td>\n",
       "      <td>0.00</td>\n",
       "      <td>0.26</td>\n",
       "      <td>0.12</td>\n",
       "      <td>0.00</td>\n",
       "      <td>support</td>\n",
       "      <td>low</td>\n",
       "    </tr>\n",
       "    <tr>\n",
       "      <th>14995</th>\n",
       "      <td>0.19</td>\n",
       "      <td>0.00</td>\n",
       "      <td>0.30</td>\n",
       "      <td>0.12</td>\n",
       "      <td>0.00</td>\n",
       "      <td>support</td>\n",
       "      <td>low</td>\n",
       "    </tr>\n",
       "    <tr>\n",
       "      <th>14996</th>\n",
       "      <td>0.27</td>\n",
       "      <td>0.00</td>\n",
       "      <td>0.22</td>\n",
       "      <td>0.12</td>\n",
       "      <td>0.00</td>\n",
       "      <td>support</td>\n",
       "      <td>low</td>\n",
       "    </tr>\n",
       "    <tr>\n",
       "      <th>14997</th>\n",
       "      <td>0.94</td>\n",
       "      <td>0.80</td>\n",
       "      <td>0.86</td>\n",
       "      <td>0.25</td>\n",
       "      <td>0.00</td>\n",
       "      <td>support</td>\n",
       "      <td>low</td>\n",
       "    </tr>\n",
       "    <tr>\n",
       "      <th>14998</th>\n",
       "      <td>0.25</td>\n",
       "      <td>0.00</td>\n",
       "      <td>0.29</td>\n",
       "      <td>0.12</td>\n",
       "      <td>0.00</td>\n",
       "      <td>support</td>\n",
       "      <td>low</td>\n",
       "    </tr>\n",
       "  </tbody>\n",
       "</table>\n",
       "<p>14999 rows × 7 columns</p>\n",
       "</div>"
      ],
      "text/plain": [
       "       last_evaluation  number_project  average_montly_hours  \\\n",
       "0                 0.27            0.00                  0.29   \n",
       "1                 0.78            0.60                  0.78   \n",
       "2                 0.81            1.00                  0.82   \n",
       "3                 0.80            0.60                  0.59   \n",
       "4                 0.25            0.00                  0.29   \n",
       "...                ...             ...                   ...   \n",
       "14994             0.33            0.00                  0.26   \n",
       "14995             0.19            0.00                  0.30   \n",
       "14996             0.27            0.00                  0.22   \n",
       "14997             0.94            0.80                  0.86   \n",
       "14998             0.25            0.00                  0.29   \n",
       "\n",
       "       time_spend_company  Work_accident    sales  salary  \n",
       "0                    0.12           0.00    sales     low  \n",
       "1                    0.50           0.00    sales  medium  \n",
       "2                    0.25           0.00    sales  medium  \n",
       "3                    0.38           0.00    sales     low  \n",
       "4                    0.12           0.00    sales     low  \n",
       "...                   ...            ...      ...     ...  \n",
       "14994                0.12           0.00  support     low  \n",
       "14995                0.12           0.00  support     low  \n",
       "14996                0.12           0.00  support     low  \n",
       "14997                0.25           0.00  support     low  \n",
       "14998                0.12           0.00  support     low  \n",
       "\n",
       "[14999 rows x 7 columns]"
      ]
     },
     "execution_count": 198,
     "metadata": {},
     "output_type": "execute_result"
    }
   ],
   "source": [
    "cat_df_scaled[df_features]"
   ]
  },
  {
   "cell_type": "code",
   "execution_count": 202,
   "metadata": {
    "id": "umjLfKc8UjMv"
   },
   "outputs": [
    {
     "data": {
      "application/vnd.jupyter.widget-view+json": {
       "model_id": "2846b926dbce4e69b7ddccaa4e8e01c0",
       "version_major": 2,
       "version_minor": 0
      },
      "text/plain": [
       "MetricVisualizer(layout=Layout(align_self='stretch', height='500px'))"
      ]
     },
     "metadata": {},
     "output_type": "display_data"
    },
    {
     "name": "stdout",
     "output_type": "stream",
     "text": [
      "Training on fold [0/5]\n",
      "\n",
      "bestTest = 0.1742903739\n",
      "bestIteration = 329\n",
      "\n",
      "Training on fold [1/5]\n",
      "\n",
      "bestTest = 0.1720130863\n",
      "bestIteration = 353\n",
      "\n",
      "Training on fold [2/5]\n",
      "\n",
      "bestTest = 0.1730264603\n",
      "bestIteration = 279\n",
      "\n",
      "Training on fold [3/5]\n",
      "\n",
      "bestTest = 0.172597473\n",
      "bestIteration = 293\n",
      "\n",
      "Training on fold [4/5]\n",
      "\n",
      "bestTest = 0.1732887516\n",
      "bestIteration = 348\n",
      "\n"
     ]
    }
   ],
   "source": [
    "# Implementing cross validation\n",
    "\n",
    "cat_train_data = Pool(\n",
    "    data = cat_df_scaled[df_features],\n",
    "    label = df[target],\n",
    "    cat_features = categorical_indicies\n",
    ")\n",
    "\n",
    "cv_data = cv(\n",
    "    pool = cat_train_data,\n",
    "    params = params_cat,\n",
    "    fold_count = 5,\n",
    "    shuffle = True,\n",
    "    partition_random_seed = 777,\n",
    "    plot = True,\n",
    "    stratified = True, \n",
    "    verbose = False\n",
    ")"
   ]
  },
  {
   "cell_type": "code",
   "execution_count": 204,
   "metadata": {
    "id": "bckVwDpbXJdR"
   },
   "outputs": [
    {
     "data": {
      "text/plain": [
       "<catboost.core.CatBoostRegressor at 0x224b26d4320>"
      ]
     },
     "execution_count": 204,
     "metadata": {},
     "output_type": "execute_result"
    }
   ],
   "source": [
    "# Creating the model with best hyperparameters\n",
    "\n",
    "cat_model = CatBoostRegressor(\n",
    "                        random_state = 777,\n",
    "                        **params_cat)\n",
    "\n",
    "cat_model.fit(cat_train_data, verbose = False)"
   ]
  },
  {
   "cell_type": "code",
   "execution_count": 205,
   "metadata": {
    "colab": {
     "base_uri": "https://localhost:8080/",
     "height": 571
    },
    "id": "0q6pcEBAo60f",
    "outputId": "d05c7262-d19c-4102-e7ec-ba8c279b90a3"
   },
   "outputs": [
    {
     "data": {
      "text/plain": [
       "Text(0.5, 1.0, 'Feature Importance')"
      ]
     },
     "execution_count": 205,
     "metadata": {},
     "output_type": "execute_result"
    },
    {
     "data": {
      "image/png": "[encoded data removed]",
      "text/plain": [
       "<Figure size 1200x600 with 1 Axes>"
      ]
     },
     "metadata": {},
     "output_type": "display_data"
    }
   ],
   "source": [
    "# Plotting feature importance\n",
    "\n",
    "feature_importance = cat_model.feature_importances_\n",
    "sorted_idx = np.argsort(feature_importance)\n",
    "\n",
    "fig = plt.figure(figsize=(12, 6))\n",
    "plt.barh(np.array(df_features)[sorted_idx], feature_importance[sorted_idx])\n",
    "plt.title('Feature Importance')"
   ]
  },
  {
   "cell_type": "markdown",
   "metadata": {},
   "source": [
    "# **BaggingRegressor**"
   ]
  },
  {
   "cell_type": "code",
   "execution_count": null,
   "metadata": {},
   "outputs": [
    {
     "name": "stderr",
     "output_type": "stream",
     "text": [
      "[I 2024-05-19 23:41:49,685] A new study created in memory with name: RFR\n",
      "[I 2024-05-19 23:42:05,204] Trial 0 finished with value: 0.17074813686866802 and parameters: {'scalers': None, 'n_estimators': 931, 'max_depth': 112, 'max_features': 'sqrt'}. Best is trial 0 with value: 0.17074813686866802.\n",
      "[I 2024-05-19 23:42:16,476] Trial 1 finished with value: 0.17090043803856325 and parameters: {'scalers': None, 'n_estimators': 645, 'max_depth': 106, 'max_features': 'sqrt'}. Best is trial 0 with value: 0.17074813686866802.\n",
      "[I 2024-05-19 23:42:54,998] Trial 2 finished with value: 0.17155806344955274 and parameters: {'scalers': None, 'n_estimators': 889, 'max_depth': 97, 'max_features': None}. Best is trial 0 with value: 0.17074813686866802.\n",
      "[I 2024-05-19 23:42:56,152] Trial 3 finished with value: 0.17127297651233828 and parameters: {'scalers': 'maxabs', 'n_estimators': 62, 'max_depth': 83, 'max_features': 'sqrt'}. Best is trial 0 with value: 0.17074813686866802.\n",
      "[I 2024-05-19 23:43:06,515] Trial 4 finished with value: 0.17186624640732465 and parameters: {'scalers': None, 'n_estimators': 232, 'max_depth': 88, 'max_features': None}. Best is trial 0 with value: 0.17074813686866802.\n",
      "[I 2024-05-19 23:43:07,776] Trial 5 finished with value: 0.17096445610622066 and parameters: {'scalers': 'standard', 'n_estimators': 75, 'max_depth': 68, 'max_features': 'sqrt'}. Best is trial 0 with value: 0.17074813686866802.\n",
      "[I 2024-05-19 23:43:19,754] Trial 6 finished with value: 0.1707290853190409 and parameters: {'scalers': 'minmax', 'n_estimators': 708, 'max_depth': 127, 'max_features': 'log2'}. Best is trial 6 with value: 0.1707290853190409.\n",
      "[I 2024-05-19 23:43:56,981] Trial 7 finished with value: 0.17152460302330608 and parameters: {'scalers': 'maxabs', 'n_estimators': 898, 'max_depth': 51, 'max_features': None}. Best is trial 6 with value: 0.1707290853190409.\n",
      "[I 2024-05-19 23:43:57,867] Trial 8 finished with value: 0.17142909246912236 and parameters: {'scalers': 'minmax', 'n_estimators': 57, 'max_depth': 119, 'max_features': 'sqrt'}. Best is trial 6 with value: 0.1707290853190409.\n",
      "[I 2024-05-19 23:44:12,872] Trial 9 finished with value: 0.17079535074777374 and parameters: {'scalers': 'robust', 'n_estimators': 967, 'max_depth': 147, 'max_features': 'log2'}. Best is trial 6 with value: 0.1707290853190409.\n",
      "[I 2024-05-19 23:44:21,247] Trial 10 finished with value: 0.17083957947431425 and parameters: {'scalers': 'minmax', 'n_estimators': 542, 'max_depth': 83, 'max_features': 'log2'}. Best is trial 6 with value: 0.1707290853190409.\n",
      "[I 2024-05-19 23:44:35,183] Trial 11 finished with value: 0.17062334715281377 and parameters: {'scalers': 'minmax', 'n_estimators': 916, 'max_depth': 118, 'max_features': 'sqrt'}. Best is trial 11 with value: 0.17062334715281377.\n",
      "[I 2024-05-19 23:45:06,930] Trial 12 finished with value: 0.17150766708419446 and parameters: {'scalers': 'minmax', 'n_estimators': 789, 'max_depth': 130, 'max_features': None}. Best is trial 11 with value: 0.17062334715281377.\n",
      "[I 2024-05-19 23:45:22,142] Trial 13 finished with value: 0.17064301344387206 and parameters: {'scalers': 'minmax', 'n_estimators': 986, 'max_depth': 136, 'max_features': 'sqrt'}. Best is trial 11 with value: 0.17062334715281377.\n",
      "[I 2024-05-19 23:45:36,972] Trial 14 finished with value: 0.17063558174883928 and parameters: {'scalers': 'minmax', 'n_estimators': 968, 'max_depth': 109, 'max_features': 'sqrt'}. Best is trial 11 with value: 0.17062334715281377.\n",
      "[I 2024-05-19 23:45:49,952] Trial 15 finished with value: 0.17062468950820942 and parameters: {'scalers': 'minmax', 'n_estimators': 841, 'max_depth': 79, 'max_features': 'sqrt'}. Best is trial 11 with value: 0.17062334715281377.\n",
      "[I 2024-05-19 23:45:55,698] Trial 16 finished with value: 0.17103711429030347 and parameters: {'scalers': 'minmax', 'n_estimators': 429, 'max_depth': 21, 'max_features': 'sqrt'}. Best is trial 11 with value: 0.17062334715281377.\n",
      "[I 2024-05-19 23:46:07,713] Trial 17 finished with value: 0.17069565877424717 and parameters: {'scalers': 'minmax', 'n_estimators': 778, 'max_depth': 66, 'max_features': 'sqrt'}. Best is trial 11 with value: 0.17062334715281377.\n",
      "[I 2024-05-19 23:46:22,670] Trial 18 finished with value: 0.17047930629861402 and parameters: {'scalers': None, 'n_estimators': 998, 'max_depth': 27, 'max_features': 'sqrt'}. Best is trial 18 with value: 0.17047930629861402.\n",
      "[I 2024-05-19 23:46:27,652] Trial 19 finished with value: 0.17879198784021114 and parameters: {'scalers': 'standard', 'n_estimators': 785, 'max_depth': 11, 'max_features': 'sqrt'}. Best is trial 18 with value: 0.17047930629861402.\n",
      "[I 2024-05-19 23:46:41,754] Trial 20 finished with value: 0.17057318847356034 and parameters: {'scalers': None, 'n_estimators': 879, 'max_depth': 33, 'max_features': 'sqrt'}. Best is trial 18 with value: 0.17047930629861402.\n",
      "[I 2024-05-19 23:46:55,995] Trial 21 finished with value: 0.17050679151563367 and parameters: {'scalers': None, 'n_estimators': 923, 'max_depth': 23, 'max_features': 'sqrt'}. Best is trial 18 with value: 0.17047930629861402.\n",
      "[I 2024-05-19 23:47:11,500] Trial 22 finished with value: 0.1707437392043175 and parameters: {'scalers': None, 'n_estimators': 986, 'max_depth': 37, 'max_features': 'sqrt'}. Best is trial 18 with value: 0.17047930629861402.\n",
      "[I 2024-05-19 23:47:18,599] Trial 23 finished with value: 0.17634003319035144 and parameters: {'scalers': None, 'n_estimators': 927, 'max_depth': 13, 'max_features': 'log2'}. Best is trial 18 with value: 0.17047930629861402.\n",
      "[I 2024-05-19 23:47:27,376] Trial 24 finished with value: 0.1709572464488998 and parameters: {'scalers': None, 'n_estimators': 575, 'max_depth': 40, 'max_features': 'sqrt'}. Best is trial 18 with value: 0.17047930629861402.\n",
      "[I 2024-05-19 23:47:37,059] Trial 25 finished with value: 0.17243610299060622 and parameters: {'scalers': 'maxabs', 'n_estimators': 878, 'max_depth': 17, 'max_features': 'sqrt'}. Best is trial 18 with value: 0.17047930629861402.\n",
      "[I 2024-05-19 23:47:48,084] Trial 26 finished with value: 0.17087496618012873 and parameters: {'scalers': 'robust', 'n_estimators': 728, 'max_depth': 41, 'max_features': 'sqrt'}. Best is trial 18 with value: 0.17047930629861402.\n",
      "[I 2024-05-19 23:48:25,091] Trial 27 finished with value: 0.17154231107186418 and parameters: {'scalers': None, 'n_estimators': 919, 'max_depth': 39, 'max_features': None}. Best is trial 18 with value: 0.17047930629861402.\n",
      "[I 2024-05-19 23:48:34,201] Trial 28 finished with value: 0.1741629899981338 and parameters: {'scalers': 'robust', 'n_estimators': 989, 'max_depth': 15, 'max_features': 'sqrt'}. Best is trial 18 with value: 0.17047930629861402.\n",
      "[I 2024-05-19 23:48:43,040] Trial 29 finished with value: 0.17106680899651394 and parameters: {'scalers': None, 'n_estimators': 699, 'max_depth': 20, 'max_features': 'sqrt'}. Best is trial 18 with value: 0.17047930629861402.\n",
      "[I 2024-05-19 23:48:57,272] Trial 30 finished with value: 0.1707088044839079 and parameters: {'scalers': 'standard', 'n_estimators': 928, 'max_depth': 66, 'max_features': 'log2'}. Best is trial 18 with value: 0.17047930629861402.\n",
      "[I 2024-05-19 23:49:02,990] Trial 31 finished with value: 0.1804082306807222 and parameters: {'scalers': None, 'n_estimators': 998, 'max_depth': 10, 'max_features': 'sqrt'}. Best is trial 18 with value: 0.17047930629861402.\n",
      "[I 2024-05-19 23:49:17,722] Trial 32 finished with value: 0.17060641854682887 and parameters: {'scalers': 'minmax', 'n_estimators': 964, 'max_depth': 30, 'max_features': 'sqrt'}. Best is trial 18 with value: 0.17047930629861402.\n",
      "[I 2024-05-19 23:49:28,942] Trial 33 finished with value: 0.17047199957999185 and parameters: {'scalers': 'minmax', 'n_estimators': 736, 'max_depth': 31, 'max_features': 'sqrt'}. Best is trial 33 with value: 0.17047199957999185.\n",
      "[I 2024-05-19 23:49:34,293] Trial 34 finished with value: 0.17637861355992107 and parameters: {'scalers': 'minmax', 'n_estimators': 705, 'max_depth': 13, 'max_features': 'log2'}. Best is trial 33 with value: 0.17047199957999185.\n",
      "[I 2024-05-19 23:49:38,715] Trial 35 finished with value: 0.17110685127012043 and parameters: {'scalers': 'robust', 'n_estimators': 284, 'max_depth': 130, 'max_features': 'log2'}. Best is trial 33 with value: 0.17047199957999185.\n",
      "[I 2024-05-19 23:49:53,695] Trial 36 finished with value: 0.17075267076563516 and parameters: {'scalers': 'standard', 'n_estimators': 988, 'max_depth': 43, 'max_features': 'sqrt'}. Best is trial 33 with value: 0.17047199957999185.\n",
      "[I 2024-05-19 23:50:24,474] Trial 37 finished with value: 0.17146256329061452 and parameters: {'scalers': 'minmax', 'n_estimators': 780, 'max_depth': 28, 'max_features': None}. Best is trial 33 with value: 0.17047199957999185.\n",
      "[I 2024-05-19 23:50:35,740] Trial 38 finished with value: 0.17075678665439104 and parameters: {'scalers': 'minmax', 'n_estimators': 741, 'max_depth': 34, 'max_features': 'sqrt'}. Best is trial 33 with value: 0.17047199957999185.\n",
      "[I 2024-05-19 23:50:49,023] Trial 39 finished with value: 0.17079986834811395 and parameters: {'scalers': None, 'n_estimators': 827, 'max_depth': 64, 'max_features': 'log2'}. Best is trial 33 with value: 0.17047199957999185.\n",
      "[I 2024-05-19 23:51:03,284] Trial 40 finished with value: 0.17079188958037173 and parameters: {'scalers': None, 'n_estimators': 845, 'max_depth': 68, 'max_features': 'sqrt'}. Best is trial 33 with value: 0.17047199957999185.\n",
      "[I 2024-05-19 23:51:16,966] Trial 41 finished with value: 0.17063963458015502 and parameters: {'scalers': 'minmax', 'n_estimators': 881, 'max_depth': 30, 'max_features': 'sqrt'}. Best is trial 33 with value: 0.17047199957999185.\n",
      "[I 2024-05-19 23:51:31,851] Trial 42 finished with value: 0.1708033790363846 and parameters: {'scalers': 'robust', 'n_estimators': 975, 'max_depth': 43, 'max_features': 'log2'}. Best is trial 33 with value: 0.17047199957999185.\n",
      "[I 2024-05-19 23:51:47,229] Trial 43 finished with value: 0.17062016819565828 and parameters: {'scalers': 'minmax', 'n_estimators': 998, 'max_depth': 39, 'max_features': 'sqrt'}. Best is trial 33 with value: 0.17047199957999185.\n",
      "[I 2024-05-19 23:52:03,761] Trial 44 finished with value: 0.17753886907526506 and parameters: {'scalers': 'standard', 'n_estimators': 952, 'max_depth': 11, 'max_features': None}. Best is trial 33 with value: 0.17047199957999185.\n",
      "[I 2024-05-19 23:52:15,183] Trial 45 finished with value: 0.17085329240138974 and parameters: {'scalers': 'maxabs', 'n_estimators': 744, 'max_depth': 60, 'max_features': 'sqrt'}. Best is trial 33 with value: 0.17047199957999185.\n",
      "[I 2024-05-19 23:52:23,010] Trial 46 finished with value: 0.17106859256379278 and parameters: {'scalers': 'robust', 'n_estimators': 512, 'max_depth': 148, 'max_features': 'sqrt'}. Best is trial 33 with value: 0.17047199957999185.\n",
      "[I 2024-05-19 23:52:31,818] Trial 47 finished with value: 0.1716836804563355 and parameters: {'scalers': 'standard', 'n_estimators': 218, 'max_depth': 48, 'max_features': None}. Best is trial 33 with value: 0.17047199957999185.\n",
      "[I 2024-05-19 23:52:43,901] Trial 48 finished with value: 0.17089527257321296 and parameters: {'scalers': None, 'n_estimators': 793, 'max_depth': 26, 'max_features': 'sqrt'}. Best is trial 33 with value: 0.17047199957999185.\n",
      "[I 2024-05-19 23:52:44,945] Trial 49 finished with value: 0.17115254017803833 and parameters: {'scalers': 'standard', 'n_estimators': 67, 'max_depth': 126, 'max_features': 'log2'}. Best is trial 33 with value: 0.17047199957999185.\n",
      "[I 2024-05-19 23:52:59,863] Trial 50 finished with value: 0.17060253792383542 and parameters: {'scalers': 'minmax', 'n_estimators': 961, 'max_depth': 30, 'max_features': 'log2'}. Best is trial 33 with value: 0.17047199957999185.\n",
      "[I 2024-05-19 23:53:11,895] Trial 51 finished with value: 0.1706602693717597 and parameters: {'scalers': 'minmax', 'n_estimators': 787, 'max_depth': 41, 'max_features': 'log2'}. Best is trial 33 with value: 0.17047199957999185.\n",
      "[I 2024-05-19 23:53:26,428] Trial 52 finished with value: 0.1707606993120258 and parameters: {'scalers': None, 'n_estimators': 944, 'max_depth': 51, 'max_features': 'sqrt'}. Best is trial 33 with value: 0.17047199957999185.\n",
      "[I 2024-05-19 23:53:41,654] Trial 53 finished with value: 0.1706215622139301 and parameters: {'scalers': 'minmax', 'n_estimators': 1000, 'max_depth': 56, 'max_features': 'log2'}. Best is trial 33 with value: 0.17047199957999185.\n",
      "[I 2024-05-19 23:53:56,087] Trial 54 finished with value: 0.17083011247592833 and parameters: {'scalers': 'maxabs', 'n_estimators': 931, 'max_depth': 32, 'max_features': 'log2'}. Best is trial 33 with value: 0.17047199957999185.\n",
      "[I 2024-05-19 23:53:58,234] Trial 55 finished with value: 0.17111023345723364 and parameters: {'scalers': None, 'n_estimators': 169, 'max_depth': 20, 'max_features': 'log2'}. Best is trial 33 with value: 0.17047199957999185.\n",
      "[I 2024-05-19 23:54:11,919] Trial 56 finished with value: 0.17071566731491192 and parameters: {'scalers': None, 'n_estimators': 900, 'max_depth': 30, 'max_features': 'sqrt'}. Best is trial 33 with value: 0.17047199957999185.\n",
      "[I 2024-05-19 23:54:32,666] Trial 57 finished with value: 0.1714987441498344 and parameters: {'scalers': 'minmax', 'n_estimators': 506, 'max_depth': 80, 'max_features': None}. Best is trial 33 with value: 0.17047199957999185.\n",
      "[I 2024-05-19 23:54:46,763] Trial 58 finished with value: 0.17050055770975545 and parameters: {'scalers': 'minmax', 'n_estimators': 937, 'max_depth': 28, 'max_features': 'log2'}. Best is trial 33 with value: 0.17047199957999185.\n",
      "[I 2024-05-19 23:54:59,681] Trial 59 finished with value: 0.1704672381827229 and parameters: {'scalers': 'minmax', 'n_estimators': 854, 'max_depth': 27, 'max_features': 'log2'}. Best is trial 59 with value: 0.1704672381827229.\n",
      "[I 2024-05-19 23:55:33,493] Trial 60 finished with value: 0.17147259208277302 and parameters: {'scalers': 'standard', 'n_estimators': 833, 'max_depth': 117, 'max_features': None}. Best is trial 59 with value: 0.1704672381827229.\n",
      "[I 2024-05-19 23:55:46,310] Trial 61 finished with value: 0.1707592452689522 and parameters: {'scalers': 'minmax', 'n_estimators': 957, 'max_depth': 21, 'max_features': 'log2'}. Best is trial 59 with value: 0.1704672381827229.\n",
      "[I 2024-05-19 23:55:59,838] Trial 62 finished with value: 0.1704099519756974 and parameters: {'scalers': 'minmax', 'n_estimators': 900, 'max_depth': 27, 'max_features': 'log2'}. Best is trial 62 with value: 0.1704099519756974.\n",
      "[I 2024-05-19 23:56:05,384] Trial 63 finished with value: 0.1719779846865551 and parameters: {'scalers': None, 'n_estimators': 135, 'max_depth': 146, 'max_features': None}. Best is trial 62 with value: 0.1704099519756974.\n",
      "[I 2024-05-19 23:56:14,683] Trial 64 finished with value: 0.1718838646354942 and parameters: {'scalers': 'standard', 'n_estimators': 797, 'max_depth': 18, 'max_features': 'log2'}. Best is trial 62 with value: 0.1704099519756974.\n",
      "[I 2024-05-19 23:56:19,406] Trial 65 finished with value: 0.1777570520446169 and parameters: {'scalers': 'robust', 'n_estimators': 668, 'max_depth': 12, 'max_features': 'log2'}. Best is trial 62 with value: 0.1704099519756974.\n",
      "[I 2024-05-19 23:56:58,605] Trial 66 finished with value: 0.17165165367689733 and parameters: {'scalers': 'robust', 'n_estimators': 958, 'max_depth': 51, 'max_features': None}. Best is trial 62 with value: 0.1704099519756974.\n",
      "[I 2024-05-19 23:57:12,976] Trial 67 finished with value: 0.1707346996062411 and parameters: {'scalers': 'maxabs', 'n_estimators': 920, 'max_depth': 117, 'max_features': 'log2'}. Best is trial 62 with value: 0.1704099519756974.\n",
      "[I 2024-05-19 23:57:16,591] Trial 68 finished with value: 0.18051153349754162 and parameters: {'scalers': 'minmax', 'n_estimators': 624, 'max_depth': 10, 'max_features': 'sqrt'}. Best is trial 62 with value: 0.1704099519756974.\n",
      "[I 2024-05-19 23:57:28,661] Trial 69 finished with value: 0.17048829873605156 and parameters: {'scalers': 'minmax', 'n_estimators': 833, 'max_depth': 24, 'max_features': 'log2'}. Best is trial 62 with value: 0.1704099519756974.\n",
      "[I 2024-05-19 23:57:36,348] Trial 70 finished with value: 0.17097466063225536 and parameters: {'scalers': 'standard', 'n_estimators': 506, 'max_depth': 73, 'max_features': 'sqrt'}. Best is trial 62 with value: 0.1704099519756974.\n",
      "[I 2024-05-19 23:57:49,709] Trial 71 finished with value: 0.170751626350964 and parameters: {'scalers': 'minmax', 'n_estimators': 807, 'max_depth': 32, 'max_features': 'log2'}. Best is trial 62 with value: 0.1704099519756974.\n",
      "[I 2024-05-19 23:57:58,776] Trial 72 finished with value: 0.1706589311970149 and parameters: {'scalers': None, 'n_estimators': 590, 'max_depth': 23, 'max_features': 'log2'}. Best is trial 62 with value: 0.1704099519756974.\n",
      "[I 2024-05-19 23:58:41,744] Trial 73 finished with value: 0.1713907802644928 and parameters: {'scalers': 'minmax', 'n_estimators': 974, 'max_depth': 65, 'max_features': None}. Best is trial 62 with value: 0.1704099519756974.\n",
      "[I 2024-05-19 23:58:52,823] Trial 74 finished with value: 0.17180371086159435 and parameters: {'scalers': 'minmax', 'n_estimators': 905, 'max_depth': 18, 'max_features': 'log2'}. Best is trial 62 with value: 0.1704099519756974.\n",
      "[I 2024-05-19 23:59:07,678] Trial 75 finished with value: 0.1707248528055322 and parameters: {'scalers': None, 'n_estimators': 896, 'max_depth': 37, 'max_features': 'log2'}. Best is trial 62 with value: 0.1704099519756974.\n",
      "[I 2024-05-19 23:59:33,661] Trial 76 finished with value: 0.17162147784066886 and parameters: {'scalers': None, 'n_estimators': 616, 'max_depth': 42, 'max_features': None}. Best is trial 62 with value: 0.1704099519756974.\n",
      "[I 2024-05-19 23:59:58,769] Trial 77 finished with value: 0.17380243880010582 and parameters: {'scalers': 'minmax', 'n_estimators': 905, 'max_depth': 16, 'max_features': None}. Best is trial 62 with value: 0.1704099519756974.\n",
      "[I 2024-05-20 00:00:10,347] Trial 78 finished with value: 0.17074578688408298 and parameters: {'scalers': 'minmax', 'n_estimators': 680, 'max_depth': 68, 'max_features': 'log2'}. Best is trial 62 with value: 0.1704099519756974.\n",
      "[I 2024-05-20 00:00:36,781] Trial 79 finished with value: 0.17176177610490032 and parameters: {'scalers': 'robust', 'n_estimators': 648, 'max_depth': 99, 'max_features': None}. Best is trial 62 with value: 0.1704099519756974.\n",
      "[I 2024-05-20 00:00:52,312] Trial 80 finished with value: 0.1715778797816163 and parameters: {'scalers': 'maxabs', 'n_estimators': 377, 'max_depth': 136, 'max_features': None}. Best is trial 62 with value: 0.1704099519756974.\n",
      "[I 2024-05-20 00:01:07,568] Trial 81 finished with value: 0.17057901873155143 and parameters: {'scalers': 'minmax', 'n_estimators': 975, 'max_depth': 34, 'max_features': 'log2'}. Best is trial 62 with value: 0.1704099519756974.\n",
      "[I 2024-05-20 00:01:23,378] Trial 82 finished with value: 0.17069150402540764 and parameters: {'scalers': None, 'n_estimators': 997, 'max_depth': 36, 'max_features': 'sqrt'}. Best is trial 62 with value: 0.1704099519756974.\n",
      "[I 2024-05-20 00:01:36,359] Trial 83 finished with value: 0.17053259276383215 and parameters: {'scalers': 'minmax', 'n_estimators': 788, 'max_depth': 25, 'max_features': 'log2'}. Best is trial 62 with value: 0.1704099519756974.\n",
      "[I 2024-05-20 00:01:45,983] Trial 84 finished with value: 0.17082390026948413 and parameters: {'scalers': 'minmax', 'n_estimators': 574, 'max_depth': 30, 'max_features': 'log2'}. Best is trial 62 with value: 0.1704099519756974.\n",
      "[I 2024-05-20 00:01:58,336] Trial 85 finished with value: 0.1706972947296857 and parameters: {'scalers': 'minmax', 'n_estimators': 766, 'max_depth': 41, 'max_features': 'log2'}. Best is trial 62 with value: 0.1704099519756974.\n",
      "[I 2024-05-20 00:02:05,349] Trial 86 finished with value: 0.17098245872010398 and parameters: {'scalers': 'maxabs', 'n_estimators': 449, 'max_depth': 65, 'max_features': 'log2'}. Best is trial 62 with value: 0.1704099519756974.\n",
      "[I 2024-05-20 00:02:08,668] Trial 87 finished with value: 0.1710632918478958 and parameters: {'scalers': 'robust', 'n_estimators': 213, 'max_depth': 74, 'max_features': 'log2'}. Best is trial 62 with value: 0.1704099519756974.\n",
      "[I 2024-05-20 00:02:13,442] Trial 88 finished with value: 0.18049716584039066 and parameters: {'scalers': 'minmax', 'n_estimators': 787, 'max_depth': 10, 'max_features': 'log2'}. Best is trial 62 with value: 0.1704099519756974.\n",
      "[I 2024-05-20 00:02:24,580] Trial 89 finished with value: 0.17067701906701097 and parameters: {'scalers': 'maxabs', 'n_estimators': 711, 'max_depth': 22, 'max_features': 'log2'}. Best is trial 62 with value: 0.1704099519756974.\n",
      "[I 2024-05-20 00:02:25,715] Trial 90 finished with value: 0.17108219287599682 and parameters: {'scalers': 'robust', 'n_estimators': 69, 'max_depth': 139, 'max_features': 'sqrt'}. Best is trial 62 with value: 0.1704099519756974.\n",
      "[I 2024-05-20 00:02:40,668] Trial 91 finished with value: 0.17060678498447307 and parameters: {'scalers': 'minmax', 'n_estimators': 882, 'max_depth': 54, 'max_features': 'log2'}. Best is trial 62 with value: 0.1704099519756974.\n",
      "[I 2024-05-20 00:02:57,241] Trial 92 finished with value: 0.17059757557036964 and parameters: {'scalers': 'minmax', 'n_estimators': 969, 'max_depth': 35, 'max_features': 'log2'}. Best is trial 62 with value: 0.1704099519756974.\n",
      "[I 2024-05-20 00:03:04,087] Trial 93 finished with value: 0.17764776757852518 and parameters: {'scalers': None, 'n_estimators': 937, 'max_depth': 12, 'max_features': 'sqrt'}. Best is trial 62 with value: 0.1704099519756974.\n",
      "[I 2024-05-20 00:03:20,827] Trial 94 finished with value: 0.1759946518760045 and parameters: {'scalers': None, 'n_estimators': 786, 'max_depth': 13, 'max_features': None}. Best is trial 62 with value: 0.1704099519756974.\n",
      "[I 2024-05-20 00:03:32,993] Trial 95 finished with value: 0.17047980667300788 and parameters: {'scalers': 'minmax', 'n_estimators': 785, 'max_depth': 33, 'max_features': 'log2'}. Best is trial 62 with value: 0.1704099519756974.\n",
      "[I 2024-05-20 00:03:43,774] Trial 96 finished with value: 0.17074244979929917 and parameters: {'scalers': 'minmax', 'n_estimators': 600, 'max_depth': 40, 'max_features': 'sqrt'}. Best is trial 62 with value: 0.1704099519756974.\n",
      "[I 2024-05-20 00:03:56,040] Trial 97 finished with value: 0.17059589787949975 and parameters: {'scalers': 'minmax', 'n_estimators': 728, 'max_depth': 29, 'max_features': 'log2'}. Best is trial 62 with value: 0.1704099519756974.\n",
      "[I 2024-05-20 00:04:07,460] Trial 98 finished with value: 0.1708938360789059 and parameters: {'scalers': 'robust', 'n_estimators': 720, 'max_depth': 48, 'max_features': 'log2'}. Best is trial 62 with value: 0.1704099519756974.\n",
      "[I 2024-05-20 00:04:17,498] Trial 99 finished with value: 0.17330371842948714 and parameters: {'scalers': 'robust', 'n_estimators': 969, 'max_depth': 16, 'max_features': 'log2'}. Best is trial 62 with value: 0.1704099519756974.\n",
      "[I 2024-05-20 00:04:27,219] Trial 100 finished with value: 0.1708763813573182 and parameters: {'scalers': 'standard', 'n_estimators': 610, 'max_depth': 127, 'max_features': 'sqrt'}. Best is trial 62 with value: 0.1704099519756974.\n",
      "[I 2024-05-20 00:04:42,976] Trial 101 finished with value: 0.1705043223446407 and parameters: {'scalers': 'standard', 'n_estimators': 936, 'max_depth': 33, 'max_features': 'log2'}. Best is trial 62 with value: 0.1704099519756974.\n",
      "[I 2024-05-20 00:04:55,433] Trial 102 finished with value: 0.17080954510703128 and parameters: {'scalers': 'standard', 'n_estimators': 774, 'max_depth': 67, 'max_features': 'log2'}. Best is trial 62 with value: 0.1704099519756974.\n",
      "[I 2024-05-20 00:05:07,945] Trial 103 finished with value: 0.17053740714103682 and parameters: {'scalers': 'minmax', 'n_estimators': 797, 'max_depth': 25, 'max_features': 'log2'}. Best is trial 62 with value: 0.1704099519756974.\n",
      "[I 2024-05-20 00:05:22,114] Trial 104 finished with value: 0.17070294746869494 and parameters: {'scalers': 'standard', 'n_estimators': 883, 'max_depth': 42, 'max_features': 'log2'}. Best is trial 62 with value: 0.1704099519756974.\n",
      "[I 2024-05-20 00:05:33,275] Trial 105 finished with value: 0.17230791683681365 and parameters: {'scalers': 'standard', 'n_estimators': 996, 'max_depth': 17, 'max_features': 'log2'}. Best is trial 62 with value: 0.1704099519756974.\n",
      "[I 2024-05-20 00:05:39,634] Trial 106 finished with value: 0.17085421068063367 and parameters: {'scalers': 'minmax', 'n_estimators': 400, 'max_depth': 142, 'max_features': 'log2'}. Best is trial 62 with value: 0.1704099519756974.\n",
      "[I 2024-05-20 00:05:50,194] Trial 107 finished with value: 0.17184542249018317 and parameters: {'scalers': 'maxabs', 'n_estimators': 246, 'max_depth': 80, 'max_features': None}. Best is trial 62 with value: 0.1704099519756974.\n",
      "[I 2024-05-20 00:05:53,997] Trial 108 finished with value: 0.1723669878750674 and parameters: {'scalers': 'maxabs', 'n_estimators': 94, 'max_depth': 30, 'max_features': None}. Best is trial 62 with value: 0.1704099519756974.\n",
      "[I 2024-05-20 00:06:09,600] Trial 109 finished with value: 0.17437254736978464 and parameters: {'scalers': 'minmax', 'n_estimators': 553, 'max_depth': 15, 'max_features': None}. Best is trial 62 with value: 0.1704099519756974.\n",
      "[I 2024-05-20 00:06:20,035] Trial 110 finished with value: 0.17090518479312633 and parameters: {'scalers': 'minmax', 'n_estimators': 802, 'max_depth': 20, 'max_features': 'log2'}. Best is trial 62 with value: 0.1704099519756974.\n",
      "[I 2024-05-20 00:06:36,269] Trial 111 finished with value: 0.17061880924998432 and parameters: {'scalers': 'maxabs', 'n_estimators': 978, 'max_depth': 29, 'max_features': 'sqrt'}. Best is trial 62 with value: 0.1704099519756974.\n",
      "[I 2024-05-20 00:06:48,025] Trial 112 finished with value: 0.17072086177030474 and parameters: {'scalers': None, 'n_estimators': 742, 'max_depth': 28, 'max_features': 'sqrt'}. Best is trial 62 with value: 0.1704099519756974.\n",
      "[I 2024-05-20 00:06:59,944] Trial 113 finished with value: 0.17082021333122288 and parameters: {'scalers': 'minmax', 'n_estimators': 763, 'max_depth': 32, 'max_features': 'log2'}. Best is trial 62 with value: 0.1704099519756974.\n",
      "[I 2024-05-20 00:07:11,742] Trial 114 finished with value: 0.1708359432976961 and parameters: {'scalers': 'standard', 'n_estimators': 756, 'max_depth': 40, 'max_features': 'sqrt'}. Best is trial 62 with value: 0.1704099519756974.\n",
      "[I 2024-05-20 00:07:38,075] Trial 115 finished with value: 0.17152271246854736 and parameters: {'scalers': 'standard', 'n_estimators': 631, 'max_depth': 32, 'max_features': None}. Best is trial 62 with value: 0.1704099519756974.\n",
      "[I 2024-05-20 00:07:51,066] Trial 116 finished with value: 0.17043081951376607 and parameters: {'scalers': 'minmax', 'n_estimators': 841, 'max_depth': 33, 'max_features': 'log2'}. Best is trial 62 with value: 0.1704099519756974.\n",
      "[I 2024-05-20 00:08:03,954] Trial 117 finished with value: 0.17064042403466792 and parameters: {'scalers': 'minmax', 'n_estimators': 826, 'max_depth': 40, 'max_features': 'log2'}. Best is trial 62 with value: 0.1704099519756974.\n",
      "[I 2024-05-20 00:08:16,834] Trial 118 finished with value: 0.17058551109774778 and parameters: {'scalers': 'minmax', 'n_estimators': 813, 'max_depth': 29, 'max_features': 'sqrt'}. Best is trial 62 with value: 0.1704099519756974.\n",
      "[I 2024-05-20 00:08:22,361] Trial 119 finished with value: 0.18045342237208128 and parameters: {'scalers': 'minmax', 'n_estimators': 903, 'max_depth': 10, 'max_features': 'log2'}. Best is trial 62 with value: 0.1704099519756974.\n",
      "[I 2024-05-20 00:08:35,844] Trial 120 finished with value: 0.17063956122697035 and parameters: {'scalers': 'minmax', 'n_estimators': 830, 'max_depth': 41, 'max_features': 'log2'}. Best is trial 62 with value: 0.1704099519756974.\n",
      "[I 2024-05-20 00:08:50,159] Trial 121 finished with value: 0.170673319369295 and parameters: {'scalers': None, 'n_estimators': 877, 'max_depth': 36, 'max_features': 'sqrt'}. Best is trial 62 with value: 0.1704099519756974.\n",
      "[I 2024-05-20 00:09:05,846] Trial 122 finished with value: 0.17074625376206298 and parameters: {'scalers': 'standard', 'n_estimators': 974, 'max_depth': 46, 'max_features': 'log2'}. Best is trial 62 with value: 0.1704099519756974.\n",
      "[I 2024-05-20 00:09:11,886] Trial 123 finished with value: 0.17642466745845137 and parameters: {'scalers': None, 'n_estimators': 760, 'max_depth': 13, 'max_features': 'log2'}. Best is trial 62 with value: 0.1704099519756974.\n",
      "[I 2024-05-20 00:09:27,098] Trial 124 finished with value: 0.17075532929437034 and parameters: {'scalers': 'robust', 'n_estimators': 934, 'max_depth': 69, 'max_features': 'sqrt'}. Best is trial 62 with value: 0.1704099519756974.\n",
      "[I 2024-05-20 00:09:39,194] Trial 125 finished with value: 0.17080585770465365 and parameters: {'scalers': 'maxabs', 'n_estimators': 781, 'max_depth': 71, 'max_features': 'log2'}. Best is trial 62 with value: 0.1704099519756974.\n",
      "[I 2024-05-20 00:09:47,991] Trial 126 finished with value: 0.1715425992258201 and parameters: {'scalers': 'minmax', 'n_estimators': 672, 'max_depth': 19, 'max_features': 'log2'}. Best is trial 62 with value: 0.1704099519756974.\n",
      "[I 2024-05-20 00:10:00,315] Trial 127 finished with value: 0.1707213755993629 and parameters: {'scalers': 'minmax', 'n_estimators': 749, 'max_depth': 40, 'max_features': 'log2'}. Best is trial 62 with value: 0.1704099519756974.\n",
      "[I 2024-05-20 00:10:14,219] Trial 128 finished with value: 0.1704976831646322 and parameters: {'scalers': 'minmax', 'n_estimators': 868, 'max_depth': 29, 'max_features': 'log2'}. Best is trial 62 with value: 0.1704099519756974.\n",
      "[I 2024-05-20 00:10:27,493] Trial 129 finished with value: 0.17041057958978814 and parameters: {'scalers': 'minmax', 'n_estimators': 893, 'max_depth': 25, 'max_features': 'log2'}. Best is trial 62 with value: 0.1704099519756974.\n",
      "[I 2024-05-20 00:10:57,696] Trial 130 finished with value: 0.17152114639833568 and parameters: {'scalers': 'minmax', 'n_estimators': 740, 'max_depth': 53, 'max_features': None}. Best is trial 62 with value: 0.1704099519756974.\n",
      "[I 2024-05-20 00:11:04,284] Trial 131 finished with value: 0.17099885288421754 and parameters: {'scalers': None, 'n_estimators': 424, 'max_depth': 89, 'max_features': 'sqrt'}. Best is trial 62 with value: 0.1704099519756974.\n",
      "[I 2024-05-20 00:11:09,711] Trial 132 finished with value: 0.18045275519482262 and parameters: {'scalers': 'maxabs', 'n_estimators': 961, 'max_depth': 10, 'max_features': 'log2'}. Best is trial 62 with value: 0.1704099519756974.\n",
      "[I 2024-05-20 00:11:22,593] Trial 133 finished with value: 0.170469679571962 and parameters: {'scalers': 'minmax', 'n_estimators': 879, 'max_depth': 25, 'max_features': 'log2'}. Best is trial 62 with value: 0.1704099519756974.\n",
      "[I 2024-05-20 00:11:29,709] Trial 134 finished with value: 0.17498864776524803 and parameters: {'scalers': 'minmax', 'n_estimators': 852, 'max_depth': 14, 'max_features': 'log2'}. Best is trial 62 with value: 0.1704099519756974.\n",
      "[I 2024-05-20 00:11:45,259] Trial 135 finished with value: 0.17058617075246815 and parameters: {'scalers': 'minmax', 'n_estimators': 989, 'max_depth': 34, 'max_features': 'log2'}. Best is trial 62 with value: 0.1704099519756974.\n",
      "[I 2024-05-20 00:12:01,504] Trial 136 finished with value: 0.1707350874691486 and parameters: {'scalers': 'minmax', 'n_estimators': 910, 'max_depth': 32, 'max_features': 'log2'}. Best is trial 62 with value: 0.1704099519756974.\n",
      "[I 2024-05-20 00:12:15,478] Trial 137 finished with value: 0.17039856088432723 and parameters: {'scalers': 'minmax', 'n_estimators': 890, 'max_depth': 27, 'max_features': 'log2'}. Best is trial 137 with value: 0.17039856088432723.\n",
      "[I 2024-05-20 00:12:22,169] Trial 138 finished with value: 0.1776194946723512 and parameters: {'scalers': 'minmax', 'n_estimators': 914, 'max_depth': 12, 'max_features': 'log2'}. Best is trial 137 with value: 0.17039856088432723.\n",
      "[I 2024-05-20 00:12:37,239] Trial 139 finished with value: 0.17059613436691334 and parameters: {'scalers': 'minmax', 'n_estimators': 960, 'max_depth': 38, 'max_features': 'log2'}. Best is trial 137 with value: 0.17039856088432723.\n",
      "[I 2024-05-20 00:12:49,514] Trial 140 finished with value: 0.17066051153071382 and parameters: {'scalers': 'standard', 'n_estimators': 805, 'max_depth': 29, 'max_features': 'log2'}. Best is trial 137 with value: 0.17039856088432723.\n",
      "[I 2024-05-20 00:13:02,136] Trial 141 finished with value: 0.17067196979240462 and parameters: {'scalers': 'minmax', 'n_estimators': 786, 'max_depth': 43, 'max_features': 'log2'}. Best is trial 137 with value: 0.17039856088432723.\n",
      "[I 2024-05-20 00:13:07,030] Trial 142 finished with value: 0.18050056192578515 and parameters: {'scalers': 'minmax', 'n_estimators': 820, 'max_depth': 10, 'max_features': 'sqrt'}. Best is trial 137 with value: 0.17039856088432723.\n",
      "[I 2024-05-20 00:13:20,041] Trial 143 finished with value: 0.1706509691756181 and parameters: {'scalers': 'minmax', 'n_estimators': 811, 'max_depth': 46, 'max_features': 'log2'}. Best is trial 137 with value: 0.17039856088432723.\n",
      "[I 2024-05-20 00:13:32,074] Trial 144 finished with value: 0.17059606774983918 and parameters: {'scalers': 'minmax', 'n_estimators': 843, 'max_depth': 22, 'max_features': 'log2'}. Best is trial 137 with value: 0.17039856088432723.\n",
      "[I 2024-05-20 00:13:39,783] Trial 145 finished with value: 0.17060891483893864 and parameters: {'scalers': 'robust', 'n_estimators': 477, 'max_depth': 31, 'max_features': 'sqrt'}. Best is trial 137 with value: 0.17039856088432723.\n",
      "[I 2024-05-20 00:13:54,152] Trial 146 finished with value: 0.17065216684860213 and parameters: {'scalers': None, 'n_estimators': 957, 'max_depth': 22, 'max_features': 'log2'}. Best is trial 137 with value: 0.17039856088432723.\n",
      "[I 2024-05-20 00:13:55,582] Trial 147 finished with value: 0.17122515505693947 and parameters: {'scalers': 'robust', 'n_estimators': 83, 'max_depth': 62, 'max_features': 'sqrt'}. Best is trial 137 with value: 0.17039856088432723.\n",
      "[I 2024-05-20 00:14:10,511] Trial 148 finished with value: 0.17063502930677038 and parameters: {'scalers': 'minmax', 'n_estimators': 886, 'max_depth': 30, 'max_features': 'log2'}. Best is trial 137 with value: 0.17039856088432723.\n",
      "[I 2024-05-20 00:14:17,444] Trial 149 finished with value: 0.17148141133899478 and parameters: {'scalers': 'minmax', 'n_estimators': 153, 'max_depth': 105, 'max_features': None}. Best is trial 137 with value: 0.17039856088432723.\n"
     ]
    },
    {
     "name": "stdout",
     "output_type": "stream",
     "text": [
      "Number of finished trials:  150\n",
      "Best trial: 137\n",
      "  Value:  0.17039856088432723\n",
      "  Params: \n",
      "    scalers: minmax\n",
      "    n_estimators: 890\n",
      "    max_depth: 27\n",
      "    max_features: log2\n"
     ]
    }
   ],
   "source": [
    "# RandomForest hyperparameters search using optuna\n",
    "\n",
    "def objective(trial):\n",
    "    # split data in training and test data\n",
    "    X_train, X_test, y_train, y_test = train_test_split(df_encoded[df_encoded_features], df_encoded[target],\n",
    "                                                        test_size=0.25,\n",
    "                                                        random_state=777)\n",
    "\n",
    "    # Instantiate scaler\n",
    "    scalers = trial.suggest_categorical(\"scalers\", ['minmax', 'standard', 'robust', 'maxabs', None])\n",
    "\n",
    "    if scalers == \"minmax\":\n",
    "        scaler = MinMaxScaler()\n",
    "    elif scalers == \"standard\":\n",
    "        scaler = StandardScaler()\n",
    "    elif scalers == 'maxabs':\n",
    "        scaler = MaxAbsScaler()\n",
    "    elif scalers == 'robust':\n",
    "        scaler = RobustScaler()\n",
    "    else:\n",
    "        scaler = None\n",
    "    \n",
    "\n",
    "    # Suggest hyperparameters\n",
    "    param = { \n",
    "        \"n_estimators\": trial.suggest_int('n_estimators', 50, 1000),\n",
    "        \"max_depth\": trial.suggest_int('max_depth', 10, 150),\n",
    "        'max_features': trial.suggest_categorical('max_features', ['sqrt', 'log2', None])\n",
    "   } \n",
    "     \n",
    "    rfr = RandomForestRegressor(\n",
    "        random_state = 777,\n",
    "        criterion = 'friedman_mse',\n",
    "        **param)\n",
    "\n",
    "    # Make a pipeline\n",
    "    pipeline = make_pipeline(scaler, rfr)\n",
    "    pipeline.fit(X_train, y_train)\n",
    "\n",
    "\n",
    "    # Predict and estimate results\n",
    "    preds = pipeline.predict(X_test)\n",
    "    rmse = root_mean_squared_error(y_test, preds)\n",
    "\n",
    "    return rmse\n",
    "\n",
    "# Opruna study creation for tuning\n",
    "sampler_br = TPESampler(multivariate = True, group = True, seed = 777)\n",
    "study_br = optuna.create_study(study_name = \"BR\", sampler = sampler_br)\n",
    "study_br.optimize(objective, n_trials = 150)\n",
    "trial_br = study_br.best_trial\n",
    "params_br = study_br.best_trial.params\n",
    "\n",
    "# Printing the parameters\n",
    "print(\"Number of finished trials: \", len(study_br.trials))\n",
    "print(\"Best trial:\", trial_br.number)\n",
    "print(\"  Value: \", trial_br.value)\n",
    "print(\"  Params: \")\n",
    "\n",
    "for key, value in trial_br.params.items():\n",
    "    print(\"    {}: {}\".format(key, value))"
   ]
  },
  {
   "cell_type": "code",
   "execution_count": null,
   "metadata": {},
   "outputs": [
    {
     "data": {
      "application/vnd.plotly.v1+json": {
       "config": {
        "plotlyServerURL": "https://plot.ly"
       },
       "data": [
        {
         "mode": "markers",
         "name": "Objective Value",
         "type": "scatter",
         "x": [
          0,
          1,
          2,
          3,
          4,
          5,
          6,
          7,
          8,
          9,
          10,
          11,
          12,
          13,
          14,
          15,
          16,
          17,
          18,
          19,
          20,
          21,
          22,
          23,
          24,
          25,
          26,
          27,
          28,
          29,
          30,
          31,
          32,
          33,
          34,
          35,
          36,
          37,
          38,
          39,
          40,
          41,
          42,
          43,
          44,
          45,
          46,
          47,
          48,
          49,
          50,
          51,
          52,
          53,
          54,
          55,
          56,
          57,
          58,
          59,
          60,
          61,
          62,
          63,
          64,
          65,
          66,
          67,
          68,
          69,
          70,
          71,
          72,
          73,
          74,
          75,
          76,
          77,
          78,
          79,
          80,
          81,
          82,
          83,
          84,
          85,
          86,
          87,
          88,
          89,
          90,
          91,
          92,
          93,
          94,
          95,
          96,
          97,
          98,
          99,
          100,
          101,
          102,
          103,
          104,
          105,
          106,
          107,
          108,
          109,
          110,
          111,
          112,
          113,
          114,
          115,
          116,
          117,
          118,
          119,
          120,
          121,
          122,
          123,
          124,
          125,
          126,
          127,
          128,
          129,
          130,
          131,
          132,
          133,
          134,
          135,
          136,
          137,
          138,
          139,
          140,
          141,
          142,
          143,
          144,
          145,
          146,
          147,
          148,
          149
         ],
         "y": [
          0.17074813686866802,
          0.17090043803856325,
          0.17155806344955274,
          0.17127297651233828,
          0.17186624640732465,
          0.17096445610622066,
          0.1707290853190409,
          0.17152460302330608,
          0.17142909246912236,
          0.17079535074777374,
          0.17083957947431425,
          0.17062334715281377,
          0.17150766708419446,
          0.17064301344387206,
          0.17063558174883928,
          0.17062468950820942,
          0.17103711429030347,
          0.17069565877424717,
          0.17047930629861402,
          0.17879198784021114,
          0.17057318847356034,
          0.17050679151563367,
          0.1707437392043175,
          0.17634003319035144,
          0.1709572464488998,
          0.17243610299060622,
          0.17087496618012873,
          0.17154231107186418,
          0.1741629899981338,
          0.17106680899651394,
          0.1707088044839079,
          0.1804082306807222,
          0.17060641854682887,
          0.17047199957999185,
          0.17637861355992107,
          0.17110685127012043,
          0.17075267076563516,
          0.17146256329061452,
          0.17075678665439104,
          0.17079986834811395,
          0.17079188958037173,
          0.17063963458015502,
          0.1708033790363846,
          0.17062016819565828,
          0.17753886907526506,
          0.17085329240138974,
          0.17106859256379278,
          0.1716836804563355,
          0.17089527257321296,
          0.17115254017803833,
          0.17060253792383542,
          0.1706602693717597,
          0.1707606993120258,
          0.1706215622139301,
          0.17083011247592833,
          0.17111023345723364,
          0.17071566731491192,
          0.1714987441498344,
          0.17050055770975545,
          0.1704672381827229,
          0.17147259208277302,
          0.1707592452689522,
          0.1704099519756974,
          0.1719779846865551,
          0.1718838646354942,
          0.1777570520446169,
          0.17165165367689733,
          0.1707346996062411,
          0.18051153349754162,
          0.17048829873605156,
          0.17097466063225536,
          0.170751626350964,
          0.1706589311970149,
          0.1713907802644928,
          0.17180371086159435,
          0.1707248528055322,
          0.17162147784066886,
          0.17380243880010582,
          0.17074578688408298,
          0.17176177610490032,
          0.1715778797816163,
          0.17057901873155143,
          0.17069150402540764,
          0.17053259276383215,
          0.17082390026948413,
          0.1706972947296857,
          0.17098245872010398,
          0.1710632918478958,
          0.18049716584039066,
          0.17067701906701097,
          0.17108219287599682,
          0.17060678498447307,
          0.17059757557036964,
          0.17764776757852518,
          0.1759946518760045,
          0.17047980667300788,
          0.17074244979929917,
          0.17059589787949975,
          0.1708938360789059,
          0.17330371842948714,
          0.1708763813573182,
          0.1705043223446407,
          0.17080954510703128,
          0.17053740714103682,
          0.17070294746869494,
          0.17230791683681365,
          0.17085421068063367,
          0.17184542249018317,
          0.1723669878750674,
          0.17437254736978464,
          0.17090518479312633,
          0.17061880924998432,
          0.17072086177030474,
          0.17082021333122288,
          0.1708359432976961,
          0.17152271246854736,
          0.17043081951376607,
          0.17064042403466792,
          0.17058551109774778,
          0.18045342237208128,
          0.17063956122697035,
          0.170673319369295,
          0.17074625376206298,
          0.17642466745845137,
          0.17075532929437034,
          0.17080585770465365,
          0.1715425992258201,
          0.1707213755993629,
          0.1704976831646322,
          0.17041057958978814,
          0.17152114639833568,
          0.17099885288421754,
          0.18045275519482262,
          0.170469679571962,
          0.17498864776524803,
          0.17058617075246815,
          0.1707350874691486,
          0.17039856088432723,
          0.1776194946723512,
          0.17059613436691334,
          0.17066051153071382,
          0.17067196979240462,
          0.18050056192578515,
          0.1706509691756181,
          0.17059606774983918,
          0.17060891483893864,
          0.17065216684860213,
          0.17122515505693947,
          0.17063502930677038,
          0.17148141133899478
         ]
        },
        {
         "mode": "lines",
         "name": "Best Value",
         "type": "scatter",
         "x": [
          0,
          1,
          2,
          3,
          4,
          5,
          6,
          7,
          8,
          9,
          10,
          11,
          12,
          13,
          14,
          15,
          16,
          17,
          18,
          19,
          20,
          21,
          22,
          23,
          24,
          25,
          26,
          27,
          28,
          29,
          30,
          31,
          32,
          33,
          34,
          35,
          36,
          37,
          38,
          39,
          40,
          41,
          42,
          43,
          44,
          45,
          46,
          47,
          48,
          49,
          50,
          51,
          52,
          53,
          54,
          55,
          56,
          57,
          58,
          59,
          60,
          61,
          62,
          63,
          64,
          65,
          66,
          67,
          68,
          69,
          70,
          71,
          72,
          73,
          74,
          75,
          76,
          77,
          78,
          79,
          80,
          81,
          82,
          83,
          84,
          85,
          86,
          87,
          88,
          89,
          90,
          91,
          92,
          93,
          94,
          95,
          96,
          97,
          98,
          99,
          100,
          101,
          102,
          103,
          104,
          105,
          106,
          107,
          108,
          109,
          110,
          111,
          112,
          113,
          114,
          115,
          116,
          117,
          118,
          119,
          120,
          121,
          122,
          123,
          124,
          125,
          126,
          127,
          128,
          129,
          130,
          131,
          132,
          133,
          134,
          135,
          136,
          137,
          138,
          139,
          140,
          141,
          142,
          143,
          144,
          145,
          146,
          147,
          148,
          149
         ],
         "y": [
          0.17074813686866802,
          0.17074813686866802,
          0.17074813686866802,
          0.17074813686866802,
          0.17074813686866802,
          0.17074813686866802,
          0.1707290853190409,
          0.1707290853190409,
          0.1707290853190409,
          0.1707290853190409,
          0.1707290853190409,
          0.17062334715281377,
          0.17062334715281377,
          0.17062334715281377,
          0.17062334715281377,
          0.17062334715281377,
          0.17062334715281377,
          0.17062334715281377,
          0.17047930629861402,
          0.17047930629861402,
          0.17047930629861402,
          0.17047930629861402,
          0.17047930629861402,
          0.17047930629861402,
          0.17047930629861402,
          0.17047930629861402,
          0.17047930629861402,
          0.17047930629861402,
          0.17047930629861402,
          0.17047930629861402,
          0.17047930629861402,
          0.17047930629861402,
          0.17047930629861402,
          0.17047199957999185,
          0.17047199957999185,
          0.17047199957999185,
          0.17047199957999185,
          0.17047199957999185,
          0.17047199957999185,
          0.17047199957999185,
          0.17047199957999185,
          0.17047199957999185,
          0.17047199957999185,
          0.17047199957999185,
          0.17047199957999185,
          0.17047199957999185,
          0.17047199957999185,
          0.17047199957999185,
          0.17047199957999185,
          0.17047199957999185,
          0.17047199957999185,
          0.17047199957999185,
          0.17047199957999185,
          0.17047199957999185,
          0.17047199957999185,
          0.17047199957999185,
          0.17047199957999185,
          0.17047199957999185,
          0.17047199957999185,
          0.1704672381827229,
          0.1704672381827229,
          0.1704672381827229,
          0.1704099519756974,
          0.1704099519756974,
          0.1704099519756974,
          0.1704099519756974,
          0.1704099519756974,
          0.1704099519756974,
          0.1704099519756974,
          0.1704099519756974,
          0.1704099519756974,
          0.1704099519756974,
          0.1704099519756974,
          0.1704099519756974,
          0.1704099519756974,
          0.1704099519756974,
          0.1704099519756974,
          0.1704099519756974,
          0.1704099519756974,
          0.1704099519756974,
          0.1704099519756974,
          0.1704099519756974,
          0.1704099519756974,
          0.1704099519756974,
          0.1704099519756974,
          0.1704099519756974,
          0.1704099519756974,
          0.1704099519756974,
          0.1704099519756974,
          0.1704099519756974,
          0.1704099519756974,
          0.1704099519756974,
          0.1704099519756974,
          0.1704099519756974,
          0.1704099519756974,
          0.1704099519756974,
          0.1704099519756974,
          0.1704099519756974,
          0.1704099519756974,
          0.1704099519756974,
          0.1704099519756974,
          0.1704099519756974,
          0.1704099519756974,
          0.1704099519756974,
          0.1704099519756974,
          0.1704099519756974,
          0.1704099519756974,
          0.1704099519756974,
          0.1704099519756974,
          0.1704099519756974,
          0.1704099519756974,
          0.1704099519756974,
          0.1704099519756974,
          0.1704099519756974,
          0.1704099519756974,
          0.1704099519756974,
          0.1704099519756974,
          0.1704099519756974,
          0.1704099519756974,
          0.1704099519756974,
          0.1704099519756974,
          0.1704099519756974,
          0.1704099519756974,
          0.1704099519756974,
          0.1704099519756974,
          0.1704099519756974,
          0.1704099519756974,
          0.1704099519756974,
          0.1704099519756974,
          0.1704099519756974,
          0.1704099519756974,
          0.1704099519756974,
          0.1704099519756974,
          0.1704099519756974,
          0.1704099519756974,
          0.1704099519756974,
          0.1704099519756974,
          0.17039856088432723,
          0.17039856088432723,
          0.17039856088432723,
          0.17039856088432723,
          0.17039856088432723,
          0.17039856088432723,
          0.17039856088432723,
          0.17039856088432723,
          0.17039856088432723,
          0.17039856088432723,
          0.17039856088432723,
          0.17039856088432723,
          0.17039856088432723
         ]
        },
        {
         "marker": {
          "color": "#cccccc"
         },
         "mode": "markers",
         "name": "Infeasible Trial",
         "showlegend": false,
         "type": "scatter",
         "x": [],
         "y": []
        }
       ],
       "layout": {
        "template": {
         "data": {
          "bar": [
           {
            "error_x": {
             "color": "#2a3f5f"
            },
            "error_y": {
             "color": "#2a3f5f"
            },
            "marker": {
             "line": {
              "color": "#E5ECF6",
              "width": 0.5
             },
             "pattern": {
              "fillmode": "overlay",
              "size": 10,
              "solidity": 0.2
             }
            },
            "type": "bar"
           }
          ],
          "barpolar": [
           {
            "marker": {
             "line": {
              "color": "#E5ECF6",
              "width": 0.5
             },
             "pattern": {
              "fillmode": "overlay",
              "size": 10,
              "solidity": 0.2
             }
            },
            "type": "barpolar"
           }
          ],
          "carpet": [
           {
            "aaxis": {
             "endlinecolor": "#2a3f5f",
             "gridcolor": "white",
             "linecolor": "white",
             "minorgridcolor": "white",
             "startlinecolor": "#2a3f5f"
            },
            "baxis": {
             "endlinecolor": "#2a3f5f",
             "gridcolor": "white",
             "linecolor": "white",
             "minorgridcolor": "white",
             "startlinecolor": "#2a3f5f"
            },
            "type": "carpet"
           }
          ],
          "choropleth": [
           {
            "colorbar": {
             "outlinewidth": 0,
             "ticks": ""
            },
            "type": "choropleth"
           }
          ],
          "contour": [
           {
            "colorbar": {
             "outlinewidth": 0,
             "ticks": ""
            },
            "colorscale": [
             [
              0,
              "#0d0887"
             ],
             [
              0.1111111111111111,
              "#46039f"
             ],
             [
              0.2222222222222222,
              "#7201a8"
             ],
             [
              0.3333333333333333,
              "#9c179e"
             ],
             [
              0.4444444444444444,
              "#bd3786"
             ],
             [
              0.5555555555555556,
              "#d8576b"
             ],
             [
              0.6666666666666666,
              "#ed7953"
             ],
             [
              0.7777777777777778,
              "#fb9f3a"
             ],
             [
              0.8888888888888888,
              "#fdca26"
             ],
             [
              1,
              "#f0f921"
             ]
            ],
            "type": "contour"
           }
          ],
          "contourcarpet": [
           {
            "colorbar": {
             "outlinewidth": 0,
             "ticks": ""
            },
            "type": "contourcarpet"
           }
          ],
          "heatmap": [
           {
            "colorbar": {
             "outlinewidth": 0,
             "ticks": ""
            },
            "colorscale": [
             [
              0,
              "#0d0887"
             ],
             [
              0.1111111111111111,
              "#46039f"
             ],
             [
              0.2222222222222222,
              "#7201a8"
             ],
             [
              0.3333333333333333,
              "#9c179e"
             ],
             [
              0.4444444444444444,
              "#bd3786"
             ],
             [
              0.5555555555555556,
              "#d8576b"
             ],
             [
              0.6666666666666666,
              "#ed7953"
             ],
             [
              0.7777777777777778,
              "#fb9f3a"
             ],
             [
              0.8888888888888888,
              "#fdca26"
             ],
             [
              1,
              "#f0f921"
             ]
            ],
            "type": "heatmap"
           }
          ],
          "heatmapgl": [
           {
            "colorbar": {
             "outlinewidth": 0,
             "ticks": ""
            },
            "colorscale": [
             [
              0,
              "#0d0887"
             ],
             [
              0.1111111111111111,
              "#46039f"
             ],
             [
              0.2222222222222222,
              "#7201a8"
             ],
             [
              0.3333333333333333,
              "#9c179e"
             ],
             [
              0.4444444444444444,
              "#bd3786"
             ],
             [
              0.5555555555555556,
              "#d8576b"
             ],
             [
              0.6666666666666666,
              "#ed7953"
             ],
             [
              0.7777777777777778,
              "#fb9f3a"
             ],
             [
              0.8888888888888888,
              "#fdca26"
             ],
             [
              1,
              "#f0f921"
             ]
            ],
            "type": "heatmapgl"
           }
          ],
          "histogram": [
           {
            "marker": {
             "pattern": {
              "fillmode": "overlay",
              "size": 10,
              "solidity": 0.2
             }
            },
            "type": "histogram"
           }
          ],
          "histogram2d": [
           {
            "colorbar": {
             "outlinewidth": 0,
             "ticks": ""
            },
            "colorscale": [
             [
              0,
              "#0d0887"
             ],
             [
              0.1111111111111111,
              "#46039f"
             ],
             [
              0.2222222222222222,
              "#7201a8"
             ],
             [
              0.3333333333333333,
              "#9c179e"
             ],
             [
              0.4444444444444444,
              "#bd3786"
             ],
             [
              0.5555555555555556,
              "#d8576b"
             ],
             [
              0.6666666666666666,
              "#ed7953"
             ],
             [
              0.7777777777777778,
              "#fb9f3a"
             ],
             [
              0.8888888888888888,
              "#fdca26"
             ],
             [
              1,
              "#f0f921"
             ]
            ],
            "type": "histogram2d"
           }
          ],
          "histogram2dcontour": [
           {
            "colorbar": {
             "outlinewidth": 0,
             "ticks": ""
            },
            "colorscale": [
             [
              0,
              "#0d0887"
             ],
             [
              0.1111111111111111,
              "#46039f"
             ],
             [
              0.2222222222222222,
              "#7201a8"
             ],
             [
              0.3333333333333333,
              "#9c179e"
             ],
             [
              0.4444444444444444,
              "#bd3786"
             ],
             [
              0.5555555555555556,
              "#d8576b"
             ],
             [
              0.6666666666666666,
              "#ed7953"
             ],
             [
              0.7777777777777778,
              "#fb9f3a"
             ],
             [
              0.8888888888888888,
              "#fdca26"
             ],
             [
              1,
              "#f0f921"
             ]
            ],
            "type": "histogram2dcontour"
           }
          ],
          "mesh3d": [
           {
            "colorbar": {
             "outlinewidth": 0,
             "ticks": ""
            },
            "type": "mesh3d"
           }
          ],
          "parcoords": [
           {
            "line": {
             "colorbar": {
              "outlinewidth": 0,
              "ticks": ""
             }
            },
            "type": "parcoords"
           }
          ],
          "pie": [
           {
            "automargin": true,
            "type": "pie"
           }
          ],
          "scatter": [
           {
            "fillpattern": {
             "fillmode": "overlay",
             "size": 10,
             "solidity": 0.2
            },
            "type": "scatter"
           }
          ],
          "scatter3d": [
           {
            "line": {
             "colorbar": {
              "outlinewidth": 0,
              "ticks": ""
             }
            },
            "marker": {
             "colorbar": {
              "outlinewidth": 0,
              "ticks": ""
             }
            },
            "type": "scatter3d"
           }
          ],
          "scattercarpet": [
           {
            "marker": {
             "colorbar": {
              "outlinewidth": 0,
              "ticks": ""
             }
            },
            "type": "scattercarpet"
           }
          ],
          "scattergeo": [
           {
            "marker": {
             "colorbar": {
              "outlinewidth": 0,
              "ticks": ""
             }
            },
            "type": "scattergeo"
           }
          ],
          "scattergl": [
           {
            "marker": {
             "colorbar": {
              "outlinewidth": 0,
              "ticks": ""
             }
            },
            "type": "scattergl"
           }
          ],
          "scattermapbox": [
           {
            "marker": {
             "colorbar": {
              "outlinewidth": 0,
              "ticks": ""
             }
            },
            "type": "scattermapbox"
           }
          ],
          "scatterpolar": [
           {
            "marker": {
             "colorbar": {
              "outlinewidth": 0,
              "ticks": ""
             }
            },
            "type": "scatterpolar"
           }
          ],
          "scatterpolargl": [
           {
            "marker": {
             "colorbar": {
              "outlinewidth": 0,
              "ticks": ""
             }
            },
            "type": "scatterpolargl"
           }
          ],
          "scatterternary": [
           {
            "marker": {
             "colorbar": {
              "outlinewidth": 0,
              "ticks": ""
             }
            },
            "type": "scatterternary"
           }
          ],
          "surface": [
           {
            "colorbar": {
             "outlinewidth": 0,
             "ticks": ""
            },
            "colorscale": [
             [
              0,
              "#0d0887"
             ],
             [
              0.1111111111111111,
              "#46039f"
             ],
             [
              0.2222222222222222,
              "#7201a8"
             ],
             [
              0.3333333333333333,
              "#9c179e"
             ],
             [
              0.4444444444444444,
              "#bd3786"
             ],
             [
              0.5555555555555556,
              "#d8576b"
             ],
             [
              0.6666666666666666,
              "#ed7953"
             ],
             [
              0.7777777777777778,
              "#fb9f3a"
             ],
             [
              0.8888888888888888,
              "#fdca26"
             ],
             [
              1,
              "#f0f921"
             ]
            ],
            "type": "surface"
           }
          ],
          "table": [
           {
            "cells": {
             "fill": {
              "color": "#EBF0F8"
             },
             "line": {
              "color": "white"
             }
            },
            "header": {
             "fill": {
              "color": "#C8D4E3"
             },
             "line": {
              "color": "white"
             }
            },
            "type": "table"
           }
          ]
         },
         "layout": {
          "annotationdefaults": {
           "arrowcolor": "#2a3f5f",
           "arrowhead": 0,
           "arrowwidth": 1
          },
          "autotypenumbers": "strict",
          "coloraxis": {
           "colorbar": {
            "outlinewidth": 0,
            "ticks": ""
           }
          },
          "colorscale": {
           "diverging": [
            [
             0,
             "#8e0152"
            ],
            [
             0.1,
             "#c51b7d"
            ],
            [
             0.2,
             "#de77ae"
            ],
            [
             0.3,
             "#f1b6da"
            ],
            [
             0.4,
             "#fde0ef"
            ],
            [
             0.5,
             "#f7f7f7"
            ],
            [
             0.6,
             "#e6f5d0"
            ],
            [
             0.7,
             "#b8e186"
            ],
            [
             0.8,
             "#7fbc41"
            ],
            [
             0.9,
             "#4d9221"
            ],
            [
             1,
             "#276419"
            ]
           ],
           "sequential": [
            [
             0,
             "#0d0887"
            ],
            [
             0.1111111111111111,
             "#46039f"
            ],
            [
             0.2222222222222222,
             "#7201a8"
            ],
            [
             0.3333333333333333,
             "#9c179e"
            ],
            [
             0.4444444444444444,
             "#bd3786"
            ],
            [
             0.5555555555555556,
             "#d8576b"
            ],
            [
             0.6666666666666666,
             "#ed7953"
            ],
            [
             0.7777777777777778,
             "#fb9f3a"
            ],
            [
             0.8888888888888888,
             "#fdca26"
            ],
            [
             1,
             "#f0f921"
            ]
           ],
           "sequentialminus": [
            [
             0,
             "#0d0887"
            ],
            [
             0.1111111111111111,
             "#46039f"
            ],
            [
             0.2222222222222222,
             "#7201a8"
            ],
            [
             0.3333333333333333,
             "#9c179e"
            ],
            [
             0.4444444444444444,
             "#bd3786"
            ],
            [
             0.5555555555555556,
             "#d8576b"
            ],
            [
             0.6666666666666666,
             "#ed7953"
            ],
            [
             0.7777777777777778,
             "#fb9f3a"
            ],
            [
             0.8888888888888888,
             "#fdca26"
            ],
            [
             1,
             "#f0f921"
            ]
           ]
          },
          "colorway": [
           "#636efa",
           "#EF553B",
           "#00cc96",
           "#ab63fa",
           "#FFA15A",
           "#19d3f3",
           "#FF6692",
           "#B6E880",
           "#FF97FF",
           "#FECB52"
          ],
          "font": {
           "color": "#2a3f5f"
          },
          "geo": {
           "bgcolor": "white",
           "lakecolor": "white",
           "landcolor": "#E5ECF6",
           "showlakes": true,
           "showland": true,
           "subunitcolor": "white"
          },
          "hoverlabel": {
           "align": "left"
          },
          "hovermode": "closest",
          "mapbox": {
           "style": "light"
          },
          "paper_bgcolor": "white",
          "plot_bgcolor": "#E5ECF6",
          "polar": {
           "angularaxis": {
            "gridcolor": "white",
            "linecolor": "white",
            "ticks": ""
           },
           "bgcolor": "#E5ECF6",
           "radialaxis": {
            "gridcolor": "white",
            "linecolor": "white",
            "ticks": ""
           }
          },
          "scene": {
           "xaxis": {
            "backgroundcolor": "#E5ECF6",
            "gridcolor": "white",
            "gridwidth": 2,
            "linecolor": "white",
            "showbackground": true,
            "ticks": "",
            "zerolinecolor": "white"
           },
           "yaxis": {
            "backgroundcolor": "#E5ECF6",
            "gridcolor": "white",
            "gridwidth": 2,
            "linecolor": "white",
            "showbackground": true,
            "ticks": "",
            "zerolinecolor": "white"
           },
           "zaxis": {
            "backgroundcolor": "#E5ECF6",
            "gridcolor": "white",
            "gridwidth": 2,
            "linecolor": "white",
            "showbackground": true,
            "ticks": "",
            "zerolinecolor": "white"
           }
          },
          "shapedefaults": {
           "line": {
            "color": "#2a3f5f"
           }
          },
          "ternary": {
           "aaxis": {
            "gridcolor": "white",
            "linecolor": "white",
            "ticks": ""
           },
           "baxis": {
            "gridcolor": "white",
            "linecolor": "white",
            "ticks": ""
           },
           "bgcolor": "#E5ECF6",
           "caxis": {
            "gridcolor": "white",
            "linecolor": "white",
            "ticks": ""
           }
          },
          "title": {
           "x": 0.05
          },
          "xaxis": {
           "automargin": true,
           "gridcolor": "white",
           "linecolor": "white",
           "ticks": "",
           "title": {
            "standoff": 15
           },
           "zerolinecolor": "white",
           "zerolinewidth": 2
          },
          "yaxis": {
           "automargin": true,
           "gridcolor": "white",
           "linecolor": "white",
           "ticks": "",
           "title": {
            "standoff": 15
           },
           "zerolinecolor": "white",
           "zerolinewidth": 2
          }
         }
        },
        "title": {
         "text": "Optimization History Plot"
        },
        "xaxis": {
         "title": {
          "text": "Trial"
         }
        },
        "yaxis": {
         "title": {
          "text": "Objective Value"
         }
        }
       }
      }
     },
     "metadata": {},
     "output_type": "display_data"
    }
   ],
   "source": [
    "# History of optimization\n",
    "\n",
    "optuna.visualization.plot_optimization_history(study_br)"
   ]
  },
  {
   "cell_type": "code",
   "execution_count": null,
   "metadata": {},
   "outputs": [
    {
     "data": {
      "application/vnd.plotly.v1+json": {
       "config": {
        "plotlyServerURL": "https://plot.ly"
       },
       "data": [
        {
         "marker": {
          "color": [
           0,
           1,
           2,
           3,
           4,
           5,
           6,
           7,
           8,
           9,
           10,
           11,
           12,
           13,
           14,
           15,
           16,
           17,
           18,
           19,
           20,
           21,
           22,
           23,
           24,
           25,
           26,
           27,
           28,
           29,
           30,
           31,
           32,
           33,
           34,
           35,
           36,
           37,
           38,
           39,
           40,
           41,
           42,
           43,
           44,
           45,
           46,
           47,
           48,
           49,
           50,
           51,
           52,
           53,
           54,
           55,
           56,
           57,
           58,
           59,
           60,
           61,
           62,
           63,
           64,
           65,
           66,
           67,
           68,
           69,
           70,
           71,
           72,
           73,
           74,
           75,
           76,
           77,
           78,
           79,
           80,
           81,
           82,
           83,
           84,
           85,
           86,
           87,
           88,
           89,
           90,
           91,
           92,
           93,
           94,
           95,
           96,
           97,
           98,
           99,
           100,
           101,
           102,
           103,
           104,
           105,
           106,
           107,
           108,
           109,
           110,
           111,
           112,
           113,
           114,
           115,
           116,
           117,
           118,
           119,
           120,
           121,
           122,
           123,
           124,
           125,
           126,
           127,
           128,
           129,
           130,
           131,
           132,
           133,
           134,
           135,
           136,
           137,
           138,
           139,
           140,
           141,
           142,
           143,
           144,
           145,
           146,
           147,
           148,
           149
          ],
          "colorbar": {
           "title": {
            "text": "Trial"
           },
           "x": 1,
           "xpad": 40
          },
          "colorscale": [
           [
            0,
            "rgb(247,251,255)"
           ],
           [
            0.125,
            "rgb(222,235,247)"
           ],
           [
            0.25,
            "rgb(198,219,239)"
           ],
           [
            0.375,
            "rgb(158,202,225)"
           ],
           [
            0.5,
            "rgb(107,174,214)"
           ],
           [
            0.625,
            "rgb(66,146,198)"
           ],
           [
            0.75,
            "rgb(33,113,181)"
           ],
           [
            0.875,
            "rgb(8,81,156)"
           ],
           [
            1,
            "rgb(8,48,107)"
           ]
          ],
          "line": {
           "color": "Grey",
           "width": 0.5
          },
          "showscale": true
         },
         "mode": "markers",
         "name": "Feasible Trial",
         "showlegend": false,
         "type": "scatter",
         "x": [
          112,
          106,
          97,
          83,
          88,
          68,
          127,
          51,
          119,
          147,
          83,
          118,
          130,
          136,
          109,
          79,
          21,
          66,
          27,
          11,
          33,
          23,
          37,
          13,
          40,
          17,
          41,
          39,
          15,
          20,
          66,
          10,
          30,
          31,
          13,
          130,
          43,
          28,
          34,
          64,
          68,
          30,
          43,
          39,
          11,
          60,
          148,
          48,
          26,
          126,
          30,
          41,
          51,
          56,
          32,
          20,
          30,
          80,
          28,
          27,
          117,
          21,
          27,
          146,
          18,
          12,
          51,
          117,
          10,
          24,
          73,
          32,
          23,
          65,
          18,
          37,
          42,
          16,
          68,
          99,
          136,
          34,
          36,
          25,
          30,
          41,
          65,
          74,
          10,
          22,
          139,
          54,
          35,
          12,
          13,
          33,
          40,
          29,
          48,
          16,
          127,
          33,
          67,
          25,
          42,
          17,
          142,
          80,
          30,
          15,
          20,
          29,
          28,
          32,
          40,
          32,
          33,
          40,
          29,
          10,
          41,
          36,
          46,
          13,
          69,
          71,
          19,
          40,
          29,
          25,
          53,
          89,
          10,
          25,
          14,
          34,
          32,
          27,
          12,
          38,
          29,
          43,
          10,
          46,
          22,
          31,
          22,
          62,
          30,
          105
         ],
         "xaxis": "x",
         "y": [
          0.17074813686866802,
          0.17090043803856325,
          0.17155806344955274,
          0.17127297651233828,
          0.17186624640732465,
          0.17096445610622066,
          0.1707290853190409,
          0.17152460302330608,
          0.17142909246912236,
          0.17079535074777374,
          0.17083957947431425,
          0.17062334715281377,
          0.17150766708419446,
          0.17064301344387206,
          0.17063558174883928,
          0.17062468950820942,
          0.17103711429030347,
          0.17069565877424717,
          0.17047930629861402,
          0.17879198784021114,
          0.17057318847356034,
          0.17050679151563367,
          0.1707437392043175,
          0.17634003319035144,
          0.1709572464488998,
          0.17243610299060622,
          0.17087496618012873,
          0.17154231107186418,
          0.1741629899981338,
          0.17106680899651394,
          0.1707088044839079,
          0.1804082306807222,
          0.17060641854682887,
          0.17047199957999185,
          0.17637861355992107,
          0.17110685127012043,
          0.17075267076563516,
          0.17146256329061452,
          0.17075678665439104,
          0.17079986834811395,
          0.17079188958037173,
          0.17063963458015502,
          0.1708033790363846,
          0.17062016819565828,
          0.17753886907526506,
          0.17085329240138974,
          0.17106859256379278,
          0.1716836804563355,
          0.17089527257321296,
          0.17115254017803833,
          0.17060253792383542,
          0.1706602693717597,
          0.1707606993120258,
          0.1706215622139301,
          0.17083011247592833,
          0.17111023345723364,
          0.17071566731491192,
          0.1714987441498344,
          0.17050055770975545,
          0.1704672381827229,
          0.17147259208277302,
          0.1707592452689522,
          0.1704099519756974,
          0.1719779846865551,
          0.1718838646354942,
          0.1777570520446169,
          0.17165165367689733,
          0.1707346996062411,
          0.18051153349754162,
          0.17048829873605156,
          0.17097466063225536,
          0.170751626350964,
          0.1706589311970149,
          0.1713907802644928,
          0.17180371086159435,
          0.1707248528055322,
          0.17162147784066886,
          0.17380243880010582,
          0.17074578688408298,
          0.17176177610490032,
          0.1715778797816163,
          0.17057901873155143,
          0.17069150402540764,
          0.17053259276383215,
          0.17082390026948413,
          0.1706972947296857,
          0.17098245872010398,
          0.1710632918478958,
          0.18049716584039066,
          0.17067701906701097,
          0.17108219287599682,
          0.17060678498447307,
          0.17059757557036964,
          0.17764776757852518,
          0.1759946518760045,
          0.17047980667300788,
          0.17074244979929917,
          0.17059589787949975,
          0.1708938360789059,
          0.17330371842948714,
          0.1708763813573182,
          0.1705043223446407,
          0.17080954510703128,
          0.17053740714103682,
          0.17070294746869494,
          0.17230791683681365,
          0.17085421068063367,
          0.17184542249018317,
          0.1723669878750674,
          0.17437254736978464,
          0.17090518479312633,
          0.17061880924998432,
          0.17072086177030474,
          0.17082021333122288,
          0.1708359432976961,
          0.17152271246854736,
          0.17043081951376607,
          0.17064042403466792,
          0.17058551109774778,
          0.18045342237208128,
          0.17063956122697035,
          0.170673319369295,
          0.17074625376206298,
          0.17642466745845137,
          0.17075532929437034,
          0.17080585770465365,
          0.1715425992258201,
          0.1707213755993629,
          0.1704976831646322,
          0.17041057958978814,
          0.17152114639833568,
          0.17099885288421754,
          0.18045275519482262,
          0.170469679571962,
          0.17498864776524803,
          0.17058617075246815,
          0.1707350874691486,
          0.17039856088432723,
          0.1776194946723512,
          0.17059613436691334,
          0.17066051153071382,
          0.17067196979240462,
          0.18050056192578515,
          0.1706509691756181,
          0.17059606774983918,
          0.17060891483893864,
          0.17065216684860213,
          0.17122515505693947,
          0.17063502930677038,
          0.17148141133899478
         ],
         "yaxis": "y"
        },
        {
         "marker": {
          "color": [
           0,
           1,
           2,
           3,
           4,
           5,
           6,
           7,
           8,
           9,
           10,
           11,
           12,
           13,
           14,
           15,
           16,
           17,
           18,
           19,
           20,
           21,
           22,
           23,
           24,
           25,
           26,
           27,
           28,
           29,
           30,
           31,
           32,
           33,
           34,
           35,
           36,
           37,
           38,
           39,
           40,
           41,
           42,
           43,
           44,
           45,
           46,
           47,
           48,
           49,
           50,
           51,
           52,
           53,
           54,
           55,
           56,
           57,
           58,
           59,
           60,
           61,
           62,
           63,
           64,
           65,
           66,
           67,
           68,
           69,
           70,
           71,
           72,
           73,
           74,
           75,
           76,
           77,
           78,
           79,
           80,
           81,
           82,
           83,
           84,
           85,
           86,
           87,
           88,
           89,
           90,
           91,
           92,
           93,
           94,
           95,
           96,
           97,
           98,
           99,
           100,
           101,
           102,
           103,
           104,
           105,
           106,
           107,
           108,
           109,
           110,
           111,
           112,
           113,
           114,
           115,
           116,
           117,
           118,
           119,
           120,
           121,
           122,
           123,
           124,
           125,
           126,
           127,
           128,
           129,
           130,
           131,
           132,
           133,
           134,
           135,
           136,
           137,
           138,
           139,
           140,
           141,
           142,
           143,
           144,
           145,
           146,
           147,
           148,
           149
          ],
          "colorbar": {
           "title": {
            "text": "Trial"
           },
           "x": 1,
           "xpad": 40
          },
          "colorscale": [
           [
            0,
            "rgb(247,251,255)"
           ],
           [
            0.125,
            "rgb(222,235,247)"
           ],
           [
            0.25,
            "rgb(198,219,239)"
           ],
           [
            0.375,
            "rgb(158,202,225)"
           ],
           [
            0.5,
            "rgb(107,174,214)"
           ],
           [
            0.625,
            "rgb(66,146,198)"
           ],
           [
            0.75,
            "rgb(33,113,181)"
           ],
           [
            0.875,
            "rgb(8,81,156)"
           ],
           [
            1,
            "rgb(8,48,107)"
           ]
          ],
          "line": {
           "color": "Grey",
           "width": 0.5
          },
          "showscale": false
         },
         "mode": "markers",
         "name": "Feasible Trial",
         "showlegend": false,
         "type": "scatter",
         "x": [
          "sqrt",
          "sqrt",
          null,
          "sqrt",
          null,
          "sqrt",
          "log2",
          null,
          "sqrt",
          "log2",
          "log2",
          "sqrt",
          null,
          "sqrt",
          "sqrt",
          "sqrt",
          "sqrt",
          "sqrt",
          "sqrt",
          "sqrt",
          "sqrt",
          "sqrt",
          "sqrt",
          "log2",
          "sqrt",
          "sqrt",
          "sqrt",
          null,
          "sqrt",
          "sqrt",
          "log2",
          "sqrt",
          "sqrt",
          "sqrt",
          "log2",
          "log2",
          "sqrt",
          null,
          "sqrt",
          "log2",
          "sqrt",
          "sqrt",
          "log2",
          "sqrt",
          null,
          "sqrt",
          "sqrt",
          null,
          "sqrt",
          "log2",
          "log2",
          "log2",
          "sqrt",
          "log2",
          "log2",
          "log2",
          "sqrt",
          null,
          "log2",
          "log2",
          null,
          "log2",
          "log2",
          null,
          "log2",
          "log2",
          null,
          "log2",
          "sqrt",
          "log2",
          "sqrt",
          "log2",
          "log2",
          null,
          "log2",
          "log2",
          null,
          null,
          "log2",
          null,
          null,
          "log2",
          "sqrt",
          "log2",
          "log2",
          "log2",
          "log2",
          "log2",
          "log2",
          "log2",
          "sqrt",
          "log2",
          "log2",
          "sqrt",
          null,
          "log2",
          "sqrt",
          "log2",
          "log2",
          "log2",
          "sqrt",
          "log2",
          "log2",
          "log2",
          "log2",
          "log2",
          "log2",
          null,
          null,
          null,
          "log2",
          "sqrt",
          "sqrt",
          "log2",
          "sqrt",
          null,
          "log2",
          "log2",
          "sqrt",
          "log2",
          "log2",
          "sqrt",
          "log2",
          "log2",
          "sqrt",
          "log2",
          "log2",
          "log2",
          "log2",
          "log2",
          null,
          "sqrt",
          "log2",
          "log2",
          "log2",
          "log2",
          "log2",
          "log2",
          "log2",
          "log2",
          "log2",
          "log2",
          "sqrt",
          "log2",
          "log2",
          "sqrt",
          "log2",
          "sqrt",
          "log2",
          null
         ],
         "xaxis": "x2",
         "y": [
          0.17074813686866802,
          0.17090043803856325,
          0.17155806344955274,
          0.17127297651233828,
          0.17186624640732465,
          0.17096445610622066,
          0.1707290853190409,
          0.17152460302330608,
          0.17142909246912236,
          0.17079535074777374,
          0.17083957947431425,
          0.17062334715281377,
          0.17150766708419446,
          0.17064301344387206,
          0.17063558174883928,
          0.17062468950820942,
          0.17103711429030347,
          0.17069565877424717,
          0.17047930629861402,
          0.17879198784021114,
          0.17057318847356034,
          0.17050679151563367,
          0.1707437392043175,
          0.17634003319035144,
          0.1709572464488998,
          0.17243610299060622,
          0.17087496618012873,
          0.17154231107186418,
          0.1741629899981338,
          0.17106680899651394,
          0.1707088044839079,
          0.1804082306807222,
          0.17060641854682887,
          0.17047199957999185,
          0.17637861355992107,
          0.17110685127012043,
          0.17075267076563516,
          0.17146256329061452,
          0.17075678665439104,
          0.17079986834811395,
          0.17079188958037173,
          0.17063963458015502,
          0.1708033790363846,
          0.17062016819565828,
          0.17753886907526506,
          0.17085329240138974,
          0.17106859256379278,
          0.1716836804563355,
          0.17089527257321296,
          0.17115254017803833,
          0.17060253792383542,
          0.1706602693717597,
          0.1707606993120258,
          0.1706215622139301,
          0.17083011247592833,
          0.17111023345723364,
          0.17071566731491192,
          0.1714987441498344,
          0.17050055770975545,
          0.1704672381827229,
          0.17147259208277302,
          0.1707592452689522,
          0.1704099519756974,
          0.1719779846865551,
          0.1718838646354942,
          0.1777570520446169,
          0.17165165367689733,
          0.1707346996062411,
          0.18051153349754162,
          0.17048829873605156,
          0.17097466063225536,
          0.170751626350964,
          0.1706589311970149,
          0.1713907802644928,
          0.17180371086159435,
          0.1707248528055322,
          0.17162147784066886,
          0.17380243880010582,
          0.17074578688408298,
          0.17176177610490032,
          0.1715778797816163,
          0.17057901873155143,
          0.17069150402540764,
          0.17053259276383215,
          0.17082390026948413,
          0.1706972947296857,
          0.17098245872010398,
          0.1710632918478958,
          0.18049716584039066,
          0.17067701906701097,
          0.17108219287599682,
          0.17060678498447307,
          0.17059757557036964,
          0.17764776757852518,
          0.1759946518760045,
          0.17047980667300788,
          0.17074244979929917,
          0.17059589787949975,
          0.1708938360789059,
          0.17330371842948714,
          0.1708763813573182,
          0.1705043223446407,
          0.17080954510703128,
          0.17053740714103682,
          0.17070294746869494,
          0.17230791683681365,
          0.17085421068063367,
          0.17184542249018317,
          0.1723669878750674,
          0.17437254736978464,
          0.17090518479312633,
          0.17061880924998432,
          0.17072086177030474,
          0.17082021333122288,
          0.1708359432976961,
          0.17152271246854736,
          0.17043081951376607,
          0.17064042403466792,
          0.17058551109774778,
          0.18045342237208128,
          0.17063956122697035,
          0.170673319369295,
          0.17074625376206298,
          0.17642466745845137,
          0.17075532929437034,
          0.17080585770465365,
          0.1715425992258201,
          0.1707213755993629,
          0.1704976831646322,
          0.17041057958978814,
          0.17152114639833568,
          0.17099885288421754,
          0.18045275519482262,
          0.170469679571962,
          0.17498864776524803,
          0.17058617075246815,
          0.1707350874691486,
          0.17039856088432723,
          0.1776194946723512,
          0.17059613436691334,
          0.17066051153071382,
          0.17067196979240462,
          0.18050056192578515,
          0.1706509691756181,
          0.17059606774983918,
          0.17060891483893864,
          0.17065216684860213,
          0.17122515505693947,
          0.17063502930677038,
          0.17148141133899478
         ],
         "yaxis": "y2"
        },
        {
         "marker": {
          "color": [
           0,
           1,
           2,
           3,
           4,
           5,
           6,
           7,
           8,
           9,
           10,
           11,
           12,
           13,
           14,
           15,
           16,
           17,
           18,
           19,
           20,
           21,
           22,
           23,
           24,
           25,
           26,
           27,
           28,
           29,
           30,
           31,
           32,
           33,
           34,
           35,
           36,
           37,
           38,
           39,
           40,
           41,
           42,
           43,
           44,
           45,
           46,
           47,
           48,
           49,
           50,
           51,
           52,
           53,
           54,
           55,
           56,
           57,
           58,
           59,
           60,
           61,
           62,
           63,
           64,
           65,
           66,
           67,
           68,
           69,
           70,
           71,
           72,
           73,
           74,
           75,
           76,
           77,
           78,
           79,
           80,
           81,
           82,
           83,
           84,
           85,
           86,
           87,
           88,
           89,
           90,
           91,
           92,
           93,
           94,
           95,
           96,
           97,
           98,
           99,
           100,
           101,
           102,
           103,
           104,
           105,
           106,
           107,
           108,
           109,
           110,
           111,
           112,
           113,
           114,
           115,
           116,
           117,
           118,
           119,
           120,
           121,
           122,
           123,
           124,
           125,
           126,
           127,
           128,
           129,
           130,
           131,
           132,
           133,
           134,
           135,
           136,
           137,
           138,
           139,
           140,
           141,
           142,
           143,
           144,
           145,
           146,
           147,
           148,
           149
          ],
          "colorbar": {
           "title": {
            "text": "Trial"
           },
           "x": 1,
           "xpad": 40
          },
          "colorscale": [
           [
            0,
            "rgb(247,251,255)"
           ],
           [
            0.125,
            "rgb(222,235,247)"
           ],
           [
            0.25,
            "rgb(198,219,239)"
           ],
           [
            0.375,
            "rgb(158,202,225)"
           ],
           [
            0.5,
            "rgb(107,174,214)"
           ],
           [
            0.625,
            "rgb(66,146,198)"
           ],
           [
            0.75,
            "rgb(33,113,181)"
           ],
           [
            0.875,
            "rgb(8,81,156)"
           ],
           [
            1,
            "rgb(8,48,107)"
           ]
          ],
          "line": {
           "color": "Grey",
           "width": 0.5
          },
          "showscale": false
         },
         "mode": "markers",
         "name": "Feasible Trial",
         "showlegend": false,
         "type": "scatter",
         "x": [
          931,
          645,
          889,
          62,
          232,
          75,
          708,
          898,
          57,
          967,
          542,
          916,
          789,
          986,
          968,
          841,
          429,
          778,
          998,
          785,
          879,
          923,
          986,
          927,
          575,
          878,
          728,
          919,
          989,
          699,
          928,
          998,
          964,
          736,
          705,
          284,
          988,
          780,
          741,
          827,
          845,
          881,
          975,
          998,
          952,
          744,
          512,
          218,
          793,
          67,
          961,
          787,
          944,
          1000,
          931,
          169,
          900,
          506,
          937,
          854,
          833,
          957,
          900,
          135,
          797,
          668,
          958,
          920,
          624,
          833,
          506,
          807,
          590,
          974,
          905,
          896,
          616,
          905,
          680,
          648,
          377,
          975,
          997,
          788,
          574,
          766,
          449,
          213,
          787,
          711,
          69,
          882,
          969,
          937,
          786,
          785,
          600,
          728,
          720,
          969,
          610,
          936,
          774,
          797,
          883,
          996,
          400,
          246,
          94,
          553,
          802,
          978,
          742,
          763,
          756,
          631,
          841,
          826,
          813,
          903,
          830,
          877,
          974,
          760,
          934,
          781,
          672,
          749,
          868,
          893,
          740,
          424,
          961,
          879,
          852,
          989,
          910,
          890,
          914,
          960,
          805,
          786,
          820,
          811,
          843,
          477,
          957,
          83,
          886,
          153
         ],
         "xaxis": "x3",
         "y": [
          0.17074813686866802,
          0.17090043803856325,
          0.17155806344955274,
          0.17127297651233828,
          0.17186624640732465,
          0.17096445610622066,
          0.1707290853190409,
          0.17152460302330608,
          0.17142909246912236,
          0.17079535074777374,
          0.17083957947431425,
          0.17062334715281377,
          0.17150766708419446,
          0.17064301344387206,
          0.17063558174883928,
          0.17062468950820942,
          0.17103711429030347,
          0.17069565877424717,
          0.17047930629861402,
          0.17879198784021114,
          0.17057318847356034,
          0.17050679151563367,
          0.1707437392043175,
          0.17634003319035144,
          0.1709572464488998,
          0.17243610299060622,
          0.17087496618012873,
          0.17154231107186418,
          0.1741629899981338,
          0.17106680899651394,
          0.1707088044839079,
          0.1804082306807222,
          0.17060641854682887,
          0.17047199957999185,
          0.17637861355992107,
          0.17110685127012043,
          0.17075267076563516,
          0.17146256329061452,
          0.17075678665439104,
          0.17079986834811395,
          0.17079188958037173,
          0.17063963458015502,
          0.1708033790363846,
          0.17062016819565828,
          0.17753886907526506,
          0.17085329240138974,
          0.17106859256379278,
          0.1716836804563355,
          0.17089527257321296,
          0.17115254017803833,
          0.17060253792383542,
          0.1706602693717597,
          0.1707606993120258,
          0.1706215622139301,
          0.17083011247592833,
          0.17111023345723364,
          0.17071566731491192,
          0.1714987441498344,
          0.17050055770975545,
          0.1704672381827229,
          0.17147259208277302,
          0.1707592452689522,
          0.1704099519756974,
          0.1719779846865551,
          0.1718838646354942,
          0.1777570520446169,
          0.17165165367689733,
          0.1707346996062411,
          0.18051153349754162,
          0.17048829873605156,
          0.17097466063225536,
          0.170751626350964,
          0.1706589311970149,
          0.1713907802644928,
          0.17180371086159435,
          0.1707248528055322,
          0.17162147784066886,
          0.17380243880010582,
          0.17074578688408298,
          0.17176177610490032,
          0.1715778797816163,
          0.17057901873155143,
          0.17069150402540764,
          0.17053259276383215,
          0.17082390026948413,
          0.1706972947296857,
          0.17098245872010398,
          0.1710632918478958,
          0.18049716584039066,
          0.17067701906701097,
          0.17108219287599682,
          0.17060678498447307,
          0.17059757557036964,
          0.17764776757852518,
          0.1759946518760045,
          0.17047980667300788,
          0.17074244979929917,
          0.17059589787949975,
          0.1708938360789059,
          0.17330371842948714,
          0.1708763813573182,
          0.1705043223446407,
          0.17080954510703128,
          0.17053740714103682,
          0.17070294746869494,
          0.17230791683681365,
          0.17085421068063367,
          0.17184542249018317,
          0.1723669878750674,
          0.17437254736978464,
          0.17090518479312633,
          0.17061880924998432,
          0.17072086177030474,
          0.17082021333122288,
          0.1708359432976961,
          0.17152271246854736,
          0.17043081951376607,
          0.17064042403466792,
          0.17058551109774778,
          0.18045342237208128,
          0.17063956122697035,
          0.170673319369295,
          0.17074625376206298,
          0.17642466745845137,
          0.17075532929437034,
          0.17080585770465365,
          0.1715425992258201,
          0.1707213755993629,
          0.1704976831646322,
          0.17041057958978814,
          0.17152114639833568,
          0.17099885288421754,
          0.18045275519482262,
          0.170469679571962,
          0.17498864776524803,
          0.17058617075246815,
          0.1707350874691486,
          0.17039856088432723,
          0.1776194946723512,
          0.17059613436691334,
          0.17066051153071382,
          0.17067196979240462,
          0.18050056192578515,
          0.1706509691756181,
          0.17059606774983918,
          0.17060891483893864,
          0.17065216684860213,
          0.17122515505693947,
          0.17063502930677038,
          0.17148141133899478
         ],
         "yaxis": "y3"
        },
        {
         "marker": {
          "color": [
           0,
           1,
           2,
           3,
           4,
           5,
           6,
           7,
           8,
           9,
           10,
           11,
           12,
           13,
           14,
           15,
           16,
           17,
           18,
           19,
           20,
           21,
           22,
           23,
           24,
           25,
           26,
           27,
           28,
           29,
           30,
           31,
           32,
           33,
           34,
           35,
           36,
           37,
           38,
           39,
           40,
           41,
           42,
           43,
           44,
           45,
           46,
           47,
           48,
           49,
           50,
           51,
           52,
           53,
           54,
           55,
           56,
           57,
           58,
           59,
           60,
           61,
           62,
           63,
           64,
           65,
           66,
           67,
           68,
           69,
           70,
           71,
           72,
           73,
           74,
           75,
           76,
           77,
           78,
           79,
           80,
           81,
           82,
           83,
           84,
           85,
           86,
           87,
           88,
           89,
           90,
           91,
           92,
           93,
           94,
           95,
           96,
           97,
           98,
           99,
           100,
           101,
           102,
           103,
           104,
           105,
           106,
           107,
           108,
           109,
           110,
           111,
           112,
           113,
           114,
           115,
           116,
           117,
           118,
           119,
           120,
           121,
           122,
           123,
           124,
           125,
           126,
           127,
           128,
           129,
           130,
           131,
           132,
           133,
           134,
           135,
           136,
           137,
           138,
           139,
           140,
           141,
           142,
           143,
           144,
           145,
           146,
           147,
           148,
           149
          ],
          "colorbar": {
           "title": {
            "text": "Trial"
           },
           "x": 1,
           "xpad": 40
          },
          "colorscale": [
           [
            0,
            "rgb(247,251,255)"
           ],
           [
            0.125,
            "rgb(222,235,247)"
           ],
           [
            0.25,
            "rgb(198,219,239)"
           ],
           [
            0.375,
            "rgb(158,202,225)"
           ],
           [
            0.5,
            "rgb(107,174,214)"
           ],
           [
            0.625,
            "rgb(66,146,198)"
           ],
           [
            0.75,
            "rgb(33,113,181)"
           ],
           [
            0.875,
            "rgb(8,81,156)"
           ],
           [
            1,
            "rgb(8,48,107)"
           ]
          ],
          "line": {
           "color": "Grey",
           "width": 0.5
          },
          "showscale": false
         },
         "mode": "markers",
         "name": "Feasible Trial",
         "showlegend": false,
         "type": "scatter",
         "x": [
          null,
          null,
          null,
          "maxabs",
          null,
          "standard",
          "minmax",
          "maxabs",
          "minmax",
          "robust",
          "minmax",
          "minmax",
          "minmax",
          "minmax",
          "minmax",
          "minmax",
          "minmax",
          "minmax",
          null,
          "standard",
          null,
          null,
          null,
          null,
          null,
          "maxabs",
          "robust",
          null,
          "robust",
          null,
          "standard",
          null,
          "minmax",
          "minmax",
          "minmax",
          "robust",
          "standard",
          "minmax",
          "minmax",
          null,
          null,
          "minmax",
          "robust",
          "minmax",
          "standard",
          "maxabs",
          "robust",
          "standard",
          null,
          "standard",
          "minmax",
          "minmax",
          null,
          "minmax",
          "maxabs",
          null,
          null,
          "minmax",
          "minmax",
          "minmax",
          "standard",
          "minmax",
          "minmax",
          null,
          "standard",
          "robust",
          "robust",
          "maxabs",
          "minmax",
          "minmax",
          "standard",
          "minmax",
          null,
          "minmax",
          "minmax",
          null,
          null,
          "minmax",
          "minmax",
          "robust",
          "maxabs",
          "minmax",
          null,
          "minmax",
          "minmax",
          "minmax",
          "maxabs",
          "robust",
          "minmax",
          "maxabs",
          "robust",
          "minmax",
          "minmax",
          null,
          null,
          "minmax",
          "minmax",
          "minmax",
          "robust",
          "robust",
          "standard",
          "standard",
          "standard",
          "minmax",
          "standard",
          "standard",
          "minmax",
          "maxabs",
          "maxabs",
          "minmax",
          "minmax",
          "maxabs",
          null,
          "minmax",
          "standard",
          "standard",
          "minmax",
          "minmax",
          "minmax",
          "minmax",
          "minmax",
          null,
          "standard",
          null,
          "robust",
          "maxabs",
          "minmax",
          "minmax",
          "minmax",
          "minmax",
          "minmax",
          null,
          "maxabs",
          "minmax",
          "minmax",
          "minmax",
          "minmax",
          "minmax",
          "minmax",
          "minmax",
          "standard",
          "minmax",
          "minmax",
          "minmax",
          "minmax",
          "robust",
          null,
          "robust",
          "minmax",
          "minmax"
         ],
         "xaxis": "x4",
         "y": [
          0.17074813686866802,
          0.17090043803856325,
          0.17155806344955274,
          0.17127297651233828,
          0.17186624640732465,
          0.17096445610622066,
          0.1707290853190409,
          0.17152460302330608,
          0.17142909246912236,
          0.17079535074777374,
          0.17083957947431425,
          0.17062334715281377,
          0.17150766708419446,
          0.17064301344387206,
          0.17063558174883928,
          0.17062468950820942,
          0.17103711429030347,
          0.17069565877424717,
          0.17047930629861402,
          0.17879198784021114,
          0.17057318847356034,
          0.17050679151563367,
          0.1707437392043175,
          0.17634003319035144,
          0.1709572464488998,
          0.17243610299060622,
          0.17087496618012873,
          0.17154231107186418,
          0.1741629899981338,
          0.17106680899651394,
          0.1707088044839079,
          0.1804082306807222,
          0.17060641854682887,
          0.17047199957999185,
          0.17637861355992107,
          0.17110685127012043,
          0.17075267076563516,
          0.17146256329061452,
          0.17075678665439104,
          0.17079986834811395,
          0.17079188958037173,
          0.17063963458015502,
          0.1708033790363846,
          0.17062016819565828,
          0.17753886907526506,
          0.17085329240138974,
          0.17106859256379278,
          0.1716836804563355,
          0.17089527257321296,
          0.17115254017803833,
          0.17060253792383542,
          0.1706602693717597,
          0.1707606993120258,
          0.1706215622139301,
          0.17083011247592833,
          0.17111023345723364,
          0.17071566731491192,
          0.1714987441498344,
          0.17050055770975545,
          0.1704672381827229,
          0.17147259208277302,
          0.1707592452689522,
          0.1704099519756974,
          0.1719779846865551,
          0.1718838646354942,
          0.1777570520446169,
          0.17165165367689733,
          0.1707346996062411,
          0.18051153349754162,
          0.17048829873605156,
          0.17097466063225536,
          0.170751626350964,
          0.1706589311970149,
          0.1713907802644928,
          0.17180371086159435,
          0.1707248528055322,
          0.17162147784066886,
          0.17380243880010582,
          0.17074578688408298,
          0.17176177610490032,
          0.1715778797816163,
          0.17057901873155143,
          0.17069150402540764,
          0.17053259276383215,
          0.17082390026948413,
          0.1706972947296857,
          0.17098245872010398,
          0.1710632918478958,
          0.18049716584039066,
          0.17067701906701097,
          0.17108219287599682,
          0.17060678498447307,
          0.17059757557036964,
          0.17764776757852518,
          0.1759946518760045,
          0.17047980667300788,
          0.17074244979929917,
          0.17059589787949975,
          0.1708938360789059,
          0.17330371842948714,
          0.1708763813573182,
          0.1705043223446407,
          0.17080954510703128,
          0.17053740714103682,
          0.17070294746869494,
          0.17230791683681365,
          0.17085421068063367,
          0.17184542249018317,
          0.1723669878750674,
          0.17437254736978464,
          0.17090518479312633,
          0.17061880924998432,
          0.17072086177030474,
          0.17082021333122288,
          0.1708359432976961,
          0.17152271246854736,
          0.17043081951376607,
          0.17064042403466792,
          0.17058551109774778,
          0.18045342237208128,
          0.17063956122697035,
          0.170673319369295,
          0.17074625376206298,
          0.17642466745845137,
          0.17075532929437034,
          0.17080585770465365,
          0.1715425992258201,
          0.1707213755993629,
          0.1704976831646322,
          0.17041057958978814,
          0.17152114639833568,
          0.17099885288421754,
          0.18045275519482262,
          0.170469679571962,
          0.17498864776524803,
          0.17058617075246815,
          0.1707350874691486,
          0.17039856088432723,
          0.1776194946723512,
          0.17059613436691334,
          0.17066051153071382,
          0.17067196979240462,
          0.18050056192578515,
          0.1706509691756181,
          0.17059606774983918,
          0.17060891483893864,
          0.17065216684860213,
          0.17122515505693947,
          0.17063502930677038,
          0.17148141133899478
         ],
         "yaxis": "y4"
        }
       ],
       "layout": {
        "template": {
         "data": {
          "bar": [
           {
            "error_x": {
             "color": "#2a3f5f"
            },
            "error_y": {
             "color": "#2a3f5f"
            },
            "marker": {
             "line": {
              "color": "#E5ECF6",
              "width": 0.5
             },
             "pattern": {
              "fillmode": "overlay",
              "size": 10,
              "solidity": 0.2
             }
            },
            "type": "bar"
           }
          ],
          "barpolar": [
           {
            "marker": {
             "line": {
              "color": "#E5ECF6",
              "width": 0.5
             },
             "pattern": {
              "fillmode": "overlay",
              "size": 10,
              "solidity": 0.2
             }
            },
            "type": "barpolar"
           }
          ],
          "carpet": [
           {
            "aaxis": {
             "endlinecolor": "#2a3f5f",
             "gridcolor": "white",
             "linecolor": "white",
             "minorgridcolor": "white",
             "startlinecolor": "#2a3f5f"
            },
            "baxis": {
             "endlinecolor": "#2a3f5f",
             "gridcolor": "white",
             "linecolor": "white",
             "minorgridcolor": "white",
             "startlinecolor": "#2a3f5f"
            },
            "type": "carpet"
           }
          ],
          "choropleth": [
           {
            "colorbar": {
             "outlinewidth": 0,
             "ticks": ""
            },
            "type": "choropleth"
           }
          ],
          "contour": [
           {
            "colorbar": {
             "outlinewidth": 0,
             "ticks": ""
            },
            "colorscale": [
             [
              0,
              "#0d0887"
             ],
             [
              0.1111111111111111,
              "#46039f"
             ],
             [
              0.2222222222222222,
              "#7201a8"
             ],
             [
              0.3333333333333333,
              "#9c179e"
             ],
             [
              0.4444444444444444,
              "#bd3786"
             ],
             [
              0.5555555555555556,
              "#d8576b"
             ],
             [
              0.6666666666666666,
              "#ed7953"
             ],
             [
              0.7777777777777778,
              "#fb9f3a"
             ],
             [
              0.8888888888888888,
              "#fdca26"
             ],
             [
              1,
              "#f0f921"
             ]
            ],
            "type": "contour"
           }
          ],
          "contourcarpet": [
           {
            "colorbar": {
             "outlinewidth": 0,
             "ticks": ""
            },
            "type": "contourcarpet"
           }
          ],
          "heatmap": [
           {
            "colorbar": {
             "outlinewidth": 0,
             "ticks": ""
            },
            "colorscale": [
             [
              0,
              "#0d0887"
             ],
             [
              0.1111111111111111,
              "#46039f"
             ],
             [
              0.2222222222222222,
              "#7201a8"
             ],
             [
              0.3333333333333333,
              "#9c179e"
             ],
             [
              0.4444444444444444,
              "#bd3786"
             ],
             [
              0.5555555555555556,
              "#d8576b"
             ],
             [
              0.6666666666666666,
              "#ed7953"
             ],
             [
              0.7777777777777778,
              "#fb9f3a"
             ],
             [
              0.8888888888888888,
              "#fdca26"
             ],
             [
              1,
              "#f0f921"
             ]
            ],
            "type": "heatmap"
           }
          ],
          "heatmapgl": [
           {
            "colorbar": {
             "outlinewidth": 0,
             "ticks": ""
            },
            "colorscale": [
             [
              0,
              "#0d0887"
             ],
             [
              0.1111111111111111,
              "#46039f"
             ],
             [
              0.2222222222222222,
              "#7201a8"
             ],
             [
              0.3333333333333333,
              "#9c179e"
             ],
             [
              0.4444444444444444,
              "#bd3786"
             ],
             [
              0.5555555555555556,
              "#d8576b"
             ],
             [
              0.6666666666666666,
              "#ed7953"
             ],
             [
              0.7777777777777778,
              "#fb9f3a"
             ],
             [
              0.8888888888888888,
              "#fdca26"
             ],
             [
              1,
              "#f0f921"
             ]
            ],
            "type": "heatmapgl"
           }
          ],
          "histogram": [
           {
            "marker": {
             "pattern": {
              "fillmode": "overlay",
              "size": 10,
              "solidity": 0.2
             }
            },
            "type": "histogram"
           }
          ],
          "histogram2d": [
           {
            "colorbar": {
             "outlinewidth": 0,
             "ticks": ""
            },
            "colorscale": [
             [
              0,
              "#0d0887"
             ],
             [
              0.1111111111111111,
              "#46039f"
             ],
             [
              0.2222222222222222,
              "#7201a8"
             ],
             [
              0.3333333333333333,
              "#9c179e"
             ],
             [
              0.4444444444444444,
              "#bd3786"
             ],
             [
              0.5555555555555556,
              "#d8576b"
             ],
             [
              0.6666666666666666,
              "#ed7953"
             ],
             [
              0.7777777777777778,
              "#fb9f3a"
             ],
             [
              0.8888888888888888,
              "#fdca26"
             ],
             [
              1,
              "#f0f921"
             ]
            ],
            "type": "histogram2d"
           }
          ],
          "histogram2dcontour": [
           {
            "colorbar": {
             "outlinewidth": 0,
             "ticks": ""
            },
            "colorscale": [
             [
              0,
              "#0d0887"
             ],
             [
              0.1111111111111111,
              "#46039f"
             ],
             [
              0.2222222222222222,
              "#7201a8"
             ],
             [
              0.3333333333333333,
              "#9c179e"
             ],
             [
              0.4444444444444444,
              "#bd3786"
             ],
             [
              0.5555555555555556,
              "#d8576b"
             ],
             [
              0.6666666666666666,
              "#ed7953"
             ],
             [
              0.7777777777777778,
              "#fb9f3a"
             ],
             [
              0.8888888888888888,
              "#fdca26"
             ],
             [
              1,
              "#f0f921"
             ]
            ],
            "type": "histogram2dcontour"
           }
          ],
          "mesh3d": [
           {
            "colorbar": {
             "outlinewidth": 0,
             "ticks": ""
            },
            "type": "mesh3d"
           }
          ],
          "parcoords": [
           {
            "line": {
             "colorbar": {
              "outlinewidth": 0,
              "ticks": ""
             }
            },
            "type": "parcoords"
           }
          ],
          "pie": [
           {
            "automargin": true,
            "type": "pie"
           }
          ],
          "scatter": [
           {
            "fillpattern": {
             "fillmode": "overlay",
             "size": 10,
             "solidity": 0.2
            },
            "type": "scatter"
           }
          ],
          "scatter3d": [
           {
            "line": {
             "colorbar": {
              "outlinewidth": 0,
              "ticks": ""
             }
            },
            "marker": {
             "colorbar": {
              "outlinewidth": 0,
              "ticks": ""
             }
            },
            "type": "scatter3d"
           }
          ],
          "scattercarpet": [
           {
            "marker": {
             "colorbar": {
              "outlinewidth": 0,
              "ticks": ""
             }
            },
            "type": "scattercarpet"
           }
          ],
          "scattergeo": [
           {
            "marker": {
             "colorbar": {
              "outlinewidth": 0,
              "ticks": ""
             }
            },
            "type": "scattergeo"
           }
          ],
          "scattergl": [
           {
            "marker": {
             "colorbar": {
              "outlinewidth": 0,
              "ticks": ""
             }
            },
            "type": "scattergl"
           }
          ],
          "scattermapbox": [
           {
            "marker": {
             "colorbar": {
              "outlinewidth": 0,
              "ticks": ""
             }
            },
            "type": "scattermapbox"
           }
          ],
          "scatterpolar": [
           {
            "marker": {
             "colorbar": {
              "outlinewidth": 0,
              "ticks": ""
             }
            },
            "type": "scatterpolar"
           }
          ],
          "scatterpolargl": [
           {
            "marker": {
             "colorbar": {
              "outlinewidth": 0,
              "ticks": ""
             }
            },
            "type": "scatterpolargl"
           }
          ],
          "scatterternary": [
           {
            "marker": {
             "colorbar": {
              "outlinewidth": 0,
              "ticks": ""
             }
            },
            "type": "scatterternary"
           }
          ],
          "surface": [
           {
            "colorbar": {
             "outlinewidth": 0,
             "ticks": ""
            },
            "colorscale": [
             [
              0,
              "#0d0887"
             ],
             [
              0.1111111111111111,
              "#46039f"
             ],
             [
              0.2222222222222222,
              "#7201a8"
             ],
             [
              0.3333333333333333,
              "#9c179e"
             ],
             [
              0.4444444444444444,
              "#bd3786"
             ],
             [
              0.5555555555555556,
              "#d8576b"
             ],
             [
              0.6666666666666666,
              "#ed7953"
             ],
             [
              0.7777777777777778,
              "#fb9f3a"
             ],
             [
              0.8888888888888888,
              "#fdca26"
             ],
             [
              1,
              "#f0f921"
             ]
            ],
            "type": "surface"
           }
          ],
          "table": [
           {
            "cells": {
             "fill": {
              "color": "#EBF0F8"
             },
             "line": {
              "color": "white"
             }
            },
            "header": {
             "fill": {
              "color": "#C8D4E3"
             },
             "line": {
              "color": "white"
             }
            },
            "type": "table"
           }
          ]
         },
         "layout": {
          "annotationdefaults": {
           "arrowcolor": "#2a3f5f",
           "arrowhead": 0,
           "arrowwidth": 1
          },
          "autotypenumbers": "strict",
          "coloraxis": {
           "colorbar": {
            "outlinewidth": 0,
            "ticks": ""
           }
          },
          "colorscale": {
           "diverging": [
            [
             0,
             "#8e0152"
            ],
            [
             0.1,
             "#c51b7d"
            ],
            [
             0.2,
             "#de77ae"
            ],
            [
             0.3,
             "#f1b6da"
            ],
            [
             0.4,
             "#fde0ef"
            ],
            [
             0.5,
             "#f7f7f7"
            ],
            [
             0.6,
             "#e6f5d0"
            ],
            [
             0.7,
             "#b8e186"
            ],
            [
             0.8,
             "#7fbc41"
            ],
            [
             0.9,
             "#4d9221"
            ],
            [
             1,
             "#276419"
            ]
           ],
           "sequential": [
            [
             0,
             "#0d0887"
            ],
            [
             0.1111111111111111,
             "#46039f"
            ],
            [
             0.2222222222222222,
             "#7201a8"
            ],
            [
             0.3333333333333333,
             "#9c179e"
            ],
            [
             0.4444444444444444,
             "#bd3786"
            ],
            [
             0.5555555555555556,
             "#d8576b"
            ],
            [
             0.6666666666666666,
             "#ed7953"
            ],
            [
             0.7777777777777778,
             "#fb9f3a"
            ],
            [
             0.8888888888888888,
             "#fdca26"
            ],
            [
             1,
             "#f0f921"
            ]
           ],
           "sequentialminus": [
            [
             0,
             "#0d0887"
            ],
            [
             0.1111111111111111,
             "#46039f"
            ],
            [
             0.2222222222222222,
             "#7201a8"
            ],
            [
             0.3333333333333333,
             "#9c179e"
            ],
            [
             0.4444444444444444,
             "#bd3786"
            ],
            [
             0.5555555555555556,
             "#d8576b"
            ],
            [
             0.6666666666666666,
             "#ed7953"
            ],
            [
             0.7777777777777778,
             "#fb9f3a"
            ],
            [
             0.8888888888888888,
             "#fdca26"
            ],
            [
             1,
             "#f0f921"
            ]
           ]
          },
          "colorway": [
           "#636efa",
           "#EF553B",
           "#00cc96",
           "#ab63fa",
           "#FFA15A",
           "#19d3f3",
           "#FF6692",
           "#B6E880",
           "#FF97FF",
           "#FECB52"
          ],
          "font": {
           "color": "#2a3f5f"
          },
          "geo": {
           "bgcolor": "white",
           "lakecolor": "white",
           "landcolor": "#E5ECF6",
           "showlakes": true,
           "showland": true,
           "subunitcolor": "white"
          },
          "hoverlabel": {
           "align": "left"
          },
          "hovermode": "closest",
          "mapbox": {
           "style": "light"
          },
          "paper_bgcolor": "white",
          "plot_bgcolor": "#E5ECF6",
          "polar": {
           "angularaxis": {
            "gridcolor": "white",
            "linecolor": "white",
            "ticks": ""
           },
           "bgcolor": "#E5ECF6",
           "radialaxis": {
            "gridcolor": "white",
            "linecolor": "white",
            "ticks": ""
           }
          },
          "scene": {
           "xaxis": {
            "backgroundcolor": "#E5ECF6",
            "gridcolor": "white",
            "gridwidth": 2,
            "linecolor": "white",
            "showbackground": true,
            "ticks": "",
            "zerolinecolor": "white"
           },
           "yaxis": {
            "backgroundcolor": "#E5ECF6",
            "gridcolor": "white",
            "gridwidth": 2,
            "linecolor": "white",
            "showbackground": true,
            "ticks": "",
            "zerolinecolor": "white"
           },
           "zaxis": {
            "backgroundcolor": "#E5ECF6",
            "gridcolor": "white",
            "gridwidth": 2,
            "linecolor": "white",
            "showbackground": true,
            "ticks": "",
            "zerolinecolor": "white"
           }
          },
          "shapedefaults": {
           "line": {
            "color": "#2a3f5f"
           }
          },
          "ternary": {
           "aaxis": {
            "gridcolor": "white",
            "linecolor": "white",
            "ticks": ""
           },
           "baxis": {
            "gridcolor": "white",
            "linecolor": "white",
            "ticks": ""
           },
           "bgcolor": "#E5ECF6",
           "caxis": {
            "gridcolor": "white",
            "linecolor": "white",
            "ticks": ""
           }
          },
          "title": {
           "x": 0.05
          },
          "xaxis": {
           "automargin": true,
           "gridcolor": "white",
           "linecolor": "white",
           "ticks": "",
           "title": {
            "standoff": 15
           },
           "zerolinecolor": "white",
           "zerolinewidth": 2
          },
          "yaxis": {
           "automargin": true,
           "gridcolor": "white",
           "linecolor": "white",
           "ticks": "",
           "title": {
            "standoff": 15
           },
           "zerolinecolor": "white",
           "zerolinewidth": 2
          }
         }
        },
        "title": {
         "text": "Slice Plot"
        },
        "width": 1200,
        "xaxis": {
         "anchor": "y",
         "domain": [
          0,
          0.2125
         ],
         "title": {
          "text": "max_depth"
         }
        },
        "xaxis2": {
         "anchor": "y2",
         "categoryarray": [
          "sqrt",
          "log2",
          null
         ],
         "categoryorder": "array",
         "domain": [
          0.2625,
          0.475
         ],
         "title": {
          "text": "max_features"
         },
         "type": "category"
        },
        "xaxis3": {
         "anchor": "y3",
         "domain": [
          0.525,
          0.7375
         ],
         "title": {
          "text": "n_estimators"
         }
        },
        "xaxis4": {
         "anchor": "y4",
         "categoryarray": [
          "minmax",
          "standard",
          "robust",
          "maxabs",
          null
         ],
         "categoryorder": "array",
         "domain": [
          0.7875,
          1
         ],
         "title": {
          "text": "scalers"
         },
         "type": "category"
        },
        "yaxis": {
         "anchor": "x",
         "domain": [
          0,
          1
         ],
         "title": {
          "text": "Objective Value"
         }
        },
        "yaxis2": {
         "anchor": "x2",
         "domain": [
          0,
          1
         ],
         "matches": "y",
         "showticklabels": false
        },
        "yaxis3": {
         "anchor": "x3",
         "domain": [
          0,
          1
         ],
         "matches": "y",
         "showticklabels": false
        },
        "yaxis4": {
         "anchor": "x4",
         "domain": [
          0,
          1
         ],
         "matches": "y",
         "showticklabels": false
        }
       }
      }
     },
     "metadata": {},
     "output_type": "display_data"
    }
   ],
   "source": [
    "# Hyperparameters to score dependency\n",
    "\n",
    "optuna.visualization.plot_slice(study_br)"
   ]
  },
  {
   "cell_type": "code",
   "execution_count": null,
   "metadata": {},
   "outputs": [
    {
     "data": {
      "application/vnd.plotly.v1+json": {
       "config": {
        "plotlyServerURL": "https://plot.ly"
       },
       "data": [
        {
         "cliponaxis": false,
         "hovertemplate": [
          "scalers (CategoricalDistribution): 0.0017546248649980745<extra></extra>",
          "n_estimators (IntDistribution): 0.014372829174480801<extra></extra>",
          "max_features (CategoricalDistribution): 0.08790651525788197<extra></extra>",
          "max_depth (IntDistribution): 0.8959660307026391<extra></extra>"
         ],
         "name": "Objective Value",
         "orientation": "h",
         "text": [
          "<0.01",
          "0.01",
          "0.09",
          "0.90"
         ],
         "textposition": "outside",
         "type": "bar",
         "x": [
          0.0017546248649980745,
          0.014372829174480801,
          0.08790651525788197,
          0.8959660307026391
         ],
         "y": [
          "scalers",
          "n_estimators",
          "max_features",
          "max_depth"
         ]
        }
       ],
       "layout": {
        "template": {
         "data": {
          "bar": [
           {
            "error_x": {
             "color": "#2a3f5f"
            },
            "error_y": {
             "color": "#2a3f5f"
            },
            "marker": {
             "line": {
              "color": "#E5ECF6",
              "width": 0.5
             },
             "pattern": {
              "fillmode": "overlay",
              "size": 10,
              "solidity": 0.2
             }
            },
            "type": "bar"
           }
          ],
          "barpolar": [
           {
            "marker": {
             "line": {
              "color": "#E5ECF6",
              "width": 0.5
             },
             "pattern": {
              "fillmode": "overlay",
              "size": 10,
              "solidity": 0.2
             }
            },
            "type": "barpolar"
           }
          ],
          "carpet": [
           {
            "aaxis": {
             "endlinecolor": "#2a3f5f",
             "gridcolor": "white",
             "linecolor": "white",
             "minorgridcolor": "white",
             "startlinecolor": "#2a3f5f"
            },
            "baxis": {
             "endlinecolor": "#2a3f5f",
             "gridcolor": "white",
             "linecolor": "white",
             "minorgridcolor": "white",
             "startlinecolor": "#2a3f5f"
            },
            "type": "carpet"
           }
          ],
          "choropleth": [
           {
            "colorbar": {
             "outlinewidth": 0,
             "ticks": ""
            },
            "type": "choropleth"
           }
          ],
          "contour": [
           {
            "colorbar": {
             "outlinewidth": 0,
             "ticks": ""
            },
            "colorscale": [
             [
              0,
              "#0d0887"
             ],
             [
              0.1111111111111111,
              "#46039f"
             ],
             [
              0.2222222222222222,
              "#7201a8"
             ],
             [
              0.3333333333333333,
              "#9c179e"
             ],
             [
              0.4444444444444444,
              "#bd3786"
             ],
             [
              0.5555555555555556,
              "#d8576b"
             ],
             [
              0.6666666666666666,
              "#ed7953"
             ],
             [
              0.7777777777777778,
              "#fb9f3a"
             ],
             [
              0.8888888888888888,
              "#fdca26"
             ],
             [
              1,
              "#f0f921"
             ]
            ],
            "type": "contour"
           }
          ],
          "contourcarpet": [
           {
            "colorbar": {
             "outlinewidth": 0,
             "ticks": ""
            },
            "type": "contourcarpet"
           }
          ],
          "heatmap": [
           {
            "colorbar": {
             "outlinewidth": 0,
             "ticks": ""
            },
            "colorscale": [
             [
              0,
              "#0d0887"
             ],
             [
              0.1111111111111111,
              "#46039f"
             ],
             [
              0.2222222222222222,
              "#7201a8"
             ],
             [
              0.3333333333333333,
              "#9c179e"
             ],
             [
              0.4444444444444444,
              "#bd3786"
             ],
             [
              0.5555555555555556,
              "#d8576b"
             ],
             [
              0.6666666666666666,
              "#ed7953"
             ],
             [
              0.7777777777777778,
              "#fb9f3a"
             ],
             [
              0.8888888888888888,
              "#fdca26"
             ],
             [
              1,
              "#f0f921"
             ]
            ],
            "type": "heatmap"
           }
          ],
          "heatmapgl": [
           {
            "colorbar": {
             "outlinewidth": 0,
             "ticks": ""
            },
            "colorscale": [
             [
              0,
              "#0d0887"
             ],
             [
              0.1111111111111111,
              "#46039f"
             ],
             [
              0.2222222222222222,
              "#7201a8"
             ],
             [
              0.3333333333333333,
              "#9c179e"
             ],
             [
              0.4444444444444444,
              "#bd3786"
             ],
             [
              0.5555555555555556,
              "#d8576b"
             ],
             [
              0.6666666666666666,
              "#ed7953"
             ],
             [
              0.7777777777777778,
              "#fb9f3a"
             ],
             [
              0.8888888888888888,
              "#fdca26"
             ],
             [
              1,
              "#f0f921"
             ]
            ],
            "type": "heatmapgl"
           }
          ],
          "histogram": [
           {
            "marker": {
             "pattern": {
              "fillmode": "overlay",
              "size": 10,
              "solidity": 0.2
             }
            },
            "type": "histogram"
           }
          ],
          "histogram2d": [
           {
            "colorbar": {
             "outlinewidth": 0,
             "ticks": ""
            },
            "colorscale": [
             [
              0,
              "#0d0887"
             ],
             [
              0.1111111111111111,
              "#46039f"
             ],
             [
              0.2222222222222222,
              "#7201a8"
             ],
             [
              0.3333333333333333,
              "#9c179e"
             ],
             [
              0.4444444444444444,
              "#bd3786"
             ],
             [
              0.5555555555555556,
              "#d8576b"
             ],
             [
              0.6666666666666666,
              "#ed7953"
             ],
             [
              0.7777777777777778,
              "#fb9f3a"
             ],
             [
              0.8888888888888888,
              "#fdca26"
             ],
             [
              1,
              "#f0f921"
             ]
            ],
            "type": "histogram2d"
           }
          ],
          "histogram2dcontour": [
           {
            "colorbar": {
             "outlinewidth": 0,
             "ticks": ""
            },
            "colorscale": [
             [
              0,
              "#0d0887"
             ],
             [
              0.1111111111111111,
              "#46039f"
             ],
             [
              0.2222222222222222,
              "#7201a8"
             ],
             [
              0.3333333333333333,
              "#9c179e"
             ],
             [
              0.4444444444444444,
              "#bd3786"
             ],
             [
              0.5555555555555556,
              "#d8576b"
             ],
             [
              0.6666666666666666,
              "#ed7953"
             ],
             [
              0.7777777777777778,
              "#fb9f3a"
             ],
             [
              0.8888888888888888,
              "#fdca26"
             ],
             [
              1,
              "#f0f921"
             ]
            ],
            "type": "histogram2dcontour"
           }
          ],
          "mesh3d": [
           {
            "colorbar": {
             "outlinewidth": 0,
             "ticks": ""
            },
            "type": "mesh3d"
           }
          ],
          "parcoords": [
           {
            "line": {
             "colorbar": {
              "outlinewidth": 0,
              "ticks": ""
             }
            },
            "type": "parcoords"
           }
          ],
          "pie": [
           {
            "automargin": true,
            "type": "pie"
           }
          ],
          "scatter": [
           {
            "fillpattern": {
             "fillmode": "overlay",
             "size": 10,
             "solidity": 0.2
            },
            "type": "scatter"
           }
          ],
          "scatter3d": [
           {
            "line": {
             "colorbar": {
              "outlinewidth": 0,
              "ticks": ""
             }
            },
            "marker": {
             "colorbar": {
              "outlinewidth": 0,
              "ticks": ""
             }
            },
            "type": "scatter3d"
           }
          ],
          "scattercarpet": [
           {
            "marker": {
             "colorbar": {
              "outlinewidth": 0,
              "ticks": ""
             }
            },
            "type": "scattercarpet"
           }
          ],
          "scattergeo": [
           {
            "marker": {
             "colorbar": {
              "outlinewidth": 0,
              "ticks": ""
             }
            },
            "type": "scattergeo"
           }
          ],
          "scattergl": [
           {
            "marker": {
             "colorbar": {
              "outlinewidth": 0,
              "ticks": ""
             }
            },
            "type": "scattergl"
           }
          ],
          "scattermapbox": [
           {
            "marker": {
             "colorbar": {
              "outlinewidth": 0,
              "ticks": ""
             }
            },
            "type": "scattermapbox"
           }
          ],
          "scatterpolar": [
           {
            "marker": {
             "colorbar": {
              "outlinewidth": 0,
              "ticks": ""
             }
            },
            "type": "scatterpolar"
           }
          ],
          "scatterpolargl": [
           {
            "marker": {
             "colorbar": {
              "outlinewidth": 0,
              "ticks": ""
             }
            },
            "type": "scatterpolargl"
           }
          ],
          "scatterternary": [
           {
            "marker": {
             "colorbar": {
              "outlinewidth": 0,
              "ticks": ""
             }
            },
            "type": "scatterternary"
           }
          ],
          "surface": [
           {
            "colorbar": {
             "outlinewidth": 0,
             "ticks": ""
            },
            "colorscale": [
             [
              0,
              "#0d0887"
             ],
             [
              0.1111111111111111,
              "#46039f"
             ],
             [
              0.2222222222222222,
              "#7201a8"
             ],
             [
              0.3333333333333333,
              "#9c179e"
             ],
             [
              0.4444444444444444,
              "#bd3786"
             ],
             [
              0.5555555555555556,
              "#d8576b"
             ],
             [
              0.6666666666666666,
              "#ed7953"
             ],
             [
              0.7777777777777778,
              "#fb9f3a"
             ],
             [
              0.8888888888888888,
              "#fdca26"
             ],
             [
              1,
              "#f0f921"
             ]
            ],
            "type": "surface"
           }
          ],
          "table": [
           {
            "cells": {
             "fill": {
              "color": "#EBF0F8"
             },
             "line": {
              "color": "white"
             }
            },
            "header": {
             "fill": {
              "color": "#C8D4E3"
             },
             "line": {
              "color": "white"
             }
            },
            "type": "table"
           }
          ]
         },
         "layout": {
          "annotationdefaults": {
           "arrowcolor": "#2a3f5f",
           "arrowhead": 0,
           "arrowwidth": 1
          },
          "autotypenumbers": "strict",
          "coloraxis": {
           "colorbar": {
            "outlinewidth": 0,
            "ticks": ""
           }
          },
          "colorscale": {
           "diverging": [
            [
             0,
             "#8e0152"
            ],
            [
             0.1,
             "#c51b7d"
            ],
            [
             0.2,
             "#de77ae"
            ],
            [
             0.3,
             "#f1b6da"
            ],
            [
             0.4,
             "#fde0ef"
            ],
            [
             0.5,
             "#f7f7f7"
            ],
            [
             0.6,
             "#e6f5d0"
            ],
            [
             0.7,
             "#b8e186"
            ],
            [
             0.8,
             "#7fbc41"
            ],
            [
             0.9,
             "#4d9221"
            ],
            [
             1,
             "#276419"
            ]
           ],
           "sequential": [
            [
             0,
             "#0d0887"
            ],
            [
             0.1111111111111111,
             "#46039f"
            ],
            [
             0.2222222222222222,
             "#7201a8"
            ],
            [
             0.3333333333333333,
             "#9c179e"
            ],
            [
             0.4444444444444444,
             "#bd3786"
            ],
            [
             0.5555555555555556,
             "#d8576b"
            ],
            [
             0.6666666666666666,
             "#ed7953"
            ],
            [
             0.7777777777777778,
             "#fb9f3a"
            ],
            [
             0.8888888888888888,
             "#fdca26"
            ],
            [
             1,
             "#f0f921"
            ]
           ],
           "sequentialminus": [
            [
             0,
             "#0d0887"
            ],
            [
             0.1111111111111111,
             "#46039f"
            ],
            [
             0.2222222222222222,
             "#7201a8"
            ],
            [
             0.3333333333333333,
             "#9c179e"
            ],
            [
             0.4444444444444444,
             "#bd3786"
            ],
            [
             0.5555555555555556,
             "#d8576b"
            ],
            [
             0.6666666666666666,
             "#ed7953"
            ],
            [
             0.7777777777777778,
             "#fb9f3a"
            ],
            [
             0.8888888888888888,
             "#fdca26"
            ],
            [
             1,
             "#f0f921"
            ]
           ]
          },
          "colorway": [
           "#636efa",
           "#EF553B",
           "#00cc96",
           "#ab63fa",
           "#FFA15A",
           "#19d3f3",
           "#FF6692",
           "#B6E880",
           "#FF97FF",
           "#FECB52"
          ],
          "font": {
           "color": "#2a3f5f"
          },
          "geo": {
           "bgcolor": "white",
           "lakecolor": "white",
           "landcolor": "#E5ECF6",
           "showlakes": true,
           "showland": true,
           "subunitcolor": "white"
          },
          "hoverlabel": {
           "align": "left"
          },
          "hovermode": "closest",
          "mapbox": {
           "style": "light"
          },
          "paper_bgcolor": "white",
          "plot_bgcolor": "#E5ECF6",
          "polar": {
           "angularaxis": {
            "gridcolor": "white",
            "linecolor": "white",
            "ticks": ""
           },
           "bgcolor": "#E5ECF6",
           "radialaxis": {
            "gridcolor": "white",
            "linecolor": "white",
            "ticks": ""
           }
          },
          "scene": {
           "xaxis": {
            "backgroundcolor": "#E5ECF6",
            "gridcolor": "white",
            "gridwidth": 2,
            "linecolor": "white",
            "showbackground": true,
            "ticks": "",
            "zerolinecolor": "white"
           },
           "yaxis": {
            "backgroundcolor": "#E5ECF6",
            "gridcolor": "white",
            "gridwidth": 2,
            "linecolor": "white",
            "showbackground": true,
            "ticks": "",
            "zerolinecolor": "white"
           },
           "zaxis": {
            "backgroundcolor": "#E5ECF6",
            "gridcolor": "white",
            "gridwidth": 2,
            "linecolor": "white",
            "showbackground": true,
            "ticks": "",
            "zerolinecolor": "white"
           }
          },
          "shapedefaults": {
           "line": {
            "color": "#2a3f5f"
           }
          },
          "ternary": {
           "aaxis": {
            "gridcolor": "white",
            "linecolor": "white",
            "ticks": ""
           },
           "baxis": {
            "gridcolor": "white",
            "linecolor": "white",
            "ticks": ""
           },
           "bgcolor": "#E5ECF6",
           "caxis": {
            "gridcolor": "white",
            "linecolor": "white",
            "ticks": ""
           }
          },
          "title": {
           "x": 0.05
          },
          "xaxis": {
           "automargin": true,
           "gridcolor": "white",
           "linecolor": "white",
           "ticks": "",
           "title": {
            "standoff": 15
           },
           "zerolinecolor": "white",
           "zerolinewidth": 2
          },
          "yaxis": {
           "automargin": true,
           "gridcolor": "white",
           "linecolor": "white",
           "ticks": "",
           "title": {
            "standoff": 15
           },
           "zerolinecolor": "white",
           "zerolinewidth": 2
          }
         }
        },
        "title": {
         "text": "Hyperparameter Importances"
        },
        "xaxis": {
         "title": {
          "text": "Hyperparameter Importance"
         }
        },
        "yaxis": {
         "title": {
          "text": "Hyperparameter"
         }
        }
       }
      }
     },
     "metadata": {},
     "output_type": "display_data"
    }
   ],
   "source": [
    "# Hyperparameter importances\n",
    "\n",
    "optuna.visualization.plot_param_importances(study_br)"
   ]
  },
  {
   "cell_type": "code",
   "execution_count": null,
   "metadata": {},
   "outputs": [],
   "source": [
    "# Define optimal hyperparameters\n",
    "del params_br['scalers']\n",
    "scaler_br = MinMaxScaler()\n",
    "br = BaggingRegressor(**params_br)\n",
    "\n",
    "# Create pipeline\n",
    "pipeline_br = make_pipeline(scaler_br, br)"
   ]
  },
  {
   "cell_type": "code",
   "execution_count": null,
   "metadata": {},
   "outputs": [
    {
     "name": "stdout",
     "output_type": "stream",
     "text": [
      "[0.1453414  0.20959767 0.20842707 0.16439386 0.06375362] Средняя оценка: 0.15830272347743563\n"
     ]
    }
   ],
   "source": [
    "# Implementing cross validation\n",
    "\n",
    "scores_br = cross_val_score(pipeline_br, df_encoded[df_encoded_features], df_encoded[target],  scoring = 'neg_root_mean_squared_error') * (-1)\n",
    "score_mean_br = scores_br.mean()\n",
    "print(scores_br, \"Средняя оценка:\", score_mean_br)"
   ]
  }
 ],
 "metadata": {
  "colab": {
   "provenance": []
  },
  "kernelspec": {
   "display_name": "Python 3 (ipykernel)",
   "language": "python",
   "name": "python3"
  },
  "language_info": {
   "codemirror_mode": {
    "name": "ipython",
    "version": 3
   },
   "file_extension": ".py",
   "mimetype": "text/x-python",
   "name": "python",
   "nbconvert_exporter": "python",
   "pygments_lexer": "ipython3",
   "version": "3.12.0"
  }
 },
 "nbformat": 4,
 "nbformat_minor": 4
}
